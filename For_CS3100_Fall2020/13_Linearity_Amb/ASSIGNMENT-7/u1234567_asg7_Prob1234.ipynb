{
 "cells": [
  {
   "cell_type": "markdown",
   "metadata": {},
   "source": [
    "# Asg-7 focuses on questions graded by the mentioned TAs\n",
    "\n",
    "# Full details are in the PDF file of Asg-7\n",
    "\n",
    "# This notebook only has space for your answers\n",
    "\n",
    " "
   ]
  },
  {
   "cell_type": "markdown",
   "metadata": {},
   "source": [
    "# ============="
   ]
  },
  {
   "cell_type": "markdown",
   "metadata": {},
   "source": [
    "# AR (\"a few sentences\" typically is 2-3)\n",
    "\n",
    "# 1a: \n",
    "\n",
    "## (answer in a few sentences)\n",
    "\n",
    "# 1b:\n",
    "\n",
    "## (answer in a few sentences)\n",
    "\n",
    "# 1c:\n",
    "\n",
    "## (answer in a few sentences)\n",
    "\n",
    "# 1d:\n",
    "\n",
    "## (answer in a few sentences)"
   ]
  },
  {
   "cell_type": "markdown",
   "metadata": {},
   "source": [
    "# ============="
   ]
  },
  {
   "cell_type": "markdown",
   "metadata": {},
   "source": [
    "# SV\n",
    "\n",
    "# 2a: \n",
    "\n",
    "## (answer in a few sentences)\n",
    "\n",
    "# 2b:\n",
    "\n",
    "## (17 rules listed below)\n",
    "\n",
    "\n",
    "### R1\n",
    "\n",
    "### R2\n",
    "\n",
    "### ...\n",
    "\n",
    "### R17"
   ]
  },
  {
   "cell_type": "markdown",
   "metadata": {},
   "source": [
    "# ============="
   ]
  },
  {
   "cell_type": "markdown",
   "metadata": {},
   "source": [
    "# LT\n",
    "\n",
    "## The first expression evaluation's result\n",
    "\n",
    "## The test_strings and their results below"
   ]
  },
  {
   "cell_type": "markdown",
   "metadata": {},
   "source": [
    "# ============="
   ]
  },
  {
   "cell_type": "markdown",
   "metadata": {},
   "source": [
    "# XL\n",
    "\n",
    "## Question 4a\n",
    "\n",
    "## Question 4b\n",
    "\n",
    "## Question 4c"
   ]
  },
  {
   "cell_type": "markdown",
   "metadata": {},
   "source": [
    "# END\n"
   ]
  },
  {
   "cell_type": "code",
   "execution_count": null,
   "metadata": {},
   "outputs": [],
   "source": []
  }
 ],
 "metadata": {
  "kernelspec": {
   "display_name": "Python 3",
   "language": "python",
   "name": "python3"
  },
  "language_info": {
   "codemirror_mode": {
    "name": "ipython",
    "version": 3
   },
   "file_extension": ".py",
   "mimetype": "text/x-python",
   "name": "python",
   "nbconvert_exporter": "python",
   "pygments_lexer": "ipython3",
   "version": "3.7.3"
  },
  "toc": {
   "colors": {
    "hover_highlight": "#DAA520",
    "running_highlight": "#FF0000",
    "selected_highlight": "#FFD700"
   },
   "moveMenuLeft": true,
   "nav_menu": {
    "height": "121px",
    "width": "252px"
   },
   "navigate_menu": true,
   "number_sections": true,
   "sideBar": true,
   "threshold": 4,
   "toc_cell": false,
   "toc_section_display": "block",
   "toc_window_display": false,
   "widenNotebook": false
  },
  "widgets": {
   "state": {
    "430c92ee02b34ec1912bf03c8de1e6dc": {
     "views": [
      {
       "cell_index": 20
      }
     ]
    }
   },
   "version": "1.2.0"
  }
 },
 "nbformat": 4,
 "nbformat_minor": 2
}
