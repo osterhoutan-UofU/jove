{
 "cells": [
  {
   "cell_type": "markdown",
   "metadata": {
    "run_control": {
     "frozen": false,
     "read_only": false
    }
   },
   "source": [
    "# DFA: Basics, and Designing Them (Ch 4)"
   ]
  },
  {
   "cell_type": "code",
   "execution_count": 1,
   "metadata": {
    "run_control": {
     "frozen": false,
     "read_only": false
    }
   },
   "outputs": [
    {
     "name": "stdout",
     "output_type": "stream",
     "text": [
      "You may use any of these help commands:\n",
      "help(ResetStNum)\n",
      "help(NxtStateStr)\n",
      "\n",
      "You may use any of these help commands:\n",
      "help(md2mc)\n",
      ".. and if you want to dig more, then ..\n",
      "help(default_line_attr)\n",
      "help(length_ok_input_items)\n",
      "help(union_line_attr_list_fld)\n",
      "help(extend_rsltdict)\n",
      "help(form_delta)\n",
      "help(get_machine_components)\n",
      "\n",
      "You may use any of these help commands:\n",
      "help(mkp_dfa)\n",
      "help(mk_dfa)\n",
      "help(totalize_dfa)\n",
      "help(addtosigma_delta)\n",
      "help(step_dfa)\n",
      "help(run_dfa)\n",
      "help(accepts_dfa)\n",
      "help(comp_dfa)\n",
      "help(union_dfa)\n",
      "help(intersect_dfa)\n",
      "help(pruneUnreach)\n",
      "help(iso_dfa)\n",
      "help(langeq_dfa)\n",
      "help(same_status)\n",
      "help(h_langeq_dfa)\n",
      "help(fixptDist)\n",
      "help(min_dfa)\n",
      "help(pairFR)\n",
      "help(state_combos)\n",
      "help(sepFinNonFin)\n",
      "help(bash_eql_classes)\n",
      "help(listminus)\n",
      "help(bash_1)\n",
      "help(mk_rep_eqc)\n",
      "help(F_of)\n",
      "help(rep_of_s)\n",
      "help(q0_of)\n",
      "help(Delta_of)\n",
      "help(mk_state_eqc_name)\n",
      "\n",
      "You may use any of these help commands:\n",
      "help(lphi)\n",
      "help(lunit)\n",
      "help(lcat)\n",
      "help(lexp)\n",
      "help(lunion)\n",
      "help(lstar)\n",
      "help(srev)\n",
      "help(lrev)\n",
      "help(shomo)\n",
      "help(lhomo)\n",
      "help(powset)\n",
      "help(lint)\n",
      "help(lsymdiff)\n",
      "help(lminus)\n",
      "help(lissubset)\n",
      "help(lissuperset)\n",
      "help(lcomplem)\n",
      "help(product)\n",
      "help(nthnumeric)\n",
      "\n"
     ]
    }
   ],
   "source": [
    "#~~~~~~~~~~~~~~~~~~~~~~~~~~~~~~~~~~~~~~~~~~~~~~~~~~~~~~~\n",
    "import sys\n",
    "\n",
    "# -- Detect if in Own Install or in Colab\n",
    "try:\n",
    "    import google.colab\n",
    "    OWN_INSTALL = False\n",
    "except:\n",
    "    OWN_INSTALL = True\n",
    "    \n",
    "if OWN_INSTALL:\n",
    "    \n",
    "  #---- Leave these definitions ON if running on laptop\n",
    "  #---- Else turn OFF by putting them between ''' ... '''\n",
    "\n",
    "  sys.path[0:0] = ['../../../../..',  '../../../../../3rdparty',  \n",
    "                   '../../../..',  '../../../../3rdparty',  \n",
    "                   '../../..',     '../../../3rdparty', \n",
    "                   '../..',        '../../3rdparty',\n",
    "                   '..',           '../3rdparty' ]\n",
    "\n",
    "else: # In colab\n",
    "  ! if [ ! -d Jove ]; then git clone https://github.com/ganeshutah/Jove Jove; fi\n",
    "  sys.path.append('./Jove')\n",
    "  sys.path.append('./Jove/jove')\n",
    "\n",
    "# -- common imports --\n",
    "from jove.DotBashers import *\n",
    "from jove.Def_md2mc  import *\n",
    "from jove.Def_DFA    import *\n",
    "from jove.LangDef    import *  # for testing DFA actions\n",
    "#~~~~~~~~~~~~~~~~~~~~~~~~~~~~~~~~~~~~~~~~~~~~~~~~~~~~~~~"
   ]
  },
  {
   "cell_type": "markdown",
   "metadata": {
    "run_control": {
     "frozen": false,
     "read_only": false
    }
   },
   "source": [
    "# What are DFA?\n",
    "\n",
    "DFA are mechanisms to specify a simple yet powerful family of languages called\n",
    "Regular Languages. Below, we define Regular Languages. Then we present how DFA\n",
    "help define regular languages in two ways: One via Graphs, and the other via\n",
    "Symbol and String Transition Functions."
   ]
  },
  {
   "cell_type": "code",
   "execution_count": 2,
   "metadata": {},
   "outputs": [
    {
     "name": "stderr",
     "output_type": "stream",
     "text": [
      "Generating LALR tables\n"
     ]
    }
   ],
   "source": [
    "i_jDivisibleByThree= md2mc('''DFA\n",
    "\n",
    "IF : a -> S_ad  !! d denotes no more accepting either a or b\n",
    "IF : b -> S_db  !! no more accepting a's (0 a % 3 = 0)\n",
    "\n",
    "Sab : a -> Saab  !! Saba functionally the same as Saab, keep lexicographic order\n",
    "Sab : b -> Sabb\n",
    "\n",
    "Saab : a -> S_db  !! d denotes no more accepting a's\n",
    "Saab : b -> Saabb\n",
    "\n",
    "Sabb : a -> Saabb  !! Sabba functionally the same as Saabb\n",
    "Sabb : b -> S_ad   !! d denotes no more accepting b's\n",
    "\n",
    "S_db : a -> Sab   !! a % 3 was 0, now it is 1, along with 1 b (Sab)\n",
    "S_db : b -> S_dbb\n",
    "\n",
    "S_ad : a -> S_aad\n",
    "S_ad : b -> Sab  !! b % 3 was 0, now it is 1, along with 1 a (Sab)\n",
    "\n",
    "Saabb : a -> S_dbb  !! pattern continues\n",
    "Saabb : b -> S_aad\n",
    "\n",
    "S_aad : a -> IF\n",
    "S_aad : b -> Saab\n",
    "\n",
    "S_dbb : a -> Sabb\n",
    "S_dbb : b -> IF\n",
    "\n",
    "''')"
   ]
  },
  {
   "cell_type": "code",
   "execution_count": 3,
   "metadata": {},
   "outputs": [
    {
     "data": {
      "image/svg+xml": [
       "<?xml version=\"1.0\" encoding=\"UTF-8\" standalone=\"no\"?>\n",
       "<!DOCTYPE svg PUBLIC \"-//W3C//DTD SVG 1.1//EN\"\n",
       " \"http://www.w3.org/Graphics/SVG/1.1/DTD/svg11.dtd\">\n",
       "<!-- Generated by graphviz version 2.40.1 (20161225.0304)\n",
       " -->\n",
       "<!-- Title: %3 Pages: 1 -->\n",
       "<svg width=\"800pt\" height=\"318pt\"\n",
       " viewBox=\"0.00 0.00 800.06 318.00\" xmlns=\"http://www.w3.org/2000/svg\" xmlns:xlink=\"http://www.w3.org/1999/xlink\">\n",
       "<g id=\"graph0\" class=\"graph\" transform=\"scale(1 1) rotate(0) translate(4 314)\">\n",
       "<title>%3</title>\n",
       "<polygon fill=\"#ffffff\" stroke=\"transparent\" points=\"-4,4 -4,-314 796.0634,-314 796.0634,4 -4,4\"/>\n",
       "<!-- EMPTY -->\n",
       "<g id=\"node1\" class=\"node\">\n",
       "<title>EMPTY</title>\n",
       "</g>\n",
       "<!-- IF -->\n",
       "<g id=\"node10\" class=\"node\">\n",
       "<title>IF</title>\n",
       "<ellipse fill=\"none\" stroke=\"#000000\" cx=\"113.8483\" cy=\"-136\" rx=\"18.724\" ry=\"18.724\"/>\n",
       "<ellipse fill=\"none\" stroke=\"#000000\" cx=\"113.8483\" cy=\"-136\" rx=\"22.6977\" ry=\"22.6977\"/>\n",
       "<text text-anchor=\"middle\" x=\"113.8483\" y=\"-132.3\" font-family=\"Times,serif\" font-size=\"14.00\" fill=\"#000000\">IF</text>\n",
       "</g>\n",
       "<!-- EMPTY&#45;&gt;IF -->\n",
       "<g id=\"edge1\" class=\"edge\">\n",
       "<title>EMPTY&#45;&gt;IF</title>\n",
       "<path fill=\"none\" stroke=\"#000000\" d=\"M54.0033,-136C62.5212,-136 72.0276,-136 80.9112,-136\"/>\n",
       "<polygon fill=\"#000000\" stroke=\"#000000\" points=\"80.9572,-139.5001 90.9572,-136 80.9572,-132.5001 80.9572,-139.5001\"/>\n",
       "</g>\n",
       "<!-- S_dbb -->\n",
       "<g id=\"node2\" class=\"node\">\n",
       "<title>S_dbb</title>\n",
       "<ellipse fill=\"none\" stroke=\"#000000\" cx=\"322.9885\" cy=\"-165\" rx=\"33.5952\" ry=\"33.5952\"/>\n",
       "<text text-anchor=\"middle\" x=\"322.9885\" y=\"-161.3\" font-family=\"Times,serif\" font-size=\"14.00\" fill=\"#000000\">S_dbb</text>\n",
       "</g>\n",
       "<!-- Sabb -->\n",
       "<g id=\"node4\" class=\"node\">\n",
       "<title>Sabb</title>\n",
       "<ellipse fill=\"none\" stroke=\"#000000\" cx=\"432.0329\" cy=\"-162\" rx=\"29.4969\" ry=\"29.4969\"/>\n",
       "<text text-anchor=\"middle\" x=\"432.0329\" y=\"-158.3\" font-family=\"Times,serif\" font-size=\"14.00\" fill=\"#000000\">Sabb</text>\n",
       "</g>\n",
       "<!-- S_dbb&#45;&gt;Sabb -->\n",
       "<g id=\"edge18\" class=\"edge\">\n",
       "<title>S_dbb&#45;&gt;Sabb</title>\n",
       "<path fill=\"none\" stroke=\"#000000\" d=\"M356.8931,-164.0672C368.0939,-163.7591 380.6562,-163.4135 392.2557,-163.0943\"/>\n",
       "<polygon fill=\"#000000\" stroke=\"#000000\" points=\"392.6711,-166.5843 402.571,-162.8105 392.4785,-159.587 392.6711,-166.5843\"/>\n",
       "<text text-anchor=\"middle\" x=\"379.7855\" y=\"-167.8\" font-family=\"Times,serif\" font-size=\"14.00\" fill=\"#000000\">a </text>\n",
       "</g>\n",
       "<!-- S_dbb&#45;&gt;IF -->\n",
       "<g id=\"edge19\" class=\"edge\">\n",
       "<title>S_dbb&#45;&gt;IF</title>\n",
       "<path fill=\"none\" stroke=\"#000000\" d=\"M289.2158,-160.317C250.01,-154.8806 185.7707,-145.973 146.8825,-140.5806\"/>\n",
       "<polygon fill=\"#000000\" stroke=\"#000000\" points=\"147.0141,-137.0655 136.6281,-139.1587 146.0526,-143.9991 147.0141,-137.0655\"/>\n",
       "<text text-anchor=\"middle\" x=\"212.9441\" y=\"-157.8\" font-family=\"Times,serif\" font-size=\"14.00\" fill=\"#000000\">b </text>\n",
       "</g>\n",
       "<!-- Saabb -->\n",
       "<g id=\"node3\" class=\"node\">\n",
       "<title>Saabb</title>\n",
       "<ellipse fill=\"none\" stroke=\"#000000\" cx=\"541.4273\" cy=\"-234\" rx=\"33.2948\" ry=\"33.2948\"/>\n",
       "<text text-anchor=\"middle\" x=\"541.4273\" y=\"-230.3\" font-family=\"Times,serif\" font-size=\"14.00\" fill=\"#000000\">Saabb</text>\n",
       "</g>\n",
       "<!-- Saabb&#45;&gt;S_dbb -->\n",
       "<g id=\"edge14\" class=\"edge\">\n",
       "<title>Saabb&#45;&gt;S_dbb</title>\n",
       "<path fill=\"none\" stroke=\"#000000\" d=\"M508.7571,-227.6562C480.3706,-221.751 438.3431,-212.057 402.7855,-200 389.5425,-195.5095 375.4591,-189.6985 362.8688,-184.1062\"/>\n",
       "<polygon fill=\"#000000\" stroke=\"#000000\" points=\"364.1242,-180.8326 353.5707,-179.8978 361.2378,-187.2099 364.1242,-180.8326\"/>\n",
       "<text text-anchor=\"middle\" x=\"432.0329\" y=\"-220.8\" font-family=\"Times,serif\" font-size=\"14.00\" fill=\"#000000\">a </text>\n",
       "</g>\n",
       "<!-- S_aad -->\n",
       "<g id=\"node5\" class=\"node\">\n",
       "<title>S_aad</title>\n",
       "<ellipse fill=\"none\" stroke=\"#000000\" cx=\"654.7215\" cy=\"-166\" rx=\"33.2948\" ry=\"33.2948\"/>\n",
       "<text text-anchor=\"middle\" x=\"654.7215\" y=\"-162.3\" font-family=\"Times,serif\" font-size=\"14.00\" fill=\"#000000\">S_aad</text>\n",
       "</g>\n",
       "<!-- Saabb&#45;&gt;S_aad -->\n",
       "<g id=\"edge15\" class=\"edge\">\n",
       "<title>Saabb&#45;&gt;S_aad</title>\n",
       "<path fill=\"none\" stroke=\"#000000\" d=\"M570.0162,-216.8407C584.3731,-208.2236 601.9468,-197.6758 617.3582,-188.4257\"/>\n",
       "<polygon fill=\"#000000\" stroke=\"#000000\" points=\"619.3688,-191.3011 626.1417,-183.1538 615.7663,-185.2991 619.3688,-191.3011\"/>\n",
       "<text text-anchor=\"middle\" x=\"598.0744\" y=\"-206.8\" font-family=\"Times,serif\" font-size=\"14.00\" fill=\"#000000\">b </text>\n",
       "</g>\n",
       "<!-- Sabb&#45;&gt;Saabb -->\n",
       "<g id=\"edge8\" class=\"edge\">\n",
       "<title>Sabb&#45;&gt;Saabb</title>\n",
       "<path fill=\"none\" stroke=\"#000000\" d=\"M456.5831,-178.1582C470.8277,-187.5336 489.0394,-199.5199 504.9355,-209.9822\"/>\n",
       "<polygon fill=\"#000000\" stroke=\"#000000\" points=\"503.2111,-213.0373 513.4885,-215.6115 507.0596,-207.1901 503.2111,-213.0373\"/>\n",
       "<text text-anchor=\"middle\" x=\"484.7803\" y=\"-204.8\" font-family=\"Times,serif\" font-size=\"14.00\" fill=\"#000000\">a </text>\n",
       "</g>\n",
       "<!-- S_ad -->\n",
       "<g id=\"node8\" class=\"node\">\n",
       "<title>S_ad</title>\n",
       "<ellipse fill=\"none\" stroke=\"#000000\" cx=\"541.4273\" cy=\"-154\" rx=\"29.4969\" ry=\"29.4969\"/>\n",
       "<text text-anchor=\"middle\" x=\"541.4273\" y=\"-150.3\" font-family=\"Times,serif\" font-size=\"14.00\" fill=\"#000000\">S_ad</text>\n",
       "</g>\n",
       "<!-- Sabb&#45;&gt;S_ad -->\n",
       "<g id=\"edge9\" class=\"edge\">\n",
       "<title>Sabb&#45;&gt;S_ad</title>\n",
       "<path fill=\"none\" stroke=\"#000000\" d=\"M461.3486,-159.8561C473.7334,-158.9504 488.349,-157.8816 501.681,-156.9066\"/>\n",
       "<polygon fill=\"#000000\" stroke=\"#000000\" points=\"502.3126,-160.3699 512.0307,-156.1498 501.802,-153.3885 502.3126,-160.3699\"/>\n",
       "<text text-anchor=\"middle\" x=\"484.7803\" y=\"-162.8\" font-family=\"Times,serif\" font-size=\"14.00\" fill=\"#000000\">b </text>\n",
       "</g>\n",
       "<!-- Saab -->\n",
       "<g id=\"node7\" class=\"node\">\n",
       "<title>Saab</title>\n",
       "<ellipse fill=\"none\" stroke=\"#000000\" cx=\"763.466\" cy=\"-137\" rx=\"28.6953\" ry=\"28.6953\"/>\n",
       "<text text-anchor=\"middle\" x=\"763.466\" y=\"-133.3\" font-family=\"Times,serif\" font-size=\"14.00\" fill=\"#000000\">Saab</text>\n",
       "</g>\n",
       "<!-- S_aad&#45;&gt;Saab -->\n",
       "<g id=\"edge17\" class=\"edge\">\n",
       "<title>S_aad&#45;&gt;Saab</title>\n",
       "<path fill=\"none\" stroke=\"#000000\" d=\"M686.7602,-157.4559C699.0201,-154.1864 713.1135,-150.428 725.8481,-147.032\"/>\n",
       "<polygon fill=\"#000000\" stroke=\"#000000\" points=\"726.9481,-150.361 735.7085,-144.4024 725.1443,-143.5974 726.9481,-150.361\"/>\n",
       "<text text-anchor=\"middle\" x=\"711.3685\" y=\"-155.8\" font-family=\"Times,serif\" font-size=\"14.00\" fill=\"#000000\">b </text>\n",
       "</g>\n",
       "<!-- S_aad&#45;&gt;IF -->\n",
       "<g id=\"edge16\" class=\"edge\">\n",
       "<title>S_aad&#45;&gt;IF</title>\n",
       "<path fill=\"none\" stroke=\"#000000\" d=\"M632.1082,-190.9363C628.4828,-195.2113 624.8497,-199.6719 621.5744,-204 589.0523,-246.9758 595.3217,-295 541.4273,-295 212.9441,-295 212.9441,-295 212.9441,-295 153.9771,-295 128.8306,-215.2629 119.1754,-168.722\"/>\n",
       "<polygon fill=\"#000000\" stroke=\"#000000\" points=\"122.5869,-167.929 117.2426,-158.7808 115.7155,-169.265 122.5869,-167.929\"/>\n",
       "<text text-anchor=\"middle\" x=\"379.7855\" y=\"-298.8\" font-family=\"Times,serif\" font-size=\"14.00\" fill=\"#000000\">a </text>\n",
       "</g>\n",
       "<!-- S_db -->\n",
       "<g id=\"node6\" class=\"node\">\n",
       "<title>S_db</title>\n",
       "<ellipse fill=\"none\" stroke=\"#000000\" cx=\"212.9441\" cy=\"-49\" rx=\"29.4969\" ry=\"29.4969\"/>\n",
       "<text text-anchor=\"middle\" x=\"212.9441\" y=\"-45.3\" font-family=\"Times,serif\" font-size=\"14.00\" fill=\"#000000\">S_db</text>\n",
       "</g>\n",
       "<!-- S_db&#45;&gt;S_dbb -->\n",
       "<g id=\"edge11\" class=\"edge\">\n",
       "<title>S_db&#45;&gt;S_dbb</title>\n",
       "<path fill=\"none\" stroke=\"#000000\" d=\"M233.1279,-70.2762C249.7438,-87.7914 273.5605,-112.897 292.5002,-132.8617\"/>\n",
       "<polygon fill=\"#000000\" stroke=\"#000000\" points=\"290.0735,-135.3891 299.4951,-140.2352 295.1519,-130.5714 290.0735,-135.3891\"/>\n",
       "<text text-anchor=\"middle\" x=\"265.6915\" y=\"-110.8\" font-family=\"Times,serif\" font-size=\"14.00\" fill=\"#000000\">b </text>\n",
       "</g>\n",
       "<!-- Sab -->\n",
       "<g id=\"node9\" class=\"node\">\n",
       "<title>Sab</title>\n",
       "<ellipse fill=\"none\" stroke=\"#000000\" cx=\"654.7215\" cy=\"-90\" rx=\"24.8972\" ry=\"24.8972\"/>\n",
       "<text text-anchor=\"middle\" x=\"654.7215\" y=\"-86.3\" font-family=\"Times,serif\" font-size=\"14.00\" fill=\"#000000\">Sab</text>\n",
       "</g>\n",
       "<!-- S_db&#45;&gt;Sab -->\n",
       "<g id=\"edge10\" class=\"edge\">\n",
       "<title>S_db&#45;&gt;Sab</title>\n",
       "<path fill=\"none\" stroke=\"#000000\" d=\"M242.3637,-47.7625C264.5242,-46.9361 295.6583,-46 322.9885,-46 322.9885,-46 322.9885,-46 541.4273,-46 571.3372,-46 602.8597,-59.4902 625.0388,-71.5313\"/>\n",
       "<polygon fill=\"#000000\" stroke=\"#000000\" points=\"623.5117,-74.6885 633.9401,-76.5595 626.9546,-68.5937 623.5117,-74.6885\"/>\n",
       "<text text-anchor=\"middle\" x=\"432.0329\" y=\"-49.8\" font-family=\"Times,serif\" font-size=\"14.00\" fill=\"#000000\">a </text>\n",
       "</g>\n",
       "<!-- Saab&#45;&gt;Saabb -->\n",
       "<g id=\"edge7\" class=\"edge\">\n",
       "<title>Saab&#45;&gt;Saabb</title>\n",
       "<path fill=\"none\" stroke=\"#000000\" d=\"M745.734,-159.5412C731.7751,-175.6557 710.8837,-196.4569 687.8685,-208 655.7628,-224.1024 615.3119,-230.3823 585.0635,-232.7598\"/>\n",
       "<polygon fill=\"#000000\" stroke=\"#000000\" points=\"584.5631,-229.2855 574.8201,-233.4478 585.0322,-236.2697 584.5631,-229.2855\"/>\n",
       "<text text-anchor=\"middle\" x=\"654.7215\" y=\"-231.8\" font-family=\"Times,serif\" font-size=\"14.00\" fill=\"#000000\">b </text>\n",
       "</g>\n",
       "<!-- Saab&#45;&gt;S_db -->\n",
       "<g id=\"edge6\" class=\"edge\">\n",
       "<title>Saab&#45;&gt;S_db</title>\n",
       "<path fill=\"none\" stroke=\"#000000\" d=\"M755.3139,-109.276C741.6359,-69.2442 709.9889,0 654.7215,0 322.9885,0 322.9885,0 322.9885,0 294.9908,0 266.1813,-13.4003 245.0658,-26.1856\"/>\n",
       "<polygon fill=\"#000000\" stroke=\"#000000\" points=\"243.0991,-23.2881 236.5122,-31.5865 246.8364,-29.2069 243.0991,-23.2881\"/>\n",
       "<text text-anchor=\"middle\" x=\"484.7803\" y=\"-3.8\" font-family=\"Times,serif\" font-size=\"14.00\" fill=\"#000000\">a </text>\n",
       "</g>\n",
       "<!-- S_ad&#45;&gt;S_aad -->\n",
       "<g id=\"edge12\" class=\"edge\">\n",
       "<title>S_ad&#45;&gt;S_aad</title>\n",
       "<path fill=\"none\" stroke=\"#000000\" d=\"M570.6034,-157.0903C583.0378,-158.4073 597.8023,-159.9712 611.4645,-161.4183\"/>\n",
       "<polygon fill=\"#000000\" stroke=\"#000000\" points=\"611.3273,-164.9232 621.6404,-162.4961 612.0647,-157.9622 611.3273,-164.9232\"/>\n",
       "<text text-anchor=\"middle\" x=\"598.0744\" y=\"-164.8\" font-family=\"Times,serif\" font-size=\"14.00\" fill=\"#000000\">a </text>\n",
       "</g>\n",
       "<!-- S_ad&#45;&gt;Sab -->\n",
       "<g id=\"edge13\" class=\"edge\">\n",
       "<title>S_ad&#45;&gt;Sab</title>\n",
       "<path fill=\"none\" stroke=\"#000000\" d=\"M567.1355,-139.4774C584.0365,-129.93 606.2377,-117.3885 624.0588,-107.3214\"/>\n",
       "<polygon fill=\"#000000\" stroke=\"#000000\" points=\"625.9422,-110.2774 632.9275,-102.3114 622.4992,-104.1826 625.9422,-110.2774\"/>\n",
       "<text text-anchor=\"middle\" x=\"598.0744\" y=\"-127.8\" font-family=\"Times,serif\" font-size=\"14.00\" fill=\"#000000\">b </text>\n",
       "</g>\n",
       "<!-- Sab&#45;&gt;Sabb -->\n",
       "<g id=\"edge5\" class=\"edge\">\n",
       "<title>Sab&#45;&gt;Sabb</title>\n",
       "<path fill=\"none\" stroke=\"#000000\" d=\"M629.9008,-87.5173C599.9561,-85.4868 548.6127,-85.1303 508.2803,-101 490.214,-108.1086 473.0527,-121.0648 459.6021,-133.2141\"/>\n",
       "<polygon fill=\"#000000\" stroke=\"#000000\" points=\"457.0294,-130.8286 452.1326,-140.2239 461.8197,-135.9329 457.0294,-130.8286\"/>\n",
       "<text text-anchor=\"middle\" x=\"541.4273\" y=\"-104.8\" font-family=\"Times,serif\" font-size=\"14.00\" fill=\"#000000\">b </text>\n",
       "</g>\n",
       "<!-- Sab&#45;&gt;Saab -->\n",
       "<g id=\"edge4\" class=\"edge\">\n",
       "<title>Sab&#45;&gt;Saab</title>\n",
       "<path fill=\"none\" stroke=\"#000000\" d=\"M677.5179,-99.8527C691.9912,-106.1082 711.0325,-114.3379 727.5134,-121.4611\"/>\n",
       "<polygon fill=\"#000000\" stroke=\"#000000\" points=\"726.2994,-124.7493 736.8673,-125.5039 729.0766,-118.3237 726.2994,-124.7493\"/>\n",
       "<text text-anchor=\"middle\" x=\"711.3685\" y=\"-120.8\" font-family=\"Times,serif\" font-size=\"14.00\" fill=\"#000000\">a </text>\n",
       "</g>\n",
       "<!-- IF&#45;&gt;S_db -->\n",
       "<g id=\"edge3\" class=\"edge\">\n",
       "<title>IF&#45;&gt;S_db</title>\n",
       "<path fill=\"none\" stroke=\"#000000\" d=\"M125.2078,-116.1087C132.5332,-104.5353 142.8823,-90.2546 154.6967,-80 161.2877,-74.2791 169.1147,-69.2177 176.8581,-64.93\"/>\n",
       "<polygon fill=\"#000000\" stroke=\"#000000\" points=\"178.5771,-67.981 185.8308,-60.2587 175.3446,-61.772 178.5771,-67.981\"/>\n",
       "<text text-anchor=\"middle\" x=\"160.1967\" y=\"-83.8\" font-family=\"Times,serif\" font-size=\"14.00\" fill=\"#000000\">b </text>\n",
       "</g>\n",
       "<!-- IF&#45;&gt;S_ad -->\n",
       "<g id=\"edge2\" class=\"edge\">\n",
       "<title>IF&#45;&gt;S_ad</title>\n",
       "<path fill=\"none\" stroke=\"#000000\" d=\"M136.3986,-131.052C169.6388,-124.0366 233.8388,-111.5465 289.1915,-107 365.7897,-100.7084 387.0017,-104.2625 461.2803,-124 475.8389,-127.8686 491.4374,-133.3786 504.9684,-138.6231\"/>\n",
       "<polygon fill=\"#000000\" stroke=\"#000000\" points=\"503.8252,-141.9349 514.4112,-142.3677 506.4057,-135.4278 503.8252,-141.9349\"/>\n",
       "<text text-anchor=\"middle\" x=\"322.9885\" y=\"-110.8\" font-family=\"Times,serif\" font-size=\"14.00\" fill=\"#000000\">a </text>\n",
       "</g>\n",
       "</g>\n",
       "</svg>\n"
      ],
      "text/plain": [
       "<graphviz.dot.Digraph at 0x109429710>"
      ]
     },
     "execution_count": 3,
     "metadata": {},
     "output_type": "execute_result"
    }
   ],
   "source": [
    "dotObj_dfa(i_jDivisibleByThree)"
   ]
  },
  {
   "cell_type": "code",
   "execution_count": null,
   "metadata": {},
   "outputs": [],
   "source": []
  },
  {
   "cell_type": "markdown",
   "metadata": {
    "run_control": {
     "frozen": false,
     "read_only": false
    }
   },
   "source": [
    "## From Languages to Regular Languages\n",
    "\n",
    "We will now study __regular languages__. \n",
    "\n",
    "L is a regular language if L has a DFA. \n",
    "\n",
    "L is a regular language if there is a DFA D such that D accepts *all* and *only* those strings in L."
   ]
  },
  {
   "cell_type": "markdown",
   "metadata": {
    "run_control": {
     "frozen": false,
     "read_only": false
    }
   },
   "source": [
    "## DFA as Graphs: Define Regular Languages\n",
    "\n",
    "DFA drawings are graphs. A string w is in a DFA D's language if there is a path from the initial state to *a* final state of D labeled by w."
   ]
  },
  {
   "cell_type": "markdown",
   "metadata": {
    "run_control": {
     "frozen": false,
     "read_only": false
    }
   },
   "source": [
    "## DFA as Symbol and String Transition Functions\n",
    "\n",
    "A DFA is a quintuple $(Q, \\Sigma, \\delta, q_0, F)$. Its Python encoding looks as below."
   ]
  },
  {
   "cell_type": "code",
   "execution_count": 2,
   "metadata": {
    "run_control": {
     "frozen": false,
     "read_only": false
    }
   },
   "outputs": [],
   "source": [
    "Fig34 = {\n",
    " 'Q': {'A', 'F', 'I'},\n",
    " 'Sigma': {'0', '1'},\n",
    " 'Delta': {('A', '0'): 'I',\n",
    "  ('A', '1'): 'I',\n",
    "  ('F', '0'): 'I',\n",
    "  ('F', '1'): 'I',\n",
    "  ('I', '0'): 'A',\n",
    "  ('I', '1'): 'F'},\n",
    " 'q0': 'I',\n",
    " 'F': {'F'}\n",
    "}"
   ]
  },
  {
   "cell_type": "code",
   "execution_count": 3,
   "metadata": {
    "run_control": {
     "frozen": false,
     "read_only": false
    }
   },
   "outputs": [
    {
     "output_type": "execute_result",
     "data": {
      "text/plain": "<graphviz.dot.Digraph at 0x1c8de442df0>",
      "image/svg+xml": "<?xml version=\"1.0\" encoding=\"UTF-8\" standalone=\"no\"?>\r\n<!DOCTYPE svg PUBLIC \"-//W3C//DTD SVG 1.1//EN\"\r\n \"http://www.w3.org/Graphics/SVG/1.1/DTD/svg11.dtd\">\r\n<!-- Generated by graphviz version 2.38.0 (20140413.2041)\r\n -->\r\n<!-- Title: %3 Pages: 1 -->\r\n<svg width=\"226pt\" height=\"168pt\"\r\n viewBox=\"0.00 0.00 226.00 168.15\" xmlns=\"http://www.w3.org/2000/svg\" xmlns:xlink=\"http://www.w3.org/1999/xlink\">\r\n<g id=\"graph0\" class=\"graph\" transform=\"scale(1 1) rotate(0) translate(4 164.151)\">\r\n<title>%3</title>\r\n<polygon fill=\"white\" stroke=\"none\" points=\"-4,4 -4,-164.151 222,-164.151 222,4 -4,4\"/>\r\n<!-- EMPTY -->\r\n<g id=\"node1\" class=\"node\"><title>EMPTY</title>\r\n</g>\r\n<!-- I -->\r\n<g id=\"node3\" class=\"node\"><title>I</title>\r\n<ellipse fill=\"none\" stroke=\"black\" cx=\"109\" cy=\"-82.1508\" rx=\"18\" ry=\"18\"/>\r\n<text text-anchor=\"middle\" x=\"109\" y=\"-78.4508\" font-family=\"Times New Roman,serif\" font-size=\"14.00\">I</text>\r\n</g>\r\n<!-- EMPTY&#45;&gt;I -->\r\n<g id=\"edge1\" class=\"edge\"><title>EMPTY&#45;&gt;I</title>\r\n<path fill=\"none\" stroke=\"black\" d=\"M54.195,-82.1508C62.6538,-82.1508 72.0513,-82.1508 80.5951,-82.1508\"/>\r\n<polygon fill=\"black\" stroke=\"black\" points=\"80.8257,-85.6509 90.8257,-82.1508 80.8257,-78.6509 80.8257,-85.6509\"/>\r\n</g>\r\n<!-- A -->\r\n<g id=\"node2\" class=\"node\"><title>A</title>\r\n<ellipse fill=\"none\" stroke=\"black\" cx=\"196\" cy=\"-139.151\" rx=\"18\" ry=\"18\"/>\r\n<text text-anchor=\"middle\" x=\"196\" y=\"-135.451\" font-family=\"Times New Roman,serif\" font-size=\"14.00\">A</text>\r\n</g>\r\n<!-- A&#45;&gt;I -->\r\n<g id=\"edge2\" class=\"edge\"><title>A&#45;&gt;I</title>\r\n<path fill=\"none\" stroke=\"black\" d=\"M178.444,-133.641C168.303,-129.847 155.332,-124.219 145,-117.151 139.091,-113.109 133.321,-107.991 128.226,-102.925\"/>\r\n<polygon fill=\"black\" stroke=\"black\" points=\"130.741,-100.491 121.305,-95.6723 125.676,-105.323 130.741,-100.491\"/>\r\n<text text-anchor=\"middle\" x=\"150.5\" y=\"-126.951\" font-family=\"Times New Roman,serif\" font-size=\"14.00\">0 </text>\r\n</g>\r\n<!-- A&#45;&gt;I -->\r\n<g id=\"edge3\" class=\"edge\"><title>A&#45;&gt;I</title>\r\n<path fill=\"none\" stroke=\"black\" d=\"M184.409,-124.951C177.231,-116.182 167.065,-105.283 156,-98.1508 150.123,-94.3629 143.244,-91.3527 136.623,-89.013\"/>\r\n<polygon fill=\"black\" stroke=\"black\" points=\"137.201,-85.5262 126.611,-85.8729 135.106,-92.2053 137.201,-85.5262\"/>\r\n<text text-anchor=\"middle\" x=\"150.5\" y=\"-101.951\" font-family=\"Times New Roman,serif\" font-size=\"14.00\">1 </text>\r\n</g>\r\n<!-- I&#45;&gt;A -->\r\n<g id=\"edge6\" class=\"edge\"><title>I&#45;&gt;A</title>\r\n<path fill=\"none\" stroke=\"black\" d=\"M114.766,-99.292C119.746,-113.581 129.105,-133.021 145,-142.151 152.026,-146.186 160.561,-146.887 168.575,-146.146\"/>\r\n<polygon fill=\"black\" stroke=\"black\" points=\"169.337,-149.568 178.641,-144.5 168.207,-142.659 169.337,-149.568\"/>\r\n<text text-anchor=\"middle\" x=\"150.5\" y=\"-148.951\" font-family=\"Times New Roman,serif\" font-size=\"14.00\">0 </text>\r\n</g>\r\n<!-- F -->\r\n<g id=\"node4\" class=\"node\"><title>F</title>\r\n<ellipse fill=\"none\" stroke=\"black\" cx=\"196\" cy=\"-25.1508\" rx=\"18\" ry=\"18\"/>\r\n<ellipse fill=\"none\" stroke=\"black\" cx=\"196\" cy=\"-25.1508\" rx=\"22\" ry=\"22\"/>\r\n<text text-anchor=\"middle\" x=\"196\" y=\"-21.4508\" font-family=\"Times New Roman,serif\" font-size=\"14.00\">F</text>\r\n</g>\r\n<!-- I&#45;&gt;F -->\r\n<g id=\"edge7\" class=\"edge\"><title>I&#45;&gt;F</title>\r\n<path fill=\"none\" stroke=\"black\" d=\"M124.419,-72.4816C136.5,-64.3802 154.061,-52.6043 168.643,-42.8256\"/>\r\n<polygon fill=\"black\" stroke=\"black\" points=\"170.906,-45.5222 177.262,-37.0457 167.007,-39.7083 170.906,-45.5222\"/>\r\n<text text-anchor=\"middle\" x=\"150.5\" y=\"-59.9508\" font-family=\"Times New Roman,serif\" font-size=\"14.00\">1 </text>\r\n</g>\r\n<!-- F&#45;&gt;I -->\r\n<g id=\"edge4\" class=\"edge\"><title>F&#45;&gt;I</title>\r\n<path fill=\"none\" stroke=\"black\" d=\"M173.861,-21.224C164.465,-20.5338 153.609,-21.2664 145,-26.1508 133.586,-32.6273 125.381,-44.5084 119.798,-55.666\"/>\r\n<polygon fill=\"black\" stroke=\"black\" points=\"116.452,-54.5743 115.552,-65.1309 122.839,-57.4396 116.452,-54.5743\"/>\r\n<text text-anchor=\"middle\" x=\"150.5\" y=\"-29.9508\" font-family=\"Times New Roman,serif\" font-size=\"14.00\">0 </text>\r\n</g>\r\n<!-- F&#45;&gt;I -->\r\n<g id=\"edge5\" class=\"edge\"><title>F&#45;&gt;I</title>\r\n<path fill=\"none\" stroke=\"black\" d=\"M179.467,-10.5437C169.246,-2.76493 155.811,3.88371 145,-3.15083 127.657,-14.4358 118.843,-36.4934 114.401,-54.4395\"/>\r\n<polygon fill=\"black\" stroke=\"black\" points=\"110.935,-53.9063 112.259,-64.4182 117.78,-55.3752 110.935,-53.9063\"/>\r\n<text text-anchor=\"middle\" x=\"150.5\" y=\"-6.95083\" font-family=\"Times New Roman,serif\" font-size=\"14.00\">1 </text>\r\n</g>\r\n</g>\r\n</svg>\r\n"
     },
     "metadata": {},
     "execution_count": 3
    }
   ],
   "source": [
    "dotObj_dfa(Fig34)"
   ]
  },
  {
   "cell_type": "markdown",
   "metadata": {},
   "source": [
    "## A prettier diagram is obtained by fusing edges"
   ]
  },
  {
   "cell_type": "code",
   "execution_count": 4,
   "metadata": {},
   "outputs": [
    {
     "output_type": "execute_result",
     "data": {
      "text/plain": "<graphviz.dot.Digraph at 0x1c8de2cf2b0>",
      "image/svg+xml": "<?xml version=\"1.0\" encoding=\"UTF-8\" standalone=\"no\"?>\r\n<!DOCTYPE svg PUBLIC \"-//W3C//DTD SVG 1.1//EN\"\r\n \"http://www.w3.org/Graphics/SVG/1.1/DTD/svg11.dtd\">\r\n<!-- Generated by graphviz version 2.38.0 (20140413.2041)\r\n -->\r\n<!-- Title: %3 Pages: 1 -->\r\n<svg width=\"230pt\" height=\"150pt\"\r\n viewBox=\"0.00 0.00 230.00 150.02\" xmlns=\"http://www.w3.org/2000/svg\" xmlns:xlink=\"http://www.w3.org/1999/xlink\">\r\n<g id=\"graph0\" class=\"graph\" transform=\"scale(1 1) rotate(0) translate(4 146.016)\">\r\n<title>%3</title>\r\n<polygon fill=\"white\" stroke=\"none\" points=\"-4,4 -4,-146.016 226,-146.016 226,4 -4,4\"/>\r\n<!-- EMPTY -->\r\n<g id=\"node1\" class=\"node\"><title>EMPTY</title>\r\n</g>\r\n<!-- I -->\r\n<g id=\"node3\" class=\"node\"><title>I</title>\r\n<ellipse fill=\"none\" stroke=\"black\" cx=\"109\" cy=\"-74.0158\" rx=\"18\" ry=\"18\"/>\r\n<text text-anchor=\"middle\" x=\"109\" y=\"-70.3158\" font-family=\"Times New Roman,serif\" font-size=\"14.00\">I</text>\r\n</g>\r\n<!-- EMPTY&#45;&gt;I -->\r\n<g id=\"edge1\" class=\"edge\"><title>EMPTY&#45;&gt;I</title>\r\n<path fill=\"none\" stroke=\"black\" d=\"M54.195,-74.0158C62.6538,-74.0158 72.0513,-74.0158 80.5951,-74.0158\"/>\r\n<polygon fill=\"black\" stroke=\"black\" points=\"80.8257,-77.5159 90.8257,-74.0158 80.8257,-70.5159 80.8257,-77.5159\"/>\r\n</g>\r\n<!-- A -->\r\n<g id=\"node2\" class=\"node\"><title>A</title>\r\n<ellipse fill=\"none\" stroke=\"black\" cx=\"200\" cy=\"-111.016\" rx=\"18\" ry=\"18\"/>\r\n<text text-anchor=\"middle\" x=\"200\" y=\"-107.316\" font-family=\"Times New Roman,serif\" font-size=\"14.00\">A</text>\r\n</g>\r\n<!-- A&#45;&gt;I -->\r\n<g id=\"edge2\" class=\"edge\"><title>A&#45;&gt;I</title>\r\n<path fill=\"none\" stroke=\"black\" d=\"M183.108,-103.958C176.052,-100.858 167.633,-97.2051 160,-94.0158 152.115,-90.7211 143.486,-87.2295 135.65,-84.1015\"/>\r\n<polygon fill=\"black\" stroke=\"black\" points=\"136.85,-80.8121 126.264,-80.3761 134.268,-87.3184 136.85,-80.8121\"/>\r\n<text text-anchor=\"middle\" x=\"152.5\" y=\"-112.816\" font-family=\"Times New Roman,serif\" font-size=\"14.00\">0 </text>\r\n<text text-anchor=\"middle\" x=\"152.5\" y=\"-97.8158\" font-family=\"Times New Roman,serif\" font-size=\"14.00\"> 1 </text>\r\n</g>\r\n<!-- I&#45;&gt;A -->\r\n<g id=\"edge4\" class=\"edge\"><title>I&#45;&gt;A</title>\r\n<path fill=\"none\" stroke=\"black\" d=\"M116.701,-90.7969C122.345,-102.443 131.654,-117.067 145,-124.016 154.141,-128.775 165.061,-127.295 174.682,-123.955\"/>\r\n<polygon fill=\"black\" stroke=\"black\" points=\"176.251,-127.092 184.108,-119.986 173.534,-120.641 176.251,-127.092\"/>\r\n<text text-anchor=\"middle\" x=\"152.5\" y=\"-130.816\" font-family=\"Times New Roman,serif\" font-size=\"14.00\">0 </text>\r\n</g>\r\n<!-- F -->\r\n<g id=\"node4\" class=\"node\"><title>F</title>\r\n<ellipse fill=\"none\" stroke=\"black\" cx=\"200\" cy=\"-37.0158\" rx=\"18\" ry=\"18\"/>\r\n<ellipse fill=\"none\" stroke=\"black\" cx=\"200\" cy=\"-37.0158\" rx=\"22\" ry=\"22\"/>\r\n<text text-anchor=\"middle\" x=\"200\" y=\"-33.3158\" font-family=\"Times New Roman,serif\" font-size=\"14.00\">F</text>\r\n</g>\r\n<!-- I&#45;&gt;F -->\r\n<g id=\"edge5\" class=\"edge\"><title>I&#45;&gt;F</title>\r\n<path fill=\"none\" stroke=\"black\" d=\"M125.911,-67.401C138.099,-62.3343 155.247,-55.2052 169.871,-49.1257\"/>\r\n<polygon fill=\"black\" stroke=\"black\" points=\"171.609,-52.1935 179.5,-45.1228 168.922,-45.7298 171.609,-52.1935\"/>\r\n<text text-anchor=\"middle\" x=\"152.5\" y=\"-61.8158\" font-family=\"Times New Roman,serif\" font-size=\"14.00\">1 </text>\r\n</g>\r\n<!-- F&#45;&gt;I -->\r\n<g id=\"edge3\" class=\"edge\"><title>F&#45;&gt;I</title>\r\n<path fill=\"none\" stroke=\"black\" d=\"M186.15,-19.8414C175.225,-7.42086 159.111,5.76055 145,-3.01583 129.683,-12.5419 120.872,-30.9628 115.922,-46.6539\"/>\r\n<polygon fill=\"black\" stroke=\"black\" points=\"112.505,-45.8779 113.197,-56.4501 119.249,-47.7539 112.505,-45.8779\"/>\r\n<text text-anchor=\"middle\" x=\"152.5\" y=\"-21.8158\" font-family=\"Times New Roman,serif\" font-size=\"14.00\">0 </text>\r\n<text text-anchor=\"middle\" x=\"152.5\" y=\"-6.81583\" font-family=\"Times New Roman,serif\" font-size=\"14.00\"> 1 </text>\r\n</g>\r\n</g>\r\n</svg>\r\n"
     },
     "metadata": {},
     "execution_count": 4
    }
   ],
   "source": [
    "dotObj_dfa(Fig34, FuseEdges=True)"
   ]
  },
  {
   "cell_type": "markdown",
   "metadata": {
    "run_control": {
     "frozen": false,
     "read_only": false
    }
   },
   "source": [
    "# The same DFA in automd (Jove's markdown)\n",
    "\n",
    "Study Overview_Of_CS3100_Fall2020/ and its contents to fully learn how to define a DFA via a markdown.\n",
    "You can study the animation panel which also explains the markdown syntax fully.\n"
   ]
  },
  {
   "cell_type": "code",
   "execution_count": 5,
   "metadata": {},
   "outputs": [
    {
     "output_type": "display_data",
     "data": {
      "text/plain": "<IPython.core.display.HTML object>",
      "text/html": "<style>textarea, input { font-family: monospace; }</style>"
     },
     "metadata": {}
    },
    {
     "output_type": "display_data",
     "data": {
      "text/plain": "Tab(children=(VBox(children=(HBox(children=(Accordion(children=(VBox(children=(HBox(children=(Text(value='', p…",
      "application/vnd.jupyter.widget-view+json": {
       "version_major": 2,
       "version_minor": 0,
       "model_id": "f7d9790d5fb443d6bedef6ec7d0f5984"
      }
     },
     "metadata": {}
    },
    {
     "output_type": "display_data",
     "data": {
      "text/plain": "<IPython.core.display.HTML object>",
      "text/html": "<link rel=\"stylesheet\" href=\"//stackpath.bootstrapcdn.com/font-awesome/4.7.0/css/font-awesome.min.css\"/>"
     },
     "metadata": {}
    }
   ],
   "source": [
    "from jove.JoveEditor import *\n",
    "JoveEditor(examples=True)\n",
    "display(HTML('<link rel=\\\"stylesheet\\\" href=\\\"//stackpath.bootstrapcdn.com/font-awesome/4.7.0/css/font-awesome.min.css\\\"/>'))"
   ]
  },
  {
   "cell_type": "code",
   "execution_count": 6,
   "metadata": {
    "run_control": {
     "frozen": false,
     "read_only": false
    }
   },
   "outputs": [],
   "source": [
    "Fig34md = '''  !! Comments begin with !! and last till the end of line\n",
    "DFA            !! This keyword tells \"md2mc\" that it is parsing a DFA\n",
    "I : 0     -> A !! DFA transition: From initial state I, upon 0, go to state A\n",
    "A : 0 | 1 -> I !! Two DFA transitions: from A, upon 0 or a 1, go to state I\n",
    "I : 1     -> F !! A DFA transition from I to F. I is the initial state and F is final \n",
    "F : 0 | 1 -> I !! From F upon 0 or a 1, go to I.\n",
    "'''"
   ]
  },
  {
   "cell_type": "code",
   "execution_count": 7,
   "metadata": {},
   "outputs": [],
   "source": [
    "DFA1 = md2mc('''DFA\n",
    "\n",
    "I : 0   -> A\n",
    "A : 0|1 -> I\n",
    "I : 1   -> F\n",
    "F : 0|1 -> I\n",
    "\n",
    "''')"
   ]
  },
  {
   "cell_type": "code",
   "execution_count": 8,
   "metadata": {},
   "outputs": [
    {
     "output_type": "execute_result",
     "data": {
      "text/plain": "<graphviz.dot.Digraph at 0x1c8de56e400>",
      "image/svg+xml": "<?xml version=\"1.0\" encoding=\"UTF-8\" standalone=\"no\"?>\r\n<!DOCTYPE svg PUBLIC \"-//W3C//DTD SVG 1.1//EN\"\r\n \"http://www.w3.org/Graphics/SVG/1.1/DTD/svg11.dtd\">\r\n<!-- Generated by graphviz version 2.38.0 (20140413.2041)\r\n -->\r\n<!-- Title: %3 Pages: 1 -->\r\n<svg width=\"226pt\" height=\"178pt\"\r\n viewBox=\"0.00 0.00 226.00 178.00\" xmlns=\"http://www.w3.org/2000/svg\" xmlns:xlink=\"http://www.w3.org/1999/xlink\">\r\n<g id=\"graph0\" class=\"graph\" transform=\"scale(1 1) rotate(0) translate(4 174)\">\r\n<title>%3</title>\r\n<polygon fill=\"white\" stroke=\"none\" points=\"-4,4 -4,-174 222,-174 222,4 -4,4\"/>\r\n<!-- EMPTY -->\r\n<g id=\"node1\" class=\"node\"><title>EMPTY</title>\r\n</g>\r\n<!-- I -->\r\n<g id=\"node3\" class=\"node\"><title>I</title>\r\n<ellipse fill=\"none\" stroke=\"black\" cx=\"109\" cy=\"-79\" rx=\"18\" ry=\"18\"/>\r\n<text text-anchor=\"middle\" x=\"109\" y=\"-75.3\" font-family=\"Times New Roman,serif\" font-size=\"14.00\">I</text>\r\n</g>\r\n<!-- EMPTY&#45;&gt;I -->\r\n<g id=\"edge1\" class=\"edge\"><title>EMPTY&#45;&gt;I</title>\r\n<path fill=\"none\" stroke=\"black\" d=\"M54.195,-79C62.6538,-79 72.0513,-79 80.5951,-79\"/>\r\n<polygon fill=\"black\" stroke=\"black\" points=\"80.8257,-82.5001 90.8257,-79 80.8257,-75.5001 80.8257,-82.5001\"/>\r\n</g>\r\n<!-- A -->\r\n<g id=\"node2\" class=\"node\"><title>A</title>\r\n<ellipse fill=\"none\" stroke=\"black\" cx=\"196\" cy=\"-136\" rx=\"18\" ry=\"18\"/>\r\n<text text-anchor=\"middle\" x=\"196\" y=\"-132.3\" font-family=\"Times New Roman,serif\" font-size=\"14.00\">A</text>\r\n</g>\r\n<!-- A&#45;&gt;I -->\r\n<g id=\"edge3\" class=\"edge\"><title>A&#45;&gt;I</title>\r\n<path fill=\"none\" stroke=\"black\" d=\"M178.444,-130.49C168.303,-126.696 155.332,-121.068 145,-114 139.091,-109.958 133.321,-104.84 128.226,-99.7741\"/>\r\n<polygon fill=\"black\" stroke=\"black\" points=\"130.741,-97.3401 121.305,-92.5214 125.676,-102.173 130.741,-97.3401\"/>\r\n<text text-anchor=\"middle\" x=\"150.5\" y=\"-123.8\" font-family=\"Times New Roman,serif\" font-size=\"14.00\">0 </text>\r\n</g>\r\n<!-- A&#45;&gt;I -->\r\n<g id=\"edge4\" class=\"edge\"><title>A&#45;&gt;I</title>\r\n<path fill=\"none\" stroke=\"black\" d=\"M184.409,-121.8C177.231,-113.031 167.065,-102.132 156,-95 150.123,-91.212 143.244,-88.2018 136.623,-85.8622\"/>\r\n<polygon fill=\"black\" stroke=\"black\" points=\"137.201,-82.3753 126.611,-82.722 135.106,-89.0545 137.201,-82.3753\"/>\r\n<text text-anchor=\"middle\" x=\"150.5\" y=\"-98.8\" font-family=\"Times New Roman,serif\" font-size=\"14.00\">1 </text>\r\n</g>\r\n<!-- I&#45;&gt;A -->\r\n<g id=\"edge2\" class=\"edge\"><title>I&#45;&gt;A</title>\r\n<path fill=\"none\" stroke=\"black\" d=\"M112.971,-96.7169C116.944,-114.179 125.85,-139.944 145,-152 153.157,-157.135 163.106,-155.297 171.976,-151.371\"/>\r\n<polygon fill=\"black\" stroke=\"black\" points=\"173.874,-154.326 181.041,-146.523 170.572,-148.153 173.874,-154.326\"/>\r\n<text text-anchor=\"middle\" x=\"150.5\" y=\"-158.8\" font-family=\"Times New Roman,serif\" font-size=\"14.00\">0 </text>\r\n</g>\r\n<!-- F -->\r\n<g id=\"node4\" class=\"node\"><title>F</title>\r\n<ellipse fill=\"none\" stroke=\"black\" cx=\"196\" cy=\"-22\" rx=\"18\" ry=\"18\"/>\r\n<ellipse fill=\"none\" stroke=\"black\" cx=\"196\" cy=\"-22\" rx=\"22\" ry=\"22\"/>\r\n<text text-anchor=\"middle\" x=\"196\" y=\"-18.3\" font-family=\"Times New Roman,serif\" font-size=\"14.00\">F</text>\r\n</g>\r\n<!-- I&#45;&gt;F -->\r\n<g id=\"edge5\" class=\"edge\"><title>I&#45;&gt;F</title>\r\n<path fill=\"none\" stroke=\"black\" d=\"M124.419,-69.3307C136.5,-61.2293 154.061,-49.4535 168.643,-39.6747\"/>\r\n<polygon fill=\"black\" stroke=\"black\" points=\"170.906,-42.3713 177.262,-33.8949 167.007,-36.5575 170.906,-42.3713\"/>\r\n<text text-anchor=\"middle\" x=\"150.5\" y=\"-56.8\" font-family=\"Times New Roman,serif\" font-size=\"14.00\">1 </text>\r\n</g>\r\n<!-- F&#45;&gt;I -->\r\n<g id=\"edge6\" class=\"edge\"><title>F&#45;&gt;I</title>\r\n<path fill=\"none\" stroke=\"black\" d=\"M173.78,-21.2543C164.368,-21.8217 153.521,-23.7807 145,-29 135.377,-34.8944 127.703,-44.5379 122.022,-53.791\"/>\r\n<polygon fill=\"black\" stroke=\"black\" points=\"118.833,-52.3242 117.007,-62.7607 124.942,-55.7404 118.833,-52.3242\"/>\r\n<text text-anchor=\"middle\" x=\"150.5\" y=\"-32.8\" font-family=\"Times New Roman,serif\" font-size=\"14.00\">0 </text>\r\n</g>\r\n<!-- F&#45;&gt;I -->\r\n<g id=\"edge7\" class=\"edge\"><title>F&#45;&gt;I</title>\r\n<path fill=\"none\" stroke=\"black\" d=\"M177.904,-9.06498C167.806,-3.1068 155.07,1.37668 145,-5 128.892,-15.2002 120.055,-35.0319 115.292,-51.5992\"/>\r\n<polygon fill=\"black\" stroke=\"black\" points=\"111.877,-50.825 112.824,-61.3775 118.665,-52.5381 111.877,-50.825\"/>\r\n<text text-anchor=\"middle\" x=\"150.5\" y=\"-8.8\" font-family=\"Times New Roman,serif\" font-size=\"14.00\">1 </text>\r\n</g>\r\n</g>\r\n</svg>\r\n"
     },
     "metadata": {},
     "execution_count": 8
    }
   ],
   "source": [
    "dotObj_dfa(DFA1)"
   ]
  },
  {
   "cell_type": "code",
   "execution_count": 9,
   "metadata": {},
   "outputs": [
    {
     "output_type": "execute_result",
     "data": {
      "text/plain": "'A'"
     },
     "metadata": {},
     "execution_count": 9
    }
   ],
   "source": [
    "step_dfa(DFA1, 'I', '0')"
   ]
  },
  {
   "cell_type": "code",
   "execution_count": 10,
   "metadata": {},
   "outputs": [
    {
     "output_type": "execute_result",
     "data": {
      "text/plain": "'I'"
     },
     "metadata": {},
     "execution_count": 10
    }
   ],
   "source": [
    "run_dfa(DFA1, '01100101')"
   ]
  },
  {
   "cell_type": "code",
   "execution_count": 11,
   "metadata": {},
   "outputs": [
    {
     "output_type": "execute_result",
     "data": {
      "text/plain": "'F'"
     },
     "metadata": {},
     "execution_count": 11
    }
   ],
   "source": [
    "run_dfa(DFA1, '011001011')"
   ]
  },
  {
   "cell_type": "markdown",
   "metadata": {
    "run_control": {
     "frozen": false,
     "read_only": false
    }
   },
   "source": [
    "# Function md2mc is your automd compiler"
   ]
  },
  {
   "cell_type": "code",
   "execution_count": 12,
   "metadata": {
    "run_control": {
     "frozen": false,
     "read_only": false
    }
   },
   "outputs": [
    {
     "output_type": "execute_result",
     "data": {
      "text/plain": "{'Q': {'A', 'F', 'I'},\n 'Sigma': {'0', '1'},\n 'Delta': {('I', '0'): 'A',\n  ('A', '0'): 'I',\n  ('A', '1'): 'I',\n  ('I', '1'): 'F',\n  ('F', '0'): 'I',\n  ('F', '1'): 'I'},\n 'q0': 'I',\n 'F': {'F'}}"
     },
     "metadata": {},
     "execution_count": 12
    }
   ],
   "source": [
    "Fig34MC = md2mc(Fig34md)\n",
    "Fig34MC"
   ]
  },
  {
   "cell_type": "code",
   "execution_count": 13,
   "metadata": {
    "run_control": {
     "frozen": false,
     "read_only": false
    }
   },
   "outputs": [
    {
     "output_type": "execute_result",
     "data": {
      "text/plain": "<graphviz.dot.Digraph at 0x1c8de57efd0>",
      "image/svg+xml": "<?xml version=\"1.0\" encoding=\"UTF-8\" standalone=\"no\"?>\r\n<!DOCTYPE svg PUBLIC \"-//W3C//DTD SVG 1.1//EN\"\r\n \"http://www.w3.org/Graphics/SVG/1.1/DTD/svg11.dtd\">\r\n<!-- Generated by graphviz version 2.38.0 (20140413.2041)\r\n -->\r\n<!-- Title: %3 Pages: 1 -->\r\n<svg width=\"226pt\" height=\"178pt\"\r\n viewBox=\"0.00 0.00 226.00 178.00\" xmlns=\"http://www.w3.org/2000/svg\" xmlns:xlink=\"http://www.w3.org/1999/xlink\">\r\n<g id=\"graph0\" class=\"graph\" transform=\"scale(1 1) rotate(0) translate(4 174)\">\r\n<title>%3</title>\r\n<polygon fill=\"white\" stroke=\"none\" points=\"-4,4 -4,-174 222,-174 222,4 -4,4\"/>\r\n<!-- EMPTY -->\r\n<g id=\"node1\" class=\"node\"><title>EMPTY</title>\r\n</g>\r\n<!-- I -->\r\n<g id=\"node3\" class=\"node\"><title>I</title>\r\n<ellipse fill=\"none\" stroke=\"black\" cx=\"109\" cy=\"-79\" rx=\"18\" ry=\"18\"/>\r\n<text text-anchor=\"middle\" x=\"109\" y=\"-75.3\" font-family=\"Times New Roman,serif\" font-size=\"14.00\">I</text>\r\n</g>\r\n<!-- EMPTY&#45;&gt;I -->\r\n<g id=\"edge1\" class=\"edge\"><title>EMPTY&#45;&gt;I</title>\r\n<path fill=\"none\" stroke=\"black\" d=\"M54.195,-79C62.6538,-79 72.0513,-79 80.5951,-79\"/>\r\n<polygon fill=\"black\" stroke=\"black\" points=\"80.8257,-82.5001 90.8257,-79 80.8257,-75.5001 80.8257,-82.5001\"/>\r\n</g>\r\n<!-- A -->\r\n<g id=\"node2\" class=\"node\"><title>A</title>\r\n<ellipse fill=\"none\" stroke=\"black\" cx=\"196\" cy=\"-136\" rx=\"18\" ry=\"18\"/>\r\n<text text-anchor=\"middle\" x=\"196\" y=\"-132.3\" font-family=\"Times New Roman,serif\" font-size=\"14.00\">A</text>\r\n</g>\r\n<!-- A&#45;&gt;I -->\r\n<g id=\"edge3\" class=\"edge\"><title>A&#45;&gt;I</title>\r\n<path fill=\"none\" stroke=\"black\" d=\"M178.444,-130.49C168.303,-126.696 155.332,-121.068 145,-114 139.091,-109.958 133.321,-104.84 128.226,-99.7741\"/>\r\n<polygon fill=\"black\" stroke=\"black\" points=\"130.741,-97.3401 121.305,-92.5214 125.676,-102.173 130.741,-97.3401\"/>\r\n<text text-anchor=\"middle\" x=\"150.5\" y=\"-123.8\" font-family=\"Times New Roman,serif\" font-size=\"14.00\">0 </text>\r\n</g>\r\n<!-- A&#45;&gt;I -->\r\n<g id=\"edge4\" class=\"edge\"><title>A&#45;&gt;I</title>\r\n<path fill=\"none\" stroke=\"black\" d=\"M184.409,-121.8C177.231,-113.031 167.065,-102.132 156,-95 150.123,-91.212 143.244,-88.2018 136.623,-85.8622\"/>\r\n<polygon fill=\"black\" stroke=\"black\" points=\"137.201,-82.3753 126.611,-82.722 135.106,-89.0545 137.201,-82.3753\"/>\r\n<text text-anchor=\"middle\" x=\"150.5\" y=\"-98.8\" font-family=\"Times New Roman,serif\" font-size=\"14.00\">1 </text>\r\n</g>\r\n<!-- I&#45;&gt;A -->\r\n<g id=\"edge2\" class=\"edge\"><title>I&#45;&gt;A</title>\r\n<path fill=\"none\" stroke=\"black\" d=\"M112.971,-96.7169C116.944,-114.179 125.85,-139.944 145,-152 153.157,-157.135 163.106,-155.297 171.976,-151.371\"/>\r\n<polygon fill=\"black\" stroke=\"black\" points=\"173.874,-154.326 181.041,-146.523 170.572,-148.153 173.874,-154.326\"/>\r\n<text text-anchor=\"middle\" x=\"150.5\" y=\"-158.8\" font-family=\"Times New Roman,serif\" font-size=\"14.00\">0 </text>\r\n</g>\r\n<!-- F -->\r\n<g id=\"node4\" class=\"node\"><title>F</title>\r\n<ellipse fill=\"none\" stroke=\"black\" cx=\"196\" cy=\"-22\" rx=\"18\" ry=\"18\"/>\r\n<ellipse fill=\"none\" stroke=\"black\" cx=\"196\" cy=\"-22\" rx=\"22\" ry=\"22\"/>\r\n<text text-anchor=\"middle\" x=\"196\" y=\"-18.3\" font-family=\"Times New Roman,serif\" font-size=\"14.00\">F</text>\r\n</g>\r\n<!-- I&#45;&gt;F -->\r\n<g id=\"edge5\" class=\"edge\"><title>I&#45;&gt;F</title>\r\n<path fill=\"none\" stroke=\"black\" d=\"M124.419,-69.3307C136.5,-61.2293 154.061,-49.4535 168.643,-39.6747\"/>\r\n<polygon fill=\"black\" stroke=\"black\" points=\"170.906,-42.3713 177.262,-33.8949 167.007,-36.5575 170.906,-42.3713\"/>\r\n<text text-anchor=\"middle\" x=\"150.5\" y=\"-56.8\" font-family=\"Times New Roman,serif\" font-size=\"14.00\">1 </text>\r\n</g>\r\n<!-- F&#45;&gt;I -->\r\n<g id=\"edge6\" class=\"edge\"><title>F&#45;&gt;I</title>\r\n<path fill=\"none\" stroke=\"black\" d=\"M173.78,-21.2543C164.368,-21.8217 153.521,-23.7807 145,-29 135.377,-34.8944 127.703,-44.5379 122.022,-53.791\"/>\r\n<polygon fill=\"black\" stroke=\"black\" points=\"118.833,-52.3242 117.007,-62.7607 124.942,-55.7404 118.833,-52.3242\"/>\r\n<text text-anchor=\"middle\" x=\"150.5\" y=\"-32.8\" font-family=\"Times New Roman,serif\" font-size=\"14.00\">0 </text>\r\n</g>\r\n<!-- F&#45;&gt;I -->\r\n<g id=\"edge7\" class=\"edge\"><title>F&#45;&gt;I</title>\r\n<path fill=\"none\" stroke=\"black\" d=\"M177.904,-9.06498C167.806,-3.1068 155.07,1.37668 145,-5 128.892,-15.2002 120.055,-35.0319 115.292,-51.5992\"/>\r\n<polygon fill=\"black\" stroke=\"black\" points=\"111.877,-50.825 112.824,-61.3775 118.665,-52.5381 111.877,-50.825\"/>\r\n<text text-anchor=\"middle\" x=\"150.5\" y=\"-8.8\" font-family=\"Times New Roman,serif\" font-size=\"14.00\">1 </text>\r\n</g>\r\n</g>\r\n</svg>\r\n"
     },
     "metadata": {},
     "execution_count": 13
    }
   ],
   "source": [
    "# md2mc alone produces a dict similar to Fig34, above.\n",
    "# We pass it to dotObj_dfa which prints the DFA image,\n",
    "# as shown below.\n",
    "\n",
    "dotObj_dfa(md2mc(Fig34md))"
   ]
  },
  {
   "cell_type": "code",
   "execution_count": 14,
   "metadata": {
    "run_control": {
     "frozen": false,
     "read_only": false
    }
   },
   "outputs": [
    {
     "output_type": "execute_result",
     "data": {
      "text/plain": "True"
     },
     "metadata": {},
     "execution_count": 14
    }
   ],
   "source": [
    "accepts_dfa(md2mc(Fig34md), \"10101\")"
   ]
  },
  {
   "cell_type": "markdown",
   "metadata": {
    "run_control": {
     "frozen": false,
     "read_only": false
    }
   },
   "source": [
    "# Testing acceptance in one \"go\"\n",
    "\n",
    "Generating multiple strings according to the numeric order (increasing\n",
    "lengths, with each length category exhausted before going to the next \n",
    "length category) is a handy test-input generator.\n",
    "\n",
    "Plus, the \"numeric order\" is a powerful concept which we shall use \n",
    "when we later discuss the \"dovetail enumeration\" order (in Chapter 14\n",
    "and beyond).\n"
   ]
  },
  {
   "cell_type": "code",
   "execution_count": 15,
   "metadata": {
    "run_control": {
     "frozen": false,
     "read_only": false
    }
   },
   "outputs": [],
   "source": [
    "from math import floor, log, pow\n",
    "def nthnumeric(N, S=['0','1']):\n",
    "    \"\"\"Assume S ('Sigma') is a 2-sized list of chars (default ['a','b']). \n",
    "       Produce the Nth string in numeric order, where N >= 0.\n",
    "       Idea : Given N, get b = floor(log_2(N+1)) - need that \n",
    "       many places; what to fill in the places is the binary \n",
    "       code for N - (2^b - 1) with 0 as S[0] and 1 as S[1].    \n",
    "    \"\"\"\n",
    "    assert(type(S)==list # This makes sure that the order does not flip\n",
    "          ),\"nthnumeric now expects to be given a two-element list!!\" \n",
    "    assert(len(S)==2\n",
    "          ),\"Expected to be given an S of length 2.\"\n",
    "    if(N==0):\n",
    "        return ''\n",
    "    else:\n",
    "        width = floor(log(N+1, 2))\n",
    "        tofill = int(N - pow(2, width) + 1)\n",
    "        relevant_binstr = bin(tofill)[2::] # strip the 0b \n",
    "                                           # in the leading string\n",
    "        len_to_makeup = width - len(relevant_binstr)\n",
    "        return (S[0]*len_to_makeup + \n",
    "                shomo(relevant_binstr,\n",
    "                      lambda x: S[1] if x=='1' else S[0]))"
   ]
  },
  {
   "cell_type": "code",
   "execution_count": 16,
   "metadata": {
    "run_control": {
     "frozen": false,
     "read_only": false
    }
   },
   "outputs": [
    {
     "output_type": "execute_result",
     "data": {
      "text/plain": "['',\n '0',\n '1',\n '00',\n '01',\n '10',\n '11',\n '000',\n '001',\n '010',\n '011',\n '100',\n '101',\n '110',\n '111',\n '0000',\n '0001',\n '0010',\n '0011',\n '0100']"
     },
     "metadata": {},
     "execution_count": 16
    }
   ],
   "source": [
    "[ nthnumeric(i) for i in range(20) ]"
   ]
  },
  {
   "cell_type": "markdown",
   "metadata": {
    "run_control": {
     "frozen": false,
     "read_only": false
    }
   },
   "source": [
    "# Now one can write a test loop\n",
    "\n",
    "We plow thru the first 20 numeric-order listed strings,\n",
    "and test for acceptance.\n"
   ]
  },
  {
   "cell_type": "code",
   "execution_count": 17,
   "metadata": {
    "run_control": {
     "frozen": false,
     "read_only": false
    },
    "tags": []
   },
   "outputs": [
    {
     "output_type": "stream",
     "name": "stdout",
     "text": "Fig34md DFA does not accept  \nFig34md DFA does not accept  0\nFig34md DFA accepts  1\nFig34md DFA does not accept  00\nFig34md DFA does not accept  01\nFig34md DFA does not accept  10\nFig34md DFA does not accept  11\nFig34md DFA does not accept  000\nFig34md DFA accepts  001\nFig34md DFA does not accept  010\nFig34md DFA accepts  011\nFig34md DFA does not accept  100\nFig34md DFA accepts  101\nFig34md DFA does not accept  110\nFig34md DFA accepts  111\nFig34md DFA does not accept  0000\nFig34md DFA does not accept  0001\nFig34md DFA does not accept  0010\nFig34md DFA does not accept  0011\nFig34md DFA does not accept  0100\n"
    }
   ],
   "source": [
    "for s in [ nthnumeric(i) for i in range(20) ]:\n",
    "    if accepts_dfa(md2mc(Fig34md), s):\n",
    "        print(\"Fig34md DFA accepts \", s)\n",
    "    else:\n",
    "        print(\"Fig34md DFA does not accept \", s)"
   ]
  },
  {
   "cell_type": "markdown",
   "metadata": {
    "run_control": {
     "frozen": false,
     "read_only": false
    }
   },
   "source": [
    "# Now, simply run the cells, use help\n",
    "\n",
    "Run the cell contents. At any time if you have a doubt about\n",
    "some function, say \"foo\", run the \"help(foo)\" command. Also\n",
    "refer to Appendix B of our book for a complete explanation of\n",
    "all the Jove functions.\n"
   ]
  },
  {
   "cell_type": "code",
   "execution_count": 18,
   "metadata": {
    "run_control": {
     "frozen": false,
     "read_only": false
    }
   },
   "outputs": [
    {
     "output_type": "execute_result",
     "data": {
      "text/plain": "{'Q': {'A', 'F', 'I'},\n 'Sigma': {'0', '1'},\n 'Delta': {('I', '0'): 'A',\n  ('A', '0'): 'I',\n  ('A', '1'): 'I',\n  ('I', '1'): 'F',\n  ('F', '0'): 'I',\n  ('F', '1'): 'I'},\n 'q0': 'I',\n 'F': {'F'}}"
     },
     "metadata": {},
     "execution_count": 18
    }
   ],
   "source": [
    "Fig34MC = md2mc(Fig34md)\n",
    "Fig34MC"
   ]
  },
  {
   "cell_type": "code",
   "execution_count": 19,
   "metadata": {
    "run_control": {
     "frozen": false,
     "read_only": false
    }
   },
   "outputs": [
    {
     "output_type": "execute_result",
     "data": {
      "text/plain": "True"
     },
     "metadata": {},
     "execution_count": 19
    }
   ],
   "source": [
    "is_partially_consistent_dfa(Fig34MC)"
   ]
  },
  {
   "cell_type": "code",
   "execution_count": 20,
   "metadata": {
    "run_control": {
     "frozen": false,
     "read_only": false
    }
   },
   "outputs": [
    {
     "output_type": "execute_result",
     "data": {
      "text/plain": "<graphviz.dot.Digraph at 0x1c8de552b80>",
      "image/svg+xml": "<?xml version=\"1.0\" encoding=\"UTF-8\" standalone=\"no\"?>\r\n<!DOCTYPE svg PUBLIC \"-//W3C//DTD SVG 1.1//EN\"\r\n \"http://www.w3.org/Graphics/SVG/1.1/DTD/svg11.dtd\">\r\n<!-- Generated by graphviz version 2.38.0 (20140413.2041)\r\n -->\r\n<!-- Title: %3 Pages: 1 -->\r\n<svg width=\"234pt\" height=\"177pt\"\r\n viewBox=\"0.00 0.00 234.00 177.00\" xmlns=\"http://www.w3.org/2000/svg\" xmlns:xlink=\"http://www.w3.org/1999/xlink\">\r\n<g id=\"graph0\" class=\"graph\" transform=\"scale(1 1) rotate(0) translate(4 173)\">\r\n<title>%3</title>\r\n<polygon fill=\"white\" stroke=\"none\" points=\"-4,4 -4,-173 230,-173 230,4 -4,4\"/>\r\n<!-- EMPTY -->\r\n<g id=\"node1\" class=\"node\"><title>EMPTY</title>\r\n</g>\r\n<!-- I -->\r\n<g id=\"node4\" class=\"node\"><title>I</title>\r\n<ellipse fill=\"none\" stroke=\"black\" cx=\"113\" cy=\"-79\" rx=\"18\" ry=\"18\"/>\r\n<ellipse fill=\"none\" stroke=\"black\" cx=\"113\" cy=\"-79\" rx=\"22\" ry=\"22\"/>\r\n<text text-anchor=\"middle\" x=\"113\" y=\"-75.3\" font-family=\"Times New Roman,serif\" font-size=\"14.00\">I</text>\r\n</g>\r\n<!-- EMPTY&#45;&gt;I -->\r\n<g id=\"edge1\" class=\"edge\"><title>EMPTY&#45;&gt;I</title>\r\n<path fill=\"none\" stroke=\"black\" d=\"M54.1177,-79C62.5406,-79 71.9629,-79 80.7191,-79\"/>\r\n<polygon fill=\"black\" stroke=\"black\" points=\"80.9574,-82.5001 90.9574,-79 80.9573,-75.5001 80.9574,-82.5001\"/>\r\n</g>\r\n<!-- F -->\r\n<g id=\"node2\" class=\"node\"><title>F</title>\r\n<ellipse fill=\"none\" stroke=\"black\" cx=\"204\" cy=\"-136\" rx=\"18\" ry=\"18\"/>\r\n<text text-anchor=\"middle\" x=\"204\" y=\"-132.3\" font-family=\"Times New Roman,serif\" font-size=\"14.00\">F</text>\r\n</g>\r\n<!-- F&#45;&gt;I -->\r\n<g id=\"edge6\" class=\"edge\"><title>F&#45;&gt;I</title>\r\n<path fill=\"none\" stroke=\"black\" d=\"M186.576,-130.292C176.484,-126.423 163.519,-120.786 153,-114 147.381,-110.375 141.774,-105.946 136.635,-101.475\"/>\r\n<polygon fill=\"black\" stroke=\"black\" points=\"138.757,-98.6732 129.01,-94.5209 134.04,-103.845 138.757,-98.6732\"/>\r\n<text text-anchor=\"middle\" x=\"158.5\" y=\"-122.8\" font-family=\"Times New Roman,serif\" font-size=\"14.00\">0 </text>\r\n</g>\r\n<!-- F&#45;&gt;I -->\r\n<g id=\"edge7\" class=\"edge\"><title>F&#45;&gt;I</title>\r\n<path fill=\"none\" stroke=\"black\" d=\"M192.469,-121.705C185.316,-112.899 175.153,-101.993 164,-95 158.086,-91.2916 151.234,-88.3699 144.537,-86.0963\"/>\r\n<polygon fill=\"black\" stroke=\"black\" points=\"145.544,-82.7446 134.96,-83.2126 143.526,-89.4473 145.544,-82.7446\"/>\r\n<text text-anchor=\"middle\" x=\"158.5\" y=\"-98.8\" font-family=\"Times New Roman,serif\" font-size=\"14.00\">1 </text>\r\n</g>\r\n<!-- A -->\r\n<g id=\"node3\" class=\"node\"><title>A</title>\r\n<ellipse fill=\"none\" stroke=\"black\" cx=\"204\" cy=\"-22\" rx=\"18\" ry=\"18\"/>\r\n<ellipse fill=\"none\" stroke=\"black\" cx=\"204\" cy=\"-22\" rx=\"22\" ry=\"22\"/>\r\n<text text-anchor=\"middle\" x=\"204\" y=\"-18.3\" font-family=\"Times New Roman,serif\" font-size=\"14.00\">A</text>\r\n</g>\r\n<!-- A&#45;&gt;I -->\r\n<g id=\"edge3\" class=\"edge\"><title>A&#45;&gt;I</title>\r\n<path fill=\"none\" stroke=\"black\" d=\"M181.904,-20.9295C172.518,-21.3288 161.656,-23.059 153,-28 143.489,-33.429 135.534,-42.2028 129.342,-50.9544\"/>\r\n<polygon fill=\"black\" stroke=\"black\" points=\"126.255,-49.2808 123.744,-59.5738 132.126,-53.0932 126.255,-49.2808\"/>\r\n<text text-anchor=\"middle\" x=\"158.5\" y=\"-31.8\" font-family=\"Times New Roman,serif\" font-size=\"14.00\">0 </text>\r\n</g>\r\n<!-- A&#45;&gt;I -->\r\n<g id=\"edge4\" class=\"edge\"><title>A&#45;&gt;I</title>\r\n<path fill=\"none\" stroke=\"black\" d=\"M186.037,-8.68744C175.986,-2.51468 163.252,2.2243 153,-4 137.209,-13.5871 127.518,-31.8788 121.746,-47.9973\"/>\r\n<polygon fill=\"black\" stroke=\"black\" points=\"118.369,-47.0638 118.639,-57.6552 125.033,-49.2075 118.369,-47.0638\"/>\r\n<text text-anchor=\"middle\" x=\"158.5\" y=\"-7.8\" font-family=\"Times New Roman,serif\" font-size=\"14.00\">1 </text>\r\n</g>\r\n<!-- I&#45;&gt;F -->\r\n<g id=\"edge5\" class=\"edge\"><title>I&#45;&gt;F</title>\r\n<path fill=\"none\" stroke=\"black\" d=\"M119.014,-100.482C124.302,-117.76 134.514,-140.917 153,-152 161.266,-156.956 171.235,-155.087 180.09,-151.186\"/>\r\n<polygon fill=\"black\" stroke=\"black\" points=\"181.939,-154.167 189.127,-146.383 178.654,-147.986 181.939,-154.167\"/>\r\n<text text-anchor=\"middle\" x=\"158.5\" y=\"-157.8\" font-family=\"Times New Roman,serif\" font-size=\"14.00\">1 </text>\r\n</g>\r\n<!-- I&#45;&gt;A -->\r\n<g id=\"edge2\" class=\"edge\"><title>I&#45;&gt;A</title>\r\n<path fill=\"none\" stroke=\"black\" d=\"M132.01,-67.4652C144.798,-59.2757 162.173,-48.1477 176.533,-38.9509\"/>\r\n<polygon fill=\"black\" stroke=\"black\" points=\"178.483,-41.8583 185.016,-33.5176 174.708,-35.9636 178.483,-41.8583\"/>\r\n<text text-anchor=\"middle\" x=\"158.5\" y=\"-56.8\" font-family=\"Times New Roman,serif\" font-size=\"14.00\">0 </text>\r\n</g>\r\n</g>\r\n</svg>\r\n"
     },
     "metadata": {},
     "execution_count": 20
    }
   ],
   "source": [
    "dotObj_dfa_w_bh(comp_dfa(Fig34MC))"
   ]
  },
  {
   "cell_type": "code",
   "execution_count": 21,
   "metadata": {
    "run_control": {
     "frozen": false,
     "read_only": false
    }
   },
   "outputs": [],
   "source": [
    "ev0 = md2mc('''\n",
    "DFA\n",
    "IF : 0 -> A\n",
    "A  : 0 -> IF\n",
    "''')"
   ]
  },
  {
   "cell_type": "code",
   "execution_count": 22,
   "metadata": {
    "run_control": {
     "frozen": false,
     "read_only": false
    }
   },
   "outputs": [
    {
     "output_type": "execute_result",
     "data": {
      "text/plain": "{'Q': {'A', 'IF'},\n 'Sigma': {'0'},\n 'Delta': {('IF', '0'): 'A', ('A', '0'): 'IF'},\n 'q0': 'IF',\n 'F': {'IF'}}"
     },
     "metadata": {},
     "execution_count": 22
    }
   ],
   "source": [
    "ev0"
   ]
  },
  {
   "cell_type": "code",
   "execution_count": 23,
   "metadata": {
    "run_control": {
     "frozen": false,
     "read_only": false
    }
   },
   "outputs": [],
   "source": [
    "dev0 = dotObj_dfa(ev0)"
   ]
  },
  {
   "cell_type": "code",
   "execution_count": 24,
   "metadata": {
    "run_control": {
     "frozen": false,
     "read_only": false
    }
   },
   "outputs": [
    {
     "output_type": "execute_result",
     "data": {
      "text/plain": "<graphviz.dot.Digraph at 0x1c8de2d5760>",
      "image/svg+xml": "<?xml version=\"1.0\" encoding=\"UTF-8\" standalone=\"no\"?>\r\n<!DOCTYPE svg PUBLIC \"-//W3C//DTD SVG 1.1//EN\"\r\n \"http://www.w3.org/Graphics/SVG/1.1/DTD/svg11.dtd\">\r\n<!-- Generated by graphviz version 2.38.0 (20140413.2041)\r\n -->\r\n<!-- Title: %3 Pages: 1 -->\r\n<svg width=\"228pt\" height=\"54pt\"\r\n viewBox=\"0.00 0.00 227.70 53.70\" xmlns=\"http://www.w3.org/2000/svg\" xmlns:xlink=\"http://www.w3.org/1999/xlink\">\r\n<g id=\"graph0\" class=\"graph\" transform=\"scale(1 1) rotate(0) translate(4 49.6967)\">\r\n<title>%3</title>\r\n<polygon fill=\"white\" stroke=\"none\" points=\"-4,4 -4,-49.6967 223.697,-49.6967 223.697,4 -4,4\"/>\r\n<!-- EMPTY -->\r\n<g id=\"node1\" class=\"node\"><title>EMPTY</title>\r\n</g>\r\n<!-- IF -->\r\n<g id=\"node3\" class=\"node\"><title>IF</title>\r\n<ellipse fill=\"none\" stroke=\"black\" cx=\"113.848\" cy=\"-22.8483\" rx=\"18.724\" ry=\"18.724\"/>\r\n<ellipse fill=\"none\" stroke=\"black\" cx=\"113.848\" cy=\"-22.8483\" rx=\"22.6977\" ry=\"22.6977\"/>\r\n<text text-anchor=\"middle\" x=\"113.848\" y=\"-19.1483\" font-family=\"Times New Roman,serif\" font-size=\"14.00\">IF</text>\r\n</g>\r\n<!-- EMPTY&#45;&gt;IF -->\r\n<g id=\"edge1\" class=\"edge\"><title>EMPTY&#45;&gt;IF</title>\r\n<path fill=\"none\" stroke=\"black\" d=\"M54.3814,-22.8483C62.6819,-22.8483 71.9432,-22.8483 80.6031,-22.8483\"/>\r\n<polygon fill=\"black\" stroke=\"black\" points=\"80.7631,-26.3484 90.7631,-22.8483 80.7631,-19.3484 80.7631,-26.3484\"/>\r\n</g>\r\n<!-- A -->\r\n<g id=\"node2\" class=\"node\"><title>A</title>\r\n<ellipse fill=\"none\" stroke=\"black\" cx=\"201.697\" cy=\"-22.8483\" rx=\"18\" ry=\"18\"/>\r\n<text text-anchor=\"middle\" x=\"201.697\" y=\"-19.1483\" font-family=\"Times New Roman,serif\" font-size=\"14.00\">A</text>\r\n</g>\r\n<!-- A&#45;&gt;IF -->\r\n<g id=\"edge3\" class=\"edge\"><title>A&#45;&gt;IF</title>\r\n<path fill=\"none\" stroke=\"black\" d=\"M186.385,-12.9826C180.294,-9.35485 172.934,-5.68611 165.697,-3.84833 158.161,-1.93482 150.201,-3.22788 142.874,-5.8595\"/>\r\n<polygon fill=\"black\" stroke=\"black\" points=\"141.076,-2.82899 133.373,-10.1023 143.931,-9.22068 141.076,-2.82899\"/>\r\n<text text-anchor=\"middle\" x=\"160.197\" y=\"-7.64833\" font-family=\"Times New Roman,serif\" font-size=\"14.00\">0 </text>\r\n</g>\r\n<!-- IF&#45;&gt;A -->\r\n<g id=\"edge2\" class=\"edge\"><title>IF&#45;&gt;A</title>\r\n<path fill=\"none\" stroke=\"black\" d=\"M136.956,-22.8483C148.063,-22.8483 161.623,-22.8483 173.376,-22.8483\"/>\r\n<polygon fill=\"black\" stroke=\"black\" points=\"173.54,-26.3484 183.54,-22.8483 173.54,-19.3484 173.54,-26.3484\"/>\r\n<text text-anchor=\"middle\" x=\"160.197\" y=\"-26.6483\" font-family=\"Times New Roman,serif\" font-size=\"14.00\">0 </text>\r\n</g>\r\n</g>\r\n</svg>\r\n"
     },
     "metadata": {},
     "execution_count": 24
    }
   ],
   "source": [
    "dev0"
   ]
  },
  {
   "cell_type": "markdown",
   "metadata": {
    "run_control": {
     "frozen": false,
     "read_only": false
    }
   },
   "source": [
    "# You can generate PDF out of a DFA\n",
    "\n",
    "This is one way to \"print\" a DFA as PDF. There are \n",
    "a few more such commands tucked away within Jupyter.\n"
   ]
  },
  {
   "cell_type": "code",
   "execution_count": 25,
   "metadata": {
    "run_control": {
     "frozen": false,
     "read_only": false
    }
   },
   "outputs": [
    {
     "output_type": "execute_result",
     "data": {
      "text/plain": "'dev0.pdf'"
     },
     "metadata": {},
     "execution_count": 25
    }
   ],
   "source": [
    "# Generate a PDF this way\n",
    "dev0.render('dev0')"
   ]
  },
  {
   "cell_type": "markdown",
   "metadata": {
    "run_control": {
     "frozen": false,
     "read_only": false
    }
   },
   "source": [
    "# Poke a DFA, add to its Sigma\n",
    "\n",
    "You can expand the Sigma of a DFA later on. Then\n",
    "if you totalize the DFA, you will see black-hole\n",
    "states emerging. The newly added symbols lead to\n",
    "the Black hole states, as shown below.\n"
   ]
  },
  {
   "cell_type": "code",
   "execution_count": 26,
   "metadata": {
    "run_control": {
     "frozen": false,
     "read_only": false
    }
   },
   "outputs": [],
   "source": [
    "ev0_bh =  addtosigma_dfa(ev0, set({'1'}))"
   ]
  },
  {
   "cell_type": "code",
   "execution_count": 27,
   "metadata": {
    "run_control": {
     "frozen": false,
     "read_only": false
    }
   },
   "outputs": [
    {
     "output_type": "execute_result",
     "data": {
      "text/plain": "{'Q': {'A', 'IF'},\n 'Sigma': {'0', '1'},\n 'Delta': {('IF', '0'): 'A', ('A', '0'): 'IF'},\n 'q0': 'IF',\n 'F': {'IF'}}"
     },
     "metadata": {},
     "execution_count": 27
    }
   ],
   "source": [
    "ev0_bh"
   ]
  },
  {
   "cell_type": "code",
   "execution_count": 28,
   "metadata": {
    "run_control": {
     "frozen": false,
     "read_only": false
    }
   },
   "outputs": [],
   "source": [
    "ev0_bh_totalize = totalize_dfa(ev0_bh)"
   ]
  },
  {
   "cell_type": "code",
   "execution_count": 29,
   "metadata": {
    "run_control": {
     "frozen": false,
     "read_only": false
    }
   },
   "outputs": [
    {
     "output_type": "execute_result",
     "data": {
      "text/plain": "{'Q': {'A', 'IF'},\n 'Sigma': {'0', '1'},\n 'Delta': {('IF', '0'): 'A', ('A', '0'): 'IF'},\n 'q0': 'IF',\n 'F': {'IF'}}"
     },
     "metadata": {},
     "execution_count": 29
    }
   ],
   "source": [
    "ev0_bh"
   ]
  },
  {
   "cell_type": "code",
   "execution_count": 30,
   "metadata": {
    "run_control": {
     "frozen": false,
     "read_only": false
    }
   },
   "outputs": [],
   "source": [
    "do_ev0_tot = dotObj_dfa_w_bh(ev0_bh_totalize)"
   ]
  },
  {
   "cell_type": "code",
   "execution_count": 31,
   "metadata": {
    "run_control": {
     "frozen": false,
     "read_only": false
    }
   },
   "outputs": [
    {
     "output_type": "execute_result",
     "data": {
      "text/plain": "<graphviz.dot.Digraph at 0x1c8de57e0d0>",
      "image/svg+xml": "<?xml version=\"1.0\" encoding=\"UTF-8\" standalone=\"no\"?>\r\n<!DOCTYPE svg PUBLIC \"-//W3C//DTD SVG 1.1//EN\"\r\n \"http://www.w3.org/Graphics/SVG/1.1/DTD/svg11.dtd\">\r\n<!-- Generated by graphviz version 2.38.0 (20140413.2041)\r\n -->\r\n<!-- Title: %3 Pages: 1 -->\r\n<svg width=\"320pt\" height=\"119pt\"\r\n viewBox=\"0.00 0.00 320.19 119.50\" xmlns=\"http://www.w3.org/2000/svg\" xmlns:xlink=\"http://www.w3.org/1999/xlink\">\r\n<g id=\"graph0\" class=\"graph\" transform=\"scale(1 1) rotate(0) translate(4 115.496)\">\r\n<title>%3</title>\r\n<polygon fill=\"white\" stroke=\"none\" points=\"-4,4 -4,-115.496 316.193,-115.496 316.193,4 -4,4\"/>\r\n<!-- EMPTY -->\r\n<g id=\"node1\" class=\"node\"><title>EMPTY</title>\r\n</g>\r\n<!-- IF -->\r\n<g id=\"node4\" class=\"node\"><title>IF</title>\r\n<ellipse fill=\"none\" stroke=\"black\" cx=\"113.848\" cy=\"-34.748\" rx=\"18.724\" ry=\"18.724\"/>\r\n<ellipse fill=\"none\" stroke=\"black\" cx=\"113.848\" cy=\"-34.748\" rx=\"22.6977\" ry=\"22.6977\"/>\r\n<text text-anchor=\"middle\" x=\"113.848\" y=\"-31.048\" font-family=\"Times New Roman,serif\" font-size=\"14.00\">IF</text>\r\n</g>\r\n<!-- EMPTY&#45;&gt;IF -->\r\n<g id=\"edge1\" class=\"edge\"><title>EMPTY&#45;&gt;IF</title>\r\n<path fill=\"none\" stroke=\"black\" d=\"M54.3814,-34.748C62.6819,-34.748 71.9432,-34.748 80.6031,-34.748\"/>\r\n<polygon fill=\"black\" stroke=\"black\" points=\"80.7631,-38.2481 90.7631,-34.748 80.7631,-31.2481 80.7631,-38.2481\"/>\r\n</g>\r\n<!-- A -->\r\n<g id=\"node2\" class=\"node\"><title>A</title>\r\n<ellipse fill=\"none\" stroke=\"black\" cx=\"201.697\" cy=\"-52.748\" rx=\"18\" ry=\"18\"/>\r\n<text text-anchor=\"middle\" x=\"201.697\" y=\"-49.048\" font-family=\"Times New Roman,serif\" font-size=\"14.00\">A</text>\r\n</g>\r\n<!-- BH -->\r\n<g id=\"node3\" class=\"node\"><title>BH</title>\r\n<ellipse fill=\"none\" stroke=\"black\" cx=\"289.445\" cy=\"-22.748\" rx=\"22.9987\" ry=\"22.9987\"/>\r\n<text text-anchor=\"middle\" x=\"289.445\" y=\"-19.048\" font-family=\"Times New Roman,serif\" font-size=\"14.00\">BH</text>\r\n</g>\r\n<!-- A&#45;&gt;BH -->\r\n<g id=\"edge5\" class=\"edge\"><title>A&#45;&gt;BH</title>\r\n<path fill=\"none\" stroke=\"black\" d=\"M218.825,-47.1052C229.882,-43.2369 244.89,-37.9863 258.14,-33.3504\"/>\r\n<polygon fill=\"black\" stroke=\"black\" points=\"259.553,-36.5642 267.836,-29.9582 257.241,-29.9569 259.553,-36.5642\"/>\r\n<text text-anchor=\"middle\" x=\"243.197\" y=\"-43.548\" font-family=\"Times New Roman,serif\" font-size=\"14.00\">1 </text>\r\n</g>\r\n<!-- A&#45;&gt;IF -->\r\n<g id=\"edge3\" class=\"edge\"><title>A&#45;&gt;IF</title>\r\n<path fill=\"none\" stroke=\"black\" d=\"M186.86,-42.078C180.727,-37.9985 173.209,-33.8287 165.697,-31.748 159.691,-30.0845 153.139,-29.5642 146.796,-29.6837\"/>\r\n<polygon fill=\"black\" stroke=\"black\" points=\"146.187,-26.2174 136.453,-30.4 146.671,-33.2007 146.187,-26.2174\"/>\r\n<text text-anchor=\"middle\" x=\"160.197\" y=\"-35.548\" font-family=\"Times New Roman,serif\" font-size=\"14.00\">0 </text>\r\n</g>\r\n<!-- BH&#45;&gt;BH -->\r\n<g id=\"edge6\" class=\"edge\"><title>BH&#45;&gt;BH</title>\r\n<path fill=\"none\" stroke=\"black\" d=\"M285.184,-45.3757C284.835,-55.1378 286.255,-63.496 289.445,-63.496 291.438,-63.496 292.74,-60.231 293.352,-55.399\"/>\r\n<polygon fill=\"black\" stroke=\"black\" points=\"296.85,-55.493 293.706,-45.3757 289.855,-55.2459 296.85,-55.493\"/>\r\n<text text-anchor=\"middle\" x=\"289.445\" y=\"-67.296\" font-family=\"Times New Roman,serif\" font-size=\"14.00\">0 </text>\r\n</g>\r\n<!-- BH&#45;&gt;BH -->\r\n<g id=\"edge7\" class=\"edge\"><title>BH&#45;&gt;BH</title>\r\n<path fill=\"none\" stroke=\"black\" d=\"M282.136,-44.4399C279.012,-62.5611 281.449,-81.496 289.445,-81.496 295.941,-81.496 298.768,-68.996 297.924,-54.5887\"/>\r\n<polygon fill=\"black\" stroke=\"black\" points=\"301.376,-53.973 296.754,-44.4399 294.423,-54.7751 301.376,-53.973\"/>\r\n<text text-anchor=\"middle\" x=\"289.445\" y=\"-85.296\" font-family=\"Times New Roman,serif\" font-size=\"14.00\">1 </text>\r\n</g>\r\n<!-- IF&#45;&gt;A -->\r\n<g id=\"edge2\" class=\"edge\"><title>IF&#45;&gt;A</title>\r\n<path fill=\"none\" stroke=\"black\" d=\"M134.702,-44.252C140.961,-46.8271 147.993,-49.3006 154.697,-50.748 160.703,-52.0448 167.251,-52.7432 173.472,-53.0855\"/>\r\n<polygon fill=\"black\" stroke=\"black\" points=\"173.387,-56.5844 183.482,-53.3683 173.585,-49.5872 173.387,-56.5844\"/>\r\n<text text-anchor=\"middle\" x=\"160.197\" y=\"-55.548\" font-family=\"Times New Roman,serif\" font-size=\"14.00\">0 </text>\r\n</g>\r\n<!-- IF&#45;&gt;BH -->\r\n<g id=\"edge4\" class=\"edge\"><title>IF&#45;&gt;BH</title>\r\n<path fill=\"none\" stroke=\"black\" d=\"M134.861,-25.7658C148.353,-20.2155 166.723,-13.6216 183.697,-10.748 208.245,-6.59197 236.278,-10.24 257.163,-14.5724\"/>\r\n<polygon fill=\"black\" stroke=\"black\" points=\"256.562,-18.0244 267.085,-16.7926 258.09,-11.1934 256.562,-18.0244\"/>\r\n<text text-anchor=\"middle\" x=\"201.697\" y=\"-14.548\" font-family=\"Times New Roman,serif\" font-size=\"14.00\">1 </text>\r\n</g>\r\n</g>\r\n</svg>\r\n"
     },
     "metadata": {},
     "execution_count": 31
    }
   ],
   "source": [
    "do_ev0_tot"
   ]
  },
  {
   "cell_type": "code",
   "execution_count": 32,
   "metadata": {
    "run_control": {
     "frozen": false,
     "read_only": false
    }
   },
   "outputs": [
    {
     "output_type": "execute_result",
     "data": {
      "text/plain": "<graphviz.dot.Digraph at 0x1c8de2cf370>",
      "image/svg+xml": "<?xml version=\"1.0\" encoding=\"UTF-8\" standalone=\"no\"?>\r\n<!DOCTYPE svg PUBLIC \"-//W3C//DTD SVG 1.1//EN\"\r\n \"http://www.w3.org/Graphics/SVG/1.1/DTD/svg11.dtd\">\r\n<!-- Generated by graphviz version 2.38.0 (20140413.2041)\r\n -->\r\n<!-- Title: %3 Pages: 1 -->\r\n<svg width=\"320pt\" height=\"101pt\"\r\n viewBox=\"0.00 0.00 320.19 101.50\" xmlns=\"http://www.w3.org/2000/svg\" xmlns:xlink=\"http://www.w3.org/1999/xlink\">\r\n<g id=\"graph0\" class=\"graph\" transform=\"scale(1 1) rotate(0) translate(4 97.496)\">\r\n<title>%3</title>\r\n<polygon fill=\"white\" stroke=\"none\" points=\"-4,4 -4,-97.496 316.193,-97.496 316.193,4 -4,4\"/>\r\n<!-- EMPTY -->\r\n<g id=\"node1\" class=\"node\"><title>EMPTY</title>\r\n</g>\r\n<!-- IF -->\r\n<g id=\"node4\" class=\"node\"><title>IF</title>\r\n<ellipse fill=\"none\" stroke=\"black\" cx=\"113.848\" cy=\"-34.748\" rx=\"18.724\" ry=\"18.724\"/>\r\n<ellipse fill=\"none\" stroke=\"black\" cx=\"113.848\" cy=\"-34.748\" rx=\"22.6977\" ry=\"22.6977\"/>\r\n<text text-anchor=\"middle\" x=\"113.848\" y=\"-31.048\" font-family=\"Times New Roman,serif\" font-size=\"14.00\">IF</text>\r\n</g>\r\n<!-- EMPTY&#45;&gt;IF -->\r\n<g id=\"edge1\" class=\"edge\"><title>EMPTY&#45;&gt;IF</title>\r\n<path fill=\"none\" stroke=\"black\" d=\"M54.3814,-34.748C62.6819,-34.748 71.9432,-34.748 80.6031,-34.748\"/>\r\n<polygon fill=\"black\" stroke=\"black\" points=\"80.7631,-38.2481 90.7631,-34.748 80.7631,-31.2481 80.7631,-38.2481\"/>\r\n</g>\r\n<!-- A -->\r\n<g id=\"node2\" class=\"node\"><title>A</title>\r\n<ellipse fill=\"none\" stroke=\"black\" cx=\"201.697\" cy=\"-52.748\" rx=\"18\" ry=\"18\"/>\r\n<text text-anchor=\"middle\" x=\"201.697\" y=\"-49.048\" font-family=\"Times New Roman,serif\" font-size=\"14.00\">A</text>\r\n</g>\r\n<!-- BH -->\r\n<g id=\"node3\" class=\"node\"><title>BH</title>\r\n<ellipse fill=\"none\" stroke=\"black\" cx=\"289.445\" cy=\"-22.748\" rx=\"22.9987\" ry=\"22.9987\"/>\r\n<text text-anchor=\"middle\" x=\"289.445\" y=\"-19.048\" font-family=\"Times New Roman,serif\" font-size=\"14.00\">BH</text>\r\n</g>\r\n<!-- A&#45;&gt;BH -->\r\n<g id=\"edge5\" class=\"edge\"><title>A&#45;&gt;BH</title>\r\n<path fill=\"none\" stroke=\"black\" d=\"M218.825,-47.1052C229.882,-43.2369 244.89,-37.9863 258.14,-33.3504\"/>\r\n<polygon fill=\"black\" stroke=\"black\" points=\"259.553,-36.5642 267.836,-29.9582 257.241,-29.9569 259.553,-36.5642\"/>\r\n<text text-anchor=\"middle\" x=\"243.197\" y=\"-43.548\" font-family=\"Times New Roman,serif\" font-size=\"14.00\">1 </text>\r\n</g>\r\n<!-- A&#45;&gt;IF -->\r\n<g id=\"edge3\" class=\"edge\"><title>A&#45;&gt;IF</title>\r\n<path fill=\"none\" stroke=\"black\" d=\"M186.86,-42.078C180.727,-37.9985 173.209,-33.8287 165.697,-31.748 159.691,-30.0845 153.139,-29.5642 146.796,-29.6837\"/>\r\n<polygon fill=\"black\" stroke=\"black\" points=\"146.187,-26.2174 136.453,-30.4 146.671,-33.2007 146.187,-26.2174\"/>\r\n<text text-anchor=\"middle\" x=\"160.197\" y=\"-35.548\" font-family=\"Times New Roman,serif\" font-size=\"14.00\">0 </text>\r\n</g>\r\n<!-- BH&#45;&gt;BH -->\r\n<g id=\"edge6\" class=\"edge\"><title>BH&#45;&gt;BH</title>\r\n<path fill=\"none\" stroke=\"black\" d=\"M281.03,-44.1313C279.991,-54.4165 282.796,-63.496 289.445,-63.496 293.704,-63.496 296.386,-59.7698 297.49,-54.3874\"/>\r\n<polygon fill=\"black\" stroke=\"black\" points=\"300.997,-54.2507 297.859,-44.1313 294.001,-53.9988 300.997,-54.2507\"/>\r\n<text text-anchor=\"middle\" x=\"289.445\" y=\"-82.296\" font-family=\"Times New Roman,serif\" font-size=\"14.00\">0 </text>\r\n<text text-anchor=\"middle\" x=\"289.445\" y=\"-67.296\" font-family=\"Times New Roman,serif\" font-size=\"14.00\"> 1 </text>\r\n</g>\r\n<!-- IF&#45;&gt;A -->\r\n<g id=\"edge2\" class=\"edge\"><title>IF&#45;&gt;A</title>\r\n<path fill=\"none\" stroke=\"black\" d=\"M134.702,-44.252C140.961,-46.8271 147.993,-49.3006 154.697,-50.748 160.703,-52.0448 167.251,-52.7432 173.472,-53.0855\"/>\r\n<polygon fill=\"black\" stroke=\"black\" points=\"173.387,-56.5844 183.482,-53.3683 173.585,-49.5872 173.387,-56.5844\"/>\r\n<text text-anchor=\"middle\" x=\"160.197\" y=\"-55.548\" font-family=\"Times New Roman,serif\" font-size=\"14.00\">0 </text>\r\n</g>\r\n<!-- IF&#45;&gt;BH -->\r\n<g id=\"edge4\" class=\"edge\"><title>IF&#45;&gt;BH</title>\r\n<path fill=\"none\" stroke=\"black\" d=\"M134.861,-25.7658C148.353,-20.2155 166.723,-13.6216 183.697,-10.748 208.245,-6.59197 236.278,-10.24 257.163,-14.5724\"/>\r\n<polygon fill=\"black\" stroke=\"black\" points=\"256.562,-18.0244 267.085,-16.7926 258.09,-11.1934 256.562,-18.0244\"/>\r\n<text text-anchor=\"middle\" x=\"201.697\" y=\"-14.548\" font-family=\"Times New Roman,serif\" font-size=\"14.00\">1 </text>\r\n</g>\r\n</g>\r\n</svg>\r\n"
     },
     "metadata": {},
     "execution_count": 32
    }
   ],
   "source": [
    "dotObj_dfa_w_bh(ev0_bh_totalize, FuseEdges=True)"
   ]
  },
  {
   "cell_type": "markdown",
   "metadata": {
    "run_control": {
     "frozen": false,
     "read_only": false
    }
   },
   "source": [
    "<span style=\"color:blue\"> **We can now write routines to print DFA using dot. The main routines are listed below.** </span>\n",
    "\n",
    "* dot_dfa_w_bh : lists all states of a DFA including black-hole states\n",
    "* dot_dfa      : lists all isNotBH states (see below for a defn), i.e. suppress black-holes\n",
    "     - Usually there are too many transitions to them and that clutters the view\n",
    "     "
   ]
  },
  {
   "cell_type": "code",
   "execution_count": 33,
   "metadata": {
    "run_control": {
     "frozen": false,
     "read_only": false
    }
   },
   "outputs": [
    {
     "output_type": "execute_result",
     "data": {
      "text/plain": "<graphviz.dot.Digraph at 0x1c8de57e280>",
      "image/svg+xml": "<?xml version=\"1.0\" encoding=\"UTF-8\" standalone=\"no\"?>\r\n<!DOCTYPE svg PUBLIC \"-//W3C//DTD SVG 1.1//EN\"\r\n \"http://www.w3.org/Graphics/SVG/1.1/DTD/svg11.dtd\">\r\n<!-- Generated by graphviz version 2.38.0 (20140413.2041)\r\n -->\r\n<!-- Title: %3 Pages: 1 -->\r\n<svg width=\"338pt\" height=\"197pt\"\r\n viewBox=\"0.00 0.00 337.69 197.50\" xmlns=\"http://www.w3.org/2000/svg\" xmlns:xlink=\"http://www.w3.org/1999/xlink\">\r\n<g id=\"graph0\" class=\"graph\" transform=\"scale(1 1) rotate(0) translate(4 193.496)\">\r\n<title>%3</title>\r\n<polygon fill=\"white\" stroke=\"none\" points=\"-4,4 -4,-193.496 333.689,-193.496 333.689,4 -4,4\"/>\r\n<!-- EMPTY -->\r\n<g id=\"node1\" class=\"node\"><title>EMPTY</title>\r\n</g>\r\n<!-- IF -->\r\n<g id=\"node5\" class=\"node\"><title>IF</title>\r\n<ellipse fill=\"none\" stroke=\"black\" cx=\"113.848\" cy=\"-82.7982\" rx=\"18.724\" ry=\"18.724\"/>\r\n<ellipse fill=\"none\" stroke=\"black\" cx=\"113.848\" cy=\"-82.7982\" rx=\"22.6977\" ry=\"22.6977\"/>\r\n<text text-anchor=\"middle\" x=\"113.848\" y=\"-79.0982\" font-family=\"Times New Roman,serif\" font-size=\"14.00\">IF</text>\r\n</g>\r\n<!-- EMPTY&#45;&gt;IF -->\r\n<g id=\"edge1\" class=\"edge\"><title>EMPTY&#45;&gt;IF</title>\r\n<path fill=\"none\" stroke=\"black\" d=\"M54.3814,-82.7982C62.6819,-82.7982 71.9432,-82.7982 80.6031,-82.7982\"/>\r\n<polygon fill=\"black\" stroke=\"black\" points=\"80.7631,-86.2983 90.7631,-82.7982 80.7631,-79.2983 80.7631,-86.2983\"/>\r\n</g>\r\n<!-- S10 -->\r\n<g id=\"node2\" class=\"node\"><title>S10</title>\r\n<ellipse fill=\"none\" stroke=\"black\" cx=\"304.991\" cy=\"-25.7982\" rx=\"24.8972\" ry=\"24.8972\"/>\r\n<text text-anchor=\"middle\" x=\"304.991\" y=\"-22.0982\" font-family=\"Times New Roman,serif\" font-size=\"14.00\">S10</text>\r\n</g>\r\n<!-- S10&#45;&gt;S10 -->\r\n<g id=\"edge10\" class=\"edge\"><title>S10&#45;&gt;S10</title>\r\n<path fill=\"none\" stroke=\"black\" d=\"M296.131,-49.0755C295.288,-59.4894 298.241,-68.496 304.991,-68.496 309.315,-68.496 312.081,-64.7997 313.289,-59.405\"/>\r\n<polygon fill=\"black\" stroke=\"black\" points=\"316.802,-59.2508 313.85,-49.0755 309.812,-58.8708 316.802,-59.2508\"/>\r\n<text text-anchor=\"middle\" x=\"304.991\" y=\"-72.296\" font-family=\"Times New Roman,serif\" font-size=\"14.00\">0 </text>\r\n</g>\r\n<!-- F1 -->\r\n<g id=\"node6\" class=\"node\"><title>F1</title>\r\n<ellipse fill=\"none\" stroke=\"black\" cx=\"208.495\" cy=\"-24.7982\" rx=\"20.6302\" ry=\"20.6302\"/>\r\n<ellipse fill=\"none\" stroke=\"black\" cx=\"208.495\" cy=\"-24.7982\" rx=\"24.5979\" ry=\"24.5979\"/>\r\n<text text-anchor=\"middle\" x=\"208.495\" y=\"-21.0982\" font-family=\"Times New Roman,serif\" font-size=\"14.00\">F1</text>\r\n</g>\r\n<!-- S10&#45;&gt;F1 -->\r\n<g id=\"edge11\" class=\"edge\"><title>S10&#45;&gt;F1</title>\r\n<path fill=\"none\" stroke=\"black\" d=\"M282.355,-15.7762C276.026,-13.3202 269.002,-11.0412 262.293,-9.79815 255.242,-8.49187 247.775,-9.2496 240.744,-10.9708\"/>\r\n<polygon fill=\"black\" stroke=\"black\" points=\"239.362,-7.73567 230.857,-14.0537 241.445,-14.4184 239.362,-7.73567\"/>\r\n<text text-anchor=\"middle\" x=\"256.793\" y=\"-13.5982\" font-family=\"Times New Roman,serif\" font-size=\"14.00\">1 </text>\r\n</g>\r\n<!-- S01 -->\r\n<g id=\"node3\" class=\"node\"><title>S01</title>\r\n<ellipse fill=\"none\" stroke=\"black\" cx=\"304.991\" cy=\"-131.798\" rx=\"24.8972\" ry=\"24.8972\"/>\r\n<text text-anchor=\"middle\" x=\"304.991\" y=\"-128.098\" font-family=\"Times New Roman,serif\" font-size=\"14.00\">S01</text>\r\n</g>\r\n<!-- S01&#45;&gt;S01 -->\r\n<g id=\"edge6\" class=\"edge\"><title>S01&#45;&gt;S01</title>\r\n<path fill=\"none\" stroke=\"black\" d=\"M296.131,-155.076C295.288,-165.489 298.241,-174.496 304.991,-174.496 309.315,-174.496 312.081,-170.8 313.289,-165.405\"/>\r\n<polygon fill=\"black\" stroke=\"black\" points=\"316.802,-165.251 313.85,-155.076 309.812,-164.871 316.802,-165.251\"/>\r\n<text text-anchor=\"middle\" x=\"304.991\" y=\"-178.296\" font-family=\"Times New Roman,serif\" font-size=\"14.00\">1 </text>\r\n</g>\r\n<!-- F0 -->\r\n<g id=\"node4\" class=\"node\"><title>F0</title>\r\n<ellipse fill=\"none\" stroke=\"black\" cx=\"208.495\" cy=\"-125.798\" rx=\"20.6302\" ry=\"20.6302\"/>\r\n<ellipse fill=\"none\" stroke=\"black\" cx=\"208.495\" cy=\"-125.798\" rx=\"24.5979\" ry=\"24.5979\"/>\r\n<text text-anchor=\"middle\" x=\"208.495\" y=\"-122.098\" font-family=\"Times New Roman,serif\" font-size=\"14.00\">F0</text>\r\n</g>\r\n<!-- S01&#45;&gt;F0 -->\r\n<g id=\"edge7\" class=\"edge\"><title>S01&#45;&gt;F0</title>\r\n<path fill=\"none\" stroke=\"black\" d=\"M284.072,-118.152C277.44,-114.352 269.819,-110.736 262.293,-108.798 254.92,-106.9 247.065,-107.795 239.729,-109.94\"/>\r\n<polygon fill=\"black\" stroke=\"black\" points=\"238.302,-106.737 230.142,-113.494 240.735,-113.3 238.302,-106.737\"/>\r\n<text text-anchor=\"middle\" x=\"256.793\" y=\"-112.598\" font-family=\"Times New Roman,serif\" font-size=\"14.00\">0 </text>\r\n</g>\r\n<!-- F0&#45;&gt;S01 -->\r\n<g id=\"edge5\" class=\"edge\"><title>F0&#45;&gt;S01</title>\r\n<path fill=\"none\" stroke=\"black\" d=\"M233.34,-127.312C244.42,-128.016 257.796,-128.865 269.915,-129.635\"/>\r\n<polygon fill=\"black\" stroke=\"black\" points=\"269.951,-133.144 280.153,-130.285 270.395,-126.158 269.951,-133.144\"/>\r\n<text text-anchor=\"middle\" x=\"256.793\" y=\"-132.598\" font-family=\"Times New Roman,serif\" font-size=\"14.00\">1 </text>\r\n</g>\r\n<!-- F0&#45;&gt;F0 -->\r\n<g id=\"edge4\" class=\"edge\"><title>F0&#45;&gt;F0</title>\r\n<path fill=\"none\" stroke=\"black\" d=\"M199.635,-149.13C198.792,-159.569 201.745,-168.596 208.495,-168.596 212.819,-168.596 215.585,-164.891 216.793,-159.484\"/>\r\n<polygon fill=\"black\" stroke=\"black\" points=\"220.308,-159.305 217.354,-149.13 213.318,-158.926 220.308,-159.305\"/>\r\n<text text-anchor=\"middle\" x=\"208.495\" y=\"-172.396\" font-family=\"Times New Roman,serif\" font-size=\"14.00\">0 </text>\r\n</g>\r\n<!-- IF&#45;&gt;F0 -->\r\n<g id=\"edge2\" class=\"edge\"><title>IF&#45;&gt;F0</title>\r\n<path fill=\"none\" stroke=\"black\" d=\"M134.951,-92.1285C147.145,-97.788 162.953,-105.125 176.699,-111.505\"/>\r\n<polygon fill=\"black\" stroke=\"black\" points=\"175.271,-114.701 185.815,-115.736 178.218,-108.351 175.271,-114.701\"/>\r\n<text text-anchor=\"middle\" x=\"160.197\" y=\"-109.598\" font-family=\"Times New Roman,serif\" font-size=\"14.00\">0 </text>\r\n</g>\r\n<!-- IF&#45;&gt;F1 -->\r\n<g id=\"edge3\" class=\"edge\"><title>IF&#45;&gt;F1</title>\r\n<path fill=\"none\" stroke=\"black\" d=\"M133.597,-71.061C146.47,-63.0019 163.81,-52.1463 178.458,-42.9761\"/>\r\n<polygon fill=\"black\" stroke=\"black\" points=\"180.548,-45.7972 187.167,-37.5243 176.833,-39.864 180.548,-45.7972\"/>\r\n<text text-anchor=\"middle\" x=\"160.197\" y=\"-61.5982\" font-family=\"Times New Roman,serif\" font-size=\"14.00\">1 </text>\r\n</g>\r\n<!-- F1&#45;&gt;S10 -->\r\n<g id=\"edge9\" class=\"edge\"><title>F1&#45;&gt;S10</title>\r\n<path fill=\"none\" stroke=\"black\" d=\"M233.339,-27.4761C239.201,-28.0252 245.468,-28.5201 251.293,-28.7982 257.391,-29.0893 263.885,-29.0257 270.155,-28.7723\"/>\r\n<polygon fill=\"black\" stroke=\"black\" points=\"270.599,-32.2529 280.386,-28.1957 270.205,-25.264 270.599,-32.2529\"/>\r\n<text text-anchor=\"middle\" x=\"256.793\" y=\"-33.5982\" font-family=\"Times New Roman,serif\" font-size=\"14.00\">0 </text>\r\n</g>\r\n<!-- F1&#45;&gt;F1 -->\r\n<g id=\"edge8\" class=\"edge\"><title>F1&#45;&gt;F1</title>\r\n<path fill=\"none\" stroke=\"black\" d=\"M199.635,-48.1303C198.792,-58.5686 201.745,-67.5963 208.495,-67.5963 212.819,-67.5963 215.585,-63.8913 216.793,-58.484\"/>\r\n<polygon fill=\"black\" stroke=\"black\" points=\"220.308,-58.3051 217.354,-48.1303 213.318,-57.926 220.308,-58.3051\"/>\r\n<text text-anchor=\"middle\" x=\"208.495\" y=\"-71.3963\" font-family=\"Times New Roman,serif\" font-size=\"14.00\">1 </text>\r\n</g>\r\n</g>\r\n</svg>\r\n"
     },
     "metadata": {},
     "execution_count": 33
    }
   ],
   "source": [
    "dfaBESame = md2mc('''\n",
    "DFA !! Begins and ends with same; epsilon allowed\n",
    "IF  : 0 -> F0\n",
    "IF  : 1 -> F1\n",
    "!!\n",
    "F0  : 0 -> F0\n",
    "F0  : 1 -> S01\n",
    "S01 : 1 -> S01\n",
    "S01 : 0 -> F0\n",
    "!!\n",
    "F1  : 1 -> F1\n",
    "F1  : 0 -> S10\n",
    "S10 : 0 -> S10\n",
    "S10 : 1 -> F1\n",
    "''')\n",
    "DOdfaBESame = dotObj_dfa(dfaBESame)\n",
    "DOdfaBESame"
   ]
  },
  {
   "cell_type": "markdown",
   "metadata": {
    "run_control": {
     "frozen": false,
     "read_only": false
    }
   },
   "source": [
    "## Let us now administer some tests to print dot-strings generated.\n",
    "\n",
    "We will demonstrate two ways to print automata: \n",
    "\n",
    "1. First generate a dot string via dot_dfa or dot_dfa_w_bh\n",
    "   (calling the result \"dot_string\") \n",
    "   1. Then use the srcObj = Source(dot_string) call\n",
    "   2. Thereafter we can display the srcObj object directly into the browser\n",
    "   3. Or, one can also later convert the dot_string to svg or PDF\n",
    "2. OR, one can directly generate a dot object via the dotObj_dfa or dotObj_dfa_w_bh call\n",
    "   (calling the result \"dot_object\")\n",
    "   1. Then directly display the dot_object\n",
    "   2. There are conversions available for dot_object to other formats too"
   ]
  },
  {
   "cell_type": "markdown",
   "metadata": {
    "run_control": {
     "frozen": false,
     "read_only": false
    }
   },
   "source": [
    "# One can read DFAs from files"
   ]
  },
  {
   "cell_type": "code",
   "execution_count": 34,
   "metadata": {
    "run_control": {
     "frozen": false,
     "read_only": false
    }
   },
   "outputs": [],
   "source": [
    "dped1 = md2mc(src=\"File\", fname=\"./pedagogical1.dfa\")\n",
    "#machines/dfafiles/pedagogical1.dfa"
   ]
  },
  {
   "cell_type": "code",
   "execution_count": 35,
   "metadata": {
    "run_control": {
     "frozen": false,
     "read_only": false
    }
   },
   "outputs": [
    {
     "output_type": "execute_result",
     "data": {
      "text/plain": "{'Q': {'A', 'B', 'F', 'IF'},\n 'Sigma': {'0', '1'},\n 'Delta': {('IF', '0'): 'A',\n  ('IF', '1'): 'B',\n  ('A', '0'): 'B',\n  ('A', '1'): 'B',\n  ('B', '1'): 'F',\n  ('B', '0'): 'IF',\n  ('F', '0'): 'B',\n  ('F', '1'): 'B'},\n 'q0': 'IF',\n 'F': {'F', 'IF'}}"
     },
     "metadata": {},
     "execution_count": 35
    }
   ],
   "source": [
    "dped1"
   ]
  },
  {
   "cell_type": "code",
   "execution_count": 36,
   "metadata": {
    "run_control": {
     "frozen": false,
     "read_only": false
    }
   },
   "outputs": [
    {
     "output_type": "execute_result",
     "data": {
      "text/plain": "<graphviz.dot.Digraph at 0x1c8de548f40>",
      "image/svg+xml": "<?xml version=\"1.0\" encoding=\"UTF-8\" standalone=\"no\"?>\r\n<!DOCTYPE svg PUBLIC \"-//W3C//DTD SVG 1.1//EN\"\r\n \"http://www.w3.org/Graphics/SVG/1.1/DTD/svg11.dtd\">\r\n<!-- Generated by graphviz version 2.38.0 (20140413.2041)\r\n -->\r\n<!-- Title: %3 Pages: 1 -->\r\n<svg width=\"402pt\" height=\"115pt\"\r\n viewBox=\"0.00 0.00 401.70 115.00\" xmlns=\"http://www.w3.org/2000/svg\" xmlns:xlink=\"http://www.w3.org/1999/xlink\">\r\n<g id=\"graph0\" class=\"graph\" transform=\"scale(1 1) rotate(0) translate(4 111)\">\r\n<title>%3</title>\r\n<polygon fill=\"white\" stroke=\"none\" points=\"-4,4 -4,-111 397.697,-111 397.697,4 -4,4\"/>\r\n<!-- EMPTY -->\r\n<g id=\"node1\" class=\"node\"><title>EMPTY</title>\r\n</g>\r\n<!-- IF -->\r\n<g id=\"node5\" class=\"node\"><title>IF</title>\r\n<ellipse fill=\"none\" stroke=\"black\" cx=\"113.848\" cy=\"-72\" rx=\"18.724\" ry=\"18.724\"/>\r\n<ellipse fill=\"none\" stroke=\"black\" cx=\"113.848\" cy=\"-72\" rx=\"22.6977\" ry=\"22.6977\"/>\r\n<text text-anchor=\"middle\" x=\"113.848\" y=\"-68.3\" font-family=\"Times New Roman,serif\" font-size=\"14.00\">IF</text>\r\n</g>\r\n<!-- EMPTY&#45;&gt;IF -->\r\n<g id=\"edge1\" class=\"edge\"><title>EMPTY&#45;&gt;IF</title>\r\n<path fill=\"none\" stroke=\"black\" d=\"M54.3814,-72C62.6819,-72 71.9432,-72 80.6031,-72\"/>\r\n<polygon fill=\"black\" stroke=\"black\" points=\"80.7631,-75.5001 90.7631,-72 80.7631,-68.5001 80.7631,-75.5001\"/>\r\n</g>\r\n<!-- A -->\r\n<g id=\"node2\" class=\"node\"><title>A</title>\r\n<ellipse fill=\"none\" stroke=\"black\" cx=\"201.697\" cy=\"-18\" rx=\"18\" ry=\"18\"/>\r\n<text text-anchor=\"middle\" x=\"201.697\" y=\"-14.3\" font-family=\"Times New Roman,serif\" font-size=\"14.00\">A</text>\r\n</g>\r\n<!-- B -->\r\n<g id=\"node3\" class=\"node\"><title>B</title>\r\n<ellipse fill=\"none\" stroke=\"black\" cx=\"284.697\" cy=\"-57\" rx=\"18\" ry=\"18\"/>\r\n<text text-anchor=\"middle\" x=\"284.697\" y=\"-53.3\" font-family=\"Times New Roman,serif\" font-size=\"14.00\">B</text>\r\n</g>\r\n<!-- A&#45;&gt;B -->\r\n<g id=\"edge4\" class=\"edge\"><title>A&#45;&gt;B</title>\r\n<path fill=\"none\" stroke=\"black\" d=\"M218.314,-25.5196C229.856,-31.0768 245.8,-38.7534 259.053,-45.1347\"/>\r\n<polygon fill=\"black\" stroke=\"black\" points=\"257.599,-48.3188 268.127,-49.5035 260.635,-42.0118 257.599,-48.3188\"/>\r\n<text text-anchor=\"middle\" x=\"243.197\" y=\"-43.8\" font-family=\"Times New Roman,serif\" font-size=\"14.00\">0 </text>\r\n</g>\r\n<!-- A&#45;&gt;B -->\r\n<g id=\"edge5\" class=\"edge\"><title>A&#45;&gt;B</title>\r\n<path fill=\"none\" stroke=\"black\" d=\"M219.58,-14.212C228.602,-13.0138 239.677,-12.907 248.697,-17 256.496,-20.5389 263.24,-26.7694 268.669,-33.2747\"/>\r\n<polygon fill=\"black\" stroke=\"black\" points=\"266.023,-35.5802 274.824,-41.4798 271.623,-31.3799 266.023,-35.5802\"/>\r\n<text text-anchor=\"middle\" x=\"243.197\" y=\"-20.8\" font-family=\"Times New Roman,serif\" font-size=\"14.00\">1 </text>\r\n</g>\r\n<!-- F -->\r\n<g id=\"node4\" class=\"node\"><title>F</title>\r\n<ellipse fill=\"none\" stroke=\"black\" cx=\"371.697\" cy=\"-57\" rx=\"18\" ry=\"18\"/>\r\n<ellipse fill=\"none\" stroke=\"black\" cx=\"371.697\" cy=\"-57\" rx=\"22\" ry=\"22\"/>\r\n<text text-anchor=\"middle\" x=\"371.697\" y=\"-53.3\" font-family=\"Times New Roman,serif\" font-size=\"14.00\">F</text>\r\n</g>\r\n<!-- B&#45;&gt;F -->\r\n<g id=\"edge6\" class=\"edge\"><title>B&#45;&gt;F</title>\r\n<path fill=\"none\" stroke=\"black\" d=\"M300.88,-65.6602C306.858,-68.6039 313.907,-71.5217 320.697,-73 328.044,-74.5997 335.848,-73.5067 343.052,-71.2903\"/>\r\n<polygon fill=\"black\" stroke=\"black\" points=\"344.311,-74.5563 352.404,-67.7191 341.813,-68.0168 344.311,-74.5563\"/>\r\n<text text-anchor=\"middle\" x=\"326.197\" y=\"-76.8\" font-family=\"Times New Roman,serif\" font-size=\"14.00\">1 </text>\r\n</g>\r\n<!-- B&#45;&gt;IF -->\r\n<g id=\"edge7\" class=\"edge\"><title>B&#45;&gt;IF</title>\r\n<path fill=\"none\" stroke=\"black\" d=\"M266.719,-58.5082C238.849,-60.9842 182.938,-65.9511 147.284,-69.1185\"/>\r\n<polygon fill=\"black\" stroke=\"black\" points=\"146.573,-65.6678 136.922,-70.039 147.193,-72.6403 146.573,-65.6678\"/>\r\n<text text-anchor=\"middle\" x=\"201.697\" y=\"-68.8\" font-family=\"Times New Roman,serif\" font-size=\"14.00\">0 </text>\r\n</g>\r\n<!-- F&#45;&gt;B -->\r\n<g id=\"edge8\" class=\"edge\"><title>F&#45;&gt;B</title>\r\n<path fill=\"none\" stroke=\"black\" d=\"M349.783,-54.7867C340.829,-54.0876 330.254,-53.5912 320.697,-54 318.138,-54.1095 315.476,-54.2638 312.815,-54.4453\"/>\r\n<polygon fill=\"black\" stroke=\"black\" points=\"312.459,-50.9623 302.768,-55.2425 313.013,-57.9404 312.459,-50.9623\"/>\r\n<text text-anchor=\"middle\" x=\"326.197\" y=\"-57.8\" font-family=\"Times New Roman,serif\" font-size=\"14.00\">0 </text>\r\n</g>\r\n<!-- F&#45;&gt;B -->\r\n<g id=\"edge9\" class=\"edge\"><title>F&#45;&gt;B</title>\r\n<path fill=\"none\" stroke=\"black\" d=\"M354.485,-42.871C344.914,-36.2446 332.414,-30.4946 320.697,-34 316.186,-35.3494 311.718,-37.4875 307.56,-39.9291\"/>\r\n<polygon fill=\"black\" stroke=\"black\" points=\"305.454,-37.1262 299.055,-45.5705 309.323,-42.9596 305.454,-37.1262\"/>\r\n<text text-anchor=\"middle\" x=\"326.197\" y=\"-37.8\" font-family=\"Times New Roman,serif\" font-size=\"14.00\">1 </text>\r\n</g>\r\n<!-- IF&#45;&gt;A -->\r\n<g id=\"edge2\" class=\"edge\"><title>IF&#45;&gt;A</title>\r\n<path fill=\"none\" stroke=\"black\" d=\"M132.354,-58.4964C139.187,-53.4302 147.174,-47.7529 154.697,-43 161.459,-38.7278 169.007,-34.4386 176.003,-30.6489\"/>\r\n<polygon fill=\"black\" stroke=\"black\" points=\"177.878,-33.6162 185.073,-25.8394 174.599,-27.4318 177.878,-33.6162\"/>\r\n<text text-anchor=\"middle\" x=\"160.197\" y=\"-46.8\" font-family=\"Times New Roman,serif\" font-size=\"14.00\">0 </text>\r\n</g>\r\n<!-- IF&#45;&gt;B -->\r\n<g id=\"edge3\" class=\"edge\"><title>IF&#45;&gt;B</title>\r\n<path fill=\"none\" stroke=\"black\" d=\"M135.327,-79.9314C141.488,-82.1166 148.309,-84.3398 154.697,-86 182.739,-93.2889 190.828,-93.4705 219.697,-91 232.728,-89.8848 236.815,-91.4681 248.697,-86 253.983,-83.5669 259.129,-80.1289 263.776,-76.4668\"/>\r\n<polygon fill=\"black\" stroke=\"black\" points=\"266.225,-78.9765 271.524,-69.802 261.66,-73.6696 266.225,-78.9765\"/>\r\n<text text-anchor=\"middle\" x=\"201.697\" y=\"-95.8\" font-family=\"Times New Roman,serif\" font-size=\"14.00\">1 </text>\r\n</g>\r\n</g>\r\n</svg>\r\n"
     },
     "metadata": {},
     "execution_count": 36
    }
   ],
   "source": [
    "dotObj_dfa(dped1)"
   ]
  },
  {
   "cell_type": "code",
   "execution_count": 37,
   "metadata": {
    "run_control": {
     "frozen": false,
     "read_only": false
    }
   },
   "outputs": [
    {
     "output_type": "execute_result",
     "data": {
      "text/plain": "<graphviz.dot.Digraph at 0x1c8de548a00>",
      "image/svg+xml": "<?xml version=\"1.0\" encoding=\"UTF-8\" standalone=\"no\"?>\r\n<!DOCTYPE svg PUBLIC \"-//W3C//DTD SVG 1.1//EN\"\r\n \"http://www.w3.org/Graphics/SVG/1.1/DTD/svg11.dtd\">\r\n<!-- Generated by graphviz version 2.38.0 (20140413.2041)\r\n -->\r\n<!-- Title: %3 Pages: 1 -->\r\n<svg width=\"410pt\" height=\"117pt\"\r\n viewBox=\"0.00 0.00 409.70 117.00\" xmlns=\"http://www.w3.org/2000/svg\" xmlns:xlink=\"http://www.w3.org/1999/xlink\">\r\n<g id=\"graph0\" class=\"graph\" transform=\"scale(1 1) rotate(0) translate(4 113)\">\r\n<title>%3</title>\r\n<polygon fill=\"white\" stroke=\"none\" points=\"-4,4 -4,-113 405.697,-113 405.697,4 -4,4\"/>\r\n<!-- EMPTY -->\r\n<g id=\"node1\" class=\"node\"><title>EMPTY</title>\r\n</g>\r\n<!-- IF -->\r\n<g id=\"node5\" class=\"node\"><title>IF</title>\r\n<ellipse fill=\"none\" stroke=\"black\" cx=\"113.848\" cy=\"-72\" rx=\"18.724\" ry=\"18.724\"/>\r\n<ellipse fill=\"none\" stroke=\"black\" cx=\"113.848\" cy=\"-72\" rx=\"22.6977\" ry=\"22.6977\"/>\r\n<text text-anchor=\"middle\" x=\"113.848\" y=\"-68.3\" font-family=\"Times New Roman,serif\" font-size=\"14.00\">IF</text>\r\n</g>\r\n<!-- EMPTY&#45;&gt;IF -->\r\n<g id=\"edge1\" class=\"edge\"><title>EMPTY&#45;&gt;IF</title>\r\n<path fill=\"none\" stroke=\"black\" d=\"M54.3814,-72C62.6819,-72 71.9432,-72 80.6031,-72\"/>\r\n<polygon fill=\"black\" stroke=\"black\" points=\"80.7631,-75.5001 90.7631,-72 80.7631,-68.5001 80.7631,-75.5001\"/>\r\n</g>\r\n<!-- A -->\r\n<g id=\"node2\" class=\"node\"><title>A</title>\r\n<ellipse fill=\"none\" stroke=\"black\" cx=\"201.697\" cy=\"-18\" rx=\"18\" ry=\"18\"/>\r\n<text text-anchor=\"middle\" x=\"201.697\" y=\"-14.3\" font-family=\"Times New Roman,serif\" font-size=\"14.00\">A</text>\r\n</g>\r\n<!-- B -->\r\n<g id=\"node3\" class=\"node\"><title>B</title>\r\n<ellipse fill=\"none\" stroke=\"black\" cx=\"288.697\" cy=\"-72\" rx=\"18\" ry=\"18\"/>\r\n<text text-anchor=\"middle\" x=\"288.697\" y=\"-68.3\" font-family=\"Times New Roman,serif\" font-size=\"14.00\">B</text>\r\n</g>\r\n<!-- A&#45;&gt;B -->\r\n<g id=\"edge4\" class=\"edge\"><title>A&#45;&gt;B</title>\r\n<path fill=\"none\" stroke=\"black\" d=\"M219.972,-18.5248C230.134,-19.5183 242.874,-22.0033 252.697,-28 260.84,-32.9718 267.868,-40.5619 273.444,-48.0459\"/>\r\n<polygon fill=\"black\" stroke=\"black\" points=\"270.772,-50.3384 279.304,-56.6195 276.551,-46.3886 270.772,-50.3384\"/>\r\n<text text-anchor=\"middle\" x=\"245.197\" y=\"-46.8\" font-family=\"Times New Roman,serif\" font-size=\"14.00\">0 </text>\r\n<text text-anchor=\"middle\" x=\"245.197\" y=\"-31.8\" font-family=\"Times New Roman,serif\" font-size=\"14.00\"> 1 </text>\r\n</g>\r\n<!-- F -->\r\n<g id=\"node4\" class=\"node\"><title>F</title>\r\n<ellipse fill=\"none\" stroke=\"black\" cx=\"379.697\" cy=\"-72\" rx=\"18\" ry=\"18\"/>\r\n<ellipse fill=\"none\" stroke=\"black\" cx=\"379.697\" cy=\"-72\" rx=\"22\" ry=\"22\"/>\r\n<text text-anchor=\"middle\" x=\"379.697\" y=\"-68.3\" font-family=\"Times New Roman,serif\" font-size=\"14.00\">F</text>\r\n</g>\r\n<!-- B&#45;&gt;F -->\r\n<g id=\"edge5\" class=\"edge\"><title>B&#45;&gt;F</title>\r\n<path fill=\"none\" stroke=\"black\" d=\"M306.734,-74.9285C312.428,-75.7747 318.819,-76.5823 324.697,-77 332.251,-77.5369 340.389,-77.2427 347.999,-76.5868\"/>\r\n<polygon fill=\"black\" stroke=\"black\" points=\"348.377,-80.0664 357.943,-75.5121 347.625,-73.1069 348.377,-80.0664\"/>\r\n<text text-anchor=\"middle\" x=\"332.197\" y=\"-80.8\" font-family=\"Times New Roman,serif\" font-size=\"14.00\">1 </text>\r\n</g>\r\n<!-- B&#45;&gt;IF -->\r\n<g id=\"edge6\" class=\"edge\"><title>B&#45;&gt;IF</title>\r\n<path fill=\"none\" stroke=\"black\" d=\"M270.65,-72C241.93,-72 183.457,-72 146.881,-72\"/>\r\n<polygon fill=\"black\" stroke=\"black\" points=\"146.74,-68.5001 136.74,-72 146.74,-75.5001 146.74,-68.5001\"/>\r\n<text text-anchor=\"middle\" x=\"201.697\" y=\"-75.8\" font-family=\"Times New Roman,serif\" font-size=\"14.00\">0 </text>\r\n</g>\r\n<!-- F&#45;&gt;B -->\r\n<g id=\"edge7\" class=\"edge\"><title>F&#45;&gt;B</title>\r\n<path fill=\"none\" stroke=\"black\" d=\"M363.338,-57.0008C356.64,-51.4727 348.348,-45.8639 339.697,-43 333.368,-40.9048 330.968,-40.7393 324.697,-43 319.129,-45.0069 313.819,-48.327 309.095,-52.0186\"/>\r\n<polygon fill=\"black\" stroke=\"black\" points=\"306.503,-49.6361 301.293,-58.8612 311.119,-54.899 306.503,-49.6361\"/>\r\n<text text-anchor=\"middle\" x=\"332.197\" y=\"-61.8\" font-family=\"Times New Roman,serif\" font-size=\"14.00\">0 </text>\r\n<text text-anchor=\"middle\" x=\"332.197\" y=\"-46.8\" font-family=\"Times New Roman,serif\" font-size=\"14.00\"> 1 </text>\r\n</g>\r\n<!-- IF&#45;&gt;A -->\r\n<g id=\"edge2\" class=\"edge\"><title>IF&#45;&gt;A</title>\r\n<path fill=\"none\" stroke=\"black\" d=\"M132.354,-58.4964C139.187,-53.4302 147.174,-47.7529 154.697,-43 161.459,-38.7278 169.007,-34.4386 176.003,-30.6489\"/>\r\n<polygon fill=\"black\" stroke=\"black\" points=\"177.878,-33.6162 185.073,-25.8394 174.599,-27.4318 177.878,-33.6162\"/>\r\n<text text-anchor=\"middle\" x=\"160.197\" y=\"-46.8\" font-family=\"Times New Roman,serif\" font-size=\"14.00\">0 </text>\r\n</g>\r\n<!-- IF&#45;&gt;B -->\r\n<g id=\"edge3\" class=\"edge\"><title>IF&#45;&gt;B</title>\r\n<path fill=\"none\" stroke=\"black\" d=\"M135.327,-79.9314C141.488,-82.1166 148.309,-84.3398 154.697,-86 196.851,-96.9571 210.667,-97.4261 252.697,-86 255.917,-85.1244 259.244,-84.0421 262.506,-82.8701\"/>\r\n<polygon fill=\"black\" stroke=\"black\" points=\"263.881,-86.0908 271.931,-79.2024 261.343,-79.5674 263.881,-86.0908\"/>\r\n<text text-anchor=\"middle\" x=\"201.697\" y=\"-97.8\" font-family=\"Times New Roman,serif\" font-size=\"14.00\">1 </text>\r\n</g>\r\n</g>\r\n</svg>\r\n"
     },
     "metadata": {},
     "execution_count": 37
    }
   ],
   "source": [
    "dotObj_dfa(dped1, FuseEdges=True)"
   ]
  },
  {
   "cell_type": "code",
   "execution_count": 38,
   "metadata": {
    "run_control": {
     "frozen": false,
     "read_only": false
    }
   },
   "outputs": [],
   "source": [
    "ends0101 = md2mc(src=\"File\", fname=\"./endsin0101.dfa\")"
   ]
  },
  {
   "cell_type": "code",
   "execution_count": 39,
   "metadata": {
    "run_control": {
     "frozen": false,
     "read_only": false
    }
   },
   "outputs": [
    {
     "output_type": "execute_result",
     "data": {
      "text/plain": "<graphviz.dot.Digraph at 0x1c8de5489a0>",
      "image/svg+xml": "<?xml version=\"1.0\" encoding=\"UTF-8\" standalone=\"no\"?>\r\n<!DOCTYPE svg PUBLIC \"-//W3C//DTD SVG 1.1//EN\"\r\n \"http://www.w3.org/Graphics/SVG/1.1/DTD/svg11.dtd\">\r\n<!-- Generated by graphviz version 2.38.0 (20140413.2041)\r\n -->\r\n<!-- Title: %3 Pages: 1 -->\r\n<svg width=\"548pt\" height=\"172pt\"\r\n viewBox=\"0.00 0.00 548.08 171.60\" xmlns=\"http://www.w3.org/2000/svg\" xmlns:xlink=\"http://www.w3.org/1999/xlink\">\r\n<g id=\"graph0\" class=\"graph\" transform=\"scale(1 1) rotate(0) translate(4 167.595)\">\r\n<title>%3</title>\r\n<polygon fill=\"white\" stroke=\"none\" points=\"-4,4 -4,-167.595 544.081,-167.595 544.081,4 -4,4\"/>\r\n<!-- EMPTY -->\r\n<g id=\"node1\" class=\"node\"><title>EMPTY</title>\r\n</g>\r\n<!-- I -->\r\n<g id=\"node4\" class=\"node\"><title>I</title>\r\n<ellipse fill=\"none\" stroke=\"black\" cx=\"109\" cy=\"-55.797\" rx=\"18\" ry=\"18\"/>\r\n<text text-anchor=\"middle\" x=\"109\" y=\"-52.097\" font-family=\"Times New Roman,serif\" font-size=\"14.00\">I</text>\r\n</g>\r\n<!-- EMPTY&#45;&gt;I -->\r\n<g id=\"edge1\" class=\"edge\"><title>EMPTY&#45;&gt;I</title>\r\n<path fill=\"none\" stroke=\"black\" d=\"M54.195,-55.797C62.6538,-55.797 72.0513,-55.797 80.5951,-55.797\"/>\r\n<polygon fill=\"black\" stroke=\"black\" points=\"80.8257,-59.2971 90.8257,-55.797 80.8257,-52.2971 80.8257,-59.2971\"/>\r\n</g>\r\n<!-- S010 -->\r\n<g id=\"node2\" class=\"node\"><title>S010</title>\r\n<ellipse fill=\"none\" stroke=\"black\" cx=\"388.239\" cy=\"-71.797\" rx=\"29.4969\" ry=\"29.4969\"/>\r\n<text text-anchor=\"middle\" x=\"388.239\" y=\"-68.097\" font-family=\"Times New Roman,serif\" font-size=\"14.00\">S010</text>\r\n</g>\r\n<!-- S0 -->\r\n<g id=\"node3\" class=\"node\"><title>S0</title>\r\n<ellipse fill=\"none\" stroke=\"black\" cx=\"194.798\" cy=\"-109.797\" rx=\"20.5982\" ry=\"20.5982\"/>\r\n<text text-anchor=\"middle\" x=\"194.798\" y=\"-106.097\" font-family=\"Times New Roman,serif\" font-size=\"14.00\">S0</text>\r\n</g>\r\n<!-- S010&#45;&gt;S0 -->\r\n<g id=\"edge8\" class=\"edge\"><title>S010&#45;&gt;S0</title>\r\n<path fill=\"none\" stroke=\"black\" d=\"M360.702,-81.6571C346.416,-86.6989 328.404,-92.6328 311.992,-96.797 282.502,-104.28 274.874,-105.81 244.596,-108.797 238.546,-109.394 232.054,-109.735 225.843,-109.916\"/>\r\n<polygon fill=\"black\" stroke=\"black\" points=\"225.722,-106.418 215.783,-110.088 225.842,-113.417 225.722,-106.418\"/>\r\n<text text-anchor=\"middle\" x=\"287.294\" y=\"-111.597\" font-family=\"Times New Roman,serif\" font-size=\"14.00\">0 </text>\r\n</g>\r\n<!-- F0101 -->\r\n<g id=\"node6\" class=\"node\"><title>F0101</title>\r\n<ellipse fill=\"none\" stroke=\"black\" cx=\"502.284\" cy=\"-37.797\" rx=\"33.6165\" ry=\"33.6165\"/>\r\n<ellipse fill=\"none\" stroke=\"black\" cx=\"502.284\" cy=\"-37.797\" rx=\"37.5951\" ry=\"37.5951\"/>\r\n<text text-anchor=\"middle\" x=\"502.284\" y=\"-34.097\" font-family=\"Times New Roman,serif\" font-size=\"14.00\">F0101</text>\r\n</g>\r\n<!-- S010&#45;&gt;F0101 -->\r\n<g id=\"edge9\" class=\"edge\"><title>S010&#45;&gt;F0101</title>\r\n<path fill=\"none\" stroke=\"black\" d=\"M416.362,-63.5665C428.349,-59.9292 442.766,-55.5542 456.291,-51.4502\"/>\r\n<polygon fill=\"black\" stroke=\"black\" points=\"457.38,-54.7772 465.933,-48.5242 455.348,-48.0788 457.38,-54.7772\"/>\r\n<text text-anchor=\"middle\" x=\"440.987\" y=\"-61.597\" font-family=\"Times New Roman,serif\" font-size=\"14.00\">1 </text>\r\n</g>\r\n<!-- S0&#45;&gt;S0 -->\r\n<g id=\"edge4\" class=\"edge\"><title>S0&#45;&gt;S0</title>\r\n<path fill=\"none\" stroke=\"black\" d=\"M186.838,-129.361C185.614,-139.477 188.267,-148.595 194.798,-148.595 198.982,-148.595 201.575,-144.853 202.576,-139.504\"/>\r\n<polygon fill=\"black\" stroke=\"black\" points=\"206.078,-139.422 202.758,-129.361 199.079,-139.296 206.078,-139.422\"/>\r\n<text text-anchor=\"middle\" x=\"194.798\" y=\"-152.395\" font-family=\"Times New Roman,serif\" font-size=\"14.00\">0 </text>\r\n</g>\r\n<!-- S01 -->\r\n<g id=\"node5\" class=\"node\"><title>S01</title>\r\n<ellipse fill=\"none\" stroke=\"black\" cx=\"287.294\" cy=\"-62.797\" rx=\"24.8972\" ry=\"24.8972\"/>\r\n<text text-anchor=\"middle\" x=\"287.294\" y=\"-59.097\" font-family=\"Times New Roman,serif\" font-size=\"14.00\">S01</text>\r\n</g>\r\n<!-- S0&#45;&gt;S01 -->\r\n<g id=\"edge5\" class=\"edge\"><title>S0&#45;&gt;S01</title>\r\n<path fill=\"none\" stroke=\"black\" d=\"M213.677,-100.511C225.647,-94.2947 241.71,-85.9524 255.685,-78.6944\"/>\r\n<polygon fill=\"black\" stroke=\"black\" points=\"257.689,-81.5975 264.95,-73.8823 254.462,-75.3854 257.689,-81.5975\"/>\r\n<text text-anchor=\"middle\" x=\"239.096\" y=\"-93.597\" font-family=\"Times New Roman,serif\" font-size=\"14.00\">1 </text>\r\n</g>\r\n<!-- I&#45;&gt;S0 -->\r\n<g id=\"edge2\" class=\"edge\"><title>I&#45;&gt;S0</title>\r\n<path fill=\"none\" stroke=\"black\" d=\"M124.597,-65.2031C136.635,-72.9605 153.998,-84.1499 168.321,-93.3794\"/>\r\n<polygon fill=\"black\" stroke=\"black\" points=\"166.469,-96.3498 176.771,-98.8246 170.261,-90.4657 166.469,-96.3498\"/>\r\n<text text-anchor=\"middle\" x=\"150.5\" y=\"-88.597\" font-family=\"Times New Roman,serif\" font-size=\"14.00\">0 </text>\r\n</g>\r\n<!-- I&#45;&gt;I -->\r\n<g id=\"edge3\" class=\"edge\"><title>I&#45;&gt;I</title>\r\n<path fill=\"none\" stroke=\"black\" d=\"M102.621,-72.8343C101.319,-82.6549 103.445,-91.797 109,-91.797 112.472,-91.797 114.604,-88.2259 115.398,-83.1499\"/>\r\n<polygon fill=\"black\" stroke=\"black\" points=\"118.897,-82.828 115.379,-72.8343 111.897,-82.8405 118.897,-82.828\"/>\r\n<text text-anchor=\"middle\" x=\"109\" y=\"-95.597\" font-family=\"Times New Roman,serif\" font-size=\"14.00\">1 </text>\r\n</g>\r\n<!-- S01&#45;&gt;S010 -->\r\n<g id=\"edge6\" class=\"edge\"><title>S01&#45;&gt;S010</title>\r\n<path fill=\"none\" stroke=\"black\" d=\"M311.994,-64.9527C322.982,-65.9522 336.323,-67.1656 348.702,-68.2917\"/>\r\n<polygon fill=\"black\" stroke=\"black\" points=\"348.526,-71.79 358.802,-69.2103 349.16,-64.8188 348.526,-71.79\"/>\r\n<text text-anchor=\"middle\" x=\"335.492\" y=\"-71.597\" font-family=\"Times New Roman,serif\" font-size=\"14.00\">0 </text>\r\n</g>\r\n<!-- S01&#45;&gt;I -->\r\n<g id=\"edge7\" class=\"edge\"><title>S01&#45;&gt;I</title>\r\n<path fill=\"none\" stroke=\"black\" d=\"M262.603,-61.8563C230.111,-60.5662 171.848,-58.2528 137.481,-56.8882\"/>\r\n<polygon fill=\"black\" stroke=\"black\" points=\"137.356,-53.3805 127.225,-56.4809 137.078,-60.375 137.356,-53.3805\"/>\r\n<text text-anchor=\"middle\" x=\"194.798\" y=\"-64.597\" font-family=\"Times New Roman,serif\" font-size=\"14.00\">1 </text>\r\n</g>\r\n<!-- F0101&#45;&gt;S010 -->\r\n<g id=\"edge10\" class=\"edge\"><title>F0101&#45;&gt;S010</title>\r\n<path fill=\"none\" stroke=\"black\" d=\"M464.729,-32.0897C455.015,-31.8034 444.674,-32.6426 435.487,-35.797 429.298,-37.9219 423.299,-41.2512 417.787,-45.0457\"/>\r\n<polygon fill=\"black\" stroke=\"black\" points=\"415.416,-42.4513 409.566,-51.285 419.648,-48.0272 415.416,-42.4513\"/>\r\n<text text-anchor=\"middle\" x=\"440.987\" y=\"-39.597\" font-family=\"Times New Roman,serif\" font-size=\"14.00\">0 </text>\r\n</g>\r\n<!-- F0101&#45;&gt;I -->\r\n<g id=\"edge11\" class=\"edge\"><title>F0101&#45;&gt;I</title>\r\n<path fill=\"none\" stroke=\"black\" d=\"M467.712,-22.4563C445.837,-13.8386 416.412,-4.797 389.239,-4.797 193.798,-4.797 193.798,-4.797 193.798,-4.797 168.853,-4.797 145.021,-21.4918 129.194,-35.7777\"/>\r\n<polygon fill=\"black\" stroke=\"black\" points=\"126.514,-33.4974 121.684,-42.9275 131.34,-38.5673 126.514,-33.4974\"/>\r\n<text text-anchor=\"middle\" x=\"287.294\" y=\"-8.597\" font-family=\"Times New Roman,serif\" font-size=\"14.00\">1 </text>\r\n</g>\r\n</g>\r\n</svg>\r\n"
     },
     "metadata": {},
     "execution_count": 39
    }
   ],
   "source": [
    "dotObj_dfa(ends0101)"
   ]
  },
  {
   "cell_type": "code",
   "execution_count": 40,
   "metadata": {
    "run_control": {
     "frozen": false,
     "read_only": false
    }
   },
   "outputs": [],
   "source": [
    "thirdlastis1=md2mc(src=\"File\", fname=\"./thirdlastis1.dfa\")\n",
    "#machines/dfafiles/thirdlastis1.dfa"
   ]
  },
  {
   "cell_type": "code",
   "execution_count": 41,
   "metadata": {
    "run_control": {
     "frozen": false,
     "read_only": false
    }
   },
   "outputs": [
    {
     "output_type": "execute_result",
     "data": {
      "text/plain": "{'Q': {'F100',\n  'F101',\n  'F110',\n  'F111',\n  'I',\n  'S0',\n  'S00',\n  'S000',\n  'S001',\n  'S01',\n  'S010',\n  'S011',\n  'S1',\n  'S10',\n  'S11'},\n 'Sigma': {'0', '1'},\n 'Delta': {('I', '0'): 'S0',\n  ('I', '1'): 'S1',\n  ('S0', '0'): 'S00',\n  ('S0', '1'): 'S01',\n  ('S1', '0'): 'S10',\n  ('S1', '1'): 'S11',\n  ('S00', '0'): 'S000',\n  ('S00', '1'): 'S001',\n  ('S01', '0'): 'S010',\n  ('S01', '1'): 'S011',\n  ('S10', '0'): 'F100',\n  ('S10', '1'): 'F101',\n  ('S11', '0'): 'F110',\n  ('S11', '1'): 'F111',\n  ('S000', '0'): 'S000',\n  ('S000', '1'): 'S001',\n  ('S001', '0'): 'S010',\n  ('S001', '1'): 'S011',\n  ('S010', '0'): 'F100',\n  ('S010', '1'): 'F101',\n  ('S011', '0'): 'F110',\n  ('S011', '1'): 'F111',\n  ('F100', '0'): 'S000',\n  ('F100', '1'): 'S001',\n  ('F101', '0'): 'S010',\n  ('F101', '1'): 'S011',\n  ('F110', '0'): 'F100',\n  ('F110', '1'): 'F101',\n  ('F111', '0'): 'F110',\n  ('F111', '1'): 'F111'},\n 'q0': 'I',\n 'F': {'F100', 'F101', 'F110', 'F111'}}"
     },
     "metadata": {},
     "execution_count": 41
    }
   ],
   "source": [
    "thirdlastis1"
   ]
  },
  {
   "cell_type": "code",
   "execution_count": 42,
   "metadata": {
    "run_control": {
     "frozen": false,
     "read_only": false
    }
   },
   "outputs": [
    {
     "output_type": "execute_result",
     "data": {
      "text/plain": "<graphviz.dot.Digraph at 0x1c8de548340>",
      "image/svg+xml": "<?xml version=\"1.0\" encoding=\"UTF-8\" standalone=\"no\"?>\r\n<!DOCTYPE svg PUBLIC \"-//W3C//DTD SVG 1.1//EN\"\r\n \"http://www.w3.org/Graphics/SVG/1.1/DTD/svg11.dtd\">\r\n<!-- Generated by graphviz version 2.38.0 (20140413.2041)\r\n -->\r\n<!-- Title: %3 Pages: 1 -->\r\n<svg width=\"1196pt\" height=\"431pt\"\r\n viewBox=\"0.00 0.00 1195.95 431.38\" xmlns=\"http://www.w3.org/2000/svg\" xmlns:xlink=\"http://www.w3.org/1999/xlink\">\r\n<g id=\"graph0\" class=\"graph\" transform=\"scale(1 1) rotate(0) translate(4 427.377)\">\r\n<title>%3</title>\r\n<polygon fill=\"white\" stroke=\"none\" points=\"-4,4 -4,-427.377 1191.95,-427.377 1191.95,4 -4,4\"/>\r\n<!-- EMPTY -->\r\n<g id=\"node1\" class=\"node\"><title>EMPTY</title>\r\n</g>\r\n<!-- I -->\r\n<g id=\"node4\" class=\"node\"><title>I</title>\r\n<ellipse fill=\"none\" stroke=\"black\" cx=\"109\" cy=\"-107.377\" rx=\"18\" ry=\"18\"/>\r\n<text text-anchor=\"middle\" x=\"109\" y=\"-103.677\" font-family=\"Times New Roman,serif\" font-size=\"14.00\">I</text>\r\n</g>\r\n<!-- EMPTY&#45;&gt;I -->\r\n<g id=\"edge1\" class=\"edge\"><title>EMPTY&#45;&gt;I</title>\r\n<path fill=\"none\" stroke=\"black\" d=\"M54.195,-107.377C62.6538,-107.377 72.0513,-107.377 80.5951,-107.377\"/>\r\n<polygon fill=\"black\" stroke=\"black\" points=\"80.8257,-110.877 90.8257,-107.377 80.8257,-103.877 80.8257,-110.877\"/>\r\n</g>\r\n<!-- S11 -->\r\n<g id=\"node2\" class=\"node\"><title>S11</title>\r\n<ellipse fill=\"none\" stroke=\"black\" cx=\"287.294\" cy=\"-251.377\" rx=\"24.8972\" ry=\"24.8972\"/>\r\n<text text-anchor=\"middle\" x=\"287.294\" y=\"-247.677\" font-family=\"Times New Roman,serif\" font-size=\"14.00\">S11</text>\r\n</g>\r\n<!-- F111 -->\r\n<g id=\"node13\" class=\"node\"><title>F111</title>\r\n<ellipse fill=\"none\" stroke=\"black\" cx=\"392.239\" cy=\"-317.377\" rx=\"29.4667\" ry=\"29.4667\"/>\r\n<ellipse fill=\"none\" stroke=\"black\" cx=\"392.239\" cy=\"-317.377\" rx=\"33.4967\" ry=\"33.4967\"/>\r\n<text text-anchor=\"middle\" x=\"392.239\" y=\"-313.677\" font-family=\"Times New Roman,serif\" font-size=\"14.00\">F111</text>\r\n</g>\r\n<!-- S11&#45;&gt;F111 -->\r\n<g id=\"edge15\" class=\"edge\"><title>S11&#45;&gt;F111</title>\r\n<path fill=\"none\" stroke=\"black\" d=\"M308.633,-264.416C321.982,-272.975 339.806,-284.402 355.48,-294.451\"/>\r\n<polygon fill=\"black\" stroke=\"black\" points=\"353.617,-297.414 363.924,-299.865 357.395,-291.521 353.617,-297.414\"/>\r\n<text text-anchor=\"middle\" x=\"335.492\" y=\"-288.177\" font-family=\"Times New Roman,serif\" font-size=\"14.00\">1 </text>\r\n</g>\r\n<!-- F110 -->\r\n<g id=\"node14\" class=\"node\"><title>F110</title>\r\n<ellipse fill=\"none\" stroke=\"black\" cx=\"505.734\" cy=\"-276.377\" rx=\"29.4667\" ry=\"29.4667\"/>\r\n<ellipse fill=\"none\" stroke=\"black\" cx=\"505.734\" cy=\"-276.377\" rx=\"33.4967\" ry=\"33.4967\"/>\r\n<text text-anchor=\"middle\" x=\"505.734\" y=\"-272.677\" font-family=\"Times New Roman,serif\" font-size=\"14.00\">F110</text>\r\n</g>\r\n<!-- S11&#45;&gt;F110 -->\r\n<g id=\"edge14\" class=\"edge\"><title>S11&#45;&gt;F110</title>\r\n<path fill=\"none\" stroke=\"black\" d=\"M312.183,-251.976C339.63,-252.889 385.974,-255.116 425.487,-260.377 437.878,-262.027 451.239,-264.465 463.396,-266.944\"/>\r\n<polygon fill=\"black\" stroke=\"black\" points=\"462.77,-270.389 473.276,-269.019 464.209,-263.538 462.77,-270.389\"/>\r\n<text text-anchor=\"middle\" x=\"392.239\" y=\"-264.177\" font-family=\"Times New Roman,serif\" font-size=\"14.00\">0 </text>\r\n</g>\r\n<!-- S00 -->\r\n<g id=\"node3\" class=\"node\"><title>S00</title>\r\n<ellipse fill=\"none\" stroke=\"black\" cx=\"838.219\" cy=\"-85.3768\" rx=\"24.8972\" ry=\"24.8972\"/>\r\n<text text-anchor=\"middle\" x=\"838.219\" y=\"-81.6768\" font-family=\"Times New Roman,serif\" font-size=\"14.00\">S00</text>\r\n</g>\r\n<!-- S001 -->\r\n<g id=\"node6\" class=\"node\"><title>S001</title>\r\n<ellipse fill=\"none\" stroke=\"black\" cx=\"1053.21\" cy=\"-238.377\" rx=\"29.4969\" ry=\"29.4969\"/>\r\n<text text-anchor=\"middle\" x=\"1053.21\" y=\"-234.677\" font-family=\"Times New Roman,serif\" font-size=\"14.00\">S001</text>\r\n</g>\r\n<!-- S00&#45;&gt;S001 -->\r\n<g id=\"edge9\" class=\"edge\"><title>S00&#45;&gt;S001</title>\r\n<path fill=\"none\" stroke=\"black\" d=\"M862.223,-78.9238C891.347,-72.1781 941.939,-65.3464 976.961,-87.3768 1016,-111.933 1035.48,-163.406 1044.7,-199.395\"/>\r\n<polygon fill=\"black\" stroke=\"black\" points=\"1041.4,-200.651 1047.13,-209.559 1048.2,-199.019 1041.4,-200.651\"/>\r\n<text text-anchor=\"middle\" x=\"947.713\" y=\"-91.1768\" font-family=\"Times New Roman,serif\" font-size=\"14.00\">1 </text>\r\n</g>\r\n<!-- S000 -->\r\n<g id=\"node8\" class=\"node\"><title>S000</title>\r\n<ellipse fill=\"none\" stroke=\"black\" cx=\"947.713\" cy=\"-140.377\" rx=\"29.4969\" ry=\"29.4969\"/>\r\n<text text-anchor=\"middle\" x=\"947.713\" y=\"-136.677\" font-family=\"Times New Roman,serif\" font-size=\"14.00\">S000</text>\r\n</g>\r\n<!-- S00&#45;&gt;S000 -->\r\n<g id=\"edge8\" class=\"edge\"><title>S00&#45;&gt;S000</title>\r\n<path fill=\"none\" stroke=\"black\" d=\"M860.456,-96.2431C875.221,-103.798 895.229,-114.035 912.258,-122.748\"/>\r\n<polygon fill=\"black\" stroke=\"black\" points=\"910.863,-125.965 921.36,-127.405 914.052,-119.734 910.863,-125.965\"/>\r\n<text text-anchor=\"middle\" x=\"894.966\" y=\"-120.177\" font-family=\"Times New Roman,serif\" font-size=\"14.00\">0 </text>\r\n</g>\r\n<!-- S1 -->\r\n<g id=\"node5\" class=\"node\"><title>S1</title>\r\n<ellipse fill=\"none\" stroke=\"black\" cx=\"194.798\" cy=\"-152.377\" rx=\"20.5982\" ry=\"20.5982\"/>\r\n<text text-anchor=\"middle\" x=\"194.798\" y=\"-148.677\" font-family=\"Times New Roman,serif\" font-size=\"14.00\">S1</text>\r\n</g>\r\n<!-- I&#45;&gt;S1 -->\r\n<g id=\"edge3\" class=\"edge\"><title>I&#45;&gt;S1</title>\r\n<path fill=\"none\" stroke=\"black\" d=\"M125.37,-115.631C137.041,-121.898 153.376,-130.67 167.16,-138.072\"/>\r\n<polygon fill=\"black\" stroke=\"black\" points=\"165.74,-141.282 176.206,-142.93 169.052,-135.115 165.74,-141.282\"/>\r\n<text text-anchor=\"middle\" x=\"150.5\" y=\"-137.177\" font-family=\"Times New Roman,serif\" font-size=\"14.00\">1 </text>\r\n</g>\r\n<!-- S0 -->\r\n<g id=\"node9\" class=\"node\"><title>S0</title>\r\n<ellipse fill=\"none\" stroke=\"black\" cx=\"505.734\" cy=\"-61.3768\" rx=\"20.5982\" ry=\"20.5982\"/>\r\n<text text-anchor=\"middle\" x=\"505.734\" y=\"-57.6768\" font-family=\"Times New Roman,serif\" font-size=\"14.00\">S0</text>\r\n</g>\r\n<!-- I&#45;&gt;S0 -->\r\n<g id=\"edge2\" class=\"edge\"><title>I&#45;&gt;S0</title>\r\n<path fill=\"none\" stroke=\"black\" d=\"M125.649,-99.7402C142.179,-92.3881 169.203,-82.3768 193.798,-82.3768 193.798,-82.3768 193.798,-82.3768 393.239,-82.3768 421.636,-82.3768 453.409,-75.7168 475.75,-69.898\"/>\r\n<polygon fill=\"black\" stroke=\"black\" points=\"476.868,-73.2213 485.604,-67.2265 475.036,-66.4652 476.868,-73.2213\"/>\r\n<text text-anchor=\"middle\" x=\"287.294\" y=\"-86.1768\" font-family=\"Times New Roman,serif\" font-size=\"14.00\">0 </text>\r\n</g>\r\n<!-- S1&#45;&gt;S11 -->\r\n<g id=\"edge7\" class=\"edge\"><title>S1&#45;&gt;S11</title>\r\n<path fill=\"none\" stroke=\"black\" d=\"M209.543,-167.413C223.733,-182.937 246.131,-207.44 263.076,-225.977\"/>\r\n<polygon fill=\"black\" stroke=\"black\" points=\"260.635,-228.494 269.965,-233.513 265.801,-223.771 260.635,-228.494\"/>\r\n<text text-anchor=\"middle\" x=\"239.096\" y=\"-209.177\" font-family=\"Times New Roman,serif\" font-size=\"14.00\">1 </text>\r\n</g>\r\n<!-- S10 -->\r\n<g id=\"node12\" class=\"node\"><title>S10</title>\r\n<ellipse fill=\"none\" stroke=\"black\" cx=\"505.734\" cy=\"-152.377\" rx=\"24.8972\" ry=\"24.8972\"/>\r\n<text text-anchor=\"middle\" x=\"505.734\" y=\"-148.677\" font-family=\"Times New Roman,serif\" font-size=\"14.00\">S10</text>\r\n</g>\r\n<!-- S1&#45;&gt;S10 -->\r\n<g id=\"edge6\" class=\"edge\"><title>S1&#45;&gt;S10</title>\r\n<path fill=\"none\" stroke=\"black\" d=\"M216.068,-152.377C267.949,-152.377 405.988,-152.377 470.549,-152.377\"/>\r\n<polygon fill=\"black\" stroke=\"black\" points=\"470.621,-155.877 480.621,-152.377 470.621,-148.877 470.621,-155.877\"/>\r\n<text text-anchor=\"middle\" x=\"335.492\" y=\"-156.177\" font-family=\"Times New Roman,serif\" font-size=\"14.00\">0 </text>\r\n</g>\r\n<!-- S011 -->\r\n<g id=\"node7\" class=\"node\"><title>S011</title>\r\n<ellipse fill=\"none\" stroke=\"black\" cx=\"1158.7\" cy=\"-319.377\" rx=\"29.4969\" ry=\"29.4969\"/>\r\n<text text-anchor=\"middle\" x=\"1158.7\" y=\"-315.677\" font-family=\"Times New Roman,serif\" font-size=\"14.00\">S011</text>\r\n</g>\r\n<!-- S001&#45;&gt;S011 -->\r\n<g id=\"edge19\" class=\"edge\"><title>S001&#45;&gt;S011</title>\r\n<path fill=\"none\" stroke=\"black\" d=\"M1076.67,-255.953C1091.45,-267.522 1110.99,-282.814 1127.17,-295.483\"/>\r\n<polygon fill=\"black\" stroke=\"black\" points=\"1125.26,-298.428 1135.29,-301.835 1129.57,-292.916 1125.26,-298.428\"/>\r\n<text text-anchor=\"middle\" x=\"1105.96\" y=\"-285.177\" font-family=\"Times New Roman,serif\" font-size=\"14.00\">1 </text>\r\n</g>\r\n<!-- S010 -->\r\n<g id=\"node11\" class=\"node\"><title>S010</title>\r\n<ellipse fill=\"none\" stroke=\"black\" cx=\"728.724\" cy=\"-262.377\" rx=\"29.4969\" ry=\"29.4969\"/>\r\n<text text-anchor=\"middle\" x=\"728.724\" y=\"-258.677\" font-family=\"Times New Roman,serif\" font-size=\"14.00\">S010</text>\r\n</g>\r\n<!-- S001&#45;&gt;S010 -->\r\n<g id=\"edge18\" class=\"edge\"><title>S001&#45;&gt;S010</title>\r\n<path fill=\"none\" stroke=\"black\" d=\"M1023.89,-243.07C1017.98,-243.935 1011.77,-244.759 1005.96,-245.377 921.301,-254.371 821.501,-259.059 768.076,-261.093\"/>\r\n<polygon fill=\"black\" stroke=\"black\" points=\"767.891,-257.597 758.027,-261.464 768.15,-264.592 767.891,-257.597\"/>\r\n<text text-anchor=\"middle\" x=\"894.966\" y=\"-259.177\" font-family=\"Times New Roman,serif\" font-size=\"14.00\">0 </text>\r\n</g>\r\n<!-- S011&#45;&gt;F111 -->\r\n<g id=\"edge23\" class=\"edge\"><title>S011&#45;&gt;F111</title>\r\n<path fill=\"none\" stroke=\"black\" d=\"M1142.91,-344.643C1125.38,-370.955 1093.55,-408.377 1054.21,-408.377 504.734,-408.377 504.734,-408.377 504.734,-408.377 468.21,-408.377 437.044,-378.706 417.026,-353.249\"/>\r\n<polygon fill=\"black\" stroke=\"black\" points=\"419.746,-351.043 410.925,-345.174 414.161,-355.263 419.746,-351.043\"/>\r\n<text text-anchor=\"middle\" x=\"781.471\" y=\"-412.177\" font-family=\"Times New Roman,serif\" font-size=\"14.00\">1 </text>\r\n</g>\r\n<!-- S011&#45;&gt;F110 -->\r\n<g id=\"edge22\" class=\"edge\"><title>S011&#45;&gt;F110</title>\r\n<path fill=\"none\" stroke=\"black\" d=\"M1134.74,-336.244C1114.57,-349.373 1083.9,-365.377 1054.21,-365.377 618.229,-365.377 618.229,-365.377 618.229,-365.377 582.403,-365.377 551.467,-336.962 531.332,-312.244\"/>\r\n<polygon fill=\"black\" stroke=\"black\" points=\"533.843,-309.772 524.927,-304.049 528.328,-314.083 533.843,-309.772\"/>\r\n<text text-anchor=\"middle\" x=\"838.219\" y=\"-369.177\" font-family=\"Times New Roman,serif\" font-size=\"14.00\">0 </text>\r\n</g>\r\n<!-- S000&#45;&gt;S001 -->\r\n<g id=\"edge17\" class=\"edge\"><title>S000&#45;&gt;S001</title>\r\n<path fill=\"none\" stroke=\"black\" d=\"M969.657,-160.209C985.228,-174.953 1006.65,-195.237 1023.77,-211.448\"/>\r\n<polygon fill=\"black\" stroke=\"black\" points=\"1021.63,-214.24 1031.3,-218.575 1026.44,-209.157 1021.63,-214.24\"/>\r\n<text text-anchor=\"middle\" x=\"1000.46\" y=\"-199.177\" font-family=\"Times New Roman,serif\" font-size=\"14.00\">1 </text>\r\n</g>\r\n<!-- S000&#45;&gt;S000 -->\r\n<g id=\"edge16\" class=\"edge\"><title>S000&#45;&gt;S000</title>\r\n<path fill=\"none\" stroke=\"black\" d=\"M938.001,-168.039C937.57,-178.735 940.807,-187.624 947.713,-187.624 952.246,-187.624 955.198,-183.796 956.57,-178.141\"/>\r\n<polygon fill=\"black\" stroke=\"black\" points=\"960.069,-178.299 957.425,-168.039 953.094,-177.708 960.069,-178.299\"/>\r\n<text text-anchor=\"middle\" x=\"947.713\" y=\"-191.424\" font-family=\"Times New Roman,serif\" font-size=\"14.00\">0 </text>\r\n</g>\r\n<!-- S0&#45;&gt;S00 -->\r\n<g id=\"edge4\" class=\"edge\"><title>S0&#45;&gt;S00</title>\r\n<path fill=\"none\" stroke=\"black\" d=\"M522.867,-49.5531C553.394,-28.6387 621.897,11.3495 681.476,-3.37682 729.805,-15.3224 779.697,-45.2739 809.59,-65.4755\"/>\r\n<polygon fill=\"black\" stroke=\"black\" points=\"807.613,-68.3642 817.837,-71.1462 811.58,-62.5962 807.613,-68.3642\"/>\r\n<text text-anchor=\"middle\" x=\"675.976\" y=\"-7.17682\" font-family=\"Times New Roman,serif\" font-size=\"14.00\">0 </text>\r\n</g>\r\n<!-- S01 -->\r\n<g id=\"node10\" class=\"node\"><title>S01</title>\r\n<ellipse fill=\"none\" stroke=\"black\" cx=\"619.229\" cy=\"-61.3768\" rx=\"24.8972\" ry=\"24.8972\"/>\r\n<text text-anchor=\"middle\" x=\"619.229\" y=\"-57.6768\" font-family=\"Times New Roman,serif\" font-size=\"14.00\">S01</text>\r\n</g>\r\n<!-- S0&#45;&gt;S01 -->\r\n<g id=\"edge5\" class=\"edge\"><title>S0&#45;&gt;S01</title>\r\n<path fill=\"none\" stroke=\"black\" d=\"M526.667,-61.3768C542.554,-61.3768 565.17,-61.3768 583.949,-61.3768\"/>\r\n<polygon fill=\"black\" stroke=\"black\" points=\"584.201,-64.8769 594.201,-61.3768 584.201,-57.8769 584.201,-64.8769\"/>\r\n<text text-anchor=\"middle\" x=\"562.482\" y=\"-65.1768\" font-family=\"Times New Roman,serif\" font-size=\"14.00\">1 </text>\r\n</g>\r\n<!-- S01&#45;&gt;S011 -->\r\n<g id=\"edge11\" class=\"edge\"><title>S01&#45;&gt;S011</title>\r\n<path fill=\"none\" stroke=\"black\" d=\"M642.408,-51.7202C663.822,-43.2841 697.376,-32.3768 727.724,-32.3768 727.724,-32.3768 727.724,-32.3768 1054.21,-32.3768 1106.36,-32.3768 1139.51,-202.175 1152.04,-280.562\"/>\r\n<polygon fill=\"black\" stroke=\"black\" points=\"1148.6,-281.206 1153.6,-290.544 1155.52,-280.123 1148.6,-281.206\"/>\r\n<text text-anchor=\"middle\" x=\"894.966\" y=\"-36.1768\" font-family=\"Times New Roman,serif\" font-size=\"14.00\">1 </text>\r\n</g>\r\n<!-- S01&#45;&gt;S010 -->\r\n<g id=\"edge10\" class=\"edge\"><title>S01&#45;&gt;S010</title>\r\n<path fill=\"none\" stroke=\"black\" d=\"M632.827,-82.4745C645.496,-103.9 665.403,-138.136 681.476,-168.377 691.632,-187.483 702.336,-209.132 710.886,-226.834\"/>\r\n<polygon fill=\"black\" stroke=\"black\" points=\"707.911,-228.724 715.397,-236.221 714.221,-225.692 707.911,-228.724\"/>\r\n<text text-anchor=\"middle\" x=\"675.976\" y=\"-172.177\" font-family=\"Times New Roman,serif\" font-size=\"14.00\">0 </text>\r\n</g>\r\n<!-- F101 -->\r\n<g id=\"node15\" class=\"node\"><title>F101</title>\r\n<ellipse fill=\"none\" stroke=\"black\" cx=\"619.229\" cy=\"-276.377\" rx=\"29.4667\" ry=\"29.4667\"/>\r\n<ellipse fill=\"none\" stroke=\"black\" cx=\"619.229\" cy=\"-276.377\" rx=\"33.4967\" ry=\"33.4967\"/>\r\n<text text-anchor=\"middle\" x=\"619.229\" y=\"-272.677\" font-family=\"Times New Roman,serif\" font-size=\"14.00\">F101</text>\r\n</g>\r\n<!-- S010&#45;&gt;F101 -->\r\n<g id=\"edge21\" class=\"edge\"><title>S010&#45;&gt;F101</title>\r\n<path fill=\"none\" stroke=\"black\" d=\"M701.751,-250.512C691.936,-247.475 680.676,-245.727 670.476,-248.377 665.713,-249.614 660.922,-251.413 656.289,-253.511\"/>\r\n<polygon fill=\"black\" stroke=\"black\" points=\"654.424,-250.532 647.065,-258.154 657.571,-256.784 654.424,-250.532\"/>\r\n<text text-anchor=\"middle\" x=\"675.976\" y=\"-252.177\" font-family=\"Times New Roman,serif\" font-size=\"14.00\">1 </text>\r\n</g>\r\n<!-- F100 -->\r\n<g id=\"node16\" class=\"node\"><title>F100</title>\r\n<ellipse fill=\"none\" stroke=\"black\" cx=\"838.219\" cy=\"-205.377\" rx=\"29.4667\" ry=\"29.4667\"/>\r\n<ellipse fill=\"none\" stroke=\"black\" cx=\"838.219\" cy=\"-205.377\" rx=\"33.4967\" ry=\"33.4967\"/>\r\n<text text-anchor=\"middle\" x=\"838.219\" y=\"-201.677\" font-family=\"Times New Roman,serif\" font-size=\"14.00\">F100</text>\r\n</g>\r\n<!-- S010&#45;&gt;F100 -->\r\n<g id=\"edge20\" class=\"edge\"><title>S010&#45;&gt;F100</title>\r\n<path fill=\"none\" stroke=\"black\" d=\"M754.927,-249.013C768.185,-241.982 784.708,-233.221 799.462,-225.397\"/>\r\n<polygon fill=\"black\" stroke=\"black\" points=\"801.18,-228.448 808.375,-220.671 797.901,-222.264 801.18,-228.448\"/>\r\n<text text-anchor=\"middle\" x=\"781.471\" y=\"-241.177\" font-family=\"Times New Roman,serif\" font-size=\"14.00\">0 </text>\r\n</g>\r\n<!-- S10&#45;&gt;F101 -->\r\n<g id=\"edge13\" class=\"edge\"><title>S10&#45;&gt;F101</title>\r\n<path fill=\"none\" stroke=\"black\" d=\"M522.946,-170.407C540.31,-189.719 568.217,-220.756 589.352,-244.261\"/>\r\n<polygon fill=\"black\" stroke=\"black\" points=\"586.946,-246.819 596.234,-251.915 592.151,-242.139 586.946,-246.819\"/>\r\n<text text-anchor=\"middle\" x=\"562.482\" y=\"-222.177\" font-family=\"Times New Roman,serif\" font-size=\"14.00\">1 </text>\r\n</g>\r\n<!-- S10&#45;&gt;F100 -->\r\n<g id=\"edge12\" class=\"edge\"><title>S10&#45;&gt;F100</title>\r\n<path fill=\"none\" stroke=\"black\" d=\"M529.328,-145.057C562.874,-135.252 627.679,-120.394 681.476,-132.377 724.796,-142.026 770.31,-165.076 800.869,-182.715\"/>\r\n<polygon fill=\"black\" stroke=\"black\" points=\"799.459,-185.946 809.854,-187.994 803.005,-179.911 799.459,-185.946\"/>\r\n<text text-anchor=\"middle\" x=\"675.976\" y=\"-136.177\" font-family=\"Times New Roman,serif\" font-size=\"14.00\">0 </text>\r\n</g>\r\n<!-- F111&#45;&gt;F111 -->\r\n<g id=\"edge31\" class=\"edge\"><title>F111&#45;&gt;F111</title>\r\n<path fill=\"none\" stroke=\"black\" d=\"M381.74,-349.156C381.685,-359.949 385.185,-368.624 392.239,-368.624 396.869,-368.624 399.968,-364.888 401.535,-359.269\"/>\r\n<polygon fill=\"black\" stroke=\"black\" points=\"405.033,-359.499 402.739,-349.156 398.082,-358.672 405.033,-359.499\"/>\r\n<text text-anchor=\"middle\" x=\"392.239\" y=\"-372.424\" font-family=\"Times New Roman,serif\" font-size=\"14.00\">1 </text>\r\n</g>\r\n<!-- F111&#45;&gt;F110 -->\r\n<g id=\"edge30\" class=\"edge\"><title>F111&#45;&gt;F110</title>\r\n<path fill=\"none\" stroke=\"black\" d=\"M423.706,-306.173C436.365,-301.518 451.231,-296.051 464.75,-291.08\"/>\r\n<polygon fill=\"black\" stroke=\"black\" points=\"466.127,-294.303 474.305,-287.567 463.711,-287.733 466.127,-294.303\"/>\r\n<text text-anchor=\"middle\" x=\"448.987\" y=\"-302.177\" font-family=\"Times New Roman,serif\" font-size=\"14.00\">0 </text>\r\n</g>\r\n<!-- F110&#45;&gt;F101 -->\r\n<g id=\"edge29\" class=\"edge\"><title>F110&#45;&gt;F101</title>\r\n<path fill=\"none\" stroke=\"black\" d=\"M538.983,-276.377C550.324,-276.377 563.254,-276.377 575.332,-276.377\"/>\r\n<polygon fill=\"black\" stroke=\"black\" points=\"575.666,-279.877 585.666,-276.377 575.666,-272.877 575.666,-279.877\"/>\r\n<text text-anchor=\"middle\" x=\"562.482\" y=\"-280.177\" font-family=\"Times New Roman,serif\" font-size=\"14.00\">1 </text>\r\n</g>\r\n<!-- F110&#45;&gt;F100 -->\r\n<g id=\"edge28\" class=\"edge\"><title>F110&#45;&gt;F100</title>\r\n<path fill=\"none\" stroke=\"black\" d=\"M534.23,-258.533C548.991,-249.814 567.84,-240.011 585.982,-234.377 656.837,-212.37 743.618,-206.781 794.427,-205.523\"/>\r\n<polygon fill=\"black\" stroke=\"black\" points=\"794.777,-209.017 804.705,-205.316 794.636,-202.018 794.777,-209.017\"/>\r\n<text text-anchor=\"middle\" x=\"675.976\" y=\"-220.177\" font-family=\"Times New Roman,serif\" font-size=\"14.00\">0 </text>\r\n</g>\r\n<!-- F101&#45;&gt;S011 -->\r\n<g id=\"edge27\" class=\"edge\"><title>F101&#45;&gt;S011</title>\r\n<path fill=\"none\" stroke=\"black\" d=\"M647.771,-294.115C668.808,-305.96 698.981,-319.377 727.724,-319.377 727.724,-319.377 727.724,-319.377 1054.21,-319.377 1075.68,-319.377 1099.66,-319.377 1119.13,-319.377\"/>\r\n<polygon fill=\"black\" stroke=\"black\" points=\"1119.15,-322.877 1129.15,-319.377 1119.15,-315.877 1119.15,-322.877\"/>\r\n<text text-anchor=\"middle\" x=\"894.966\" y=\"-323.177\" font-family=\"Times New Roman,serif\" font-size=\"14.00\">1 </text>\r\n</g>\r\n<!-- F101&#45;&gt;S010 -->\r\n<g id=\"edge26\" class=\"edge\"><title>F101&#45;&gt;S010</title>\r\n<path fill=\"none\" stroke=\"black\" d=\"M652.481,-272.176C664.056,-270.669 677.224,-268.954 689.273,-267.385\"/>\r\n<polygon fill=\"black\" stroke=\"black\" points=\"690.041,-270.814 699.505,-266.052 689.137,-263.873 690.041,-270.814\"/>\r\n<text text-anchor=\"middle\" x=\"675.976\" y=\"-274.177\" font-family=\"Times New Roman,serif\" font-size=\"14.00\">0 </text>\r\n</g>\r\n<!-- F100&#45;&gt;S001 -->\r\n<g id=\"edge25\" class=\"edge\"><title>F100&#45;&gt;S001</title>\r\n<path fill=\"none\" stroke=\"black\" d=\"M871.105,-210.317C909.324,-216.239 973.306,-226.152 1014.09,-232.472\"/>\r\n<polygon fill=\"black\" stroke=\"black\" points=\"1013.77,-235.963 1024.19,-234.035 1014.84,-229.045 1013.77,-235.963\"/>\r\n<text text-anchor=\"middle\" x=\"947.713\" y=\"-231.177\" font-family=\"Times New Roman,serif\" font-size=\"14.00\">1 </text>\r\n</g>\r\n<!-- F100&#45;&gt;S000 -->\r\n<g id=\"edge24\" class=\"edge\"><title>F100&#45;&gt;S000</title>\r\n<path fill=\"none\" stroke=\"black\" d=\"M867.181,-188.469C881.296,-179.933 898.521,-169.518 913.327,-160.565\"/>\r\n<polygon fill=\"black\" stroke=\"black\" points=\"915.437,-163.379 922.183,-155.21 911.815,-157.389 915.437,-163.379\"/>\r\n<text text-anchor=\"middle\" x=\"894.966\" y=\"-179.177\" font-family=\"Times New Roman,serif\" font-size=\"14.00\">0 </text>\r\n</g>\r\n</g>\r\n</svg>\r\n"
     },
     "metadata": {},
     "execution_count": 42
    }
   ],
   "source": [
    "dotObj_dfa(thirdlastis1)"
   ]
  },
  {
   "cell_type": "code",
   "execution_count": 43,
   "metadata": {
    "run_control": {
     "frozen": false,
     "read_only": false
    }
   },
   "outputs": [],
   "source": [
    "dped1=md2mc(src=\"File\", fname=\"./pedagogical2.dfa\")\n",
    "#machines/dfafiles/pedagogical2.dfa"
   ]
  },
  {
   "cell_type": "code",
   "execution_count": 44,
   "metadata": {
    "run_control": {
     "frozen": false,
     "read_only": false
    }
   },
   "outputs": [
    {
     "output_type": "execute_result",
     "data": {
      "text/plain": "<graphviz.dot.Digraph at 0x1c8de548bb0>",
      "image/svg+xml": "<?xml version=\"1.0\" encoding=\"UTF-8\" standalone=\"no\"?>\r\n<!DOCTYPE svg PUBLIC \"-//W3C//DTD SVG 1.1//EN\"\r\n \"http://www.w3.org/Graphics/SVG/1.1/DTD/svg11.dtd\">\r\n<!-- Generated by graphviz version 2.38.0 (20140413.2041)\r\n -->\r\n<!-- Title: %3 Pages: 1 -->\r\n<svg width=\"494pt\" height=\"74pt\"\r\n viewBox=\"0.00 0.00 494.19 74.00\" xmlns=\"http://www.w3.org/2000/svg\" xmlns:xlink=\"http://www.w3.org/1999/xlink\">\r\n<g id=\"graph0\" class=\"graph\" transform=\"scale(1 1) rotate(0) translate(4 70)\">\r\n<title>%3</title>\r\n<polygon fill=\"white\" stroke=\"none\" points=\"-4,4 -4,-70 490.193,-70 490.193,4 -4,4\"/>\r\n<!-- EMPTY -->\r\n<g id=\"node1\" class=\"node\"><title>EMPTY</title>\r\n</g>\r\n<!-- I -->\r\n<g id=\"node3\" class=\"node\"><title>I</title>\r\n<ellipse fill=\"none\" stroke=\"black\" cx=\"109\" cy=\"-18\" rx=\"18\" ry=\"18\"/>\r\n<text text-anchor=\"middle\" x=\"109\" y=\"-14.3\" font-family=\"Times New Roman,serif\" font-size=\"14.00\">I</text>\r\n</g>\r\n<!-- EMPTY&#45;&gt;I -->\r\n<g id=\"edge1\" class=\"edge\"><title>EMPTY&#45;&gt;I</title>\r\n<path fill=\"none\" stroke=\"black\" d=\"M54.195,-18C62.6538,-18 72.0513,-18 80.5951,-18\"/>\r\n<polygon fill=\"black\" stroke=\"black\" points=\"80.8257,-21.5001 90.8257,-18 80.8257,-14.5001 80.8257,-21.5001\"/>\r\n</g>\r\n<!-- A -->\r\n<g id=\"node2\" class=\"node\"><title>A</title>\r\n<ellipse fill=\"none\" stroke=\"black\" cx=\"192\" cy=\"-48\" rx=\"18\" ry=\"18\"/>\r\n<text text-anchor=\"middle\" x=\"192\" y=\"-44.3\" font-family=\"Times New Roman,serif\" font-size=\"14.00\">A</text>\r\n</g>\r\n<!-- B -->\r\n<g id=\"node4\" class=\"node\"><title>B</title>\r\n<ellipse fill=\"none\" stroke=\"black\" cx=\"275\" cy=\"-30\" rx=\"18\" ry=\"18\"/>\r\n<text text-anchor=\"middle\" x=\"275\" y=\"-26.3\" font-family=\"Times New Roman,serif\" font-size=\"14.00\">B</text>\r\n</g>\r\n<!-- A&#45;&gt;B -->\r\n<g id=\"edge4\" class=\"edge\"><title>A&#45;&gt;B</title>\r\n<path fill=\"none\" stroke=\"black\" d=\"M210.257,-48.8062C218.983,-48.8236 229.674,-48.2439 239,-46 242.483,-45.1619 246.043,-43.9728 249.495,-42.6167\"/>\r\n<polygon fill=\"black\" stroke=\"black\" points=\"251.054,-45.7539 258.781,-38.5046 248.22,-39.3533 251.054,-45.7539\"/>\r\n<text text-anchor=\"middle\" x=\"233.5\" y=\"-50.8\" font-family=\"Times New Roman,serif\" font-size=\"14.00\">0 </text>\r\n</g>\r\n<!-- A&#45;&gt;B -->\r\n<g id=\"edge5\" class=\"edge\"><title>A&#45;&gt;B</title>\r\n<path fill=\"none\" stroke=\"black\" d=\"M206.837,-37.33C212.97,-33.2506 220.488,-29.0807 228,-27 234.028,-25.3304 240.663,-24.9598 246.972,-25.2508\"/>\r\n<polygon fill=\"black\" stroke=\"black\" points=\"246.823,-28.7529 257.118,-26.2524 247.51,-21.7868 246.823,-28.7529\"/>\r\n<text text-anchor=\"middle\" x=\"233.5\" y=\"-30.8\" font-family=\"Times New Roman,serif\" font-size=\"14.00\">1 </text>\r\n</g>\r\n<!-- I&#45;&gt;A -->\r\n<g id=\"edge2\" class=\"edge\"><title>I&#45;&gt;A</title>\r\n<path fill=\"none\" stroke=\"black\" d=\"M126.003,-23.927C137.135,-28.0501 152.223,-33.6381 165.059,-38.3924\"/>\r\n<polygon fill=\"black\" stroke=\"black\" points=\"164.16,-41.7915 174.753,-41.9826 166.591,-35.2273 164.16,-41.7915\"/>\r\n<text text-anchor=\"middle\" x=\"150.5\" y=\"-37.8\" font-family=\"Times New Roman,serif\" font-size=\"14.00\">0 </text>\r\n</g>\r\n<!-- I&#45;&gt;B -->\r\n<g id=\"edge3\" class=\"edge\"><title>I&#45;&gt;B</title>\r\n<path fill=\"none\" stroke=\"black\" d=\"M126.371,-13.0515C146.251,-7.72826 180.751,-0.69621 210,-6 223.275,-8.40728 237.383,-13.4102 248.964,-18.2283\"/>\r\n<polygon fill=\"black\" stroke=\"black\" points=\"247.842,-21.5572 258.408,-22.345 250.64,-15.1404 247.842,-21.5572\"/>\r\n<text text-anchor=\"middle\" x=\"192\" y=\"-9.8\" font-family=\"Times New Roman,serif\" font-size=\"14.00\">1 </text>\r\n</g>\r\n<!-- F1 -->\r\n<g id=\"node5\" class=\"node\"><title>F1</title>\r\n<ellipse fill=\"none\" stroke=\"black\" cx=\"364.798\" cy=\"-30\" rx=\"20.6302\" ry=\"20.6302\"/>\r\n<ellipse fill=\"none\" stroke=\"black\" cx=\"364.798\" cy=\"-30\" rx=\"24.5979\" ry=\"24.5979\"/>\r\n<text text-anchor=\"middle\" x=\"364.798\" y=\"-26.3\" font-family=\"Times New Roman,serif\" font-size=\"14.00\">F1</text>\r\n</g>\r\n<!-- B&#45;&gt;F1 -->\r\n<g id=\"edge6\" class=\"edge\"><title>B&#45;&gt;F1</title>\r\n<path fill=\"none\" stroke=\"black\" d=\"M293.346,-30C303.731,-30 317.293,-30 329.741,-30\"/>\r\n<polygon fill=\"black\" stroke=\"black\" points=\"329.841,-33.5001 339.841,-30 329.841,-26.5001 329.841,-33.5001\"/>\r\n<text text-anchor=\"middle\" x=\"316.5\" y=\"-33.8\" font-family=\"Times New Roman,serif\" font-size=\"14.00\">1 </text>\r\n</g>\r\n<!-- F2 -->\r\n<g id=\"node6\" class=\"node\"><title>F2</title>\r\n<ellipse fill=\"none\" stroke=\"black\" cx=\"461.394\" cy=\"-30\" rx=\"20.6302\" ry=\"20.6302\"/>\r\n<ellipse fill=\"none\" stroke=\"black\" cx=\"461.394\" cy=\"-30\" rx=\"24.5979\" ry=\"24.5979\"/>\r\n<text text-anchor=\"middle\" x=\"461.394\" y=\"-26.3\" font-family=\"Times New Roman,serif\" font-size=\"14.00\">F2</text>\r\n</g>\r\n<!-- F1&#45;&gt;F2 -->\r\n<g id=\"edge7\" class=\"edge\"><title>F1&#45;&gt;F2</title>\r\n<path fill=\"none\" stroke=\"black\" d=\"M389.669,-30C400.76,-30 414.15,-30 426.283,-30\"/>\r\n<polygon fill=\"black\" stroke=\"black\" points=\"426.531,-33.5001 436.531,-30 426.531,-26.5001 426.531,-33.5001\"/>\r\n<text text-anchor=\"middle\" x=\"413.096\" y=\"-33.8\" font-family=\"Times New Roman,serif\" font-size=\"14.00\">0 </text>\r\n</g>\r\n<!-- F1&#45;&gt;F2 -->\r\n<g id=\"edge8\" class=\"edge\"><title>F1&#45;&gt;F2</title>\r\n<path fill=\"none\" stroke=\"black\" d=\"M386.886,-18.3097C393.337,-15.318 400.585,-12.5188 407.596,-11 415.276,-9.33653 423.357,-10.6073 430.825,-13.1285\"/>\r\n<polygon fill=\"black\" stroke=\"black\" points=\"429.625,-16.4201 440.203,-17.0215 432.309,-9.95498 429.625,-16.4201\"/>\r\n<text text-anchor=\"middle\" x=\"413.096\" y=\"-14.8\" font-family=\"Times New Roman,serif\" font-size=\"14.00\">1 </text>\r\n</g>\r\n</g>\r\n</svg>\r\n"
     },
     "metadata": {},
     "execution_count": 44
    }
   ],
   "source": [
    "dotObj_dfa(dped1)"
   ]
  },
  {
   "cell_type": "code",
   "execution_count": 45,
   "metadata": {
    "run_control": {
     "frozen": false,
     "read_only": false
    }
   },
   "outputs": [],
   "source": [
    "secondLastIs1 = md2mc('''\n",
    "!!------------------------------------------------------------\n",
    "!! This DFA looks for patterns of the form ....1.\n",
    "!! i.e., the second-last (counting from the end-point) is a 1\n",
    "!!\n",
    "!! DFAs find such patterns \"very stressful to handle\",\n",
    "!! as they are kept guessing of the form  'are we there yet?'\n",
    "!! 'are we seeing the second-last' ?\n",
    "!! They must keep all the failure options at hand. Even after\n",
    "!! a 'fleeting glimpse' of the second-last, more inputs can\n",
    "!! come barreling-in to make that \"lucky 1\" a non-second-last.\n",
    "!!\n",
    "!! We take 7 states in the DFA solution.\n",
    "!!------------------------------------------------------------\n",
    "\n",
    "DFA\n",
    "!!------------------------------------------------------------\n",
    "!! State : in ->  tostate !! comment\n",
    "!!------------------------------------------------------------\n",
    "\n",
    "I   :  0 ->  S0  !! Enter at init state I\n",
    "I   :  1 ->  S1  !! Record bit seen in state letter\n",
    "                     !! i.e., S0 means \"state after seeing a 0\"\n",
    "\t\t\t \n",
    "S0  :  0 ->  S00 !! continue recording input seen\n",
    "S0  :  1 ->  S01 !! in state-letter. This is a problem-specific\n",
    "                 !! way of compressing the input seen so far.\n",
    "\n",
    "S1  :  0 ->  F10 !! We now have a \"second last\" available!\n",
    "S1  :  1 ->  F11 !! Both F10 and F10 are \"F\" (final)\n",
    "\n",
    "S00 :  0 ->  S00 !! History of things seen is still 00\n",
    "S00 :  1 ->  S01 !! Remember 01 in the state\n",
    "\n",
    "S01 :  0 ->  F10 !! We again have a second-last of 1\n",
    "S01 :  1 ->  F11 !! We are in F11 because of 11 being last seen\n",
    "\n",
    "F10 :  0 ->  S00 !! The second-last 1 gets pushed-out\n",
    "F10 :  1 ->  S01 !! The second-last 1 gets pushed-out here too\n",
    "\n",
    "F11 :  0 ->  F10 !! Still we have a second-last 1\n",
    "F11 :  1 ->  F11 !! Stay in F11, as last two seen are 11\n",
    "\n",
    "!!------------------------------------------------------------\n",
    "''')"
   ]
  },
  {
   "cell_type": "code",
   "execution_count": null,
   "metadata": {
    "run_control": {
     "frozen": false,
     "read_only": false
    }
   },
   "outputs": [],
   "source": []
  },
  {
   "cell_type": "code",
   "execution_count": 46,
   "metadata": {
    "run_control": {
     "frozen": false,
     "read_only": false
    }
   },
   "outputs": [
    {
     "output_type": "execute_result",
     "data": {
      "text/plain": "'0101'"
     },
     "metadata": {},
     "execution_count": 46
    }
   ],
   "source": [
    "nthnumeric(20,['0','1'])"
   ]
  },
  {
   "cell_type": "code",
   "execution_count": 47,
   "metadata": {
    "run_control": {
     "frozen": false,
     "read_only": false
    }
   },
   "outputs": [
    {
     "output_type": "execute_result",
     "data": {
      "text/plain": "'S01'"
     },
     "metadata": {},
     "execution_count": 47
    }
   ],
   "source": [
    "run_dfa(secondLastIs1, '0101')"
   ]
  },
  {
   "cell_type": "code",
   "execution_count": 48,
   "metadata": {
    "run_control": {
     "frozen": false,
     "read_only": false
    }
   },
   "outputs": [
    {
     "output_type": "execute_result",
     "data": {
      "text/plain": "False"
     },
     "metadata": {},
     "execution_count": 48
    }
   ],
   "source": [
    "accepts_dfa(secondLastIs1, '0101')"
   ]
  },
  {
   "cell_type": "code",
   "execution_count": 49,
   "metadata": {
    "run_control": {
     "frozen": false,
     "read_only": false
    },
    "tags": []
   },
   "outputs": [
    {
     "output_type": "stream",
     "name": "stdout",
     "text": "This DFA rejects  \nThis DFA rejects  0\nThis DFA rejects  1\nThis DFA rejects  00\nThis DFA rejects  01\nThis DFA accepts  10\nThis DFA accepts  11\nThis DFA rejects  000\nThis DFA rejects  001\nThis DFA accepts  010\nThis DFA accepts  011\nThis DFA rejects  100\n"
    }
   ],
   "source": [
    "tests = [ nthnumeric(i, ['0','1']) for i in range(12) ]\n",
    "for t in tests:\n",
    "    if accepts_dfa(secondLastIs1, t):\n",
    "        print(\"This DFA accepts \", t)\n",
    "    else:\n",
    "        print(\"This DFA rejects \", t)"
   ]
  },
  {
   "cell_type": "code",
   "execution_count": 50,
   "metadata": {
    "run_control": {
     "frozen": false,
     "read_only": false
    },
    "tags": []
   },
   "outputs": [
    {
     "output_type": "stream",
     "name": "stdout",
     "text": "Help on function run_dfa in module jove.Def_DFA:\n\nrun_dfa(D, s)\n    In : D (consistent DFA)\n         s (string over D's sigma, including \"\")\n    Out: next state of D[\"q0\"] via string s\n\n"
    }
   ],
   "source": [
    "help(run_dfa)"
   ]
  },
  {
   "cell_type": "markdown",
   "metadata": {
    "run_control": {
     "frozen": false,
     "read_only": false
    }
   },
   "source": [
    "# Study DeMorgan's Law on DFA\n",
    "\n",
    "This is an extensive illustration of union, intersection and complementation, DFA minimization, isomorphism test, language equivalence test, and an application of DeMorgan's law\n",
    "\n",
    "## Define a DFA for \"odd 1s\" (over {0,1})"
   ]
  },
  {
   "cell_type": "code",
   "execution_count": 51,
   "metadata": {
    "run_control": {
     "frozen": false,
     "read_only": false
    }
   },
   "outputs": [],
   "source": [
    "dfaOdd1s = md2mc('''\n",
    "DFA\n",
    "I : 0 -> I\n",
    "I : 1 -> F\n",
    "F : 0 -> F \n",
    "F : 1 -> I\n",
    "''')"
   ]
  },
  {
   "cell_type": "code",
   "execution_count": 52,
   "metadata": {
    "run_control": {
     "frozen": false,
     "read_only": false
    }
   },
   "outputs": [
    {
     "output_type": "execute_result",
     "data": {
      "text/plain": "<graphviz.dot.Digraph at 0x1c8de552cd0>",
      "image/svg+xml": "<?xml version=\"1.0\" encoding=\"UTF-8\" standalone=\"no\"?>\r\n<!DOCTYPE svg PUBLIC \"-//W3C//DTD SVG 1.1//EN\"\r\n \"http://www.w3.org/Graphics/SVG/1.1/DTD/svg11.dtd\">\r\n<!-- Generated by graphviz version 2.38.0 (20140413.2041)\r\n -->\r\n<!-- Title: %3 Pages: 1 -->\r\n<svg width=\"226pt\" height=\"85pt\"\r\n viewBox=\"0.00 0.00 226.00 85.00\" xmlns=\"http://www.w3.org/2000/svg\" xmlns:xlink=\"http://www.w3.org/1999/xlink\">\r\n<g id=\"graph0\" class=\"graph\" transform=\"scale(1 1) rotate(0) translate(4 81)\">\r\n<title>%3</title>\r\n<polygon fill=\"white\" stroke=\"none\" points=\"-4,4 -4,-81 222,-81 222,4 -4,4\"/>\r\n<!-- EMPTY -->\r\n<g id=\"node1\" class=\"node\"><title>EMPTY</title>\r\n</g>\r\n<!-- I -->\r\n<g id=\"node2\" class=\"node\"><title>I</title>\r\n<ellipse fill=\"none\" stroke=\"black\" cx=\"109\" cy=\"-22\" rx=\"18\" ry=\"18\"/>\r\n<text text-anchor=\"middle\" x=\"109\" y=\"-18.3\" font-family=\"Times New Roman,serif\" font-size=\"14.00\">I</text>\r\n</g>\r\n<!-- EMPTY&#45;&gt;I -->\r\n<g id=\"edge1\" class=\"edge\"><title>EMPTY&#45;&gt;I</title>\r\n<path fill=\"none\" stroke=\"black\" d=\"M54.195,-22C62.6538,-22 72.0513,-22 80.5951,-22\"/>\r\n<polygon fill=\"black\" stroke=\"black\" points=\"80.8257,-25.5001 90.8257,-22 80.8257,-18.5001 80.8257,-25.5001\"/>\r\n</g>\r\n<!-- I&#45;&gt;I -->\r\n<g id=\"edge2\" class=\"edge\"><title>I&#45;&gt;I</title>\r\n<path fill=\"none\" stroke=\"black\" d=\"M102.621,-39.0373C101.319,-48.8579 103.445,-58 109,-58 112.472,-58 114.604,-54.4289 115.398,-49.3529\"/>\r\n<polygon fill=\"black\" stroke=\"black\" points=\"118.897,-49.031 115.379,-39.0373 111.897,-49.0435 118.897,-49.031\"/>\r\n<text text-anchor=\"middle\" x=\"109\" y=\"-61.8\" font-family=\"Times New Roman,serif\" font-size=\"14.00\">0 </text>\r\n</g>\r\n<!-- F -->\r\n<g id=\"node3\" class=\"node\"><title>F</title>\r\n<ellipse fill=\"none\" stroke=\"black\" cx=\"196\" cy=\"-22\" rx=\"18\" ry=\"18\"/>\r\n<ellipse fill=\"none\" stroke=\"black\" cx=\"196\" cy=\"-22\" rx=\"22\" ry=\"22\"/>\r\n<text text-anchor=\"middle\" x=\"196\" y=\"-18.3\" font-family=\"Times New Roman,serif\" font-size=\"14.00\">F</text>\r\n</g>\r\n<!-- I&#45;&gt;F -->\r\n<g id=\"edge3\" class=\"edge\"><title>I&#45;&gt;F</title>\r\n<path fill=\"none\" stroke=\"black\" d=\"M127.201,-22C137.631,-22 151.258,-22 163.557,-22\"/>\r\n<polygon fill=\"black\" stroke=\"black\" points=\"163.91,-25.5001 173.91,-22 163.91,-18.5001 163.91,-25.5001\"/>\r\n<text text-anchor=\"middle\" x=\"150.5\" y=\"-25.8\" font-family=\"Times New Roman,serif\" font-size=\"14.00\">1 </text>\r\n</g>\r\n<!-- F&#45;&gt;I -->\r\n<g id=\"edge5\" class=\"edge\"><title>F&#45;&gt;I</title>\r\n<path fill=\"none\" stroke=\"black\" d=\"M177.269,-9.54066C167.851,-4.39614 155.981,-0.211717 145,-3 141.042,-4.00504 137.047,-5.55766 133.244,-7.35171\"/>\r\n<polygon fill=\"black\" stroke=\"black\" points=\"131.475,-4.32845 124.311,-12.1343 134.779,-10.4996 131.475,-4.32845\"/>\r\n<text text-anchor=\"middle\" x=\"150.5\" y=\"-6.8\" font-family=\"Times New Roman,serif\" font-size=\"14.00\">1 </text>\r\n</g>\r\n<!-- F&#45;&gt;F -->\r\n<g id=\"edge4\" class=\"edge\"><title>F&#45;&gt;F</title>\r\n<path fill=\"none\" stroke=\"black\" d=\"M187.994,-42.5808C186.886,-52.8447 189.555,-62 196,-62 200.129,-62 202.708,-58.2427 203.737,-52.8436\"/>\r\n<polygon fill=\"black\" stroke=\"black\" points=\"207.243,-52.6691 204.006,-42.5808 200.245,-52.4857 207.243,-52.6691\"/>\r\n<text text-anchor=\"middle\" x=\"196\" y=\"-65.8\" font-family=\"Times New Roman,serif\" font-size=\"14.00\">0 </text>\r\n</g>\r\n</g>\r\n</svg>\r\n"
     },
     "metadata": {},
     "execution_count": 52
    }
   ],
   "source": [
    "dotObj_dfa(dfaOdd1s)"
   ]
  },
  {
   "cell_type": "markdown",
   "metadata": {
    "run_control": {
     "frozen": false,
     "read_only": false
    }
   },
   "source": [
    "## Define a DFA for \"ends in 01\""
   ]
  },
  {
   "cell_type": "code",
   "execution_count": 53,
   "metadata": {
    "run_control": {
     "frozen": false,
     "read_only": false
    }
   },
   "outputs": [],
   "source": [
    "ends01 = md2mc('''\n",
    "DFA \n",
    "I     : 1 -> I   !! idle at I\n",
    "I     : 0 -> S0  !! record 0 seen\n",
    " \n",
    "S0    : 0 -> S0  !! stay at S0, hopeful of a 1\n",
    "S0    : 1 -> F   !! Found 01\n",
    "\n",
    "F     : 0 -> S0  !! Broke ending, but S0 is the fall back\n",
    "F     : 1 -> I   !! Must resume finding another 0\n",
    "''')"
   ]
  },
  {
   "cell_type": "code",
   "execution_count": 54,
   "metadata": {
    "run_control": {
     "frozen": false,
     "read_only": false
    }
   },
   "outputs": [
    {
     "output_type": "execute_result",
     "data": {
      "text/plain": "<graphviz.dot.Digraph at 0x1c8de5526a0>",
      "image/svg+xml": "<?xml version=\"1.0\" encoding=\"UTF-8\" standalone=\"no\"?>\r\n<!DOCTYPE svg PUBLIC \"-//W3C//DTD SVG 1.1//EN\"\r\n \"http://www.w3.org/Graphics/SVG/1.1/DTD/svg11.dtd\">\r\n<!-- Generated by graphviz version 2.38.0 (20140413.2041)\r\n -->\r\n<!-- Title: %3 Pages: 1 -->\r\n<svg width=\"315pt\" height=\"113pt\"\r\n viewBox=\"0.00 0.00 314.60 112.80\" xmlns=\"http://www.w3.org/2000/svg\" xmlns:xlink=\"http://www.w3.org/1999/xlink\">\r\n<g id=\"graph0\" class=\"graph\" transform=\"scale(1 1) rotate(0) translate(4 108.798)\">\r\n<title>%3</title>\r\n<polygon fill=\"white\" stroke=\"none\" points=\"-4,4 -4,-108.798 310.596,-108.798 310.596,4 -4,4\"/>\r\n<!-- EMPTY -->\r\n<g id=\"node1\" class=\"node\"><title>EMPTY</title>\r\n</g>\r\n<!-- I -->\r\n<g id=\"node2\" class=\"node\"><title>I</title>\r\n<ellipse fill=\"none\" stroke=\"black\" cx=\"109\" cy=\"-18\" rx=\"18\" ry=\"18\"/>\r\n<text text-anchor=\"middle\" x=\"109\" y=\"-14.3\" font-family=\"Times New Roman,serif\" font-size=\"14.00\">I</text>\r\n</g>\r\n<!-- EMPTY&#45;&gt;I -->\r\n<g id=\"edge1\" class=\"edge\"><title>EMPTY&#45;&gt;I</title>\r\n<path fill=\"none\" stroke=\"black\" d=\"M54.195,-18C62.6538,-18 72.0513,-18 80.5951,-18\"/>\r\n<polygon fill=\"black\" stroke=\"black\" points=\"80.8257,-21.5001 90.8257,-18 80.8257,-14.5001 80.8257,-21.5001\"/>\r\n</g>\r\n<!-- I&#45;&gt;I -->\r\n<g id=\"edge2\" class=\"edge\"><title>I&#45;&gt;I</title>\r\n<path fill=\"none\" stroke=\"black\" d=\"M102.621,-35.0373C101.319,-44.8579 103.445,-54 109,-54 112.472,-54 114.604,-50.4289 115.398,-45.3529\"/>\r\n<polygon fill=\"black\" stroke=\"black\" points=\"118.897,-45.031 115.379,-35.0373 111.897,-45.0435 118.897,-45.031\"/>\r\n<text text-anchor=\"middle\" x=\"109\" y=\"-57.8\" font-family=\"Times New Roman,serif\" font-size=\"14.00\">1 </text>\r\n</g>\r\n<!-- S0 -->\r\n<g id=\"node3\" class=\"node\"><title>S0</title>\r\n<ellipse fill=\"none\" stroke=\"black\" cx=\"194.798\" cy=\"-51\" rx=\"20.5982\" ry=\"20.5982\"/>\r\n<text text-anchor=\"middle\" x=\"194.798\" y=\"-47.3\" font-family=\"Times New Roman,serif\" font-size=\"14.00\">S0</text>\r\n</g>\r\n<!-- I&#45;&gt;S0 -->\r\n<g id=\"edge3\" class=\"edge\"><title>I&#45;&gt;S0</title>\r\n<path fill=\"none\" stroke=\"black\" d=\"M126.157,-24.3627C137.3,-28.7507 152.408,-34.7002 165.519,-39.8636\"/>\r\n<polygon fill=\"black\" stroke=\"black\" points=\"164.47,-43.2122 175.057,-43.6198 167.035,-36.699 164.47,-43.2122\"/>\r\n<text text-anchor=\"middle\" x=\"150.5\" y=\"-39.8\" font-family=\"Times New Roman,serif\" font-size=\"14.00\">0 </text>\r\n</g>\r\n<!-- S0&#45;&gt;S0 -->\r\n<g id=\"edge4\" class=\"edge\"><title>S0&#45;&gt;S0</title>\r\n<path fill=\"none\" stroke=\"black\" d=\"M186.838,-70.5637C185.614,-80.6796 188.267,-89.7982 194.798,-89.7982 198.982,-89.7982 201.575,-86.0559 202.576,-80.7065\"/>\r\n<polygon fill=\"black\" stroke=\"black\" points=\"206.078,-80.6249 202.758,-70.5637 199.079,-80.4991 206.078,-80.6249\"/>\r\n<text text-anchor=\"middle\" x=\"194.798\" y=\"-93.5982\" font-family=\"Times New Roman,serif\" font-size=\"14.00\">0 </text>\r\n</g>\r\n<!-- F -->\r\n<g id=\"node4\" class=\"node\"><title>F</title>\r\n<ellipse fill=\"none\" stroke=\"black\" cx=\"284.596\" cy=\"-30\" rx=\"18\" ry=\"18\"/>\r\n<ellipse fill=\"none\" stroke=\"black\" cx=\"284.596\" cy=\"-30\" rx=\"22\" ry=\"22\"/>\r\n<text text-anchor=\"middle\" x=\"284.596\" y=\"-26.3\" font-family=\"Times New Roman,serif\" font-size=\"14.00\">F</text>\r\n</g>\r\n<!-- S0&#45;&gt;F -->\r\n<g id=\"edge5\" class=\"edge\"><title>S0&#45;&gt;F</title>\r\n<path fill=\"none\" stroke=\"black\" d=\"M215.966,-50.236C224.848,-49.5672 235.345,-48.3201 244.596,-46 248.037,-45.1372 251.573,-44.0275 255.044,-42.7954\"/>\r\n<polygon fill=\"black\" stroke=\"black\" points=\"256.478,-45.9931 264.526,-39.1022 253.937,-39.4705 256.478,-45.9931\"/>\r\n<text text-anchor=\"middle\" x=\"239.096\" y=\"-52.8\" font-family=\"Times New Roman,serif\" font-size=\"14.00\">1 </text>\r\n</g>\r\n<!-- F&#45;&gt;I -->\r\n<g id=\"edge7\" class=\"edge\"><title>F&#45;&gt;I</title>\r\n<path fill=\"none\" stroke=\"black\" d=\"M264.135,-21.1407C250.788,-15.5655 232.501,-8.89574 215.596,-6 188.838,-1.41642 157.954,-6.06613 136.528,-10.8494\"/>\r\n<polygon fill=\"black\" stroke=\"black\" points=\"135.453,-7.50784 126.543,-13.2413 137.083,-14.3152 135.453,-7.50784\"/>\r\n<text text-anchor=\"middle\" x=\"194.798\" y=\"-9.8\" font-family=\"Times New Roman,serif\" font-size=\"14.00\">1 </text>\r\n</g>\r\n<!-- F&#45;&gt;S0 -->\r\n<g id=\"edge6\" class=\"edge\"><title>F&#45;&gt;S0</title>\r\n<path fill=\"none\" stroke=\"black\" d=\"M262.811,-25.6399C253.688,-24.516 242.949,-24.2816 233.596,-27 228.898,-28.3655 224.226,-30.5101 219.85,-32.9684\"/>\r\n<polygon fill=\"black\" stroke=\"black\" points=\"217.97,-30.0159 211.372,-38.3054 221.7,-35.9398 217.97,-30.0159\"/>\r\n<text text-anchor=\"middle\" x=\"239.096\" y=\"-30.8\" font-family=\"Times New Roman,serif\" font-size=\"14.00\">0 </text>\r\n</g>\r\n</g>\r\n</svg>\r\n"
     },
     "metadata": {},
     "execution_count": 54
    }
   ],
   "source": [
    "dotObj_dfa(ends01)"
   ]
  },
  {
   "cell_type": "markdown",
   "metadata": {
    "run_control": {
     "frozen": false,
     "read_only": false
    }
   },
   "source": [
    "## Now produce a DFA for the union\n",
    "\n",
    "Union of \"odd 1s\" and \"ends in 01\"\n"
   ]
  },
  {
   "cell_type": "code",
   "execution_count": 55,
   "metadata": {
    "run_control": {
     "frozen": false,
     "read_only": false
    }
   },
   "outputs": [],
   "source": [
    "odd1sORends01 = union_dfa(dfaOdd1s,ends01)"
   ]
  },
  {
   "cell_type": "code",
   "execution_count": 56,
   "metadata": {
    "run_control": {
     "frozen": false,
     "read_only": false
    }
   },
   "outputs": [
    {
     "output_type": "execute_result",
     "data": {
      "text/plain": "<graphviz.dot.Digraph at 0x1c8de552ca0>",
      "image/svg+xml": "<?xml version=\"1.0\" encoding=\"UTF-8\" standalone=\"no\"?>\r\n<!DOCTYPE svg PUBLIC \"-//W3C//DTD SVG 1.1//EN\"\r\n \"http://www.w3.org/Graphics/SVG/1.1/DTD/svg11.dtd\">\r\n<!-- Generated by graphviz version 2.38.0 (20140413.2041)\r\n -->\r\n<!-- Title: %3 Pages: 1 -->\r\n<svg width=\"747pt\" height=\"231pt\"\r\n viewBox=\"0.00 0.00 746.87 231.00\" xmlns=\"http://www.w3.org/2000/svg\" xmlns:xlink=\"http://www.w3.org/1999/xlink\">\r\n<g id=\"graph0\" class=\"graph\" transform=\"scale(1 1) rotate(0) translate(4 227)\">\r\n<title>%3</title>\r\n<polygon fill=\"white\" stroke=\"none\" points=\"-4,4 -4,-227 742.866,-227 742.866,4 -4,4\"/>\r\n<!-- EMPTY -->\r\n<g id=\"node1\" class=\"node\"><title>EMPTY</title>\r\n</g>\r\n<!-- \\(I_I\\) -->\r\n<g id=\"node2\" class=\"node\"><title>\\(I_I\\)</title>\r\n<ellipse fill=\"none\" stroke=\"black\" cx=\"118.298\" cy=\"-71\" rx=\"27.0966\" ry=\"27.0966\"/>\r\n<text text-anchor=\"middle\" x=\"118.298\" y=\"-67.3\" font-family=\"Times New Roman,serif\" font-size=\"14.00\">(I_I)</text>\r\n</g>\r\n<!-- EMPTY&#45;&gt;\\(I_I\\) -->\r\n<g id=\"edge1\" class=\"edge\"><title>EMPTY&#45;&gt;\\(I_I\\)</title>\r\n<path fill=\"none\" stroke=\"black\" d=\"M54.3092,-71C62.5921,-71 71.8942,-71 80.7554,-71\"/>\r\n<polygon fill=\"black\" stroke=\"black\" points=\"80.8678,-74.5001 90.8678,-71 80.8678,-67.5001 80.8678,-74.5001\"/>\r\n</g>\r\n<!-- \\(I_S0\\) -->\r\n<g id=\"node3\" class=\"node\"><title>\\(I_S0\\)</title>\r\n<ellipse fill=\"none\" stroke=\"black\" cx=\"227.042\" cy=\"-113\" rx=\"34.394\" ry=\"34.394\"/>\r\n<text text-anchor=\"middle\" x=\"227.042\" y=\"-109.3\" font-family=\"Times New Roman,serif\" font-size=\"14.00\">(I_S0)</text>\r\n</g>\r\n<!-- \\(I_I\\)&#45;&gt;\\(I_S0\\) -->\r\n<g id=\"edge7\" class=\"edge\"><title>\\(I_I\\)&#45;&gt;\\(I_S0\\)</title>\r\n<path fill=\"none\" stroke=\"black\" d=\"M144.055,-80.7412C156.265,-85.5454 171.312,-91.4657 185.168,-96.9175\"/>\r\n<polygon fill=\"black\" stroke=\"black\" points=\"183.933,-100.193 194.521,-100.597 186.496,-93.679 183.933,-100.193\"/>\r\n<text text-anchor=\"middle\" x=\"169.095\" y=\"-95.8\" font-family=\"Times New Roman,serif\" font-size=\"14.00\">0 </text>\r\n</g>\r\n<!-- \\(F_I\\) -->\r\n<g id=\"node7\" class=\"node\"><title>\\(F_I\\)</title>\r\n<ellipse fill=\"none\" stroke=\"black\" cx=\"704.969\" cy=\"-93\" rx=\"29.8071\" ry=\"29.8071\"/>\r\n<ellipse fill=\"none\" stroke=\"black\" cx=\"704.969\" cy=\"-93\" rx=\"33.795\" ry=\"33.795\"/>\r\n<text text-anchor=\"middle\" x=\"704.969\" y=\"-89.3\" font-family=\"Times New Roman,serif\" font-size=\"14.00\">(F_I)</text>\r\n</g>\r\n<!-- \\(I_I\\)&#45;&gt;\\(F_I\\) -->\r\n<g id=\"edge3\" class=\"edge\"><title>\\(I_I\\)&#45;&gt;\\(F_I\\)</title>\r\n<path fill=\"none\" stroke=\"black\" d=\"M126.608,-97.0911C139.523,-136.84 170.411,-208 226.042,-208 226.042,-208 226.042,-208 591.174,-208 634.375,-208 666.51,-166.126 685.203,-132.914\"/>\r\n<polygon fill=\"black\" stroke=\"black\" points=\"688.443,-134.28 690.117,-123.818 682.285,-130.952 688.443,-134.28\"/>\r\n<text text-anchor=\"middle\" x=\"404.983\" y=\"-211.8\" font-family=\"Times New Roman,serif\" font-size=\"14.00\">1 </text>\r\n</g>\r\n<!-- \\(I_S0\\)&#45;&gt;\\(I_S0\\) -->\r\n<g id=\"edge10\" class=\"edge\"><title>\\(I_S0\\)&#45;&gt;\\(I_S0\\)</title>\r\n<path fill=\"none\" stroke=\"black\" d=\"M216.543,-146.035C216.597,-156.842 220.097,-165.447 227.042,-165.447 231.6,-165.447 234.674,-161.741 236.264,-156.139\"/>\r\n<polygon fill=\"black\" stroke=\"black\" points=\"239.759,-156.395 237.541,-146.035 232.815,-155.517 239.759,-156.395\"/>\r\n<text text-anchor=\"middle\" x=\"227.042\" y=\"-169.247\" font-family=\"Times New Roman,serif\" font-size=\"14.00\">0 </text>\r\n</g>\r\n<!-- \\(F_F\\) -->\r\n<g id=\"node6\" class=\"node\"><title>\\(F_F\\)</title>\r\n<ellipse fill=\"none\" stroke=\"black\" cx=\"344.986\" cy=\"-68\" rx=\"32.4945\" ry=\"32.4945\"/>\r\n<ellipse fill=\"none\" stroke=\"black\" cx=\"344.986\" cy=\"-68\" rx=\"36.4942\" ry=\"36.4942\"/>\r\n<text text-anchor=\"middle\" x=\"344.986\" y=\"-64.3\" font-family=\"Times New Roman,serif\" font-size=\"14.00\">(F_F)</text>\r\n</g>\r\n<!-- \\(I_S0\\)&#45;&gt;\\(F_F\\) -->\r\n<g id=\"edge5\" class=\"edge\"><title>\\(I_S0\\)&#45;&gt;\\(F_F\\)</title>\r\n<path fill=\"none\" stroke=\"black\" d=\"M259.418,-100.822C272.278,-95.8313 287.367,-89.975 301.212,-84.6016\"/>\r\n<polygon fill=\"black\" stroke=\"black\" points=\"302.499,-87.8564 310.555,-80.9753 299.966,-81.3307 302.499,-87.8564\"/>\r\n<text text-anchor=\"middle\" x=\"284.989\" y=\"-95.8\" font-family=\"Times New Roman,serif\" font-size=\"14.00\">1 </text>\r\n</g>\r\n<!-- \\(F_S0\\) -->\r\n<g id=\"node4\" class=\"node\"><title>\\(F_S0\\)</title>\r\n<ellipse fill=\"none\" stroke=\"black\" cx=\"468.88\" cy=\"-68\" rx=\"36.304\" ry=\"36.304\"/>\r\n<ellipse fill=\"none\" stroke=\"black\" cx=\"468.88\" cy=\"-68\" rx=\"40.2938\" ry=\"40.2938\"/>\r\n<text text-anchor=\"middle\" x=\"468.88\" y=\"-64.3\" font-family=\"Times New Roman,serif\" font-size=\"14.00\">(F_S0)</text>\r\n</g>\r\n<!-- \\(F_S0\\)&#45;&gt;\\(F_S0\\) -->\r\n<g id=\"edge8\" class=\"edge\"><title>\\(F_S0\\)&#45;&gt;\\(F_S0\\)</title>\r\n<path fill=\"none\" stroke=\"black\" d=\"M457.3,-106.749C457.755,-117.843 461.614,-126.397 468.88,-126.397 473.762,-126.397 477.106,-122.535 478.913,-116.636\"/>\r\n<polygon fill=\"black\" stroke=\"black\" points=\"482.372,-117.17 480.46,-106.749 475.456,-116.088 482.372,-117.17\"/>\r\n<text text-anchor=\"middle\" x=\"468.88\" y=\"-130.197\" font-family=\"Times New Roman,serif\" font-size=\"14.00\">0 </text>\r\n</g>\r\n<!-- \\(I_F\\) -->\r\n<g id=\"node5\" class=\"node\"><title>\\(I_F\\)</title>\r\n<ellipse fill=\"none\" stroke=\"black\" cx=\"590.174\" cy=\"-135\" rx=\"29.8071\" ry=\"29.8071\"/>\r\n<ellipse fill=\"none\" stroke=\"black\" cx=\"590.174\" cy=\"-135\" rx=\"33.795\" ry=\"33.795\"/>\r\n<text text-anchor=\"middle\" x=\"590.174\" y=\"-131.3\" font-family=\"Times New Roman,serif\" font-size=\"14.00\">(I_F)</text>\r\n</g>\r\n<!-- \\(F_S0\\)&#45;&gt;\\(I_F\\) -->\r\n<g id=\"edge13\" class=\"edge\"><title>\\(F_S0\\)&#45;&gt;\\(I_F\\)</title>\r\n<path fill=\"none\" stroke=\"black\" d=\"M504.385,-87.3792C518.973,-95.5725 536.017,-105.145 550.983,-113.55\"/>\r\n<polygon fill=\"black\" stroke=\"black\" points=\"549.559,-116.765 559.992,-118.61 552.986,-110.661 549.559,-116.765\"/>\r\n<text text-anchor=\"middle\" x=\"532.777\" y=\"-109.8\" font-family=\"Times New Roman,serif\" font-size=\"14.00\">1 </text>\r\n</g>\r\n<!-- \\(I_F\\)&#45;&gt;\\(I_S0\\) -->\r\n<g id=\"edge9\" class=\"edge\"><title>\\(I_F\\)&#45;&gt;\\(I_S0\\)</title>\r\n<path fill=\"none\" stroke=\"black\" d=\"M557.1,-142.429C542.584,-145.427 525.156,-148.522 509.277,-150 424.109,-157.925 325.05,-138.064 270.154,-124.473\"/>\r\n<polygon fill=\"black\" stroke=\"black\" points=\"270.983,-121.073 260.431,-122.017 269.269,-127.86 270.983,-121.073\"/>\r\n<text text-anchor=\"middle\" x=\"404.983\" y=\"-151.8\" font-family=\"Times New Roman,serif\" font-size=\"14.00\">0 </text>\r\n</g>\r\n<!-- \\(I_F\\)&#45;&gt;\\(F_I\\) -->\r\n<g id=\"edge6\" class=\"edge\"><title>\\(I_F\\)&#45;&gt;\\(F_I\\)</title>\r\n<path fill=\"none\" stroke=\"black\" d=\"M622.294,-123.412C634.993,-118.684 649.847,-113.153 663.379,-108.114\"/>\r\n<polygon fill=\"black\" stroke=\"black\" points=\"664.8,-111.32 672.95,-104.55 662.357,-104.76 664.8,-111.32\"/>\r\n<text text-anchor=\"middle\" x=\"647.572\" y=\"-119.8\" font-family=\"Times New Roman,serif\" font-size=\"14.00\">1 </text>\r\n</g>\r\n<!-- \\(F_F\\)&#45;&gt;\\(I_I\\) -->\r\n<g id=\"edge11\" class=\"edge\"><title>\\(F_F\\)&#45;&gt;\\(I_I\\)</title>\r\n<path fill=\"none\" stroke=\"black\" d=\"M308.802,-61.2147C294.222,-58.7272 277.1,-56.2225 261.489,-55 230.963,-52.6096 223.038,-51.716 192.595,-55 180.175,-56.3398 166.774,-58.9213 154.87,-61.6261\"/>\r\n<polygon fill=\"black\" stroke=\"black\" points=\"153.775,-58.2887 144.856,-64.0067 155.394,-65.0989 153.775,-58.2887\"/>\r\n<text text-anchor=\"middle\" x=\"227.042\" y=\"-58.8\" font-family=\"Times New Roman,serif\" font-size=\"14.00\">1 </text>\r\n</g>\r\n<!-- \\(F_F\\)&#45;&gt;\\(F_S0\\) -->\r\n<g id=\"edge2\" class=\"edge\"><title>\\(F_F\\)&#45;&gt;\\(F_S0\\)</title>\r\n<path fill=\"none\" stroke=\"black\" d=\"M381.571,-68C392.99,-68 405.854,-68 418.097,-68\"/>\r\n<polygon fill=\"black\" stroke=\"black\" points=\"418.189,-71.5001 428.189,-68 418.189,-64.5001 418.189,-71.5001\"/>\r\n<text text-anchor=\"middle\" x=\"404.983\" y=\"-71.8\" font-family=\"Times New Roman,serif\" font-size=\"14.00\">0 </text>\r\n</g>\r\n<!-- \\(F_I\\)&#45;&gt;\\(I_I\\) -->\r\n<g id=\"edge12\" class=\"edge\"><title>\\(F_I\\)&#45;&gt;\\(I_I\\)</title>\r\n<path fill=\"none\" stroke=\"black\" d=\"M686.144,-64.5916C666.538,-37.242 632.29,-0 591.174,-0 226.042,-0 226.042,-0 226.042,-0 193.675,-0 163.636,-22.9107 143.724,-42.703\"/>\r\n<polygon fill=\"black\" stroke=\"black\" points=\"141.029,-40.455 136.605,-50.0817 146.067,-45.3155 141.029,-40.455\"/>\r\n<text text-anchor=\"middle\" x=\"404.983\" y=\"-3.8\" font-family=\"Times New Roman,serif\" font-size=\"14.00\">1 </text>\r\n</g>\r\n<!-- \\(F_I\\)&#45;&gt;\\(F_S0\\) -->\r\n<g id=\"edge4\" class=\"edge\"><title>\\(F_I\\)&#45;&gt;\\(F_S0\\)</title>\r\n<path fill=\"none\" stroke=\"black\" d=\"M671.871,-85.5099C657.351,-82.3966 639.926,-79.0401 624.072,-77 589.337,-72.5305 549.912,-70.279 519.623,-69.1456\"/>\r\n<polygon fill=\"black\" stroke=\"black\" points=\"519.428,-65.6369 509.313,-68.7895 519.186,-72.6327 519.428,-65.6369\"/>\r\n<text text-anchor=\"middle\" x=\"590.174\" y=\"-80.8\" font-family=\"Times New Roman,serif\" font-size=\"14.00\">0 </text>\r\n</g>\r\n</g>\r\n</svg>\r\n"
     },
     "metadata": {},
     "execution_count": 56
    }
   ],
   "source": [
    "dotObj_dfa(odd1sORends01)"
   ]
  },
  {
   "cell_type": "markdown",
   "metadata": {
    "run_control": {
     "frozen": false,
     "read_only": false
    }
   },
   "source": [
    "## Apply DFA minimization"
   ]
  },
  {
   "cell_type": "code",
   "execution_count": 57,
   "metadata": {
    "run_control": {
     "frozen": false,
     "read_only": false
    }
   },
   "outputs": [],
   "source": [
    "Minodd1sORends01 = min_dfa(odd1sORends01)"
   ]
  },
  {
   "cell_type": "code",
   "execution_count": 58,
   "metadata": {
    "run_control": {
     "frozen": false,
     "read_only": false
    }
   },
   "outputs": [
    {
     "output_type": "execute_result",
     "data": {
      "text/plain": "<graphviz.dot.Digraph at 0x1c8de552640>",
      "image/svg+xml": "<?xml version=\"1.0\" encoding=\"UTF-8\" standalone=\"no\"?>\r\n<!DOCTYPE svg PUBLIC \"-//W3C//DTD SVG 1.1//EN\"\r\n \"http://www.w3.org/Graphics/SVG/1.1/DTD/svg11.dtd\">\r\n<!-- Generated by graphviz version 2.38.0 (20140413.2041)\r\n -->\r\n<!-- Title: %3 Pages: 1 -->\r\n<svg width=\"516pt\" height=\"177pt\"\r\n viewBox=\"0.00 0.00 516.18 177.30\" xmlns=\"http://www.w3.org/2000/svg\" xmlns:xlink=\"http://www.w3.org/1999/xlink\">\r\n<g id=\"graph0\" class=\"graph\" transform=\"scale(1 1) rotate(0) translate(4 173.298)\">\r\n<title>%3</title>\r\n<polygon fill=\"white\" stroke=\"none\" points=\"-4,4 -4,-173.298 512.178,-173.298 512.178,4 -4,4\"/>\r\n<!-- EMPTY -->\r\n<g id=\"node1\" class=\"node\"><title>EMPTY</title>\r\n</g>\r\n<!-- \\(I_I\\) -->\r\n<g id=\"node2\" class=\"node\"><title>\\(I_I\\)</title>\r\n<ellipse fill=\"none\" stroke=\"black\" cx=\"118.298\" cy=\"-27.2976\" rx=\"27.0966\" ry=\"27.0966\"/>\r\n<text text-anchor=\"middle\" x=\"118.298\" y=\"-23.5976\" font-family=\"Times New Roman,serif\" font-size=\"14.00\">(I_I)</text>\r\n</g>\r\n<!-- EMPTY&#45;&gt;\\(I_I\\) -->\r\n<g id=\"edge1\" class=\"edge\"><title>EMPTY&#45;&gt;\\(I_I\\)</title>\r\n<path fill=\"none\" stroke=\"black\" d=\"M54.3092,-27.2976C62.5921,-27.2976 71.8942,-27.2976 80.7554,-27.2976\"/>\r\n<polygon fill=\"black\" stroke=\"black\" points=\"80.8678,-30.7977 90.8678,-27.2976 80.8678,-23.7977 80.8678,-30.7977\"/>\r\n</g>\r\n<!-- \\(I_I\\)&#45;&gt;\\(I_I\\) -->\r\n<g id=\"edge5\" class=\"edge\"><title>\\(I_I\\)&#45;&gt;\\(I_I\\)</title>\r\n<path fill=\"none\" stroke=\"black\" d=\"M110.098,-53.3649C109.635,-63.8199 112.368,-72.5952 118.298,-72.5952 122.096,-72.5952 124.583,-68.9938 125.758,-63.6565\"/>\r\n<polygon fill=\"black\" stroke=\"black\" points=\"129.272,-63.5899 126.497,-53.3649 122.29,-63.0885 129.272,-63.5899\"/>\r\n<text text-anchor=\"middle\" x=\"118.298\" y=\"-76.3952\" font-family=\"Times New Roman,serif\" font-size=\"14.00\">0 </text>\r\n</g>\r\n<!-- \\(F_F\\) -->\r\n<g id=\"node5\" class=\"node\"><title>\\(F_F\\)</title>\r\n<ellipse fill=\"none\" stroke=\"black\" cx=\"229.092\" cy=\"-64.2976\" rx=\"32.4945\" ry=\"32.4945\"/>\r\n<ellipse fill=\"none\" stroke=\"black\" cx=\"229.092\" cy=\"-64.2976\" rx=\"36.4942\" ry=\"36.4942\"/>\r\n<text text-anchor=\"middle\" x=\"229.092\" y=\"-60.5976\" font-family=\"Times New Roman,serif\" font-size=\"14.00\">(F_F)</text>\r\n</g>\r\n<!-- \\(I_I\\)&#45;&gt;\\(F_F\\) -->\r\n<g id=\"edge3\" class=\"edge\"><title>\\(I_I\\)&#45;&gt;\\(F_F\\)</title>\r\n<path fill=\"none\" stroke=\"black\" d=\"M144.083,-36.4071C150.429,-38.6965 157.253,-41.1205 163.595,-43.2976 170.255,-45.584 177.323,-47.948 184.245,-50.2287\"/>\r\n<polygon fill=\"black\" stroke=\"black\" points=\"183.624,-53.7081 194.216,-53.4918 185.801,-47.0553 183.624,-53.7081\"/>\r\n<text text-anchor=\"middle\" x=\"169.095\" y=\"-50.0976\" font-family=\"Times New Roman,serif\" font-size=\"14.00\">1 </text>\r\n</g>\r\n<!-- \\(F_S0\\) -->\r\n<g id=\"node3\" class=\"node\"><title>\\(F_S0\\)</title>\r\n<ellipse fill=\"none\" stroke=\"black\" cx=\"352.986\" cy=\"-62.2976\" rx=\"36.304\" ry=\"36.304\"/>\r\n<ellipse fill=\"none\" stroke=\"black\" cx=\"352.986\" cy=\"-62.2976\" rx=\"40.2938\" ry=\"40.2938\"/>\r\n<text text-anchor=\"middle\" x=\"352.986\" y=\"-58.5976\" font-family=\"Times New Roman,serif\" font-size=\"14.00\">(F_S0)</text>\r\n</g>\r\n<!-- \\(F_S0\\)&#45;&gt;\\(F_S0\\) -->\r\n<g id=\"edge6\" class=\"edge\"><title>\\(F_S0\\)&#45;&gt;\\(F_S0\\)</title>\r\n<path fill=\"none\" stroke=\"black\" d=\"M341.407,-101.046C341.861,-112.14 345.721,-120.694 352.986,-120.694 357.868,-120.694 361.212,-116.833 363.019,-110.934\"/>\r\n<polygon fill=\"black\" stroke=\"black\" points=\"366.478,-111.467 364.566,-101.046 359.562,-110.385 366.478,-111.467\"/>\r\n<text text-anchor=\"middle\" x=\"352.986\" y=\"-124.494\" font-family=\"Times New Roman,serif\" font-size=\"14.00\">0 </text>\r\n</g>\r\n<!-- \\(I_F\\) -->\r\n<g id=\"node4\" class=\"node\"><title>\\(I_F\\)</title>\r\n<ellipse fill=\"none\" stroke=\"black\" cx=\"474.28\" cy=\"-62.2976\" rx=\"29.8071\" ry=\"29.8071\"/>\r\n<ellipse fill=\"none\" stroke=\"black\" cx=\"474.28\" cy=\"-62.2976\" rx=\"33.795\" ry=\"33.795\"/>\r\n<text text-anchor=\"middle\" x=\"474.28\" y=\"-58.5976\" font-family=\"Times New Roman,serif\" font-size=\"14.00\">(I_F)</text>\r\n</g>\r\n<!-- \\(F_S0\\)&#45;&gt;\\(I_F\\) -->\r\n<g id=\"edge9\" class=\"edge\"><title>\\(F_S0\\)&#45;&gt;\\(I_F\\)</title>\r\n<path fill=\"none\" stroke=\"black\" d=\"M393.709,-62.2976C405.347,-62.2976 418.128,-62.2976 429.977,-62.2976\"/>\r\n<polygon fill=\"black\" stroke=\"black\" points=\"430.097,-65.7977 440.097,-62.2976 430.097,-58.7977 430.097,-65.7977\"/>\r\n<text text-anchor=\"middle\" x=\"416.883\" y=\"-66.0976\" font-family=\"Times New Roman,serif\" font-size=\"14.00\">1 </text>\r\n</g>\r\n<!-- \\(I_F\\)&#45;&gt;\\(I_I\\) -->\r\n<g id=\"edge7\" class=\"edge\"><title>\\(I_F\\)&#45;&gt;\\(I_I\\)</title>\r\n<path fill=\"none\" stroke=\"black\" d=\"M447.305,-41.2763C432.466,-30.6341 412.958,-18.8221 393.383,-13.2976 310.414,10.118 207.809,-6.55977 154.772,-18.3531\"/>\r\n<polygon fill=\"black\" stroke=\"black\" points=\"153.808,-14.9832 144.846,-20.6334 155.376,-21.8055 153.808,-14.9832\"/>\r\n<text text-anchor=\"middle\" x=\"289.089\" y=\"-5.09758\" font-family=\"Times New Roman,serif\" font-size=\"14.00\">0 </text>\r\n</g>\r\n<!-- \\(I_F\\)&#45;&gt;\\(F_F\\) -->\r\n<g id=\"edge4\" class=\"edge\"><title>\\(I_F\\)&#45;&gt;\\(F_F\\)</title>\r\n<path fill=\"none\" stroke=\"black\" d=\"M455.029,-90.4785C440.82,-109.635 419.205,-133.405 393.383,-144.298 360.298,-158.254 345.869,-157.784 312.589,-144.298 290.979,-135.54 271.906,-118.104 257.557,-101.74\"/>\r\n<polygon fill=\"black\" stroke=\"black\" points=\"260.02,-99.2311 250.903,-93.8351 254.665,-103.739 260.02,-99.2311\"/>\r\n<text text-anchor=\"middle\" x=\"352.986\" y=\"-158.098\" font-family=\"Times New Roman,serif\" font-size=\"14.00\">1 </text>\r\n</g>\r\n<!-- \\(F_F\\)&#45;&gt;\\(I_I\\) -->\r\n<g id=\"edge8\" class=\"edge\"><title>\\(F_F\\)&#45;&gt;\\(I_I\\)</title>\r\n<path fill=\"none\" stroke=\"black\" d=\"M202.001,-39.5974C193.839,-33.3811 184.389,-27.5542 174.595,-24.2976 168.488,-22.2669 161.794,-21.5033 155.238,-21.483\"/>\r\n<polygon fill=\"black\" stroke=\"black\" points=\"154.965,-17.9922 145.152,-21.9876 155.315,-24.9834 154.965,-17.9922\"/>\r\n<text text-anchor=\"middle\" x=\"169.095\" y=\"-28.0976\" font-family=\"Times New Roman,serif\" font-size=\"14.00\">1 </text>\r\n</g>\r\n<!-- \\(F_F\\)&#45;&gt;\\(F_S0\\) -->\r\n<g id=\"edge2\" class=\"edge\"><title>\\(F_F\\)&#45;&gt;\\(F_S0\\)</title>\r\n<path fill=\"none\" stroke=\"black\" d=\"M265.677,-63.7137C277.096,-63.5264 289.96,-63.3153 302.203,-63.1144\"/>\r\n<polygon fill=\"black\" stroke=\"black\" points=\"302.354,-66.6125 312.295,-62.9488 302.239,-59.6134 302.354,-66.6125\"/>\r\n<text text-anchor=\"middle\" x=\"289.089\" y=\"-67.0976\" font-family=\"Times New Roman,serif\" font-size=\"14.00\">0 </text>\r\n</g>\r\n</g>\r\n</svg>\r\n"
     },
     "metadata": {},
     "execution_count": 58
    }
   ],
   "source": [
    "dotObj_dfa(Minodd1sORends01)"
   ]
  },
  {
   "cell_type": "markdown",
   "metadata": {
    "run_control": {
     "frozen": false,
     "read_only": false
    }
   },
   "source": [
    "## Minimization vs. Isomorphism vs. Lang. Eql.\n",
    "\n",
    "After minimization, we may not have isomorphic DFA, but we \n",
    "will have language-equivalent DFA"
   ]
  },
  {
   "cell_type": "code",
   "execution_count": 59,
   "metadata": {
    "run_control": {
     "frozen": false,
     "read_only": false
    }
   },
   "outputs": [
    {
     "output_type": "execute_result",
     "data": {
      "text/plain": "False"
     },
     "metadata": {},
     "execution_count": 59
    }
   ],
   "source": [
    "iso_dfa(odd1sORends01, Minodd1sORends01)"
   ]
  },
  {
   "cell_type": "code",
   "execution_count": 60,
   "metadata": {
    "run_control": {
     "frozen": false,
     "read_only": false
    }
   },
   "outputs": [
    {
     "output_type": "execute_result",
     "data": {
      "text/plain": "True"
     },
     "metadata": {},
     "execution_count": 60
    }
   ],
   "source": [
    "langeq_dfa(odd1sORends01, Minodd1sORends01)"
   ]
  },
  {
   "cell_type": "markdown",
   "metadata": {},
   "source": [
    "# We can now find out which states were eliminated upon minimization"
   ]
  },
  {
   "cell_type": "code",
   "execution_count": 61,
   "metadata": {},
   "outputs": [
    {
     "output_type": "execute_result",
     "data": {
      "text/plain": "{('F', 'I'), ('I', 'S0')}"
     },
     "metadata": {},
     "execution_count": 61
    }
   ],
   "source": [
    "odd1sORends01[\"Q\"] - Minodd1sORends01[\"Q\"]"
   ]
  },
  {
   "cell_type": "markdown",
   "metadata": {},
   "source": [
    "## The reason why these states got eliminated is as follows (taking F_F as an example)\n",
    "\n",
    "* F_F and F_I are indistinguishable by any string! We can study any string from these states and we see that their end states are the same\n",
    "\n",
    "* Now study the minimization algorithm from the book and know how to write solutions to assignments based on that understanding"
   ]
  },
  {
   "cell_type": "markdown",
   "metadata": {
    "run_control": {
     "frozen": false,
     "read_only": false
    }
   },
   "source": [
    "## Now define \"odd 1s\" AND \"ends in 01\"\n",
    "\n",
    "Define the and of these machines and minimize it"
   ]
  },
  {
   "cell_type": "code",
   "execution_count": 62,
   "metadata": {
    "run_control": {
     "frozen": false,
     "read_only": false
    }
   },
   "outputs": [],
   "source": [
    "odd1sANDends01 = intersect_dfa(dfaOdd1s,ends01)"
   ]
  },
  {
   "cell_type": "code",
   "execution_count": 63,
   "metadata": {
    "run_control": {
     "frozen": false,
     "read_only": false
    }
   },
   "outputs": [
    {
     "output_type": "execute_result",
     "data": {
      "text/plain": "<graphviz.dot.Digraph at 0x1c8de552280>",
      "image/svg+xml": "<?xml version=\"1.0\" encoding=\"UTF-8\" standalone=\"no\"?>\r\n<!DOCTYPE svg PUBLIC \"-//W3C//DTD SVG 1.1//EN\"\r\n \"http://www.w3.org/Graphics/SVG/1.1/DTD/svg11.dtd\">\r\n<!-- Generated by graphviz version 2.38.0 (20140413.2041)\r\n -->\r\n<!-- Title: %3 Pages: 1 -->\r\n<svg width=\"723pt\" height=\"243pt\"\r\n viewBox=\"0.00 0.00 722.87 243.00\" xmlns=\"http://www.w3.org/2000/svg\" xmlns:xlink=\"http://www.w3.org/1999/xlink\">\r\n<g id=\"graph0\" class=\"graph\" transform=\"scale(1 1) rotate(0) translate(4 239)\">\r\n<title>%3</title>\r\n<polygon fill=\"white\" stroke=\"none\" points=\"-4,4 -4,-239 718.866,-239 718.866,4 -4,4\"/>\r\n<!-- EMPTY -->\r\n<g id=\"node1\" class=\"node\"><title>EMPTY</title>\r\n</g>\r\n<!-- \\(I_I\\) -->\r\n<g id=\"node2\" class=\"node\"><title>\\(I_I\\)</title>\r\n<ellipse fill=\"none\" stroke=\"black\" cx=\"118.298\" cy=\"-67\" rx=\"27.0966\" ry=\"27.0966\"/>\r\n<text text-anchor=\"middle\" x=\"118.298\" y=\"-63.3\" font-family=\"Times New Roman,serif\" font-size=\"14.00\">(I_I)</text>\r\n</g>\r\n<!-- EMPTY&#45;&gt;\\(I_I\\) -->\r\n<g id=\"edge1\" class=\"edge\"><title>EMPTY&#45;&gt;\\(I_I\\)</title>\r\n<path fill=\"none\" stroke=\"black\" d=\"M54.3092,-67C62.5921,-67 71.8942,-67 80.7554,-67\"/>\r\n<polygon fill=\"black\" stroke=\"black\" points=\"80.8678,-70.5001 90.8678,-67 80.8678,-63.5001 80.8678,-70.5001\"/>\r\n</g>\r\n<!-- \\(F_I\\) -->\r\n<g id=\"node5\" class=\"node\"><title>\\(F_I\\)</title>\r\n<ellipse fill=\"none\" stroke=\"black\" cx=\"222.493\" cy=\"-80\" rx=\"29.795\" ry=\"29.795\"/>\r\n<text text-anchor=\"middle\" x=\"222.493\" y=\"-76.3\" font-family=\"Times New Roman,serif\" font-size=\"14.00\">(F_I)</text>\r\n</g>\r\n<!-- \\(I_I\\)&#45;&gt;\\(F_I\\) -->\r\n<g id=\"edge3\" class=\"edge\"><title>\\(I_I\\)&#45;&gt;\\(F_I\\)</title>\r\n<path fill=\"none\" stroke=\"black\" d=\"M145.615,-70.3478C156.889,-71.7819 170.286,-73.4861 182.662,-75.0605\"/>\r\n<polygon fill=\"black\" stroke=\"black\" points=\"182.388,-78.5537 192.749,-76.3436 183.271,-71.6096 182.388,-78.5537\"/>\r\n<text text-anchor=\"middle\" x=\"169.095\" y=\"-77.8\" font-family=\"Times New Roman,serif\" font-size=\"14.00\">1 </text>\r\n</g>\r\n<!-- \\(I_S0\\) -->\r\n<g id=\"node6\" class=\"node\"><title>\\(I_S0\\)</title>\r\n<ellipse fill=\"none\" stroke=\"black\" cx=\"560.425\" cy=\"-144\" rx=\"34.394\" ry=\"34.394\"/>\r\n<text text-anchor=\"middle\" x=\"560.425\" y=\"-140.3\" font-family=\"Times New Roman,serif\" font-size=\"14.00\">(I_S0)</text>\r\n</g>\r\n<!-- \\(I_I\\)&#45;&gt;\\(I_S0\\) -->\r\n<g id=\"edge7\" class=\"edge\"><title>\\(I_I\\)&#45;&gt;\\(I_S0\\)</title>\r\n<path fill=\"none\" stroke=\"black\" d=\"M124.387,-93.6506C134.475,-137.486 161.44,-220 221.493,-220 221.493,-220 221.493,-220 450.081,-220 481.789,-220 510.908,-198.185 531.11,-177.93\"/>\r\n<polygon fill=\"black\" stroke=\"black\" points=\"533.755,-180.227 538.138,-170.581 528.697,-175.389 533.755,-180.227\"/>\r\n<text text-anchor=\"middle\" x=\"335.787\" y=\"-223.8\" font-family=\"Times New Roman,serif\" font-size=\"14.00\">0 </text>\r\n</g>\r\n<!-- \\(I_F\\) -->\r\n<g id=\"node3\" class=\"node\"><title>\\(I_F\\)</title>\r\n<ellipse fill=\"none\" stroke=\"black\" cx=\"449.081\" cy=\"-144\" rx=\"29.795\" ry=\"29.795\"/>\r\n<text text-anchor=\"middle\" x=\"449.081\" y=\"-140.3\" font-family=\"Times New Roman,serif\" font-size=\"14.00\">(I_F)</text>\r\n</g>\r\n<!-- \\(I_F\\)&#45;&gt;\\(F_I\\) -->\r\n<g id=\"edge6\" class=\"edge\"><title>\\(I_F\\)&#45;&gt;\\(F_I\\)</title>\r\n<path fill=\"none\" stroke=\"black\" d=\"M419.406,-149.062C388.704,-153.253 339.053,-156.442 299.39,-142 280.947,-135.284 263.714,-122.031 250.345,-109.497\"/>\r\n<polygon fill=\"black\" stroke=\"black\" points=\"252.537,-106.744 242.941,-102.254 247.642,-111.749 252.537,-106.744\"/>\r\n<text text-anchor=\"middle\" x=\"335.787\" y=\"-155.8\" font-family=\"Times New Roman,serif\" font-size=\"14.00\">1 </text>\r\n</g>\r\n<!-- \\(I_F\\)&#45;&gt;\\(I_S0\\) -->\r\n<g id=\"edge9\" class=\"edge\"><title>\\(I_F\\)&#45;&gt;\\(I_S0\\)</title>\r\n<path fill=\"none\" stroke=\"black\" d=\"M479.096,-144C490.267,-144 503.286,-144 515.55,-144\"/>\r\n<polygon fill=\"black\" stroke=\"black\" points=\"515.618,-147.5 525.617,-144 515.617,-140.5 515.618,-147.5\"/>\r\n<text text-anchor=\"middle\" x=\"502.478\" y=\"-147.8\" font-family=\"Times New Roman,serif\" font-size=\"14.00\">0 </text>\r\n</g>\r\n<!-- \\(F_S0\\) -->\r\n<g id=\"node4\" class=\"node\"><title>\\(F_S0\\)</title>\r\n<ellipse fill=\"none\" stroke=\"black\" cx=\"335.787\" cy=\"-64\" rx=\"36.2938\" ry=\"36.2938\"/>\r\n<text text-anchor=\"middle\" x=\"335.787\" y=\"-60.3\" font-family=\"Times New Roman,serif\" font-size=\"14.00\">(F_S0)</text>\r\n</g>\r\n<!-- \\(F_S0\\)&#45;&gt;\\(I_F\\) -->\r\n<g id=\"edge13\" class=\"edge\"><title>\\(F_S0\\)&#45;&gt;\\(I_F\\)</title>\r\n<path fill=\"none\" stroke=\"black\" d=\"M365.737,-84.8102C381.062,-95.8258 399.927,-109.386 415.731,-120.747\"/>\r\n<polygon fill=\"black\" stroke=\"black\" points=\"413.992,-123.807 424.155,-126.802 418.078,-118.123 413.992,-123.807\"/>\r\n<text text-anchor=\"middle\" x=\"395.683\" y=\"-112.8\" font-family=\"Times New Roman,serif\" font-size=\"14.00\">1 </text>\r\n</g>\r\n<!-- \\(F_S0\\)&#45;&gt;\\(F_S0\\) -->\r\n<g id=\"edge8\" class=\"edge\"><title>\\(F_S0\\)&#45;&gt;\\(F_S0\\)</title>\r\n<path fill=\"none\" stroke=\"black\" d=\"M324.918,-98.791C325.084,-109.751 328.707,-118.397 335.787,-118.397 340.433,-118.397 343.59,-114.673 345.259,-109.016\"/>\r\n<polygon fill=\"black\" stroke=\"black\" points=\"348.77,-109.173 346.656,-98.791 341.834,-108.225 348.77,-109.173\"/>\r\n<text text-anchor=\"middle\" x=\"335.787\" y=\"-122.197\" font-family=\"Times New Roman,serif\" font-size=\"14.00\">0 </text>\r\n</g>\r\n<!-- \\(F_I\\)&#45;&gt;\\(I_I\\) -->\r\n<g id=\"edge12\" class=\"edge\"><title>\\(F_I\\)&#45;&gt;\\(I_I\\)</title>\r\n<path fill=\"none\" stroke=\"black\" d=\"M197.171,-63.4835C190.182,-59.5969 182.346,-56.0048 174.595,-54 167.795,-52.2412 160.499,-52.4671 153.509,-53.7096\"/>\r\n<polygon fill=\"black\" stroke=\"black\" points=\"152.459,-50.3633 143.58,-56.1445 154.126,-57.1619 152.459,-50.3633\"/>\r\n<text text-anchor=\"middle\" x=\"169.095\" y=\"-57.8\" font-family=\"Times New Roman,serif\" font-size=\"14.00\">1 </text>\r\n</g>\r\n<!-- \\(F_I\\)&#45;&gt;\\(F_S0\\) -->\r\n<g id=\"edge4\" class=\"edge\"><title>\\(F_I\\)&#45;&gt;\\(F_S0\\)</title>\r\n<path fill=\"none\" stroke=\"black\" d=\"M252.154,-75.8796C263.537,-74.243 276.909,-72.3207 289.539,-70.5049\"/>\r\n<polygon fill=\"black\" stroke=\"black\" points=\"290.058,-73.9665 299.458,-69.079 289.061,-67.0377 290.058,-73.9665\"/>\r\n<text text-anchor=\"middle\" x=\"275.89\" y=\"-76.8\" font-family=\"Times New Roman,serif\" font-size=\"14.00\">0 </text>\r\n</g>\r\n<!-- \\(I_S0\\)&#45;&gt;\\(I_S0\\) -->\r\n<g id=\"edge10\" class=\"edge\"><title>\\(I_S0\\)&#45;&gt;\\(I_S0\\)</title>\r\n<path fill=\"none\" stroke=\"black\" d=\"M549.926,-177.035C549.98,-187.842 553.48,-196.447 560.425,-196.447 564.983,-196.447 568.057,-192.741 569.647,-187.139\"/>\r\n<polygon fill=\"black\" stroke=\"black\" points=\"573.142,-187.395 570.924,-177.035 566.198,-186.517 573.142,-187.395\"/>\r\n<text text-anchor=\"middle\" x=\"560.425\" y=\"-200.247\" font-family=\"Times New Roman,serif\" font-size=\"14.00\">0 </text>\r\n</g>\r\n<!-- \\(F_F\\) -->\r\n<g id=\"node7\" class=\"node\"><title>\\(F_F\\)</title>\r\n<ellipse fill=\"none\" stroke=\"black\" cx=\"678.369\" cy=\"-64\" rx=\"32.4945\" ry=\"32.4945\"/>\r\n<ellipse fill=\"none\" stroke=\"black\" cx=\"678.369\" cy=\"-64\" rx=\"36.4942\" ry=\"36.4942\"/>\r\n<text text-anchor=\"middle\" x=\"678.369\" y=\"-60.3\" font-family=\"Times New Roman,serif\" font-size=\"14.00\">(F_F)</text>\r\n</g>\r\n<!-- \\(I_S0\\)&#45;&gt;\\(F_F\\) -->\r\n<g id=\"edge5\" class=\"edge\"><title>\\(I_S0\\)&#45;&gt;\\(F_F\\)</title>\r\n<path fill=\"none\" stroke=\"black\" d=\"M589.197,-124.838C604.258,-114.446 623.092,-101.451 639.482,-90.1415\"/>\r\n<polygon fill=\"black\" stroke=\"black\" points=\"641.554,-92.9641 647.797,-84.4041 637.579,-87.2025 641.554,-92.9641\"/>\r\n<text text-anchor=\"middle\" x=\"618.372\" y=\"-110.8\" font-family=\"Times New Roman,serif\" font-size=\"14.00\">1 </text>\r\n</g>\r\n<!-- \\(F_F\\)&#45;&gt;\\(I_I\\) -->\r\n<g id=\"edge11\" class=\"edge\"><title>\\(F_F\\)&#45;&gt;\\(I_I\\)</title>\r\n<path fill=\"none\" stroke=\"black\" d=\"M651.043,-39.439C628.888,-21.3906 595.453,-0 561.425,-0 221.493,-0 221.493,-0 221.493,-0 191.151,-0 162.816,-20.9104 143.715,-39.3678\"/>\r\n<polygon fill=\"black\" stroke=\"black\" points=\"141.166,-36.9671 136.613,-46.5337 146.138,-41.8945 141.166,-36.9671\"/>\r\n<text text-anchor=\"middle\" x=\"395.683\" y=\"-3.8\" font-family=\"Times New Roman,serif\" font-size=\"14.00\">1 </text>\r\n</g>\r\n<!-- \\(F_F\\)&#45;&gt;\\(F_S0\\) -->\r\n<g id=\"edge2\" class=\"edge\"><title>\\(F_F\\)&#45;&gt;\\(F_S0\\)</title>\r\n<path fill=\"none\" stroke=\"black\" d=\"M641.709,-64C579.436,-64 450.973,-64 382.349,-64\"/>\r\n<polygon fill=\"black\" stroke=\"black\" points=\"382.271,-60.5001 372.271,-64 382.271,-67.5001 382.271,-60.5001\"/>\r\n<text text-anchor=\"middle\" x=\"502.478\" y=\"-67.8\" font-family=\"Times New Roman,serif\" font-size=\"14.00\">0 </text>\r\n</g>\r\n</g>\r\n</svg>\r\n"
     },
     "metadata": {},
     "execution_count": 63
    }
   ],
   "source": [
    "dotObj_dfa(odd1sANDends01)"
   ]
  },
  {
   "cell_type": "code",
   "execution_count": 64,
   "metadata": {
    "run_control": {
     "frozen": false,
     "read_only": false
    }
   },
   "outputs": [],
   "source": [
    "Minodd1sANDends01 = min_dfa(odd1sANDends01)"
   ]
  },
  {
   "cell_type": "code",
   "execution_count": 65,
   "metadata": {
    "run_control": {
     "frozen": false,
     "read_only": false
    }
   },
   "outputs": [
    {
     "output_type": "execute_result",
     "data": {
      "text/plain": "<graphviz.dot.Digraph at 0x1c8de2cfeb0>",
      "image/svg+xml": "<?xml version=\"1.0\" encoding=\"UTF-8\" standalone=\"no\"?>\r\n<!DOCTYPE svg PUBLIC \"-//W3C//DTD SVG 1.1//EN\"\r\n \"http://www.w3.org/Graphics/SVG/1.1/DTD/svg11.dtd\">\r\n<!-- Generated by graphviz version 2.38.0 (20140413.2041)\r\n -->\r\n<!-- Title: %3 Pages: 1 -->\r\n<svg width=\"509pt\" height=\"238pt\"\r\n viewBox=\"0.00 0.00 509.28 238.46\" xmlns=\"http://www.w3.org/2000/svg\" xmlns:xlink=\"http://www.w3.org/1999/xlink\">\r\n<g id=\"graph0\" class=\"graph\" transform=\"scale(1 1) rotate(0) translate(4 234.463)\">\r\n<title>%3</title>\r\n<polygon fill=\"white\" stroke=\"none\" points=\"-4,4 -4,-234.463 505.277,-234.463 505.277,4 -4,4\"/>\r\n<!-- EMPTY -->\r\n<g id=\"node1\" class=\"node\"><title>EMPTY</title>\r\n</g>\r\n<!-- \\(I_I\\) -->\r\n<g id=\"node3\" class=\"node\"><title>\\(I_I\\)</title>\r\n<ellipse fill=\"none\" stroke=\"black\" cx=\"118.298\" cy=\"-129.067\" rx=\"27.0966\" ry=\"27.0966\"/>\r\n<text text-anchor=\"middle\" x=\"118.298\" y=\"-125.367\" font-family=\"Times New Roman,serif\" font-size=\"14.00\">(I_I)</text>\r\n</g>\r\n<!-- EMPTY&#45;&gt;\\(I_I\\) -->\r\n<g id=\"edge1\" class=\"edge\"><title>EMPTY&#45;&gt;\\(I_I\\)</title>\r\n<path fill=\"none\" stroke=\"black\" d=\"M54.3092,-129.067C62.5921,-129.067 71.8942,-129.067 80.7554,-129.067\"/>\r\n<polygon fill=\"black\" stroke=\"black\" points=\"80.8678,-132.567 90.8678,-129.067 80.8678,-125.567 80.8678,-132.567\"/>\r\n</g>\r\n<!-- \\(F_S0\\) -->\r\n<g id=\"node2\" class=\"node\"><title>\\(F_S0\\)</title>\r\n<ellipse fill=\"none\" stroke=\"black\" cx=\"464.88\" cy=\"-161.067\" rx=\"36.2938\" ry=\"36.2938\"/>\r\n<text text-anchor=\"middle\" x=\"464.88\" y=\"-157.367\" font-family=\"Times New Roman,serif\" font-size=\"14.00\">(F_S0)</text>\r\n</g>\r\n<!-- \\(F_S0\\)&#45;&gt;\\(F_S0\\) -->\r\n<g id=\"edge4\" class=\"edge\"><title>\\(F_S0\\)&#45;&gt;\\(F_S0\\)</title>\r\n<path fill=\"none\" stroke=\"black\" d=\"M454.011,-195.858C454.177,-206.817 457.8,-215.463 464.88,-215.463 469.526,-215.463 472.684,-211.74 474.352,-206.082\"/>\r\n<polygon fill=\"black\" stroke=\"black\" points=\"477.863,-206.239 475.749,-195.858 470.928,-205.292 477.863,-206.239\"/>\r\n<text text-anchor=\"middle\" x=\"464.88\" y=\"-219.263\" font-family=\"Times New Roman,serif\" font-size=\"14.00\">0 </text>\r\n</g>\r\n<!-- \\(F_S0\\)&#45;&gt;\\(I_I\\) -->\r\n<g id=\"edge9\" class=\"edge\"><title>\\(F_S0\\)&#45;&gt;\\(I_I\\)</title>\r\n<path fill=\"none\" stroke=\"black\" d=\"M428.215,-159.77C376.239,-157.608 276.706,-152.442 192.595,-142.067 180.393,-140.561 167.137,-138.38 155.297,-136.232\"/>\r\n<polygon fill=\"black\" stroke=\"black\" points=\"155.79,-132.764 145.318,-134.372 154.507,-139.645 155.79,-132.764\"/>\r\n<text text-anchor=\"middle\" x=\"284.989\" y=\"-154.867\" font-family=\"Times New Roman,serif\" font-size=\"14.00\">1 </text>\r\n</g>\r\n<!-- \\(I_I\\)&#45;&gt;\\(F_S0\\) -->\r\n<g id=\"edge3\" class=\"edge\"><title>\\(I_I\\)&#45;&gt;\\(F_S0\\)</title>\r\n<path fill=\"none\" stroke=\"black\" d=\"M134.37,-151.167C141.955,-160.346 152.007,-170.02 163.595,-175.067 248.178,-211.905 359.13,-191.192 419.704,-174.844\"/>\r\n<polygon fill=\"black\" stroke=\"black\" points=\"421.001,-178.116 429.696,-172.063 419.123,-171.373 421.001,-178.116\"/>\r\n<text text-anchor=\"middle\" x=\"284.989\" y=\"-198.867\" font-family=\"Times New Roman,serif\" font-size=\"14.00\">1 </text>\r\n</g>\r\n<!-- \\(I_S0\\) -->\r\n<g id=\"node4\" class=\"node\"><title>\\(I_S0\\)</title>\r\n<ellipse fill=\"none\" stroke=\"black\" cx=\"227.042\" cy=\"-66.0666\" rx=\"34.394\" ry=\"34.394\"/>\r\n<text text-anchor=\"middle\" x=\"227.042\" y=\"-62.3666\" font-family=\"Times New Roman,serif\" font-size=\"14.00\">(I_S0)</text>\r\n</g>\r\n<!-- \\(I_I\\)&#45;&gt;\\(I_S0\\) -->\r\n<g id=\"edge6\" class=\"edge\"><title>\\(I_I\\)&#45;&gt;\\(I_S0\\)</title>\r\n<path fill=\"none\" stroke=\"black\" d=\"M142.197,-115.552C155.614,-107.633 172.894,-97.4341 188.278,-88.3547\"/>\r\n<polygon fill=\"black\" stroke=\"black\" points=\"190.24,-91.261 197.073,-83.164 186.682,-85.2326 190.24,-91.261\"/>\r\n<text text-anchor=\"middle\" x=\"169.095\" y=\"-104.867\" font-family=\"Times New Roman,serif\" font-size=\"14.00\">0 </text>\r\n</g>\r\n<!-- \\(I_S0\\)&#45;&gt;\\(I_S0\\) -->\r\n<g id=\"edge7\" class=\"edge\"><title>\\(I_S0\\)&#45;&gt;\\(I_S0\\)</title>\r\n<path fill=\"none\" stroke=\"black\" d=\"M216.543,-99.1016C216.597,-109.908 220.097,-118.514 227.042,-118.514 231.6,-118.514 234.674,-114.808 236.264,-109.206\"/>\r\n<polygon fill=\"black\" stroke=\"black\" points=\"239.759,-109.462 237.541,-99.1016 232.815,-108.584 239.759,-109.462\"/>\r\n<text text-anchor=\"middle\" x=\"227.042\" y=\"-122.314\" font-family=\"Times New Roman,serif\" font-size=\"14.00\">0 </text>\r\n</g>\r\n<!-- \\(F_F\\) -->\r\n<g id=\"node5\" class=\"node\"><title>\\(F_F\\)</title>\r\n<ellipse fill=\"none\" stroke=\"black\" cx=\"344.986\" cy=\"-66.0666\" rx=\"32.4945\" ry=\"32.4945\"/>\r\n<ellipse fill=\"none\" stroke=\"black\" cx=\"344.986\" cy=\"-66.0666\" rx=\"36.4942\" ry=\"36.4942\"/>\r\n<text text-anchor=\"middle\" x=\"344.986\" y=\"-62.3666\" font-family=\"Times New Roman,serif\" font-size=\"14.00\">(F_F)</text>\r\n</g>\r\n<!-- \\(I_S0\\)&#45;&gt;\\(F_F\\) -->\r\n<g id=\"edge5\" class=\"edge\"><title>\\(I_S0\\)&#45;&gt;\\(F_F\\)</title>\r\n<path fill=\"none\" stroke=\"black\" d=\"M261.578,-66.0666C272.968,-66.0666 285.9,-66.0666 298.086,-66.0666\"/>\r\n<polygon fill=\"black\" stroke=\"black\" points=\"298.097,-69.5667 308.097,-66.0666 298.097,-62.5667 298.097,-69.5667\"/>\r\n<text text-anchor=\"middle\" x=\"284.989\" y=\"-69.8666\" font-family=\"Times New Roman,serif\" font-size=\"14.00\">1 </text>\r\n</g>\r\n<!-- \\(F_F\\)&#45;&gt;\\(F_S0\\) -->\r\n<g id=\"edge2\" class=\"edge\"><title>\\(F_F\\)&#45;&gt;\\(F_S0\\)</title>\r\n<path fill=\"none\" stroke=\"black\" d=\"M373.925,-88.5803C390.076,-101.594 410.568,-118.107 427.912,-132.083\"/>\r\n<polygon fill=\"black\" stroke=\"black\" points=\"426.159,-135.165 436.141,-138.715 430.551,-129.715 426.159,-135.165\"/>\r\n<text text-anchor=\"middle\" x=\"404.983\" y=\"-119.867\" font-family=\"Times New Roman,serif\" font-size=\"14.00\">0 </text>\r\n</g>\r\n<!-- \\(F_F\\)&#45;&gt;\\(I_I\\) -->\r\n<g id=\"edge8\" class=\"edge\"><title>\\(F_F\\)&#45;&gt;\\(I_I\\)</title>\r\n<path fill=\"none\" stroke=\"black\" d=\"M317.222,-41.99C286.117,-17.088 233.792,15.1437 192.595,-8.06662 160.533,-26.1303 140.893,-64.4992 130.118,-93.2165\"/>\r\n<polygon fill=\"black\" stroke=\"black\" points=\"126.719,-92.3278 126.67,-102.923 133.315,-94.6709 126.719,-92.3278\"/>\r\n<text text-anchor=\"middle\" x=\"227.042\" y=\"-11.8666\" font-family=\"Times New Roman,serif\" font-size=\"14.00\">1 </text>\r\n</g>\r\n</g>\r\n</svg>\r\n"
     },
     "metadata": {},
     "execution_count": 65
    }
   ],
   "source": [
    "dotObj_dfa(Minodd1sANDends01)"
   ]
  },
  {
   "cell_type": "markdown",
   "metadata": {
    "run_control": {
     "frozen": false,
     "read_only": false
    }
   },
   "source": [
    "## Now, complement the individual machines"
   ]
  },
  {
   "cell_type": "code",
   "execution_count": 66,
   "metadata": {
    "run_control": {
     "frozen": false,
     "read_only": false
    }
   },
   "outputs": [],
   "source": [
    "CdfaOdd1s = comp_dfa(dfaOdd1s)"
   ]
  },
  {
   "cell_type": "code",
   "execution_count": 67,
   "metadata": {
    "run_control": {
     "frozen": false,
     "read_only": false
    }
   },
   "outputs": [],
   "source": [
    "Cends01 = comp_dfa(ends01)"
   ]
  },
  {
   "cell_type": "markdown",
   "metadata": {
    "run_control": {
     "frozen": false,
     "read_only": false
    }
   },
   "source": [
    "## Complement of the union of the complements\n",
    "\n",
    "The complement of the union of the complements of M1 and M2 is of course the intersection of M1 and M2! Let us check that!\n"
   ]
  },
  {
   "cell_type": "code",
   "execution_count": 68,
   "metadata": {
    "run_control": {
     "frozen": false,
     "read_only": false
    }
   },
   "outputs": [],
   "source": [
    "C_CdfaOdd1sORCends01 = comp_dfa(union_dfa(CdfaOdd1s, Cends01))"
   ]
  },
  {
   "cell_type": "code",
   "execution_count": 69,
   "metadata": {
    "run_control": {
     "frozen": false,
     "read_only": false
    }
   },
   "outputs": [
    {
     "output_type": "execute_result",
     "data": {
      "text/plain": "<graphviz.dot.Digraph at 0x1c8de2cf340>",
      "image/svg+xml": "<?xml version=\"1.0\" encoding=\"UTF-8\" standalone=\"no\"?>\r\n<!DOCTYPE svg PUBLIC \"-//W3C//DTD SVG 1.1//EN\"\r\n \"http://www.w3.org/Graphics/SVG/1.1/DTD/svg11.dtd\">\r\n<!-- Generated by graphviz version 2.38.0 (20140413.2041)\r\n -->\r\n<!-- Title: %3 Pages: 1 -->\r\n<svg width=\"723pt\" height=\"243pt\"\r\n viewBox=\"0.00 0.00 722.87 243.00\" xmlns=\"http://www.w3.org/2000/svg\" xmlns:xlink=\"http://www.w3.org/1999/xlink\">\r\n<g id=\"graph0\" class=\"graph\" transform=\"scale(1 1) rotate(0) translate(4 239)\">\r\n<title>%3</title>\r\n<polygon fill=\"white\" stroke=\"none\" points=\"-4,4 -4,-239 718.866,-239 718.866,4 -4,4\"/>\r\n<!-- EMPTY -->\r\n<g id=\"node1\" class=\"node\"><title>EMPTY</title>\r\n</g>\r\n<!-- \\(I_I\\) -->\r\n<g id=\"node2\" class=\"node\"><title>\\(I_I\\)</title>\r\n<ellipse fill=\"none\" stroke=\"black\" cx=\"118.298\" cy=\"-67\" rx=\"27.0966\" ry=\"27.0966\"/>\r\n<text text-anchor=\"middle\" x=\"118.298\" y=\"-63.3\" font-family=\"Times New Roman,serif\" font-size=\"14.00\">(I_I)</text>\r\n</g>\r\n<!-- EMPTY&#45;&gt;\\(I_I\\) -->\r\n<g id=\"edge1\" class=\"edge\"><title>EMPTY&#45;&gt;\\(I_I\\)</title>\r\n<path fill=\"none\" stroke=\"black\" d=\"M54.3092,-67C62.5921,-67 71.8942,-67 80.7554,-67\"/>\r\n<polygon fill=\"black\" stroke=\"black\" points=\"80.8678,-70.5001 90.8678,-67 80.8678,-63.5001 80.8678,-70.5001\"/>\r\n</g>\r\n<!-- \\(F_I\\) -->\r\n<g id=\"node5\" class=\"node\"><title>\\(F_I\\)</title>\r\n<ellipse fill=\"none\" stroke=\"black\" cx=\"222.493\" cy=\"-80\" rx=\"29.795\" ry=\"29.795\"/>\r\n<text text-anchor=\"middle\" x=\"222.493\" y=\"-76.3\" font-family=\"Times New Roman,serif\" font-size=\"14.00\">(F_I)</text>\r\n</g>\r\n<!-- \\(I_I\\)&#45;&gt;\\(F_I\\) -->\r\n<g id=\"edge3\" class=\"edge\"><title>\\(I_I\\)&#45;&gt;\\(F_I\\)</title>\r\n<path fill=\"none\" stroke=\"black\" d=\"M145.615,-70.3478C156.889,-71.7819 170.286,-73.4861 182.662,-75.0605\"/>\r\n<polygon fill=\"black\" stroke=\"black\" points=\"182.388,-78.5537 192.749,-76.3436 183.271,-71.6096 182.388,-78.5537\"/>\r\n<text text-anchor=\"middle\" x=\"169.095\" y=\"-77.8\" font-family=\"Times New Roman,serif\" font-size=\"14.00\">1 </text>\r\n</g>\r\n<!-- \\(I_S0\\) -->\r\n<g id=\"node6\" class=\"node\"><title>\\(I_S0\\)</title>\r\n<ellipse fill=\"none\" stroke=\"black\" cx=\"560.425\" cy=\"-144\" rx=\"34.394\" ry=\"34.394\"/>\r\n<text text-anchor=\"middle\" x=\"560.425\" y=\"-140.3\" font-family=\"Times New Roman,serif\" font-size=\"14.00\">(I_S0)</text>\r\n</g>\r\n<!-- \\(I_I\\)&#45;&gt;\\(I_S0\\) -->\r\n<g id=\"edge7\" class=\"edge\"><title>\\(I_I\\)&#45;&gt;\\(I_S0\\)</title>\r\n<path fill=\"none\" stroke=\"black\" d=\"M124.387,-93.6506C134.475,-137.486 161.44,-220 221.493,-220 221.493,-220 221.493,-220 450.081,-220 481.789,-220 510.908,-198.185 531.11,-177.93\"/>\r\n<polygon fill=\"black\" stroke=\"black\" points=\"533.755,-180.227 538.138,-170.581 528.697,-175.389 533.755,-180.227\"/>\r\n<text text-anchor=\"middle\" x=\"335.787\" y=\"-223.8\" font-family=\"Times New Roman,serif\" font-size=\"14.00\">0 </text>\r\n</g>\r\n<!-- \\(I_F\\) -->\r\n<g id=\"node3\" class=\"node\"><title>\\(I_F\\)</title>\r\n<ellipse fill=\"none\" stroke=\"black\" cx=\"449.081\" cy=\"-144\" rx=\"29.795\" ry=\"29.795\"/>\r\n<text text-anchor=\"middle\" x=\"449.081\" y=\"-140.3\" font-family=\"Times New Roman,serif\" font-size=\"14.00\">(I_F)</text>\r\n</g>\r\n<!-- \\(I_F\\)&#45;&gt;\\(F_I\\) -->\r\n<g id=\"edge6\" class=\"edge\"><title>\\(I_F\\)&#45;&gt;\\(F_I\\)</title>\r\n<path fill=\"none\" stroke=\"black\" d=\"M419.406,-149.062C388.704,-153.253 339.053,-156.442 299.39,-142 280.947,-135.284 263.714,-122.031 250.345,-109.497\"/>\r\n<polygon fill=\"black\" stroke=\"black\" points=\"252.537,-106.744 242.941,-102.254 247.642,-111.749 252.537,-106.744\"/>\r\n<text text-anchor=\"middle\" x=\"335.787\" y=\"-155.8\" font-family=\"Times New Roman,serif\" font-size=\"14.00\">1 </text>\r\n</g>\r\n<!-- \\(I_F\\)&#45;&gt;\\(I_S0\\) -->\r\n<g id=\"edge9\" class=\"edge\"><title>\\(I_F\\)&#45;&gt;\\(I_S0\\)</title>\r\n<path fill=\"none\" stroke=\"black\" d=\"M479.096,-144C490.267,-144 503.286,-144 515.55,-144\"/>\r\n<polygon fill=\"black\" stroke=\"black\" points=\"515.618,-147.5 525.617,-144 515.617,-140.5 515.618,-147.5\"/>\r\n<text text-anchor=\"middle\" x=\"502.478\" y=\"-147.8\" font-family=\"Times New Roman,serif\" font-size=\"14.00\">0 </text>\r\n</g>\r\n<!-- \\(F_S0\\) -->\r\n<g id=\"node4\" class=\"node\"><title>\\(F_S0\\)</title>\r\n<ellipse fill=\"none\" stroke=\"black\" cx=\"335.787\" cy=\"-64\" rx=\"36.2938\" ry=\"36.2938\"/>\r\n<text text-anchor=\"middle\" x=\"335.787\" y=\"-60.3\" font-family=\"Times New Roman,serif\" font-size=\"14.00\">(F_S0)</text>\r\n</g>\r\n<!-- \\(F_S0\\)&#45;&gt;\\(I_F\\) -->\r\n<g id=\"edge13\" class=\"edge\"><title>\\(F_S0\\)&#45;&gt;\\(I_F\\)</title>\r\n<path fill=\"none\" stroke=\"black\" d=\"M365.737,-84.8102C381.062,-95.8258 399.927,-109.386 415.731,-120.747\"/>\r\n<polygon fill=\"black\" stroke=\"black\" points=\"413.992,-123.807 424.155,-126.802 418.078,-118.123 413.992,-123.807\"/>\r\n<text text-anchor=\"middle\" x=\"395.683\" y=\"-112.8\" font-family=\"Times New Roman,serif\" font-size=\"14.00\">1 </text>\r\n</g>\r\n<!-- \\(F_S0\\)&#45;&gt;\\(F_S0\\) -->\r\n<g id=\"edge8\" class=\"edge\"><title>\\(F_S0\\)&#45;&gt;\\(F_S0\\)</title>\r\n<path fill=\"none\" stroke=\"black\" d=\"M324.918,-98.791C325.084,-109.751 328.707,-118.397 335.787,-118.397 340.433,-118.397 343.59,-114.673 345.259,-109.016\"/>\r\n<polygon fill=\"black\" stroke=\"black\" points=\"348.77,-109.173 346.656,-98.791 341.834,-108.225 348.77,-109.173\"/>\r\n<text text-anchor=\"middle\" x=\"335.787\" y=\"-122.197\" font-family=\"Times New Roman,serif\" font-size=\"14.00\">0 </text>\r\n</g>\r\n<!-- \\(F_I\\)&#45;&gt;\\(I_I\\) -->\r\n<g id=\"edge12\" class=\"edge\"><title>\\(F_I\\)&#45;&gt;\\(I_I\\)</title>\r\n<path fill=\"none\" stroke=\"black\" d=\"M197.171,-63.4835C190.182,-59.5969 182.346,-56.0048 174.595,-54 167.795,-52.2412 160.499,-52.4671 153.509,-53.7096\"/>\r\n<polygon fill=\"black\" stroke=\"black\" points=\"152.459,-50.3633 143.58,-56.1445 154.126,-57.1619 152.459,-50.3633\"/>\r\n<text text-anchor=\"middle\" x=\"169.095\" y=\"-57.8\" font-family=\"Times New Roman,serif\" font-size=\"14.00\">1 </text>\r\n</g>\r\n<!-- \\(F_I\\)&#45;&gt;\\(F_S0\\) -->\r\n<g id=\"edge4\" class=\"edge\"><title>\\(F_I\\)&#45;&gt;\\(F_S0\\)</title>\r\n<path fill=\"none\" stroke=\"black\" d=\"M252.154,-75.8796C263.537,-74.243 276.909,-72.3207 289.539,-70.5049\"/>\r\n<polygon fill=\"black\" stroke=\"black\" points=\"290.058,-73.9665 299.458,-69.079 289.061,-67.0377 290.058,-73.9665\"/>\r\n<text text-anchor=\"middle\" x=\"275.89\" y=\"-76.8\" font-family=\"Times New Roman,serif\" font-size=\"14.00\">0 </text>\r\n</g>\r\n<!-- \\(I_S0\\)&#45;&gt;\\(I_S0\\) -->\r\n<g id=\"edge10\" class=\"edge\"><title>\\(I_S0\\)&#45;&gt;\\(I_S0\\)</title>\r\n<path fill=\"none\" stroke=\"black\" d=\"M549.926,-177.035C549.98,-187.842 553.48,-196.447 560.425,-196.447 564.983,-196.447 568.057,-192.741 569.647,-187.139\"/>\r\n<polygon fill=\"black\" stroke=\"black\" points=\"573.142,-187.395 570.924,-177.035 566.198,-186.517 573.142,-187.395\"/>\r\n<text text-anchor=\"middle\" x=\"560.425\" y=\"-200.247\" font-family=\"Times New Roman,serif\" font-size=\"14.00\">0 </text>\r\n</g>\r\n<!-- \\(F_F\\) -->\r\n<g id=\"node7\" class=\"node\"><title>\\(F_F\\)</title>\r\n<ellipse fill=\"none\" stroke=\"black\" cx=\"678.369\" cy=\"-64\" rx=\"32.4945\" ry=\"32.4945\"/>\r\n<ellipse fill=\"none\" stroke=\"black\" cx=\"678.369\" cy=\"-64\" rx=\"36.4942\" ry=\"36.4942\"/>\r\n<text text-anchor=\"middle\" x=\"678.369\" y=\"-60.3\" font-family=\"Times New Roman,serif\" font-size=\"14.00\">(F_F)</text>\r\n</g>\r\n<!-- \\(I_S0\\)&#45;&gt;\\(F_F\\) -->\r\n<g id=\"edge5\" class=\"edge\"><title>\\(I_S0\\)&#45;&gt;\\(F_F\\)</title>\r\n<path fill=\"none\" stroke=\"black\" d=\"M589.197,-124.838C604.258,-114.446 623.092,-101.451 639.482,-90.1415\"/>\r\n<polygon fill=\"black\" stroke=\"black\" points=\"641.554,-92.9641 647.797,-84.4041 637.579,-87.2025 641.554,-92.9641\"/>\r\n<text text-anchor=\"middle\" x=\"618.372\" y=\"-110.8\" font-family=\"Times New Roman,serif\" font-size=\"14.00\">1 </text>\r\n</g>\r\n<!-- \\(F_F\\)&#45;&gt;\\(I_I\\) -->\r\n<g id=\"edge11\" class=\"edge\"><title>\\(F_F\\)&#45;&gt;\\(I_I\\)</title>\r\n<path fill=\"none\" stroke=\"black\" d=\"M651.043,-39.439C628.888,-21.3906 595.453,-0 561.425,-0 221.493,-0 221.493,-0 221.493,-0 191.151,-0 162.816,-20.9104 143.715,-39.3678\"/>\r\n<polygon fill=\"black\" stroke=\"black\" points=\"141.166,-36.9671 136.613,-46.5337 146.138,-41.8945 141.166,-36.9671\"/>\r\n<text text-anchor=\"middle\" x=\"395.683\" y=\"-3.8\" font-family=\"Times New Roman,serif\" font-size=\"14.00\">1 </text>\r\n</g>\r\n<!-- \\(F_F\\)&#45;&gt;\\(F_S0\\) -->\r\n<g id=\"edge2\" class=\"edge\"><title>\\(F_F\\)&#45;&gt;\\(F_S0\\)</title>\r\n<path fill=\"none\" stroke=\"black\" d=\"M641.709,-64C579.436,-64 450.973,-64 382.349,-64\"/>\r\n<polygon fill=\"black\" stroke=\"black\" points=\"382.271,-60.5001 372.271,-64 382.271,-67.5001 382.271,-60.5001\"/>\r\n<text text-anchor=\"middle\" x=\"502.478\" y=\"-67.8\" font-family=\"Times New Roman,serif\" font-size=\"14.00\">0 </text>\r\n</g>\r\n</g>\r\n</svg>\r\n"
     },
     "metadata": {},
     "execution_count": 69
    }
   ],
   "source": [
    "dotObj_dfa(C_CdfaOdd1sORCends01)"
   ]
  },
  {
   "cell_type": "code",
   "execution_count": 70,
   "metadata": {
    "run_control": {
     "frozen": false,
     "read_only": false
    }
   },
   "outputs": [],
   "source": [
    "MinC_CdfaOdd1sORCends01 = min_dfa(C_CdfaOdd1sORCends01)"
   ]
  },
  {
   "cell_type": "markdown",
   "metadata": {
    "run_control": {
     "frozen": false,
     "read_only": false
    }
   },
   "source": [
    "## Minimized Comp(CdfaOdd1s OR Cends01)\n",
    "\n",
    "This will now pass the isomorphism check, below\n"
   ]
  },
  {
   "cell_type": "code",
   "execution_count": 71,
   "metadata": {
    "run_control": {
     "frozen": false,
     "read_only": false
    }
   },
   "outputs": [
    {
     "output_type": "execute_result",
     "data": {
      "text/plain": "<graphviz.dot.Digraph at 0x1c8de2cf5b0>",
      "image/svg+xml": "<?xml version=\"1.0\" encoding=\"UTF-8\" standalone=\"no\"?>\r\n<!DOCTYPE svg PUBLIC \"-//W3C//DTD SVG 1.1//EN\"\r\n \"http://www.w3.org/Graphics/SVG/1.1/DTD/svg11.dtd\">\r\n<!-- Generated by graphviz version 2.38.0 (20140413.2041)\r\n -->\r\n<!-- Title: %3 Pages: 1 -->\r\n<svg width=\"509pt\" height=\"238pt\"\r\n viewBox=\"0.00 0.00 509.28 238.46\" xmlns=\"http://www.w3.org/2000/svg\" xmlns:xlink=\"http://www.w3.org/1999/xlink\">\r\n<g id=\"graph0\" class=\"graph\" transform=\"scale(1 1) rotate(0) translate(4 234.463)\">\r\n<title>%3</title>\r\n<polygon fill=\"white\" stroke=\"none\" points=\"-4,4 -4,-234.463 505.277,-234.463 505.277,4 -4,4\"/>\r\n<!-- EMPTY -->\r\n<g id=\"node1\" class=\"node\"><title>EMPTY</title>\r\n</g>\r\n<!-- \\(I_I\\) -->\r\n<g id=\"node3\" class=\"node\"><title>\\(I_I\\)</title>\r\n<ellipse fill=\"none\" stroke=\"black\" cx=\"118.298\" cy=\"-129.067\" rx=\"27.0966\" ry=\"27.0966\"/>\r\n<text text-anchor=\"middle\" x=\"118.298\" y=\"-125.367\" font-family=\"Times New Roman,serif\" font-size=\"14.00\">(I_I)</text>\r\n</g>\r\n<!-- EMPTY&#45;&gt;\\(I_I\\) -->\r\n<g id=\"edge1\" class=\"edge\"><title>EMPTY&#45;&gt;\\(I_I\\)</title>\r\n<path fill=\"none\" stroke=\"black\" d=\"M54.3092,-129.067C62.5921,-129.067 71.8942,-129.067 80.7554,-129.067\"/>\r\n<polygon fill=\"black\" stroke=\"black\" points=\"80.8678,-132.567 90.8678,-129.067 80.8678,-125.567 80.8678,-132.567\"/>\r\n</g>\r\n<!-- \\(F_S0\\) -->\r\n<g id=\"node2\" class=\"node\"><title>\\(F_S0\\)</title>\r\n<ellipse fill=\"none\" stroke=\"black\" cx=\"464.88\" cy=\"-161.067\" rx=\"36.2938\" ry=\"36.2938\"/>\r\n<text text-anchor=\"middle\" x=\"464.88\" y=\"-157.367\" font-family=\"Times New Roman,serif\" font-size=\"14.00\">(F_S0)</text>\r\n</g>\r\n<!-- \\(F_S0\\)&#45;&gt;\\(F_S0\\) -->\r\n<g id=\"edge4\" class=\"edge\"><title>\\(F_S0\\)&#45;&gt;\\(F_S0\\)</title>\r\n<path fill=\"none\" stroke=\"black\" d=\"M454.011,-195.858C454.177,-206.817 457.8,-215.463 464.88,-215.463 469.526,-215.463 472.684,-211.74 474.352,-206.082\"/>\r\n<polygon fill=\"black\" stroke=\"black\" points=\"477.863,-206.239 475.749,-195.858 470.928,-205.292 477.863,-206.239\"/>\r\n<text text-anchor=\"middle\" x=\"464.88\" y=\"-219.263\" font-family=\"Times New Roman,serif\" font-size=\"14.00\">0 </text>\r\n</g>\r\n<!-- \\(F_S0\\)&#45;&gt;\\(I_I\\) -->\r\n<g id=\"edge9\" class=\"edge\"><title>\\(F_S0\\)&#45;&gt;\\(I_I\\)</title>\r\n<path fill=\"none\" stroke=\"black\" d=\"M428.215,-159.77C376.239,-157.608 276.706,-152.442 192.595,-142.067 180.393,-140.561 167.137,-138.38 155.297,-136.232\"/>\r\n<polygon fill=\"black\" stroke=\"black\" points=\"155.79,-132.764 145.318,-134.372 154.507,-139.645 155.79,-132.764\"/>\r\n<text text-anchor=\"middle\" x=\"284.989\" y=\"-154.867\" font-family=\"Times New Roman,serif\" font-size=\"14.00\">1 </text>\r\n</g>\r\n<!-- \\(I_I\\)&#45;&gt;\\(F_S0\\) -->\r\n<g id=\"edge3\" class=\"edge\"><title>\\(I_I\\)&#45;&gt;\\(F_S0\\)</title>\r\n<path fill=\"none\" stroke=\"black\" d=\"M134.37,-151.167C141.955,-160.346 152.007,-170.02 163.595,-175.067 248.178,-211.905 359.13,-191.192 419.704,-174.844\"/>\r\n<polygon fill=\"black\" stroke=\"black\" points=\"421.001,-178.116 429.696,-172.063 419.123,-171.373 421.001,-178.116\"/>\r\n<text text-anchor=\"middle\" x=\"284.989\" y=\"-198.867\" font-family=\"Times New Roman,serif\" font-size=\"14.00\">1 </text>\r\n</g>\r\n<!-- \\(I_S0\\) -->\r\n<g id=\"node4\" class=\"node\"><title>\\(I_S0\\)</title>\r\n<ellipse fill=\"none\" stroke=\"black\" cx=\"227.042\" cy=\"-66.0666\" rx=\"34.394\" ry=\"34.394\"/>\r\n<text text-anchor=\"middle\" x=\"227.042\" y=\"-62.3666\" font-family=\"Times New Roman,serif\" font-size=\"14.00\">(I_S0)</text>\r\n</g>\r\n<!-- \\(I_I\\)&#45;&gt;\\(I_S0\\) -->\r\n<g id=\"edge6\" class=\"edge\"><title>\\(I_I\\)&#45;&gt;\\(I_S0\\)</title>\r\n<path fill=\"none\" stroke=\"black\" d=\"M142.197,-115.552C155.614,-107.633 172.894,-97.4341 188.278,-88.3547\"/>\r\n<polygon fill=\"black\" stroke=\"black\" points=\"190.24,-91.261 197.073,-83.164 186.682,-85.2326 190.24,-91.261\"/>\r\n<text text-anchor=\"middle\" x=\"169.095\" y=\"-104.867\" font-family=\"Times New Roman,serif\" font-size=\"14.00\">0 </text>\r\n</g>\r\n<!-- \\(I_S0\\)&#45;&gt;\\(I_S0\\) -->\r\n<g id=\"edge7\" class=\"edge\"><title>\\(I_S0\\)&#45;&gt;\\(I_S0\\)</title>\r\n<path fill=\"none\" stroke=\"black\" d=\"M216.543,-99.1016C216.597,-109.908 220.097,-118.514 227.042,-118.514 231.6,-118.514 234.674,-114.808 236.264,-109.206\"/>\r\n<polygon fill=\"black\" stroke=\"black\" points=\"239.759,-109.462 237.541,-99.1016 232.815,-108.584 239.759,-109.462\"/>\r\n<text text-anchor=\"middle\" x=\"227.042\" y=\"-122.314\" font-family=\"Times New Roman,serif\" font-size=\"14.00\">0 </text>\r\n</g>\r\n<!-- \\(F_F\\) -->\r\n<g id=\"node5\" class=\"node\"><title>\\(F_F\\)</title>\r\n<ellipse fill=\"none\" stroke=\"black\" cx=\"344.986\" cy=\"-66.0666\" rx=\"32.4945\" ry=\"32.4945\"/>\r\n<ellipse fill=\"none\" stroke=\"black\" cx=\"344.986\" cy=\"-66.0666\" rx=\"36.4942\" ry=\"36.4942\"/>\r\n<text text-anchor=\"middle\" x=\"344.986\" y=\"-62.3666\" font-family=\"Times New Roman,serif\" font-size=\"14.00\">(F_F)</text>\r\n</g>\r\n<!-- \\(I_S0\\)&#45;&gt;\\(F_F\\) -->\r\n<g id=\"edge5\" class=\"edge\"><title>\\(I_S0\\)&#45;&gt;\\(F_F\\)</title>\r\n<path fill=\"none\" stroke=\"black\" d=\"M261.578,-66.0666C272.968,-66.0666 285.9,-66.0666 298.086,-66.0666\"/>\r\n<polygon fill=\"black\" stroke=\"black\" points=\"298.097,-69.5667 308.097,-66.0666 298.097,-62.5667 298.097,-69.5667\"/>\r\n<text text-anchor=\"middle\" x=\"284.989\" y=\"-69.8666\" font-family=\"Times New Roman,serif\" font-size=\"14.00\">1 </text>\r\n</g>\r\n<!-- \\(F_F\\)&#45;&gt;\\(F_S0\\) -->\r\n<g id=\"edge2\" class=\"edge\"><title>\\(F_F\\)&#45;&gt;\\(F_S0\\)</title>\r\n<path fill=\"none\" stroke=\"black\" d=\"M373.925,-88.5803C390.076,-101.594 410.568,-118.107 427.912,-132.083\"/>\r\n<polygon fill=\"black\" stroke=\"black\" points=\"426.159,-135.165 436.141,-138.715 430.551,-129.715 426.159,-135.165\"/>\r\n<text text-anchor=\"middle\" x=\"404.983\" y=\"-119.867\" font-family=\"Times New Roman,serif\" font-size=\"14.00\">0 </text>\r\n</g>\r\n<!-- \\(F_F\\)&#45;&gt;\\(I_I\\) -->\r\n<g id=\"edge8\" class=\"edge\"><title>\\(F_F\\)&#45;&gt;\\(I_I\\)</title>\r\n<path fill=\"none\" stroke=\"black\" d=\"M317.222,-41.99C286.117,-17.088 233.792,15.1437 192.595,-8.06662 160.533,-26.1303 140.893,-64.4992 130.118,-93.2165\"/>\r\n<polygon fill=\"black\" stroke=\"black\" points=\"126.719,-92.3278 126.67,-102.923 133.315,-94.6709 126.719,-92.3278\"/>\r\n<text text-anchor=\"middle\" x=\"227.042\" y=\"-11.8666\" font-family=\"Times New Roman,serif\" font-size=\"14.00\">1 </text>\r\n</g>\r\n</g>\r\n</svg>\r\n"
     },
     "metadata": {},
     "execution_count": 71
    }
   ],
   "source": [
    "dotObj_dfa(MinC_CdfaOdd1sORCends01)"
   ]
  },
  {
   "cell_type": "markdown",
   "metadata": {
    "run_control": {
     "frozen": false,
     "read_only": false
    }
   },
   "source": [
    "## DeMorgan's Law works for DFA !!\n",
    "\n",
    "The same machine, when obtained through two routes, turn out to be isomorphic when minimized\n"
   ]
  },
  {
   "cell_type": "code",
   "execution_count": 72,
   "metadata": {
    "run_control": {
     "frozen": false,
     "read_only": false
    }
   },
   "outputs": [
    {
     "output_type": "execute_result",
     "data": {
      "text/plain": "True"
     },
     "metadata": {},
     "execution_count": 72
    }
   ],
   "source": [
    "iso_dfa(MinC_CdfaOdd1sORCends01, Minodd1sANDends01)"
   ]
  },
  {
   "cell_type": "markdown",
   "metadata": {
    "run_control": {
     "frozen": false,
     "read_only": false
    }
   },
   "source": [
    "# These are some examples from the book"
   ]
  },
  {
   "cell_type": "code",
   "execution_count": 73,
   "metadata": {
    "run_control": {
     "frozen": false,
     "read_only": false
    }
   },
   "outputs": [],
   "source": [
    "blimp = md2mc('''\n",
    "DFA \n",
    "I1 : a -> F2\n",
    "I1 : b -> F3\n",
    "F2 : a -> S8\n",
    "F2 : b -> S5\n",
    "F3 : a -> S7\n",
    "F3 : b -> S4\n",
    "S4 : a | b -> F6\n",
    "S5 : a | b -> F6\n",
    "F6 : a | b -> F6\n",
    "S7 : a | b -> F6\n",
    "S8 : a -> F6\n",
    "S8 : b -> F9\n",
    "F9 : a -> F9\n",
    "F9 : b -> F6\n",
    "''')"
   ]
  },
  {
   "cell_type": "code",
   "execution_count": 74,
   "metadata": {
    "run_control": {
     "frozen": false,
     "read_only": false
    }
   },
   "outputs": [],
   "source": [
    "dblimp = dotObj_dfa(blimp)"
   ]
  },
  {
   "cell_type": "code",
   "execution_count": 75,
   "metadata": {
    "run_control": {
     "frozen": false,
     "read_only": false
    }
   },
   "outputs": [
    {
     "output_type": "execute_result",
     "data": {
      "text/plain": "<graphviz.dot.Digraph at 0x1c8de442c70>",
      "image/svg+xml": "<?xml version=\"1.0\" encoding=\"UTF-8\" standalone=\"no\"?>\r\n<!DOCTYPE svg PUBLIC \"-//W3C//DTD SVG 1.1//EN\"\r\n \"http://www.w3.org/Graphics/SVG/1.1/DTD/svg11.dtd\">\r\n<!-- Generated by graphviz version 2.38.0 (20140413.2041)\r\n -->\r\n<!-- Title: %3 Pages: 1 -->\r\n<svg width=\"522pt\" height=\"347pt\"\r\n viewBox=\"0.00 0.00 521.78 346.80\" xmlns=\"http://www.w3.org/2000/svg\" xmlns:xlink=\"http://www.w3.org/1999/xlink\">\r\n<g id=\"graph0\" class=\"graph\" transform=\"scale(1 1) rotate(0) translate(4 342.798)\">\r\n<title>%3</title>\r\n<polygon fill=\"white\" stroke=\"none\" points=\"-4,4 -4,-342.798 517.782,-342.798 517.782,4 -4,4\"/>\r\n<!-- EMPTY -->\r\n<g id=\"node1\" class=\"node\"><title>EMPTY</title>\r\n</g>\r\n<!-- I1 -->\r\n<g id=\"node3\" class=\"node\"><title>I1</title>\r\n<ellipse fill=\"none\" stroke=\"black\" cx=\"109.198\" cy=\"-216.798\" rx=\"18.399\" ry=\"18.399\"/>\r\n<text text-anchor=\"middle\" x=\"109.198\" y=\"-213.098\" font-family=\"Times New Roman,serif\" font-size=\"14.00\">I1</text>\r\n</g>\r\n<!-- EMPTY&#45;&gt;I1 -->\r\n<g id=\"edge1\" class=\"edge\"><title>EMPTY&#45;&gt;I1</title>\r\n<path fill=\"none\" stroke=\"black\" d=\"M54.26,-216.798C62.7397,-216.798 72.1605,-216.798 80.7255,-216.798\"/>\r\n<polygon fill=\"black\" stroke=\"black\" points=\"80.9815,-220.298 90.9815,-216.798 80.9815,-213.298 80.9815,-220.298\"/>\r\n</g>\r\n<!-- S5 -->\r\n<g id=\"node2\" class=\"node\"><title>S5</title>\r\n<ellipse fill=\"none\" stroke=\"black\" cx=\"391.388\" cy=\"-176.798\" rx=\"20.5982\" ry=\"20.5982\"/>\r\n<text text-anchor=\"middle\" x=\"391.388\" y=\"-173.098\" font-family=\"Times New Roman,serif\" font-size=\"14.00\">S5</text>\r\n</g>\r\n<!-- F6 -->\r\n<g id=\"node8\" class=\"node\"><title>F6</title>\r\n<ellipse fill=\"none\" stroke=\"black\" cx=\"488.984\" cy=\"-208.798\" rx=\"20.6302\" ry=\"20.6302\"/>\r\n<ellipse fill=\"none\" stroke=\"black\" cx=\"488.984\" cy=\"-208.798\" rx=\"24.5979\" ry=\"24.5979\"/>\r\n<text text-anchor=\"middle\" x=\"488.984\" y=\"-205.098\" font-family=\"Times New Roman,serif\" font-size=\"14.00\">F6</text>\r\n</g>\r\n<!-- S5&#45;&gt;F6 -->\r\n<g id=\"edge10\" class=\"edge\"><title>S5&#45;&gt;F6</title>\r\n<path fill=\"none\" stroke=\"black\" d=\"M411.77,-181.088C422.1,-183.562 434.958,-186.945 446.186,-190.798 449.679,-191.997 453.291,-193.359 456.861,-194.783\"/>\r\n<polygon fill=\"black\" stroke=\"black\" points=\"455.527,-198.019 466.104,-198.633 458.218,-191.557 455.527,-198.019\"/>\r\n<text text-anchor=\"middle\" x=\"440.186\" y=\"-194.598\" font-family=\"Times New Roman,serif\" font-size=\"14.00\">a </text>\r\n</g>\r\n<!-- S5&#45;&gt;F6 -->\r\n<g id=\"edge11\" class=\"edge\"><title>S5&#45;&gt;F6</title>\r\n<path fill=\"none\" stroke=\"black\" d=\"M410.874,-169.421C421.519,-166.296 434.969,-164.296 446.186,-168.798 453.363,-171.679 460.004,-176.446 465.782,-181.703\"/>\r\n<polygon fill=\"black\" stroke=\"black\" points=\"463.559,-184.431 473.096,-189.045 468.519,-179.49 463.559,-184.431\"/>\r\n<text text-anchor=\"middle\" x=\"440.186\" y=\"-172.598\" font-family=\"Times New Roman,serif\" font-size=\"14.00\">b </text>\r\n</g>\r\n<!-- F3 -->\r\n<g id=\"node7\" class=\"node\"><title>F3</title>\r\n<ellipse fill=\"none\" stroke=\"black\" cx=\"293.791\" cy=\"-242.798\" rx=\"20.6302\" ry=\"20.6302\"/>\r\n<ellipse fill=\"none\" stroke=\"black\" cx=\"293.791\" cy=\"-242.798\" rx=\"24.5979\" ry=\"24.5979\"/>\r\n<text text-anchor=\"middle\" x=\"293.791\" y=\"-239.098\" font-family=\"Times New Roman,serif\" font-size=\"14.00\">F3</text>\r\n</g>\r\n<!-- I1&#45;&gt;F3 -->\r\n<g id=\"edge3\" class=\"edge\"><title>I1&#45;&gt;F3</title>\r\n<path fill=\"none\" stroke=\"black\" d=\"M127.376,-219.244C157.32,-223.508 219.598,-232.376 258.613,-237.931\"/>\r\n<polygon fill=\"black\" stroke=\"black\" points=\"258.561,-241.459 268.955,-239.404 259.548,-234.529 258.561,-241.459\"/>\r\n<text text-anchor=\"middle\" x=\"198.195\" y=\"-237.598\" font-family=\"Times New Roman,serif\" font-size=\"14.00\">b </text>\r\n</g>\r\n<!-- F2 -->\r\n<g id=\"node10\" class=\"node\"><title>F2</title>\r\n<ellipse fill=\"none\" stroke=\"black\" cx=\"198.195\" cy=\"-176.798\" rx=\"20.6302\" ry=\"20.6302\"/>\r\n<ellipse fill=\"none\" stroke=\"black\" cx=\"198.195\" cy=\"-176.798\" rx=\"24.5979\" ry=\"24.5979\"/>\r\n<text text-anchor=\"middle\" x=\"198.195\" y=\"-173.098\" font-family=\"Times New Roman,serif\" font-size=\"14.00\">F2</text>\r\n</g>\r\n<!-- I1&#45;&gt;F2 -->\r\n<g id=\"edge2\" class=\"edge\"><title>I1&#45;&gt;F2</title>\r\n<path fill=\"none\" stroke=\"black\" d=\"M126.155,-209.462C137.286,-204.344 152.505,-197.346 166.002,-191.14\"/>\r\n<polygon fill=\"black\" stroke=\"black\" points=\"167.818,-194.157 175.442,-186.8 164.894,-187.797 167.818,-194.157\"/>\r\n<text text-anchor=\"middle\" x=\"150.397\" y=\"-204.598\" font-family=\"Times New Roman,serif\" font-size=\"14.00\">a </text>\r\n</g>\r\n<!-- S7 -->\r\n<g id=\"node4\" class=\"node\"><title>S7</title>\r\n<ellipse fill=\"none\" stroke=\"black\" cx=\"391.388\" cy=\"-303.798\" rx=\"20.5982\" ry=\"20.5982\"/>\r\n<text text-anchor=\"middle\" x=\"391.388\" y=\"-300.098\" font-family=\"Times New Roman,serif\" font-size=\"14.00\">S7</text>\r\n</g>\r\n<!-- S7&#45;&gt;F6 -->\r\n<g id=\"edge14\" class=\"edge\"><title>S7&#45;&gt;F6</title>\r\n<path fill=\"none\" stroke=\"black\" d=\"M409.093,-315.74C420.359,-322.203 435.128,-327.45 446.186,-319.798 470.742,-302.806 480.89,-269.445 485.074,-243.713\"/>\r\n<polygon fill=\"black\" stroke=\"black\" points=\"488.573,-243.962 486.485,-233.575 481.639,-242.997 488.573,-243.962\"/>\r\n<text text-anchor=\"middle\" x=\"440.186\" y=\"-327.598\" font-family=\"Times New Roman,serif\" font-size=\"14.00\">a </text>\r\n</g>\r\n<!-- S7&#45;&gt;F6 -->\r\n<g id=\"edge15\" class=\"edge\"><title>S7&#45;&gt;F6</title>\r\n<path fill=\"none\" stroke=\"black\" d=\"M409.949,-293.449C421.027,-286.445 435.255,-276.536 446.186,-265.798 454.63,-257.502 462.646,-247.364 469.357,-237.951\"/>\r\n<polygon fill=\"black\" stroke=\"black\" points=\"472.332,-239.803 475.128,-229.583 466.569,-235.828 472.332,-239.803\"/>\r\n<text text-anchor=\"middle\" x=\"440.186\" y=\"-279.598\" font-family=\"Times New Roman,serif\" font-size=\"14.00\">b </text>\r\n</g>\r\n<!-- S8 -->\r\n<g id=\"node5\" class=\"node\"><title>S8</title>\r\n<ellipse fill=\"none\" stroke=\"black\" cx=\"293.791\" cy=\"-118.798\" rx=\"20.5982\" ry=\"20.5982\"/>\r\n<text text-anchor=\"middle\" x=\"293.791\" y=\"-115.098\" font-family=\"Times New Roman,serif\" font-size=\"14.00\">S8</text>\r\n</g>\r\n<!-- S8&#45;&gt;F6 -->\r\n<g id=\"edge16\" class=\"edge\"><title>S8&#45;&gt;F6</title>\r\n<path fill=\"none\" stroke=\"black\" d=\"M314.843,-116.912C339.887,-115.432 383.426,-115.802 416.186,-131.798 437.865,-142.384 456.275,-162.523 469.025,-179.55\"/>\r\n<polygon fill=\"black\" stroke=\"black\" points=\"466.489,-182.02 475.163,-188.104 472.176,-177.939 466.489,-182.02\"/>\r\n<text text-anchor=\"middle\" x=\"391.388\" y=\"-135.598\" font-family=\"Times New Roman,serif\" font-size=\"14.00\">a </text>\r\n</g>\r\n<!-- F9 -->\r\n<g id=\"node9\" class=\"node\"><title>F9</title>\r\n<ellipse fill=\"none\" stroke=\"black\" cx=\"391.388\" cy=\"-24.7982\" rx=\"20.6302\" ry=\"20.6302\"/>\r\n<ellipse fill=\"none\" stroke=\"black\" cx=\"391.388\" cy=\"-24.7982\" rx=\"24.5979\" ry=\"24.5979\"/>\r\n<text text-anchor=\"middle\" x=\"391.388\" y=\"-21.0982\" font-family=\"Times New Roman,serif\" font-size=\"14.00\">F9</text>\r\n</g>\r\n<!-- S8&#45;&gt;F9 -->\r\n<g id=\"edge17\" class=\"edge\"><title>S8&#45;&gt;F9</title>\r\n<path fill=\"none\" stroke=\"black\" d=\"M309.31,-104.522C324.301,-89.7813 347.961,-66.5162 365.861,-48.9149\"/>\r\n<polygon fill=\"black\" stroke=\"black\" points=\"368.462,-51.2666 373.138,-41.7596 363.554,-46.2753 368.462,-51.2666\"/>\r\n<text text-anchor=\"middle\" x=\"342.589\" y=\"-81.5982\" font-family=\"Times New Roman,serif\" font-size=\"14.00\">b </text>\r\n</g>\r\n<!-- S4 -->\r\n<g id=\"node6\" class=\"node\"><title>S4</title>\r\n<ellipse fill=\"none\" stroke=\"black\" cx=\"391.388\" cy=\"-242.798\" rx=\"20.5982\" ry=\"20.5982\"/>\r\n<text text-anchor=\"middle\" x=\"391.388\" y=\"-239.098\" font-family=\"Times New Roman,serif\" font-size=\"14.00\">S4</text>\r\n</g>\r\n<!-- S4&#45;&gt;F6 -->\r\n<g id=\"edge8\" class=\"edge\"><title>S4&#45;&gt;F6</title>\r\n<path fill=\"none\" stroke=\"black\" d=\"M411.864,-246.477C422.336,-247.643 435.299,-247.754 446.186,-243.798 452.49,-241.507 458.508,-237.802 463.914,-233.641\"/>\r\n<polygon fill=\"black\" stroke=\"black\" points=\"466.521,-236.018 471.859,-226.866 461.979,-230.691 466.521,-236.018\"/>\r\n<text text-anchor=\"middle\" x=\"440.186\" y=\"-250.598\" font-family=\"Times New Roman,serif\" font-size=\"14.00\">a </text>\r\n</g>\r\n<!-- S4&#45;&gt;F6 -->\r\n<g id=\"edge9\" class=\"edge\"><title>S4&#45;&gt;F6</title>\r\n<path fill=\"none\" stroke=\"black\" d=\"M410.512,-234.441C417.793,-231.23 426.312,-227.653 434.186,-224.798 440.833,-222.388 448.034,-220.058 454.941,-217.958\"/>\r\n<polygon fill=\"black\" stroke=\"black\" points=\"456.152,-221.25 464.752,-215.061 454.17,-214.536 456.152,-221.25\"/>\r\n<text text-anchor=\"middle\" x=\"440.186\" y=\"-228.598\" font-family=\"Times New Roman,serif\" font-size=\"14.00\">b </text>\r\n</g>\r\n<!-- F3&#45;&gt;S7 -->\r\n<g id=\"edge6\" class=\"edge\"><title>F3&#45;&gt;S7</title>\r\n<path fill=\"none\" stroke=\"black\" d=\"M315.065,-255.735C329.542,-264.973 349.131,-277.472 364.703,-287.409\"/>\r\n<polygon fill=\"black\" stroke=\"black\" points=\"363.025,-290.49 373.338,-292.919 366.791,-284.589 363.025,-290.49\"/>\r\n<text text-anchor=\"middle\" x=\"342.589\" y=\"-281.598\" font-family=\"Times New Roman,serif\" font-size=\"14.00\">a </text>\r\n</g>\r\n<!-- F3&#45;&gt;S4 -->\r\n<g id=\"edge7\" class=\"edge\"><title>F3&#45;&gt;S4</title>\r\n<path fill=\"none\" stroke=\"black\" d=\"M318.914,-242.798C331.484,-242.798 346.976,-242.798 360.32,-242.798\"/>\r\n<polygon fill=\"black\" stroke=\"black\" points=\"360.464,-246.298 370.464,-242.798 360.464,-239.298 360.464,-246.298\"/>\r\n<text text-anchor=\"middle\" x=\"342.589\" y=\"-246.598\" font-family=\"Times New Roman,serif\" font-size=\"14.00\">b </text>\r\n</g>\r\n<!-- F6&#45;&gt;F6 -->\r\n<g id=\"edge12\" class=\"edge\"><title>F6&#45;&gt;F6</title>\r\n<path fill=\"none\" stroke=\"black\" d=\"M484.511,-233.427C484.259,-243.305 485.749,-251.596 488.984,-251.596 491.005,-251.596 492.346,-248.358 493.005,-243.517\"/>\r\n<polygon fill=\"black\" stroke=\"black\" points=\"496.506,-243.574 493.456,-233.427 489.513,-243.261 496.506,-243.574\"/>\r\n<text text-anchor=\"middle\" x=\"488.984\" y=\"-255.396\" font-family=\"Times New Roman,serif\" font-size=\"14.00\">a </text>\r\n</g>\r\n<!-- F6&#45;&gt;F6 -->\r\n<g id=\"edge13\" class=\"edge\"><title>F6&#45;&gt;F6</title>\r\n<path fill=\"none\" stroke=\"black\" d=\"M481.146,-232.512C478.215,-250.871 480.828,-269.596 488.984,-269.596 495.611,-269.596 498.578,-257.235 497.886,-242.752\"/>\r\n<polygon fill=\"black\" stroke=\"black\" points=\"501.336,-242.097 496.821,-232.512 494.374,-242.821 501.336,-242.097\"/>\r\n<text text-anchor=\"middle\" x=\"488.984\" y=\"-273.396\" font-family=\"Times New Roman,serif\" font-size=\"14.00\">b </text>\r\n</g>\r\n<!-- F9&#45;&gt;F6 -->\r\n<g id=\"edge19\" class=\"edge\"><title>F9&#45;&gt;F6</title>\r\n<path fill=\"none\" stroke=\"black\" d=\"M409.548,-42.0122C421.165,-54.4338 436.164,-72.0735 446.186,-89.7982 461.368,-116.651 472.498,-149.986 479.439,-174.537\"/>\r\n<polygon fill=\"black\" stroke=\"black\" points=\"476.143,-175.754 482.156,-184.477 482.895,-173.908 476.143,-175.754\"/>\r\n<text text-anchor=\"middle\" x=\"440.186\" y=\"-93.5982\" font-family=\"Times New Roman,serif\" font-size=\"14.00\">b </text>\r\n</g>\r\n<!-- F9&#45;&gt;F9 -->\r\n<g id=\"edge18\" class=\"edge\"><title>F9&#45;&gt;F9</title>\r\n<path fill=\"none\" stroke=\"black\" d=\"M382.528,-48.1303C381.684,-58.5686 384.638,-67.5963 391.388,-67.5963 395.712,-67.5963 398.478,-63.8913 399.685,-58.484\"/>\r\n<polygon fill=\"black\" stroke=\"black\" points=\"403.2,-58.3051 400.247,-48.1303 396.211,-57.926 403.2,-58.3051\"/>\r\n<text text-anchor=\"middle\" x=\"391.388\" y=\"-71.3963\" font-family=\"Times New Roman,serif\" font-size=\"14.00\">a </text>\r\n</g>\r\n<!-- F2&#45;&gt;S5 -->\r\n<g id=\"edge5\" class=\"edge\"><title>F2&#45;&gt;S5</title>\r\n<path fill=\"none\" stroke=\"black\" d=\"M223.023,-176.798C257.644,-176.798 321.862,-176.798 359.893,-176.798\"/>\r\n<polygon fill=\"black\" stroke=\"black\" points=\"360.336,-180.298 370.336,-176.798 360.336,-173.298 360.336,-180.298\"/>\r\n<text text-anchor=\"middle\" x=\"293.791\" y=\"-180.598\" font-family=\"Times New Roman,serif\" font-size=\"14.00\">b </text>\r\n</g>\r\n<!-- F2&#45;&gt;S8 -->\r\n<g id=\"edge4\" class=\"edge\"><title>F2&#45;&gt;S8</title>\r\n<path fill=\"none\" stroke=\"black\" d=\"M218.918,-162.535C225.807,-157.709 233.653,-152.385 240.993,-147.798 248.995,-142.799 257.897,-137.666 266.034,-133.135\"/>\r\n<polygon fill=\"black\" stroke=\"black\" points=\"267.727,-136.198 274.805,-128.315 264.355,-130.064 267.727,-136.198\"/>\r\n<text text-anchor=\"middle\" x=\"245.993\" y=\"-151.598\" font-family=\"Times New Roman,serif\" font-size=\"14.00\">a </text>\r\n</g>\r\n</g>\r\n</svg>\r\n"
     },
     "metadata": {},
     "execution_count": 75
    }
   ],
   "source": [
    "dblimp"
   ]
  },
  {
   "cell_type": "code",
   "execution_count": 76,
   "metadata": {
    "run_control": {
     "frozen": false,
     "read_only": false
    }
   },
   "outputs": [],
   "source": [
    "dblimp = dotObj_dfa(blimp, FuseEdges=True)"
   ]
  },
  {
   "cell_type": "code",
   "execution_count": 77,
   "metadata": {
    "run_control": {
     "frozen": false,
     "read_only": false
    }
   },
   "outputs": [
    {
     "output_type": "execute_result",
     "data": {
      "text/plain": "<graphviz.dot.Digraph at 0x1c8de55b1f0>",
      "image/svg+xml": "<?xml version=\"1.0\" encoding=\"UTF-8\" standalone=\"no\"?>\r\n<!DOCTYPE svg PUBLIC \"-//W3C//DTD SVG 1.1//EN\"\r\n \"http://www.w3.org/Graphics/SVG/1.1/DTD/svg11.dtd\">\r\n<!-- Generated by graphviz version 2.38.0 (20140413.2041)\r\n -->\r\n<!-- Title: %3 Pages: 1 -->\r\n<svg width=\"557pt\" height=\"328pt\"\r\n viewBox=\"0.00 0.00 557.38 327.60\" xmlns=\"http://www.w3.org/2000/svg\" xmlns:xlink=\"http://www.w3.org/1999/xlink\">\r\n<g id=\"graph0\" class=\"graph\" transform=\"scale(1 1) rotate(0) translate(4 323.596)\">\r\n<title>%3</title>\r\n<polygon fill=\"white\" stroke=\"none\" points=\"-4,4 -4,-323.596 553.378,-323.596 553.378,4 -4,4\"/>\r\n<!-- EMPTY -->\r\n<g id=\"node1\" class=\"node\"><title>EMPTY</title>\r\n</g>\r\n<!-- I1 -->\r\n<g id=\"node3\" class=\"node\"><title>I1</title>\r\n<ellipse fill=\"none\" stroke=\"black\" cx=\"109.198\" cy=\"-210.798\" rx=\"18.399\" ry=\"18.399\"/>\r\n<text text-anchor=\"middle\" x=\"109.198\" y=\"-207.098\" font-family=\"Times New Roman,serif\" font-size=\"14.00\">I1</text>\r\n</g>\r\n<!-- EMPTY&#45;&gt;I1 -->\r\n<g id=\"edge1\" class=\"edge\"><title>EMPTY&#45;&gt;I1</title>\r\n<path fill=\"none\" stroke=\"black\" d=\"M54.26,-210.798C62.7397,-210.798 72.1605,-210.798 80.7255,-210.798\"/>\r\n<polygon fill=\"black\" stroke=\"black\" points=\"80.9815,-214.298 90.9815,-210.798 80.9815,-207.298 80.9815,-214.298\"/>\r\n</g>\r\n<!-- S5 -->\r\n<g id=\"node2\" class=\"node\"><title>S5</title>\r\n<ellipse fill=\"none\" stroke=\"black\" cx=\"359.388\" cy=\"-169.798\" rx=\"20.5982\" ry=\"20.5982\"/>\r\n<text text-anchor=\"middle\" x=\"359.388\" y=\"-166.098\" font-family=\"Times New Roman,serif\" font-size=\"14.00\">S5</text>\r\n</g>\r\n<!-- F6 -->\r\n<g id=\"node8\" class=\"node\"><title>F6</title>\r\n<ellipse fill=\"none\" stroke=\"black\" cx=\"524.58\" cy=\"-169.798\" rx=\"20.6302\" ry=\"20.6302\"/>\r\n<ellipse fill=\"none\" stroke=\"black\" cx=\"524.58\" cy=\"-169.798\" rx=\"24.5979\" ry=\"24.5979\"/>\r\n<text text-anchor=\"middle\" x=\"524.58\" y=\"-166.098\" font-family=\"Times New Roman,serif\" font-size=\"14.00\">F6</text>\r\n</g>\r\n<!-- S5&#45;&gt;F6 -->\r\n<g id=\"edge9\" class=\"edge\"><title>S5&#45;&gt;F6</title>\r\n<path fill=\"none\" stroke=\"black\" d=\"M380.398,-169.798C407.585,-169.798 456.58,-169.798 489.59,-169.798\"/>\r\n<polygon fill=\"black\" stroke=\"black\" points=\"489.698,-173.298 499.698,-169.798 489.698,-166.298 489.698,-173.298\"/>\r\n<text text-anchor=\"middle\" x=\"422.984\" y=\"-188.598\" font-family=\"Times New Roman,serif\" font-size=\"14.00\">a </text>\r\n<text text-anchor=\"middle\" x=\"422.984\" y=\"-173.598\" font-family=\"Times New Roman,serif\" font-size=\"14.00\"> b </text>\r\n</g>\r\n<!-- F3 -->\r\n<g id=\"node7\" class=\"node\"><title>F3</title>\r\n<ellipse fill=\"none\" stroke=\"black\" cx=\"295.791\" cy=\"-238.798\" rx=\"20.6302\" ry=\"20.6302\"/>\r\n<ellipse fill=\"none\" stroke=\"black\" cx=\"295.791\" cy=\"-238.798\" rx=\"24.5979\" ry=\"24.5979\"/>\r\n<text text-anchor=\"middle\" x=\"295.791\" y=\"-235.098\" font-family=\"Times New Roman,serif\" font-size=\"14.00\">F3</text>\r\n</g>\r\n<!-- I1&#45;&gt;F3 -->\r\n<g id=\"edge3\" class=\"edge\"><title>I1&#45;&gt;F3</title>\r\n<path fill=\"none\" stroke=\"black\" d=\"M127.234,-213.382C157.63,-217.993 221.725,-227.715 261.239,-233.709\"/>\r\n<polygon fill=\"black\" stroke=\"black\" points=\"260.79,-237.181 271.201,-235.22 261.839,-230.26 260.79,-237.181\"/>\r\n<text text-anchor=\"middle\" x=\"198.195\" y=\"-231.598\" font-family=\"Times New Roman,serif\" font-size=\"14.00\">b </text>\r\n</g>\r\n<!-- F2 -->\r\n<g id=\"node10\" class=\"node\"><title>F2</title>\r\n<ellipse fill=\"none\" stroke=\"black\" cx=\"198.195\" cy=\"-169.798\" rx=\"20.6302\" ry=\"20.6302\"/>\r\n<ellipse fill=\"none\" stroke=\"black\" cx=\"198.195\" cy=\"-169.798\" rx=\"24.5979\" ry=\"24.5979\"/>\r\n<text text-anchor=\"middle\" x=\"198.195\" y=\"-166.098\" font-family=\"Times New Roman,serif\" font-size=\"14.00\">F2</text>\r\n</g>\r\n<!-- I1&#45;&gt;F2 -->\r\n<g id=\"edge2\" class=\"edge\"><title>I1&#45;&gt;F2</title>\r\n<path fill=\"none\" stroke=\"black\" d=\"M126.155,-203.278C137.394,-197.981 152.801,-190.72 166.394,-184.314\"/>\r\n<polygon fill=\"black\" stroke=\"black\" points=\"167.888,-187.479 175.442,-180.05 164.904,-181.147 167.888,-187.479\"/>\r\n<text text-anchor=\"middle\" x=\"150.397\" y=\"-198.598\" font-family=\"Times New Roman,serif\" font-size=\"14.00\">a </text>\r\n</g>\r\n<!-- S7 -->\r\n<g id=\"node4\" class=\"node\"><title>S7</title>\r\n<ellipse fill=\"none\" stroke=\"black\" cx=\"422.984\" cy=\"-298.798\" rx=\"20.5982\" ry=\"20.5982\"/>\r\n<text text-anchor=\"middle\" x=\"422.984\" y=\"-295.098\" font-family=\"Times New Roman,serif\" font-size=\"14.00\">S7</text>\r\n</g>\r\n<!-- S7&#45;&gt;F6 -->\r\n<g id=\"edge11\" class=\"edge\"><title>S7&#45;&gt;F6</title>\r\n<path fill=\"none\" stroke=\"black\" d=\"M439.642,-285.807C451.993,-275.073 469.18,-259.016 481.782,-242.798 491.83,-229.868 501.094,-214.261 508.334,-200.802\"/>\r\n<polygon fill=\"black\" stroke=\"black\" points=\"511.464,-202.368 513.007,-191.886 505.264,-199.118 511.464,-202.368\"/>\r\n<text text-anchor=\"middle\" x=\"473.782\" y=\"-280.598\" font-family=\"Times New Roman,serif\" font-size=\"14.00\">a </text>\r\n<text text-anchor=\"middle\" x=\"473.782\" y=\"-265.598\" font-family=\"Times New Roman,serif\" font-size=\"14.00\"> b </text>\r\n</g>\r\n<!-- S8 -->\r\n<g id=\"node5\" class=\"node\"><title>S8</title>\r\n<ellipse fill=\"none\" stroke=\"black\" cx=\"295.791\" cy=\"-118.798\" rx=\"20.5982\" ry=\"20.5982\"/>\r\n<text text-anchor=\"middle\" x=\"295.791\" y=\"-115.098\" font-family=\"Times New Roman,serif\" font-size=\"14.00\">S8</text>\r\n</g>\r\n<!-- S8&#45;&gt;F6 -->\r\n<g id=\"edge12\" class=\"edge\"><title>S8&#45;&gt;F6</title>\r\n<path fill=\"none\" stroke=\"black\" d=\"M316.387,-122.712C345.232,-128.526 400.789,-139.933 447.782,-150.798 461.758,-154.03 477.119,-157.833 490.338,-161.184\"/>\r\n<polygon fill=\"black\" stroke=\"black\" points=\"489.857,-164.674 500.412,-163.756 491.588,-157.891 489.857,-164.674\"/>\r\n<text text-anchor=\"middle\" x=\"422.984\" y=\"-154.598\" font-family=\"Times New Roman,serif\" font-size=\"14.00\">a </text>\r\n</g>\r\n<!-- F9 -->\r\n<g id=\"node9\" class=\"node\"><title>F9</title>\r\n<ellipse fill=\"none\" stroke=\"black\" cx=\"422.984\" cy=\"-24.7982\" rx=\"20.6302\" ry=\"20.6302\"/>\r\n<ellipse fill=\"none\" stroke=\"black\" cx=\"422.984\" cy=\"-24.7982\" rx=\"24.5979\" ry=\"24.5979\"/>\r\n<text text-anchor=\"middle\" x=\"422.984\" y=\"-21.0982\" font-family=\"Times New Roman,serif\" font-size=\"14.00\">F9</text>\r\n</g>\r\n<!-- S8&#45;&gt;F9 -->\r\n<g id=\"edge13\" class=\"edge\"><title>S8&#45;&gt;F9</title>\r\n<path fill=\"none\" stroke=\"black\" d=\"M312.902,-106.702C333.55,-91.1984 369.657,-64.0875 394.643,-45.3268\"/>\r\n<polygon fill=\"black\" stroke=\"black\" points=\"396.757,-48.1166 402.652,-39.3134 392.554,-42.5189 396.757,-48.1166\"/>\r\n<text text-anchor=\"middle\" x=\"359.388\" y=\"-89.5982\" font-family=\"Times New Roman,serif\" font-size=\"14.00\">b </text>\r\n</g>\r\n<!-- S4 -->\r\n<g id=\"node6\" class=\"node\"><title>S4</title>\r\n<ellipse fill=\"none\" stroke=\"black\" cx=\"422.984\" cy=\"-238.798\" rx=\"20.5982\" ry=\"20.5982\"/>\r\n<text text-anchor=\"middle\" x=\"422.984\" y=\"-235.098\" font-family=\"Times New Roman,serif\" font-size=\"14.00\">S4</text>\r\n</g>\r\n<!-- S4&#45;&gt;F6 -->\r\n<g id=\"edge8\" class=\"edge\"><title>S4&#45;&gt;F6</title>\r\n<path fill=\"none\" stroke=\"black\" d=\"M440.43,-227.404C455.339,-217.075 477.629,-201.633 495.379,-189.336\"/>\r\n<polygon fill=\"black\" stroke=\"black\" points=\"497.449,-192.16 503.676,-183.588 493.463,-186.406 497.449,-192.16\"/>\r\n<text text-anchor=\"middle\" x=\"473.782\" y=\"-227.598\" font-family=\"Times New Roman,serif\" font-size=\"14.00\">a </text>\r\n<text text-anchor=\"middle\" x=\"473.782\" y=\"-212.598\" font-family=\"Times New Roman,serif\" font-size=\"14.00\"> b </text>\r\n</g>\r\n<!-- F3&#45;&gt;S7 -->\r\n<g id=\"edge6\" class=\"edge\"><title>F3&#45;&gt;S7</title>\r\n<path fill=\"none\" stroke=\"black\" d=\"M318.598,-249.249C339.685,-259.355 371.71,-274.704 394.524,-285.638\"/>\r\n<polygon fill=\"black\" stroke=\"black\" points=\"393.149,-288.86 403.679,-290.025 396.174,-282.547 393.149,-288.86\"/>\r\n<text text-anchor=\"middle\" x=\"359.388\" y=\"-280.598\" font-family=\"Times New Roman,serif\" font-size=\"14.00\">a </text>\r\n</g>\r\n<!-- F3&#45;&gt;S4 -->\r\n<g id=\"edge7\" class=\"edge\"><title>F3&#45;&gt;S4</title>\r\n<path fill=\"none\" stroke=\"black\" d=\"M320.634,-238.798C340.875,-238.798 370.029,-238.798 391.878,-238.798\"/>\r\n<polygon fill=\"black\" stroke=\"black\" points=\"391.945,-242.298 401.945,-238.798 391.945,-235.298 391.945,-242.298\"/>\r\n<text text-anchor=\"middle\" x=\"359.388\" y=\"-242.598\" font-family=\"Times New Roman,serif\" font-size=\"14.00\">b </text>\r\n</g>\r\n<!-- F6&#45;&gt;F6 -->\r\n<g id=\"edge10\" class=\"edge\"><title>F6&#45;&gt;F6</title>\r\n<path fill=\"none\" stroke=\"black\" d=\"M515.352,-193.13C514.473,-203.569 517.549,-212.596 524.58,-212.596 529.085,-212.596 531.966,-208.891 533.224,-203.484\"/>\r\n<polygon fill=\"black\" stroke=\"black\" points=\"536.739,-203.312 533.809,-193.13 529.75,-202.917 536.739,-203.312\"/>\r\n<text text-anchor=\"middle\" x=\"524.58\" y=\"-231.396\" font-family=\"Times New Roman,serif\" font-size=\"14.00\">a </text>\r\n<text text-anchor=\"middle\" x=\"524.58\" y=\"-216.396\" font-family=\"Times New Roman,serif\" font-size=\"14.00\"> b </text>\r\n</g>\r\n<!-- F9&#45;&gt;F6 -->\r\n<g id=\"edge15\" class=\"edge\"><title>F9&#45;&gt;F6</title>\r\n<path fill=\"none\" stroke=\"black\" d=\"M441.173,-41.7556C453.382,-54.3363 469.687,-72.275 481.782,-89.7982 492.151,-104.821 501.738,-122.735 509.107,-137.8\"/>\r\n<polygon fill=\"black\" stroke=\"black\" points=\"506.145,-139.717 513.616,-147.229 512.46,-136.698 506.145,-139.717\"/>\r\n<text text-anchor=\"middle\" x=\"473.782\" y=\"-93.5982\" font-family=\"Times New Roman,serif\" font-size=\"14.00\">b </text>\r\n</g>\r\n<!-- F9&#45;&gt;F9 -->\r\n<g id=\"edge14\" class=\"edge\"><title>F9&#45;&gt;F9</title>\r\n<path fill=\"none\" stroke=\"black\" d=\"M413.755,-48.1303C412.876,-58.5686 415.953,-67.5963 422.984,-67.5963 427.488,-67.5963 430.369,-63.8913 431.628,-58.484\"/>\r\n<polygon fill=\"black\" stroke=\"black\" points=\"435.143,-58.3118 432.212,-48.1303 428.154,-57.9169 435.143,-58.3118\"/>\r\n<text text-anchor=\"middle\" x=\"422.984\" y=\"-71.3963\" font-family=\"Times New Roman,serif\" font-size=\"14.00\">a </text>\r\n</g>\r\n<!-- F2&#45;&gt;S5 -->\r\n<g id=\"edge5\" class=\"edge\"><title>F2&#45;&gt;S5</title>\r\n<path fill=\"none\" stroke=\"black\" d=\"M223.028,-169.798C251.115,-169.798 297.819,-169.798 328.356,-169.798\"/>\r\n<polygon fill=\"black\" stroke=\"black\" points=\"328.426,-173.298 338.426,-169.798 328.426,-166.298 328.426,-173.298\"/>\r\n<text text-anchor=\"middle\" x=\"246.993\" y=\"-173.598\" font-family=\"Times New Roman,serif\" font-size=\"14.00\">b </text>\r\n</g>\r\n<!-- F2&#45;&gt;S8 -->\r\n<g id=\"edge4\" class=\"edge\"><title>F2&#45;&gt;S8</title>\r\n<path fill=\"none\" stroke=\"black\" d=\"M215.69,-151.933C222.874,-145.074 231.756,-137.72 240.993,-132.798 248.419,-128.841 257.027,-125.956 265.15,-123.871\"/>\r\n<polygon fill=\"black\" stroke=\"black\" points=\"266.07,-127.251 275.056,-121.637 264.531,-120.423 266.07,-127.251\"/>\r\n<text text-anchor=\"middle\" x=\"246.993\" y=\"-136.598\" font-family=\"Times New Roman,serif\" font-size=\"14.00\">a </text>\r\n</g>\r\n</g>\r\n</svg>\r\n"
     },
     "metadata": {},
     "execution_count": 77
    }
   ],
   "source": [
    "dblimp"
   ]
  },
  {
   "cell_type": "code",
   "execution_count": 78,
   "metadata": {
    "run_control": {
     "frozen": false,
     "read_only": false
    }
   },
   "outputs": [],
   "source": [
    "mblimp = min_dfa(blimp)"
   ]
  },
  {
   "cell_type": "code",
   "execution_count": 79,
   "metadata": {
    "run_control": {
     "frozen": false,
     "read_only": false
    }
   },
   "outputs": [],
   "source": [
    "dmblimp = dotObj_dfa(mblimp)"
   ]
  },
  {
   "cell_type": "code",
   "execution_count": 80,
   "metadata": {
    "run_control": {
     "frozen": false,
     "read_only": false
    }
   },
   "outputs": [
    {
     "output_type": "execute_result",
     "data": {
      "text/plain": "<graphviz.dot.Digraph at 0x1c8de55b190>",
      "image/svg+xml": "<?xml version=\"1.0\" encoding=\"UTF-8\" standalone=\"no\"?>\r\n<!DOCTYPE svg PUBLIC \"-//W3C//DTD SVG 1.1//EN\"\r\n \"http://www.w3.org/Graphics/SVG/1.1/DTD/svg11.dtd\">\r\n<!-- Generated by graphviz version 2.38.0 (20140413.2041)\r\n -->\r\n<!-- Title: %3 Pages: 1 -->\r\n<svg width=\"420pt\" height=\"124pt\"\r\n viewBox=\"0.00 0.00 420.19 123.60\" xmlns=\"http://www.w3.org/2000/svg\" xmlns:xlink=\"http://www.w3.org/1999/xlink\">\r\n<g id=\"graph0\" class=\"graph\" transform=\"scale(1 1) rotate(0) translate(4 119.596)\">\r\n<title>%3</title>\r\n<polygon fill=\"white\" stroke=\"none\" points=\"-4,4 -4,-119.596 416.186,-119.596 416.186,4 -4,4\"/>\r\n<!-- EMPTY -->\r\n<g id=\"node1\" class=\"node\"><title>EMPTY</title>\r\n</g>\r\n<!-- I1 -->\r\n<g id=\"node2\" class=\"node\"><title>I1</title>\r\n<ellipse fill=\"none\" stroke=\"black\" cx=\"109.198\" cy=\"-24.7982\" rx=\"18.399\" ry=\"18.399\"/>\r\n<text text-anchor=\"middle\" x=\"109.198\" y=\"-21.0982\" font-family=\"Times New Roman,serif\" font-size=\"14.00\">I1</text>\r\n</g>\r\n<!-- EMPTY&#45;&gt;I1 -->\r\n<g id=\"edge1\" class=\"edge\"><title>EMPTY&#45;&gt;I1</title>\r\n<path fill=\"none\" stroke=\"black\" d=\"M54.26,-24.7982C62.7397,-24.7982 72.1605,-24.7982 80.7255,-24.7982\"/>\r\n<polygon fill=\"black\" stroke=\"black\" points=\"80.9815,-28.2983 90.9815,-24.7982 80.9815,-21.2983 80.9815,-28.2983\"/>\r\n</g>\r\n<!-- F3 -->\r\n<g id=\"node4\" class=\"node\"><title>F3</title>\r\n<ellipse fill=\"none\" stroke=\"black\" cx=\"200.195\" cy=\"-24.7982\" rx=\"20.6302\" ry=\"20.6302\"/>\r\n<ellipse fill=\"none\" stroke=\"black\" cx=\"200.195\" cy=\"-24.7982\" rx=\"24.5979\" ry=\"24.5979\"/>\r\n<text text-anchor=\"middle\" x=\"200.195\" y=\"-21.0982\" font-family=\"Times New Roman,serif\" font-size=\"14.00\">F3</text>\r\n</g>\r\n<!-- I1&#45;&gt;F3 -->\r\n<g id=\"edge2\" class=\"edge\"><title>I1&#45;&gt;F3</title>\r\n<path fill=\"none\" stroke=\"black\" d=\"M127.781,-24.7982C138.388,-24.7982 152.262,-24.7982 164.957,-24.7982\"/>\r\n<polygon fill=\"black\" stroke=\"black\" points=\"165.247,-28.2983 175.247,-24.7982 165.247,-21.2983 165.247,-28.2983\"/>\r\n<text text-anchor=\"middle\" x=\"151.397\" y=\"-28.5982\" font-family=\"Times New Roman,serif\" font-size=\"14.00\">a </text>\r\n</g>\r\n<!-- I1&#45;&gt;F3 -->\r\n<g id=\"edge3\" class=\"edge\"><title>I1&#45;&gt;F3</title>\r\n<path fill=\"none\" stroke=\"black\" d=\"M124.598,-14.9319C130.725,-11.304 138.125,-7.63538 145.397,-5.79815 153.365,-3.78491 161.819,-5.07238 169.607,-7.73252\"/>\r\n<polygon fill=\"black\" stroke=\"black\" points=\"168.454,-11.0444 179.029,-11.691 171.165,-4.59084 168.454,-11.0444\"/>\r\n<text text-anchor=\"middle\" x=\"151.397\" y=\"-9.59815\" font-family=\"Times New Roman,serif\" font-size=\"14.00\">b </text>\r\n</g>\r\n<!-- S7 -->\r\n<g id=\"node3\" class=\"node\"><title>S7</title>\r\n<ellipse fill=\"none\" stroke=\"black\" cx=\"293.791\" cy=\"-24.7982\" rx=\"20.5982\" ry=\"20.5982\"/>\r\n<text text-anchor=\"middle\" x=\"293.791\" y=\"-21.0982\" font-family=\"Times New Roman,serif\" font-size=\"14.00\">S7</text>\r\n</g>\r\n<!-- F6 -->\r\n<g id=\"node5\" class=\"node\"><title>F6</title>\r\n<ellipse fill=\"none\" stroke=\"black\" cx=\"387.388\" cy=\"-24.7982\" rx=\"20.6302\" ry=\"20.6302\"/>\r\n<ellipse fill=\"none\" stroke=\"black\" cx=\"387.388\" cy=\"-24.7982\" rx=\"24.5979\" ry=\"24.5979\"/>\r\n<text text-anchor=\"middle\" x=\"387.388\" y=\"-21.0982\" font-family=\"Times New Roman,serif\" font-size=\"14.00\">F6</text>\r\n</g>\r\n<!-- S7&#45;&gt;F6 -->\r\n<g id=\"edge6\" class=\"edge\"><title>S7&#45;&gt;F6</title>\r\n<path fill=\"none\" stroke=\"black\" d=\"M314.666,-24.7982C325.6,-24.7982 339.474,-24.7982 352.1,-24.7982\"/>\r\n<polygon fill=\"black\" stroke=\"black\" points=\"352.32,-28.2983 362.32,-24.7982 352.32,-21.2983 352.32,-28.2983\"/>\r\n<text text-anchor=\"middle\" x=\"338.589\" y=\"-28.5982\" font-family=\"Times New Roman,serif\" font-size=\"14.00\">a </text>\r\n</g>\r\n<!-- S7&#45;&gt;F6 -->\r\n<g id=\"edge7\" class=\"edge\"><title>S7&#45;&gt;F6</title>\r\n<path fill=\"none\" stroke=\"black\" d=\"M311.832,-14.119C318.112,-10.7632 325.443,-7.49322 332.589,-5.79815 340.518,-3.91751 348.907,-5.20761 356.64,-7.82482\"/>\r\n<polygon fill=\"black\" stroke=\"black\" points=\"355.425,-11.1098 366.003,-11.7109 358.109,-4.64465 355.425,-11.1098\"/>\r\n<text text-anchor=\"middle\" x=\"338.589\" y=\"-9.59815\" font-family=\"Times New Roman,serif\" font-size=\"14.00\">b </text>\r\n</g>\r\n<!-- F3&#45;&gt;S7 -->\r\n<g id=\"edge4\" class=\"edge\"><title>F3&#45;&gt;S7</title>\r\n<path fill=\"none\" stroke=\"black\" d=\"M225.261,-24.7982C236.74,-24.7982 250.59,-24.7982 262.751,-24.7982\"/>\r\n<polygon fill=\"black\" stroke=\"black\" points=\"262.902,-28.2983 272.902,-24.7982 262.902,-21.2983 262.902,-28.2983\"/>\r\n<text text-anchor=\"middle\" x=\"248.993\" y=\"-28.5982\" font-family=\"Times New Roman,serif\" font-size=\"14.00\">a </text>\r\n</g>\r\n<!-- F3&#45;&gt;S7 -->\r\n<g id=\"edge5\" class=\"edge\"><title>F3&#45;&gt;S7</title>\r\n<path fill=\"none\" stroke=\"black\" d=\"M221.58,-11.7109C231.51,-6.86228 243.717,-3.12346 254.993,-5.79815 258.901,-6.72514 262.865,-8.12314 266.681,-9.74861\"/>\r\n<polygon fill=\"black\" stroke=\"black\" points=\"265.223,-12.931 275.751,-14.119 268.262,-6.62497 265.223,-12.931\"/>\r\n<text text-anchor=\"middle\" x=\"248.993\" y=\"-9.59815\" font-family=\"Times New Roman,serif\" font-size=\"14.00\">b </text>\r\n</g>\r\n<!-- F6&#45;&gt;F6 -->\r\n<g id=\"edge8\" class=\"edge\"><title>F6&#45;&gt;F6</title>\r\n<path fill=\"none\" stroke=\"black\" d=\"M382.915,-49.4271C382.662,-59.3052 384.153,-67.5963 387.388,-67.5963 389.409,-67.5963 390.749,-64.3576 391.409,-59.5169\"/>\r\n<polygon fill=\"black\" stroke=\"black\" points=\"394.91,-59.5736 391.86,-49.4271 387.917,-59.2607 394.91,-59.5736\"/>\r\n<text text-anchor=\"middle\" x=\"387.388\" y=\"-71.3963\" font-family=\"Times New Roman,serif\" font-size=\"14.00\">a </text>\r\n</g>\r\n<!-- F6&#45;&gt;F6 -->\r\n<g id=\"edge9\" class=\"edge\"><title>F6&#45;&gt;F6</title>\r\n<path fill=\"none\" stroke=\"black\" d=\"M379.55,-48.5124C376.619,-66.8715 379.231,-85.5963 387.388,-85.5963 394.014,-85.5963 396.982,-73.235 396.289,-58.7521\"/>\r\n<polygon fill=\"black\" stroke=\"black\" points=\"399.74,-58.097 395.225,-48.5124 392.778,-58.8206 399.74,-58.097\"/>\r\n<text text-anchor=\"middle\" x=\"387.388\" y=\"-89.3963\" font-family=\"Times New Roman,serif\" font-size=\"14.00\">b </text>\r\n</g>\r\n</g>\r\n</svg>\r\n"
     },
     "metadata": {},
     "execution_count": 80
    }
   ],
   "source": [
    "dmblimp"
   ]
  },
  {
   "cell_type": "markdown",
   "metadata": {
    "run_control": {
     "frozen": false,
     "read_only": false
    }
   },
   "source": [
    "# Minimized \"blimp\" machine\n",
    "\n",
    "The minimized blimp machine is indeed quite small.\n"
   ]
  }
 ],
 "metadata": {
  "kernelspec": {
   "display_name": "Python 3",
   "language": "python",
   "name": "python3"
  },
  "language_info": {
   "codemirror_mode": {
    "name": "ipython",
    "version": 3
   },
   "file_extension": ".py",
   "mimetype": "text/x-python",
   "name": "python",
   "nbconvert_exporter": "python",
   "pygments_lexer": "ipython3",
   "version": "3.8.3-final"
  },
  "toc": {
   "colors": {
    "hover_highlight": "#DAA520",
    "running_highlight": "#FF0000",
    "selected_highlight": "#FFD700"
   },
   "moveMenuLeft": true,
   "nav_menu": {
    "height": "318px",
    "width": "252px"
   },
   "navigate_menu": true,
   "number_sections": true,
   "sideBar": true,
   "threshold": 4,
   "toc_cell": false,
   "toc_section_display": "block",
   "toc_window_display": false,
   "widenNotebook": false
  }
 },
 "nbformat": 4,
 "nbformat_minor": 1
}