{
 "cells": [
  {
   "cell_type": "markdown",
   "metadata": {},
   "source": [
    "# First let's import, then look for the assignment below"
   ]
  },
  {
   "cell_type": "code",
   "execution_count": 1,
   "metadata": {
    "tags": []
   },
   "outputs": [
    {
     "output_type": "stream",
     "name": "stdout",
     "text": "You may use any of these help commands:\nhelp(lphi)\nhelp(lunit)\nhelp(lcat)\nhelp(lexp)\nhelp(lunion)\nhelp(lstar)\nhelp(srev)\nhelp(lrev)\nhelp(shomo)\nhelp(lhomo)\nhelp(powset)\nhelp(lint)\nhelp(lsymdiff)\nhelp(lminus)\nhelp(lissubset)\nhelp(lissuperset)\nhelp(lcomplem)\nhelp(product)\nhelp(nthnumeric)\n\nYou may use any of these help commands:\nhelp(md2mc)\n.. and if you want to dig more, then ..\nhelp(default_line_attr)\nhelp(length_ok_input_items)\nhelp(union_line_attr_list_fld)\nhelp(extend_rsltdict)\nhelp(form_delta)\nhelp(get_machine_components)\n\nYou may use any of these help commands:\nhelp(ResetStNum)\nhelp(NxtStateStr)\n\nYou may use any of these help commands:\nhelp(mkp_dfa)\nhelp(mk_dfa)\nhelp(totalize_dfa)\nhelp(addtosigma_delta)\nhelp(step_dfa)\nhelp(run_dfa)\nhelp(accepts_dfa)\nhelp(comp_dfa)\nhelp(union_dfa)\nhelp(intersect_dfa)\nhelp(pruneUnreach)\nhelp(iso_dfa)\nhelp(langeq_dfa)\nhelp(same_status)\nhelp(h_langeq_dfa)\nhelp(fixptDist)\nhelp(min_dfa)\nhelp(pairFR)\nhelp(state_combos)\nhelp(sepFinNonFin)\nhelp(bash_eql_classes)\nhelp(listminus)\nhelp(bash_1)\nhelp(mk_rep_eqc)\nhelp(F_of)\nhelp(rep_of_s)\nhelp(q0_of)\nhelp(Delta_of)\nhelp(mk_state_eqc_name)\n\n"
    }
   ],
   "source": [
    "#~~~~~~~~~~~~~~~~~~~~~~~~~~~~~~~~~~~~~~~~~~~~~~~~~~~~~~~\n",
    "import sys\n",
    "\n",
    "# -- Detect if in Own Install or in Colab\n",
    "try:\n",
    "    import google.colab\n",
    "    OWN_INSTALL = False\n",
    "except:\n",
    "    OWN_INSTALL = True\n",
    "    \n",
    "if OWN_INSTALL:\n",
    "    \n",
    "  #---- Leave these definitions ON if running on laptop\n",
    "  #---- Else turn OFF by putting them between ''' ... '''\n",
    "\n",
    "  sys.path[0:0] = ['../../../../..',  '../../../../../3rdparty',  \n",
    "                   '../../../..',  '../../../../3rdparty',  \n",
    "                   '../../..',     '../../../3rdparty', \n",
    "                   '../..',        '../../3rdparty',\n",
    "                   '..',           '../3rdparty' ]\n",
    "\n",
    "else: # In colab\n",
    "  ! if [ ! -d Jove ]; then git clone https://github.com/ganeshutah/Jove Jove; fi\n",
    "  sys.path.append('./Jove')\n",
    "  sys.path.append('./Jove/jove')\n",
    "\n",
    "# -- common imports --\n",
    "from jove.LangDef   import *  #-- mainly for nthnumeric\n",
    "from jove.Def_md2mc import *  #-- for md2mc\n",
    "from jove.Def_DFA   import *  #-- for all DFA functions\n",
    "from jove.DotBashers import * #-- for dotObj_dfa\n",
    "#~~~~~~~~~~~~~~~~~~~~~~~~~~~~~~~~~~~~~~~~~~~~~~~~~~~~~~~"
   ]
  },
  {
   "cell_type": "markdown",
   "metadata": {},
   "source": [
    "# Assignment-2 Problem-2,3,4: Construct as requested\n",
    "\n",
    "## 2 graded by SV; 3 by AR; 4 by LT\n",
    "\n",
    "### BEFORE YOU SUBMIT THIS FILE, PLEASE RENAME THIS FILE BY REPLACING THE 0000000 IN THE FILE NAME WITH YOUR CORRECT UNID. KEEP THE \"u\" AT THE BEGINNING."
   ]
  },
  {
   "cell_type": "markdown",
   "metadata": {},
   "source": [
    "# Problem-2 graded by SV\n",
    " \n",
    "  \n",
    "1. Using Jove's markdown, define a DFA for the language of strings over alphabet $\\{0,1\\}$ that accepts an even number of *non-overlapping occurrences* of  $010$s. Thoroughly document your construction!\n",
    "    \n",
    "HERE ARE EXAMPLES :\n",
    "\n",
    "* 01010 - does NOT have an even number of 0's because we wanted NON-OVERLAPPING\n",
    "\n",
    "* 0101010 - has two NON-OVERLAPPING occurrences of 010 -- that is what we want!\n",
    "\n",
    "* 0101111010 - has two NON-OVERLAPPING occurrences of 010\n",
    "\n",
    "* 111111 - has ZERO occurrences of 010\n",
    "    "
   ]
  },
  {
   "cell_type": "markdown",
   "metadata": {},
   "source": [
    "### Approach: We will name states to remember the essence of the history of inputs so far. If you do so, and also keep the sense of where the machine is (in an I state, an IF state or an F state), then you'll have the solution fall out automatically!\n",
    "\n",
    "Please read the Jove_User_Manual and the advice given there regarding how to write your automaton markdowns, how to place comments, how to group the lines of a DFA per state, and how to order which transition you may first consider.\n"
   ]
  },
  {
   "cell_type": "code",
   "execution_count": 2,
   "metadata": {},
   "outputs": [],
   "source": [
    "Even010 = md2mc('''\n",
    "DFA \n",
    "\n",
    "!! Basic Design:\n",
    "!!  1. detect 1st occurence pattern of \"010\".\n",
    "!!  2. Detect Even occurance count of the pattern.\n",
    "!!       w/ the ability to finish if string ends with the pattern, or a string of '1's.\n",
    "!!  3. Detect Odd occurance count of the pattern.\n",
    "!!       w/ ability to \"Finish\" if string ends before completing the pattern.\n",
    "!!\n",
    "!! Design Notes:\n",
    "!!  - Nodes that start w/ `I_` are input nodes.\n",
    "!!  - Nodes that start w/ `S_` are intermediate step nodes.\n",
    "!!  - Nodes that start w/ `F_` are \"Finish\" nodes, \n",
    "!!       where if there are no more symbols in the strign when it reaches the node, \n",
    "!!       the strign is accepted as part of the Language.\n",
    "\n",
    "\n",
    "!! Detect Possible 1st occurance of the pattern --------------------------------------------\n",
    "I_0     : 1 -> I_0      !! Ignore non pattern characters\n",
    "I_0     : 0 -> S_1      !! Could be the start of the pattern\n",
    "S_1     : 0 -> S_1      !! Ignore reoccuring '0's\n",
    "S_1     : 1 -> S_2      !! Could still be the pattern\n",
    "S_2     : 1 -> I_0      !! This is not the pattern !restart search!\n",
    "S_2     : 0 -> S_3      !! This was the pattern! (odd occurance of the pattern though)\n",
    "\n",
    "!! Detect Possible Even Occurances of the Pattern ------------------------------------------\n",
    "S_3     : 1 -> S_3      !! Ignore non pattern Chars\n",
    "S_3     : 0 -> S_4      !! Could be the star tof the pattern\n",
    "S_4     : 0 -> S_4      !! Ignore reoccuring '0's\n",
    "S_4     : 1 -> S_5      !! Could still be the pattern\n",
    "S_5     : 1 -> S_3      !! This is not the pattern !restart search!\n",
    "S_5     : 0 -> F_6      !! This was the Pattern! (Even occurence, accept if end of string)\n",
    "\n",
    "!! Detect Possible Odd Occurences of the Pattern -------------------------------------------\n",
    "F_6     : 1 -> F_6      !! Ignore non pattern Characters (Even occurence, accept if end of string)\n",
    "F_6     : 0 -> F_7      !! Could be the start of the pattern (Even occurence, accept if end of string)\n",
    "F_7     : 0 -> F_7      !! Ignore reoccuring '0's (Even occurence, accept if end of string)\n",
    "F_7     : 1 -> F_8      !! Could still be the pattern (Even occurence, accept if end of string)\n",
    "F_8     : 1 -> F_6      !! This is not the pattern !restart search! (Even occurence, accept if end of string)\n",
    "F_8     : 0 -> S_4      !! This was the pattern! (odd occurance, do NOT accept if end of string)\n",
    " \n",
    "''')"
   ]
  },
  {
   "cell_type": "code",
   "execution_count": 3,
   "metadata": {},
   "outputs": [
    {
     "output_type": "execute_result",
     "data": {
      "text/plain": "<graphviz.dot.Digraph at 0x1bef09b2040>",
      "image/svg+xml": "<?xml version=\"1.0\" encoding=\"UTF-8\" standalone=\"no\"?>\r\n<!DOCTYPE svg PUBLIC \"-//W3C//DTD SVG 1.1//EN\"\r\n \"http://www.w3.org/Graphics/SVG/1.1/DTD/svg11.dtd\">\r\n<!-- Generated by graphviz version 2.38.0 (20140413.2041)\r\n -->\r\n<!-- Title: %3 Pages: 1 -->\r\n<svg width=\"950pt\" height=\"213pt\"\r\n viewBox=\"0.00 0.00 950.06 212.70\" xmlns=\"http://www.w3.org/2000/svg\" xmlns:xlink=\"http://www.w3.org/1999/xlink\">\r\n<g id=\"graph0\" class=\"graph\" transform=\"scale(1 1) rotate(0) translate(4 208.696)\">\r\n<title>%3</title>\r\n<polygon fill=\"white\" stroke=\"none\" points=\"-4,4 -4,-208.696 946.06,-208.696 946.06,4 -4,4\"/>\r\n<!-- EMPTY -->\r\n<g id=\"node1\" class=\"node\"><title>EMPTY</title>\r\n</g>\r\n<!-- I_0 -->\r\n<g id=\"node3\" class=\"node\"><title>I_0</title>\r\n<ellipse fill=\"none\" stroke=\"black\" cx=\"113.748\" cy=\"-104.348\" rx=\"22.9987\" ry=\"22.9987\"/>\r\n<text text-anchor=\"middle\" x=\"113.748\" y=\"-100.648\" font-family=\"Times New Roman,serif\" font-size=\"14.00\">I_0</text>\r\n</g>\r\n<!-- EMPTY&#45;&gt;I_0 -->\r\n<g id=\"edge1\" class=\"edge\"><title>EMPTY&#45;&gt;I_0</title>\r\n<path fill=\"none\" stroke=\"black\" d=\"M54.3502,-104.348C62.71,-104.348 72.0455,-104.348 80.757,-104.348\"/>\r\n<polygon fill=\"black\" stroke=\"black\" points=\"80.9663,-107.848 90.9663,-104.348 80.9662,-100.848 80.9663,-107.848\"/>\r\n</g>\r\n<!-- S_3 -->\r\n<g id=\"node2\" class=\"node\"><title>S_3</title>\r\n<ellipse fill=\"none\" stroke=\"black\" cx=\"404.235\" cy=\"-104.348\" rx=\"25.1964\" ry=\"25.1964\"/>\r\n<text text-anchor=\"middle\" x=\"404.235\" y=\"-100.648\" font-family=\"Times New Roman,serif\" font-size=\"14.00\">S_3</text>\r\n</g>\r\n<!-- S_3&#45;&gt;S_3 -->\r\n<g id=\"edge8\" class=\"edge\"><title>S_3&#45;&gt;S_3</title>\r\n<path fill=\"none\" stroke=\"black\" d=\"M395.342,-128.419C394.614,-138.804 397.578,-147.696 404.235,-147.696 408.499,-147.696 411.248,-144.046 412.481,-138.693\"/>\r\n<polygon fill=\"black\" stroke=\"black\" points=\"415.993,-138.619 413.127,-128.419 409.007,-138.18 415.993,-138.619\"/>\r\n<text text-anchor=\"middle\" x=\"404.235\" y=\"-151.496\" font-family=\"Times New Roman,serif\" font-size=\"14.00\">1 </text>\r\n</g>\r\n<!-- S_4 -->\r\n<g id=\"node7\" class=\"node\"><title>S_4</title>\r\n<ellipse fill=\"none\" stroke=\"black\" cx=\"501.93\" cy=\"-146.348\" rx=\"25.1964\" ry=\"25.1964\"/>\r\n<text text-anchor=\"middle\" x=\"501.93\" y=\"-142.648\" font-family=\"Times New Roman,serif\" font-size=\"14.00\">S_4</text>\r\n</g>\r\n<!-- S_3&#45;&gt;S_4 -->\r\n<g id=\"edge9\" class=\"edge\"><title>S_3&#45;&gt;S_4</title>\r\n<path fill=\"none\" stroke=\"black\" d=\"M427.913,-114.301C440.188,-119.689 455.553,-126.432 469.018,-132.342\"/>\r\n<polygon fill=\"black\" stroke=\"black\" points=\"467.851,-135.652 478.415,-136.466 470.664,-129.242 467.851,-135.652\"/>\r\n<text text-anchor=\"middle\" x=\"453.082\" y=\"-131.148\" font-family=\"Times New Roman,serif\" font-size=\"14.00\">0 </text>\r\n</g>\r\n<!-- I_0&#45;&gt;I_0 -->\r\n<g id=\"edge2\" class=\"edge\"><title>I_0&#45;&gt;I_0</title>\r\n<path fill=\"none\" stroke=\"black\" d=\"M106.396,-126.147C105.594,-136.26 108.045,-145.096 113.748,-145.096 117.402,-145.096 119.72,-141.47 120.704,-136.204\"/>\r\n<polygon fill=\"black\" stroke=\"black\" points=\"124.204,-136.277 121.1,-126.147 117.209,-136.002 124.204,-136.277\"/>\r\n<text text-anchor=\"middle\" x=\"113.748\" y=\"-148.896\" font-family=\"Times New Roman,serif\" font-size=\"14.00\">1 </text>\r\n</g>\r\n<!-- S_1 -->\r\n<g id=\"node5\" class=\"node\"><title>S_1</title>\r\n<ellipse fill=\"none\" stroke=\"black\" cx=\"208.844\" cy=\"-140.348\" rx=\"25.1964\" ry=\"25.1964\"/>\r\n<text text-anchor=\"middle\" x=\"208.844\" y=\"-136.648\" font-family=\"Times New Roman,serif\" font-size=\"14.00\">S_1</text>\r\n</g>\r\n<!-- I_0&#45;&gt;S_1 -->\r\n<g id=\"edge3\" class=\"edge\"><title>I_0&#45;&gt;S_1</title>\r\n<path fill=\"none\" stroke=\"black\" d=\"M135.409,-112.337C147.22,-116.905 162.291,-122.733 175.624,-127.889\"/>\r\n<polygon fill=\"black\" stroke=\"black\" points=\"174.365,-131.154 184.954,-131.496 176.89,-124.625 174.365,-131.154\"/>\r\n<text text-anchor=\"middle\" x=\"159.996\" y=\"-127.148\" font-family=\"Times New Roman,serif\" font-size=\"14.00\">0 </text>\r\n</g>\r\n<!-- S_2 -->\r\n<g id=\"node4\" class=\"node\"><title>S_2</title>\r\n<ellipse fill=\"none\" stroke=\"black\" cx=\"306.539\" cy=\"-104.348\" rx=\"25.1964\" ry=\"25.1964\"/>\r\n<text text-anchor=\"middle\" x=\"306.539\" y=\"-100.648\" font-family=\"Times New Roman,serif\" font-size=\"14.00\">S_2</text>\r\n</g>\r\n<!-- S_2&#45;&gt;S_3 -->\r\n<g id=\"edge7\" class=\"edge\"><title>S_2&#45;&gt;S_3</title>\r\n<path fill=\"none\" stroke=\"black\" d=\"M332.183,-104.348C343.234,-104.348 356.463,-104.348 368.495,-104.348\"/>\r\n<polygon fill=\"black\" stroke=\"black\" points=\"368.674,-107.848 378.674,-104.348 368.674,-100.848 368.674,-107.848\"/>\r\n<text text-anchor=\"middle\" x=\"355.387\" y=\"-108.148\" font-family=\"Times New Roman,serif\" font-size=\"14.00\">0 </text>\r\n</g>\r\n<!-- S_2&#45;&gt;I_0 -->\r\n<g id=\"edge6\" class=\"edge\"><title>S_2&#45;&gt;I_0</title>\r\n<path fill=\"none\" stroke=\"black\" d=\"M281.579,-98.8678C267.801,-95.9974 250.117,-92.7867 234.191,-91.3478 211.752,-89.3201 205.929,-89.2454 183.496,-91.3478 171.055,-92.5137 157.512,-94.8416 145.762,-97.2095\"/>\r\n<polygon fill=\"black\" stroke=\"black\" points=\"145.033,-93.7861 135.969,-99.2724 146.476,-100.636 145.033,-93.7861\"/>\r\n<text text-anchor=\"middle\" x=\"208.844\" y=\"-95.1478\" font-family=\"Times New Roman,serif\" font-size=\"14.00\">1 </text>\r\n</g>\r\n<!-- S_1&#45;&gt;S_2 -->\r\n<g id=\"edge5\" class=\"edge\"><title>S_1&#45;&gt;S_2</title>\r\n<path fill=\"none\" stroke=\"black\" d=\"M233.009,-131.633C244.998,-127.123 259.835,-121.541 272.96,-116.604\"/>\r\n<polygon fill=\"black\" stroke=\"black\" points=\"274.46,-119.779 282.587,-112.982 271.995,-113.227 274.46,-119.779\"/>\r\n<text text-anchor=\"middle\" x=\"257.691\" y=\"-127.148\" font-family=\"Times New Roman,serif\" font-size=\"14.00\">1 </text>\r\n</g>\r\n<!-- S_1&#45;&gt;S_1 -->\r\n<g id=\"edge4\" class=\"edge\"><title>S_1&#45;&gt;S_1</title>\r\n<path fill=\"none\" stroke=\"black\" d=\"M199.951,-164.419C199.223,-174.804 202.187,-183.696 208.844,-183.696 213.108,-183.696 215.857,-180.046 217.09,-174.693\"/>\r\n<polygon fill=\"black\" stroke=\"black\" points=\"220.602,-174.619 217.736,-164.419 213.616,-174.18 220.602,-174.619\"/>\r\n<text text-anchor=\"middle\" x=\"208.844\" y=\"-187.496\" font-family=\"Times New Roman,serif\" font-size=\"14.00\">0 </text>\r\n</g>\r\n<!-- S_5 -->\r\n<g id=\"node6\" class=\"node\"><title>S_5</title>\r\n<ellipse fill=\"none\" stroke=\"black\" cx=\"599.626\" cy=\"-88.3478\" rx=\"25.1964\" ry=\"25.1964\"/>\r\n<text text-anchor=\"middle\" x=\"599.626\" y=\"-84.6478\" font-family=\"Times New Roman,serif\" font-size=\"14.00\">S_5</text>\r\n</g>\r\n<!-- S_5&#45;&gt;S_3 -->\r\n<g id=\"edge12\" class=\"edge\"><title>S_5&#45;&gt;S_3</title>\r\n<path fill=\"none\" stroke=\"black\" d=\"M574.299,-89.9678C549.657,-91.6498 510.451,-94.438 476.582,-97.3478 464.62,-98.3755 451.541,-99.6227 439.887,-100.778\"/>\r\n<polygon fill=\"black\" stroke=\"black\" points=\"439.258,-97.3235 429.657,-101.804 439.956,-104.289 439.258,-97.3235\"/>\r\n<text text-anchor=\"middle\" x=\"501.93\" y=\"-101.148\" font-family=\"Times New Roman,serif\" font-size=\"14.00\">1 </text>\r\n</g>\r\n<!-- F_6 -->\r\n<g id=\"node10\" class=\"node\"><title>F_6</title>\r\n<ellipse fill=\"none\" stroke=\"black\" cx=\"701.321\" cy=\"-72.3478\" rx=\"25.2169\" ry=\"25.2169\"/>\r\n<ellipse fill=\"none\" stroke=\"black\" cx=\"701.321\" cy=\"-72.3478\" rx=\"29.1963\" ry=\"29.1963\"/>\r\n<text text-anchor=\"middle\" x=\"701.321\" y=\"-68.6478\" font-family=\"Times New Roman,serif\" font-size=\"14.00\">F_6</text>\r\n</g>\r\n<!-- S_5&#45;&gt;F_6 -->\r\n<g id=\"edge13\" class=\"edge\"><title>S_5&#45;&gt;F_6</title>\r\n<path fill=\"none\" stroke=\"black\" d=\"M624.759,-84.4746C635.925,-82.6827 649.46,-80.5104 661.973,-78.5022\"/>\r\n<polygon fill=\"black\" stroke=\"black\" points=\"662.85,-81.9064 672.169,-76.8659 661.741,-74.9948 662.85,-81.9064\"/>\r\n<text text-anchor=\"middle\" x=\"648.473\" y=\"-85.1478\" font-family=\"Times New Roman,serif\" font-size=\"14.00\">0 </text>\r\n</g>\r\n<!-- S_4&#45;&gt;S_5 -->\r\n<g id=\"edge11\" class=\"edge\"><title>S_4&#45;&gt;S_5</title>\r\n<path fill=\"none\" stroke=\"black\" d=\"M524.168,-133.476C537.301,-125.516 554.355,-115.18 568.828,-106.408\"/>\r\n<polygon fill=\"black\" stroke=\"black\" points=\"570.709,-109.36 577.447,-101.184 567.081,-103.374 570.709,-109.36\"/>\r\n<text text-anchor=\"middle\" x=\"550.778\" y=\"-122.148\" font-family=\"Times New Roman,serif\" font-size=\"14.00\">1 </text>\r\n</g>\r\n<!-- S_4&#45;&gt;S_4 -->\r\n<g id=\"edge10\" class=\"edge\"><title>S_4&#45;&gt;S_4</title>\r\n<path fill=\"none\" stroke=\"black\" d=\"M493.038,-170.419C492.31,-180.804 495.274,-189.696 501.93,-189.696 506.194,-189.696 508.943,-186.046 510.177,-180.693\"/>\r\n<polygon fill=\"black\" stroke=\"black\" points=\"513.688,-180.619 510.823,-170.419 506.702,-180.18 513.688,-180.619\"/>\r\n<text text-anchor=\"middle\" x=\"501.93\" y=\"-193.496\" font-family=\"Times New Roman,serif\" font-size=\"14.00\">0 </text>\r\n</g>\r\n<!-- F_7 -->\r\n<g id=\"node8\" class=\"node\"><title>F_7</title>\r\n<ellipse fill=\"none\" stroke=\"black\" cx=\"807.017\" cy=\"-29.3478\" rx=\"25.2169\" ry=\"25.2169\"/>\r\n<ellipse fill=\"none\" stroke=\"black\" cx=\"807.017\" cy=\"-29.3478\" rx=\"29.1963\" ry=\"29.1963\"/>\r\n<text text-anchor=\"middle\" x=\"807.017\" y=\"-25.6478\" font-family=\"Times New Roman,serif\" font-size=\"14.00\">F_7</text>\r\n</g>\r\n<!-- F_7&#45;&gt;F_7 -->\r\n<g id=\"edge16\" class=\"edge\"><title>F_7&#45;&gt;F_7</title>\r\n<path fill=\"none\" stroke=\"black\" d=\"M797.305,-57.0689C796.873,-67.787 800.11,-76.6955 807.017,-76.6955 811.549,-76.6955 814.501,-72.8589 815.873,-67.1921\"/>\r\n<polygon fill=\"black\" stroke=\"black\" points=\"819.374,-67.3281 816.729,-57.0689 812.399,-66.7386 819.374,-67.3281\"/>\r\n<text text-anchor=\"middle\" x=\"807.017\" y=\"-80.4955\" font-family=\"Times New Roman,serif\" font-size=\"14.00\">0 </text>\r\n</g>\r\n<!-- F_8 -->\r\n<g id=\"node9\" class=\"node\"><title>F_8</title>\r\n<ellipse fill=\"none\" stroke=\"black\" cx=\"912.712\" cy=\"-127.348\" rx=\"25.2169\" ry=\"25.2169\"/>\r\n<ellipse fill=\"none\" stroke=\"black\" cx=\"912.712\" cy=\"-127.348\" rx=\"29.1963\" ry=\"29.1963\"/>\r\n<text text-anchor=\"middle\" x=\"912.712\" y=\"-123.648\" font-family=\"Times New Roman,serif\" font-size=\"14.00\">F_8</text>\r\n</g>\r\n<!-- F_7&#45;&gt;F_8 -->\r\n<g id=\"edge17\" class=\"edge\"><title>F_7&#45;&gt;F_8</title>\r\n<path fill=\"none\" stroke=\"black\" d=\"M829.001,-49.1795C844.602,-63.9239 866.066,-84.2083 883.218,-100.419\"/>\r\n<polygon fill=\"black\" stroke=\"black\" points=\"881.087,-103.221 890.759,-107.545 885.895,-98.133 881.087,-103.221\"/>\r\n<text text-anchor=\"middle\" x=\"859.864\" y=\"-85.1478\" font-family=\"Times New Roman,serif\" font-size=\"14.00\">1 </text>\r\n</g>\r\n<!-- F_8&#45;&gt;S_4 -->\r\n<g id=\"edge19\" class=\"edge\"><title>F_8&#45;&gt;S_4</title>\r\n<path fill=\"none\" stroke=\"black\" d=\"M887.728,-143.604C867.419,-155.781 837.056,-170.348 808.017,-170.348 598.626,-170.348 598.626,-170.348 598.626,-170.348 577.092,-170.348 553.63,-164.56 535.326,-158.669\"/>\r\n<polygon fill=\"black\" stroke=\"black\" points=\"536.327,-155.312 525.733,-155.421 534.083,-161.943 536.327,-155.312\"/>\r\n<text text-anchor=\"middle\" x=\"701.321\" y=\"-174.148\" font-family=\"Times New Roman,serif\" font-size=\"14.00\">0 </text>\r\n</g>\r\n<!-- F_8&#45;&gt;F_6 -->\r\n<g id=\"edge18\" class=\"edge\"><title>F_8&#45;&gt;F_6</title>\r\n<path fill=\"none\" stroke=\"black\" d=\"M883.681,-123.021C856.348,-118.494 813.744,-110.615 777.669,-100.348 764.642,-96.6401 750.663,-91.7193 738.326,-87.038\"/>\r\n<polygon fill=\"black\" stroke=\"black\" points=\"739.422,-83.7095 728.833,-83.3629 736.895,-90.2373 739.422,-83.7095\"/>\r\n<text text-anchor=\"middle\" x=\"807.017\" y=\"-117.148\" font-family=\"Times New Roman,serif\" font-size=\"14.00\">1 </text>\r\n</g>\r\n<!-- F_6&#45;&gt;F_7 -->\r\n<g id=\"edge15\" class=\"edge\"><title>F_6&#45;&gt;F_7</title>\r\n<path fill=\"none\" stroke=\"black\" d=\"M728.756,-61.3858C741.31,-56.1799 756.505,-49.8789 770.087,-44.2471\"/>\r\n<polygon fill=\"black\" stroke=\"black\" points=\"771.733,-47.3533 779.63,-40.2897 769.052,-40.8872 771.733,-47.3533\"/>\r\n<text text-anchor=\"middle\" x=\"754.169\" y=\"-56.1478\" font-family=\"Times New Roman,serif\" font-size=\"14.00\">0 </text>\r\n</g>\r\n<!-- F_6&#45;&gt;F_6 -->\r\n<g id=\"edge14\" class=\"edge\"><title>F_6&#45;&gt;F_6</title>\r\n<path fill=\"none\" stroke=\"black\" d=\"M691.609,-100.069C691.178,-110.787 694.415,-119.696 701.321,-119.696 705.853,-119.696 708.806,-115.859 710.178,-110.192\"/>\r\n<polygon fill=\"black\" stroke=\"black\" points=\"713.679,-110.328 711.033,-100.069 706.703,-109.739 713.679,-110.328\"/>\r\n<text text-anchor=\"middle\" x=\"701.321\" y=\"-123.496\" font-family=\"Times New Roman,serif\" font-size=\"14.00\">1 </text>\r\n</g>\r\n</g>\r\n</svg>\r\n"
     },
     "metadata": {},
     "execution_count": 3
    }
   ],
   "source": [
    "dotObj_dfa(Even010)"
   ]
  },
  {
   "cell_type": "markdown",
   "metadata": {},
   "source": [
    "# Problem-3 graded by AR\n",
    "\n",
    "    \n",
    "3. Using Jove's markdown, define a DFA for the language of strings over alphabet $\\{0,1\\}$ that ends in a $010$, calling it Ends010. Then obtain the intersection with the Even010 machine using intersect_dfa. \n",
    "    \n",
    "    Call the intersection Even010_Ends010.\n",
    "    \n",
    "    Next, minimize Even010_Ends010, storing it in min_Even010_Ends010 .\n",
    "    \n",
    "    Again, document the construction thoroughly.\n",
    "    \n"
   ]
  },
  {
   "cell_type": "markdown",
   "metadata": {},
   "source": [
    "### Approach: We will define a machine for \"ends $010$\" as illustrated in SV's part, and negate."
   ]
  },
  {
   "cell_type": "code",
   "execution_count": 6,
   "metadata": {},
   "outputs": [],
   "source": [
    "Ends010 =  md2mc('''\n",
    "DFA\n",
    "\n",
    "!! Basic Design:\n",
    "!!  1. detect 1st occurence pattern of \"010\".\n",
    "!!       w/ the ability to finish if string ends with the pattern, or a string of '1's.\n",
    "!!  2. Detect Even occurance count of the pattern.\n",
    "!!       w/ ability to \"Finish\" if string ends before completing the pattern.\n",
    "!!  3. Detect Odd occurance count of the pattern.\n",
    "!!      w/ the ability to finish if string ends with the pattern, or a string of '1's.\n",
    "!!\n",
    "!! Design Notes:\n",
    "!!  - Nodes that start w/ `I_` are input nodes.\n",
    "!!  - Nodes that start w/ `S_` are intermediate step nodes.\n",
    "!!  - Nodes that start w/ `F_` are \"Finish\" nodes, \n",
    "!!       where if there are no more symbols in the strign when it reaches the node, \n",
    "!!       the strign is accepted as part of the Language.\n",
    "\n",
    "\n",
    "!! Detect  pattern ------------------------------------------------------------------------\n",
    "I_0     : 1 -> I_0      !! Ignore non pattern characters\n",
    "I_0     : 0 -> S_1      !! Could be the start of the pattern\n",
    "S_1     : 0 -> S_1      !! Ignore reoccuring '0's\n",
    "S_1     : 1 -> S_2      !! Could still be the pattern\n",
    "S_2     : 1 -> I_0      !! This is not the pattern !restart search!\n",
    "S_2     : 0 -> F_3      !! This was the pattern! (Accept if End of String)\n",
    "\n",
    "!! Restart if not pattern -----------------------------------------------------------------\n",
    "F_3     : 1 -> I_0      !! Ignore non pattern Chars\n",
    "F_3     : 0 -> S_1      !! Could be the start of the pattern\n",
    "''')"
   ]
  },
  {
   "cell_type": "code",
   "execution_count": 7,
   "metadata": {},
   "outputs": [
    {
     "output_type": "execute_result",
     "data": {
      "text/plain": "<graphviz.dot.Digraph at 0x1bef0984610>",
      "image/svg+xml": "<?xml version=\"1.0\" encoding=\"UTF-8\" standalone=\"no\"?>\r\n<!DOCTYPE svg PUBLIC \"-//W3C//DTD SVG 1.1//EN\"\r\n \"http://www.w3.org/Graphics/SVG/1.1/DTD/svg11.dtd\">\r\n<!-- Generated by graphviz version 2.38.0 (20140413.2041)\r\n -->\r\n<!-- Title: %3 Pages: 1 -->\r\n<svg width=\"446pt\" height=\"158pt\"\r\n viewBox=\"0.00 0.00 445.58 158.34\" xmlns=\"http://www.w3.org/2000/svg\" xmlns:xlink=\"http://www.w3.org/1999/xlink\">\r\n<g id=\"graph0\" class=\"graph\" transform=\"scale(1 1) rotate(0) translate(4 154.344)\">\r\n<title>%3</title>\r\n<polygon fill=\"white\" stroke=\"none\" points=\"-4,4 -4,-154.344 441.582,-154.344 441.582,4 -4,4\"/>\r\n<!-- EMPTY -->\r\n<g id=\"node1\" class=\"node\"><title>EMPTY</title>\r\n</g>\r\n<!-- I_0 -->\r\n<g id=\"node3\" class=\"node\"><title>I_0</title>\r\n<ellipse fill=\"none\" stroke=\"black\" cx=\"113.748\" cy=\"-33.9963\" rx=\"22.9987\" ry=\"22.9987\"/>\r\n<text text-anchor=\"middle\" x=\"113.748\" y=\"-30.2963\" font-family=\"Times New Roman,serif\" font-size=\"14.00\">I_0</text>\r\n</g>\r\n<!-- EMPTY&#45;&gt;I_0 -->\r\n<g id=\"edge1\" class=\"edge\"><title>EMPTY&#45;&gt;I_0</title>\r\n<path fill=\"none\" stroke=\"black\" d=\"M54.3502,-33.9963C62.71,-33.9963 72.0455,-33.9963 80.757,-33.9963\"/>\r\n<polygon fill=\"black\" stroke=\"black\" points=\"80.9663,-37.4964 90.9663,-33.9963 80.9662,-30.4964 80.9663,-37.4964\"/>\r\n</g>\r\n<!-- S_1 -->\r\n<g id=\"node2\" class=\"node\"><title>S_1</title>\r\n<ellipse fill=\"none\" stroke=\"black\" cx=\"208.844\" cy=\"-91.9963\" rx=\"25.1964\" ry=\"25.1964\"/>\r\n<text text-anchor=\"middle\" x=\"208.844\" y=\"-88.2963\" font-family=\"Times New Roman,serif\" font-size=\"14.00\">S_1</text>\r\n</g>\r\n<!-- S_1&#45;&gt;S_1 -->\r\n<g id=\"edge4\" class=\"edge\"><title>S_1&#45;&gt;S_1</title>\r\n<path fill=\"none\" stroke=\"black\" d=\"M199.951,-116.068C199.223,-126.453 202.187,-135.344 208.844,-135.344 213.108,-135.344 215.857,-131.695 217.09,-126.342\"/>\r\n<polygon fill=\"black\" stroke=\"black\" points=\"220.602,-126.267 217.736,-116.068 213.616,-125.828 220.602,-126.267\"/>\r\n<text text-anchor=\"middle\" x=\"208.844\" y=\"-139.144\" font-family=\"Times New Roman,serif\" font-size=\"14.00\">0 </text>\r\n</g>\r\n<!-- S_2 -->\r\n<g id=\"node4\" class=\"node\"><title>S_2</title>\r\n<ellipse fill=\"none\" stroke=\"black\" cx=\"306.539\" cy=\"-38.9963\" rx=\"25.1964\" ry=\"25.1964\"/>\r\n<text text-anchor=\"middle\" x=\"306.539\" y=\"-35.2963\" font-family=\"Times New Roman,serif\" font-size=\"14.00\">S_2</text>\r\n</g>\r\n<!-- S_1&#45;&gt;S_2 -->\r\n<g id=\"edge5\" class=\"edge\"><title>S_1&#45;&gt;S_2</title>\r\n<path fill=\"none\" stroke=\"black\" d=\"M231.559,-79.9697C244.406,-72.8545 260.878,-63.7312 275.017,-55.9004\"/>\r\n<polygon fill=\"black\" stroke=\"black\" points=\"276.858,-58.882 283.91,-50.9752 273.467,-52.7584 276.858,-58.882\"/>\r\n<text text-anchor=\"middle\" x=\"257.691\" y=\"-70.7963\" font-family=\"Times New Roman,serif\" font-size=\"14.00\">1 </text>\r\n</g>\r\n<!-- I_0&#45;&gt;S_1 -->\r\n<g id=\"edge3\" class=\"edge\"><title>I_0&#45;&gt;S_1</title>\r\n<path fill=\"none\" stroke=\"black\" d=\"M133.587,-45.7334C146.347,-53.6829 163.474,-64.3533 178.064,-73.4431\"/>\r\n<polygon fill=\"black\" stroke=\"black\" points=\"176.421,-76.5428 186.759,-78.8601 180.122,-70.6015 176.421,-76.5428\"/>\r\n<text text-anchor=\"middle\" x=\"159.996\" y=\"-67.7963\" font-family=\"Times New Roman,serif\" font-size=\"14.00\">0 </text>\r\n</g>\r\n<!-- I_0&#45;&gt;I_0 -->\r\n<g id=\"edge2\" class=\"edge\"><title>I_0&#45;&gt;I_0</title>\r\n<path fill=\"none\" stroke=\"black\" d=\"M106.396,-55.7958C105.594,-65.9085 108.045,-74.7442 113.748,-74.7442 117.402,-74.7442 119.72,-71.1181 120.704,-65.853\"/>\r\n<polygon fill=\"black\" stroke=\"black\" points=\"124.204,-65.9257 121.1,-55.7958 117.209,-65.6505 124.204,-65.9257\"/>\r\n<text text-anchor=\"middle\" x=\"113.748\" y=\"-78.5442\" font-family=\"Times New Roman,serif\" font-size=\"14.00\">1 </text>\r\n</g>\r\n<!-- S_2&#45;&gt;I_0 -->\r\n<g id=\"edge6\" class=\"edge\"><title>S_2&#45;&gt;I_0</title>\r\n<path fill=\"none\" stroke=\"black\" d=\"M280.908,-38.3508C246.748,-37.4555 184.932,-35.8355 147.09,-34.8438\"/>\r\n<polygon fill=\"black\" stroke=\"black\" points=\"146.722,-31.3331 136.634,-34.5698 146.539,-38.3307 146.722,-31.3331\"/>\r\n<text text-anchor=\"middle\" x=\"208.844\" y=\"-40.7963\" font-family=\"Times New Roman,serif\" font-size=\"14.00\">1 </text>\r\n</g>\r\n<!-- F_3 -->\r\n<g id=\"node5\" class=\"node\"><title>F_3</title>\r\n<ellipse fill=\"none\" stroke=\"black\" cx=\"408.235\" cy=\"-38.9963\" rx=\"25.2169\" ry=\"25.2169\"/>\r\n<ellipse fill=\"none\" stroke=\"black\" cx=\"408.235\" cy=\"-38.9963\" rx=\"29.1963\" ry=\"29.1963\"/>\r\n<text text-anchor=\"middle\" x=\"408.235\" y=\"-35.2963\" font-family=\"Times New Roman,serif\" font-size=\"14.00\">F_3</text>\r\n</g>\r\n<!-- S_2&#45;&gt;F_3 -->\r\n<g id=\"edge7\" class=\"edge\"><title>S_2&#45;&gt;F_3</title>\r\n<path fill=\"none\" stroke=\"black\" d=\"M331.927,-38.9963C343.006,-38.9963 356.379,-38.9963 368.762,-38.9963\"/>\r\n<polygon fill=\"black\" stroke=\"black\" points=\"368.859,-42.4964 378.859,-38.9963 368.859,-35.4964 368.859,-42.4964\"/>\r\n<text text-anchor=\"middle\" x=\"355.387\" y=\"-42.7963\" font-family=\"Times New Roman,serif\" font-size=\"14.00\">0 </text>\r\n</g>\r\n<!-- F_3&#45;&gt;S_1 -->\r\n<g id=\"edge9\" class=\"edge\"><title>F_3&#45;&gt;S_1</title>\r\n<path fill=\"none\" stroke=\"black\" d=\"M381.677,-52.3558C367.361,-59.3687 348.996,-67.6014 331.887,-72.9963 302.252,-82.3409 293.918,-81.3677 263.191,-85.9963 257.169,-86.9034 250.746,-87.7384 244.518,-88.4789\"/>\r\n<polygon fill=\"black\" stroke=\"black\" points=\"243.871,-85.0298 234.328,-89.6321 244.658,-91.9854 243.871,-85.0298\"/>\r\n<text text-anchor=\"middle\" x=\"306.539\" y=\"-86.7963\" font-family=\"Times New Roman,serif\" font-size=\"14.00\">0 </text>\r\n</g>\r\n<!-- F_3&#45;&gt;I_0 -->\r\n<g id=\"edge8\" class=\"edge\"><title>F_3&#45;&gt;I_0</title>\r\n<path fill=\"none\" stroke=\"black\" d=\"M382.354,-24.5406C368.094,-17.096 349.565,-8.80012 331.887,-4.99625 265.936,9.19462 187.134,-10.2014 144.951,-23.4542\"/>\r\n<polygon fill=\"black\" stroke=\"black\" points=\"143.724,-20.1723 135.291,-26.5848 145.883,-26.8313 143.724,-20.1723\"/>\r\n<text text-anchor=\"middle\" x=\"257.691\" y=\"-5.79625\" font-family=\"Times New Roman,serif\" font-size=\"14.00\">1 </text>\r\n</g>\r\n</g>\r\n</svg>\r\n"
     },
     "metadata": {},
     "execution_count": 7
    }
   ],
   "source": [
    "# Let's see the \"Ends010\" machine\n",
    "dotObj_dfa(Ends010, FuseEdges=True)"
   ]
  },
  {
   "cell_type": "markdown",
   "metadata": {},
   "source": [
    "## Obtain the intersection of Even010 and Ends010"
   ]
  },
  {
   "cell_type": "code",
   "execution_count": 8,
   "metadata": {
    "scrolled": true
   },
   "outputs": [
    {
     "output_type": "execute_result",
     "data": {
      "text/plain": "<graphviz.dot.Digraph at 0x1bef0984700>",
      "image/svg+xml": "<?xml version=\"1.0\" encoding=\"UTF-8\" standalone=\"no\"?>\r\n<!DOCTYPE svg PUBLIC \"-//W3C//DTD SVG 1.1//EN\"\r\n \"http://www.w3.org/Graphics/SVG/1.1/DTD/svg11.dtd\">\r\n<!-- Generated by graphviz version 2.38.0 (20140413.2041)\r\n -->\r\n<!-- Title: %3 Pages: 1 -->\r\n<svg width=\"2418pt\" height=\"646pt\"\r\n viewBox=\"0.00 0.00 2417.56 645.70\" xmlns=\"http://www.w3.org/2000/svg\" xmlns:xlink=\"http://www.w3.org/1999/xlink\">\r\n<g id=\"graph0\" class=\"graph\" transform=\"scale(1 1) rotate(0) translate(4 641.696)\">\r\n<title>%3</title>\r\n<polygon fill=\"white\" stroke=\"none\" points=\"-4,4 -4,-641.696 2413.56,-641.696 2413.56,4 -4,4\"/>\r\n<!-- EMPTY -->\r\n<g id=\"node1\" class=\"node\"><title>EMPTY</title>\r\n</g>\r\n<!-- \\(I_0_I_0\\) -->\r\n<g id=\"node10\" class=\"node\"><title>\\(I_0_I_0\\)</title>\r\n<ellipse fill=\"none\" stroke=\"black\" cx=\"137.146\" cy=\"-132.696\" rx=\"46.2923\" ry=\"46.2923\"/>\r\n<text text-anchor=\"middle\" x=\"137.146\" y=\"-128.996\" font-family=\"Times New Roman,serif\" font-size=\"14.00\">(I_0_I_0)</text>\r\n</g>\r\n<!-- EMPTY&#45;&gt;\\(I_0_I_0\\) -->\r\n<g id=\"edge1\" class=\"edge\"><title>EMPTY&#45;&gt;\\(I_0_I_0\\)</title>\r\n<path fill=\"none\" stroke=\"black\" d=\"M54.1791,-132.696C62.2588,-132.696 71.4826,-132.696 80.7581,-132.696\"/>\r\n<polygon fill=\"black\" stroke=\"black\" points=\"80.7915,-136.196 90.7915,-132.696 80.7915,-129.196 80.7915,-136.196\"/>\r\n</g>\r\n<!-- \\(S_3_F_3\\) -->\r\n<g id=\"node2\" class=\"node\"><title>\\(S_3_F_3\\)</title>\r\n<ellipse fill=\"none\" stroke=\"black\" cx=\"577.769\" cy=\"-132.696\" rx=\"50.8918\" ry=\"50.8918\"/>\r\n<text text-anchor=\"middle\" x=\"577.769\" y=\"-128.996\" font-family=\"Times New Roman,serif\" font-size=\"14.00\">(S_3_F_3)</text>\r\n</g>\r\n<!-- \\(S_4_S_1\\) -->\r\n<g id=\"node7\" class=\"node\"><title>\\(S_4_S_1\\)</title>\r\n<ellipse fill=\"none\" stroke=\"black\" cx=\"726.16\" cy=\"-261.696\" rx=\"50.8918\" ry=\"50.8918\"/>\r\n<text text-anchor=\"middle\" x=\"726.16\" y=\"-257.996\" font-family=\"Times New Roman,serif\" font-size=\"14.00\">(S_4_S_1)</text>\r\n</g>\r\n<!-- \\(S_3_F_3\\)&#45;&gt;\\(S_4_S_1\\) -->\r\n<g id=\"edge30\" class=\"edge\"><title>\\(S_3_F_3\\)&#45;&gt;\\(S_4_S_1\\)</title>\r\n<path fill=\"none\" stroke=\"black\" d=\"M616.469,-165.916C635.849,-182.995 659.611,-203.933 679.969,-221.873\"/>\r\n<polygon fill=\"black\" stroke=\"black\" points=\"677.772,-224.602 687.589,-228.587 682.4,-219.35 677.772,-224.602\"/>\r\n<text text-anchor=\"middle\" x=\"651.965\" y=\"-205.496\" font-family=\"Times New Roman,serif\" font-size=\"14.00\">0 </text>\r\n</g>\r\n<!-- \\(S_3_I_0\\) -->\r\n<g id=\"node8\" class=\"node\"><title>\\(S_3_I_0\\)</title>\r\n<ellipse fill=\"none\" stroke=\"black\" cx=\"1767.7\" cy=\"-160.696\" rx=\"48.1917\" ry=\"48.1917\"/>\r\n<text text-anchor=\"middle\" x=\"1767.7\" y=\"-156.996\" font-family=\"Times New Roman,serif\" font-size=\"14.00\">(S_3_I_0)</text>\r\n</g>\r\n<!-- \\(S_3_F_3\\)&#45;&gt;\\(S_3_I_0\\) -->\r\n<g id=\"edge10\" class=\"edge\"><title>\\(S_3_F_3\\)&#45;&gt;\\(S_3_I_0\\)</title>\r\n<path fill=\"none\" stroke=\"black\" d=\"M628.089,-124.602C656.409,-120.633 692.691,-116.696 725.16,-116.696 725.16,-116.696 725.16,-116.696 1622.91,-116.696 1654.18,-116.696 1687.67,-126.33 1714.45,-136.582\"/>\r\n<polygon fill=\"black\" stroke=\"black\" points=\"1713.42,-139.935 1724,-140.37 1716,-133.429 1713.42,-139.935\"/>\r\n<text text-anchor=\"middle\" x=\"1179.33\" y=\"-120.496\" font-family=\"Times New Roman,serif\" font-size=\"14.00\">1 </text>\r\n</g>\r\n<!-- \\(F_8_I_0\\) -->\r\n<g id=\"node3\" class=\"node\"><title>\\(F_8_I_0\\)</title>\r\n<ellipse fill=\"none\" stroke=\"black\" cx=\"2218.27\" cy=\"-493.696\" rx=\"48.1917\" ry=\"48.1917\"/>\r\n<text text-anchor=\"middle\" x=\"2218.27\" y=\"-489.996\" font-family=\"Times New Roman,serif\" font-size=\"14.00\">(F_8_I_0)</text>\r\n</g>\r\n<!-- \\(F_8_I_0\\)&#45;&gt;\\(S_4_S_1\\) -->\r\n<g id=\"edge19\" class=\"edge\"><title>\\(F_8_I_0\\)&#45;&gt;\\(S_4_S_1\\)</title>\r\n<path fill=\"none\" stroke=\"black\" d=\"M2193.26,-534.867C2167.8,-572.619 2123.8,-622.696 2069.48,-622.696 873.551,-622.696 873.551,-622.696 873.551,-622.696 809.327,-622.696 759.823,-423.997 738.547,-321.428\"/>\r\n<polygon fill=\"black\" stroke=\"black\" points=\"741.952,-320.606 736.516,-311.512 735.094,-322.011 741.952,-320.606\"/>\r\n<text text-anchor=\"middle\" x=\"1476.12\" y=\"-626.496\" font-family=\"Times New Roman,serif\" font-size=\"14.00\">0 </text>\r\n</g>\r\n<!-- \\(F_6_I_0\\) -->\r\n<g id=\"node14\" class=\"node\"><title>\\(F_6_I_0\\)</title>\r\n<ellipse fill=\"none\" stroke=\"black\" cx=\"2361.46\" cy=\"-410.696\" rx=\"48.1917\" ry=\"48.1917\"/>\r\n<text text-anchor=\"middle\" x=\"2361.46\" y=\"-406.996\" font-family=\"Times New Roman,serif\" font-size=\"14.00\">(F_6_I_0)</text>\r\n</g>\r\n<!-- \\(F_8_I_0\\)&#45;&gt;\\(F_6_I_0\\) -->\r\n<g id=\"edge15\" class=\"edge\"><title>\\(F_8_I_0\\)&#45;&gt;\\(F_6_I_0\\)</title>\r\n<path fill=\"none\" stroke=\"black\" d=\"M2260.11,-469.688C2275.91,-460.397 2294.16,-449.674 2310.72,-439.94\"/>\r\n<polygon fill=\"black\" stroke=\"black\" points=\"2312.87,-442.734 2319.72,-434.649 2309.32,-436.699 2312.87,-442.734\"/>\r\n<text text-anchor=\"middle\" x=\"2289.87\" y=\"-457.496\" font-family=\"Times New Roman,serif\" font-size=\"14.00\">1 </text>\r\n</g>\r\n<!-- \\(S_2_S_2\\) -->\r\n<g id=\"node4\" class=\"node\"><title>\\(S_2_S_2\\)</title>\r\n<ellipse fill=\"none\" stroke=\"black\" cx=\"429.378\" cy=\"-132.696\" rx=\"50.8918\" ry=\"50.8918\"/>\r\n<text text-anchor=\"middle\" x=\"429.378\" y=\"-128.996\" font-family=\"Times New Roman,serif\" font-size=\"14.00\">(S_2_S_2)</text>\r\n</g>\r\n<!-- \\(S_2_S_2\\)&#45;&gt;\\(S_3_F_3\\) -->\r\n<g id=\"edge23\" class=\"edge\"><title>\\(S_2_S_2\\)&#45;&gt;\\(S_3_F_3\\)</title>\r\n<path fill=\"none\" stroke=\"black\" d=\"M480.348,-132.696C492.126,-132.696 504.798,-132.696 516.96,-132.696\"/>\r\n<polygon fill=\"black\" stroke=\"black\" points=\"517.025,-136.196 527.024,-132.696 517.024,-129.196 517.025,-136.196\"/>\r\n<text text-anchor=\"middle\" x=\"503.574\" y=\"-136.496\" font-family=\"Times New Roman,serif\" font-size=\"14.00\">0 </text>\r\n</g>\r\n<!-- \\(S_2_S_2\\)&#45;&gt;\\(I_0_I_0\\) -->\r\n<g id=\"edge7\" class=\"edge\"><title>\\(S_2_S_2\\)&#45;&gt;\\(I_0_I_0\\)</title>\r\n<path fill=\"none\" stroke=\"black\" d=\"M378.782,-139.429C363.689,-141.184 347.033,-142.825 331.683,-143.696 286.692,-146.246 275.275,-146.371 230.292,-143.696 218.23,-142.978 205.326,-141.737 193.11,-140.34\"/>\r\n<polygon fill=\"black\" stroke=\"black\" points=\"193.388,-136.849 183.043,-139.139 192.558,-143.799 193.388,-136.849\"/>\r\n<text text-anchor=\"middle\" x=\"280.987\" y=\"-149.496\" font-family=\"Times New Roman,serif\" font-size=\"14.00\">1 </text>\r\n</g>\r\n<!-- \\(S_5_I_0\\) -->\r\n<g id=\"node5\" class=\"node\"><title>\\(S_5_I_0\\)</title>\r\n<ellipse fill=\"none\" stroke=\"black\" cx=\"1621.91\" cy=\"-350.696\" rx=\"48.1917\" ry=\"48.1917\"/>\r\n<text text-anchor=\"middle\" x=\"1621.91\" y=\"-346.996\" font-family=\"Times New Roman,serif\" font-size=\"14.00\">(S_5_I_0)</text>\r\n</g>\r\n<!-- \\(S_5_I_0\\)&#45;&gt;\\(S_3_I_0\\) -->\r\n<g id=\"edge32\" class=\"edge\"><title>\\(S_5_I_0\\)&#45;&gt;\\(S_3_I_0\\)</title>\r\n<path fill=\"none\" stroke=\"black\" d=\"M1651.66,-312.703C1674.78,-282.154 1707.34,-239.124 1731.93,-206.64\"/>\r\n<polygon fill=\"black\" stroke=\"black\" points=\"1734.75,-208.708 1737.99,-198.622 1729.17,-204.484 1734.75,-208.708\"/>\r\n<text text-anchor=\"middle\" x=\"1693.5\" y=\"-265.496\" font-family=\"Times New Roman,serif\" font-size=\"14.00\">1 </text>\r\n</g>\r\n<!-- \\(F_6_S_1\\) -->\r\n<g id=\"node15\" class=\"node\"><title>\\(F_6_S_1\\)</title>\r\n<ellipse fill=\"none\" stroke=\"black\" cx=\"1767.7\" cy=\"-456.696\" rx=\"50.8918\" ry=\"50.8918\"/>\r\n<text text-anchor=\"middle\" x=\"1767.7\" y=\"-452.996\" font-family=\"Times New Roman,serif\" font-size=\"14.00\">(F_6_S_1)</text>\r\n</g>\r\n<!-- \\(S_5_I_0\\)&#45;&gt;\\(F_6_S_1\\) -->\r\n<g id=\"edge11\" class=\"edge\"><title>\\(S_5_I_0\\)&#45;&gt;\\(F_6_S_1\\)</title>\r\n<path fill=\"none\" stroke=\"black\" d=\"M1661.06,-378.823C1678.6,-391.753 1699.61,-407.236 1718.25,-420.979\"/>\r\n<polygon fill=\"black\" stroke=\"black\" points=\"1716.22,-423.835 1726.35,-426.952 1720.38,-418.201 1716.22,-423.835\"/>\r\n<text text-anchor=\"middle\" x=\"1693.5\" y=\"-410.496\" font-family=\"Times New Roman,serif\" font-size=\"14.00\">0 </text>\r\n</g>\r\n<!-- \\(F_7_S_1\\) -->\r\n<g id=\"node6\" class=\"node\"><title>\\(F_7_S_1\\)</title>\r\n<ellipse fill=\"none\" stroke=\"black\" cx=\"1179.33\" cy=\"-463.696\" rx=\"50.8918\" ry=\"50.8918\"/>\r\n<text text-anchor=\"middle\" x=\"1179.33\" y=\"-459.996\" font-family=\"Times New Roman,serif\" font-size=\"14.00\">(F_7_S_1)</text>\r\n</g>\r\n<!-- \\(F_7_S_1\\)&#45;&gt;\\(F_7_S_1\\) -->\r\n<g id=\"edge33\" class=\"edge\"><title>\\(F_7_S_1\\)&#45;&gt;\\(F_7_S_1\\)</title>\r\n<path fill=\"none\" stroke=\"black\" d=\"M1165.76,-512.786C1166.93,-524.088 1171.46,-532.391 1179.33,-532.391 1184.63,-532.391 1188.4,-528.643 1190.67,-522.756\"/>\r\n<polygon fill=\"black\" stroke=\"black\" points=\"1194.13,-523.309 1192.9,-512.786 1187.3,-521.779 1194.13,-523.309\"/>\r\n<text text-anchor=\"middle\" x=\"1179.33\" y=\"-536.191\" font-family=\"Times New Roman,serif\" font-size=\"14.00\">0 </text>\r\n</g>\r\n<!-- \\(F_8_S_2\\) -->\r\n<g id=\"node13\" class=\"node\"><title>\\(F_8_S_2\\)</title>\r\n<ellipse fill=\"none\" stroke=\"black\" cx=\"1327.72\" cy=\"-289.696\" rx=\"50.8918\" ry=\"50.8918\"/>\r\n<text text-anchor=\"middle\" x=\"1327.72\" y=\"-285.996\" font-family=\"Times New Roman,serif\" font-size=\"14.00\">(F_8_S_2)</text>\r\n</g>\r\n<!-- \\(F_7_S_1\\)&#45;&gt;\\(F_8_S_2\\) -->\r\n<g id=\"edge26\" class=\"edge\"><title>\\(F_7_S_1\\)&#45;&gt;\\(F_8_S_2\\)</title>\r\n<path fill=\"none\" stroke=\"black\" d=\"M1212.82,-425.079C1234.9,-398.835 1264.23,-363.978 1287.59,-336.206\"/>\r\n<polygon fill=\"black\" stroke=\"black\" points=\"1290.57,-338.109 1294.33,-328.204 1285.21,-333.603 1290.57,-338.109\"/>\r\n<text text-anchor=\"middle\" x=\"1253.53\" y=\"-385.496\" font-family=\"Times New Roman,serif\" font-size=\"14.00\">1 </text>\r\n</g>\r\n<!-- \\(S_4_S_1\\)&#45;&gt;\\(S_4_S_1\\) -->\r\n<g id=\"edge35\" class=\"edge\"><title>\\(S_4_S_1\\)&#45;&gt;\\(S_4_S_1\\)</title>\r\n<path fill=\"none\" stroke=\"black\" d=\"M712.591,-310.786C713.76,-322.088 718.283,-330.391 726.16,-330.391 731.453,-330.391 735.231,-326.643 737.495,-320.756\"/>\r\n<polygon fill=\"black\" stroke=\"black\" points=\"740.958,-321.309 739.73,-310.786 734.127,-319.779 740.958,-321.309\"/>\r\n<text text-anchor=\"middle\" x=\"726.16\" y=\"-334.191\" font-family=\"Times New Roman,serif\" font-size=\"14.00\">0 </text>\r\n</g>\r\n<!-- \\(S_5_S_2\\) -->\r\n<g id=\"node12\" class=\"node\"><title>\\(S_5_S_2\\)</title>\r\n<ellipse fill=\"none\" stroke=\"black\" cx=\"874.551\" cy=\"-261.696\" rx=\"50.8918\" ry=\"50.8918\"/>\r\n<text text-anchor=\"middle\" x=\"874.551\" y=\"-257.996\" font-family=\"Times New Roman,serif\" font-size=\"14.00\">(S_5_S_2)</text>\r\n</g>\r\n<!-- \\(S_4_S_1\\)&#45;&gt;\\(S_5_S_2\\) -->\r\n<g id=\"edge21\" class=\"edge\"><title>\\(S_4_S_1\\)&#45;&gt;\\(S_5_S_2\\)</title>\r\n<path fill=\"none\" stroke=\"black\" d=\"M777.13,-261.696C788.908,-261.696 801.58,-261.696 813.742,-261.696\"/>\r\n<polygon fill=\"black\" stroke=\"black\" points=\"813.807,-265.196 823.806,-261.696 813.806,-258.196 813.807,-265.196\"/>\r\n<text text-anchor=\"middle\" x=\"800.356\" y=\"-265.496\" font-family=\"Times New Roman,serif\" font-size=\"14.00\">1 </text>\r\n</g>\r\n<!-- \\(S_3_I_0\\)&#45;&gt;\\(S_4_S_1\\) -->\r\n<g id=\"edge9\" class=\"edge\"><title>\\(S_3_I_0\\)&#45;&gt;\\(S_4_S_1\\)</title>\r\n<path fill=\"none\" stroke=\"black\" d=\"M1719.42,-160.201C1691.37,-159.949 1655.11,-159.696 1622.91,-159.696 873.551,-159.696 873.551,-159.696 873.551,-159.696 831.647,-159.696 793.15,-188.179 766.162,-215.042\"/>\r\n<polygon fill=\"black\" stroke=\"black\" points=\"763.323,-212.942 758.862,-222.551 768.342,-217.821 763.323,-212.942\"/>\r\n<text text-anchor=\"middle\" x=\"1253.53\" y=\"-163.496\" font-family=\"Times New Roman,serif\" font-size=\"14.00\">0 </text>\r\n</g>\r\n<!-- \\(S_3_I_0\\)&#45;&gt;\\(S_3_I_0\\) -->\r\n<g id=\"edge31\" class=\"edge\"><title>\\(S_3_I_0\\)&#45;&gt;\\(S_3_I_0\\)</title>\r\n<path fill=\"none\" stroke=\"black\" d=\"M1754.04,-207.024C1755.05,-218.357 1759.6,-226.791 1767.7,-226.791 1773.14,-226.791 1776.98,-222.984 1779.22,-217.048\"/>\r\n<polygon fill=\"black\" stroke=\"black\" points=\"1782.69,-217.534 1781.36,-207.024 1775.85,-216.073 1782.69,-217.534\"/>\r\n<text text-anchor=\"middle\" x=\"1767.7\" y=\"-230.591\" font-family=\"Times New Roman,serif\" font-size=\"14.00\">1 </text>\r\n</g>\r\n<!-- \\(F_6_S_2\\) -->\r\n<g id=\"node9\" class=\"node\"><title>\\(F_6_S_2\\)</title>\r\n<ellipse fill=\"none\" stroke=\"black\" cx=\"1916.09\" cy=\"-456.696\" rx=\"50.8918\" ry=\"50.8918\"/>\r\n<text text-anchor=\"middle\" x=\"1916.09\" y=\"-452.996\" font-family=\"Times New Roman,serif\" font-size=\"14.00\">(F_6_S_2)</text>\r\n</g>\r\n<!-- \\(F_6_S_2\\)&#45;&gt;\\(F_6_I_0\\) -->\r\n<g id=\"edge27\" class=\"edge\"><title>\\(F_6_S_2\\)&#45;&gt;\\(F_6_I_0\\)</title>\r\n<path fill=\"none\" stroke=\"black\" d=\"M1964.83,-441.147C1980.29,-436.711 1997.62,-432.363 2013.78,-429.696 2114.62,-413.058 2233.95,-410.124 2303.05,-410.04\"/>\r\n<polygon fill=\"black\" stroke=\"black\" points=\"2303.29,-413.54 2313.29,-410.048 2303.29,-406.54 2303.29,-413.54\"/>\r\n<text text-anchor=\"middle\" x=\"2146.68\" y=\"-418.496\" font-family=\"Times New Roman,serif\" font-size=\"14.00\">1 </text>\r\n</g>\r\n<!-- \\(F_7_F_3\\) -->\r\n<g id=\"node17\" class=\"node\"><title>\\(F_7_F_3\\)</title>\r\n<ellipse fill=\"none\" stroke=\"black\" cx=\"2068.48\" cy=\"-493.696\" rx=\"50.8774\" ry=\"50.8774\"/>\r\n<ellipse fill=\"none\" stroke=\"black\" cx=\"2068.48\" cy=\"-493.696\" rx=\"54.8917\" ry=\"54.8917\"/>\r\n<text text-anchor=\"middle\" x=\"2068.48\" y=\"-489.996\" font-family=\"Times New Roman,serif\" font-size=\"14.00\">(F_7_F_3)</text>\r\n</g>\r\n<!-- \\(F_6_S_2\\)&#45;&gt;\\(F_7_F_3\\) -->\r\n<g id=\"edge22\" class=\"edge\"><title>\\(F_6_S_2\\)&#45;&gt;\\(F_7_F_3\\)</title>\r\n<path fill=\"none\" stroke=\"black\" d=\"M1965.5,-468.606C1978.16,-471.721 1991.98,-475.122 2005.25,-478.386\"/>\r\n<polygon fill=\"black\" stroke=\"black\" points=\"2004.71,-481.858 2015.26,-480.848 2006.39,-475.061 2004.71,-481.858\"/>\r\n<text text-anchor=\"middle\" x=\"1990.28\" y=\"-478.496\" font-family=\"Times New Roman,serif\" font-size=\"14.00\">0 </text>\r\n</g>\r\n<!-- \\(I_0_I_0\\)&#45;&gt;\\(I_0_I_0\\) -->\r\n<g id=\"edge13\" class=\"edge\"><title>\\(I_0_I_0\\)&#45;&gt;\\(I_0_I_0\\)</title>\r\n<path fill=\"none\" stroke=\"black\" d=\"M125.311,-177.362C126.138,-188.509 130.083,-196.841 137.146,-196.841 141.891,-196.841 145.229,-193.08 147.159,-187.231\"/>\r\n<polygon fill=\"black\" stroke=\"black\" points=\"150.608,-187.831 148.981,-177.362 143.724,-186.56 150.608,-187.831\"/>\r\n<text text-anchor=\"middle\" x=\"137.146\" y=\"-200.641\" font-family=\"Times New Roman,serif\" font-size=\"14.00\">1 </text>\r\n</g>\r\n<!-- \\(S_1_S_1\\) -->\r\n<g id=\"node11\" class=\"node\"><title>\\(S_1_S_1\\)</title>\r\n<ellipse fill=\"none\" stroke=\"black\" cx=\"280.987\" cy=\"-50.6955\" rx=\"50.8918\" ry=\"50.8918\"/>\r\n<text text-anchor=\"middle\" x=\"280.987\" y=\"-46.9955\" font-family=\"Times New Roman,serif\" font-size=\"14.00\">(S_1_S_1)</text>\r\n</g>\r\n<!-- \\(I_0_I_0\\)&#45;&gt;\\(S_1_S_1\\) -->\r\n<g id=\"edge4\" class=\"edge\"><title>\\(I_0_I_0\\)&#45;&gt;\\(S_1_S_1\\)</title>\r\n<path fill=\"none\" stroke=\"black\" d=\"M177.657,-109.854C193.149,-100.897 211.148,-90.4921 227.692,-80.9281\"/>\r\n<polygon fill=\"black\" stroke=\"black\" points=\"229.802,-83.7509 236.708,-75.7159 226.299,-77.6907 229.802,-83.7509\"/>\r\n<text text-anchor=\"middle\" x=\"206.792\" y=\"-98.4955\" font-family=\"Times New Roman,serif\" font-size=\"14.00\">0 </text>\r\n</g>\r\n<!-- \\(S_1_S_1\\)&#45;&gt;\\(S_2_S_2\\) -->\r\n<g id=\"edge25\" class=\"edge\"><title>\\(S_1_S_1\\)&#45;&gt;\\(S_2_S_2\\)</title>\r\n<path fill=\"none\" stroke=\"black\" d=\"M325.513,-75.0762C341.3,-83.9192 359.304,-94.0037 375.789,-103.238\"/>\r\n<polygon fill=\"black\" stroke=\"black\" points=\"374.332,-106.434 384.767,-108.267 377.753,-100.327 374.332,-106.434\"/>\r\n<text text-anchor=\"middle\" x=\"355.183\" y=\"-98.4955\" font-family=\"Times New Roman,serif\" font-size=\"14.00\">1 </text>\r\n</g>\r\n<!-- \\(S_1_S_1\\)&#45;&gt;\\(S_1_S_1\\) -->\r\n<g id=\"edge29\" class=\"edge\"><title>\\(S_1_S_1\\)&#45;&gt;\\(S_1_S_1\\)</title>\r\n<path fill=\"none\" stroke=\"black\" d=\"M267.418,-99.786C268.587,-111.088 273.11,-119.391 280.987,-119.391 286.28,-119.391 290.058,-115.643 292.322,-109.756\"/>\r\n<polygon fill=\"black\" stroke=\"black\" points=\"295.785,-110.309 294.557,-99.786 288.954,-108.779 295.785,-110.309\"/>\r\n<text text-anchor=\"middle\" x=\"280.987\" y=\"-123.191\" font-family=\"Times New Roman,serif\" font-size=\"14.00\">0 </text>\r\n</g>\r\n<!-- \\(S_5_S_2\\)&#45;&gt;\\(S_3_I_0\\) -->\r\n<g id=\"edge16\" class=\"edge\"><title>\\(S_5_S_2\\)&#45;&gt;\\(S_3_I_0\\)</title>\r\n<path fill=\"none\" stroke=\"black\" d=\"M918.73,-236.317C947.975,-221.5 988.051,-205.696 1025.94,-205.696 1025.94,-205.696 1025.94,-205.696 1622.91,-205.696 1654.24,-205.696 1687.73,-195.843 1714.51,-185.358\"/>\r\n<polygon fill=\"black\" stroke=\"black\" points=\"1716.1,-188.488 1724.05,-181.483 1713.47,-182.002 1716.1,-188.488\"/>\r\n<text text-anchor=\"middle\" x=\"1327.72\" y=\"-209.496\" font-family=\"Times New Roman,serif\" font-size=\"14.00\">1 </text>\r\n</g>\r\n<!-- \\(F_6_F_3\\) -->\r\n<g id=\"node18\" class=\"node\"><title>\\(F_6_F_3\\)</title>\r\n<ellipse fill=\"none\" stroke=\"black\" cx=\"1026.94\" cy=\"-463.696\" rx=\"50.8774\" ry=\"50.8774\"/>\r\n<ellipse fill=\"none\" stroke=\"black\" cx=\"1026.94\" cy=\"-463.696\" rx=\"54.8917\" ry=\"54.8917\"/>\r\n<text text-anchor=\"middle\" x=\"1026.94\" y=\"-459.996\" font-family=\"Times New Roman,serif\" font-size=\"14.00\">(F_6_F_3)</text>\r\n</g>\r\n<!-- \\(S_5_S_2\\)&#45;&gt;\\(F_6_F_3\\) -->\r\n<g id=\"edge34\" class=\"edge\"><title>\\(S_5_S_2\\)&#45;&gt;\\(F_6_F_3\\)</title>\r\n<path fill=\"none\" stroke=\"black\" d=\"M905.624,-302.088C929.093,-333.611 961.869,-377.634 987.286,-411.774\"/>\r\n<polygon fill=\"black\" stroke=\"black\" points=\"984.8,-414.296 993.579,-420.227 990.415,-410.115 984.8,-414.296\"/>\r\n<text text-anchor=\"middle\" x=\"948.747\" y=\"-366.496\" font-family=\"Times New Roman,serif\" font-size=\"14.00\">0 </text>\r\n</g>\r\n<!-- \\(F_8_S_2\\)&#45;&gt;\\(F_6_I_0\\) -->\r\n<g id=\"edge8\" class=\"edge\"><title>\\(F_8_S_2\\)&#45;&gt;\\(F_6_I_0\\)</title>\r\n<path fill=\"none\" stroke=\"black\" d=\"M1377.67,-280.643C1406.03,-276.16 1442.47,-271.696 1475.12,-271.696 1475.12,-271.696 1475.12,-271.696 2219.27,-271.696 2270.76,-271.696 2310.3,-319.214 2334.27,-358.684\"/>\r\n<polygon fill=\"black\" stroke=\"black\" points=\"2331.36,-360.63 2339.44,-367.477 2337.39,-357.082 2331.36,-360.63\"/>\r\n<text text-anchor=\"middle\" x=\"1841.89\" y=\"-275.496\" font-family=\"Times New Roman,serif\" font-size=\"14.00\">1 </text>\r\n</g>\r\n<!-- \\(S_4_F_3\\) -->\r\n<g id=\"node16\" class=\"node\"><title>\\(S_4_F_3\\)</title>\r\n<ellipse fill=\"none\" stroke=\"black\" cx=\"1476.12\" cy=\"-350.696\" rx=\"50.8918\" ry=\"50.8918\"/>\r\n<text text-anchor=\"middle\" x=\"1476.12\" y=\"-346.996\" font-family=\"Times New Roman,serif\" font-size=\"14.00\">(S_4_F_3)</text>\r\n</g>\r\n<!-- \\(F_8_S_2\\)&#45;&gt;\\(S_4_F_3\\) -->\r\n<g id=\"edge28\" class=\"edge\"><title>\\(F_8_S_2\\)&#45;&gt;\\(S_4_F_3\\)</title>\r\n<path fill=\"none\" stroke=\"black\" d=\"M1375.04,-308.996C1389.2,-314.895 1404.91,-321.442 1419.61,-327.567\"/>\r\n<polygon fill=\"black\" stroke=\"black\" points=\"1418.52,-330.905 1429.1,-331.52 1421.21,-324.443 1418.52,-330.905\"/>\r\n<text text-anchor=\"middle\" x=\"1401.92\" y=\"-326.496\" font-family=\"Times New Roman,serif\" font-size=\"14.00\">0 </text>\r\n</g>\r\n<!-- \\(F_6_I_0\\)&#45;&gt;\\(F_7_S_1\\) -->\r\n<g id=\"edge3\" class=\"edge\"><title>\\(F_6_I_0\\)&#45;&gt;\\(F_7_S_1\\)</title>\r\n<path fill=\"none\" stroke=\"black\" d=\"M2316.76,-392.586C2289.27,-382.799 2252.78,-372.696 2219.27,-372.696 1840.89,-372.696 1840.89,-372.696 1840.89,-372.696 1785.69,-372.696 1769.92,-365.967 1717,-381.696 1705.56,-385.096 1681.37,-404.059 1670,-407.696 1591.37,-432.848 1353.04,-451.901 1240.46,-459.758\"/>\r\n<polygon fill=\"black\" stroke=\"black\" points=\"1240.02,-456.279 1230.29,-460.461 1240.51,-463.263 1240.02,-456.279\"/>\r\n<text text-anchor=\"middle\" x=\"1767.7\" y=\"-385.496\" font-family=\"Times New Roman,serif\" font-size=\"14.00\">0 </text>\r\n</g>\r\n<!-- \\(F_6_I_0\\)&#45;&gt;\\(F_6_I_0\\) -->\r\n<g id=\"edge5\" class=\"edge\"><title>\\(F_6_I_0\\)&#45;&gt;\\(F_6_I_0\\)</title>\r\n<path fill=\"none\" stroke=\"black\" d=\"M2348.54,-457.024C2349.5,-468.357 2353.81,-476.791 2361.46,-476.791 2366.61,-476.791 2370.24,-472.984 2372.36,-467.048\"/>\r\n<polygon fill=\"black\" stroke=\"black\" points=\"2375.83,-467.519 2374.38,-457.024 2368.97,-466.133 2375.83,-467.519\"/>\r\n<text text-anchor=\"middle\" x=\"2361.46\" y=\"-480.591\" font-family=\"Times New Roman,serif\" font-size=\"14.00\">1 </text>\r\n</g>\r\n<!-- \\(F_6_S_1\\)&#45;&gt;\\(F_7_S_1\\) -->\r\n<g id=\"edge18\" class=\"edge\"><title>\\(F_6_S_1\\)&#45;&gt;\\(F_7_S_1\\)</title>\r\n<path fill=\"none\" stroke=\"black\" d=\"M1717.66,-466.418C1689.96,-471.093 1654.63,-475.696 1622.91,-475.696 1326.72,-475.696 1326.72,-475.696 1326.72,-475.696 1298.13,-475.696 1266.51,-473.394 1239.99,-470.807\"/>\r\n<polygon fill=\"black\" stroke=\"black\" points=\"1240.02,-467.292 1229.72,-469.766 1239.31,-474.256 1240.02,-467.292\"/>\r\n<text text-anchor=\"middle\" x=\"1476.12\" y=\"-479.496\" font-family=\"Times New Roman,serif\" font-size=\"14.00\">0 </text>\r\n</g>\r\n<!-- \\(F_6_S_1\\)&#45;&gt;\\(F_6_S_2\\) -->\r\n<g id=\"edge12\" class=\"edge\"><title>\\(F_6_S_1\\)&#45;&gt;\\(F_6_S_2\\)</title>\r\n<path fill=\"none\" stroke=\"black\" d=\"M1818.67,-456.696C1830.45,-456.696 1843.12,-456.696 1855.28,-456.696\"/>\r\n<polygon fill=\"black\" stroke=\"black\" points=\"1855.34,-460.196 1865.34,-456.696 1855.34,-453.196 1855.34,-460.196\"/>\r\n<text text-anchor=\"middle\" x=\"1841.89\" y=\"-460.496\" font-family=\"Times New Roman,serif\" font-size=\"14.00\">1 </text>\r\n</g>\r\n<!-- \\(S_4_F_3\\)&#45;&gt;\\(S_5_I_0\\) -->\r\n<g id=\"edge20\" class=\"edge\"><title>\\(S_4_F_3\\)&#45;&gt;\\(S_5_I_0\\)</title>\r\n<path fill=\"none\" stroke=\"black\" d=\"M1527,-350.696C1538.67,-350.696 1551.2,-350.696 1563.18,-350.696\"/>\r\n<polygon fill=\"black\" stroke=\"black\" points=\"1563.53,-354.196 1573.53,-350.696 1563.53,-347.196 1563.53,-354.196\"/>\r\n<text text-anchor=\"middle\" x=\"1550.31\" y=\"-354.496\" font-family=\"Times New Roman,serif\" font-size=\"14.00\">1 </text>\r\n</g>\r\n<!-- \\(S_4_F_3\\)&#45;&gt;\\(S_4_S_1\\) -->\r\n<g id=\"edge24\" class=\"edge\"><title>\\(S_4_F_3\\)&#45;&gt;\\(S_4_S_1\\)</title>\r\n<path fill=\"none\" stroke=\"black\" d=\"M1425.62,-355.296C1367.09,-360.331 1266.71,-367.696 1180.33,-367.696 873.551,-367.696 873.551,-367.696 873.551,-367.696 830.489,-367.696 791.526,-337.233 764.643,-308.969\"/>\r\n<polygon fill=\"black\" stroke=\"black\" points=\"767.081,-306.45 757.731,-301.468 761.934,-311.193 767.081,-306.45\"/>\r\n<text text-anchor=\"middle\" x=\"1105.14\" y=\"-371.496\" font-family=\"Times New Roman,serif\" font-size=\"14.00\">0 </text>\r\n</g>\r\n<!-- \\(F_7_F_3\\)&#45;&gt;\\(F_8_I_0\\) -->\r\n<g id=\"edge14\" class=\"edge\"><title>\\(F_7_F_3\\)&#45;&gt;\\(F_8_I_0\\)</title>\r\n<path fill=\"none\" stroke=\"black\" d=\"M2123.25,-493.696C2135.25,-493.696 2148.01,-493.696 2160.13,-493.696\"/>\r\n<polygon fill=\"black\" stroke=\"black\" points=\"2160.13,-497.196 2170.13,-493.696 2160.13,-490.196 2160.13,-497.196\"/>\r\n<text text-anchor=\"middle\" x=\"2146.68\" y=\"-497.496\" font-family=\"Times New Roman,serif\" font-size=\"14.00\">1 </text>\r\n</g>\r\n<!-- \\(F_7_F_3\\)&#45;&gt;\\(F_7_S_1\\) -->\r\n<g id=\"edge6\" class=\"edge\"><title>\\(F_7_F_3\\)&#45;&gt;\\(F_7_S_1\\)</title>\r\n<path fill=\"none\" stroke=\"black\" d=\"M2015.29,-507.532C1999.78,-511.122 1982.69,-514.572 1966.78,-516.696 1783.6,-541.153 1736.12,-533.696 1551.31,-533.696 1326.72,-533.696 1326.72,-533.696 1326.72,-533.696 1291.52,-533.696 1255.8,-517.013 1228.46,-499.936\"/>\r\n<polygon fill=\"black\" stroke=\"black\" points=\"1230.18,-496.885 1219.88,-494.399 1226.38,-502.765 1230.18,-496.885\"/>\r\n<text text-anchor=\"middle\" x=\"1621.91\" y=\"-537.496\" font-family=\"Times New Roman,serif\" font-size=\"14.00\">0 </text>\r\n</g>\r\n<!-- \\(F_6_F_3\\)&#45;&gt;\\(F_7_S_1\\) -->\r\n<g id=\"edge2\" class=\"edge\"><title>\\(F_6_F_3\\)&#45;&gt;\\(F_7_S_1\\)</title>\r\n<path fill=\"none\" stroke=\"black\" d=\"M1081.81,-463.696C1093.55,-463.696 1106.04,-463.696 1118,-463.696\"/>\r\n<polygon fill=\"black\" stroke=\"black\" points=\"1118.35,-467.196 1128.35,-463.696 1118.35,-460.196 1118.35,-467.196\"/>\r\n<text text-anchor=\"middle\" x=\"1105.14\" y=\"-467.496\" font-family=\"Times New Roman,serif\" font-size=\"14.00\">0 </text>\r\n</g>\r\n<!-- \\(F_6_F_3\\)&#45;&gt;\\(F_6_I_0\\) -->\r\n<g id=\"edge17\" class=\"edge\"><title>\\(F_6_F_3\\)&#45;&gt;\\(F_6_I_0\\)</title>\r\n<path fill=\"none\" stroke=\"black\" d=\"M1060.13,-507.384C1087.57,-539.182 1130.16,-576.696 1178.33,-576.696 1178.33,-576.696 1178.33,-576.696 2219.27,-576.696 2278.86,-576.696 2318.57,-513.862 2340.31,-465.51\"/>\r\n<polygon fill=\"black\" stroke=\"black\" points=\"2343.64,-466.622 2344.41,-456.056 2337.22,-463.832 2343.64,-466.622\"/>\r\n<text text-anchor=\"middle\" x=\"1693.5\" y=\"-580.496\" font-family=\"Times New Roman,serif\" font-size=\"14.00\">1 </text>\r\n</g>\r\n</g>\r\n</svg>\r\n"
     },
     "metadata": {},
     "execution_count": 8
    }
   ],
   "source": [
    "Even010_Ends010 = intersect_dfa(Even010, Ends010)\n",
    "dotObj_dfa(Even010_Ends010)"
   ]
  },
  {
   "cell_type": "markdown",
   "metadata": {},
   "source": [
    "## Minimize the intersection of Even010 and Ends010"
   ]
  },
  {
   "cell_type": "code",
   "execution_count": 9,
   "metadata": {},
   "outputs": [
    {
     "output_type": "execute_result",
     "data": {
      "text/plain": "<graphviz.dot.Digraph at 0x1bef15e9100>",
      "image/svg+xml": "<?xml version=\"1.0\" encoding=\"UTF-8\" standalone=\"no\"?>\r\n<!DOCTYPE svg PUBLIC \"-//W3C//DTD SVG 1.1//EN\"\r\n \"http://www.w3.org/Graphics/SVG/1.1/DTD/svg11.dtd\">\r\n<!-- Generated by graphviz version 2.38.0 (20140413.2041)\r\n -->\r\n<!-- Title: %3 Pages: 1 -->\r\n<svg width=\"2418pt\" height=\"471pt\"\r\n viewBox=\"0.00 0.00 2417.56 470.70\" xmlns=\"http://www.w3.org/2000/svg\" xmlns:xlink=\"http://www.w3.org/1999/xlink\">\r\n<g id=\"graph0\" class=\"graph\" transform=\"scale(1 1) rotate(0) translate(4 466.696)\">\r\n<title>%3</title>\r\n<polygon fill=\"white\" stroke=\"none\" points=\"-4,4 -4,-466.696 2413.56,-466.696 2413.56,4 -4,4\"/>\r\n<!-- EMPTY -->\r\n<g id=\"node1\" class=\"node\"><title>EMPTY</title>\r\n</g>\r\n<!-- \\(I_0_I_0\\) -->\r\n<g id=\"node9\" class=\"node\"><title>\\(I_0_I_0\\)</title>\r\n<ellipse fill=\"none\" stroke=\"black\" cx=\"137.146\" cy=\"-132.696\" rx=\"46.2923\" ry=\"46.2923\"/>\r\n<text text-anchor=\"middle\" x=\"137.146\" y=\"-128.996\" font-family=\"Times New Roman,serif\" font-size=\"14.00\">(I_0_I_0)</text>\r\n</g>\r\n<!-- EMPTY&#45;&gt;\\(I_0_I_0\\) -->\r\n<g id=\"edge1\" class=\"edge\"><title>EMPTY&#45;&gt;\\(I_0_I_0\\)</title>\r\n<path fill=\"none\" stroke=\"black\" d=\"M54.1791,-132.696C62.2588,-132.696 71.4826,-132.696 80.7581,-132.696\"/>\r\n<polygon fill=\"black\" stroke=\"black\" points=\"80.7915,-136.196 90.7915,-132.696 80.7915,-129.196 80.7915,-136.196\"/>\r\n</g>\r\n<!-- \\(S_3_F_3\\) -->\r\n<g id=\"node2\" class=\"node\"><title>\\(S_3_F_3\\)</title>\r\n<ellipse fill=\"none\" stroke=\"black\" cx=\"577.769\" cy=\"-132.696\" rx=\"50.8918\" ry=\"50.8918\"/>\r\n<text text-anchor=\"middle\" x=\"577.769\" y=\"-128.996\" font-family=\"Times New Roman,serif\" font-size=\"14.00\">(S_3_F_3)</text>\r\n</g>\r\n<!-- \\(S_3_F_3\\)&#45;&gt;\\(S_3_F_3\\) -->\r\n<g id=\"edge10\" class=\"edge\"><title>\\(S_3_F_3\\)&#45;&gt;\\(S_3_F_3\\)</title>\r\n<path fill=\"none\" stroke=\"black\" d=\"M564.2,-181.786C565.369,-193.088 569.892,-201.391 577.769,-201.391 583.062,-201.391 586.84,-197.643 589.104,-191.756\"/>\r\n<polygon fill=\"black\" stroke=\"black\" points=\"592.567,-192.309 591.339,-181.786 585.736,-190.779 592.567,-192.309\"/>\r\n<text text-anchor=\"middle\" x=\"577.769\" y=\"-205.191\" font-family=\"Times New Roman,serif\" font-size=\"14.00\">1 </text>\r\n</g>\r\n<!-- \\(S_4_S_1\\) -->\r\n<g id=\"node7\" class=\"node\"><title>\\(S_4_S_1\\)</title>\r\n<ellipse fill=\"none\" stroke=\"black\" cx=\"726.16\" cy=\"-132.696\" rx=\"50.8918\" ry=\"50.8918\"/>\r\n<text text-anchor=\"middle\" x=\"726.16\" y=\"-128.996\" font-family=\"Times New Roman,serif\" font-size=\"14.00\">(S_4_S_1)</text>\r\n</g>\r\n<!-- \\(S_3_F_3\\)&#45;&gt;\\(S_4_S_1\\) -->\r\n<g id=\"edge9\" class=\"edge\"><title>\\(S_3_F_3\\)&#45;&gt;\\(S_4_S_1\\)</title>\r\n<path fill=\"none\" stroke=\"black\" d=\"M628.739,-132.696C640.517,-132.696 653.189,-132.696 665.351,-132.696\"/>\r\n<polygon fill=\"black\" stroke=\"black\" points=\"665.416,-136.196 675.415,-132.696 665.415,-129.196 665.416,-136.196\"/>\r\n<text text-anchor=\"middle\" x=\"651.965\" y=\"-136.496\" font-family=\"Times New Roman,serif\" font-size=\"14.00\">0 </text>\r\n</g>\r\n<!-- \\(F_8_I_0\\) -->\r\n<g id=\"node3\" class=\"node\"><title>\\(F_8_I_0\\)</title>\r\n<ellipse fill=\"none\" stroke=\"black\" cx=\"2218.27\" cy=\"-181.696\" rx=\"48.1917\" ry=\"48.1917\"/>\r\n<text text-anchor=\"middle\" x=\"2218.27\" y=\"-177.996\" font-family=\"Times New Roman,serif\" font-size=\"14.00\">(F_8_I_0)</text>\r\n</g>\r\n<!-- \\(F_8_I_0\\)&#45;&gt;\\(S_4_S_1\\) -->\r\n<g id=\"edge19\" class=\"edge\"><title>\\(F_8_I_0\\)&#45;&gt;\\(S_4_S_1\\)</title>\r\n<path fill=\"none\" stroke=\"black\" d=\"M2192.54,-140.787C2166.84,-103.996 2122.92,-55.6955 2069.48,-55.6955 1400.92,-55.6955 1400.92,-55.6955 1400.92,-55.6955 1268.93,-55.6955 1238.13,-91.6955 1106.14,-91.6955 873.551,-91.6955 873.551,-91.6955 873.551,-91.6955 842.758,-91.6955 809.626,-100.212 782.684,-109.481\"/>\r\n<polygon fill=\"black\" stroke=\"black\" points=\"781.296,-106.26 773.053,-112.916 783.648,-112.853 781.296,-106.26\"/>\r\n<text text-anchor=\"middle\" x=\"1476.12\" y=\"-59.4955\" font-family=\"Times New Roman,serif\" font-size=\"14.00\">0 </text>\r\n</g>\r\n<!-- \\(F_6_I_0\\) -->\r\n<g id=\"node13\" class=\"node\"><title>\\(F_6_I_0\\)</title>\r\n<ellipse fill=\"none\" stroke=\"black\" cx=\"2361.46\" cy=\"-345.696\" rx=\"48.1917\" ry=\"48.1917\"/>\r\n<text text-anchor=\"middle\" x=\"2361.46\" y=\"-341.996\" font-family=\"Times New Roman,serif\" font-size=\"14.00\">(F_6_I_0)</text>\r\n</g>\r\n<!-- \\(F_8_I_0\\)&#45;&gt;\\(F_6_I_0\\) -->\r\n<g id=\"edge15\" class=\"edge\"><title>\\(F_8_I_0\\)&#45;&gt;\\(F_6_I_0\\)</title>\r\n<path fill=\"none\" stroke=\"black\" d=\"M2254.1,-214.329C2267.46,-227.393 2282.57,-242.846 2295.37,-257.696 2306.26,-270.33 2317.33,-284.647 2327.19,-298.007\"/>\r\n<polygon fill=\"black\" stroke=\"black\" points=\"2324.43,-300.164 2333.15,-306.178 2330.08,-296.037 2324.43,-300.164\"/>\r\n<text text-anchor=\"middle\" x=\"2289.87\" y=\"-261.496\" font-family=\"Times New Roman,serif\" font-size=\"14.00\">1 </text>\r\n</g>\r\n<!-- \\(S_2_S_2\\) -->\r\n<g id=\"node4\" class=\"node\"><title>\\(S_2_S_2\\)</title>\r\n<ellipse fill=\"none\" stroke=\"black\" cx=\"429.378\" cy=\"-132.696\" rx=\"50.8918\" ry=\"50.8918\"/>\r\n<text text-anchor=\"middle\" x=\"429.378\" y=\"-128.996\" font-family=\"Times New Roman,serif\" font-size=\"14.00\">(S_2_S_2)</text>\r\n</g>\r\n<!-- \\(S_2_S_2\\)&#45;&gt;\\(S_3_F_3\\) -->\r\n<g id=\"edge23\" class=\"edge\"><title>\\(S_2_S_2\\)&#45;&gt;\\(S_3_F_3\\)</title>\r\n<path fill=\"none\" stroke=\"black\" d=\"M480.348,-132.696C492.126,-132.696 504.798,-132.696 516.96,-132.696\"/>\r\n<polygon fill=\"black\" stroke=\"black\" points=\"517.025,-136.196 527.024,-132.696 517.024,-129.196 517.025,-136.196\"/>\r\n<text text-anchor=\"middle\" x=\"503.574\" y=\"-136.496\" font-family=\"Times New Roman,serif\" font-size=\"14.00\">0 </text>\r\n</g>\r\n<!-- \\(S_2_S_2\\)&#45;&gt;\\(I_0_I_0\\) -->\r\n<g id=\"edge7\" class=\"edge\"><title>\\(S_2_S_2\\)&#45;&gt;\\(I_0_I_0\\)</title>\r\n<path fill=\"none\" stroke=\"black\" d=\"M378.782,-139.429C363.689,-141.184 347.033,-142.825 331.683,-143.696 286.692,-146.246 275.275,-146.371 230.292,-143.696 218.23,-142.978 205.326,-141.737 193.11,-140.34\"/>\r\n<polygon fill=\"black\" stroke=\"black\" points=\"193.388,-136.849 183.043,-139.139 192.558,-143.799 193.388,-136.849\"/>\r\n<text text-anchor=\"middle\" x=\"280.987\" y=\"-149.496\" font-family=\"Times New Roman,serif\" font-size=\"14.00\">1 </text>\r\n</g>\r\n<!-- \\(S_5_I_0\\) -->\r\n<g id=\"node5\" class=\"node\"><title>\\(S_5_I_0\\)</title>\r\n<ellipse fill=\"none\" stroke=\"black\" cx=\"1621.91\" cy=\"-217.696\" rx=\"48.1917\" ry=\"48.1917\"/>\r\n<text text-anchor=\"middle\" x=\"1621.91\" y=\"-213.996\" font-family=\"Times New Roman,serif\" font-size=\"14.00\">(S_5_I_0)</text>\r\n</g>\r\n<!-- \\(S_5_I_0\\)&#45;&gt;\\(S_3_F_3\\) -->\r\n<g id=\"edge30\" class=\"edge\"><title>\\(S_5_I_0\\)&#45;&gt;\\(S_3_F_3\\)</title>\r\n<path fill=\"none\" stroke=\"black\" d=\"M1583.2,-188.698C1566.63,-177.076 1546.49,-164.405 1526.81,-155.696 1350.89,-77.838 1298.52,-53.6955 1106.14,-53.6955 725.16,-53.6955 725.16,-53.6955 725.16,-53.6955 688.257,-53.6955 651.722,-73.3781 624.381,-93.0942\"/>\r\n<polygon fill=\"black\" stroke=\"black\" points=\"622.126,-90.4095 616.2,-99.1924 626.31,-96.0217 622.126,-90.4095\"/>\r\n<text text-anchor=\"middle\" x=\"1105.14\" y=\"-57.4955\" font-family=\"Times New Roman,serif\" font-size=\"14.00\">1 </text>\r\n</g>\r\n<!-- \\(F_6_S_1\\) -->\r\n<g id=\"node14\" class=\"node\"><title>\\(F_6_S_1\\)</title>\r\n<ellipse fill=\"none\" stroke=\"black\" cx=\"1767.7\" cy=\"-254.696\" rx=\"50.8918\" ry=\"50.8918\"/>\r\n<text text-anchor=\"middle\" x=\"1767.7\" y=\"-250.996\" font-family=\"Times New Roman,serif\" font-size=\"14.00\">(F_6_S_1)</text>\r\n</g>\r\n<!-- \\(S_5_I_0\\)&#45;&gt;\\(F_6_S_1\\) -->\r\n<g id=\"edge11\" class=\"edge\"><title>\\(S_5_I_0\\)&#45;&gt;\\(F_6_S_1\\)</title>\r\n<path fill=\"none\" stroke=\"black\" d=\"M1668.8,-229.504C1681.37,-232.74 1695.18,-236.292 1708.35,-239.681\"/>\r\n<polygon fill=\"black\" stroke=\"black\" points=\"1707.71,-243.131 1718.27,-242.233 1709.45,-236.352 1707.71,-243.131\"/>\r\n<text text-anchor=\"middle\" x=\"1693.5\" y=\"-241.496\" font-family=\"Times New Roman,serif\" font-size=\"14.00\">0 </text>\r\n</g>\r\n<!-- \\(F_7_S_1\\) -->\r\n<g id=\"node6\" class=\"node\"><title>\\(F_7_S_1\\)</title>\r\n<ellipse fill=\"none\" stroke=\"black\" cx=\"1179.33\" cy=\"-303.696\" rx=\"50.8918\" ry=\"50.8918\"/>\r\n<text text-anchor=\"middle\" x=\"1179.33\" y=\"-299.996\" font-family=\"Times New Roman,serif\" font-size=\"14.00\">(F_7_S_1)</text>\r\n</g>\r\n<!-- \\(F_7_S_1\\)&#45;&gt;\\(F_7_S_1\\) -->\r\n<g id=\"edge31\" class=\"edge\"><title>\\(F_7_S_1\\)&#45;&gt;\\(F_7_S_1\\)</title>\r\n<path fill=\"none\" stroke=\"black\" d=\"M1165.76,-352.786C1166.93,-364.088 1171.46,-372.391 1179.33,-372.391 1184.63,-372.391 1188.4,-368.643 1190.67,-362.756\"/>\r\n<polygon fill=\"black\" stroke=\"black\" points=\"1194.13,-363.309 1192.9,-352.786 1187.3,-361.779 1194.13,-363.309\"/>\r\n<text text-anchor=\"middle\" x=\"1179.33\" y=\"-376.191\" font-family=\"Times New Roman,serif\" font-size=\"14.00\">0 </text>\r\n</g>\r\n<!-- \\(F_8_S_2\\) -->\r\n<g id=\"node12\" class=\"node\"><title>\\(F_8_S_2\\)</title>\r\n<ellipse fill=\"none\" stroke=\"black\" cx=\"1327.72\" cy=\"-325.696\" rx=\"50.8918\" ry=\"50.8918\"/>\r\n<text text-anchor=\"middle\" x=\"1327.72\" y=\"-321.996\" font-family=\"Times New Roman,serif\" font-size=\"14.00\">(F_8_S_2)</text>\r\n</g>\r\n<!-- \\(F_7_S_1\\)&#45;&gt;\\(F_8_S_2\\) -->\r\n<g id=\"edge26\" class=\"edge\"><title>\\(F_7_S_1\\)&#45;&gt;\\(F_8_S_2\\)</title>\r\n<path fill=\"none\" stroke=\"black\" d=\"M1229.89,-311.144C1241.82,-312.936 1254.68,-314.868 1267.01,-316.722\"/>\r\n<polygon fill=\"black\" stroke=\"black\" points=\"1266.8,-320.23 1277.21,-318.255 1267.85,-313.308 1266.8,-320.23\"/>\r\n<text text-anchor=\"middle\" x=\"1253.53\" y=\"-318.496\" font-family=\"Times New Roman,serif\" font-size=\"14.00\">1 </text>\r\n</g>\r\n<!-- \\(S_4_S_1\\)&#45;&gt;\\(S_4_S_1\\) -->\r\n<g id=\"edge33\" class=\"edge\"><title>\\(S_4_S_1\\)&#45;&gt;\\(S_4_S_1\\)</title>\r\n<path fill=\"none\" stroke=\"black\" d=\"M712.591,-181.786C713.76,-193.088 718.283,-201.391 726.16,-201.391 731.453,-201.391 735.231,-197.643 737.495,-191.756\"/>\r\n<polygon fill=\"black\" stroke=\"black\" points=\"740.958,-192.309 739.73,-181.786 734.127,-190.779 740.958,-192.309\"/>\r\n<text text-anchor=\"middle\" x=\"726.16\" y=\"-205.191\" font-family=\"Times New Roman,serif\" font-size=\"14.00\">0 </text>\r\n</g>\r\n<!-- \\(S_5_S_2\\) -->\r\n<g id=\"node11\" class=\"node\"><title>\\(S_5_S_2\\)</title>\r\n<ellipse fill=\"none\" stroke=\"black\" cx=\"874.551\" cy=\"-252.696\" rx=\"50.8918\" ry=\"50.8918\"/>\r\n<text text-anchor=\"middle\" x=\"874.551\" y=\"-248.996\" font-family=\"Times New Roman,serif\" font-size=\"14.00\">(S_5_S_2)</text>\r\n</g>\r\n<!-- \\(S_4_S_1\\)&#45;&gt;\\(S_5_S_2\\) -->\r\n<g id=\"edge21\" class=\"edge\"><title>\\(S_4_S_1\\)&#45;&gt;\\(S_5_S_2\\)</title>\r\n<path fill=\"none\" stroke=\"black\" d=\"M766.006,-164.538C784.693,-179.856 807.242,-198.34 826.856,-214.418\"/>\r\n<polygon fill=\"black\" stroke=\"black\" points=\"824.826,-217.28 834.778,-220.912 829.263,-211.866 824.826,-217.28\"/>\r\n<text text-anchor=\"middle\" x=\"800.356\" y=\"-200.496\" font-family=\"Times New Roman,serif\" font-size=\"14.00\">1 </text>\r\n</g>\r\n<!-- \\(F_6_S_2\\) -->\r\n<g id=\"node8\" class=\"node\"><title>\\(F_6_S_2\\)</title>\r\n<ellipse fill=\"none\" stroke=\"black\" cx=\"1916.09\" cy=\"-254.696\" rx=\"50.8918\" ry=\"50.8918\"/>\r\n<text text-anchor=\"middle\" x=\"1916.09\" y=\"-250.996\" font-family=\"Times New Roman,serif\" font-size=\"14.00\">(F_6_S_2)</text>\r\n</g>\r\n<!-- \\(F_6_S_2\\)&#45;&gt;\\(F_6_I_0\\) -->\r\n<g id=\"edge27\" class=\"edge\"><title>\\(F_6_S_2\\)&#45;&gt;\\(F_6_I_0\\)</title>\r\n<path fill=\"none\" stroke=\"black\" d=\"M1966.09,-264.491C2038.24,-278.954 2177.29,-306.981 2295.37,-331.696 2298.33,-332.315 2301.36,-332.954 2304.42,-333.602\"/>\r\n<polygon fill=\"black\" stroke=\"black\" points=\"2303.74,-337.034 2314.25,-335.69 2305.19,-330.187 2303.74,-337.034\"/>\r\n<text text-anchor=\"middle\" x=\"2146.68\" y=\"-305.496\" font-family=\"Times New Roman,serif\" font-size=\"14.00\">1 </text>\r\n</g>\r\n<!-- \\(F_7_F_3\\) -->\r\n<g id=\"node16\" class=\"node\"><title>\\(F_7_F_3\\)</title>\r\n<ellipse fill=\"none\" stroke=\"black\" cx=\"2068.48\" cy=\"-181.696\" rx=\"50.8774\" ry=\"50.8774\"/>\r\n<ellipse fill=\"none\" stroke=\"black\" cx=\"2068.48\" cy=\"-181.696\" rx=\"54.8917\" ry=\"54.8917\"/>\r\n<text text-anchor=\"middle\" x=\"2068.48\" y=\"-177.996\" font-family=\"Times New Roman,serif\" font-size=\"14.00\">(F_7_F_3)</text>\r\n</g>\r\n<!-- \\(F_6_S_2\\)&#45;&gt;\\(F_7_F_3\\) -->\r\n<g id=\"edge22\" class=\"edge\"><title>\\(F_6_S_2\\)&#45;&gt;\\(F_7_F_3\\)</title>\r\n<path fill=\"none\" stroke=\"black\" d=\"M1962.21,-232.793C1977.18,-225.526 1994.06,-217.334 2009.84,-209.673\"/>\r\n<polygon fill=\"black\" stroke=\"black\" points=\"2011.52,-212.751 2018.98,-205.235 2008.46,-206.453 2011.52,-212.751\"/>\r\n<text text-anchor=\"middle\" x=\"1990.28\" y=\"-224.496\" font-family=\"Times New Roman,serif\" font-size=\"14.00\">0 </text>\r\n</g>\r\n<!-- \\(I_0_I_0\\)&#45;&gt;\\(I_0_I_0\\) -->\r\n<g id=\"edge13\" class=\"edge\"><title>\\(I_0_I_0\\)&#45;&gt;\\(I_0_I_0\\)</title>\r\n<path fill=\"none\" stroke=\"black\" d=\"M125.311,-177.362C126.138,-188.509 130.083,-196.841 137.146,-196.841 141.891,-196.841 145.229,-193.08 147.159,-187.231\"/>\r\n<polygon fill=\"black\" stroke=\"black\" points=\"150.608,-187.831 148.981,-177.362 143.724,-186.56 150.608,-187.831\"/>\r\n<text text-anchor=\"middle\" x=\"137.146\" y=\"-200.641\" font-family=\"Times New Roman,serif\" font-size=\"14.00\">1 </text>\r\n</g>\r\n<!-- \\(S_1_S_1\\) -->\r\n<g id=\"node10\" class=\"node\"><title>\\(S_1_S_1\\)</title>\r\n<ellipse fill=\"none\" stroke=\"black\" cx=\"280.987\" cy=\"-50.6955\" rx=\"50.8918\" ry=\"50.8918\"/>\r\n<text text-anchor=\"middle\" x=\"280.987\" y=\"-46.9955\" font-family=\"Times New Roman,serif\" font-size=\"14.00\">(S_1_S_1)</text>\r\n</g>\r\n<!-- \\(I_0_I_0\\)&#45;&gt;\\(S_1_S_1\\) -->\r\n<g id=\"edge4\" class=\"edge\"><title>\\(I_0_I_0\\)&#45;&gt;\\(S_1_S_1\\)</title>\r\n<path fill=\"none\" stroke=\"black\" d=\"M177.657,-109.854C193.149,-100.897 211.148,-90.4921 227.692,-80.9281\"/>\r\n<polygon fill=\"black\" stroke=\"black\" points=\"229.802,-83.7509 236.708,-75.7159 226.299,-77.6907 229.802,-83.7509\"/>\r\n<text text-anchor=\"middle\" x=\"206.792\" y=\"-98.4955\" font-family=\"Times New Roman,serif\" font-size=\"14.00\">0 </text>\r\n</g>\r\n<!-- \\(S_1_S_1\\)&#45;&gt;\\(S_2_S_2\\) -->\r\n<g id=\"edge25\" class=\"edge\"><title>\\(S_1_S_1\\)&#45;&gt;\\(S_2_S_2\\)</title>\r\n<path fill=\"none\" stroke=\"black\" d=\"M325.513,-75.0762C341.3,-83.9192 359.304,-94.0037 375.789,-103.238\"/>\r\n<polygon fill=\"black\" stroke=\"black\" points=\"374.332,-106.434 384.767,-108.267 377.753,-100.327 374.332,-106.434\"/>\r\n<text text-anchor=\"middle\" x=\"355.183\" y=\"-98.4955\" font-family=\"Times New Roman,serif\" font-size=\"14.00\">1 </text>\r\n</g>\r\n<!-- \\(S_1_S_1\\)&#45;&gt;\\(S_1_S_1\\) -->\r\n<g id=\"edge29\" class=\"edge\"><title>\\(S_1_S_1\\)&#45;&gt;\\(S_1_S_1\\)</title>\r\n<path fill=\"none\" stroke=\"black\" d=\"M267.418,-99.786C268.587,-111.088 273.11,-119.391 280.987,-119.391 286.28,-119.391 290.058,-115.643 292.322,-109.756\"/>\r\n<polygon fill=\"black\" stroke=\"black\" points=\"295.785,-110.309 294.557,-99.786 288.954,-108.779 295.785,-110.309\"/>\r\n<text text-anchor=\"middle\" x=\"280.987\" y=\"-123.191\" font-family=\"Times New Roman,serif\" font-size=\"14.00\">0 </text>\r\n</g>\r\n<!-- \\(S_5_S_2\\)&#45;&gt;\\(S_3_F_3\\) -->\r\n<g id=\"edge16\" class=\"edge\"><title>\\(S_5_S_2\\)&#45;&gt;\\(S_3_F_3\\)</title>\r\n<path fill=\"none\" stroke=\"black\" d=\"M823.478,-254.3C781.882,-253.709 722.172,-248.298 675.465,-225.696 653.284,-214.962 632.921,-197.216 616.663,-180.088\"/>\r\n<polygon fill=\"black\" stroke=\"black\" points=\"618.835,-177.28 609.49,-172.289 613.683,-182.018 618.835,-177.28\"/>\r\n<text text-anchor=\"middle\" x=\"726.16\" y=\"-254.496\" font-family=\"Times New Roman,serif\" font-size=\"14.00\">1 </text>\r\n</g>\r\n<!-- \\(F_6_F_3\\) -->\r\n<g id=\"node17\" class=\"node\"><title>\\(F_6_F_3\\)</title>\r\n<ellipse fill=\"none\" stroke=\"black\" cx=\"1026.94\" cy=\"-303.696\" rx=\"50.8774\" ry=\"50.8774\"/>\r\n<ellipse fill=\"none\" stroke=\"black\" cx=\"1026.94\" cy=\"-303.696\" rx=\"54.8917\" ry=\"54.8917\"/>\r\n<text text-anchor=\"middle\" x=\"1026.94\" y=\"-299.996\" font-family=\"Times New Roman,serif\" font-size=\"14.00\">(F_6_F_3)</text>\r\n</g>\r\n<!-- \\(S_5_S_2\\)&#45;&gt;\\(F_6_F_3\\) -->\r\n<g id=\"edge32\" class=\"edge\"><title>\\(S_5_S_2\\)&#45;&gt;\\(F_6_F_3\\)</title>\r\n<path fill=\"none\" stroke=\"black\" d=\"M922.723,-268.692C936.232,-273.273 951.148,-278.331 965.342,-283.145\"/>\r\n<polygon fill=\"black\" stroke=\"black\" points=\"964.433,-286.533 975.028,-286.43 966.681,-279.903 964.433,-286.533\"/>\r\n<text text-anchor=\"middle\" x=\"948.747\" y=\"-281.496\" font-family=\"Times New Roman,serif\" font-size=\"14.00\">0 </text>\r\n</g>\r\n<!-- \\(F_8_S_2\\)&#45;&gt;\\(F_6_I_0\\) -->\r\n<g id=\"edge8\" class=\"edge\"><title>\\(F_8_S_2\\)&#45;&gt;\\(F_6_I_0\\)</title>\r\n<path fill=\"none\" stroke=\"black\" d=\"M1377.63,-335.754C1405.97,-340.734 1442.41,-345.696 1475.12,-345.696 1475.12,-345.696 1475.12,-345.696 2219.27,-345.696 2246.74,-345.696 2277.21,-345.696 2302.8,-345.696\"/>\r\n<polygon fill=\"black\" stroke=\"black\" points=\"2303.08,-349.196 2313.08,-345.696 2303.08,-342.196 2303.08,-349.196\"/>\r\n<text text-anchor=\"middle\" x=\"1841.89\" y=\"-349.496\" font-family=\"Times New Roman,serif\" font-size=\"14.00\">1 </text>\r\n</g>\r\n<!-- \\(S_4_F_3\\) -->\r\n<g id=\"node15\" class=\"node\"><title>\\(S_4_F_3\\)</title>\r\n<ellipse fill=\"none\" stroke=\"black\" cx=\"1476.12\" cy=\"-215.696\" rx=\"50.8918\" ry=\"50.8918\"/>\r\n<text text-anchor=\"middle\" x=\"1476.12\" y=\"-211.996\" font-family=\"Times New Roman,serif\" font-size=\"14.00\">(S_4_F_3)</text>\r\n</g>\r\n<!-- \\(F_8_S_2\\)&#45;&gt;\\(S_4_F_3\\) -->\r\n<g id=\"edge28\" class=\"edge\"><title>\\(F_8_S_2\\)&#45;&gt;\\(S_4_F_3\\)</title>\r\n<path fill=\"none\" stroke=\"black\" d=\"M1368.73,-295.638C1386.72,-282.117 1408.11,-266.046 1426.97,-251.871\"/>\r\n<polygon fill=\"black\" stroke=\"black\" points=\"1429.27,-254.523 1435.16,-245.717 1425.06,-248.926 1429.27,-254.523\"/>\r\n<text text-anchor=\"middle\" x=\"1401.92\" y=\"-277.496\" font-family=\"Times New Roman,serif\" font-size=\"14.00\">0 </text>\r\n</g>\r\n<!-- \\(F_6_I_0\\)&#45;&gt;\\(F_7_S_1\\) -->\r\n<g id=\"edge3\" class=\"edge\"><title>\\(F_6_I_0\\)&#45;&gt;\\(F_7_S_1\\)</title>\r\n<path fill=\"none\" stroke=\"black\" d=\"M2320.89,-372.089C2293.54,-387.798 2255.67,-404.696 2219.27,-404.696 1326.72,-404.696 1326.72,-404.696 1326.72,-404.696 1284.95,-404.696 1246.45,-376.491 1219.42,-349.891\"/>\r\n<polygon fill=\"black\" stroke=\"black\" points=\"1221.62,-347.132 1212.11,-342.456 1216.63,-352.04 1221.62,-347.132\"/>\r\n<text text-anchor=\"middle\" x=\"1767.7\" y=\"-408.496\" font-family=\"Times New Roman,serif\" font-size=\"14.00\">0 </text>\r\n</g>\r\n<!-- \\(F_6_I_0\\)&#45;&gt;\\(F_6_I_0\\) -->\r\n<g id=\"edge5\" class=\"edge\"><title>\\(F_6_I_0\\)&#45;&gt;\\(F_6_I_0\\)</title>\r\n<path fill=\"none\" stroke=\"black\" d=\"M2348.54,-392.024C2349.5,-403.357 2353.81,-411.791 2361.46,-411.791 2366.61,-411.791 2370.24,-407.984 2372.36,-402.048\"/>\r\n<polygon fill=\"black\" stroke=\"black\" points=\"2375.83,-402.519 2374.38,-392.024 2368.97,-401.133 2375.83,-402.519\"/>\r\n<text text-anchor=\"middle\" x=\"2361.46\" y=\"-415.591\" font-family=\"Times New Roman,serif\" font-size=\"14.00\">1 </text>\r\n</g>\r\n<!-- \\(F_6_S_1\\)&#45;&gt;\\(F_7_S_1\\) -->\r\n<g id=\"edge18\" class=\"edge\"><title>\\(F_6_S_1\\)&#45;&gt;\\(F_7_S_1\\)</title>\r\n<path fill=\"none\" stroke=\"black\" d=\"M1718.3,-266.654C1702.95,-269.919 1685.86,-273.017 1670,-274.696 1654.83,-276.302 1446.41,-278 1425.42,-275.696 1417.27,-274.801 1415.43,-273.415 1407.42,-271.696 1394.55,-268.934 1391.51,-267.036 1378.42,-265.696 1333.59,-261.107 1321.3,-257.308 1277.03,-265.696 1263.05,-268.343 1248.51,-272.965 1235.08,-278.095\"/>\r\n<polygon fill=\"black\" stroke=\"black\" points=\"1233.52,-274.949 1225.52,-281.898 1236.11,-281.453 1233.52,-274.949\"/>\r\n<text text-anchor=\"middle\" x=\"1476.12\" y=\"-280.496\" font-family=\"Times New Roman,serif\" font-size=\"14.00\">0 </text>\r\n</g>\r\n<!-- \\(F_6_S_1\\)&#45;&gt;\\(F_6_S_2\\) -->\r\n<g id=\"edge12\" class=\"edge\"><title>\\(F_6_S_1\\)&#45;&gt;\\(F_6_S_2\\)</title>\r\n<path fill=\"none\" stroke=\"black\" d=\"M1818.67,-254.696C1830.45,-254.696 1843.12,-254.696 1855.28,-254.696\"/>\r\n<polygon fill=\"black\" stroke=\"black\" points=\"1855.34,-258.196 1865.34,-254.696 1855.34,-251.196 1855.34,-258.196\"/>\r\n<text text-anchor=\"middle\" x=\"1841.89\" y=\"-258.496\" font-family=\"Times New Roman,serif\" font-size=\"14.00\">1 </text>\r\n</g>\r\n<!-- \\(S_4_F_3\\)&#45;&gt;\\(S_5_I_0\\) -->\r\n<g id=\"edge20\" class=\"edge\"><title>\\(S_4_F_3\\)&#45;&gt;\\(S_5_I_0\\)</title>\r\n<path fill=\"none\" stroke=\"black\" d=\"M1527,-216.389C1538.67,-216.552 1551.2,-216.726 1563.18,-216.893\"/>\r\n<polygon fill=\"black\" stroke=\"black\" points=\"1563.48,-220.397 1573.53,-217.036 1563.58,-213.398 1563.48,-220.397\"/>\r\n<text text-anchor=\"middle\" x=\"1550.31\" y=\"-221.496\" font-family=\"Times New Roman,serif\" font-size=\"14.00\">1 </text>\r\n</g>\r\n<!-- \\(S_4_F_3\\)&#45;&gt;\\(S_4_S_1\\) -->\r\n<g id=\"edge24\" class=\"edge\"><title>\\(S_4_F_3\\)&#45;&gt;\\(S_4_S_1\\)</title>\r\n<path fill=\"none\" stroke=\"black\" d=\"M1438.93,-180.802C1411.11,-157.723 1370.48,-131.696 1328.72,-131.696 873.551,-131.696 873.551,-131.696 873.551,-131.696 845.168,-131.696 813.69,-131.886 787.219,-132.1\"/>\r\n<polygon fill=\"black\" stroke=\"black\" points=\"786.931,-128.603 776.961,-132.187 786.99,-135.602 786.931,-128.603\"/>\r\n<text text-anchor=\"middle\" x=\"1105.14\" y=\"-135.496\" font-family=\"Times New Roman,serif\" font-size=\"14.00\">0 </text>\r\n</g>\r\n<!-- \\(F_7_F_3\\)&#45;&gt;\\(F_8_I_0\\) -->\r\n<g id=\"edge14\" class=\"edge\"><title>\\(F_7_F_3\\)&#45;&gt;\\(F_8_I_0\\)</title>\r\n<path fill=\"none\" stroke=\"black\" d=\"M2123.25,-181.696C2135.25,-181.696 2148.01,-181.696 2160.13,-181.696\"/>\r\n<polygon fill=\"black\" stroke=\"black\" points=\"2160.13,-185.196 2170.13,-181.696 2160.13,-178.196 2160.13,-185.196\"/>\r\n<text text-anchor=\"middle\" x=\"2146.68\" y=\"-185.496\" font-family=\"Times New Roman,serif\" font-size=\"14.00\">1 </text>\r\n</g>\r\n<!-- \\(F_7_F_3\\)&#45;&gt;\\(F_7_S_1\\) -->\r\n<g id=\"edge6\" class=\"edge\"><title>\\(F_7_F_3\\)&#45;&gt;\\(F_7_S_1\\)</title>\r\n<path fill=\"none\" stroke=\"black\" d=\"M2018.45,-159.196C1989.57,-147.946 1951.97,-136.696 1917.09,-136.696 1549.31,-136.696 1549.31,-136.696 1549.31,-136.696 1493.6,-136.696 1477.79,-136.713 1425.42,-155.696 1351.58,-182.459 1275.52,-232.569 1228.11,-267.008\"/>\r\n<polygon fill=\"black\" stroke=\"black\" points=\"1225.89,-264.3 1219.89,-273.034 1230.02,-269.946 1225.89,-264.3\"/>\r\n<text text-anchor=\"middle\" x=\"1621.91\" y=\"-140.496\" font-family=\"Times New Roman,serif\" font-size=\"14.00\">0 </text>\r\n</g>\r\n<!-- \\(F_6_F_3\\)&#45;&gt;\\(F_7_S_1\\) -->\r\n<g id=\"edge2\" class=\"edge\"><title>\\(F_6_F_3\\)&#45;&gt;\\(F_7_S_1\\)</title>\r\n<path fill=\"none\" stroke=\"black\" d=\"M1081.81,-303.696C1093.55,-303.696 1106.04,-303.696 1118,-303.696\"/>\r\n<polygon fill=\"black\" stroke=\"black\" points=\"1118.35,-307.196 1128.35,-303.696 1118.35,-300.196 1118.35,-307.196\"/>\r\n<text text-anchor=\"middle\" x=\"1105.14\" y=\"-307.496\" font-family=\"Times New Roman,serif\" font-size=\"14.00\">0 </text>\r\n</g>\r\n<!-- \\(F_6_F_3\\)&#45;&gt;\\(F_6_I_0\\) -->\r\n<g id=\"edge17\" class=\"edge\"><title>\\(F_6_F_3\\)&#45;&gt;\\(F_6_I_0\\)</title>\r\n<path fill=\"none\" stroke=\"black\" d=\"M1052.8,-352.046C1078.15,-393.88 1121.76,-447.696 1178.33,-447.696 1178.33,-447.696 1178.33,-447.696 2219.27,-447.696 2260.87,-447.696 2298.53,-418.241 2324.48,-390.989\"/>\r\n<polygon fill=\"black\" stroke=\"black\" points=\"2327.28,-393.114 2331.48,-383.387 2322.13,-388.372 2327.28,-393.114\"/>\r\n<text text-anchor=\"middle\" x=\"1693.5\" y=\"-451.496\" font-family=\"Times New Roman,serif\" font-size=\"14.00\">1 </text>\r\n</g>\r\n</g>\r\n</svg>\r\n"
     },
     "metadata": {},
     "execution_count": 9
    }
   ],
   "source": [
    "min_Even010_Ends010 = min_dfa(Even010_Ends010)\n",
    "dotObj_dfa(min_Even010_Ends010)"
   ]
  },
  {
   "cell_type": "markdown",
   "metadata": {},
   "source": [
    "# Problem-4 graded by LT\n",
    "\n",
    "<font size=\"4\">    \n",
    "    \n",
    "4.  Find out which states were eliminated in the Minimization Process. Explain why it was OK to leave these states out. Test the constructed machine using the template given to you. Finally use the Python \"filter\" function that filters out the accepted strings.\n",
    "    \n",
    "</font>"
   ]
  },
  {
   "cell_type": "markdown",
   "metadata": {},
   "source": [
    "## Find out which states were eliminated"
   ]
  },
  {
   "cell_type": "code",
   "execution_count": 11,
   "metadata": {
    "tags": []
   },
   "outputs": [
    {
     "output_type": "stream",
     "name": "stdout",
     "text": "('S_3', 'I_0')\n"
    }
   ],
   "source": [
    "# Hint: You can obtain the components of a DFA D by using the notation D[\"Q\"] where\n",
    "# D is a DFA created using the md2mc command. Basically, \"D\" is a dictionary and \n",
    "# D[\"Q\"] obtains the value of the key at \"Q\". See the lecture slides for Lec-3.\n",
    "\n",
    "for state in Even010_Ends010[\"Q\"]:\n",
    "    if state not in min_Even010_Ends010[\"Q\"]:\n",
    "        print(state)"
   ]
  },
  {
   "cell_type": "markdown",
   "metadata": {},
   "source": [
    "## Explain why it is OK to leave these states out\n",
    "\n",
    "A template to guide your answer is below."
   ]
  },
  {
   "cell_type": "markdown",
   "metadata": {},
   "source": [
    "\n",
    "**State `S_3_I_0` can be excluded because it is a redundent check for a string of '1's before the start of a pattern, that could be removed and any paths that would have gone to it redirect back to their paths sourse.**\n",
    "\n",
    "<!-- \n",
    "... Your explanations here - a template of your answer is as follows ...\n",
    "    \n",
    "**This template tries to limit the number of cases you have to list**\n",
    " \n",
    " \n",
    " * I find that state SOMESTATE1 is present in DFA1 but SOMESTATE1 is absent in DFA2 \n",
    " \n",
    " \n",
    "   - I can obtain this info by doing DFA1[\"Q\"] - DFA2[\"Q\"]\n",
    "   - I can also eye-ball the diagrams and spot the missing state\n",
    "   - But I recall that in the diagram, a state may show up P_Q while in the DFA1[\"Q\"] - DFA2[\"Q\"] printout, it may show up as ('P','Q')\n",
    " \n",
    " \n",
    " \n",
    " * If there are multiple *SOMESTATE1* that are missing in DFA2, please pick the one that involves state letter 'I'  and call that the *SOMESTATE1* for the remaining questions BELOW\n",
    " \n",
    " \n",
    " **IMPORTANT CHANGE:** __Due to some non-reproducibility lurking in Jove, some people may not get a state containing \"I\". In that case, pick any one state that is missing, and answer the remaining questions.__\n",
    " \n",
    " * But I find that THIS STRING (pick the shortest string in numeric order) that reached SOMESTATE1 in DFA1 is now reaching state SOMESTATE2 in DFA2\n",
    " \n",
    " * Thus I conclude that state SOMESTATE1 and SOMESTATE2 are equivalent\n",
    " \n",
    " * This is further confirmed by the fact that (**here I am limiting your checks to 3 cases**)\n",
    "   - upon 0, SOMESTATE1 goes to THIS STATE while SOMESTATE2 goes to THIS STATE and they are  BOTH ACCEPTING / BOTH NON-ACCEPTING (pick on)\n",
    "   - upon 1, SOMESTATE1 goes to THIS STATE while SOMESTATE2 goes to THIS STATE and they are  BOTH ACCEPTING / BOTH NON-ACCEPTING (pick on)\n",
    "   upon 01, SOMESTATE1 goes to THIS STATE while SOMESTATE2 goes to THIS STATE and they are  BOTH ACCEPTING / BOTH NON-ACCEPTING (pick on)\n",
    " \n",
    " -->\n",
    "\n",
    " \n"
   ]
  },
  {
   "cell_type": "markdown",
   "metadata": {},
   "source": [
    "# Testing the machine"
   ]
  },
  {
   "cell_type": "code",
   "execution_count": 12,
   "metadata": {
    "tags": []
   },
   "outputs": [
    {
     "output_type": "stream",
     "name": "stdout",
     "text": "Help on function nthnumeric in module jove.LangDef:\n\nnthnumeric(N, S=['a', 'b'])\n    Assume S ('Sigma') is a 2-sized list of chars (default ['a','b']). \n    Produce the Nth string in numeric order, where N >= 0.\n    Idea : Given N, get b = floor(log_2(N+1)) - need that \n    many places; what to fill in the places is the binary \n    code for N - (2^b - 1) with 0 as S[0] and 1 as S[1].\n\n"
    }
   ],
   "source": [
    "help(nthnumeric)"
   ]
  },
  {
   "cell_type": "markdown",
   "metadata": {},
   "source": [
    "## Test the constructed machine the \"direct\" way"
   ]
  },
  {
   "cell_type": "code",
   "execution_count": 13,
   "metadata": {},
   "outputs": [],
   "source": [
    "TestList = [ nthnumeric(i, ['0','1']) for i in range(256) ]"
   ]
  },
  {
   "cell_type": "code",
   "execution_count": 15,
   "metadata": {
    "tags": []
   },
   "outputs": [
    {
     "output_type": "stream",
     "name": "stdout",
     "text": "Help on function accepts_dfa in module jove.Def_DFA:\n\naccepts_dfa(D, s)\n    In : D (consistent DFA)\n         s (string over D's sigma, including \"\")\n    Out: Boolean (if state after s-run is in D's final).\n\n"
    }
   ],
   "source": [
    "help(accepts_dfa)"
   ]
  },
  {
   "cell_type": "code",
   "execution_count": 16,
   "metadata": {
    "tags": []
   },
   "outputs": [
    {
     "output_type": "stream",
     "name": "stdout",
     "text": "min_Even010_Ends010 : does not accept  \n min_Even010_Ends010 : does not accept  0\n min_Even010_Ends010 : does not accept  1\n min_Even010_Ends010 : does not accept  00\n min_Even010_Ends010 : does not accept  01\n min_Even010_Ends010 : does not accept  10\n min_Even010_Ends010 : does not accept  11\n min_Even010_Ends010 : does not accept  000\n min_Even010_Ends010 : does not accept  001\n min_Even010_Ends010 : does not accept  010\n min_Even010_Ends010 : does not accept  011\n min_Even010_Ends010 : does not accept  100\n min_Even010_Ends010 : does not accept  101\n min_Even010_Ends010 : does not accept  110\n min_Even010_Ends010 : does not accept  111\n min_Even010_Ends010 : does not accept  0000\n min_Even010_Ends010 : does not accept  0001\n min_Even010_Ends010 : does not accept  0010\n min_Even010_Ends010 : does not accept  0011\n min_Even010_Ends010 : does not accept  0100\n min_Even010_Ends010 : does not accept  0101\n min_Even010_Ends010 : does not accept  0110\n min_Even010_Ends010 : does not accept  0111\n min_Even010_Ends010 : does not accept  1000\n min_Even010_Ends010 : does not accept  1001\n min_Even010_Ends010 : does not accept  1010\n min_Even010_Ends010 : does not accept  1011\n min_Even010_Ends010 : does not accept  1100\n min_Even010_Ends010 : does not accept  1101\n min_Even010_Ends010 : does not accept  1110\n min_Even010_Ends010 : does not accept  1111\n min_Even010_Ends010 : does not accept  00000\n min_Even010_Ends010 : does not accept  00001\n min_Even010_Ends010 : does not accept  00010\n min_Even010_Ends010 : does not accept  00011\n min_Even010_Ends010 : does not accept  00100\n min_Even010_Ends010 : does not accept  00101\n min_Even010_Ends010 : does not accept  00110\n min_Even010_Ends010 : does not accept  00111\n min_Even010_Ends010 : does not accept  01000\n min_Even010_Ends010 : does not accept  01001\n min_Even010_Ends010 : does not accept  01010\n min_Even010_Ends010 : does not accept  01011\n min_Even010_Ends010 : does not accept  01100\n min_Even010_Ends010 : does not accept  01101\n min_Even010_Ends010 : does not accept  01110\n min_Even010_Ends010 : does not accept  01111\n min_Even010_Ends010 : does not accept  10000\n min_Even010_Ends010 : does not accept  10001\n min_Even010_Ends010 : does not accept  10010\n min_Even010_Ends010 : does not accept  10011\n min_Even010_Ends010 : does not accept  10100\n min_Even010_Ends010 : does not accept  10101\n min_Even010_Ends010 : does not accept  10110\n min_Even010_Ends010 : does not accept  10111\n min_Even010_Ends010 : does not accept  11000\n min_Even010_Ends010 : does not accept  11001\n min_Even010_Ends010 : does not accept  11010\n min_Even010_Ends010 : does not accept  11011\n min_Even010_Ends010 : does not accept  11100\n min_Even010_Ends010 : does not accept  11101\n min_Even010_Ends010 : does not accept  11110\n min_Even010_Ends010 : does not accept  11111\n min_Even010_Ends010 : does not accept  000000\n min_Even010_Ends010 : does not accept  000001\n min_Even010_Ends010 : does not accept  000010\n min_Even010_Ends010 : does not accept  000011\n min_Even010_Ends010 : does not accept  000100\n min_Even010_Ends010 : does not accept  000101\n min_Even010_Ends010 : does not accept  000110\n min_Even010_Ends010 : does not accept  000111\n min_Even010_Ends010 : does not accept  001000\n min_Even010_Ends010 : does not accept  001001\n min_Even010_Ends010 : does not accept  001010\n min_Even010_Ends010 : does not accept  001011\n min_Even010_Ends010 : does not accept  001100\n min_Even010_Ends010 : does not accept  001101\n min_Even010_Ends010 : does not accept  001110\n min_Even010_Ends010 : does not accept  001111\n min_Even010_Ends010 : does not accept  010000\n min_Even010_Ends010 : does not accept  010001\n min_Even010_Ends010 : accepts  010010\n min_Even010_Ends010 : does not accept  010011\n min_Even010_Ends010 : does not accept  010100\n min_Even010_Ends010 : does not accept  010101\n min_Even010_Ends010 : does not accept  010110\n min_Even010_Ends010 : does not accept  010111\n min_Even010_Ends010 : does not accept  011000\n min_Even010_Ends010 : does not accept  011001\n min_Even010_Ends010 : does not accept  011010\n min_Even010_Ends010 : does not accept  011011\n min_Even010_Ends010 : does not accept  011100\n min_Even010_Ends010 : does not accept  011101\n min_Even010_Ends010 : does not accept  011110\n min_Even010_Ends010 : does not accept  011111\n min_Even010_Ends010 : does not accept  100000\n min_Even010_Ends010 : does not accept  100001\n min_Even010_Ends010 : does not accept  100010\n min_Even010_Ends010 : does not accept  100011\n min_Even010_Ends010 : does not accept  100100\n min_Even010_Ends010 : does not accept  100101\n min_Even010_Ends010 : does not accept  100110\n min_Even010_Ends010 : does not accept  100111\n min_Even010_Ends010 : does not accept  101000\n min_Even010_Ends010 : does not accept  101001\n min_Even010_Ends010 : does not accept  101010\n min_Even010_Ends010 : does not accept  101011\n min_Even010_Ends010 : does not accept  101100\n min_Even010_Ends010 : does not accept  101101\n min_Even010_Ends010 : does not accept  101110\n min_Even010_Ends010 : does not accept  101111\n min_Even010_Ends010 : does not accept  110000\n min_Even010_Ends010 : does not accept  110001\n min_Even010_Ends010 : does not accept  110010\n min_Even010_Ends010 : does not accept  110011\n min_Even010_Ends010 : does not accept  110100\n min_Even010_Ends010 : does not accept  110101\n min_Even010_Ends010 : does not accept  110110\n min_Even010_Ends010 : does not accept  110111\n min_Even010_Ends010 : does not accept  111000\n min_Even010_Ends010 : does not accept  111001\n min_Even010_Ends010 : does not accept  111010\n min_Even010_Ends010 : does not accept  111011\n min_Even010_Ends010 : does not accept  111100\n min_Even010_Ends010 : does not accept  111101\n min_Even010_Ends010 : does not accept  111110\n min_Even010_Ends010 : does not accept  111111\n min_Even010_Ends010 : does not accept  0000000\n min_Even010_Ends010 : does not accept  0000001\n min_Even010_Ends010 : does not accept  0000010\n min_Even010_Ends010 : does not accept  0000011\n min_Even010_Ends010 : does not accept  0000100\n min_Even010_Ends010 : does not accept  0000101\n min_Even010_Ends010 : does not accept  0000110\n min_Even010_Ends010 : does not accept  0000111\n min_Even010_Ends010 : does not accept  0001000\n min_Even010_Ends010 : does not accept  0001001\n min_Even010_Ends010 : does not accept  0001010\n min_Even010_Ends010 : does not accept  0001011\n min_Even010_Ends010 : does not accept  0001100\n min_Even010_Ends010 : does not accept  0001101\n min_Even010_Ends010 : does not accept  0001110\n min_Even010_Ends010 : does not accept  0001111\n min_Even010_Ends010 : does not accept  0010000\n min_Even010_Ends010 : does not accept  0010001\n min_Even010_Ends010 : accepts  0010010\n min_Even010_Ends010 : does not accept  0010011\n min_Even010_Ends010 : does not accept  0010100\n min_Even010_Ends010 : does not accept  0010101\n min_Even010_Ends010 : does not accept  0010110\n min_Even010_Ends010 : does not accept  0010111\n min_Even010_Ends010 : does not accept  0011000\n min_Even010_Ends010 : does not accept  0011001\n min_Even010_Ends010 : does not accept  0011010\n min_Even010_Ends010 : does not accept  0011011\n min_Even010_Ends010 : does not accept  0011100\n min_Even010_Ends010 : does not accept  0011101\n min_Even010_Ends010 : does not accept  0011110\n min_Even010_Ends010 : does not accept  0011111\n min_Even010_Ends010 : does not accept  0100000\n min_Even010_Ends010 : does not accept  0100001\n min_Even010_Ends010 : accepts  0100010\n min_Even010_Ends010 : does not accept  0100011\n min_Even010_Ends010 : does not accept  0100100\n min_Even010_Ends010 : does not accept  0100101\n min_Even010_Ends010 : does not accept  0100110\n min_Even010_Ends010 : does not accept  0100111\n min_Even010_Ends010 : does not accept  0101000\n min_Even010_Ends010 : does not accept  0101001\n min_Even010_Ends010 : accepts  0101010\n min_Even010_Ends010 : does not accept  0101011\n min_Even010_Ends010 : does not accept  0101100\n min_Even010_Ends010 : does not accept  0101101\n min_Even010_Ends010 : does not accept  0101110\n min_Even010_Ends010 : does not accept  0101111\n min_Even010_Ends010 : does not accept  0110000\n min_Even010_Ends010 : does not accept  0110001\n min_Even010_Ends010 : does not accept  0110010\n min_Even010_Ends010 : does not accept  0110011\n min_Even010_Ends010 : does not accept  0110100\n min_Even010_Ends010 : does not accept  0110101\n min_Even010_Ends010 : does not accept  0110110\n min_Even010_Ends010 : does not accept  0110111\n min_Even010_Ends010 : does not accept  0111000\n min_Even010_Ends010 : does not accept  0111001\n min_Even010_Ends010 : does not accept  0111010\n min_Even010_Ends010 : does not accept  0111011\n min_Even010_Ends010 : does not accept  0111100\n min_Even010_Ends010 : does not accept  0111101\n min_Even010_Ends010 : does not accept  0111110\n min_Even010_Ends010 : does not accept  0111111\n min_Even010_Ends010 : does not accept  1000000\n min_Even010_Ends010 : does not accept  1000001\n min_Even010_Ends010 : does not accept  1000010\n min_Even010_Ends010 : does not accept  1000011\n min_Even010_Ends010 : does not accept  1000100\n min_Even010_Ends010 : does not accept  1000101\n min_Even010_Ends010 : does not accept  1000110\n min_Even010_Ends010 : does not accept  1000111\n min_Even010_Ends010 : does not accept  1001000\n min_Even010_Ends010 : does not accept  1001001\n min_Even010_Ends010 : does not accept  1001010\n min_Even010_Ends010 : does not accept  1001011\n min_Even010_Ends010 : does not accept  1001100\n min_Even010_Ends010 : does not accept  1001101\n min_Even010_Ends010 : does not accept  1001110\n min_Even010_Ends010 : does not accept  1001111\n min_Even010_Ends010 : does not accept  1010000\n min_Even010_Ends010 : does not accept  1010001\n min_Even010_Ends010 : accepts  1010010\n min_Even010_Ends010 : does not accept  1010011\n min_Even010_Ends010 : does not accept  1010100\n min_Even010_Ends010 : does not accept  1010101\n min_Even010_Ends010 : does not accept  1010110\n min_Even010_Ends010 : does not accept  1010111\n min_Even010_Ends010 : does not accept  1011000\n min_Even010_Ends010 : does not accept  1011001\n min_Even010_Ends010 : does not accept  1011010\n min_Even010_Ends010 : does not accept  1011011\n min_Even010_Ends010 : does not accept  1011100\n min_Even010_Ends010 : does not accept  1011101\n min_Even010_Ends010 : does not accept  1011110\n min_Even010_Ends010 : does not accept  1011111\n min_Even010_Ends010 : does not accept  1100000\n min_Even010_Ends010 : does not accept  1100001\n min_Even010_Ends010 : does not accept  1100010\n min_Even010_Ends010 : does not accept  1100011\n min_Even010_Ends010 : does not accept  1100100\n min_Even010_Ends010 : does not accept  1100101\n min_Even010_Ends010 : does not accept  1100110\n min_Even010_Ends010 : does not accept  1100111\n min_Even010_Ends010 : does not accept  1101000\n min_Even010_Ends010 : does not accept  1101001\n min_Even010_Ends010 : does not accept  1101010\n min_Even010_Ends010 : does not accept  1101011\n min_Even010_Ends010 : does not accept  1101100\n min_Even010_Ends010 : does not accept  1101101\n min_Even010_Ends010 : does not accept  1101110\n min_Even010_Ends010 : does not accept  1101111\n min_Even010_Ends010 : does not accept  1110000\n min_Even010_Ends010 : does not accept  1110001\n min_Even010_Ends010 : does not accept  1110010\n min_Even010_Ends010 : does not accept  1110011\n min_Even010_Ends010 : does not accept  1110100\n min_Even010_Ends010 : does not accept  1110101\n min_Even010_Ends010 : does not accept  1110110\n min_Even010_Ends010 : does not accept  1110111\n min_Even010_Ends010 : does not accept  1111000\n min_Even010_Ends010 : does not accept  1111001\n min_Even010_Ends010 : does not accept  1111010\n min_Even010_Ends010 : does not accept  1111011\n min_Even010_Ends010 : does not accept  1111100\n min_Even010_Ends010 : does not accept  1111101\n min_Even010_Ends010 : does not accept  1111110\n min_Even010_Ends010 : does not accept  1111111\n min_Even010_Ends010 : does not accept  00000000\n"
    }
   ],
   "source": [
    "for test in TestList:\n",
    "    if accepts_dfa(min_Even010_Ends010, test):\n",
    "        print(\" min_Even010_Ends010 : accepts \", test)\n",
    "    else:\n",
    "        print(\" min_Even010_Ends010 : does not accept \", test)"
   ]
  },
  {
   "cell_type": "markdown",
   "metadata": {},
   "source": [
    "## Use Python's \"filter\" function to filter out the accepted strings directly"
   ]
  },
  {
   "cell_type": "code",
   "execution_count": 17,
   "metadata": {
    "scrolled": true
   },
   "outputs": [
    {
     "output_type": "execute_result",
     "data": {
      "text/plain": "['010010', '0010010', '0100010', '0101010', '1010010']"
     },
     "metadata": {},
     "execution_count": 17
    }
   ],
   "source": [
    "list(filter(lambda x: accepts_dfa(min_Even010_Ends010, x), TestList))"
   ]
  },
  {
   "cell_type": "markdown",
   "metadata": {},
   "source": [
    "## Doubled the testing range; now finding at least ten strings !!"
   ]
  },
  {
   "cell_type": "code",
   "execution_count": 20,
   "metadata": {
    "tags": []
   },
   "outputs": [
    {
     "output_type": "stream",
     "name": "stdout",
     "text": "Accepted Strings:\n  ['010010', '0010010', '0100010', '0101010', '1010010', '00010010', '00100010', '00101010', '01000010', '01010010', '01011010', '10010010', '10100010', '10101010', '11010010']\nNumber of Accepted Strings:  15\n"
    }
   ],
   "source": [
    "TestList2 = [ nthnumeric(i, ['0','1']) for i in range(512) ]\n",
    "accepted = list(filter(lambda x: accepts_dfa(min_Even010_Ends010, x), TestList2))\n",
    "print(f\"Accepted Strings:\\n  {accepted}\\nNumber of Accepted Strings:  {len(accepted)}\")"
   ]
  },
  {
   "cell_type": "markdown",
   "metadata": {},
   "source": [
    "# END"
   ]
  }
 ],
 "metadata": {
  "kernelspec": {
   "display_name": "Python 3",
   "language": "python",
   "name": "python3"
  },
  "language_info": {
   "codemirror_mode": {
    "name": "ipython",
    "version": 3
   },
   "file_extension": ".py",
   "mimetype": "text/x-python",
   "name": "python",
   "nbconvert_exporter": "python",
   "pygments_lexer": "ipython3",
   "version": "3.8.3-final"
  }
 },
 "nbformat": 4,
 "nbformat_minor": 2
}