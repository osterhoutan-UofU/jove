{
 "cells": [
  {
   "cell_type": "markdown",
   "metadata": {},
   "source": [
    "# First let's import, then look for the assignment below"
   ]
  },
  {
   "cell_type": "code",
   "execution_count": 1,
   "metadata": {
    "tags": []
   },
   "outputs": [
    {
     "output_type": "stream",
     "name": "stdout",
     "text": "You may use any of these help commands:\nhelp(lphi)\nhelp(lunit)\nhelp(lcat)\nhelp(lexp)\nhelp(lunion)\nhelp(lstar)\nhelp(srev)\nhelp(lrev)\nhelp(shomo)\nhelp(lhomo)\nhelp(powset)\nhelp(lint)\nhelp(lsymdiff)\nhelp(lminus)\nhelp(lissubset)\nhelp(lissuperset)\nhelp(lcomplem)\nhelp(product)\nhelp(nthnumeric)\n\n"
    }
   ],
   "source": [
    "#~~~~~~~~~~~~~~~~~~~~~~~~~~~~~~~~~~~~~~~~~~~~~~~~~~~~~~~\n",
    "import sys\n",
    "\n",
    "# -- Detect if in Own Install or in Colab\n",
    "try:\n",
    "    import google.colab\n",
    "    OWN_INSTALL = False\n",
    "except:\n",
    "    OWN_INSTALL = True\n",
    "    \n",
    "if OWN_INSTALL:\n",
    "    \n",
    "  #---- Leave these definitions ON if running on laptop\n",
    "  #---- Else turn OFF by putting them between ''' ... '''\n",
    "\n",
    "  sys.path[0:0] = ['../../../../..',  '../../../../../3rdparty',  \n",
    "                   '../../../..',  '../../../../3rdparty',  \n",
    "                   '../../..',     '../../../3rdparty', \n",
    "                   '../..',        '../../3rdparty',\n",
    "                   '..',           '../3rdparty' ]\n",
    "\n",
    "else: # In colab\n",
    "  ! if [ ! -d Jove ]; then git clone https://github.com/ganeshutah/Jove Jove; fi\n",
    "  sys.path.append('./Jove')\n",
    "  sys.path.append('./Jove/jove')\n",
    "\n",
    "# -- common imports --\n",
    "from jove.LangDef   import *\n",
    "#~~~~~~~~~~~~~~~~~~~~~~~~~~~~~~~~~~~~~~~~~~~~~~~~~~~~~~~"
   ]
  },
  {
   "cell_type": "markdown",
   "metadata": {},
   "source": [
    "# Assignment-2 Problem-1a on Complement of a Language\n",
    "\n",
    "## Graded by Xinyi (Nicole) Li (XL)\n",
    "\n",
    "### BEFORE YOU SUBMIT THIS FILE, PLEASE RENAME THIS FILE BY REPLACING THE 0000000 IN THE FILE NAME WITH YOUR CORRECT UNID. KEEP THE \"u\" AT THE BEGINNING.\n",
    "\n",
    "\n",
    " <font size=\"4\"> \n",
    "\n",
    "This problem is based on Problem 7, Page 26 of our textbook.\n",
    "    \n",
    "A language called $L_6$ is defined as follows:\n",
    "    \n",
    "$$ L_6 = \\{ 0^i 1^j \\;:\\; i==j \\}$$  \n",
    "    \n",
    "The problem challenges you to consider a language $L_8$ \n",
    "    \n",
    "$$ L_8 = \\{ 0^i 1^j \\;:\\; i \\neq j \\}$$\n",
    "\n",
    "The problem asks you whether $L_8$ is the complement of $L_6$\n",
    "\n",
    "\n",
    "For this assignment, follow the simplified wording below.\n",
    "    \n",
    "Tasks for you:\n",
    "    \n",
    "1. Given $\\Sigma$, define $L_6$ in Jove for $\\Sigma=\\{0,1\\}$ and the universe being $\\Sigma_3^{*}$.  \n",
    "    \n",
    "</font>"
   ]
  },
  {
   "cell_type": "code",
   "execution_count": 4,
   "metadata": {},
   "outputs": [
    {
     "output_type": "execute_result",
     "data": {
      "text/plain": "{'', '000111', '0011', '01'}"
     },
     "metadata": {},
     "execution_count": 4
    }
   ],
   "source": [
    "Sigma = {'0','1'}\n",
    "\n",
    "L6 = { '0'*i + '1'*j for i in range(4) for j in range(4) if i==j }\n",
    "L6"
   ]
  },
  {
   "cell_type": "markdown",
   "metadata": {},
   "source": [
    "2. In the same manner, define $L_8$ below."
   ]
  },
  {
   "cell_type": "code",
   "execution_count": 3,
   "metadata": {},
   "outputs": [
    {
     "output_type": "execute_result",
     "data": {
      "text/plain": "{'0', '00', '001', '011', '1', '11'}"
     },
     "metadata": {},
     "execution_count": 3
    }
   ],
   "source": [
    "L8 = { '0'*i + '1'*j for i in range(4) for j in range(4) if i!=j }\n",
    "L8"
   ]
  },
  {
   "cell_type": "markdown",
   "metadata": {},
   "source": [
    "3. We know that if indeed $L_8$ is $L_6$'s complement, then $L_6 \\cup L_8$ must equal $\\Sigma_3^{*}$. Write Python-3 code that calls the suitable set of Jove functions to check whether this is true. The list of Jove functions you can call were printed in the \"help(fnname)\" lines when you loaded this file."
   ]
  },
  {
   "cell_type": "code",
   "execution_count": 10,
   "metadata": {
    "tags": []
   },
   "outputs": [
    {
     "output_type": "stream",
     "name": "stdout",
     "text": "L6 U L8: {'', '000111', '1', '001', '00', '11', '0011', '011', '01', '0'}\nSigma*3: {'10', '', '101', '1', '010', '001', '00', '11', '000', '0', '011', '01', '100', '110', '111'}\n\nL6 & L8 are NOT Complementary Languages!\n"
    }
   ],
   "source": [
    "L6_union_L8 = lunion(L6, L8)\n",
    "print(f\"L6 U L8: {L6_union_L8}\")\n",
    "\n",
    "Sigma_Star3 = lstar(Sigma, 3)\n",
    "print(f\"Sigma*3: {Sigma_Star3}\")\n",
    "\n",
    "print(f\"\\nL6 & L8 {'ARE' if L6_union_L8==Sigma_Star3 else 'are NOT'} Complementary Languages!\")"
   ]
  },
  {
   "cell_type": "markdown",
   "metadata": {},
   "source": [
    "<font size=\"4\">\n",
    "\n",
    "4. If the above identity is not true, we are interested in finding out which strings are missed (strings in $\\Sigma_3^*$ that are not present in $L_6\\cup L_8$). (This is similar to what Question 7(d) of Page 26 is asking you.) Compute the strings missed and print them out. A template for your answers is given below. Fill that template in your solution. Define LangMissed as the set of all strings missed. Then print that.\n",
    "    \n",
    "</font>    "
   ]
  },
  {
   "cell_type": "code",
   "execution_count": 11,
   "metadata": {
    "tags": []
   },
   "outputs": [
    {
     "output_type": "stream",
     "name": "stdout",
     "text": "The strings missed are:  {'10', '101', '010', '000', '100', '110', '111'}\n"
    }
   ],
   "source": [
    "# \"YOUR PYTHON-3 CODE CALLING JOVE FUNCTIONS HERE. \"\n",
    "\n",
    "LangMissed = Sigma_Star3.difference(L6_union_L8)\n",
    "\n",
    "print(\"The strings missed are: \", LangMissed)"
   ]
  },
  {
   "cell_type": "markdown",
   "metadata": {},
   "source": [
    "<font size=\"4\">\n",
    "\n",
    "5. Below, write a fully mathematical expression that defines a language which captures **ALL** those strings missed. Use the Jupyter markdown syntax. Your clue will come from the strings missed. You have to fold all those examples into a single language expression that is fully general -- that is, it **works in general for the fully general $L_6$ defined on Page 25 of the book. That is, the $i$ and $j$ are **ANY INTEGERS** -- not just integers in range(4).\n",
    "    \n",
    "**PLEASE NOTE**: It Is better that you build this single language expression using union, concatenation, and star. Those are allowed to be used in any language expression. A single language expression does not mean a single set comprehension. You can assemble set comprehensions using union, concatenation, and star to form a larger language. Not all are typically needed, though.\n",
    "    \n",
    "</font> "
   ]
  },
  {
   "cell_type": "markdown",
   "metadata": {},
   "source": [
    "<!-- ## The General Form is: $$\\lnot(L_6 \\cup L_8) = \\left\\{ w \\;:\\; w\\in\\Sigma^{*} \\land w\\notin (L_6\\cap L_8) \\right\\}$$\n",
    "### $$\\text{If }\\: L_{01} = \\{ 0^i1^j \\;:\\; 0\\leq i\\leq j  \\}  \\;\\land\\; L_ $$ -->\n",
    "\n",
    "\n",
    "### Hint: You will have to think of a general pattern such as ...1...0... that is being missed. \n",
    "\n",
    "### Here, the \"...\" are arbitrary strings.\n",
    "\n",
    "### Form a language keeping this idea in mind."
   ]
  },
  {
   "cell_type": "markdown",
   "metadata": {},
   "source": [
    "---------------------"
   ]
  },
  {
   "cell_type": "markdown",
   "metadata": {},
   "source": [
    "## The fully general expression for the language missed is below.\n",
    "\n",
    "### You may use $\\Sigma$ in your definition, knowing that $\\Sigma = \\{0,1\\}$\n",
    "\n",
    "## $$\\lnot(L_6 \\cup L_8) = \\left\\{ w \\;:\\; w\\in\\Sigma^{*} \\land w\\notin (L_6\\cup L_8) \\right\\}$$"
   ]
  },
  {
   "cell_type": "markdown",
   "metadata": {},
   "source": [
    "# Assignment-2 Problem-1b on Concat versus Cartesian Product\n",
    "\n",
    "## Graded by Xinyi (Nicole) Li (XL)\n",
    "\n",
    "\n",
    "\n",
    "\n",
    " <font size=\"4\"> \n",
    "\n",
    " This is a small addendum to the question of concatenation versus cartesian product that you experimented with, in Assignment-1. I truly believed initially that for the cardinality of $L_1  L_2$ to be less than \n",
    " $L_1 \\times L_2$, the condition that $L_1 \\cap L_2$ is of size at least 2 and contains $\\varepsilon$ must be true.\n",
    " \n",
    " It turns out that that is not necessary! There is a more general condition lurking there.\n",
    " \n",
    " We know why the size of $L_1 \\; L_2$ shrinks: there are two ways to generate the same string, but expressed as two different concatenations, in the final set. \n",
    " \n",
    " Below, can you please state the condition in one clear sentence or two for a small number of points? You can discuss privately with the TAs or instructor on Piazza to finish this, after you try a little.\n",
    " \n",
    "</font>"
   ]
  },
  {
   "cell_type": "markdown",
   "metadata": {},
   "source": [
    "## Your answer in markdown below.\n",
    "\n",
    "The condition is just when the concatination of two string in a language are the same as the concatination of another two string from the languages \n",
    "  (one \"word\" per language,\n",
    "  since a Language set cannot contain any duplicates.\n",
    "This process can be a chain reaction as well, with the concatinations of the words in the 2 language almost always being the same as a string in another language.\n",
    "To have this happen at least one of the languages must contain $\\epsilon$ \n",
    "  and the other language must contain a string that is the same as some string that would be produced in the concatination of the two languages.\n",
    "\n",
    "<!-- ### Example:\n",
    "$$\n",
    "\\begin{align}\n",
    "  L_1 &= \\{ \\epsilon,\\, 0,\\, 010,\\, 0101,\\, ... \\} \\\\\n",
    "  L_2 &= \\{ 1,\\, 01,\\, 001,\\, 01011,\\, ... \\}\n",
    "\\end{align}\n",
    "$$\n",
    " -->\n",
    "\n",
    "### General Form:\n",
    "$$\\text{If }\\;\\; (w\\in L_1,L_1L_2 \\,\\land\\, \\epsilon\\in L_2) \\:\\lor\\: (w\\in L_2,L_1L_2 \\,\\land\\, \\epsilon\\in L_1) \\;\\;\\Longrightarrow\\;\\; |L_1L_2| < |L_1\\times L_2|$$\n",
    "\n",
    "_**\\*\\*Please Note:** The part of the statement that says $\\epsilon\\in L_n$ is logicaly redundent since the only way for a string to be in a language and the concatination of that language w/ another language is for $\\epsilon$ to be in said \"other Language\"._\n",
    "_**However** I feel it makes the statement more understandable for learnign and application use._\n"
   ]
  },
  {
   "cell_type": "markdown",
   "metadata": {},
   "source": [
    "# END"
   ]
  }
 ],
 "metadata": {
  "kernelspec": {
   "display_name": "Python 3",
   "language": "python",
   "name": "python3"
  },
  "language_info": {
   "codemirror_mode": {
    "name": "ipython",
    "version": 3
   },
   "file_extension": ".py",
   "mimetype": "text/x-python",
   "name": "python",
   "nbconvert_exporter": "python",
   "pygments_lexer": "ipython3",
   "version": "3.8.3-final"
  }
 },
 "nbformat": 4,
 "nbformat_minor": 2
}