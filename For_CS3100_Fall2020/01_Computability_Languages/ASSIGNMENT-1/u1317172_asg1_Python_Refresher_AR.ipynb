{
 "cells": [
  {
   "cell_type": "markdown",
   "metadata": {},
   "source": [
    "# First let's import, then look for the assignment below"
   ]
  },
  {
   "cell_type": "code",
   "execution_count": 2,
   "metadata": {
    "tags": []
   },
   "outputs": [
    {
     "output_type": "stream",
     "name": "stdout",
     "text": "You may use any of these help commands:\nhelp(lphi)\nhelp(lunit)\nhelp(lcat)\nhelp(lexp)\nhelp(lunion)\nhelp(lstar)\nhelp(srev)\nhelp(lrev)\nhelp(shomo)\nhelp(lhomo)\nhelp(powset)\nhelp(lint)\nhelp(lsymdiff)\nhelp(lminus)\nhelp(lissubset)\nhelp(lissuperset)\nhelp(lcomplem)\nhelp(product)\nhelp(nthnumeric)\n\n"
    }
   ],
   "source": [
    "#~~~~~~~~~~~~~~~~~~~~~~~~~~~~~~~~~~~~~~~~~~~~~~~~~~~~~~~\n",
    "import sys\n",
    "\n",
    "# -- Detect if in Own Install or in Colab\n",
    "try:\n",
    "    import google.colab\n",
    "    OWN_INSTALL = False\n",
    "except:\n",
    "    OWN_INSTALL = True\n",
    "    \n",
    "if OWN_INSTALL:\n",
    "    \n",
    "  #---- Leave these definitions ON if running on laptop\n",
    "  #---- Else turn OFF by putting them between ''' ... '''\n",
    "\n",
    "  sys.path[0:0] = ['../../../../..',  '../../../../../3rdparty',  \n",
    "                   '../../../..',  '../../../../3rdparty',  \n",
    "                   '../../..',     '../../../3rdparty', \n",
    "                   '../..',        '../../3rdparty',\n",
    "                   '..',           '../3rdparty' ]\n",
    "\n",
    "else: # In colab\n",
    "  ! if [ ! -d Jove ]; then git clone https://github.com/ganeshutah/Jove Jove; fi\n",
    "  sys.path.append('./Jove')\n",
    "  sys.path.append('./Jove/jove')\n",
    "\n",
    "# -- common imports --\n",
    "from jove.LangDef   import *\n",
    "#~~~~~~~~~~~~~~~~~~~~~~~~~~~~~~~~~~~~~~~~~~~~~~~~~~~~~~~"
   ]
  },
  {
   "cell_type": "markdown",
   "metadata": {},
   "source": [
    "# Assignment-1 Problem-1 on Python Basics  \n",
    "\n",
    "## Graded by Archit Rathore (AR)\n",
    "\n",
    "### BEFORE YOU SUBMIT THIS FILE, PLEASE RENAME THIS FILE BY REPLACING THE 0000000 IN THE FILE NAME WITH YOUR CORRECT UNID. KEEP THE \"u\" AT THE BEGINNING."
   ]
  },
  {
   "cell_type": "markdown",
   "metadata": {},
   "source": [
    "## Define a regular language via Python's set builder (set comprehension) syntax\n",
    "\n",
    "    \n",
    "Recall from Chapter-1 that sets of strings of the form \"any number of $a$'s followed by any number of $b$'s followed by any number of $c$'s are regular languages.\n",
    "\n",
    "* Here, for instance, is a regular language\n",
    "    \n",
    "    $$ \\{ a^i b^j c^k \\;:\\; i,j,k \\ge 0 \\}$$\n",
    "  \n",
    "\n",
    "**Task for you**:\n",
    "\n",
    "* Define the above set in Python, but limiting $i,j,k$ to the range $0$ through $4$ (both inclusive).\n",
    "\n",
    "**IMPORTANT NOTE**: ALL finite sets are regular. Thus by truncating the set to a finite size, we always get a regular language. The purpose of truncation is ONLY to make sure that the printing stops. What we are really referring to as a regular language of interest is the mathematical language\n",
    "\n",
    "   $$ \\{ a^i b^j c^k \\;:\\; i,j,k \\geq 0 \\}$$\n",
    "    \n",
    "    "
   ]
  },
  {
   "cell_type": "code",
   "execution_count": 18,
   "metadata": {},
   "outputs": [
    {
     "output_type": "execute_result",
     "data": {
      "text/plain": "{'',\n 'a',\n 'aa',\n 'aaa',\n 'aaaa',\n 'aaaab',\n 'aaaabb',\n 'aaaabbb',\n 'aaaabbbb',\n 'aaaabbbbc',\n 'aaaabbbbcc',\n 'aaaabbbbccc',\n 'aaaabbbbcccc',\n 'aaaabbbc',\n 'aaaabbbcc',\n 'aaaabbbccc',\n 'aaaabbbcccc',\n 'aaaabbc',\n 'aaaabbcc',\n 'aaaabbccc',\n 'aaaabbcccc',\n 'aaaabc',\n 'aaaabcc',\n 'aaaabccc',\n 'aaaabcccc',\n 'aaaac',\n 'aaaacc',\n 'aaaaccc',\n 'aaaacccc',\n 'aaab',\n 'aaabb',\n 'aaabbb',\n 'aaabbbb',\n 'aaabbbbc',\n 'aaabbbbcc',\n 'aaabbbbccc',\n 'aaabbbbcccc',\n 'aaabbbc',\n 'aaabbbcc',\n 'aaabbbccc',\n 'aaabbbcccc',\n 'aaabbc',\n 'aaabbcc',\n 'aaabbccc',\n 'aaabbcccc',\n 'aaabc',\n 'aaabcc',\n 'aaabccc',\n 'aaabcccc',\n 'aaac',\n 'aaacc',\n 'aaaccc',\n 'aaacccc',\n 'aab',\n 'aabb',\n 'aabbb',\n 'aabbbb',\n 'aabbbbc',\n 'aabbbbcc',\n 'aabbbbccc',\n 'aabbbbcccc',\n 'aabbbc',\n 'aabbbcc',\n 'aabbbccc',\n 'aabbbcccc',\n 'aabbc',\n 'aabbcc',\n 'aabbccc',\n 'aabbcccc',\n 'aabc',\n 'aabcc',\n 'aabccc',\n 'aabcccc',\n 'aac',\n 'aacc',\n 'aaccc',\n 'aacccc',\n 'ab',\n 'abb',\n 'abbb',\n 'abbbb',\n 'abbbbc',\n 'abbbbcc',\n 'abbbbccc',\n 'abbbbcccc',\n 'abbbc',\n 'abbbcc',\n 'abbbccc',\n 'abbbcccc',\n 'abbc',\n 'abbcc',\n 'abbccc',\n 'abbcccc',\n 'abc',\n 'abcc',\n 'abccc',\n 'abcccc',\n 'ac',\n 'acc',\n 'accc',\n 'acccc',\n 'b',\n 'bb',\n 'bbb',\n 'bbbb',\n 'bbbbc',\n 'bbbbcc',\n 'bbbbccc',\n 'bbbbcccc',\n 'bbbc',\n 'bbbcc',\n 'bbbccc',\n 'bbbcccc',\n 'bbc',\n 'bbcc',\n 'bbccc',\n 'bbcccc',\n 'bc',\n 'bcc',\n 'bccc',\n 'bcccc',\n 'c',\n 'cc',\n 'ccc',\n 'cccc'}"
     },
     "metadata": {},
     "execution_count": 18
    }
   ],
   "source": [
    "# The above regular language truncated to a small size, below\n",
    "A_reg_language = {'a'*i + 'b'*j + 'c'*k for i in range(5) for j in range(5) for k in range (5)}\n",
    "\n",
    "# Print its contents\n",
    "A_reg_language"
   ]
  },
  {
   "cell_type": "markdown",
   "metadata": {},
   "source": [
    "## Define another context-free language  \n",
    "\n",
    "<font size=\"4\"> \n",
    "    \n",
    "In Chapter 4, we will study the Pumping Lemma to argue that this language is not context-free:\n",
    "\n",
    "$$L_{if} = \\{ a^i b^j c^k \\;:\\; {\\rm if}\\; (i=2)\\; {\\rm then}\\; (j=k) \\}$$\n",
    "    \n",
    "\n",
    "\n",
    "**Task for you**:\n",
    "\n",
    "* Define $L_{if}$ in Python, again limiting $i,j,k$ to be in $\\{0, \\ldots, 4\\}$.\n",
    "* List all the strings where the condition $(i=2)$ is met. How many such strings are there?\n",
    "    \n",
    "**IMPORTANT NOTE**: ALL finite sets are regular. Thus by truncating the set to a finite size, we always get a regular language. The purpose of truncation is ONLY to make sure that the printing stops. What we are really referring to as a **context-free language** of interest is the mathematical language\n",
    "\n",
    "   \n",
    "  $$L_{if} = \\{ a^i b^j c^k \\;:\\; {\\rm if}\\; (i=2)\\; {\\rm then}\\; (j=k) \\}$$\n",
    "    \n",
    "    \n",
    "</font>  "
   ]
  },
  {
   "cell_type": "code",
   "execution_count": 24,
   "metadata": {},
   "outputs": [
    {
     "output_type": "execute_result",
     "data": {
      "text/plain": "{'',\n 'a',\n 'aa',\n 'aaa',\n 'aaaa',\n 'aaaab',\n 'aaaabb',\n 'aaaabbb',\n 'aaaabbbb',\n 'aaaabbbbc',\n 'aaaabbbbcc',\n 'aaaabbbbccc',\n 'aaaabbbbcccc',\n 'aaaabbbc',\n 'aaaabbbcc',\n 'aaaabbbccc',\n 'aaaabbbcccc',\n 'aaaabbc',\n 'aaaabbcc',\n 'aaaabbccc',\n 'aaaabbcccc',\n 'aaaabc',\n 'aaaabcc',\n 'aaaabccc',\n 'aaaabcccc',\n 'aaaac',\n 'aaaacc',\n 'aaaaccc',\n 'aaaacccc',\n 'aaab',\n 'aaabb',\n 'aaabbb',\n 'aaabbbb',\n 'aaabbbbc',\n 'aaabbbbcc',\n 'aaabbbbccc',\n 'aaabbbbcccc',\n 'aaabbbc',\n 'aaabbbcc',\n 'aaabbbccc',\n 'aaabbbcccc',\n 'aaabbc',\n 'aaabbcc',\n 'aaabbccc',\n 'aaabbcccc',\n 'aaabc',\n 'aaabcc',\n 'aaabccc',\n 'aaabcccc',\n 'aaac',\n 'aaacc',\n 'aaaccc',\n 'aaacccc',\n 'aabbbbcccc',\n 'aabbbccc',\n 'aabbcc',\n 'aabc',\n 'ab',\n 'abb',\n 'abbb',\n 'abbbb',\n 'abbbbc',\n 'abbbbcc',\n 'abbbbccc',\n 'abbbbcccc',\n 'abbbc',\n 'abbbcc',\n 'abbbccc',\n 'abbbcccc',\n 'abbc',\n 'abbcc',\n 'abbccc',\n 'abbcccc',\n 'abc',\n 'abcc',\n 'abccc',\n 'abcccc',\n 'ac',\n 'acc',\n 'accc',\n 'acccc',\n 'b',\n 'bb',\n 'bbb',\n 'bbbb',\n 'bbbbc',\n 'bbbbcc',\n 'bbbbccc',\n 'bbbbcccc',\n 'bbbc',\n 'bbbcc',\n 'bbbccc',\n 'bbbcccc',\n 'bbc',\n 'bbcc',\n 'bbccc',\n 'bbcccc',\n 'bc',\n 'bcc',\n 'bccc',\n 'bcccc',\n 'c',\n 'cc',\n 'ccc',\n 'cccc'}"
     },
     "metadata": {},
     "execution_count": 24
    }
   ],
   "source": [
    " \n",
    "# Your Python definition of the language Lif below\n",
    "Lif =  { 'a'*i + 'b'*(k if i==2 else j) + 'c'*k for i in range(5) for j in range(5) for k in range (5) }\n",
    "\n",
    "# print Lif\n",
    "\n",
    "Lif\n"
   ]
  },
  {
   "cell_type": "markdown",
   "metadata": {},
   "source": [
    "# Number of strings where (i=2) is met, and which are they?\n",
    "\n",
    "There are **5** strings where (i=2) is met \n",
    "\n",
    "# The strings where i = 2 is met are these:\n",
    "\n",
    "$$ \n",
    "\\{ aabbbbcccc,\\, aabbbccc,\\, aabbcc,\\, aabc,\\, aa \\} \n",
    "\\;\\;\\text{aka}\\;\\;\n",
    "\\{ a^2b^0c^0,\\, a^2b^1c^1,\\, a^2b^2c^2,\\, a^2b^3c^3,\\, a^2b^4c^4 \\}\n",
    "$$\n",
    " "
   ]
  },
  {
   "cell_type": "markdown",
   "metadata": {},
   "source": [
    "# END"
   ]
  }
 ],
 "metadata": {
  "kernelspec": {
   "display_name": "Python 3",
   "language": "python",
   "name": "python3"
  },
  "language_info": {
   "codemirror_mode": {
    "name": "ipython",
    "version": 3
   },
   "file_extension": ".py",
   "mimetype": "text/x-python",
   "name": "python",
   "nbconvert_exporter": "python",
   "pygments_lexer": "ipython3",
   "version": "3.8.3-final"
  }
 },
 "nbformat": 4,
 "nbformat_minor": 2
}