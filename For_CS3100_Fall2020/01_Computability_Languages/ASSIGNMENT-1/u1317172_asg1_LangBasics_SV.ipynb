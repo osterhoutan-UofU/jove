{
 "cells": [
  {
   "cell_type": "markdown",
   "metadata": {},
   "source": [
    "# First let's import, then look for the assignment below"
   ]
  },
  {
   "cell_type": "code",
   "execution_count": 1,
   "metadata": {
    "tags": []
   },
   "outputs": [
    {
     "output_type": "stream",
     "name": "stdout",
     "text": "You may use any of these help commands:\nhelp(lphi)\nhelp(lunit)\nhelp(lcat)\nhelp(lexp)\nhelp(lunion)\nhelp(lstar)\nhelp(srev)\nhelp(lrev)\nhelp(shomo)\nhelp(lhomo)\nhelp(powset)\nhelp(lint)\nhelp(lsymdiff)\nhelp(lminus)\nhelp(lissubset)\nhelp(lissuperset)\nhelp(lcomplem)\nhelp(product)\nhelp(nthnumeric)\n\n"
    }
   ],
   "source": [
    "#~~~~~~~~~~~~~~~~~~~~~~~~~~~~~~~~~~~~~~~~~~~~~~~~~~~~~~~\n",
    "import sys\n",
    "\n",
    "# -- Detect if in Own Install or in Colab\n",
    "try:\n",
    "    import google.colab\n",
    "    OWN_INSTALL = False\n",
    "except:\n",
    "    OWN_INSTALL = True\n",
    "    \n",
    "if OWN_INSTALL:\n",
    "    \n",
    "  #---- Leave these definitions ON if running on laptop\n",
    "  #---- Else turn OFF by putting them between ''' ... '''\n",
    "\n",
    "  sys.path[0:0] = ['../../../../..',  '../../../../../3rdparty',  \n",
    "                   '../../../..',  '../../../../3rdparty',  \n",
    "                   '../../..',     '../../../3rdparty', \n",
    "                   '../..',        '../../3rdparty',\n",
    "                   '..',           '../3rdparty' ]\n",
    "\n",
    "else: # In colab\n",
    "  ! if [ ! -d Jove ]; then git clone https://github.com/ganeshutah/Jove Jove; fi\n",
    "  sys.path.append('./Jove')\n",
    "  sys.path.append('./Jove/jove')\n",
    "\n",
    "# -- common imports --\n",
    "from jove.LangDef import *\n",
    "#~~~~~~~~~~~~~~~~~~~~~~~~~~~~~~~~~~~~~~~~~~~~~~~~~~~~~~~"
   ]
  },
  {
   "cell_type": "markdown",
   "metadata": {},
   "source": [
    "# Assignment-1 Problem-2 on Language Basics\n",
    "\n",
    "## Graded by Shashank Vadlamani (SV)\n",
    "\n",
    "### BEFORE YOU SUBMIT THIS FILE, PLEASE RENAME THIS FILE BY REPLACING THE 0000000 IN THE FILE NAME WITH YOUR CORRECT UNID. KEEP THE \"u\" AT THE BEGINNING.\n",
    "\n",
    "\n",
    " <font size=\"4\"> \n",
    "\n",
    "This problem helps you review the basics of languages, symbols, strings, concatenation, etc. It presents the material in the form of puzzles.  \n",
    "    \n",
    "Tasks for you:\n",
    " \n",
    "</font>"
   ]
  },
  {
   "cell_type": "markdown",
   "metadata": {},
   "source": [
    "<font size=\"4\"> \n",
    "\n",
    " \n",
    "1. If there are two languages $L_1$ and $L_2$, their concatenation has smaller size than their cartesian product only if the following condition is met:\n",
    "    \n",
    "    **Their intersection is at least of size 2 and contains $\\varepsilon$**\n",
    "    \n",
    "Your two tasks are described below.\n",
    "    \n",
    "</font>"
   ]
  },
  {
   "cell_type": "markdown",
   "metadata": {},
   "source": [
    "# Space below for your arguments\n",
    "<font size=\"4\">\n",
    "\n",
    "\n",
    "</font>"
   ]
  },
  {
   "cell_type": "markdown",
   "metadata": {},
   "source": [
    "## Now present code that supports or refutes the claim."
   ]
  },
  {
   "cell_type": "markdown",
   "metadata": {},
   "source": [
    "# Task-1: Define two languages to print \"cat and product have the same size\" below. L1 and L2 must both contain $\\varepsilon$."
   ]
  },
  {
   "cell_type": "code",
   "execution_count": 2,
   "metadata": {
    "tags": []
   },
   "outputs": [],
   "source": [
    "L1 = { '', '0', '1' }\n",
    "L2 = { '', 'a', 'b' }"
   ]
  },
  {
   "cell_type": "code",
   "execution_count": 3,
   "metadata": {
    "tags": []
   },
   "outputs": [
    {
     "output_type": "stream",
     "name": "stdout",
     "text": "The two Languages are: \n\tL1: {'', '1', '0'}\n\tL2: {'', 'b', 'a'}\n\nCat of L1 and L2 is: \n\t{'', '0', '1b', '1', 'a', 'b', '0b', '1a', '0a'}\n\t Which is of size : 9\n\nIntersection of L1 and L2 is: \n\t{''} \n\tWhich is of size: 1\n\nProduct of L1 and L2 is: \n\t{('1', 'b'), ('0', 'a'), ('', ''), ('', 'b'), ('1', ''), ('0', 'b'), ('1', 'a'), ('0', ''), ('', 'a')} \n\tWhich is of size: 9\n\n\n\t\t<<< ∴ cat and product have the same size >>>\n"
    }
   ],
   "source": [
    "print(f\"The two Languages are: \\n\\tL1: {L1}\\n\\tL2: {L2}\\n\")\n",
    "\n",
    "# Perform their contatenation \n",
    "\n",
    "catL1L2 = lcat(L1,L2)\n",
    "lencatL1L2 = len(catL1L2)\n",
    "\n",
    "print(f\"Cat of L1 and L2 is: \\n\\t{catL1L2}\\n\\t Which is of size : {lencatL1L2}\\n\")\n",
    "\n",
    "# Perform their intersection\n",
    "\n",
    "intL1L2 = lint(L1,L2)\n",
    "lenintL1L2 = len(intL1L2)\n",
    "\n",
    "print(f\"Intersection of L1 and L2 is: \\n\\t{intL1L2} \\n\\tWhich is of size: {lenintL1L2}\\n\")\n",
    "\n",
    "# Make a statement of what you observe\n",
    "\n",
    "prodL1L2 = { (x,y) for x in L1 for y in L2 }\n",
    "lenprodL1L2 = len(prodL1L2)\n",
    "\n",
    "print(f\"Product of L1 and L2 is: \\n\\t{prodL1L2} \\n\\tWhich is of size: {lenprodL1L2}\")\n",
    "\n",
    "print(\"\\n\\n\\t\\t<<< ∴\", end='')\n",
    "if (lenprodL1L2 != lencatL1L2):\n",
    "    print(\" cat and product differ in size >>>\")\n",
    "else:\n",
    "    print(\" cat and product have the same size >>>\")\n",
    "    \n",
    " "
   ]
  },
  {
   "cell_type": "markdown",
   "metadata": {},
   "source": [
    "# Task-2: Define two languages to print \"cat and product differ in size\" below. L1 and L2 must both contain $\\varepsilon$."
   ]
  },
  {
   "cell_type": "code",
   "execution_count": 4,
   "metadata": {},
   "outputs": [],
   "source": [
    "L1 = { '', 'a', 'b', 'c', 'd', 'e', 'f', 'g', 'h', 'i', 'j', 'k', 'l', 'm',\n",
    "         'n', 'o', 'p', 'q', 'r', 's', 't', 'u', 'v', 'w', 'x', 'y', 'z' }\n",
    "L2 = { '', '0', '1', '2', '3', '4', '5', '6', '7', '8', '9', 'a', 'b', 'c', 'd', 'e', 'f' }"
   ]
  },
  {
   "cell_type": "code",
   "execution_count": 5,
   "metadata": {
    "tags": []
   },
   "outputs": [
    {
     "output_type": "stream",
     "name": "stdout",
     "text": "The two Languages are: \n\tL1: {'', 'v', 'i', 's', 'b', 'e', 'w', 'j', 'x', 't', 'd', 'n', 'y', 'f', 'g', 'z', 'm', 'q', 'o', 'h', 'u', 'l', 'p', 'r', 'a', 'k', 'c'}\n\tL2: {'', '7', '8', 'b', '0', '5', 'd', '1', 'f', '2', 'a', 'c', '3', '4', 'e', '9', '6'}\n\nCat of L1 and L2 is: \n\t{'', 'o2', 'vd', 'of', 're', 'y9', 'f3', 'ie', 'nb', 'n5', 'c1', 'u8', 'h4', 'uf', 'jb', 'y1', 'od', 'q3', 'cb', 's6', 'f0', 'm5', 'f1', 'l7', 'k0', 'e9', 'k9', 's5', 'e4', 'pd', 'x8', 'xb', 's8', 'ue', 'ib', 'g3', 'x3', 'u9', 'm9', 'ua', 'ha', 'xe', 'sf', 'eb', 'fc', 'ff', 'u2', 'n', 'q9', 'b0', 'l3', 'm', 'v9', 'ye', 'h', 'm4', 'a1', 'sa', 'kc', 'w5', 'ud', 'j0', 'y3', 'kf', 'f9', 'ac', 't7', 'pb', 'l4', 'p7', 'y6', 'y', 'p9', 'n0', 'i5', 'r3', 'j6', 'wf', 'cd', 'uc', 'x0', 'i7', 'r7', 'e0', 'y5', '4', 'va', 'e6', 'ka', 'u7', 'g6', 'xd', 'ab', 's7', 'hb', 'ic', 'te', 'c0', 'q1', 'ld', 'j9', 'fe', 'ee', 'dd', 'wd', 'a2', 'x7', 'a4', 'g2', 'ed', 'if', 'tf', 'e', 'b9', 'g0', 'i4', 'n2', 'je', 'pf', 'x4', 'r5', 'b7', 'l9', 'b5', 'ia', 'i2', 't4', 'q4', 'w3', 'y0', 'ge', 's1', 'ba', 'q2', 'q5', 'l1', 'n1', 'fa', 'zd', 'd6', 'j2', 'e2', 'x2', 'c8', 'c5', 'i8', 'p5', 'c4', 't', 'yb', 'j5', 'x6', 'z0', 'kb', 'c6', 'p6', 'h2', 'ce', 't0', 't5', 'ub', 'y8', 'g5', 'ca', 'a7', 'r9', 'de', 'mf', 'n6', 'cf', 'cc', 's0', 'hf', 'lf', 'sc', 'qb', 'v5', 'u6', '5', 'l6', 'w9', 'v1', 'k7', 'bb', 'f5', 'o8', 's4', 'qc', 'nd', 'v3', 'pe', 'k5', 'vb', 'f7', 'c', 'h8', 'g1', 'v2', 'pc', 'jf', 'v8', 'ef', 'h5', 'x', 'j1', 'z7', 'df', 'u5', 'o0', 'yc', 'ke', 'na', 'lc', 'k8', 'j3', 'nf', 'be', 'm1', 'f6', 'b4', 'mb', 'pa', 'k', 'w8', 'qf', 'p8', 'ec', 's', 'f4', 'b3', 'q7', 'n7', 'w', 'ea', 'j', 'fb', 'xf', 'o3', 'n3', 'm2', '9', '6', 't1', 'oe', 'ma', 'd1', 't6', 'h3', 'r0', 'o5', 'z4', 'rd', 'b8', 'z1', 'k6', 'q6', 'b1', 'b2', 'd3', 'h1', 'za', 'w0', '1', 'q0', 'fd', 'j4', 'v6', 'p3', 'gc', 'rf', 'aa', 'ya', 'z6', 'f2', 'z', 'h6', 'p0', 'u4', 'wb', 'o', 'u', 'ra', 'ta', 'qd', 'tb', 'v', 'le', 'hc', 'b', 'oc', 'l2', 'r2', 's3', 'w6', 'e7', 'xa', 'd8', 'i0', 'qa', 'tc', 'k4', 'r6', 'g', 'hd', 'he', 'c7', 'da', 'z3', 'p', 'k1', 'kd', 's2', 'v4', 'm8', 'oa', 'i', 'd4', '2', 'i1', 'wa', 'u0', 'z5', '8', 'x9', 'p1', '0', 'ad', 'r4', 'j7', 'n4', 'm0', 'qe', 'af', 'p2', 'p4', 'e5', 'rc', 'c3', 'w1', 'u1', 'w7', 'ja', 'zc', 'e3', 'td', 'l', 'e1', 'r', 'g8', 'd0', 'v7', 'z2', 'ne', 'a3', 'x1', '7', 'w2', 'a0', 'u3', 'mc', 'vc', 'o6', 'a6', 'q', 'o4', 'n9', 'g7', 'd2', 'l5', 've', 'lb', 'n8', 'z9', 'o7', 'f8', 'dc', 'me', 'k3', 'x5', 'z8', 'q8', 'r8', 'gf', 'i3', 'm3', 'd7', 'ga', 'nc', 'jc', 'ze', 't9', 'bd', 'o9', 'yd', 'o1', 'v0', 'c9', 'd', 'ae', 'b6', 'i9', 'k2', 'y2', 'wc', 'xc', 'g4', 't3', 'f', 'vf', 'a8', 'h0', 'h7', 'd9', 'db', 'e8', '3', 'i6', 'a', 'y7', 'gb', 'g9', 'a9', 'jd', 'm6', 'c2', 'h9', 'gd', 's9', 'zb', 'sb', 'l8', 'a5', 'we', 't8', 'md', 'ob', 'la', 't2', 'w4', 'l0', 'se', 'd5', 'bc', 'y4', 'yf', 'rb', 'm7', 'sd', 'bf', 'id', 'j8', 'r1', 'zf'}\n\t Which is of size : 453\n\nIntersection of L1 and L2 is: \n\t{'', 'd', 'f', 'a', 'b', 'e', 'c'} \n\tWhich is of size: 7\n\nProduct of L1 and L2 is: \n\t{('x', 'e'), ('b', '2'), ('j', 'b'), ('d', 'b'), ('u', 'e'), ('x', '1'), ('i', '1'), ('q', '5'), ('l', 'e'), ('j', 'e'), ('', '1'), ('z', '4'), ('r', '7'), ('j', '1'), ('d', '1'), ('z', 'f'), ('c', 'e'), ('e', '9'), ('o', '4'), ('z', 'd'), ('o', 'f'), ('m', '4'), ('a', '8'), ('m', 'f'), ('o', 'd'), ('n', '6'), ('l', '7'), ('m', 'd'), ('', ''), ('r', 'f'), ('y', '7'), ('z', '3'), ('q', 'c'), ('o', '3'), ('g', 'b'), ('i', ''), ('f', '0'), ('b', 'b'), ('m', '3'), ('d', ''), ('s', ''), ('r', '3'), ('a', 'e'), ('y', 'f'), ('t', '6'), ('e', '2'), ('y', 'd'), ('g', '1'), ('t', '2'), ('', '4'), ('b', '1'), ('w', '0'), ('', 'd'), ('p', '9'), ('i', '4'), ('y', '3'), ('n', 'b'), ('i', 'd'), ('d', '4'), ('s', '4'), ('s', 'f'), ('h', ''), ('x', '0'), ('d', 'd'), ('s', 'd'), ('z', '5'), ('n', 'e'), ('q', '8'), ('w', '9'), ('u', '0'), ('o', '5'), ('n', '1'), ('g', ''), ('m', '5'), ('l', '0'), ('v', '6'), ('j', '0'), ('s', '3'), ('t', 'b'), ('e', 'a'), ('c', '0'), ('f', '6'), ('p', '2'), ('', '9'), ('x', '9'), ('h', '4'), ('q', 'e'), ('z', 'c'), ('i', '9'), ('h', 'd'), ('t', '1'), ('g', '4'), ('y', '5'), ('o', 'c'), ('b', '4'), ('k', '6'), ('m', 'c'), ('j', '9'), ('w', '2'), ('d', '9'), ('g', 'd'), ('', '5'), ('a', '0'), ('i', '5'), ('v', 'b'), ('x', '2'), ('s', '5'), ('u', '6'), ('e', ''), ('f', 'b'), ('t', ''), ('p', 'a'), ('y', 'c'), ('u', '2'), ('l', '6'), ('', 'c'), ('v', '1'), ('z', '8'), ('j', '2'), ('c', '6'), ('o', '8'), ('g', '9'), ('f', '1'), ('c', '2'), ('b', '9'), ('m', '8'), ('k', 'b'), ('i', 'c'), ('n', '0'), ('e', '4'), ('t', '4'), ('e', 'f'), ('s', 'c'), ('h', '5'), ('k', 'e'), ('e', 'd'), ('k', '1'), ('t', 'd'), ('g', '5'), ('', 'a'), ('z', 'e'), ('r', 'b'), ('o', 'e'), ('u', 'b'), ('m', 'e'), ('n', '9'), ('q', '0'), ('a', '6'), ('e', '3'), ('i', 'a'), ('p', ''), ('l', 'b'), ('r', 'e'), ('z', '7'), ('', '8'), ('d', 'a'), ('r', '1'), ('s', 'a'), ('o', '7'), ('c', 'b'), ('u', '1'), ('p', '7'), ('m', '7'), ('h', 'c'), ('i', '8'), ('w', ''), ('g', 'c'), ('l', '1'), ('d', '8'), ('y', 'e'), ('s', '8'), ('t', '9'), ('p', '4'), ('c', '1'), ('p', 'f'), ('p', 'd'), ('n', '2'), ('h', 'a'), ('x', ''), ('v', '0'), ('a', 'b'), ('u', ''), ('w', '4'), ('e', '5'), ('p', '3'), ('g', 'a'), ('', '7'), ('b', 'a'), ('w', 'd'), ('j', ''), ('h', '8'), ('q', '6'), ('i', '7'), ('a', '1'), ('q', '2'), ('g', '8'), ('', 'f'), ('k', '0'), ('b', '8'), ('v', '9'), ('d', '7'), ('s', '7'), ('x', '4'), ('u', '4'), ('f', '9'), ('x', 'd'), ('i', 'f'), ('e', 'c'), ('u', 'd'), ('j', '4'), ('d', 'f'), ('', '3'), ('c', '4'), ('j', 'd'), ('r', '0'), ('x', '3'), ('k', '9'), ('i', '3'), ('p', '5'), ('b', ''), ('h', '7'), ('d', '3'), ('q', 'b'), ('v', '2'), ('t', 'a'), ('g', '7'), ('y', '0'), ('b', '7'), ('f', '2'), ('w', '5'), ('r', '9'), ('h', 'f'), ('u', '9'), ('q', '1'), ('e', '8'), ('t', '8'), ('g', 'f'), ('p', 'c'), ('b', 'f'), ('n', ''), ('l', '9'), ('k', '2'), ('b', 'd'), ('c', '9'), ('z', '6'), ('h', '3'), ('x', '5'), ('o', '6'), ('m', '6'), ('g', '3'), ('w', 'c'), ('b', '3'), ('r', '6'), ('v', 'a'), ('e', 'e'), ('j', '5'), ('d', '5'), ('r', '2'), ('n', '4'), ('f', 'a'), ('n', 'd'), ('l', '2'), ('e', '7'), ('a', '9'), ('t', '7'), ('x', 'c'), ('y', '6'), ('p', '8'), ('y', '2'), ('w', 'a'), ('n', '3'), ('z', 'b'), ('q', '4'), ('j', 'c'), ('d', 'c'), ('o', 'b'), ('t', 'f'), ('m', 'b'), ('w', '8'), ('b', '5'), ('z', '1'), ('x', 'a'), ('v', ''), ('s', '6'), ('p', 'e'), ('o', '1'), ('u', 'a'), ('m', '1'), ('f', ''), ('t', '3'), ('a', '2'), ('l', 'a'), ('j', 'a'), ('x', '8'), ('y', 'b'), ('f', '7'), ('c', 'a'), ('u', '8'), ('k', ''), ('n', '5'), ('v', '4'), ('b', 'c'), ('v', 'f'), ('j', '8'), ('q', '9'), ('v', 'd'), ('f', '4'), ('y', '1'), ('c', '8'), ('f', 'f'), ('w', '7'), ('', 'e'), ('f', 'd'), ('s', 'b'), ('r', ''), ('v', '3'), ('i', 'e'), ('a', 'a'), ('k', '4'), ('k', 'f'), ('w', 'f'), ('t', '5'), ('f', '3'), ('n', 'c'), ('d', 'e'), ('k', 'd'), ('s', 'e'), ('x', '7'), ('l', ''), ('s', '1'), ('u', '7'), ('c', ''), ('y', ''), ('k', '3'), ('w', '3'), ('j', '7'), ('r', '4'), ('x', 'f'), ('h', 'b'), ('c', '7'), ('z', '0'), ('u', 'f'), ('r', 'd'), ('o', '0'), ('t', 'c'), ('n', 'a'), ('p', '0'), ('m', '0'), ('l', '4'), ('l', 'f'), ('h', 'e'), ('j', 'f'), ('l', 'd'), ('h', '1'), ('y', '4'), ('c', 'f'), ('v', '5'), ('e', '6'), ('g', 'e'), ('a', ''), ('u', '3'), ('c', 'd'), ('b', 'e'), ('n', '8'), ('f', '5'), ('z', '9'), ('l', '3'), ('j', '3'), ('o', '9'), ('a', '7'), ('q', 'a'), ('m', '9'), ('c', '3'), ('k', '5'), ('', '0'), ('a', '4'), ('v', 'c'), ('a', 'f'), ('a', 'd'), ('f', 'c'), ('i', '0'), ('y', '9'), ('d', '0'), ('z', '2'), ('s', '0'), ('e', 'b'), ('r', '5'), ('n', '7'), ('u', '5'), ('o', '2'), ('p', '6'), ('a', '3'), ('m', '2'), ('k', 'c'), ('l', '5'), ('t', 'e'), ('e', '1'), ('q', ''), ('c', '5'), ('n', 'f'), ('w', '6'), ('s', '9'), ('v', '8'), ('q', '7'), ('r', 'c'), ('h', '0'), ('f', '8'), ('u', 'c'), ('k', 'a'), ('g', '0'), ('', '6'), ('b', '0'), ('', '2'), ('l', 'c'), ('z', 'a'), ('x', '6'), ('q', 'f'), ('o', 'a'), ('p', 'b'), ('q', 'd'), ('c', 'c'), ('i', '6'), ('m', 'a'), ('a', '5'), ('k', '8'), ('i', '2'), ('v', 'e'), ('h', '9'), ('r', 'a'), ('j', '6'), ('d', '6'), ('d', '2'), ('f', 'e'), ('s', '2'), ('q', '3'), ('p', '1'), ('w', 'b'), ('v', '7'), ('r', '8'), ('y', 'a'), ('w', 'e'), ('a', 'c'), ('w', '1'), ('', 'b'), ('l', '8'), ('x', 'b'), ('z', ''), ('h', '6'), ('h', '2'), ('i', 'b'), ('y', '8'), ('o', ''), ('e', '0'), ('k', '7'), ('t', '0'), ('m', ''), ('g', '6'), ('b', '6'), ('g', '2')} \n\tWhich is of size: 459\n\n\n\t\t<<< ∴ cat and product differ in size >>>\n"
    }
   ],
   "source": [
    "print(f\"The two Languages are: \\n\\tL1: {L1}\\n\\tL2: {L2}\\n\")\n",
    "\n",
    "# Perform their contatenation \n",
    "\n",
    "catL1L2 = lcat(L1,L2)\n",
    "lencatL1L2 = len(catL1L2)\n",
    "\n",
    "print(f\"Cat of L1 and L2 is: \\n\\t{catL1L2}\\n\\t Which is of size : {lencatL1L2}\\n\")\n",
    "\n",
    "# Perform their intersection\n",
    "\n",
    "intL1L2 = lint(L1,L2)\n",
    "lenintL1L2 = len(intL1L2)\n",
    "\n",
    "print(f\"Intersection of L1 and L2 is: \\n\\t{intL1L2} \\n\\tWhich is of size: {lenintL1L2}\\n\")\n",
    "\n",
    "# Make a statement of what you observe\n",
    "\n",
    "prodL1L2 = { (x,y) for x in L1 for y in L2 }\n",
    "lenprodL1L2 = len(prodL1L2)\n",
    "\n",
    "print(f\"Product of L1 and L2 is: \\n\\t{prodL1L2} \\n\\tWhich is of size: {lenprodL1L2}\")\n",
    "\n",
    "print(\"\\n\\n\\t\\t<<< ∴\", end='')\n",
    "if (lenprodL1L2 != lencatL1L2):\n",
    "    print(\" cat and product differ in size >>>\")\n",
    "else:\n",
    "    print(\" cat and product have the same size >>>\")"
   ]
  },
  {
   "cell_type": "code",
   "execution_count": null,
   "metadata": {},
   "outputs": [],
   "source": []
  }
 ],
 "metadata": {
  "kernelspec": {
   "display_name": "Python 3",
   "language": "python",
   "name": "python3"
  },
  "language_info": {
   "codemirror_mode": {
    "name": "ipython",
    "version": 3
   },
   "file_extension": ".py",
   "mimetype": "text/x-python",
   "name": "python",
   "nbconvert_exporter": "python",
   "pygments_lexer": "ipython3",
   "version": "3.8.3-final"
  }
 },
 "nbformat": 4,
 "nbformat_minor": 2
}