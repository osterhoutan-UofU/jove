{
 "cells": [
  {
   "cell_type": "markdown",
   "metadata": {},
   "source": [
    "# Diophantine Equations: Illustration of a famous undecidable problem\n",
    "\n",
    "Diophantine equations are discussed in Chapter 1. We will give you widgets to solve Diophantine equations. "
   ]
  },
  {
   "cell_type": "markdown",
   "metadata": {},
   "source": [
    "### Widget to illustrate Diophantine equations\n",
    "\n",
    "The Diophantine equation $3x^2 − 2xy − y^2z − 7 = 0$ has a solution at x=1, y=2, z=-2\n",
    "Try to hit it with these sliders for x,y,z"
   ]
  },
  {
   "cell_type": "code",
   "execution_count": 1,
   "metadata": {},
   "outputs": [],
   "source": [
    "# The diophantine widgets\n",
    "import ipywidgets as wdg"
   ]
  },
  {
   "cell_type": "code",
   "execution_count": 2,
   "metadata": {},
   "outputs": [],
   "source": [
    "def dioph_ex1(x,y,z):\n",
    "    \"\"\"Does 3x^2 - 2xy - y^2z - 7 = 0 have a solution?\n",
    "    \"\"\"\n",
    "    if (3*x**2 - 2*x*y - z*y**2 - 7 == 0):\n",
    "        print(\"3*x**2 - 2*x*y - z*y**2 - 7 == 0 is solved for \", \"x = \", x, \"y = \", y, \"z = \", z)\n",
    "    else:\n",
    "        print(\"3*x**2 - 2*x*y - z*y**2 - 7 == 0 isn't solved for \", \"x = \", x, \"y = \", y, \"z = \", z)"
   ]
  },
  {
   "cell_type": "code",
   "execution_count": 3,
   "metadata": {
    "scrolled": true
   },
   "outputs": [
    {
     "output_type": "display_data",
     "data": {
      "text/plain": "interactive(children=(IntSlider(value=0, description='x', max=3, min=-3), IntSlider(value=0, description='y', …",
      "application/vnd.jupyter.widget-view+json": {
       "version_major": 2,
       "version_minor": 0,
       "model_id": "5dd3df8826114aa68daabf67ed8ac417"
      }
     },
     "metadata": {}
    },
    {
     "output_type": "execute_result",
     "data": {
      "text/plain": "<function __main__.dioph_ex1(x, y, z)>"
     },
     "metadata": {},
     "execution_count": 3
    }
   ],
   "source": [
    "wdg.interact(dioph_ex1,\n",
    " x=(-3,3), y=(-3,3), z=(-3,3))"
   ]
  },
  {
   "cell_type": "markdown",
   "metadata": {},
   "source": [
    "### Widget that picks one of two functions \n",
    "\n",
    "Try solving ex1 or ex2 (can add to the list as shown here)"
   ]
  },
  {
   "cell_type": "code",
   "execution_count": 4,
   "metadata": {},
   "outputs": [],
   "source": [
    "def dioph(f,x,y,z):\n",
    "    \"\"\"Does x^2+y^2+z = 0 have a solution?\n",
    "    \"\"\"\n",
    "    if (f(x,y,z) == 0):\n",
    "        print(\"f(x,y,z) == 0) is solved for \", \"x = \", x, \"y = \", y, \"z = \", z)\n",
    "    else:\n",
    "        print(\"f(x,y,z) == 0) isn't solved for \", \"x = \", x, \"y = \", y, \"z = \", z)"
   ]
  },
  {
   "cell_type": "code",
   "execution_count": 5,
   "metadata": {},
   "outputs": [
    {
     "output_type": "display_data",
     "data": {
      "text/plain": "interactive(children=(Dropdown(description='f', options={'ex1': <function <lambda> at 0x000001CF40A7F820>, 'ex…",
      "application/vnd.jupyter.widget-view+json": {
       "version_major": 2,
       "version_minor": 0,
       "model_id": "5e02f2c6181f4a97b7f536ce65b536a2"
      }
     },
     "metadata": {}
    },
    {
     "output_type": "execute_result",
     "data": {
      "text/plain": "<function __main__.dioph(f, x, y, z)>"
     },
     "metadata": {},
     "execution_count": 5
    }
   ],
   "source": [
    "wdg.interact(dioph,\n",
    "        f = {'ex1' : lambda x,y,z: 3*x**2 - 2*x*y - z*y**2 - 7, \n",
    "             'ex2' : lambda x,y,z: x**2 + y**2 + z},\n",
    "        x=(-3,3), y=(-3,3), z=(-3,3))"
   ]
  },
  {
   "cell_type": "markdown",
   "metadata": {},
   "source": [
    "# Now, read the rest of Chapter 1!"
   ]
  }
 ],
 "metadata": {
  "kernelspec": {
   "display_name": "Python 3",
   "language": "python",
   "name": "python3"
  },
  "language_info": {
   "codemirror_mode": {
    "name": "ipython",
    "version": 3
   },
   "file_extension": ".py",
   "mimetype": "text/x-python",
   "name": "python",
   "nbconvert_exporter": "python",
   "pygments_lexer": "ipython3",
   "version": "3.8.3-final"
  }
 },
 "nbformat": 4,
 "nbformat_minor": 2
}