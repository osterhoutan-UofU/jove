{
 "cells": [
  {
   "cell_type": "markdown",
   "metadata": {},
   "source": [
    "# This notebook gives you in-depth experience of regular expressions (RE)\n",
    "\n",
    "## This will directly help you do Quiz-4 where you reap the rewards of learning about RE\n",
    "\n",
    "## We will give you Quiz hints below (look for Quiz-hint below)\n",
    "\n",
    "## We will also give you utility functions to run through many REs for your own practice"
   ]
  },
  {
   "cell_type": "markdown",
   "metadata": {},
   "source": [
    "**-------------------------------------------------------------------------------------**"
   ]
  },
  {
   "cell_type": "markdown",
   "metadata": {},
   "source": [
    "\n",
    "# !! VIDEO !!\n",
    "\n",
    "## Please see\n",
    "\n",
    "## QUIZ-4 HELP OVERVIEW VIDEO -- GMT20200921-203852_GANESH-GOP_1700x794.mp4\n",
    "\n",
    "## The above will be loaded onto Youtube; till then, get it from Canvas!\n"
   ]
  },
  {
   "cell_type": "markdown",
   "metadata": {},
   "source": [
    "**-------------------------------------------------------------------------------------**"
   ]
  },
  {
   "cell_type": "code",
   "execution_count": 1,
   "metadata": {
    "run_control": {
     "frozen": false,
     "read_only": false
    },
    "tags": []
   },
   "outputs": [
    {
     "output_type": "stream",
     "name": "stdout",
     "text": "You may use any of these help commands:\nhelp(ResetStNum)\nhelp(NxtStateStr)\n\nYou may use any of these help commands:\nhelp(md2mc)\n.. and if you want to dig more, then ..\nhelp(default_line_attr)\nhelp(length_ok_input_items)\nhelp(union_line_attr_list_fld)\nhelp(extend_rsltdict)\nhelp(form_delta)\nhelp(get_machine_components)\n\nYou may use any of these help commands:\nhelp(mkp_dfa)\nhelp(mk_dfa)\nhelp(totalize_dfa)\nhelp(addtosigma_delta)\nhelp(step_dfa)\nhelp(run_dfa)\nhelp(accepts_dfa)\nhelp(comp_dfa)\nhelp(union_dfa)\nhelp(intersect_dfa)\nhelp(pruneUnreach)\nhelp(iso_dfa)\nhelp(langeq_dfa)\nhelp(same_status)\nhelp(h_langeq_dfa)\nhelp(fixptDist)\nhelp(min_dfa)\nhelp(pairFR)\nhelp(state_combos)\nhelp(sepFinNonFin)\nhelp(bash_eql_classes)\nhelp(listminus)\nhelp(bash_1)\nhelp(mk_rep_eqc)\nhelp(F_of)\nhelp(rep_of_s)\nhelp(q0_of)\nhelp(Delta_of)\nhelp(mk_state_eqc_name)\n\nYou may use any of these help commands:\nhelp(mk_nfa)\nhelp(totalize_nfa)\nhelp(step_nfa)\nhelp(run_nfa)\nhelp(ec_step_nfa)\nhelp(Eclosure)\nhelp(Echelp)\nhelp(accepts_nfa)\nhelp(nfa2dfa)\nhelp(n2d)\nhelp(inSets)\nhelp(rev_dfa)\nhelp(min_dfa_brz)\n\nYou may use any of these help commands:\nhelp(re2nfa)\n\nYou may use any of these help commands:\nhelp(lphi)\nhelp(lunit)\nhelp(lcat)\nhelp(lexp)\nhelp(lunion)\nhelp(lstar)\nhelp(srev)\nhelp(lrev)\nhelp(shomo)\nhelp(lhomo)\nhelp(powset)\nhelp(lint)\nhelp(lsymdiff)\nhelp(lminus)\nhelp(lissubset)\nhelp(lissuperset)\nhelp(lcomplem)\nhelp(product)\nhelp(nthnumeric)\n\nYou may use any of these help commands:\nhelp(RE2Str)\nhelp(mk_gnfa)\nhelp(mk_gnfa_from_D)\nhelp(dfa2nfa)\nhelp(del_gnfa_states)\nhelp(gnfa_w_REStr)\nhelp(del_one_gnfa_state)\nhelp(Edges_Exist_Via)\nhelp(choose_state_to_del)\nhelp(form_alt_RE)\nhelp(form_concat_RE)\nhelp(form_kleene_RE)\n\n"
    }
   ],
   "source": [
    "#~~~~~~~~~~~~~~~~~~~~~~~~~~~~~~~~~~~~~~~~~~~~~~~~~~~~~~~\n",
    "import sys\n",
    "\n",
    "# -- Detect if in Own Install or in Colab\n",
    "try:\n",
    "    import google.colab\n",
    "    OWN_INSTALL = False\n",
    "except:\n",
    "    OWN_INSTALL = True\n",
    "    \n",
    "if OWN_INSTALL:\n",
    "    \n",
    "  #---- Leave these definitions ON if running on laptop\n",
    "  #---- Else turn OFF by putting them between ''' ... '''\n",
    "\n",
    "  sys.path[0:0] = ['../../../../..',  '../../../../../3rdparty',  \n",
    "                   '../../../..',  '../../../../3rdparty',  \n",
    "                   '../../..',     '../../../3rdparty', \n",
    "                   '../..',        '../../3rdparty',\n",
    "                   '..',           '../3rdparty' ]\n",
    "\n",
    "else: # In colab\n",
    "  ! if [ ! -d Jove ]; then git clone https://github.com/ganeshutah/Jove Jove; fi\n",
    "  sys.path.append('./Jove')\n",
    "  sys.path.append('./Jove/jove')\n",
    "\n",
    "# -- common imports --\n",
    "from jove.DotBashers import *\n",
    "from jove.Def_md2mc  import *\n",
    "from jove.Def_DFA    import *\n",
    "from jove.Def_NFA    import *\n",
    "from jove.Def_RE2NFA import *\n",
    "from jove.LangDef    import *  # for testing DFA actions using nthnumeric if needed\n",
    "from jove.Def_NFA2RE import *\n",
    "#~~~~~~~~~~~~~~~~~~~~~~~~~~~~~~~~~~~~~~~~~~~~~~~~~~~~~~~"
   ]
  },
  {
   "cell_type": "markdown",
   "metadata": {
    "run_control": {
     "frozen": false,
     "read_only": false
    }
   },
   "source": [
    "# RE recap\n",
    "\n",
    "RE can be defined as follows\n",
    "\n",
    "* $\\varepsilon$ is an RE denoting the language $\\{\\varepsilon\\}$\n",
    "\n",
    "* $a\\in\\Sigma$ is an RE denoting the language $\\{a\\}$\n",
    "\n",
    "* If $R$, $R_1$ and $R_2$ are RE, then\n",
    "  - $R_1 R_2$ is an RE denoting the language concatenation of the individual languages\n",
    "  - $R_1 + R_2$ is an RE denoting the language union of the individual languages\n",
    "  - $R^*$ is an RE denoting the Star of the language of $R$\n",
    "  \n",
    "Notice that REs do not directly support these operations:\n",
    "\n",
    "* Conjunction\n",
    "\n",
    "* Complementation\n",
    "\n",
    "We will make these operations available when we discuss Chapter-10 where RE derivatives provide a direct way to handle intersection and complementation"
   ]
  },
  {
   "cell_type": "markdown",
   "metadata": {
    "run_control": {
     "frozen": false,
     "read_only": false
    }
   },
   "source": [
    "# RE properties\n",
    "\n",
    "RE satisfy many equational properties. Our interest is in studying a few of these properties deeply and use them in proofs. We will also state certain ``obvious facts'' that will be used in our proofs.\n",
    "\n",
    "\n",
    "Without loss of generality, assume that our alphabet is $\\Sigma=\\{a,b\\}$.\n",
    "\n",
    "* RE1: For any language $L$ over $\\Sigma$, $L\\subseteq \\Sigma^*$; that is, $L\\subseteq \\{a,b\\}^*$\n",
    "\n",
    "* RE2: $L_1^* \\subseteq (L_1 + L_2)^*$\n",
    "\n",
    "* RE3: For REs $r, s, t$, we have $r(s+t) = rs+rt$\n",
    "\n",
    "* RE4: For REs $r, s, t$, we have $(r+s)t = rt+st$\n",
    "\n",
    "* RE5: For an RE $r$, we have $r^* = (\\varepsilon + rr^*)$\n",
    "\n",
    "* RE6: For an RE $r$, we have $r^* = (\\varepsilon + r + rrr^*)$\n",
    "\n",
    "* RE7: For REs $p$,$q$,$r$,$s$, we have $(p+q)(r+s) = (pr+ps+qr+qs)$, showing that concatenation tends to work like multiplication, yet again! This can be derived from RE3 and RE4."
   ]
  },
  {
   "cell_type": "markdown",
   "metadata": {},
   "source": [
    "# Below we provide many Sections and associated Quiz Questions  \n",
    "\n",
    "## (I give the name \"Section\" for a single theme with multiple questions listed under it!)\n",
    "\n",
    "# The options below are also on the Canvas Quiz where you must answer!\n",
    "\n",
    "## (The reason to repeat the questions below is to make this document complete.)\n",
    "\n",
    "### The true answers shall be revealed in a week."
   ]
  },
  {
   "cell_type": "markdown",
   "metadata": {},
   "source": [
    "# Section-1: This section leads you through the proof that $(a^* b^*)^* = (a+b)^*$\n",
    "\n",
    "## Quiz-hint: For REs $s$ and $t$, to show $s=t$\n",
    " \n",
    "### Show $s\\subseteq t$\n",
    "  \n",
    "### Show $t\\subseteq s$\n",
    "  \n",
    "## ===> For Quiz question Q1, \n",
    "\n",
    "### It is clear that the $s\\subseteq t$ is TRUE (treating $s$ to be $(a^* b^*)^*$ and $t$ to be $(a+b)^*$) because  (...Your Answer...) (choose from the options offered)\n",
    "\n",
    "* Option-1 : $(a+b)^*$ looks more comprehensive and likely that this is true\n",
    "\n",
    "* Option-2 : In $(a^* b^*)^*$, the $a$'s and $b$'s must come in order, hence must be included in $(a+b)^*$\n",
    "\n",
    "* Option-3 : While it appears that $(a^* b^*)^*$ lists the $a$ before the $b$, it could have been the other way too (e.g., $(b^* a^*)^*$) and both consider all strings of $a$'s and $b$'s\n",
    "\n",
    "* Option-4 : We know that $(a+b)^*$ is the universal set, so $s\\subseteq t$ is true!\n",
    "\n"
   ]
  },
  {
   "cell_type": "markdown",
   "metadata": {},
   "source": [
    "# Continuing the proof of $(a^* b^*)^* = (a+b)^*$\n",
    "  \n",
    "### For the  $t\\subseteq s$ part,\n",
    "  \n",
    "## ===> For Quiz question Q2, \n",
    "\n",
    "### we have to show $(a+b)^* \\subseteq (a^* b^*)^*$\n",
    "\n",
    "### But $(a^* b^*)^* =  ( (\\varepsilon + a + aa a^*)  (\\varepsilon + b + bb b^*) )^*$ because (...Your Answer...) (choose from the options offered) and this is advantageous because\n",
    "\n",
    "* Option-1 : $a^*$ can be expanded into a set summation and so can $b^*$ be, as per RE5 and RE6\n",
    "\n",
    "* Option-2 : This expansion will not help in the proof because it still leads to too many cases\n",
    "\n",
    "* Option-3 : Setting up in this manner, as a summation, allows us to apply the distributive laws RE3 and RE4\n",
    "\n",
    "* Option-4 : This expansion appears to be aiming for the rule RE2, but it won't be possible to use RE2 after all"
   ]
  },
  {
   "cell_type": "markdown",
   "metadata": {},
   "source": [
    "# Continuing the proof of $(a^* b^*)^* = (a+b)^*$\n",
    "  \n",
    "## ===> For Quiz question Q3,\n",
    "\n",
    "###  $ (\\varepsilon + a + aa a^*)  (\\varepsilon + b + bb b^*) = (a + b + X) $ for some RE $X$, because (...Your Answer...) (choose from the options offered), and this is advantageous because of this.\n",
    "\n",
    "\n",
    "* Option-1 : We can never achieve this form, as $X$ will be an RE of infinite size\n",
    "\n",
    "* Option-2 : This form can be achieved purely by using the rule RE3 and not using RE4\n",
    "\n",
    "* Option-3 : We can employ RE7 and obtain this form.\n",
    "\n",
    "* Option-4 : It will help us employ rule RE2 now."
   ]
  },
  {
   "cell_type": "markdown",
   "metadata": {},
   "source": [
    "# Continuing the proof of $(a^* b^*)^* = (a+b)^*$\n",
    "  \n",
    "## ===> For Quiz question Q4,\n",
    "\n",
    "###  $   (a + b + X)^* \\supseteq (a+b)^* $ because (...Your Answer...) (choose from the options offered)\n",
    "\n",
    "\n",
    "* Option-1 : This can't be true. The universal set $(a+b)^*$ can never be contained inside another set.\n",
    "\n",
    "* Option-2 : This can only mean one thing: that $X$ itself is contained within $(a+b)^*$.\n",
    "\n",
    "* Option-3 : In general, we do have this result following directly from RE2.\n",
    "\n",
    "* Option-4 : For this to be true, $X$ must be the Zero language; otherwise, there is a problem that something larger than a universal set is being discovered. "
   ]
  },
  {
   "cell_type": "markdown",
   "metadata": {},
   "source": [
    "# This finishes the proof of the $t \\subseteq s$ part also."
   ]
  },
  {
   "cell_type": "markdown",
   "metadata": {},
   "source": [
    "**-------------------------------------------------------------------------------------**"
   ]
  },
  {
   "cell_type": "markdown",
   "metadata": {},
   "source": [
    "# Section-2: REs that express bit patterns\n",
    "\n",
    "## Example: The RE that expresses all even numbers is $(0+1)^* 0$\n",
    "\n",
    "###  This is because this represents strings of bits ending in a $0$\n",
    "\n",
    "#### Further detail: We get strings of the form $00$, $010$, $110$, etc., out of the above RE, and they are all even numbers."
   ]
  },
  {
   "cell_type": "markdown",
   "metadata": {},
   "source": [
    "## ===> For Question Q5: \n",
    "\n",
    "## The RE that expresses all powers of 4 of the form $4^n$ for $n\\ge 0$ is\n",
    "\n",
    "### (i.e. we want to summarize $4^0$, $4^1$, $4^2$, etc. using one RE)\n",
    "\n",
    "* Option-1 : $0^* \\; 1\\; (00)^*$\n",
    "\n",
    "* Option-2 : $0^* \\; 1\\; (0)^*\\; (0)^*$\n",
    "\n",
    "* Option-3 : $1\\; (00) \\; ((00)^* \\; + \\; 0)$\n",
    "\n",
    "* Option-4 : $1\\; (00 + \\varepsilon) \\; ((00)^* \\; + \\; \\varepsilon)$\n"
   ]
  },
  {
   "cell_type": "markdown",
   "metadata": {},
   "source": [
    "**-------------------------------------------------------------------------------------**"
   ]
  },
  {
   "cell_type": "markdown",
   "metadata": {},
   "source": [
    "# Given R1 and R2, here is the the code to return (D1,D2) \n",
    "## Where D1 is the min DFA of Lang(R1)-Lang(R2)\n",
    "## and D2 is the min DFA of Lang(R2)-Lang(R1)"
   ]
  },
  {
   "cell_type": "code",
   "execution_count": 2,
   "metadata": {},
   "outputs": [],
   "source": [
    "def diff_RE(R1,R2):\n",
    "    '''\n",
    "    Given R1 and R2, here is the the code to return (D1,D2) \n",
    "    where D1 is the min DFA of Lang(R1)-Lang(R2)\n",
    "    and D2 is the min DFA of Lang(R2)-Lang(R1)\n",
    "    '''\n",
    "    MD1=min_dfa_brz(nfa2dfa(re2nfa(R1)))\n",
    "    MD2=min_dfa_brz(nfa2dfa(re2nfa(R2)))\n",
    "    \n",
    "    cMD1 = comp_dfa(MD1)\n",
    "    cMD2 = comp_dfa(MD2)\n",
    "    \n",
    "    D1minus2 = min_dfa_brz(intersect_dfa(MD1, cMD2))\n",
    "    D2minus1 = min_dfa_brz(intersect_dfa(MD2, cMD1))\n",
    "    \n",
    "    return (D1minus2, D2minus1)\n",
    "    "
   ]
  },
  {
   "cell_type": "code",
   "execution_count": 22,
   "metadata": {},
   "outputs": [],
   "source": [
    "R1 = \"(a*b*)*\"   #  OR \"Your Favorite\"\n",
    "R2 = \"(a+b)*\" # OR \"Your Favorite\""
   ]
  },
  {
   "cell_type": "code",
   "execution_count": 23,
   "metadata": {
    "tags": []
   },
   "outputs": [],
   "source": [
    "(d1,d2) = diff_RE(R1,R2)"
   ]
  },
  {
   "cell_type": "code",
   "execution_count": 24,
   "metadata": {},
   "outputs": [
    {
     "output_type": "execute_result",
     "data": {
      "text/plain": "<graphviz.dot.Digraph at 0x243892048b0>",
      "image/svg+xml": "<?xml version=\"1.0\" encoding=\"UTF-8\" standalone=\"no\"?>\r\n<!DOCTYPE svg PUBLIC \"-//W3C//DTD SVG 1.1//EN\"\r\n \"http://www.w3.org/Graphics/SVG/1.1/DTD/svg11.dtd\">\r\n<!-- Generated by graphviz version 2.38.0 (20140413.2041)\r\n -->\r\n<!-- Title: %3 Pages: 1 -->\r\n<svg width=\"152pt\" height=\"44pt\"\r\n viewBox=\"0.00 0.00 152.00 44.00\" xmlns=\"http://www.w3.org/2000/svg\" xmlns:xlink=\"http://www.w3.org/1999/xlink\">\r\n<g id=\"graph0\" class=\"graph\" transform=\"scale(1 1) rotate(0) translate(4 40)\">\r\n<title>%3</title>\r\n<polygon fill=\"white\" stroke=\"none\" points=\"-4,4 -4,-40 148,-40 148,4 -4,4\"/>\r\n<!-- EMPTY -->\r\n<g id=\"node1\" class=\"node\"><title>EMPTY</title>\r\n</g>\r\n<!-- BH -->\r\n<g id=\"node2\" class=\"node\"><title>BH</title>\r\n<ellipse fill=\"none\" stroke=\"black\" cx=\"117\" cy=\"-18\" rx=\"27\" ry=\"18\"/>\r\n<text text-anchor=\"middle\" x=\"117\" y=\"-14.3\" font-family=\"Times New Roman,serif\" font-size=\"14.00\">BH</text>\r\n</g>\r\n<!-- EMPTY&#45;&gt;BH -->\r\n<g id=\"edge1\" class=\"edge\"><title>EMPTY&#45;&gt;BH</title>\r\n<path fill=\"none\" stroke=\"black\" d=\"M54.4029,-18C62.3932,-18 71.3106,-18 79.8241,-18\"/>\r\n<polygon fill=\"black\" stroke=\"black\" points=\"79.919,-21.5001 89.919,-18 79.919,-14.5001 79.919,-21.5001\"/>\r\n</g>\r\n</g>\r\n</svg>\r\n"
     },
     "metadata": {},
     "execution_count": 24
    }
   ],
   "source": [
    "dotObj_dfa(d1)"
   ]
  },
  {
   "cell_type": "code",
   "execution_count": 25,
   "metadata": {},
   "outputs": [
    {
     "output_type": "execute_result",
     "data": {
      "text/plain": "<graphviz.dot.Digraph at 0x243892049a0>",
      "image/svg+xml": "<?xml version=\"1.0\" encoding=\"UTF-8\" standalone=\"no\"?>\r\n<!DOCTYPE svg PUBLIC \"-//W3C//DTD SVG 1.1//EN\"\r\n \"http://www.w3.org/Graphics/SVG/1.1/DTD/svg11.dtd\">\r\n<!-- Generated by graphviz version 2.38.0 (20140413.2041)\r\n -->\r\n<!-- Title: %3 Pages: 1 -->\r\n<svg width=\"152pt\" height=\"44pt\"\r\n viewBox=\"0.00 0.00 152.00 44.00\" xmlns=\"http://www.w3.org/2000/svg\" xmlns:xlink=\"http://www.w3.org/1999/xlink\">\r\n<g id=\"graph0\" class=\"graph\" transform=\"scale(1 1) rotate(0) translate(4 40)\">\r\n<title>%3</title>\r\n<polygon fill=\"white\" stroke=\"none\" points=\"-4,4 -4,-40 148,-40 148,4 -4,4\"/>\r\n<!-- EMPTY -->\r\n<g id=\"node1\" class=\"node\"><title>EMPTY</title>\r\n</g>\r\n<!-- BH -->\r\n<g id=\"node2\" class=\"node\"><title>BH</title>\r\n<ellipse fill=\"none\" stroke=\"black\" cx=\"117\" cy=\"-18\" rx=\"27\" ry=\"18\"/>\r\n<text text-anchor=\"middle\" x=\"117\" y=\"-14.3\" font-family=\"Times New Roman,serif\" font-size=\"14.00\">BH</text>\r\n</g>\r\n<!-- EMPTY&#45;&gt;BH -->\r\n<g id=\"edge1\" class=\"edge\"><title>EMPTY&#45;&gt;BH</title>\r\n<path fill=\"none\" stroke=\"black\" d=\"M54.4029,-18C62.3932,-18 71.3106,-18 79.8241,-18\"/>\r\n<polygon fill=\"black\" stroke=\"black\" points=\"79.919,-21.5001 89.919,-18 79.919,-14.5001 79.919,-21.5001\"/>\r\n</g>\r\n</g>\r\n</svg>\r\n"
     },
     "metadata": {},
     "execution_count": 25
    }
   ],
   "source": [
    "dotObj_dfa(d2)"
   ]
  },
  {
   "cell_type": "markdown",
   "metadata": {},
   "source": [
    "**-------------------------------------------------------------------------------------**"
   ]
  },
  {
   "cell_type": "markdown",
   "metadata": {},
   "source": [
    "# Section-3: Comparing two REs\n",
    "\n",
    "## ===> For Question Q6:\n",
    "\n",
    "## Look at these REs\n",
    "\n",
    "### R1 = $(\\; 0^* 1 (1 0^*)^* \\;)$\n",
    "\n",
    "### R2 = $(\\; 0^* 1 (0^* 1) \\;)^*$\n",
    "\n",
    "### Answer the quiz questions associated with these REs\n",
    "\n",
    "\n",
    "* Option-1 :  The languages of $R1$ and $R2$ are the same\n",
    "\n",
    "* Option-2 :  There can be an arbitrary number of $101$ occurrences in many strings within $R1$'s language\n",
    "\n",
    "* Option-3 :  Strings in $R2$'s language can end in a $0$\n",
    "\n",
    "* Option-4 :  Strings in $R2$'s language cannot end in a $0$"
   ]
  },
  {
   "cell_type": "code",
   "execution_count": 21,
   "metadata": {},
   "outputs": [
    {
     "output_type": "execute_result",
     "data": {
      "text/plain": "False"
     },
     "metadata": {},
     "execution_count": 21
    }
   ],
   "source": [
    "R1 = \"(0*1(10*)*)\"   #  OR \"Your Favorite\"\n",
    "R2 = \"(0*1(0*1))*\" # OR \"Your Favorite\"\n",
    "(d1,d2) = diff_RE(R1,R2)\n",
    "iso_dfa(d1,d2)"
   ]
  },
  {
   "cell_type": "markdown",
   "metadata": {},
   "source": [
    "# Section-4: Postage-Stamp problems\n",
    "\n",
    "## ===> For Question Q7:\n",
    "\n",
    "* Option-1 :  The largest postage stamp value that one cannot make out of stamps with value $3,5,10$ is $7$\n",
    "\n",
    "* Option-2 :  For the largest postage stamp value to exist, the set of all pairs of stamps in the set must be relatively prime\n",
    "\n",
    "* Option-3 :  The largest postage stamp value that one cannot make out of stamps with value $5,10$ is undefined\n",
    "\n",
    "* Option-4 :  The largest postage stamp value exists for any positive integer set of stamp values"
   ]
  },
  {
   "cell_type": "code",
   "execution_count": 26,
   "metadata": {
    "tags": []
   },
   "outputs": [
    {
     "output_type": "execute_result",
     "data": {
      "text/plain": "7"
     },
     "metadata": {},
     "execution_count": 26
    }
   ],
   "source": [
    "RE_3_5_10 = \"(111+11111+1111111111)*\"\n",
    "D_3_5_10  = min_dfa(nfa2dfa(re2nfa(RE_3_5_10)))\n",
    "len(D_3_5_10['Q']) - 2"
   ]
  },
  {
   "cell_type": "code",
   "execution_count": 27,
   "metadata": {},
   "outputs": [
    {
     "output_type": "execute_result",
     "data": {
      "text/plain": "<graphviz.dot.Digraph at 0x2438968e460>",
      "image/svg+xml": "<?xml version=\"1.0\" encoding=\"UTF-8\" standalone=\"no\"?>\r\n<!DOCTYPE svg PUBLIC \"-//W3C//DTD SVG 1.1//EN\"\r\n \"http://www.w3.org/Graphics/SVG/1.1/DTD/svg11.dtd\">\r\n<!-- Generated by graphviz version 2.38.0 (20140413.2041)\r\n -->\r\n<!-- Title: %3 Pages: 1 -->\r\n<svg width=\"997pt\" height=\"99pt\"\r\n viewBox=\"0.00 0.00 997.26 99.05\" xmlns=\"http://www.w3.org/2000/svg\" xmlns:xlink=\"http://www.w3.org/1999/xlink\">\r\n<g id=\"graph0\" class=\"graph\" transform=\"scale(1 1) rotate(0) translate(4 95.0456)\">\r\n<title>%3</title>\r\n<polygon fill=\"white\" stroke=\"none\" points=\"-4,4 -4,-95.0456 993.257,-95.0456 993.257,4 -4,4\"/>\r\n<!-- EMPTY -->\r\n<g id=\"node1\" class=\"node\"><title>EMPTY</title>\r\n</g>\r\n<!-- St14 -->\r\n<g id=\"node6\" class=\"node\"><title>St14</title>\r\n<ellipse fill=\"none\" stroke=\"black\" cx=\"122.298\" cy=\"-31.2976\" rx=\"27.1222\" ry=\"27.1222\"/>\r\n<ellipse fill=\"none\" stroke=\"black\" cx=\"122.298\" cy=\"-31.2976\" rx=\"31.0965\" ry=\"31.0965\"/>\r\n<text text-anchor=\"middle\" x=\"122.298\" y=\"-27.5976\" font-family=\"Times New Roman,serif\" font-size=\"14.00\">St14</text>\r\n</g>\r\n<!-- EMPTY&#45;&gt;St14 -->\r\n<g id=\"edge1\" class=\"edge\"><title>EMPTY&#45;&gt;St14</title>\r\n<path fill=\"none\" stroke=\"black\" d=\"M54.4858,-31.2976C62.6172,-31.2976 71.7607,-31.2976 80.613,-31.2976\"/>\r\n<polygon fill=\"black\" stroke=\"black\" points=\"80.7929,-34.7977 90.7929,-31.2976 80.7928,-27.7977 80.7929,-34.7977\"/>\r\n</g>\r\n<!-- St17 -->\r\n<g id=\"node2\" class=\"node\"><title>St17</title>\r\n<ellipse fill=\"none\" stroke=\"black\" cx=\"540.678\" cy=\"-31.2976\" rx=\"27.0966\" ry=\"27.0966\"/>\r\n<text text-anchor=\"middle\" x=\"540.678\" y=\"-27.5976\" font-family=\"Times New Roman,serif\" font-size=\"14.00\">St17</text>\r\n</g>\r\n<!-- St10 -->\r\n<g id=\"node10\" class=\"node\"><title>St10</title>\r\n<ellipse fill=\"none\" stroke=\"black\" cx=\"646.273\" cy=\"-31.2976\" rx=\"27.1222\" ry=\"27.1222\"/>\r\n<ellipse fill=\"none\" stroke=\"black\" cx=\"646.273\" cy=\"-31.2976\" rx=\"31.0965\" ry=\"31.0965\"/>\r\n<text text-anchor=\"middle\" x=\"646.273\" y=\"-27.5976\" font-family=\"Times New Roman,serif\" font-size=\"14.00\">St10</text>\r\n</g>\r\n<!-- St17&#45;&gt;St10 -->\r\n<g id=\"edge6\" class=\"edge\"><title>St17&#45;&gt;St10</title>\r\n<path fill=\"none\" stroke=\"black\" d=\"M568.088,-31.2976C579.234,-31.2976 592.464,-31.2976 604.795,-31.2976\"/>\r\n<polygon fill=\"black\" stroke=\"black\" points=\"604.875,-34.7977 614.875,-31.2976 604.875,-27.7977 604.875,-34.7977\"/>\r\n<text text-anchor=\"middle\" x=\"591.476\" y=\"-35.0976\" font-family=\"Times New Roman,serif\" font-size=\"14.00\">1 </text>\r\n</g>\r\n<!-- St16 -->\r\n<g id=\"node3\" class=\"node\"><title>St16</title>\r\n<ellipse fill=\"none\" stroke=\"black\" cx=\"329.488\" cy=\"-31.2976\" rx=\"27.0966\" ry=\"27.0966\"/>\r\n<text text-anchor=\"middle\" x=\"329.488\" y=\"-27.5976\" font-family=\"Times New Roman,serif\" font-size=\"14.00\">St16</text>\r\n</g>\r\n<!-- St13 -->\r\n<g id=\"node9\" class=\"node\"><title>St13</title>\r\n<ellipse fill=\"none\" stroke=\"black\" cx=\"435.083\" cy=\"-31.2976\" rx=\"27.1222\" ry=\"27.1222\"/>\r\n<ellipse fill=\"none\" stroke=\"black\" cx=\"435.083\" cy=\"-31.2976\" rx=\"31.0965\" ry=\"31.0965\"/>\r\n<text text-anchor=\"middle\" x=\"435.083\" y=\"-27.5976\" font-family=\"Times New Roman,serif\" font-size=\"14.00\">St13</text>\r\n</g>\r\n<!-- St16&#45;&gt;St13 -->\r\n<g id=\"edge4\" class=\"edge\"><title>St16&#45;&gt;St13</title>\r\n<path fill=\"none\" stroke=\"black\" d=\"M356.897,-31.2976C368.044,-31.2976 381.274,-31.2976 393.604,-31.2976\"/>\r\n<polygon fill=\"black\" stroke=\"black\" points=\"393.685,-34.7977 403.685,-31.2976 393.685,-27.7977 393.685,-34.7977\"/>\r\n<text text-anchor=\"middle\" x=\"380.285\" y=\"-35.0976\" font-family=\"Times New Roman,serif\" font-size=\"14.00\">1 </text>\r\n</g>\r\n<!-- St18 -->\r\n<g id=\"node4\" class=\"node\"><title>St18</title>\r\n<ellipse fill=\"none\" stroke=\"black\" cx=\"227.893\" cy=\"-31.2976\" rx=\"27.0966\" ry=\"27.0966\"/>\r\n<text text-anchor=\"middle\" x=\"227.893\" y=\"-27.5976\" font-family=\"Times New Roman,serif\" font-size=\"14.00\">St18</text>\r\n</g>\r\n<!-- St18&#45;&gt;St16 -->\r\n<g id=\"edge3\" class=\"edge\"><title>St18&#45;&gt;St16</title>\r\n<path fill=\"none\" stroke=\"black\" d=\"M255.321,-31.2976C266.464,-31.2976 279.626,-31.2976 291.692,-31.2976\"/>\r\n<polygon fill=\"black\" stroke=\"black\" points=\"291.936,-34.7977 301.936,-31.2976 291.936,-27.7977 291.936,-34.7977\"/>\r\n<text text-anchor=\"middle\" x=\"278.69\" y=\"-35.0976\" font-family=\"Times New Roman,serif\" font-size=\"14.00\">1 </text>\r\n</g>\r\n<!-- St15 -->\r\n<g id=\"node5\" class=\"node\"><title>St15</title>\r\n<ellipse fill=\"none\" stroke=\"black\" cx=\"861.464\" cy=\"-31.2976\" rx=\"27.0966\" ry=\"27.0966\"/>\r\n<text text-anchor=\"middle\" x=\"861.464\" y=\"-27.5976\" font-family=\"Times New Roman,serif\" font-size=\"14.00\">St15</text>\r\n</g>\r\n<!-- St2 -->\r\n<g id=\"node7\" class=\"node\"><title>St2</title>\r\n<ellipse fill=\"none\" stroke=\"black\" cx=\"962.509\" cy=\"-31.2976\" rx=\"22.9609\" ry=\"22.9609\"/>\r\n<ellipse fill=\"none\" stroke=\"black\" cx=\"962.509\" cy=\"-31.2976\" rx=\"26.9983\" ry=\"26.9983\"/>\r\n<text text-anchor=\"middle\" x=\"962.509\" y=\"-27.5976\" font-family=\"Times New Roman,serif\" font-size=\"14.00\">St2</text>\r\n</g>\r\n<!-- St15&#45;&gt;St2 -->\r\n<g id=\"edge9\" class=\"edge\"><title>St15&#45;&gt;St2</title>\r\n<path fill=\"none\" stroke=\"black\" d=\"M889.006,-31.2976C900.175,-31.2976 913.347,-31.2976 925.378,-31.2976\"/>\r\n<polygon fill=\"black\" stroke=\"black\" points=\"925.579,-34.7977 935.579,-31.2976 925.579,-27.7977 925.579,-34.7977\"/>\r\n<text text-anchor=\"middle\" x=\"912.261\" y=\"-35.0976\" font-family=\"Times New Roman,serif\" font-size=\"14.00\">1 </text>\r\n</g>\r\n<!-- St14&#45;&gt;St18 -->\r\n<g id=\"edge2\" class=\"edge\"><title>St14&#45;&gt;St18</title>\r\n<path fill=\"none\" stroke=\"black\" d=\"M153.819,-31.2976C165.267,-31.2976 178.394,-31.2976 190.334,-31.2976\"/>\r\n<polygon fill=\"black\" stroke=\"black\" points=\"190.45,-34.7977 200.45,-31.2976 190.45,-27.7977 190.45,-34.7977\"/>\r\n<text text-anchor=\"middle\" x=\"177.095\" y=\"-35.0976\" font-family=\"Times New Roman,serif\" font-size=\"14.00\">1 </text>\r\n</g>\r\n<!-- St2&#45;&gt;St2 -->\r\n<g id=\"edge10\" class=\"edge\"><title>St2&#45;&gt;St2</title>\r\n<path fill=\"none\" stroke=\"black\" d=\"M953.217,-56.5986C952.576,-67.1236 955.673,-76.0456 962.509,-76.0456 966.995,-76.0456 969.871,-72.2032 971.137,-66.587\"/>\r\n<polygon fill=\"black\" stroke=\"black\" points=\"974.63,-66.8088 971.802,-56.5986 967.646,-66.3442 974.63,-66.8088\"/>\r\n<text text-anchor=\"middle\" x=\"962.509\" y=\"-79.8456\" font-family=\"Times New Roman,serif\" font-size=\"14.00\">1 </text>\r\n</g>\r\n<!-- St12 -->\r\n<g id=\"node8\" class=\"node\"><title>St12</title>\r\n<ellipse fill=\"none\" stroke=\"black\" cx=\"755.869\" cy=\"-31.2976\" rx=\"27.1222\" ry=\"27.1222\"/>\r\n<ellipse fill=\"none\" stroke=\"black\" cx=\"755.869\" cy=\"-31.2976\" rx=\"31.0965\" ry=\"31.0965\"/>\r\n<text text-anchor=\"middle\" x=\"755.869\" y=\"-27.5976\" font-family=\"Times New Roman,serif\" font-size=\"14.00\">St12</text>\r\n</g>\r\n<!-- St12&#45;&gt;St15 -->\r\n<g id=\"edge8\" class=\"edge\"><title>St12&#45;&gt;St15</title>\r\n<path fill=\"none\" stroke=\"black\" d=\"M787.39,-31.2976C798.838,-31.2976 811.965,-31.2976 823.905,-31.2976\"/>\r\n<polygon fill=\"black\" stroke=\"black\" points=\"824.021,-34.7977 834.021,-31.2976 824.021,-27.7977 824.021,-34.7977\"/>\r\n<text text-anchor=\"middle\" x=\"810.666\" y=\"-35.0976\" font-family=\"Times New Roman,serif\" font-size=\"14.00\">1 </text>\r\n</g>\r\n<!-- St13&#45;&gt;St17 -->\r\n<g id=\"edge5\" class=\"edge\"><title>St13&#45;&gt;St17</title>\r\n<path fill=\"none\" stroke=\"black\" d=\"M466.605,-31.2976C478.053,-31.2976 491.179,-31.2976 503.119,-31.2976\"/>\r\n<polygon fill=\"black\" stroke=\"black\" points=\"503.235,-34.7977 513.235,-31.2976 503.235,-27.7977 503.235,-34.7977\"/>\r\n<text text-anchor=\"middle\" x=\"489.881\" y=\"-35.0976\" font-family=\"Times New Roman,serif\" font-size=\"14.00\">1 </text>\r\n</g>\r\n<!-- St10&#45;&gt;St12 -->\r\n<g id=\"edge7\" class=\"edge\"><title>St10&#45;&gt;St12</title>\r\n<path fill=\"none\" stroke=\"black\" d=\"M677.818,-31.2976C689.062,-31.2976 701.985,-31.2976 713.994,-31.2976\"/>\r\n<polygon fill=\"black\" stroke=\"black\" points=\"714.248,-34.7977 724.247,-31.2976 714.247,-27.7977 714.248,-34.7977\"/>\r\n<text text-anchor=\"middle\" x=\"701.071\" y=\"-35.0976\" font-family=\"Times New Roman,serif\" font-size=\"14.00\">1 </text>\r\n</g>\r\n</g>\r\n</svg>\r\n"
     },
     "metadata": {},
     "execution_count": 27
    }
   ],
   "source": [
    "dotObj_dfa(D_3_5_10)"
   ]
  },
  {
   "cell_type": "code",
   "execution_count": 28,
   "metadata": {
    "tags": []
   },
   "outputs": [
    {
     "output_type": "execute_result",
     "data": {
      "text/plain": "<graphviz.dot.Digraph at 0x243891e80a0>",
      "image/svg+xml": "<?xml version=\"1.0\" encoding=\"UTF-8\" standalone=\"no\"?>\r\n<!DOCTYPE svg PUBLIC \"-//W3C//DTD SVG 1.1//EN\"\r\n \"http://www.w3.org/Graphics/SVG/1.1/DTD/svg11.dtd\">\r\n<!-- Generated by graphviz version 2.38.0 (20140413.2041)\r\n -->\r\n<!-- Title: %3 Pages: 1 -->\r\n<svg width=\"522pt\" height=\"105pt\"\r\n viewBox=\"0.00 0.00 522.48 104.75\" xmlns=\"http://www.w3.org/2000/svg\" xmlns:xlink=\"http://www.w3.org/1999/xlink\">\r\n<g id=\"graph0\" class=\"graph\" transform=\"scale(1 1) rotate(0) translate(4 100.748)\">\r\n<title>%3</title>\r\n<polygon fill=\"white\" stroke=\"none\" points=\"-4,4 -4,-100.748 518.48,-100.748 518.48,4 -4,4\"/>\r\n<!-- EMPTY -->\r\n<g id=\"node1\" class=\"node\"><title>EMPTY</title>\r\n</g>\r\n<!-- St0 -->\r\n<g id=\"node6\" class=\"node\"><title>St0</title>\r\n<ellipse fill=\"none\" stroke=\"black\" cx=\"117.748\" cy=\"-59.748\" rx=\"22.9609\" ry=\"22.9609\"/>\r\n<ellipse fill=\"none\" stroke=\"black\" cx=\"117.748\" cy=\"-59.748\" rx=\"26.9983\" ry=\"26.9983\"/>\r\n<text text-anchor=\"middle\" x=\"117.748\" y=\"-56.048\" font-family=\"Times New Roman,serif\" font-size=\"14.00\">St0</text>\r\n</g>\r\n<!-- EMPTY&#45;&gt;St0 -->\r\n<g id=\"edge1\" class=\"edge\"><title>EMPTY&#45;&gt;St0</title>\r\n<path fill=\"none\" stroke=\"black\" d=\"M54.1473,-59.748C62.4527,-59.748 71.7892,-59.748 80.6665,-59.748\"/>\r\n<polygon fill=\"black\" stroke=\"black\" points=\"80.7876,-63.2481 90.7876,-59.748 80.7875,-56.2481 80.7876,-63.2481\"/>\r\n</g>\r\n<!-- St9 -->\r\n<g id=\"node2\" class=\"node\"><title>St9</title>\r\n<ellipse fill=\"none\" stroke=\"black\" cx=\"491.732\" cy=\"-60.748\" rx=\"22.9987\" ry=\"22.9987\"/>\r\n<text text-anchor=\"middle\" x=\"491.732\" y=\"-57.048\" font-family=\"Times New Roman,serif\" font-size=\"14.00\">St9</text>\r\n</g>\r\n<!-- St9&#45;&gt;St0 -->\r\n<g id=\"edge6\" class=\"edge\"><title>St9&#45;&gt;St0</title>\r\n<path fill=\"none\" stroke=\"black\" d=\"M470.199,-68.3295C452.058,-74.3447 424.751,-81.748 400.236,-81.748 213.244,-81.748 213.244,-81.748 213.244,-81.748 192.968,-81.748 170.867,-76.8837 153.14,-71.7297\"/>\r\n<polygon fill=\"black\" stroke=\"black\" points=\"153.842,-68.2841 143.255,-68.6962 151.788,-74.9761 153.842,-68.2841\"/>\r\n<text text-anchor=\"middle\" x=\"306.74\" y=\"-85.548\" font-family=\"Times New Roman,serif\" font-size=\"14.00\">1 </text>\r\n</g>\r\n<!-- St5 -->\r\n<g id=\"node3\" class=\"node\"><title>St5</title>\r\n<ellipse fill=\"none\" stroke=\"black\" cx=\"306.74\" cy=\"-22.748\" rx=\"22.9987\" ry=\"22.9987\"/>\r\n<text text-anchor=\"middle\" x=\"306.74\" y=\"-19.048\" font-family=\"Times New Roman,serif\" font-size=\"14.00\">St5</text>\r\n</g>\r\n<!-- St7 -->\r\n<g id=\"node5\" class=\"node\"><title>St7</title>\r\n<ellipse fill=\"none\" stroke=\"black\" cx=\"399.236\" cy=\"-28.748\" rx=\"22.9987\" ry=\"22.9987\"/>\r\n<text text-anchor=\"middle\" x=\"399.236\" y=\"-25.048\" font-family=\"Times New Roman,serif\" font-size=\"14.00\">St7</text>\r\n</g>\r\n<!-- St5&#45;&gt;St7 -->\r\n<g id=\"edge4\" class=\"edge\"><title>St5&#45;&gt;St7</title>\r\n<path fill=\"none\" stroke=\"black\" d=\"M329.646,-24.2004C340.651,-24.93 354.192,-25.8278 366.328,-26.6324\"/>\r\n<polygon fill=\"black\" stroke=\"black\" points=\"366.321,-30.1396 376.531,-27.3089 366.785,-23.1549 366.321,-30.1396\"/>\r\n<text text-anchor=\"middle\" x=\"352.988\" y=\"-30.548\" font-family=\"Times New Roman,serif\" font-size=\"14.00\">1 </text>\r\n</g>\r\n<!-- St3 -->\r\n<g id=\"node4\" class=\"node\"><title>St3</title>\r\n<ellipse fill=\"none\" stroke=\"black\" cx=\"214.244\" cy=\"-28.748\" rx=\"22.9987\" ry=\"22.9987\"/>\r\n<text text-anchor=\"middle\" x=\"214.244\" y=\"-25.048\" font-family=\"Times New Roman,serif\" font-size=\"14.00\">St3</text>\r\n</g>\r\n<!-- St3&#45;&gt;St5 -->\r\n<g id=\"edge3\" class=\"edge\"><title>St3&#45;&gt;St5</title>\r\n<path fill=\"none\" stroke=\"black\" d=\"M237.15,-27.2955C248.155,-26.5659 261.696,-25.6681 273.832,-24.8635\"/>\r\n<polygon fill=\"black\" stroke=\"black\" points=\"274.289,-28.341 284.035,-24.187 273.825,-21.3564 274.289,-28.341\"/>\r\n<text text-anchor=\"middle\" x=\"260.492\" y=\"-30.548\" font-family=\"Times New Roman,serif\" font-size=\"14.00\">1 </text>\r\n</g>\r\n<!-- St7&#45;&gt;St9 -->\r\n<g id=\"edge5\" class=\"edge\"><title>St7&#45;&gt;St9</title>\r\n<path fill=\"none\" stroke=\"black\" d=\"M421.225,-36.1699C432.958,-40.3189 447.782,-45.5605 460.722,-50.1364\"/>\r\n<polygon fill=\"black\" stroke=\"black\" points=\"459.574,-53.4426 470.169,-53.4767 461.908,-46.8431 459.574,-53.4426\"/>\r\n<text text-anchor=\"middle\" x=\"445.484\" y=\"-50.548\" font-family=\"Times New Roman,serif\" font-size=\"14.00\">1 </text>\r\n</g>\r\n<!-- St0&#45;&gt;St3 -->\r\n<g id=\"edge2\" class=\"edge\"><title>St0&#45;&gt;St3</title>\r\n<path fill=\"none\" stroke=\"black\" d=\"M143.576,-51.6031C155.571,-47.668 170.076,-42.9096 182.738,-38.7556\"/>\r\n<polygon fill=\"black\" stroke=\"black\" points=\"184.004,-42.0238 192.415,-35.581 181.822,-35.3726 184.004,-42.0238\"/>\r\n<text text-anchor=\"middle\" x=\"167.996\" y=\"-49.548\" font-family=\"Times New Roman,serif\" font-size=\"14.00\">1 </text>\r\n</g>\r\n</g>\r\n</svg>\r\n"
     },
     "metadata": {},
     "execution_count": 28
    }
   ],
   "source": [
    "RE_5_10 = \"(11111+1111111111)*\"\n",
    "D_5_10  = min_dfa(nfa2dfa(re2nfa(RE_5_10)))\n",
    "dotObj_dfa(D_5_10)"
   ]
  },
  {
   "cell_type": "markdown",
   "metadata": {},
   "source": [
    "# Section-5: Error-Correcting DFA\n",
    "\n",
    "## ===> For Question Q8:\n",
    "\n",
    "## Suppose we allow any N bits to be wrong in a sequence $....010101....$ expected at the receiving end. Then, the RE that models this situation satisfies the following properties (note that the \"...\" mean \"any bit at all, or no bits\")\n",
    "\n",
    "\n",
    "* Option-1 :   The DFA for four bits being incorrect can be obtained by reversing the DFA with four bits being correct.\n",
    "\n",
    "* Option-2 :   If $N=2$, we can write the RE as $(0+1)* PQRSTU (0+1)*$   with any two of P,Q,R,S,T,U being $(0+1)$ and the other four being the intended bits (with the different combinations OR-ed).\n",
    "\n",
    "* Option-3 :   If $N=6$, we can write the whole RE as $(0+1)*(0+1)^6(0+1)^*$\n",
    "\n",
    "* Option-4 :   We can never produce an error-correcting DFA that also told us how many bits were wrong."
   ]
  },
  {
   "cell_type": "markdown",
   "metadata": {},
   "source": [
    "# Section-6: Kleene Pipeline Questions\n",
    "\n",
    "## ===> For Question Q9:\n",
    "\n",
    "## Given these functions, the following is how I implement a new function \"nfaMinComp\" NFA complementation to produce a minimal DFA for a given NFA N's complement.\n",
    "\n",
    "### SUPPOSE I am given these functions\n",
    "\n",
    "* nfa2dfa -- the current NFA to DFA function\n",
    "\n",
    "* rev_dfa -- the current function to reverse a DFA\n",
    "\n",
    "* comp_dfa -- the current complementation function for DFA\n",
    "\n",
    "* min_dfa -- the current minimizer for DFA\n",
    "\n",
    "* rev_nfa -- a new function that could be implemented similar to rev_dfa to reverse an NFA (this is not hard to do)\n",
    "\n",
    " \n",
    "\n",
    "### Here is how I'll write nfaMinComp:\n",
    "\n",
    "* Option-1 : nfa2dfa(rev_nfa(N))\n",
    "\n",
    "* Option-2 : comp_dfa(nfa2dfa(N))\n",
    "\n",
    "* Option-3 : comp_dfa(min_dfa(nfa2dfa(N)))\n",
    "\n",
    "* Option-4 : min_dfa(comp_dfa(nfa2dfa(N)))"
   ]
  },
  {
   "cell_type": "code",
   "execution_count": 40,
   "metadata": {},
   "outputs": [],
   "source": [
    "N = re2nfa(\"(0*1(0*1))*\")"
   ]
  },
  {
   "cell_type": "code",
   "execution_count": 31,
   "metadata": {
    "tags": []
   },
   "outputs": [
    {
     "output_type": "error",
     "ename": "NameError",
     "evalue": "name 'rev_nfa' is not defined",
     "traceback": [
      "\u001b[1;31m---------------------------------------------------------------------------\u001b[0m",
      "\u001b[1;31mNameError\u001b[0m                                 Traceback (most recent call last)",
      "\u001b[1;32m<ipython-input-31-4d68892c1d9f>\u001b[0m in \u001b[0;36m<module>\u001b[1;34m\u001b[0m\n\u001b[1;32m----> 1\u001b[1;33m \u001b[0mnfa2dfa\u001b[0m\u001b[1;33m(\u001b[0m\u001b[0mrev_nfa\u001b[0m\u001b[1;33m(\u001b[0m\u001b[0mN\u001b[0m\u001b[1;33m)\u001b[0m\u001b[1;33m)\u001b[0m\u001b[1;33m\u001b[0m\u001b[1;33m\u001b[0m\u001b[0m\n\u001b[0m",
      "\u001b[1;31mNameError\u001b[0m: name 'rev_nfa' is not defined"
     ]
    }
   ],
   "source": [
    "nfa2dfa(rev_nfa(N))"
   ]
  },
  {
   "cell_type": "code",
   "execution_count": 37,
   "metadata": {},
   "outputs": [
    {
     "output_type": "execute_result",
     "data": {
      "text/plain": "<graphviz.dot.Digraph at 0x24389a4abe0>",
      "image/svg+xml": "<?xml version=\"1.0\" encoding=\"UTF-8\" standalone=\"no\"?>\r\n<!DOCTYPE svg PUBLIC \"-//W3C//DTD SVG 1.1//EN\"\r\n \"http://www.w3.org/Graphics/SVG/1.1/DTD/svg11.dtd\">\r\n<!-- Generated by graphviz version 2.38.0 (20140413.2041)\r\n -->\r\n<!-- Title: %3 Pages: 1 -->\r\n<svg width=\"538pt\" height=\"251pt\"\r\n viewBox=\"0.00 0.00 538.48 251.00\" xmlns=\"http://www.w3.org/2000/svg\" xmlns:xlink=\"http://www.w3.org/1999/xlink\">\r\n<g id=\"graph0\" class=\"graph\" transform=\"scale(1 1) rotate(0) translate(4 247)\">\r\n<title>%3</title>\r\n<polygon fill=\"white\" stroke=\"none\" points=\"-4,4 -4,-247 534.48,-247 534.48,4 -4,4\"/>\r\n<!-- EMPTY -->\r\n<g id=\"node1\" class=\"node\"><title>EMPTY</title>\r\n</g>\r\n<!-- St1 -->\r\n<g id=\"node3\" class=\"node\"><title>St1</title>\r\n<ellipse fill=\"none\" stroke=\"black\" cx=\"113.748\" cy=\"-32\" rx=\"22.9987\" ry=\"22.9987\"/>\r\n<text text-anchor=\"middle\" x=\"113.748\" y=\"-28.3\" font-family=\"Times New Roman,serif\" font-size=\"14.00\">St1</text>\r\n</g>\r\n<!-- EMPTY&#45;&gt;St1 -->\r\n<g id=\"edge1\" class=\"edge\"><title>EMPTY&#45;&gt;St1</title>\r\n<path fill=\"none\" stroke=\"black\" d=\"M54.3502,-32C62.71,-32 72.0455,-32 80.757,-32\"/>\r\n<polygon fill=\"black\" stroke=\"black\" points=\"80.9663,-35.5001 90.9663,-32 80.9662,-28.5001 80.9663,-35.5001\"/>\r\n</g>\r\n<!-- St0 -->\r\n<g id=\"node2\" class=\"node\"><title>St0</title>\r\n<ellipse fill=\"none\" stroke=\"black\" cx=\"407.236\" cy=\"-170\" rx=\"22.9987\" ry=\"22.9987\"/>\r\n<text text-anchor=\"middle\" x=\"407.236\" y=\"-166.3\" font-family=\"Times New Roman,serif\" font-size=\"14.00\">St0</text>\r\n</g>\r\n<!-- St3 -->\r\n<g id=\"node4\" class=\"node\"><title>St3</title>\r\n<ellipse fill=\"none\" stroke=\"black\" cx=\"210.244\" cy=\"-98\" rx=\"22.9609\" ry=\"22.9609\"/>\r\n<ellipse fill=\"none\" stroke=\"black\" cx=\"210.244\" cy=\"-98\" rx=\"26.9983\" ry=\"26.9983\"/>\r\n<text text-anchor=\"middle\" x=\"210.244\" y=\"-94.3\" font-family=\"Times New Roman,serif\" font-size=\"14.00\">St3</text>\r\n</g>\r\n<!-- St0&#45;&gt;St3 -->\r\n<g id=\"edge8\" class=\"edge\"><title>St0&#45;&gt;St3</title>\r\n<path fill=\"none\" stroke=\"black\" d=\"M384.517,-174.007C359.3,-177.654 316.955,-180.617 283.992,-167 264.037,-158.757 246.342,-142.304 233.401,-127.532\"/>\r\n<polygon fill=\"black\" stroke=\"black\" points=\"235.823,-124.974 226.716,-119.561 230.46,-129.473 235.823,-124.974\"/>\r\n<text text-anchor=\"middle\" x=\"310.74\" y=\"-180.8\" font-family=\"Times New Roman,serif\" font-size=\"14.00\">1 </text>\r\n</g>\r\n<!-- St2 -->\r\n<g id=\"node6\" class=\"node\"><title>St2</title>\r\n<ellipse fill=\"none\" stroke=\"black\" cx=\"503.732\" cy=\"-43\" rx=\"22.9609\" ry=\"22.9609\"/>\r\n<ellipse fill=\"none\" stroke=\"black\" cx=\"503.732\" cy=\"-43\" rx=\"26.9983\" ry=\"26.9983\"/>\r\n<text text-anchor=\"middle\" x=\"503.732\" y=\"-39.3\" font-family=\"Times New Roman,serif\" font-size=\"14.00\">St2</text>\r\n</g>\r\n<!-- St0&#45;&gt;St2 -->\r\n<g id=\"edge9\" class=\"edge\"><title>St0&#45;&gt;St2</title>\r\n<path fill=\"none\" stroke=\"black\" d=\"M421.574,-152.073C436.956,-131.4 462.473,-97.1066 480.791,-72.4884\"/>\r\n<polygon fill=\"black\" stroke=\"black\" points=\"483.78,-74.3345 486.941,-64.2223 478.164,-70.1558 483.78,-74.3345\"/>\r\n<text text-anchor=\"middle\" x=\"453.484\" y=\"-118.8\" font-family=\"Times New Roman,serif\" font-size=\"14.00\">0 </text>\r\n</g>\r\n<!-- St1&#45;&gt;St3 -->\r\n<g id=\"edge2\" class=\"edge\"><title>St1&#45;&gt;St3</title>\r\n<path fill=\"none\" stroke=\"black\" d=\"M132.968,-44.7255C146.059,-53.8689 164.004,-66.4027 179.2,-77.016\"/>\r\n<polygon fill=\"black\" stroke=\"black\" points=\"177.569,-80.1463 187.772,-83.0029 181.578,-74.4074 177.569,-80.1463\"/>\r\n<text text-anchor=\"middle\" x=\"159.996\" y=\"-70.8\" font-family=\"Times New Roman,serif\" font-size=\"14.00\">1 </text>\r\n</g>\r\n<!-- St1&#45;&gt;St2 -->\r\n<g id=\"edge3\" class=\"edge\"><title>St1&#45;&gt;St2</title>\r\n<path fill=\"none\" stroke=\"black\" d=\"M134.013,-21.3445C152.67,-12.0356 182.05,-0 209.244,-0 209.244,-0 209.244,-0 408.236,-0 431.412,-0 455.147,-10.8486 473.032,-21.6476\"/>\r\n<polygon fill=\"black\" stroke=\"black\" points=\"471.501,-24.8214 481.817,-27.2326 475.256,-18.914 471.501,-24.8214\"/>\r\n<text text-anchor=\"middle\" x=\"310.74\" y=\"-3.8\" font-family=\"Times New Roman,serif\" font-size=\"14.00\">0 </text>\r\n</g>\r\n<!-- St3&#45;&gt;St0 -->\r\n<g id=\"edge4\" class=\"edge\"><title>St3&#45;&gt;St0</title>\r\n<path fill=\"none\" stroke=\"black\" d=\"M214.396,-124.544C218.884,-149.967 229.613,-187.414 254.992,-208 293.477,-239.217 322.236,-230.302 366.488,-208 373.018,-204.709 379.198,-199.986 384.654,-194.982\"/>\r\n<polygon fill=\"black\" stroke=\"black\" points=\"387.468,-197.119 392.085,-187.584 382.529,-192.159 387.468,-197.119\"/>\r\n<text text-anchor=\"middle\" x=\"310.74\" y=\"-231.8\" font-family=\"Times New Roman,serif\" font-size=\"14.00\">1 </text>\r\n</g>\r\n<!-- St4 -->\r\n<g id=\"node5\" class=\"node\"><title>St4</title>\r\n<ellipse fill=\"none\" stroke=\"black\" cx=\"310.74\" cy=\"-98\" rx=\"22.9609\" ry=\"22.9609\"/>\r\n<ellipse fill=\"none\" stroke=\"black\" cx=\"310.74\" cy=\"-98\" rx=\"26.9983\" ry=\"26.9983\"/>\r\n<text text-anchor=\"middle\" x=\"310.74\" y=\"-94.3\" font-family=\"Times New Roman,serif\" font-size=\"14.00\">St4</text>\r\n</g>\r\n<!-- St3&#45;&gt;St4 -->\r\n<g id=\"edge5\" class=\"edge\"><title>St3&#45;&gt;St4</title>\r\n<path fill=\"none\" stroke=\"black\" d=\"M237.123,-98C248.232,-98 261.406,-98 273.464,-98\"/>\r\n<polygon fill=\"black\" stroke=\"black\" points=\"273.692,-101.5 283.692,-98 273.692,-94.5001 273.692,-101.5\"/>\r\n<text text-anchor=\"middle\" x=\"260.492\" y=\"-101.8\" font-family=\"Times New Roman,serif\" font-size=\"14.00\">0 </text>\r\n</g>\r\n<!-- St4&#45;&gt;St0 -->\r\n<g id=\"edge10\" class=\"edge\"><title>St4&#45;&gt;St0</title>\r\n<path fill=\"none\" stroke=\"black\" d=\"M332.712,-113.979C346.711,-124.646 365.223,-138.751 380.17,-150.139\"/>\r\n<polygon fill=\"black\" stroke=\"black\" points=\"378.421,-153.207 388.497,-156.484 382.664,-147.639 378.421,-153.207\"/>\r\n<text text-anchor=\"middle\" x=\"360.988\" y=\"-144.8\" font-family=\"Times New Roman,serif\" font-size=\"14.00\">1 </text>\r\n</g>\r\n<!-- St4&#45;&gt;St4 -->\r\n<g id=\"edge11\" class=\"edge\"><title>St4&#45;&gt;St4</title>\r\n<path fill=\"none\" stroke=\"black\" d=\"M301.447,-123.301C300.806,-133.826 303.904,-142.748 310.74,-142.748 315.226,-142.748 318.102,-138.906 319.368,-133.289\"/>\r\n<polygon fill=\"black\" stroke=\"black\" points=\"322.861,-133.511 320.033,-123.301 315.876,-133.047 322.861,-133.511\"/>\r\n<text text-anchor=\"middle\" x=\"310.74\" y=\"-146.548\" font-family=\"Times New Roman,serif\" font-size=\"14.00\">0 </text>\r\n</g>\r\n<!-- St2&#45;&gt;St3 -->\r\n<g id=\"edge6\" class=\"edge\"><title>St2&#45;&gt;St3</title>\r\n<path fill=\"none\" stroke=\"black\" d=\"M476.922,-42.1796C435.438,-41.5358 351.715,-43.032 283.992,-62 269.719,-65.9977 254.893,-72.7881 242.378,-79.4012\"/>\r\n<polygon fill=\"black\" stroke=\"black\" points=\"240.392,-76.4983 233.306,-84.3746 243.757,-82.6364 240.392,-76.4983\"/>\r\n<text text-anchor=\"middle\" x=\"360.988\" y=\"-52.8\" font-family=\"Times New Roman,serif\" font-size=\"14.00\">1 </text>\r\n</g>\r\n<!-- St2&#45;&gt;St2 -->\r\n<g id=\"edge7\" class=\"edge\"><title>St2&#45;&gt;St2</title>\r\n<path fill=\"none\" stroke=\"black\" d=\"M494.439,-68.301C493.798,-78.8261 496.896,-87.748 503.732,-87.748 508.218,-87.748 511.094,-83.9056 512.36,-78.2894\"/>\r\n<polygon fill=\"black\" stroke=\"black\" points=\"515.853,-78.5112 513.024,-68.301 508.868,-78.0466 515.853,-78.5112\"/>\r\n<text text-anchor=\"middle\" x=\"503.732\" y=\"-91.548\" font-family=\"Times New Roman,serif\" font-size=\"14.00\">0 </text>\r\n</g>\r\n</g>\r\n</svg>\r\n"
     },
     "metadata": {},
     "execution_count": 37
    }
   ],
   "source": [
    "dotObj_dfa(comp_dfa(nfa2dfa(N)))"
   ]
  },
  {
   "cell_type": "code",
   "execution_count": 38,
   "metadata": {},
   "outputs": [
    {
     "output_type": "execute_result",
     "data": {
      "text/plain": "<graphviz.dot.Digraph at 0x24389c5a670>",
      "image/svg+xml": "<?xml version=\"1.0\" encoding=\"UTF-8\" standalone=\"no\"?>\r\n<!DOCTYPE svg PUBLIC \"-//W3C//DTD SVG 1.1//EN\"\r\n \"http://www.w3.org/Graphics/SVG/1.1/DTD/svg11.dtd\">\r\n<!-- Generated by graphviz version 2.38.0 (20140413.2041)\r\n -->\r\n<!-- Title: %3 Pages: 1 -->\r\n<svg width=\"345pt\" height=\"155pt\"\r\n viewBox=\"0.00 0.00 345.49 154.52\" xmlns=\"http://www.w3.org/2000/svg\" xmlns:xlink=\"http://www.w3.org/1999/xlink\">\r\n<g id=\"graph0\" class=\"graph\" transform=\"scale(1 1) rotate(0) translate(4 150.519)\">\r\n<title>%3</title>\r\n<polygon fill=\"white\" stroke=\"none\" points=\"-4,4 -4,-150.519 341.488,-150.519 341.488,4 -4,4\"/>\r\n<!-- EMPTY -->\r\n<g id=\"node1\" class=\"node\"><title>EMPTY</title>\r\n</g>\r\n<!-- St0 -->\r\n<g id=\"node2\" class=\"node\"><title>St0</title>\r\n<ellipse fill=\"none\" stroke=\"black\" cx=\"113.748\" cy=\"-56.5187\" rx=\"22.9987\" ry=\"22.9987\"/>\r\n<text text-anchor=\"middle\" x=\"113.748\" y=\"-52.8187\" font-family=\"Times New Roman,serif\" font-size=\"14.00\">St0</text>\r\n</g>\r\n<!-- EMPTY&#45;&gt;St0 -->\r\n<g id=\"edge1\" class=\"edge\"><title>EMPTY&#45;&gt;St0</title>\r\n<path fill=\"none\" stroke=\"black\" d=\"M54.3502,-56.5187C62.71,-56.5187 72.0455,-56.5187 80.757,-56.5187\"/>\r\n<polygon fill=\"black\" stroke=\"black\" points=\"80.9663,-60.0188 90.9663,-56.5187 80.9662,-53.0188 80.9663,-60.0188\"/>\r\n</g>\r\n<!-- St3 -->\r\n<g id=\"node3\" class=\"node\"><title>St3</title>\r\n<ellipse fill=\"none\" stroke=\"black\" cx=\"310.74\" cy=\"-56.5187\" rx=\"22.9609\" ry=\"22.9609\"/>\r\n<ellipse fill=\"none\" stroke=\"black\" cx=\"310.74\" cy=\"-56.5187\" rx=\"26.9983\" ry=\"26.9983\"/>\r\n<text text-anchor=\"middle\" x=\"310.74\" y=\"-52.8187\" font-family=\"Times New Roman,serif\" font-size=\"14.00\">St3</text>\r\n</g>\r\n<!-- St0&#45;&gt;St3 -->\r\n<g id=\"edge2\" class=\"edge\"><title>St0&#45;&gt;St3</title>\r\n<path fill=\"none\" stroke=\"black\" d=\"M126.871,-75.2476C138.934,-91.9922 159.133,-115.401 183.496,-125.519 205.454,-134.637 214.907,-134.326 236.992,-125.519 257.183,-117.466 274.986,-100.852 287.926,-85.9442\"/>\r\n<polygon fill=\"black\" stroke=\"black\" points=\"290.906,-87.8335 294.599,-77.903 285.519,-83.3632 290.906,-87.8335\"/>\r\n<text text-anchor=\"middle\" x=\"210.244\" y=\"-135.319\" font-family=\"Times New Roman,serif\" font-size=\"14.00\">1 </text>\r\n</g>\r\n<!-- St2 -->\r\n<g id=\"node4\" class=\"node\"><title>St2</title>\r\n<ellipse fill=\"none\" stroke=\"black\" cx=\"210.244\" cy=\"-56.5187\" rx=\"22.9609\" ry=\"22.9609\"/>\r\n<ellipse fill=\"none\" stroke=\"black\" cx=\"210.244\" cy=\"-56.5187\" rx=\"26.9983\" ry=\"26.9983\"/>\r\n<text text-anchor=\"middle\" x=\"210.244\" y=\"-52.8187\" font-family=\"Times New Roman,serif\" font-size=\"14.00\">St2</text>\r\n</g>\r\n<!-- St0&#45;&gt;St2 -->\r\n<g id=\"edge3\" class=\"edge\"><title>St0&#45;&gt;St2</title>\r\n<path fill=\"none\" stroke=\"black\" d=\"M136.665,-56.5187C147.569,-56.5187 161.029,-56.5187 173.384,-56.5187\"/>\r\n<polygon fill=\"black\" stroke=\"black\" points=\"173.423,-60.0188 183.423,-56.5187 173.422,-53.0188 173.423,-60.0188\"/>\r\n<text text-anchor=\"middle\" x=\"159.996\" y=\"-60.3187\" font-family=\"Times New Roman,serif\" font-size=\"14.00\">0 </text>\r\n</g>\r\n<!-- St3&#45;&gt;St0 -->\r\n<g id=\"edge4\" class=\"edge\"><title>St3&#45;&gt;St0</title>\r\n<path fill=\"none\" stroke=\"black\" d=\"M290.855,-38.3413C277.128,-26.4526 257.438,-11.9716 236.992,-5.51873 214.318,1.63725 206.071,1.94074 183.496,-5.51873 166.48,-11.141 150.241,-22.7825 137.822,-33.5251\"/>\r\n<polygon fill=\"black\" stroke=\"black\" points=\"135.31,-31.0778 130.243,-40.3824 140.007,-36.2685 135.31,-31.0778\"/>\r\n<text text-anchor=\"middle\" x=\"210.244\" y=\"-9.31873\" font-family=\"Times New Roman,serif\" font-size=\"14.00\">1 </text>\r\n</g>\r\n<!-- St3&#45;&gt;St3 -->\r\n<g id=\"edge5\" class=\"edge\"><title>St3&#45;&gt;St3</title>\r\n<path fill=\"none\" stroke=\"black\" d=\"M301.447,-81.8197C300.806,-92.3448 303.904,-101.267 310.74,-101.267 315.226,-101.267 318.102,-97.4244 319.368,-91.8081\"/>\r\n<polygon fill=\"black\" stroke=\"black\" points=\"322.861,-92.03 320.033,-81.8197 315.876,-91.5654 322.861,-92.03\"/>\r\n<text text-anchor=\"middle\" x=\"310.74\" y=\"-105.067\" font-family=\"Times New Roman,serif\" font-size=\"14.00\">0 </text>\r\n</g>\r\n<!-- St2&#45;&gt;St3 -->\r\n<g id=\"edge6\" class=\"edge\"><title>St2&#45;&gt;St3</title>\r\n<path fill=\"none\" stroke=\"black\" d=\"M237.123,-56.5187C248.232,-56.5187 261.406,-56.5187 273.464,-56.5187\"/>\r\n<polygon fill=\"black\" stroke=\"black\" points=\"273.692,-60.0188 283.692,-56.5187 273.692,-53.0188 273.692,-60.0188\"/>\r\n<text text-anchor=\"middle\" x=\"260.492\" y=\"-60.3187\" font-family=\"Times New Roman,serif\" font-size=\"14.00\">1 </text>\r\n</g>\r\n<!-- St2&#45;&gt;St2 -->\r\n<g id=\"edge7\" class=\"edge\"><title>St2&#45;&gt;St2</title>\r\n<path fill=\"none\" stroke=\"black\" d=\"M200.951,-81.8197C200.31,-92.3448 203.408,-101.267 210.244,-101.267 214.73,-101.267 217.606,-97.4244 218.872,-91.8081\"/>\r\n<polygon fill=\"black\" stroke=\"black\" points=\"222.365,-92.03 219.537,-81.8197 215.381,-91.5654 222.365,-92.03\"/>\r\n<text text-anchor=\"middle\" x=\"210.244\" y=\"-105.067\" font-family=\"Times New Roman,serif\" font-size=\"14.00\">0 </text>\r\n</g>\r\n</g>\r\n</svg>\r\n"
     },
     "metadata": {},
     "execution_count": 38
    }
   ],
   "source": [
    "dotObj_dfa(comp_dfa(min_dfa(nfa2dfa(N))))"
   ]
  },
  {
   "cell_type": "code",
   "execution_count": 39,
   "metadata": {},
   "outputs": [
    {
     "output_type": "execute_result",
     "data": {
      "text/plain": "<graphviz.dot.Digraph at 0x24389c5ac70>",
      "image/svg+xml": "<?xml version=\"1.0\" encoding=\"UTF-8\" standalone=\"no\"?>\r\n<!DOCTYPE svg PUBLIC \"-//W3C//DTD SVG 1.1//EN\"\r\n \"http://www.w3.org/Graphics/SVG/1.1/DTD/svg11.dtd\">\r\n<!-- Generated by graphviz version 2.38.0 (20140413.2041)\r\n -->\r\n<!-- Title: %3 Pages: 1 -->\r\n<svg width=\"345pt\" height=\"155pt\"\r\n viewBox=\"0.00 0.00 345.49 154.52\" xmlns=\"http://www.w3.org/2000/svg\" xmlns:xlink=\"http://www.w3.org/1999/xlink\">\r\n<g id=\"graph0\" class=\"graph\" transform=\"scale(1 1) rotate(0) translate(4 150.519)\">\r\n<title>%3</title>\r\n<polygon fill=\"white\" stroke=\"none\" points=\"-4,4 -4,-150.519 341.488,-150.519 341.488,4 -4,4\"/>\r\n<!-- EMPTY -->\r\n<g id=\"node1\" class=\"node\"><title>EMPTY</title>\r\n</g>\r\n<!-- St0 -->\r\n<g id=\"node2\" class=\"node\"><title>St0</title>\r\n<ellipse fill=\"none\" stroke=\"black\" cx=\"113.748\" cy=\"-56.5187\" rx=\"22.9987\" ry=\"22.9987\"/>\r\n<text text-anchor=\"middle\" x=\"113.748\" y=\"-52.8187\" font-family=\"Times New Roman,serif\" font-size=\"14.00\">St0</text>\r\n</g>\r\n<!-- EMPTY&#45;&gt;St0 -->\r\n<g id=\"edge1\" class=\"edge\"><title>EMPTY&#45;&gt;St0</title>\r\n<path fill=\"none\" stroke=\"black\" d=\"M54.3502,-56.5187C62.71,-56.5187 72.0455,-56.5187 80.757,-56.5187\"/>\r\n<polygon fill=\"black\" stroke=\"black\" points=\"80.9663,-60.0188 90.9663,-56.5187 80.9662,-53.0188 80.9663,-60.0188\"/>\r\n</g>\r\n<!-- St3 -->\r\n<g id=\"node3\" class=\"node\"><title>St3</title>\r\n<ellipse fill=\"none\" stroke=\"black\" cx=\"310.74\" cy=\"-56.5187\" rx=\"22.9609\" ry=\"22.9609\"/>\r\n<ellipse fill=\"none\" stroke=\"black\" cx=\"310.74\" cy=\"-56.5187\" rx=\"26.9983\" ry=\"26.9983\"/>\r\n<text text-anchor=\"middle\" x=\"310.74\" y=\"-52.8187\" font-family=\"Times New Roman,serif\" font-size=\"14.00\">St3</text>\r\n</g>\r\n<!-- St0&#45;&gt;St3 -->\r\n<g id=\"edge2\" class=\"edge\"><title>St0&#45;&gt;St3</title>\r\n<path fill=\"none\" stroke=\"black\" d=\"M126.871,-75.2476C138.934,-91.9922 159.133,-115.401 183.496,-125.519 205.454,-134.637 214.907,-134.326 236.992,-125.519 257.183,-117.466 274.986,-100.852 287.926,-85.9442\"/>\r\n<polygon fill=\"black\" stroke=\"black\" points=\"290.906,-87.8335 294.599,-77.903 285.519,-83.3632 290.906,-87.8335\"/>\r\n<text text-anchor=\"middle\" x=\"210.244\" y=\"-135.319\" font-family=\"Times New Roman,serif\" font-size=\"14.00\">1 </text>\r\n</g>\r\n<!-- St2 -->\r\n<g id=\"node4\" class=\"node\"><title>St2</title>\r\n<ellipse fill=\"none\" stroke=\"black\" cx=\"210.244\" cy=\"-56.5187\" rx=\"22.9609\" ry=\"22.9609\"/>\r\n<ellipse fill=\"none\" stroke=\"black\" cx=\"210.244\" cy=\"-56.5187\" rx=\"26.9983\" ry=\"26.9983\"/>\r\n<text text-anchor=\"middle\" x=\"210.244\" y=\"-52.8187\" font-family=\"Times New Roman,serif\" font-size=\"14.00\">St2</text>\r\n</g>\r\n<!-- St0&#45;&gt;St2 -->\r\n<g id=\"edge3\" class=\"edge\"><title>St0&#45;&gt;St2</title>\r\n<path fill=\"none\" stroke=\"black\" d=\"M136.665,-56.5187C147.569,-56.5187 161.029,-56.5187 173.384,-56.5187\"/>\r\n<polygon fill=\"black\" stroke=\"black\" points=\"173.423,-60.0188 183.423,-56.5187 173.422,-53.0188 173.423,-60.0188\"/>\r\n<text text-anchor=\"middle\" x=\"159.996\" y=\"-60.3187\" font-family=\"Times New Roman,serif\" font-size=\"14.00\">0 </text>\r\n</g>\r\n<!-- St3&#45;&gt;St0 -->\r\n<g id=\"edge4\" class=\"edge\"><title>St3&#45;&gt;St0</title>\r\n<path fill=\"none\" stroke=\"black\" d=\"M290.855,-38.3413C277.128,-26.4526 257.438,-11.9716 236.992,-5.51873 214.318,1.63725 206.071,1.94074 183.496,-5.51873 166.48,-11.141 150.241,-22.7825 137.822,-33.5251\"/>\r\n<polygon fill=\"black\" stroke=\"black\" points=\"135.31,-31.0778 130.243,-40.3824 140.007,-36.2685 135.31,-31.0778\"/>\r\n<text text-anchor=\"middle\" x=\"210.244\" y=\"-9.31873\" font-family=\"Times New Roman,serif\" font-size=\"14.00\">1 </text>\r\n</g>\r\n<!-- St3&#45;&gt;St3 -->\r\n<g id=\"edge5\" class=\"edge\"><title>St3&#45;&gt;St3</title>\r\n<path fill=\"none\" stroke=\"black\" d=\"M301.447,-81.8197C300.806,-92.3448 303.904,-101.267 310.74,-101.267 315.226,-101.267 318.102,-97.4244 319.368,-91.8081\"/>\r\n<polygon fill=\"black\" stroke=\"black\" points=\"322.861,-92.03 320.033,-81.8197 315.876,-91.5654 322.861,-92.03\"/>\r\n<text text-anchor=\"middle\" x=\"310.74\" y=\"-105.067\" font-family=\"Times New Roman,serif\" font-size=\"14.00\">0 </text>\r\n</g>\r\n<!-- St2&#45;&gt;St3 -->\r\n<g id=\"edge6\" class=\"edge\"><title>St2&#45;&gt;St3</title>\r\n<path fill=\"none\" stroke=\"black\" d=\"M237.123,-56.5187C248.232,-56.5187 261.406,-56.5187 273.464,-56.5187\"/>\r\n<polygon fill=\"black\" stroke=\"black\" points=\"273.692,-60.0188 283.692,-56.5187 273.692,-53.0188 273.692,-60.0188\"/>\r\n<text text-anchor=\"middle\" x=\"260.492\" y=\"-60.3187\" font-family=\"Times New Roman,serif\" font-size=\"14.00\">1 </text>\r\n</g>\r\n<!-- St2&#45;&gt;St2 -->\r\n<g id=\"edge7\" class=\"edge\"><title>St2&#45;&gt;St2</title>\r\n<path fill=\"none\" stroke=\"black\" d=\"M200.951,-81.8197C200.31,-92.3448 203.408,-101.267 210.244,-101.267 214.73,-101.267 217.606,-97.4244 218.872,-91.8081\"/>\r\n<polygon fill=\"black\" stroke=\"black\" points=\"222.365,-92.03 219.537,-81.8197 215.381,-91.5654 222.365,-92.03\"/>\r\n<text text-anchor=\"middle\" x=\"210.244\" y=\"-105.067\" font-family=\"Times New Roman,serif\" font-size=\"14.00\">0 </text>\r\n</g>\r\n</g>\r\n</svg>\r\n"
     },
     "metadata": {},
     "execution_count": 39
    }
   ],
   "source": [
    "dotObj_dfa(min_dfa(comp_dfa(nfa2dfa(N))))"
   ]
  },
  {
   "cell_type": "markdown",
   "metadata": {},
   "source": [
    "\n",
    "\n",
    "## ===> For Question Q10:\n",
    "\n",
    "## The RE for the set of strings that do not have any occurrence of 001 satisfies these properties (call this the No001 language)\n",
    "\n",
    "* Option-1 :    If anything were to occur after a $0$, it must be a $1$ or a string of $0$'s.\n",
    "\n",
    "* Option-2 :    When a $01$ is seen, all strings in $((0+\\varepsilon)1)^*$  may follow\n",
    "\n",
    "* Option-3 :    When a $0$ is seen, a $0^*$ must follow\n",
    "\n",
    "* Option-4 :    The language No001 is closed under reversal"
   ]
  },
  {
   "cell_type": "code",
   "execution_count": 9,
   "metadata": {
    "tags": []
   },
   "outputs": [
    {
     "output_type": "stream",
     "name": "stdout",
     "text": "Help on function dfa2nfa in module jove.Def_NFA2RE:\n\ndfa2nfa(D)\n    Given a DFA D, make a language-equivalent NFA.\n\n"
    }
   ],
   "source": [
    "help(dfa2nfa)"
   ]
  },
  {
   "cell_type": "code",
   "execution_count": 10,
   "metadata": {},
   "outputs": [],
   "source": [
    "Has001   = \"(0+1)*001(0+1)*\"\n",
    "HasNo001 = \"(01+1)*0*\""
   ]
  },
  {
   "cell_type": "code",
   "execution_count": 11,
   "metadata": {},
   "outputs": [],
   "source": [
    "(d1,d2) = diff_RE(Has001, HasNo001)"
   ]
  },
  {
   "cell_type": "code",
   "execution_count": 12,
   "metadata": {},
   "outputs": [
    {
     "output_type": "execute_result",
     "data": {
      "text/plain": "<graphviz.dot.Digraph at 0x2438731afa0>",
      "image/svg+xml": "<?xml version=\"1.0\" encoding=\"UTF-8\" standalone=\"no\"?>\r\n<!DOCTYPE svg PUBLIC \"-//W3C//DTD SVG 1.1//EN\"\r\n \"http://www.w3.org/Graphics/SVG/1.1/DTD/svg11.dtd\">\r\n<!-- Generated by graphviz version 2.38.0 (20140413.2041)\r\n -->\r\n<!-- Title: %3 Pages: 1 -->\r\n<svg width=\"430pt\" height=\"127pt\"\r\n viewBox=\"0.00 0.00 429.98 127.50\" xmlns=\"http://www.w3.org/2000/svg\" xmlns:xlink=\"http://www.w3.org/1999/xlink\">\r\n<g id=\"graph0\" class=\"graph\" transform=\"scale(1 1) rotate(0) translate(4 123.496)\">\r\n<title>%3</title>\r\n<polygon fill=\"white\" stroke=\"none\" points=\"-4,4 -4,-123.496 425.984,-123.496 425.984,4 -4,4\"/>\r\n<!-- EMPTY -->\r\n<g id=\"node1\" class=\"node\"><title>EMPTY</title>\r\n</g>\r\n<!-- St3 -->\r\n<g id=\"node2\" class=\"node\"><title>St3</title>\r\n<ellipse fill=\"none\" stroke=\"black\" cx=\"113.748\" cy=\"-26.748\" rx=\"22.9987\" ry=\"22.9987\"/>\r\n<text text-anchor=\"middle\" x=\"113.748\" y=\"-23.048\" font-family=\"Times New Roman,serif\" font-size=\"14.00\">St3</text>\r\n</g>\r\n<!-- EMPTY&#45;&gt;St3 -->\r\n<g id=\"edge1\" class=\"edge\"><title>EMPTY&#45;&gt;St3</title>\r\n<path fill=\"none\" stroke=\"black\" d=\"M54.3502,-26.748C62.71,-26.748 72.0455,-26.748 80.757,-26.748\"/>\r\n<polygon fill=\"black\" stroke=\"black\" points=\"80.9663,-30.2481 90.9663,-26.748 80.9662,-23.2481 80.9663,-30.2481\"/>\r\n</g>\r\n<!-- St3&#45;&gt;St3 -->\r\n<g id=\"edge2\" class=\"edge\"><title>St3&#45;&gt;St3</title>\r\n<path fill=\"none\" stroke=\"black\" d=\"M106.396,-48.5475C105.594,-58.6603 108.045,-67.496 113.748,-67.496 117.402,-67.496 119.72,-63.8698 120.704,-58.6047\"/>\r\n<polygon fill=\"black\" stroke=\"black\" points=\"124.204,-58.6774 121.1,-48.5475 117.209,-58.4022 124.204,-58.6774\"/>\r\n<text text-anchor=\"middle\" x=\"113.748\" y=\"-71.296\" font-family=\"Times New Roman,serif\" font-size=\"14.00\">1 </text>\r\n</g>\r\n<!-- St2 -->\r\n<g id=\"node4\" class=\"node\"><title>St2</title>\r\n<ellipse fill=\"none\" stroke=\"black\" cx=\"206.244\" cy=\"-26.748\" rx=\"22.9987\" ry=\"22.9987\"/>\r\n<text text-anchor=\"middle\" x=\"206.244\" y=\"-23.048\" font-family=\"Times New Roman,serif\" font-size=\"14.00\">St2</text>\r\n</g>\r\n<!-- St3&#45;&gt;St2 -->\r\n<g id=\"edge3\" class=\"edge\"><title>St3&#45;&gt;St2</title>\r\n<path fill=\"none\" stroke=\"black\" d=\"M136.655,-26.748C147.578,-26.748 161.001,-26.748 173.068,-26.748\"/>\r\n<polygon fill=\"black\" stroke=\"black\" points=\"173.226,-30.2481 183.225,-26.748 173.225,-23.2481 173.226,-30.2481\"/>\r\n<text text-anchor=\"middle\" x=\"159.996\" y=\"-30.548\" font-family=\"Times New Roman,serif\" font-size=\"14.00\">0 </text>\r\n</g>\r\n<!-- St1 -->\r\n<g id=\"node3\" class=\"node\"><title>St1</title>\r\n<ellipse fill=\"none\" stroke=\"black\" cx=\"298.74\" cy=\"-26.748\" rx=\"22.9987\" ry=\"22.9987\"/>\r\n<text text-anchor=\"middle\" x=\"298.74\" y=\"-23.048\" font-family=\"Times New Roman,serif\" font-size=\"14.00\">St1</text>\r\n</g>\r\n<!-- St1&#45;&gt;St1 -->\r\n<g id=\"edge7\" class=\"edge\"><title>St1&#45;&gt;St1</title>\r\n<path fill=\"none\" stroke=\"black\" d=\"M290.325,-48.1313C289.287,-58.4165 292.091,-67.496 298.74,-67.496 302.999,-67.496 305.681,-63.7698 306.785,-58.3874\"/>\r\n<polygon fill=\"black\" stroke=\"black\" points=\"310.292,-58.2507 307.154,-48.1313 303.297,-57.9988 310.292,-58.2507\"/>\r\n<text text-anchor=\"middle\" x=\"298.74\" y=\"-71.296\" font-family=\"Times New Roman,serif\" font-size=\"14.00\">0 </text>\r\n</g>\r\n<!-- St0 -->\r\n<g id=\"node5\" class=\"node\"><title>St0</title>\r\n<ellipse fill=\"none\" stroke=\"black\" cx=\"395.236\" cy=\"-26.748\" rx=\"22.9609\" ry=\"22.9609\"/>\r\n<ellipse fill=\"none\" stroke=\"black\" cx=\"395.236\" cy=\"-26.748\" rx=\"26.9983\" ry=\"26.9983\"/>\r\n<text text-anchor=\"middle\" x=\"395.236\" y=\"-23.048\" font-family=\"Times New Roman,serif\" font-size=\"14.00\">St0</text>\r\n</g>\r\n<!-- St1&#45;&gt;St0 -->\r\n<g id=\"edge6\" class=\"edge\"><title>St1&#45;&gt;St0</title>\r\n<path fill=\"none\" stroke=\"black\" d=\"M321.657,-26.748C332.561,-26.748 346.021,-26.748 358.376,-26.748\"/>\r\n<polygon fill=\"black\" stroke=\"black\" points=\"358.414,-30.2481 368.414,-26.748 358.414,-23.2481 358.414,-30.2481\"/>\r\n<text text-anchor=\"middle\" x=\"344.988\" y=\"-30.548\" font-family=\"Times New Roman,serif\" font-size=\"14.00\">1 </text>\r\n</g>\r\n<!-- St2&#45;&gt;St3 -->\r\n<g id=\"edge4\" class=\"edge\"><title>St2&#45;&gt;St3</title>\r\n<path fill=\"none\" stroke=\"black\" d=\"M186.061,-15.4616C179.729,-12.3216 172.508,-9.33768 165.496,-7.74798 157.927,-6.03188 149.966,-7.39511 142.651,-10.0312\"/>\r\n<polygon fill=\"black\" stroke=\"black\" points=\"140.891,-6.98354 133.176,-14.2451 143.735,-13.3796 140.891,-6.98354\"/>\r\n<text text-anchor=\"middle\" x=\"159.996\" y=\"-11.548\" font-family=\"Times New Roman,serif\" font-size=\"14.00\">1 </text>\r\n</g>\r\n<!-- St2&#45;&gt;St1 -->\r\n<g id=\"edge5\" class=\"edge\"><title>St2&#45;&gt;St1</title>\r\n<path fill=\"none\" stroke=\"black\" d=\"M229.15,-26.748C240.074,-26.748 253.497,-26.748 265.564,-26.748\"/>\r\n<polygon fill=\"black\" stroke=\"black\" points=\"265.721,-30.2481 275.721,-26.748 265.721,-23.2481 265.721,-30.2481\"/>\r\n<text text-anchor=\"middle\" x=\"252.492\" y=\"-30.548\" font-family=\"Times New Roman,serif\" font-size=\"14.00\">0 </text>\r\n</g>\r\n<!-- St0&#45;&gt;St0 -->\r\n<g id=\"edge8\" class=\"edge\"><title>St0&#45;&gt;St0</title>\r\n<path fill=\"none\" stroke=\"black\" d=\"M390.559,-53.3928C390.405,-63.3224 391.964,-71.496 395.236,-71.496 397.281,-71.496 398.656,-68.3032 399.363,-63.4843\"/>\r\n<polygon fill=\"black\" stroke=\"black\" points=\"402.864,-63.5684 399.913,-53.3928 395.874,-63.1875 402.864,-63.5684\"/>\r\n<text text-anchor=\"middle\" x=\"395.236\" y=\"-75.296\" font-family=\"Times New Roman,serif\" font-size=\"14.00\">1 </text>\r\n</g>\r\n<!-- St0&#45;&gt;St0 -->\r\n<g id=\"edge9\" class=\"edge\"><title>St0&#45;&gt;St0</title>\r\n<path fill=\"none\" stroke=\"black\" d=\"M386.919,-52.203C384.114,-70.8313 386.886,-89.496 395.236,-89.496 402.02,-89.496 405.122,-77.1744 404.542,-62.562\"/>\r\n<polygon fill=\"black\" stroke=\"black\" points=\"407.988,-61.8249 403.553,-52.203 401.02,-62.4906 407.988,-61.8249\"/>\r\n<text text-anchor=\"middle\" x=\"395.236\" y=\"-93.296\" font-family=\"Times New Roman,serif\" font-size=\"14.00\">0 </text>\r\n</g>\r\n</g>\r\n</svg>\r\n"
     },
     "metadata": {},
     "execution_count": 12
    }
   ],
   "source": [
    "dotObj_dfa(min_dfa_brz(nfa2dfa(re2nfa(Has001))))"
   ]
  },
  {
   "cell_type": "code",
   "execution_count": 13,
   "metadata": {},
   "outputs": [
    {
     "output_type": "execute_result",
     "data": {
      "text/plain": "<graphviz.dot.Digraph at 0x24387344550>",
      "image/svg+xml": "<?xml version=\"1.0\" encoding=\"UTF-8\" standalone=\"no\"?>\r\n<!DOCTYPE svg PUBLIC \"-//W3C//DTD SVG 1.1//EN\"\r\n \"http://www.w3.org/Graphics/SVG/1.1/DTD/svg11.dtd\">\r\n<!-- Generated by graphviz version 2.38.0 (20140413.2041)\r\n -->\r\n<!-- Title: %3 Pages: 1 -->\r\n<svg width=\"446pt\" height=\"123pt\"\r\n viewBox=\"0.00 0.00 445.98 123.50\" xmlns=\"http://www.w3.org/2000/svg\" xmlns:xlink=\"http://www.w3.org/1999/xlink\">\r\n<g id=\"graph0\" class=\"graph\" transform=\"scale(1 1) rotate(0) translate(4 119.496)\">\r\n<title>%3</title>\r\n<polygon fill=\"white\" stroke=\"none\" points=\"-4,4 -4,-119.496 441.984,-119.496 441.984,4 -4,4\"/>\r\n<!-- EMPTY -->\r\n<g id=\"node1\" class=\"node\"><title>EMPTY</title>\r\n</g>\r\n<!-- St3 -->\r\n<g id=\"node3\" class=\"node\"><title>St3</title>\r\n<ellipse fill=\"none\" stroke=\"black\" cx=\"117.748\" cy=\"-26.748\" rx=\"22.9609\" ry=\"22.9609\"/>\r\n<ellipse fill=\"none\" stroke=\"black\" cx=\"117.748\" cy=\"-26.748\" rx=\"26.9983\" ry=\"26.9983\"/>\r\n<text text-anchor=\"middle\" x=\"117.748\" y=\"-23.048\" font-family=\"Times New Roman,serif\" font-size=\"14.00\">St3</text>\r\n</g>\r\n<!-- EMPTY&#45;&gt;St3 -->\r\n<g id=\"edge1\" class=\"edge\"><title>EMPTY&#45;&gt;St3</title>\r\n<path fill=\"none\" stroke=\"black\" d=\"M54.1473,-26.748C62.4527,-26.748 71.7892,-26.748 80.6665,-26.748\"/>\r\n<polygon fill=\"black\" stroke=\"black\" points=\"80.7876,-30.2481 90.7876,-26.748 80.7875,-23.2481 80.7876,-30.2481\"/>\r\n</g>\r\n<!-- St0 -->\r\n<g id=\"node2\" class=\"node\"><title>St0</title>\r\n<ellipse fill=\"none\" stroke=\"black\" cx=\"415.236\" cy=\"-26.748\" rx=\"22.9987\" ry=\"22.9987\"/>\r\n<text text-anchor=\"middle\" x=\"415.236\" y=\"-23.048\" font-family=\"Times New Roman,serif\" font-size=\"14.00\">St0</text>\r\n</g>\r\n<!-- St0&#45;&gt;St0 -->\r\n<g id=\"edge8\" class=\"edge\"><title>St0&#45;&gt;St0</title>\r\n<path fill=\"none\" stroke=\"black\" d=\"M410.975,-49.3757C410.626,-59.1378 412.046,-67.496 415.236,-67.496 417.229,-67.496 418.532,-64.231 419.143,-59.399\"/>\r\n<polygon fill=\"black\" stroke=\"black\" points=\"422.642,-59.493 419.497,-49.3757 415.646,-59.2459 422.642,-59.493\"/>\r\n<text text-anchor=\"middle\" x=\"415.236\" y=\"-71.296\" font-family=\"Times New Roman,serif\" font-size=\"14.00\">1 </text>\r\n</g>\r\n<!-- St0&#45;&gt;St0 -->\r\n<g id=\"edge9\" class=\"edge\"><title>St0&#45;&gt;St0</title>\r\n<path fill=\"none\" stroke=\"black\" d=\"M407.927,-48.4399C404.803,-66.5611 407.24,-85.496 415.236,-85.496 421.733,-85.496 424.559,-72.996 423.715,-58.5887\"/>\r\n<polygon fill=\"black\" stroke=\"black\" points=\"427.168,-57.973 422.545,-48.4399 420.214,-58.7751 427.168,-57.973\"/>\r\n<text text-anchor=\"middle\" x=\"415.236\" y=\"-89.296\" font-family=\"Times New Roman,serif\" font-size=\"14.00\">0 </text>\r\n</g>\r\n<!-- St3&#45;&gt;St3 -->\r\n<g id=\"edge2\" class=\"edge\"><title>St3&#45;&gt;St3</title>\r\n<path fill=\"none\" stroke=\"black\" d=\"M109.548,-52.499C109.085,-62.8271 111.818,-71.496 117.748,-71.496 121.547,-71.496 124.034,-67.9383 125.209,-62.6658\"/>\r\n<polygon fill=\"black\" stroke=\"black\" points=\"128.713,-62.7265 125.948,-52.499 121.732,-62.2189 128.713,-62.7265\"/>\r\n<text text-anchor=\"middle\" x=\"117.748\" y=\"-75.296\" font-family=\"Times New Roman,serif\" font-size=\"14.00\">1 </text>\r\n</g>\r\n<!-- St2 -->\r\n<g id=\"node5\" class=\"node\"><title>St2</title>\r\n<ellipse fill=\"none\" stroke=\"black\" cx=\"218.244\" cy=\"-26.748\" rx=\"22.9609\" ry=\"22.9609\"/>\r\n<ellipse fill=\"none\" stroke=\"black\" cx=\"218.244\" cy=\"-26.748\" rx=\"26.9983\" ry=\"26.9983\"/>\r\n<text text-anchor=\"middle\" x=\"218.244\" y=\"-23.048\" font-family=\"Times New Roman,serif\" font-size=\"14.00\">St2</text>\r\n</g>\r\n<!-- St3&#45;&gt;St2 -->\r\n<g id=\"edge3\" class=\"edge\"><title>St3&#45;&gt;St2</title>\r\n<path fill=\"none\" stroke=\"black\" d=\"M144.627,-26.748C155.736,-26.748 168.91,-26.748 180.968,-26.748\"/>\r\n<polygon fill=\"black\" stroke=\"black\" points=\"181.196,-30.2481 191.196,-26.748 181.196,-23.2481 181.196,-30.2481\"/>\r\n<text text-anchor=\"middle\" x=\"167.996\" y=\"-30.548\" font-family=\"Times New Roman,serif\" font-size=\"14.00\">0 </text>\r\n</g>\r\n<!-- St1 -->\r\n<g id=\"node4\" class=\"node\"><title>St1</title>\r\n<ellipse fill=\"none\" stroke=\"black\" cx=\"318.74\" cy=\"-26.748\" rx=\"22.9609\" ry=\"22.9609\"/>\r\n<ellipse fill=\"none\" stroke=\"black\" cx=\"318.74\" cy=\"-26.748\" rx=\"26.9983\" ry=\"26.9983\"/>\r\n<text text-anchor=\"middle\" x=\"318.74\" y=\"-23.048\" font-family=\"Times New Roman,serif\" font-size=\"14.00\">St1</text>\r\n</g>\r\n<!-- St1&#45;&gt;St0 -->\r\n<g id=\"edge6\" class=\"edge\"><title>St1&#45;&gt;St0</title>\r\n<path fill=\"none\" stroke=\"black\" d=\"M345.561,-26.748C356.888,-26.748 370.3,-26.748 382.251,-26.748\"/>\r\n<polygon fill=\"black\" stroke=\"black\" points=\"382.289,-30.2481 392.289,-26.748 382.289,-23.2481 382.289,-30.2481\"/>\r\n<text text-anchor=\"middle\" x=\"368.988\" y=\"-30.548\" font-family=\"Times New Roman,serif\" font-size=\"14.00\">1 </text>\r\n</g>\r\n<!-- St1&#45;&gt;St1 -->\r\n<g id=\"edge7\" class=\"edge\"><title>St1&#45;&gt;St1</title>\r\n<path fill=\"none\" stroke=\"black\" d=\"M309.447,-52.049C308.806,-62.574 311.904,-71.496 318.74,-71.496 323.226,-71.496 326.102,-67.6536 327.368,-62.0374\"/>\r\n<polygon fill=\"black\" stroke=\"black\" points=\"330.861,-62.2592 328.033,-52.049 323.876,-61.7946 330.861,-62.2592\"/>\r\n<text text-anchor=\"middle\" x=\"318.74\" y=\"-75.296\" font-family=\"Times New Roman,serif\" font-size=\"14.00\">0 </text>\r\n</g>\r\n<!-- St2&#45;&gt;St3 -->\r\n<g id=\"edge4\" class=\"edge\"><title>St2&#45;&gt;St3</title>\r\n<path fill=\"none\" stroke=\"black\" d=\"M194.214,-14.6565C187.693,-11.8163 180.468,-9.19668 173.496,-7.74798 165.893,-6.16832 157.899,-7.26809 150.439,-9.57526\"/>\r\n<polygon fill=\"black\" stroke=\"black\" points=\"149.108,-6.33702 141.02,-13.18 151.61,-12.8747 149.108,-6.33702\"/>\r\n<text text-anchor=\"middle\" x=\"167.996\" y=\"-11.548\" font-family=\"Times New Roman,serif\" font-size=\"14.00\">1 </text>\r\n</g>\r\n<!-- St2&#45;&gt;St1 -->\r\n<g id=\"edge5\" class=\"edge\"><title>St2&#45;&gt;St1</title>\r\n<path fill=\"none\" stroke=\"black\" d=\"M245.123,-26.748C256.232,-26.748 269.406,-26.748 281.464,-26.748\"/>\r\n<polygon fill=\"black\" stroke=\"black\" points=\"281.692,-30.2481 291.692,-26.748 281.692,-23.2481 281.692,-30.2481\"/>\r\n<text text-anchor=\"middle\" x=\"268.492\" y=\"-30.548\" font-family=\"Times New Roman,serif\" font-size=\"14.00\">0 </text>\r\n</g>\r\n</g>\r\n</svg>\r\n"
     },
     "metadata": {},
     "execution_count": 13
    }
   ],
   "source": [
    "dotObj_dfa(comp_dfa(min_dfa_brz(nfa2dfa(re2nfa(Has001)))))"
   ]
  },
  {
   "cell_type": "code",
   "execution_count": null,
   "metadata": {},
   "outputs": [],
   "source": []
  },
  {
   "cell_type": "code",
   "execution_count": 14,
   "metadata": {},
   "outputs": [
    {
     "output_type": "execute_result",
     "data": {
      "text/plain": "<graphviz.dot.Digraph at 0x2438717a130>",
      "image/svg+xml": "<?xml version=\"1.0\" encoding=\"UTF-8\" standalone=\"no\"?>\r\n<!DOCTYPE svg PUBLIC \"-//W3C//DTD SVG 1.1//EN\"\r\n \"http://www.w3.org/Graphics/SVG/1.1/DTD/svg11.dtd\">\r\n<!-- Generated by graphviz version 2.38.0 (20140413.2041)\r\n -->\r\n<!-- Title: %3 Pages: 1 -->\r\n<svg width=\"353pt\" height=\"94pt\"\r\n viewBox=\"0.00 0.00 353.49 94.50\" xmlns=\"http://www.w3.org/2000/svg\" xmlns:xlink=\"http://www.w3.org/1999/xlink\">\r\n<g id=\"graph0\" class=\"graph\" transform=\"scale(1 1) rotate(0) translate(4 90.496)\">\r\n<title>%3</title>\r\n<polygon fill=\"white\" stroke=\"none\" points=\"-4,4 -4,-90.496 349.488,-90.496 349.488,4 -4,4\"/>\r\n<!-- EMPTY -->\r\n<g id=\"node1\" class=\"node\"><title>EMPTY</title>\r\n</g>\r\n<!-- St1 -->\r\n<g id=\"node3\" class=\"node\"><title>St1</title>\r\n<ellipse fill=\"none\" stroke=\"black\" cx=\"117.748\" cy=\"-26.748\" rx=\"22.9609\" ry=\"22.9609\"/>\r\n<ellipse fill=\"none\" stroke=\"black\" cx=\"117.748\" cy=\"-26.748\" rx=\"26.9983\" ry=\"26.9983\"/>\r\n<text text-anchor=\"middle\" x=\"117.748\" y=\"-23.048\" font-family=\"Times New Roman,serif\" font-size=\"14.00\">St1</text>\r\n</g>\r\n<!-- EMPTY&#45;&gt;St1 -->\r\n<g id=\"edge1\" class=\"edge\"><title>EMPTY&#45;&gt;St1</title>\r\n<path fill=\"none\" stroke=\"black\" d=\"M54.1473,-26.748C62.4527,-26.748 71.7892,-26.748 80.6665,-26.748\"/>\r\n<polygon fill=\"black\" stroke=\"black\" points=\"80.7876,-30.2481 90.7876,-26.748 80.7875,-23.2481 80.7876,-30.2481\"/>\r\n</g>\r\n<!-- St3 -->\r\n<g id=\"node2\" class=\"node\"><title>St3</title>\r\n<ellipse fill=\"none\" stroke=\"black\" cx=\"318.74\" cy=\"-26.748\" rx=\"22.9609\" ry=\"22.9609\"/>\r\n<ellipse fill=\"none\" stroke=\"black\" cx=\"318.74\" cy=\"-26.748\" rx=\"26.9983\" ry=\"26.9983\"/>\r\n<text text-anchor=\"middle\" x=\"318.74\" y=\"-23.048\" font-family=\"Times New Roman,serif\" font-size=\"14.00\">St3</text>\r\n</g>\r\n<!-- St3&#45;&gt;St3 -->\r\n<g id=\"edge6\" class=\"edge\"><title>St3&#45;&gt;St3</title>\r\n<path fill=\"none\" stroke=\"black\" d=\"M309.447,-52.049C308.806,-62.574 311.904,-71.496 318.74,-71.496 323.226,-71.496 326.102,-67.6536 327.368,-62.0374\"/>\r\n<polygon fill=\"black\" stroke=\"black\" points=\"330.861,-62.2592 328.033,-52.049 323.876,-61.7946 330.861,-62.2592\"/>\r\n<text text-anchor=\"middle\" x=\"318.74\" y=\"-75.296\" font-family=\"Times New Roman,serif\" font-size=\"14.00\">0 </text>\r\n</g>\r\n<!-- St1&#45;&gt;St1 -->\r\n<g id=\"edge2\" class=\"edge\"><title>St1&#45;&gt;St1</title>\r\n<path fill=\"none\" stroke=\"black\" d=\"M109.548,-52.499C109.085,-62.8271 111.818,-71.496 117.748,-71.496 121.547,-71.496 124.034,-67.9383 125.209,-62.6658\"/>\r\n<polygon fill=\"black\" stroke=\"black\" points=\"128.713,-62.7265 125.948,-52.499 121.732,-62.2189 128.713,-62.7265\"/>\r\n<text text-anchor=\"middle\" x=\"117.748\" y=\"-75.296\" font-family=\"Times New Roman,serif\" font-size=\"14.00\">1 </text>\r\n</g>\r\n<!-- St2 -->\r\n<g id=\"node4\" class=\"node\"><title>St2</title>\r\n<ellipse fill=\"none\" stroke=\"black\" cx=\"218.244\" cy=\"-26.748\" rx=\"22.9609\" ry=\"22.9609\"/>\r\n<ellipse fill=\"none\" stroke=\"black\" cx=\"218.244\" cy=\"-26.748\" rx=\"26.9983\" ry=\"26.9983\"/>\r\n<text text-anchor=\"middle\" x=\"218.244\" y=\"-23.048\" font-family=\"Times New Roman,serif\" font-size=\"14.00\">St2</text>\r\n</g>\r\n<!-- St1&#45;&gt;St2 -->\r\n<g id=\"edge3\" class=\"edge\"><title>St1&#45;&gt;St2</title>\r\n<path fill=\"none\" stroke=\"black\" d=\"M144.627,-26.748C155.736,-26.748 168.91,-26.748 180.968,-26.748\"/>\r\n<polygon fill=\"black\" stroke=\"black\" points=\"181.196,-30.2481 191.196,-26.748 181.196,-23.2481 181.196,-30.2481\"/>\r\n<text text-anchor=\"middle\" x=\"167.996\" y=\"-30.548\" font-family=\"Times New Roman,serif\" font-size=\"14.00\">0 </text>\r\n</g>\r\n<!-- St2&#45;&gt;St3 -->\r\n<g id=\"edge5\" class=\"edge\"><title>St2&#45;&gt;St3</title>\r\n<path fill=\"none\" stroke=\"black\" d=\"M245.123,-26.748C256.232,-26.748 269.406,-26.748 281.464,-26.748\"/>\r\n<polygon fill=\"black\" stroke=\"black\" points=\"281.692,-30.2481 291.692,-26.748 281.692,-23.2481 281.692,-30.2481\"/>\r\n<text text-anchor=\"middle\" x=\"268.492\" y=\"-30.548\" font-family=\"Times New Roman,serif\" font-size=\"14.00\">0 </text>\r\n</g>\r\n<!-- St2&#45;&gt;St1 -->\r\n<g id=\"edge4\" class=\"edge\"><title>St2&#45;&gt;St1</title>\r\n<path fill=\"none\" stroke=\"black\" d=\"M194.972,-13.18C185.175,-8.74644 173.43,-5.47611 162.496,-7.74798 158.792,-8.5176 155.017,-9.61768 151.313,-10.9057\"/>\r\n<polygon fill=\"black\" stroke=\"black\" points=\"149.803,-7.73892 141.778,-14.6565 152.365,-14.2531 149.803,-7.73892\"/>\r\n<text text-anchor=\"middle\" x=\"167.996\" y=\"-11.548\" font-family=\"Times New Roman,serif\" font-size=\"14.00\">1 </text>\r\n</g>\r\n</g>\r\n</svg>\r\n"
     },
     "metadata": {},
     "execution_count": 14
    }
   ],
   "source": [
    "dotObj_dfa(min_dfa_brz(nfa2dfa(re2nfa(HasNo001))))"
   ]
  },
  {
   "cell_type": "code",
   "execution_count": 15,
   "metadata": {},
   "outputs": [
    {
     "output_type": "execute_result",
     "data": {
      "text/plain": "<graphviz.dot.Digraph at 0x2438731a610>",
      "image/svg+xml": "<?xml version=\"1.0\" encoding=\"UTF-8\" standalone=\"no\"?>\r\n<!DOCTYPE svg PUBLIC \"-//W3C//DTD SVG 1.1//EN\"\r\n \"http://www.w3.org/Graphics/SVG/1.1/DTD/svg11.dtd\">\r\n<!-- Generated by graphviz version 2.38.0 (20140413.2041)\r\n -->\r\n<!-- Title: %3 Pages: 1 -->\r\n<svg width=\"430pt\" height=\"127pt\"\r\n viewBox=\"0.00 0.00 429.98 127.50\" xmlns=\"http://www.w3.org/2000/svg\" xmlns:xlink=\"http://www.w3.org/1999/xlink\">\r\n<g id=\"graph0\" class=\"graph\" transform=\"scale(1 1) rotate(0) translate(4 123.496)\">\r\n<title>%3</title>\r\n<polygon fill=\"white\" stroke=\"none\" points=\"-4,4 -4,-123.496 425.984,-123.496 425.984,4 -4,4\"/>\r\n<!-- EMPTY -->\r\n<g id=\"node1\" class=\"node\"><title>EMPTY</title>\r\n</g>\r\n<!-- St3 -->\r\n<g id=\"node2\" class=\"node\"><title>St3</title>\r\n<ellipse fill=\"none\" stroke=\"black\" cx=\"113.748\" cy=\"-26.748\" rx=\"22.9987\" ry=\"22.9987\"/>\r\n<text text-anchor=\"middle\" x=\"113.748\" y=\"-23.048\" font-family=\"Times New Roman,serif\" font-size=\"14.00\">St3</text>\r\n</g>\r\n<!-- EMPTY&#45;&gt;St3 -->\r\n<g id=\"edge1\" class=\"edge\"><title>EMPTY&#45;&gt;St3</title>\r\n<path fill=\"none\" stroke=\"black\" d=\"M54.3502,-26.748C62.71,-26.748 72.0455,-26.748 80.757,-26.748\"/>\r\n<polygon fill=\"black\" stroke=\"black\" points=\"80.9663,-30.2481 90.9663,-26.748 80.9662,-23.2481 80.9663,-30.2481\"/>\r\n</g>\r\n<!-- St3&#45;&gt;St3 -->\r\n<g id=\"edge2\" class=\"edge\"><title>St3&#45;&gt;St3</title>\r\n<path fill=\"none\" stroke=\"black\" d=\"M106.396,-48.5475C105.594,-58.6603 108.045,-67.496 113.748,-67.496 117.402,-67.496 119.72,-63.8698 120.704,-58.6047\"/>\r\n<polygon fill=\"black\" stroke=\"black\" points=\"124.204,-58.6774 121.1,-48.5475 117.209,-58.4022 124.204,-58.6774\"/>\r\n<text text-anchor=\"middle\" x=\"113.748\" y=\"-71.296\" font-family=\"Times New Roman,serif\" font-size=\"14.00\">1 </text>\r\n</g>\r\n<!-- St2 -->\r\n<g id=\"node4\" class=\"node\"><title>St2</title>\r\n<ellipse fill=\"none\" stroke=\"black\" cx=\"206.244\" cy=\"-26.748\" rx=\"22.9987\" ry=\"22.9987\"/>\r\n<text text-anchor=\"middle\" x=\"206.244\" y=\"-23.048\" font-family=\"Times New Roman,serif\" font-size=\"14.00\">St2</text>\r\n</g>\r\n<!-- St3&#45;&gt;St2 -->\r\n<g id=\"edge3\" class=\"edge\"><title>St3&#45;&gt;St2</title>\r\n<path fill=\"none\" stroke=\"black\" d=\"M136.655,-26.748C147.578,-26.748 161.001,-26.748 173.068,-26.748\"/>\r\n<polygon fill=\"black\" stroke=\"black\" points=\"173.226,-30.2481 183.225,-26.748 173.225,-23.2481 173.226,-30.2481\"/>\r\n<text text-anchor=\"middle\" x=\"159.996\" y=\"-30.548\" font-family=\"Times New Roman,serif\" font-size=\"14.00\">0 </text>\r\n</g>\r\n<!-- St1 -->\r\n<g id=\"node3\" class=\"node\"><title>St1</title>\r\n<ellipse fill=\"none\" stroke=\"black\" cx=\"298.74\" cy=\"-26.748\" rx=\"22.9987\" ry=\"22.9987\"/>\r\n<text text-anchor=\"middle\" x=\"298.74\" y=\"-23.048\" font-family=\"Times New Roman,serif\" font-size=\"14.00\">St1</text>\r\n</g>\r\n<!-- St1&#45;&gt;St1 -->\r\n<g id=\"edge7\" class=\"edge\"><title>St1&#45;&gt;St1</title>\r\n<path fill=\"none\" stroke=\"black\" d=\"M290.325,-48.1313C289.287,-58.4165 292.091,-67.496 298.74,-67.496 302.999,-67.496 305.681,-63.7698 306.785,-58.3874\"/>\r\n<polygon fill=\"black\" stroke=\"black\" points=\"310.292,-58.2507 307.154,-48.1313 303.297,-57.9988 310.292,-58.2507\"/>\r\n<text text-anchor=\"middle\" x=\"298.74\" y=\"-71.296\" font-family=\"Times New Roman,serif\" font-size=\"14.00\">0 </text>\r\n</g>\r\n<!-- St0 -->\r\n<g id=\"node5\" class=\"node\"><title>St0</title>\r\n<ellipse fill=\"none\" stroke=\"black\" cx=\"395.236\" cy=\"-26.748\" rx=\"22.9609\" ry=\"22.9609\"/>\r\n<ellipse fill=\"none\" stroke=\"black\" cx=\"395.236\" cy=\"-26.748\" rx=\"26.9983\" ry=\"26.9983\"/>\r\n<text text-anchor=\"middle\" x=\"395.236\" y=\"-23.048\" font-family=\"Times New Roman,serif\" font-size=\"14.00\">St0</text>\r\n</g>\r\n<!-- St1&#45;&gt;St0 -->\r\n<g id=\"edge6\" class=\"edge\"><title>St1&#45;&gt;St0</title>\r\n<path fill=\"none\" stroke=\"black\" d=\"M321.657,-26.748C332.561,-26.748 346.021,-26.748 358.376,-26.748\"/>\r\n<polygon fill=\"black\" stroke=\"black\" points=\"358.414,-30.2481 368.414,-26.748 358.414,-23.2481 358.414,-30.2481\"/>\r\n<text text-anchor=\"middle\" x=\"344.988\" y=\"-30.548\" font-family=\"Times New Roman,serif\" font-size=\"14.00\">1 </text>\r\n</g>\r\n<!-- St2&#45;&gt;St3 -->\r\n<g id=\"edge4\" class=\"edge\"><title>St2&#45;&gt;St3</title>\r\n<path fill=\"none\" stroke=\"black\" d=\"M186.061,-15.4616C179.729,-12.3216 172.508,-9.33768 165.496,-7.74798 157.927,-6.03188 149.966,-7.39511 142.651,-10.0312\"/>\r\n<polygon fill=\"black\" stroke=\"black\" points=\"140.891,-6.98354 133.176,-14.2451 143.735,-13.3796 140.891,-6.98354\"/>\r\n<text text-anchor=\"middle\" x=\"159.996\" y=\"-11.548\" font-family=\"Times New Roman,serif\" font-size=\"14.00\">1 </text>\r\n</g>\r\n<!-- St2&#45;&gt;St1 -->\r\n<g id=\"edge5\" class=\"edge\"><title>St2&#45;&gt;St1</title>\r\n<path fill=\"none\" stroke=\"black\" d=\"M229.15,-26.748C240.074,-26.748 253.497,-26.748 265.564,-26.748\"/>\r\n<polygon fill=\"black\" stroke=\"black\" points=\"265.721,-30.2481 275.721,-26.748 265.721,-23.2481 265.721,-30.2481\"/>\r\n<text text-anchor=\"middle\" x=\"252.492\" y=\"-30.548\" font-family=\"Times New Roman,serif\" font-size=\"14.00\">0 </text>\r\n</g>\r\n<!-- St0&#45;&gt;St0 -->\r\n<g id=\"edge8\" class=\"edge\"><title>St0&#45;&gt;St0</title>\r\n<path fill=\"none\" stroke=\"black\" d=\"M390.559,-53.3928C390.405,-63.3224 391.964,-71.496 395.236,-71.496 397.281,-71.496 398.656,-68.3032 399.363,-63.4843\"/>\r\n<polygon fill=\"black\" stroke=\"black\" points=\"402.864,-63.5684 399.913,-53.3928 395.874,-63.1875 402.864,-63.5684\"/>\r\n<text text-anchor=\"middle\" x=\"395.236\" y=\"-75.296\" font-family=\"Times New Roman,serif\" font-size=\"14.00\">1 </text>\r\n</g>\r\n<!-- St0&#45;&gt;St0 -->\r\n<g id=\"edge9\" class=\"edge\"><title>St0&#45;&gt;St0</title>\r\n<path fill=\"none\" stroke=\"black\" d=\"M386.919,-52.203C384.114,-70.8313 386.886,-89.496 395.236,-89.496 402.02,-89.496 405.122,-77.1744 404.542,-62.562\"/>\r\n<polygon fill=\"black\" stroke=\"black\" points=\"407.988,-61.8249 403.553,-52.203 401.02,-62.4906 407.988,-61.8249\"/>\r\n<text text-anchor=\"middle\" x=\"395.236\" y=\"-93.296\" font-family=\"Times New Roman,serif\" font-size=\"14.00\">0 </text>\r\n</g>\r\n</g>\r\n</svg>\r\n"
     },
     "metadata": {},
     "execution_count": 15
    }
   ],
   "source": [
    "dotObj_dfa(d1)"
   ]
  },
  {
   "cell_type": "code",
   "execution_count": 16,
   "metadata": {},
   "outputs": [
    {
     "output_type": "execute_result",
     "data": {
      "text/plain": "<graphviz.dot.Digraph at 0x2438731a820>",
      "image/svg+xml": "<?xml version=\"1.0\" encoding=\"UTF-8\" standalone=\"no\"?>\r\n<!DOCTYPE svg PUBLIC \"-//W3C//DTD SVG 1.1//EN\"\r\n \"http://www.w3.org/Graphics/SVG/1.1/DTD/svg11.dtd\">\r\n<!-- Generated by graphviz version 2.38.0 (20140413.2041)\r\n -->\r\n<!-- Title: %3 Pages: 1 -->\r\n<svg width=\"353pt\" height=\"94pt\"\r\n viewBox=\"0.00 0.00 353.49 94.50\" xmlns=\"http://www.w3.org/2000/svg\" xmlns:xlink=\"http://www.w3.org/1999/xlink\">\r\n<g id=\"graph0\" class=\"graph\" transform=\"scale(1 1) rotate(0) translate(4 90.496)\">\r\n<title>%3</title>\r\n<polygon fill=\"white\" stroke=\"none\" points=\"-4,4 -4,-90.496 349.488,-90.496 349.488,4 -4,4\"/>\r\n<!-- EMPTY -->\r\n<g id=\"node1\" class=\"node\"><title>EMPTY</title>\r\n</g>\r\n<!-- St1 -->\r\n<g id=\"node3\" class=\"node\"><title>St1</title>\r\n<ellipse fill=\"none\" stroke=\"black\" cx=\"117.748\" cy=\"-26.748\" rx=\"22.9609\" ry=\"22.9609\"/>\r\n<ellipse fill=\"none\" stroke=\"black\" cx=\"117.748\" cy=\"-26.748\" rx=\"26.9983\" ry=\"26.9983\"/>\r\n<text text-anchor=\"middle\" x=\"117.748\" y=\"-23.048\" font-family=\"Times New Roman,serif\" font-size=\"14.00\">St1</text>\r\n</g>\r\n<!-- EMPTY&#45;&gt;St1 -->\r\n<g id=\"edge1\" class=\"edge\"><title>EMPTY&#45;&gt;St1</title>\r\n<path fill=\"none\" stroke=\"black\" d=\"M54.1473,-26.748C62.4527,-26.748 71.7892,-26.748 80.6665,-26.748\"/>\r\n<polygon fill=\"black\" stroke=\"black\" points=\"80.7876,-30.2481 90.7876,-26.748 80.7875,-23.2481 80.7876,-30.2481\"/>\r\n</g>\r\n<!-- St3 -->\r\n<g id=\"node2\" class=\"node\"><title>St3</title>\r\n<ellipse fill=\"none\" stroke=\"black\" cx=\"318.74\" cy=\"-26.748\" rx=\"22.9609\" ry=\"22.9609\"/>\r\n<ellipse fill=\"none\" stroke=\"black\" cx=\"318.74\" cy=\"-26.748\" rx=\"26.9983\" ry=\"26.9983\"/>\r\n<text text-anchor=\"middle\" x=\"318.74\" y=\"-23.048\" font-family=\"Times New Roman,serif\" font-size=\"14.00\">St3</text>\r\n</g>\r\n<!-- St3&#45;&gt;St3 -->\r\n<g id=\"edge6\" class=\"edge\"><title>St3&#45;&gt;St3</title>\r\n<path fill=\"none\" stroke=\"black\" d=\"M309.447,-52.049C308.806,-62.574 311.904,-71.496 318.74,-71.496 323.226,-71.496 326.102,-67.6536 327.368,-62.0374\"/>\r\n<polygon fill=\"black\" stroke=\"black\" points=\"330.861,-62.2592 328.033,-52.049 323.876,-61.7946 330.861,-62.2592\"/>\r\n<text text-anchor=\"middle\" x=\"318.74\" y=\"-75.296\" font-family=\"Times New Roman,serif\" font-size=\"14.00\">0 </text>\r\n</g>\r\n<!-- St1&#45;&gt;St1 -->\r\n<g id=\"edge2\" class=\"edge\"><title>St1&#45;&gt;St1</title>\r\n<path fill=\"none\" stroke=\"black\" d=\"M109.548,-52.499C109.085,-62.8271 111.818,-71.496 117.748,-71.496 121.547,-71.496 124.034,-67.9383 125.209,-62.6658\"/>\r\n<polygon fill=\"black\" stroke=\"black\" points=\"128.713,-62.7265 125.948,-52.499 121.732,-62.2189 128.713,-62.7265\"/>\r\n<text text-anchor=\"middle\" x=\"117.748\" y=\"-75.296\" font-family=\"Times New Roman,serif\" font-size=\"14.00\">1 </text>\r\n</g>\r\n<!-- St2 -->\r\n<g id=\"node4\" class=\"node\"><title>St2</title>\r\n<ellipse fill=\"none\" stroke=\"black\" cx=\"218.244\" cy=\"-26.748\" rx=\"22.9609\" ry=\"22.9609\"/>\r\n<ellipse fill=\"none\" stroke=\"black\" cx=\"218.244\" cy=\"-26.748\" rx=\"26.9983\" ry=\"26.9983\"/>\r\n<text text-anchor=\"middle\" x=\"218.244\" y=\"-23.048\" font-family=\"Times New Roman,serif\" font-size=\"14.00\">St2</text>\r\n</g>\r\n<!-- St1&#45;&gt;St2 -->\r\n<g id=\"edge3\" class=\"edge\"><title>St1&#45;&gt;St2</title>\r\n<path fill=\"none\" stroke=\"black\" d=\"M144.627,-26.748C155.736,-26.748 168.91,-26.748 180.968,-26.748\"/>\r\n<polygon fill=\"black\" stroke=\"black\" points=\"181.196,-30.2481 191.196,-26.748 181.196,-23.2481 181.196,-30.2481\"/>\r\n<text text-anchor=\"middle\" x=\"167.996\" y=\"-30.548\" font-family=\"Times New Roman,serif\" font-size=\"14.00\">0 </text>\r\n</g>\r\n<!-- St2&#45;&gt;St3 -->\r\n<g id=\"edge5\" class=\"edge\"><title>St2&#45;&gt;St3</title>\r\n<path fill=\"none\" stroke=\"black\" d=\"M245.123,-26.748C256.232,-26.748 269.406,-26.748 281.464,-26.748\"/>\r\n<polygon fill=\"black\" stroke=\"black\" points=\"281.692,-30.2481 291.692,-26.748 281.692,-23.2481 281.692,-30.2481\"/>\r\n<text text-anchor=\"middle\" x=\"268.492\" y=\"-30.548\" font-family=\"Times New Roman,serif\" font-size=\"14.00\">0 </text>\r\n</g>\r\n<!-- St2&#45;&gt;St1 -->\r\n<g id=\"edge4\" class=\"edge\"><title>St2&#45;&gt;St1</title>\r\n<path fill=\"none\" stroke=\"black\" d=\"M194.972,-13.18C185.175,-8.74644 173.43,-5.47611 162.496,-7.74798 158.792,-8.5176 155.017,-9.61768 151.313,-10.9057\"/>\r\n<polygon fill=\"black\" stroke=\"black\" points=\"149.803,-7.73892 141.778,-14.6565 152.365,-14.2531 149.803,-7.73892\"/>\r\n<text text-anchor=\"middle\" x=\"167.996\" y=\"-11.548\" font-family=\"Times New Roman,serif\" font-size=\"14.00\">1 </text>\r\n</g>\r\n</g>\r\n</svg>\r\n"
     },
     "metadata": {},
     "execution_count": 16
    }
   ],
   "source": [
    "dotObj_dfa(d2)"
   ]
  },
  {
   "cell_type": "code",
   "execution_count": null,
   "metadata": {},
   "outputs": [],
   "source": []
  }
 ],
 "metadata": {
  "kernelspec": {
   "display_name": "Python 3",
   "language": "python",
   "name": "python3"
  },
  "language_info": {
   "codemirror_mode": {
    "name": "ipython",
    "version": 3
   },
   "file_extension": ".py",
   "mimetype": "text/x-python",
   "name": "python",
   "nbconvert_exporter": "python",
   "pygments_lexer": "ipython3",
   "version": "3.8.3-final"
  },
  "toc": {
   "colors": {
    "hover_highlight": "#DAA520",
    "running_highlight": "#FF0000",
    "selected_highlight": "#FFD700"
   },
   "moveMenuLeft": true,
   "nav_menu": {
    "height": "318px",
    "width": "252px"
   },
   "navigate_menu": true,
   "number_sections": true,
   "sideBar": true,
   "threshold": 4,
   "toc_cell": false,
   "toc_section_display": "block",
   "toc_window_display": false,
   "widenNotebook": false
  }
 },
 "nbformat": 4,
 "nbformat_minor": 1
}