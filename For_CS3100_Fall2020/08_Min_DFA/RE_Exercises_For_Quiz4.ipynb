{
 "cells": [
  {
   "cell_type": "markdown",
   "metadata": {},
   "source": [
    "# This notebook gives you in-depth experience of regular expressions (RE)\n",
    "\n",
    "## This will directly help you do Quiz-4 where you reap the rewards of learning about RE\n",
    "\n",
    "## We will give you Quiz hints below (look for Quiz-hint below)\n",
    "\n",
    "## We will also give you utility functions to run through many REs for your own practice"
   ]
  },
  {
   "cell_type": "markdown",
   "metadata": {},
   "source": [
    "**-------------------------------------------------------------------------------------**"
   ]
  },
  {
   "cell_type": "markdown",
   "metadata": {},
   "source": [
    "\n",
    "# !! VIDEO !!\n",
    "\n",
    "## Please see\n",
    "\n",
    "## QUIZ-4 HELP OVERVIEW VIDEO -- GMT20200921-203852_GANESH-GOP_1700x794.mp4\n",
    "\n",
    "## The above will be loaded onto Youtube; till then, get it from Canvas!\n"
   ]
  },
  {
   "cell_type": "markdown",
   "metadata": {},
   "source": [
    "**-------------------------------------------------------------------------------------**"
   ]
  },
  {
   "cell_type": "code",
   "execution_count": 1,
   "metadata": {
    "run_control": {
     "frozen": false,
     "read_only": false
    }
   },
   "outputs": [
    {
     "name": "stdout",
     "output_type": "stream",
     "text": [
      "You may use any of these help commands:\n",
      "help(ResetStNum)\n",
      "help(NxtStateStr)\n",
      "\n",
      "You may use any of these help commands:\n",
      "help(md2mc)\n",
      ".. and if you want to dig more, then ..\n",
      "help(default_line_attr)\n",
      "help(length_ok_input_items)\n",
      "help(union_line_attr_list_fld)\n",
      "help(extend_rsltdict)\n",
      "help(form_delta)\n",
      "help(get_machine_components)\n",
      "\n",
      "You may use any of these help commands:\n",
      "help(mkp_dfa)\n",
      "help(mk_dfa)\n",
      "help(totalize_dfa)\n",
      "help(addtosigma_delta)\n",
      "help(step_dfa)\n",
      "help(run_dfa)\n",
      "help(accepts_dfa)\n",
      "help(comp_dfa)\n",
      "help(union_dfa)\n",
      "help(intersect_dfa)\n",
      "help(pruneUnreach)\n",
      "help(iso_dfa)\n",
      "help(langeq_dfa)\n",
      "help(same_status)\n",
      "help(h_langeq_dfa)\n",
      "help(fixptDist)\n",
      "help(min_dfa)\n",
      "help(pairFR)\n",
      "help(state_combos)\n",
      "help(sepFinNonFin)\n",
      "help(bash_eql_classes)\n",
      "help(listminus)\n",
      "help(bash_1)\n",
      "help(mk_rep_eqc)\n",
      "help(F_of)\n",
      "help(rep_of_s)\n",
      "help(q0_of)\n",
      "help(Delta_of)\n",
      "help(mk_state_eqc_name)\n",
      "\n",
      "You may use any of these help commands:\n",
      "help(mk_nfa)\n",
      "help(totalize_nfa)\n",
      "help(step_nfa)\n",
      "help(run_nfa)\n",
      "help(ec_step_nfa)\n",
      "help(Eclosure)\n",
      "help(Echelp)\n",
      "help(accepts_nfa)\n",
      "help(nfa2dfa)\n",
      "help(n2d)\n",
      "help(inSets)\n",
      "help(rev_dfa)\n",
      "help(min_dfa_brz)\n",
      "\n",
      "You may use any of these help commands:\n",
      "help(re2nfa)\n",
      "\n",
      "You may use any of these help commands:\n",
      "help(lphi)\n",
      "help(lunit)\n",
      "help(lcat)\n",
      "help(lexp)\n",
      "help(lunion)\n",
      "help(lstar)\n",
      "help(srev)\n",
      "help(lrev)\n",
      "help(shomo)\n",
      "help(lhomo)\n",
      "help(powset)\n",
      "help(lint)\n",
      "help(lsymdiff)\n",
      "help(lminus)\n",
      "help(lissubset)\n",
      "help(lissuperset)\n",
      "help(lcomplem)\n",
      "help(product)\n",
      "help(nthnumeric)\n",
      "\n",
      "You may use any of these help commands:\n",
      "help(RE2Str)\n",
      "help(mk_gnfa)\n",
      "help(mk_gnfa_from_D)\n",
      "help(dfa2nfa)\n",
      "help(del_gnfa_states)\n",
      "help(gnfa_w_REStr)\n",
      "help(del_one_gnfa_state)\n",
      "help(Edges_Exist_Via)\n",
      "help(choose_state_to_del)\n",
      "help(form_alt_RE)\n",
      "help(form_concat_RE)\n",
      "help(form_kleene_RE)\n",
      "\n"
     ]
    }
   ],
   "source": [
    "#~~~~~~~~~~~~~~~~~~~~~~~~~~~~~~~~~~~~~~~~~~~~~~~~~~~~~~~\n",
    "import sys\n",
    "\n",
    "# -- Detect if in Own Install or in Colab\n",
    "try:\n",
    "    import google.colab\n",
    "    OWN_INSTALL = False\n",
    "except:\n",
    "    OWN_INSTALL = True\n",
    "    \n",
    "if OWN_INSTALL:\n",
    "    \n",
    "  #---- Leave these definitions ON if running on laptop\n",
    "  #---- Else turn OFF by putting them between ''' ... '''\n",
    "\n",
    "  sys.path[0:0] = ['../../../../..',  '../../../../../3rdparty',  \n",
    "                   '../../../..',  '../../../../3rdparty',  \n",
    "                   '../../..',     '../../../3rdparty', \n",
    "                   '../..',        '../../3rdparty',\n",
    "                   '..',           '../3rdparty' ]\n",
    "\n",
    "else: # In colab\n",
    "  ! if [ ! -d Jove ]; then git clone https://github.com/ganeshutah/Jove Jove; fi\n",
    "  sys.path.append('./Jove')\n",
    "  sys.path.append('./Jove/jove')\n",
    "\n",
    "# -- common imports --\n",
    "from jove.DotBashers import *\n",
    "from jove.Def_md2mc  import *\n",
    "from jove.Def_DFA    import *\n",
    "from jove.Def_NFA    import *\n",
    "from jove.Def_RE2NFA import *\n",
    "from jove.LangDef    import *  # for testing DFA actions using nthnumeric if needed\n",
    "from jove.Def_NFA2RE import *\n",
    "#~~~~~~~~~~~~~~~~~~~~~~~~~~~~~~~~~~~~~~~~~~~~~~~~~~~~~~~"
   ]
  },
  {
   "cell_type": "markdown",
   "metadata": {
    "run_control": {
     "frozen": false,
     "read_only": false
    }
   },
   "source": [
    "# RE recap\n",
    "\n",
    "RE can be defined as follows\n",
    "\n",
    "* $\\varepsilon$ is an RE denoting the language $\\{\\varepsilon\\}$\n",
    "\n",
    "* $a\\in\\Sigma$ is an RE denoting the language $\\{a\\}$\n",
    "\n",
    "* If $R$, $R_1$ and $R_2$ are RE, then\n",
    "  - $R_1 R_2$ is an RE denoting the language concatenation of the individual languages\n",
    "  - $R_1 + R_2$ is an RE denoting the language union of the individual languages\n",
    "  - $R^*$ is an RE denoting the Star of the language of $R$\n",
    "  \n",
    "Notice that REs do not directly support these operations:\n",
    "\n",
    "* Conjunction\n",
    "\n",
    "* Complementation\n",
    "\n",
    "We will make these operations available when we discuss Chapter-10 where RE derivatives provide a direct way to handle intersection and complementation"
   ]
  },
  {
   "cell_type": "markdown",
   "metadata": {
    "run_control": {
     "frozen": false,
     "read_only": false
    }
   },
   "source": [
    "# RE properties\n",
    "\n",
    "RE satisfy many equational properties. Our interest is in studying a few of these properties deeply and use them in proofs. We will also state certain ``obvious facts'' that will be used in our proofs.\n",
    "\n",
    "\n",
    "Without loss of generality, assume that our alphabet is $\\Sigma=\\{a,b\\}$.\n",
    "\n",
    "* RE1: For any language $L$ over $\\Sigma$, $L\\subseteq \\Sigma^*$; that is, $L\\subseteq \\{a,b\\}^*$\n",
    "\n",
    "* RE2: $L_1^* \\subseteq (L_1 + L_2)^*$\n",
    "\n",
    "* RE3: For REs $r, s, t$, we have $r(s+t) = rs+rt$\n",
    "\n",
    "* RE4: For REs $r, s, t$, we have $(r+s)t = rt+st$\n",
    "\n",
    "* RE5: For an RE $r$, we have $r^* = (\\varepsilon + rr^*)$\n",
    "\n",
    "* RE6: For an RE $r$, we have $r^* = (\\varepsilon + r + rrr^*)$\n",
    "\n",
    "* RE7: For REs $p$,$q$,$r$,$s$, we have $(p+q)(r+s) = (pr+ps+qr+qs)$, showing that concatenation tends to work like multiplication, yet again! This can be derived from RE3 and RE4."
   ]
  },
  {
   "cell_type": "markdown",
   "metadata": {},
   "source": [
    "# Below we provide many Sections and associated Quiz Questions  \n",
    "\n",
    "## (I give the name \"Section\" for a single theme with multiple questions listed under it!)\n",
    "\n",
    "# The options below are also on the Canvas Quiz where you must answer!\n",
    "\n",
    "## (The reason to repeat the questions below is to make this document complete.)\n",
    "\n",
    "### The true answers shall be revealed in a week."
   ]
  },
  {
   "cell_type": "markdown",
   "metadata": {},
   "source": [
    "# Section-1: This section leads you through the proof that $(a^* b^*)^* = (a+b)^*$\n",
    "\n",
    "## Quiz-hint: For REs $s$ and $t$, to show $s=t$\n",
    " \n",
    "### Show $s\\subseteq t$\n",
    "  \n",
    "### Show $t\\subseteq s$\n",
    "  \n",
    "## ===> For Quiz question Q1, \n",
    "\n",
    "### It is clear that the $s\\subseteq t$ is TRUE (treating $s$ to be $(a^* b^*)^*$ and $t$ to be $(a+b)^*$) because  (...Your Answer...) (choose from the options offered)\n",
    "\n",
    "* Option-1 : $(a+b)^*$ looks more comprehensive and likely that this is true\n",
    "\n",
    "* Option-2 : In $(a^* b^*)^*$, the $a$'s and $b$'s must come in order, hence must be included in $(a+b)^*$\n",
    "\n",
    "* Option-3 : While it appears that $(a^* b^*)^*$ lists the $a$ before the $b$, it could have been the other way too (e.g., $(b^* a^*)^*$) and both consider all strings of $a$'s and $b$'s\n",
    "\n",
    "* Option-4 : We know that $(a+b)^*$ is the universal set, so $s\\subseteq t$ is true!\n",
    "\n"
   ]
  },
  {
   "cell_type": "markdown",
   "metadata": {},
   "source": [
    "# Continuing the proof of $(a^* b^*)^* = (a+b)^*$\n",
    "  \n",
    "### For the  $t\\subseteq s$ part,\n",
    "  \n",
    "## ===> For Quiz question Q2, \n",
    "\n",
    "### we have to show $(a+b)^* \\subseteq (a^* b^*)^*$\n",
    "\n",
    "### But $(a^* b^*)^* =  ( (\\varepsilon + a + aa a^*)  (\\varepsilon + b + bb b^*) )^*$ because (...Your Answer...) (choose from the options offered) and this is advantageous because\n",
    "\n",
    "* Option-1 : $a^*$ can be expanded into a set summation and so can $b^*$ be, as per RE5 and RE6\n",
    "\n",
    "* Option-2 : This expansion will not help in the proof because it still leads to too many cases\n",
    "\n",
    "* Option-3 : Setting up in this manner, as a summation, allows us to apply the distributive laws RE3 and RE4\n",
    "\n",
    "* Option-4 : This expansion appears to be aiming for the rule RE2, but it won't be possible to use RE2 after all"
   ]
  },
  {
   "cell_type": "markdown",
   "metadata": {},
   "source": [
    "# Continuing the proof of $(a^* b^*)^* = (a+b)^*$\n",
    "  \n",
    "## ===> For Quiz question Q3,\n",
    "\n",
    "###  $ (\\varepsilon + a + aa a^*)  (\\varepsilon + b + bb b^*) = (a + b + X) $ for some RE $X$, because (...Your Answer...) (choose from the options offered), and this is advantageous because of this.\n",
    "\n",
    "\n",
    "* Option-1 : We can never achieve this form, as $X$ will be an RE of infinite size\n",
    "\n",
    "* Option-2 : This form can be achieved purely by using the rule RE3 and not using RE4\n",
    "\n",
    "* Option-3 : We can employ RE7 and obtain this form.\n",
    "\n",
    "* Option-4 : It will help us employ rule RE2 now."
   ]
  },
  {
   "cell_type": "markdown",
   "metadata": {},
   "source": [
    "# Continuing the proof of $(a^* b^*)^* = (a+b)^*$\n",
    "  \n",
    "## ===> For Quiz question Q4,\n",
    "\n",
    "###  $   (a + b + X)^* \\supseteq (a+b)^* $ because (...Your Answer...) (choose from the options offered)\n",
    "\n",
    "\n",
    "* Option-1 : This can't be true. The universal set $(a+b)^*$ can never be contained inside another set.\n",
    "\n",
    "* Option-2 : This can only mean one thing: that $X$ itself is contained within $(a+b)^*$.\n",
    "\n",
    "* Option-3 : In general, we do have this result following directly from RE2.\n",
    "\n",
    "* Option-4 : For this to be true, $X$ must be the Zero language; otherwise, there is a problem that something larger than a universal set is being discovered. "
   ]
  },
  {
   "cell_type": "markdown",
   "metadata": {},
   "source": [
    "# This finishes the proof of the $t \\subseteq s$ part also."
   ]
  },
  {
   "cell_type": "markdown",
   "metadata": {},
   "source": [
    "**-------------------------------------------------------------------------------------**"
   ]
  },
  {
   "cell_type": "markdown",
   "metadata": {},
   "source": [
    "# Section-2: REs that express bit patterns\n",
    "\n",
    "## Example: The RE that expresses all even numbers is $(0+1)^* 0$\n",
    "\n",
    "###  This is because this represents strings of bits ending in a $0$\n",
    "\n",
    "#### Further detail: We get strings of the form $00$, $010$, $110$, etc., out of the above RE, and they are all even numbers."
   ]
  },
  {
   "cell_type": "markdown",
   "metadata": {},
   "source": [
    "## ===> For Question Q5: \n",
    "\n",
    "## The RE that expresses all powers of 4 of the form $4^n$ for $n\\ge 0$ is\n",
    "\n",
    "### (i.e. we want to summarize $4^0$, $4^1$, $4^2$, etc. using one RE)\n",
    "\n",
    "* Option-1 : $0^* \\; 1\\; (00)^*$\n",
    "\n",
    "* Option-2 : $0^* \\; 1\\; (0)^*\\; (0)^*$\n",
    "\n",
    "* Option-3 : $1\\; (00) \\; ((00)^* \\; + \\; 0)$\n",
    "\n",
    "* Option-4 : $1\\; (00) \\; ((00)^* \\; + \\; \\varepsilon)$\n"
   ]
  },
  {
   "cell_type": "markdown",
   "metadata": {},
   "source": [
    "**-------------------------------------------------------------------------------------**"
   ]
  },
  {
   "cell_type": "markdown",
   "metadata": {},
   "source": [
    "# Given R1 and R2, here is the the code to return (D1,D2) \n",
    "## Where D1 is the min DFA of Lang(R1)-Lang(R2)\n",
    "## and D2 is the min DFA of Lang(R2)-Lang(R1)"
   ]
  },
  {
   "cell_type": "code",
   "execution_count": 3,
   "metadata": {},
   "outputs": [],
   "source": [
    "def diff_RE(R1,R2):\n",
    "    '''\n",
    "    Given R1 and R2, here is the the code to return (D1,D2) \n",
    "    where D1 is the min DFA of Lang(R1)-Lang(R2)\n",
    "    and D2 is the min DFA of Lang(R2)-Lang(R1)\n",
    "    '''\n",
    "    MD1=min_dfa_brz(nfa2dfa(re2nfa(R1)))\n",
    "    MD2=min_dfa_brz(nfa2dfa(re2nfa(R2)))\n",
    "    \n",
    "    cMD1 = comp_dfa(MD1)\n",
    "    cMD2 = comp_dfa(MD2)\n",
    "    \n",
    "    D1minus2 = min_dfa_brz(intersect_dfa(MD1, cMD2))\n",
    "    D2minus1 = min_dfa_brz(intersect_dfa(MD2, cMD1))\n",
    "    \n",
    "    return (D1minus2, D2minus1)\n",
    "    "
   ]
  },
  {
   "cell_type": "code",
   "execution_count": 4,
   "metadata": {},
   "outputs": [],
   "source": [
    "R1 = \"(0+1)*\"   #  OR \"Your Favorite\"\n",
    "R2 = \"(0* 1*)*\" # OR \"Your Favorite\""
   ]
  },
  {
   "cell_type": "code",
   "execution_count": 5,
   "metadata": {},
   "outputs": [
    {
     "name": "stderr",
     "output_type": "stream",
     "text": [
      "Generating LALR tables\n",
      "Generating LALR tables\n"
     ]
    }
   ],
   "source": [
    "(d1,d2) = diff_RE(R1,R2)"
   ]
  },
  {
   "cell_type": "code",
   "execution_count": 6,
   "metadata": {},
   "outputs": [
    {
     "data": {
      "image/svg+xml": [
       "<?xml version=\"1.0\" encoding=\"UTF-8\" standalone=\"no\"?>\n",
       "<!DOCTYPE svg PUBLIC \"-//W3C//DTD SVG 1.1//EN\"\n",
       " \"http://www.w3.org/Graphics/SVG/1.1/DTD/svg11.dtd\">\n",
       "<!-- Generated by graphviz version 2.40.1 (20161225.0304)\n",
       " -->\n",
       "<!-- Title: %3 Pages: 1 -->\n",
       "<svg width=\"152pt\" height=\"44pt\"\n",
       " viewBox=\"0.00 0.00 152.00 44.00\" xmlns=\"http://www.w3.org/2000/svg\" xmlns:xlink=\"http://www.w3.org/1999/xlink\">\n",
       "<g id=\"graph0\" class=\"graph\" transform=\"scale(1 1) rotate(0) translate(4 40)\">\n",
       "<title>%3</title>\n",
       "<polygon fill=\"#ffffff\" stroke=\"transparent\" points=\"-4,4 -4,-40 148,-40 148,4 -4,4\"/>\n",
       "<!-- EMPTY -->\n",
       "<g id=\"node1\" class=\"node\">\n",
       "<title>EMPTY</title>\n",
       "</g>\n",
       "<!-- BH -->\n",
       "<g id=\"node2\" class=\"node\">\n",
       "<title>BH</title>\n",
       "<ellipse fill=\"none\" stroke=\"#000000\" cx=\"117\" cy=\"-18\" rx=\"27\" ry=\"18\"/>\n",
       "<text text-anchor=\"middle\" x=\"117\" y=\"-14.3\" font-family=\"Times,serif\" font-size=\"14.00\" fill=\"#000000\">BH</text>\n",
       "</g>\n",
       "<!-- EMPTY&#45;&gt;BH -->\n",
       "<g id=\"edge1\" class=\"edge\">\n",
       "<title>EMPTY&#45;&gt;BH</title>\n",
       "<path fill=\"none\" stroke=\"#000000\" d=\"M54.003,-18C62.0277,-18 70.9665,-18 79.5309,-18\"/>\n",
       "<polygon fill=\"#000000\" stroke=\"#000000\" points=\"79.7051,-21.5001 89.705,-18 79.705,-14.5001 79.7051,-21.5001\"/>\n",
       "</g>\n",
       "</g>\n",
       "</svg>\n"
      ],
      "text/plain": [
       "<graphviz.dot.Digraph at 0x10e0e5be0>"
      ]
     },
     "execution_count": 6,
     "metadata": {},
     "output_type": "execute_result"
    }
   ],
   "source": [
    "dotObj_dfa(d1)"
   ]
  },
  {
   "cell_type": "code",
   "execution_count": 7,
   "metadata": {},
   "outputs": [
    {
     "data": {
      "image/svg+xml": [
       "<?xml version=\"1.0\" encoding=\"UTF-8\" standalone=\"no\"?>\n",
       "<!DOCTYPE svg PUBLIC \"-//W3C//DTD SVG 1.1//EN\"\n",
       " \"http://www.w3.org/Graphics/SVG/1.1/DTD/svg11.dtd\">\n",
       "<!-- Generated by graphviz version 2.40.1 (20161225.0304)\n",
       " -->\n",
       "<!-- Title: %3 Pages: 1 -->\n",
       "<svg width=\"152pt\" height=\"44pt\"\n",
       " viewBox=\"0.00 0.00 152.00 44.00\" xmlns=\"http://www.w3.org/2000/svg\" xmlns:xlink=\"http://www.w3.org/1999/xlink\">\n",
       "<g id=\"graph0\" class=\"graph\" transform=\"scale(1 1) rotate(0) translate(4 40)\">\n",
       "<title>%3</title>\n",
       "<polygon fill=\"#ffffff\" stroke=\"transparent\" points=\"-4,4 -4,-40 148,-40 148,4 -4,4\"/>\n",
       "<!-- EMPTY -->\n",
       "<g id=\"node1\" class=\"node\">\n",
       "<title>EMPTY</title>\n",
       "</g>\n",
       "<!-- BH -->\n",
       "<g id=\"node2\" class=\"node\">\n",
       "<title>BH</title>\n",
       "<ellipse fill=\"none\" stroke=\"#000000\" cx=\"117\" cy=\"-18\" rx=\"27\" ry=\"18\"/>\n",
       "<text text-anchor=\"middle\" x=\"117\" y=\"-14.3\" font-family=\"Times,serif\" font-size=\"14.00\" fill=\"#000000\">BH</text>\n",
       "</g>\n",
       "<!-- EMPTY&#45;&gt;BH -->\n",
       "<g id=\"edge1\" class=\"edge\">\n",
       "<title>EMPTY&#45;&gt;BH</title>\n",
       "<path fill=\"none\" stroke=\"#000000\" d=\"M54.003,-18C62.0277,-18 70.9665,-18 79.5309,-18\"/>\n",
       "<polygon fill=\"#000000\" stroke=\"#000000\" points=\"79.7051,-21.5001 89.705,-18 79.705,-14.5001 79.7051,-21.5001\"/>\n",
       "</g>\n",
       "</g>\n",
       "</svg>\n"
      ],
      "text/plain": [
       "<graphviz.dot.Digraph at 0x10e100550>"
      ]
     },
     "execution_count": 7,
     "metadata": {},
     "output_type": "execute_result"
    }
   ],
   "source": [
    "dotObj_dfa(d2)"
   ]
  },
  {
   "cell_type": "code",
   "execution_count": null,
   "metadata": {},
   "outputs": [],
   "source": []
  },
  {
   "cell_type": "markdown",
   "metadata": {},
   "source": [
    "**-------------------------------------------------------------------------------------**"
   ]
  },
  {
   "cell_type": "markdown",
   "metadata": {},
   "source": [
    "# Section-3: Comparing two REs\n",
    "\n",
    "## ===> For Question Q6:\n",
    "\n",
    "## Look at these REs\n",
    "\n",
    "### R1 = $(\\; 0^* 1 (1 0^*)^* \\;)$\n",
    "\n",
    "### R2 = $(\\; 0^* 1 (0^* 1) \\;)^*$\n",
    "\n",
    "### Answer the quiz questions associated with these REs\n",
    "\n",
    "\n",
    "* Option-1 :  The languages of $R1$ and $R2$ are the same\n",
    "\n",
    "* Option-2 :  There can be as many strings of the form $101$ in $R1$'s language\n",
    "\n",
    "* Option-3 :  Strings in $R2$'s language can end in a $0$\n",
    "\n",
    "* Option-4 :  Strings in $R2$'s language cannot end in a $0$"
   ]
  },
  {
   "cell_type": "markdown",
   "metadata": {},
   "source": [
    "# Section-4: Postage-Stamp problems\n",
    "\n",
    "## ===> For Question Q7:\n",
    "\n",
    "* Option-1 :  The largest postage stamp value that one cannot make out of stamps with value $3,5,10$ is $7$\n",
    "\n",
    "* Option-2 :  For the largest postage stamp value to exist, the set of all pairs of stamps in the set must be relatively prime\n",
    "\n",
    "* Option-3 :  The largest postage stamp value that one cannot make out of stamps with value $5,10$ is undefined\n",
    "\n",
    "* Option-4 :  The largest postage stamp value exists for any positive integer set of stamp values"
   ]
  },
  {
   "cell_type": "code",
   "execution_count": 8,
   "metadata": {},
   "outputs": [
    {
     "name": "stderr",
     "output_type": "stream",
     "text": [
      "Generating LALR tables\n"
     ]
    },
    {
     "data": {
      "text/plain": [
       "7"
      ]
     },
     "execution_count": 8,
     "metadata": {},
     "output_type": "execute_result"
    }
   ],
   "source": [
    "RE35A = \"mystery\"\n",
    "D35A = min_dfa(nfa2dfa(re2nfa(RE35A)))\n",
    "len(D35A['Q']) - 2"
   ]
  },
  {
   "cell_type": "code",
   "execution_count": 9,
   "metadata": {},
   "outputs": [
    {
     "name": "stderr",
     "output_type": "stream",
     "text": [
      "Generating LALR tables\n"
     ]
    },
    {
     "data": {
      "image/svg+xml": [
       "<?xml version=\"1.0\" encoding=\"UTF-8\" standalone=\"no\"?>\n",
       "<!DOCTYPE svg PUBLIC \"-//W3C//DTD SVG 1.1//EN\"\n",
       " \"http://www.w3.org/Graphics/SVG/1.1/DTD/svg11.dtd\">\n",
       "<!-- Generated by graphviz version 2.40.1 (20161225.0304)\n",
       " -->\n",
       "<!-- Title: %3 Pages: 1 -->\n",
       "<svg width=\"1044pt\" height=\"105pt\"\n",
       " viewBox=\"0.00 0.00 1044.25 105.49\" xmlns=\"http://www.w3.org/2000/svg\" xmlns:xlink=\"http://www.w3.org/1999/xlink\">\n",
       "<g id=\"graph0\" class=\"graph\" transform=\"scale(1 1) rotate(0) translate(4 101.4913)\">\n",
       "<title>%3</title>\n",
       "<polygon fill=\"#ffffff\" stroke=\"transparent\" points=\"-4,4 -4,-101.4913 1040.2457,-101.4913 1040.2457,4 -4,4\"/>\n",
       "<!-- EMPTY -->\n",
       "<g id=\"node1\" class=\"node\">\n",
       "<title>EMPTY</title>\n",
       "</g>\n",
       "<!-- St1 -->\n",
       "<g id=\"node8\" class=\"node\">\n",
       "<title>St1</title>\n",
       "<ellipse fill=\"none\" stroke=\"#000000\" cx=\"113.748\" cy=\"-48.7457\" rx=\"22.9987\" ry=\"22.9987\"/>\n",
       "<text text-anchor=\"middle\" x=\"113.748\" y=\"-45.0457\" font-family=\"Times,serif\" font-size=\"14.00\" fill=\"#000000\">St1</text>\n",
       "</g>\n",
       "<!-- EMPTY&#45;&gt;St1 -->\n",
       "<g id=\"edge1\" class=\"edge\">\n",
       "<title>EMPTY&#45;&gt;St1</title>\n",
       "<path fill=\"none\" stroke=\"#000000\" d=\"M54.4476,-48.7457C62.7759,-48.7457 72.0138,-48.7457 80.671,-48.7457\"/>\n",
       "<polygon fill=\"#000000\" stroke=\"#000000\" points=\"80.8425,-52.2458 90.8425,-48.7457 80.8425,-45.2458 80.8425,-52.2458\"/>\n",
       "</g>\n",
       "<!-- St2_St3 -->\n",
       "<g id=\"node2\" class=\"node\">\n",
       "<title>St2_St3</title>\n",
       "<ellipse fill=\"none\" stroke=\"#000000\" cx=\"227.1424\" cy=\"-48.7457\" rx=\"39.7935\" ry=\"39.7935\"/>\n",
       "<text text-anchor=\"middle\" x=\"227.1424\" y=\"-45.0457\" font-family=\"Times,serif\" font-size=\"14.00\" fill=\"#000000\">St2_St3</text>\n",
       "</g>\n",
       "<!-- St4_St5 -->\n",
       "<g id=\"node4\" class=\"node\">\n",
       "<title>St4_St5</title>\n",
       "<ellipse fill=\"none\" stroke=\"#000000\" cx=\"353.4354\" cy=\"-48.7457\" rx=\"39.7935\" ry=\"39.7935\"/>\n",
       "<text text-anchor=\"middle\" x=\"353.4354\" y=\"-45.0457\" font-family=\"Times,serif\" font-size=\"14.00\" fill=\"#000000\">St4_St5</text>\n",
       "</g>\n",
       "<!-- St2_St3&#45;&gt;St4_St5 -->\n",
       "<g id=\"edge3\" class=\"edge\">\n",
       "<title>St2_St3&#45;&gt;St4_St5</title>\n",
       "<path fill=\"none\" stroke=\"#000000\" d=\"M267.1023,-48.7457C278.7325,-48.7457 291.5813,-48.7457 303.7335,-48.7457\"/>\n",
       "<polygon fill=\"#000000\" stroke=\"#000000\" points=\"303.7355,-52.2458 313.7355,-48.7457 303.7354,-45.2458 303.7355,-52.2458\"/>\n",
       "<text text-anchor=\"middle\" x=\"290.2889\" y=\"-52.5457\" font-family=\"Times,serif\" font-size=\"14.00\" fill=\"#000000\">y </text>\n",
       "</g>\n",
       "<!-- St6_St7 -->\n",
       "<g id=\"node3\" class=\"node\">\n",
       "<title>St6_St7</title>\n",
       "<ellipse fill=\"none\" stroke=\"#000000\" cx=\"477.7284\" cy=\"-48.7457\" rx=\"39.7935\" ry=\"39.7935\"/>\n",
       "<text text-anchor=\"middle\" x=\"477.7284\" y=\"-45.0457\" font-family=\"Times,serif\" font-size=\"14.00\" fill=\"#000000\">St6_St7</text>\n",
       "</g>\n",
       "<!-- St8_St9 -->\n",
       "<g id=\"node7\" class=\"node\">\n",
       "<title>St8_St9</title>\n",
       "<ellipse fill=\"none\" stroke=\"#000000\" cx=\"601.0213\" cy=\"-48.7457\" rx=\"39.7935\" ry=\"39.7935\"/>\n",
       "<text text-anchor=\"middle\" x=\"601.0213\" y=\"-45.0457\" font-family=\"Times,serif\" font-size=\"14.00\" fill=\"#000000\">St8_St9</text>\n",
       "</g>\n",
       "<!-- St6_St7&#45;&gt;St8_St9 -->\n",
       "<g id=\"edge5\" class=\"edge\">\n",
       "<title>St6_St7&#45;&gt;St8_St9</title>\n",
       "<path fill=\"none\" stroke=\"#000000\" d=\"M517.4177,-48.7457C528.0892,-48.7457 539.7705,-48.7457 550.9281,-48.7457\"/>\n",
       "<polygon fill=\"#000000\" stroke=\"#000000\" points=\"550.9837,-52.2458 560.9837,-48.7457 550.9836,-45.2458 550.9837,-52.2458\"/>\n",
       "<text text-anchor=\"middle\" x=\"539.3749\" y=\"-52.5457\" font-family=\"Times,serif\" font-size=\"14.00\" fill=\"#000000\">t </text>\n",
       "</g>\n",
       "<!-- St4_St5&#45;&gt;St6_St7 -->\n",
       "<g id=\"edge4\" class=\"edge\">\n",
       "<title>St4_St5&#45;&gt;St6_St7</title>\n",
       "<path fill=\"none\" stroke=\"#000000\" d=\"M393.1042,-48.7457C404.0918,-48.7457 416.1628,-48.7457 427.6601,-48.7457\"/>\n",
       "<polygon fill=\"#000000\" stroke=\"#000000\" points=\"428.0102,-52.2458 438.0101,-48.7457 428.0101,-45.2458 428.0102,-52.2458\"/>\n",
       "<text text-anchor=\"middle\" x=\"415.5819\" y=\"-52.5457\" font-family=\"Times,serif\" font-size=\"14.00\" fill=\"#000000\">s </text>\n",
       "</g>\n",
       "<!-- St10_St11 -->\n",
       "<g id=\"node5\" class=\"node\">\n",
       "<title>St10_St11</title>\n",
       "<ellipse fill=\"none\" stroke=\"#000000\" cx=\"735.4135\" cy=\"-48.7457\" rx=\"48.9926\" ry=\"48.9926\"/>\n",
       "<text text-anchor=\"middle\" x=\"735.4135\" y=\"-45.0457\" font-family=\"Times,serif\" font-size=\"14.00\" fill=\"#000000\">St10_St11</text>\n",
       "</g>\n",
       "<!-- St12_St13 -->\n",
       "<g id=\"node6\" class=\"node\">\n",
       "<title>St12_St13</title>\n",
       "<ellipse fill=\"none\" stroke=\"#000000\" cx=\"877.9048\" cy=\"-48.7457\" rx=\"48.9926\" ry=\"48.9926\"/>\n",
       "<text text-anchor=\"middle\" x=\"877.9048\" y=\"-45.0457\" font-family=\"Times,serif\" font-size=\"14.00\" fill=\"#000000\">St12_St13</text>\n",
       "</g>\n",
       "<!-- St10_St11&#45;&gt;St12_St13 -->\n",
       "<g id=\"edge7\" class=\"edge\">\n",
       "<title>St10_St11&#45;&gt;St12_St13</title>\n",
       "<path fill=\"none\" stroke=\"#000000\" d=\"M784.4509,-48.7457C795.422,-48.7457 807.1738,-48.7457 818.5133,-48.7457\"/>\n",
       "<polygon fill=\"#000000\" stroke=\"#000000\" points=\"818.7771,-52.2458 828.777,-48.7457 818.777,-45.2458 818.7771,-52.2458\"/>\n",
       "<text text-anchor=\"middle\" x=\"806.6592\" y=\"-52.5457\" font-family=\"Times,serif\" font-size=\"14.00\" fill=\"#000000\">r </text>\n",
       "</g>\n",
       "<!-- St14 -->\n",
       "<g id=\"node9\" class=\"node\">\n",
       "<title>St14</title>\n",
       "<ellipse fill=\"none\" stroke=\"#000000\" cx=\"1004.9481\" cy=\"-48.7457\" rx=\"27.1222\" ry=\"27.1222\"/>\n",
       "<ellipse fill=\"none\" stroke=\"#000000\" cx=\"1004.9481\" cy=\"-48.7457\" rx=\"31.0965\" ry=\"31.0965\"/>\n",
       "<text text-anchor=\"middle\" x=\"1004.9481\" y=\"-45.0457\" font-family=\"Times,serif\" font-size=\"14.00\" fill=\"#000000\">St14</text>\n",
       "</g>\n",
       "<!-- St12_St13&#45;&gt;St14 -->\n",
       "<g id=\"edge8\" class=\"edge\">\n",
       "<title>St12_St13&#45;&gt;St14</title>\n",
       "<path fill=\"none\" stroke=\"#000000\" d=\"M926.6597,-48.7457C938.6604,-48.7457 951.4053,-48.7457 963.0496,-48.7457\"/>\n",
       "<polygon fill=\"#000000\" stroke=\"#000000\" points=\"963.3809,-52.2458 973.3809,-48.7457 963.3809,-45.2458 963.3809,-52.2458\"/>\n",
       "<text text-anchor=\"middle\" x=\"950.1505\" y=\"-52.5457\" font-family=\"Times,serif\" font-size=\"14.00\" fill=\"#000000\">y </text>\n",
       "</g>\n",
       "<!-- St8_St9&#45;&gt;St10_St11 -->\n",
       "<g id=\"edge6\" class=\"edge\">\n",
       "<title>St8_St9&#45;&gt;St10_St11</title>\n",
       "<path fill=\"none\" stroke=\"#000000\" d=\"M640.9796,-48.7457C651.9907,-48.7457 664.1765,-48.7457 676.0333,-48.7457\"/>\n",
       "<polygon fill=\"#000000\" stroke=\"#000000\" points=\"676.3304,-52.2458 686.3303,-48.7457 676.3303,-45.2458 676.3304,-52.2458\"/>\n",
       "<text text-anchor=\"middle\" x=\"663.6678\" y=\"-52.5457\" font-family=\"Times,serif\" font-size=\"14.00\" fill=\"#000000\">e </text>\n",
       "</g>\n",
       "<!-- St1&#45;&gt;St2_St3 -->\n",
       "<g id=\"edge2\" class=\"edge\">\n",
       "<title>St1&#45;&gt;St2_St3</title>\n",
       "<path fill=\"none\" stroke=\"#000000\" d=\"M136.695,-48.7457C148.36,-48.7457 163.0216,-48.7457 177.1243,-48.7457\"/>\n",
       "<polygon fill=\"#000000\" stroke=\"#000000\" points=\"177.2436,-52.2458 187.2435,-48.7457 177.2435,-45.2458 177.2436,-52.2458\"/>\n",
       "<text text-anchor=\"middle\" x=\"161.996\" y=\"-52.5457\" font-family=\"Times,serif\" font-size=\"14.00\" fill=\"#000000\">m </text>\n",
       "</g>\n",
       "</g>\n",
       "</svg>\n"
      ],
      "text/plain": [
       "<graphviz.dot.Digraph at 0x10e100f60>"
      ]
     },
     "execution_count": 9,
     "metadata": {},
     "output_type": "execute_result"
    }
   ],
   "source": [
    "RE5A = \"mystery\"\n",
    "D5A = min_dfa(nfa2dfa(re2nfa(RE5A)))\n",
    "dotObj_dfa(D5A)"
   ]
  },
  {
   "cell_type": "markdown",
   "metadata": {},
   "source": [
    "# Section-5: Error-Correcting DFA\n",
    "\n",
    "## ===> For Question Q8:\n",
    "\n",
    "## Suppose we allow any N bits to be wrong in a sequence $....010101....$ expected at the receiving end. Then, the RE that models this situation satisfies the following properties (note that the \"...\" mean \"any bit at all, or no bits\")\n",
    "\n",
    "\n",
    "* Option-1 :   The DFA for four bits being incorrect can be obtained by reversing the DFA with four bits being correct.\n",
    "\n",
    "* Option-2 :   If $N=2$, we can write the RE as $(0+1)* PQRSTU (0+1)*$   with any two of P,Q,R,S,T,U being $(0+1)$ and the other two being the intended bits.\n",
    "\n",
    "* Option-3 :   If $N=6$, we can write the whole RE as $(0+1)*(0+1)^6(0+1)^*$\n",
    "\n",
    "* Option-4 :   We can never produce an error-correcting DFA that also told us how many bits were wrong."
   ]
  },
  {
   "cell_type": "markdown",
   "metadata": {},
   "source": [
    "# Section-6: Kleene Pipeline Questions\n",
    "\n",
    "## ===> For Question Q9:\n",
    "\n",
    "## Given these functions, the following is how I implement a new function \"nfaMinComp\" NFA complementation to produce a minimal DFA for a given NFA N's complement.\n",
    "\n",
    "### SUPPOSE I am given these functions\n",
    "\n",
    "* nfa2dfa -- the current NFA to DFA function\n",
    "\n",
    "* rev_dfa -- the current function to reverse a DFA\n",
    "\n",
    "* comp_dfa -- the current complementation function for DFA\n",
    "\n",
    "* min_dfa -- the current minimizer for DFA\n",
    "\n",
    "* rev_nfa -- a new function that could be implemented similar to rev_dfa to reverse an NFA (this is not hard to do)\n",
    "\n",
    " \n",
    "\n",
    "### Here is how I'll write nfaMinComp:\n",
    "\n",
    "* Option-1 : nfa2dfa(rev_nfa(N))\n",
    "\n",
    "* Option-2 : comp_dfa(nfa2dfa(N))\n",
    "\n",
    "* Option-3 : comp_dfa(min_dfa(nfa2dfa(N)))\n",
    "\n",
    "* Option-4 : min_dfa(comp_dfa(nfa2dfa(N)))"
   ]
  },
  {
   "cell_type": "markdown",
   "metadata": {},
   "source": [
    "\n",
    "\n",
    "## ===> For Question Q10:\n",
    "\n",
    "## The RE for the set of strings that do not have any occurrence of 001 satisfies these properties (call this the No001 language)\n",
    "\n",
    "* Option-1 :    If anything were to occur after a $0$, it must be a $1$.\n",
    "\n",
    "* Option-2 :    When a $01$ is seen, all strings in $((0+\\varepsilon)1)^*$  may follow\n",
    "\n",
    "* Option-3 :    When a $0$ is seen, a $0^*$ must follow\n",
    "\n",
    "* Option-4 :    The language No001 is closed under reversal"
   ]
  },
  {
   "cell_type": "code",
   "execution_count": 10,
   "metadata": {},
   "outputs": [
    {
     "name": "stdout",
     "output_type": "stream",
     "text": [
      "Help on function dfa2nfa in module jove.Def_NFA2RE:\n",
      "\n",
      "dfa2nfa(D)\n",
      "    Given a DFA D, make a language-equivalent NFA.\n",
      "\n"
     ]
    }
   ],
   "source": [
    "help(dfa2nfa)"
   ]
  },
  {
   "cell_type": "code",
   "execution_count": 11,
   "metadata": {},
   "outputs": [],
   "source": [
    "Has001   = \"(0+1)*001(0+1)*\"\n",
    "HasNo001 = \"(01+1)*0*\""
   ]
  },
  {
   "cell_type": "code",
   "execution_count": 12,
   "metadata": {},
   "outputs": [
    {
     "name": "stderr",
     "output_type": "stream",
     "text": [
      "Generating LALR tables\n",
      "Generating LALR tables\n"
     ]
    }
   ],
   "source": [
    "(d1,d2) = diff_RE(Has001, HasNo001)"
   ]
  },
  {
   "cell_type": "code",
   "execution_count": 13,
   "metadata": {},
   "outputs": [
    {
     "name": "stderr",
     "output_type": "stream",
     "text": [
      "Generating LALR tables\n"
     ]
    },
    {
     "data": {
      "image/svg+xml": [
       "<?xml version=\"1.0\" encoding=\"UTF-8\" standalone=\"no\"?>\n",
       "<!DOCTYPE svg PUBLIC \"-//W3C//DTD SVG 1.1//EN\"\n",
       " \"http://www.w3.org/Graphics/SVG/1.1/DTD/svg11.dtd\">\n",
       "<!-- Generated by graphviz version 2.40.1 (20161225.0304)\n",
       " -->\n",
       "<!-- Title: %3 Pages: 1 -->\n",
       "<svg width=\"430pt\" height=\"127pt\"\n",
       " viewBox=\"0.00 0.00 429.98 127.50\" xmlns=\"http://www.w3.org/2000/svg\" xmlns:xlink=\"http://www.w3.org/1999/xlink\">\n",
       "<g id=\"graph0\" class=\"graph\" transform=\"scale(1 1) rotate(0) translate(4 123.496)\">\n",
       "<title>%3</title>\n",
       "<polygon fill=\"#ffffff\" stroke=\"transparent\" points=\"-4,4 -4,-123.496 425.9839,-123.496 425.9839,4 -4,4\"/>\n",
       "<!-- EMPTY -->\n",
       "<g id=\"node1\" class=\"node\">\n",
       "<title>EMPTY</title>\n",
       "</g>\n",
       "<!-- St3 -->\n",
       "<g id=\"node2\" class=\"node\">\n",
       "<title>St3</title>\n",
       "<ellipse fill=\"none\" stroke=\"#000000\" cx=\"113.748\" cy=\"-26.748\" rx=\"22.9987\" ry=\"22.9987\"/>\n",
       "<text text-anchor=\"middle\" x=\"113.748\" y=\"-23.048\" font-family=\"Times,serif\" font-size=\"14.00\" fill=\"#000000\">St3</text>\n",
       "</g>\n",
       "<!-- EMPTY&#45;&gt;St3 -->\n",
       "<g id=\"edge1\" class=\"edge\">\n",
       "<title>EMPTY&#45;&gt;St3</title>\n",
       "<path fill=\"none\" stroke=\"#000000\" d=\"M54.4476,-26.748C62.7759,-26.748 72.0138,-26.748 80.671,-26.748\"/>\n",
       "<polygon fill=\"#000000\" stroke=\"#000000\" points=\"80.8425,-30.2481 90.8425,-26.748 80.8425,-23.2481 80.8425,-30.2481\"/>\n",
       "</g>\n",
       "<!-- St3&#45;&gt;St3 -->\n",
       "<g id=\"edge2\" class=\"edge\">\n",
       "<title>St3&#45;&gt;St3</title>\n",
       "<path fill=\"none\" stroke=\"#000000\" d=\"M106.3963,-48.5475C105.5943,-58.6603 108.0449,-67.496 113.748,-67.496 117.4015,-67.496 119.7203,-63.8698 120.7041,-58.6047\"/>\n",
       "<polygon fill=\"#000000\" stroke=\"#000000\" points=\"124.2039,-58.6774 121.0997,-48.5475 117.2093,-58.4022 124.2039,-58.6774\"/>\n",
       "<text text-anchor=\"middle\" x=\"113.748\" y=\"-71.296\" font-family=\"Times,serif\" font-size=\"14.00\" fill=\"#000000\">1 </text>\n",
       "</g>\n",
       "<!-- St2 -->\n",
       "<g id=\"node3\" class=\"node\">\n",
       "<title>St2</title>\n",
       "<ellipse fill=\"none\" stroke=\"#000000\" cx=\"206.2439\" cy=\"-26.748\" rx=\"22.9987\" ry=\"22.9987\"/>\n",
       "<text text-anchor=\"middle\" x=\"206.2439\" y=\"-23.048\" font-family=\"Times,serif\" font-size=\"14.00\" fill=\"#000000\">St2</text>\n",
       "</g>\n",
       "<!-- St3&#45;&gt;St2 -->\n",
       "<g id=\"edge3\" class=\"edge\">\n",
       "<title>St3&#45;&gt;St2</title>\n",
       "<path fill=\"none\" stroke=\"#000000\" d=\"M136.6122,-26.748C147.6184,-26.748 161.0225,-26.748 173.1202,-26.748\"/>\n",
       "<polygon fill=\"#000000\" stroke=\"#000000\" points=\"173.3223,-30.2481 183.3222,-26.748 173.3222,-23.2481 173.3223,-30.2481\"/>\n",
       "<text text-anchor=\"middle\" x=\"159.996\" y=\"-30.548\" font-family=\"Times,serif\" font-size=\"14.00\" fill=\"#000000\">0 </text>\n",
       "</g>\n",
       "<!-- St2&#45;&gt;St3 -->\n",
       "<g id=\"edge4\" class=\"edge\">\n",
       "<title>St2&#45;&gt;St3</title>\n",
       "<path fill=\"none\" stroke=\"#000000\" d=\"M186.9556,-14.0062C177.3773,-9.1497 165.5214,-5.3038 154.496,-7.748 150.7714,-8.5736 146.9838,-9.7766 143.2929,-11.1827\"/>\n",
       "<polygon fill=\"#000000\" stroke=\"#000000\" points=\"141.65,-8.0797 133.8588,-15.2594 144.4268,-14.5055 141.65,-8.0797\"/>\n",
       "<text text-anchor=\"middle\" x=\"159.996\" y=\"-11.548\" font-family=\"Times,serif\" font-size=\"14.00\" fill=\"#000000\">1 </text>\n",
       "</g>\n",
       "<!-- St1 -->\n",
       "<g id=\"node4\" class=\"node\">\n",
       "<title>St1</title>\n",
       "<ellipse fill=\"none\" stroke=\"#000000\" cx=\"298.7399\" cy=\"-26.748\" rx=\"22.9987\" ry=\"22.9987\"/>\n",
       "<text text-anchor=\"middle\" x=\"298.7399\" y=\"-23.048\" font-family=\"Times,serif\" font-size=\"14.00\" fill=\"#000000\">St1</text>\n",
       "</g>\n",
       "<!-- St2&#45;&gt;St1 -->\n",
       "<g id=\"edge5\" class=\"edge\">\n",
       "<title>St2&#45;&gt;St1</title>\n",
       "<path fill=\"none\" stroke=\"#000000\" d=\"M229.1081,-26.748C240.1144,-26.748 253.5184,-26.748 265.6162,-26.748\"/>\n",
       "<polygon fill=\"#000000\" stroke=\"#000000\" points=\"265.8182,-30.2481 275.8182,-26.748 265.8182,-23.2481 265.8182,-30.2481\"/>\n",
       "<text text-anchor=\"middle\" x=\"252.4919\" y=\"-30.548\" font-family=\"Times,serif\" font-size=\"14.00\" fill=\"#000000\">0 </text>\n",
       "</g>\n",
       "<!-- St1&#45;&gt;St1 -->\n",
       "<g id=\"edge7\" class=\"edge\">\n",
       "<title>St1&#45;&gt;St1</title>\n",
       "<path fill=\"none\" stroke=\"#000000\" d=\"M290.3255,-48.1313C289.2867,-58.4165 292.0915,-67.496 298.7399,-67.496 302.9991,-67.496 305.6808,-63.7698 306.7851,-58.3874\"/>\n",
       "<polygon fill=\"#000000\" stroke=\"#000000\" points=\"310.2922,-58.2507 307.1543,-48.1313 303.2967,-57.9988 310.2922,-58.2507\"/>\n",
       "<text text-anchor=\"middle\" x=\"298.7399\" y=\"-71.296\" font-family=\"Times,serif\" font-size=\"14.00\" fill=\"#000000\">0 </text>\n",
       "</g>\n",
       "<!-- St0 -->\n",
       "<g id=\"node5\" class=\"node\">\n",
       "<title>St0</title>\n",
       "<ellipse fill=\"none\" stroke=\"#000000\" cx=\"395.2359\" cy=\"-26.748\" rx=\"22.9609\" ry=\"22.9609\"/>\n",
       "<ellipse fill=\"none\" stroke=\"#000000\" cx=\"395.2359\" cy=\"-26.748\" rx=\"26.9983\" ry=\"26.9983\"/>\n",
       "<text text-anchor=\"middle\" x=\"395.2359\" y=\"-23.048\" font-family=\"Times,serif\" font-size=\"14.00\" fill=\"#000000\">St0</text>\n",
       "</g>\n",
       "<!-- St1&#45;&gt;St0 -->\n",
       "<g id=\"edge6\" class=\"edge\">\n",
       "<title>St1&#45;&gt;St0</title>\n",
       "<path fill=\"none\" stroke=\"#000000\" d=\"M321.6081,-26.748C332.5805,-26.748 346.001,-26.748 358.3646,-26.748\"/>\n",
       "<polygon fill=\"#000000\" stroke=\"#000000\" points=\"358.4245,-30.2481 368.4245,-26.748 358.4244,-23.2481 358.4245,-30.2481\"/>\n",
       "<text text-anchor=\"middle\" x=\"344.9879\" y=\"-30.548\" font-family=\"Times,serif\" font-size=\"14.00\" fill=\"#000000\">1 </text>\n",
       "</g>\n",
       "<!-- St0&#45;&gt;St0 -->\n",
       "<g id=\"edge8\" class=\"edge\">\n",
       "<title>St0&#45;&gt;St0</title>\n",
       "<path fill=\"none\" stroke=\"#000000\" d=\"M390.5587,-53.3928C390.4053,-63.3224 391.9644,-71.496 395.2359,-71.496 397.2805,-71.496 398.6563,-68.3032 399.3632,-63.4843\"/>\n",
       "<polygon fill=\"#000000\" stroke=\"#000000\" points=\"402.8637,-63.5684 399.9131,-53.3928 395.8741,-63.1875 402.8637,-63.5684\"/>\n",
       "<text text-anchor=\"middle\" x=\"395.2359\" y=\"-75.296\" font-family=\"Times,serif\" font-size=\"14.00\" fill=\"#000000\">1 </text>\n",
       "</g>\n",
       "<!-- St0&#45;&gt;St0 -->\n",
       "<g id=\"edge9\" class=\"edge\">\n",
       "<title>St0&#45;&gt;St0</title>\n",
       "<path fill=\"none\" stroke=\"#000000\" d=\"M386.9189,-52.203C384.1139,-70.8313 386.8863,-89.496 395.2359,-89.496 402.0199,-89.496 405.1221,-77.1744 404.5424,-62.562\"/>\n",
       "<polygon fill=\"#000000\" stroke=\"#000000\" points=\"407.988,-61.8249 403.5529,-52.203 401.0197,-62.4906 407.988,-61.8249\"/>\n",
       "<text text-anchor=\"middle\" x=\"395.2359\" y=\"-93.296\" font-family=\"Times,serif\" font-size=\"14.00\" fill=\"#000000\">0 </text>\n",
       "</g>\n",
       "</g>\n",
       "</svg>\n"
      ],
      "text/plain": [
       "<graphviz.dot.Digraph at 0x10e108da0>"
      ]
     },
     "execution_count": 13,
     "metadata": {},
     "output_type": "execute_result"
    }
   ],
   "source": [
    "dotObj_dfa(min_dfa_brz(nfa2dfa(re2nfa(Has001))))"
   ]
  },
  {
   "cell_type": "code",
   "execution_count": 14,
   "metadata": {},
   "outputs": [
    {
     "name": "stderr",
     "output_type": "stream",
     "text": [
      "Generating LALR tables\n"
     ]
    },
    {
     "data": {
      "image/svg+xml": [
       "<?xml version=\"1.0\" encoding=\"UTF-8\" standalone=\"no\"?>\n",
       "<!DOCTYPE svg PUBLIC \"-//W3C//DTD SVG 1.1//EN\"\n",
       " \"http://www.w3.org/Graphics/SVG/1.1/DTD/svg11.dtd\">\n",
       "<!-- Generated by graphviz version 2.40.1 (20161225.0304)\n",
       " -->\n",
       "<!-- Title: %3 Pages: 1 -->\n",
       "<svg width=\"446pt\" height=\"123pt\"\n",
       " viewBox=\"0.00 0.00 445.98 123.50\" xmlns=\"http://www.w3.org/2000/svg\" xmlns:xlink=\"http://www.w3.org/1999/xlink\">\n",
       "<g id=\"graph0\" class=\"graph\" transform=\"scale(1 1) rotate(0) translate(4 119.496)\">\n",
       "<title>%3</title>\n",
       "<polygon fill=\"#ffffff\" stroke=\"transparent\" points=\"-4,4 -4,-119.496 441.9839,-119.496 441.9839,4 -4,4\"/>\n",
       "<!-- EMPTY -->\n",
       "<g id=\"node1\" class=\"node\">\n",
       "<title>EMPTY</title>\n",
       "</g>\n",
       "<!-- St3 -->\n",
       "<g id=\"node3\" class=\"node\">\n",
       "<title>St3</title>\n",
       "<ellipse fill=\"none\" stroke=\"#000000\" cx=\"117.748\" cy=\"-26.748\" rx=\"22.9609\" ry=\"22.9609\"/>\n",
       "<ellipse fill=\"none\" stroke=\"#000000\" cx=\"117.748\" cy=\"-26.748\" rx=\"26.9983\" ry=\"26.9983\"/>\n",
       "<text text-anchor=\"middle\" x=\"117.748\" y=\"-23.048\" font-family=\"Times,serif\" font-size=\"14.00\" fill=\"#000000\">St3</text>\n",
       "</g>\n",
       "<!-- EMPTY&#45;&gt;St3 -->\n",
       "<g id=\"edge1\" class=\"edge\">\n",
       "<title>EMPTY&#45;&gt;St3</title>\n",
       "<path fill=\"none\" stroke=\"#000000\" d=\"M54.2274,-26.748C62.5578,-26.748 71.8652,-26.748 80.7317,-26.748\"/>\n",
       "<polygon fill=\"#000000\" stroke=\"#000000\" points=\"80.8526,-30.2481 90.8525,-26.748 80.8525,-23.2481 80.8526,-30.2481\"/>\n",
       "</g>\n",
       "<!-- St0 -->\n",
       "<g id=\"node2\" class=\"node\">\n",
       "<title>St0</title>\n",
       "<ellipse fill=\"none\" stroke=\"#000000\" cx=\"415.2359\" cy=\"-26.748\" rx=\"22.9987\" ry=\"22.9987\"/>\n",
       "<text text-anchor=\"middle\" x=\"415.2359\" y=\"-23.048\" font-family=\"Times,serif\" font-size=\"14.00\" fill=\"#000000\">St0</text>\n",
       "</g>\n",
       "<!-- St0&#45;&gt;St0 -->\n",
       "<g id=\"edge8\" class=\"edge\">\n",
       "<title>St0&#45;&gt;St0</title>\n",
       "<path fill=\"none\" stroke=\"#000000\" d=\"M410.975,-49.3757C410.6261,-59.1378 412.0464,-67.496 415.2359,-67.496 417.2293,-67.496 418.5316,-64.231 419.1429,-59.399\"/>\n",
       "<polygon fill=\"#000000\" stroke=\"#000000\" points=\"422.6416,-59.493 419.4968,-49.3757 415.646,-59.2459 422.6416,-59.493\"/>\n",
       "<text text-anchor=\"middle\" x=\"415.2359\" y=\"-71.296\" font-family=\"Times,serif\" font-size=\"14.00\" fill=\"#000000\">1 </text>\n",
       "</g>\n",
       "<!-- St0&#45;&gt;St0 -->\n",
       "<g id=\"edge9\" class=\"edge\">\n",
       "<title>St0&#45;&gt;St0</title>\n",
       "<path fill=\"none\" stroke=\"#000000\" d=\"M407.9269,-48.4399C404.8035,-66.5611 407.2398,-85.496 415.2359,-85.496 421.7327,-85.496 424.5592,-72.996 423.7154,-58.5887\"/>\n",
       "<polygon fill=\"#000000\" stroke=\"#000000\" points=\"427.1676,-57.973 422.5448,-48.4399 420.2137,-58.7751 427.1676,-57.973\"/>\n",
       "<text text-anchor=\"middle\" x=\"415.2359\" y=\"-89.296\" font-family=\"Times,serif\" font-size=\"14.00\" fill=\"#000000\">0 </text>\n",
       "</g>\n",
       "<!-- St3&#45;&gt;St3 -->\n",
       "<g id=\"edge2\" class=\"edge\">\n",
       "<title>St3&#45;&gt;St3</title>\n",
       "<path fill=\"none\" stroke=\"#000000\" d=\"M109.5483,-52.499C109.0851,-62.8271 111.8183,-71.496 117.748,-71.496 121.5467,-71.496 124.0336,-67.9383 125.2086,-62.6658\"/>\n",
       "<polygon fill=\"#000000\" stroke=\"#000000\" points=\"128.7133,-62.7265 125.9476,-52.499 121.7318,-62.2189 128.7133,-62.7265\"/>\n",
       "<text text-anchor=\"middle\" x=\"117.748\" y=\"-75.296\" font-family=\"Times,serif\" font-size=\"14.00\" fill=\"#000000\">1 </text>\n",
       "</g>\n",
       "<!-- St2 -->\n",
       "<g id=\"node4\" class=\"node\">\n",
       "<title>St2</title>\n",
       "<ellipse fill=\"none\" stroke=\"#000000\" cx=\"218.2439\" cy=\"-26.748\" rx=\"22.9609\" ry=\"22.9609\"/>\n",
       "<ellipse fill=\"none\" stroke=\"#000000\" cx=\"218.2439\" cy=\"-26.748\" rx=\"26.9983\" ry=\"26.9983\"/>\n",
       "<text text-anchor=\"middle\" x=\"218.2439\" y=\"-23.048\" font-family=\"Times,serif\" font-size=\"14.00\" fill=\"#000000\">St2</text>\n",
       "</g>\n",
       "<!-- St3&#45;&gt;St2 -->\n",
       "<g id=\"edge3\" class=\"edge\">\n",
       "<title>St3&#45;&gt;St2</title>\n",
       "<path fill=\"none\" stroke=\"#000000\" d=\"M144.6791,-26.748C155.8312,-26.748 168.9523,-26.748 181.0018,-26.748\"/>\n",
       "<polygon fill=\"#000000\" stroke=\"#000000\" points=\"181.2386,-30.2481 191.2385,-26.748 181.2385,-23.2481 181.2386,-30.2481\"/>\n",
       "<text text-anchor=\"middle\" x=\"167.996\" y=\"-30.548\" font-family=\"Times,serif\" font-size=\"14.00\" fill=\"#000000\">0 </text>\n",
       "</g>\n",
       "<!-- St2&#45;&gt;St3 -->\n",
       "<g id=\"edge4\" class=\"edge\">\n",
       "<title>St2&#45;&gt;St3</title>\n",
       "<path fill=\"none\" stroke=\"#000000\" d=\"M195.0126,-12.9497C185.1452,-8.6399 173.4175,-5.5254 162.496,-7.748 158.8052,-8.4991 155.0415,-9.5656 151.3424,-10.8149\"/>\n",
       "<polygon fill=\"#000000\" stroke=\"#000000\" points=\"149.8913,-7.6223 141.7959,-14.4571 152.3866,-14.1625 149.8913,-7.6223\"/>\n",
       "<text text-anchor=\"middle\" x=\"167.996\" y=\"-11.548\" font-family=\"Times,serif\" font-size=\"14.00\" fill=\"#000000\">1 </text>\n",
       "</g>\n",
       "<!-- St1 -->\n",
       "<g id=\"node5\" class=\"node\">\n",
       "<title>St1</title>\n",
       "<ellipse fill=\"none\" stroke=\"#000000\" cx=\"318.7399\" cy=\"-26.748\" rx=\"22.9609\" ry=\"22.9609\"/>\n",
       "<ellipse fill=\"none\" stroke=\"#000000\" cx=\"318.7399\" cy=\"-26.748\" rx=\"26.9983\" ry=\"26.9983\"/>\n",
       "<text text-anchor=\"middle\" x=\"318.7399\" y=\"-23.048\" font-family=\"Times,serif\" font-size=\"14.00\" fill=\"#000000\">St1</text>\n",
       "</g>\n",
       "<!-- St2&#45;&gt;St1 -->\n",
       "<g id=\"edge5\" class=\"edge\">\n",
       "<title>St2&#45;&gt;St1</title>\n",
       "<path fill=\"none\" stroke=\"#000000\" d=\"M245.175,-26.748C256.3272,-26.748 269.4482,-26.748 281.4978,-26.748\"/>\n",
       "<polygon fill=\"#000000\" stroke=\"#000000\" points=\"281.7345,-30.2481 291.7345,-26.748 281.7345,-23.2481 281.7345,-30.2481\"/>\n",
       "<text text-anchor=\"middle\" x=\"268.4919\" y=\"-30.548\" font-family=\"Times,serif\" font-size=\"14.00\" fill=\"#000000\">0 </text>\n",
       "</g>\n",
       "<!-- St1&#45;&gt;St0 -->\n",
       "<g id=\"edge6\" class=\"edge\">\n",
       "<title>St1&#45;&gt;St0</title>\n",
       "<path fill=\"none\" stroke=\"#000000\" d=\"M345.6194,-26.748C357.0062,-26.748 370.3829,-26.748 382.3514,-26.748\"/>\n",
       "<polygon fill=\"#000000\" stroke=\"#000000\" points=\"382.4212,-30.2481 392.4212,-26.748 382.4211,-23.2481 382.4212,-30.2481\"/>\n",
       "<text text-anchor=\"middle\" x=\"368.9879\" y=\"-30.548\" font-family=\"Times,serif\" font-size=\"14.00\" fill=\"#000000\">1 </text>\n",
       "</g>\n",
       "<!-- St1&#45;&gt;St1 -->\n",
       "<g id=\"edge7\" class=\"edge\">\n",
       "<title>St1&#45;&gt;St1</title>\n",
       "<path fill=\"none\" stroke=\"#000000\" d=\"M309.4473,-52.049C308.8064,-62.574 311.904,-71.496 318.7399,-71.496 323.226,-71.496 326.1021,-67.6536 327.3682,-62.0374\"/>\n",
       "<polygon fill=\"#000000\" stroke=\"#000000\" points=\"330.8611,-62.2592 328.0325,-52.049 323.8765,-61.7946 330.8611,-62.2592\"/>\n",
       "<text text-anchor=\"middle\" x=\"318.7399\" y=\"-75.296\" font-family=\"Times,serif\" font-size=\"14.00\" fill=\"#000000\">0 </text>\n",
       "</g>\n",
       "</g>\n",
       "</svg>\n"
      ],
      "text/plain": [
       "<graphviz.dot.Digraph at 0x10e136198>"
      ]
     },
     "execution_count": 14,
     "metadata": {},
     "output_type": "execute_result"
    }
   ],
   "source": [
    "dotObj_dfa(comp_dfa(min_dfa_brz(nfa2dfa(re2nfa(Has001)))))"
   ]
  },
  {
   "cell_type": "code",
   "execution_count": null,
   "metadata": {},
   "outputs": [],
   "source": []
  },
  {
   "cell_type": "code",
   "execution_count": 15,
   "metadata": {},
   "outputs": [
    {
     "name": "stderr",
     "output_type": "stream",
     "text": [
      "Generating LALR tables\n"
     ]
    },
    {
     "data": {
      "image/svg+xml": [
       "<?xml version=\"1.0\" encoding=\"UTF-8\" standalone=\"no\"?>\n",
       "<!DOCTYPE svg PUBLIC \"-//W3C//DTD SVG 1.1//EN\"\n",
       " \"http://www.w3.org/Graphics/SVG/1.1/DTD/svg11.dtd\">\n",
       "<!-- Generated by graphviz version 2.40.1 (20161225.0304)\n",
       " -->\n",
       "<!-- Title: %3 Pages: 1 -->\n",
       "<svg width=\"353pt\" height=\"94pt\"\n",
       " viewBox=\"0.00 0.00 353.49 94.50\" xmlns=\"http://www.w3.org/2000/svg\" xmlns:xlink=\"http://www.w3.org/1999/xlink\">\n",
       "<g id=\"graph0\" class=\"graph\" transform=\"scale(1 1) rotate(0) translate(4 90.496)\">\n",
       "<title>%3</title>\n",
       "<polygon fill=\"#ffffff\" stroke=\"transparent\" points=\"-4,4 -4,-90.496 349.4879,-90.496 349.4879,4 -4,4\"/>\n",
       "<!-- EMPTY -->\n",
       "<g id=\"node1\" class=\"node\">\n",
       "<title>EMPTY</title>\n",
       "</g>\n",
       "<!-- St1 -->\n",
       "<g id=\"node4\" class=\"node\">\n",
       "<title>St1</title>\n",
       "<ellipse fill=\"none\" stroke=\"#000000\" cx=\"117.748\" cy=\"-26.748\" rx=\"22.9609\" ry=\"22.9609\"/>\n",
       "<ellipse fill=\"none\" stroke=\"#000000\" cx=\"117.748\" cy=\"-26.748\" rx=\"26.9983\" ry=\"26.9983\"/>\n",
       "<text text-anchor=\"middle\" x=\"117.748\" y=\"-23.048\" font-family=\"Times,serif\" font-size=\"14.00\" fill=\"#000000\">St1</text>\n",
       "</g>\n",
       "<!-- EMPTY&#45;&gt;St1 -->\n",
       "<g id=\"edge1\" class=\"edge\">\n",
       "<title>EMPTY&#45;&gt;St1</title>\n",
       "<path fill=\"none\" stroke=\"#000000\" d=\"M54.2274,-26.748C62.5578,-26.748 71.8652,-26.748 80.7317,-26.748\"/>\n",
       "<polygon fill=\"#000000\" stroke=\"#000000\" points=\"80.8526,-30.2481 90.8525,-26.748 80.8525,-23.2481 80.8526,-30.2481\"/>\n",
       "</g>\n",
       "<!-- St3 -->\n",
       "<g id=\"node2\" class=\"node\">\n",
       "<title>St3</title>\n",
       "<ellipse fill=\"none\" stroke=\"#000000\" cx=\"318.7399\" cy=\"-26.748\" rx=\"22.9609\" ry=\"22.9609\"/>\n",
       "<ellipse fill=\"none\" stroke=\"#000000\" cx=\"318.7399\" cy=\"-26.748\" rx=\"26.9983\" ry=\"26.9983\"/>\n",
       "<text text-anchor=\"middle\" x=\"318.7399\" y=\"-23.048\" font-family=\"Times,serif\" font-size=\"14.00\" fill=\"#000000\">St3</text>\n",
       "</g>\n",
       "<!-- St3&#45;&gt;St3 -->\n",
       "<g id=\"edge6\" class=\"edge\">\n",
       "<title>St3&#45;&gt;St3</title>\n",
       "<path fill=\"none\" stroke=\"#000000\" d=\"M309.4473,-52.049C308.8064,-62.574 311.904,-71.496 318.7399,-71.496 323.226,-71.496 326.1021,-67.6536 327.3682,-62.0374\"/>\n",
       "<polygon fill=\"#000000\" stroke=\"#000000\" points=\"330.8611,-62.2592 328.0325,-52.049 323.8765,-61.7946 330.8611,-62.2592\"/>\n",
       "<text text-anchor=\"middle\" x=\"318.7399\" y=\"-75.296\" font-family=\"Times,serif\" font-size=\"14.00\" fill=\"#000000\">0 </text>\n",
       "</g>\n",
       "<!-- St2 -->\n",
       "<g id=\"node3\" class=\"node\">\n",
       "<title>St2</title>\n",
       "<ellipse fill=\"none\" stroke=\"#000000\" cx=\"218.2439\" cy=\"-26.748\" rx=\"22.9609\" ry=\"22.9609\"/>\n",
       "<ellipse fill=\"none\" stroke=\"#000000\" cx=\"218.2439\" cy=\"-26.748\" rx=\"26.9983\" ry=\"26.9983\"/>\n",
       "<text text-anchor=\"middle\" x=\"218.2439\" y=\"-23.048\" font-family=\"Times,serif\" font-size=\"14.00\" fill=\"#000000\">St2</text>\n",
       "</g>\n",
       "<!-- St2&#45;&gt;St3 -->\n",
       "<g id=\"edge5\" class=\"edge\">\n",
       "<title>St2&#45;&gt;St3</title>\n",
       "<path fill=\"none\" stroke=\"#000000\" d=\"M245.175,-26.748C256.3272,-26.748 269.4482,-26.748 281.4978,-26.748\"/>\n",
       "<polygon fill=\"#000000\" stroke=\"#000000\" points=\"281.7345,-30.2481 291.7345,-26.748 281.7345,-23.2481 281.7345,-30.2481\"/>\n",
       "<text text-anchor=\"middle\" x=\"268.4919\" y=\"-30.548\" font-family=\"Times,serif\" font-size=\"14.00\" fill=\"#000000\">0 </text>\n",
       "</g>\n",
       "<!-- St2&#45;&gt;St1 -->\n",
       "<g id=\"edge4\" class=\"edge\">\n",
       "<title>St2&#45;&gt;St1</title>\n",
       "<path fill=\"none\" stroke=\"#000000\" d=\"M195.0126,-12.9497C185.1452,-8.6399 173.4175,-5.5254 162.496,-7.748 158.8052,-8.4991 155.0415,-9.5656 151.3424,-10.8149\"/>\n",
       "<polygon fill=\"#000000\" stroke=\"#000000\" points=\"149.8913,-7.6223 141.7959,-14.4571 152.3866,-14.1625 149.8913,-7.6223\"/>\n",
       "<text text-anchor=\"middle\" x=\"167.996\" y=\"-11.548\" font-family=\"Times,serif\" font-size=\"14.00\" fill=\"#000000\">1 </text>\n",
       "</g>\n",
       "<!-- St1&#45;&gt;St2 -->\n",
       "<g id=\"edge3\" class=\"edge\">\n",
       "<title>St1&#45;&gt;St2</title>\n",
       "<path fill=\"none\" stroke=\"#000000\" d=\"M144.6791,-26.748C155.8312,-26.748 168.9523,-26.748 181.0018,-26.748\"/>\n",
       "<polygon fill=\"#000000\" stroke=\"#000000\" points=\"181.2386,-30.2481 191.2385,-26.748 181.2385,-23.2481 181.2386,-30.2481\"/>\n",
       "<text text-anchor=\"middle\" x=\"167.996\" y=\"-30.548\" font-family=\"Times,serif\" font-size=\"14.00\" fill=\"#000000\">0 </text>\n",
       "</g>\n",
       "<!-- St1&#45;&gt;St1 -->\n",
       "<g id=\"edge2\" class=\"edge\">\n",
       "<title>St1&#45;&gt;St1</title>\n",
       "<path fill=\"none\" stroke=\"#000000\" d=\"M109.5483,-52.499C109.0851,-62.8271 111.8183,-71.496 117.748,-71.496 121.5467,-71.496 124.0336,-67.9383 125.2086,-62.6658\"/>\n",
       "<polygon fill=\"#000000\" stroke=\"#000000\" points=\"128.7133,-62.7265 125.9476,-52.499 121.7318,-62.2189 128.7133,-62.7265\"/>\n",
       "<text text-anchor=\"middle\" x=\"117.748\" y=\"-75.296\" font-family=\"Times,serif\" font-size=\"14.00\" fill=\"#000000\">1 </text>\n",
       "</g>\n",
       "</g>\n",
       "</svg>\n"
      ],
      "text/plain": [
       "<graphviz.dot.Digraph at 0x10e1369b0>"
      ]
     },
     "execution_count": 15,
     "metadata": {},
     "output_type": "execute_result"
    }
   ],
   "source": [
    "dotObj_dfa(min_dfa_brz(nfa2dfa(re2nfa(HasNo001))))"
   ]
  },
  {
   "cell_type": "code",
   "execution_count": 16,
   "metadata": {},
   "outputs": [
    {
     "data": {
      "image/svg+xml": [
       "<?xml version=\"1.0\" encoding=\"UTF-8\" standalone=\"no\"?>\n",
       "<!DOCTYPE svg PUBLIC \"-//W3C//DTD SVG 1.1//EN\"\n",
       " \"http://www.w3.org/Graphics/SVG/1.1/DTD/svg11.dtd\">\n",
       "<!-- Generated by graphviz version 2.40.1 (20161225.0304)\n",
       " -->\n",
       "<!-- Title: %3 Pages: 1 -->\n",
       "<svg width=\"430pt\" height=\"127pt\"\n",
       " viewBox=\"0.00 0.00 429.98 127.50\" xmlns=\"http://www.w3.org/2000/svg\" xmlns:xlink=\"http://www.w3.org/1999/xlink\">\n",
       "<g id=\"graph0\" class=\"graph\" transform=\"scale(1 1) rotate(0) translate(4 123.496)\">\n",
       "<title>%3</title>\n",
       "<polygon fill=\"#ffffff\" stroke=\"transparent\" points=\"-4,4 -4,-123.496 425.9839,-123.496 425.9839,4 -4,4\"/>\n",
       "<!-- EMPTY -->\n",
       "<g id=\"node1\" class=\"node\">\n",
       "<title>EMPTY</title>\n",
       "</g>\n",
       "<!-- St3 -->\n",
       "<g id=\"node2\" class=\"node\">\n",
       "<title>St3</title>\n",
       "<ellipse fill=\"none\" stroke=\"#000000\" cx=\"113.748\" cy=\"-26.748\" rx=\"22.9987\" ry=\"22.9987\"/>\n",
       "<text text-anchor=\"middle\" x=\"113.748\" y=\"-23.048\" font-family=\"Times,serif\" font-size=\"14.00\" fill=\"#000000\">St3</text>\n",
       "</g>\n",
       "<!-- EMPTY&#45;&gt;St3 -->\n",
       "<g id=\"edge1\" class=\"edge\">\n",
       "<title>EMPTY&#45;&gt;St3</title>\n",
       "<path fill=\"none\" stroke=\"#000000\" d=\"M54.4476,-26.748C62.7759,-26.748 72.0138,-26.748 80.671,-26.748\"/>\n",
       "<polygon fill=\"#000000\" stroke=\"#000000\" points=\"80.8425,-30.2481 90.8425,-26.748 80.8425,-23.2481 80.8425,-30.2481\"/>\n",
       "</g>\n",
       "<!-- St3&#45;&gt;St3 -->\n",
       "<g id=\"edge2\" class=\"edge\">\n",
       "<title>St3&#45;&gt;St3</title>\n",
       "<path fill=\"none\" stroke=\"#000000\" d=\"M106.3963,-48.5475C105.5943,-58.6603 108.0449,-67.496 113.748,-67.496 117.4015,-67.496 119.7203,-63.8698 120.7041,-58.6047\"/>\n",
       "<polygon fill=\"#000000\" stroke=\"#000000\" points=\"124.2039,-58.6774 121.0997,-48.5475 117.2093,-58.4022 124.2039,-58.6774\"/>\n",
       "<text text-anchor=\"middle\" x=\"113.748\" y=\"-71.296\" font-family=\"Times,serif\" font-size=\"14.00\" fill=\"#000000\">1 </text>\n",
       "</g>\n",
       "<!-- St2 -->\n",
       "<g id=\"node3\" class=\"node\">\n",
       "<title>St2</title>\n",
       "<ellipse fill=\"none\" stroke=\"#000000\" cx=\"206.2439\" cy=\"-26.748\" rx=\"22.9987\" ry=\"22.9987\"/>\n",
       "<text text-anchor=\"middle\" x=\"206.2439\" y=\"-23.048\" font-family=\"Times,serif\" font-size=\"14.00\" fill=\"#000000\">St2</text>\n",
       "</g>\n",
       "<!-- St3&#45;&gt;St2 -->\n",
       "<g id=\"edge3\" class=\"edge\">\n",
       "<title>St3&#45;&gt;St2</title>\n",
       "<path fill=\"none\" stroke=\"#000000\" d=\"M136.6122,-26.748C147.6184,-26.748 161.0225,-26.748 173.1202,-26.748\"/>\n",
       "<polygon fill=\"#000000\" stroke=\"#000000\" points=\"173.3223,-30.2481 183.3222,-26.748 173.3222,-23.2481 173.3223,-30.2481\"/>\n",
       "<text text-anchor=\"middle\" x=\"159.996\" y=\"-30.548\" font-family=\"Times,serif\" font-size=\"14.00\" fill=\"#000000\">0 </text>\n",
       "</g>\n",
       "<!-- St2&#45;&gt;St3 -->\n",
       "<g id=\"edge4\" class=\"edge\">\n",
       "<title>St2&#45;&gt;St3</title>\n",
       "<path fill=\"none\" stroke=\"#000000\" d=\"M186.9556,-14.0062C177.3773,-9.1497 165.5214,-5.3038 154.496,-7.748 150.7714,-8.5736 146.9838,-9.7766 143.2929,-11.1827\"/>\n",
       "<polygon fill=\"#000000\" stroke=\"#000000\" points=\"141.65,-8.0797 133.8588,-15.2594 144.4268,-14.5055 141.65,-8.0797\"/>\n",
       "<text text-anchor=\"middle\" x=\"159.996\" y=\"-11.548\" font-family=\"Times,serif\" font-size=\"14.00\" fill=\"#000000\">1 </text>\n",
       "</g>\n",
       "<!-- St1 -->\n",
       "<g id=\"node4\" class=\"node\">\n",
       "<title>St1</title>\n",
       "<ellipse fill=\"none\" stroke=\"#000000\" cx=\"298.7399\" cy=\"-26.748\" rx=\"22.9987\" ry=\"22.9987\"/>\n",
       "<text text-anchor=\"middle\" x=\"298.7399\" y=\"-23.048\" font-family=\"Times,serif\" font-size=\"14.00\" fill=\"#000000\">St1</text>\n",
       "</g>\n",
       "<!-- St2&#45;&gt;St1 -->\n",
       "<g id=\"edge5\" class=\"edge\">\n",
       "<title>St2&#45;&gt;St1</title>\n",
       "<path fill=\"none\" stroke=\"#000000\" d=\"M229.1081,-26.748C240.1144,-26.748 253.5184,-26.748 265.6162,-26.748\"/>\n",
       "<polygon fill=\"#000000\" stroke=\"#000000\" points=\"265.8182,-30.2481 275.8182,-26.748 265.8182,-23.2481 265.8182,-30.2481\"/>\n",
       "<text text-anchor=\"middle\" x=\"252.4919\" y=\"-30.548\" font-family=\"Times,serif\" font-size=\"14.00\" fill=\"#000000\">0 </text>\n",
       "</g>\n",
       "<!-- St1&#45;&gt;St1 -->\n",
       "<g id=\"edge7\" class=\"edge\">\n",
       "<title>St1&#45;&gt;St1</title>\n",
       "<path fill=\"none\" stroke=\"#000000\" d=\"M290.3255,-48.1313C289.2867,-58.4165 292.0915,-67.496 298.7399,-67.496 302.9991,-67.496 305.6808,-63.7698 306.7851,-58.3874\"/>\n",
       "<polygon fill=\"#000000\" stroke=\"#000000\" points=\"310.2922,-58.2507 307.1543,-48.1313 303.2967,-57.9988 310.2922,-58.2507\"/>\n",
       "<text text-anchor=\"middle\" x=\"298.7399\" y=\"-71.296\" font-family=\"Times,serif\" font-size=\"14.00\" fill=\"#000000\">0 </text>\n",
       "</g>\n",
       "<!-- St0 -->\n",
       "<g id=\"node5\" class=\"node\">\n",
       "<title>St0</title>\n",
       "<ellipse fill=\"none\" stroke=\"#000000\" cx=\"395.2359\" cy=\"-26.748\" rx=\"22.9609\" ry=\"22.9609\"/>\n",
       "<ellipse fill=\"none\" stroke=\"#000000\" cx=\"395.2359\" cy=\"-26.748\" rx=\"26.9983\" ry=\"26.9983\"/>\n",
       "<text text-anchor=\"middle\" x=\"395.2359\" y=\"-23.048\" font-family=\"Times,serif\" font-size=\"14.00\" fill=\"#000000\">St0</text>\n",
       "</g>\n",
       "<!-- St1&#45;&gt;St0 -->\n",
       "<g id=\"edge6\" class=\"edge\">\n",
       "<title>St1&#45;&gt;St0</title>\n",
       "<path fill=\"none\" stroke=\"#000000\" d=\"M321.6081,-26.748C332.5805,-26.748 346.001,-26.748 358.3646,-26.748\"/>\n",
       "<polygon fill=\"#000000\" stroke=\"#000000\" points=\"358.4245,-30.2481 368.4245,-26.748 358.4244,-23.2481 358.4245,-30.2481\"/>\n",
       "<text text-anchor=\"middle\" x=\"344.9879\" y=\"-30.548\" font-family=\"Times,serif\" font-size=\"14.00\" fill=\"#000000\">1 </text>\n",
       "</g>\n",
       "<!-- St0&#45;&gt;St0 -->\n",
       "<g id=\"edge8\" class=\"edge\">\n",
       "<title>St0&#45;&gt;St0</title>\n",
       "<path fill=\"none\" stroke=\"#000000\" d=\"M390.5587,-53.3928C390.4053,-63.3224 391.9644,-71.496 395.2359,-71.496 397.2805,-71.496 398.6563,-68.3032 399.3632,-63.4843\"/>\n",
       "<polygon fill=\"#000000\" stroke=\"#000000\" points=\"402.8637,-63.5684 399.9131,-53.3928 395.8741,-63.1875 402.8637,-63.5684\"/>\n",
       "<text text-anchor=\"middle\" x=\"395.2359\" y=\"-75.296\" font-family=\"Times,serif\" font-size=\"14.00\" fill=\"#000000\">1 </text>\n",
       "</g>\n",
       "<!-- St0&#45;&gt;St0 -->\n",
       "<g id=\"edge9\" class=\"edge\">\n",
       "<title>St0&#45;&gt;St0</title>\n",
       "<path fill=\"none\" stroke=\"#000000\" d=\"M386.9189,-52.203C384.1139,-70.8313 386.8863,-89.496 395.2359,-89.496 402.0199,-89.496 405.1221,-77.1744 404.5424,-62.562\"/>\n",
       "<polygon fill=\"#000000\" stroke=\"#000000\" points=\"407.988,-61.8249 403.5529,-52.203 401.0197,-62.4906 407.988,-61.8249\"/>\n",
       "<text text-anchor=\"middle\" x=\"395.2359\" y=\"-93.296\" font-family=\"Times,serif\" font-size=\"14.00\" fill=\"#000000\">0 </text>\n",
       "</g>\n",
       "</g>\n",
       "</svg>\n"
      ],
      "text/plain": [
       "<graphviz.dot.Digraph at 0x10e125e80>"
      ]
     },
     "execution_count": 16,
     "metadata": {},
     "output_type": "execute_result"
    }
   ],
   "source": [
    "dotObj_dfa(d1)"
   ]
  },
  {
   "cell_type": "code",
   "execution_count": 17,
   "metadata": {},
   "outputs": [
    {
     "data": {
      "image/svg+xml": [
       "<?xml version=\"1.0\" encoding=\"UTF-8\" standalone=\"no\"?>\n",
       "<!DOCTYPE svg PUBLIC \"-//W3C//DTD SVG 1.1//EN\"\n",
       " \"http://www.w3.org/Graphics/SVG/1.1/DTD/svg11.dtd\">\n",
       "<!-- Generated by graphviz version 2.40.1 (20161225.0304)\n",
       " -->\n",
       "<!-- Title: %3 Pages: 1 -->\n",
       "<svg width=\"353pt\" height=\"94pt\"\n",
       " viewBox=\"0.00 0.00 353.49 94.50\" xmlns=\"http://www.w3.org/2000/svg\" xmlns:xlink=\"http://www.w3.org/1999/xlink\">\n",
       "<g id=\"graph0\" class=\"graph\" transform=\"scale(1 1) rotate(0) translate(4 90.496)\">\n",
       "<title>%3</title>\n",
       "<polygon fill=\"#ffffff\" stroke=\"transparent\" points=\"-4,4 -4,-90.496 349.4879,-90.496 349.4879,4 -4,4\"/>\n",
       "<!-- EMPTY -->\n",
       "<g id=\"node1\" class=\"node\">\n",
       "<title>EMPTY</title>\n",
       "</g>\n",
       "<!-- St1 -->\n",
       "<g id=\"node4\" class=\"node\">\n",
       "<title>St1</title>\n",
       "<ellipse fill=\"none\" stroke=\"#000000\" cx=\"117.748\" cy=\"-26.748\" rx=\"22.9609\" ry=\"22.9609\"/>\n",
       "<ellipse fill=\"none\" stroke=\"#000000\" cx=\"117.748\" cy=\"-26.748\" rx=\"26.9983\" ry=\"26.9983\"/>\n",
       "<text text-anchor=\"middle\" x=\"117.748\" y=\"-23.048\" font-family=\"Times,serif\" font-size=\"14.00\" fill=\"#000000\">St1</text>\n",
       "</g>\n",
       "<!-- EMPTY&#45;&gt;St1 -->\n",
       "<g id=\"edge1\" class=\"edge\">\n",
       "<title>EMPTY&#45;&gt;St1</title>\n",
       "<path fill=\"none\" stroke=\"#000000\" d=\"M54.2274,-26.748C62.5578,-26.748 71.8652,-26.748 80.7317,-26.748\"/>\n",
       "<polygon fill=\"#000000\" stroke=\"#000000\" points=\"80.8526,-30.2481 90.8525,-26.748 80.8525,-23.2481 80.8526,-30.2481\"/>\n",
       "</g>\n",
       "<!-- St3 -->\n",
       "<g id=\"node2\" class=\"node\">\n",
       "<title>St3</title>\n",
       "<ellipse fill=\"none\" stroke=\"#000000\" cx=\"318.7399\" cy=\"-26.748\" rx=\"22.9609\" ry=\"22.9609\"/>\n",
       "<ellipse fill=\"none\" stroke=\"#000000\" cx=\"318.7399\" cy=\"-26.748\" rx=\"26.9983\" ry=\"26.9983\"/>\n",
       "<text text-anchor=\"middle\" x=\"318.7399\" y=\"-23.048\" font-family=\"Times,serif\" font-size=\"14.00\" fill=\"#000000\">St3</text>\n",
       "</g>\n",
       "<!-- St3&#45;&gt;St3 -->\n",
       "<g id=\"edge6\" class=\"edge\">\n",
       "<title>St3&#45;&gt;St3</title>\n",
       "<path fill=\"none\" stroke=\"#000000\" d=\"M309.4473,-52.049C308.8064,-62.574 311.904,-71.496 318.7399,-71.496 323.226,-71.496 326.1021,-67.6536 327.3682,-62.0374\"/>\n",
       "<polygon fill=\"#000000\" stroke=\"#000000\" points=\"330.8611,-62.2592 328.0325,-52.049 323.8765,-61.7946 330.8611,-62.2592\"/>\n",
       "<text text-anchor=\"middle\" x=\"318.7399\" y=\"-75.296\" font-family=\"Times,serif\" font-size=\"14.00\" fill=\"#000000\">0 </text>\n",
       "</g>\n",
       "<!-- St2 -->\n",
       "<g id=\"node3\" class=\"node\">\n",
       "<title>St2</title>\n",
       "<ellipse fill=\"none\" stroke=\"#000000\" cx=\"218.2439\" cy=\"-26.748\" rx=\"22.9609\" ry=\"22.9609\"/>\n",
       "<ellipse fill=\"none\" stroke=\"#000000\" cx=\"218.2439\" cy=\"-26.748\" rx=\"26.9983\" ry=\"26.9983\"/>\n",
       "<text text-anchor=\"middle\" x=\"218.2439\" y=\"-23.048\" font-family=\"Times,serif\" font-size=\"14.00\" fill=\"#000000\">St2</text>\n",
       "</g>\n",
       "<!-- St2&#45;&gt;St3 -->\n",
       "<g id=\"edge5\" class=\"edge\">\n",
       "<title>St2&#45;&gt;St3</title>\n",
       "<path fill=\"none\" stroke=\"#000000\" d=\"M245.175,-26.748C256.3272,-26.748 269.4482,-26.748 281.4978,-26.748\"/>\n",
       "<polygon fill=\"#000000\" stroke=\"#000000\" points=\"281.7345,-30.2481 291.7345,-26.748 281.7345,-23.2481 281.7345,-30.2481\"/>\n",
       "<text text-anchor=\"middle\" x=\"268.4919\" y=\"-30.548\" font-family=\"Times,serif\" font-size=\"14.00\" fill=\"#000000\">0 </text>\n",
       "</g>\n",
       "<!-- St2&#45;&gt;St1 -->\n",
       "<g id=\"edge4\" class=\"edge\">\n",
       "<title>St2&#45;&gt;St1</title>\n",
       "<path fill=\"none\" stroke=\"#000000\" d=\"M195.0126,-12.9497C185.1452,-8.6399 173.4175,-5.5254 162.496,-7.748 158.8052,-8.4991 155.0415,-9.5656 151.3424,-10.8149\"/>\n",
       "<polygon fill=\"#000000\" stroke=\"#000000\" points=\"149.8913,-7.6223 141.7959,-14.4571 152.3866,-14.1625 149.8913,-7.6223\"/>\n",
       "<text text-anchor=\"middle\" x=\"167.996\" y=\"-11.548\" font-family=\"Times,serif\" font-size=\"14.00\" fill=\"#000000\">1 </text>\n",
       "</g>\n",
       "<!-- St1&#45;&gt;St2 -->\n",
       "<g id=\"edge3\" class=\"edge\">\n",
       "<title>St1&#45;&gt;St2</title>\n",
       "<path fill=\"none\" stroke=\"#000000\" d=\"M144.6791,-26.748C155.8312,-26.748 168.9523,-26.748 181.0018,-26.748\"/>\n",
       "<polygon fill=\"#000000\" stroke=\"#000000\" points=\"181.2386,-30.2481 191.2385,-26.748 181.2385,-23.2481 181.2386,-30.2481\"/>\n",
       "<text text-anchor=\"middle\" x=\"167.996\" y=\"-30.548\" font-family=\"Times,serif\" font-size=\"14.00\" fill=\"#000000\">0 </text>\n",
       "</g>\n",
       "<!-- St1&#45;&gt;St1 -->\n",
       "<g id=\"edge2\" class=\"edge\">\n",
       "<title>St1&#45;&gt;St1</title>\n",
       "<path fill=\"none\" stroke=\"#000000\" d=\"M109.5483,-52.499C109.0851,-62.8271 111.8183,-71.496 117.748,-71.496 121.5467,-71.496 124.0336,-67.9383 125.2086,-62.6658\"/>\n",
       "<polygon fill=\"#000000\" stroke=\"#000000\" points=\"128.7133,-62.7265 125.9476,-52.499 121.7318,-62.2189 128.7133,-62.7265\"/>\n",
       "<text text-anchor=\"middle\" x=\"117.748\" y=\"-75.296\" font-family=\"Times,serif\" font-size=\"14.00\" fill=\"#000000\">1 </text>\n",
       "</g>\n",
       "</g>\n",
       "</svg>\n"
      ],
      "text/plain": [
       "<graphviz.dot.Digraph at 0x10e1430f0>"
      ]
     },
     "execution_count": 17,
     "metadata": {},
     "output_type": "execute_result"
    }
   ],
   "source": [
    "dotObj_dfa(d2)"
   ]
  },
  {
   "cell_type": "code",
   "execution_count": null,
   "metadata": {},
   "outputs": [],
   "source": []
  }
 ],
 "metadata": {
  "kernelspec": {
   "display_name": "Python 3",
   "language": "python",
   "name": "python3"
  },
  "language_info": {
   "codemirror_mode": {
    "name": "ipython",
    "version": 3
   },
   "file_extension": ".py",
   "mimetype": "text/x-python",
   "name": "python",
   "nbconvert_exporter": "python",
   "pygments_lexer": "ipython3",
   "version": "3.7.3"
  },
  "toc": {
   "colors": {
    "hover_highlight": "#DAA520",
    "running_highlight": "#FF0000",
    "selected_highlight": "#FFD700"
   },
   "moveMenuLeft": true,
   "nav_menu": {
    "height": "318px",
    "width": "252px"
   },
   "navigate_menu": true,
   "number_sections": true,
   "sideBar": true,
   "threshold": 4,
   "toc_cell": false,
   "toc_section_display": "block",
   "toc_window_display": false,
   "widenNotebook": false
  }
 },
 "nbformat": 4,
 "nbformat_minor": 1
}
