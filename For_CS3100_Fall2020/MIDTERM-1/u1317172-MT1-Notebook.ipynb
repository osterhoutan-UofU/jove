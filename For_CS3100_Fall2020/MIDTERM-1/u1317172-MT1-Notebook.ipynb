{
 "cells": [
  {
   "cell_type": "markdown",
   "metadata": {},
   "source": [
    "# This exam consists of these notebook questions that add up to the notebook's points.\n",
    "\n",
    "# You must fill the GRADING CELLs below to be graded !!!\n",
    "\n",
    "-----------------\n",
    "## 1. A DFA design problem - 25% of the 75% alloted for notebooks.\n",
    "\n",
    "## 2. An NFA design problem - 20% of 75%\n",
    "\n",
    "## 3. Check that the DFA and NFA are language-equivalent - 5% of 75%\n",
    "\n",
    "## 4. The remaining 50% of the 75% is for the following:\n",
    "\n",
    "Three Mystery NFAs N1, N2, and N3 are given to you.\n",
    "\n",
    "\n",
    "## You must apply operations on N1, N2, N3 and discover the properties requested below.\n",
    "\n",
    "\n",
    "You are to find whether the languages of N1, N2 and N3 are totally ordered in some fashion with respect to language containment.\n",
    "\n",
    "That is, you are to find out the values of $x,y,z \\in \\{1,2,3\\}$ such that $x \\neq y \\neq z$, is it the case that\n",
    "$L(Nx) \\subseteq L(Ny) \\subseteq L(Nz)$ ?\n",
    "\n",
    "That is, what total ordering of N1, N2, and N3 substituted in the above, satisfies the equation? It need not be ordered 1 before 2 before 3. It is your task to find the right one.\n",
    "\n",
    "The Jove functions you are allowed to use are listed near the problem spec. below.\n",
    "\n",
    "#### 4.1 25% for pinning down the $L(Nx) \\subseteq L(Ny)$ order, showing all your work, and further,  if $L(Nx) \\subseteq L(Ny)$, you must emit a minimal DFA for $L(Ny) - L(Nx)$\n",
    "\n",
    "#### 4.2 25% for determining $L(Ny) \\subseteq L(Nz)$, showing all your work, and further, if $L(Ny) \\subseteq L(Nz)$, you must emit a minimal DFA for $L(Nz) - L(Ny)$\n",
    "\n",
    "### Note that just \"eyeballing\" the machines and writing their languages in English will only give you some small percentage of the points. You must apply commands to conclusively show that one NFA's language is contained in the other's via commands that truly reveal the fact. The emission of the minimal DFA is thus a required step in your arguments to earn full credits.\n",
    "\n",
    "# Useful facts\n",
    "\n",
    "* Remember from set theory that $A\\subseteq B$ if $A$ does not intersect the complement of $B$.\n",
    "\n",
    "* Remember that it is possible that $A \\subseteq B$ and $A\\subseteq C$ is possible without $B$ and $C$ having no particular ordering. \n",
    "\n",
    "* Please draw a Venn diagram to be sure of these facts and then be sure how many orderings to check!\n",
    "\n",
    "# Your answer for this question is:\n",
    "\n",
    "* Enough orderings checked\n",
    "\n",
    "* The desired conclusion clearly presented in a cell!\n",
    "\n",
    "\n",
    "--- \n",
    "\n",
    "## You must FULLY EXECUTE THIS STARTER NOTEBOOK with your solutions inserted, and submit it at the submission portal as a single IPYNB file."
   ]
  },
  {
   "cell_type": "code",
   "execution_count": 1,
   "metadata": {
    "run_control": {
     "frozen": false,
     "read_only": false
    },
    "scrolled": true,
    "tags": []
   },
   "outputs": [
    {
     "output_type": "stream",
     "name": "stdout",
     "text": "You may use any of these help commands:\nhelp(ResetStNum)\nhelp(NxtStateStr)\n\nYou may use any of these help commands:\nhelp(md2mc)\n.. and if you want to dig more, then ..\nhelp(default_line_attr)\nhelp(length_ok_input_items)\nhelp(union_line_attr_list_fld)\nhelp(extend_rsltdict)\nhelp(form_delta)\nhelp(get_machine_components)\n\nYou may use any of these help commands:\nhelp(mkp_dfa)\nhelp(mk_dfa)\nhelp(totalize_dfa)\nhelp(addtosigma_delta)\nhelp(step_dfa)\nhelp(run_dfa)\nhelp(accepts_dfa)\nhelp(comp_dfa)\nhelp(union_dfa)\nhelp(intersect_dfa)\nhelp(pruneUnreach)\nhelp(iso_dfa)\nhelp(langeq_dfa)\nhelp(same_status)\nhelp(h_langeq_dfa)\nhelp(fixptDist)\nhelp(min_dfa)\nhelp(pairFR)\nhelp(state_combos)\nhelp(sepFinNonFin)\nhelp(bash_eql_classes)\nhelp(listminus)\nhelp(bash_1)\nhelp(mk_rep_eqc)\nhelp(F_of)\nhelp(rep_of_s)\nhelp(q0_of)\nhelp(Delta_of)\nhelp(mk_state_eqc_name)\n\nYou may use any of these help commands:\nhelp(mk_nfa)\nhelp(totalize_nfa)\nhelp(step_nfa)\nhelp(run_nfa)\nhelp(ec_step_nfa)\nhelp(Eclosure)\nhelp(Echelp)\nhelp(accepts_nfa)\nhelp(nfa2dfa)\nhelp(n2d)\nhelp(inSets)\nhelp(rev_dfa)\nhelp(min_dfa_brz)\n\nYou may use any of these help commands:\nhelp(lphi)\nhelp(lunit)\nhelp(lcat)\nhelp(lexp)\nhelp(lunion)\nhelp(lstar)\nhelp(srev)\nhelp(lrev)\nhelp(shomo)\nhelp(lhomo)\nhelp(powset)\nhelp(lint)\nhelp(lsymdiff)\nhelp(lminus)\nhelp(lissubset)\nhelp(lissuperset)\nhelp(lcomplem)\nhelp(product)\nhelp(nthnumeric)\n\nYou may use any of these help commands:\nhelp(re2nfa)\n\n"
    }
   ],
   "source": [
    "#~~~~~~~~~~~~~~~~~~~~~~~~~~~~~~~~~~~~~~~~~~~~~~~~~~~~~~~\n",
    "import sys\n",
    "\n",
    "# -- Detect if in Own Install or in Colab\n",
    "try:\n",
    "    import google.colab\n",
    "    OWN_INSTALL = False\n",
    "except:\n",
    "    OWN_INSTALL = True\n",
    "    \n",
    "if OWN_INSTALL:\n",
    "    \n",
    "  #---- Leave these definitions ON if running on laptop\n",
    "  #---- Else turn OFF by putting them between ''' ... '''\n",
    "\n",
    "  sys.path[0:0] = ['../../../../..',  '../../../../../3rdparty',  \n",
    "                   '../../../..',  '../../../../3rdparty',  \n",
    "                   '../../..',     '../../../3rdparty', \n",
    "                   '../..',        '../../3rdparty',\n",
    "                   '..',           '../3rdparty' ]\n",
    "\n",
    "else: # In colab\n",
    "  ! if [ ! -d Jove ]; then git clone https://github.com/ganeshutah/Jove Jove; fi\n",
    "  sys.path.append('./Jove')\n",
    "  sys.path.append('./Jove/jove')\n",
    "\n",
    "# -- common imports --\n",
    "from jove.DotBashers import *\n",
    "from jove.Def_md2mc  import *\n",
    "from jove.Def_DFA    import *\n",
    "from jove.Def_NFA    import *\n",
    "from jove.LangDef    import *  # for testing DFA actions\n",
    "from jove.Def_RE2NFA import *\n",
    "#~~~~~~~~~~~~~~~~~~~~~~~~~~~~~~~~~~~~~~~~~~~~~~~~~~~~~~~"
   ]
  },
  {
   "cell_type": "markdown",
   "metadata": {},
   "source": [
    "#  1. Design a DFA for the set of strings over alphabet $\\{a,b\\}$ where the strings end in baa"
   ]
  },
  {
   "cell_type": "markdown",
   "metadata": {},
   "source": [
    "### SOLUTION"
   ]
  },
  {
   "cell_type": "code",
   "execution_count": 2,
   "metadata": {
    "tags": []
   },
   "outputs": [],
   "source": [
    "# A DFA for strings over a's and b's where it ends in baa\n",
    "\n",
    "Dbaa = md2mc('''\n",
    "DFA\n",
    "\n",
    "I   : a -> I\n",
    "I   : b -> S0\n",
    "\n",
    "S0  : a -> S1\n",
    "S0  : b -> S0\n",
    "\n",
    "S1  : a -> F\n",
    "S1  : b -> S0\n",
    "\n",
    "F   : a -> I\n",
    "F   : b -> S0\n",
    "\n",
    "''')"
   ]
  },
  {
   "cell_type": "code",
   "execution_count": 3,
   "metadata": {},
   "outputs": [
    {
     "output_type": "execute_result",
     "data": {
      "text/plain": "<graphviz.dot.Digraph at 0x26b556d0760>",
      "image/svg+xml": "<?xml version=\"1.0\" encoding=\"UTF-8\" standalone=\"no\"?>\r\n<!DOCTYPE svg PUBLIC \"-//W3C//DTD SVG 1.1//EN\"\r\n \"http://www.w3.org/Graphics/SVG/1.1/DTD/svg11.dtd\">\r\n<!-- Generated by graphviz version 2.38.0 (20140413.2041)\r\n -->\r\n<!-- Title: %3 Pages: 1 -->\r\n<svg width=\"404pt\" height=\"123pt\"\r\n viewBox=\"0.00 0.00 404.19 122.80\" xmlns=\"http://www.w3.org/2000/svg\" xmlns:xlink=\"http://www.w3.org/1999/xlink\">\r\n<g id=\"graph0\" class=\"graph\" transform=\"scale(1 1) rotate(0) translate(4 118.798)\">\r\n<title>%3</title>\r\n<polygon fill=\"white\" stroke=\"none\" points=\"-4,4 -4,-118.798 400.193,-118.798 400.193,4 -4,4\"/>\r\n<!-- EMPTY -->\r\n<g id=\"node1\" class=\"node\"><title>EMPTY</title>\r\n</g>\r\n<!-- I -->\r\n<g id=\"node3\" class=\"node\"><title>I</title>\r\n<ellipse fill=\"none\" stroke=\"black\" cx=\"109\" cy=\"-18\" rx=\"18\" ry=\"18\"/>\r\n<text text-anchor=\"middle\" x=\"109\" y=\"-14.3\" font-family=\"Times New Roman,serif\" font-size=\"14.00\">I</text>\r\n</g>\r\n<!-- EMPTY&#45;&gt;I -->\r\n<g id=\"edge1\" class=\"edge\"><title>EMPTY&#45;&gt;I</title>\r\n<path fill=\"none\" stroke=\"black\" d=\"M54.195,-18C62.6538,-18 72.0513,-18 80.5951,-18\"/>\r\n<polygon fill=\"black\" stroke=\"black\" points=\"80.8257,-21.5001 90.8257,-18 80.8257,-14.5001 80.8257,-21.5001\"/>\r\n</g>\r\n<!-- S0 -->\r\n<g id=\"node2\" class=\"node\"><title>S0</title>\r\n<ellipse fill=\"none\" stroke=\"black\" cx=\"195.798\" cy=\"-58\" rx=\"20.5982\" ry=\"20.5982\"/>\r\n<text text-anchor=\"middle\" x=\"195.798\" y=\"-54.3\" font-family=\"Times New Roman,serif\" font-size=\"14.00\">S0</text>\r\n</g>\r\n<!-- S0&#45;&gt;S0 -->\r\n<g id=\"edge5\" class=\"edge\"><title>S0&#45;&gt;S0</title>\r\n<path fill=\"none\" stroke=\"black\" d=\"M187.838,-77.5637C186.614,-87.6796 189.267,-96.7982 195.798,-96.7982 199.982,-96.7982 202.575,-93.0559 203.576,-87.7065\"/>\r\n<polygon fill=\"black\" stroke=\"black\" points=\"207.078,-87.6249 203.758,-77.5637 200.079,-87.4991 207.078,-87.6249\"/>\r\n<text text-anchor=\"middle\" x=\"195.798\" y=\"-100.598\" font-family=\"Times New Roman,serif\" font-size=\"14.00\">b </text>\r\n</g>\r\n<!-- S1 -->\r\n<g id=\"node4\" class=\"node\"><title>S1</title>\r\n<ellipse fill=\"none\" stroke=\"black\" cx=\"285.394\" cy=\"-94\" rx=\"20.5982\" ry=\"20.5982\"/>\r\n<text text-anchor=\"middle\" x=\"285.394\" y=\"-90.3\" font-family=\"Times New Roman,serif\" font-size=\"14.00\">S1</text>\r\n</g>\r\n<!-- S0&#45;&gt;S1 -->\r\n<g id=\"edge4\" class=\"edge\"><title>S0&#45;&gt;S1</title>\r\n<path fill=\"none\" stroke=\"black\" d=\"M210.889,-72.9317C217.485,-78.9664 225.817,-85.3555 234.596,-89 240.705,-91.5361 247.585,-93.006 254.236,-93.8196\"/>\r\n<polygon fill=\"black\" stroke=\"black\" points=\"254.112,-97.3206 264.356,-94.6168 254.662,-90.3422 254.112,-97.3206\"/>\r\n<text text-anchor=\"middle\" x=\"240.596\" y=\"-96.8\" font-family=\"Times New Roman,serif\" font-size=\"14.00\">a </text>\r\n</g>\r\n<!-- I&#45;&gt;S0 -->\r\n<g id=\"edge3\" class=\"edge\"><title>I&#45;&gt;S0</title>\r\n<path fill=\"none\" stroke=\"black\" d=\"M125.553,-25.3366C137.286,-30.8708 153.677,-38.6026 167.566,-45.1545\"/>\r\n<polygon fill=\"black\" stroke=\"black\" points=\"166.157,-48.3596 176.695,-49.4604 169.144,-42.0286 166.157,-48.3596\"/>\r\n<text text-anchor=\"middle\" x=\"151\" y=\"-43.8\" font-family=\"Times New Roman,serif\" font-size=\"14.00\">b </text>\r\n</g>\r\n<!-- I&#45;&gt;I -->\r\n<g id=\"edge2\" class=\"edge\"><title>I&#45;&gt;I</title>\r\n<path fill=\"none\" stroke=\"black\" d=\"M102.621,-35.0373C101.319,-44.8579 103.445,-54 109,-54 112.472,-54 114.604,-50.4289 115.398,-45.3529\"/>\r\n<polygon fill=\"black\" stroke=\"black\" points=\"118.897,-45.031 115.379,-35.0373 111.897,-45.0435 118.897,-45.031\"/>\r\n<text text-anchor=\"middle\" x=\"109\" y=\"-57.8\" font-family=\"Times New Roman,serif\" font-size=\"14.00\">a </text>\r\n</g>\r\n<!-- S1&#45;&gt;S0 -->\r\n<g id=\"edge7\" class=\"edge\"><title>S1&#45;&gt;S0</title>\r\n<path fill=\"none\" stroke=\"black\" d=\"M268.114,-82.0027C261.673,-77.709 254.039,-73.1563 246.596,-70 240.364,-67.3569 233.435,-65.2246 226.774,-63.5331\"/>\r\n<polygon fill=\"black\" stroke=\"black\" points=\"227.195,-60.0394 216.667,-61.2277 225.639,-66.8641 227.195,-60.0394\"/>\r\n<text text-anchor=\"middle\" x=\"240.596\" y=\"-73.8\" font-family=\"Times New Roman,serif\" font-size=\"14.00\">b </text>\r\n</g>\r\n<!-- F -->\r\n<g id=\"node5\" class=\"node\"><title>F</title>\r\n<ellipse fill=\"none\" stroke=\"black\" cx=\"374.193\" cy=\"-40\" rx=\"18\" ry=\"18\"/>\r\n<ellipse fill=\"none\" stroke=\"black\" cx=\"374.193\" cy=\"-40\" rx=\"22\" ry=\"22\"/>\r\n<text text-anchor=\"middle\" x=\"374.193\" y=\"-36.3\" font-family=\"Times New Roman,serif\" font-size=\"14.00\">F</text>\r\n</g>\r\n<!-- S1&#45;&gt;F -->\r\n<g id=\"edge6\" class=\"edge\"><title>S1&#45;&gt;F</title>\r\n<path fill=\"none\" stroke=\"black\" d=\"M303.543,-83.3313C315.782,-75.7168 332.484,-65.3263 346.464,-56.6289\"/>\r\n<polygon fill=\"black\" stroke=\"black\" points=\"348.541,-59.4585 355.183,-51.2042 344.843,-53.5149 348.541,-59.4585\"/>\r\n<text text-anchor=\"middle\" x=\"329.193\" y=\"-74.8\" font-family=\"Times New Roman,serif\" font-size=\"14.00\">a </text>\r\n</g>\r\n<!-- F&#45;&gt;S0 -->\r\n<g id=\"edge9\" class=\"edge\"><title>F&#45;&gt;S0</title>\r\n<path fill=\"none\" stroke=\"black\" d=\"M351.938,-41.4503C330.024,-43.0187 294.879,-45.7372 264.596,-49 252.214,-50.3342 238.596,-52.086 226.835,-53.6892\"/>\r\n<polygon fill=\"black\" stroke=\"black\" points=\"226.067,-50.262 216.644,-55.1035 227.03,-57.1955 226.067,-50.262\"/>\r\n<text text-anchor=\"middle\" x=\"285.394\" y=\"-52.8\" font-family=\"Times New Roman,serif\" font-size=\"14.00\">b </text>\r\n</g>\r\n<!-- F&#45;&gt;I -->\r\n<g id=\"edge8\" class=\"edge\"><title>F&#45;&gt;I</title>\r\n<path fill=\"none\" stroke=\"black\" d=\"M351.905,-38.2206C304.503,-34.2583 190.286,-24.711 137.544,-20.3024\"/>\r\n<polygon fill=\"black\" stroke=\"black\" points=\"137.526,-16.7887 127.269,-19.4435 136.942,-23.7644 137.526,-16.7887\"/>\r\n<text text-anchor=\"middle\" x=\"240.596\" y=\"-33.8\" font-family=\"Times New Roman,serif\" font-size=\"14.00\">a </text>\r\n</g>\r\n</g>\r\n</svg>\r\n"
     },
     "metadata": {},
     "execution_count": 3
    }
   ],
   "source": [
    "dotObj_dfa(Dbaa)"
   ]
  },
  {
   "cell_type": "markdown",
   "metadata": {},
   "source": [
    "# 2.  Design an NFA for the \"ends in baa\""
   ]
  },
  {
   "cell_type": "markdown",
   "metadata": {},
   "source": [
    "### SOLUTION"
   ]
  },
  {
   "cell_type": "code",
   "execution_count": 4,
   "metadata": {},
   "outputs": [],
   "source": [
    "Nbaa = md2mc('''\n",
    "NFA \n",
    "\n",
    "I   : a|b   -> I\n",
    "I   : b     -> S0\n",
    "\n",
    "S0  : a     -> S1\n",
    "\n",
    "S1  : a     -> F\n",
    "\n",
    "''')"
   ]
  },
  {
   "cell_type": "code",
   "execution_count": 5,
   "metadata": {},
   "outputs": [
    {
     "output_type": "execute_result",
     "data": {
      "text/plain": "<graphviz.dot.Digraph at 0x26b557250d0>",
      "image/svg+xml": "<?xml version=\"1.0\" encoding=\"UTF-8\" standalone=\"no\"?>\r\n<!DOCTYPE svg PUBLIC \"-//W3C//DTD SVG 1.1//EN\"\r\n \"http://www.w3.org/Graphics/SVG/1.1/DTD/svg11.dtd\">\r\n<!-- Generated by graphviz version 2.38.0 (20140413.2041)\r\n -->\r\n<!-- Title: %3 Pages: 1 -->\r\n<svg width=\"402pt\" height=\"114pt\"\r\n viewBox=\"0.00 0.00 402.19 114.00\" xmlns=\"http://www.w3.org/2000/svg\" xmlns:xlink=\"http://www.w3.org/1999/xlink\">\r\n<g id=\"graph0\" class=\"graph\" transform=\"scale(1 1) rotate(0) translate(4 110)\">\r\n<title>%3</title>\r\n<polygon fill=\"white\" stroke=\"none\" points=\"-4,4 -4,-110 398.193,-110 398.193,4 -4,4\"/>\r\n<!-- EMPTY -->\r\n<g id=\"node1\" class=\"node\"><title>EMPTY</title>\r\n</g>\r\n<!-- I -->\r\n<g id=\"node3\" class=\"node\"><title>I</title>\r\n<ellipse fill=\"none\" stroke=\"black\" cx=\"109\" cy=\"-22\" rx=\"18\" ry=\"18\"/>\r\n<text text-anchor=\"middle\" x=\"109\" y=\"-18.3\" font-family=\"Times New Roman,serif\" font-size=\"14.00\">I</text>\r\n</g>\r\n<!-- EMPTY&#45;&gt;I -->\r\n<g id=\"edge1\" class=\"edge\"><title>EMPTY&#45;&gt;I</title>\r\n<path fill=\"none\" stroke=\"black\" d=\"M54.195,-22C62.6538,-22 72.0513,-22 80.5951,-22\"/>\r\n<polygon fill=\"black\" stroke=\"black\" points=\"80.8257,-25.5001 90.8257,-22 80.8257,-18.5001 80.8257,-25.5001\"/>\r\n</g>\r\n<!-- S0 -->\r\n<g id=\"node2\" class=\"node\"><title>S0</title>\r\n<ellipse fill=\"none\" stroke=\"black\" cx=\"195.798\" cy=\"-22\" rx=\"20.5982\" ry=\"20.5982\"/>\r\n<text text-anchor=\"middle\" x=\"195.798\" y=\"-18.3\" font-family=\"Times New Roman,serif\" font-size=\"14.00\">S0</text>\r\n</g>\r\n<!-- S1 -->\r\n<g id=\"node4\" class=\"node\"><title>S1</title>\r\n<ellipse fill=\"none\" stroke=\"black\" cx=\"283.394\" cy=\"-22\" rx=\"20.5982\" ry=\"20.5982\"/>\r\n<text text-anchor=\"middle\" x=\"283.394\" y=\"-18.3\" font-family=\"Times New Roman,serif\" font-size=\"14.00\">S1</text>\r\n</g>\r\n<!-- S0&#45;&gt;S1 -->\r\n<g id=\"edge5\" class=\"edge\"><title>S0&#45;&gt;S1</title>\r\n<path fill=\"none\" stroke=\"black\" d=\"M216.651,-22C227.162,-22 240.296,-22 252.055,-22\"/>\r\n<polygon fill=\"black\" stroke=\"black\" points=\"252.353,-25.5001 262.353,-22 252.353,-18.5001 252.353,-25.5001\"/>\r\n<text text-anchor=\"middle\" x=\"239.596\" y=\"-25.8\" font-family=\"Times New Roman,serif\" font-size=\"14.00\">a </text>\r\n</g>\r\n<!-- I&#45;&gt;S0 -->\r\n<g id=\"edge3\" class=\"edge\"><title>I&#45;&gt;S0</title>\r\n<path fill=\"none\" stroke=\"black\" d=\"M127.16,-22C137.973,-22 152.23,-22 164.866,-22\"/>\r\n<polygon fill=\"black\" stroke=\"black\" points=\"164.987,-25.5001 174.987,-22 164.987,-18.5001 164.987,-25.5001\"/>\r\n<text text-anchor=\"middle\" x=\"151\" y=\"-25.8\" font-family=\"Times New Roman,serif\" font-size=\"14.00\">b </text>\r\n</g>\r\n<!-- I&#45;&gt;I -->\r\n<g id=\"edge2\" class=\"edge\"><title>I&#45;&gt;I</title>\r\n<path fill=\"none\" stroke=\"black\" d=\"M105.764,-39.7817C105.214,-49.3149 106.293,-58 109,-58 110.65,-58 111.694,-54.7749 112.135,-50.0981\"/>\r\n<polygon fill=\"black\" stroke=\"black\" points=\"115.638,-49.8156 112.236,-39.7817 108.638,-49.7469 115.638,-49.8156\"/>\r\n<text text-anchor=\"middle\" x=\"109\" y=\"-61.8\" font-family=\"Times New Roman,serif\" font-size=\"14.00\">a </text>\r\n</g>\r\n<!-- I&#45;&gt;I -->\r\n<g id=\"edge4\" class=\"edge\"><title>I&#45;&gt;I</title>\r\n<path fill=\"none\" stroke=\"black\" d=\"M103.684,-39.4203C100.654,-56.791 102.426,-76 109,-76 114.29,-76 116.471,-63.5617 115.542,-49.652\"/>\r\n<polygon fill=\"black\" stroke=\"black\" points=\"118.981,-48.9328 114.316,-39.4203 112.031,-49.7657 118.981,-48.9328\"/>\r\n<text text-anchor=\"middle\" x=\"109\" y=\"-79.8\" font-family=\"Times New Roman,serif\" font-size=\"14.00\">b </text>\r\n</g>\r\n<!-- F -->\r\n<g id=\"node5\" class=\"node\"><title>F</title>\r\n<ellipse fill=\"none\" stroke=\"black\" cx=\"372.193\" cy=\"-22\" rx=\"18\" ry=\"18\"/>\r\n<ellipse fill=\"none\" stroke=\"black\" cx=\"372.193\" cy=\"-22\" rx=\"22\" ry=\"22\"/>\r\n<text text-anchor=\"middle\" x=\"372.193\" y=\"-18.3\" font-family=\"Times New Roman,serif\" font-size=\"14.00\">F</text>\r\n</g>\r\n<!-- S1&#45;&gt;F -->\r\n<g id=\"edge6\" class=\"edge\"><title>S1&#45;&gt;F</title>\r\n<path fill=\"none\" stroke=\"black\" d=\"M304.526,-22C314.955,-22 327.929,-22 339.653,-22\"/>\r\n<polygon fill=\"black\" stroke=\"black\" points=\"339.959,-25.5001 349.959,-22 339.959,-18.5001 339.959,-25.5001\"/>\r\n<text text-anchor=\"middle\" x=\"327.193\" y=\"-25.8\" font-family=\"Times New Roman,serif\" font-size=\"14.00\">a </text>\r\n</g>\r\n</g>\r\n</svg>\r\n"
     },
     "metadata": {},
     "execution_count": 5
    }
   ],
   "source": [
    "dotObj_nfa(Nbaa)"
   ]
  },
  {
   "cell_type": "markdown",
   "metadata": {},
   "source": [
    "# 3. Show that these designs agree using Jove automation\n",
    "\n",
    "## You are allowed to use only the following functions from Jove (not all may be necessary)\n",
    "\n",
    "* `nfa2dfa`\n",
    "\n",
    "* `rev_dfa`\n",
    "\n",
    "* `iso_dfa`\n",
    "\n",
    "* `dotObj_dfa`\n",
    "\n",
    "* `dotObj_nfa`\n",
    "\n",
    "## Note that using JUST these utilities, you can accomplish a lot of functions to compare DFAs! \n",
    "\n",
    "\n",
    "\n",
    "### So if you want to define simple Python functions of the following kind illustrated in comments below, feel free to introduce such a function, and then use my_utility_function in your code. Of course you have to uncomment the \"#\" in the illustration below. Here, f1, f2, f3 may be the above-listed functions. \n",
    "\n",
    "### These utility functions may not be needed in all the problems! Just one of the given functions may do!"
   ]
  },
  {
   "cell_type": "code",
   "execution_count": 6,
   "metadata": {},
   "outputs": [],
   "source": [
    "# def my_utility_function(X):\n",
    "#     f1(f2(f3(X)))"
   ]
  },
  {
   "cell_type": "markdown",
   "metadata": {},
   "source": [
    "## Add as many code/markdown cells as you need."
   ]
  },
  {
   "cell_type": "markdown",
   "metadata": {},
   "source": [
    "### SOLUTION"
   ]
  },
  {
   "cell_type": "code",
   "execution_count": 7,
   "metadata": {},
   "outputs": [
    {
     "output_type": "execute_result",
     "data": {
      "text/plain": "True"
     },
     "metadata": {},
     "execution_count": 7
    }
   ],
   "source": [
    "iso_dfa(Dbaa, nfa2dfa(Nbaa))"
   ]
  },
  {
   "cell_type": "markdown",
   "metadata": {},
   "source": [
    "# GRADING CELL\n",
    "\n",
    "##  I claim below that my solution is working as specified\n",
    "\n",
    "## This is how!\n",
    "\n",
    "* I turn my NFA into an equivilent DFA with the `nfa2dfa()` function.\n",
    "\n",
    "* I then jeck to make sure that the two DFA's are isometric,\n",
    "    meaning that they have the same number fo states and are language equivilent,\n",
    "    with the `iso_dfa()` function.\n",
    "\n",
    "* The Function returned true meaning that `Dbaa` and `Nbaa` \"agree\" (represent the same languge).\n",
    "    "
   ]
  },
  {
   "cell_type": "markdown",
   "metadata": {},
   "source": [
    "### I'll now write my utility function `my_min_dfa` for use in later questions"
   ]
  },
  {
   "cell_type": "code",
   "execution_count": 8,
   "metadata": {},
   "outputs": [],
   "source": [
    "def my_min_dfa(D):\n",
    "    return nfa2dfa(rev_dfa(nfa2dfa(rev_dfa(D))))"
   ]
  },
  {
   "cell_type": "markdown",
   "metadata": {},
   "source": [
    "# 4. This design was outsourced and the following NFA was supplied\n",
    "\n",
    "## You are to find out the containment order as above described\n",
    "\n",
    "## You can use the following functions + utility functions you can build out of these:\n",
    "\n",
    "* `nfa2dfa`\n",
    "\n",
    "* `rev_dfa`\n",
    "\n",
    "\n",
    " \n",
    "## Additionally, you may also use the following functions\n",
    "\n",
    "* `iso_dfa`\n",
    "\n",
    "* `intersect_dfa`\n",
    "\n",
    "* `comp_dfa`\n",
    "\n",
    "* `dotObj_dfa`\n",
    "\n",
    "* `dotObj_nfa`\n"
   ]
  },
  {
   "cell_type": "markdown",
   "metadata": {},
   "source": [
    "# The NFA given to you are below"
   ]
  },
  {
   "cell_type": "code",
   "execution_count": 9,
   "metadata": {},
   "outputs": [],
   "source": [
    "N1 =  {'Q': {'St1',\n",
    "  'St10',\n",
    "  'St11',\n",
    "  'St12',\n",
    "  'St13',\n",
    "  'St14',\n",
    "  'St15',\n",
    "  'St16',\n",
    "  'St2',\n",
    "  'St3',\n",
    "  'St4',\n",
    "  'St5',\n",
    "  'St6',\n",
    "  'St7',\n",
    "  'St8',\n",
    "  'St9'},\n",
    " 'Sigma': {'a', 'b'},\n",
    " 'Delta': {('St5', ''): {'St1', 'St3', 'St6'},\n",
    "  ('St1', 'a'): {'St2'},\n",
    "  ('St3', 'b'): {'St4'},\n",
    "  ('St4', ''): {'St5'},\n",
    "  ('St2', ''): {'St5'},\n",
    "  ('St6', 'b'): {'St7'},\n",
    "  ('St8', 'a'): {'St9'},\n",
    "  ('St7', ''): {'St8'},\n",
    "  ('St10', 'a'): {'St11'},\n",
    "  ('St9', ''): {'St10'},\n",
    "  ('St16', ''): {'St12', 'St14'},\n",
    "  ('St12', 'a'): {'St13'},\n",
    "  ('St14', 'b'): {'St15'},\n",
    "  ('St13', ''): {'St16'},\n",
    "  ('St15', ''): {'St16'},\n",
    "  ('St11', ''): {'St16'}},\n",
    " 'Q0': {'St5'},\n",
    " 'F': {'St16'}}"
   ]
  },
  {
   "cell_type": "code",
   "execution_count": 10,
   "metadata": {},
   "outputs": [],
   "source": [
    "N2 = {'Q': {'St1',\n",
    "  'St10',\n",
    "  'St11',\n",
    "  'St12',\n",
    "  'St13',\n",
    "  'St14',\n",
    "  'St2',\n",
    "  'St3',\n",
    "  'St4',\n",
    "  'St5',\n",
    "  'St6',\n",
    "  'St7',\n",
    "  'St8',\n",
    "  'St9'},\n",
    " 'Sigma': {'a', 'b'},\n",
    " 'Delta': {('St5', ''): {'St1', 'St3', 'St6'},\n",
    "  ('St1', 'a'): {'St2'},\n",
    "  ('St3', 'b'): {'St4'},\n",
    "  ('St4', ''): {'St5'},\n",
    "  ('St2', ''): {'St5'},\n",
    "  ('St6', 'b'): {'St7'},\n",
    "  ('St8', 'a'): {'St9'},\n",
    "  ('St7', ''): {'St8'},\n",
    "  ('St14', ''): {'St10', 'St12'},\n",
    "  ('St10', 'a'): {'St11'},\n",
    "  ('St12', 'b'): {'St13'},\n",
    "  ('St13', ''): {'St14'},\n",
    "  ('St11', ''): {'St14'},\n",
    "  ('St9', ''): {'St14'}},\n",
    " 'Q0': {'St5'},\n",
    " 'F': {'St14'}}"
   ]
  },
  {
   "cell_type": "code",
   "execution_count": 11,
   "metadata": {},
   "outputs": [],
   "source": [
    "N3 = {'Q': {'St1',\n",
    "  'St10',\n",
    "  'St11',\n",
    "  'St2',\n",
    "  'St3',\n",
    "  'St4',\n",
    "  'St5',\n",
    "  'St6',\n",
    "  'St7',\n",
    "  'St8',\n",
    "  'St9'},\n",
    " 'Sigma': {'a', 'b'},\n",
    " 'Delta': {('St5', ''): {'St1', 'St3', 'St6'},\n",
    "  ('St1', 'a'): {'St2'},\n",
    "  ('St3', 'b'): {'St4'},\n",
    "  ('St4', ''): {'St5'},\n",
    "  ('St2', ''): {'St5'},\n",
    "  ('St6', 'b'): {'St7'},\n",
    "  ('St8', 'a'): {'St9'},\n",
    "  ('St7', ''): {'St8'},\n",
    "  ('St10', 'a'): {'St11'},\n",
    "  ('St9', ''): {'St10'}},\n",
    " 'Q0': {'St5'},\n",
    " 'F': {'St11'}}"
   ]
  },
  {
   "cell_type": "markdown",
   "metadata": {},
   "source": [
    "# Find out the containment order:\n",
    "\n",
    "## $Nx \\subseteq Ny \\subseteq Nz$\n",
    "\n",
    "## for the above NFAs N1, N2, N3"
   ]
  },
  {
   "cell_type": "markdown",
   "metadata": {},
   "source": [
    "# Use as many code/markdown cells below as you wish"
   ]
  },
  {
   "cell_type": "markdown",
   "metadata": {},
   "source": [
    "## Establish as many required orderings below as you need to!\n"
   ]
  },
  {
   "source": [
    "## Define My Utility Method:"
   ],
   "cell_type": "markdown",
   "metadata": {}
  },
  {
   "cell_type": "code",
   "execution_count": 12,
   "metadata": {},
   "outputs": [],
   "source": [
    "def my_diff(nfa1,nfa2):\n",
    "    '''\n",
    "    Given `nfa1` and `nfa2`, return a tuple: `(d1,d2)`\n",
    "\n",
    "    Where `d1` is the min DFA of `nfa1`-`nfa2`\n",
    "    and `d2` is the min DFA of `nfa2`-`nfa`\n",
    "    '''\n",
    "    dfa1_min = my_min_dfa(nfa2dfa(nfa1))\n",
    "    dfa2_min = my_min_dfa(nfa2dfa(nfa2))\n",
    "    \n",
    "    dfa1_min_comp = comp_dfa(dfa1_min)\n",
    "    dfa2_min_comp = comp_dfa(dfa2_min)\n",
    "    \n",
    "    d1 = my_min_dfa(intersect_dfa(dfa1_min, dfa2_min_comp))\n",
    "    d2 = my_min_dfa(intersect_dfa(dfa2_min, dfa1_min_comp))\n",
    "    \n",
    "    return (d1, d2)"
   ]
  },
  {
   "source": [
    "## Visualize the NFA's:"
   ],
   "cell_type": "markdown",
   "metadata": {}
  },
  {
   "cell_type": "code",
   "execution_count": 13,
   "metadata": {},
   "outputs": [
    {
     "output_type": "execute_result",
     "data": {
      "text/plain": "<graphviz.dot.Digraph at 0x26b556e2610>",
      "image/svg+xml": "<?xml version=\"1.0\" encoding=\"UTF-8\" standalone=\"no\"?>\r\n<!DOCTYPE svg PUBLIC \"-//W3C//DTD SVG 1.1//EN\"\r\n \"http://www.w3.org/Graphics/SVG/1.1/DTD/svg11.dtd\">\r\n<!-- Generated by graphviz version 2.38.0 (20140413.2041)\r\n -->\r\n<!-- Title: %3 Pages: 1 -->\r\n<svg width=\"1025pt\" height=\"370pt\"\r\n viewBox=\"0.00 0.00 1025.46 370.05\" xmlns=\"http://www.w3.org/2000/svg\" xmlns:xlink=\"http://www.w3.org/1999/xlink\">\r\n<g id=\"graph0\" class=\"graph\" transform=\"scale(1 1) rotate(0) translate(4 366.046)\">\r\n<title>%3</title>\r\n<polygon fill=\"white\" stroke=\"none\" points=\"-4,4 -4,-366.046 1021.46,-366.046 1021.46,4 -4,4\"/>\r\n<!-- EMPTY -->\r\n<g id=\"node1\" class=\"node\"><title>EMPTY</title>\r\n</g>\r\n<!-- St5 -->\r\n<g id=\"node11\" class=\"node\"><title>St5</title>\r\n<ellipse fill=\"none\" stroke=\"black\" cx=\"113.748\" cy=\"-232.298\" rx=\"22.9987\" ry=\"22.9987\"/>\r\n<text text-anchor=\"middle\" x=\"113.748\" y=\"-228.598\" font-family=\"Times New Roman,serif\" font-size=\"14.00\">St5</text>\r\n</g>\r\n<!-- EMPTY&#45;&gt;St5 -->\r\n<g id=\"edge1\" class=\"edge\"><title>EMPTY&#45;&gt;St5</title>\r\n<path fill=\"none\" stroke=\"black\" d=\"M54.3502,-232.298C62.71,-232.298 72.0455,-232.298 80.757,-232.298\"/>\r\n<polygon fill=\"black\" stroke=\"black\" points=\"80.9663,-235.798 90.9663,-232.298 80.9662,-228.798 80.9663,-235.798\"/>\r\n</g>\r\n<!-- St10 -->\r\n<g id=\"node2\" class=\"node\"><title>St10</title>\r\n<ellipse fill=\"none\" stroke=\"black\" cx=\"577.777\" cy=\"-110.298\" rx=\"27.0966\" ry=\"27.0966\"/>\r\n<text text-anchor=\"middle\" x=\"577.777\" y=\"-106.598\" font-family=\"Times New Roman,serif\" font-size=\"14.00\">St10</text>\r\n</g>\r\n<!-- St11 -->\r\n<g id=\"node10\" class=\"node\"><title>St11</title>\r\n<ellipse fill=\"none\" stroke=\"black\" cx=\"678.373\" cy=\"-110.298\" rx=\"27.0966\" ry=\"27.0966\"/>\r\n<text text-anchor=\"middle\" x=\"678.373\" y=\"-106.598\" font-family=\"Times New Roman,serif\" font-size=\"14.00\">St11</text>\r\n</g>\r\n<!-- St10&#45;&gt;St11 -->\r\n<g id=\"edge12\" class=\"edge\"><title>St10&#45;&gt;St11</title>\r\n<path fill=\"none\" stroke=\"black\" d=\"M605.199,-110.298C616.14,-110.298 629.013,-110.298 640.835,-110.298\"/>\r\n<polygon fill=\"black\" stroke=\"black\" points=\"640.878,-113.798 650.878,-110.298 640.878,-106.798 640.878,-113.798\"/>\r\n<text text-anchor=\"middle\" x=\"628.075\" y=\"-114.098\" font-family=\"Times New Roman,serif\" font-size=\"14.00\">a </text>\r\n</g>\r\n<!-- St12 -->\r\n<g id=\"node3\" class=\"node\"><title>St12</title>\r\n<ellipse fill=\"none\" stroke=\"black\" cx=\"887.563\" cy=\"-70.2976\" rx=\"27.0966\" ry=\"27.0966\"/>\r\n<text text-anchor=\"middle\" x=\"887.563\" y=\"-66.5976\" font-family=\"Times New Roman,serif\" font-size=\"14.00\">St12</text>\r\n</g>\r\n<!-- St13 -->\r\n<g id=\"node16\" class=\"node\"><title>St13</title>\r\n<ellipse fill=\"none\" stroke=\"black\" cx=\"990.158\" cy=\"-27.2976\" rx=\"27.0966\" ry=\"27.0966\"/>\r\n<text text-anchor=\"middle\" x=\"990.158\" y=\"-23.5976\" font-family=\"Times New Roman,serif\" font-size=\"14.00\">St13</text>\r\n</g>\r\n<!-- St12&#45;&gt;St13 -->\r\n<g id=\"edge16\" class=\"edge\"><title>St12&#45;&gt;St13</title>\r\n<path fill=\"none\" stroke=\"black\" d=\"M912.914,-59.8885C925.67,-54.4358 941.492,-47.6726 955.411,-41.7228\"/>\r\n<polygon fill=\"black\" stroke=\"black\" points=\"956.863,-44.9088 964.682,-37.7599 954.111,-38.4721 956.863,-44.9088\"/>\r\n<text text-anchor=\"middle\" x=\"938.86\" y=\"-54.0976\" font-family=\"Times New Roman,serif\" font-size=\"14.00\">a </text>\r\n</g>\r\n<!-- St2 -->\r\n<g id=\"node4\" class=\"node\"><title>St2</title>\r\n<ellipse fill=\"none\" stroke=\"black\" cx=\"298.74\" cy=\"-317.298\" rx=\"22.9987\" ry=\"22.9987\"/>\r\n<text text-anchor=\"middle\" x=\"298.74\" y=\"-313.598\" font-family=\"Times New Roman,serif\" font-size=\"14.00\">St2</text>\r\n</g>\r\n<!-- St2&#45;&gt;St5 -->\r\n<g id=\"edge8\" class=\"edge\"><title>St2&#45;&gt;St5</title>\r\n<path fill=\"none\" stroke=\"black\" d=\"M277.833,-308.051C245.536,-293.049 181.566,-263.335 144.059,-245.913\"/>\r\n<polygon fill=\"black\" stroke=\"black\" points=\"145.223,-242.594 134.68,-241.556 142.275,-248.943 145.223,-242.594\"/>\r\n<text text-anchor=\"middle\" x=\"205.244\" y=\"-288.098\" font-family=\"Times New Roman,serif\" font-size=\"14.00\">&#39;&#39; </text>\r\n</g>\r\n<!-- St8 -->\r\n<g id=\"node5\" class=\"node\"><title>St8</title>\r\n<ellipse fill=\"none\" stroke=\"black\" cx=\"390.236\" cy=\"-110.298\" rx=\"22.9987\" ry=\"22.9987\"/>\r\n<text text-anchor=\"middle\" x=\"390.236\" y=\"-106.598\" font-family=\"Times New Roman,serif\" font-size=\"14.00\">St8</text>\r\n</g>\r\n<!-- St9 -->\r\n<g id=\"node13\" class=\"node\"><title>St9</title>\r\n<ellipse fill=\"none\" stroke=\"black\" cx=\"481.732\" cy=\"-110.298\" rx=\"22.9987\" ry=\"22.9987\"/>\r\n<text text-anchor=\"middle\" x=\"481.732\" y=\"-106.598\" font-family=\"Times New Roman,serif\" font-size=\"14.00\">St9</text>\r\n</g>\r\n<!-- St8&#45;&gt;St9 -->\r\n<g id=\"edge10\" class=\"edge\"><title>St8&#45;&gt;St9</title>\r\n<path fill=\"none\" stroke=\"black\" d=\"M413.358,-110.298C423.979,-110.298 436.908,-110.298 448.589,-110.298\"/>\r\n<polygon fill=\"black\" stroke=\"black\" points=\"448.864,-113.798 458.864,-110.298 448.864,-106.798 448.864,-113.798\"/>\r\n<text text-anchor=\"middle\" x=\"435.984\" y=\"-114.098\" font-family=\"Times New Roman,serif\" font-size=\"14.00\">a </text>\r\n</g>\r\n<!-- St7 -->\r\n<g id=\"node6\" class=\"node\"><title>St7</title>\r\n<ellipse fill=\"none\" stroke=\"black\" cx=\"298.74\" cy=\"-110.298\" rx=\"22.9987\" ry=\"22.9987\"/>\r\n<text text-anchor=\"middle\" x=\"298.74\" y=\"-106.598\" font-family=\"Times New Roman,serif\" font-size=\"14.00\">St7</text>\r\n</g>\r\n<!-- St7&#45;&gt;St8 -->\r\n<g id=\"edge11\" class=\"edge\"><title>St7&#45;&gt;St8</title>\r\n<path fill=\"none\" stroke=\"black\" d=\"M321.863,-110.298C332.483,-110.298 345.412,-110.298 357.093,-110.298\"/>\r\n<polygon fill=\"black\" stroke=\"black\" points=\"357.368,-113.798 367.368,-110.298 357.368,-106.798 357.368,-113.798\"/>\r\n<text text-anchor=\"middle\" x=\"344.488\" y=\"-114.098\" font-family=\"Times New Roman,serif\" font-size=\"14.00\">&#39;&#39; </text>\r\n</g>\r\n<!-- St14 -->\r\n<g id=\"node7\" class=\"node\"><title>St14</title>\r\n<ellipse fill=\"none\" stroke=\"black\" cx=\"887.563\" cy=\"-143.298\" rx=\"27.0966\" ry=\"27.0966\"/>\r\n<text text-anchor=\"middle\" x=\"887.563\" y=\"-139.598\" font-family=\"Times New Roman,serif\" font-size=\"14.00\">St14</text>\r\n</g>\r\n<!-- St15 -->\r\n<g id=\"node12\" class=\"node\"><title>St15</title>\r\n<ellipse fill=\"none\" stroke=\"black\" cx=\"990.158\" cy=\"-190.298\" rx=\"27.0966\" ry=\"27.0966\"/>\r\n<text text-anchor=\"middle\" x=\"990.158\" y=\"-186.598\" font-family=\"Times New Roman,serif\" font-size=\"14.00\">St15</text>\r\n</g>\r\n<!-- St14&#45;&gt;St15 -->\r\n<g id=\"edge17\" class=\"edge\"><title>St14&#45;&gt;St15</title>\r\n<path fill=\"none\" stroke=\"black\" d=\"M912.658,-154.555C925.504,-160.557 941.513,-168.037 955.561,-174.601\"/>\r\n<polygon fill=\"black\" stroke=\"black\" points=\"954.369,-177.907 964.911,-178.969 957.333,-171.565 954.369,-177.907\"/>\r\n<text text-anchor=\"middle\" x=\"938.86\" y=\"-173.098\" font-family=\"Times New Roman,serif\" font-size=\"14.00\">b </text>\r\n</g>\r\n<!-- St4 -->\r\n<g id=\"node8\" class=\"node\"><title>St4</title>\r\n<ellipse fill=\"none\" stroke=\"black\" cx=\"298.74\" cy=\"-203.298\" rx=\"22.9987\" ry=\"22.9987\"/>\r\n<text text-anchor=\"middle\" x=\"298.74\" y=\"-199.598\" font-family=\"Times New Roman,serif\" font-size=\"14.00\">St4</text>\r\n</g>\r\n<!-- St4&#45;&gt;St5 -->\r\n<g id=\"edge7\" class=\"edge\"><title>St4&#45;&gt;St5</title>\r\n<path fill=\"none\" stroke=\"black\" d=\"M276.058,-206.734C244.02,-211.811 183.833,-221.349 146.724,-227.23\"/>\r\n<polygon fill=\"black\" stroke=\"black\" points=\"145.787,-223.835 136.458,-228.857 146.883,-230.749 145.787,-223.835\"/>\r\n<text text-anchor=\"middle\" x=\"205.244\" y=\"-224.098\" font-family=\"Times New Roman,serif\" font-size=\"14.00\">&#39;&#39; </text>\r\n</g>\r\n<!-- St6 -->\r\n<g id=\"node9\" class=\"node\"><title>St6</title>\r\n<ellipse fill=\"none\" stroke=\"black\" cx=\"205.244\" cy=\"-110.298\" rx=\"22.9987\" ry=\"22.9987\"/>\r\n<text text-anchor=\"middle\" x=\"205.244\" y=\"-106.598\" font-family=\"Times New Roman,serif\" font-size=\"14.00\">St6</text>\r\n</g>\r\n<!-- St6&#45;&gt;St7 -->\r\n<g id=\"edge9\" class=\"edge\"><title>St6&#45;&gt;St7</title>\r\n<path fill=\"none\" stroke=\"black\" d=\"M228.393,-110.298C239.519,-110.298 253.21,-110.298 265.479,-110.298\"/>\r\n<polygon fill=\"black\" stroke=\"black\" points=\"265.795,-113.798 275.795,-110.298 265.795,-106.798 265.795,-113.798\"/>\r\n<text text-anchor=\"middle\" x=\"251.992\" y=\"-114.098\" font-family=\"Times New Roman,serif\" font-size=\"14.00\">b </text>\r\n</g>\r\n<!-- St16 -->\r\n<g id=\"node17\" class=\"node\"><title>St16</title>\r\n<ellipse fill=\"none\" stroke=\"black\" cx=\"782.968\" cy=\"-110.298\" rx=\"27.1222\" ry=\"27.1222\"/>\r\n<ellipse fill=\"none\" stroke=\"black\" cx=\"782.968\" cy=\"-110.298\" rx=\"31.0965\" ry=\"31.0965\"/>\r\n<text text-anchor=\"middle\" x=\"782.968\" y=\"-106.598\" font-family=\"Times New Roman,serif\" font-size=\"14.00\">St16</text>\r\n</g>\r\n<!-- St11&#45;&gt;St16 -->\r\n<g id=\"edge20\" class=\"edge\"><title>St11&#45;&gt;St16</title>\r\n<path fill=\"none\" stroke=\"black\" d=\"M705.793,-110.298C716.631,-110.298 729.422,-110.298 741.397,-110.298\"/>\r\n<polygon fill=\"black\" stroke=\"black\" points=\"741.641,-113.798 751.641,-110.298 741.641,-106.798 741.641,-113.798\"/>\r\n<text text-anchor=\"middle\" x=\"728.67\" y=\"-114.098\" font-family=\"Times New Roman,serif\" font-size=\"14.00\">&#39;&#39; </text>\r\n</g>\r\n<!-- St5&#45;&gt;St6 -->\r\n<g id=\"edge4\" class=\"edge\"><title>St5&#45;&gt;St6</title>\r\n<path fill=\"none\" stroke=\"black\" d=\"M127.938,-213.921C135.647,-203.213 145.584,-189.463 154.496,-177.298 164.443,-163.718 175.609,-148.664 184.838,-136.271\"/>\r\n<polygon fill=\"black\" stroke=\"black\" points=\"187.708,-138.276 190.879,-128.167 182.096,-134.093 187.708,-138.276\"/>\r\n<text text-anchor=\"middle\" x=\"159.496\" y=\"-181.098\" font-family=\"Times New Roman,serif\" font-size=\"14.00\">&#39;&#39; </text>\r\n</g>\r\n<!-- St3 -->\r\n<g id=\"node14\" class=\"node\"><title>St3</title>\r\n<ellipse fill=\"none\" stroke=\"black\" cx=\"205.244\" cy=\"-173.298\" rx=\"22.9987\" ry=\"22.9987\"/>\r\n<text text-anchor=\"middle\" x=\"205.244\" y=\"-169.598\" font-family=\"Times New Roman,serif\" font-size=\"14.00\">St3</text>\r\n</g>\r\n<!-- St5&#45;&gt;St3 -->\r\n<g id=\"edge2\" class=\"edge\"><title>St5&#45;&gt;St3</title>\r\n<path fill=\"none\" stroke=\"black\" d=\"M132.32,-218.967C139.149,-213.922 147.097,-208.214 154.496,-203.298 161.466,-198.666 169.143,-193.886 176.337,-189.54\"/>\r\n<polygon fill=\"black\" stroke=\"black\" points=\"178.308,-192.439 185.102,-184.31 174.721,-186.428 178.308,-192.439\"/>\r\n<text text-anchor=\"middle\" x=\"159.496\" y=\"-207.098\" font-family=\"Times New Roman,serif\" font-size=\"14.00\">&#39;&#39; </text>\r\n</g>\r\n<!-- St1 -->\r\n<g id=\"node15\" class=\"node\"><title>St1</title>\r\n<ellipse fill=\"none\" stroke=\"black\" cx=\"205.244\" cy=\"-339.298\" rx=\"22.9987\" ry=\"22.9987\"/>\r\n<text text-anchor=\"middle\" x=\"205.244\" y=\"-335.598\" font-family=\"Times New Roman,serif\" font-size=\"14.00\">St1</text>\r\n</g>\r\n<!-- St5&#45;&gt;St1 -->\r\n<g id=\"edge3\" class=\"edge\"><title>St5&#45;&gt;St1</title>\r\n<path fill=\"none\" stroke=\"black\" d=\"M124.879,-252.461C132.14,-265.897 142.694,-283.546 154.496,-297.298 161.452,-305.403 170.052,-313.248 178.134,-319.92\"/>\r\n<polygon fill=\"black\" stroke=\"black\" points=\"175.963,-322.665 185.963,-326.166 180.329,-317.194 175.963,-322.665\"/>\r\n<text text-anchor=\"middle\" x=\"159.496\" y=\"-311.098\" font-family=\"Times New Roman,serif\" font-size=\"14.00\">&#39;&#39; </text>\r\n</g>\r\n<!-- St15&#45;&gt;St16 -->\r\n<g id=\"edge19\" class=\"edge\"><title>St15&#45;&gt;St16</title>\r\n<path fill=\"none\" stroke=\"black\" d=\"M962.916,-193.079C935.911,-194.821 893.245,-194.394 860.265,-179.298 841.357,-170.642 823.865,-155.586 810.413,-141.742\"/>\r\n<polygon fill=\"black\" stroke=\"black\" points=\"812.762,-139.13 803.371,-134.224 807.653,-143.916 812.762,-139.13\"/>\r\n<text text-anchor=\"middle\" x=\"887.563\" y=\"-196.098\" font-family=\"Times New Roman,serif\" font-size=\"14.00\">&#39;&#39; </text>\r\n</g>\r\n<!-- St9&#45;&gt;St10 -->\r\n<g id=\"edge13\" class=\"edge\"><title>St9&#45;&gt;St10</title>\r\n<path fill=\"none\" stroke=\"black\" d=\"M504.544,-110.298C515.12,-110.298 528.112,-110.298 540.147,-110.298\"/>\r\n<polygon fill=\"black\" stroke=\"black\" points=\"540.393,-113.798 550.393,-110.298 540.393,-106.798 540.393,-113.798\"/>\r\n<text text-anchor=\"middle\" x=\"527.48\" y=\"-114.098\" font-family=\"Times New Roman,serif\" font-size=\"14.00\">&#39;&#39; </text>\r\n</g>\r\n<!-- St3&#45;&gt;St4 -->\r\n<g id=\"edge6\" class=\"edge\"><title>St3&#45;&gt;St4</title>\r\n<path fill=\"none\" stroke=\"black\" d=\"M227.006,-180.105C238.854,-183.99 253.928,-188.932 267.113,-193.256\"/>\r\n<polygon fill=\"black\" stroke=\"black\" points=\"266.151,-196.623 276.744,-196.413 268.332,-189.972 266.151,-196.623\"/>\r\n<text text-anchor=\"middle\" x=\"251.992\" y=\"-193.098\" font-family=\"Times New Roman,serif\" font-size=\"14.00\">b </text>\r\n</g>\r\n<!-- St1&#45;&gt;St2 -->\r\n<g id=\"edge5\" class=\"edge\"><title>St1&#45;&gt;St2</title>\r\n<path fill=\"none\" stroke=\"black\" d=\"M227.465,-334.195C239.045,-331.411 253.602,-327.91 266.459,-324.819\"/>\r\n<polygon fill=\"black\" stroke=\"black\" points=\"267.412,-328.19 276.317,-322.449 265.776,-321.384 267.412,-328.19\"/>\r\n<text text-anchor=\"middle\" x=\"251.992\" y=\"-333.098\" font-family=\"Times New Roman,serif\" font-size=\"14.00\">a </text>\r\n</g>\r\n<!-- St13&#45;&gt;St16 -->\r\n<g id=\"edge18\" class=\"edge\"><title>St13&#45;&gt;St16</title>\r\n<path fill=\"none\" stroke=\"black\" d=\"M964.093,-18.9173C937.113,-11.4072 893.587,-3.75172 860.265,-19.2976 836.015,-30.6113 816.743,-53.8446 803.634,-74.0027\"/>\r\n<polygon fill=\"black\" stroke=\"black\" points=\"800.533,-72.3613 798.223,-82.7013 806.477,-76.0587 800.533,-72.3613\"/>\r\n<text text-anchor=\"middle\" x=\"887.563\" y=\"-23.0976\" font-family=\"Times New Roman,serif\" font-size=\"14.00\">&#39;&#39; </text>\r\n</g>\r\n<!-- St16&#45;&gt;St12 -->\r\n<g id=\"edge15\" class=\"edge\"><title>St16&#45;&gt;St12</title>\r\n<path fill=\"none\" stroke=\"black\" d=\"M812.274,-99.2615C824.657,-94.4335 839.294,-88.7269 852.287,-83.6609\"/>\r\n<polygon fill=\"black\" stroke=\"black\" points=\"853.793,-86.8305 861.839,-79.937 851.25,-80.3087 853.793,-86.8305\"/>\r\n<text text-anchor=\"middle\" x=\"837.265\" y=\"-94.0976\" font-family=\"Times New Roman,serif\" font-size=\"14.00\">&#39;&#39; </text>\r\n</g>\r\n<!-- St16&#45;&gt;St14 -->\r\n<g id=\"edge14\" class=\"edge\"><title>St16&#45;&gt;St14</title>\r\n<path fill=\"none\" stroke=\"black\" d=\"M813.093,-119.666C825.06,-123.515 839.02,-128.005 851.538,-132.032\"/>\r\n<polygon fill=\"black\" stroke=\"black\" points=\"850.611,-135.41 861.202,-135.14 852.754,-128.746 850.611,-135.41\"/>\r\n<text text-anchor=\"middle\" x=\"837.265\" y=\"-133.098\" font-family=\"Times New Roman,serif\" font-size=\"14.00\">&#39;&#39; </text>\r\n</g>\r\n</g>\r\n</svg>\r\n"
     },
     "metadata": {},
     "execution_count": 13
    }
   ],
   "source": [
    "dotObj_nfa(N1)"
   ]
  },
  {
   "cell_type": "code",
   "execution_count": 14,
   "metadata": {},
   "outputs": [
    {
     "output_type": "execute_result",
     "data": {
      "text/plain": "<graphviz.dot.Digraph at 0x26b556e7f40>",
      "image/svg+xml": "<?xml version=\"1.0\" encoding=\"UTF-8\" standalone=\"no\"?>\r\n<!DOCTYPE svg PUBLIC \"-//W3C//DTD SVG 1.1//EN\"\r\n \"http://www.w3.org/Graphics/SVG/1.1/DTD/svg11.dtd\">\r\n<!-- Generated by graphviz version 2.38.0 (20140413.2041)\r\n -->\r\n<!-- Title: %3 Pages: 1 -->\r\n<svg width=\"824pt\" height=\"363pt\"\r\n viewBox=\"0.00 0.00 824.27 363.05\" xmlns=\"http://www.w3.org/2000/svg\" xmlns:xlink=\"http://www.w3.org/1999/xlink\">\r\n<g id=\"graph0\" class=\"graph\" transform=\"scale(1 1) rotate(0) translate(4 359.046)\">\r\n<title>%3</title>\r\n<polygon fill=\"white\" stroke=\"none\" points=\"-4,4 -4,-359.046 820.265,-359.046 820.265,4 -4,4\"/>\r\n<!-- EMPTY -->\r\n<g id=\"node1\" class=\"node\"><title>EMPTY</title>\r\n</g>\r\n<!-- St5 -->\r\n<g id=\"node8\" class=\"node\"><title>St5</title>\r\n<ellipse fill=\"none\" stroke=\"black\" cx=\"113.748\" cy=\"-124.748\" rx=\"22.9987\" ry=\"22.9987\"/>\r\n<text text-anchor=\"middle\" x=\"113.748\" y=\"-121.048\" font-family=\"Times New Roman,serif\" font-size=\"14.00\">St5</text>\r\n</g>\r\n<!-- EMPTY&#45;&gt;St5 -->\r\n<g id=\"edge1\" class=\"edge\"><title>EMPTY&#45;&gt;St5</title>\r\n<path fill=\"none\" stroke=\"black\" d=\"M54.3502,-124.748C62.71,-124.748 72.0455,-124.748 80.757,-124.748\"/>\r\n<polygon fill=\"black\" stroke=\"black\" points=\"80.9663,-128.248 90.9663,-124.748 80.9662,-121.248 80.9663,-128.248\"/>\r\n</g>\r\n<!-- St10 -->\r\n<g id=\"node2\" class=\"node\"><title>St10</title>\r\n<ellipse fill=\"none\" stroke=\"black\" cx=\"686.373\" cy=\"-280.748\" rx=\"27.0966\" ry=\"27.0966\"/>\r\n<text text-anchor=\"middle\" x=\"686.373\" y=\"-277.048\" font-family=\"Times New Roman,serif\" font-size=\"14.00\">St10</text>\r\n</g>\r\n<!-- St11 -->\r\n<g id=\"node3\" class=\"node\"><title>St11</title>\r\n<ellipse fill=\"none\" stroke=\"black\" cx=\"788.968\" cy=\"-327.748\" rx=\"27.0966\" ry=\"27.0966\"/>\r\n<text text-anchor=\"middle\" x=\"788.968\" y=\"-324.048\" font-family=\"Times New Roman,serif\" font-size=\"14.00\">St11</text>\r\n</g>\r\n<!-- St10&#45;&gt;St11 -->\r\n<g id=\"edge14\" class=\"edge\"><title>St10&#45;&gt;St11</title>\r\n<path fill=\"none\" stroke=\"black\" d=\"M711.468,-292.006C724.313,-298.007 740.323,-305.487 754.371,-312.051\"/>\r\n<polygon fill=\"black\" stroke=\"black\" points=\"753.179,-315.357 763.721,-316.419 756.142,-309.015 753.179,-315.357\"/>\r\n<text text-anchor=\"middle\" x=\"737.67\" y=\"-310.548\" font-family=\"Times New Roman,serif\" font-size=\"14.00\">a </text>\r\n</g>\r\n<!-- St14 -->\r\n<g id=\"node15\" class=\"node\"><title>St14</title>\r\n<ellipse fill=\"none\" stroke=\"black\" cx=\"581.777\" cy=\"-239.748\" rx=\"27.1222\" ry=\"27.1222\"/>\r\n<ellipse fill=\"none\" stroke=\"black\" cx=\"581.777\" cy=\"-239.748\" rx=\"31.0965\" ry=\"31.0965\"/>\r\n<text text-anchor=\"middle\" x=\"581.777\" y=\"-236.048\" font-family=\"Times New Roman,serif\" font-size=\"14.00\">St14</text>\r\n</g>\r\n<!-- St11&#45;&gt;St14 -->\r\n<g id=\"edge17\" class=\"edge\"><title>St11&#45;&gt;St14</title>\r\n<path fill=\"none\" stroke=\"black\" d=\"M761.803,-330.877C734.671,-332.935 691.73,-332.791 659.075,-316.748 638.65,-306.713 620.498,-288.979 607.028,-273.057\"/>\r\n<polygon fill=\"black\" stroke=\"black\" points=\"609.452,-270.491 600.423,-264.946 604.024,-274.911 609.452,-270.491\"/>\r\n<text text-anchor=\"middle\" x=\"686.373\" y=\"-333.548\" font-family=\"Times New Roman,serif\" font-size=\"14.00\">&#39;&#39; </text>\r\n</g>\r\n<!-- St12 -->\r\n<g id=\"node4\" class=\"node\"><title>St12</title>\r\n<ellipse fill=\"none\" stroke=\"black\" cx=\"686.373\" cy=\"-207.748\" rx=\"27.0966\" ry=\"27.0966\"/>\r\n<text text-anchor=\"middle\" x=\"686.373\" y=\"-204.048\" font-family=\"Times New Roman,serif\" font-size=\"14.00\">St12</text>\r\n</g>\r\n<!-- St13 -->\r\n<g id=\"node13\" class=\"node\"><title>St13</title>\r\n<ellipse fill=\"none\" stroke=\"black\" cx=\"788.968\" cy=\"-164.748\" rx=\"27.0966\" ry=\"27.0966\"/>\r\n<text text-anchor=\"middle\" x=\"788.968\" y=\"-161.048\" font-family=\"Times New Roman,serif\" font-size=\"14.00\">St13</text>\r\n</g>\r\n<!-- St12&#45;&gt;St13 -->\r\n<g id=\"edge15\" class=\"edge\"><title>St12&#45;&gt;St13</title>\r\n<path fill=\"none\" stroke=\"black\" d=\"M711.724,-197.339C724.48,-191.886 740.302,-185.123 754.221,-179.173\"/>\r\n<polygon fill=\"black\" stroke=\"black\" points=\"755.673,-182.359 763.492,-175.21 752.921,-175.923 755.673,-182.359\"/>\r\n<text text-anchor=\"middle\" x=\"737.67\" y=\"-191.548\" font-family=\"Times New Roman,serif\" font-size=\"14.00\">b </text>\r\n</g>\r\n<!-- St2 -->\r\n<g id=\"node5\" class=\"node\"><title>St2</title>\r\n<ellipse fill=\"none\" stroke=\"black\" cx=\"298.74\" cy=\"-157.748\" rx=\"22.9987\" ry=\"22.9987\"/>\r\n<text text-anchor=\"middle\" x=\"298.74\" y=\"-154.048\" font-family=\"Times New Roman,serif\" font-size=\"14.00\">St2</text>\r\n</g>\r\n<!-- St2&#45;&gt;St5 -->\r\n<g id=\"edge8\" class=\"edge\"><title>St2&#45;&gt;St5</title>\r\n<path fill=\"none\" stroke=\"black\" d=\"M275.918,-160.992C270.107,-161.719 263.823,-162.383 257.992,-162.748 224.398,-164.853 214.985,-165.546 182.496,-156.748 168.824,-153.046 154.526,-146.704 142.607,-140.637\"/>\r\n<polygon fill=\"black\" stroke=\"black\" points=\"144.093,-137.464 133.616,-135.886 140.823,-143.653 144.093,-137.464\"/>\r\n<text text-anchor=\"middle\" x=\"205.244\" y=\"-168.548\" font-family=\"Times New Roman,serif\" font-size=\"14.00\">&#39;&#39; </text>\r\n</g>\r\n<!-- St6 -->\r\n<g id=\"node6\" class=\"node\"><title>St6</title>\r\n<ellipse fill=\"none\" stroke=\"black\" cx=\"205.244\" cy=\"-239.748\" rx=\"22.9987\" ry=\"22.9987\"/>\r\n<text text-anchor=\"middle\" x=\"205.244\" y=\"-236.048\" font-family=\"Times New Roman,serif\" font-size=\"14.00\">St6</text>\r\n</g>\r\n<!-- St7 -->\r\n<g id=\"node10\" class=\"node\"><title>St7</title>\r\n<ellipse fill=\"none\" stroke=\"black\" cx=\"298.74\" cy=\"-239.748\" rx=\"22.9987\" ry=\"22.9987\"/>\r\n<text text-anchor=\"middle\" x=\"298.74\" y=\"-236.048\" font-family=\"Times New Roman,serif\" font-size=\"14.00\">St7</text>\r\n</g>\r\n<!-- St6&#45;&gt;St7 -->\r\n<g id=\"edge9\" class=\"edge\"><title>St6&#45;&gt;St7</title>\r\n<path fill=\"none\" stroke=\"black\" d=\"M228.393,-239.748C239.519,-239.748 253.21,-239.748 265.479,-239.748\"/>\r\n<polygon fill=\"black\" stroke=\"black\" points=\"265.795,-243.248 275.795,-239.748 265.795,-236.248 265.795,-243.248\"/>\r\n<text text-anchor=\"middle\" x=\"251.992\" y=\"-243.548\" font-family=\"Times New Roman,serif\" font-size=\"14.00\">b </text>\r\n</g>\r\n<!-- St8 -->\r\n<g id=\"node7\" class=\"node\"><title>St8</title>\r\n<ellipse fill=\"none\" stroke=\"black\" cx=\"390.236\" cy=\"-239.748\" rx=\"22.9987\" ry=\"22.9987\"/>\r\n<text text-anchor=\"middle\" x=\"390.236\" y=\"-236.048\" font-family=\"Times New Roman,serif\" font-size=\"14.00\">St8</text>\r\n</g>\r\n<!-- St9 -->\r\n<g id=\"node9\" class=\"node\"><title>St9</title>\r\n<ellipse fill=\"none\" stroke=\"black\" cx=\"481.732\" cy=\"-239.748\" rx=\"22.9987\" ry=\"22.9987\"/>\r\n<text text-anchor=\"middle\" x=\"481.732\" y=\"-236.048\" font-family=\"Times New Roman,serif\" font-size=\"14.00\">St9</text>\r\n</g>\r\n<!-- St8&#45;&gt;St9 -->\r\n<g id=\"edge10\" class=\"edge\"><title>St8&#45;&gt;St9</title>\r\n<path fill=\"none\" stroke=\"black\" d=\"M413.358,-239.748C423.979,-239.748 436.908,-239.748 448.589,-239.748\"/>\r\n<polygon fill=\"black\" stroke=\"black\" points=\"448.864,-243.248 458.864,-239.748 448.864,-236.248 448.864,-243.248\"/>\r\n<text text-anchor=\"middle\" x=\"435.984\" y=\"-243.548\" font-family=\"Times New Roman,serif\" font-size=\"14.00\">a </text>\r\n</g>\r\n<!-- St5&#45;&gt;St6 -->\r\n<g id=\"edge4\" class=\"edge\"><title>St5&#45;&gt;St6</title>\r\n<path fill=\"none\" stroke=\"black\" d=\"M123.521,-145.514C130.58,-160.852 141.454,-181.756 154.496,-197.748 161.354,-206.157 170.064,-214.166 178.273,-220.892\"/>\r\n<polygon fill=\"black\" stroke=\"black\" points=\"176.206,-223.719 186.228,-227.157 180.538,-218.22 176.206,-223.719\"/>\r\n<text text-anchor=\"middle\" x=\"159.496\" y=\"-212.548\" font-family=\"Times New Roman,serif\" font-size=\"14.00\">&#39;&#39; </text>\r\n</g>\r\n<!-- St3 -->\r\n<g id=\"node11\" class=\"node\"><title>St3</title>\r\n<ellipse fill=\"none\" stroke=\"black\" cx=\"205.244\" cy=\"-61.748\" rx=\"22.9987\" ry=\"22.9987\"/>\r\n<text text-anchor=\"middle\" x=\"205.244\" y=\"-58.048\" font-family=\"Times New Roman,serif\" font-size=\"14.00\">St3</text>\r\n</g>\r\n<!-- St5&#45;&gt;St3 -->\r\n<g id=\"edge2\" class=\"edge\"><title>St5&#45;&gt;St3</title>\r\n<path fill=\"none\" stroke=\"black\" d=\"M132.859,-111.999C145.717,-102.947 163.189,-90.648 177.629,-80.4831\"/>\r\n<polygon fill=\"black\" stroke=\"black\" points=\"179.998,-83.0963 186.16,-74.478 175.968,-77.3723 179.998,-83.0963\"/>\r\n<text text-anchor=\"middle\" x=\"159.496\" y=\"-99.548\" font-family=\"Times New Roman,serif\" font-size=\"14.00\">&#39;&#39; </text>\r\n</g>\r\n<!-- St1 -->\r\n<g id=\"node14\" class=\"node\"><title>St1</title>\r\n<ellipse fill=\"none\" stroke=\"black\" cx=\"205.244\" cy=\"-124.748\" rx=\"22.9987\" ry=\"22.9987\"/>\r\n<text text-anchor=\"middle\" x=\"205.244\" y=\"-121.048\" font-family=\"Times New Roman,serif\" font-size=\"14.00\">St1</text>\r\n</g>\r\n<!-- St5&#45;&gt;St1 -->\r\n<g id=\"edge3\" class=\"edge\"><title>St5&#45;&gt;St1</title>\r\n<path fill=\"none\" stroke=\"black\" d=\"M136.871,-124.748C147.492,-124.748 160.42,-124.748 172.101,-124.748\"/>\r\n<polygon fill=\"black\" stroke=\"black\" points=\"172.376,-128.248 182.376,-124.748 172.376,-121.248 172.376,-128.248\"/>\r\n<text text-anchor=\"middle\" x=\"159.496\" y=\"-128.548\" font-family=\"Times New Roman,serif\" font-size=\"14.00\">&#39;&#39; </text>\r\n</g>\r\n<!-- St9&#45;&gt;St14 -->\r\n<g id=\"edge18\" class=\"edge\"><title>St9&#45;&gt;St14</title>\r\n<path fill=\"none\" stroke=\"black\" d=\"M504.491,-239.748C514.981,-239.748 527.913,-239.748 540.13,-239.748\"/>\r\n<polygon fill=\"black\" stroke=\"black\" points=\"540.154,-243.248 550.154,-239.748 540.154,-236.248 540.154,-243.248\"/>\r\n<text text-anchor=\"middle\" x=\"527.48\" y=\"-243.548\" font-family=\"Times New Roman,serif\" font-size=\"14.00\">&#39;&#39; </text>\r\n</g>\r\n<!-- St7&#45;&gt;St8 -->\r\n<g id=\"edge11\" class=\"edge\"><title>St7&#45;&gt;St8</title>\r\n<path fill=\"none\" stroke=\"black\" d=\"M321.863,-239.748C332.483,-239.748 345.412,-239.748 357.093,-239.748\"/>\r\n<polygon fill=\"black\" stroke=\"black\" points=\"357.368,-243.248 367.368,-239.748 357.368,-236.248 357.368,-243.248\"/>\r\n<text text-anchor=\"middle\" x=\"344.488\" y=\"-243.548\" font-family=\"Times New Roman,serif\" font-size=\"14.00\">&#39;&#39; </text>\r\n</g>\r\n<!-- St4 -->\r\n<g id=\"node12\" class=\"node\"><title>St4</title>\r\n<ellipse fill=\"none\" stroke=\"black\" cx=\"298.74\" cy=\"-22.748\" rx=\"22.9987\" ry=\"22.9987\"/>\r\n<text text-anchor=\"middle\" x=\"298.74\" y=\"-19.048\" font-family=\"Times New Roman,serif\" font-size=\"14.00\">St4</text>\r\n</g>\r\n<!-- St3&#45;&gt;St4 -->\r\n<g id=\"edge6\" class=\"edge\"><title>St3&#45;&gt;St4</title>\r\n<path fill=\"none\" stroke=\"black\" d=\"M226.55,-53.0926C238.751,-47.8919 254.492,-41.1823 268.069,-35.3952\"/>\r\n<polygon fill=\"black\" stroke=\"black\" points=\"269.664,-38.5201 277.491,-31.3792 266.919,-32.0806 269.664,-38.5201\"/>\r\n<text text-anchor=\"middle\" x=\"251.992\" y=\"-48.548\" font-family=\"Times New Roman,serif\" font-size=\"14.00\">b </text>\r\n</g>\r\n<!-- St4&#45;&gt;St5 -->\r\n<g id=\"edge7\" class=\"edge\"><title>St4&#45;&gt;St5</title>\r\n<path fill=\"none\" stroke=\"black\" d=\"M277.109,-14.8774C252.833,-7.00037 212.087,1.7803 182.496,-14.748 152.632,-31.4288 134.305,-67.2768 124.369,-93.5331\"/>\r\n<polygon fill=\"black\" stroke=\"black\" points=\"121.032,-92.4719 120.965,-103.067 127.624,-94.8258 121.032,-92.4719\"/>\r\n<text text-anchor=\"middle\" x=\"205.244\" y=\"-18.548\" font-family=\"Times New Roman,serif\" font-size=\"14.00\">&#39;&#39; </text>\r\n</g>\r\n<!-- St13&#45;&gt;St14 -->\r\n<g id=\"edge16\" class=\"edge\"><title>St13&#45;&gt;St14</title>\r\n<path fill=\"none\" stroke=\"black\" d=\"M762.544,-156.531C735.642,-149.317 692.537,-142.056 659.075,-156.748 636.743,-166.553 618.074,-186.478 604.794,-204.348\"/>\r\n<polygon fill=\"black\" stroke=\"black\" points=\"601.654,-202.723 598.714,-212.902 607.36,-206.778 601.654,-202.723\"/>\r\n<text text-anchor=\"middle\" x=\"686.373\" y=\"-160.548\" font-family=\"Times New Roman,serif\" font-size=\"14.00\">&#39;&#39; </text>\r\n</g>\r\n<!-- St1&#45;&gt;St2 -->\r\n<g id=\"edge5\" class=\"edge\"><title>St1&#45;&gt;St2</title>\r\n<path fill=\"none\" stroke=\"black\" d=\"M227.006,-132.236C238.938,-136.54 254.142,-142.023 267.394,-146.803\"/>\r\n<polygon fill=\"black\" stroke=\"black\" points=\"266.466,-150.189 277.06,-150.289 268.841,-143.604 266.466,-150.189\"/>\r\n<text text-anchor=\"middle\" x=\"251.992\" y=\"-147.548\" font-family=\"Times New Roman,serif\" font-size=\"14.00\">a </text>\r\n</g>\r\n<!-- St14&#45;&gt;St10 -->\r\n<g id=\"edge12\" class=\"edge\"><title>St14&#45;&gt;St10</title>\r\n<path fill=\"none\" stroke=\"black\" d=\"M611.084,-251.06C623.467,-256.009 638.104,-261.858 651.097,-267.051\"/>\r\n<polygon fill=\"black\" stroke=\"black\" points=\"650.064,-270.407 660.648,-270.868 652.661,-263.906 650.064,-270.407\"/>\r\n<text text-anchor=\"middle\" x=\"636.075\" y=\"-265.548\" font-family=\"Times New Roman,serif\" font-size=\"14.00\">&#39;&#39; </text>\r\n</g>\r\n<!-- St14&#45;&gt;St12 -->\r\n<g id=\"edge13\" class=\"edge\"><title>St14&#45;&gt;St12</title>\r\n<path fill=\"none\" stroke=\"black\" d=\"M611.903,-230.664C623.869,-226.931 637.83,-222.577 650.348,-218.672\"/>\r\n<polygon fill=\"black\" stroke=\"black\" points=\"651.508,-221.977 660.012,-215.658 649.423,-215.294 651.508,-221.977\"/>\r\n<text text-anchor=\"middle\" x=\"636.075\" y=\"-227.548\" font-family=\"Times New Roman,serif\" font-size=\"14.00\">&#39;&#39; </text>\r\n</g>\r\n</g>\r\n</svg>\r\n"
     },
     "metadata": {},
     "execution_count": 14
    }
   ],
   "source": [
    "dotObj_nfa(N2)"
   ]
  },
  {
   "cell_type": "code",
   "execution_count": 15,
   "metadata": {},
   "outputs": [
    {
     "output_type": "execute_result",
     "data": {
      "text/plain": "<graphviz.dot.Digraph at 0x26b556dcee0>",
      "image/svg+xml": "<?xml version=\"1.0\" encoding=\"UTF-8\" standalone=\"no\"?>\r\n<!DOCTYPE svg PUBLIC \"-//W3C//DTD SVG 1.1//EN\"\r\n \"http://www.w3.org/Graphics/SVG/1.1/DTD/svg11.dtd\">\r\n<!-- Generated by graphviz version 2.38.0 (20140413.2041)\r\n -->\r\n<!-- Title: %3 Pages: 1 -->\r\n<svg width=\"722pt\" height=\"279pt\"\r\n viewBox=\"0.00 0.00 721.67 279.05\" xmlns=\"http://www.w3.org/2000/svg\" xmlns:xlink=\"http://www.w3.org/1999/xlink\">\r\n<g id=\"graph0\" class=\"graph\" transform=\"scale(1 1) rotate(0) translate(4 275.046)\">\r\n<title>%3</title>\r\n<polygon fill=\"white\" stroke=\"none\" points=\"-4,4 -4,-275.046 717.67,-275.046 717.67,4 -4,4\"/>\r\n<!-- EMPTY -->\r\n<g id=\"node1\" class=\"node\"><title>EMPTY</title>\r\n</g>\r\n<!-- St5 -->\r\n<g id=\"node6\" class=\"node\"><title>St5</title>\r\n<ellipse fill=\"none\" stroke=\"black\" cx=\"113.748\" cy=\"-124.748\" rx=\"22.9987\" ry=\"22.9987\"/>\r\n<text text-anchor=\"middle\" x=\"113.748\" y=\"-121.048\" font-family=\"Times New Roman,serif\" font-size=\"14.00\">St5</text>\r\n</g>\r\n<!-- EMPTY&#45;&gt;St5 -->\r\n<g id=\"edge1\" class=\"edge\"><title>EMPTY&#45;&gt;St5</title>\r\n<path fill=\"none\" stroke=\"black\" d=\"M54.3502,-124.748C62.71,-124.748 72.0455,-124.748 80.757,-124.748\"/>\r\n<polygon fill=\"black\" stroke=\"black\" points=\"80.9663,-128.248 90.9663,-124.748 80.9662,-121.248 80.9663,-128.248\"/>\r\n</g>\r\n<!-- St10 -->\r\n<g id=\"node2\" class=\"node\"><title>St10</title>\r\n<ellipse fill=\"none\" stroke=\"black\" cx=\"577.777\" cy=\"-239.748\" rx=\"27.0966\" ry=\"27.0966\"/>\r\n<text text-anchor=\"middle\" x=\"577.777\" y=\"-236.048\" font-family=\"Times New Roman,serif\" font-size=\"14.00\">St10</text>\r\n</g>\r\n<!-- St11 -->\r\n<g id=\"node12\" class=\"node\"><title>St11</title>\r\n<ellipse fill=\"none\" stroke=\"black\" cx=\"682.373\" cy=\"-239.748\" rx=\"27.1222\" ry=\"27.1222\"/>\r\n<ellipse fill=\"none\" stroke=\"black\" cx=\"682.373\" cy=\"-239.748\" rx=\"31.0965\" ry=\"31.0965\"/>\r\n<text text-anchor=\"middle\" x=\"682.373\" y=\"-236.048\" font-family=\"Times New Roman,serif\" font-size=\"14.00\">St11</text>\r\n</g>\r\n<!-- St10&#45;&gt;St11 -->\r\n<g id=\"edge12\" class=\"edge\"><title>St10&#45;&gt;St11</title>\r\n<path fill=\"none\" stroke=\"black\" d=\"M605.198,-239.748C616.035,-239.748 628.827,-239.748 640.802,-239.748\"/>\r\n<polygon fill=\"black\" stroke=\"black\" points=\"641.046,-243.248 651.046,-239.748 641.046,-236.248 641.046,-243.248\"/>\r\n<text text-anchor=\"middle\" x=\"628.075\" y=\"-243.548\" font-family=\"Times New Roman,serif\" font-size=\"14.00\">a </text>\r\n</g>\r\n<!-- St2 -->\r\n<g id=\"node3\" class=\"node\"><title>St2</title>\r\n<ellipse fill=\"none\" stroke=\"black\" cx=\"298.74\" cy=\"-157.748\" rx=\"22.9987\" ry=\"22.9987\"/>\r\n<text text-anchor=\"middle\" x=\"298.74\" y=\"-154.048\" font-family=\"Times New Roman,serif\" font-size=\"14.00\">St2</text>\r\n</g>\r\n<!-- St2&#45;&gt;St5 -->\r\n<g id=\"edge8\" class=\"edge\"><title>St2&#45;&gt;St5</title>\r\n<path fill=\"none\" stroke=\"black\" d=\"M276.084,-160.68C252.605,-163.145 214.235,-165.077 182.496,-156.748 168.795,-153.153 154.493,-146.826 142.579,-140.743\"/>\r\n<polygon fill=\"black\" stroke=\"black\" points=\"144.067,-137.57 133.593,-135.973 140.785,-143.753 144.067,-137.57\"/>\r\n<text text-anchor=\"middle\" x=\"205.244\" y=\"-165.548\" font-family=\"Times New Roman,serif\" font-size=\"14.00\">&#39;&#39; </text>\r\n</g>\r\n<!-- St6 -->\r\n<g id=\"node4\" class=\"node\"><title>St6</title>\r\n<ellipse fill=\"none\" stroke=\"black\" cx=\"205.244\" cy=\"-239.748\" rx=\"22.9987\" ry=\"22.9987\"/>\r\n<text text-anchor=\"middle\" x=\"205.244\" y=\"-236.048\" font-family=\"Times New Roman,serif\" font-size=\"14.00\">St6</text>\r\n</g>\r\n<!-- St7 -->\r\n<g id=\"node8\" class=\"node\"><title>St7</title>\r\n<ellipse fill=\"none\" stroke=\"black\" cx=\"298.74\" cy=\"-239.748\" rx=\"22.9987\" ry=\"22.9987\"/>\r\n<text text-anchor=\"middle\" x=\"298.74\" y=\"-236.048\" font-family=\"Times New Roman,serif\" font-size=\"14.00\">St7</text>\r\n</g>\r\n<!-- St6&#45;&gt;St7 -->\r\n<g id=\"edge9\" class=\"edge\"><title>St6&#45;&gt;St7</title>\r\n<path fill=\"none\" stroke=\"black\" d=\"M228.393,-239.748C239.519,-239.748 253.21,-239.748 265.479,-239.748\"/>\r\n<polygon fill=\"black\" stroke=\"black\" points=\"265.795,-243.248 275.795,-239.748 265.795,-236.248 265.795,-243.248\"/>\r\n<text text-anchor=\"middle\" x=\"251.992\" y=\"-243.548\" font-family=\"Times New Roman,serif\" font-size=\"14.00\">b </text>\r\n</g>\r\n<!-- St8 -->\r\n<g id=\"node5\" class=\"node\"><title>St8</title>\r\n<ellipse fill=\"none\" stroke=\"black\" cx=\"390.236\" cy=\"-239.748\" rx=\"22.9987\" ry=\"22.9987\"/>\r\n<text text-anchor=\"middle\" x=\"390.236\" y=\"-236.048\" font-family=\"Times New Roman,serif\" font-size=\"14.00\">St8</text>\r\n</g>\r\n<!-- St9 -->\r\n<g id=\"node7\" class=\"node\"><title>St9</title>\r\n<ellipse fill=\"none\" stroke=\"black\" cx=\"481.732\" cy=\"-239.748\" rx=\"22.9987\" ry=\"22.9987\"/>\r\n<text text-anchor=\"middle\" x=\"481.732\" y=\"-236.048\" font-family=\"Times New Roman,serif\" font-size=\"14.00\">St9</text>\r\n</g>\r\n<!-- St8&#45;&gt;St9 -->\r\n<g id=\"edge10\" class=\"edge\"><title>St8&#45;&gt;St9</title>\r\n<path fill=\"none\" stroke=\"black\" d=\"M413.358,-239.748C423.979,-239.748 436.908,-239.748 448.589,-239.748\"/>\r\n<polygon fill=\"black\" stroke=\"black\" points=\"448.864,-243.248 458.864,-239.748 448.864,-236.248 448.864,-243.248\"/>\r\n<text text-anchor=\"middle\" x=\"435.984\" y=\"-243.548\" font-family=\"Times New Roman,serif\" font-size=\"14.00\">a </text>\r\n</g>\r\n<!-- St5&#45;&gt;St6 -->\r\n<g id=\"edge4\" class=\"edge\"><title>St5&#45;&gt;St6</title>\r\n<path fill=\"none\" stroke=\"black\" d=\"M123.521,-145.514C130.58,-160.852 141.454,-181.756 154.496,-197.748 161.354,-206.157 170.064,-214.166 178.273,-220.892\"/>\r\n<polygon fill=\"black\" stroke=\"black\" points=\"176.206,-223.719 186.228,-227.157 180.538,-218.22 176.206,-223.719\"/>\r\n<text text-anchor=\"middle\" x=\"159.496\" y=\"-211.548\" font-family=\"Times New Roman,serif\" font-size=\"14.00\">&#39;&#39; </text>\r\n</g>\r\n<!-- St3 -->\r\n<g id=\"node10\" class=\"node\"><title>St3</title>\r\n<ellipse fill=\"none\" stroke=\"black\" cx=\"205.244\" cy=\"-61.748\" rx=\"22.9987\" ry=\"22.9987\"/>\r\n<text text-anchor=\"middle\" x=\"205.244\" y=\"-58.048\" font-family=\"Times New Roman,serif\" font-size=\"14.00\">St3</text>\r\n</g>\r\n<!-- St5&#45;&gt;St3 -->\r\n<g id=\"edge2\" class=\"edge\"><title>St5&#45;&gt;St3</title>\r\n<path fill=\"none\" stroke=\"black\" d=\"M132.859,-111.999C145.717,-102.947 163.189,-90.648 177.629,-80.4831\"/>\r\n<polygon fill=\"black\" stroke=\"black\" points=\"179.998,-83.0963 186.16,-74.478 175.968,-77.3723 179.998,-83.0963\"/>\r\n<text text-anchor=\"middle\" x=\"159.496\" y=\"-99.548\" font-family=\"Times New Roman,serif\" font-size=\"14.00\">&#39;&#39; </text>\r\n</g>\r\n<!-- St1 -->\r\n<g id=\"node11\" class=\"node\"><title>St1</title>\r\n<ellipse fill=\"none\" stroke=\"black\" cx=\"205.244\" cy=\"-124.748\" rx=\"22.9987\" ry=\"22.9987\"/>\r\n<text text-anchor=\"middle\" x=\"205.244\" y=\"-121.048\" font-family=\"Times New Roman,serif\" font-size=\"14.00\">St1</text>\r\n</g>\r\n<!-- St5&#45;&gt;St1 -->\r\n<g id=\"edge3\" class=\"edge\"><title>St5&#45;&gt;St1</title>\r\n<path fill=\"none\" stroke=\"black\" d=\"M136.871,-124.748C147.492,-124.748 160.42,-124.748 172.101,-124.748\"/>\r\n<polygon fill=\"black\" stroke=\"black\" points=\"172.376,-128.248 182.376,-124.748 172.376,-121.248 172.376,-128.248\"/>\r\n<text text-anchor=\"middle\" x=\"159.496\" y=\"-128.548\" font-family=\"Times New Roman,serif\" font-size=\"14.00\">&#39;&#39; </text>\r\n</g>\r\n<!-- St9&#45;&gt;St10 -->\r\n<g id=\"edge13\" class=\"edge\"><title>St9&#45;&gt;St10</title>\r\n<path fill=\"none\" stroke=\"black\" d=\"M504.544,-239.748C515.12,-239.748 528.112,-239.748 540.147,-239.748\"/>\r\n<polygon fill=\"black\" stroke=\"black\" points=\"540.393,-243.248 550.393,-239.748 540.393,-236.248 540.393,-243.248\"/>\r\n<text text-anchor=\"middle\" x=\"527.48\" y=\"-243.548\" font-family=\"Times New Roman,serif\" font-size=\"14.00\">&#39;&#39; </text>\r\n</g>\r\n<!-- St7&#45;&gt;St8 -->\r\n<g id=\"edge11\" class=\"edge\"><title>St7&#45;&gt;St8</title>\r\n<path fill=\"none\" stroke=\"black\" d=\"M321.863,-239.748C332.483,-239.748 345.412,-239.748 357.093,-239.748\"/>\r\n<polygon fill=\"black\" stroke=\"black\" points=\"357.368,-243.248 367.368,-239.748 357.368,-236.248 357.368,-243.248\"/>\r\n<text text-anchor=\"middle\" x=\"344.488\" y=\"-243.548\" font-family=\"Times New Roman,serif\" font-size=\"14.00\">&#39;&#39; </text>\r\n</g>\r\n<!-- St4 -->\r\n<g id=\"node9\" class=\"node\"><title>St4</title>\r\n<ellipse fill=\"none\" stroke=\"black\" cx=\"298.74\" cy=\"-22.748\" rx=\"22.9987\" ry=\"22.9987\"/>\r\n<text text-anchor=\"middle\" x=\"298.74\" y=\"-19.048\" font-family=\"Times New Roman,serif\" font-size=\"14.00\">St4</text>\r\n</g>\r\n<!-- St4&#45;&gt;St5 -->\r\n<g id=\"edge7\" class=\"edge\"><title>St4&#45;&gt;St5</title>\r\n<path fill=\"none\" stroke=\"black\" d=\"M277.109,-14.8774C252.833,-7.00037 212.087,1.7803 182.496,-14.748 152.632,-31.4288 134.305,-67.2768 124.369,-93.5331\"/>\r\n<polygon fill=\"black\" stroke=\"black\" points=\"121.032,-92.4719 120.965,-103.067 127.624,-94.8258 121.032,-92.4719\"/>\r\n<text text-anchor=\"middle\" x=\"205.244\" y=\"-18.548\" font-family=\"Times New Roman,serif\" font-size=\"14.00\">&#39;&#39; </text>\r\n</g>\r\n<!-- St3&#45;&gt;St4 -->\r\n<g id=\"edge6\" class=\"edge\"><title>St3&#45;&gt;St4</title>\r\n<path fill=\"none\" stroke=\"black\" d=\"M226.55,-53.0926C238.751,-47.8919 254.492,-41.1823 268.069,-35.3952\"/>\r\n<polygon fill=\"black\" stroke=\"black\" points=\"269.664,-38.5201 277.491,-31.3792 266.919,-32.0806 269.664,-38.5201\"/>\r\n<text text-anchor=\"middle\" x=\"251.992\" y=\"-48.548\" font-family=\"Times New Roman,serif\" font-size=\"14.00\">b </text>\r\n</g>\r\n<!-- St1&#45;&gt;St2 -->\r\n<g id=\"edge5\" class=\"edge\"><title>St1&#45;&gt;St2</title>\r\n<path fill=\"none\" stroke=\"black\" d=\"M227.006,-132.236C238.938,-136.54 254.142,-142.023 267.394,-146.803\"/>\r\n<polygon fill=\"black\" stroke=\"black\" points=\"266.466,-150.189 277.06,-150.289 268.841,-143.604 266.466,-150.189\"/>\r\n<text text-anchor=\"middle\" x=\"251.992\" y=\"-146.548\" font-family=\"Times New Roman,serif\" font-size=\"14.00\">a </text>\r\n</g>\r\n</g>\r\n</svg>\r\n"
     },
     "metadata": {},
     "execution_count": 15
    }
   ],
   "source": [
    "dotObj_nfa(N3)"
   ]
  },
  {
   "source": [
    "## Get the diferences between $N1$ $N2$ & $N3$:"
   ],
   "cell_type": "markdown",
   "metadata": {}
  },
  {
   "source": [
    "### Compare $N1$ and $N2$:"
   ],
   "cell_type": "markdown",
   "metadata": {}
  },
  {
   "cell_type": "code",
   "execution_count": 16,
   "metadata": {},
   "outputs": [],
   "source": [
    "dfa_N1minusN2, dfa_N2minusN1 = my_diff(N1, N2)"
   ]
  },
  {
   "cell_type": "code",
   "execution_count": 17,
   "metadata": {},
   "outputs": [
    {
     "output_type": "execute_result",
     "data": {
      "text/plain": "<graphviz.dot.Digraph at 0x26b556e7f70>",
      "image/svg+xml": "<?xml version=\"1.0\" encoding=\"UTF-8\" standalone=\"no\"?>\r\n<!DOCTYPE svg PUBLIC \"-//W3C//DTD SVG 1.1//EN\"\r\n \"http://www.w3.org/Graphics/SVG/1.1/DTD/svg11.dtd\">\r\n<!-- Generated by graphviz version 2.38.0 (20140413.2041)\r\n -->\r\n<!-- Title: %3 Pages: 1 -->\r\n<svg width=\"152pt\" height=\"44pt\"\r\n viewBox=\"0.00 0.00 152.00 44.00\" xmlns=\"http://www.w3.org/2000/svg\" xmlns:xlink=\"http://www.w3.org/1999/xlink\">\r\n<g id=\"graph0\" class=\"graph\" transform=\"scale(1 1) rotate(0) translate(4 40)\">\r\n<title>%3</title>\r\n<polygon fill=\"white\" stroke=\"none\" points=\"-4,4 -4,-40 148,-40 148,4 -4,4\"/>\r\n<!-- EMPTY -->\r\n<g id=\"node1\" class=\"node\"><title>EMPTY</title>\r\n</g>\r\n<!-- BH -->\r\n<g id=\"node2\" class=\"node\"><title>BH</title>\r\n<ellipse fill=\"none\" stroke=\"black\" cx=\"117\" cy=\"-18\" rx=\"27\" ry=\"18\"/>\r\n<text text-anchor=\"middle\" x=\"117\" y=\"-14.3\" font-family=\"Times New Roman,serif\" font-size=\"14.00\">BH</text>\r\n</g>\r\n<!-- EMPTY&#45;&gt;BH -->\r\n<g id=\"edge1\" class=\"edge\"><title>EMPTY&#45;&gt;BH</title>\r\n<path fill=\"none\" stroke=\"black\" d=\"M54.4029,-18C62.3932,-18 71.3106,-18 79.8241,-18\"/>\r\n<polygon fill=\"black\" stroke=\"black\" points=\"79.919,-21.5001 89.919,-18 79.919,-14.5001 79.919,-21.5001\"/>\r\n</g>\r\n</g>\r\n</svg>\r\n"
     },
     "metadata": {},
     "execution_count": 17
    }
   ],
   "source": [
    "dotObj_dfa(dfa_N1minusN2)"
   ]
  },
  {
   "cell_type": "code",
   "execution_count": 18,
   "metadata": {},
   "outputs": [
    {
     "output_type": "execute_result",
     "data": {
      "text/plain": "<graphviz.dot.Digraph at 0x26b556e7c10>",
      "image/svg+xml": "<?xml version=\"1.0\" encoding=\"UTF-8\" standalone=\"no\"?>\r\n<!DOCTYPE svg PUBLIC \"-//W3C//DTD SVG 1.1//EN\"\r\n \"http://www.w3.org/Graphics/SVG/1.1/DTD/svg11.dtd\">\r\n<!-- Generated by graphviz version 2.38.0 (20140413.2041)\r\n -->\r\n<!-- Title: %3 Pages: 1 -->\r\n<svg width=\"439pt\" height=\"94pt\"\r\n viewBox=\"0.00 0.00 438.98 94.50\" xmlns=\"http://www.w3.org/2000/svg\" xmlns:xlink=\"http://www.w3.org/1999/xlink\">\r\n<g id=\"graph0\" class=\"graph\" transform=\"scale(1 1) rotate(0) translate(4 90.496)\">\r\n<title>%3</title>\r\n<polygon fill=\"white\" stroke=\"none\" points=\"-4,4 -4,-90.496 434.984,-90.496 434.984,4 -4,4\"/>\r\n<!-- EMPTY -->\r\n<g id=\"node1\" class=\"node\"><title>EMPTY</title>\r\n</g>\r\n<!-- St4 -->\r\n<g id=\"node2\" class=\"node\"><title>St4</title>\r\n<ellipse fill=\"none\" stroke=\"black\" cx=\"113.748\" cy=\"-26.748\" rx=\"22.9987\" ry=\"22.9987\"/>\r\n<text text-anchor=\"middle\" x=\"113.748\" y=\"-23.048\" font-family=\"Times New Roman,serif\" font-size=\"14.00\">St4</text>\r\n</g>\r\n<!-- EMPTY&#45;&gt;St4 -->\r\n<g id=\"edge1\" class=\"edge\"><title>EMPTY&#45;&gt;St4</title>\r\n<path fill=\"none\" stroke=\"black\" d=\"M54.3502,-26.748C62.71,-26.748 72.0455,-26.748 80.757,-26.748\"/>\r\n<polygon fill=\"black\" stroke=\"black\" points=\"80.9663,-30.2481 90.9663,-26.748 80.9662,-23.2481 80.9663,-30.2481\"/>\r\n</g>\r\n<!-- St4&#45;&gt;St4 -->\r\n<g id=\"edge2\" class=\"edge\"><title>St4&#45;&gt;St4</title>\r\n<path fill=\"none\" stroke=\"black\" d=\"M106.396,-48.5475C105.594,-58.6603 108.045,-67.496 113.748,-67.496 117.402,-67.496 119.72,-63.8698 120.704,-58.6047\"/>\r\n<polygon fill=\"black\" stroke=\"black\" points=\"124.204,-58.6774 121.1,-48.5475 117.209,-58.4022 124.204,-58.6774\"/>\r\n<text text-anchor=\"middle\" x=\"113.748\" y=\"-71.296\" font-family=\"Times New Roman,serif\" font-size=\"14.00\">a </text>\r\n</g>\r\n<!-- St3 -->\r\n<g id=\"node3\" class=\"node\"><title>St3</title>\r\n<ellipse fill=\"none\" stroke=\"black\" cx=\"207.244\" cy=\"-26.748\" rx=\"22.9987\" ry=\"22.9987\"/>\r\n<text text-anchor=\"middle\" x=\"207.244\" y=\"-23.048\" font-family=\"Times New Roman,serif\" font-size=\"14.00\">St3</text>\r\n</g>\r\n<!-- St4&#45;&gt;St3 -->\r\n<g id=\"edge3\" class=\"edge\"><title>St4&#45;&gt;St3</title>\r\n<path fill=\"none\" stroke=\"black\" d=\"M136.897,-26.748C148.023,-26.748 161.714,-26.748 173.983,-26.748\"/>\r\n<polygon fill=\"black\" stroke=\"black\" points=\"174.299,-30.2481 184.299,-26.748 174.299,-23.2481 174.299,-30.2481\"/>\r\n<text text-anchor=\"middle\" x=\"160.496\" y=\"-30.548\" font-family=\"Times New Roman,serif\" font-size=\"14.00\">b </text>\r\n</g>\r\n<!-- St3&#45;&gt;St3 -->\r\n<g id=\"edge5\" class=\"edge\"><title>St3&#45;&gt;St3</title>\r\n<path fill=\"none\" stroke=\"black\" d=\"M199.195,-48.1313C198.202,-58.4165 200.885,-67.496 207.244,-67.496 211.318,-67.496 213.883,-63.7698 214.939,-58.3874\"/>\r\n<polygon fill=\"black\" stroke=\"black\" points=\"218.446,-58.2458 215.293,-48.1313 211.45,-58.0048 218.446,-58.2458\"/>\r\n<text text-anchor=\"middle\" x=\"207.244\" y=\"-71.296\" font-family=\"Times New Roman,serif\" font-size=\"14.00\">b </text>\r\n</g>\r\n<!-- St2 -->\r\n<g id=\"node5\" class=\"node\"><title>St2</title>\r\n<ellipse fill=\"none\" stroke=\"black\" cx=\"302.74\" cy=\"-26.748\" rx=\"22.9609\" ry=\"22.9609\"/>\r\n<ellipse fill=\"none\" stroke=\"black\" cx=\"302.74\" cy=\"-26.748\" rx=\"26.9983\" ry=\"26.9983\"/>\r\n<text text-anchor=\"middle\" x=\"302.74\" y=\"-23.048\" font-family=\"Times New Roman,serif\" font-size=\"14.00\">St2</text>\r\n</g>\r\n<!-- St3&#45;&gt;St2 -->\r\n<g id=\"edge4\" class=\"edge\"><title>St3&#45;&gt;St2</title>\r\n<path fill=\"none\" stroke=\"black\" d=\"M230.401,-26.748C240.926,-26.748 253.776,-26.748 265.655,-26.748\"/>\r\n<polygon fill=\"black\" stroke=\"black\" points=\"265.762,-30.2481 275.762,-26.748 265.762,-23.2481 265.762,-30.2481\"/>\r\n<text text-anchor=\"middle\" x=\"252.992\" y=\"-30.548\" font-family=\"Times New Roman,serif\" font-size=\"14.00\">a </text>\r\n</g>\r\n<!-- St1 -->\r\n<g id=\"node4\" class=\"node\"><title>St1</title>\r\n<ellipse fill=\"none\" stroke=\"black\" cx=\"404.236\" cy=\"-26.748\" rx=\"22.9609\" ry=\"22.9609\"/>\r\n<ellipse fill=\"none\" stroke=\"black\" cx=\"404.236\" cy=\"-26.748\" rx=\"26.9983\" ry=\"26.9983\"/>\r\n<text text-anchor=\"middle\" x=\"404.236\" y=\"-23.048\" font-family=\"Times New Roman,serif\" font-size=\"14.00\">St1</text>\r\n</g>\r\n<!-- St1&#45;&gt;St1 -->\r\n<g id=\"edge8\" class=\"edge\"><title>St1&#45;&gt;St1</title>\r\n<path fill=\"none\" stroke=\"black\" d=\"M394.943,-52.049C394.302,-62.574 397.4,-71.496 404.236,-71.496 408.722,-71.496 411.598,-67.6536 412.864,-62.0374\"/>\r\n<polygon fill=\"black\" stroke=\"black\" points=\"416.357,-62.2592 413.528,-52.049 409.372,-61.7946 416.357,-62.2592\"/>\r\n<text text-anchor=\"middle\" x=\"404.236\" y=\"-75.296\" font-family=\"Times New Roman,serif\" font-size=\"14.00\">b </text>\r\n</g>\r\n<!-- St1&#45;&gt;St2 -->\r\n<g id=\"edge7\" class=\"edge\"><title>St1&#45;&gt;St2</title>\r\n<path fill=\"none\" stroke=\"black\" d=\"M380.806,-13.2646C370.773,-8.76373 358.701,-5.41823 347.488,-7.74798 343.784,-8.5176 340.008,-9.61768 336.305,-10.9057\"/>\r\n<polygon fill=\"black\" stroke=\"black\" points=\"334.794,-7.73892 326.77,-14.6565 337.357,-14.2531 334.794,-7.73892\"/>\r\n<text text-anchor=\"middle\" x=\"353.488\" y=\"-11.548\" font-family=\"Times New Roman,serif\" font-size=\"14.00\">a </text>\r\n</g>\r\n<!-- St2&#45;&gt;St1 -->\r\n<g id=\"edge6\" class=\"edge\"><title>St2&#45;&gt;St1</title>\r\n<path fill=\"none\" stroke=\"black\" d=\"M329.622,-26.748C341.137,-26.748 354.889,-26.748 367.373,-26.748\"/>\r\n<polygon fill=\"black\" stroke=\"black\" points=\"367.484,-30.2481 377.484,-26.748 367.484,-23.2481 367.484,-30.2481\"/>\r\n<text text-anchor=\"middle\" x=\"353.488\" y=\"-30.548\" font-family=\"Times New Roman,serif\" font-size=\"14.00\">b </text>\r\n</g>\r\n</g>\r\n</svg>\r\n"
     },
     "metadata": {},
     "execution_count": 18
    }
   ],
   "source": [
    "dotObj_dfa(dfa_N2minusN1)"
   ]
  },
  {
   "source": [
    "#### **Thoughs on Comparison:**\n",
    "$N1$ contains nothing that $N2$ does not contain.\n",
    "\n",
    "$N2$ contains a language $RE($`a*bb*a(bb*a)*`$)$ which $N1$ does not.\n",
    "\n",
    "Therefore It looks like $N1\\subseteq N2$"
   ],
   "cell_type": "markdown",
   "metadata": {}
  },
  {
   "source": [
    "### Compare $N1$ and $N3$:"
   ],
   "cell_type": "markdown",
   "metadata": {}
  },
  {
   "cell_type": "code",
   "execution_count": 19,
   "metadata": {},
   "outputs": [],
   "source": [
    "dfa_N1minusN3, dfa_N3minusN1 = my_diff(N1, N3)"
   ]
  },
  {
   "cell_type": "code",
   "execution_count": 20,
   "metadata": {},
   "outputs": [
    {
     "output_type": "execute_result",
     "data": {
      "text/plain": "<graphviz.dot.Digraph at 0x26b558507c0>",
      "image/svg+xml": "<?xml version=\"1.0\" encoding=\"UTF-8\" standalone=\"no\"?>\r\n<!DOCTYPE svg PUBLIC \"-//W3C//DTD SVG 1.1//EN\"\r\n \"http://www.w3.org/Graphics/SVG/1.1/DTD/svg11.dtd\">\r\n<!-- Generated by graphviz version 2.38.0 (20140413.2041)\r\n -->\r\n<!-- Title: %3 Pages: 1 -->\r\n<svg width=\"725pt\" height=\"147pt\"\r\n viewBox=\"0.00 0.00 725.47 146.75\" xmlns=\"http://www.w3.org/2000/svg\" xmlns:xlink=\"http://www.w3.org/1999/xlink\">\r\n<g id=\"graph0\" class=\"graph\" transform=\"scale(1 1) rotate(0) translate(4 142.748)\">\r\n<title>%3</title>\r\n<polygon fill=\"white\" stroke=\"none\" points=\"-4,4 -4,-142.748 721.472,-142.748 721.472,4 -4,4\"/>\r\n<!-- EMPTY -->\r\n<g id=\"node1\" class=\"node\"><title>EMPTY</title>\r\n</g>\r\n<!-- St6 -->\r\n<g id=\"node3\" class=\"node\"><title>St6</title>\r\n<ellipse fill=\"none\" stroke=\"black\" cx=\"113.748\" cy=\"-48.748\" rx=\"22.9987\" ry=\"22.9987\"/>\r\n<text text-anchor=\"middle\" x=\"113.748\" y=\"-45.048\" font-family=\"Times New Roman,serif\" font-size=\"14.00\">St6</text>\r\n</g>\r\n<!-- EMPTY&#45;&gt;St6 -->\r\n<g id=\"edge1\" class=\"edge\"><title>EMPTY&#45;&gt;St6</title>\r\n<path fill=\"none\" stroke=\"black\" d=\"M54.3502,-48.748C62.71,-48.748 72.0455,-48.748 80.757,-48.748\"/>\r\n<polygon fill=\"black\" stroke=\"black\" points=\"80.9663,-52.2481 90.9663,-48.748 80.9662,-45.2481 80.9663,-52.2481\"/>\r\n</g>\r\n<!-- St4 -->\r\n<g id=\"node2\" class=\"node\"><title>St4</title>\r\n<ellipse fill=\"none\" stroke=\"black\" cx=\"300.74\" cy=\"-48.748\" rx=\"22.9987\" ry=\"22.9987\"/>\r\n<text text-anchor=\"middle\" x=\"300.74\" y=\"-45.048\" font-family=\"Times New Roman,serif\" font-size=\"14.00\">St4</text>\r\n</g>\r\n<!-- St5 -->\r\n<g id=\"node4\" class=\"node\"><title>St5</title>\r\n<ellipse fill=\"none\" stroke=\"black\" cx=\"207.244\" cy=\"-48.748\" rx=\"22.9987\" ry=\"22.9987\"/>\r\n<text text-anchor=\"middle\" x=\"207.244\" y=\"-45.048\" font-family=\"Times New Roman,serif\" font-size=\"14.00\">St5</text>\r\n</g>\r\n<!-- St4&#45;&gt;St5 -->\r\n<g id=\"edge7\" class=\"edge\"><title>St4&#45;&gt;St5</title>\r\n<path fill=\"none\" stroke=\"black\" d=\"M281.408,-36.4585C271.665,-31.3604 259.379,-27.1663 247.992,-29.748 244.267,-30.5925 240.483,-31.8305 236.804,-33.2764\"/>\r\n<polygon fill=\"black\" stroke=\"black\" points=\"235.132,-30.1899 227.427,-37.4616 237.985,-36.5821 235.132,-30.1899\"/>\r\n<text text-anchor=\"middle\" x=\"253.992\" y=\"-33.548\" font-family=\"Times New Roman,serif\" font-size=\"14.00\">b </text>\r\n</g>\r\n<!-- St2 -->\r\n<g id=\"node5\" class=\"node\"><title>St2</title>\r\n<ellipse fill=\"none\" stroke=\"black\" cx=\"392.236\" cy=\"-48.748\" rx=\"22.9987\" ry=\"22.9987\"/>\r\n<text text-anchor=\"middle\" x=\"392.236\" y=\"-45.048\" font-family=\"Times New Roman,serif\" font-size=\"14.00\">St2</text>\r\n</g>\r\n<!-- St4&#45;&gt;St2 -->\r\n<g id=\"edge6\" class=\"edge\"><title>St4&#45;&gt;St2</title>\r\n<path fill=\"none\" stroke=\"black\" d=\"M323.863,-48.748C334.483,-48.748 347.412,-48.748 359.093,-48.748\"/>\r\n<polygon fill=\"black\" stroke=\"black\" points=\"359.368,-52.2481 369.368,-48.748 359.368,-45.2481 359.368,-52.2481\"/>\r\n<text text-anchor=\"middle\" x=\"346.488\" y=\"-52.548\" font-family=\"Times New Roman,serif\" font-size=\"14.00\">a </text>\r\n</g>\r\n<!-- St6&#45;&gt;St6 -->\r\n<g id=\"edge2\" class=\"edge\"><title>St6&#45;&gt;St6</title>\r\n<path fill=\"none\" stroke=\"black\" d=\"M106.396,-70.5475C105.594,-80.6603 108.045,-89.496 113.748,-89.496 117.402,-89.496 119.72,-85.8698 120.704,-80.6047\"/>\r\n<polygon fill=\"black\" stroke=\"black\" points=\"124.204,-80.6774 121.1,-70.5475 117.209,-80.4022 124.204,-80.6774\"/>\r\n<text text-anchor=\"middle\" x=\"113.748\" y=\"-93.296\" font-family=\"Times New Roman,serif\" font-size=\"14.00\">a </text>\r\n</g>\r\n<!-- St6&#45;&gt;St5 -->\r\n<g id=\"edge3\" class=\"edge\"><title>St6&#45;&gt;St5</title>\r\n<path fill=\"none\" stroke=\"black\" d=\"M136.897,-48.748C148.023,-48.748 161.714,-48.748 173.983,-48.748\"/>\r\n<polygon fill=\"black\" stroke=\"black\" points=\"174.299,-52.2481 184.299,-48.748 174.299,-45.2481 174.299,-52.2481\"/>\r\n<text text-anchor=\"middle\" x=\"160.496\" y=\"-52.548\" font-family=\"Times New Roman,serif\" font-size=\"14.00\">b </text>\r\n</g>\r\n<!-- St5&#45;&gt;St4 -->\r\n<g id=\"edge4\" class=\"edge\"><title>St5&#45;&gt;St4</title>\r\n<path fill=\"none\" stroke=\"black\" d=\"M230.393,-48.748C241.519,-48.748 255.21,-48.748 267.479,-48.748\"/>\r\n<polygon fill=\"black\" stroke=\"black\" points=\"267.795,-52.2481 277.795,-48.748 267.795,-45.2481 267.795,-52.2481\"/>\r\n<text text-anchor=\"middle\" x=\"253.992\" y=\"-52.548\" font-family=\"Times New Roman,serif\" font-size=\"14.00\">a </text>\r\n</g>\r\n<!-- St5&#45;&gt;St5 -->\r\n<g id=\"edge5\" class=\"edge\"><title>St5&#45;&gt;St5</title>\r\n<path fill=\"none\" stroke=\"black\" d=\"M198.83,-70.1313C197.791,-80.4165 200.596,-89.496 207.244,-89.496 211.503,-89.496 214.185,-85.7698 215.289,-80.3874\"/>\r\n<polygon fill=\"black\" stroke=\"black\" points=\"218.796,-80.2507 215.658,-70.1313 211.801,-79.9988 218.796,-80.2507\"/>\r\n<text text-anchor=\"middle\" x=\"207.244\" y=\"-93.296\" font-family=\"Times New Roman,serif\" font-size=\"14.00\">b </text>\r\n</g>\r\n<!-- St3 -->\r\n<g id=\"node6\" class=\"node\"><title>St3</title>\r\n<ellipse fill=\"none\" stroke=\"black\" cx=\"589.228\" cy=\"-60.748\" rx=\"22.9609\" ry=\"22.9609\"/>\r\n<ellipse fill=\"none\" stroke=\"black\" cx=\"589.228\" cy=\"-60.748\" rx=\"26.9983\" ry=\"26.9983\"/>\r\n<text text-anchor=\"middle\" x=\"589.228\" y=\"-57.048\" font-family=\"Times New Roman,serif\" font-size=\"14.00\">St3</text>\r\n</g>\r\n<!-- St2&#45;&gt;St3 -->\r\n<g id=\"edge9\" class=\"edge\"><title>St2&#45;&gt;St3</title>\r\n<path fill=\"none\" stroke=\"black\" d=\"M405.346,-67.7925C417.214,-84.5089 436.989,-107.68 460.984,-117.748 482.908,-126.947 491.979,-125.43 514.48,-117.748 532.488,-111.6 549.513,-99.0728 562.659,-87.3245\"/>\r\n<polygon fill=\"black\" stroke=\"black\" points=\"565.396,-89.5571 570.316,-80.1741 560.619,-84.4408 565.396,-89.5571\"/>\r\n<text text-anchor=\"middle\" x=\"487.732\" y=\"-127.548\" font-family=\"Times New Roman,serif\" font-size=\"14.00\">b </text>\r\n</g>\r\n<!-- St0 -->\r\n<g id=\"node8\" class=\"node\"><title>St0</title>\r\n<ellipse fill=\"none\" stroke=\"black\" cx=\"487.732\" cy=\"-48.748\" rx=\"22.9609\" ry=\"22.9609\"/>\r\n<ellipse fill=\"none\" stroke=\"black\" cx=\"487.732\" cy=\"-48.748\" rx=\"26.9983\" ry=\"26.9983\"/>\r\n<text text-anchor=\"middle\" x=\"487.732\" y=\"-45.048\" font-family=\"Times New Roman,serif\" font-size=\"14.00\">St0</text>\r\n</g>\r\n<!-- St2&#45;&gt;St0 -->\r\n<g id=\"edge8\" class=\"edge\"><title>St2&#45;&gt;St0</title>\r\n<path fill=\"none\" stroke=\"black\" d=\"M415.393,-48.748C425.918,-48.748 438.768,-48.748 450.647,-48.748\"/>\r\n<polygon fill=\"black\" stroke=\"black\" points=\"450.754,-52.2481 460.754,-48.748 450.754,-45.2481 450.754,-52.2481\"/>\r\n<text text-anchor=\"middle\" x=\"437.984\" y=\"-52.548\" font-family=\"Times New Roman,serif\" font-size=\"14.00\">a </text>\r\n</g>\r\n<!-- St3&#45;&gt;St3 -->\r\n<g id=\"edge13\" class=\"edge\"><title>St3&#45;&gt;St3</title>\r\n<path fill=\"none\" stroke=\"black\" d=\"M579.935,-86.049C579.294,-96.574 582.392,-105.496 589.228,-105.496 593.714,-105.496 596.59,-101.654 597.856,-96.0374\"/>\r\n<polygon fill=\"black\" stroke=\"black\" points=\"601.349,-96.2592 598.52,-86.049 594.364,-95.7946 601.349,-96.2592\"/>\r\n<text text-anchor=\"middle\" x=\"589.228\" y=\"-109.296\" font-family=\"Times New Roman,serif\" font-size=\"14.00\">b </text>\r\n</g>\r\n<!-- St1 -->\r\n<g id=\"node7\" class=\"node\"><title>St1</title>\r\n<ellipse fill=\"none\" stroke=\"black\" cx=\"690.724\" cy=\"-26.748\" rx=\"22.9609\" ry=\"22.9609\"/>\r\n<ellipse fill=\"none\" stroke=\"black\" cx=\"690.724\" cy=\"-26.748\" rx=\"26.9983\" ry=\"26.9983\"/>\r\n<text text-anchor=\"middle\" x=\"690.724\" y=\"-23.048\" font-family=\"Times New Roman,serif\" font-size=\"14.00\">St1</text>\r\n</g>\r\n<!-- St3&#45;&gt;St1 -->\r\n<g id=\"edge12\" class=\"edge\"><title>St3&#45;&gt;St1</title>\r\n<path fill=\"none\" stroke=\"black\" d=\"M614.994,-52.9756C624.685,-49.8758 635.878,-46.2233 645.976,-42.748 649.111,-41.6689 652.364,-40.5251 655.617,-39.365\"/>\r\n<polygon fill=\"black\" stroke=\"black\" points=\"657.04,-42.5725 665.256,-35.8839 654.662,-35.9886 657.04,-42.5725\"/>\r\n<text text-anchor=\"middle\" x=\"639.976\" y=\"-50.548\" font-family=\"Times New Roman,serif\" font-size=\"14.00\">a </text>\r\n</g>\r\n<!-- St1&#45;&gt;St2 -->\r\n<g id=\"edge14\" class=\"edge\"><title>St1&#45;&gt;St2</title>\r\n<path fill=\"none\" stroke=\"black\" d=\"M664.563,-20.3244C621.952,-10.5206 533.176,5.24177 460.984,-12.748 446.565,-16.3409 431.848,-23.6392 419.83,-30.731\"/>\r\n<polygon fill=\"black\" stroke=\"black\" points=\"417.886,-27.8177 411.215,-36.0491 421.563,-33.7741 417.886,-27.8177\"/>\r\n<text text-anchor=\"middle\" x=\"538.48\" y=\"-8.54798\" font-family=\"Times New Roman,serif\" font-size=\"14.00\">a </text>\r\n</g>\r\n<!-- St1&#45;&gt;St3 -->\r\n<g id=\"edge15\" class=\"edge\"><title>St1&#45;&gt;St3</title>\r\n<path fill=\"none\" stroke=\"black\" d=\"M664.392,-21.1956C654.628,-20.1245 643.532,-20.2486 633.976,-23.748 627.449,-26.138 621.226,-29.9798 615.627,-34.3029\"/>\r\n<polygon fill=\"black\" stroke=\"black\" points=\"613.258,-31.7231 607.908,-40.868 617.793,-37.0554 613.258,-31.7231\"/>\r\n<text text-anchor=\"middle\" x=\"639.976\" y=\"-27.548\" font-family=\"Times New Roman,serif\" font-size=\"14.00\">b </text>\r\n</g>\r\n<!-- St0&#45;&gt;St3 -->\r\n<g id=\"edge11\" class=\"edge\"><title>St0&#45;&gt;St3</title>\r\n<path fill=\"none\" stroke=\"black\" d=\"M514.355,-51.8383C525.87,-53.2272 539.661,-54.8905 552.193,-56.4019\"/>\r\n<polygon fill=\"black\" stroke=\"black\" points=\"551.999,-59.9038 562.346,-57.6264 552.837,-52.9541 551.999,-59.9038\"/>\r\n<text text-anchor=\"middle\" x=\"538.48\" y=\"-59.548\" font-family=\"Times New Roman,serif\" font-size=\"14.00\">b </text>\r\n</g>\r\n<!-- St0&#45;&gt;St0 -->\r\n<g id=\"edge10\" class=\"edge\"><title>St0&#45;&gt;St0</title>\r\n<path fill=\"none\" stroke=\"black\" d=\"M478.811,-74.049C478.196,-84.574 481.169,-93.496 487.732,-93.496 492.038,-93.496 494.8,-89.6536 496.015,-84.0374\"/>\r\n<polygon fill=\"black\" stroke=\"black\" points=\"499.508,-84.2517 496.653,-74.049 492.523,-83.8056 499.508,-84.2517\"/>\r\n<text text-anchor=\"middle\" x=\"487.732\" y=\"-97.296\" font-family=\"Times New Roman,serif\" font-size=\"14.00\">a </text>\r\n</g>\r\n</g>\r\n</svg>\r\n"
     },
     "metadata": {},
     "execution_count": 20
    }
   ],
   "source": [
    "dotObj_dfa(dfa_N1minusN3)"
   ]
  },
  {
   "cell_type": "code",
   "execution_count": 21,
   "metadata": {},
   "outputs": [
    {
     "output_type": "execute_result",
     "data": {
      "text/plain": "<graphviz.dot.Digraph at 0x26b55850a90>",
      "image/svg+xml": "<?xml version=\"1.0\" encoding=\"UTF-8\" standalone=\"no\"?>\r\n<!DOCTYPE svg PUBLIC \"-//W3C//DTD SVG 1.1//EN\"\r\n \"http://www.w3.org/Graphics/SVG/1.1/DTD/svg11.dtd\">\r\n<!-- Generated by graphviz version 2.38.0 (20140413.2041)\r\n -->\r\n<!-- Title: %3 Pages: 1 -->\r\n<svg width=\"152pt\" height=\"44pt\"\r\n viewBox=\"0.00 0.00 152.00 44.00\" xmlns=\"http://www.w3.org/2000/svg\" xmlns:xlink=\"http://www.w3.org/1999/xlink\">\r\n<g id=\"graph0\" class=\"graph\" transform=\"scale(1 1) rotate(0) translate(4 40)\">\r\n<title>%3</title>\r\n<polygon fill=\"white\" stroke=\"none\" points=\"-4,4 -4,-40 148,-40 148,4 -4,4\"/>\r\n<!-- EMPTY -->\r\n<g id=\"node1\" class=\"node\"><title>EMPTY</title>\r\n</g>\r\n<!-- BH -->\r\n<g id=\"node2\" class=\"node\"><title>BH</title>\r\n<ellipse fill=\"none\" stroke=\"black\" cx=\"117\" cy=\"-18\" rx=\"27\" ry=\"18\"/>\r\n<text text-anchor=\"middle\" x=\"117\" y=\"-14.3\" font-family=\"Times New Roman,serif\" font-size=\"14.00\">BH</text>\r\n</g>\r\n<!-- EMPTY&#45;&gt;BH -->\r\n<g id=\"edge1\" class=\"edge\"><title>EMPTY&#45;&gt;BH</title>\r\n<path fill=\"none\" stroke=\"black\" d=\"M54.4029,-18C62.3932,-18 71.3106,-18 79.8241,-18\"/>\r\n<polygon fill=\"black\" stroke=\"black\" points=\"79.919,-21.5001 89.919,-18 79.919,-14.5001 79.919,-21.5001\"/>\r\n</g>\r\n</g>\r\n</svg>\r\n"
     },
     "metadata": {},
     "execution_count": 21
    }
   ],
   "source": [
    "dotObj_dfa(dfa_N3minusN1)"
   ]
  },
  {
   "source": [
    "#### **Thoughs on Comparison:**\n",
    "$N1$ contains nothing that $N3$ does not contain.\n",
    "\n",
    "$N3$ contains a whole lot that $N1$ does not.\n",
    "\n",
    "Therefore It looks like $N1\\subseteq N3$"
   ],
   "cell_type": "markdown",
   "metadata": {}
  },
  {
   "source": [
    "### Compare $N2$ and $N3$:"
   ],
   "cell_type": "markdown",
   "metadata": {}
  },
  {
   "cell_type": "code",
   "execution_count": 22,
   "metadata": {},
   "outputs": [],
   "source": [
    "dfa_N2minusN3, dfa_N3minusN2 = my_diff(N2, N3)"
   ]
  },
  {
   "cell_type": "code",
   "execution_count": 23,
   "metadata": {},
   "outputs": [
    {
     "output_type": "execute_result",
     "data": {
      "text/plain": "<graphviz.dot.Digraph at 0x26b55850f10>",
      "image/svg+xml": "<?xml version=\"1.0\" encoding=\"UTF-8\" standalone=\"no\"?>\r\n<!DOCTYPE svg PUBLIC \"-//W3C//DTD SVG 1.1//EN\"\r\n \"http://www.w3.org/Graphics/SVG/1.1/DTD/svg11.dtd\">\r\n<!-- Generated by graphviz version 2.38.0 (20140413.2041)\r\n -->\r\n<!-- Title: %3 Pages: 1 -->\r\n<svg width=\"632pt\" height=\"229pt\"\r\n viewBox=\"0.00 0.00 631.98 229.50\" xmlns=\"http://www.w3.org/2000/svg\" xmlns:xlink=\"http://www.w3.org/1999/xlink\">\r\n<g id=\"graph0\" class=\"graph\" transform=\"scale(1 1) rotate(0) translate(4 225.496)\">\r\n<title>%3</title>\r\n<polygon fill=\"white\" stroke=\"none\" points=\"-4,4 -4,-225.496 627.976,-225.496 627.976,4 -4,4\"/>\r\n<!-- EMPTY -->\r\n<g id=\"node1\" class=\"node\"><title>EMPTY</title>\r\n</g>\r\n<!-- St5 -->\r\n<g id=\"node3\" class=\"node\"><title>St5</title>\r\n<ellipse fill=\"none\" stroke=\"black\" cx=\"113.748\" cy=\"-165.748\" rx=\"22.9987\" ry=\"22.9987\"/>\r\n<text text-anchor=\"middle\" x=\"113.748\" y=\"-162.048\" font-family=\"Times New Roman,serif\" font-size=\"14.00\">St5</text>\r\n</g>\r\n<!-- EMPTY&#45;&gt;St5 -->\r\n<g id=\"edge1\" class=\"edge\"><title>EMPTY&#45;&gt;St5</title>\r\n<path fill=\"none\" stroke=\"black\" d=\"M54.3502,-165.748C62.71,-165.748 72.0455,-165.748 80.757,-165.748\"/>\r\n<polygon fill=\"black\" stroke=\"black\" points=\"80.9663,-169.248 90.9663,-165.748 80.9662,-162.248 80.9663,-169.248\"/>\r\n</g>\r\n<!-- St4 -->\r\n<g id=\"node2\" class=\"node\"><title>St4</title>\r\n<ellipse fill=\"none\" stroke=\"black\" cx=\"207.244\" cy=\"-165.748\" rx=\"22.9987\" ry=\"22.9987\"/>\r\n<text text-anchor=\"middle\" x=\"207.244\" y=\"-162.048\" font-family=\"Times New Roman,serif\" font-size=\"14.00\">St4</text>\r\n</g>\r\n<!-- St4&#45;&gt;St4 -->\r\n<g id=\"edge5\" class=\"edge\"><title>St4&#45;&gt;St4</title>\r\n<path fill=\"none\" stroke=\"black\" d=\"M199.195,-187.131C198.202,-197.417 200.885,-206.496 207.244,-206.496 211.318,-206.496 213.883,-202.77 214.939,-197.387\"/>\r\n<polygon fill=\"black\" stroke=\"black\" points=\"218.446,-197.246 215.293,-187.131 211.45,-197.005 218.446,-197.246\"/>\r\n<text text-anchor=\"middle\" x=\"207.244\" y=\"-210.296\" font-family=\"Times New Roman,serif\" font-size=\"14.00\">b </text>\r\n</g>\r\n<!-- St1 -->\r\n<g id=\"node6\" class=\"node\"><title>St1</title>\r\n<ellipse fill=\"none\" stroke=\"black\" cx=\"302.74\" cy=\"-165.748\" rx=\"22.9609\" ry=\"22.9609\"/>\r\n<ellipse fill=\"none\" stroke=\"black\" cx=\"302.74\" cy=\"-165.748\" rx=\"26.9983\" ry=\"26.9983\"/>\r\n<text text-anchor=\"middle\" x=\"302.74\" y=\"-162.048\" font-family=\"Times New Roman,serif\" font-size=\"14.00\">St1</text>\r\n</g>\r\n<!-- St4&#45;&gt;St1 -->\r\n<g id=\"edge4\" class=\"edge\"><title>St4&#45;&gt;St1</title>\r\n<path fill=\"none\" stroke=\"black\" d=\"M230.401,-165.748C240.926,-165.748 253.776,-165.748 265.655,-165.748\"/>\r\n<polygon fill=\"black\" stroke=\"black\" points=\"265.762,-169.248 275.762,-165.748 265.762,-162.248 265.762,-169.248\"/>\r\n<text text-anchor=\"middle\" x=\"252.992\" y=\"-169.548\" font-family=\"Times New Roman,serif\" font-size=\"14.00\">a </text>\r\n</g>\r\n<!-- St5&#45;&gt;St4 -->\r\n<g id=\"edge3\" class=\"edge\"><title>St5&#45;&gt;St4</title>\r\n<path fill=\"none\" stroke=\"black\" d=\"M136.897,-165.748C148.023,-165.748 161.714,-165.748 173.983,-165.748\"/>\r\n<polygon fill=\"black\" stroke=\"black\" points=\"174.299,-169.248 184.299,-165.748 174.299,-162.248 174.299,-169.248\"/>\r\n<text text-anchor=\"middle\" x=\"160.496\" y=\"-169.548\" font-family=\"Times New Roman,serif\" font-size=\"14.00\">b </text>\r\n</g>\r\n<!-- St5&#45;&gt;St5 -->\r\n<g id=\"edge2\" class=\"edge\"><title>St5&#45;&gt;St5</title>\r\n<path fill=\"none\" stroke=\"black\" d=\"M106.396,-187.548C105.594,-197.66 108.045,-206.496 113.748,-206.496 117.402,-206.496 119.72,-202.87 120.704,-197.605\"/>\r\n<polygon fill=\"black\" stroke=\"black\" points=\"124.204,-197.677 121.1,-187.548 117.209,-197.402 124.204,-197.677\"/>\r\n<text text-anchor=\"middle\" x=\"113.748\" y=\"-210.296\" font-family=\"Times New Roman,serif\" font-size=\"14.00\">a </text>\r\n</g>\r\n<!-- St2 -->\r\n<g id=\"node4\" class=\"node\"><title>St2</title>\r\n<ellipse fill=\"none\" stroke=\"black\" cx=\"398.236\" cy=\"-114.748\" rx=\"22.9987\" ry=\"22.9987\"/>\r\n<text text-anchor=\"middle\" x=\"398.236\" y=\"-111.048\" font-family=\"Times New Roman,serif\" font-size=\"14.00\">St2</text>\r\n</g>\r\n<!-- St3 -->\r\n<g id=\"node5\" class=\"node\"><title>St3</title>\r\n<ellipse fill=\"none\" stroke=\"black\" cx=\"597.228\" cy=\"-143.748\" rx=\"22.9609\" ry=\"22.9609\"/>\r\n<ellipse fill=\"none\" stroke=\"black\" cx=\"597.228\" cy=\"-143.748\" rx=\"26.9983\" ry=\"26.9983\"/>\r\n<text text-anchor=\"middle\" x=\"597.228\" y=\"-140.048\" font-family=\"Times New Roman,serif\" font-size=\"14.00\">St3</text>\r\n</g>\r\n<!-- St2&#45;&gt;St3 -->\r\n<g id=\"edge9\" class=\"edge\"><title>St2&#45;&gt;St3</title>\r\n<path fill=\"none\" stroke=\"black\" d=\"M421.07,-117.962C454.798,-122.928 519.912,-132.513 560.548,-138.495\"/>\r\n<polygon fill=\"black\" stroke=\"black\" points=\"560.163,-141.976 570.566,-139.97 561.183,-135.051 560.163,-141.976\"/>\r\n<text text-anchor=\"middle\" x=\"495.732\" y=\"-136.548\" font-family=\"Times New Roman,serif\" font-size=\"14.00\">b </text>\r\n</g>\r\n<!-- St0 -->\r\n<g id=\"node7\" class=\"node\"><title>St0</title>\r\n<ellipse fill=\"none\" stroke=\"black\" cx=\"495.732\" cy=\"-26.748\" rx=\"22.9609\" ry=\"22.9609\"/>\r\n<ellipse fill=\"none\" stroke=\"black\" cx=\"495.732\" cy=\"-26.748\" rx=\"26.9983\" ry=\"26.9983\"/>\r\n<text text-anchor=\"middle\" x=\"495.732\" y=\"-23.048\" font-family=\"Times New Roman,serif\" font-size=\"14.00\">St0</text>\r\n</g>\r\n<!-- St2&#45;&gt;St0 -->\r\n<g id=\"edge8\" class=\"edge\"><title>St2&#45;&gt;St0</title>\r\n<path fill=\"none\" stroke=\"black\" d=\"M415.435,-99.82C429.833,-86.5525 451.158,-66.9018 468.068,-51.3191\"/>\r\n<polygon fill=\"black\" stroke=\"black\" points=\"470.504,-53.8337 475.486,-44.4833 465.76,-48.686 470.504,-53.8337\"/>\r\n<text text-anchor=\"middle\" x=\"444.984\" y=\"-80.548\" font-family=\"Times New Roman,serif\" font-size=\"14.00\">a </text>\r\n</g>\r\n<!-- St3&#45;&gt;St3 -->\r\n<g id=\"edge11\" class=\"edge\"><title>St3&#45;&gt;St3</title>\r\n<path fill=\"none\" stroke=\"black\" d=\"M587.935,-169.049C587.294,-179.574 590.392,-188.496 597.228,-188.496 601.714,-188.496 604.59,-184.654 605.856,-179.037\"/>\r\n<polygon fill=\"black\" stroke=\"black\" points=\"609.349,-179.259 606.52,-169.049 602.364,-178.795 609.349,-179.259\"/>\r\n<text text-anchor=\"middle\" x=\"597.228\" y=\"-192.296\" font-family=\"Times New Roman,serif\" font-size=\"14.00\">b </text>\r\n</g>\r\n<!-- St3&#45;&gt;St1 -->\r\n<g id=\"edge10\" class=\"edge\"><title>St3&#45;&gt;St1</title>\r\n<path fill=\"none\" stroke=\"black\" d=\"M570.838,-148.244C564.834,-149.187 558.443,-150.093 552.48,-150.748 477.118,-159.029 388.371,-163.002 339.881,-164.684\"/>\r\n<polygon fill=\"black\" stroke=\"black\" points=\"339.471,-161.196 329.593,-165.027 339.704,-168.192 339.471,-161.196\"/>\r\n<text text-anchor=\"middle\" x=\"444.984\" y=\"-164.548\" font-family=\"Times New Roman,serif\" font-size=\"14.00\">a </text>\r\n</g>\r\n<!-- St1&#45;&gt;St2 -->\r\n<g id=\"edge6\" class=\"edge\"><title>St1&#45;&gt;St2</title>\r\n<path fill=\"none\" stroke=\"black\" d=\"M325.098,-150.548C332.08,-145.864 339.974,-140.861 347.488,-136.748 353.721,-133.336 360.589,-130.028 367.178,-127.059\"/>\r\n<polygon fill=\"black\" stroke=\"black\" points=\"368.764,-130.186 376.529,-122.979 365.964,-123.771 368.764,-130.186\"/>\r\n<text text-anchor=\"middle\" x=\"352.488\" y=\"-140.548\" font-family=\"Times New Roman,serif\" font-size=\"14.00\">a </text>\r\n</g>\r\n<!-- St1&#45;&gt;St3 -->\r\n<g id=\"edge7\" class=\"edge\"><title>St1&#45;&gt;St3</title>\r\n<path fill=\"none\" stroke=\"black\" d=\"M327.959,-174.863C334.232,-176.845 341.038,-178.669 347.488,-179.748 437.346,-194.783 467.025,-211.341 552.48,-179.748 558.926,-177.365 565.113,-173.6 570.701,-169.386\"/>\r\n<polygon fill=\"black\" stroke=\"black\" points=\"572.948,-172.071 578.421,-162.999 568.485,-166.677 572.948,-172.071\"/>\r\n<text text-anchor=\"middle\" x=\"444.984\" y=\"-201.548\" font-family=\"Times New Roman,serif\" font-size=\"14.00\">b </text>\r\n</g>\r\n<!-- St0&#45;&gt;St3 -->\r\n<g id=\"edge13\" class=\"edge\"><title>St0&#45;&gt;St3</title>\r\n<path fill=\"none\" stroke=\"black\" d=\"M513.836,-46.861C529.995,-65.8636 554.383,-94.5412 572.436,-115.77\"/>\r\n<polygon fill=\"black\" stroke=\"black\" points=\"569.87,-118.155 579.014,-123.506 575.202,-113.621 569.87,-118.155\"/>\r\n<text text-anchor=\"middle\" x=\"546.48\" y=\"-96.548\" font-family=\"Times New Roman,serif\" font-size=\"14.00\">b </text>\r\n</g>\r\n<!-- St0&#45;&gt;St0 -->\r\n<g id=\"edge12\" class=\"edge\"><title>St0&#45;&gt;St0</title>\r\n<path fill=\"none\" stroke=\"black\" d=\"M486.439,-52.049C485.798,-62.574 488.896,-71.496 495.732,-71.496 500.218,-71.496 503.094,-67.6536 504.36,-62.0374\"/>\r\n<polygon fill=\"black\" stroke=\"black\" points=\"507.853,-62.2592 505.024,-52.049 500.868,-61.7946 507.853,-62.2592\"/>\r\n<text text-anchor=\"middle\" x=\"495.732\" y=\"-75.296\" font-family=\"Times New Roman,serif\" font-size=\"14.00\">a </text>\r\n</g>\r\n</g>\r\n</svg>\r\n"
     },
     "metadata": {},
     "execution_count": 23
    }
   ],
   "source": [
    "dotObj_dfa(dfa_N2minusN3)"
   ]
  },
  {
   "cell_type": "code",
   "execution_count": 24,
   "metadata": {},
   "outputs": [
    {
     "output_type": "execute_result",
     "data": {
      "text/plain": "<graphviz.dot.Digraph at 0x26b55850b50>",
      "image/svg+xml": "<?xml version=\"1.0\" encoding=\"UTF-8\" standalone=\"no\"?>\r\n<!DOCTYPE svg PUBLIC \"-//W3C//DTD SVG 1.1//EN\"\r\n \"http://www.w3.org/Graphics/SVG/1.1/DTD/svg11.dtd\">\r\n<!-- Generated by graphviz version 2.38.0 (20140413.2041)\r\n -->\r\n<!-- Title: %3 Pages: 1 -->\r\n<svg width=\"152pt\" height=\"44pt\"\r\n viewBox=\"0.00 0.00 152.00 44.00\" xmlns=\"http://www.w3.org/2000/svg\" xmlns:xlink=\"http://www.w3.org/1999/xlink\">\r\n<g id=\"graph0\" class=\"graph\" transform=\"scale(1 1) rotate(0) translate(4 40)\">\r\n<title>%3</title>\r\n<polygon fill=\"white\" stroke=\"none\" points=\"-4,4 -4,-40 148,-40 148,4 -4,4\"/>\r\n<!-- EMPTY -->\r\n<g id=\"node1\" class=\"node\"><title>EMPTY</title>\r\n</g>\r\n<!-- BH -->\r\n<g id=\"node2\" class=\"node\"><title>BH</title>\r\n<ellipse fill=\"none\" stroke=\"black\" cx=\"117\" cy=\"-18\" rx=\"27\" ry=\"18\"/>\r\n<text text-anchor=\"middle\" x=\"117\" y=\"-14.3\" font-family=\"Times New Roman,serif\" font-size=\"14.00\">BH</text>\r\n</g>\r\n<!-- EMPTY&#45;&gt;BH -->\r\n<g id=\"edge1\" class=\"edge\"><title>EMPTY&#45;&gt;BH</title>\r\n<path fill=\"none\" stroke=\"black\" d=\"M54.4029,-18C62.3932,-18 71.3106,-18 79.8241,-18\"/>\r\n<polygon fill=\"black\" stroke=\"black\" points=\"79.919,-21.5001 89.919,-18 79.919,-14.5001 79.919,-21.5001\"/>\r\n</g>\r\n</g>\r\n</svg>\r\n"
     },
     "metadata": {},
     "execution_count": 24
    }
   ],
   "source": [
    "dotObj_dfa(dfa_N3minusN2)"
   ]
  },
  {
   "source": [
    "#### **Thoughs on Comparison:**\n",
    "$N2$ contains nothing that $N3$ does not contain.\n",
    "\n",
    "$N2$ contains a whole lot that $N3$ does not.\n",
    "\n",
    "Therefore It looks like $N2\\subseteq N3$"
   ],
   "cell_type": "markdown",
   "metadata": {}
  },
  {
   "source": [
    "### SOLUTION:"
   ],
   "cell_type": "markdown",
   "metadata": {}
  },
  {
   "source": [
    "$$N1\\subseteq N2\\subseteq N3$$"
   ],
   "cell_type": "markdown",
   "metadata": {}
  },
  {
   "cell_type": "markdown",
   "metadata": {},
   "source": [
    "# GRADING CELL\n",
    "\n",
    "##  I claim below that my solution is working. \n",
    "\n",
    "## This is how :\n",
    "\n",
    "* `my_diff` produces two minimized DFA's representing the the difference relationships between 2 nfa's\n",
    "    - gets the minimized DFA of the two NFA's using `nfa2dfa` and the provided `my_min_dfa`.\n",
    "    - gets the compliment of the two minimized DFA versions fo the NFA's using `comp_dfa`.\n",
    "        - the compliment acts like a _\"negative\"_ version of the language.\n",
    "    - gets the intersection of the minimized DFA version of one of the NFA's \n",
    "        and the compliment of the minimized DFA version of the other NFA,\n",
    "        as a minimized DFA,\n",
    "        using `intersection_dfa` and the provided `my_min_dfa` function.\n",
    "        - This result contains a minimized DFA for the language of all strings accepted One of the NFA's and not by the other NFA.\n",
    "\n",
    "* If a minimized DFA that is produced from `my_diff` such that `nfa1`-nfa2` is just a black hole, \n",
    "    then `nfa1`$\\subseteq$`nfa2`.\n",
    "\n",
    "* This was the case for `N1`-`N2`, `N1`-`N3`, & `N2`-`N3`. \n",
    "\n",
    "* So apply the logic from before you get the outcome:\n",
    "    $$N1\\subseteq N2\\subseteq N3$$\n"
   ]
  }
 ],
 "metadata": {
  "kernelspec": {
   "display_name": "Python 3",
   "language": "python",
   "name": "python3"
  },
  "language_info": {
   "codemirror_mode": {
    "name": "ipython",
    "version": 3
   },
   "file_extension": ".py",
   "mimetype": "text/x-python",
   "name": "python",
   "nbconvert_exporter": "python",
   "pygments_lexer": "ipython3",
   "version": "3.8.3-final"
  },
  "toc": {
   "base_numbering": 1,
   "nav_menu": {
    "height": "318px",
    "width": "252px"
   },
   "number_sections": false,
   "sideBar": true,
   "skip_h1_title": false,
   "title_cell": "Table of Contents",
   "title_sidebar": "Contents",
   "toc_cell": false,
   "toc_position": {},
   "toc_section_display": "block",
   "toc_window_display": false
  }
 },
 "nbformat": 4,
 "nbformat_minor": 1
}