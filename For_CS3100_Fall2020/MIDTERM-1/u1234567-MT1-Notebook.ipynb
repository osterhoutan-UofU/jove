{
 "cells": [
  {
   "cell_type": "markdown",
   "metadata": {},
   "source": [
    "# This exam consists of these notebook questions that add up to the notebook's points.\n",
    "\n",
    "# You must fill the GRADING CELLs below to be graded !!!\n",
    "\n",
    "-----------------\n",
    "## 1. A DFA design problem - 25% of the 75% alloted for notebooks.\n",
    "\n",
    "## 2. An NFA design problem - 20% of 75%\n",
    "\n",
    "## 3. Check that the DFA and NFA are language-equivalent - 5% of 75%\n",
    "\n",
    "## 4. The remaining 50% of the 75% is for the following:\n",
    "\n",
    "Three Mystery NFAs N1, N2, and N3 are given to you.\n",
    "\n",
    "\n",
    "## You must apply operations on N1, N2, N3 and discover the properties requested below.\n",
    "\n",
    "\n",
    "You are to find whether the languages of N1, N2 and N3 are totally ordered in some fashion with respect to language containment.\n",
    "\n",
    "That is, you are to find out the values of $x,y,z \\in \\{1,2,3\\}$ such that $x \\neq y \\neq z$, is it the case that\n",
    "$L(Nx) \\subseteq L(Ny) \\subseteq L(Nz)$ ?\n",
    "\n",
    "That is, what total ordering of N1, N2, and N3 substituted in the above, satisfies the equation? It need not be ordered 1 before 2 before 3. It is your task to find the right one.\n",
    "\n",
    "The Jove functions you are allowed to use are listed near the problem spec. below.\n",
    "\n",
    "#### 4.1 25% for pinning down the $L(Nx) \\subseteq L(Ny)$ order, showing all your work, and further,  if $L(Nx) \\subseteq L(Ny)$, you must emit a minimal DFA for $L(Ny) - L(Nx)$\n",
    "\n",
    "#### 4.2 25% for determining $L(Ny) \\subseteq L(Nz)$, showing all your work, and further, if $L(Ny) \\subseteq L(Nz)$, you must emit a minimal DFA for $L(Nz) - L(Ny)$\n",
    "\n",
    "### Note that just \"eyeballing\" the machines and writing their languages in English will only give you some small percentage of the points. You must apply commands to conclusively show that one NFA's language is contained in the other's via commands that truly reveal the fact. The emission of the minimal DFA is thus a required step in your arguments to earn full credits.\n",
    "\n",
    "# Useful facts\n",
    "\n",
    "* Remember from set theory that $A\\subseteq B$ if $A$ does not intersect the complement of $B$.\n",
    "\n",
    "* Remember that it is possible that $A \\subseteq B$ and $A\\subseteq C$ is possible without $B$ and $C$ having no particular ordering. \n",
    "\n",
    "* Please draw a Venn diagram to be sure of these facts and then be sure how many orderings to check!\n",
    "\n",
    "# Your answer for this question is:\n",
    "\n",
    "* Enough orderings checked\n",
    "\n",
    "* The desired conclusion clearly presented in a cell!\n",
    "\n",
    "\n",
    "--- \n",
    "\n",
    "## You must FULLY EXECUTE THIS STARTER NOTEBOOK with your solutions inserted, and submit it at the submission portal as a single IPYNB file."
   ]
  },
  {
   "cell_type": "code",
   "execution_count": null,
   "metadata": {
    "run_control": {
     "frozen": false,
     "read_only": false
    },
    "scrolled": true
   },
   "outputs": [],
   "source": [
    "#~~~~~~~~~~~~~~~~~~~~~~~~~~~~~~~~~~~~~~~~~~~~~~~~~~~~~~~\n",
    "import sys\n",
    "\n",
    "# -- Detect if in Own Install or in Colab\n",
    "try:\n",
    "    import google.colab\n",
    "    OWN_INSTALL = False\n",
    "except:\n",
    "    OWN_INSTALL = True\n",
    "OWN_INSTALL = False\n",
    "if OWN_INSTALL:\n",
    "    \n",
    "  #---- Leave these definitions ON if running on laptop\n",
    "  #---- Else turn OFF by putting them between ''' ... '''\n",
    "\n",
    "  sys.path[0:0] = ['../../../../..',  '../../../../../3rdparty',  \n",
    "                   '../../../..',  '../../../../3rdparty',  \n",
    "                   '../../..',     '../../../3rdparty', \n",
    "                   '../..',        '../../3rdparty',\n",
    "                   '..',           '../3rdparty' ]\n",
    "\n",
    "else: # In colab\n",
    "  ! if [ ! -d Jove ]; then git clone https://github.com/ganeshutah/Jove Jove; fi\n",
    "  sys.path.append('./Jove')\n",
    "  sys.path.append('./Jove/jove')\n",
    "\n",
    "# -- common imports --\n",
    "from jove.DotBashers import *\n",
    "from jove.Def_md2mc  import *\n",
    "from jove.Def_DFA    import *\n",
    "from jove.Def_NFA    import *\n",
    "from jove.LangDef    import *  # for testing DFA actions\n",
    "from jove.Def_RE2NFA import *\n",
    "#~~~~~~~~~~~~~~~~~~~~~~~~~~~~~~~~~~~~~~~~~~~~~~~~~~~~~~~"
   ]
  },
  {
   "cell_type": "markdown",
   "metadata": {},
   "source": [
    "#  1. Design a DFA for the set of strings over alphabet $\\{a,b\\}$ where the strings end in baa"
   ]
  },
  {
   "cell_type": "markdown",
   "metadata": {},
   "source": [
    "### SOLUTION"
   ]
  },
  {
   "cell_type": "code",
   "execution_count": null,
   "metadata": {},
   "outputs": [],
   "source": [
    "# A DFA for strings over a's and b's where it ends in baa\n",
    "\n",
    "Dbaa = md2mc('''\n",
    "DFA\n",
    "\n",
    "''')"
   ]
  },
  {
   "cell_type": "code",
   "execution_count": null,
   "metadata": {},
   "outputs": [],
   "source": [
    "dotObj_dfa(Dbaa)"
   ]
  },
  {
   "cell_type": "markdown",
   "metadata": {},
   "source": [
    "# 2.  Design an NFA for the \"ends in baa\""
   ]
  },
  {
   "cell_type": "markdown",
   "metadata": {},
   "source": [
    "### SOLUTION"
   ]
  },
  {
   "cell_type": "code",
   "execution_count": null,
   "metadata": {},
   "outputs": [],
   "source": [
    "Nbaa = md2mc('''\n",
    "NFA \n",
    "''')"
   ]
  },
  {
   "cell_type": "code",
   "execution_count": null,
   "metadata": {},
   "outputs": [],
   "source": [
    "dotObj_nfa(Nbaa)"
   ]
  },
  {
   "cell_type": "markdown",
   "metadata": {},
   "source": [
    "# 3. Show that these designs agree using Jove automation\n",
    "\n",
    "## You are allowed to use only the following functions from Jove (not all may be necessary)\n",
    "\n",
    "* nfa2dfa\n",
    "\n",
    "* rev_dfa\n",
    "\n",
    "* iso_dfa\n",
    "\n",
    "* dotObj_dfa\n",
    "\n",
    "* dotObj_nfa\n",
    "\n",
    "## Note that using JUST these utilities, you can accomplish a lot of functions to compare DFAs! \n",
    "\n",
    "\n",
    "\n",
    "### So if you want to define simple Python functions of the following kind illustrated in comments below, feel free to introduce such a function, and then use my_utility_function in your code. Of course you have to uncomment the \"#\" in the illustration below. Here, f1, f2, f3 may be the above-listed functions. \n",
    "\n",
    "### These utility functions may not be needed in all the problems! Just one of the given functions may do!"
   ]
  },
  {
   "cell_type": "code",
   "execution_count": null,
   "metadata": {},
   "outputs": [],
   "source": [
    "# def my_utility_function(X):\n",
    "#     f1(f2(f3(X)))"
   ]
  },
  {
   "cell_type": "markdown",
   "metadata": {},
   "source": [
    "## Add as many code/markdown cells as you need."
   ]
  },
  {
   "cell_type": "markdown",
   "metadata": {},
   "source": [
    "### SOLUTION"
   ]
  },
  {
   "cell_type": "markdown",
   "metadata": {},
   "source": [
    "# GRADING CELL\n",
    "\n",
    "##  I claim below that my solution is working as specified\n",
    "\n",
    "## This is how!\n",
    "\n",
    "*\n",
    "\n",
    "*\n",
    "\n",
    "*\n",
    "\n",
    "*\n",
    "\n",
    "* "
   ]
  },
  {
   "cell_type": "markdown",
   "metadata": {},
   "source": [
    "### I'll now write my utility function my_min_dfa for use in later questions"
   ]
  },
  {
   "cell_type": "code",
   "execution_count": null,
   "metadata": {},
   "outputs": [],
   "source": [
    "def my_min_dfa(D):\n",
    "    return nfa2dfa(rev_dfa(nfa2dfa(rev_dfa(D))))"
   ]
  },
  {
   "cell_type": "markdown",
   "metadata": {},
   "source": [
    "# 4. This design was outsourced and the following NFA was supplied\n",
    "\n",
    "## You are to find out the containment order as above described\n",
    "\n",
    "## You can use the following functions + utility functions you can build out of these:\n",
    "\n",
    "* nfa2dfa\n",
    "\n",
    "* rev_dfa\n",
    "\n",
    "\n",
    " \n",
    "## Additionally, you may also use the following functions\n",
    "\n",
    "* iso_dfa\n",
    "\n",
    "* intersect_dfa\n",
    "\n",
    "* comp_dfa\n",
    "\n",
    "* dotObj_dfa\n",
    "\n",
    "* dotObj_nfa\n"
   ]
  },
  {
   "cell_type": "markdown",
   "metadata": {},
   "source": [
    "# The NFA given to you are below"
   ]
  },
  {
   "cell_type": "code",
   "execution_count": null,
   "metadata": {},
   "outputs": [],
   "source": [
    "N1 =  {'Q': {'St1',\n",
    "  'St10',\n",
    "  'St11',\n",
    "  'St12',\n",
    "  'St13',\n",
    "  'St14',\n",
    "  'St15',\n",
    "  'St16',\n",
    "  'St2',\n",
    "  'St3',\n",
    "  'St4',\n",
    "  'St5',\n",
    "  'St6',\n",
    "  'St7',\n",
    "  'St8',\n",
    "  'St9'},\n",
    " 'Sigma': {'a', 'b'},\n",
    " 'Delta': {('St5', ''): {'St1', 'St3', 'St6'},\n",
    "  ('St1', 'a'): {'St2'},\n",
    "  ('St3', 'b'): {'St4'},\n",
    "  ('St4', ''): {'St5'},\n",
    "  ('St2', ''): {'St5'},\n",
    "  ('St6', 'b'): {'St7'},\n",
    "  ('St8', 'a'): {'St9'},\n",
    "  ('St7', ''): {'St8'},\n",
    "  ('St10', 'a'): {'St11'},\n",
    "  ('St9', ''): {'St10'},\n",
    "  ('St16', ''): {'St12', 'St14'},\n",
    "  ('St12', 'a'): {'St13'},\n",
    "  ('St14', 'b'): {'St15'},\n",
    "  ('St13', ''): {'St16'},\n",
    "  ('St15', ''): {'St16'},\n",
    "  ('St11', ''): {'St16'}},\n",
    " 'Q0': {'St5'},\n",
    " 'F': {'St16'}}"
   ]
  },
  {
   "cell_type": "code",
   "execution_count": null,
   "metadata": {},
   "outputs": [],
   "source": [
    "N2 = {'Q': {'St1',\n",
    "  'St10',\n",
    "  'St11',\n",
    "  'St12',\n",
    "  'St13',\n",
    "  'St14',\n",
    "  'St2',\n",
    "  'St3',\n",
    "  'St4',\n",
    "  'St5',\n",
    "  'St6',\n",
    "  'St7',\n",
    "  'St8',\n",
    "  'St9'},\n",
    " 'Sigma': {'a', 'b'},\n",
    " 'Delta': {('St5', ''): {'St1', 'St3', 'St6'},\n",
    "  ('St1', 'a'): {'St2'},\n",
    "  ('St3', 'b'): {'St4'},\n",
    "  ('St4', ''): {'St5'},\n",
    "  ('St2', ''): {'St5'},\n",
    "  ('St6', 'b'): {'St7'},\n",
    "  ('St8', 'a'): {'St9'},\n",
    "  ('St7', ''): {'St8'},\n",
    "  ('St14', ''): {'St10', 'St12'},\n",
    "  ('St10', 'a'): {'St11'},\n",
    "  ('St12', 'b'): {'St13'},\n",
    "  ('St13', ''): {'St14'},\n",
    "  ('St11', ''): {'St14'},\n",
    "  ('St9', ''): {'St14'}},\n",
    " 'Q0': {'St5'},\n",
    " 'F': {'St14'}}"
   ]
  },
  {
   "cell_type": "code",
   "execution_count": null,
   "metadata": {},
   "outputs": [],
   "source": [
    "N3 = {'Q': {'St1',\n",
    "  'St10',\n",
    "  'St11',\n",
    "  'St2',\n",
    "  'St3',\n",
    "  'St4',\n",
    "  'St5',\n",
    "  'St6',\n",
    "  'St7',\n",
    "  'St8',\n",
    "  'St9'},\n",
    " 'Sigma': {'a', 'b'},\n",
    " 'Delta': {('St5', ''): {'St1', 'St3', 'St6'},\n",
    "  ('St1', 'a'): {'St2'},\n",
    "  ('St3', 'b'): {'St4'},\n",
    "  ('St4', ''): {'St5'},\n",
    "  ('St2', ''): {'St5'},\n",
    "  ('St6', 'b'): {'St7'},\n",
    "  ('St8', 'a'): {'St9'},\n",
    "  ('St7', ''): {'St8'},\n",
    "  ('St10', 'a'): {'St11'},\n",
    "  ('St9', ''): {'St10'}},\n",
    " 'Q0': {'St5'},\n",
    " 'F': {'St11'}}"
   ]
  },
  {
   "cell_type": "markdown",
   "metadata": {},
   "source": [
    "# Find out the containment order:\n",
    "\n",
    "## $Nx \\subseteq Ny \\subseteq Nz$\n",
    "\n",
    "## for the above NFAs N1, N2, N3"
   ]
  },
  {
   "cell_type": "markdown",
   "metadata": {},
   "source": [
    "# Use as many code/markdown cells below as you wish"
   ]
  },
  {
   "cell_type": "markdown",
   "metadata": {},
   "source": [
    "## Establish as many required orderings below as you need to!\n"
   ]
  },
  {
   "cell_type": "markdown",
   "metadata": {},
   "source": [
    "# GRADING CELL\n",
    "\n",
    "##  I claim below that my solution is working. \n",
    "\n",
    "## This is how :\n",
    "\n",
    "*\n",
    "\n",
    "*\n",
    "\n",
    "*\n",
    "\n",
    "*\n",
    "\n",
    "* "
   ]
  }
 ],
 "metadata": {
  "kernelspec": {
   "display_name": "Python 3",
   "language": "python",
   "name": "python3"
  },
  "language_info": {
   "codemirror_mode": {
    "name": "ipython",
    "version": 3
   },
   "file_extension": ".py",
   "mimetype": "text/x-python",
   "name": "python",
   "nbconvert_exporter": "python",
   "pygments_lexer": "ipython3",
   "version": "3.7.3"
  },
  "toc": {
   "base_numbering": 1,
   "nav_menu": {
    "height": "318px",
    "width": "252px"
   },
   "number_sections": false,
   "sideBar": true,
   "skip_h1_title": false,
   "title_cell": "Table of Contents",
   "title_sidebar": "Contents",
   "toc_cell": false,
   "toc_position": {},
   "toc_section_display": "block",
   "toc_window_display": false
  }
 },
 "nbformat": 4,
 "nbformat_minor": 1
}
