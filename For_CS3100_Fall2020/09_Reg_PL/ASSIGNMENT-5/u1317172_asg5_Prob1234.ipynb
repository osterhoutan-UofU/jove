{
 "cells": [
  {
   "cell_type": "markdown",
   "metadata": {},
   "source": [
    "<style>\n",
    "    h1 {\n",
    "        border-bottom: 2px solid #DADCDD;\n",
    "    }\n",
    "</style>\n",
    "\n",
    "# Asg-5 focuses on questions graded by the mentioned TAs:\n",
    "\n",
    "## LT: One PL question\n",
    "\n",
    "## SV: One PL question\n",
    "\n",
    "## AR: One PDA question\n",
    "\n",
    "## XL: One PDA question\n",
    "\n",
    "\n",
    "## You must present your proofs using the outline described on Slide 19 of Lec11.pptx (look around this slide number if the slide has shifted; it comes near the flow-charts)"
   ]
  },
  {
   "cell_type": "markdown",
   "metadata": {
    "run_control": {
     "frozen": false,
     "read_only": false
    }
   },
   "source": [
    "## Asg-5 imports \n"
   ]
  },
  {
   "cell_type": "code",
   "execution_count": 1,
   "metadata": {
    "run_control": {
     "frozen": false,
     "read_only": false
    },
    "scrolled": true,
    "tags": []
   },
   "outputs": [
    {
     "output_type": "stream",
     "name": "stdout",
     "text": "You may use any of these help commands:\nhelp(ResetStNum)\nhelp(NxtStateStr)\n\nYou may use any of these help commands:\nhelp(md2mc)\n.. and if you want to dig more, then ..\nhelp(default_line_attr)\nhelp(length_ok_input_items)\nhelp(union_line_attr_list_fld)\nhelp(extend_rsltdict)\nhelp(form_delta)\nhelp(get_machine_components)\n\n \"help(AnimatePDA)\" gives you info on how to use animations with PDA \nYou may use any of these help commands:\nhelp(lphi)\nhelp(lunit)\nhelp(lcat)\nhelp(lexp)\nhelp(lunion)\nhelp(lstar)\nhelp(srev)\nhelp(lrev)\nhelp(shomo)\nhelp(lhomo)\nhelp(powset)\nhelp(lint)\nhelp(lsymdiff)\nhelp(lminus)\nhelp(lissubset)\nhelp(lissuperset)\nhelp(lcomplem)\nhelp(product)\nhelp(nthnumeric)\n\n"
    }
   ],
   "source": [
    "#~~~~~~~~~~~~~~~~~~~~~~~~~~~~~~~~~~~~~~~~~~~~~~~~~~~~~~~\n",
    "import sys\n",
    "\n",
    "# -- Detect if in Own Install or in Colab\n",
    "try:\n",
    "    import google.colab\n",
    "    OWN_INSTALL = False\n",
    "except:\n",
    "    OWN_INSTALL = True\n",
    "    \n",
    "if OWN_INSTALL:\n",
    "    \n",
    "  #---- Leave these definitions ON if running on laptop\n",
    "  #---- Else turn OFF by putting them between ''' ... '''\n",
    "\n",
    "  sys.path[0:0] = ['../../../../..',  '../../../../../3rdparty',  \n",
    "                   '../../../..',  '../../../../3rdparty',  \n",
    "                   '../../..',     '../../../3rdparty', \n",
    "                   '../..',        '../../3rdparty',\n",
    "                   '..',           '../3rdparty' ]\n",
    "\n",
    "else: # In colab\n",
    "  ! if [ ! -d Jove ]; then git clone https://github.com/ganeshutah/Jove Jove; fi\n",
    "  sys.path.append('./Jove')\n",
    "  sys.path.append('./Jove/jove')\n",
    "\n",
    "# -- common imports --\n",
    "from jove.DotBashers  import *\n",
    "from jove.Def_md2mc   import *\n",
    "from jove.AnimatePDA  import *\n",
    "from jove.Def_PDA     import *\n",
    "from jove.LangDef     import *\n",
    "#~~~~~~~~~~~~~~~~~~~~~~~~~~~~~~~~~~~~~~~~~~~~~~~~~~~~~~~"
   ]
  },
  {
   "cell_type": "markdown",
   "metadata": {},
   "source": [
    "# 1 (LT): Prove that this language is not regular (LT)\n",
    "\n",
    "## $$L_{if} = \\{ a^i b^j c^k \\;:\\; i,j,k\\ge 0,\\; \\land\\; {\\rm if}\\: (i=2) \\rightarrow (j=k)  \\}$$\n",
    "\n",
    "#### Hint: Consider the reverse of $L_{if}$ calling it the language $LR_{if}$, and prove that $LR_{if}$ is non-regular, using the PL\n",
    "\n",
    "#### Then write a line justifying why this means that $L_{if}$ is non-regular.\n",
    " "
   ]
  },
  {
   "source": [
    "## Pumping Lemma Statement\n",
    "  - Let $L$ be a RegLang $\\longrightarrow$ \n",
    "      - $\\exists$ $p\\geq1$ depednign only on $L$ $\\ni$ $\\forall$ $w\\in L$ of length $\\geq p$ can be writen: $$w=xyz$$\n",
    "          - _($p$ is the pumping length)_\n",
    "          - _i.e._ $w$ can be devided into three substrings\n",
    "      - **AND** satisfy the following:\n",
    "         1. $|y|\\geq 1$\n",
    "              - _i.e._ The loop $y$ must have a length of at least 1.\n",
    "         2. $|xy|\\leq p$\n",
    "              - _i.e._ The first instance of $y$ must occur within the first $p$ characters.\n",
    "                  - $\\therefore$ _(given Statement 1)_ $|x|$ must be smaller then $p$ ($|x|<p$)\n",
    "         3. $(xy^nz\\in L)$ $\\forall n\\geq0$\n",
    "              - _i.e._ The loop $y$ is the substring that can be _\"pumped\"_.\n",
    "                  - (_i.e._ $y$ can be removed or repeated any number of times, and the resulting string will always be in $L$) \n",
    "\n",
    "### Pumping Lema Formal Expression:\n",
    "<math>\n",
    "\\begin{array}{l}                                                                                                                                       \n",
    "(\\forall  L\\subseteq \\Sigma^*)  \\\\                                                                                                                     \n",
    "\\quad      (\\text{regular}(L) \\Rightarrow \\\\                                                                                                           \n",
    "\\quad      ((\\exists p\\geq 1) ( (\\forall w\\in L) ((|w|\\geq p) \\Rightarrow \\\\                                                                           \n",
    "\\quad ((\\exists x,y,z \\in \\Sigma^*) (w=xyz \\land (|y|\\geq 1 \\land |xy|\\leq p \\land                                                                \n",
    "(\\forall n\\geq 0)(xy^nz\\in L))))))))                                                                                                                   \n",
    "\\end{array} \n",
    "</math>\n",
    " "
   ],
   "cell_type": "markdown",
   "metadata": {}
  },
  {
   "cell_type": "code",
   "execution_count": 12,
   "metadata": {
    "tags": []
   },
   "outputs": [
    {
     "output_type": "stream",
     "name": "stdout",
     "text": "L_if: {'', 'b', 'abcc', 'bbc', 'abbbcc', 'bbbccc', 'aabbcc', 'aaabbcc', 'aaabcc', 'bcc', 'aaac', 'abb', 'abbc', 'aaabbbcc', 'ac', 'aaabc', 'aaabb', 'a', 'bbccc', 'aabc', 'bb', 'ccc', 'accc', 'aaabbbccc', 'aaab', 'abbcc', 'aaabbbc', 'bccc', 'abc', 'c', 'abbbc', 'bbcc', 'aabbbccc', 'abbccc', 'bbbc', 'aaabbccc', 'bbb', 'aaabbc', 'bbbcc', 'bc', 'acc', 'abbbccc', 'aaacc', 'ab', 'aaabccc', 'aaabbb', 'cc', 'abccc', 'aaa', 'aaaccc', 'aa', 'abbb'}\nLR_if: {'', 'b', 'bbbaaa', 'cccbbbaa', 'ccbba', 'ccaaa', 'cccbb', 'ccbb', 'cca', 'cccbbba', 'cbaa', 'cccbbbaaa', 'cccbbaaa', 'cbbaaa', 'baaa', 'ccba', 'a', 'cbaaa', 'ccbbba', 'ccbbaa', 'bbaaa', 'ccbbbaaa', 'bb', 'ccc', 'cbbbaaa', 'cbbb', 'cccbaaa', 'c', 'cbb', 'ba', 'cccb', 'bbb', 'ccbbaaa', 'bba', 'cccbbb', 'ccbaaa', 'cbba', 'ca', 'cbbba', 'cba', 'cb', 'cccbba', 'cccaaa', 'caaa', 'ccca', 'cc', 'aaa', 'cccba', 'aa', 'bbba', 'ccb', 'ccbbb'}\n"
    }
   ],
   "source": [
    "maxL = 4\n",
    "L_if = { (('a'*i + 'b'*j + 'c'*j) if i==2 else ('a'*i + 'b'*j + 'c'*k)) for i in range(maxL) for j in range(maxL) for k in range(maxL) }\n",
    "L_if_exp = { ((f\"a^{i}b^{j}*c^{j}\") if i==2 else (f\"a^{i}b^{j}c^{k}\")) for i in range(maxL) for j in range(maxL) for k in range(maxL) }\n",
    "LR_if = lrev(L_if)\n",
    "print(f\"L_if: {L_if}\\n\" +\n",
    "        # f\"L_if_exp: {L_if_exp}\\n\" +\n",
    "        f\"LR_if: {LR_if}\")"
   ]
  },
  {
   "cell_type": "markdown",
   "metadata": {},
   "source": [
    "## Proof Outline\n",
    "_Look at answer to quiz 5 q3 for better hint_\n",
    "  - Let $w$, $x$, $y$, $z$, $p$ and $n$ be as used in the [Pumping Lemma Statement](#pumping-lemma-statement)\n",
    "      - $\\exists$ $w\\in LR_{if}$ $\\ni$ $w=c^pb^pa^p$\n",
    "          - For which we know $|w=c^pb^pa^p|>p$\n",
    "          - By the [Pumping Lemma](#pumping-lemma-statement) there must $\\exists$ some decomposition $w=xyz$ w/ $|xy|\\geq p$ $\\land$ $|y|\\geq1$ \n",
    "          - $\\ni$ $xy^nz\\in LR_{if}$ $\\forall n\\geq0$.\n",
    "          - Because order matters in order for that statement to be true $x\\in RE($`a*`$)$ $\\land$ $y\\in RE($`b*`$)$ $\\land$ $z\\in RE($`c*`$)$\n",
    "          - $\\therefore$ if whenever  \n",
    "\n",
    "## So the official proof presentation is this:\n",
    "  - Let $w$, $x$, $y$, $z$, $p$ and $n$ be as used in the [Pumping Lemma Statement](#pumping-lemma-statement) \n",
    "      - Because all `'a'`'s need to come before all `'b'`'s which need to come before all `'c'`'s in order for the string to be $\\in L_{if}$ \n",
    "          & $y$ needs to be a repeatable pattern $\\ni$ $xy^nz\\in L_{if}$ $\\forall n\\geq0$ \n",
    "          in order for that statement to be true $y\\in RE($`a*+b*+c*`$)$ (_i.e._ all the same character)\n",
    "      - $\\therefore$ given any string $\\in L_{if}$ where $i=2$ $\\;\\;\\Rightarrow\\;\\;$ $(xy^nz\\notin L_{if})$ $\\forall n\\neq1$\n",
    "          since the number of `'b'`'s will not be equal to the number of `'c'`'s in the resulting string.\n",
    "      - $\\therefore$ $L_{if}$ can't be a regular language"
   ]
  },
  {
   "cell_type": "markdown",
   "metadata": {},
   "source": [
    "# 2 (SV): Prove that the language $L_{Add}$ is not regular \n",
    "\n",
    "## $L_{Add} = \\{ x=y+z : x,y,z \\in \\{0,1\\}^* \\; {\\rm and}\\; condition(x,y,z)\\; {\\rm holds} \\}$\n",
    "          \n",
    " \n",
    "\n",
    "## Here, $condition(x,y,z)$ means $x$, $y$, and $z$ are bit strings of the form $101 = 10 + 11$  \n",
    "\n",
    "## In general, $condition$ says that the bit patterns represent a correct binary addition.\n",
    "\n",
    " \n",
    "\n",
    "## More examples of strings in the language $L_{Add}$ are below:\n",
    "\n",
    "* $101=10+11$ \n",
    "\n",
    "* $1000 = 100 + 100$\n",
    "\n",
    "* $1011 = 110 + 101$"
   ]
  },
  {
   "cell_type": "code",
   "execution_count": 21,
   "metadata": {
    "tags": []
   },
   "outputs": [
    {
     "output_type": "stream",
     "name": "stdout",
     "text": "{'', '0=0+0', '10=00+10', '001=000+001', '10=10+0', '000=000+000', '11=11+00', '001=001+000', '010=000+010', '011=001+010', '10=01+01', '01=00+01', '10=1+1', '01=01+00', '10=0+10', '11=0+11', '1=1+0', '11=01+10', '00=00+00', '010=010+000', '10=10+00', '11=10+1', '011=011+000', '1=0+1', '11=00+11', '011=000+011', '11=11+0', '11=1+10', '011=010+001', '010=001+001', '11=10+01'}\n"
    }
   ],
   "source": [
    "# this is just some messing around\n",
    "maxL = 4\n",
    "L_Add = { (f\"{{:0{minL}b}}={{:0{minL}b}}+{{:0{minL}b}}\".format(x,y,z) if (x==y+z) else '') for x in range(maxL) for y in range(maxL) for z in range(maxL) for minL in range(maxL) }\n",
    "print(L_Add)"
   ]
  },
  {
   "cell_type": "markdown",
   "metadata": {},
   "source": [
    "## Proof outline\n",
    "\n",
    "\n",
    "## So the official proof presentation is this:\n",
    "\n",
    "- Let $w$, $p$, and $n$ be as used in the [Pumping Lema \"Statement\"](#pumping-lemma-statement) \n",
    "   & Let $a$, $b$ and $c$ be used to represent $x$, $y$ and $z$ from the [Pumping Lemma \"Statement\"](#pumping-lemma-statement) respectivly\n",
    "   (_i.e._ $w=abc$, _etc._).\n",
    "- For any string $\\in L_{Add}$ is true \n",
    "   there $\\exists$ an infinite number of other strings $\\in L_{Add}$ \n",
    "   where $x$, $y$ and/or $z$ have a string of any number of `'0'`'s added to the begining.\n",
    "    -  $\\therefore$ `\"00000000=0+0\"`,`\"0=000000+0\",\"0=0+000000\"`,_etc_$\\in L_{Add}$\n",
    "    - $\\therefore$ assume that you have some string $w=abc$ $\\in L_{Add}$ \n",
    "       where $x$,$y$ & $z$ are not binary strings equal to 0 \n",
    "       that conforms to $(|b|\\geq1 \\:\\land\\: |ab|\\leq p \\:\\land\\: |a|<p \\:\\land\\: (ab^nc\\in L_{Add}\\:\\forall n\\qeq0))$, \n",
    "       no matter which substring contains what portion of the string (so long as it matches the parameters).\n",
    "    - You can always tack more `'0'`'s onto the begining of $a$ and it will still be $\\in L_{Add}$.\n",
    "    - $\\therefore$ if you concatinate $0^p$ onto the begining of aforementioned string and this new string will still be $\\in L_{Add}$.\n",
    "    - $\\therefore$ even if $|a|=0$ by adding $p$ `'0'`'s onto the front of it $|a|\\nless p$, but it is still $\\in L_{Add}$\n",
    "    - $\\therefore$ $L_{Add}$ can't be a regular language (proof by contradiction)."
   ]
  },
  {
   "cell_type": "markdown",
   "metadata": {},
   "source": [
    "# 3 (AR): Design a PDA `a2b` for the language $\\{a^i b^j : i,j\\ge 0, {\\rm and}\\; (j = 2i) \\}$\n",
    "## That is, strings of the form $abb$, $aabbbb$, $aaabbbbbb$, etc.\n",
    "\n",
    "## Put a \"header block\" of comments (before you list the PDA transitions) that describes the overall stacking strategy - e.g.\n",
    "\n",
    "* !! The PDA uses the stack in THIS WAY while a's arrive\n",
    "\n",
    "* !! Then when b's arrive, the PDA does THIS\n",
    "\n",
    "* !! After b's, if $a$'s arrive, the PDA does THIS\n",
    "\n",
    "\n",
    "## After that, fully document your design (line by line)\n",
    "\n",
    "## Then, test your PDA on these strings\n",
    "\n",
    "1. $\\varepsilon$ (accept)\n",
    "\n",
    "2. $abb$ (accept)\n",
    "\n",
    "3. $aabbbb$ (accept)\n",
    "\n",
    "4. $aaabbbbbb$ (accept)\n",
    "\n",
    "\n",
    "\n",
    "5. $ab$ (reject)\n",
    "\n",
    "6. $b$ (reject)\n",
    "\n",
    "7. $aba$ (reject)\n",
    "\n",
    "8. $abba$ (reject)\n",
    "\n",
    "##  PLUS add two more accepting and two more rejecting tests of your own"
   ]
  },
  {
   "cell_type": "code",
   "execution_count": 40,
   "metadata": {
    "tags": []
   },
   "outputs": [],
   "source": [
    "a2b = md2mc('''\n",
    "PDA\n",
    "\n",
    "!! Overall Algorithm:\n",
    "!!  1. If char is 'a' & stack empty -> push 2 'a's onto the stack & go to step 2\n",
    "!!  2. If char is 'a' & top of stack = 'a' -> push 2 'a's into the stack\n",
    "!!  3. If char is 'b' & top of stack = 'a' -> push nothing onto the stack\n",
    "!!  4. If next char is ε & stack empty -> push nothing onto the stack\n",
    "\n",
    "\n",
    "IF  : a,#;aa#   -> Sa   !! Make sure string starts with an 'a'\n",
    "Sa  : a,a;aaa   -> Sa \n",
    "Sa  : b,a;''    -> Sb\n",
    "Sb  : b,a;''    -> Sb\n",
    "Sb  : '',#;#    -> F\n",
    "\n",
    "''')"
   ]
  },
  {
   "cell_type": "code",
   "execution_count": 41,
   "metadata": {},
   "outputs": [
    {
     "output_type": "execute_result",
     "data": {
      "text/plain": "<graphviz.dot.Digraph at 0x21918541dc0>",
      "image/svg+xml": "<?xml version=\"1.0\" encoding=\"UTF-8\" standalone=\"no\"?>\r\n<!DOCTYPE svg PUBLIC \"-//W3C//DTD SVG 1.1//EN\"\r\n \"http://www.w3.org/Graphics/SVG/1.1/DTD/svg11.dtd\">\r\n<!-- Generated by graphviz version 2.38.0 (20140413.2041)\r\n -->\r\n<!-- Title: %3 Pages: 1 -->\r\n<svg width=\"510pt\" height=\"85pt\"\r\n viewBox=\"0.00 0.00 509.59 84.65\" xmlns=\"http://www.w3.org/2000/svg\" xmlns:xlink=\"http://www.w3.org/1999/xlink\">\r\n<g id=\"graph0\" class=\"graph\" transform=\"scale(1 1) rotate(0) translate(4 80.6465)\">\r\n<title>%3</title>\r\n<polygon fill=\"white\" stroke=\"none\" points=\"-4,4 -4,-80.6465 505.589,-80.6465 505.589,4 -4,4\"/>\r\n<!-- EMPTY -->\r\n<g id=\"node1\" class=\"node\"><title>EMPTY</title>\r\n</g>\r\n<!-- IF -->\r\n<g id=\"node5\" class=\"node\"><title>IF</title>\r\n<ellipse fill=\"none\" stroke=\"black\" cx=\"113.848\" cy=\"-22.8483\" rx=\"18.724\" ry=\"18.724\"/>\r\n<ellipse fill=\"none\" stroke=\"black\" cx=\"113.848\" cy=\"-22.8483\" rx=\"22.6977\" ry=\"22.6977\"/>\r\n<text text-anchor=\"middle\" x=\"113.848\" y=\"-19.1483\" font-family=\"Times New Roman,serif\" font-size=\"14.00\">IF</text>\r\n</g>\r\n<!-- EMPTY&#45;&gt;IF -->\r\n<g id=\"edge1\" class=\"edge\"><title>EMPTY&#45;&gt;IF</title>\r\n<path fill=\"none\" stroke=\"black\" d=\"M54.3814,-22.8483C62.6819,-22.8483 71.9432,-22.8483 80.6031,-22.8483\"/>\r\n<polygon fill=\"black\" stroke=\"black\" points=\"80.7631,-26.3484 90.7631,-22.8483 80.7631,-19.3484 80.7631,-26.3484\"/>\r\n</g>\r\n<!-- Sa -->\r\n<g id=\"node2\" class=\"node\"><title>Sa</title>\r\n<ellipse fill=\"none\" stroke=\"black\" cx=\"244.845\" cy=\"-22.8483\" rx=\"20.2975\" ry=\"20.2975\"/>\r\n<text text-anchor=\"middle\" x=\"244.845\" y=\"-19.1483\" font-family=\"Times New Roman,serif\" font-size=\"14.00\">Sa</text>\r\n</g>\r\n<!-- Sa&#45;&gt;Sa -->\r\n<g id=\"edge3\" class=\"edge\"><title>Sa&#45;&gt;Sa</title>\r\n<path fill=\"none\" stroke=\"black\" d=\"M235.001,-40.5068C232.814,-51.0621 236.095,-60.9965 244.845,-60.9965 250.587,-60.9965 253.974,-56.7181 255.006,-50.7936\"/>\r\n<polygon fill=\"black\" stroke=\"black\" points=\"258.495,-50.3941 254.689,-40.5068 251.499,-50.6099 258.495,-50.3941\"/>\r\n<text text-anchor=\"middle\" x=\"244.845\" y=\"-64.7965\" font-family=\"Times New Roman,serif\" font-size=\"14.00\">a, a ; aaa</text>\r\n</g>\r\n<!-- Sb -->\r\n<g id=\"node3\" class=\"node\"><title>Sb</title>\r\n<ellipse fill=\"none\" stroke=\"black\" cx=\"360.791\" cy=\"-22.8483\" rx=\"20.5982\" ry=\"20.5982\"/>\r\n<text text-anchor=\"middle\" x=\"360.791\" y=\"-19.1483\" font-family=\"Times New Roman,serif\" font-size=\"14.00\">Sb</text>\r\n</g>\r\n<!-- Sa&#45;&gt;Sb -->\r\n<g id=\"edge4\" class=\"edge\"><title>Sa&#45;&gt;Sb</title>\r\n<path fill=\"none\" stroke=\"black\" d=\"M265.174,-22.8483C282.909,-22.8483 309.453,-22.8483 329.916,-22.8483\"/>\r\n<polygon fill=\"black\" stroke=\"black\" points=\"329.984,-26.3484 339.984,-22.8483 329.984,-19.3484 329.984,-26.3484\"/>\r\n<text text-anchor=\"middle\" x=\"302.493\" y=\"-26.6483\" font-family=\"Times New Roman,serif\" font-size=\"14.00\">b, a ; &#39;&#39;</text>\r\n</g>\r\n<!-- Sb&#45;&gt;Sb -->\r\n<g id=\"edge5\" class=\"edge\"><title>Sb&#45;&gt;Sb</title>\r\n<path fill=\"none\" stroke=\"black\" d=\"M350.514,-41.2099C348.416,-51.7938 351.842,-61.6465 360.791,-61.6465 366.664,-61.6465 370.158,-57.4033 371.274,-51.4948\"/>\r\n<polygon fill=\"black\" stroke=\"black\" points=\"374.768,-51.1381 371.069,-41.2099 367.769,-51.2777 374.768,-51.1381\"/>\r\n<text text-anchor=\"middle\" x=\"360.791\" y=\"-65.4465\" font-family=\"Times New Roman,serif\" font-size=\"14.00\">b, a ; &#39;&#39;</text>\r\n</g>\r\n<!-- F -->\r\n<g id=\"node4\" class=\"node\"><title>F</title>\r\n<ellipse fill=\"none\" stroke=\"black\" cx=\"479.589\" cy=\"-22.8483\" rx=\"18\" ry=\"18\"/>\r\n<ellipse fill=\"none\" stroke=\"black\" cx=\"479.589\" cy=\"-22.8483\" rx=\"22\" ry=\"22\"/>\r\n<text text-anchor=\"middle\" x=\"479.589\" y=\"-19.1483\" font-family=\"Times New Roman,serif\" font-size=\"14.00\">F</text>\r\n</g>\r\n<!-- Sb&#45;&gt;F -->\r\n<g id=\"edge6\" class=\"edge\"><title>Sb&#45;&gt;F</title>\r\n<path fill=\"none\" stroke=\"black\" d=\"M381.604,-22.8483C399.644,-22.8483 426.575,-22.8483 447.483,-22.8483\"/>\r\n<polygon fill=\"black\" stroke=\"black\" points=\"447.493,-26.3484 457.493,-22.8483 447.493,-19.3484 447.493,-26.3484\"/>\r\n<text text-anchor=\"middle\" x=\"419.589\" y=\"-26.6483\" font-family=\"Times New Roman,serif\" font-size=\"14.00\">&#39;&#39;, # ; #</text>\r\n</g>\r\n<!-- IF&#45;&gt;Sa -->\r\n<g id=\"edge2\" class=\"edge\"><title>IF&#45;&gt;Sa</title>\r\n<path fill=\"none\" stroke=\"black\" d=\"M136.731,-22.8483C158.049,-22.8483 190.611,-22.8483 214.237,-22.8483\"/>\r\n<polygon fill=\"black\" stroke=\"black\" points=\"214.391,-26.3484 224.391,-22.8483 214.391,-19.3484 214.391,-26.3484\"/>\r\n<text text-anchor=\"middle\" x=\"180.697\" y=\"-26.6483\" font-family=\"Times New Roman,serif\" font-size=\"14.00\">a, # ; aa#</text>\r\n</g>\r\n</g>\r\n</svg>\r\n"
     },
     "metadata": {},
     "execution_count": 41
    }
   ],
   "source": [
    "dotObj_pda(a2b)"
   ]
  },
  {
   "cell_type": "code",
   "execution_count": 42,
   "metadata": {
    "tags": []
   },
   "outputs": [
    {
     "output_type": "stream",
     "name": "stdout",
     "text": "String  accepted by your PDA in 1 ways :-) \nHere are the ways: \nFinal state  ('IF', '', '#')\nReached as follows:\n->  ('IF', '', '#') .\n"
    }
   ],
   "source": [
    "explore_pda('', a2b)"
   ]
  },
  {
   "cell_type": "code",
   "execution_count": 43,
   "metadata": {
    "tags": []
   },
   "outputs": [
    {
     "output_type": "stream",
     "name": "stdout",
     "text": "String abb accepted by your PDA in 1 ways :-) \nHere are the ways: \nFinal state  ('F', '', '#')\nReached as follows:\n->  ('IF', 'abb', '#')\n->  ('Sa', 'bb', 'aa#')\n->  ('Sb', 'b', 'a#')\n->  ('Sb', '', '#')\n->  ('F', '', '#') .\n"
    }
   ],
   "source": [
    "explore_pda('abb', a2b)"
   ]
  },
  {
   "cell_type": "code",
   "execution_count": 44,
   "metadata": {
    "tags": []
   },
   "outputs": [
    {
     "output_type": "stream",
     "name": "stdout",
     "text": "String aabbbb accepted by your PDA in 1 ways :-) \nHere are the ways: \nFinal state  ('F', '', '#')\nReached as follows:\n->  ('IF', 'aabbbb', '#')\n->  ('Sa', 'abbbb', 'aa#')\n->  ('Sa', 'bbbb', 'aaaa#')\n->  ('Sb', 'bbb', 'aaa#')\n->  ('Sb', 'bb', 'aa#')\n->  ('Sb', 'b', 'a#')\n->  ('Sb', '', '#')\n->  ('F', '', '#') .\n"
    }
   ],
   "source": [
    "explore_pda('aabbbb', a2b)"
   ]
  },
  {
   "cell_type": "code",
   "execution_count": 45,
   "metadata": {
    "tags": []
   },
   "outputs": [
    {
     "output_type": "stream",
     "name": "stdout",
     "text": "String aaabbbbbb accepted by your PDA in 1 ways :-) \nHere are the ways: \nFinal state  ('F', '', '#')\nReached as follows:\n->  ('IF', 'aaabbbbbb', '#')\n->  ('Sa', 'aabbbbbb', 'aa#')\n->  ('Sa', 'abbbbbb', 'aaaa#')\n->  ('Sa', 'bbbbbb', 'aaaaaa#')\n->  ('Sb', 'bbbbb', 'aaaaa#')\n->  ('Sb', 'bbbb', 'aaaa#')\n->  ('Sb', 'bbb', 'aaa#')\n->  ('Sb', 'bb', 'aa#')\n->  ('Sb', 'b', 'a#')\n->  ('Sb', '', '#')\n->  ('F', '', '#') .\n"
    }
   ],
   "source": [
    "explore_pda('aaabbbbbb', a2b)"
   ]
  },
  {
   "cell_type": "code",
   "execution_count": 46,
   "metadata": {
    "tags": []
   },
   "outputs": [
    {
     "output_type": "stream",
     "name": "stdout",
     "text": "String ab rejected by your PDA :-(\nVisited states are:\n{('Sb', '', 'a#'), ('IF', 'ab', '#'), ('Sa', 'b', 'aa#')}\n"
    }
   ],
   "source": [
    "explore_pda('ab', a2b)"
   ]
  },
  {
   "cell_type": "code",
   "execution_count": 47,
   "metadata": {
    "tags": []
   },
   "outputs": [
    {
     "output_type": "stream",
     "name": "stdout",
     "text": "String b rejected by your PDA :-(\nVisited states are:\n{('IF', 'b', '#')}\n"
    }
   ],
   "source": [
    "explore_pda('b', a2b)"
   ]
  },
  {
   "cell_type": "code",
   "execution_count": 48,
   "metadata": {
    "tags": []
   },
   "outputs": [
    {
     "output_type": "stream",
     "name": "stdout",
     "text": "String aba rejected by your PDA :-(\nVisited states are:\n{('Sb', 'a', 'a#'), ('Sa', 'ba', 'aa#'), ('IF', 'aba', '#')}\n"
    }
   ],
   "source": [
    "explore_pda('aba', a2b)"
   ]
  },
  {
   "cell_type": "code",
   "execution_count": 49,
   "metadata": {
    "tags": []
   },
   "outputs": [
    {
     "output_type": "stream",
     "name": "stdout",
     "text": "String abba rejected by your PDA :-(\nVisited states are:\n{('F', 'a', '#'), ('Sb', 'a', '#'), ('IF', 'abba', '#'), ('Sb', 'ba', 'a#'), ('Sa', 'bba', 'aa#')}\n"
    }
   ],
   "source": [
    "explore_pda('abba', a2b)"
   ]
  },
  {
   "cell_type": "markdown",
   "metadata": {},
   "source": [
    "## Now some more tests of yours below \n",
    "#### _(add more cells as needed)_"
   ]
  },
  {
   "source": [
    "### Accepting Tests"
   ],
   "cell_type": "markdown",
   "metadata": {}
  },
  {
   "source": [
    "explore_pda('aaaabbbbbbbb', a2b)"
   ],
   "cell_type": "code",
   "metadata": {
    "tags": []
   },
   "execution_count": 50,
   "outputs": [
    {
     "output_type": "stream",
     "name": "stdout",
     "text": "String aaaabbbbbbbb accepted by your PDA in 1 ways :-) \nHere are the ways: \nFinal state  ('F', '', '#')\nReached as follows:\n->  ('IF', 'aaaabbbbbbbb', '#')\n->  ('Sa', 'aaabbbbbbbb', 'aa#')\n->  ('Sa', 'aabbbbbbbb', 'aaaa#')\n->  ('Sa', 'abbbbbbbb', 'aaaaaa#')\n->  ('Sa', 'bbbbbbbb', 'aaaaaaaa#')\n->  ('Sb', 'bbbbbbb', 'aaaaaaa#')\n->  ('Sb', 'bbbbbb', 'aaaaaa#')\n->  ('Sb', 'bbbbb', 'aaaaa#')\n->  ('Sb', 'bbbb', 'aaaa#')\n->  ('Sb', 'bbb', 'aaa#')\n->  ('Sb', 'bb', 'aa#')\n->  ('Sb', 'b', 'a#')\n->  ('Sb', '', '#')\n->  ('F', '', '#') .\n"
    }
   ]
  },
  {
   "cell_type": "code",
   "execution_count": 51,
   "metadata": {
    "tags": []
   },
   "outputs": [
    {
     "output_type": "stream",
     "name": "stdout",
     "text": "String aaaaabbbbbbbbbb accepted by your PDA in 1 ways :-) \nHere are the ways: \nFinal state  ('F', '', '#')\nReached as follows:\n->  ('IF', 'aaaaabbbbbbbbbb', '#')\n->  ('Sa', 'aaaabbbbbbbbbb', 'aa#')\n->  ('Sa', 'aaabbbbbbbbbb', 'aaaa#')\n->  ('Sa', 'aabbbbbbbbbb', 'aaaaaa#')\n->  ('Sa', 'abbbbbbbbbb', 'aaaaaaaa#')\n->  ('Sa', 'bbbbbbbbbb', 'aaaaaaaaaa#')\n->  ('Sb', 'bbbbbbbbb', 'aaaaaaaaa#')\n->  ('Sb', 'bbbbbbbb', 'aaaaaaaa#')\n->  ('Sb', 'bbbbbbb', 'aaaaaaa#')\n->  ('Sb', 'bbbbbb', 'aaaaaa#')\n->  ('Sb', 'bbbbb', 'aaaaa#')\n->  ('Sb', 'bbbb', 'aaaa#')\n->  ('Sb', 'bbb', 'aaa#')\n->  ('Sb', 'bb', 'aa#')\n->  ('Sb', 'b', 'a#')\n->  ('Sb', '', '#')\n->  ('F', '', '#') .\n"
    }
   ],
   "source": [
    "explore_pda('aaaaabbbbbbbbbb', a2b)"
   ]
  },
  {
   "source": [
    "### Rejecting Tests"
   ],
   "cell_type": "markdown",
   "metadata": {}
  },
  {
   "cell_type": "code",
   "execution_count": 52,
   "metadata": {
    "tags": []
   },
   "outputs": [
    {
     "output_type": "stream",
     "name": "stdout",
     "text": "String bbbbaa rejected by your PDA :-(\nVisited states are:\n{('IF', 'bbbbaa', '#')}\n"
    }
   ],
   "source": [
    "explore_pda('bbbbaa', a2b)"
   ]
  },
  {
   "cell_type": "code",
   "execution_count": 53,
   "metadata": {
    "tags": []
   },
   "outputs": [
    {
     "output_type": "stream",
     "name": "stdout",
     "text": "String abbabb rejected by your PDA :-(\nVisited states are:\n{('Sb', 'abb', '#'), ('Sb', 'babb', 'a#'), ('IF', 'abbabb', '#'), ('F', 'abb', '#'), ('Sa', 'bbabb', 'aa#')}\n"
    }
   ],
   "source": [
    "explore_pda('abbabb', a2b)"
   ]
  },
  {
   "cell_type": "markdown",
   "metadata": {},
   "source": [
    "# 4 (XL):  Design a PDA for $L_{if}$\n",
    "\n",
    "***Hint:*** when a=2, the PDA matches b's and c's (using the stack for this match) <br/>\n",
    "&emsp; Else it only checks their order of arrival (and simply ignores the stack)\n",
    "\n",
    "### Test your PDA on these strings\n",
    "\n",
    "* aa bbb ccc   (accept)\n",
    "\n",
    "* aa bbbb cccc (accept)\n",
    " \n",
    "* aa         (accept)\n",
    "\n",
    "* a bbb cccc (accept)\n",
    "\n",
    "* aaa bb c   (accept)\n",
    "\n",
    "* $\\varepsilon$    (accept, as there are zero a's)\n",
    "\n",
    "* a bb cc    (accept, as there is no constraint to not match b's and c's if two a's)\n",
    "\n",
    "\n",
    "* c b        (reject)\n",
    "\n",
    "* aa bb cc a (reject)\n",
    "\n",
    "* a bb a     (reject)\n",
    "\n",
    "* ccac       (reject)\n",
    "\n",
    "* abba       (reject)\n",
    "\n",
    "* baac       (reject)\n",
    "\n",
    "* ac         (reject)\n",
    "\n",
    "\n",
    "### Then add three more accepting cases and three more rejecting cases below\n",
    "\n",
    "## Document the tests saying why they must pass/fail"
   ]
  },
  {
   "cell_type": "code",
   "execution_count": 54,
   "metadata": {},
   "outputs": [],
   "source": [
    "Lif = md2mc('''\n",
    "PDA\n",
    "\n",
    "!! Overall Algorithm\n",
    "!!  0. If ''  & last    -> RETURN true              else next & GOTO 2\n",
    "!!  1. If 'a' & empty   -> push 'a' & GOTO 2\n",
    "!!  2. If 'a' & pop 'a' -> push 'a' & GOTO 5        else GOTO 3\n",
    "!!  3. If 'b' & empty   -> clear    & GOTO ()       else GOTO 4\n",
    "!!  4. If 'c' & empty   -> clear    & GOTO ()       else RETURN false\n",
    "!!  5. If ''  & last    -> RETURN true              else GOTO 6\n",
    "!!  6. If 'a'           -> clear    & GOTO 5        else GOTO 7\n",
    "!!  7. If 'b' & pop 'a' -> push 'b' & GOTO ()       else GOTO 8\n",
    "!!  8. If 'b' & empty   -> clear    & GOTO 9        else RETURN false\n",
    "!!  9. If ...\n",
    "\n",
    "\n",
    "IF  : a,#;a#    -> IF\n",
    "IF  : a,a;#     -> Fa\n",
    "IF  : b,'';#    -> Fb\n",
    "IF  : c,'';#    -> Fc\n",
    "\n",
    "Fa  : a,'';#    -> Fa\n",
    "Fa  : b,#;#     -> Fb\n",
    "Fa  : b,a;b#    -> Sb\n",
    "\n",
    "Fb  : b,#;#     -> Fb\n",
    "Fb  : c,#;#     -> Fc\n",
    "\n",
    "Fc  : c,#;#     -> Fc\n",
    "\n",
    "Sb  : b,b;bb    -> Sb\n",
    "Sb  : c,b;''    -> Sc\n",
    "\n",
    "Sc  : c,b;''    -> Sc\n",
    "Sc  : '',#;#    -> F0\n",
    "\n",
    "''')"
   ]
  },
  {
   "cell_type": "code",
   "execution_count": 55,
   "metadata": {},
   "outputs": [
    {
     "output_type": "execute_result",
     "data": {
      "text/plain": "<graphviz.dot.Digraph at 0x21918592f10>",
      "image/svg+xml": "<?xml version=\"1.0\" encoding=\"UTF-8\" standalone=\"no\"?>\r\n<!DOCTYPE svg PUBLIC \"-//W3C//DTD SVG 1.1//EN\"\r\n \"http://www.w3.org/Graphics/SVG/1.1/DTD/svg11.dtd\">\r\n<!-- Generated by graphviz version 2.38.0 (20140413.2041)\r\n -->\r\n<!-- Title: %3 Pages: 1 -->\r\n<svg width=\"654pt\" height=\"231pt\"\r\n viewBox=\"0.00 0.00 653.78 230.60\" xmlns=\"http://www.w3.org/2000/svg\" xmlns:xlink=\"http://www.w3.org/1999/xlink\">\r\n<g id=\"graph0\" class=\"graph\" transform=\"scale(1 1) rotate(0) translate(4 226.596)\">\r\n<title>%3</title>\r\n<polygon fill=\"white\" stroke=\"none\" points=\"-4,4 -4,-226.596 649.782,-226.596 649.782,4 -4,4\"/>\r\n<!-- EMPTY -->\r\n<g id=\"node1\" class=\"node\"><title>EMPTY</title>\r\n</g>\r\n<!-- IF -->\r\n<g id=\"node6\" class=\"node\"><title>IF</title>\r\n<ellipse fill=\"none\" stroke=\"black\" cx=\"113.848\" cy=\"-142.798\" rx=\"18.724\" ry=\"18.724\"/>\r\n<ellipse fill=\"none\" stroke=\"black\" cx=\"113.848\" cy=\"-142.798\" rx=\"22.6977\" ry=\"22.6977\"/>\r\n<text text-anchor=\"middle\" x=\"113.848\" y=\"-139.098\" font-family=\"Times New Roman,serif\" font-size=\"14.00\">IF</text>\r\n</g>\r\n<!-- EMPTY&#45;&gt;IF -->\r\n<g id=\"edge1\" class=\"edge\"><title>EMPTY&#45;&gt;IF</title>\r\n<path fill=\"none\" stroke=\"black\" d=\"M54.3814,-142.798C62.6819,-142.798 71.9432,-142.798 80.6031,-142.798\"/>\r\n<polygon fill=\"black\" stroke=\"black\" points=\"80.7631,-146.298 90.7631,-142.798 80.7631,-139.298 80.7631,-146.298\"/>\r\n</g>\r\n<!-- Sc -->\r\n<g id=\"node2\" class=\"node\"><title>Sc</title>\r\n<ellipse fill=\"none\" stroke=\"black\" cx=\"495.388\" cy=\"-24.7982\" rx=\"20.5982\" ry=\"20.5982\"/>\r\n<text text-anchor=\"middle\" x=\"495.388\" y=\"-21.0982\" font-family=\"Times New Roman,serif\" font-size=\"14.00\">Sc</text>\r\n</g>\r\n<!-- Sc&#45;&gt;Sc -->\r\n<g id=\"edge14\" class=\"edge\"><title>Sc&#45;&gt;Sc</title>\r\n<path fill=\"none\" stroke=\"black\" d=\"M484.489,-42.7575C482.067,-53.4926 485.7,-63.5963 495.388,-63.5963 501.896,-63.5963 505.672,-59.0353 506.714,-52.7863\"/>\r\n<polygon fill=\"black\" stroke=\"black\" points=\"510.21,-52.5989 506.286,-42.7575 503.216,-52.8977 510.21,-52.5989\"/>\r\n<text text-anchor=\"middle\" x=\"495.388\" y=\"-67.3963\" font-family=\"Times New Roman,serif\" font-size=\"14.00\">c, b ; &#39;&#39;</text>\r\n</g>\r\n<!-- F0 -->\r\n<g id=\"node4\" class=\"node\"><title>F0</title>\r\n<ellipse fill=\"none\" stroke=\"black\" cx=\"620.984\" cy=\"-24.7982\" rx=\"20.6302\" ry=\"20.6302\"/>\r\n<ellipse fill=\"none\" stroke=\"black\" cx=\"620.984\" cy=\"-24.7982\" rx=\"24.5979\" ry=\"24.5979\"/>\r\n<text text-anchor=\"middle\" x=\"620.984\" y=\"-21.0982\" font-family=\"Times New Roman,serif\" font-size=\"14.00\">F0</text>\r\n</g>\r\n<!-- Sc&#45;&gt;F0 -->\r\n<g id=\"edge15\" class=\"edge\"><title>Sc&#45;&gt;F0</title>\r\n<path fill=\"none\" stroke=\"black\" d=\"M516.245,-24.7982C534.978,-24.7982 563.446,-24.7982 585.825,-24.7982\"/>\r\n<polygon fill=\"black\" stroke=\"black\" points=\"585.936,-28.2983 595.936,-24.7982 585.936,-21.2983 585.936,-28.2983\"/>\r\n<text text-anchor=\"middle\" x=\"558.186\" y=\"-28.5982\" font-family=\"Times New Roman,serif\" font-size=\"14.00\">&#39;&#39;, # ; #</text>\r\n</g>\r\n<!-- Sb -->\r\n<g id=\"node3\" class=\"node\"><title>Sb</title>\r\n<ellipse fill=\"none\" stroke=\"black\" cx=\"368.791\" cy=\"-24.7982\" rx=\"20.5982\" ry=\"20.5982\"/>\r\n<text text-anchor=\"middle\" x=\"368.791\" y=\"-21.0982\" font-family=\"Times New Roman,serif\" font-size=\"14.00\">Sb</text>\r\n</g>\r\n<!-- Sb&#45;&gt;Sc -->\r\n<g id=\"edge13\" class=\"edge\"><title>Sb&#45;&gt;Sc</title>\r\n<path fill=\"none\" stroke=\"black\" d=\"M389.81,-24.7982C409.882,-24.7982 441.041,-24.7982 464.131,-24.7982\"/>\r\n<polygon fill=\"black\" stroke=\"black\" points=\"464.419,-28.2983 474.419,-24.7982 464.419,-21.2983 464.419,-28.2983\"/>\r\n<text text-anchor=\"middle\" x=\"432.089\" y=\"-28.5982\" font-family=\"Times New Roman,serif\" font-size=\"14.00\">c, b ; &#39;&#39;</text>\r\n</g>\r\n<!-- Sb&#45;&gt;Sb -->\r\n<g id=\"edge12\" class=\"edge\"><title>Sb&#45;&gt;Sb</title>\r\n<path fill=\"none\" stroke=\"black\" d=\"M357.893,-42.7575C355.471,-53.4926 359.104,-63.5963 368.791,-63.5963 375.3,-63.5963 379.076,-59.0353 380.118,-52.7863\"/>\r\n<polygon fill=\"black\" stroke=\"black\" points=\"383.613,-52.5989 379.69,-42.7575 376.62,-52.8977 383.613,-52.5989\"/>\r\n<text text-anchor=\"middle\" x=\"368.791\" y=\"-67.3963\" font-family=\"Times New Roman,serif\" font-size=\"14.00\">b, b ; bb</text>\r\n</g>\r\n<!-- Fc -->\r\n<g id=\"node5\" class=\"node\"><title>Fc</title>\r\n<ellipse fill=\"none\" stroke=\"black\" cx=\"495.388\" cy=\"-164.798\" rx=\"20.6302\" ry=\"20.6302\"/>\r\n<ellipse fill=\"none\" stroke=\"black\" cx=\"495.388\" cy=\"-164.798\" rx=\"24.5979\" ry=\"24.5979\"/>\r\n<text text-anchor=\"middle\" x=\"495.388\" y=\"-161.098\" font-family=\"Times New Roman,serif\" font-size=\"14.00\">Fc</text>\r\n</g>\r\n<!-- Fc&#45;&gt;Fc -->\r\n<g id=\"edge11\" class=\"edge\"><title>Fc&#45;&gt;Fc</title>\r\n<path fill=\"none\" stroke=\"black\" d=\"M484.046,-187.257C482.646,-198.06 486.427,-207.596 495.388,-207.596 501.268,-207.596 504.918,-203.489 506.336,-197.613\"/>\r\n<polygon fill=\"black\" stroke=\"black\" points=\"509.847,-197.383 506.729,-187.257 502.852,-197.117 509.847,-197.383\"/>\r\n<text text-anchor=\"middle\" x=\"495.388\" y=\"-211.396\" font-family=\"Times New Roman,serif\" font-size=\"14.00\">c, # ; #</text>\r\n</g>\r\n<!-- IF&#45;&gt;Fc -->\r\n<g id=\"edge5\" class=\"edge\"><title>IF&#45;&gt;Fc</title>\r\n<path fill=\"none\" stroke=\"black\" d=\"M135.734,-150.317C181.989,-166.07 296.652,-200.18 393.589,-188.798 416.715,-186.083 442.224,-179.978 461.794,-174.605\"/>\r\n<polygon fill=\"black\" stroke=\"black\" points=\"462.768,-177.967 471.443,-171.884 460.868,-171.23 462.768,-177.967\"/>\r\n<text text-anchor=\"middle\" x=\"301.993\" y=\"-193.598\" font-family=\"Times New Roman,serif\" font-size=\"14.00\">c, &#39;&#39; ; #</text>\r\n</g>\r\n<!-- IF&#45;&gt;IF -->\r\n<g id=\"edge2\" class=\"edge\"><title>IF&#45;&gt;IF</title>\r\n<path fill=\"none\" stroke=\"black\" d=\"M106.497,-164.651C105.695,-174.789 108.145,-183.646 113.848,-183.646 117.502,-183.646 119.821,-180.011 120.804,-174.733\"/>\r\n<polygon fill=\"black\" stroke=\"black\" points=\"124.305,-174.781 121.2,-164.651 117.311,-174.506 124.305,-174.781\"/>\r\n<text text-anchor=\"middle\" x=\"113.848\" y=\"-187.446\" font-family=\"Times New Roman,serif\" font-size=\"14.00\">a, # ; a#</text>\r\n</g>\r\n<!-- Fa -->\r\n<g id=\"node7\" class=\"node\"><title>Fa</title>\r\n<ellipse fill=\"none\" stroke=\"black\" cx=\"235.845\" cy=\"-49.7982\" rx=\"20.2726\" ry=\"20.2726\"/>\r\n<ellipse fill=\"none\" stroke=\"black\" cx=\"235.845\" cy=\"-49.7982\" rx=\"24.2973\" ry=\"24.2973\"/>\r\n<text text-anchor=\"middle\" x=\"235.845\" y=\"-46.0982\" font-family=\"Times New Roman,serif\" font-size=\"14.00\">Fa</text>\r\n</g>\r\n<!-- IF&#45;&gt;Fa -->\r\n<g id=\"edge3\" class=\"edge\"><title>IF&#45;&gt;Fa</title>\r\n<path fill=\"none\" stroke=\"black\" d=\"M132.297,-129.275C152.212,-113.841 185.012,-88.4196 208.146,-70.4903\"/>\r\n<polygon fill=\"black\" stroke=\"black\" points=\"210.43,-73.1483 216.19,-64.256 206.142,-67.6155 210.43,-73.1483\"/>\r\n<text text-anchor=\"middle\" x=\"174.197\" y=\"-114.598\" font-family=\"Times New Roman,serif\" font-size=\"14.00\">a, a ; #</text>\r\n</g>\r\n<!-- Fb -->\r\n<g id=\"node8\" class=\"node\"><title>Fb</title>\r\n<ellipse fill=\"none\" stroke=\"black\" cx=\"368.791\" cy=\"-121.798\" rx=\"20.6302\" ry=\"20.6302\"/>\r\n<ellipse fill=\"none\" stroke=\"black\" cx=\"368.791\" cy=\"-121.798\" rx=\"24.5979\" ry=\"24.5979\"/>\r\n<text text-anchor=\"middle\" x=\"368.791\" y=\"-118.098\" font-family=\"Times New Roman,serif\" font-size=\"14.00\">Fb</text>\r\n</g>\r\n<!-- IF&#45;&gt;Fb -->\r\n<g id=\"edge4\" class=\"edge\"><title>IF&#45;&gt;Fb</title>\r\n<path fill=\"none\" stroke=\"black\" d=\"M136.853,-140.971C181.045,-137.302 280.857,-129.016 333.618,-124.635\"/>\r\n<polygon fill=\"black\" stroke=\"black\" points=\"334.143,-128.104 343.82,-123.788 333.564,-121.128 334.143,-128.104\"/>\r\n<text text-anchor=\"middle\" x=\"235.845\" y=\"-138.598\" font-family=\"Times New Roman,serif\" font-size=\"14.00\">b, &#39;&#39; ; #</text>\r\n</g>\r\n<!-- Fa&#45;&gt;Sb -->\r\n<g id=\"edge8\" class=\"edge\"><title>Fa&#45;&gt;Sb</title>\r\n<path fill=\"none\" stroke=\"black\" d=\"M259.654,-45.4435C281.484,-41.2758 314.521,-34.9684 338.333,-30.4223\"/>\r\n<polygon fill=\"black\" stroke=\"black\" points=\"339.065,-33.8458 348.231,-28.5325 337.752,-26.9699 339.065,-33.8458\"/>\r\n<text text-anchor=\"middle\" x=\"301.993\" y=\"-45.5982\" font-family=\"Times New Roman,serif\" font-size=\"14.00\">b, a ; b#</text>\r\n</g>\r\n<!-- Fa&#45;&gt;Fa -->\r\n<g id=\"edge6\" class=\"edge\"><title>Fa&#45;&gt;Fa</title>\r\n<path fill=\"none\" stroke=\"black\" d=\"M224.927,-71.4843C223.417,-82.2994 227.056,-91.9464 235.845,-91.9464 241.613,-91.9464 245.163,-87.7918 246.495,-81.8789\"/>\r\n<polygon fill=\"black\" stroke=\"black\" points=\"250.004,-81.5711 246.763,-71.4843 243.006,-81.3908 250.004,-81.5711\"/>\r\n<text text-anchor=\"middle\" x=\"235.845\" y=\"-95.7464\" font-family=\"Times New Roman,serif\" font-size=\"14.00\">a, &#39;&#39; ; #</text>\r\n</g>\r\n<!-- Fa&#45;&gt;Fb -->\r\n<g id=\"edge7\" class=\"edge\"><title>Fa&#45;&gt;Fb</title>\r\n<path fill=\"none\" stroke=\"black\" d=\"M257.305,-61.0482C278.864,-72.902 313.042,-91.6947 337.678,-105.241\"/>\r\n<polygon fill=\"black\" stroke=\"black\" points=\"336.158,-108.399 346.607,-110.15 339.531,-102.265 336.158,-108.399\"/>\r\n<text text-anchor=\"middle\" x=\"301.993\" y=\"-102.598\" font-family=\"Times New Roman,serif\" font-size=\"14.00\">b, # ; #</text>\r\n</g>\r\n<!-- Fb&#45;&gt;Fc -->\r\n<g id=\"edge10\" class=\"edge\"><title>Fb&#45;&gt;Fc</title>\r\n<path fill=\"none\" stroke=\"black\" d=\"M392.355,-129.585C411.815,-136.301 440.153,-146.081 462.03,-153.631\"/>\r\n<polygon fill=\"black\" stroke=\"black\" points=\"460.976,-156.97 471.571,-156.924 463.26,-150.353 460.976,-156.97\"/>\r\n<text text-anchor=\"middle\" x=\"432.089\" y=\"-153.598\" font-family=\"Times New Roman,serif\" font-size=\"14.00\">c, # ; #</text>\r\n</g>\r\n<!-- Fb&#45;&gt;Fb -->\r\n<g id=\"edge9\" class=\"edge\"><title>Fb&#45;&gt;Fb</title>\r\n<path fill=\"none\" stroke=\"black\" d=\"M357.45,-144.257C356.05,-155.06 359.83,-164.596 368.791,-164.596 374.672,-164.596 378.321,-160.489 379.74,-154.613\"/>\r\n<polygon fill=\"black\" stroke=\"black\" points=\"383.251,-154.383 380.132,-144.257 376.256,-154.117 383.251,-154.383\"/>\r\n<text text-anchor=\"middle\" x=\"368.791\" y=\"-168.396\" font-family=\"Times New Roman,serif\" font-size=\"14.00\">b, # ; #</text>\r\n</g>\r\n</g>\r\n</svg>\r\n"
     },
     "metadata": {},
     "execution_count": 55
    }
   ],
   "source": [
    "dotObj_pda(Lif)"
   ]
  },
  {
   "cell_type": "markdown",
   "metadata": {},
   "source": [
    "## Now for all our tests"
   ]
  },
  {
   "cell_type": "markdown",
   "metadata": {},
   "source": [
    "* aa bbb ccc   (accept)"
   ]
  },
  {
   "cell_type": "code",
   "execution_count": 56,
   "metadata": {
    "tags": []
   },
   "outputs": [
    {
     "output_type": "stream",
     "name": "stdout",
     "text": "String aabbbccc accepted by your PDA in 1 ways :-) \nHere are the ways: \nFinal state  ('Fc', '', '##')\nReached as follows:\n->  ('IF', 'aabbbccc', '#')\n->  ('IF', 'abbbccc', 'a#')\n->  ('Fa', 'bbbccc', '##')\n->  ('Fb', 'bbccc', '##')\n->  ('Fb', 'bccc', '##')\n->  ('Fb', 'ccc', '##')\n->  ('Fc', 'cc', '##')\n->  ('Fc', 'c', '##')\n->  ('Fc', '', '##') .\n"
    }
   ],
   "source": [
    "explore_pda('aabbbccc', Lif)"
   ]
  },
  {
   "cell_type": "markdown",
   "metadata": {},
   "source": [
    "* aa bbbb cccc (accept)\n",
    " "
   ]
  },
  {
   "cell_type": "code",
   "execution_count": 57,
   "metadata": {
    "tags": []
   },
   "outputs": [
    {
     "output_type": "stream",
     "name": "stdout",
     "text": "String aabbbbcccc accepted by your PDA in 1 ways :-) \nHere are the ways: \nFinal state  ('Fc', '', '##')\nReached as follows:\n->  ('IF', 'aabbbbcccc', '#')\n->  ('IF', 'abbbbcccc', 'a#')\n->  ('Fa', 'bbbbcccc', '##')\n->  ('Fb', 'bbbcccc', '##')\n->  ('Fb', 'bbcccc', '##')\n->  ('Fb', 'bcccc', '##')\n->  ('Fb', 'cccc', '##')\n->  ('Fc', 'ccc', '##')\n->  ('Fc', 'cc', '##')\n->  ('Fc', 'c', '##')\n->  ('Fc', '', '##') .\n"
    }
   ],
   "source": [
    "explore_pda('aabbbbcccc', Lif)"
   ]
  },
  {
   "cell_type": "markdown",
   "metadata": {},
   "source": [
    "* aa         (accept)"
   ]
  },
  {
   "cell_type": "code",
   "execution_count": 58,
   "metadata": {
    "tags": []
   },
   "outputs": [
    {
     "output_type": "stream",
     "name": "stdout",
     "text": "String aa accepted by your PDA in 1 ways :-) \nHere are the ways: \nFinal state  ('Fa', '', '##')\nReached as follows:\n->  ('IF', 'aa', '#')\n->  ('IF', 'a', 'a#')\n->  ('Fa', '', '##') .\n"
    }
   ],
   "source": [
    "explore_pda('aa', Lif)"
   ]
  },
  {
   "cell_type": "markdown",
   "metadata": {},
   "source": [
    "* a bbb cccc (accept)"
   ]
  },
  {
   "cell_type": "code",
   "execution_count": 59,
   "metadata": {
    "tags": []
   },
   "outputs": [
    {
     "output_type": "stream",
     "name": "stdout",
     "text": "String abbbcccc accepted by your PDA in 1 ways :-) \nHere are the ways: \nFinal state  ('Fc', '', '#a#')\nReached as follows:\n->  ('IF', 'abbbcccc', '#')\n->  ('IF', 'bbbcccc', 'a#')\n->  ('Fb', 'bbcccc', '#a#')\n->  ('Fb', 'bcccc', '#a#')\n->  ('Fb', 'cccc', '#a#')\n->  ('Fc', 'ccc', '#a#')\n->  ('Fc', 'cc', '#a#')\n->  ('Fc', 'c', '#a#')\n->  ('Fc', '', '#a#') .\n"
    }
   ],
   "source": [
    "explore_pda('abbbcccc', Lif)"
   ]
  },
  {
   "cell_type": "markdown",
   "metadata": {},
   "source": [
    "* aaa bb c   (accept)"
   ]
  },
  {
   "cell_type": "code",
   "execution_count": 60,
   "metadata": {
    "tags": []
   },
   "outputs": [
    {
     "output_type": "stream",
     "name": "stdout",
     "text": "String aaabbc accepted by your PDA in 1 ways :-) \nHere are the ways: \nFinal state  ('Fc', '', '###')\nReached as follows:\n->  ('IF', 'aaabbc', '#')\n->  ('IF', 'aabbc', 'a#')\n->  ('Fa', 'abbc', '##')\n->  ('Fa', 'bbc', '###')\n->  ('Fb', 'bc', '###')\n->  ('Fb', 'c', '###')\n->  ('Fc', '', '###') .\n"
    }
   ],
   "source": [
    "explore_pda('aaabbc', Lif)"
   ]
  },
  {
   "cell_type": "markdown",
   "metadata": {},
   "source": [
    "* Epsilon    (accept, as there are zero a's)"
   ]
  },
  {
   "cell_type": "code",
   "execution_count": 61,
   "metadata": {
    "tags": []
   },
   "outputs": [
    {
     "output_type": "stream",
     "name": "stdout",
     "text": "String  accepted by your PDA in 1 ways :-) \nHere are the ways: \nFinal state  ('IF', '', '#')\nReached as follows:\n->  ('IF', '', '#') .\n"
    }
   ],
   "source": [
    "explore_pda('', Lif)"
   ]
  },
  {
   "cell_type": "markdown",
   "metadata": {},
   "source": [
    "* a bb cc    (accept, as there is no constraint to not match b's and c's if two a's)"
   ]
  },
  {
   "cell_type": "code",
   "execution_count": 62,
   "metadata": {
    "tags": []
   },
   "outputs": [
    {
     "output_type": "stream",
     "name": "stdout",
     "text": "String abbcc accepted by your PDA in 1 ways :-) \nHere are the ways: \nFinal state  ('Fc', '', '#a#')\nReached as follows:\n->  ('IF', 'abbcc', '#')\n->  ('IF', 'bbcc', 'a#')\n->  ('Fb', 'bcc', '#a#')\n->  ('Fb', 'cc', '#a#')\n->  ('Fc', 'c', '#a#')\n->  ('Fc', '', '#a#') .\n"
    }
   ],
   "source": [
    "explore_pda('abbcc', Lif)"
   ]
  },
  {
   "cell_type": "markdown",
   "metadata": {},
   "source": [
    "* b c must accept too"
   ]
  },
  {
   "cell_type": "code",
   "execution_count": 63,
   "metadata": {
    "tags": []
   },
   "outputs": [
    {
     "output_type": "stream",
     "name": "stdout",
     "text": "String bc accepted by your PDA in 1 ways :-) \nHere are the ways: \nFinal state  ('Fc', '', '##')\nReached as follows:\n->  ('IF', 'bc', '#')\n->  ('Fb', 'c', '##')\n->  ('Fc', '', '##') .\n"
    }
   ],
   "source": [
    "explore_pda('bc', Lif)"
   ]
  },
  {
   "cell_type": "markdown",
   "metadata": {},
   "source": [
    "* c b        (reject)"
   ]
  },
  {
   "cell_type": "code",
   "execution_count": 64,
   "metadata": {
    "tags": []
   },
   "outputs": [
    {
     "output_type": "stream",
     "name": "stdout",
     "text": "String cb rejected by your PDA :-(\nVisited states are:\n{('Fc', 'b', '##'), ('IF', 'cb', '#')}\n"
    }
   ],
   "source": [
    "explore_pda('cb', Lif)"
   ]
  },
  {
   "cell_type": "markdown",
   "metadata": {},
   "source": [
    "* aa bb cc a (reject)"
   ]
  },
  {
   "cell_type": "code",
   "execution_count": 65,
   "metadata": {
    "tags": []
   },
   "outputs": [
    {
     "output_type": "stream",
     "name": "stdout",
     "text": "String aabbcca rejected by your PDA :-(\nVisited states are:\n{('Fa', 'bbcca', '##'), ('Fc', 'a', '##'), ('Fb', 'cca', '##'), ('IF', 'aabbcca', '#'), ('Fc', 'ca', '##'), ('IF', 'abbcca', 'a#'), ('Fb', 'bcca', '##')}\n"
    }
   ],
   "source": [
    "explore_pda('aabbcca', Lif)"
   ]
  },
  {
   "cell_type": "markdown",
   "metadata": {},
   "source": [
    "* a bb a     (reject)"
   ]
  },
  {
   "cell_type": "code",
   "execution_count": 66,
   "metadata": {
    "tags": []
   },
   "outputs": [
    {
     "output_type": "stream",
     "name": "stdout",
     "text": "String abba rejected by your PDA :-(\nVisited states are:\n{('Fb', 'ba', '#a#'), ('Fb', 'a', '#a#'), ('IF', 'abba', '#'), ('IF', 'bba', 'a#')}\n"
    }
   ],
   "source": [
    "explore_pda('abba', Lif)"
   ]
  },
  {
   "cell_type": "markdown",
   "metadata": {},
   "source": [
    "* ccac       (reject)"
   ]
  },
  {
   "cell_type": "code",
   "execution_count": 67,
   "metadata": {
    "tags": []
   },
   "outputs": [
    {
     "output_type": "stream",
     "name": "stdout",
     "text": "String ccac rejected by your PDA :-(\nVisited states are:\n{('Fc', 'cac', '##'), ('IF', 'ccac', '#'), ('Fc', 'ac', '##')}\n"
    }
   ],
   "source": [
    "explore_pda('ccac', Lif)"
   ]
  },
  {
   "cell_type": "markdown",
   "metadata": {},
   "source": [
    "* abba       (reject)"
   ]
  },
  {
   "cell_type": "code",
   "execution_count": 68,
   "metadata": {
    "tags": []
   },
   "outputs": [
    {
     "output_type": "stream",
     "name": "stdout",
     "text": "String abba rejected by your PDA :-(\nVisited states are:\n{('Fb', 'ba', '#a#'), ('Fb', 'a', '#a#'), ('IF', 'abba', '#'), ('IF', 'bba', 'a#')}\n"
    }
   ],
   "source": [
    "explore_pda('abba', Lif)"
   ]
  },
  {
   "cell_type": "markdown",
   "metadata": {},
   "source": [
    "* baac       (reject)"
   ]
  },
  {
   "cell_type": "code",
   "execution_count": 69,
   "metadata": {
    "tags": []
   },
   "outputs": [
    {
     "output_type": "stream",
     "name": "stdout",
     "text": "String baac rejected by your PDA :-(\nVisited states are:\n{('Fb', 'aac', '##'), ('IF', 'baac', '#')}\n"
    }
   ],
   "source": [
    "explore_pda('baac', Lif)"
   ]
  },
  {
   "cell_type": "markdown",
   "metadata": {},
   "source": [
    "* ac         (accept), as there are no b's  "
   ]
  },
  {
   "cell_type": "code",
   "execution_count": 70,
   "metadata": {
    "tags": []
   },
   "outputs": [
    {
     "output_type": "stream",
     "name": "stdout",
     "text": "String ac accepted by your PDA in 1 ways :-) \nHere are the ways: \nFinal state  ('Fc', '', '#a#')\nReached as follows:\n->  ('IF', 'ac', '#')\n->  ('IF', 'c', 'a#')\n->  ('Fc', '', '#a#') .\n"
    }
   ],
   "source": [
    "explore_pda('ac', Lif)"
   ]
  },
  {
   "cell_type": "markdown",
   "metadata": {},
   "source": [
    "* acb (reject)"
   ]
  },
  {
   "cell_type": "code",
   "execution_count": 71,
   "metadata": {
    "tags": []
   },
   "outputs": [
    {
     "output_type": "stream",
     "name": "stdout",
     "text": "String acb rejected by your PDA :-(\nVisited states are:\n{('IF', 'cb', 'a#'), ('IF', 'acb', '#'), ('Fc', 'b', '#a#')}\n"
    }
   ],
   "source": [
    "explore_pda('acb', Lif)"
   ]
  },
  {
   "cell_type": "markdown",
   "metadata": {},
   "source": [
    "## Now, some more of your tests"
   ]
  },
  {
   "source": [
    "### Aceppting"
   ],
   "cell_type": "markdown",
   "metadata": {}
  },
  {
   "source": [
    "- `\"aabc\"` **accept** because there are 2 `'a'`'s and the same numebr of `'b'`'s & `'c'`'s"
   ],
   "cell_type": "markdown",
   "metadata": {}
  },
  {
   "cell_type": "code",
   "execution_count": 72,
   "metadata": {
    "tags": []
   },
   "outputs": [
    {
     "output_type": "stream",
     "name": "stdout",
     "text": "String aabc accepted by your PDA in 1 ways :-) \nHere are the ways: \nFinal state  ('Fc', '', '##')\nReached as follows:\n->  ('IF', 'aabc', '#')\n->  ('IF', 'abc', 'a#')\n->  ('Fa', 'bc', '##')\n->  ('Fb', 'c', '##')\n->  ('Fc', '', '##') .\n"
    }
   ],
   "source": [
    "explore_pda(\"aabc\", Lif)"
   ]
  },
  {
   "source": [
    "- `\"aaabbb\"` **accept** because there not exactly 2 `'a'`'s so the number of `'b'`'s and `'c'`'s dont need to be equal"
   ],
   "cell_type": "markdown",
   "metadata": {}
  },
  {
   "cell_type": "code",
   "execution_count": 73,
   "metadata": {
    "tags": []
   },
   "outputs": [
    {
     "output_type": "stream",
     "name": "stdout",
     "text": "String aaabbb accepted by your PDA in 1 ways :-) \nHere are the ways: \nFinal state  ('Fb', '', '###')\nReached as follows:\n->  ('IF', 'aaabbb', '#')\n->  ('IF', 'aabbb', 'a#')\n->  ('Fa', 'abbb', '##')\n->  ('Fa', 'bbb', '###')\n->  ('Fb', 'bb', '###')\n->  ('Fb', 'b', '###')\n->  ('Fb', '', '###') .\n"
    }
   ],
   "source": [
    "explore_pda(\"aaabbb\", Lif)"
   ]
  },
  {
   "source": [
    "### Rejecting"
   ],
   "cell_type": "markdown",
   "metadata": {}
  },
  {
   "source": [
    "- `\"ccbbaa\"` **reject** because the letters are not in the right order"
   ],
   "cell_type": "markdown",
   "metadata": {}
  },
  {
   "cell_type": "code",
   "execution_count": 74,
   "metadata": {
    "tags": []
   },
   "outputs": [
    {
     "output_type": "stream",
     "name": "stdout",
     "text": "String ccbbaa rejected by your PDA :-(\nVisited states are:\n{('Fc', 'cbbaa', '##'), ('IF', 'ccbbaa', '#'), ('Fc', 'bbaa', '##')}\n"
    }
   ],
   "source": [
    "explore_pda(\"ccbbaa\", Lif)"
   ]
  },
  {
   "source": [
    "- `\"bbac\"` **reject** because letters aren't in the right order (and because there are 2 `'a'`'s but the number of `'b'`'s & `'c'`'s are different _\\[shouldn't matter since the first reason should have already disqualified it\\]_)"
   ],
   "cell_type": "markdown",
   "metadata": {}
  },
  {
   "cell_type": "code",
   "execution_count": 75,
   "metadata": {
    "tags": []
   },
   "outputs": [
    {
     "output_type": "stream",
     "name": "stdout",
     "text": "String bbac rejected by your PDA :-(\nVisited states are:\n{('IF', 'bbac', '#'), ('Fb', 'ac', '##'), ('Fb', 'bac', '##')}\n"
    }
   ],
   "source": [
    "explore_pda(\"bbac\", Lif)"
   ]
  },
  {
   "cell_type": "markdown",
   "metadata": {},
   "source": [
    "# END\n"
   ]
  }
 ],
 "metadata": {
  "kernelspec": {
   "display_name": "Python 3",
   "language": "python",
   "name": "python3"
  },
  "language_info": {
   "codemirror_mode": {
    "name": "ipython",
    "version": 3
   },
   "file_extension": ".py",
   "mimetype": "text/x-python",
   "name": "python",
   "nbconvert_exporter": "python",
   "pygments_lexer": "ipython3",
   "version": "3.8.3-final"
  },
  "toc": {
   "colors": {
    "hover_highlight": "#DAA520",
    "running_highlight": "#FF0000",
    "selected_highlight": "#FFD700"
   },
   "moveMenuLeft": true,
   "nav_menu": {
    "height": "121px",
    "width": "252px"
   },
   "navigate_menu": true,
   "number_sections": true,
   "sideBar": true,
   "threshold": 4,
   "toc_cell": false,
   "toc_section_display": "block",
   "toc_window_display": false,
   "widenNotebook": false
  },
  "widgets": {
   "state": {
    "430c92ee02b34ec1912bf03c8de1e6dc": {
     "views": [
      {
       "cell_index": 20
      }
     ]
    }
   },
   "version": "1.2.0"
  }
 },
 "nbformat": 4,
 "nbformat_minor": 2
}