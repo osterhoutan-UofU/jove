{
 "cells": [
  {
   "cell_type": "markdown",
   "metadata": {},
   "source": [
    "<style>\n",
    "    h1 {\n",
    "        border-bottom: 2px solid #DADCDD;\n",
    "    }\n",
    "</style>\n",
    "\n",
    "# Asg-5 focuses on questions graded by the mentioned TAs:\n",
    "\n",
    "## LT: One PL question\n",
    "\n",
    "## SV: One PL question\n",
    "\n",
    "## AR: One PDA question\n",
    "\n",
    "## XL: One PDA question\n",
    "\n",
    "\n",
    "## You must present your proofs using the outline described on Slide 19 of Lec11.pptx (look around this slide number if the slide has shifted; it comes near the flow-charts)"
   ]
  },
  {
   "cell_type": "markdown",
   "metadata": {
    "run_control": {
     "frozen": false,
     "read_only": false
    }
   },
   "source": [
    "## Asg-5 imports \n"
   ]
  },
  {
   "cell_type": "code",
   "execution_count": null,
   "metadata": {
    "run_control": {
     "frozen": false,
     "read_only": false
    },
    "scrolled": true,
    "tags": []
   },
   "outputs": [],
   "source": [
    "#~~~~~~~~~~~~~~~~~~~~~~~~~~~~~~~~~~~~~~~~~~~~~~~~~~~~~~~\n",
    "import sys\n",
    "\n",
    "# -- Detect if in Own Install or in Colab\n",
    "try:\n",
    "    import google.colab\n",
    "    OWN_INSTALL = False\n",
    "except:\n",
    "    OWN_INSTALL = True\n",
    "    \n",
    "if OWN_INSTALL:\n",
    "    \n",
    "  #---- Leave these definitions ON if running on laptop\n",
    "  #---- Else turn OFF by putting them between ''' ... '''\n",
    "\n",
    "  sys.path[0:0] = ['../../../../..',  '../../../../../3rdparty',  \n",
    "                   '../../../..',  '../../../../3rdparty',  \n",
    "                   '../../..',     '../../../3rdparty', \n",
    "                   '../..',        '../../3rdparty',\n",
    "                   '..',           '../3rdparty' ]\n",
    "\n",
    "else: # In colab\n",
    "  ! if [ ! -d Jove ]; then git clone https://github.com/ganeshutah/Jove Jove; fi\n",
    "  sys.path.append('./Jove')\n",
    "  sys.path.append('./Jove/jove')\n",
    "\n",
    "# -- common imports --\n",
    "from jove.DotBashers  import *\n",
    "from jove.Def_md2mc   import *\n",
    "from jove.AnimatePDA  import *\n",
    "from jove.Def_PDA     import *\n",
    "# from jove.LangDef     import *\n",
    "#~~~~~~~~~~~~~~~~~~~~~~~~~~~~~~~~~~~~~~~~~~~~~~~~~~~~~~~"
   ]
  },
  {
   "cell_type": "markdown",
   "metadata": {},
   "source": [
    "# 1 (LT): Prove that this language is not regular (LT)\n",
    "\n",
    "## $$L_{if} = \\{ a^i b^j c^k \\;:\\; i,j,k\\ge 0,\\; \\land\\; {\\rm if}\\: (i=2) \\rightarrow (j=k)  \\}$$\n",
    "\n",
    "#### Hint: Consider the reverse of $L_{if}$ calling it the language $LR_{if}$, and prove that $LR_{if}$ is non-regular, using the PL\n",
    "\n",
    "#### Then write a line justifying why this means that $L_{if}$ is non-regular.\n",
    " "
   ]
  },
  {
   "source": [
    "## Pumping Lemma Statement\n",
    "  - Let $L$ be a RegLang $\\longrightarrow$ \n",
    "      - $\\exists$ $p\\geq1$ depednign only on $L$ $\\ni$ $\\forall$ $w\\in L$ of length $\\geq p$ can be writen: $$w=xyz$$\n",
    "          - _($p$ is the pumping length)_\n",
    "          - _i.e._ $w$ can be devided into three substrings\n",
    "      - **AND** satisfy the following:\n",
    "         1. $|y|\\geq 1$\n",
    "              - _i.e._ The loop $y$ must have a length of at least 1.\n",
    "         2. $|xy|\\leq p$\n",
    "              - _i.e._ The first instance of $y$ must occur within the first $p$ characters.\n",
    "                  - $\\therefore$ _(given Statement 1)_ $|x|$ must be smaller then $p$ ($|x|<p$)\n",
    "         3. $(xy^nz\\in L)$ $\\forall n\\geq0$\n",
    "              - _i.e._ The loop $y$ is the substring that can be _\"pumped\"_.\n",
    "                  - (_i.e._ $y$ can be removed or repeated any number of times, and the resulting string will always be in $L$) \n",
    "\n",
    "### Pumping Lema Formal Expression:\n",
    "<math>\n",
    "\\begin{array}{l}                                                                                                                                       \n",
    "(\\forall  L\\subseteq \\Sigma^*)  \\\\                                                                                                                     \n",
    "\\quad      (\\text{regular}(L) \\Rightarrow \\\\                                                                                                           \n",
    "\\quad      ((\\exists p\\geq 1) ( (\\forall w\\in L) ((|w|\\geq p) \\Rightarrow \\\\                                                                           \n",
    "\\quad ((\\exists x,y,z \\in \\Sigma^*) (w=xyz \\land (|y|\\geq 1 \\land |xy|\\leq p \\land                                                                \n",
    "(\\forall n\\geq 0)(xy^nz\\in L))))))))                                                                                                                   \n",
    "\\end{array} \n",
    "</math>\n",
    " "
   ],
   "cell_type": "markdown",
   "metadata": {}
  },
  {
   "cell_type": "code",
   "execution_count": null,
   "metadata": {
    "tags": []
   },
   "outputs": [],
   "source": [
    "# maxL = 4\n",
    "# L_if = { (('a'*i + 'b'*j + 'c'*j) if i==2 else ('a'*i + 'b'*j + 'c'*k)) for i in range(maxL) for j in range(maxL) for k in range(maxL) }\n",
    "# L_if_exp = { ((f\"a^{i}b^{j}*c^{j}\") if i==2 else (f\"a^{i}b^{j}c^{k}\")) for i in range(maxL) for j in range(maxL) for k in range(maxL) }\n",
    "# LR_if = lrev(L_if)\n",
    "# print(f\"L_if: {L_if}\\n\" +\n",
    "        # f\"L_if_exp: {L_if_exp}\\n\" +\n",
    "        # f\"LR_if: {LR_if}\")"
   ]
  },
  {
   "cell_type": "markdown",
   "metadata": {},
   "source": [
    "## Proof Outline\n",
    "- If we reverse our langugae we will get a language that whenever $i=2$ _i.e._ there are 2 $a$'s in the string, \n",
    "  then the rest of the string can be represented by our old friend $\\{a^nb^n \\::\\: n\\geq0\\}$. _**i.e.**_\n",
    "        $$ LR_{if} = \\{ c^k b^j a^i \\;:\\; i,j,k\\ge 0,\\; \\land\\; i\\neq2 \\} \\;\\cup\\; \\{ c^nb^naa \\::\\: n\\geq0 \\} $$\n",
    "- Which means that in a way $\\{a^nb^n \\::\\: n\\geq0\\}$ is a subset of $LR_{if}$\n",
    "- We know that if a subset of a languge is irregular then the language proper must also be irregular.\n",
    "    - Since there will be iregular string statements inside the language.\n",
    "- We also know if a langugae is iregular its reverse will also be iregular & vise versa.\n",
    "    - Since a regular language can be expressed with a DFA or NFA and both of those can always be reversed \n",
    "      to create at least an NFA representing the reversed language.\n",
    "- Therefore just prove that $\\{ c^nb^naa \\::\\: n\\geq0 \\}$ is iregular (_aka_ $\\{a^nb^n \\::\\: n\\geq0\\}$ in desguise)\n",
    "    - We will refer to $\\{ c^nb^naa \\::\\: n\\geq0 \\}$ as $LR_{if_{aa}}$ for breavity.\n",
    "- Insert standard pumping lema proof for $\\{a^nb^n \\::\\: n\\geq0\\}$ with adjustments for the $aa$ sub-string here...\n",
    "\n",
    "\n",
    "<!-- _Look at answer to quiz 5 q3 for better hint_\n",
    "  - Let $w$, $x$, $y$, $z$, $p$ and $n$ be as used in the [Pumping Lemma Statement](#pumping-lemma-statement)\n",
    "      - $\\exists$ $w\\in LR_{if}$ $\\ni$ $w=c^pb^pa^p$\n",
    "          - For which we know $|w=c^pb^pa^p|>p$\n",
    "          - By the [Pumping Lemma](#pumping-lemma-statement) there must $\\exists$ some decomposition $w=xyz$ w/ $|xy|\\geq p$ $\\land$ $|y|\\geq1$ \n",
    "          - $\\ni$ $xy^nz\\in LR_{if}$ $\\forall n\\geq0$.\n",
    "          - Because order matters in order for that statement to be true $x\\in RE($`a*`$)$ $\\land$ $y\\in RE($`b*`$)$ $\\land$ $z\\in RE($`c*`$)$\n",
    "          - $\\therefore$ if whenever  \n",
    "  -->\n",
    "\n",
    "## So the official proof presentation is this:\n",
    "Let $L_{if}$ be a language over the alphabet $\\Sigma = \\{a,\\,b\\}$ defined as follows:\n",
    "        $$ \\{ a^i b^j c^k \\;:\\; i,j,k\\ge 0,\\; \\land\\; {\\rm if}\\: (i=2) \\rightarrow (j=k)  \\} $$\n",
    "Let $LR_{if}$ be the reverse of $L_{if}$:\n",
    "        $$ \\{ c^k b^j a^i \\;:\\; i,j,k\\ge 0,\\; \\land\\; {\\rm if}\\: (i=2) \\rightarrow (j=k)  \\} $$\n",
    "We can express $LR_{if}$ as the union of two sets as follows:\n",
    "        $$ LR_{if} = \\{ c^k b^j a^i \\;:\\; i,j,k\\ge 0,\\; \\land\\; i\\neq2 \\} \\;\\cup\\; \\{ c^nb^naa \\::\\: n\\geq0 \\} $$\n",
    "        $$ LR_{if} = LR_{if_{\\overline{aa}}} \\;\\cup\\; LR_{if_{aa}} $$\n",
    "The subset $LR_{if_{aa}}$ can be shown to be non-regular as follows:\n",
    "\n",
    "Let $w$, $x$, $y$, $z$, $p$ and $n$ be as used in the [Pumping Lemma Statement](#pumping-lemma-statement) above.\n",
    "We assume the existance of some constant $p$.\n",
    "Let $w\\in LR_{if_{aa}}$ be defined as $w=c^pb^paa$, which must be longer than $p$.\n",
    "By the pumping lemma, \n",
    "  there must be some decomposition $w=xyz$ with $|xy|\\leq p$ and $|y|\\geq 1$ such that $xy^{i}z$ in $LR_{if_{aa}}$ for every $i\\geq 0$.\n",
    "Using$|xy|\\leq p$, we know $y$ only consists of instances of $c$. \n",
    "Moreover, because $|y|\\geq 1$, it contains at least one instance of the letter $c$.\n",
    "We now pump $y$ up: \n",
    "  $xy^{2}z$ has more instances of the letter $c$ than the letter $b$, \n",
    "  since we have added some instances of $c$ without adding instances of $b$.\n",
    "Therefore, $xy^{2}z$ is not in $LR_{if_{aa}}$.\n",
    "We have reached a contradiction. \n",
    "Therefore, the assumption that $LR_{if_{aa}}$ is regular (i.e. there exists such a $p$) must be incorrect. \n",
    "Hence $LR_{if_{aa}}$ is not regular.\n",
    "\n",
    "Therefore $LR_{if}$ is not regular,\n",
    "  since a regular language cannot contain a non-regular language.\n",
    "\n",
    "Therefore $L_{if}$ is not regular,\n",
    "  since the reverse of a regular language must also be a regular language (see notes above for more specific reasonoing). \n",
    "\n",
    "<!--\n",
    "  - Let $w$, $x$, $y$, $z$, $p$ and $n$ be as used in the [Pumping Lemma Statement](#pumping-lemma-statement) \n",
    "      - Because all `'a'`'s need to come before all `'b'`'s which need to come before all `'c'`'s in order for the string to be $\\in L_{if}$ \n",
    "          & $y$ needs to be a repeatable pattern $\\ni$ $xy^nz\\in L_{if}$ $\\forall n\\geq0$ \n",
    "          in order for that statement to be true $y\\in RE($`a*+b*+c*`$)$ (_i.e._ all the same character)\n",
    "      - $\\therefore$ given any string $\\in L_{if}$ where $i=2$ $\\;\\;\\Rightarrow\\;\\;$ $(xy^nz\\notin L_{if})$ $\\forall n\\neq1$\n",
    "          since the number of `'b'`'s will not be equal to the number of `'c'`'s in the resulting string.\n",
    "      - $\\therefore$ $L_{if}$ can't be a regular language \n",
    "  -->"
   ]
  },
  {
   "cell_type": "markdown",
   "metadata": {},
   "source": [
    "# 2 (SV): Prove that the language $L_{Add}$ is not regular \n",
    "\n",
    "## $L_{Add} = \\{ x=y+z : x,y,z \\in \\{0,1\\}^* \\; {\\rm and}\\; condition(x,y,z)\\; {\\rm holds} \\}$\n",
    "          \n",
    " \n",
    "\n",
    "## Here, $condition(x,y,z)$ means $x$, $y$, and $z$ are bit strings of the form $101 = 10 + 11$  \n",
    "\n",
    "## In general, $condition$ says that the bit patterns represent a correct binary addition.\n",
    "\n",
    " \n",
    "\n",
    "## More examples of strings in the language $L_{Add}$ are below:\n",
    "\n",
    "* $101=10+11$ \n",
    "\n",
    "* $1000 = 100 + 100$\n",
    "\n",
    "* $1011 = 110 + 101$"
   ]
  },
  {
   "cell_type": "code",
   "execution_count": null,
   "metadata": {
    "tags": []
   },
   "outputs": [],
   "source": [
    "# this is just some messing around\n",
    "maxL = 4\n",
    "L_Add = { (f\"{{:0{minL}b}}={{:0{minL}b}}+{{:0{minL}b}}\".format(x,y,z) if (x==y+z) else '') for x in range(maxL) for y in range(maxL) for z in range(maxL) for minL in range(maxL) }\n",
    "print(L_Add)"
   ]
  },
  {
   "cell_type": "markdown",
   "metadata": {},
   "source": [
    "## Proof outline\n",
    "\n",
    "\n",
    "## So the official proof presentation is this:\n",
    "\n",
    "- Let $w$, $p$, and $n$ be as used in the [Pumping Lema \"Statement\"](#pumping-lemma-statement) \n",
    "   & Let $a$, $b$ and $c$ be used to represent $x$, $y$ and $z$ from the [Pumping Lemma \"Statement\"](#pumping-lemma-statement) respectivly\n",
    "   (_i.e._ $w=abc$, _etc._).\n",
    "- For any string $\\in L_{Add}$ is true \n",
    "   there $\\exists$ an infinite number of other strings $\\in L_{Add}$ \n",
    "   where $x$, $y$ and/or $z$ have a string of any number of `'0'`'s added to the begining.\n",
    "    -  $\\therefore$ `\"00000000=0+0\"`,`\"0=000000+0\",\"0=0+000000\"`,_etc_$\\in L_{Add}$\n",
    "    - $\\therefore$ assume that you have some string $w=abc$ $\\in L_{Add}$ \n",
    "       where $x$,$y$ & $z$ are binary strings equal not to 0 \n",
    "       that conforms to $(|b|\\geq1 \\:\\land\\: |ab|\\leq p \\:\\land\\: |a|<p \\:\\land\\: (ab^nc\\in L_{Add}\\:\\forall n\\geq0))$, \n",
    "       no matter which substring contains what portion of the string (so long as it matches the parameters).\n",
    "    - You can always tack more `'0'`'s onto the begining of $a$ and it will still be $\\in L_{Add}$.\n",
    "    - $\\therefore$ if you concatinate $0^p$ onto the begining of aforementioned string and this new string will still be $\\in L_{Add}$.\n",
    "    - $\\therefore$ even if $|a|=0$ by adding $p$ `'0'`'s onto the front of it $|a|\\nless p$, but it is still $\\in L_{Add}$\n",
    "    - $\\therefore$ $L_{Add}$ can't be a regular language (proof by contradiction)."
   ]
  },
  {
   "cell_type": "markdown",
   "metadata": {},
   "source": [
    "# 3 (AR): Design a PDA `a2b` for the language $\\{a^i b^j : i,j\\ge 0, {\\rm and}\\; (j = 2i) \\}$\n",
    "## That is, strings of the form $abb$, $aabbbb$, $aaabbbbbb$, etc.\n",
    "\n",
    "## Put a \"header block\" of comments (before you list the PDA transitions) that describes the overall stacking strategy - e.g.\n",
    "\n",
    "* !! The PDA uses the stack in THIS WAY while a's arrive\n",
    "\n",
    "* !! Then when b's arrive, the PDA does THIS\n",
    "\n",
    "* !! After b's, if $a$'s arrive, the PDA does THIS\n",
    "\n",
    "\n",
    "## After that, fully document your design (line by line)\n",
    "\n",
    "## Then, test your PDA on these strings\n",
    "\n",
    "1. $\\varepsilon$ (accept)\n",
    "\n",
    "2. $abb$ (accept)\n",
    "\n",
    "3. $aabbbb$ (accept)\n",
    "\n",
    "4. $aaabbbbbb$ (accept)\n",
    "\n",
    "\n",
    "\n",
    "5. $ab$ (reject)\n",
    "\n",
    "6. $b$ (reject)\n",
    "\n",
    "7. $aba$ (reject)\n",
    "\n",
    "8. $abba$ (reject)\n",
    "\n",
    "##  PLUS add two more accepting and two more rejecting tests of your own"
   ]
  },
  {
   "cell_type": "code",
   "execution_count": null,
   "metadata": {
    "tags": []
   },
   "outputs": [],
   "source": [
    "a2b = md2mc('''\n",
    "PDA\n",
    "\n",
    "!! Overall Algorithm:\n",
    "!!  1. If char is 'a' & stack empty -> push 2 'a's onto the stack & go to step 2\n",
    "!!  2. If char is 'a' & top of stack = 'a' -> push 2 'a's into the stack\n",
    "!!  3. If char is 'b' & top of stack = 'a' -> push nothing onto the stack\n",
    "!!  4. If next char is ε & stack empty -> push nothing onto the stack\n",
    "\n",
    "\n",
    "IF  : a,#;aa#   -> Sa   !! Make sure string starts with an 'a'\n",
    "Sa  : a,a;aaa   -> Sa \n",
    "Sa  : b,a;''    -> Sb\n",
    "Sb  : b,a;''    -> Sb\n",
    "Sb  : '',#;#    -> F\n",
    "\n",
    "''')"
   ]
  },
  {
   "cell_type": "code",
   "execution_count": null,
   "metadata": {},
   "outputs": [],
   "source": [
    "dotObj_pda(a2b)"
   ]
  },
  {
   "cell_type": "code",
   "execution_count": null,
   "metadata": {
    "tags": []
   },
   "outputs": [],
   "source": [
    "explore_pda('', a2b)"
   ]
  },
  {
   "cell_type": "code",
   "execution_count": null,
   "metadata": {
    "tags": []
   },
   "outputs": [],
   "source": [
    "explore_pda('abb', a2b)"
   ]
  },
  {
   "cell_type": "code",
   "execution_count": null,
   "metadata": {
    "tags": []
   },
   "outputs": [],
   "source": [
    "explore_pda('aabbbb', a2b)"
   ]
  },
  {
   "cell_type": "code",
   "execution_count": null,
   "metadata": {
    "tags": []
   },
   "outputs": [],
   "source": [
    "explore_pda('aaabbbbbb', a2b)"
   ]
  },
  {
   "cell_type": "code",
   "execution_count": null,
   "metadata": {
    "tags": []
   },
   "outputs": [],
   "source": [
    "explore_pda('ab', a2b)"
   ]
  },
  {
   "cell_type": "code",
   "execution_count": null,
   "metadata": {
    "tags": []
   },
   "outputs": [],
   "source": [
    "explore_pda('b', a2b)"
   ]
  },
  {
   "cell_type": "code",
   "execution_count": null,
   "metadata": {
    "tags": []
   },
   "outputs": [],
   "source": [
    "explore_pda('aba', a2b)"
   ]
  },
  {
   "cell_type": "code",
   "execution_count": null,
   "metadata": {
    "tags": []
   },
   "outputs": [],
   "source": [
    "explore_pda('abba', a2b)"
   ]
  },
  {
   "cell_type": "markdown",
   "metadata": {},
   "source": [
    "## Now some more tests of yours below \n",
    "#### _(add more cells as needed)_"
   ]
  },
  {
   "source": [
    "### Accepting Tests"
   ],
   "cell_type": "markdown",
   "metadata": {}
  },
  {
   "source": [
    "explore_pda('aaaabbbbbbbb', a2b)"
   ],
   "cell_type": "code",
   "metadata": {
    "tags": []
   },
   "execution_count": null,
   "outputs": []
  },
  {
   "cell_type": "code",
   "execution_count": null,
   "metadata": {
    "tags": []
   },
   "outputs": [],
   "source": [
    "explore_pda('aaaaabbbbbbbbbb', a2b)"
   ]
  },
  {
   "source": [
    "### Rejecting Tests"
   ],
   "cell_type": "markdown",
   "metadata": {}
  },
  {
   "cell_type": "code",
   "execution_count": null,
   "metadata": {
    "tags": []
   },
   "outputs": [],
   "source": [
    "explore_pda('bbbbaa', a2b)"
   ]
  },
  {
   "cell_type": "code",
   "execution_count": null,
   "metadata": {
    "tags": []
   },
   "outputs": [],
   "source": [
    "explore_pda('abbabb', a2b)"
   ]
  },
  {
   "cell_type": "markdown",
   "metadata": {},
   "source": [
    "# 4 (XL):  Design a PDA for $L_{if}$\n",
    "\n",
    "***Hint:*** when a=2, the PDA matches b's and c's (using the stack for this match) <br/>\n",
    "&emsp; Else it only checks their order of arrival (and simply ignores the stack)\n",
    "\n",
    "### Test your PDA on these strings\n",
    "\n",
    "* aa bbb ccc   (accept)\n",
    "\n",
    "* aa bbbb cccc (accept)\n",
    " \n",
    "* aa         (accept)\n",
    "\n",
    "* a bbb cccc (accept)\n",
    "\n",
    "* aaa bb c   (accept)\n",
    "\n",
    "* $\\varepsilon$    (accept, as there are zero a's)\n",
    "\n",
    "* a bb cc    (accept, as there is no constraint to not match b's and c's if two a's)\n",
    "\n",
    "\n",
    "* c b        (reject)\n",
    "\n",
    "* aa bb cc a (reject)\n",
    "\n",
    "* a bb a     (reject)\n",
    "\n",
    "* ccac       (reject)\n",
    "\n",
    "* abba       (reject)\n",
    "\n",
    "* baac       (reject)\n",
    "\n",
    "* ac         (reject)\n",
    "\n",
    "\n",
    "### Then add three more accepting cases and three more rejecting cases below\n",
    "\n",
    "## Document the tests saying why they must pass/fail"
   ]
  },
  {
   "cell_type": "code",
   "execution_count": null,
   "metadata": {},
   "outputs": [],
   "source": [
    "Lif = md2mc('''\n",
    "PDA\n",
    "\n",
    "!! Overall Algorithm\n",
    "!!  0. If ''  & last    -> RETURN true              else next & GOTO 2\n",
    "!!  1. If 'a' & empty   -> push 'a' & GOTO 2\n",
    "!!  2. If 'a' & pop 'a' -> push 'a' & GOTO 5        else GOTO 3\n",
    "!!  3. If 'b' & empty   -> clear    & GOTO ()       else GOTO 4\n",
    "!!  4. If 'c' & empty   -> clear    & GOTO ()       else RETURN false\n",
    "!!  5. If ''  & last    -> RETURN true              else GOTO 6\n",
    "!!  6. If 'a'           -> clear    & GOTO 5        else GOTO 7\n",
    "!!  7. If 'b' & pop 'a' -> push 'b' & GOTO ()       else GOTO 8\n",
    "!!  8. If 'b' & empty   -> clear    & GOTO 9        else RETURN false\n",
    "!!  9. If ...\n",
    "\n",
    "\n",
    "IF  : a,#;a#    -> IF\n",
    "IF  : a,a;#     -> Fa\n",
    "IF  : b,'';#    -> Fb\n",
    "IF  : c,'';#    -> Fc\n",
    "\n",
    "Fa  : a,'';#    -> Fa\n",
    "Fa  : b,#;#     -> Fb\n",
    "Fa  : b,a;b#    -> Sb\n",
    "\n",
    "Fb  : b,#;#     -> Fb\n",
    "Fb  : c,#;#     -> Fc\n",
    "\n",
    "Fc  : c,#;#     -> Fc\n",
    "\n",
    "Sb  : b,b;bb    -> Sb\n",
    "Sb  : c,b;''    -> Sc\n",
    "\n",
    "Sc  : c,b;''    -> Sc\n",
    "Sc  : '',#;#    -> F0\n",
    "\n",
    "''')"
   ]
  },
  {
   "cell_type": "code",
   "execution_count": null,
   "metadata": {},
   "outputs": [],
   "source": [
    "dotObj_pda(Lif)"
   ]
  },
  {
   "cell_type": "markdown",
   "metadata": {},
   "source": [
    "## Now for all our tests"
   ]
  },
  {
   "cell_type": "markdown",
   "metadata": {},
   "source": [
    "* aa bbb ccc   (accept)"
   ]
  },
  {
   "cell_type": "code",
   "execution_count": null,
   "metadata": {
    "tags": []
   },
   "outputs": [],
   "source": [
    "explore_pda('aabbbccc', Lif)"
   ]
  },
  {
   "cell_type": "markdown",
   "metadata": {},
   "source": [
    "* aa bbbb cccc (accept)\n",
    " "
   ]
  },
  {
   "cell_type": "code",
   "execution_count": null,
   "metadata": {
    "tags": []
   },
   "outputs": [],
   "source": [
    "explore_pda('aabbbbcccc', Lif)"
   ]
  },
  {
   "cell_type": "markdown",
   "metadata": {},
   "source": [
    "* aa         (accept)"
   ]
  },
  {
   "cell_type": "code",
   "execution_count": null,
   "metadata": {
    "tags": []
   },
   "outputs": [],
   "source": [
    "explore_pda('aa', Lif)"
   ]
  },
  {
   "cell_type": "markdown",
   "metadata": {},
   "source": [
    "* a bbb cccc (accept)"
   ]
  },
  {
   "cell_type": "code",
   "execution_count": null,
   "metadata": {
    "tags": []
   },
   "outputs": [],
   "source": [
    "explore_pda('abbbcccc', Lif)"
   ]
  },
  {
   "cell_type": "markdown",
   "metadata": {},
   "source": [
    "* aaa bb c   (accept)"
   ]
  },
  {
   "cell_type": "code",
   "execution_count": null,
   "metadata": {
    "tags": []
   },
   "outputs": [],
   "source": [
    "explore_pda('aaabbc', Lif)"
   ]
  },
  {
   "cell_type": "markdown",
   "metadata": {},
   "source": [
    "* Epsilon    (accept, as there are zero a's)"
   ]
  },
  {
   "cell_type": "code",
   "execution_count": null,
   "metadata": {
    "tags": []
   },
   "outputs": [],
   "source": [
    "explore_pda('', Lif)"
   ]
  },
  {
   "cell_type": "markdown",
   "metadata": {},
   "source": [
    "* a bb cc    (accept, as there is no constraint to not match b's and c's if two a's)"
   ]
  },
  {
   "cell_type": "code",
   "execution_count": null,
   "metadata": {
    "tags": []
   },
   "outputs": [],
   "source": [
    "explore_pda('abbcc', Lif)"
   ]
  },
  {
   "cell_type": "markdown",
   "metadata": {},
   "source": [
    "* b c must accept too"
   ]
  },
  {
   "cell_type": "code",
   "execution_count": null,
   "metadata": {
    "tags": []
   },
   "outputs": [],
   "source": [
    "explore_pda('bc', Lif)"
   ]
  },
  {
   "cell_type": "markdown",
   "metadata": {},
   "source": [
    "* c b        (reject)"
   ]
  },
  {
   "cell_type": "code",
   "execution_count": null,
   "metadata": {
    "tags": []
   },
   "outputs": [],
   "source": [
    "explore_pda('cb', Lif)"
   ]
  },
  {
   "cell_type": "markdown",
   "metadata": {},
   "source": [
    "* aa bb cc a (reject)"
   ]
  },
  {
   "cell_type": "code",
   "execution_count": null,
   "metadata": {
    "tags": []
   },
   "outputs": [],
   "source": [
    "explore_pda('aabbcca', Lif)"
   ]
  },
  {
   "cell_type": "markdown",
   "metadata": {},
   "source": [
    "* a bb a     (reject)"
   ]
  },
  {
   "cell_type": "code",
   "execution_count": null,
   "metadata": {
    "tags": []
   },
   "outputs": [],
   "source": [
    "explore_pda('abba', Lif)"
   ]
  },
  {
   "cell_type": "markdown",
   "metadata": {},
   "source": [
    "* ccac       (reject)"
   ]
  },
  {
   "cell_type": "code",
   "execution_count": null,
   "metadata": {
    "tags": []
   },
   "outputs": [],
   "source": [
    "explore_pda('ccac', Lif)"
   ]
  },
  {
   "cell_type": "markdown",
   "metadata": {},
   "source": [
    "* abba       (reject)"
   ]
  },
  {
   "cell_type": "code",
   "execution_count": null,
   "metadata": {
    "tags": []
   },
   "outputs": [],
   "source": [
    "explore_pda('abba', Lif)"
   ]
  },
  {
   "cell_type": "markdown",
   "metadata": {},
   "source": [
    "* baac       (reject)"
   ]
  },
  {
   "cell_type": "code",
   "execution_count": null,
   "metadata": {
    "tags": []
   },
   "outputs": [],
   "source": [
    "explore_pda('baac', Lif)"
   ]
  },
  {
   "cell_type": "markdown",
   "metadata": {},
   "source": [
    "* ac         (accept), as there are no b's  "
   ]
  },
  {
   "cell_type": "code",
   "execution_count": null,
   "metadata": {
    "tags": []
   },
   "outputs": [],
   "source": [
    "explore_pda('ac', Lif)"
   ]
  },
  {
   "cell_type": "markdown",
   "metadata": {},
   "source": [
    "* acb (reject)"
   ]
  },
  {
   "cell_type": "code",
   "execution_count": null,
   "metadata": {
    "tags": []
   },
   "outputs": [],
   "source": [
    "explore_pda('acb', Lif)"
   ]
  },
  {
   "cell_type": "markdown",
   "metadata": {},
   "source": [
    "## Now, some more of your tests"
   ]
  },
  {
   "source": [
    "### Aceppting"
   ],
   "cell_type": "markdown",
   "metadata": {}
  },
  {
   "source": [
    "- `\"aabc\"` **accept** because there are 2 `'a'`'s and the same numebr of `'b'`'s & `'c'`'s"
   ],
   "cell_type": "markdown",
   "metadata": {}
  },
  {
   "cell_type": "code",
   "execution_count": null,
   "metadata": {
    "tags": []
   },
   "outputs": [],
   "source": [
    "explore_pda(\"aabc\", Lif)"
   ]
  },
  {
   "source": [
    "- `\"aaabbb\"` **accept** because there not exactly 2 `'a'`'s so the number of `'b'`'s and `'c'`'s dont need to be equal"
   ],
   "cell_type": "markdown",
   "metadata": {}
  },
  {
   "cell_type": "code",
   "execution_count": null,
   "metadata": {
    "tags": []
   },
   "outputs": [],
   "source": [
    "explore_pda(\"aaabbb\", Lif)"
   ]
  },
  {
   "source": [
    "### Rejecting"
   ],
   "cell_type": "markdown",
   "metadata": {}
  },
  {
   "source": [
    "- `\"ccbbaa\"` **reject** because the letters are not in the right order"
   ],
   "cell_type": "markdown",
   "metadata": {}
  },
  {
   "cell_type": "code",
   "execution_count": null,
   "metadata": {
    "tags": []
   },
   "outputs": [],
   "source": [
    "explore_pda(\"ccbbaa\", Lif)"
   ]
  },
  {
   "source": [
    "- `\"bbac\"` **reject** because letters aren't in the right order (and because there are 2 `'a'`'s but the number of `'b'`'s & `'c'`'s are different _\\[shouldn't matter since the first reason should have already disqualified it\\]_)"
   ],
   "cell_type": "markdown",
   "metadata": {}
  },
  {
   "cell_type": "code",
   "execution_count": null,
   "metadata": {
    "tags": []
   },
   "outputs": [],
   "source": [
    "explore_pda(\"bbac\", Lif)"
   ]
  },
  {
   "cell_type": "markdown",
   "metadata": {},
   "source": [
    "# END\n"
   ]
  }
 ],
 "metadata": {
  "kernelspec": {
   "display_name": "Python 3",
   "language": "python",
   "name": "python3"
  },
  "language_info": {
   "codemirror_mode": {
    "name": "ipython",
    "version": 3
   },
   "file_extension": ".py",
   "mimetype": "text/x-python",
   "name": "python",
   "nbconvert_exporter": "python",
   "pygments_lexer": "ipython3",
   "version": "3.8.3-final"
  },
  "toc": {
   "colors": {
    "hover_highlight": "#DAA520",
    "running_highlight": "#FF0000",
    "selected_highlight": "#FFD700"
   },
   "moveMenuLeft": true,
   "nav_menu": {
    "height": "121px",
    "width": "252px"
   },
   "navigate_menu": true,
   "number_sections": true,
   "sideBar": true,
   "threshold": 4,
   "toc_cell": false,
   "toc_section_display": "block",
   "toc_window_display": false,
   "widenNotebook": false
  },
  "widgets": {
   "state": {
    "430c92ee02b34ec1912bf03c8de1e6dc": {
     "views": [
      {
       "cell_index": 20
      }
     ]
    }
   },
   "version": "1.2.0"
  }
 },
 "nbformat": 4,
 "nbformat_minor": 2
}