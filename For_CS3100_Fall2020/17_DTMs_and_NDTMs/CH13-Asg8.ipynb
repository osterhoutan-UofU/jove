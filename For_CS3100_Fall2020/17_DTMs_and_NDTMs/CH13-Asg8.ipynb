{
 "cells": [
  {
   "cell_type": "markdown",
   "metadata": {},
   "source": [
    "# Examples of Turing Machines\n",
    "\n",
    "\n",
    "You may wish to watch this video and then play with TM definitions.\n",
    "\n",
    "You may also wish to convert some \"old fashioned\" TMs (created before\n",
    "automd was designed) to the automd markdown syntax.\n"
   ]
  },
  {
   "cell_type": "code",
   "execution_count": 1,
   "metadata": {
    "run_control": {
     "frozen": false,
     "read_only": false
    }
   },
   "outputs": [
    {
     "output_type": "execute_result",
     "data": {
      "text/plain": [
       "<IPython.lib.display.YouTubeVideo at 0x173300fceb0>"
      ],
      "text/html": "\n        <iframe\n            width=\"400\"\n            height=\"300\"\n            src=\"https://www.youtube.com/embed/E1X8OTWUxJ0\"\n            frameborder=\"0\"\n            allowfullscreen\n        ></iframe>\n        ",
      "image/jpeg": "[encoded data removed]"
     },
     "metadata": {},
     "execution_count": 1
    }
   ],
   "source": [
    "# This Youtube video walks through this notebook\n",
    "from IPython.display import YouTubeVideo\n",
    "YouTubeVideo('E1X8OTWUxJ0')"
   ]
  },
  {
   "cell_type": "markdown",
   "metadata": {
    "run_control": {
     "frozen": false,
     "read_only": false
    }
   },
   "source": [
    "# Turing Machines"
   ]
  },
  {
   "cell_type": "code",
   "execution_count": 2,
   "metadata": {
    "run_control": {
     "frozen": false,
     "read_only": false
    }
   },
   "outputs": [
    {
     "output_type": "stream",
     "name": "stdout",
     "text": [
      "You may use any of these help commands:\nhelp(step_tm)\nhelp(run_tm)\nhelp(explore_tm)\n\nYou may use any of these help commands:\nhelp(md2mc)\n.. and if you want to dig more, then ..\nhelp(default_line_attr)\nhelp(length_ok_input_items)\nhelp(union_line_attr_list_fld)\nhelp(extend_rsltdict)\nhelp(form_delta)\nhelp(get_machine_components)\n\nYou may use any of these help commands:\nhelp(ResetStNum)\nhelp(NxtStateStr)\n\n \"help(JoveEditor)\" gives you info on the generic animation panel that animates all machines. \n"
     ]
    }
   ],
   "source": [
    "#~~~~~~~~~~~~~~~~~~~~~~~~~~~~~~~~~~~~~~~~~~~~~~~~~~~~~~~\n",
    "import sys\n",
    "\n",
    "# -- Detect if in Own Install or in Colab\n",
    "try:\n",
    "    import google.colab\n",
    "    OWN_INSTALL = False\n",
    "except:\n",
    "    OWN_INSTALL = True\n",
    "    \n",
    "if OWN_INSTALL:\n",
    "    \n",
    "  #---- Leave these definitions ON if running on laptop\n",
    "  #---- Else turn OFF by putting them between ''' ... '''\n",
    "\n",
    "  sys.path[0:0] = ['../../../../..',  '../../../../../3rdparty',  \n",
    "                   '../../../..',  '../../../../3rdparty',  \n",
    "                   '../../..',     '../../../3rdparty', \n",
    "                   '../..',        '../../3rdparty',\n",
    "                   '..',           '../3rdparty' ]\n",
    "\n",
    "else: # In colab\n",
    "  ! if [ ! -d Jove ]; then git clone https://github.com/ganeshutah/Jove Jove; fi\n",
    "  sys.path.append('./Jove')\n",
    "  sys.path.append('./Jove/jove')\n",
    "\n",
    "# -- common imports --\n",
    "from jove.Def_TM     import *\n",
    "from jove.Def_md2mc  import *\n",
    "from jove.DotBashers import *\n",
    "from jove.JoveEditor import *\n",
    "from jove.AnimateTM import * #-- usage: AnimateTM(whas101DTM, FuseEdges=True)\n",
    "#~~~~~~~~~~~~~~~~~~~~~~~~~~~~~~~~~~~~~~~~~~~~~~~~~~~~~~~"
   ]
  },
  {
   "cell_type": "markdown",
   "metadata": {
    "run_control": {
     "frozen": false,
     "read_only": false
    }
   },
   "source": [
    "# Various DTMs and NDTMs below"
   ]
  },
  {
   "cell_type": "code",
   "execution_count": 3,
   "metadata": {
    "run_control": {
     "frozen": false,
     "read_only": false
    }
   },
   "outputs": [
    {
     "output_type": "execute_result",
     "data": {
      "text/plain": [
       "<graphviz.dot.Digraph at 0x17330381220>"
      ],
      "image/svg+xml": "<?xml version=\"1.0\" encoding=\"UTF-8\" standalone=\"no\"?>\r\n<!DOCTYPE svg PUBLIC \"-//W3C//DTD SVG 1.1//EN\"\r\n \"http://www.w3.org/Graphics/SVG/1.1/DTD/svg11.dtd\">\r\n<!-- Generated by graphviz version 2.38.0 (20140413.2041)\r\n -->\r\n<!-- Title: %3 Pages: 1 -->\r\n<svg width=\"246pt\" height=\"96pt\"\r\n viewBox=\"0.00 0.00 246.00 96.00\" xmlns=\"http://www.w3.org/2000/svg\" xmlns:xlink=\"http://www.w3.org/1999/xlink\">\r\n<g id=\"graph0\" class=\"graph\" transform=\"scale(1 1) rotate(0) translate(4 92)\">\r\n<title>%3</title>\r\n<polygon fill=\"white\" stroke=\"none\" points=\"-4,4 -4,-92 242,-92 242,4 -4,4\"/>\r\n<!-- EMPTY -->\r\n<g id=\"node1\" class=\"node\"><title>EMPTY</title>\r\n</g>\r\n<!-- I -->\r\n<g id=\"node2\" class=\"node\"><title>I</title>\r\n<ellipse fill=\"none\" stroke=\"black\" cx=\"109\" cy=\"-22\" rx=\"18\" ry=\"18\"/>\r\n<text text-anchor=\"middle\" x=\"109\" y=\"-18.3\" font-family=\"Times New Roman,serif\" font-size=\"14.00\">I</text>\r\n</g>\r\n<!-- EMPTY&#45;&gt;I -->\r\n<g id=\"edge1\" class=\"edge\"><title>EMPTY&#45;&gt;I</title>\r\n<path fill=\"none\" stroke=\"black\" d=\"M54.195,-22C62.6538,-22 72.0513,-22 80.5951,-22\"/>\r\n<polygon fill=\"black\" stroke=\"black\" points=\"80.8257,-25.5001 90.8257,-22 80.8257,-18.5001 80.8257,-25.5001\"/>\r\n</g>\r\n<!-- I&#45;&gt;I -->\r\n<g id=\"edge3\" class=\"edge\"><title>I&#45;&gt;I</title>\r\n<path fill=\"none\" stroke=\"black\" d=\"M102.621,-39.0373C101.319,-48.8579 103.445,-58 109,-58 112.472,-58 114.604,-54.4289 115.398,-49.3529\"/>\r\n<polygon fill=\"black\" stroke=\"black\" points=\"118.897,-49.031 115.379,-39.0373 111.897,-49.0435 118.897,-49.031\"/>\r\n<text text-anchor=\"middle\" x=\"109\" y=\"-76.8\" font-family=\"Times New Roman,serif\" font-size=\"14.00\">0 ; 1,R </text>\r\n<text text-anchor=\"middle\" x=\"109\" y=\"-61.8\" font-family=\"Times New Roman,serif\" font-size=\"14.00\"> 1 ; 0,R</text>\r\n</g>\r\n<!-- F -->\r\n<g id=\"node3\" class=\"node\"><title>F</title>\r\n<ellipse fill=\"none\" stroke=\"black\" cx=\"216\" cy=\"-22\" rx=\"18\" ry=\"18\"/>\r\n<ellipse fill=\"none\" stroke=\"black\" cx=\"216\" cy=\"-22\" rx=\"22\" ry=\"22\"/>\r\n<text text-anchor=\"middle\" x=\"216\" y=\"-18.3\" font-family=\"Times New Roman,serif\" font-size=\"14.00\">F</text>\r\n</g>\r\n<!-- I&#45;&gt;F -->\r\n<g id=\"edge2\" class=\"edge\"><title>I&#45;&gt;F</title>\r\n<path fill=\"none\" stroke=\"black\" d=\"M127.339,-22C142.601,-22 165.202,-22 183.632,-22\"/>\r\n<polygon fill=\"black\" stroke=\"black\" points=\"183.641,-25.5001 193.641,-22 183.641,-18.5001 183.641,-25.5001\"/>\r\n<text text-anchor=\"middle\" x=\"160.5\" y=\"-25.8\" font-family=\"Times New Roman,serif\" font-size=\"14.00\">. ; .,S</text>\r\n</g>\r\n</g>\r\n</svg>\r\n"
     },
     "metadata": {},
     "execution_count": 3
    }
   ],
   "source": [
    "flipperTM = md2mc('''TM\n",
    "I : . ; ., S -> F\n",
    "I : 0 ; 1, R -> I\n",
    "I : 1 ; 0, R -> I\n",
    "''')\n",
    "DOflipperTM = dotObj_tm(flipperTM, FuseEdges=True)\n",
    "DOflipperTM\n"
   ]
  },
  {
   "cell_type": "code",
   "execution_count": 4,
   "metadata": {
    "run_control": {
     "frozen": false,
     "read_only": false
    }
   },
   "outputs": [
    {
     "output_type": "stream",
     "name": "stdout",
     "text": [
      "Allocating  8  tape cells to the RIGHT!\nDetailing the halted configs now.\nAccepted at  ('F', 6, '110110........', 93)\n via .. \n ->('I', 0, '001001', 100)\n ->('I', 1, '101001', 99)\n ->('I', 2, '111001', 98)\n ->('I', 3, '110001', 97)\n ->('I', 4, '110101', 96)\n ->('I', 5, '110111', 95)\n ->('I', 6, '110110', 94)\n ->('F', 6, '110110........', 93)\n"
     ]
    }
   ],
   "source": [
    "explore_tm(flipperTM, \"001001\", 100)"
   ]
  },
  {
   "cell_type": "code",
   "execution_count": 5,
   "metadata": {
    "run_control": {
     "frozen": false,
     "read_only": false
    }
   },
   "outputs": [
    {
     "output_type": "stream",
     "name": "stdout",
     "text": [
      "Help on function explore_tm in module jove.Def_TM:\n\nexplore_tm(T, tape, nsteps)\n    A handy routine to print the result of run_tm plus making \n    future extensions to explore run-results.\n\n"
     ]
    }
   ],
   "source": [
    "help(explore_tm)"
   ]
  },
  {
   "cell_type": "code",
   "execution_count": 6,
   "metadata": {},
   "outputs": [
    {
     "output_type": "display_data",
     "data": {
      "text/plain": "VBox(children=(HBox(children=(Text(value='', description='Input:', layout=Layout(width='500px'), placeholder='…",
      "application/vnd.jupyter.widget-view+json": {
       "version_major": 2,
       "version_minor": 0,
       "model_id": "d5b218d197214f459405728bb7dfb98c"
      }
     },
     "metadata": {}
    },
    {
     "output_type": "execute_result",
     "data": {
      "text/plain": [
       "<jove.AnimateTM.AnimateTM at 0x173300f6a00>"
      ]
     },
     "metadata": {},
     "execution_count": 6
    }
   ],
   "source": [
    "# The following display(...) call is needed to see the animation buttons in Colab\n",
    "#display(HTML('<link rel=\"stylesheet\" href=\"//stackpath.bootstrapcdn.com/font-awesome/4.7.0/css/font-awesome.min.css\"/>'))\n",
    "AnimateTM(flipperTM, FuseEdges=True)"
   ]
  },
  {
   "cell_type": "code",
   "execution_count": 7,
   "metadata": {
    "run_control": {
     "frozen": false,
     "read_only": false
    }
   },
   "outputs": [
    {
     "output_type": "execute_result",
     "data": {
      "text/plain": [
       "<graphviz.dot.Digraph at 0x173302160a0>"
      ],
      "image/svg+xml": "<?xml version=\"1.0\" encoding=\"UTF-8\" standalone=\"no\"?>\r\n<!DOCTYPE svg PUBLIC \"-//W3C//DTD SVG 1.1//EN\"\r\n \"http://www.w3.org/Graphics/SVG/1.1/DTD/svg11.dtd\">\r\n<!-- Generated by graphviz version 2.38.0 (20140413.2041)\r\n -->\r\n<!-- Title: %3 Pages: 1 -->\r\n<svg width=\"629pt\" height=\"366pt\"\r\n viewBox=\"0.00 0.00 629.43 366.15\" xmlns=\"http://www.w3.org/2000/svg\" xmlns:xlink=\"http://www.w3.org/1999/xlink\">\r\n<g id=\"graph0\" class=\"graph\" transform=\"scale(1 1) rotate(0) translate(4 362.148)\">\r\n<title>%3</title>\r\n<polygon fill=\"white\" stroke=\"none\" points=\"-4,4 -4,-362.148 625.433,-362.148 625.433,4 -4,4\"/>\r\n<!-- EMPTY -->\r\n<g id=\"node1\" class=\"node\"><title>EMPTY</title>\r\n</g>\r\n<!-- Iq0 -->\r\n<g id=\"node7\" class=\"node\"><title>Iq0</title>\r\n<ellipse fill=\"none\" stroke=\"black\" cx=\"113.748\" cy=\"-170.148\" rx=\"22.9987\" ry=\"22.9987\"/>\r\n<text text-anchor=\"middle\" x=\"113.748\" y=\"-166.448\" font-family=\"Times New Roman,serif\" font-size=\"14.00\">Iq0</text>\r\n</g>\r\n<!-- EMPTY&#45;&gt;Iq0 -->\r\n<g id=\"edge1\" class=\"edge\"><title>EMPTY&#45;&gt;Iq0</title>\r\n<path fill=\"none\" stroke=\"black\" d=\"M54.3502,-170.148C62.71,-170.148 72.0455,-170.148 80.757,-170.148\"/>\r\n<polygon fill=\"black\" stroke=\"black\" points=\"80.9663,-173.648 90.9663,-170.148 80.9662,-166.648 80.9663,-173.648\"/>\r\n</g>\r\n<!-- q5 -->\r\n<g id=\"node2\" class=\"node\"><title>q5</title>\r\n<ellipse fill=\"none\" stroke=\"black\" cx=\"234.644\" cy=\"-232.148\" rx=\"20.2975\" ry=\"20.2975\"/>\r\n<text text-anchor=\"middle\" x=\"234.644\" y=\"-228.448\" font-family=\"Times New Roman,serif\" font-size=\"14.00\">q5</text>\r\n</g>\r\n<!-- q5&#45;&gt;q5 -->\r\n<g id=\"edge5\" class=\"edge\"><title>q5&#45;&gt;q5</title>\r\n<path fill=\"none\" stroke=\"black\" d=\"M224.449,-249.807C222.183,-260.362 225.582,-270.296 234.644,-270.296 240.591,-270.296 244.099,-266.018 245.168,-260.093\"/>\r\n<polygon fill=\"black\" stroke=\"black\" points=\"248.657,-259.69 244.839,-249.807 241.661,-259.913 248.657,-259.69\"/>\r\n<text text-anchor=\"middle\" x=\"234.644\" y=\"-289.096\" font-family=\"Times New Roman,serif\" font-size=\"14.00\">X ; X,R </text>\r\n<text text-anchor=\"middle\" x=\"234.644\" y=\"-274.096\" font-family=\"Times New Roman,serif\" font-size=\"14.00\"> Y ; Y,R</text>\r\n</g>\r\n<!-- Fq6 -->\r\n<g id=\"node10\" class=\"node\"><title>Fq6</title>\r\n<ellipse fill=\"none\" stroke=\"black\" cx=\"360.14\" cy=\"-241.148\" rx=\"25.2169\" ry=\"25.2169\"/>\r\n<ellipse fill=\"none\" stroke=\"black\" cx=\"360.14\" cy=\"-241.148\" rx=\"29.1963\" ry=\"29.1963\"/>\r\n<text text-anchor=\"middle\" x=\"360.14\" y=\"-237.448\" font-family=\"Times New Roman,serif\" font-size=\"14.00\">Fq6</text>\r\n</g>\r\n<!-- q5&#45;&gt;Fq6 -->\r\n<g id=\"edge6\" class=\"edge\"><title>q5&#45;&gt;Fq6</title>\r\n<path fill=\"none\" stroke=\"black\" d=\"M254.94,-233.554C272.509,-234.835 298.966,-236.763 320.823,-238.356\"/>\r\n<polygon fill=\"black\" stroke=\"black\" points=\"320.58,-241.847 330.808,-239.083 321.089,-234.866 320.58,-241.847\"/>\r\n<text text-anchor=\"middle\" x=\"292.792\" y=\"-240.948\" font-family=\"Times New Roman,serif\" font-size=\"14.00\">. ; .,R</text>\r\n</g>\r\n<!-- q2 -->\r\n<g id=\"node3\" class=\"node\"><title>q2</title>\r\n<ellipse fill=\"none\" stroke=\"black\" cx=\"360.14\" cy=\"-126.148\" rx=\"20.2975\" ry=\"20.2975\"/>\r\n<text text-anchor=\"middle\" x=\"360.14\" y=\"-122.448\" font-family=\"Times New Roman,serif\" font-size=\"14.00\">q2</text>\r\n</g>\r\n<!-- q2&#45;&gt;q2 -->\r\n<g id=\"edge9\" class=\"edge\"><title>q2&#45;&gt;q2</title>\r\n<path fill=\"none\" stroke=\"black\" d=\"M348.744,-143.014C345.771,-153.859 349.57,-164.296 360.14,-164.296 367.242,-164.296 371.287,-159.585 372.275,-153.204\"/>\r\n<polygon fill=\"black\" stroke=\"black\" points=\"375.751,-152.734 371.536,-143.014 368.769,-153.241 375.751,-152.734\"/>\r\n<text text-anchor=\"middle\" x=\"360.14\" y=\"-183.096\" font-family=\"Times New Roman,serif\" font-size=\"14.00\">X ; X,R </text>\r\n<text text-anchor=\"middle\" x=\"360.14\" y=\"-168.096\" font-family=\"Times New Roman,serif\" font-size=\"14.00\"> Y ; Y,R</text>\r\n</g>\r\n<!-- q3 -->\r\n<g id=\"node6\" class=\"node\"><title>q3</title>\r\n<ellipse fill=\"none\" stroke=\"black\" cx=\"485.636\" cy=\"-126.148\" rx=\"20.2975\" ry=\"20.2975\"/>\r\n<text text-anchor=\"middle\" x=\"485.636\" y=\"-122.448\" font-family=\"Times New Roman,serif\" font-size=\"14.00\">q3</text>\r\n</g>\r\n<!-- q2&#45;&gt;q3 -->\r\n<g id=\"edge10\" class=\"edge\"><title>q2&#45;&gt;q3</title>\r\n<path fill=\"none\" stroke=\"black\" d=\"M380.436,-126.148C400.465,-126.148 432.043,-126.148 455.191,-126.148\"/>\r\n<polygon fill=\"black\" stroke=\"black\" points=\"455.475,-129.648 465.475,-126.148 455.475,-122.648 455.475,-129.648\"/>\r\n<text text-anchor=\"middle\" x=\"427.488\" y=\"-129.948\" font-family=\"Times New Roman,serif\" font-size=\"14.00\">0 ; X,L</text>\r\n</g>\r\n<!-- q4 -->\r\n<g id=\"node4\" class=\"node\"><title>q4</title>\r\n<ellipse fill=\"none\" stroke=\"black\" cx=\"600.933\" cy=\"-270.148\" rx=\"20.2975\" ry=\"20.2975\"/>\r\n<text text-anchor=\"middle\" x=\"600.933\" y=\"-266.448\" font-family=\"Times New Roman,serif\" font-size=\"14.00\">q4</text>\r\n</g>\r\n<!-- q4&#45;&gt;q4 -->\r\n<g id=\"edge13\" class=\"edge\"><title>q4&#45;&gt;q4</title>\r\n<path fill=\"none\" stroke=\"black\" d=\"M591.089,-287.807C588.901,-298.362 592.183,-308.296 600.933,-308.296 606.675,-308.296 610.062,-304.018 611.094,-298.093\"/>\r\n<polygon fill=\"black\" stroke=\"black\" points=\"614.583,-297.694 610.776,-287.807 607.586,-297.91 614.583,-297.694\"/>\r\n<text text-anchor=\"middle\" x=\"600.933\" y=\"-327.096\" font-family=\"Times New Roman,serif\" font-size=\"14.00\">1 ; 1,L </text>\r\n<text text-anchor=\"middle\" x=\"600.933\" y=\"-312.096\" font-family=\"Times New Roman,serif\" font-size=\"14.00\"> 0 ; 0,L</text>\r\n</g>\r\n<!-- q4&#45;&gt;Iq0 -->\r\n<g id=\"edge14\" class=\"edge\"><title>q4&#45;&gt;Iq0</title>\r\n<path fill=\"none\" stroke=\"black\" d=\"M585.398,-283.309C564.936,-300.422 525.748,-328.148 486.636,-328.148 233.644,-328.148 233.644,-328.148 233.644,-328.148 171.089,-328.148 137.348,-248.098 123.095,-201.956\"/>\r\n<polygon fill=\"black\" stroke=\"black\" points=\"126.379,-200.718 120.192,-192.117 119.665,-202.699 126.379,-200.718\"/>\r\n<text text-anchor=\"middle\" x=\"360.14\" y=\"-346.948\" font-family=\"Times New Roman,serif\" font-size=\"14.00\">X ; X,R </text>\r\n<text text-anchor=\"middle\" x=\"360.14\" y=\"-331.948\" font-family=\"Times New Roman,serif\" font-size=\"14.00\"> Y ; Y,R</text>\r\n</g>\r\n<!-- q1 -->\r\n<g id=\"node5\" class=\"node\"><title>q1</title>\r\n<ellipse fill=\"none\" stroke=\"black\" cx=\"234.644\" cy=\"-126.148\" rx=\"20.2975\" ry=\"20.2975\"/>\r\n<text text-anchor=\"middle\" x=\"234.644\" y=\"-122.448\" font-family=\"Times New Roman,serif\" font-size=\"14.00\">q1</text>\r\n</g>\r\n<!-- q1&#45;&gt;q2 -->\r\n<g id=\"edge8\" class=\"edge\"><title>q1&#45;&gt;q2</title>\r\n<path fill=\"none\" stroke=\"black\" d=\"M254.94,-126.148C274.969,-126.148 306.547,-126.148 329.695,-126.148\"/>\r\n<polygon fill=\"black\" stroke=\"black\" points=\"329.979,-129.648 339.979,-126.148 329.979,-122.648 329.979,-129.648\"/>\r\n<text text-anchor=\"middle\" x=\"292.792\" y=\"-129.948\" font-family=\"Times New Roman,serif\" font-size=\"14.00\"># ; #,R</text>\r\n</g>\r\n<!-- q1&#45;&gt;q1 -->\r\n<g id=\"edge7\" class=\"edge\"><title>q1&#45;&gt;q1</title>\r\n<path fill=\"none\" stroke=\"black\" d=\"M224.449,-143.807C222.183,-154.362 225.582,-164.296 234.644,-164.296 240.591,-164.296 244.099,-160.018 245.168,-154.093\"/>\r\n<polygon fill=\"black\" stroke=\"black\" points=\"248.657,-153.69 244.839,-143.807 241.661,-153.913 248.657,-153.69\"/>\r\n<text text-anchor=\"middle\" x=\"234.644\" y=\"-183.096\" font-family=\"Times New Roman,serif\" font-size=\"14.00\">0 ; 0,R </text>\r\n<text text-anchor=\"middle\" x=\"234.644\" y=\"-168.096\" font-family=\"Times New Roman,serif\" font-size=\"14.00\"> 1 ; 1,R</text>\r\n</g>\r\n<!-- q3&#45;&gt;q4 -->\r\n<g id=\"edge12\" class=\"edge\"><title>q3&#45;&gt;q4</title>\r\n<path fill=\"none\" stroke=\"black\" d=\"M498.761,-141.559C518.504,-166.653 557.74,-216.521 581.124,-246.242\"/>\r\n<polygon fill=\"black\" stroke=\"black\" points=\"578.617,-248.717 587.552,-254.412 584.119,-244.389 578.617,-248.717\"/>\r\n<text text-anchor=\"middle\" x=\"543.284\" y=\"-222.948\" font-family=\"Times New Roman,serif\" font-size=\"14.00\"># ; #,L</text>\r\n</g>\r\n<!-- q3&#45;&gt;q3 -->\r\n<g id=\"edge11\" class=\"edge\"><title>q3&#45;&gt;q3</title>\r\n<path fill=\"none\" stroke=\"black\" d=\"M475.792,-143.807C473.605,-154.362 476.886,-164.296 485.636,-164.296 491.378,-164.296 494.765,-160.018 495.797,-154.093\"/>\r\n<polygon fill=\"black\" stroke=\"black\" points=\"499.287,-153.694 495.48,-143.807 492.29,-153.91 499.287,-153.694\"/>\r\n<text text-anchor=\"middle\" x=\"485.636\" y=\"-183.096\" font-family=\"Times New Roman,serif\" font-size=\"14.00\">Y ; Y,L </text>\r\n<text text-anchor=\"middle\" x=\"485.636\" y=\"-168.096\" font-family=\"Times New Roman,serif\" font-size=\"14.00\"> X ; X,L</text>\r\n</g>\r\n<!-- Iq0&#45;&gt;q5 -->\r\n<g id=\"edge4\" class=\"edge\"><title>Iq0&#45;&gt;q5</title>\r\n<path fill=\"none\" stroke=\"black\" d=\"M134.381,-180.386C154.261,-190.753 185.133,-206.851 207.167,-218.341\"/>\r\n<polygon fill=\"black\" stroke=\"black\" points=\"205.819,-221.586 216.304,-223.106 209.055,-215.379 205.819,-221.586\"/>\r\n<text text-anchor=\"middle\" x=\"175.496\" y=\"-214.948\" font-family=\"Times New Roman,serif\" font-size=\"14.00\"># ; #,R</text>\r\n</g>\r\n<!-- Iq0&#45;&gt;q1 -->\r\n<g id=\"edge2\" class=\"edge\"><title>Iq0&#45;&gt;q1</title>\r\n<path fill=\"none\" stroke=\"black\" d=\"M135.458,-162.484C154.986,-155.257 184.393,-144.375 205.934,-136.403\"/>\r\n<polygon fill=\"black\" stroke=\"black\" points=\"207.342,-139.614 215.506,-132.861 204.912,-133.049 207.342,-139.614\"/>\r\n<text text-anchor=\"middle\" x=\"175.496\" y=\"-158.948\" font-family=\"Times New Roman,serif\" font-size=\"14.00\">0 ; X,R</text>\r\n</g>\r\n<!-- q7 -->\r\n<g id=\"node9\" class=\"node\"><title>q7</title>\r\n<ellipse fill=\"none\" stroke=\"black\" cx=\"234.644\" cy=\"-20.1482\" rx=\"20.2975\" ry=\"20.2975\"/>\r\n<text text-anchor=\"middle\" x=\"234.644\" y=\"-16.4482\" font-family=\"Times New Roman,serif\" font-size=\"14.00\">q7</text>\r\n</g>\r\n<!-- Iq0&#45;&gt;q7 -->\r\n<g id=\"edge3\" class=\"edge\"><title>Iq0&#45;&gt;q7</title>\r\n<path fill=\"none\" stroke=\"black\" d=\"M128.62,-152.648C150.009,-125.663 191.07,-73.8598 215.024,-43.6396\"/>\r\n<polygon fill=\"black\" stroke=\"black\" points=\"217.827,-45.7378 221.296,-35.7269 212.341,-41.3895 217.827,-45.7378\"/>\r\n<text text-anchor=\"middle\" x=\"175.496\" y=\"-121.948\" font-family=\"Times New Roman,serif\" font-size=\"14.00\">1 ; Y,R</text>\r\n</g>\r\n<!-- q8 -->\r\n<g id=\"node8\" class=\"node\"><title>q8</title>\r\n<ellipse fill=\"none\" stroke=\"black\" cx=\"360.14\" cy=\"-20.1482\" rx=\"20.2975\" ry=\"20.2975\"/>\r\n<text text-anchor=\"middle\" x=\"360.14\" y=\"-16.4482\" font-family=\"Times New Roman,serif\" font-size=\"14.00\">q8</text>\r\n</g>\r\n<!-- q8&#45;&gt;q3 -->\r\n<g id=\"edge18\" class=\"edge\"><title>q8&#45;&gt;q3</title>\r\n<path fill=\"none\" stroke=\"black\" d=\"M376.283,-33.1459C397.694,-51.5233 436.977,-85.2414 461.9,-106.633\"/>\r\n<polygon fill=\"black\" stroke=\"black\" points=\"459.887,-109.518 469.755,-113.375 464.446,-104.206 459.887,-109.518\"/>\r\n<text text-anchor=\"middle\" x=\"427.488\" y=\"-95.9482\" font-family=\"Times New Roman,serif\" font-size=\"14.00\">1 ; Y,L</text>\r\n</g>\r\n<!-- q8&#45;&gt;q8 -->\r\n<g id=\"edge17\" class=\"edge\"><title>q8&#45;&gt;q8</title>\r\n<path fill=\"none\" stroke=\"black\" d=\"M348.744,-37.014C345.771,-47.8591 349.57,-58.2964 360.14,-58.2964 367.242,-58.2964 371.287,-53.5848 372.275,-47.2036\"/>\r\n<polygon fill=\"black\" stroke=\"black\" points=\"375.751,-46.7345 371.536,-37.014 368.769,-47.2411 375.751,-46.7345\"/>\r\n<text text-anchor=\"middle\" x=\"360.14\" y=\"-77.0964\" font-family=\"Times New Roman,serif\" font-size=\"14.00\">X ; X,R </text>\r\n<text text-anchor=\"middle\" x=\"360.14\" y=\"-62.0964\" font-family=\"Times New Roman,serif\" font-size=\"14.00\"> Y ; Y,R</text>\r\n</g>\r\n<!-- q7&#45;&gt;q8 -->\r\n<g id=\"edge16\" class=\"edge\"><title>q7&#45;&gt;q8</title>\r\n<path fill=\"none\" stroke=\"black\" d=\"M254.94,-20.1482C274.969,-20.1482 306.547,-20.1482 329.695,-20.1482\"/>\r\n<polygon fill=\"black\" stroke=\"black\" points=\"329.979,-23.6483 339.979,-20.1482 329.979,-16.6483 329.979,-23.6483\"/>\r\n<text text-anchor=\"middle\" x=\"292.792\" y=\"-23.9482\" font-family=\"Times New Roman,serif\" font-size=\"14.00\"># ; #,R</text>\r\n</g>\r\n<!-- q7&#45;&gt;q7 -->\r\n<g id=\"edge15\" class=\"edge\"><title>q7&#45;&gt;q7</title>\r\n<path fill=\"none\" stroke=\"black\" d=\"M224.449,-37.8067C222.183,-48.362 225.582,-58.2964 234.644,-58.2964 240.591,-58.2964 244.099,-54.018 245.168,-48.0934\"/>\r\n<polygon fill=\"black\" stroke=\"black\" points=\"248.657,-47.6898 244.839,-37.8067 241.661,-47.9133 248.657,-47.6898\"/>\r\n<text text-anchor=\"middle\" x=\"234.644\" y=\"-77.0964\" font-family=\"Times New Roman,serif\" font-size=\"14.00\">0 ; 0,R </text>\r\n<text text-anchor=\"middle\" x=\"234.644\" y=\"-62.0964\" font-family=\"Times New Roman,serif\" font-size=\"14.00\"> 1 ; 1,R</text>\r\n</g>\r\n</g>\r\n</svg>\r\n"
     },
     "metadata": {},
     "execution_count": 7
    }
   ],
   "source": [
    "wpw_tm = md2mc(\n",
    "'''\n",
    "TM \n",
    "!!---------------------------------------------------------------------------\n",
    "!! This is a DTM for recognizing strings of the form w#w where w is in {0,1}*\n",
    "!! The presence of the \"#\" serves as the midpoint-marker, thus allowing the\n",
    "!! TM to deterministically match around it.\n",
    "!! \n",
    "!!---------------------------------------------------------------------------\n",
    "\n",
    "!!---------------------------------------------------------------------------\n",
    "!! State : rd ; wr , mv -> tostates !! comment\n",
    "!!---------------------------------------------------------------------------\n",
    "\n",
    "Iq0     : 0  ; X  , R       -> q1       !! All 0s are converted to X, and matching\n",
    "                                        !!   0s are then sought to the right of the #\n",
    "\n",
    "Iq0     : 1  ; Y  , R       -> q7       !! All 1s are converted to Y, and matching\n",
    "                                        !!   1s are then sought to the right of the #                \n",
    "                \n",
    "Iq0     : #  ; #  , R       -> q5       !! If we see # rightaway, we are in the\n",
    "                                        !!   situation of having to match eps # eps\n",
    "\n",
    "!!---                \n",
    "q5      : X ; X,R | Y ; Y,R -> q5       !! In q5, we skip over X and Y (an equal number\n",
    "                                        !!   of X and Y lie to the left of the #)\n",
    "\n",
    "q5      : .  ; .  , R       -> Fq6      !! .. and we accept when we see a blank (.)\n",
    "!!---                                \n",
    "\n",
    "q1      : 0 ; 0,R | 1 ; 1,R -> q1       !! In q1, skip over the remaining 0s and 1s\n",
    "\n",
    "q1      : #  ; #  , R       -> q2       !! But upon seeing a #, look for a matching\n",
    "                                        !!   0 (since we are in q2, we know this).\n",
    "\n",
    "q2      : X ; X,R | Y ; Y,R -> q2       !! All X and Y are \"past stuff\" to skip over\n",
    "\n",
    "q2      : 0  ; X  , L       -> q3       !! When we find a matching 0, turn that to\n",
    "                                        !!   an X, and sweep left to do the next pass\n",
    "                \n",
    "q3      : X ; X,L | Y ; Y,L -> q3       !! In q3, we move over all past X, Y\n",
    "\n",
    "q3      : #  ; #  , L       -> q4       !! But when we reach the middle marker, \n",
    "                                        !!   we know that the next action is to seek the\n",
    "                                        !!   next unprocessed 0 or 1\n",
    "                \n",
    "q4      : 0 ; 0,L | 1 ; 1,L -> q4       !! In q4, wait till we hit the leftmost 0/1\n",
    "\n",
    "q4      : X ; X,R | Y ; Y,R -> Iq0      !! When we hit an X or Y, \n",
    "                                        !!   we know that we've found the leftmost 0/1. \n",
    "                                        !! Another pass begins.\n",
    "\n",
    "!!---                \n",
    "q7      : 0 ; 0,R | 1 ; 1,R -> q7       !! q7 is similar to q1\n",
    "\n",
    "q7      : #  ; #  , R       -> q8       !! And q8 is similar to q2\n",
    "\n",
    "q8      : X ; X,R | Y ; Y,R -> q8 \n",
    "\n",
    "q8      : 1  ; Y  , L       -> q3      \n",
    "\n",
    "\n",
    "\n",
    "!!---------------------------------------------------------------------------\n",
    "!! You may use the line below as an empty shell to populate for your purposes\n",
    "!! Also serves as a syntax reminder for entering TMs.\n",
    "!!\n",
    "!! State : r1 ; w1 , m1 | r2 ; w2 , m2 -> s1 , s2   !! comment\n",
    "!!\n",
    "!! ..    : .. ; .. , .. | .. ; .. , .. -> .. , ..  !!  ..\n",
    "!!---------------------------------------------------------------------------\n",
    "!!\n",
    "!! Good commenting and software-engineering methods, good clean indentation,\n",
    "!! grouping of similar states, columnar alignment, etc etc. are HUGELY\n",
    "!! important in any programming endeavor -- especially while programming\n",
    "!! automata. Otherwise, you can easily make a mistake in your automaton\n",
    "!! code. Besides, you cannot rely upon others to find your mistakes, as\n",
    "!! they will find your automaton code impossible to read!\n",
    "!!\n",
    "!!---------------------------------------------------------------------------\n",
    "\n",
    "\n",
    "''')\n",
    "\n",
    "dotObj_tm(wpw_tm, FuseEdges = True)"
   ]
  },
  {
   "cell_type": "code",
   "execution_count": 8,
   "metadata": {
    "run_control": {
     "frozen": false,
     "read_only": false
    }
   },
   "outputs": [],
   "source": [
    "DOwpw = dotObj_tm(wpw_tm, FuseEdges = True)"
   ]
  },
  {
   "cell_type": "code",
   "execution_count": 9,
   "metadata": {
    "run_control": {
     "frozen": false,
     "read_only": false
    }
   },
   "outputs": [
    {
     "output_type": "stream",
     "name": "stdout",
     "text": [
      "Allocating  8  tape cells to the RIGHT!\nDetailing the halted configs now.\nAccepted at  ('Fq6', 8, 'XXY#XXY........', 88)\n via .. \n ->('Iq0', 0, '001#001', 120)\n ->('q1', 1, 'X01#001', 119)\n ->('q1', 2, 'X01#001', 118)\n ->('q1', 3, 'X01#001', 117)\n ->('q2', 4, 'X01#001', 116)\n ->('q3', 3, 'X01#X01', 115)\n ->('q4', 2, 'X01#X01', 114)\n ->('q4', 1, 'X01#X01', 113)\n ->('q4', 0, 'X01#X01', 112)\n ->('Iq0', 1, 'X01#X01', 111)\n ->('q1', 2, 'XX1#X01', 110)\n ->('q1', 3, 'XX1#X01', 109)\n ->('q2', 4, 'XX1#X01', 108)\n ->('q2', 5, 'XX1#X01', 107)\n ->('q3', 4, 'XX1#XX1', 106)\n ->('q3', 3, 'XX1#XX1', 105)\n ->('q4', 2, 'XX1#XX1', 104)\n ->('q4', 1, 'XX1#XX1', 103)\n ->('Iq0', 2, 'XX1#XX1', 102)\n ->('q7', 3, 'XXY#XX1', 101)\n ->('q8', 4, 'XXY#XX1', 100)\n ->('q8', 5, 'XXY#XX1', 99)\n ->('q8', 6, 'XXY#XX1', 98)\n ->('q3', 5, 'XXY#XXY', 97)\n ->('q3', 4, 'XXY#XXY', 96)\n ->('q3', 3, 'XXY#XXY', 95)\n ->('q4', 2, 'XXY#XXY', 94)\n ->('Iq0', 3, 'XXY#XXY', 93)\n ->('q5', 4, 'XXY#XXY', 92)\n ->('q5', 5, 'XXY#XXY', 91)\n ->('q5', 6, 'XXY#XXY', 90)\n ->('q5', 7, 'XXY#XXY', 89)\n ->('Fq6', 8, 'XXY#XXY........', 88)\n"
     ]
    }
   ],
   "source": [
    "explore_tm(wpw_tm, \"001#001\", 120)"
   ]
  },
  {
   "cell_type": "code",
   "execution_count": 15,
   "metadata": {},
   "outputs": [
    {
     "output_type": "stream",
     "name": "stdout",
     "text": [
      "Detailing the halted configs now.\nRejected at  ('q2', 5, 'XX1#X10', 107)\n via .. \n ->('Iq0', 0, '001#010', 120)\n ->('q1', 1, 'X01#010', 119)\n ->('q1', 2, 'X01#010', 118)\n ->('q1', 3, 'X01#010', 117)\n ->('q2', 4, 'X01#010', 116)\n ->('q3', 3, 'X01#X10', 115)\n ->('q4', 2, 'X01#X10', 114)\n ->('q4', 1, 'X01#X10', 113)\n ->('q4', 0, 'X01#X10', 112)\n ->('Iq0', 1, 'X01#X10', 111)\n ->('q1', 2, 'XX1#X10', 110)\n ->('q1', 3, 'XX1#X10', 109)\n ->('q2', 4, 'XX1#X10', 108)\n ->('q2', 5, 'XX1#X10', 107)\n"
     ]
    }
   ],
   "source": [
    "explore_tm(wpw_tm, \"001#010\", 120)"
   ]
  },
  {
   "cell_type": "code",
   "execution_count": 10,
   "metadata": {},
   "outputs": [
    {
     "output_type": "display_data",
     "data": {
      "text/plain": "VBox(children=(HBox(children=(Text(value='', description='Input:', layout=Layout(width='500px'), placeholder='…",
      "application/vnd.jupyter.widget-view+json": {
       "version_major": 2,
       "version_minor": 0,
       "model_id": "c435ecc3ac51418fa7e68391bb26cd2f"
      }
     },
     "metadata": {}
    },
    {
     "output_type": "execute_result",
     "data": {
      "text/plain": [
       "<jove.AnimateTM.AnimateTM at 0x17330216100>"
      ]
     },
     "metadata": {},
     "execution_count": 10
    }
   ],
   "source": [
    "# The following display(...) call is needed to see the animation buttons in Colab\n",
    "#display(HTML('<link rel=\"stylesheet\" href=\"//stackpath.bootstrapcdn.com/font-awesome/4.7.0/css/font-awesome.min.css\"/>'))\n",
    "\n",
    "#---SET FUEL TO 100 OR SO, else there will be no animation shown---\n",
    "AnimateTM(wpw_tm, FuseEdges=True)\n",
    "\n"
   ]
  },
  {
   "cell_type": "code",
   "execution_count": 11,
   "metadata": {
    "run_control": {
     "frozen": false,
     "read_only": false
    }
   },
   "outputs": [
    {
     "output_type": "execute_result",
     "data": {
      "text/plain": [
       "<graphviz.dot.Digraph at 0x173301ed400>"
      ],
      "image/svg+xml": "<?xml version=\"1.0\" encoding=\"UTF-8\" standalone=\"no\"?>\r\n<!DOCTYPE svg PUBLIC \"-//W3C//DTD SVG 1.1//EN\"\r\n \"http://www.w3.org/Graphics/SVG/1.1/DTD/svg11.dtd\">\r\n<!-- Generated by graphviz version 2.38.0 (20140413.2041)\r\n -->\r\n<!-- Title: %3 Pages: 1 -->\r\n<svg width=\"945pt\" height=\"570pt\"\r\n viewBox=\"0.00 0.00 944.58 570.30\" xmlns=\"http://www.w3.org/2000/svg\" xmlns:xlink=\"http://www.w3.org/1999/xlink\">\r\n<g id=\"graph0\" class=\"graph\" transform=\"scale(1 1) rotate(0) translate(4 566.296)\">\r\n<title>%3</title>\r\n<polygon fill=\"white\" stroke=\"none\" points=\"-4,4 -4,-566.296 940.579,-566.296 940.579,4 -4,4\"/>\r\n<!-- EMPTY -->\r\n<g id=\"node1\" class=\"node\"><title>EMPTY</title>\r\n</g>\r\n<!-- Iq0 -->\r\n<g id=\"node11\" class=\"node\"><title>Iq0</title>\r\n<ellipse fill=\"none\" stroke=\"black\" cx=\"113.748\" cy=\"-212.148\" rx=\"22.9987\" ry=\"22.9987\"/>\r\n<text text-anchor=\"middle\" x=\"113.748\" y=\"-208.448\" font-family=\"Times New Roman,serif\" font-size=\"14.00\">Iq0</text>\r\n</g>\r\n<!-- EMPTY&#45;&gt;Iq0 -->\r\n<g id=\"edge1\" class=\"edge\"><title>EMPTY&#45;&gt;Iq0</title>\r\n<path fill=\"none\" stroke=\"black\" d=\"M54.3502,-212.148C62.71,-212.148 72.0455,-212.148 80.757,-212.148\"/>\r\n<polygon fill=\"black\" stroke=\"black\" points=\"80.9663,-215.648 90.9663,-212.148 80.9662,-208.648 80.9663,-215.648\"/>\r\n</g>\r\n<!-- q14 -->\r\n<g id=\"node2\" class=\"node\"><title>q14</title>\r\n<ellipse fill=\"none\" stroke=\"black\" cx=\"242.844\" cy=\"-257.148\" rx=\"24.8972\" ry=\"24.8972\"/>\r\n<text text-anchor=\"middle\" x=\"242.844\" y=\"-253.448\" font-family=\"Times New Roman,serif\" font-size=\"14.00\">q14</text>\r\n</g>\r\n<!-- q14&#45;&gt;q14 -->\r\n<g id=\"edge4\" class=\"edge\"><title>q14&#45;&gt;q14</title>\r\n<path fill=\"none\" stroke=\"black\" d=\"M230.834,-279.117C229.173,-290.073 233.176,-299.846 242.844,-299.846 249.339,-299.846 253.278,-295.434 254.659,-289.216\"/>\r\n<polygon fill=\"black\" stroke=\"black\" points=\"258.16,-289.183 254.853,-279.117 251.162,-289.048 258.16,-289.183\"/>\r\n<text text-anchor=\"middle\" x=\"242.844\" y=\"-318.646\" font-family=\"Times New Roman,serif\" font-size=\"14.00\">0 ; 0,R </text>\r\n<text text-anchor=\"middle\" x=\"242.844\" y=\"-303.646\" font-family=\"Times New Roman,serif\" font-size=\"14.00\"> 1 ; 1,R</text>\r\n</g>\r\n<!-- q2 -->\r\n<g id=\"node6\" class=\"node\"><title>q2</title>\r\n<ellipse fill=\"none\" stroke=\"black\" cx=\"372.34\" cy=\"-257.148\" rx=\"20.2975\" ry=\"20.2975\"/>\r\n<text text-anchor=\"middle\" x=\"372.34\" y=\"-253.448\" font-family=\"Times New Roman,serif\" font-size=\"14.00\">q2</text>\r\n</g>\r\n<!-- q14&#45;&gt;q2 -->\r\n<g id=\"edge5\" class=\"edge\"><title>q14&#45;&gt;q2</title>\r\n<path fill=\"none\" stroke=\"black\" d=\"M267.825,-257.148C288.873,-257.148 319.55,-257.148 342.046,-257.148\"/>\r\n<polygon fill=\"black\" stroke=\"black\" points=\"342.047,-260.648 352.047,-257.148 342.047,-253.648 342.047,-260.648\"/>\r\n<text text-anchor=\"middle\" x=\"312.191\" y=\"-275.948\" font-family=\"Times New Roman,serif\" font-size=\"14.00\">0 ; X,L </text>\r\n<text text-anchor=\"middle\" x=\"312.191\" y=\"-260.948\" font-family=\"Times New Roman,serif\" font-size=\"14.00\"> 1 ; Y,L</text>\r\n</g>\r\n<!-- q5 -->\r\n<g id=\"node3\" class=\"node\"><title>q5</title>\r\n<ellipse fill=\"none\" stroke=\"black\" cx=\"612.784\" cy=\"-464.148\" rx=\"20.2975\" ry=\"20.2975\"/>\r\n<text text-anchor=\"middle\" x=\"612.784\" y=\"-460.448\" font-family=\"Times New Roman,serif\" font-size=\"14.00\">q5</text>\r\n</g>\r\n<!-- q5&#45;&gt;q5 -->\r\n<g id=\"edge11\" class=\"edge\"><title>q5&#45;&gt;q5</title>\r\n<path fill=\"none\" stroke=\"black\" d=\"M600.816,-480.617C597.447,-491.603 601.437,-502.296 612.784,-502.296 620.409,-502.296 624.711,-497.469 625.692,-490.969\"/>\r\n<polygon fill=\"black\" stroke=\"black\" points=\"629.142,-490.26 624.753,-480.617 622.171,-490.892 629.142,-490.26\"/>\r\n<text text-anchor=\"middle\" x=\"612.784\" y=\"-551.096\" font-family=\"Times New Roman,serif\" font-size=\"14.00\">0 ; 0,R </text>\r\n<text text-anchor=\"middle\" x=\"612.784\" y=\"-536.096\" font-family=\"Times New Roman,serif\" font-size=\"14.00\"> 2 ; 2,R </text>\r\n<text text-anchor=\"middle\" x=\"612.784\" y=\"-521.096\" font-family=\"Times New Roman,serif\" font-size=\"14.00\"> 3 ; 3,R </text>\r\n<text text-anchor=\"middle\" x=\"612.784\" y=\"-506.096\" font-family=\"Times New Roman,serif\" font-size=\"14.00\"> 1 ; 1,R</text>\r\n</g>\r\n<!-- q11 -->\r\n<g id=\"node9\" class=\"node\"><title>q11</title>\r\n<ellipse fill=\"none\" stroke=\"black\" cx=\"758.682\" cy=\"-424.148\" rx=\"24.8972\" ry=\"24.8972\"/>\r\n<text text-anchor=\"middle\" x=\"758.682\" y=\"-420.448\" font-family=\"Times New Roman,serif\" font-size=\"14.00\">q11</text>\r\n</g>\r\n<!-- q5&#45;&gt;q11 -->\r\n<g id=\"edge12\" class=\"edge\"><title>q5&#45;&gt;q11</title>\r\n<path fill=\"none\" stroke=\"black\" d=\"M632.302,-459.001C655.558,-452.536 695.876,-441.329 724.51,-433.369\"/>\r\n<polygon fill=\"black\" stroke=\"black\" points=\"725.78,-436.649 734.477,-430.599 723.905,-429.905 725.78,-436.649\"/>\r\n<text text-anchor=\"middle\" x=\"683.784\" y=\"-453.948\" font-family=\"Times New Roman,serif\" font-size=\"14.00\">Y ; 3,R</text>\r\n</g>\r\n<!-- q10 -->\r\n<g id=\"node4\" class=\"node\"><title>q10</title>\r\n<ellipse fill=\"none\" stroke=\"black\" cx=\"758.682\" cy=\"-62.1482\" rx=\"24.8972\" ry=\"24.8972\"/>\r\n<text text-anchor=\"middle\" x=\"758.682\" y=\"-58.4482\" font-family=\"Times New Roman,serif\" font-size=\"14.00\">q10</text>\r\n</g>\r\n<!-- q8 -->\r\n<g id=\"node12\" class=\"node\"><title>q8</title>\r\n<ellipse fill=\"none\" stroke=\"black\" cx=\"906.579\" cy=\"-116.148\" rx=\"20.2975\" ry=\"20.2975\"/>\r\n<text text-anchor=\"middle\" x=\"906.579\" y=\"-112.448\" font-family=\"Times New Roman,serif\" font-size=\"14.00\">q8</text>\r\n</g>\r\n<!-- q10&#45;&gt;q8 -->\r\n<g id=\"edge19\" class=\"edge\"><title>q10&#45;&gt;q8</title>\r\n<path fill=\"none\" stroke=\"black\" d=\"M783.111,-65.9809C803.571,-69.8131 833.787,-76.66 858.579,-87.1482 866.278,-90.4053 874.184,-94.8075 881.264,-99.1972\"/>\r\n<polygon fill=\"black\" stroke=\"black\" points=\"879.414,-102.169 889.711,-104.663 883.217,-96.2922 879.414,-102.169\"/>\r\n<text text-anchor=\"middle\" x=\"834.579\" y=\"-120.948\" font-family=\"Times New Roman,serif\" font-size=\"14.00\">. ; .,L </text>\r\n<text text-anchor=\"middle\" x=\"834.579\" y=\"-105.948\" font-family=\"Times New Roman,serif\" font-size=\"14.00\"> 0 ; X,L </text>\r\n<text text-anchor=\"middle\" x=\"834.579\" y=\"-90.9482\" font-family=\"Times New Roman,serif\" font-size=\"14.00\"> 1 ; Y,L</text>\r\n</g>\r\n<!-- q6 -->\r\n<g id=\"node5\" class=\"node\"><title>q6</title>\r\n<ellipse fill=\"none\" stroke=\"black\" cx=\"612.784\" cy=\"-406.148\" rx=\"20.2975\" ry=\"20.2975\"/>\r\n<text text-anchor=\"middle\" x=\"612.784\" y=\"-402.448\" font-family=\"Times New Roman,serif\" font-size=\"14.00\">q6</text>\r\n</g>\r\n<!-- q2&#45;&gt;q2 -->\r\n<g id=\"edge6\" class=\"edge\"><title>q2&#45;&gt;q2</title>\r\n<path fill=\"none\" stroke=\"black\" d=\"M362.771,-275.202C360.818,-285.609 364.008,-295.296 372.34,-295.296 377.808,-295.296 381.061,-291.124 382.099,-285.315\"/>\r\n<polygon fill=\"black\" stroke=\"black\" points=\"385.597,-285.134 381.908,-275.202 378.598,-285.266 385.597,-285.134\"/>\r\n<text text-anchor=\"middle\" x=\"372.34\" y=\"-314.096\" font-family=\"Times New Roman,serif\" font-size=\"14.00\">1 ; 1,L </text>\r\n<text text-anchor=\"middle\" x=\"372.34\" y=\"-299.096\" font-family=\"Times New Roman,serif\" font-size=\"14.00\"> 0 ; 0,L</text>\r\n</g>\r\n<!-- q3 -->\r\n<g id=\"node10\" class=\"node\"><title>q3</title>\r\n<ellipse fill=\"none\" stroke=\"black\" cx=\"481.636\" cy=\"-257.148\" rx=\"20.2975\" ry=\"20.2975\"/>\r\n<text text-anchor=\"middle\" x=\"481.636\" y=\"-253.448\" font-family=\"Times New Roman,serif\" font-size=\"14.00\">q3</text>\r\n</g>\r\n<!-- q2&#45;&gt;q3 -->\r\n<g id=\"edge7\" class=\"edge\"><title>q2&#45;&gt;q3</title>\r\n<path fill=\"none\" stroke=\"black\" d=\"M392.522,-257.148C408.823,-257.148 432.486,-257.148 451.186,-257.148\"/>\r\n<polygon fill=\"black\" stroke=\"black\" points=\"451.258,-260.648 461.258,-257.148 451.258,-253.648 451.258,-260.648\"/>\r\n<text text-anchor=\"middle\" x=\"426.988\" y=\"-260.948\" font-family=\"Times New Roman,serif\" font-size=\"14.00\">. ; .,R</text>\r\n</g>\r\n<!-- q4 -->\r\n<g id=\"node7\" class=\"node\"><title>q4</title>\r\n<ellipse fill=\"none\" stroke=\"black\" cx=\"612.784\" cy=\"-20.1482\" rx=\"20.2975\" ry=\"20.2975\"/>\r\n<text text-anchor=\"middle\" x=\"612.784\" y=\"-16.4482\" font-family=\"Times New Roman,serif\" font-size=\"14.00\">q4</text>\r\n</g>\r\n<!-- q4&#45;&gt;q10 -->\r\n<g id=\"edge18\" class=\"edge\"><title>q4&#45;&gt;q10</title>\r\n<path fill=\"none\" stroke=\"black\" d=\"M632.302,-25.553C655.558,-32.3408 695.876,-44.1088 724.51,-52.4662\"/>\r\n<polygon fill=\"black\" stroke=\"black\" points=\"723.897,-55.9333 734.477,-55.3754 725.858,-49.2137 723.897,-55.9333\"/>\r\n<text text-anchor=\"middle\" x=\"683.784\" y=\"-51.9482\" font-family=\"Times New Roman,serif\" font-size=\"14.00\">X ; 2,R</text>\r\n</g>\r\n<!-- q4&#45;&gt;q4 -->\r\n<g id=\"edge17\" class=\"edge\"><title>q4&#45;&gt;q4</title>\r\n<path fill=\"none\" stroke=\"black\" d=\"M600.816,-36.6171C597.447,-47.6029 601.437,-58.2964 612.784,-58.2964 620.409,-58.2964 624.711,-53.4692 625.692,-46.9694\"/>\r\n<polygon fill=\"black\" stroke=\"black\" points=\"629.142,-46.2598 624.753,-36.6171 622.171,-46.8925 629.142,-46.2598\"/>\r\n<text text-anchor=\"middle\" x=\"612.784\" y=\"-107.096\" font-family=\"Times New Roman,serif\" font-size=\"14.00\">0 ; 0,R </text>\r\n<text text-anchor=\"middle\" x=\"612.784\" y=\"-92.0964\" font-family=\"Times New Roman,serif\" font-size=\"14.00\"> 2 ; 2,R </text>\r\n<text text-anchor=\"middle\" x=\"612.784\" y=\"-77.0964\" font-family=\"Times New Roman,serif\" font-size=\"14.00\"> 3 ; 3,R </text>\r\n<text text-anchor=\"middle\" x=\"612.784\" y=\"-62.0964\" font-family=\"Times New Roman,serif\" font-size=\"14.00\"> 1 ; 1,R</text>\r\n</g>\r\n<!-- q12 -->\r\n<g id=\"node8\" class=\"node\"><title>q12</title>\r\n<ellipse fill=\"none\" stroke=\"black\" cx=\"612.784\" cy=\"-257.148\" rx=\"24.8972\" ry=\"24.8972\"/>\r\n<text text-anchor=\"middle\" x=\"612.784\" y=\"-253.448\" font-family=\"Times New Roman,serif\" font-size=\"14.00\">q12</text>\r\n</g>\r\n<!-- q12&#45;&gt;q12 -->\r\n<g id=\"edge23\" class=\"edge\"><title>q12&#45;&gt;q12</title>\r\n<path fill=\"none\" stroke=\"black\" d=\"M600.121,-278.678C598.172,-289.811 602.394,-299.846 612.784,-299.846 619.766,-299.846 623.962,-295.316 625.373,-288.967\"/>\r\n<polygon fill=\"black\" stroke=\"black\" points=\"628.875,-288.703 625.448,-278.678 621.875,-288.652 628.875,-288.703\"/>\r\n<text text-anchor=\"middle\" x=\"612.784\" y=\"-318.646\" font-family=\"Times New Roman,serif\" font-size=\"14.00\">2 ; 2,R </text>\r\n<text text-anchor=\"middle\" x=\"612.784\" y=\"-303.646\" font-family=\"Times New Roman,serif\" font-size=\"14.00\"> 3 ; 3,R</text>\r\n</g>\r\n<!-- Fq13 -->\r\n<g id=\"node16\" class=\"node\"><title>Fq13</title>\r\n<ellipse fill=\"none\" stroke=\"black\" cx=\"758.682\" cy=\"-257.148\" rx=\"29.8071\" ry=\"29.8071\"/>\r\n<ellipse fill=\"none\" stroke=\"black\" cx=\"758.682\" cy=\"-257.148\" rx=\"33.795\" ry=\"33.795\"/>\r\n<text text-anchor=\"middle\" x=\"758.682\" y=\"-253.448\" font-family=\"Times New Roman,serif\" font-size=\"14.00\">Fq13</text>\r\n</g>\r\n<!-- q12&#45;&gt;Fq13 -->\r\n<g id=\"edge24\" class=\"edge\"><title>q12&#45;&gt;Fq13</title>\r\n<path fill=\"none\" stroke=\"black\" d=\"M637.546,-257.148C658.454,-257.148 689.408,-257.148 714.66,-257.148\"/>\r\n<polygon fill=\"black\" stroke=\"black\" points=\"714.731,-260.648 724.731,-257.148 714.731,-253.648 714.731,-260.648\"/>\r\n<text text-anchor=\"middle\" x=\"683.784\" y=\"-260.948\" font-family=\"Times New Roman,serif\" font-size=\"14.00\">. ; .,R</text>\r\n</g>\r\n<!-- q9 -->\r\n<g id=\"node13\" class=\"node\"><title>q9</title>\r\n<ellipse fill=\"none\" stroke=\"black\" cx=\"906.579\" cy=\"-382.148\" rx=\"20.2975\" ry=\"20.2975\"/>\r\n<text text-anchor=\"middle\" x=\"906.579\" y=\"-378.448\" font-family=\"Times New Roman,serif\" font-size=\"14.00\">q9</text>\r\n</g>\r\n<!-- q11&#45;&gt;q9 -->\r\n<g id=\"edge13\" class=\"edge\"><title>q11&#45;&gt;q9</title>\r\n<path fill=\"none\" stroke=\"black\" d=\"M782.8,-417.493C808.306,-410.15 849.382,-398.326 876.916,-390.4\"/>\r\n<polygon fill=\"black\" stroke=\"black\" points=\"878.103,-393.7 886.745,-387.57 876.167,-386.973 878.103,-393.7\"/>\r\n<text text-anchor=\"middle\" x=\"834.579\" y=\"-443.948\" font-family=\"Times New Roman,serif\" font-size=\"14.00\">. ; .,L </text>\r\n<text text-anchor=\"middle\" x=\"834.579\" y=\"-428.948\" font-family=\"Times New Roman,serif\" font-size=\"14.00\"> 0 ; X,L </text>\r\n<text text-anchor=\"middle\" x=\"834.579\" y=\"-413.948\" font-family=\"Times New Roman,serif\" font-size=\"14.00\"> 1 ; Y,L</text>\r\n</g>\r\n<!-- q3&#45;&gt;q5 -->\r\n<g id=\"edge10\" class=\"edge\"><title>q3&#45;&gt;q5</title>\r\n<path fill=\"none\" stroke=\"black\" d=\"M482.126,-277.385C482.34,-310.181 487.213,-375.467 519.784,-417.148 535.634,-437.431 562.626,-449.743 583.287,-456.648\"/>\r\n<polygon fill=\"black\" stroke=\"black\" points=\"582.256,-459.992 592.844,-459.614 584.331,-453.307 582.256,-459.992\"/>\r\n<text text-anchor=\"middle\" x=\"542.284\" y=\"-453.948\" font-family=\"Times New Roman,serif\" font-size=\"14.00\">1 ; Q,R</text>\r\n</g>\r\n<!-- q3&#45;&gt;q6 -->\r\n<g id=\"edge8\" class=\"edge\"><title>q3&#45;&gt;q6</title>\r\n<path fill=\"none\" stroke=\"black\" d=\"M483.895,-277.315C486.526,-302.645 494.657,-345.955 519.784,-372.148 536.347,-389.414 562.443,-397.969 582.618,-402.174\"/>\r\n<polygon fill=\"black\" stroke=\"black\" points=\"582.079,-405.634 592.547,-404 583.345,-398.749 582.079,-405.634\"/>\r\n<text text-anchor=\"middle\" x=\"542.284\" y=\"-401.948\" font-family=\"Times New Roman,serif\" font-size=\"14.00\">X ; X,R</text>\r\n</g>\r\n<!-- q3&#45;&gt;q4 -->\r\n<g id=\"edge16\" class=\"edge\"><title>q3&#45;&gt;q4</title>\r\n<path fill=\"none\" stroke=\"black\" d=\"M484.804,-236.963C488.529,-208.649 497.966,-156.232 519.784,-117.148 537.363,-85.6599 567.493,-56.6625 588.464,-38.7317\"/>\r\n<polygon fill=\"black\" stroke=\"black\" points=\"590.854,-41.2958 596.28,-32.1961 586.363,-35.9257 590.854,-41.2958\"/>\r\n<text text-anchor=\"middle\" x=\"542.284\" y=\"-120.948\" font-family=\"Times New Roman,serif\" font-size=\"14.00\">0 ; P,R</text>\r\n</g>\r\n<!-- q3&#45;&gt;q12 -->\r\n<g id=\"edge22\" class=\"edge\"><title>q3&#45;&gt;q12</title>\r\n<path fill=\"none\" stroke=\"black\" d=\"M501.971,-257.148C521.954,-257.148 553.551,-257.148 577.733,-257.148\"/>\r\n<polygon fill=\"black\" stroke=\"black\" points=\"577.919,-260.648 587.919,-257.148 577.919,-253.648 577.919,-260.648\"/>\r\n<text text-anchor=\"middle\" x=\"542.284\" y=\"-275.948\" font-family=\"Times New Roman,serif\" font-size=\"14.00\">2 ; 2,R </text>\r\n<text text-anchor=\"middle\" x=\"542.284\" y=\"-260.948\" font-family=\"Times New Roman,serif\" font-size=\"14.00\"> 3 ; 3,R</text>\r\n</g>\r\n<!-- q7 -->\r\n<g id=\"node14\" class=\"node\"><title>q7</title>\r\n<ellipse fill=\"none\" stroke=\"black\" cx=\"612.784\" cy=\"-194.148\" rx=\"20.2975\" ry=\"20.2975\"/>\r\n<text text-anchor=\"middle\" x=\"612.784\" y=\"-190.448\" font-family=\"Times New Roman,serif\" font-size=\"14.00\">q7</text>\r\n</g>\r\n<!-- q3&#45;&gt;q7 -->\r\n<g id=\"edge9\" class=\"edge\"><title>q3&#45;&gt;q7</title>\r\n<path fill=\"none\" stroke=\"black\" d=\"M499.975,-248.159C506.203,-244.962 513.292,-241.361 519.784,-238.148 541.576,-227.367 566.46,-215.492 584.85,-206.798\"/>\r\n<polygon fill=\"black\" stroke=\"black\" points=\"586.529,-209.876 594.08,-202.444 583.542,-203.545 586.529,-209.876\"/>\r\n<text text-anchor=\"middle\" x=\"542.284\" y=\"-241.948\" font-family=\"Times New Roman,serif\" font-size=\"14.00\">Y ; Y,R</text>\r\n</g>\r\n<!-- Iq0&#45;&gt;q14 -->\r\n<g id=\"edge2\" class=\"edge\"><title>Iq0&#45;&gt;q14</title>\r\n<path fill=\"none\" stroke=\"black\" d=\"M135.451,-219.478C155.639,-226.626 186.624,-237.597 209.959,-245.859\"/>\r\n<polygon fill=\"black\" stroke=\"black\" points=\"208.842,-249.176 219.437,-249.215 211.179,-242.578 208.842,-249.176\"/>\r\n<text text-anchor=\"middle\" x=\"174.996\" y=\"-258.948\" font-family=\"Times New Roman,serif\" font-size=\"14.00\">0 ; 0,S </text>\r\n<text text-anchor=\"middle\" x=\"174.996\" y=\"-243.948\" font-family=\"Times New Roman,serif\" font-size=\"14.00\"> 1 ; 1,S</text>\r\n</g>\r\n<!-- Fq1 -->\r\n<g id=\"node15\" class=\"node\"><title>Fq1</title>\r\n<ellipse fill=\"none\" stroke=\"black\" cx=\"242.844\" cy=\"-185.148\" rx=\"25.2169\" ry=\"25.2169\"/>\r\n<ellipse fill=\"none\" stroke=\"black\" cx=\"242.844\" cy=\"-185.148\" rx=\"29.1963\" ry=\"29.1963\"/>\r\n<text text-anchor=\"middle\" x=\"242.844\" y=\"-181.448\" font-family=\"Times New Roman,serif\" font-size=\"14.00\">Fq1</text>\r\n</g>\r\n<!-- Iq0&#45;&gt;Fq1 -->\r\n<g id=\"edge3\" class=\"edge\"><title>Iq0&#45;&gt;Fq1</title>\r\n<path fill=\"none\" stroke=\"black\" d=\"M136.185,-207.214C142.111,-205.872 148.549,-204.434 154.496,-203.148 170.604,-199.665 188.417,-195.967 203.732,-192.834\"/>\r\n<polygon fill=\"black\" stroke=\"black\" points=\"204.785,-196.192 213.885,-190.766 203.387,-189.333 204.785,-196.192\"/>\r\n<text text-anchor=\"middle\" x=\"174.996\" y=\"-206.948\" font-family=\"Times New Roman,serif\" font-size=\"14.00\">. ; .,R</text>\r\n</g>\r\n<!-- q8&#45;&gt;q3 -->\r\n<g id=\"edge21\" class=\"edge\"><title>q8&#45;&gt;q3</title>\r\n<path fill=\"none\" stroke=\"black\" d=\"M887.532,-123.281C878.893,-126.438 868.329,-129.931 858.579,-132.148 738.203,-159.523 697.194,-118.776 582.784,-165.148 548.249,-179.146 518.229,-210.855 500.285,-233.115\"/>\r\n<polygon fill=\"black\" stroke=\"black\" points=\"497.422,-231.095 494.015,-241.127 502.935,-235.409 497.422,-231.095\"/>\r\n<text text-anchor=\"middle\" x=\"683.784\" y=\"-147.948\" font-family=\"Times New Roman,serif\" font-size=\"14.00\">P ; P,R</text>\r\n</g>\r\n<!-- q8&#45;&gt;q8 -->\r\n<g id=\"edge20\" class=\"edge\"><title>q8&#45;&gt;q8</title>\r\n<path fill=\"none\" stroke=\"black\" d=\"M894.397,-132.22C890.706,-143.344 894.767,-154.296 906.579,-154.296 914.7,-154.296 919.157,-149.12 919.95,-142.269\"/>\r\n<polygon fill=\"black\" stroke=\"black\" points=\"923.412,-141.739 918.761,-132.22 916.461,-142.562 923.412,-141.739\"/>\r\n<text text-anchor=\"middle\" x=\"906.579\" y=\"-203.096\" font-family=\"Times New Roman,serif\" font-size=\"14.00\">3 ; 3,L </text>\r\n<text text-anchor=\"middle\" x=\"906.579\" y=\"-188.096\" font-family=\"Times New Roman,serif\" font-size=\"14.00\"> 2 ; 2,L </text>\r\n<text text-anchor=\"middle\" x=\"906.579\" y=\"-173.096\" font-family=\"Times New Roman,serif\" font-size=\"14.00\"> 1 ; 1,L </text>\r\n<text text-anchor=\"middle\" x=\"906.579\" y=\"-158.096\" font-family=\"Times New Roman,serif\" font-size=\"14.00\"> 0 ; 0,L</text>\r\n</g>\r\n<!-- q9&#45;&gt;q3 -->\r\n<g id=\"edge15\" class=\"edge\"><title>q9&#45;&gt;q3</title>\r\n<path fill=\"none\" stroke=\"black\" d=\"M886.143,-382.947C834.544,-384.365 690.686,-383.723 582.784,-339.148 550.84,-325.952 521.129,-299.012 502.5,-279.607\"/>\r\n<polygon fill=\"black\" stroke=\"black\" points=\"504.84,-276.986 495.454,-272.072 499.727,-281.766 504.84,-276.986\"/>\r\n<text text-anchor=\"middle\" x=\"683.784\" y=\"-375.948\" font-family=\"Times New Roman,serif\" font-size=\"14.00\">Q ; Q,R</text>\r\n</g>\r\n<!-- q9&#45;&gt;q9 -->\r\n<g id=\"edge14\" class=\"edge\"><title>q9&#45;&gt;q9</title>\r\n<path fill=\"none\" stroke=\"black\" d=\"M894.397,-398.22C890.706,-409.344 894.767,-420.296 906.579,-420.296 914.7,-420.296 919.157,-415.12 919.95,-408.269\"/>\r\n<polygon fill=\"black\" stroke=\"black\" points=\"923.412,-407.739 918.761,-398.22 916.461,-408.562 923.412,-407.739\"/>\r\n<text text-anchor=\"middle\" x=\"906.579\" y=\"-469.096\" font-family=\"Times New Roman,serif\" font-size=\"14.00\">3 ; 3,L </text>\r\n<text text-anchor=\"middle\" x=\"906.579\" y=\"-454.096\" font-family=\"Times New Roman,serif\" font-size=\"14.00\"> 2 ; 2,L </text>\r\n<text text-anchor=\"middle\" x=\"906.579\" y=\"-439.096\" font-family=\"Times New Roman,serif\" font-size=\"14.00\"> 1 ; 1,L </text>\r\n<text text-anchor=\"middle\" x=\"906.579\" y=\"-424.096\" font-family=\"Times New Roman,serif\" font-size=\"14.00\"> 0 ; 0,L</text>\r\n</g>\r\n</g>\r\n</svg>\r\n"
     },
     "metadata": {},
     "execution_count": 11
    }
   ],
   "source": [
    "wwndtm_md = md2mc(\n",
    "\n",
    "'''\n",
    "TM \n",
    "!!---------------------------------------------------------------------------\n",
    "!! This is a TM for ww processing. Guesses midpoint using nondet.\n",
    "!! \n",
    "!!---------------------------------------------------------------------------\n",
    "\n",
    "!!---------------------------------------------------------------------------\n",
    "!! State : rd ; wr , mv -> tostates !! comment\n",
    "!!---------------------------------------------------------------------------\n",
    "\n",
    "Iq0     : 0  ; 0  , S  -> q14      !! This simulates the TM taking a guess\n",
    "Iq0     : 1  ; 1  , S  -> q14      !! that it hasn't seen the midpoint. It\n",
    "                                   !! moves to q14\n",
    "\n",
    "Iq0     : .  ; .  , R  -> Fq1      !! yay! shortest acceptance is for eps eps\n",
    "                            !! i.e. facing a sea of blanks that encodes\n",
    "                !! an epsilon followed by another epsilon.\n",
    "\n",
    "!!---------------------------------------------------------------------------\n",
    "                \n",
    "q14     : 0  ; 0 , R   -> q14      !! The TM skips over 0s or\n",
    "                !! 1s for a while, and then chooses a cell,\n",
    "                \n",
    "q14     : 0  ; X , L   -> q2       !! declaring it the midpoint, or more specifically\n",
    "                        !! FIRST CHARACTER PAST MIDPOINT, by marking it 'X'                 \n",
    "                !! and then moves to q2 (to march around the\n",
    "                !! chosen midpoint).\n",
    "                \n",
    "q14     : 1  ; 1 , R   -> q14      !! Similar actions as with 0 in state q14,\n",
    "q14     : 1  ; Y , L   -> q2       !! except that it \"dings\" the \"1\" with a \"Y\"\n",
    "                        !! to mark it the FIRST CHARACTER PAST MIDPOINT.\n",
    "                \n",
    "                                   !! Then we march around it. While the separate\n",
    "                !! use of \"X\" and \"Y\" may not be necessary,\n",
    "                !! it improves understandability when you\n",
    "                !! finally see the result of TM executions.\n",
    "\n",
    "q2      : 0  ; 0 , L   -> q2       !! The TM is now winding back, seeking the\n",
    "q2      : 1  ; 1 , L   -> q2       !! left-end of the tape till hit hits a '.'\n",
    "                                   !! (blank).\n",
    "\n",
    "q2      : .  ; . , R   -> q3       !! When that happens, the TM goes to state q3\n",
    "                                   !! to begin its work of \"matching around.\"\n",
    "                \n",
    "                !! We describe the q3,q5,q11,q9,q3 loop well.\n",
    "                !! The other loop q3,q4,q10,q8,q3 is similar.\n",
    "\n",
    "!!-----------------------------------------------------------------\n",
    "\n",
    "q3      : X ; X , R    -> q6       !! This state is a stuck state (no progress)\n",
    "                       !! WE came to q3 because we dinged a 0->X\n",
    "                !! or a 1->Y while in q14; so its matching\n",
    "                !! \"partner\" 0 or 1 must be found to the\n",
    "                !! left. Unfortunately, we are finding an\n",
    "                !! X or a Y.  Thus, no \"match around the middle\"\n",
    "                !! is likely to happen.\n",
    "\n",
    "q3      : Y ; Y , R    -> q7    !! This state is ALSO a stuck state for similar\n",
    "                       !! reasons as expressed in the comments\n",
    "                !! associated with q3 : X ; X ...\n",
    "\n",
    "!!-----------------------------------------------------------------\n",
    "!! Description of the q3,q5,q11,q9,q3 loop :\n",
    "\n",
    "q3      : 1 ; Q , R    -> q5       !! Upon seeing a 1, change to Q. Then MUST see a \n",
    "                                   !!   matching Y, then change to 3, \n",
    "                                   !!   and go right, and to state q5.\n",
    "\n",
    "                !! We do this because 'Y' represents what\n",
    "                !! was '1' and got marked as midpoint (well,\n",
    "                !! one-past midpoint..).                \n",
    "\n",
    "!!-- What will happen in q5,q11,q9,q3 --\n",
    "                \n",
    "!! So we have to get past this assumed\n",
    "!! midpoint and choose the next\n",
    "!! \"one past midpoint that has not been seen so far\".\n",
    "   \n",
    "!! We enter q11 to then ding a matching\n",
    "!! 0 to X or 1 to Y, moving left.\n",
    "            \n",
    "!! A blank sends us leftwards, as well.\n",
    "            \n",
    "!! We sweep left till we hit a Q. We MUST see a Q\n",
    "!! because we entered \"this lobe\" by dinging a 1->Q.\n",
    "\n",
    "!! The process repeats from state q3.\n",
    "\n",
    "\n",
    "\n",
    "q5      : 0;0,R | 1;1,R | 2;2,R | 3;3,R -> q5  !! punt the 0/1/2/3; we need a \"Y\".\n",
    "\n",
    "q5      : Y  ; 3, R               -> q11 !! ah-ha , got a Y. Ding to 3, seek 0/1/.\n",
    "\n",
    "q11     : 1;Y,L | .;.,L | 0;X,L   -> q9  !! phew! got to sweep left now!\n",
    "\n",
    "q9      : 0;0,L | 1;1,L | 2;2,L | 3;3,L -> q9  !! whee! going left!\n",
    "\n",
    "q9      : Q ; Q , R                     -> q3  !! Boiinggg - now gonna go right!\n",
    "\n",
    "!!-----------------------------------------------------------------\n",
    "!! Description of the q3,q4,q10,q8,q3 loop :\n",
    "\n",
    "q3      : 0 ; P , R    -> q4    !! This is similar to q3 : 1 ; Q , R -> q5 above\n",
    "\n",
    "\n",
    "q4      : 0;0,R | 1;1,R | 2;2,R | 3;3,R -> q4  !! punt the 0/1/2/3; we need a \"X\".\n",
    "\n",
    "q4      : X  ; 2, R               -> q10 !! ah-ha , got a X. Ding to 2, seek 0/1/.\n",
    "\n",
    "q10     : 1;Y,L | .;.,L | 0;X,L   -> q8  !! phew! got to sweep left now!\n",
    "\n",
    "q8      : 0;0,L | 1;1,L | 2;2,L | 3;3,L -> q8  !! whee! going left!\n",
    "\n",
    "q8      : P ; P , R                     -> q3  !! Boiinggg - now gonna go right!\n",
    "\n",
    "!!-----------------------------------------------------------------\n",
    "\n",
    "q3      : 2;2,R | 3;3,R -> q12     !! Seeing every sign of acceptance!!\n",
    "\n",
    "                !! We are seeing piles of 2 and 3\n",
    "                !! ALSO did not get stuck in q6 or q7\n",
    "                !! That means all the matches went fine\n",
    "\n",
    "q12     : 2 ; 2 , R | 3 ; 3 , R -> q12 !! Skip over piles of past 2s and 3s\n",
    "\n",
    "q12     : . ; . , R     -> Fq13    !! Yay, acceptance when we hit a blank!\n",
    "\n",
    "\n",
    "!!---------------------------------------------------------------------------\n",
    "!! You may use the line below as an empty shell to populate for your purposes\n",
    "!! Also serves as a syntax reminder for entering DFAs.\n",
    "!!\n",
    "!! State : r1 ; w1 , m1 | r2 ; w2 , m2 -> s1 , s2   !! comment\n",
    "!!\n",
    "!! ..    : .. ; .. , .. | .. ; .. , .. -> .. , ..  !!  ..\n",
    "!!---------------------------------------------------------------------------\n",
    "!!\n",
    "!! Good commenting and software-engineering methods, good clean indentation,\n",
    "!! grouping of similar states, columnar alignment, etc etc. are HUGELY\n",
    "!! important in any programming endeavor -- especially while programming\n",
    "!! automata. Otherwise, you can easily make a mistake in your automaton\n",
    "!! code. Besides, you cannot rely upon others to find your mistakes, as\n",
    "!! they will find your automaton code impossible to read!\n",
    "!!\n",
    "!!---------------------------------------------------------------------------\n",
    "''' \n",
    ")\n",
    "\n",
    "dotObj_tm(wwndtm_md, FuseEdges=True)"
   ]
  },
  {
   "cell_type": "code",
   "execution_count": 12,
   "metadata": {
    "run_control": {
     "frozen": false,
     "read_only": false
    }
   },
   "outputs": [
    {
     "output_type": "execute_result",
     "data": {
      "text/plain": [
       "<graphviz.dot.Digraph at 0x173303f65b0>"
      ],
      "image/svg+xml": "<?xml version=\"1.0\" encoding=\"UTF-8\" standalone=\"no\"?>\r\n<!DOCTYPE svg PUBLIC \"-//W3C//DTD SVG 1.1//EN\"\r\n \"http://www.w3.org/Graphics/SVG/1.1/DTD/svg11.dtd\">\r\n<!-- Generated by graphviz version 2.38.0 (20140413.2041)\r\n -->\r\n<!-- Title: %3 Pages: 1 -->\r\n<svg width=\"945pt\" height=\"570pt\"\r\n viewBox=\"0.00 0.00 944.58 570.30\" xmlns=\"http://www.w3.org/2000/svg\" xmlns:xlink=\"http://www.w3.org/1999/xlink\">\r\n<g id=\"graph0\" class=\"graph\" transform=\"scale(1 1) rotate(0) translate(4 566.296)\">\r\n<title>%3</title>\r\n<polygon fill=\"white\" stroke=\"none\" points=\"-4,4 -4,-566.296 940.579,-566.296 940.579,4 -4,4\"/>\r\n<!-- EMPTY -->\r\n<g id=\"node1\" class=\"node\"><title>EMPTY</title>\r\n</g>\r\n<!-- Iq0 -->\r\n<g id=\"node11\" class=\"node\"><title>Iq0</title>\r\n<ellipse fill=\"none\" stroke=\"black\" cx=\"113.748\" cy=\"-212.148\" rx=\"22.9987\" ry=\"22.9987\"/>\r\n<text text-anchor=\"middle\" x=\"113.748\" y=\"-208.448\" font-family=\"Times New Roman,serif\" font-size=\"14.00\">Iq0</text>\r\n</g>\r\n<!-- EMPTY&#45;&gt;Iq0 -->\r\n<g id=\"edge1\" class=\"edge\"><title>EMPTY&#45;&gt;Iq0</title>\r\n<path fill=\"none\" stroke=\"black\" d=\"M54.3502,-212.148C62.71,-212.148 72.0455,-212.148 80.757,-212.148\"/>\r\n<polygon fill=\"black\" stroke=\"black\" points=\"80.9663,-215.648 90.9663,-212.148 80.9662,-208.648 80.9663,-215.648\"/>\r\n</g>\r\n<!-- q14 -->\r\n<g id=\"node2\" class=\"node\"><title>q14</title>\r\n<ellipse fill=\"none\" stroke=\"black\" cx=\"242.844\" cy=\"-257.148\" rx=\"24.8972\" ry=\"24.8972\"/>\r\n<text text-anchor=\"middle\" x=\"242.844\" y=\"-253.448\" font-family=\"Times New Roman,serif\" font-size=\"14.00\">q14</text>\r\n</g>\r\n<!-- q14&#45;&gt;q14 -->\r\n<g id=\"edge4\" class=\"edge\"><title>q14&#45;&gt;q14</title>\r\n<path fill=\"none\" stroke=\"black\" d=\"M230.834,-279.117C229.173,-290.073 233.176,-299.846 242.844,-299.846 249.339,-299.846 253.278,-295.434 254.659,-289.216\"/>\r\n<polygon fill=\"black\" stroke=\"black\" points=\"258.16,-289.183 254.853,-279.117 251.162,-289.048 258.16,-289.183\"/>\r\n<text text-anchor=\"middle\" x=\"242.844\" y=\"-318.646\" font-family=\"Times New Roman,serif\" font-size=\"14.00\">0 ; 0,R </text>\r\n<text text-anchor=\"middle\" x=\"242.844\" y=\"-303.646\" font-family=\"Times New Roman,serif\" font-size=\"14.00\"> 1 ; 1,R</text>\r\n</g>\r\n<!-- q2 -->\r\n<g id=\"node6\" class=\"node\"><title>q2</title>\r\n<ellipse fill=\"none\" stroke=\"black\" cx=\"372.34\" cy=\"-257.148\" rx=\"20.2975\" ry=\"20.2975\"/>\r\n<text text-anchor=\"middle\" x=\"372.34\" y=\"-253.448\" font-family=\"Times New Roman,serif\" font-size=\"14.00\">q2</text>\r\n</g>\r\n<!-- q14&#45;&gt;q2 -->\r\n<g id=\"edge5\" class=\"edge\"><title>q14&#45;&gt;q2</title>\r\n<path fill=\"none\" stroke=\"black\" d=\"M267.825,-257.148C288.873,-257.148 319.55,-257.148 342.046,-257.148\"/>\r\n<polygon fill=\"black\" stroke=\"black\" points=\"342.047,-260.648 352.047,-257.148 342.047,-253.648 342.047,-260.648\"/>\r\n<text text-anchor=\"middle\" x=\"312.191\" y=\"-275.948\" font-family=\"Times New Roman,serif\" font-size=\"14.00\">0 ; X,L </text>\r\n<text text-anchor=\"middle\" x=\"312.191\" y=\"-260.948\" font-family=\"Times New Roman,serif\" font-size=\"14.00\"> 1 ; Y,L</text>\r\n</g>\r\n<!-- q5 -->\r\n<g id=\"node3\" class=\"node\"><title>q5</title>\r\n<ellipse fill=\"none\" stroke=\"black\" cx=\"612.784\" cy=\"-464.148\" rx=\"20.2975\" ry=\"20.2975\"/>\r\n<text text-anchor=\"middle\" x=\"612.784\" y=\"-460.448\" font-family=\"Times New Roman,serif\" font-size=\"14.00\">q5</text>\r\n</g>\r\n<!-- q5&#45;&gt;q5 -->\r\n<g id=\"edge11\" class=\"edge\"><title>q5&#45;&gt;q5</title>\r\n<path fill=\"none\" stroke=\"black\" d=\"M600.816,-480.617C597.447,-491.603 601.437,-502.296 612.784,-502.296 620.409,-502.296 624.711,-497.469 625.692,-490.969\"/>\r\n<polygon fill=\"black\" stroke=\"black\" points=\"629.142,-490.26 624.753,-480.617 622.171,-490.892 629.142,-490.26\"/>\r\n<text text-anchor=\"middle\" x=\"612.784\" y=\"-551.096\" font-family=\"Times New Roman,serif\" font-size=\"14.00\">0 ; 0,R </text>\r\n<text text-anchor=\"middle\" x=\"612.784\" y=\"-536.096\" font-family=\"Times New Roman,serif\" font-size=\"14.00\"> 2 ; 2,R </text>\r\n<text text-anchor=\"middle\" x=\"612.784\" y=\"-521.096\" font-family=\"Times New Roman,serif\" font-size=\"14.00\"> 3 ; 3,R </text>\r\n<text text-anchor=\"middle\" x=\"612.784\" y=\"-506.096\" font-family=\"Times New Roman,serif\" font-size=\"14.00\"> 1 ; 1,R</text>\r\n</g>\r\n<!-- q11 -->\r\n<g id=\"node9\" class=\"node\"><title>q11</title>\r\n<ellipse fill=\"none\" stroke=\"black\" cx=\"758.682\" cy=\"-424.148\" rx=\"24.8972\" ry=\"24.8972\"/>\r\n<text text-anchor=\"middle\" x=\"758.682\" y=\"-420.448\" font-family=\"Times New Roman,serif\" font-size=\"14.00\">q11</text>\r\n</g>\r\n<!-- q5&#45;&gt;q11 -->\r\n<g id=\"edge12\" class=\"edge\"><title>q5&#45;&gt;q11</title>\r\n<path fill=\"none\" stroke=\"black\" d=\"M632.302,-459.001C655.558,-452.536 695.876,-441.329 724.51,-433.369\"/>\r\n<polygon fill=\"black\" stroke=\"black\" points=\"725.78,-436.649 734.477,-430.599 723.905,-429.905 725.78,-436.649\"/>\r\n<text text-anchor=\"middle\" x=\"683.784\" y=\"-453.948\" font-family=\"Times New Roman,serif\" font-size=\"14.00\">Y ; 3,R</text>\r\n</g>\r\n<!-- q10 -->\r\n<g id=\"node4\" class=\"node\"><title>q10</title>\r\n<ellipse fill=\"none\" stroke=\"black\" cx=\"758.682\" cy=\"-62.1482\" rx=\"24.8972\" ry=\"24.8972\"/>\r\n<text text-anchor=\"middle\" x=\"758.682\" y=\"-58.4482\" font-family=\"Times New Roman,serif\" font-size=\"14.00\">q10</text>\r\n</g>\r\n<!-- q8 -->\r\n<g id=\"node12\" class=\"node\"><title>q8</title>\r\n<ellipse fill=\"none\" stroke=\"black\" cx=\"906.579\" cy=\"-116.148\" rx=\"20.2975\" ry=\"20.2975\"/>\r\n<text text-anchor=\"middle\" x=\"906.579\" y=\"-112.448\" font-family=\"Times New Roman,serif\" font-size=\"14.00\">q8</text>\r\n</g>\r\n<!-- q10&#45;&gt;q8 -->\r\n<g id=\"edge19\" class=\"edge\"><title>q10&#45;&gt;q8</title>\r\n<path fill=\"none\" stroke=\"black\" d=\"M783.111,-65.9809C803.571,-69.8131 833.787,-76.66 858.579,-87.1482 866.278,-90.4053 874.184,-94.8075 881.264,-99.1972\"/>\r\n<polygon fill=\"black\" stroke=\"black\" points=\"879.414,-102.169 889.711,-104.663 883.217,-96.2922 879.414,-102.169\"/>\r\n<text text-anchor=\"middle\" x=\"834.579\" y=\"-120.948\" font-family=\"Times New Roman,serif\" font-size=\"14.00\">. ; .,L </text>\r\n<text text-anchor=\"middle\" x=\"834.579\" y=\"-105.948\" font-family=\"Times New Roman,serif\" font-size=\"14.00\"> 0 ; X,L </text>\r\n<text text-anchor=\"middle\" x=\"834.579\" y=\"-90.9482\" font-family=\"Times New Roman,serif\" font-size=\"14.00\"> 1 ; Y,L</text>\r\n</g>\r\n<!-- q6 -->\r\n<g id=\"node5\" class=\"node\"><title>q6</title>\r\n<ellipse fill=\"none\" stroke=\"black\" cx=\"612.784\" cy=\"-406.148\" rx=\"20.2975\" ry=\"20.2975\"/>\r\n<text text-anchor=\"middle\" x=\"612.784\" y=\"-402.448\" font-family=\"Times New Roman,serif\" font-size=\"14.00\">q6</text>\r\n</g>\r\n<!-- q2&#45;&gt;q2 -->\r\n<g id=\"edge6\" class=\"edge\"><title>q2&#45;&gt;q2</title>\r\n<path fill=\"none\" stroke=\"black\" d=\"M362.771,-275.202C360.818,-285.609 364.008,-295.296 372.34,-295.296 377.808,-295.296 381.061,-291.124 382.099,-285.315\"/>\r\n<polygon fill=\"black\" stroke=\"black\" points=\"385.597,-285.134 381.908,-275.202 378.598,-285.266 385.597,-285.134\"/>\r\n<text text-anchor=\"middle\" x=\"372.34\" y=\"-314.096\" font-family=\"Times New Roman,serif\" font-size=\"14.00\">1 ; 1,L </text>\r\n<text text-anchor=\"middle\" x=\"372.34\" y=\"-299.096\" font-family=\"Times New Roman,serif\" font-size=\"14.00\"> 0 ; 0,L</text>\r\n</g>\r\n<!-- q3 -->\r\n<g id=\"node10\" class=\"node\"><title>q3</title>\r\n<ellipse fill=\"none\" stroke=\"black\" cx=\"481.636\" cy=\"-257.148\" rx=\"20.2975\" ry=\"20.2975\"/>\r\n<text text-anchor=\"middle\" x=\"481.636\" y=\"-253.448\" font-family=\"Times New Roman,serif\" font-size=\"14.00\">q3</text>\r\n</g>\r\n<!-- q2&#45;&gt;q3 -->\r\n<g id=\"edge7\" class=\"edge\"><title>q2&#45;&gt;q3</title>\r\n<path fill=\"none\" stroke=\"black\" d=\"M392.522,-257.148C408.823,-257.148 432.486,-257.148 451.186,-257.148\"/>\r\n<polygon fill=\"black\" stroke=\"black\" points=\"451.258,-260.648 461.258,-257.148 451.258,-253.648 451.258,-260.648\"/>\r\n<text text-anchor=\"middle\" x=\"426.988\" y=\"-260.948\" font-family=\"Times New Roman,serif\" font-size=\"14.00\">. ; .,R</text>\r\n</g>\r\n<!-- q4 -->\r\n<g id=\"node7\" class=\"node\"><title>q4</title>\r\n<ellipse fill=\"none\" stroke=\"black\" cx=\"612.784\" cy=\"-20.1482\" rx=\"20.2975\" ry=\"20.2975\"/>\r\n<text text-anchor=\"middle\" x=\"612.784\" y=\"-16.4482\" font-family=\"Times New Roman,serif\" font-size=\"14.00\">q4</text>\r\n</g>\r\n<!-- q4&#45;&gt;q10 -->\r\n<g id=\"edge18\" class=\"edge\"><title>q4&#45;&gt;q10</title>\r\n<path fill=\"none\" stroke=\"black\" d=\"M632.302,-25.553C655.558,-32.3408 695.876,-44.1088 724.51,-52.4662\"/>\r\n<polygon fill=\"black\" stroke=\"black\" points=\"723.897,-55.9333 734.477,-55.3754 725.858,-49.2137 723.897,-55.9333\"/>\r\n<text text-anchor=\"middle\" x=\"683.784\" y=\"-51.9482\" font-family=\"Times New Roman,serif\" font-size=\"14.00\">X ; 2,R</text>\r\n</g>\r\n<!-- q4&#45;&gt;q4 -->\r\n<g id=\"edge17\" class=\"edge\"><title>q4&#45;&gt;q4</title>\r\n<path fill=\"none\" stroke=\"black\" d=\"M600.816,-36.6171C597.447,-47.6029 601.437,-58.2964 612.784,-58.2964 620.409,-58.2964 624.711,-53.4692 625.692,-46.9694\"/>\r\n<polygon fill=\"black\" stroke=\"black\" points=\"629.142,-46.2598 624.753,-36.6171 622.171,-46.8925 629.142,-46.2598\"/>\r\n<text text-anchor=\"middle\" x=\"612.784\" y=\"-107.096\" font-family=\"Times New Roman,serif\" font-size=\"14.00\">0 ; 0,R </text>\r\n<text text-anchor=\"middle\" x=\"612.784\" y=\"-92.0964\" font-family=\"Times New Roman,serif\" font-size=\"14.00\"> 2 ; 2,R </text>\r\n<text text-anchor=\"middle\" x=\"612.784\" y=\"-77.0964\" font-family=\"Times New Roman,serif\" font-size=\"14.00\"> 3 ; 3,R </text>\r\n<text text-anchor=\"middle\" x=\"612.784\" y=\"-62.0964\" font-family=\"Times New Roman,serif\" font-size=\"14.00\"> 1 ; 1,R</text>\r\n</g>\r\n<!-- q12 -->\r\n<g id=\"node8\" class=\"node\"><title>q12</title>\r\n<ellipse fill=\"none\" stroke=\"black\" cx=\"612.784\" cy=\"-257.148\" rx=\"24.8972\" ry=\"24.8972\"/>\r\n<text text-anchor=\"middle\" x=\"612.784\" y=\"-253.448\" font-family=\"Times New Roman,serif\" font-size=\"14.00\">q12</text>\r\n</g>\r\n<!-- q12&#45;&gt;q12 -->\r\n<g id=\"edge23\" class=\"edge\"><title>q12&#45;&gt;q12</title>\r\n<path fill=\"none\" stroke=\"black\" d=\"M600.121,-278.678C598.172,-289.811 602.394,-299.846 612.784,-299.846 619.766,-299.846 623.962,-295.316 625.373,-288.967\"/>\r\n<polygon fill=\"black\" stroke=\"black\" points=\"628.875,-288.703 625.448,-278.678 621.875,-288.652 628.875,-288.703\"/>\r\n<text text-anchor=\"middle\" x=\"612.784\" y=\"-318.646\" font-family=\"Times New Roman,serif\" font-size=\"14.00\">2 ; 2,R </text>\r\n<text text-anchor=\"middle\" x=\"612.784\" y=\"-303.646\" font-family=\"Times New Roman,serif\" font-size=\"14.00\"> 3 ; 3,R</text>\r\n</g>\r\n<!-- Fq13 -->\r\n<g id=\"node16\" class=\"node\"><title>Fq13</title>\r\n<ellipse fill=\"none\" stroke=\"black\" cx=\"758.682\" cy=\"-257.148\" rx=\"29.8071\" ry=\"29.8071\"/>\r\n<ellipse fill=\"none\" stroke=\"black\" cx=\"758.682\" cy=\"-257.148\" rx=\"33.795\" ry=\"33.795\"/>\r\n<text text-anchor=\"middle\" x=\"758.682\" y=\"-253.448\" font-family=\"Times New Roman,serif\" font-size=\"14.00\">Fq13</text>\r\n</g>\r\n<!-- q12&#45;&gt;Fq13 -->\r\n<g id=\"edge24\" class=\"edge\"><title>q12&#45;&gt;Fq13</title>\r\n<path fill=\"none\" stroke=\"black\" d=\"M637.546,-257.148C658.454,-257.148 689.408,-257.148 714.66,-257.148\"/>\r\n<polygon fill=\"black\" stroke=\"black\" points=\"714.731,-260.648 724.731,-257.148 714.731,-253.648 714.731,-260.648\"/>\r\n<text text-anchor=\"middle\" x=\"683.784\" y=\"-260.948\" font-family=\"Times New Roman,serif\" font-size=\"14.00\">. ; .,R</text>\r\n</g>\r\n<!-- q9 -->\r\n<g id=\"node13\" class=\"node\"><title>q9</title>\r\n<ellipse fill=\"none\" stroke=\"black\" cx=\"906.579\" cy=\"-382.148\" rx=\"20.2975\" ry=\"20.2975\"/>\r\n<text text-anchor=\"middle\" x=\"906.579\" y=\"-378.448\" font-family=\"Times New Roman,serif\" font-size=\"14.00\">q9</text>\r\n</g>\r\n<!-- q11&#45;&gt;q9 -->\r\n<g id=\"edge13\" class=\"edge\"><title>q11&#45;&gt;q9</title>\r\n<path fill=\"none\" stroke=\"black\" d=\"M782.8,-417.493C808.306,-410.15 849.382,-398.326 876.916,-390.4\"/>\r\n<polygon fill=\"black\" stroke=\"black\" points=\"878.103,-393.7 886.745,-387.57 876.167,-386.973 878.103,-393.7\"/>\r\n<text text-anchor=\"middle\" x=\"834.579\" y=\"-443.948\" font-family=\"Times New Roman,serif\" font-size=\"14.00\">. ; .,L </text>\r\n<text text-anchor=\"middle\" x=\"834.579\" y=\"-428.948\" font-family=\"Times New Roman,serif\" font-size=\"14.00\"> 0 ; X,L </text>\r\n<text text-anchor=\"middle\" x=\"834.579\" y=\"-413.948\" font-family=\"Times New Roman,serif\" font-size=\"14.00\"> 1 ; Y,L</text>\r\n</g>\r\n<!-- q3&#45;&gt;q5 -->\r\n<g id=\"edge10\" class=\"edge\"><title>q3&#45;&gt;q5</title>\r\n<path fill=\"none\" stroke=\"black\" d=\"M482.126,-277.385C482.34,-310.181 487.213,-375.467 519.784,-417.148 535.634,-437.431 562.626,-449.743 583.287,-456.648\"/>\r\n<polygon fill=\"black\" stroke=\"black\" points=\"582.256,-459.992 592.844,-459.614 584.331,-453.307 582.256,-459.992\"/>\r\n<text text-anchor=\"middle\" x=\"542.284\" y=\"-453.948\" font-family=\"Times New Roman,serif\" font-size=\"14.00\">1 ; Q,R</text>\r\n</g>\r\n<!-- q3&#45;&gt;q6 -->\r\n<g id=\"edge8\" class=\"edge\"><title>q3&#45;&gt;q6</title>\r\n<path fill=\"none\" stroke=\"black\" d=\"M483.895,-277.315C486.526,-302.645 494.657,-345.955 519.784,-372.148 536.347,-389.414 562.443,-397.969 582.618,-402.174\"/>\r\n<polygon fill=\"black\" stroke=\"black\" points=\"582.079,-405.634 592.547,-404 583.345,-398.749 582.079,-405.634\"/>\r\n<text text-anchor=\"middle\" x=\"542.284\" y=\"-401.948\" font-family=\"Times New Roman,serif\" font-size=\"14.00\">X ; X,R</text>\r\n</g>\r\n<!-- q3&#45;&gt;q4 -->\r\n<g id=\"edge16\" class=\"edge\"><title>q3&#45;&gt;q4</title>\r\n<path fill=\"none\" stroke=\"black\" d=\"M484.804,-236.963C488.529,-208.649 497.966,-156.232 519.784,-117.148 537.363,-85.6599 567.493,-56.6625 588.464,-38.7317\"/>\r\n<polygon fill=\"black\" stroke=\"black\" points=\"590.854,-41.2958 596.28,-32.1961 586.363,-35.9257 590.854,-41.2958\"/>\r\n<text text-anchor=\"middle\" x=\"542.284\" y=\"-120.948\" font-family=\"Times New Roman,serif\" font-size=\"14.00\">0 ; P,R</text>\r\n</g>\r\n<!-- q3&#45;&gt;q12 -->\r\n<g id=\"edge22\" class=\"edge\"><title>q3&#45;&gt;q12</title>\r\n<path fill=\"none\" stroke=\"black\" d=\"M501.971,-257.148C521.954,-257.148 553.551,-257.148 577.733,-257.148\"/>\r\n<polygon fill=\"black\" stroke=\"black\" points=\"577.919,-260.648 587.919,-257.148 577.919,-253.648 577.919,-260.648\"/>\r\n<text text-anchor=\"middle\" x=\"542.284\" y=\"-275.948\" font-family=\"Times New Roman,serif\" font-size=\"14.00\">2 ; 2,R </text>\r\n<text text-anchor=\"middle\" x=\"542.284\" y=\"-260.948\" font-family=\"Times New Roman,serif\" font-size=\"14.00\"> 3 ; 3,R</text>\r\n</g>\r\n<!-- q7 -->\r\n<g id=\"node14\" class=\"node\"><title>q7</title>\r\n<ellipse fill=\"none\" stroke=\"black\" cx=\"612.784\" cy=\"-194.148\" rx=\"20.2975\" ry=\"20.2975\"/>\r\n<text text-anchor=\"middle\" x=\"612.784\" y=\"-190.448\" font-family=\"Times New Roman,serif\" font-size=\"14.00\">q7</text>\r\n</g>\r\n<!-- q3&#45;&gt;q7 -->\r\n<g id=\"edge9\" class=\"edge\"><title>q3&#45;&gt;q7</title>\r\n<path fill=\"none\" stroke=\"black\" d=\"M499.975,-248.159C506.203,-244.962 513.292,-241.361 519.784,-238.148 541.576,-227.367 566.46,-215.492 584.85,-206.798\"/>\r\n<polygon fill=\"black\" stroke=\"black\" points=\"586.529,-209.876 594.08,-202.444 583.542,-203.545 586.529,-209.876\"/>\r\n<text text-anchor=\"middle\" x=\"542.284\" y=\"-241.948\" font-family=\"Times New Roman,serif\" font-size=\"14.00\">Y ; Y,R</text>\r\n</g>\r\n<!-- Iq0&#45;&gt;q14 -->\r\n<g id=\"edge2\" class=\"edge\"><title>Iq0&#45;&gt;q14</title>\r\n<path fill=\"none\" stroke=\"black\" d=\"M135.451,-219.478C155.639,-226.626 186.624,-237.597 209.959,-245.859\"/>\r\n<polygon fill=\"black\" stroke=\"black\" points=\"208.842,-249.176 219.437,-249.215 211.179,-242.578 208.842,-249.176\"/>\r\n<text text-anchor=\"middle\" x=\"174.996\" y=\"-258.948\" font-family=\"Times New Roman,serif\" font-size=\"14.00\">0 ; 0,S </text>\r\n<text text-anchor=\"middle\" x=\"174.996\" y=\"-243.948\" font-family=\"Times New Roman,serif\" font-size=\"14.00\"> 1 ; 1,S</text>\r\n</g>\r\n<!-- Fq1 -->\r\n<g id=\"node15\" class=\"node\"><title>Fq1</title>\r\n<ellipse fill=\"none\" stroke=\"black\" cx=\"242.844\" cy=\"-185.148\" rx=\"25.2169\" ry=\"25.2169\"/>\r\n<ellipse fill=\"none\" stroke=\"black\" cx=\"242.844\" cy=\"-185.148\" rx=\"29.1963\" ry=\"29.1963\"/>\r\n<text text-anchor=\"middle\" x=\"242.844\" y=\"-181.448\" font-family=\"Times New Roman,serif\" font-size=\"14.00\">Fq1</text>\r\n</g>\r\n<!-- Iq0&#45;&gt;Fq1 -->\r\n<g id=\"edge3\" class=\"edge\"><title>Iq0&#45;&gt;Fq1</title>\r\n<path fill=\"none\" stroke=\"black\" d=\"M136.185,-207.214C142.111,-205.872 148.549,-204.434 154.496,-203.148 170.604,-199.665 188.417,-195.967 203.732,-192.834\"/>\r\n<polygon fill=\"black\" stroke=\"black\" points=\"204.785,-196.192 213.885,-190.766 203.387,-189.333 204.785,-196.192\"/>\r\n<text text-anchor=\"middle\" x=\"174.996\" y=\"-206.948\" font-family=\"Times New Roman,serif\" font-size=\"14.00\">. ; .,R</text>\r\n</g>\r\n<!-- q8&#45;&gt;q3 -->\r\n<g id=\"edge21\" class=\"edge\"><title>q8&#45;&gt;q3</title>\r\n<path fill=\"none\" stroke=\"black\" d=\"M887.532,-123.281C878.893,-126.438 868.329,-129.931 858.579,-132.148 738.203,-159.523 697.194,-118.776 582.784,-165.148 548.249,-179.146 518.229,-210.855 500.285,-233.115\"/>\r\n<polygon fill=\"black\" stroke=\"black\" points=\"497.422,-231.095 494.015,-241.127 502.935,-235.409 497.422,-231.095\"/>\r\n<text text-anchor=\"middle\" x=\"683.784\" y=\"-147.948\" font-family=\"Times New Roman,serif\" font-size=\"14.00\">P ; P,R</text>\r\n</g>\r\n<!-- q8&#45;&gt;q8 -->\r\n<g id=\"edge20\" class=\"edge\"><title>q8&#45;&gt;q8</title>\r\n<path fill=\"none\" stroke=\"black\" d=\"M894.397,-132.22C890.706,-143.344 894.767,-154.296 906.579,-154.296 914.7,-154.296 919.157,-149.12 919.95,-142.269\"/>\r\n<polygon fill=\"black\" stroke=\"black\" points=\"923.412,-141.739 918.761,-132.22 916.461,-142.562 923.412,-141.739\"/>\r\n<text text-anchor=\"middle\" x=\"906.579\" y=\"-203.096\" font-family=\"Times New Roman,serif\" font-size=\"14.00\">3 ; 3,L </text>\r\n<text text-anchor=\"middle\" x=\"906.579\" y=\"-188.096\" font-family=\"Times New Roman,serif\" font-size=\"14.00\"> 2 ; 2,L </text>\r\n<text text-anchor=\"middle\" x=\"906.579\" y=\"-173.096\" font-family=\"Times New Roman,serif\" font-size=\"14.00\"> 1 ; 1,L </text>\r\n<text text-anchor=\"middle\" x=\"906.579\" y=\"-158.096\" font-family=\"Times New Roman,serif\" font-size=\"14.00\"> 0 ; 0,L</text>\r\n</g>\r\n<!-- q9&#45;&gt;q3 -->\r\n<g id=\"edge15\" class=\"edge\"><title>q9&#45;&gt;q3</title>\r\n<path fill=\"none\" stroke=\"black\" d=\"M886.143,-382.947C834.544,-384.365 690.686,-383.723 582.784,-339.148 550.84,-325.952 521.129,-299.012 502.5,-279.607\"/>\r\n<polygon fill=\"black\" stroke=\"black\" points=\"504.84,-276.986 495.454,-272.072 499.727,-281.766 504.84,-276.986\"/>\r\n<text text-anchor=\"middle\" x=\"683.784\" y=\"-375.948\" font-family=\"Times New Roman,serif\" font-size=\"14.00\">Q ; Q,R</text>\r\n</g>\r\n<!-- q9&#45;&gt;q9 -->\r\n<g id=\"edge14\" class=\"edge\"><title>q9&#45;&gt;q9</title>\r\n<path fill=\"none\" stroke=\"black\" d=\"M894.397,-398.22C890.706,-409.344 894.767,-420.296 906.579,-420.296 914.7,-420.296 919.157,-415.12 919.95,-408.269\"/>\r\n<polygon fill=\"black\" stroke=\"black\" points=\"923.412,-407.739 918.761,-398.22 916.461,-408.562 923.412,-407.739\"/>\r\n<text text-anchor=\"middle\" x=\"906.579\" y=\"-469.096\" font-family=\"Times New Roman,serif\" font-size=\"14.00\">3 ; 3,L </text>\r\n<text text-anchor=\"middle\" x=\"906.579\" y=\"-454.096\" font-family=\"Times New Roman,serif\" font-size=\"14.00\"> 2 ; 2,L </text>\r\n<text text-anchor=\"middle\" x=\"906.579\" y=\"-439.096\" font-family=\"Times New Roman,serif\" font-size=\"14.00\"> 1 ; 1,L </text>\r\n<text text-anchor=\"middle\" x=\"906.579\" y=\"-424.096\" font-family=\"Times New Roman,serif\" font-size=\"14.00\"> 0 ; 0,L</text>\r\n</g>\r\n</g>\r\n</svg>\r\n"
     },
     "metadata": {},
     "execution_count": 12
    }
   ],
   "source": [
    "DOwwndtm = dotObj_tm(wwndtm_md, FuseEdges=True)\n",
    "DOwwndtm"
   ]
  },
  {
   "cell_type": "code",
   "execution_count": 13,
   "metadata": {
    "run_control": {
     "frozen": false,
     "read_only": false
    }
   },
   "outputs": [
    {
     "output_type": "stream",
     "name": "stdout",
     "text": [
      "Allocating  8  tape cells to the LEFT!\nAllocating  8  tape cells to the RIGHT!\nAllocating  8  tape cells to the LEFT!\nAllocating  8  tape cells to the LEFT!\nAllocating  8  tape cells to the LEFT!\nAllocating  8  tape cells to the RIGHT!\nAllocating  8  tape cells to the LEFT!\nAllocating  8  tape cells to the LEFT!\nDetailing the halted configs now.\nRejected at  ('q14', 6, '001001', 163)\n via .. \n ->('Iq0', 0, '001001', 170)\n ->('q14', 0, '001001', 169)\n ->('q14', 1, '001001', 168)\n ->('q14', 2, '001001', 167)\n ->('q14', 3, '001001', 166)\n ->('q14', 4, '001001', 165)\n ->('q14', 5, '001001', 164)\n ->('q14', 6, '001001', 163)\nRejected at  ('q4', 13, '........P0100Y', 152)\n via .. \n ->('Iq0', 0, '001001', 170)\n ->('q14', 0, '001001', 169)\n ->('q14', 1, '001001', 168)\n ->('q14', 2, '001001', 167)\n ->('q14', 3, '001001', 166)\n ->('q14', 4, '001001', 165)\n ->('q14', 5, '001001', 164)\n ->('q2', 4, '00100Y', 163)\n ->('q2', 3, '00100Y', 162)\n ->('q2', 2, '00100Y', 161)\n ->('q2', 1, '00100Y', 160)\n ->('q2', 0, '00100Y', 159)\n ->('q2', 7, '........00100Y', 158)\n ->('q3', 8, '........00100Y', 157)\n ->('q4', 9, '........P0100Y', 156)\n ->('q4', 10, '........P0100Y', 155)\n ->('q4', 11, '........P0100Y', 154)\n ->('q4', 12, '........P0100Y', 153)\n ->('q4', 13, '........P0100Y', 152)\nRejected at  ('q4', 13, '........PP102Y', 144)\n via .. \n ->('Iq0', 0, '001001', 170)\n ->('q14', 0, '001001', 169)\n ->('q14', 1, '001001', 168)\n ->('q14', 2, '001001', 167)\n ->('q14', 3, '001001', 166)\n ->('q14', 4, '001001', 165)\n ->('q2', 3, '0010X1', 164)\n ->('q2', 2, '0010X1', 163)\n ->('q2', 1, '0010X1', 162)\n ->('q2', 0, '0010X1', 161)\n ->('q2', 7, '........0010X1', 160)\n ->('q3', 8, '........0010X1', 159)\n ->('q4', 9, '........P010X1', 158)\n ->('q4', 10, '........P010X1', 157)\n ->('q4', 11, '........P010X1', 156)\n ->('q4', 12, '........P010X1', 155)\n ->('q10', 13, '........P01021', 154)\n ->('q8', 12, '........P0102Y', 153)\n ->('q8', 11, '........P0102Y', 152)\n ->('q8', 10, '........P0102Y', 151)\n ->('q8', 9, '........P0102Y', 150)\n ->('q8', 8, '........P0102Y', 149)\n ->('q3', 9, '........P0102Y', 148)\n ->('q4', 10, '........PP102Y', 147)\n ->('q4', 11, '........PP102Y', 146)\n ->('q4', 12, '........PP102Y', 145)\n ->('q4', 13, '........PP102Y', 144)\nAccepted at  ('Fq13', 15, '........PPQ223........', 130)\n via .. \n ->('Iq0', 0, '001001', 170)\n ->('q14', 0, '001001', 169)\n ->('q14', 1, '001001', 168)\n ->('q14', 2, '001001', 167)\n ->('q14', 3, '001001', 166)\n ->('q2', 2, '001X01', 165)\n ->('q2', 1, '001X01', 164)\n ->('q2', 0, '001X01', 163)\n ->('q2', 7, '........001X01', 162)\n ->('q3', 8, '........001X01', 161)\n ->('q4', 9, '........P01X01', 160)\n ->('q4', 10, '........P01X01', 159)\n ->('q4', 11, '........P01X01', 158)\n ->('q10', 12, '........P01201', 157)\n ->('q8', 11, '........P012X1', 156)\n ->('q8', 10, '........P012X1', 155)\n ->('q8', 9, '........P012X1', 154)\n ->('q8', 8, '........P012X1', 153)\n ->('q3', 9, '........P012X1', 152)\n ->('q4', 10, '........PP12X1', 151)\n ->('q4', 11, '........PP12X1', 150)\n ->('q4', 12, '........PP12X1', 149)\n ->('q10', 13, '........PP1221', 148)\n ->('q8', 12, '........PP122Y', 147)\n ->('q8', 11, '........PP122Y', 146)\n ->('q8', 10, '........PP122Y', 145)\n ->('q8', 9, '........PP122Y', 144)\n ->('q3', 10, '........PP122Y', 143)\n ->('q5', 11, '........PPQ22Y', 142)\n ->('q5', 12, '........PPQ22Y', 141)\n ->('q5', 13, '........PPQ22Y', 140)\n ->('q11', 14, '........PPQ223', 139)\n ->('q9', 13, '........PPQ223........', 138)\n ->('q9', 12, '........PPQ223........', 137)\n ->('q9', 11, '........PPQ223........', 136)\n ->('q9', 10, '........PPQ223........', 135)\n ->('q3', 11, '........PPQ223........', 134)\n ->('q12', 12, '........PPQ223........', 133)\n ->('q12', 13, '........PPQ223........', 132)\n ->('q12', 14, '........PPQ223........', 131)\n ->('Fq13', 15, '........PPQ223........', 130)\nRejected at  ('q4', 10, '........P0Y001', 161)\n via .. \n ->('Iq0', 0, '001001', 170)\n ->('q14', 0, '001001', 169)\n ->('q14', 1, '001001', 168)\n ->('q14', 2, '001001', 167)\n ->('q2', 1, '00Y001', 166)\n ->('q2', 0, '00Y001', 165)\n ->('q2', 7, '........00Y001', 164)\n ->('q3', 8, '........00Y001', 163)\n ->('q4', 9, '........P0Y001', 162)\n ->('q4', 10, '........P0Y001', 161)\nRejected at  ('q12', 10, '........P2Y001', 159)\n via .. \n ->('Iq0', 0, '001001', 170)\n ->('q14', 0, '001001', 169)\n ->('q14', 1, '001001', 168)\n ->('q2', 0, '0X1001', 167)\n ->('q2', 7, '........0X1001', 166)\n ->('q3', 8, '........0X1001', 165)\n ->('q4', 9, '........PX1001', 164)\n ->('q10', 10, '........P21001', 163)\n ->('q8', 9, '........P2Y001', 162)\n ->('q8', 8, '........P2Y001', 161)\n ->('q3', 9, '........P2Y001', 160)\n ->('q12', 10, '........P2Y001', 159)\nRejected at  ('q6', 9, '........X01001', 166)\n via .. \n ->('Iq0', 0, '001001', 170)\n ->('q14', 0, '001001', 169)\n ->('q2', 7, '........X01001', 168)\n ->('q3', 8, '........X01001', 167)\n ->('q6', 9, '........X01001', 166)\n"
     ]
    }
   ],
   "source": [
    "explore_tm(wwndtm_md, \"001001\", 170)"
   ]
  },
  {
   "cell_type": "code",
   "execution_count": 14,
   "metadata": {},
   "outputs": [
    {
     "output_type": "display_data",
     "data": {
      "text/plain": "VBox(children=(HBox(children=(Text(value='', description='Input:', layout=Layout(width='500px'), placeholder='…",
      "application/vnd.jupyter.widget-view+json": {
       "version_major": 2,
       "version_minor": 0,
       "model_id": "a533f77ec90a4cc29753a65eae2bf5ed"
      }
     },
     "metadata": {}
    },
    {
     "output_type": "execute_result",
     "data": {
      "text/plain": [
       "<jove.AnimateTM.AnimateTM at 0x173303f6b50>"
      ]
     },
     "metadata": {},
     "execution_count": 14
    }
   ],
   "source": [
    "#---SET FUEL TO 100 OR SO, else there will be no animation shown---\n",
    "AnimateTM(wwndtm_md, FuseEdges=True)\n"
   ]
  },
  {
   "cell_type": "code",
   "execution_count": 16,
   "metadata": {},
   "outputs": [
    {
     "output_type": "stream",
     "name": "stdout",
     "text": [
      "Allocating  8  tape cells to the LEFT!\nAllocating  8  tape cells to the RIGHT!\nAllocating  8  tape cells to the LEFT!\nAllocating  8  tape cells to the LEFT!\nAllocating  8  tape cells to the LEFT!\nAllocating  8  tape cells to the RIGHT!\nAllocating  8  tape cells to the LEFT!\nAllocating  8  tape cells to the LEFT!\nDetailing the halted configs now.\nRejected at  ('q14', 6, '001001', 163)\n via .. \n ->('Iq0', 0, '001001', 170)\n ->('q14', 0, '001001', 169)\n ->('q14', 1, '001001', 168)\n ->('q14', 2, '001001', 167)\n ->('q14', 3, '001001', 166)\n ->('q14', 4, '001001', 165)\n ->('q14', 5, '001001', 164)\n ->('q14', 6, '001001', 163)\nRejected at  ('q4', 13, '........P0100Y', 152)\n via .. \n ->('Iq0', 0, '001001', 170)\n ->('q14', 0, '001001', 169)\n ->('q14', 1, '001001', 168)\n ->('q14', 2, '001001', 167)\n ->('q14', 3, '001001', 166)\n ->('q14', 4, '001001', 165)\n ->('q14', 5, '001001', 164)\n ->('q2', 4, '00100Y', 163)\n ->('q2', 3, '00100Y', 162)\n ->('q2', 2, '00100Y', 161)\n ->('q2', 1, '00100Y', 160)\n ->('q2', 0, '00100Y', 159)\n ->('q2', 7, '........00100Y', 158)\n ->('q3', 8, '........00100Y', 157)\n ->('q4', 9, '........P0100Y', 156)\n ->('q4', 10, '........P0100Y', 155)\n ->('q4', 11, '........P0100Y', 154)\n ->('q4', 12, '........P0100Y', 153)\n ->('q4', 13, '........P0100Y', 152)\nRejected at  ('q4', 13, '........PP102Y', 144)\n via .. \n ->('Iq0', 0, '001001', 170)\n ->('q14', 0, '001001', 169)\n ->('q14', 1, '001001', 168)\n ->('q14', 2, '001001', 167)\n ->('q14', 3, '001001', 166)\n ->('q14', 4, '001001', 165)\n ->('q2', 3, '0010X1', 164)\n ->('q2', 2, '0010X1', 163)\n ->('q2', 1, '0010X1', 162)\n ->('q2', 0, '0010X1', 161)\n ->('q2', 7, '........0010X1', 160)\n ->('q3', 8, '........0010X1', 159)\n ->('q4', 9, '........P010X1', 158)\n ->('q4', 10, '........P010X1', 157)\n ->('q4', 11, '........P010X1', 156)\n ->('q4', 12, '........P010X1', 155)\n ->('q10', 13, '........P01021', 154)\n ->('q8', 12, '........P0102Y', 153)\n ->('q8', 11, '........P0102Y', 152)\n ->('q8', 10, '........P0102Y', 151)\n ->('q8', 9, '........P0102Y', 150)\n ->('q8', 8, '........P0102Y', 149)\n ->('q3', 9, '........P0102Y', 148)\n ->('q4', 10, '........PP102Y', 147)\n ->('q4', 11, '........PP102Y', 146)\n ->('q4', 12, '........PP102Y', 145)\n ->('q4', 13, '........PP102Y', 144)\nAccepted at  ('Fq13', 15, '........PPQ223........', 130)\n via .. \n ->('Iq0', 0, '001001', 170)\n ->('q14', 0, '001001', 169)\n ->('q14', 1, '001001', 168)\n ->('q14', 2, '001001', 167)\n ->('q14', 3, '001001', 166)\n ->('q2', 2, '001X01', 165)\n ->('q2', 1, '001X01', 164)\n ->('q2', 0, '001X01', 163)\n ->('q2', 7, '........001X01', 162)\n ->('q3', 8, '........001X01', 161)\n ->('q4', 9, '........P01X01', 160)\n ->('q4', 10, '........P01X01', 159)\n ->('q4', 11, '........P01X01', 158)\n ->('q10', 12, '........P01201', 157)\n ->('q8', 11, '........P012X1', 156)\n ->('q8', 10, '........P012X1', 155)\n ->('q8', 9, '........P012X1', 154)\n ->('q8', 8, '........P012X1', 153)\n ->('q3', 9, '........P012X1', 152)\n ->('q4', 10, '........PP12X1', 151)\n ->('q4', 11, '........PP12X1', 150)\n ->('q4', 12, '........PP12X1', 149)\n ->('q10', 13, '........PP1221', 148)\n ->('q8', 12, '........PP122Y', 147)\n ->('q8', 11, '........PP122Y', 146)\n ->('q8', 10, '........PP122Y', 145)\n ->('q8', 9, '........PP122Y', 144)\n ->('q3', 10, '........PP122Y', 143)\n ->('q5', 11, '........PPQ22Y', 142)\n ->('q5', 12, '........PPQ22Y', 141)\n ->('q5', 13, '........PPQ22Y', 140)\n ->('q11', 14, '........PPQ223', 139)\n ->('q9', 13, '........PPQ223........', 138)\n ->('q9', 12, '........PPQ223........', 137)\n ->('q9', 11, '........PPQ223........', 136)\n ->('q9', 10, '........PPQ223........', 135)\n ->('q3', 11, '........PPQ223........', 134)\n ->('q12', 12, '........PPQ223........', 133)\n ->('q12', 13, '........PPQ223........', 132)\n ->('q12', 14, '........PPQ223........', 131)\n ->('Fq13', 15, '........PPQ223........', 130)\nRejected at  ('q4', 10, '........P0Y001', 161)\n via .. \n ->('Iq0', 0, '001001', 170)\n ->('q14', 0, '001001', 169)\n ->('q14', 1, '001001', 168)\n ->('q14', 2, '001001', 167)\n ->('q2', 1, '00Y001', 166)\n ->('q2', 0, '00Y001', 165)\n ->('q2', 7, '........00Y001', 164)\n ->('q3', 8, '........00Y001', 163)\n ->('q4', 9, '........P0Y001', 162)\n ->('q4', 10, '........P0Y001', 161)\nRejected at  ('q12', 10, '........P2Y001', 159)\n via .. \n ->('Iq0', 0, '001001', 170)\n ->('q14', 0, '001001', 169)\n ->('q14', 1, '001001', 168)\n ->('q2', 0, '0X1001', 167)\n ->('q2', 7, '........0X1001', 166)\n ->('q3', 8, '........0X1001', 165)\n ->('q4', 9, '........PX1001', 164)\n ->('q10', 10, '........P21001', 163)\n ->('q8', 9, '........P2Y001', 162)\n ->('q8', 8, '........P2Y001', 161)\n ->('q3', 9, '........P2Y001', 160)\n ->('q12', 10, '........P2Y001', 159)\nRejected at  ('q6', 9, '........X01001', 166)\n via .. \n ->('Iq0', 0, '001001', 170)\n ->('q14', 0, '001001', 169)\n ->('q2', 7, '........X01001', 168)\n ->('q3', 8, '........X01001', 167)\n ->('q6', 9, '........X01001', 166)\n"
     ]
    }
   ],
   "source": [
    "explore_tm(wwndtm_md, \"001001\", 170)"
   ]
  },
  {
   "cell_type": "code",
   "execution_count": null,
   "metadata": {},
   "outputs": [],
   "source": []
  }
 ],
 "metadata": {
  "kernelspec": {
   "display_name": "Python 3",
   "language": "python",
   "name": "python3"
  },
  "language_info": {
   "codemirror_mode": {
    "name": "ipython",
    "version": 3
   },
   "file_extension": ".py",
   "mimetype": "text/x-python",
   "name": "python",
   "nbconvert_exporter": "python",
   "pygments_lexer": "ipython3",
   "version": "3.8.3-final"
  },
  "toc": {
   "colors": {
    "hover_highlight": "#DAA520",
    "running_highlight": "#FF0000",
    "selected_highlight": "#FFD700"
   },
   "moveMenuLeft": true,
   "nav_menu": {
    "height": "318px",
    "width": "252px"
   },
   "navigate_menu": true,
   "number_sections": true,
   "sideBar": true,
   "threshold": 4,
   "toc_cell": false,
   "toc_section_display": "block",
   "toc_window_display": false,
   "widenNotebook": false
  }
 },
 "nbformat": 4,
 "nbformat_minor": 1
}