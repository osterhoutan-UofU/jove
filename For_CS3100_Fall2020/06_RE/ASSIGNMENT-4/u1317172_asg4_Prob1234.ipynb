{
 "cells": [
  {
   "cell_type": "markdown",
   "metadata": {},
   "source": [
    "# Asg-4 focuses on \n",
    "\n",
    "## NFA2DFA (review) -- LT\n",
    "\n",
    "## Reversal of NFA by hand -- XL\n",
    "\n",
    "## Conversion to GNFA and Two Elimination Orders -- AR\n",
    "\n",
    "## Chasing down the RE2NFA Components -- SV\n",
    "\n",
    "## Here is the  plan\n",
    "\n",
    "1. In LT, you will\n",
    "\n",
    "    a. take a given nfa called nfa1\n",
    "    \n",
    "    b. convert it to dfa1 \n",
    "    \n",
    "    c. reverse nfa1 by hand obtaining rnfa1\n",
    "    \n",
    "    d. inspect and conclude (listing six paths) that rnfa1 is indeed a reverse of nfa1\n",
    "\n",
    "2. In XL you will\n",
    "\n",
    "    a. learn about a few DFA utilities such as totalize_dfa and dotObj_dfa_w_bh\n",
    "    \n",
    "    b. extract an RE by inspecting nfa1 and write it down as RE1_hand\n",
    "    \n",
    "    c. reverse RE1_hand by inspection, writing the result down as Rev_RE1_hand\n",
    "    \n",
    "    d. Understand the function del_gnfa_states via its help command\n",
    "    \n",
    "\n",
    "3. In AR you will\n",
    "\n",
    "    a. obtain a GNFA for rnfa1, calling it grnfa1\n",
    "    \n",
    "    b. apply two elimination orders for states on grnfa1\n",
    "    \n",
    "    c. obtain Rev_RE1 and Rev_RE2\n",
    "    \n",
    "    d. check that Rev_RE1 and Rev_RE2 and Rev_RE1_hand are all isomorphic\n",
    "    \n",
    "\n",
    "4. In SV you will \n",
    "\n",
    "    a. print the NFA for Rev_RE2 and answer the stated questions.\n",
    "    \n",
    "    b. print the NFA for Rev_RE1_hand and answer the questions.\n",
    "\n",
    "Please follow the instructions and submit your finished notebook as described in previous assignments.\n",
    " "
   ]
  },
  {
   "cell_type": "markdown",
   "metadata": {
    "run_control": {
     "frozen": false,
     "read_only": false
    }
   },
   "source": [
    "# Asg-4 imports \n"
   ]
  },
  {
   "cell_type": "code",
   "execution_count": 1,
   "metadata": {
    "run_control": {
     "frozen": false,
     "read_only": false
    },
    "scrolled": true,
    "tags": []
   },
   "outputs": [
    {
     "output_type": "stream",
     "name": "stdout",
     "text": "You may use any of these help commands:\nhelp(ResetStNum)\nhelp(NxtStateStr)\n\nYou may use any of these help commands:\nhelp(md2mc)\n.. and if you want to dig more, then ..\nhelp(default_line_attr)\nhelp(length_ok_input_items)\nhelp(union_line_attr_list_fld)\nhelp(extend_rsltdict)\nhelp(form_delta)\nhelp(get_machine_components)\n\nYou may use any of these help commands:\nhelp(mkp_dfa)\nhelp(mk_dfa)\nhelp(totalize_dfa)\nhelp(addtosigma_delta)\nhelp(step_dfa)\nhelp(run_dfa)\nhelp(accepts_dfa)\nhelp(comp_dfa)\nhelp(union_dfa)\nhelp(intersect_dfa)\nhelp(pruneUnreach)\nhelp(iso_dfa)\nhelp(langeq_dfa)\nhelp(same_status)\nhelp(h_langeq_dfa)\nhelp(fixptDist)\nhelp(min_dfa)\nhelp(pairFR)\nhelp(state_combos)\nhelp(sepFinNonFin)\nhelp(bash_eql_classes)\nhelp(listminus)\nhelp(bash_1)\nhelp(mk_rep_eqc)\nhelp(F_of)\nhelp(rep_of_s)\nhelp(q0_of)\nhelp(Delta_of)\nhelp(mk_state_eqc_name)\n\nYou may use any of these help commands:\nhelp(mk_nfa)\nhelp(totalize_nfa)\nhelp(step_nfa)\nhelp(run_nfa)\nhelp(ec_step_nfa)\nhelp(Eclosure)\nhelp(Echelp)\nhelp(accepts_nfa)\nhelp(nfa2dfa)\nhelp(n2d)\nhelp(inSets)\nhelp(rev_dfa)\nhelp(min_dfa_brz)\n\nYou may use any of these help commands:\nhelp(RE2Str)\nhelp(mk_gnfa)\nhelp(mk_gnfa_from_D)\nhelp(dfa2nfa)\nhelp(del_gnfa_states)\nhelp(gnfa_w_REStr)\nhelp(del_one_gnfa_state)\nhelp(Edges_Exist_Via)\nhelp(choose_state_to_del)\nhelp(form_alt_RE)\nhelp(form_concat_RE)\nhelp(form_kleene_RE)\n\nYou may use any of these help commands:\nhelp(re2nfa)\n\n"
    }
   ],
   "source": [
    "#~~~~~~~~~~~~~~~~~~~~~~~~~~~~~~~~~~~~~~~~~~~~~~~~~~~~~~~\n",
    "import sys\n",
    "\n",
    "# -- Detect if in Own Install or in Colab\n",
    "try:\n",
    "    import google.colab\n",
    "    OWN_INSTALL = False\n",
    "except:\n",
    "    OWN_INSTALL = True\n",
    "    \n",
    "if OWN_INSTALL:\n",
    "    \n",
    "  #---- Leave these definitions ON if running on laptop\n",
    "  #---- Else turn OFF by putting them between ''' ... '''\n",
    "\n",
    "  sys.path[0:0] = ['../../../../..',  '../../../../../3rdparty',  \n",
    "                   '../../../..',  '../../../../3rdparty',  \n",
    "                   '../../..',     '../../../3rdparty', \n",
    "                   '../..',        '../../3rdparty',\n",
    "                   '..',           '../3rdparty' ]\n",
    "\n",
    "else: # In colab\n",
    "  ! if [ ! -d Jove ]; then git clone https://github.com/ganeshutah/Jove Jove; fi\n",
    "  sys.path.append('./Jove')\n",
    "  sys.path.append('./Jove/jove')\n",
    "\n",
    "# -- common imports --\n",
    "from jove.DotBashers import *\n",
    "from jove.Def_md2mc  import *\n",
    "from jove.Def_NFA    import *\n",
    "from jove.Def_DFA    import *\n",
    "from jove.Def_NFA2RE import *\n",
    "from jove.Def_RE2NFA import *\n",
    "from jove.AnimateNFA import *\n",
    "#~~~~~~~~~~~~~~~~~~~~~~~~~~~~~~~~~~~~~~~~~~~~~~~~~~~~~~~"
   ]
  },
  {
   "cell_type": "markdown",
   "metadata": {},
   "source": [
    "# 1. NFA to DFA by hand and Checking (LT) + Getting a simple RE\n",
    "\n",
    "You are given this NFA below\n",
    "\n",
    "## 1(a). nfa1 is given below\n",
    "\n",
    "Questions follow under 1(b)"
   ]
  },
  {
   "cell_type": "code",
   "execution_count": 2,
   "metadata": {
    "tags": []
   },
   "outputs": [
    {
     "output_type": "stream",
     "name": "stderr",
     "text": "Generating LALR tables\n"
    }
   ],
   "source": [
    "# Given NFA\n",
    "\n",
    "nfa1 = md2mc('''NFA\n",
    "I1 : '' -> B\n",
    "I1 : a  -> I2\n",
    "\n",
    "I2 : c  -> F3\n",
    "I2 : b  -> B\n",
    "\n",
    "B : s  -> B\n",
    "B : d  -> F4\n",
    "B : f  -> F3\n",
    "\n",
    "\n",
    "''')\n"
   ]
  },
  {
   "cell_type": "code",
   "execution_count": 3,
   "metadata": {},
   "outputs": [
    {
     "output_type": "execute_result",
     "data": {
      "text/plain": "<graphviz.dot.Digraph at 0x1e2d37d1580>",
      "image/svg+xml": "<?xml version=\"1.0\" encoding=\"UTF-8\" standalone=\"no\"?>\r\n<!DOCTYPE svg PUBLIC \"-//W3C//DTD SVG 1.1//EN\"\r\n \"http://www.w3.org/Graphics/SVG/1.1/DTD/svg11.dtd\">\r\n<!-- Generated by graphviz version 2.38.0 (20140413.2041)\r\n -->\r\n<!-- Title: %3 Pages: 1 -->\r\n<svg width=\"399pt\" height=\"139pt\"\r\n viewBox=\"0.00 0.00 399.39 138.80\" xmlns=\"http://www.w3.org/2000/svg\" xmlns:xlink=\"http://www.w3.org/1999/xlink\">\r\n<g id=\"graph0\" class=\"graph\" transform=\"scale(1 1) rotate(0) translate(4 134.798)\">\r\n<title>%3</title>\r\n<polygon fill=\"white\" stroke=\"none\" points=\"-4,4 -4,-134.798 395.39,-134.798 395.39,4 -4,4\"/>\r\n<!-- EMPTY -->\r\n<g id=\"node1\" class=\"node\"><title>EMPTY</title>\r\n</g>\r\n<!-- I1 -->\r\n<g id=\"node3\" class=\"node\"><title>I1</title>\r\n<ellipse fill=\"none\" stroke=\"black\" cx=\"109.198\" cy=\"-68.7982\" rx=\"18.399\" ry=\"18.399\"/>\r\n<text text-anchor=\"middle\" x=\"109.198\" y=\"-65.0982\" font-family=\"Times New Roman,serif\" font-size=\"14.00\">I1</text>\r\n</g>\r\n<!-- EMPTY&#45;&gt;I1 -->\r\n<g id=\"edge1\" class=\"edge\"><title>EMPTY&#45;&gt;I1</title>\r\n<path fill=\"none\" stroke=\"black\" d=\"M54.26,-49.2938C63.2879,-52.5584 73.3825,-56.2086 82.3754,-59.4605\"/>\r\n<polygon fill=\"black\" stroke=\"black\" points=\"81.3506,-62.8117 91.9449,-62.9208 83.731,-56.2288 81.3506,-62.8117\"/>\r\n</g>\r\n<!-- I2 -->\r\n<g id=\"node4\" class=\"node\"><title>I2</title>\r\n<ellipse fill=\"none\" stroke=\"black\" cx=\"191.595\" cy=\"-26.7982\" rx=\"18.399\" ry=\"18.399\"/>\r\n<text text-anchor=\"middle\" x=\"191.595\" y=\"-23.0982\" font-family=\"Times New Roman,serif\" font-size=\"14.00\">I2</text>\r\n</g>\r\n<!-- EMPTY&#45;&gt;I2 -->\r\n<g id=\"edge2\" class=\"edge\"><title>EMPTY&#45;&gt;I2</title>\r\n<path fill=\"none\" stroke=\"black\" d=\"M54.1237,-37.7095C83.8654,-35.3315 132.261,-31.4622 162.714,-29.0273\"/>\r\n<polygon fill=\"black\" stroke=\"black\" points=\"163.365,-32.4865 173.055,-28.2006 162.807,-25.5088 163.365,-32.4865\"/>\r\n</g>\r\n<!-- B -->\r\n<g id=\"node2\" class=\"node\"><title>B</title>\r\n<ellipse fill=\"none\" stroke=\"black\" cx=\"275.794\" cy=\"-79.7982\" rx=\"18\" ry=\"18\"/>\r\n<text text-anchor=\"middle\" x=\"275.794\" y=\"-76.0982\" font-family=\"Times New Roman,serif\" font-size=\"14.00\">B</text>\r\n</g>\r\n<!-- B&#45;&gt;B -->\r\n<g id=\"edge7\" class=\"edge\"><title>B&#45;&gt;B</title>\r\n<path fill=\"none\" stroke=\"black\" d=\"M268.762,-96.4622C267.2,-106.423 269.544,-115.798 275.794,-115.798 279.797,-115.798 282.198,-111.951 282.996,-106.566\"/>\r\n<polygon fill=\"black\" stroke=\"black\" points=\"286.494,-106.401 282.825,-96.4622 279.495,-106.52 286.494,-106.401\"/>\r\n<text text-anchor=\"middle\" x=\"275.794\" y=\"-119.598\" font-family=\"Times New Roman,serif\" font-size=\"14.00\">s </text>\r\n</g>\r\n<!-- F4 -->\r\n<g id=\"node5\" class=\"node\"><title>F4</title>\r\n<ellipse fill=\"none\" stroke=\"black\" cx=\"366.592\" cy=\"-93.7982\" rx=\"20.6302\" ry=\"20.6302\"/>\r\n<ellipse fill=\"none\" stroke=\"black\" cx=\"366.592\" cy=\"-93.7982\" rx=\"24.5979\" ry=\"24.5979\"/>\r\n<text text-anchor=\"middle\" x=\"366.592\" y=\"-90.0982\" font-family=\"Times New Roman,serif\" font-size=\"14.00\">F4</text>\r\n</g>\r\n<!-- B&#45;&gt;F4 -->\r\n<g id=\"edge8\" class=\"edge\"><title>B&#45;&gt;F4</title>\r\n<path fill=\"none\" stroke=\"black\" d=\"M293.915,-82.4975C304.652,-84.1903 318.864,-86.431 331.8,-88.4705\"/>\r\n<polygon fill=\"black\" stroke=\"black\" points=\"331.387,-91.9486 341.81,-90.0487 332.477,-85.034 331.387,-91.9486\"/>\r\n<text text-anchor=\"middle\" x=\"317.794\" y=\"-91.5982\" font-family=\"Times New Roman,serif\" font-size=\"14.00\">d </text>\r\n</g>\r\n<!-- F3 -->\r\n<g id=\"node6\" class=\"node\"><title>F3</title>\r\n<ellipse fill=\"none\" stroke=\"black\" cx=\"366.592\" cy=\"-24.7982\" rx=\"20.6302\" ry=\"20.6302\"/>\r\n<ellipse fill=\"none\" stroke=\"black\" cx=\"366.592\" cy=\"-24.7982\" rx=\"24.5979\" ry=\"24.5979\"/>\r\n<text text-anchor=\"middle\" x=\"366.592\" y=\"-21.0982\" font-family=\"Times New Roman,serif\" font-size=\"14.00\">F3</text>\r\n</g>\r\n<!-- B&#45;&gt;F3 -->\r\n<g id=\"edge9\" class=\"edge\"><title>B&#45;&gt;F3</title>\r\n<path fill=\"none\" stroke=\"black\" d=\"M291.457,-70.716C303.532,-63.2371 321.037,-52.3945 336.006,-43.1233\"/>\r\n<polygon fill=\"black\" stroke=\"black\" points=\"338.268,-45.8389 344.927,-37.5978 334.582,-39.888 338.268,-45.8389\"/>\r\n<text text-anchor=\"middle\" x=\"317.794\" y=\"-61.5982\" font-family=\"Times New Roman,serif\" font-size=\"14.00\">f </text>\r\n</g>\r\n<!-- I1&#45;&gt;B -->\r\n<g id=\"edge3\" class=\"edge\"><title>I1&#45;&gt;B</title>\r\n<path fill=\"none\" stroke=\"black\" d=\"M127.502,-69.9546C156.101,-71.8659 213.451,-75.6986 247.538,-77.9766\"/>\r\n<polygon fill=\"black\" stroke=\"black\" points=\"247.511,-81.4825 257.722,-78.6572 247.978,-74.4981 247.511,-81.4825\"/>\r\n<text text-anchor=\"middle\" x=\"191.595\" y=\"-79.5982\" font-family=\"Times New Roman,serif\" font-size=\"14.00\">&#39;&#39; </text>\r\n</g>\r\n<!-- I1&#45;&gt;I2 -->\r\n<g id=\"edge4\" class=\"edge\"><title>I1&#45;&gt;I2</title>\r\n<path fill=\"none\" stroke=\"black\" d=\"M125.7,-60.7001C137.156,-54.7155 152.981,-46.4483 166.135,-39.5762\"/>\r\n<polygon fill=\"black\" stroke=\"black\" points=\"167.899,-42.6039 175.141,-34.8713 164.657,-36.3995 167.899,-42.6039\"/>\r\n<text text-anchor=\"middle\" x=\"150.397\" y=\"-54.5982\" font-family=\"Times New Roman,serif\" font-size=\"14.00\">a </text>\r\n</g>\r\n<!-- I2&#45;&gt;B -->\r\n<g id=\"edge6\" class=\"edge\"><title>I2&#45;&gt;B</title>\r\n<path fill=\"none\" stroke=\"black\" d=\"M207.512,-36.1986C216.818,-42.0826 229.03,-49.8412 239.794,-56.7982 243.677,-59.3081 247.791,-61.9903 251.781,-64.6044\"/>\r\n<polygon fill=\"black\" stroke=\"black\" points=\"249.902,-67.5576 260.181,-70.1247 253.746,-61.7077 249.902,-67.5576\"/>\r\n<text text-anchor=\"middle\" x=\"233.794\" y=\"-60.5982\" font-family=\"Times New Roman,serif\" font-size=\"14.00\">b </text>\r\n</g>\r\n<!-- I2&#45;&gt;F3 -->\r\n<g id=\"edge5\" class=\"edge\"><title>I2&#45;&gt;F3</title>\r\n<path fill=\"none\" stroke=\"black\" d=\"M209.815,-26.5991C238.051,-26.2726 294.711,-25.6176 331.354,-25.194\"/>\r\n<polygon fill=\"black\" stroke=\"black\" points=\"331.615,-28.6913 341.574,-25.0758 331.534,-21.6918 331.615,-28.6913\"/>\r\n<text text-anchor=\"middle\" x=\"275.794\" y=\"-30.5982\" font-family=\"Times New Roman,serif\" font-size=\"14.00\">c </text>\r\n</g>\r\n</g>\r\n</svg>\r\n"
     },
     "metadata": {},
     "execution_count": 3
    }
   ],
   "source": [
    "dotObj_nfa(nfa1)"
   ]
  },
  {
   "cell_type": "markdown",
   "metadata": {},
   "source": [
    "## 1(b). Obtain the DFA of the above NFA by hand. I've given you a start.\n",
    "\n",
    " 1. Obtain the Eclosure of the initial NFA state. That is the DFA's initial state. Which is `I1_I2_B`.\n",
    "     1. When we go from `I1_I2_B` (set of states corresponding to the Eclosure) and give that state 'a', it goes to `I2`. _(This is no longer the initial state of the DFA, and hence called `I2`, for the markdown processor to understand.)_\n",
    "    <!-- 3. Finish the remaining steps below.\n",
    "    Show your work by typing in the Eclosure details of each step wherever there is a $\\varepsilon$ involved in a given DFA state\n",
    "    For DFA states where there is no $\\varepsilon$ involved, just show the final Eclosed result.\n",
    "    Use as many bullets as necessary to clearly show your work: -->\n",
    "     0. When in state `I1_I2_B` and 'b' is given, it goes to `B`.\n",
    "     0. When in state `I1_I2_B` and 'c' is given, it goes to `F3`.\n",
    "     0. When in state `I1_I2_B` and 'd' is given, it goes to `F4`.\n",
    "     0. When in state `I1_I2_B` and 'f' is given, it goes to `F3`.\n",
    "     0. When in state `I1_I2_B` and 's' is given, it goes to `B`.\n",
    " \n",
    " 0. Now we have 4 states (`{I2, B, F3, F4}`) that we know must exist in the DFA, so we must find the Eclosure of all of them and figure out the next state given each symbol in $\\Sigma$.\n",
    "\n",
    "     1. Obtain the Eclosure of _`I2`_ That is the Determinanistic State of `I2`.  Which is _`I2`_.\n",
    "         1. When in state _`I2`_ and 'a' is given, it goes to `BH` _(nowhere/Black-Hole, $\\therefore$ don't include it in markdown)_.\n",
    "         0. When in state _`I2`_ and 'b' is given, it goes to `B`.\n",
    "         0. When in state _`I2`_ and 'c' is given, it goes to `F3`.\n",
    "         0. When in state _`I2`_ and 'd' is given, it goes to `BH` _(nowhere/Black-Hole, $\\therefore$ don't include it in markdown)_.\n",
    "         0. When in state _`I2`_ and 'f' is given, it goes to `BH` _(nowhere/Black-Hole, $\\therefore$ don't include it in markdown)_.\n",
    "         0. When in state _`I2`_ and 's' is given, it goes to `BH` _(nowhere/Black-Hole, $\\therefore$ don't include it in markdown)_.\n",
    "\n",
    "     0. Obtain the Eclosure of `B` That is the Determinanistic State of `B`.  Which is `B`.\n",
    "         1. When in state `B` and 'a' is given, it goes to `BH` _(nowhere/Black-Hole, $\\therefore$ don't include it in markdown)_.\n",
    "         0. When in state `B` and 'b' is given, it goes to `BH` _(nowhere/Black-Hole, $\\therefore$ don't include it in markdown)_.\n",
    "         0. When in state `B` and 'c' is given, it goes to `BH` _(nowhere/Black-Hole, $\\therefore$ don't include it in markdown)_.\n",
    "         0. When in state `B` and 'd' is given, it goes to `F4`.\n",
    "         0. When in state `B` and 'f' is given, it goes to `F3`.\n",
    "         0. When in state `B` and 's' is given, it goes to `B`.\n",
    "\n",
    "     0. Obtain the Eclosure of `F3` That is the Determinanistic State of `F3`.  Which is `F3`.\n",
    "         1. When in state `F3` and 'a' is given, it goes to `BH` _(nowhere/Black-Hole, $\\therefore$ don't include it in markdown)_.\n",
    "         0. When in state `F3` and 'b' is given, it goes to `BH` _(nowhere/Black-Hole, $\\therefore$ don't include it in markdown)_.\n",
    "         0. When in state `F3` and 'c' is given, it goes to `BH` _(nowhere/Black-Hole, $\\therefore$ don't include it in markdown)_.\n",
    "         0. When in state `F3` and 'd' is given, it goes to `BH` _(nowhere/Black-Hole, $\\therefore$ don't include it in markdown)_.\n",
    "         0. When in state `F3` and 'f' is given, it goes to `BH` _(nowhere/Black-Hole, $\\therefore$ don't include it in markdown)_.\n",
    "         0. When in state `F3` and 's' is given, it goes to `BH` _(nowhere/Black-Hole, $\\therefore$ don't include it in markdown)_.\n",
    "\n",
    "     0. Obtain the Eclosure of `F4` That is the Determinanistic State of `F4`.  Which is `F4`.\n",
    "         1. When in state `F4` and 'a' is given, it goes to `BH` _(nowhere/Black-Hole, $\\therefore$ don't include it in markdown)_.\n",
    "         0. When in state `F4` and 'b' is given, it goes to `BH` _(nowhere/Black-Hole, $\\therefore$ don't include it in markdown)_.\n",
    "         0. When in state `F4` and 'c' is given, it goes to `BH` _(nowhere/Black-Hole, $\\therefore$ don't include it in markdown)_.\n",
    "         0. When in state `F4` and 'd' is given, it goes to `BH` _(nowhere/Black-Hole, $\\therefore$ don't include it in markdown)_.\n",
    "         0. When in state `F4` and 'f' is given, it goes to `BH` _(nowhere/Black-Hole, $\\therefore$ don't include it in markdown)_.\n",
    "         0. When in state `F4` and 's' is given, it goes to `BH` _(nowhere/Black-Hole, $\\therefore$ don't include it in markdown)_.\n",
    "\n",
    " 0. Everything now points at an Eclosure of a State or a/the Black-Hole (`BH`) (Which points to itself for all inputs).\n",
    "      Therefore we have found the Deterministic version of our NFA (_aka_ we found a DFA for oru NFA).\n",
    "\n",
    "    <!--  0. Obtain the Eclosure of `BH` That is the Determinanistic State of `BH`.  Which is `BH`.\n",
    "         1. When in state `BH` and 'a' is given, it goes to `BH` _(nowhere/Black-Hole, $\\therefore$ don't include it in markdown)_.\n",
    "         0. When in state `BH` and 'b' is given, it goes to `BH` _(nowhere/Black-Hole, $\\therefore$ don't include it in markdown)_.\n",
    "         0. When in state `BH` and 'c' is given, it goes to `BH` _(nowhere/Black-Hole, $\\therefore$ don't include it in markdown)_.\n",
    "         0. When in state `BH` and 'd' is given, it goes to `BH` _(nowhere/Black-Hole, $\\therefore$ don't include it in markdown)_.\n",
    "         0. When in state `BH` and 'f' is given, it goes to `BH` _(nowhere/Black-Hole, $\\therefore$ don't include it in markdown)_.\n",
    "         0. When in state `BH` and 's' is given, it goes to `BH` _(nowhere/Black-Hole, $\\therefore$ don't include it in markdown)_. -->"
   ]
  },
  {
   "cell_type": "code",
   "execution_count": 15,
   "metadata": {
    "tags": []
   },
   "outputs": [
    {
     "output_type": "stream",
     "name": "stderr",
     "text": "Generating LALR tables\n"
    }
   ],
   "source": [
    "# DFA of nfa1\n",
    "\n",
    "# dfa1 = { # - DFA Dict Representation ----\n",
    "#     \"Q\": {'I1_I2_B', 'I2', 'B', 'F3', 'F4', 'BH'},\n",
    "#     \"Sigma\": {'', 'a', 'b', 'c', 'd', 'f', 's'},\n",
    "#     \"Delta\": {\n",
    "#         ('I1_I2_B', 'a'): 'I2',\n",
    "#         ('I1_I2_B', 'b'): 'B',\n",
    "#         ('I1_I2_B', 'c'): 'F3',\n",
    "#         ('I1_I2_B', 'd'): 'F4',\n",
    "#         ('I1_I2_B', 'f'): 'F3',\n",
    "#         ('I1_I2_B', 's'): 'B',\n",
    "#         ('I2','a'): 'BH',\n",
    "#         ('I2', 'b'): 'B',\n",
    "#         ('I2', 'c'): 'F3',\n",
    "#         ('I2', 'd'): 'BH',\n",
    "#         ('I2','f'): 'BH',\n",
    "#         ('I2','s'): 'BH',\n",
    "#         ('B','a'): 'BH',\n",
    "#         ('B','b'): 'BH',\n",
    "#         ('B','c'): 'BH',\n",
    "#         ('B','d'): 'F4',\n",
    "#         ('B','f'): 'F3',\n",
    "#         ('B', 's'): 'B',\n",
    "#         ('F3','a'): 'BH',\n",
    "#         ('F3','b'): 'BH',\n",
    "#         ('F3','c'): 'BH',\n",
    "#         ('F3','d'): 'BH',\n",
    "#         ('F3','f'): 'BH',\n",
    "#         ('F3','s'): 'BH',\n",
    "#         ('F4','a'): 'BH',\n",
    "#         ('F4','b'): 'BH',\n",
    "#         ('F4','c'): 'BH',\n",
    "#         ('F4','d'): 'BH',\n",
    "#         ('F4','f'): 'BH',\n",
    "#         ('F4','s'): 'BH',\n",
    "#         ('BH','a'): 'BH',\n",
    "#         ('BH','b'): 'BH',\n",
    "#         ('BH','c'): 'BH',\n",
    "#         ('BH','d'): 'BH',\n",
    "#         ('BH','f'): 'BH',\n",
    "#         ('BH','s'): 'BH'\n",
    "#     },\n",
    "#     \"q0\": 'I1_I2_B',\n",
    "#     \"F\": {'F3', 'F4'},\n",
    "# }\n",
    "\n",
    "dfa1 = md2mc('''DFA\n",
    "\n",
    "I1_I2_B : a -> _I2\n",
    "\n",
    "!! ...show the rest of your work...\n",
    "\n",
    "I1_I2_B : b     -> B\n",
    "I1_I2_B : c|f   -> F3\n",
    "I1_I2_B : d     -> F4\n",
    "I1_I2_B : s     -> B\n",
    "\n",
    "_I2 : b -> B\n",
    "_I2 : c -> F3\n",
    "\n",
    "B   : d -> F4\n",
    "B   : f -> F3\n",
    "B   : s -> B\n",
    "''')"
   ]
  },
  {
   "cell_type": "code",
   "execution_count": 16,
   "metadata": {},
   "outputs": [
    {
     "output_type": "execute_result",
     "data": {
      "text/plain": "<graphviz.dot.Digraph at 0x1e2d4b076d0>",
      "image/svg+xml": "<?xml version=\"1.0\" encoding=\"UTF-8\" standalone=\"no\"?>\r\n<!DOCTYPE svg PUBLIC \"-//W3C//DTD SVG 1.1//EN\"\r\n \"http://www.w3.org/Graphics/SVG/1.1/DTD/svg11.dtd\">\r\n<!-- Generated by graphviz version 2.38.0 (20140413.2041)\r\n -->\r\n<!-- Title: %3 Pages: 1 -->\r\n<svg width=\"454pt\" height=\"242pt\"\r\n viewBox=\"0.00 0.00 453.99 242.29\" xmlns=\"http://www.w3.org/2000/svg\" xmlns:xlink=\"http://www.w3.org/1999/xlink\">\r\n<g id=\"graph0\" class=\"graph\" transform=\"scale(1 1) rotate(0) translate(4 238.288)\">\r\n<title>%3</title>\r\n<polygon fill=\"white\" stroke=\"none\" points=\"-4,4 -4,-238.288 449.985,-238.288 449.985,4 -4,4\"/>\r\n<!-- EMPTY -->\r\n<g id=\"node1\" class=\"node\"><title>EMPTY</title>\r\n</g>\r\n<!-- I1_I2_B -->\r\n<g id=\"node4\" class=\"node\"><title>I1_I2_B</title>\r\n<ellipse fill=\"none\" stroke=\"black\" cx=\"131.946\" cy=\"-116.49\" rx=\"40.8928\" ry=\"40.8928\"/>\r\n<text text-anchor=\"middle\" x=\"131.946\" y=\"-112.79\" font-family=\"Times New Roman,serif\" font-size=\"14.00\">I1_I2_B</text>\r\n</g>\r\n<!-- EMPTY&#45;&gt;I1_I2_B -->\r\n<g id=\"edge1\" class=\"edge\"><title>EMPTY&#45;&gt;I1_I2_B</title>\r\n<path fill=\"none\" stroke=\"black\" d=\"M54.2441,-116.49C62.2946,-116.49 71.4389,-116.49 80.5389,-116.49\"/>\r\n<polygon fill=\"black\" stroke=\"black\" points=\"80.7335,-119.99 90.7334,-116.49 80.7334,-112.99 80.7335,-119.99\"/>\r\n</g>\r\n<!-- _I2 -->\r\n<g id=\"node2\" class=\"node\"><title>_I2</title>\r\n<ellipse fill=\"none\" stroke=\"black\" cx=\"241.641\" cy=\"-42.4895\" rx=\"22.9987\" ry=\"22.9987\"/>\r\n<text text-anchor=\"middle\" x=\"241.641\" y=\"-38.7895\" font-family=\"Times New Roman,serif\" font-size=\"14.00\">_I2</text>\r\n</g>\r\n<!-- B -->\r\n<g id=\"node3\" class=\"node\"><title>B</title>\r\n<ellipse fill=\"none\" stroke=\"black\" cx=\"330.389\" cy=\"-139.49\" rx=\"18\" ry=\"18\"/>\r\n<text text-anchor=\"middle\" x=\"330.389\" y=\"-135.79\" font-family=\"Times New Roman,serif\" font-size=\"14.00\">B</text>\r\n</g>\r\n<!-- _I2&#45;&gt;B -->\r\n<g id=\"edge8\" class=\"edge\"><title>_I2&#45;&gt;B</title>\r\n<path fill=\"none\" stroke=\"black\" d=\"M264.588,-44.0538C274.674,-45.786 286.188,-49.3259 294.389,-56.4895 310.611,-70.6596 319.509,-93.608 324.268,-111.787\"/>\r\n<polygon fill=\"black\" stroke=\"black\" points=\"320.872,-112.635 326.561,-121.573 327.687,-111.038 320.872,-112.635\"/>\r\n<text text-anchor=\"middle\" x=\"288.389\" y=\"-60.2895\" font-family=\"Times New Roman,serif\" font-size=\"14.00\">b </text>\r\n</g>\r\n<!-- F3 -->\r\n<g id=\"node6\" class=\"node\"><title>F3</title>\r\n<ellipse fill=\"none\" stroke=\"black\" cx=\"421.187\" cy=\"-57.4895\" rx=\"20.6302\" ry=\"20.6302\"/>\r\n<ellipse fill=\"none\" stroke=\"black\" cx=\"421.187\" cy=\"-57.4895\" rx=\"24.5979\" ry=\"24.5979\"/>\r\n<text text-anchor=\"middle\" x=\"421.187\" y=\"-53.7895\" font-family=\"Times New Roman,serif\" font-size=\"14.00\">F3</text>\r\n</g>\r\n<!-- _I2&#45;&gt;F3 -->\r\n<g id=\"edge9\" class=\"edge\"><title>_I2&#45;&gt;F3</title>\r\n<path fill=\"none\" stroke=\"black\" d=\"M264.551,-44.134C273.766,-44.8384 284.6,-45.6833 294.389,-46.4895 325.36,-49.0406 360.602,-52.1391 385.89,-54.3966\"/>\r\n<polygon fill=\"black\" stroke=\"black\" points=\"385.804,-57.9029 396.077,-55.3086 386.429,-50.9308 385.804,-57.9029\"/>\r\n<text text-anchor=\"middle\" x=\"330.389\" y=\"-55.2895\" font-family=\"Times New Roman,serif\" font-size=\"14.00\">c </text>\r\n</g>\r\n<!-- B&#45;&gt;B -->\r\n<g id=\"edge12\" class=\"edge\"><title>B&#45;&gt;B</title>\r\n<path fill=\"none\" stroke=\"black\" d=\"M323.357,-156.154C321.795,-166.115 324.139,-175.49 330.389,-175.49 334.393,-175.49 336.793,-171.642 337.591,-166.258\"/>\r\n<polygon fill=\"black\" stroke=\"black\" points=\"341.089,-166.093 337.42,-156.154 334.09,-166.211 341.089,-166.093\"/>\r\n<text text-anchor=\"middle\" x=\"330.389\" y=\"-179.29\" font-family=\"Times New Roman,serif\" font-size=\"14.00\">s </text>\r\n</g>\r\n<!-- F4 -->\r\n<g id=\"node5\" class=\"node\"><title>F4</title>\r\n<ellipse fill=\"none\" stroke=\"black\" cx=\"421.187\" cy=\"-209.49\" rx=\"20.6302\" ry=\"20.6302\"/>\r\n<ellipse fill=\"none\" stroke=\"black\" cx=\"421.187\" cy=\"-209.49\" rx=\"24.5979\" ry=\"24.5979\"/>\r\n<text text-anchor=\"middle\" x=\"421.187\" y=\"-205.79\" font-family=\"Times New Roman,serif\" font-size=\"14.00\">F4</text>\r\n</g>\r\n<!-- B&#45;&gt;F4 -->\r\n<g id=\"edge10\" class=\"edge\"><title>B&#45;&gt;F4</title>\r\n<path fill=\"none\" stroke=\"black\" d=\"M345.263,-150.427C358.057,-160.512 377.404,-175.764 393.234,-188.242\"/>\r\n<polygon fill=\"black\" stroke=\"black\" points=\"391.117,-191.031 401.137,-194.473 395.451,-185.533 391.117,-191.031\"/>\r\n<text text-anchor=\"middle\" x=\"372.389\" y=\"-181.29\" font-family=\"Times New Roman,serif\" font-size=\"14.00\">d </text>\r\n</g>\r\n<!-- B&#45;&gt;F3 -->\r\n<g id=\"edge11\" class=\"edge\"><title>B&#45;&gt;F3</title>\r\n<path fill=\"none\" stroke=\"black\" d=\"M346.559,-130.665C356.168,-124.722 368.586,-116.371 378.389,-107.49 385.778,-100.795 393.033,-92.7845 399.37,-85.1573\"/>\r\n<polygon fill=\"black\" stroke=\"black\" points=\"402.303,-87.0954 405.85,-77.1119 396.851,-82.7046 402.303,-87.0954\"/>\r\n<text text-anchor=\"middle\" x=\"372.389\" y=\"-120.29\" font-family=\"Times New Roman,serif\" font-size=\"14.00\">f </text>\r\n</g>\r\n<!-- I1_I2_B&#45;&gt;_I2 -->\r\n<g id=\"edge2\" class=\"edge\"><title>I1_I2_B&#45;&gt;_I2</title>\r\n<path fill=\"none\" stroke=\"black\" d=\"M161.258,-87.8522C170.255,-79.6681 180.563,-71.1672 190.893,-64.4895 196.967,-60.5627 203.86,-57.0163 210.538,-53.9741\"/>\r\n<polygon fill=\"black\" stroke=\"black\" points=\"212.239,-57.0529 220.047,-49.8923 209.478,-50.6205 212.239,-57.0529\"/>\r\n<text text-anchor=\"middle\" x=\"195.893\" y=\"-68.2895\" font-family=\"Times New Roman,serif\" font-size=\"14.00\">a </text>\r\n</g>\r\n<!-- I1_I2_B&#45;&gt;B -->\r\n<g id=\"edge3\" class=\"edge\"><title>I1_I2_B&#45;&gt;B</title>\r\n<path fill=\"none\" stroke=\"black\" d=\"M172.699,-121.144C211.344,-125.668 268.973,-132.416 302.509,-136.342\"/>\r\n<polygon fill=\"black\" stroke=\"black\" points=\"302.158,-139.825 312.497,-137.512 302.972,-132.873 302.158,-139.825\"/>\r\n<text text-anchor=\"middle\" x=\"241.641\" y=\"-136.29\" font-family=\"Times New Roman,serif\" font-size=\"14.00\">b </text>\r\n</g>\r\n<!-- I1_I2_B&#45;&gt;B -->\r\n<g id=\"edge7\" class=\"edge\"><title>I1_I2_B&#45;&gt;B</title>\r\n<path fill=\"none\" stroke=\"black\" d=\"M168.788,-134.705C183.852,-141.394 201.817,-148.146 218.893,-151.49 251.833,-157.939 261.321,-155.249 294.389,-149.49 297.307,-148.981 300.33,-148.324 303.322,-147.589\"/>\r\n<polygon fill=\"black\" stroke=\"black\" points=\"304.45,-150.909 313.174,-144.896 302.605,-144.157 304.45,-150.909\"/>\r\n<text text-anchor=\"middle\" x=\"241.641\" y=\"-159.29\" font-family=\"Times New Roman,serif\" font-size=\"14.00\">s </text>\r\n</g>\r\n<!-- I1_I2_B&#45;&gt;F4 -->\r\n<g id=\"edge6\" class=\"edge\"><title>I1_I2_B&#45;&gt;F4</title>\r\n<path fill=\"none\" stroke=\"black\" d=\"M164.842,-141.456C173.154,-147.6 182.217,-153.989 190.893,-159.49 251.993,-198.232 338.651,-207.285 386.014,-209.195\"/>\r\n<polygon fill=\"black\" stroke=\"black\" points=\"385.951,-212.695 396.058,-209.516 386.174,-205.699 385.951,-212.695\"/>\r\n<text text-anchor=\"middle\" x=\"288.389\" y=\"-202.29\" font-family=\"Times New Roman,serif\" font-size=\"14.00\">d </text>\r\n</g>\r\n<!-- I1_I2_B&#45;&gt;F3 -->\r\n<g id=\"edge4\" class=\"edge\"><title>I1_I2_B&#45;&gt;F3</title>\r\n<path fill=\"none\" stroke=\"black\" d=\"M172.577,-109.055C221.178,-99.8282 306.023,-83.3637 378.389,-67.4895 381.19,-66.875 384.093,-66.2196 387.003,-65.5494\"/>\r\n<polygon fill=\"black\" stroke=\"black\" points=\"387.854,-68.9447 396.79,-63.2519 386.254,-62.13 387.854,-68.9447\"/>\r\n<text text-anchor=\"middle\" x=\"288.389\" y=\"-92.2895\" font-family=\"Times New Roman,serif\" font-size=\"14.00\">c </text>\r\n</g>\r\n<!-- I1_I2_B&#45;&gt;F3 -->\r\n<g id=\"edge5\" class=\"edge\"><title>I1_I2_B&#45;&gt;F3</title>\r\n<path fill=\"none\" stroke=\"black\" d=\"M151.139,-80.2367C165.727,-55.5581 188.737,-24.8616 218.893,-10.4895 276.447,16.9407 351.065,-16.3378 391.343,-39.2736\"/>\r\n<polygon fill=\"black\" stroke=\"black\" points=\"389.709,-42.3728 400.106,-44.4115 393.249,-36.3342 389.709,-42.3728\"/>\r\n<text text-anchor=\"middle\" x=\"288.389\" y=\"-6.28952\" font-family=\"Times New Roman,serif\" font-size=\"14.00\">f </text>\r\n</g>\r\n</g>\r\n</svg>\r\n"
     },
     "metadata": {},
     "execution_count": 16
    }
   ],
   "source": [
    "dotObj_dfa(dfa1)"
   ]
  },
  {
   "cell_type": "markdown",
   "metadata": {},
   "source": [
    "## 1(c). Reverse nfa1 by hand, below. In doing so, it is helpful for me to suggest state renamings for you\n",
    "\n",
    "1) Change F3 to I3\n",
    "\n",
    "2) Change F4 to I4\n",
    "\n",
    "3) Change I1 and I2 to F1 and F2\n",
    "\n",
    "4) Now, reverse the transitions of nfa1, obtaining \"rnfa1\" below\n",
    " "
   ]
  },
  {
   "cell_type": "code",
   "execution_count": null,
   "metadata": {},
   "outputs": [],
   "source": [
    "# There is no Jove function to reverse automatically - do it by hand!\n",
    "\n",
    "rnfa1 = md2mc('''\n",
    "NFA\n",
    "\n",
    "...show your work...\n",
    "\n",
    "''')"
   ]
  },
  {
   "cell_type": "code",
   "execution_count": null,
   "metadata": {},
   "outputs": [],
   "source": [
    "dotObj_nfa(rnfa1)"
   ]
  },
  {
   "cell_type": "code",
   "execution_count": null,
   "metadata": {},
   "outputs": [],
   "source": [
    "dotObj_nfa(nfa1)"
   ]
  },
  {
   "cell_type": "markdown",
   "metadata": {},
   "source": [
    "## 1(d). Inspect and conclude that rnfa1 is truly the reverse of nfa1\n",
    "\n",
    "\n",
    "### List the first six strings in numeric order and check that they have been correctly reversed. \n",
    "\n",
    "State the string in the original machine and explain (by specifying a path as a sequence of states) that this string is present in the reversed machine also.\n",
    "\n",
    "1.\n",
    "\n",
    "2.\n",
    "\n",
    "3.\n",
    "\n",
    "4.\n",
    "\n",
    "5.\n",
    "\n",
    "6.\n",
    "\n",
    " \n",
    " "
   ]
  },
  {
   "cell_type": "markdown",
   "metadata": {},
   "source": [
    "# 2. Extraction of RE by Inspection (XL) and other things before it\n"
   ]
  },
  {
   "cell_type": "markdown",
   "metadata": {},
   "source": [
    "## 2(a). You can totalize dfa1 to obtain the totalized machine\n",
    "\n",
    "* Explain totalize_dfa in a few sentences below, by looking at the Delta before and After"
   ]
  },
  {
   "cell_type": "code",
   "execution_count": null,
   "metadata": {},
   "outputs": [],
   "source": [
    "tdfa1 = totalize_dfa(dfa1)"
   ]
  },
  {
   "cell_type": "markdown",
   "metadata": {},
   "source": [
    "### Your explanation of totalize_dfa\n",
    "\n",
    "*\n",
    "\n",
    "*\n",
    "\n"
   ]
  },
  {
   "cell_type": "markdown",
   "metadata": {},
   "source": [
    "##  A printout may look the same ... till you print w_bh "
   ]
  },
  {
   "cell_type": "code",
   "execution_count": null,
   "metadata": {},
   "outputs": [],
   "source": [
    "dotObj_dfa(tdfa1)"
   ]
  },
  {
   "cell_type": "markdown",
   "metadata": {},
   "source": [
    "##  Let us print with blackhole"
   ]
  },
  {
   "cell_type": "code",
   "execution_count": null,
   "metadata": {},
   "outputs": [],
   "source": [
    "dotObj_dfa_w_bh(tdfa1)"
   ]
  },
  {
   "cell_type": "markdown",
   "metadata": {},
   "source": [
    "### Was it a good idea to not always show black-holes?\n",
    "\n",
    "* In what circumstances might you still need to apply the _w_bh view option?\n",
    "\n",
    "\n",
    "An open-ended answer - anything you may think up can be a valuable piece of feedback for me\n"
   ]
  },
  {
   "cell_type": "markdown",
   "metadata": {},
   "source": [
    "## 2(b) Obtain an RE by looking at nfa1\n",
    "\n",
    "* Follow all paths\n",
    "\n",
    "* Summarize the paths in your head, using the Star operator suitably\n",
    "\n",
    "\n"
   ]
  },
  {
   "cell_type": "code",
   "execution_count": null,
   "metadata": {},
   "outputs": [],
   "source": [
    "RE1_hand = \" ... your RE here... \""
   ]
  },
  {
   "cell_type": "markdown",
   "metadata": {},
   "source": [
    "## 2(c) Reverse RE1 by hand to obtain Rev_RE1\n",
    "\n",
    "Once you have an RE, you can \"visually reverse it\" for simple REs"
   ]
  },
  {
   "cell_type": "code",
   "execution_count": null,
   "metadata": {},
   "outputs": [],
   "source": [
    "Rev_RE1_hand = \" ...your reversed RE here... \""
   ]
  },
  {
   "cell_type": "markdown",
   "metadata": {},
   "source": [
    "## 2(d) Understand del_gnfa_states via help"
   ]
  },
  {
   "cell_type": "code",
   "execution_count": null,
   "metadata": {},
   "outputs": [],
   "source": [
    "# help of del_gnfa_states run below\n"
   ]
  },
  {
   "cell_type": "markdown",
   "metadata": {},
   "source": [
    "### Document what you learned from the function help of del_gnfa_states and summarize below\n",
    "\n",
    "\n",
    "*\n",
    "\n",
    "*\n",
    "\n",
    "*"
   ]
  },
  {
   "cell_type": "markdown",
   "metadata": {},
   "source": [
    "# 3. Converting to GNFA and Attempting Two Elimination Orders (AR)\n",
    "\n",
    "Work on rnfa1 to obtain Rev_RE1 and Rev_RE2 "
   ]
  },
  {
   "cell_type": "markdown",
   "metadata": {},
   "source": [
    "## Obtain grnfa1 below via a suitable command"
   ]
  },
  {
   "cell_type": "code",
   "execution_count": null,
   "metadata": {},
   "outputs": [],
   "source": [
    "grnfa1 = mk_gnfa(rnfa1)"
   ]
  },
  {
   "cell_type": "code",
   "execution_count": null,
   "metadata": {},
   "outputs": [],
   "source": [
    "dotObj_gnfa(grnfa1)"
   ]
  },
  {
   "cell_type": "markdown",
   "metadata": {},
   "source": [
    "## 3(b,c) i : Apply the elimination order by supplying the second argument \n",
    "['B', 'F2', 'F1', 'I3', 'I4']\n",
    "\n",
    "as you learned in the help"
   ]
  },
  {
   "cell_type": "code",
   "execution_count": null,
   "metadata": {},
   "outputs": [],
   "source": [
    "(Gfinal, DO, Rev_RE1) = del_gnfa_states(...args filled here...)"
   ]
  },
  {
   "cell_type": "code",
   "execution_count": null,
   "metadata": {},
   "outputs": [],
   "source": [
    "Rev_RE1"
   ]
  },
  {
   "cell_type": "code",
   "execution_count": null,
   "metadata": {},
   "outputs": [],
   "source": [
    "dotObj_dfa(min_dfa(nfa2dfa(re2nfa(Rev_RE1))))"
   ]
  },
  {
   "cell_type": "markdown",
   "metadata": {},
   "source": [
    "## 3(b,c) ii : Apply the elimination order by supplying the second argument \n",
    " ['I3', 'I4', 'F1', 'B', 'F2' ]\n",
    "\n",
    "as you learned in the help"
   ]
  },
  {
   "cell_type": "markdown",
   "metadata": {},
   "source": [
    "## Examine DO[0] through DO[Last_Legal_Item] (find out how long DO is)\n",
    "\n",
    "DO[0] is the initial GNFA machine, DO[1] is the next one, and so on. You will see each step getting\n",
    "rid of one state.\n",
    "\n",
    "### [[ ...UPDATED WORDING...]] Summarize your observation of the state elimination and which REs were introduced as a result. Pick TWO cases, one of which involves the removal of a state with a self-loop. Use one bullet per question case discussed.\n",
    "\n",
    "*\n",
    "\n",
    "*\n",
    "\n",
    "*\n",
    "\n",
    "*\n",
    "\n",
    "*\n",
    "\n",
    "*\n",
    "\n",
    "*"
   ]
  },
  {
   "cell_type": "code",
   "execution_count": null,
   "metadata": {
    "scrolled": true
   },
   "outputs": [],
   "source": [
    "(Gfinal, DO, Rev_RE2) = del_gnfa_states(grnfa1, ...args...)"
   ]
  },
  {
   "cell_type": "code",
   "execution_count": null,
   "metadata": {},
   "outputs": [],
   "source": [
    "Rev_RE2"
   ]
  },
  {
   "cell_type": "markdown",
   "metadata": {},
   "source": [
    "## Examine DO[0] through DO[Last_Legal_Item] (find out how long DO is)\n",
    "\n",
    "### [[ Slightly Updated Wording ]] Summarize your observation of the state elimination and which REs were introduced as a result (using the same guidelines as with Rev_RE1 above.\n",
    "\n",
    "*\n",
    "\n",
    "*\n",
    "\n",
    "*\n",
    "\n",
    "*\n",
    "\n",
    "*\n",
    "\n",
    "*\n",
    "\n",
    "*"
   ]
  },
  {
   "cell_type": "markdown",
   "metadata": {},
   "source": [
    "## 3(d)i Check for isomorphism as requested between Rev_RE1 and Rev_RE2\n",
    "\n",
    "Apply a Jove call that is compact (and is in my lecture slides) that checks that Rev_RE1 and Rev_RE2 \n",
    "are equivalent. It has to involve iso_dfa and min_dfa and other calls."
   ]
  },
  {
   "cell_type": "code",
   "execution_count": null,
   "metadata": {},
   "outputs": [],
   "source": [
    "iso_dfa( ... )"
   ]
  },
  {
   "cell_type": "markdown",
   "metadata": {},
   "source": []
  },
  {
   "cell_type": "code",
   "execution_count": null,
   "metadata": {},
   "outputs": [],
   "source": [
    "# Just look at it again for comparison\n",
    "\n",
    "...Rev_RE1_hand..."
   ]
  },
  {
   "cell_type": "markdown",
   "metadata": {},
   "source": [
    "## 3(d)i Check for isomorphism as requested between Rev_RE1 and Rev_RE1_hand\n",
    "\n",
    "Same methods as above."
   ]
  },
  {
   "cell_type": "code",
   "execution_count": null,
   "metadata": {},
   "outputs": [],
   "source": [
    "iso_dfa( ... )"
   ]
  },
  {
   "cell_type": "markdown",
   "metadata": {},
   "source": [
    "# Chasing down the RE2NFA components (SV)\n",
    "\n",
    "Find out where the s* components are and explain the set of all strings that precede s* in Rev_RE2 and the NFA of Rev_RE2\n",
    "\n",
    "Find out where the ending \"a\" is, and find out the set of all the symbols that precede a\n",
    "\n",
    "Let's first look at the NFA and then see where the RE \"parts\" are in it."
   ]
  },
  {
   "cell_type": "code",
   "execution_count": null,
   "metadata": {
    "scrolled": true
   },
   "outputs": [],
   "source": [
    "dotObj_nfa(re2nfa(Rev_RE2))"
   ]
  },
  {
   "cell_type": "markdown",
   "metadata": {},
   "source": [
    "## Chasing down the RE2NFA components (SV) - details\n",
    "\n",
    "\n",
    "This is an exercise in explaning how Rev_RE2 got translated to an NFA. You are to pick these cases and find an example of each, and explain below. What you pick does not matter.\n",
    "\n",
    "* Find a case where a Star is used, and explain the construction, pointing to the states involved. Use up to 6 bullets below. More or less based on how you explain (clarity not length emphasized).\n",
    "  - ...\n",
    "  - ...\n",
    "  - ...\n",
    "  - ...\n",
    "  - ...\n",
    "  - ...\n",
    "\n",
    "* Find a case where the Star follows something (I.e. a concatenation of the form \"X\" followed by \"Star\" is used). Show how that concatenation construction is accomplished in the same manner (up to 6 bullets roughly) as above. More or less based on how you explain.\n",
    "  - ...\n",
    "  - ...\n",
    "  - ...\n",
    "  - ...\n",
    "  - ...\n",
    "  - ...\n",
    "  \n",
    "* Find a case where something follows Star (I.e. a concatenation of the form \"Star\" followed by \"X\"). Explain how the concatenation is accomplished.\n",
    "  - ...\n",
    "  - ...\n",
    "  - ...\n",
    "  - ...\n",
    "  - ...\n",
    "  - ..."
   ]
  },
  {
   "cell_type": "markdown",
   "metadata": {},
   "source": [
    "## Repeat finding out the aforesaid paths in your own Rev_RE1_hand"
   ]
  },
  {
   "cell_type": "markdown",
   "metadata": {},
   "source": [
    "\n",
    "This is an exercise in explaning how Rev_RE1_hand got translated to an NFA. You are to pick these cases and find an example of each, and explain below. What you pick does not matter.\n",
    "\n",
    "* Find a case where a Star is used, and explain the construction, pointing to the states involved. Use up to 6 bullets below. More or less based on how you explain (clarity not length emphasized).\n",
    "  - ...\n",
    "  - ...\n",
    "  - ...\n",
    "  - ...\n",
    "  - ...\n",
    "  - ...\n",
    "\n",
    "* Find a case where the Star follows something (I.e. a concatenation of the form \"X\" followed by \"Star\" is used). If such a case does not arise in your RE, skip this part. Show how that concatenation construction is accomplished in the same manner (up to 6 bullets roughly) as above. More or less based on how you explain. \n",
    "  - ...\n",
    "  - ...\n",
    "  - ...\n",
    "  - ...\n",
    "  - ...\n",
    "  - ...\n",
    "  \n",
    "* Find a case where something follows Star (I.e. a concatenation of the form \"Star\" followed by \"X\"). If such a case does not arise in your RE, skip this part. Explain how the concatenation is accomplished.\n",
    "  - ...\n",
    "  - ...\n",
    "  - ...\n",
    "  - ...\n",
    "  - ...\n",
    "  - ..."
   ]
  },
  {
   "cell_type": "markdown",
   "metadata": {},
   "source": [
    "# END\n"
   ]
  }
 ],
 "metadata": {
  "kernelspec": {
   "display_name": "Python 3",
   "language": "python",
   "name": "python3"
  },
  "language_info": {
   "codemirror_mode": {
    "name": "ipython",
    "version": 3
   },
   "file_extension": ".py",
   "mimetype": "text/x-python",
   "name": "python",
   "nbconvert_exporter": "python",
   "pygments_lexer": "ipython3",
   "version": "3.8.3-final"
  },
  "toc": {
   "colors": {
    "hover_highlight": "#DAA520",
    "running_highlight": "#FF0000",
    "selected_highlight": "#FFD700"
   },
   "moveMenuLeft": true,
   "nav_menu": {
    "height": "121px",
    "width": "252px"
   },
   "navigate_menu": true,
   "number_sections": true,
   "sideBar": true,
   "threshold": 4,
   "toc_cell": false,
   "toc_section_display": "block",
   "toc_window_display": false,
   "widenNotebook": false
  },
  "widgets": {
   "state": {
    "430c92ee02b34ec1912bf03c8de1e6dc": {
     "views": [
      {
       "cell_index": 20
      }
     ]
    }
   },
   "version": "1.2.0"
  }
 },
 "nbformat": 4,
 "nbformat_minor": 2
}