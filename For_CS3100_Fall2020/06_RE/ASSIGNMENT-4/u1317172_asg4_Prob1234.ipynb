{
 "cells": [
  {
   "cell_type": "markdown",
   "metadata": {},
   "source": [
    "# Asg-4 focuses on \n",
    "\n",
    "## NFA2DFA (review) -- LT\n",
    "\n",
    "## Reversal of NFA by hand -- XL\n",
    "\n",
    "## Conversion to GNFA and Two Elimination Orders -- AR\n",
    "\n",
    "## Chasing down the RE2NFA Components -- SV\n",
    "\n",
    "## Here is the  plan\n",
    "\n",
    "1. In LT, you will\n",
    "\n",
    "    a. take a given nfa called nfa1\n",
    "    \n",
    "    b. convert it to dfa1 \n",
    "    \n",
    "    c. reverse nfa1 by hand obtaining rnfa1\n",
    "    \n",
    "    d. inspect and conclude (listing six paths) that rnfa1 is indeed a reverse of nfa1\n",
    "\n",
    "2. In XL you will\n",
    "\n",
    "    a. learn about a few DFA utilities such as totalize_dfa and dotObj_dfa_w_bh\n",
    "    \n",
    "    b. extract an RE by inspecting nfa1 and write it down as RE1_hand\n",
    "    \n",
    "    c. reverse RE1_hand by inspection, writing the result down as Rev_RE1_hand\n",
    "    \n",
    "    d. Understand the function del_gnfa_states via its help command\n",
    "    \n",
    "\n",
    "3. In AR you will\n",
    "\n",
    "    a. obtain a GNFA for rnfa1, calling it grnfa1\n",
    "    \n",
    "    b. apply two elimination orders for states on grnfa1\n",
    "    \n",
    "    c. obtain Rev_RE1 and Rev_RE2\n",
    "    \n",
    "    d. check that Rev_RE1 and Rev_RE2 and Rev_RE1_hand are all isomorphic\n",
    "    \n",
    "\n",
    "4. In SV you will \n",
    "\n",
    "    a. print the NFA for Rev_RE2 and answer the stated questions.\n",
    "    \n",
    "    b. print the NFA for Rev_RE1_hand and answer the questions.\n",
    "\n",
    "Please follow the instructions and submit your finished notebook as described in previous assignments.\n",
    " "
   ]
  },
  {
   "cell_type": "markdown",
   "metadata": {
    "run_control": {
     "frozen": false,
     "read_only": false
    }
   },
   "source": [
    "# Asg-4 imports \n"
   ]
  },
  {
   "cell_type": "code",
   "execution_count": 19,
   "metadata": {
    "run_control": {
     "frozen": false,
     "read_only": false
    },
    "scrolled": true,
    "tags": []
   },
   "outputs": [
    {
     "output_type": "stream",
     "name": "stdout",
     "text": "You may use any of these help commands:\nhelp(lphi)\nhelp(lunit)\nhelp(lcat)\nhelp(lexp)\nhelp(lunion)\nhelp(lstar)\nhelp(srev)\nhelp(lrev)\nhelp(shomo)\nhelp(lhomo)\nhelp(powset)\nhelp(lint)\nhelp(lsymdiff)\nhelp(lminus)\nhelp(lissubset)\nhelp(lissuperset)\nhelp(lcomplem)\nhelp(product)\nhelp(nthnumeric)\n\n"
    }
   ],
   "source": [
    "#~~~~~~~~~~~~~~~~~~~~~~~~~~~~~~~~~~~~~~~~~~~~~~~~~~~~~~~\n",
    "import sys\n",
    "\n",
    "# -- Detect if in Own Install or in Colab\n",
    "try:\n",
    "    import google.colab\n",
    "    OWN_INSTALL = False\n",
    "except:\n",
    "    OWN_INSTALL = True\n",
    "    \n",
    "if OWN_INSTALL:\n",
    "    \n",
    "  #---- Leave these definitions ON if running on laptop\n",
    "  #---- Else turn OFF by putting them between ''' ... '''\n",
    "\n",
    "  sys.path[0:0] = ['../../../../..',  '../../../../../3rdparty',  \n",
    "                   '../../../..',  '../../../../3rdparty',  \n",
    "                   '../../..',     '../../../3rdparty', \n",
    "                   '../..',        '../../3rdparty',\n",
    "                   '..',           '../3rdparty' ]\n",
    "\n",
    "else: # In colab\n",
    "  ! if [ ! -d Jove ]; then git clone https://github.com/ganeshutah/Jove Jove; fi\n",
    "  sys.path.append('./Jove')\n",
    "  sys.path.append('./Jove/jove')\n",
    "\n",
    "# -- common imports --\n",
    "from jove.LangDef   import *\n",
    "from jove.DotBashers import *\n",
    "from jove.Def_md2mc  import *\n",
    "from jove.Def_NFA    import *\n",
    "from jove.Def_DFA    import *\n",
    "from jove.Def_NFA2RE import *\n",
    "from jove.Def_RE2NFA import *\n",
    "from jove.AnimateNFA import *\n",
    "#~~~~~~~~~~~~~~~~~~~~~~~~~~~~~~~~~~~~~~~~~~~~~~~~~~~~~~~"
   ]
  },
  {
   "cell_type": "markdown",
   "metadata": {},
   "source": [
    "# 1. NFA to DFA by hand and Checking (LT) + Getting a simple RE\n",
    "\n",
    "You are given this NFA below\n",
    "\n",
    "## 1(a). nfa1 is given below\n",
    "\n",
    "Questions follow under 1(b)"
   ]
  },
  {
   "cell_type": "code",
   "execution_count": 15,
   "metadata": {
    "tags": []
   },
   "outputs": [
    {
     "output_type": "stream",
     "name": "stderr",
     "text": "Generating LALR tables\n"
    },
    {
     "output_type": "execute_result",
     "data": {
      "text/plain": "{'Q': {'B', 'F3', 'F4', 'I1', 'I2'},\n 'Sigma': {'a', 'b', 'c', 'd', 'f', 's'},\n 'Delta': {('I1', ''): {'B'},\n  ('I1', 'a'): {'I2'},\n  ('I2', 'c'): {'F3'},\n  ('I2', 'b'): {'B'},\n  ('B', 's'): {'B'},\n  ('B', 'd'): {'F4'},\n  ('B', 'f'): {'F3'}},\n 'Q0': {'I1', 'I2'},\n 'F': {'F3', 'F4'}}"
     },
     "metadata": {},
     "execution_count": 15
    }
   ],
   "source": [
    "# Given NFA\n",
    "\n",
    "nfa1 = md2mc('''NFA\n",
    "I1 : '' -> B\n",
    "I1 : a  -> I2\n",
    "\n",
    "I2 : c  -> F3\n",
    "I2 : b  -> B\n",
    "\n",
    "B : s  -> B\n",
    "B : d  -> F4\n",
    "B : f  -> F3\n",
    "\n",
    "\n",
    "''')\n",
    "nfa1"
   ]
  },
  {
   "cell_type": "code",
   "execution_count": 3,
   "metadata": {},
   "outputs": [
    {
     "output_type": "execute_result",
     "data": {
      "text/plain": "<graphviz.dot.Digraph at 0x1dab1528d90>",
      "image/svg+xml": "<?xml version=\"1.0\" encoding=\"UTF-8\" standalone=\"no\"?>\r\n<!DOCTYPE svg PUBLIC \"-//W3C//DTD SVG 1.1//EN\"\r\n \"http://www.w3.org/Graphics/SVG/1.1/DTD/svg11.dtd\">\r\n<!-- Generated by graphviz version 2.38.0 (20140413.2041)\r\n -->\r\n<!-- Title: %3 Pages: 1 -->\r\n<svg width=\"399pt\" height=\"140pt\"\r\n viewBox=\"0.00 0.00 399.39 139.80\" xmlns=\"http://www.w3.org/2000/svg\" xmlns:xlink=\"http://www.w3.org/1999/xlink\">\r\n<g id=\"graph0\" class=\"graph\" transform=\"scale(1 1) rotate(0) translate(4 135.798)\">\r\n<title>%3</title>\r\n<polygon fill=\"white\" stroke=\"none\" points=\"-4,4 -4,-135.798 395.39,-135.798 395.39,4 -4,4\"/>\r\n<!-- EMPTY -->\r\n<g id=\"node1\" class=\"node\"><title>EMPTY</title>\r\n</g>\r\n<!-- I1 -->\r\n<g id=\"node2\" class=\"node\"><title>I1</title>\r\n<ellipse fill=\"none\" stroke=\"black\" cx=\"109.198\" cy=\"-69.7982\" rx=\"18.399\" ry=\"18.399\"/>\r\n<text text-anchor=\"middle\" x=\"109.198\" y=\"-66.0982\" font-family=\"Times New Roman,serif\" font-size=\"14.00\">I1</text>\r\n</g>\r\n<!-- EMPTY&#45;&gt;I1 -->\r\n<g id=\"edge1\" class=\"edge\"><title>EMPTY&#45;&gt;I1</title>\r\n<path fill=\"none\" stroke=\"black\" d=\"M54.26,-50.2938C63.2879,-53.5584 73.3825,-57.2086 82.3754,-60.4605\"/>\r\n<polygon fill=\"black\" stroke=\"black\" points=\"81.3506,-63.8117 91.9449,-63.9208 83.731,-57.2288 81.3506,-63.8117\"/>\r\n</g>\r\n<!-- I2 -->\r\n<g id=\"node4\" class=\"node\"><title>I2</title>\r\n<ellipse fill=\"none\" stroke=\"black\" cx=\"191.595\" cy=\"-27.7982\" rx=\"18.399\" ry=\"18.399\"/>\r\n<text text-anchor=\"middle\" x=\"191.595\" y=\"-24.0982\" font-family=\"Times New Roman,serif\" font-size=\"14.00\">I2</text>\r\n</g>\r\n<!-- EMPTY&#45;&gt;I2 -->\r\n<g id=\"edge2\" class=\"edge\"><title>EMPTY&#45;&gt;I2</title>\r\n<path fill=\"none\" stroke=\"black\" d=\"M54.1237,-38.7095C83.8654,-36.3315 132.261,-32.4622 162.714,-30.0273\"/>\r\n<polygon fill=\"black\" stroke=\"black\" points=\"163.365,-33.4865 173.055,-29.2006 162.807,-26.5088 163.365,-33.4865\"/>\r\n</g>\r\n<!-- B -->\r\n<g id=\"node3\" class=\"node\"><title>B</title>\r\n<ellipse fill=\"none\" stroke=\"black\" cx=\"275.794\" cy=\"-80.7982\" rx=\"18\" ry=\"18\"/>\r\n<text text-anchor=\"middle\" x=\"275.794\" y=\"-77.0982\" font-family=\"Times New Roman,serif\" font-size=\"14.00\">B</text>\r\n</g>\r\n<!-- I1&#45;&gt;B -->\r\n<g id=\"edge3\" class=\"edge\"><title>I1&#45;&gt;B</title>\r\n<path fill=\"none\" stroke=\"black\" d=\"M127.502,-70.9546C156.101,-72.8659 213.451,-76.6986 247.538,-78.9766\"/>\r\n<polygon fill=\"black\" stroke=\"black\" points=\"247.511,-82.4825 257.722,-79.6572 247.978,-75.4981 247.511,-82.4825\"/>\r\n<text text-anchor=\"middle\" x=\"191.595\" y=\"-80.5982\" font-family=\"Times New Roman,serif\" font-size=\"14.00\">&#39;&#39; </text>\r\n</g>\r\n<!-- I1&#45;&gt;I2 -->\r\n<g id=\"edge4\" class=\"edge\"><title>I1&#45;&gt;I2</title>\r\n<path fill=\"none\" stroke=\"black\" d=\"M125.7,-61.7001C137.156,-55.7155 152.981,-47.4483 166.135,-40.5762\"/>\r\n<polygon fill=\"black\" stroke=\"black\" points=\"167.899,-43.6039 175.141,-35.8713 164.657,-37.3995 167.899,-43.6039\"/>\r\n<text text-anchor=\"middle\" x=\"150.397\" y=\"-55.5982\" font-family=\"Times New Roman,serif\" font-size=\"14.00\">a </text>\r\n</g>\r\n<!-- B&#45;&gt;B -->\r\n<g id=\"edge7\" class=\"edge\"><title>B&#45;&gt;B</title>\r\n<path fill=\"none\" stroke=\"black\" d=\"M268.762,-97.4622C267.2,-107.423 269.544,-116.798 275.794,-116.798 279.797,-116.798 282.198,-112.951 282.996,-107.566\"/>\r\n<polygon fill=\"black\" stroke=\"black\" points=\"286.494,-107.401 282.825,-97.4622 279.495,-107.52 286.494,-107.401\"/>\r\n<text text-anchor=\"middle\" x=\"275.794\" y=\"-120.598\" font-family=\"Times New Roman,serif\" font-size=\"14.00\">s </text>\r\n</g>\r\n<!-- F3 -->\r\n<g id=\"node5\" class=\"node\"><title>F3</title>\r\n<ellipse fill=\"none\" stroke=\"black\" cx=\"366.592\" cy=\"-24.7982\" rx=\"20.6302\" ry=\"20.6302\"/>\r\n<ellipse fill=\"none\" stroke=\"black\" cx=\"366.592\" cy=\"-24.7982\" rx=\"24.5979\" ry=\"24.5979\"/>\r\n<text text-anchor=\"middle\" x=\"366.592\" y=\"-21.0982\" font-family=\"Times New Roman,serif\" font-size=\"14.00\">F3</text>\r\n</g>\r\n<!-- B&#45;&gt;F3 -->\r\n<g id=\"edge9\" class=\"edge\"><title>B&#45;&gt;F3</title>\r\n<path fill=\"none\" stroke=\"black\" d=\"M291.457,-71.5509C303.728,-63.8122 321.608,-52.5364 336.733,-42.9974\"/>\r\n<polygon fill=\"black\" stroke=\"black\" points=\"338.666,-45.9163 345.258,-37.6215 334.932,-39.9954 338.666,-45.9163\"/>\r\n<text text-anchor=\"middle\" x=\"317.794\" y=\"-62.5982\" font-family=\"Times New Roman,serif\" font-size=\"14.00\">f </text>\r\n</g>\r\n<!-- F4 -->\r\n<g id=\"node6\" class=\"node\"><title>F4</title>\r\n<ellipse fill=\"none\" stroke=\"black\" cx=\"366.592\" cy=\"-94.7982\" rx=\"20.6302\" ry=\"20.6302\"/>\r\n<ellipse fill=\"none\" stroke=\"black\" cx=\"366.592\" cy=\"-94.7982\" rx=\"24.5979\" ry=\"24.5979\"/>\r\n<text text-anchor=\"middle\" x=\"366.592\" y=\"-91.0982\" font-family=\"Times New Roman,serif\" font-size=\"14.00\">F4</text>\r\n</g>\r\n<!-- B&#45;&gt;F4 -->\r\n<g id=\"edge8\" class=\"edge\"><title>B&#45;&gt;F4</title>\r\n<path fill=\"none\" stroke=\"black\" d=\"M293.915,-83.4975C304.652,-85.1903 318.864,-87.431 331.8,-89.4705\"/>\r\n<polygon fill=\"black\" stroke=\"black\" points=\"331.387,-92.9486 341.81,-91.0487 332.477,-86.034 331.387,-92.9486\"/>\r\n<text text-anchor=\"middle\" x=\"317.794\" y=\"-92.5982\" font-family=\"Times New Roman,serif\" font-size=\"14.00\">d </text>\r\n</g>\r\n<!-- I2&#45;&gt;B -->\r\n<g id=\"edge6\" class=\"edge\"><title>I2&#45;&gt;B</title>\r\n<path fill=\"none\" stroke=\"black\" d=\"M207.512,-37.1986C216.818,-43.0826 229.03,-50.8412 239.794,-57.7982 243.677,-60.3081 247.791,-62.9903 251.781,-65.6044\"/>\r\n<polygon fill=\"black\" stroke=\"black\" points=\"249.902,-68.5576 260.181,-71.1247 253.746,-62.7077 249.902,-68.5576\"/>\r\n<text text-anchor=\"middle\" x=\"233.794\" y=\"-61.5982\" font-family=\"Times New Roman,serif\" font-size=\"14.00\">b </text>\r\n</g>\r\n<!-- I2&#45;&gt;F3 -->\r\n<g id=\"edge5\" class=\"edge\"><title>I2&#45;&gt;F3</title>\r\n<path fill=\"none\" stroke=\"black\" d=\"M209.815,-27.4995C238.051,-27.0099 294.711,-26.0273 331.354,-25.3919\"/>\r\n<polygon fill=\"black\" stroke=\"black\" points=\"331.636,-28.8876 341.574,-25.2147 331.515,-21.8887 331.636,-28.8876\"/>\r\n<text text-anchor=\"middle\" x=\"275.794\" y=\"-30.5982\" font-family=\"Times New Roman,serif\" font-size=\"14.00\">c </text>\r\n</g>\r\n</g>\r\n</svg>\r\n"
     },
     "metadata": {},
     "execution_count": 3
    }
   ],
   "source": [
    "dotObj_nfa(nfa1)"
   ]
  },
  {
   "cell_type": "markdown",
   "metadata": {},
   "source": [
    "## 1(b). Obtain the DFA of the above NFA by hand. I've given you a start.\n",
    "\n",
    " 1. Obtain the Eclosure of the initial NFA state. That is the DFA's initial state. Which is `I1_I2_B`.\n",
    "     1. When we go from `I1_I2_B` (set of states corresponding to the Eclosure) and give that state 'a', it goes to `I2`. _(This is no longer the initial state of the DFA, and hence called `I2`, for the markdown processor to understand.)_\n",
    "    <!-- 3. Finish the remaining steps below.\n",
    "    Show your work by typing in the Eclosure details of each step wherever there is a $\\varepsilon$ involved in a given DFA state\n",
    "    For DFA states where there is no $\\varepsilon$ involved, just show the final Eclosed result.\n",
    "    Use as many bullets as necessary to clearly show your work: -->\n",
    "     0. When in state `I1_I2_B` and `'b'` is given, it goes to `B`.\n",
    "     0. When in state `I1_I2_B` and `'c'` is given, it goes to `F3`.\n",
    "     0. When in state `I1_I2_B` and `'d'` is given, it goes to `F4`.\n",
    "     0. When in state `I1_I2_B` and `'f'` is given, it goes to `F3`.\n",
    "     0. When in state `I1_I2_B` and `'s'` is given, it goes to `B`.\n",
    " \n",
    " 0. Now we have 4 states (`{I2, B, F3, F4}`) that we know must exist in the DFA, so we must find the Eclosure of all of them and figure out the next state given each symbol in $\\Sigma$.\n",
    "\n",
    "     1. Obtain the Eclosure of _`I2`_ That is the Determinanistic State of `I2`.  Which is _`I2`_.\n",
    "         1. When in state _`I2`_ and `'a'` is given, it goes to `BH` _(nowhere/Black-Hole, $\\therefore$ don't include it in markdown)_.\n",
    "         0. When in state _`I2`_ and `'b'` is given, it goes to `B`.\n",
    "         0. When in state _`I2`_ and `'c'` is given, it goes to `F3`.\n",
    "         0. When in state _`I2`_ and `'d'` is given, it goes to `BH` _(nowhere/Black-Hole, $\\therefore$ don't include it in markdown)_.\n",
    "         0. When in state _`I2`_ and `'f'` is given, it goes to `BH` _(nowhere/Black-Hole, $\\therefore$ don't include it in markdown)_.\n",
    "         0. When in state _`I2`_ and `'s'` is given, it goes to `BH` _(nowhere/Black-Hole, $\\therefore$ don't include it in markdown)_.\n",
    "\n",
    "     0. Obtain the Eclosure of `B` That is the Determinanistic State of `B`.  Which is `B`.\n",
    "         1. When in state `B` and `'a'` is given, it goes to `BH` _(nowhere/Black-Hole, $\\therefore$ don't include it in markdown)_.\n",
    "         0. When in state `B` and `'b'` is given, it goes to `BH` _(nowhere/Black-Hole, $\\therefore$ don't include it in markdown)_.\n",
    "         0. When in state `B` and `'c'` is given, it goes to `BH` _(nowhere/Black-Hole, $\\therefore$ don't include it in markdown)_.\n",
    "         0. When in state `B` and `'d'` is given, it goes to `F4`.\n",
    "         0. When in state `B` and `'f'` is given, it goes to `F3`.\n",
    "         0. When in state `B` and `'s'` is given, it goes to `B`.\n",
    "\n",
    "     0. Obtain the Eclosure of `F3` That is the Determinanistic State of `F3`.  Which is `F3`.\n",
    "         1. When in state `F3` and `'a'` is given, it goes to `BH` _(nowhere/Black-Hole, $\\therefore$ don't include it in markdown)_.\n",
    "         0. When in state `F3` and `'b'` is given, it goes to `BH` _(nowhere/Black-Hole, $\\therefore$ don't include it in markdown)_.\n",
    "         0. When in state `F3` and `'c'` is given, it goes to `BH` _(nowhere/Black-Hole, $\\therefore$ don't include it in markdown)_.\n",
    "         0. When in state `F3` and `'d'` is given, it goes to `BH` _(nowhere/Black-Hole, $\\therefore$ don't include it in markdown)_.\n",
    "         0. When in state `F3` and `'f'` is given, it goes to `BH` _(nowhere/Black-Hole, $\\therefore$ don't include it in markdown)_.\n",
    "         0. When in state `F3` and `'s'` is given, it goes to `BH` _(nowhere/Black-Hole, $\\therefore$ don't include it in markdown)_.\n",
    "\n",
    "     0. Obtain the Eclosure of `F4` That is the Determinanistic State of `F4`.  Which is `F4`.\n",
    "         1. When in state `F4` and `'a'` is given, it goes to `BH` _(nowhere/Black-Hole, $\\therefore$ don't include it in markdown)_.\n",
    "         0. When in state `F4` and `'b'` is given, it goes to `BH` _(nowhere/Black-Hole, $\\therefore$ don't include it in markdown)_.\n",
    "         0. When in state `F4` and `'c'` is given, it goes to `BH` _(nowhere/Black-Hole, $\\therefore$ don't include it in markdown)_.\n",
    "         0. When in state `F4` and `'d'` is given, it goes to `BH` _(nowhere/Black-Hole, $\\therefore$ don't include it in markdown)_.\n",
    "         0. When in state `F4` and `'f'` is given, it goes to `BH` _(nowhere/Black-Hole, $\\therefore$ don't include it in markdown)_.\n",
    "         0. When in state `F4` and `'s'` is given, it goes to `BH` _(nowhere/Black-Hole, $\\therefore$ don't include it in markdown)_.\n",
    "\n",
    " 0. Everything now points at an Eclosure of a State or a/the Black-Hole (`BH`) (Which points to itself for all inputs).\n",
    "      Therefore we have found the Deterministic version of our NFA (_aka_ we found a DFA for oru NFA).\n",
    "\n",
    "    <!--  0. Obtain the Eclosure of `BH` That is the Determinanistic State of `BH`.  Which is `BH`.\n",
    "         1. When in state `BH` and `'a'` is given, it goes to `BH` _(nowhere/Black-Hole, $\\therefore$ don't include it in markdown)_.\n",
    "         0. When in state `BH` and `'b'` is given, it goes to `BH` _(nowhere/Black-Hole, $\\therefore$ don't include it in markdown)_.\n",
    "         0. When in state `BH` and `'c'` is given, it goes to `BH` _(nowhere/Black-Hole, $\\therefore$ don't include it in markdown)_.\n",
    "         0. When in state `BH` and `'d'` is given, it goes to `BH` _(nowhere/Black-Hole, $\\therefore$ don't include it in markdown)_.\n",
    "         0. When in state `BH` and `'f'` is given, it goes to `BH` _(nowhere/Black-Hole, $\\therefore$ don't include it in markdown)_.\n",
    "         0. When in state `BH` and `'s'` is given, it goes to `BH` _(nowhere/Black-Hole, $\\therefore$ don't include it in markdown)_. -->"
   ]
  },
  {
   "cell_type": "code",
   "execution_count": 4,
   "metadata": {
    "tags": []
   },
   "outputs": [
    {
     "output_type": "stream",
     "name": "stderr",
     "text": "Generating LALR tables\n"
    }
   ],
   "source": [
    "# DFA of nfa1\n",
    "\n",
    "# dfa1 = { # - DFA Dict Representation ----\n",
    "#     \"Q\": {'I1_I2_B', 'I2', 'B', 'F3', 'F4', 'BH'},\n",
    "#     \"Sigma\": {'', 'a', 'b', 'c', 'd', 'f', 's'},\n",
    "#     \"Delta\": {\n",
    "#         ('I1_I2_B', 'a'): 'I2',\n",
    "#         ('I1_I2_B', 'b'): 'B',\n",
    "#         ('I1_I2_B', 'c'): 'F3',\n",
    "#         ('I1_I2_B', 'd'): 'F4',\n",
    "#         ('I1_I2_B', 'f'): 'F3',\n",
    "#         ('I1_I2_B', 's'): 'B',\n",
    "#         ('I2','a'): 'BH',\n",
    "#         ('I2', 'b'): 'B',\n",
    "#         ('I2', 'c'): 'F3',\n",
    "#         ('I2', 'd'): 'BH',\n",
    "#         ('I2','f'): 'BH',\n",
    "#         ('I2','s'): 'BH',\n",
    "#         ('B','a'): 'BH',\n",
    "#         ('B','b'): 'BH',\n",
    "#         ('B','c'): 'BH',\n",
    "#         ('B','d'): 'F4',\n",
    "#         ('B','f'): 'F3',\n",
    "#         ('B', 's'): 'B',\n",
    "#         ('F3','a'): 'BH',\n",
    "#         ('F3','b'): 'BH',\n",
    "#         ('F3','c'): 'BH',\n",
    "#         ('F3','d'): 'BH',\n",
    "#         ('F3','f'): 'BH',\n",
    "#         ('F3','s'): 'BH',\n",
    "#         ('F4','a'): 'BH',\n",
    "#         ('F4','b'): 'BH',\n",
    "#         ('F4','c'): 'BH',\n",
    "#         ('F4','d'): 'BH',\n",
    "#         ('F4','f'): 'BH',\n",
    "#         ('F4','s'): 'BH',\n",
    "#         ('BH','a'): 'BH',\n",
    "#         ('BH','b'): 'BH',\n",
    "#         ('BH','c'): 'BH',\n",
    "#         ('BH','d'): 'BH',\n",
    "#         ('BH','f'): 'BH',\n",
    "#         ('BH','s'): 'BH'\n",
    "#     },\n",
    "#     \"q0\": 'I1_I2_B',\n",
    "#     \"F\": {'F3', 'F4'},\n",
    "# }\n",
    "\n",
    "dfa1 = md2mc('''DFA\n",
    "\n",
    "I1_I2_B : a -> _I2\n",
    "\n",
    "!! ...show the rest of your work...\n",
    "\n",
    "I1_I2_B : b     -> B\n",
    "I1_I2_B : c|f   -> F3\n",
    "I1_I2_B : d     -> F4\n",
    "I1_I2_B : s     -> B\n",
    "\n",
    "_I2 : b -> B\n",
    "_I2 : c -> F3\n",
    "\n",
    "B   : d -> F4\n",
    "B   : f -> F3\n",
    "B   : s -> B\n",
    "''')"
   ]
  },
  {
   "cell_type": "code",
   "execution_count": 5,
   "metadata": {},
   "outputs": [
    {
     "output_type": "execute_result",
     "data": {
      "text/plain": "<graphviz.dot.Digraph at 0x1dab17103d0>",
      "image/svg+xml": "<?xml version=\"1.0\" encoding=\"UTF-8\" standalone=\"no\"?>\r\n<!DOCTYPE svg PUBLIC \"-//W3C//DTD SVG 1.1//EN\"\r\n \"http://www.w3.org/Graphics/SVG/1.1/DTD/svg11.dtd\">\r\n<!-- Generated by graphviz version 2.38.0 (20140413.2041)\r\n -->\r\n<!-- Title: %3 Pages: 1 -->\r\n<svg width=\"454pt\" height=\"222pt\"\r\n viewBox=\"0.00 0.00 453.99 221.80\" xmlns=\"http://www.w3.org/2000/svg\" xmlns:xlink=\"http://www.w3.org/1999/xlink\">\r\n<g id=\"graph0\" class=\"graph\" transform=\"scale(1 1) rotate(0) translate(4 217.798)\">\r\n<title>%3</title>\r\n<polygon fill=\"white\" stroke=\"none\" points=\"-4,4 -4,-217.798 449.985,-217.798 449.985,4 -4,4\"/>\r\n<!-- EMPTY -->\r\n<g id=\"node1\" class=\"node\"><title>EMPTY</title>\r\n</g>\r\n<!-- I1_I2_B -->\r\n<g id=\"node4\" class=\"node\"><title>I1_I2_B</title>\r\n<ellipse fill=\"none\" stroke=\"black\" cx=\"131.946\" cy=\"-77.7982\" rx=\"40.8928\" ry=\"40.8928\"/>\r\n<text text-anchor=\"middle\" x=\"131.946\" y=\"-74.0982\" font-family=\"Times New Roman,serif\" font-size=\"14.00\">I1_I2_B</text>\r\n</g>\r\n<!-- EMPTY&#45;&gt;I1_I2_B -->\r\n<g id=\"edge1\" class=\"edge\"><title>EMPTY&#45;&gt;I1_I2_B</title>\r\n<path fill=\"none\" stroke=\"black\" d=\"M54.2441,-77.7982C62.2946,-77.7982 71.4389,-77.7982 80.5389,-77.7982\"/>\r\n<polygon fill=\"black\" stroke=\"black\" points=\"80.7335,-81.2983 90.7334,-77.7982 80.7334,-74.2983 80.7335,-81.2983\"/>\r\n</g>\r\n<!-- _I2 -->\r\n<g id=\"node2\" class=\"node\"><title>_I2</title>\r\n<ellipse fill=\"none\" stroke=\"black\" cx=\"241.641\" cy=\"-159.798\" rx=\"22.9987\" ry=\"22.9987\"/>\r\n<text text-anchor=\"middle\" x=\"241.641\" y=\"-156.098\" font-family=\"Times New Roman,serif\" font-size=\"14.00\">_I2</text>\r\n</g>\r\n<!-- B -->\r\n<g id=\"node3\" class=\"node\"><title>B</title>\r\n<ellipse fill=\"none\" stroke=\"black\" cx=\"330.389\" cy=\"-79.7982\" rx=\"18\" ry=\"18\"/>\r\n<text text-anchor=\"middle\" x=\"330.389\" y=\"-76.0982\" font-family=\"Times New Roman,serif\" font-size=\"14.00\">B</text>\r\n</g>\r\n<!-- _I2&#45;&gt;B -->\r\n<g id=\"edge8\" class=\"edge\"><title>_I2&#45;&gt;B</title>\r\n<path fill=\"none\" stroke=\"black\" d=\"M259.683,-145.497C269.903,-136.794 283.07,-125.355 294.389,-114.798 299.624,-109.915 305.159,-104.503 310.244,-99.4243\"/>\r\n<polygon fill=\"black\" stroke=\"black\" points=\"312.73,-101.888 317.284,-92.3213 307.758,-96.9598 312.73,-101.888\"/>\r\n<text text-anchor=\"middle\" x=\"288.389\" y=\"-129.598\" font-family=\"Times New Roman,serif\" font-size=\"14.00\">b </text>\r\n</g>\r\n<!-- F3 -->\r\n<g id=\"node5\" class=\"node\"><title>F3</title>\r\n<ellipse fill=\"none\" stroke=\"black\" cx=\"421.187\" cy=\"-123.798\" rx=\"20.6302\" ry=\"20.6302\"/>\r\n<ellipse fill=\"none\" stroke=\"black\" cx=\"421.187\" cy=\"-123.798\" rx=\"24.5979\" ry=\"24.5979\"/>\r\n<text text-anchor=\"middle\" x=\"421.187\" y=\"-120.098\" font-family=\"Times New Roman,serif\" font-size=\"14.00\">F3</text>\r\n</g>\r\n<!-- _I2&#45;&gt;F3 -->\r\n<g id=\"edge9\" class=\"edge\"><title>_I2&#45;&gt;F3</title>\r\n<path fill=\"none\" stroke=\"black\" d=\"M264.149,-155.941C285.545,-152.054 319.291,-145.79 348.389,-139.798 360.965,-137.208 374.738,-134.185 386.828,-131.467\"/>\r\n<polygon fill=\"black\" stroke=\"black\" points=\"387.966,-134.798 396.946,-129.177 386.421,-127.971 387.966,-134.798\"/>\r\n<text text-anchor=\"middle\" x=\"330.389\" y=\"-151.598\" font-family=\"Times New Roman,serif\" font-size=\"14.00\">c </text>\r\n</g>\r\n<!-- B&#45;&gt;B -->\r\n<g id=\"edge12\" class=\"edge\"><title>B&#45;&gt;B</title>\r\n<path fill=\"none\" stroke=\"black\" d=\"M323.357,-96.4622C321.795,-106.423 324.139,-115.798 330.389,-115.798 334.393,-115.798 336.793,-111.951 337.591,-106.566\"/>\r\n<polygon fill=\"black\" stroke=\"black\" points=\"341.089,-106.401 337.42,-96.4622 334.09,-106.52 341.089,-106.401\"/>\r\n<text text-anchor=\"middle\" x=\"330.389\" y=\"-119.598\" font-family=\"Times New Roman,serif\" font-size=\"14.00\">s </text>\r\n</g>\r\n<!-- B&#45;&gt;F3 -->\r\n<g id=\"edge11\" class=\"edge\"><title>B&#45;&gt;F3</title>\r\n<path fill=\"none\" stroke=\"black\" d=\"M346.856,-87.4624C358.595,-93.2792 375.114,-101.464 389.502,-108.594\"/>\r\n<polygon fill=\"black\" stroke=\"black\" points=\"388.064,-111.787 398.578,-113.091 391.172,-105.515 388.064,-111.787\"/>\r\n<text text-anchor=\"middle\" x=\"372.389\" y=\"-107.598\" font-family=\"Times New Roman,serif\" font-size=\"14.00\">f </text>\r\n</g>\r\n<!-- F4 -->\r\n<g id=\"node6\" class=\"node\"><title>F4</title>\r\n<ellipse fill=\"none\" stroke=\"black\" cx=\"421.187\" cy=\"-24.7982\" rx=\"20.6302\" ry=\"20.6302\"/>\r\n<ellipse fill=\"none\" stroke=\"black\" cx=\"421.187\" cy=\"-24.7982\" rx=\"24.5979\" ry=\"24.5979\"/>\r\n<text text-anchor=\"middle\" x=\"421.187\" y=\"-21.0982\" font-family=\"Times New Roman,serif\" font-size=\"14.00\">F4</text>\r\n</g>\r\n<!-- B&#45;&gt;F4 -->\r\n<g id=\"edge10\" class=\"edge\"><title>B&#45;&gt;F4</title>\r\n<path fill=\"none\" stroke=\"black\" d=\"M346.052,-70.716C358.127,-63.2371 375.632,-52.3945 390.601,-43.1233\"/>\r\n<polygon fill=\"black\" stroke=\"black\" points=\"392.863,-45.8389 399.522,-37.5978 389.177,-39.888 392.863,-45.8389\"/>\r\n<text text-anchor=\"middle\" x=\"372.389\" y=\"-61.5982\" font-family=\"Times New Roman,serif\" font-size=\"14.00\">d </text>\r\n</g>\r\n<!-- I1_I2_B&#45;&gt;_I2 -->\r\n<g id=\"edge2\" class=\"edge\"><title>I1_I2_B&#45;&gt;_I2</title>\r\n<path fill=\"none\" stroke=\"black\" d=\"M164.967,-102.179C180.827,-114.255 199.728,-128.646 214.673,-140.026\"/>\r\n<polygon fill=\"black\" stroke=\"black\" points=\"212.885,-143.064 222.962,-146.337 217.126,-137.494 212.885,-143.064\"/>\r\n<text text-anchor=\"middle\" x=\"195.893\" y=\"-132.598\" font-family=\"Times New Roman,serif\" font-size=\"14.00\">a </text>\r\n</g>\r\n<!-- I1_I2_B&#45;&gt;B -->\r\n<g id=\"edge3\" class=\"edge\"><title>I1_I2_B&#45;&gt;B</title>\r\n<path fill=\"none\" stroke=\"black\" d=\"M173.173,-78.2077C211.496,-78.5979 268.17,-79.1749 301.681,-79.5161\"/>\r\n<polygon fill=\"black\" stroke=\"black\" points=\"302.063,-83.02 312.098,-79.6221 302.135,-76.0204 302.063,-83.02\"/>\r\n<text text-anchor=\"middle\" x=\"241.641\" y=\"-83.5982\" font-family=\"Times New Roman,serif\" font-size=\"14.00\">b </text>\r\n</g>\r\n<!-- I1_I2_B&#45;&gt;B -->\r\n<g id=\"edge7\" class=\"edge\"><title>I1_I2_B&#45;&gt;B</title>\r\n<path fill=\"none\" stroke=\"black\" d=\"M171.52,-66.7042C197.735,-60.591 233.185,-55.1061 264.389,-59.7982 277.663,-61.7942 291.968,-65.9622 303.769,-69.9792\"/>\r\n<polygon fill=\"black\" stroke=\"black\" points=\"302.812,-73.3536 313.406,-73.412 305.161,-66.7594 302.812,-73.3536\"/>\r\n<text text-anchor=\"middle\" x=\"241.641\" y=\"-63.5982\" font-family=\"Times New Roman,serif\" font-size=\"14.00\">s </text>\r\n</g>\r\n<!-- I1_I2_B&#45;&gt;F3 -->\r\n<g id=\"edge4\" class=\"edge\"><title>I1_I2_B&#45;&gt;F3</title>\r\n<path fill=\"none\" stroke=\"black\" d=\"M149.561,-115.024C163.748,-141.796 186.949,-175.876 218.893,-191.798 278.436,-221.477 353.994,-175.584 393.446,-145.873\"/>\r\n<polygon fill=\"black\" stroke=\"black\" points=\"395.984,-148.334 401.755,-139.449 391.703,-142.796 395.984,-148.334\"/>\r\n<text text-anchor=\"middle\" x=\"288.389\" y=\"-202.598\" font-family=\"Times New Roman,serif\" font-size=\"14.00\">c </text>\r\n</g>\r\n<!-- I1_I2_B&#45;&gt;F3 -->\r\n<g id=\"edge5\" class=\"edge\"><title>I1_I2_B&#45;&gt;F3</title>\r\n<path fill=\"none\" stroke=\"black\" d=\"M168.825,-60.0019C219.454,-37.6611 312.975,-6.81492 378.389,-46.7982 394.08,-56.3893 404.273,-74.0963 410.661,-90.1137\"/>\r\n<polygon fill=\"black\" stroke=\"black\" points=\"407.466,-91.5702 414.162,-99.7808 414.048,-89.1866 407.466,-91.5702\"/>\r\n<text text-anchor=\"middle\" x=\"288.389\" y=\"-32.5982\" font-family=\"Times New Roman,serif\" font-size=\"14.00\">f </text>\r\n</g>\r\n<!-- I1_I2_B&#45;&gt;F4 -->\r\n<g id=\"edge6\" class=\"edge\"><title>I1_I2_B&#45;&gt;F4</title>\r\n<path fill=\"none\" stroke=\"black\" d=\"M166.577,-55.0827C182.023,-45.3834 200.88,-34.5394 218.893,-26.7982 245.842,-15.2166 253.336,-12.8366 282.389,-8.79815 317.925,-3.85856 358.764,-10.0856 386.702,-16.1561\"/>\r\n<polygon fill=\"black\" stroke=\"black\" points=\"386.211,-19.6341 396.739,-18.4513 387.771,-12.8102 386.211,-19.6341\"/>\r\n<text text-anchor=\"middle\" x=\"288.389\" y=\"-12.5982\" font-family=\"Times New Roman,serif\" font-size=\"14.00\">d </text>\r\n</g>\r\n</g>\r\n</svg>\r\n"
     },
     "metadata": {},
     "execution_count": 5
    }
   ],
   "source": [
    "dotObj_dfa(dfa1)"
   ]
  },
  {
   "cell_type": "markdown",
   "metadata": {},
   "source": [
    "## 1(c). Reverse nfa1 by hand, below. In doing so, it is helpful for me to suggest state renamings for you\n",
    "\n",
    "1) Change F3 to I3\n",
    "\n",
    "2) Change F4 to I4\n",
    "\n",
    "3) Change I1 and I2 to F1 and F2\n",
    "\n",
    "4) Now, reverse the transitions of nfa1, obtaining \"rnfa1\" below\n",
    " "
   ]
  },
  {
   "cell_type": "code",
   "execution_count": 11,
   "metadata": {
    "tags": []
   },
   "outputs": [
    {
     "output_type": "stream",
     "name": "stderr",
     "text": "Generating LALR tables\n"
    }
   ],
   "source": [
    "# There is no Jove function to reverse automatically - do it by hand!\n",
    "\n",
    "rnfa1 = md2mc('''\n",
    "NFA\n",
    "\n",
    "F2  : a -> F1\n",
    "\n",
    "B   : ''-> F1\n",
    "B   : b -> F2\n",
    "B   : s -> B\n",
    "\n",
    "I3  : c -> F2\n",
    "I3  : f -> B\n",
    "\n",
    "I4  : d -> B\n",
    "\n",
    "''')"
   ]
  },
  {
   "cell_type": "code",
   "execution_count": 12,
   "metadata": {},
   "outputs": [
    {
     "output_type": "execute_result",
     "data": {
      "text/plain": "<graphviz.dot.Digraph at 0x1dab1735dc0>",
      "image/svg+xml": "<?xml version=\"1.0\" encoding=\"UTF-8\" standalone=\"no\"?>\r\n<!DOCTYPE svg PUBLIC \"-//W3C//DTD SVG 1.1//EN\"\r\n \"http://www.w3.org/Graphics/SVG/1.1/DTD/svg11.dtd\">\r\n<!-- Generated by graphviz version 2.38.0 (20140413.2041)\r\n -->\r\n<!-- Title: %3 Pages: 1 -->\r\n<svg width=\"413pt\" height=\"139pt\"\r\n viewBox=\"0.00 0.00 412.59 138.80\" xmlns=\"http://www.w3.org/2000/svg\" xmlns:xlink=\"http://www.w3.org/1999/xlink\">\r\n<g id=\"graph0\" class=\"graph\" transform=\"scale(1 1) rotate(0) translate(4 134.798)\">\r\n<title>%3</title>\r\n<polygon fill=\"white\" stroke=\"none\" points=\"-4,4 -4,-134.798 408.589,-134.798 408.589,4 -4,4\"/>\r\n<!-- EMPTY -->\r\n<g id=\"node1\" class=\"node\"><title>EMPTY</title>\r\n</g>\r\n<!-- I4 -->\r\n<g id=\"node2\" class=\"node\"><title>I4</title>\r\n<ellipse fill=\"none\" stroke=\"black\" cx=\"109.198\" cy=\"-93.7982\" rx=\"18.399\" ry=\"18.399\"/>\r\n<text text-anchor=\"middle\" x=\"109.198\" y=\"-90.0982\" font-family=\"Times New Roman,serif\" font-size=\"14.00\">I4</text>\r\n</g>\r\n<!-- EMPTY&#45;&gt;I4 -->\r\n<g id=\"edge1\" class=\"edge\"><title>EMPTY&#45;&gt;I4</title>\r\n<path fill=\"none\" stroke=\"black\" d=\"M54.26,-77.6567C63.0595,-80.29 72.8724,-83.2266 81.6907,-85.8655\"/>\r\n<polygon fill=\"black\" stroke=\"black\" points=\"80.8818,-89.2768 91.4655,-88.7907 82.8887,-82.5706 80.8818,-89.2768\"/>\r\n</g>\r\n<!-- I3 -->\r\n<g id=\"node4\" class=\"node\"><title>I3</title>\r\n<ellipse fill=\"none\" stroke=\"black\" cx=\"109.198\" cy=\"-39.7982\" rx=\"18.399\" ry=\"18.399\"/>\r\n<text text-anchor=\"middle\" x=\"109.198\" y=\"-36.0982\" font-family=\"Times New Roman,serif\" font-size=\"14.00\">I3</text>\r\n</g>\r\n<!-- EMPTY&#45;&gt;I3 -->\r\n<g id=\"edge2\" class=\"edge\"><title>EMPTY&#45;&gt;I3</title>\r\n<path fill=\"none\" stroke=\"black\" d=\"M54.26,-59.975C63.2879,-56.5979 73.3825,-52.8218 82.3754,-49.4578\"/>\r\n<polygon fill=\"black\" stroke=\"black\" points=\"83.805,-52.66 91.9449,-45.8781 81.3525,-46.1037 83.805,-52.66\"/>\r\n</g>\r\n<!-- B -->\r\n<g id=\"node3\" class=\"node\"><title>B</title>\r\n<ellipse fill=\"none\" stroke=\"black\" cx=\"193.397\" cy=\"-79.7982\" rx=\"18\" ry=\"18\"/>\r\n<text text-anchor=\"middle\" x=\"193.397\" y=\"-76.0982\" font-family=\"Times New Roman,serif\" font-size=\"14.00\">B</text>\r\n</g>\r\n<!-- I4&#45;&gt;B -->\r\n<g id=\"edge9\" class=\"edge\"><title>I4&#45;&gt;B</title>\r\n<path fill=\"none\" stroke=\"black\" d=\"M127.23,-90.8973C138.251,-89.0202 152.838,-86.5358 165.416,-84.3935\"/>\r\n<polygon fill=\"black\" stroke=\"black\" points=\"166.117,-87.8247 175.387,-82.6952 164.941,-80.924 166.117,-87.8247\"/>\r\n<text text-anchor=\"middle\" x=\"151.397\" y=\"-91.5982\" font-family=\"Times New Roman,serif\" font-size=\"14.00\">d </text>\r\n</g>\r\n<!-- B&#45;&gt;B -->\r\n<g id=\"edge6\" class=\"edge\"><title>B&#45;&gt;B</title>\r\n<path fill=\"none\" stroke=\"black\" d=\"M186.014,-96.4622C184.373,-106.423 186.834,-115.798 193.397,-115.798 197.601,-115.798 200.122,-111.951 200.959,-106.566\"/>\r\n<polygon fill=\"black\" stroke=\"black\" points=\"204.457,-106.398 200.78,-96.4622 197.458,-106.523 204.457,-106.398\"/>\r\n<text text-anchor=\"middle\" x=\"193.397\" y=\"-119.598\" font-family=\"Times New Roman,serif\" font-size=\"14.00\">s </text>\r\n</g>\r\n<!-- F2 -->\r\n<g id=\"node5\" class=\"node\"><title>F2</title>\r\n<ellipse fill=\"none\" stroke=\"black\" cx=\"284.195\" cy=\"-24.7982\" rx=\"20.6302\" ry=\"20.6302\"/>\r\n<ellipse fill=\"none\" stroke=\"black\" cx=\"284.195\" cy=\"-24.7982\" rx=\"24.5979\" ry=\"24.5979\"/>\r\n<text text-anchor=\"middle\" x=\"284.195\" y=\"-21.0982\" font-family=\"Times New Roman,serif\" font-size=\"14.00\">F2</text>\r\n</g>\r\n<!-- B&#45;&gt;F2 -->\r\n<g id=\"edge5\" class=\"edge\"><title>B&#45;&gt;F2</title>\r\n<path fill=\"none\" stroke=\"black\" d=\"M208.947,-70.0272C215.2,-65.8828 222.616,-61.0398 229.397,-56.7982 237.229,-51.8989 245.791,-46.7249 253.736,-41.9988\"/>\r\n<polygon fill=\"black\" stroke=\"black\" points=\"255.545,-44.995 262.371,-36.8917 251.982,-38.9699 255.545,-44.995\"/>\r\n<text text-anchor=\"middle\" x=\"235.397\" y=\"-60.5982\" font-family=\"Times New Roman,serif\" font-size=\"14.00\">b </text>\r\n</g>\r\n<!-- F1 -->\r\n<g id=\"node6\" class=\"node\"><title>F1</title>\r\n<ellipse fill=\"none\" stroke=\"black\" cx=\"379.791\" cy=\"-62.7982\" rx=\"20.6302\" ry=\"20.6302\"/>\r\n<ellipse fill=\"none\" stroke=\"black\" cx=\"379.791\" cy=\"-62.7982\" rx=\"24.5979\" ry=\"24.5979\"/>\r\n<text text-anchor=\"middle\" x=\"379.791\" y=\"-59.0982\" font-family=\"Times New Roman,serif\" font-size=\"14.00\">F1</text>\r\n</g>\r\n<!-- B&#45;&gt;F1 -->\r\n<g id=\"edge4\" class=\"edge\"><title>B&#45;&gt;F1</title>\r\n<path fill=\"none\" stroke=\"black\" d=\"M211.414,-78.2293C241.696,-75.4375 305.458,-69.559 344.955,-65.9176\"/>\r\n<polygon fill=\"black\" stroke=\"black\" points=\"345.285,-69.4022 354.921,-64.9988 344.642,-62.4317 345.285,-69.4022\"/>\r\n<text text-anchor=\"middle\" x=\"284.195\" y=\"-77.5982\" font-family=\"Times New Roman,serif\" font-size=\"14.00\">&#39;&#39; </text>\r\n</g>\r\n<!-- I3&#45;&gt;B -->\r\n<g id=\"edge8\" class=\"edge\"><title>I3&#45;&gt;B</title>\r\n<path fill=\"none\" stroke=\"black\" d=\"M126.047,-47.5106C137.835,-53.2468 154.147,-61.1847 167.647,-67.7543\"/>\r\n<polygon fill=\"black\" stroke=\"black\" points=\"166.352,-71.0165 176.876,-72.2451 169.415,-64.7222 166.352,-71.0165\"/>\r\n<text text-anchor=\"middle\" x=\"151.397\" y=\"-66.5982\" font-family=\"Times New Roman,serif\" font-size=\"14.00\">f </text>\r\n</g>\r\n<!-- I3&#45;&gt;F2 -->\r\n<g id=\"edge7\" class=\"edge\"><title>I3&#45;&gt;F2</title>\r\n<path fill=\"none\" stroke=\"black\" d=\"M127.418,-38.3051C155.732,-35.85 212.627,-30.9169 249.26,-27.7405\"/>\r\n<polygon fill=\"black\" stroke=\"black\" points=\"249.809,-31.2062 259.469,-26.8553 249.204,-24.2323 249.809,-31.2062\"/>\r\n<text text-anchor=\"middle\" x=\"193.397\" y=\"-38.5982\" font-family=\"Times New Roman,serif\" font-size=\"14.00\">c </text>\r\n</g>\r\n<!-- F2&#45;&gt;F1 -->\r\n<g id=\"edge3\" class=\"edge\"><title>F2&#45;&gt;F1</title>\r\n<path fill=\"none\" stroke=\"black\" d=\"M307.376,-33.8036C319.179,-38.5957 333.903,-44.5736 346.91,-49.8544\"/>\r\n<polygon fill=\"black\" stroke=\"black\" points=\"345.863,-53.2067 356.445,-53.7256 348.496,-46.7209 345.863,-53.2067\"/>\r\n<text text-anchor=\"middle\" x=\"331.993\" y=\"-49.5982\" font-family=\"Times New Roman,serif\" font-size=\"14.00\">a </text>\r\n</g>\r\n</g>\r\n</svg>\r\n"
     },
     "metadata": {},
     "execution_count": 12
    }
   ],
   "source": [
    "dotObj_nfa(rnfa1)"
   ]
  },
  {
   "cell_type": "code",
   "execution_count": 13,
   "metadata": {},
   "outputs": [
    {
     "output_type": "execute_result",
     "data": {
      "text/plain": "<graphviz.dot.Digraph at 0x1dab1735f40>",
      "image/svg+xml": "<?xml version=\"1.0\" encoding=\"UTF-8\" standalone=\"no\"?>\r\n<!DOCTYPE svg PUBLIC \"-//W3C//DTD SVG 1.1//EN\"\r\n \"http://www.w3.org/Graphics/SVG/1.1/DTD/svg11.dtd\">\r\n<!-- Generated by graphviz version 2.38.0 (20140413.2041)\r\n -->\r\n<!-- Title: %3 Pages: 1 -->\r\n<svg width=\"399pt\" height=\"140pt\"\r\n viewBox=\"0.00 0.00 399.39 139.80\" xmlns=\"http://www.w3.org/2000/svg\" xmlns:xlink=\"http://www.w3.org/1999/xlink\">\r\n<g id=\"graph0\" class=\"graph\" transform=\"scale(1 1) rotate(0) translate(4 135.798)\">\r\n<title>%3</title>\r\n<polygon fill=\"white\" stroke=\"none\" points=\"-4,4 -4,-135.798 395.39,-135.798 395.39,4 -4,4\"/>\r\n<!-- EMPTY -->\r\n<g id=\"node1\" class=\"node\"><title>EMPTY</title>\r\n</g>\r\n<!-- I1 -->\r\n<g id=\"node2\" class=\"node\"><title>I1</title>\r\n<ellipse fill=\"none\" stroke=\"black\" cx=\"109.198\" cy=\"-69.7982\" rx=\"18.399\" ry=\"18.399\"/>\r\n<text text-anchor=\"middle\" x=\"109.198\" y=\"-66.0982\" font-family=\"Times New Roman,serif\" font-size=\"14.00\">I1</text>\r\n</g>\r\n<!-- EMPTY&#45;&gt;I1 -->\r\n<g id=\"edge1\" class=\"edge\"><title>EMPTY&#45;&gt;I1</title>\r\n<path fill=\"none\" stroke=\"black\" d=\"M54.26,-50.2938C63.2879,-53.5584 73.3825,-57.2086 82.3754,-60.4605\"/>\r\n<polygon fill=\"black\" stroke=\"black\" points=\"81.3506,-63.8117 91.9449,-63.9208 83.731,-57.2288 81.3506,-63.8117\"/>\r\n</g>\r\n<!-- I2 -->\r\n<g id=\"node4\" class=\"node\"><title>I2</title>\r\n<ellipse fill=\"none\" stroke=\"black\" cx=\"191.595\" cy=\"-27.7982\" rx=\"18.399\" ry=\"18.399\"/>\r\n<text text-anchor=\"middle\" x=\"191.595\" y=\"-24.0982\" font-family=\"Times New Roman,serif\" font-size=\"14.00\">I2</text>\r\n</g>\r\n<!-- EMPTY&#45;&gt;I2 -->\r\n<g id=\"edge2\" class=\"edge\"><title>EMPTY&#45;&gt;I2</title>\r\n<path fill=\"none\" stroke=\"black\" d=\"M54.1237,-38.7095C83.8654,-36.3315 132.261,-32.4622 162.714,-30.0273\"/>\r\n<polygon fill=\"black\" stroke=\"black\" points=\"163.365,-33.4865 173.055,-29.2006 162.807,-26.5088 163.365,-33.4865\"/>\r\n</g>\r\n<!-- B -->\r\n<g id=\"node3\" class=\"node\"><title>B</title>\r\n<ellipse fill=\"none\" stroke=\"black\" cx=\"275.794\" cy=\"-80.7982\" rx=\"18\" ry=\"18\"/>\r\n<text text-anchor=\"middle\" x=\"275.794\" y=\"-77.0982\" font-family=\"Times New Roman,serif\" font-size=\"14.00\">B</text>\r\n</g>\r\n<!-- I1&#45;&gt;B -->\r\n<g id=\"edge3\" class=\"edge\"><title>I1&#45;&gt;B</title>\r\n<path fill=\"none\" stroke=\"black\" d=\"M127.502,-70.9546C156.101,-72.8659 213.451,-76.6986 247.538,-78.9766\"/>\r\n<polygon fill=\"black\" stroke=\"black\" points=\"247.511,-82.4825 257.722,-79.6572 247.978,-75.4981 247.511,-82.4825\"/>\r\n<text text-anchor=\"middle\" x=\"191.595\" y=\"-80.5982\" font-family=\"Times New Roman,serif\" font-size=\"14.00\">&#39;&#39; </text>\r\n</g>\r\n<!-- I1&#45;&gt;I2 -->\r\n<g id=\"edge4\" class=\"edge\"><title>I1&#45;&gt;I2</title>\r\n<path fill=\"none\" stroke=\"black\" d=\"M125.7,-61.7001C137.156,-55.7155 152.981,-47.4483 166.135,-40.5762\"/>\r\n<polygon fill=\"black\" stroke=\"black\" points=\"167.899,-43.6039 175.141,-35.8713 164.657,-37.3995 167.899,-43.6039\"/>\r\n<text text-anchor=\"middle\" x=\"150.397\" y=\"-55.5982\" font-family=\"Times New Roman,serif\" font-size=\"14.00\">a </text>\r\n</g>\r\n<!-- B&#45;&gt;B -->\r\n<g id=\"edge7\" class=\"edge\"><title>B&#45;&gt;B</title>\r\n<path fill=\"none\" stroke=\"black\" d=\"M268.762,-97.4622C267.2,-107.423 269.544,-116.798 275.794,-116.798 279.797,-116.798 282.198,-112.951 282.996,-107.566\"/>\r\n<polygon fill=\"black\" stroke=\"black\" points=\"286.494,-107.401 282.825,-97.4622 279.495,-107.52 286.494,-107.401\"/>\r\n<text text-anchor=\"middle\" x=\"275.794\" y=\"-120.598\" font-family=\"Times New Roman,serif\" font-size=\"14.00\">s </text>\r\n</g>\r\n<!-- F3 -->\r\n<g id=\"node5\" class=\"node\"><title>F3</title>\r\n<ellipse fill=\"none\" stroke=\"black\" cx=\"366.592\" cy=\"-24.7982\" rx=\"20.6302\" ry=\"20.6302\"/>\r\n<ellipse fill=\"none\" stroke=\"black\" cx=\"366.592\" cy=\"-24.7982\" rx=\"24.5979\" ry=\"24.5979\"/>\r\n<text text-anchor=\"middle\" x=\"366.592\" y=\"-21.0982\" font-family=\"Times New Roman,serif\" font-size=\"14.00\">F3</text>\r\n</g>\r\n<!-- B&#45;&gt;F3 -->\r\n<g id=\"edge9\" class=\"edge\"><title>B&#45;&gt;F3</title>\r\n<path fill=\"none\" stroke=\"black\" d=\"M291.457,-71.5509C303.728,-63.8122 321.608,-52.5364 336.733,-42.9974\"/>\r\n<polygon fill=\"black\" stroke=\"black\" points=\"338.666,-45.9163 345.258,-37.6215 334.932,-39.9954 338.666,-45.9163\"/>\r\n<text text-anchor=\"middle\" x=\"317.794\" y=\"-62.5982\" font-family=\"Times New Roman,serif\" font-size=\"14.00\">f </text>\r\n</g>\r\n<!-- F4 -->\r\n<g id=\"node6\" class=\"node\"><title>F4</title>\r\n<ellipse fill=\"none\" stroke=\"black\" cx=\"366.592\" cy=\"-94.7982\" rx=\"20.6302\" ry=\"20.6302\"/>\r\n<ellipse fill=\"none\" stroke=\"black\" cx=\"366.592\" cy=\"-94.7982\" rx=\"24.5979\" ry=\"24.5979\"/>\r\n<text text-anchor=\"middle\" x=\"366.592\" y=\"-91.0982\" font-family=\"Times New Roman,serif\" font-size=\"14.00\">F4</text>\r\n</g>\r\n<!-- B&#45;&gt;F4 -->\r\n<g id=\"edge8\" class=\"edge\"><title>B&#45;&gt;F4</title>\r\n<path fill=\"none\" stroke=\"black\" d=\"M293.915,-83.4975C304.652,-85.1903 318.864,-87.431 331.8,-89.4705\"/>\r\n<polygon fill=\"black\" stroke=\"black\" points=\"331.387,-92.9486 341.81,-91.0487 332.477,-86.034 331.387,-92.9486\"/>\r\n<text text-anchor=\"middle\" x=\"317.794\" y=\"-92.5982\" font-family=\"Times New Roman,serif\" font-size=\"14.00\">d </text>\r\n</g>\r\n<!-- I2&#45;&gt;B -->\r\n<g id=\"edge6\" class=\"edge\"><title>I2&#45;&gt;B</title>\r\n<path fill=\"none\" stroke=\"black\" d=\"M207.512,-37.1986C216.818,-43.0826 229.03,-50.8412 239.794,-57.7982 243.677,-60.3081 247.791,-62.9903 251.781,-65.6044\"/>\r\n<polygon fill=\"black\" stroke=\"black\" points=\"249.902,-68.5576 260.181,-71.1247 253.746,-62.7077 249.902,-68.5576\"/>\r\n<text text-anchor=\"middle\" x=\"233.794\" y=\"-61.5982\" font-family=\"Times New Roman,serif\" font-size=\"14.00\">b </text>\r\n</g>\r\n<!-- I2&#45;&gt;F3 -->\r\n<g id=\"edge5\" class=\"edge\"><title>I2&#45;&gt;F3</title>\r\n<path fill=\"none\" stroke=\"black\" d=\"M209.815,-27.4995C238.051,-27.0099 294.711,-26.0273 331.354,-25.3919\"/>\r\n<polygon fill=\"black\" stroke=\"black\" points=\"331.636,-28.8876 341.574,-25.2147 331.515,-21.8887 331.636,-28.8876\"/>\r\n<text text-anchor=\"middle\" x=\"275.794\" y=\"-30.5982\" font-family=\"Times New Roman,serif\" font-size=\"14.00\">c </text>\r\n</g>\r\n</g>\r\n</svg>\r\n"
     },
     "metadata": {},
     "execution_count": 13
    }
   ],
   "source": [
    "dotObj_nfa(nfa1)"
   ]
  },
  {
   "cell_type": "markdown",
   "metadata": {},
   "source": [
    "## 1(d). Inspect and conclude that rnfa1 is truly the reverse of nfa1\n",
    "\n",
    "\n",
    "### List the first six strings in numeric order and check that they have been correctly reversed. \n",
    "\n",
    "State the string in the original machine and explain (by specifying a path as a sequence of states) that this string is present in the reversed machine also.\n",
    "\n",
    "<!--\n",
    "| n | `nfa1` str    | `nfa1` State Seq              | `rnfa1` rev str   | `rnfa` State Seq                  |\n",
    "|:-:|:-------------:|:-----------------------------:|:-----------------:|:----------------------------------|\n",
    "| 1 | `\"abd\"`       | `I1`->`I2`->`B`->`F4`         | `\"bda\"`           | `I4`->`B`->`F2`->`F1`             |\n",
    " -->\n",
    "\n",
    "1. `nfa1`:  \"abc\"   _via_   `I1` -> `I2` -> `F3`                            &emsp;&emsp;        `rnfa1`:    \"cba\"   _via_   `I3` -> `F2` -> `F1`\n",
    "\n",
    "2. `nfa1`:  \"absd\"  _via_   `I1` -> `I2` -> `B` -> `B` -> `F4`              &emsp;&emsp;        `rnfa1`:    \"dsba\"  _via_   `I4` -> `B` -> `B` -> `F2` -> `F1`\n",
    "\n",
    "3. `nfa1`:  \"bf\"    _via_   `I2` -> `B` -> `F3`                             &emsp;&emsp;        `rnfa1`:    \"fb\"    _via_   `I3` -> `B` -> `F2`\n",
    "\n",
    "4. `nfa1`:  \"bsssf\" _via_   `I2` -> `B` -> `B` -> `B` -> `B` -> `F3`        &emsp;&emsp;        `rnfa1`:    \"fsssb\" _via_   `I3` -> `B` -> `B` -> `B` -> `B` -> `F2`\n",
    "\n",
    "5. `nfa1`:  \"ssd\"   _via_   `I1` -> `B` -> `B` -> `B` -> `F4`               &emsp;&emsp;        `rnfa1`:    \"dss\"   _via_   `I4` -> `B` -> `B` -> `B` -> `F1`\n",
    "\n",
    "6. `nfa1`:  \"ssssf\" _via_   `I1` -> `B` -> `B` -> `B` -> `B` -> `B` -> `F3` &emsp;&emsp;        `rnfa1`:    \"fssss\" _via_   `I3` -> `B` -> `B` -> `B` -> `B` -> `B` -> `F1`\n",
    "\n",
    " \n",
    " "
   ]
  },
  {
   "cell_type": "code",
   "execution_count": 16,
   "metadata": {},
   "outputs": [
    {
     "output_type": "display_data",
     "data": {
      "text/plain": "VBox(children=(HBox(children=(Text(value='', description='Input:', layout=Layout(width='500px'), placeholder='…",
      "application/vnd.jupyter.widget-view+json": {
       "version_major": 2,
       "version_minor": 0,
       "model_id": "da2e5db312a74308a9baf01e5cc1d0ea"
      }
     },
     "metadata": {}
    },
    {
     "output_type": "display_data",
     "data": {
      "text/plain": "<IPython.core.display.HTML object>",
      "text/html": "<link rel=\"stylesheet\" href=\"//stackpath.bootstrapcdn.com/font-awesome/4.7.0/css/font-awesome.min.css\"/><br/>"
     },
     "metadata": {}
    },
    {
     "output_type": "display_data",
     "data": {
      "text/plain": "VBox(children=(HBox(children=(Text(value='', description='Input:', layout=Layout(width='500px'), placeholder='…",
      "application/vnd.jupyter.widget-view+json": {
       "version_major": 2,
       "version_minor": 0,
       "model_id": "a553f64d6d444ee19a7e6b5993136303"
      }
     },
     "metadata": {}
    },
    {
     "output_type": "display_data",
     "data": {
      "text/plain": "<IPython.core.display.HTML object>",
      "text/html": "<link rel=\"stylesheet\" href=\"//stackpath.bootstrapcdn.com/font-awesome/4.7.0/css/font-awesome.min.css\"/>"
     },
     "metadata": {}
    }
   ],
   "source": [
    "AnimateNFA(nfa1, FuseEdges=False)\n",
    "display(HTML('<link rel=\"stylesheet\" href=\"//stackpath.bootstrapcdn.com/font-awesome/4.7.0/css/font-awesome.min.css\"/>'))\n",
    "AnimateNFA(rnfa1, FuseEdges=False)\n",
    "display(HTML('<link rel=\"stylesheet\" href=\"//stackpath.bootstrapcdn.com/font-awesome/4.7.0/css/font-awesome.min.css\"/>'))"
   ]
  },
  {
   "cell_type": "markdown",
   "metadata": {},
   "source": [
    "# 2. Extraction of RE by Inspection (XL) and other things before it\n"
   ]
  },
  {
   "cell_type": "markdown",
   "metadata": {},
   "source": [
    "## 2(a). You can totalize `dfa1` to obtain the totalized machine\n",
    "\n",
    "* Explain `totalize_dfa` in a few sentences below, by looking at the $\\delta(S,i)$ before and After"
   ]
  },
  {
   "cell_type": "code",
   "execution_count": 31,
   "metadata": {},
   "outputs": [],
   "source": [
    "tdfa1 = totalize_dfa(dfa1)"
   ]
  },
  {
   "cell_type": "code",
   "execution_count": 45,
   "metadata": {
    "tags": []
   },
   "outputs": [
    {
     "output_type": "execute_result",
     "data": {
      "text/plain": "{'Q': {'B', 'BH', 'F3', 'F4', 'I1_I2_B', '_I2'},\n 'Sigma': {'a', 'b', 'c', 'd', 'f', 's'},\n 'Delta': {('I1_I2_B', 'a'): '_I2',\n  ('I1_I2_B', 'b'): 'B',\n  ('I1_I2_B', 'c'): 'F3',\n  ('I1_I2_B', 'f'): 'F3',\n  ('I1_I2_B', 'd'): 'F4',\n  ('I1_I2_B', 's'): 'B',\n  ('_I2', 'b'): 'B',\n  ('_I2', 'c'): 'F3',\n  ('B', 'd'): 'F4',\n  ('B', 'f'): 'F3',\n  ('B', 's'): 'B',\n  ('_I2', 'd'): 'BH',\n  ('_I2', 's'): 'BH',\n  ('_I2', 'a'): 'BH',\n  ('_I2', 'f'): 'BH',\n  ('B', 'c'): 'BH',\n  ('B', 'a'): 'BH',\n  ('B', 'b'): 'BH',\n  ('F4', 'd'): 'BH',\n  ('F4', 'c'): 'BH',\n  ('F4', 's'): 'BH',\n  ('F4', 'a'): 'BH',\n  ('F4', 'f'): 'BH',\n  ('F4', 'b'): 'BH',\n  ('F3', 'd'): 'BH',\n  ('F3', 'c'): 'BH',\n  ('F3', 's'): 'BH',\n  ('F3', 'a'): 'BH',\n  ('F3', 'f'): 'BH',\n  ('F3', 'b'): 'BH',\n  ('BH', 'd'): 'BH',\n  ('BH', 'c'): 'BH',\n  ('BH', 's'): 'BH',\n  ('BH', 'a'): 'BH',\n  ('BH', 'f'): 'BH',\n  ('BH', 'b'): 'BH'},\n 'q0': 'I1_I2_B',\n 'F': {'F3', 'F4'}}"
     },
     "metadata": {},
     "execution_count": 45
    }
   ],
   "source": [
    "tdfa1"
   ]
  },
  {
   "cell_type": "code",
   "execution_count": 46,
   "metadata": {},
   "outputs": [
    {
     "output_type": "execute_result",
     "data": {
      "text/plain": "{'Q': {'B', 'F3', 'F4', 'I1_I2_B', '_I2'},\n 'Sigma': {'a', 'b', 'c', 'd', 'f', 's'},\n 'Delta': {('I1_I2_B', 'a'): '_I2',\n  ('I1_I2_B', 'b'): 'B',\n  ('I1_I2_B', 'c'): 'F3',\n  ('I1_I2_B', 'f'): 'F3',\n  ('I1_I2_B', 'd'): 'F4',\n  ('I1_I2_B', 's'): 'B',\n  ('_I2', 'b'): 'B',\n  ('_I2', 'c'): 'F3',\n  ('B', 'd'): 'F4',\n  ('B', 'f'): 'F3',\n  ('B', 's'): 'B'},\n 'q0': 'I1_I2_B',\n 'F': {'F3', 'F4'}}"
     },
     "metadata": {},
     "execution_count": 46
    }
   ],
   "source": [
    "dfa1"
   ]
  },
  {
   "cell_type": "markdown",
   "metadata": {},
   "source": [
    "### Your explanation of `totalize_dfa()`\n",
    "\n",
    "  - Since a DFA is deterministic it requires an outgoing path for every symbol in its $\\Sigma$ in every state it has.\n",
    "      For breavity in our markdown syntax we can ommit anything that woud just go to a _\"black hole state\"_ and `jove` is coded to account for this. \n",
    "      Plus in our dot object diagrams of the DFA's it is easier to understand if we ommit paths to any said _\"black hole state\"_, \n",
    "      and we just assume that if a path for a symbol does not have a path out of this state that we can just asshume it goes to a _\"black hole state\"_.\n",
    "\n",
    "  - A _\"black hole state\"_ is a **non**-final-state that all paths out of it can never reach a final state \n",
    "      (usualy this means they lead back to itself).\n",
    "\n",
    "  - Therefore, the `totalize_dfa()` function just takes a look at all the states in a DFA (_i.e._ $Q$)\n",
    "      and checks to see that every state $S\\in Q$ has a path/function in $\\delta(S,i)$ for every symbol $i\\in\\Sigma$.\n",
    "      If a state $S\\in Q$ does not have a path/function in $\\delta(S,i)$ for a symbol $i\\in\\Sigma$ \n",
    "      then create a $\\delta(S,i)$ that returns the _\"black hole state\"_ $S_{BH}\\in Q$.\n",
    "\n"
   ]
  },
  {
   "cell_type": "markdown",
   "metadata": {},
   "source": [
    "##  A printout may look the same ... till you print w_bh "
   ]
  },
  {
   "cell_type": "code",
   "execution_count": 47,
   "metadata": {},
   "outputs": [
    {
     "output_type": "execute_result",
     "data": {
      "text/plain": "<graphviz.dot.Digraph at 0x1dab428d3d0>",
      "image/svg+xml": "<?xml version=\"1.0\" encoding=\"UTF-8\" standalone=\"no\"?>\r\n<!DOCTYPE svg PUBLIC \"-//W3C//DTD SVG 1.1//EN\"\r\n \"http://www.w3.org/Graphics/SVG/1.1/DTD/svg11.dtd\">\r\n<!-- Generated by graphviz version 2.38.0 (20140413.2041)\r\n -->\r\n<!-- Title: %3 Pages: 1 -->\r\n<svg width=\"454pt\" height=\"222pt\"\r\n viewBox=\"0.00 0.00 453.99 221.80\" xmlns=\"http://www.w3.org/2000/svg\" xmlns:xlink=\"http://www.w3.org/1999/xlink\">\r\n<g id=\"graph0\" class=\"graph\" transform=\"scale(1 1) rotate(0) translate(4 217.798)\">\r\n<title>%3</title>\r\n<polygon fill=\"white\" stroke=\"none\" points=\"-4,4 -4,-217.798 449.985,-217.798 449.985,4 -4,4\"/>\r\n<!-- EMPTY -->\r\n<g id=\"node1\" class=\"node\"><title>EMPTY</title>\r\n</g>\r\n<!-- I1_I2_B -->\r\n<g id=\"node4\" class=\"node\"><title>I1_I2_B</title>\r\n<ellipse fill=\"none\" stroke=\"black\" cx=\"131.946\" cy=\"-77.7982\" rx=\"40.8928\" ry=\"40.8928\"/>\r\n<text text-anchor=\"middle\" x=\"131.946\" y=\"-74.0982\" font-family=\"Times New Roman,serif\" font-size=\"14.00\">I1_I2_B</text>\r\n</g>\r\n<!-- EMPTY&#45;&gt;I1_I2_B -->\r\n<g id=\"edge1\" class=\"edge\"><title>EMPTY&#45;&gt;I1_I2_B</title>\r\n<path fill=\"none\" stroke=\"black\" d=\"M54.2441,-77.7982C62.2946,-77.7982 71.4389,-77.7982 80.5389,-77.7982\"/>\r\n<polygon fill=\"black\" stroke=\"black\" points=\"80.7335,-81.2983 90.7334,-77.7982 80.7334,-74.2983 80.7335,-81.2983\"/>\r\n</g>\r\n<!-- _I2 -->\r\n<g id=\"node2\" class=\"node\"><title>_I2</title>\r\n<ellipse fill=\"none\" stroke=\"black\" cx=\"241.641\" cy=\"-159.798\" rx=\"22.9987\" ry=\"22.9987\"/>\r\n<text text-anchor=\"middle\" x=\"241.641\" y=\"-156.098\" font-family=\"Times New Roman,serif\" font-size=\"14.00\">_I2</text>\r\n</g>\r\n<!-- B -->\r\n<g id=\"node3\" class=\"node\"><title>B</title>\r\n<ellipse fill=\"none\" stroke=\"black\" cx=\"330.389\" cy=\"-79.7982\" rx=\"18\" ry=\"18\"/>\r\n<text text-anchor=\"middle\" x=\"330.389\" y=\"-76.0982\" font-family=\"Times New Roman,serif\" font-size=\"14.00\">B</text>\r\n</g>\r\n<!-- _I2&#45;&gt;B -->\r\n<g id=\"edge8\" class=\"edge\"><title>_I2&#45;&gt;B</title>\r\n<path fill=\"none\" stroke=\"black\" d=\"M259.683,-145.497C269.903,-136.794 283.07,-125.355 294.389,-114.798 299.624,-109.915 305.159,-104.503 310.244,-99.4243\"/>\r\n<polygon fill=\"black\" stroke=\"black\" points=\"312.73,-101.888 317.284,-92.3213 307.758,-96.9598 312.73,-101.888\"/>\r\n<text text-anchor=\"middle\" x=\"288.389\" y=\"-129.598\" font-family=\"Times New Roman,serif\" font-size=\"14.00\">b </text>\r\n</g>\r\n<!-- F3 -->\r\n<g id=\"node5\" class=\"node\"><title>F3</title>\r\n<ellipse fill=\"none\" stroke=\"black\" cx=\"421.187\" cy=\"-123.798\" rx=\"20.6302\" ry=\"20.6302\"/>\r\n<ellipse fill=\"none\" stroke=\"black\" cx=\"421.187\" cy=\"-123.798\" rx=\"24.5979\" ry=\"24.5979\"/>\r\n<text text-anchor=\"middle\" x=\"421.187\" y=\"-120.098\" font-family=\"Times New Roman,serif\" font-size=\"14.00\">F3</text>\r\n</g>\r\n<!-- _I2&#45;&gt;F3 -->\r\n<g id=\"edge9\" class=\"edge\"><title>_I2&#45;&gt;F3</title>\r\n<path fill=\"none\" stroke=\"black\" d=\"M264.149,-155.941C285.545,-152.054 319.291,-145.79 348.389,-139.798 360.965,-137.208 374.738,-134.185 386.828,-131.467\"/>\r\n<polygon fill=\"black\" stroke=\"black\" points=\"387.966,-134.798 396.946,-129.177 386.421,-127.971 387.966,-134.798\"/>\r\n<text text-anchor=\"middle\" x=\"330.389\" y=\"-151.598\" font-family=\"Times New Roman,serif\" font-size=\"14.00\">c </text>\r\n</g>\r\n<!-- B&#45;&gt;B -->\r\n<g id=\"edge12\" class=\"edge\"><title>B&#45;&gt;B</title>\r\n<path fill=\"none\" stroke=\"black\" d=\"M323.357,-96.4622C321.795,-106.423 324.139,-115.798 330.389,-115.798 334.393,-115.798 336.793,-111.951 337.591,-106.566\"/>\r\n<polygon fill=\"black\" stroke=\"black\" points=\"341.089,-106.401 337.42,-96.4622 334.09,-106.52 341.089,-106.401\"/>\r\n<text text-anchor=\"middle\" x=\"330.389\" y=\"-119.598\" font-family=\"Times New Roman,serif\" font-size=\"14.00\">s </text>\r\n</g>\r\n<!-- B&#45;&gt;F3 -->\r\n<g id=\"edge11\" class=\"edge\"><title>B&#45;&gt;F3</title>\r\n<path fill=\"none\" stroke=\"black\" d=\"M346.856,-87.4624C358.595,-93.2792 375.114,-101.464 389.502,-108.594\"/>\r\n<polygon fill=\"black\" stroke=\"black\" points=\"388.064,-111.787 398.578,-113.091 391.172,-105.515 388.064,-111.787\"/>\r\n<text text-anchor=\"middle\" x=\"372.389\" y=\"-107.598\" font-family=\"Times New Roman,serif\" font-size=\"14.00\">f </text>\r\n</g>\r\n<!-- F4 -->\r\n<g id=\"node6\" class=\"node\"><title>F4</title>\r\n<ellipse fill=\"none\" stroke=\"black\" cx=\"421.187\" cy=\"-24.7982\" rx=\"20.6302\" ry=\"20.6302\"/>\r\n<ellipse fill=\"none\" stroke=\"black\" cx=\"421.187\" cy=\"-24.7982\" rx=\"24.5979\" ry=\"24.5979\"/>\r\n<text text-anchor=\"middle\" x=\"421.187\" y=\"-21.0982\" font-family=\"Times New Roman,serif\" font-size=\"14.00\">F4</text>\r\n</g>\r\n<!-- B&#45;&gt;F4 -->\r\n<g id=\"edge10\" class=\"edge\"><title>B&#45;&gt;F4</title>\r\n<path fill=\"none\" stroke=\"black\" d=\"M346.052,-70.716C358.127,-63.2371 375.632,-52.3945 390.601,-43.1233\"/>\r\n<polygon fill=\"black\" stroke=\"black\" points=\"392.863,-45.8389 399.522,-37.5978 389.177,-39.888 392.863,-45.8389\"/>\r\n<text text-anchor=\"middle\" x=\"372.389\" y=\"-61.5982\" font-family=\"Times New Roman,serif\" font-size=\"14.00\">d </text>\r\n</g>\r\n<!-- I1_I2_B&#45;&gt;_I2 -->\r\n<g id=\"edge2\" class=\"edge\"><title>I1_I2_B&#45;&gt;_I2</title>\r\n<path fill=\"none\" stroke=\"black\" d=\"M164.967,-102.179C180.827,-114.255 199.728,-128.646 214.673,-140.026\"/>\r\n<polygon fill=\"black\" stroke=\"black\" points=\"212.885,-143.064 222.962,-146.337 217.126,-137.494 212.885,-143.064\"/>\r\n<text text-anchor=\"middle\" x=\"195.893\" y=\"-132.598\" font-family=\"Times New Roman,serif\" font-size=\"14.00\">a </text>\r\n</g>\r\n<!-- I1_I2_B&#45;&gt;B -->\r\n<g id=\"edge3\" class=\"edge\"><title>I1_I2_B&#45;&gt;B</title>\r\n<path fill=\"none\" stroke=\"black\" d=\"M173.173,-78.2077C211.496,-78.5979 268.17,-79.1749 301.681,-79.5161\"/>\r\n<polygon fill=\"black\" stroke=\"black\" points=\"302.063,-83.02 312.098,-79.6221 302.135,-76.0204 302.063,-83.02\"/>\r\n<text text-anchor=\"middle\" x=\"241.641\" y=\"-83.5982\" font-family=\"Times New Roman,serif\" font-size=\"14.00\">b </text>\r\n</g>\r\n<!-- I1_I2_B&#45;&gt;B -->\r\n<g id=\"edge7\" class=\"edge\"><title>I1_I2_B&#45;&gt;B</title>\r\n<path fill=\"none\" stroke=\"black\" d=\"M171.52,-66.7042C197.735,-60.591 233.185,-55.1061 264.389,-59.7982 277.663,-61.7942 291.968,-65.9622 303.769,-69.9792\"/>\r\n<polygon fill=\"black\" stroke=\"black\" points=\"302.812,-73.3536 313.406,-73.412 305.161,-66.7594 302.812,-73.3536\"/>\r\n<text text-anchor=\"middle\" x=\"241.641\" y=\"-63.5982\" font-family=\"Times New Roman,serif\" font-size=\"14.00\">s </text>\r\n</g>\r\n<!-- I1_I2_B&#45;&gt;F3 -->\r\n<g id=\"edge4\" class=\"edge\"><title>I1_I2_B&#45;&gt;F3</title>\r\n<path fill=\"none\" stroke=\"black\" d=\"M149.561,-115.024C163.748,-141.796 186.949,-175.876 218.893,-191.798 278.436,-221.477 353.994,-175.584 393.446,-145.873\"/>\r\n<polygon fill=\"black\" stroke=\"black\" points=\"395.984,-148.334 401.755,-139.449 391.703,-142.796 395.984,-148.334\"/>\r\n<text text-anchor=\"middle\" x=\"288.389\" y=\"-202.598\" font-family=\"Times New Roman,serif\" font-size=\"14.00\">c </text>\r\n</g>\r\n<!-- I1_I2_B&#45;&gt;F3 -->\r\n<g id=\"edge5\" class=\"edge\"><title>I1_I2_B&#45;&gt;F3</title>\r\n<path fill=\"none\" stroke=\"black\" d=\"M168.825,-60.0019C219.454,-37.6611 312.975,-6.81492 378.389,-46.7982 394.08,-56.3893 404.273,-74.0963 410.661,-90.1137\"/>\r\n<polygon fill=\"black\" stroke=\"black\" points=\"407.466,-91.5702 414.162,-99.7808 414.048,-89.1866 407.466,-91.5702\"/>\r\n<text text-anchor=\"middle\" x=\"288.389\" y=\"-32.5982\" font-family=\"Times New Roman,serif\" font-size=\"14.00\">f </text>\r\n</g>\r\n<!-- I1_I2_B&#45;&gt;F4 -->\r\n<g id=\"edge6\" class=\"edge\"><title>I1_I2_B&#45;&gt;F4</title>\r\n<path fill=\"none\" stroke=\"black\" d=\"M166.577,-55.0827C182.023,-45.3834 200.88,-34.5394 218.893,-26.7982 245.842,-15.2166 253.336,-12.8366 282.389,-8.79815 317.925,-3.85856 358.764,-10.0856 386.702,-16.1561\"/>\r\n<polygon fill=\"black\" stroke=\"black\" points=\"386.211,-19.6341 396.739,-18.4513 387.771,-12.8102 386.211,-19.6341\"/>\r\n<text text-anchor=\"middle\" x=\"288.389\" y=\"-12.5982\" font-family=\"Times New Roman,serif\" font-size=\"14.00\">d </text>\r\n</g>\r\n</g>\r\n</svg>\r\n"
     },
     "metadata": {},
     "execution_count": 47
    }
   ],
   "source": [
    "dotObj_dfa(tdfa1)"
   ]
  },
  {
   "cell_type": "markdown",
   "metadata": {},
   "source": [
    "##  Let us print with blackhole"
   ]
  },
  {
   "cell_type": "code",
   "execution_count": 48,
   "metadata": {},
   "outputs": [
    {
     "output_type": "execute_result",
     "data": {
      "text/plain": "<graphviz.dot.Digraph at 0x1dab428d580>",
      "image/svg+xml": "<?xml version=\"1.0\" encoding=\"UTF-8\" standalone=\"no\"?>\r\n<!DOCTYPE svg PUBLIC \"-//W3C//DTD SVG 1.1//EN\"\r\n \"http://www.w3.org/Graphics/SVG/1.1/DTD/svg11.dtd\">\r\n<!-- Generated by graphviz version 2.38.0 (20140413.2041)\r\n -->\r\n<!-- Title: %3 Pages: 1 -->\r\n<svg width=\"547pt\" height=\"613pt\"\r\n viewBox=\"0.00 0.00 547.48 613.36\" xmlns=\"http://www.w3.org/2000/svg\" xmlns:xlink=\"http://www.w3.org/1999/xlink\">\r\n<g id=\"graph0\" class=\"graph\" transform=\"scale(1 1) rotate(0) translate(4 609.36)\">\r\n<title>%3</title>\r\n<polygon fill=\"white\" stroke=\"none\" points=\"-4,4 -4,-609.36 543.481,-609.36 543.481,4 -4,4\"/>\r\n<!-- EMPTY -->\r\n<g id=\"node1\" class=\"node\"><title>EMPTY</title>\r\n</g>\r\n<!-- I1_I2_B -->\r\n<g id=\"node5\" class=\"node\"><title>I1_I2_B</title>\r\n<ellipse fill=\"none\" stroke=\"black\" cx=\"131.946\" cy=\"-288.36\" rx=\"40.8928\" ry=\"40.8928\"/>\r\n<text text-anchor=\"middle\" x=\"131.946\" y=\"-284.66\" font-family=\"Times New Roman,serif\" font-size=\"14.00\">I1_I2_B</text>\r\n</g>\r\n<!-- EMPTY&#45;&gt;I1_I2_B -->\r\n<g id=\"edge1\" class=\"edge\"><title>EMPTY&#45;&gt;I1_I2_B</title>\r\n<path fill=\"none\" stroke=\"black\" d=\"M54.2441,-288.36C62.2946,-288.36 71.4389,-288.36 80.5389,-288.36\"/>\r\n<polygon fill=\"black\" stroke=\"black\" points=\"80.7335,-291.86 90.7334,-288.36 80.7334,-284.86 80.7335,-291.86\"/>\r\n</g>\r\n<!-- BH -->\r\n<g id=\"node2\" class=\"node\"><title>BH</title>\r\n<ellipse fill=\"none\" stroke=\"black\" cx=\"516.733\" cy=\"-254.36\" rx=\"22.9987\" ry=\"22.9987\"/>\r\n<text text-anchor=\"middle\" x=\"516.733\" y=\"-250.66\" font-family=\"Times New Roman,serif\" font-size=\"14.00\">BH</text>\r\n</g>\r\n<!-- BH&#45;&gt;BH -->\r\n<g id=\"edge32\" class=\"edge\"><title>BH&#45;&gt;BH</title>\r\n<path fill=\"none\" stroke=\"black\" d=\"M515.246,-277.4C515.144,-286.984 515.639,-295.108 516.733,-295.108 517.399,-295.108 517.844,-292.091 518.066,-287.566\"/>\r\n<polygon fill=\"black\" stroke=\"black\" points=\"521.568,-287.451 518.22,-277.4 514.569,-287.346 521.568,-287.451\"/>\r\n<text text-anchor=\"middle\" x=\"516.733\" y=\"-298.908\" font-family=\"Times New Roman,serif\" font-size=\"14.00\">d </text>\r\n</g>\r\n<!-- BH&#45;&gt;BH -->\r\n<g id=\"edge33\" class=\"edge\"><title>BH&#45;&gt;BH</title>\r\n<path fill=\"none\" stroke=\"black\" d=\"M514.137,-276.969C513.133,-294.806 513.999,-313.108 516.733,-313.108 518.933,-313.108 519.923,-301.257 519.703,-287.334\"/>\r\n<polygon fill=\"black\" stroke=\"black\" points=\"523.187,-286.836 519.329,-276.969 516.192,-287.089 523.187,-286.836\"/>\r\n<text text-anchor=\"middle\" x=\"516.733\" y=\"-316.908\" font-family=\"Times New Roman,serif\" font-size=\"14.00\">c </text>\r\n</g>\r\n<!-- BH&#45;&gt;BH -->\r\n<g id=\"edge34\" class=\"edge\"><title>BH&#45;&gt;BH</title>\r\n<path fill=\"none\" stroke=\"black\" d=\"M513.358,-277.145C511.108,-302.328 512.233,-331.108 516.733,-331.108 520.635,-331.108 522,-309.465 520.826,-287.293\"/>\r\n<polygon fill=\"black\" stroke=\"black\" points=\"524.305,-286.873 520.108,-277.145 517.322,-287.367 524.305,-286.873\"/>\r\n<text text-anchor=\"middle\" x=\"516.733\" y=\"-334.908\" font-family=\"Times New Roman,serif\" font-size=\"14.00\">s </text>\r\n</g>\r\n<!-- BH&#45;&gt;BH -->\r\n<g id=\"edge35\" class=\"edge\"><title>BH&#45;&gt;BH</title>\r\n<path fill=\"none\" stroke=\"black\" d=\"M512.793,-277.196C509.076,-309.39 510.389,-349.108 516.733,-349.108 522.432,-349.108 524.071,-317.048 521.65,-287.189\"/>\r\n<polygon fill=\"black\" stroke=\"black\" points=\"525.13,-286.808 520.673,-277.196 518.163,-287.49 525.13,-286.808\"/>\r\n<text text-anchor=\"middle\" x=\"516.733\" y=\"-352.908\" font-family=\"Times New Roman,serif\" font-size=\"14.00\">a </text>\r\n</g>\r\n<!-- BH&#45;&gt;BH -->\r\n<g id=\"edge36\" class=\"edge\"><title>BH&#45;&gt;BH</title>\r\n<path fill=\"none\" stroke=\"black\" d=\"M512.425,-276.774C507.035,-315.804 508.471,-367.108 516.733,-367.108 524.285,-367.108 526.134,-324.243 522.28,-287.068\"/>\r\n<polygon fill=\"black\" stroke=\"black\" points=\"525.711,-286.284 521.041,-276.774 518.761,-287.12 525.711,-286.284\"/>\r\n<text text-anchor=\"middle\" x=\"516.733\" y=\"-370.908\" font-family=\"Times New Roman,serif\" font-size=\"14.00\">f </text>\r\n</g>\r\n<!-- BH&#45;&gt;BH -->\r\n<g id=\"edge37\" class=\"edge\"><title>BH&#45;&gt;BH</title>\r\n<path fill=\"none\" stroke=\"black\" d=\"M512.084,-276.851C505.011,-322.478 506.561,-385.108 516.733,-385.108 526.17,-385.108 528.185,-331.203 522.78,-286.979\"/>\r\n<polygon fill=\"black\" stroke=\"black\" points=\"526.217,-286.279 521.382,-276.851 519.282,-287.236 526.217,-286.279\"/>\r\n<text text-anchor=\"middle\" x=\"516.733\" y=\"-388.908\" font-family=\"Times New Roman,serif\" font-size=\"14.00\">b </text>\r\n</g>\r\n<!-- _I2 -->\r\n<g id=\"node3\" class=\"node\"><title>_I2</title>\r\n<ellipse fill=\"none\" stroke=\"black\" cx=\"241.641\" cy=\"-461.36\" rx=\"22.9987\" ry=\"22.9987\"/>\r\n<text text-anchor=\"middle\" x=\"241.641\" y=\"-457.66\" font-family=\"Times New Roman,serif\" font-size=\"14.00\">_I2</text>\r\n</g>\r\n<!-- _I2&#45;&gt;BH -->\r\n<g id=\"edge13\" class=\"edge\"><title>_I2&#45;&gt;BH</title>\r\n<path fill=\"none\" stroke=\"black\" d=\"M264.567,-461.522C316.579,-461.439 445.364,-458.342 475.985,-430.36 496.741,-411.394 507.933,-332.482 512.767,-287.024\"/>\r\n<polygon fill=\"black\" stroke=\"black\" points=\"516.251,-287.357 513.783,-277.054 509.287,-286.647 516.251,-287.357\"/>\r\n<text text-anchor=\"middle\" x=\"372.389\" y=\"-462.16\" font-family=\"Times New Roman,serif\" font-size=\"14.00\">d </text>\r\n</g>\r\n<!-- _I2&#45;&gt;BH -->\r\n<g id=\"edge14\" class=\"edge\"><title>_I2&#45;&gt;BH</title>\r\n<path fill=\"none\" stroke=\"black\" d=\"M245.712,-483.83C249.946,-505.203 259.812,-536.265 282.389,-551.36 353.916,-599.185 411.818,-608.683 475.985,-551.36 514.455,-516.994 517.175,-357.633 516.448,-287.565\"/>\r\n<polygon fill=\"black\" stroke=\"black\" points=\"519.947,-287.461 516.313,-277.509 512.947,-287.555 519.947,-287.461\"/>\r\n<text text-anchor=\"middle\" x=\"372.389\" y=\"-594.16\" font-family=\"Times New Roman,serif\" font-size=\"14.00\">s </text>\r\n</g>\r\n<!-- _I2&#45;&gt;BH -->\r\n<g id=\"edge15\" class=\"edge\"><title>_I2&#45;&gt;BH</title>\r\n<path fill=\"none\" stroke=\"black\" d=\"M252.328,-481.615C259.026,-493.148 269.124,-506.606 282.389,-513.36 359.064,-552.403 411.269,-570.064 475.985,-513.36 509.138,-484.312 514.875,-350.827 515.705,-287.666\"/>\r\n<polygon fill=\"black\" stroke=\"black\" points=\"519.207,-287.477 515.805,-277.444 512.208,-287.409 519.207,-287.477\"/>\r\n<text text-anchor=\"middle\" x=\"372.389\" y=\"-553.16\" font-family=\"Times New Roman,serif\" font-size=\"14.00\">a </text>\r\n</g>\r\n<!-- _I2&#45;&gt;BH -->\r\n<g id=\"edge16\" class=\"edge\"><title>_I2&#45;&gt;BH</title>\r\n<path fill=\"none\" stroke=\"black\" d=\"M262.935,-469.889C269.076,-472.091 275.912,-474.174 282.389,-475.36 367.842,-491.019 424.001,-517.967 475.985,-448.36 494.767,-423.211 506.978,-335.236 512.436,-286.856\"/>\r\n<polygon fill=\"black\" stroke=\"black\" points=\"515.919,-287.208 513.529,-276.887 508.96,-286.446 515.919,-287.208\"/>\r\n<text text-anchor=\"middle\" x=\"372.389\" y=\"-497.16\" font-family=\"Times New Roman,serif\" font-size=\"14.00\">f </text>\r\n</g>\r\n<!-- B -->\r\n<g id=\"node4\" class=\"node\"><title>B</title>\r\n<ellipse fill=\"none\" stroke=\"black\" cx=\"330.389\" cy=\"-223.36\" rx=\"18\" ry=\"18\"/>\r\n<text text-anchor=\"middle\" x=\"330.389\" y=\"-219.66\" font-family=\"Times New Roman,serif\" font-size=\"14.00\">B</text>\r\n</g>\r\n<!-- _I2&#45;&gt;B -->\r\n<g id=\"edge8\" class=\"edge\"><title>_I2&#45;&gt;B</title>\r\n<path fill=\"none\" stroke=\"black\" d=\"M253.522,-441.81C267.791,-416.077 291.374,-373.178 294.389,-365.36 309.196,-326.96 319.284,-280.258 324.692,-251.163\"/>\r\n<polygon fill=\"black\" stroke=\"black\" points=\"328.143,-251.751 326.473,-241.288 321.254,-250.508 328.143,-251.751\"/>\r\n<text text-anchor=\"middle\" x=\"288.389\" y=\"-393.16\" font-family=\"Times New Roman,serif\" font-size=\"14.00\">b </text>\r\n</g>\r\n<!-- F3 -->\r\n<g id=\"node6\" class=\"node\"><title>F3</title>\r\n<ellipse fill=\"none\" stroke=\"black\" cx=\"421.187\" cy=\"-339.36\" rx=\"20.6302\" ry=\"20.6302\"/>\r\n<ellipse fill=\"none\" stroke=\"black\" cx=\"421.187\" cy=\"-339.36\" rx=\"24.5979\" ry=\"24.5979\"/>\r\n<text text-anchor=\"middle\" x=\"421.187\" y=\"-335.66\" font-family=\"Times New Roman,serif\" font-size=\"14.00\">F3</text>\r\n</g>\r\n<!-- _I2&#45;&gt;F3 -->\r\n<g id=\"edge9\" class=\"edge\"><title>_I2&#45;&gt;F3</title>\r\n<path fill=\"none\" stroke=\"black\" d=\"M260.973,-448.764C292.059,-427.403 355.311,-383.94 392.043,-358.699\"/>\r\n<polygon fill=\"black\" stroke=\"black\" points=\"394.076,-361.549 400.336,-353.001 390.112,-355.78 394.076,-361.549\"/>\r\n<text text-anchor=\"middle\" x=\"330.389\" y=\"-417.16\" font-family=\"Times New Roman,serif\" font-size=\"14.00\">c </text>\r\n</g>\r\n<!-- B&#45;&gt;BH -->\r\n<g id=\"edge17\" class=\"edge\"><title>B&#45;&gt;BH</title>\r\n<path fill=\"none\" stroke=\"black\" d=\"M348.401,-226.221C379.264,-231.411 444.912,-242.451 484.182,-249.055\"/>\r\n<polygon fill=\"black\" stroke=\"black\" points=\"483.829,-252.544 494.271,-250.751 484.99,-245.641 483.829,-252.544\"/>\r\n<text text-anchor=\"middle\" x=\"421.187\" y=\"-247.16\" font-family=\"Times New Roman,serif\" font-size=\"14.00\">c </text>\r\n</g>\r\n<!-- B&#45;&gt;BH -->\r\n<g id=\"edge18\" class=\"edge\"><title>B&#45;&gt;BH</title>\r\n<path fill=\"none\" stroke=\"black\" d=\"M348.008,-219.2C370.573,-214.257 411.99,-207.701 445.985,-216.36 461.254,-220.25 476.788,-228.238 489.309,-235.891\"/>\r\n<polygon fill=\"black\" stroke=\"black\" points=\"487.534,-238.91 497.846,-241.341 491.3,-233.01 487.534,-238.91\"/>\r\n<text text-anchor=\"middle\" x=\"421.187\" y=\"-220.16\" font-family=\"Times New Roman,serif\" font-size=\"14.00\">a </text>\r\n</g>\r\n<!-- B&#45;&gt;BH -->\r\n<g id=\"edge19\" class=\"edge\"><title>B&#45;&gt;BH</title>\r\n<path fill=\"none\" stroke=\"black\" d=\"M345.788,-214.01C367.79,-200.96 410.916,-180.278 445.985,-193.36 465.262,-200.551 482.687,-215.783 495.298,-229.226\"/>\r\n<polygon fill=\"black\" stroke=\"black\" points=\"492.863,-231.752 502.145,-236.86 498.074,-227.079 492.863,-231.752\"/>\r\n<text text-anchor=\"middle\" x=\"421.187\" y=\"-197.16\" font-family=\"Times New Roman,serif\" font-size=\"14.00\">b </text>\r\n</g>\r\n<!-- B&#45;&gt;B -->\r\n<g id=\"edge12\" class=\"edge\"><title>B&#45;&gt;B</title>\r\n<path fill=\"none\" stroke=\"black\" d=\"M323.006,-240.024C321.365,-249.985 323.826,-259.36 330.389,-259.36 334.593,-259.36 337.114,-255.513 337.951,-250.129\"/>\r\n<polygon fill=\"black\" stroke=\"black\" points=\"341.449,-249.961 337.772,-240.024 334.45,-250.085 341.449,-249.961\"/>\r\n<text text-anchor=\"middle\" x=\"330.389\" y=\"-263.16\" font-family=\"Times New Roman,serif\" font-size=\"14.00\">s </text>\r\n</g>\r\n<!-- B&#45;&gt;F3 -->\r\n<g id=\"edge11\" class=\"edge\"><title>B&#45;&gt;F3</title>\r\n<path fill=\"none\" stroke=\"black\" d=\"M342.817,-237.014C352.474,-248.658 366.581,-265.916 378.389,-281.36 385.661,-290.872 393.388,-301.452 400.194,-310.943\"/>\r\n<polygon fill=\"black\" stroke=\"black\" points=\"397.491,-313.181 406.146,-319.292 403.191,-309.118 397.491,-313.181\"/>\r\n<text text-anchor=\"middle\" x=\"372.389\" y=\"-285.16\" font-family=\"Times New Roman,serif\" font-size=\"14.00\">f </text>\r\n</g>\r\n<!-- F4 -->\r\n<g id=\"node7\" class=\"node\"><title>F4</title>\r\n<ellipse fill=\"none\" stroke=\"black\" cx=\"421.187\" cy=\"-68.3604\" rx=\"20.6302\" ry=\"20.6302\"/>\r\n<ellipse fill=\"none\" stroke=\"black\" cx=\"421.187\" cy=\"-68.3604\" rx=\"24.5979\" ry=\"24.5979\"/>\r\n<text text-anchor=\"middle\" x=\"421.187\" y=\"-64.6604\" font-family=\"Times New Roman,serif\" font-size=\"14.00\">F4</text>\r\n</g>\r\n<!-- B&#45;&gt;F4 -->\r\n<g id=\"edge10\" class=\"edge\"><title>B&#45;&gt;F4</title>\r\n<path fill=\"none\" stroke=\"black\" d=\"M334.277,-205.447C338.514,-183.125 347.988,-144.494 366.389,-116.36 373.278,-105.828 383.054,-96.1639 392.387,-88.3116\"/>\r\n<polygon fill=\"black\" stroke=\"black\" points=\"394.774,-90.8842 400.391,-81.9009 390.398,-85.4206 394.774,-90.8842\"/>\r\n<text text-anchor=\"middle\" x=\"372.389\" y=\"-120.16\" font-family=\"Times New Roman,serif\" font-size=\"14.00\">d </text>\r\n</g>\r\n<!-- I1_I2_B&#45;&gt;_I2 -->\r\n<g id=\"edge2\" class=\"edge\"><title>I1_I2_B&#45;&gt;_I2</title>\r\n<path fill=\"none\" stroke=\"black\" d=\"M154.481,-322.954C174.73,-355.481 204.652,-403.548 223.377,-433.628\"/>\r\n<polygon fill=\"black\" stroke=\"black\" points=\"220.55,-435.709 228.806,-442.349 226.492,-432.01 220.55,-435.709\"/>\r\n<text text-anchor=\"middle\" x=\"195.893\" y=\"-400.16\" font-family=\"Times New Roman,serif\" font-size=\"14.00\">a </text>\r\n</g>\r\n<!-- I1_I2_B&#45;&gt;B -->\r\n<g id=\"edge3\" class=\"edge\"><title>I1_I2_B&#45;&gt;B</title>\r\n<path fill=\"none\" stroke=\"black\" d=\"M171.289,-275.673C210.145,-262.816 269.219,-243.27 303.077,-232.066\"/>\r\n<polygon fill=\"black\" stroke=\"black\" points=\"304.331,-235.338 312.725,-228.874 302.132,-228.693 304.331,-235.338\"/>\r\n<text text-anchor=\"middle\" x=\"241.641\" y=\"-263.16\" font-family=\"Times New Roman,serif\" font-size=\"14.00\">b </text>\r\n</g>\r\n<!-- I1_I2_B&#45;&gt;B -->\r\n<g id=\"edge7\" class=\"edge\"><title>I1_I2_B&#45;&gt;B</title>\r\n<path fill=\"none\" stroke=\"black\" d=\"M162.235,-260.445C177.786,-247.497 197.978,-233.432 218.893,-226.36 246.2,-217.128 279.504,-217.697 302.366,-219.744\"/>\r\n<polygon fill=\"black\" stroke=\"black\" points=\"302.066,-223.232 312.377,-220.795 302.797,-216.27 302.066,-223.232\"/>\r\n<text text-anchor=\"middle\" x=\"241.641\" y=\"-230.16\" font-family=\"Times New Roman,serif\" font-size=\"14.00\">s </text>\r\n</g>\r\n<!-- I1_I2_B&#45;&gt;F3 -->\r\n<g id=\"edge4\" class=\"edge\"><title>I1_I2_B&#45;&gt;F3</title>\r\n<path fill=\"none\" stroke=\"black\" d=\"M165.275,-312.276C173.282,-317.092 182.097,-321.537 190.893,-324.36 257.53,-345.751 340.518,-344.869 386.152,-342.194\"/>\r\n<polygon fill=\"black\" stroke=\"black\" points=\"386.628,-345.671 396.379,-341.527 386.173,-338.686 386.628,-345.671\"/>\r\n<text text-anchor=\"middle\" x=\"288.389\" y=\"-346.16\" font-family=\"Times New Roman,serif\" font-size=\"14.00\">c </text>\r\n</g>\r\n<!-- I1_I2_B&#45;&gt;F3 -->\r\n<g id=\"edge5\" class=\"edge\"><title>I1_I2_B&#45;&gt;F3</title>\r\n<path fill=\"none\" stroke=\"black\" d=\"M172.584,-295.398C229.432,-305.491 333.125,-323.902 386.485,-333.376\"/>\r\n<polygon fill=\"black\" stroke=\"black\" points=\"385.999,-336.845 396.456,-335.147 387.222,-329.953 385.999,-336.845\"/>\r\n<text text-anchor=\"middle\" x=\"288.389\" y=\"-321.16\" font-family=\"Times New Roman,serif\" font-size=\"14.00\">f </text>\r\n</g>\r\n<!-- I1_I2_B&#45;&gt;F4 -->\r\n<g id=\"edge6\" class=\"edge\"><title>I1_I2_B&#45;&gt;F4</title>\r\n<path fill=\"none\" stroke=\"black\" d=\"M160.745,-258.896C170.054,-249.48 180.669,-239.211 190.893,-230.36 264.48,-166.655 285.08,-152.863 366.389,-99.3604 373.897,-94.42 382.22,-89.4095 390.032,-84.8985\"/>\r\n<polygon fill=\"black\" stroke=\"black\" points=\"391.923,-87.85 398.888,-79.8666 388.465,-81.7638 391.923,-87.85\"/>\r\n<text text-anchor=\"middle\" x=\"288.389\" y=\"-160.16\" font-family=\"Times New Roman,serif\" font-size=\"14.00\">d </text>\r\n</g>\r\n<!-- F3&#45;&gt;BH -->\r\n<g id=\"edge26\" class=\"edge\"><title>F3&#45;&gt;BH</title>\r\n<path fill=\"none\" stroke=\"black\" d=\"M434.033,-360.734C444.718,-377.204 461.009,-395.442 475.985,-384.36 505.854,-362.259 514.018,-318.174 515.877,-287.504\"/>\r\n<polygon fill=\"black\" stroke=\"black\" points=\"519.383,-287.408 516.296,-277.273 512.389,-287.121 519.383,-287.408\"/>\r\n<text text-anchor=\"middle\" x=\"469.985\" y=\"-392.16\" font-family=\"Times New Roman,serif\" font-size=\"14.00\">d </text>\r\n</g>\r\n<!-- F3&#45;&gt;BH -->\r\n<g id=\"edge27\" class=\"edge\"><title>F3&#45;&gt;BH</title>\r\n<path fill=\"none\" stroke=\"black\" d=\"M444.4,-348.664C454.748,-351.471 466.776,-352.413 475.985,-346.36 495.886,-333.279 505.869,-307.886 510.85,-287.086\"/>\r\n<polygon fill=\"black\" stroke=\"black\" points=\"514.335,-287.526 512.971,-277.019 507.485,-286.083 514.335,-287.526\"/>\r\n<text text-anchor=\"middle\" x=\"469.985\" y=\"-355.16\" font-family=\"Times New Roman,serif\" font-size=\"14.00\">c </text>\r\n</g>\r\n<!-- F3&#45;&gt;BH -->\r\n<g id=\"edge28\" class=\"edge\"><title>F3&#45;&gt;BH</title>\r\n<path fill=\"none\" stroke=\"black\" d=\"M443.965,-329.438C454.331,-324.087 466.502,-316.838 475.985,-308.36 484.469,-300.776 492.269,-291.109 498.671,-282.057\"/>\r\n<polygon fill=\"black\" stroke=\"black\" points=\"501.652,-283.898 504.357,-273.654 495.854,-279.975 501.652,-283.898\"/>\r\n<text text-anchor=\"middle\" x=\"469.985\" y=\"-321.16\" font-family=\"Times New Roman,serif\" font-size=\"14.00\">s </text>\r\n</g>\r\n<!-- F3&#45;&gt;BH -->\r\n<g id=\"edge29\" class=\"edge\"><title>F3&#45;&gt;BH</title>\r\n<path fill=\"none\" stroke=\"black\" d=\"M436.512,-319.725C444.096,-310.016 453.909,-298.461 463.985,-289.36 471.314,-282.74 479.977,-276.401 488.098,-270.981\"/>\r\n<polygon fill=\"black\" stroke=\"black\" points=\"490.102,-273.853 496.607,-265.49 486.307,-267.971 490.102,-273.853\"/>\r\n<text text-anchor=\"middle\" x=\"469.985\" y=\"-293.16\" font-family=\"Times New Roman,serif\" font-size=\"14.00\">a </text>\r\n</g>\r\n<!-- F3&#45;&gt;BH -->\r\n<g id=\"edge30\" class=\"edge\"><title>F3&#45;&gt;BH</title>\r\n<path fill=\"none\" stroke=\"black\" d=\"M428.499,-315.616C434.553,-297.72 445.557,-274.149 463.985,-261.36 469.79,-257.332 476.857,-255.108 483.879,-253.962\"/>\r\n<polygon fill=\"black\" stroke=\"black\" points=\"484.372,-257.431 493.983,-252.972 483.689,-250.464 484.372,-257.431\"/>\r\n<text text-anchor=\"middle\" x=\"469.985\" y=\"-265.16\" font-family=\"Times New Roman,serif\" font-size=\"14.00\">f </text>\r\n</g>\r\n<!-- F3&#45;&gt;BH -->\r\n<g id=\"edge31\" class=\"edge\"><title>F3&#45;&gt;BH</title>\r\n<path fill=\"none\" stroke=\"black\" d=\"M429.631,-362.976C438.861,-388.304 455.861,-422.924 475.985,-407.36 494.857,-392.764 506.429,-327.422 511.912,-286.995\"/>\r\n<polygon fill=\"black\" stroke=\"black\" points=\"515.386,-287.423 513.206,-277.054 508.444,-286.519 515.386,-287.423\"/>\r\n<text text-anchor=\"middle\" x=\"469.985\" y=\"-415.16\" font-family=\"Times New Roman,serif\" font-size=\"14.00\">b </text>\r\n</g>\r\n<!-- F4&#45;&gt;BH -->\r\n<g id=\"edge20\" class=\"edge\"><title>F4&#45;&gt;BH</title>\r\n<path fill=\"none\" stroke=\"black\" d=\"M444.157,-78.3051C455.22,-84.3605 467.953,-93.1105 475.985,-104.36 500.95,-139.326 510.236,-188.936 513.689,-221.378\"/>\r\n<polygon fill=\"black\" stroke=\"black\" points=\"510.236,-222.044 514.651,-231.676 517.206,-221.393 510.236,-222.044\"/>\r\n<text text-anchor=\"middle\" x=\"469.985\" y=\"-108.16\" font-family=\"Times New Roman,serif\" font-size=\"14.00\">d </text>\r\n</g>\r\n<!-- F4&#45;&gt;BH -->\r\n<g id=\"edge21\" class=\"edge\"><title>F4&#45;&gt;BH</title>\r\n<path fill=\"none\" stroke=\"black\" d=\"M445.855,-65.2401C456.275,-65.1903 467.948,-67.1349 475.985,-74.3604 497.402,-93.6144 508.351,-174.765 512.965,-221.263\"/>\r\n<polygon fill=\"black\" stroke=\"black\" points=\"509.503,-221.827 513.93,-231.453 516.472,-221.167 509.503,-221.827\"/>\r\n<text text-anchor=\"middle\" x=\"469.985\" y=\"-78.1604\" font-family=\"Times New Roman,serif\" font-size=\"14.00\">c </text>\r\n</g>\r\n<!-- F4&#45;&gt;BH -->\r\n<g id=\"edge22\" class=\"edge\"><title>F4&#45;&gt;BH</title>\r\n<path fill=\"none\" stroke=\"black\" d=\"M440.98,-53.2891C452.122,-46.273 465.974,-41.1043 475.985,-49.3604 501.954,-70.7782 511.163,-168.999 514.262,-221.324\"/>\r\n<polygon fill=\"black\" stroke=\"black\" points=\"510.775,-221.652 514.819,-231.445 517.764,-221.267 510.775,-221.652\"/>\r\n<text text-anchor=\"middle\" x=\"469.985\" y=\"-53.1604\" font-family=\"Times New Roman,serif\" font-size=\"14.00\">s </text>\r\n</g>\r\n<!-- F4&#45;&gt;BH -->\r\n<g id=\"edge23\" class=\"edge\"><title>F4&#45;&gt;BH</title>\r\n<path fill=\"none\" stroke=\"black\" d=\"M434.784,-47.4588C445.818,-31.7498 462.199,-14.7699 475.985,-26.3604 505.095,-50.8342 512.888,-163.782 514.972,-220.977\"/>\r\n<polygon fill=\"black\" stroke=\"black\" points=\"511.485,-221.421 515.309,-231.302 518.481,-221.193 511.485,-221.421\"/>\r\n<text text-anchor=\"middle\" x=\"469.985\" y=\"-30.1604\" font-family=\"Times New Roman,serif\" font-size=\"14.00\">a </text>\r\n</g>\r\n<!-- F4&#45;&gt;BH -->\r\n<g id=\"edge24\" class=\"edge\"><title>F4&#45;&gt;BH</title>\r\n<path fill=\"none\" stroke=\"black\" d=\"M430.312,-45.2599C440.065,-21.0386 457.437,11.4713 475.985,-4.36036 508.228,-31.8819 514.448,-159.895 515.555,-221.314\"/>\r\n<polygon fill=\"black\" stroke=\"black\" points=\"512.06,-221.672 515.704,-231.621 519.059,-221.571 512.06,-221.672\"/>\r\n<text text-anchor=\"middle\" x=\"469.985\" y=\"-8.16036\" font-family=\"Times New Roman,serif\" font-size=\"14.00\">f </text>\r\n</g>\r\n<!-- F4&#45;&gt;BH -->\r\n<g id=\"edge25\" class=\"edge\"><title>F4&#45;&gt;BH</title>\r\n<path fill=\"none\" stroke=\"black\" d=\"M437.948,-86.8389C449.636,-101.239 465.325,-122.124 475.985,-142.36 489.638,-168.28 500.374,-199.902 507.228,-222.927\"/>\r\n<polygon fill=\"black\" stroke=\"black\" points=\"503.868,-223.907 510.013,-232.537 510.591,-221.958 503.868,-223.907\"/>\r\n<text text-anchor=\"middle\" x=\"469.985\" y=\"-146.16\" font-family=\"Times New Roman,serif\" font-size=\"14.00\">b </text>\r\n</g>\r\n</g>\r\n</svg>\r\n"
     },
     "metadata": {},
     "execution_count": 48
    }
   ],
   "source": [
    "dotObj_dfa_w_bh(tdfa1)"
   ]
  },
  {
   "cell_type": "markdown",
   "metadata": {},
   "source": [
    "### Was it a good idea to not always show black-holes?\n",
    "Yeah for the most part it makes teh DFAs far easier to read.\n",
    "\n",
    "### In what circumstances might you still need to apply the `*_w_bh` view option?\n",
    "  - When you are minimizing a DFA that for some reason has more then one _\"black hole state\"_ that could be simplified down to 1 _\"black hole state\"_\n",
    "  - When you need to teach/explain how a DFA works, or how it is different to an NFA.\n"
   ]
  },
  {
   "cell_type": "markdown",
   "metadata": {},
   "source": [
    "## 2(b) Obtain an RE by looking at nfa1\n",
    "\n",
    "* Follow all paths\n",
    "\n",
    "* Summarize the paths in your head, using the Star operator suitably\n",
    "\n",
    "\n"
   ]
  },
  {
   "cell_type": "code",
   "execution_count": 50,
   "metadata": {},
   "outputs": [],
   "source": [
    "RE1_hand = \"((ab+b+'')s*(d+f))+(ac+c)\""
   ]
  },
  {
   "cell_type": "markdown",
   "metadata": {},
   "source": [
    "## 2(c) Reverse RE1 by hand to obtain Rev_RE1\n",
    "\n",
    "Once you have an RE, you can \"visually reverse it\" for simple REs"
   ]
  },
  {
   "cell_type": "code",
   "execution_count": 52,
   "metadata": {},
   "outputs": [],
   "source": [
    "Rev_RE1_hand = \"((d+f)s*(ba+b+''))+(ca+c)\""
   ]
  },
  {
   "cell_type": "markdown",
   "metadata": {},
   "source": [
    "## 2(d) Understand del_gnfa_states via help"
   ]
  },
  {
   "cell_type": "code",
   "execution_count": 53,
   "metadata": {
    "tags": []
   },
   "outputs": [
    {
     "output_type": "stream",
     "name": "stdout",
     "text": "Help on function del_gnfa_states in module jove.Def_NFA2RE:\n\ndel_gnfa_states(Gin, DelList=[])\n    Given a GNFA Gin with no unreachable states, \n    delete all states but f\n    or Real_I and Real_F.\n    If DelList is given, follow the state deletion\n    order mentioned therein; else choose order internally.\n    \n    Return a triple (Gfinal, dotObj_List, final_re_str), where\n      Gfinal       : the final GNFA\n      dotObj_List  : a list of Dot objects recording the process of\n                     deleting states and forming intermediate REs\n      final_re_str : the final RE as a string (ready to be fed to  \n                     re2nfa for converting back to an NFA)\n\n"
    }
   ],
   "source": [
    "# help of del_gnfa_states run below\n",
    "help(del_gnfa_states)"
   ]
  },
  {
   "cell_type": "markdown",
   "metadata": {},
   "source": [
    "### Document what you learned from the function help of del_gnfa_states and summarize below\n",
    "\n",
    "  - Take a (G)NFA and slowly break it down so that it is just an initial state and a final state with with some paths w/ RE that when unioned together fully describe the (G)NFA.\n",
    "\n",
    "  - It also returns a list of `dotObj`s (pics of the nfa machien) that show the (G)NFA at every stage of the trim down process.\n",
    "\n",
    "  - The last thing in the tupple it returns is the string representation of the RE that describes the (G)NFA (also the RE for the only path in the trimed down (G)NFA)."
   ]
  },
  {
   "cell_type": "markdown",
   "metadata": {},
   "source": [
    "# 3. Converting to GNFA and Attempting Two Elimination Orders (AR)\n",
    "\n",
    "Work on `rnfa1` to obtain `Rev_RE1` and `Rev_RE2` "
   ]
  },
  {
   "cell_type": "markdown",
   "metadata": {},
   "source": [
    "## Obtain grnfa1 below via a suitable command"
   ]
  },
  {
   "cell_type": "code",
   "execution_count": 54,
   "metadata": {},
   "outputs": [],
   "source": [
    "grnfa1 = mk_gnfa(rnfa1)"
   ]
  },
  {
   "cell_type": "code",
   "execution_count": 55,
   "metadata": {},
   "outputs": [
    {
     "output_type": "execute_result",
     "data": {
      "text/plain": "<graphviz.dot.Digraph at 0x1dab4f705b0>",
      "image/svg+xml": "<?xml version=\"1.0\" encoding=\"UTF-8\" standalone=\"no\"?>\r\n<!DOCTYPE svg PUBLIC \"-//W3C//DTD SVG 1.1//EN\"\r\n \"http://www.w3.org/Graphics/SVG/1.1/DTD/svg11.dtd\">\r\n<!-- Generated by graphviz version 2.38.0 (20140413.2041)\r\n -->\r\n<!-- Title: %3 Pages: 1 -->\r\n<svg width=\"640pt\" height=\"108pt\"\r\n viewBox=\"0.00 0.00 639.58 108.25\" xmlns=\"http://www.w3.org/2000/svg\" xmlns:xlink=\"http://www.w3.org/1999/xlink\">\r\n<g id=\"graph0\" class=\"graph\" transform=\"scale(1 1) rotate(0) translate(4 104.245)\">\r\n<title>%3</title>\r\n<polygon fill=\"white\" stroke=\"none\" points=\"-4,4 -4,-104.245 635.577,-104.245 635.577,4 -4,4\"/>\r\n<!-- EMPTY -->\r\n<g id=\"node1\" class=\"node\"><title>EMPTY</title>\r\n</g>\r\n<!-- Real_I -->\r\n<g id=\"node2\" class=\"node\"><title>Real_I</title>\r\n<ellipse fill=\"none\" stroke=\"black\" cx=\"125.447\" cy=\"-47.1984\" rx=\"34.394\" ry=\"34.394\"/>\r\n<text text-anchor=\"middle\" x=\"125.447\" y=\"-43.4984\" font-family=\"Times New Roman,serif\" font-size=\"14.00\">Real_I</text>\r\n</g>\r\n<!-- EMPTY&#45;&gt;Real_I -->\r\n<g id=\"edge1\" class=\"edge\"><title>EMPTY&#45;&gt;Real_I</title>\r\n<path fill=\"none\" stroke=\"black\" d=\"M54.0999,-47.1984C62.2876,-47.1984 71.5616,-47.1984 80.6264,-47.1984\"/>\r\n<polygon fill=\"black\" stroke=\"black\" points=\"80.7029,-50.6985 90.7028,-47.1984 80.7028,-43.6985 80.7029,-50.6985\"/>\r\n</g>\r\n<!-- I3 -->\r\n<g id=\"node3\" class=\"node\"><title>I3</title>\r\n<ellipse fill=\"none\" stroke=\"black\" cx=\"224.092\" cy=\"-72.1984\" rx=\"18.399\" ry=\"18.399\"/>\r\n<text text-anchor=\"middle\" x=\"224.092\" y=\"-68.4984\" font-family=\"Times New Roman,serif\" font-size=\"14.00\">I3</text>\r\n</g>\r\n<!-- Real_I&#45;&gt;I3 -->\r\n<g id=\"edge10\" class=\"edge\"><title>Real_I&#45;&gt;I3</title>\r\n<path fill=\"none\" stroke=\"black\" d=\"M158.897,-55.5926C171.073,-58.7421 184.761,-62.2828 196.359,-65.2832\"/>\r\n<polygon fill=\"black\" stroke=\"black\" points=\"195.763,-68.7441 206.321,-67.86 197.516,-61.9671 195.763,-68.7441\"/>\r\n<text text-anchor=\"middle\" x=\"182.894\" y=\"-66.9984\" font-family=\"Times New Roman,serif\" font-size=\"14.00\">&#39;&#39; </text>\r\n</g>\r\n<!-- I4 -->\r\n<g id=\"node6\" class=\"node\"><title>I4</title>\r\n<ellipse fill=\"none\" stroke=\"black\" cx=\"224.092\" cy=\"-18.1984\" rx=\"18.399\" ry=\"18.399\"/>\r\n<text text-anchor=\"middle\" x=\"224.092\" y=\"-14.4984\" font-family=\"Times New Roman,serif\" font-size=\"14.00\">I4</text>\r\n</g>\r\n<!-- Real_I&#45;&gt;I4 -->\r\n<g id=\"edge9\" class=\"edge\"><title>Real_I&#45;&gt;I4</title>\r\n<path fill=\"none\" stroke=\"black\" d=\"M158.628,-37.5418C171.03,-33.8206 185.033,-29.6186 196.813,-26.084\"/>\r\n<polygon fill=\"black\" stroke=\"black\" points=\"197.923,-29.405 206.496,-23.1785 195.911,-22.7003 197.923,-29.405\"/>\r\n<text text-anchor=\"middle\" x=\"182.894\" y=\"-34.9984\" font-family=\"Times New Roman,serif\" font-size=\"14.00\">&#39;&#39; </text>\r\n</g>\r\n<!-- F2 -->\r\n<g id=\"node4\" class=\"node\"><title>F2</title>\r\n<ellipse fill=\"none\" stroke=\"black\" cx=\"395.089\" cy=\"-76.1984\" rx=\"20.5982\" ry=\"20.5982\"/>\r\n<text text-anchor=\"middle\" x=\"395.089\" y=\"-72.4984\" font-family=\"Times New Roman,serif\" font-size=\"14.00\">F2</text>\r\n</g>\r\n<!-- I3&#45;&gt;F2 -->\r\n<g id=\"edge6\" class=\"edge\"><title>I3&#45;&gt;F2</title>\r\n<path fill=\"none\" stroke=\"black\" d=\"M242.222,-74.2077C255.354,-75.643 273.939,-77.4476 290.291,-78.1984 315.129,-79.3389 343.34,-78.6694 364.075,-77.8095\"/>\r\n<polygon fill=\"black\" stroke=\"black\" points=\"364.349,-81.3008 374.18,-77.351 364.031,-74.308 364.349,-81.3008\"/>\r\n<text text-anchor=\"middle\" x=\"308.291\" y=\"-82.9984\" font-family=\"Times New Roman,serif\" font-size=\"14.00\">c </text>\r\n</g>\r\n<!-- B -->\r\n<g id=\"node7\" class=\"node\"><title>B</title>\r\n<ellipse fill=\"none\" stroke=\"black\" cx=\"308.291\" cy=\"-18.1984\" rx=\"18\" ry=\"18\"/>\r\n<text text-anchor=\"middle\" x=\"308.291\" y=\"-14.4984\" font-family=\"Times New Roman,serif\" font-size=\"14.00\">B</text>\r\n</g>\r\n<!-- I3&#45;&gt;B -->\r\n<g id=\"edge7\" class=\"edge\"><title>I3&#45;&gt;B</title>\r\n<path fill=\"none\" stroke=\"black\" d=\"M239.788,-62.5443C252.061,-54.4814 269.782,-42.8396 283.988,-33.5073\"/>\r\n<polygon fill=\"black\" stroke=\"black\" points=\"286.286,-36.1848 292.722,-27.7689 282.443,-30.3344 286.286,-36.1848\"/>\r\n<text text-anchor=\"middle\" x=\"266.291\" y=\"-52.9984\" font-family=\"Times New Roman,serif\" font-size=\"14.00\">f </text>\r\n</g>\r\n<!-- F1 -->\r\n<g id=\"node5\" class=\"node\"><title>F1</title>\r\n<ellipse fill=\"none\" stroke=\"black\" cx=\"482.685\" cy=\"-24.1984\" rx=\"20.5982\" ry=\"20.5982\"/>\r\n<text text-anchor=\"middle\" x=\"482.685\" y=\"-20.4984\" font-family=\"Times New Roman,serif\" font-size=\"14.00\">F1</text>\r\n</g>\r\n<!-- F2&#45;&gt;F1 -->\r\n<g id=\"edge2\" class=\"edge\"><title>F2&#45;&gt;F1</title>\r\n<path fill=\"none\" stroke=\"black\" d=\"M412.942,-65.316C419.454,-61.1592 426.986,-56.4088 433.887,-52.1984 440.773,-47.9972 448.278,-43.5432 455.257,-39.4531\"/>\r\n<polygon fill=\"black\" stroke=\"black\" points=\"457.462,-42.2186 464.34,-34.1591 453.938,-36.1708 457.462,-42.2186\"/>\r\n<text text-anchor=\"middle\" x=\"438.887\" y=\"-55.9984\" font-family=\"Times New Roman,serif\" font-size=\"14.00\">a </text>\r\n</g>\r\n<!-- Real_F -->\r\n<g id=\"node8\" class=\"node\"><title>Real_F</title>\r\n<ellipse fill=\"none\" stroke=\"black\" cx=\"590.53\" cy=\"-59.1984\" rx=\"37.0889\" ry=\"37.0889\"/>\r\n<ellipse fill=\"none\" stroke=\"black\" cx=\"590.53\" cy=\"-59.1984\" rx=\"41.0935\" ry=\"41.0935\"/>\r\n<text text-anchor=\"middle\" x=\"590.53\" y=\"-55.4984\" font-family=\"Times New Roman,serif\" font-size=\"14.00\">Real_F</text>\r\n</g>\r\n<!-- F2&#45;&gt;Real_F -->\r\n<g id=\"edge11\" class=\"edge\"><title>F2&#45;&gt;Real_F</title>\r\n<path fill=\"none\" stroke=\"black\" d=\"M416.062,-74.4431C444.922,-71.9068 499.227,-67.1344 539.419,-63.6023\"/>\r\n<polygon fill=\"black\" stroke=\"black\" points=\"539.913,-67.0724 549.568,-62.7103 539.3,-60.0993 539.913,-67.0724\"/>\r\n<text text-anchor=\"middle\" x=\"482.685\" y=\"-74.9984\" font-family=\"Times New Roman,serif\" font-size=\"14.00\">&#39;&#39; </text>\r\n</g>\r\n<!-- F1&#45;&gt;Real_F -->\r\n<g id=\"edge12\" class=\"edge\"><title>F1&#45;&gt;Real_F</title>\r\n<path fill=\"none\" stroke=\"black\" d=\"M502.608,-30.4557C513.422,-34.0315 527.52,-38.6934 541.205,-43.2186\"/>\r\n<polygon fill=\"black\" stroke=\"black\" points=\"540.451,-46.6555 551.044,-46.4721 542.648,-40.0095 540.451,-46.6555\"/>\r\n<text text-anchor=\"middle\" x=\"526.483\" y=\"-43.9984\" font-family=\"Times New Roman,serif\" font-size=\"14.00\">&#39;&#39; </text>\r\n</g>\r\n<!-- I4&#45;&gt;B -->\r\n<g id=\"edge8\" class=\"edge\"><title>I4&#45;&gt;B</title>\r\n<path fill=\"none\" stroke=\"black\" d=\"M242.524,-18.1984C253.386,-18.1984 267.594,-18.1984 279.933,-18.1984\"/>\r\n<polygon fill=\"black\" stroke=\"black\" points=\"280.166,-21.6985 290.165,-18.1984 280.165,-14.6985 280.166,-21.6985\"/>\r\n<text text-anchor=\"middle\" x=\"266.291\" y=\"-21.9984\" font-family=\"Times New Roman,serif\" font-size=\"14.00\">d </text>\r\n</g>\r\n<!-- B&#45;&gt;F2 -->\r\n<g id=\"edge4\" class=\"edge\"><title>B&#45;&gt;F2</title>\r\n<path fill=\"none\" stroke=\"black\" d=\"M323.676,-28.0373C336.158,-36.5747 354.503,-49.1224 369.339,-59.2698\"/>\r\n<polygon fill=\"black\" stroke=\"black\" points=\"367.367,-62.162 377.597,-64.9187 371.319,-56.3842 367.367,-62.162\"/>\r\n<text text-anchor=\"middle\" x=\"350.291\" y=\"-52.9984\" font-family=\"Times New Roman,serif\" font-size=\"14.00\">b </text>\r\n</g>\r\n<!-- B&#45;&gt;F1 -->\r\n<g id=\"edge3\" class=\"edge\"><title>B&#45;&gt;F1</title>\r\n<path fill=\"none\" stroke=\"black\" d=\"M326.451,-18.7956C355.674,-19.8127 415.449,-21.8931 451.7,-23.1548\"/>\r\n<polygon fill=\"black\" stroke=\"black\" points=\"451.58,-26.6526 461.696,-23.5027 451.824,-19.6569 451.58,-26.6526\"/>\r\n<text text-anchor=\"middle\" x=\"395.089\" y=\"-25.9984\" font-family=\"Times New Roman,serif\" font-size=\"14.00\">&#39;&#39; </text>\r\n</g>\r\n<!-- B&#45;&gt;B -->\r\n<g id=\"edge5\" class=\"edge\"><title>B&#45;&gt;B</title>\r\n<path fill=\"none\" stroke=\"black\" d=\"M300.908,-34.8624C299.267,-44.8234 301.728,-54.1984 308.291,-54.1984 312.495,-54.1984 315.016,-50.3509 315.853,-44.9666\"/>\r\n<polygon fill=\"black\" stroke=\"black\" points=\"319.351,-44.7986 315.673,-34.8624 312.352,-44.9231 319.351,-44.7986\"/>\r\n<text text-anchor=\"middle\" x=\"308.291\" y=\"-57.9984\" font-family=\"Times New Roman,serif\" font-size=\"14.00\">s </text>\r\n</g>\r\n</g>\r\n</svg>\r\n"
     },
     "metadata": {},
     "execution_count": 55
    }
   ],
   "source": [
    "dotObj_gnfa(grnfa1)"
   ]
  },
  {
   "cell_type": "markdown",
   "metadata": {},
   "source": [
    "## 3(b,c) i : Apply the elimination order by supplying the second argument \n",
    "`['B', 'F2', 'F1', 'I3', 'I4']`\n",
    "\n",
    "as you learned in the help"
   ]
  },
  {
   "cell_type": "code",
   "execution_count": 74,
   "metadata": {
    "tags": []
   },
   "outputs": [
    {
     "output_type": "stream",
     "name": "stdout",
     "text": "**** Eliminating state B ****\n**** Eliminating state F2 ****\n**** Eliminating state F1 ****\n**** Eliminating state I3 ****\n**** Eliminating state I4 ****\n"
    }
   ],
   "source": [
    "(Gfinal, DO, Rev_RE1) = del_gnfa_states(grnfa1, ['B', 'F2', 'F1', 'I3', 'I4'])"
   ]
  },
  {
   "cell_type": "code",
   "execution_count": 57,
   "metadata": {},
   "outputs": [
    {
     "output_type": "execute_result",
     "data": {
      "text/plain": "'((((((((d ((s)* b)) a) + (d (s)*)) + (d (s)*)) + (d ((s)* b))) + (d ((s)* b))) + ((((((((f ((s)* b)) + c) + c) a) + (f (s)*)) + (f (s)*)) + (((f ((s)* b)) + c) + c)) + (((f ((s)* b)) + c) + c))) + ((((((((f ((s)* b)) + c) + c) a) + (f (s)*)) + (f (s)*)) + (((f ((s)* b)) + c) + c)) + (((f ((s)* b)) + c) + c)))'"
     },
     "metadata": {},
     "execution_count": 57
    }
   ],
   "source": [
    "Rev_RE1"
   ]
  },
  {
   "cell_type": "code",
   "execution_count": 58,
   "metadata": {},
   "outputs": [
    {
     "output_type": "execute_result",
     "data": {
      "text/plain": "<graphviz.dot.Digraph at 0x1dab3cf7e50>",
      "image/svg+xml": "<?xml version=\"1.0\" encoding=\"UTF-8\" standalone=\"no\"?>\r\n<!DOCTYPE svg PUBLIC \"-//W3C//DTD SVG 1.1//EN\"\r\n \"http://www.w3.org/Graphics/SVG/1.1/DTD/svg11.dtd\">\r\n<!-- Generated by graphviz version 2.38.0 (20140413.2041)\r\n -->\r\n<!-- Title: %3 Pages: 1 -->\r\n<svg width=\"456pt\" height=\"136pt\"\r\n viewBox=\"0.00 0.00 456.08 136.05\" xmlns=\"http://www.w3.org/2000/svg\" xmlns:xlink=\"http://www.w3.org/1999/xlink\">\r\n<g id=\"graph0\" class=\"graph\" transform=\"scale(1 1) rotate(0) translate(4 132.046)\">\r\n<title>%3</title>\r\n<polygon fill=\"white\" stroke=\"none\" points=\"-4,4 -4,-132.046 452.083,-132.046 452.083,4 -4,4\"/>\r\n<!-- EMPTY -->\r\n<g id=\"node1\" class=\"node\"><title>EMPTY</title>\r\n</g>\r\n<!-- St1 -->\r\n<g id=\"node2\" class=\"node\"><title>St1</title>\r\n<ellipse fill=\"none\" stroke=\"black\" cx=\"113.748\" cy=\"-41.2976\" rx=\"22.9987\" ry=\"22.9987\"/>\r\n<text text-anchor=\"middle\" x=\"113.748\" y=\"-37.5976\" font-family=\"Times New Roman,serif\" font-size=\"14.00\">St1</text>\r\n</g>\r\n<!-- EMPTY&#45;&gt;St1 -->\r\n<g id=\"edge1\" class=\"edge\"><title>EMPTY&#45;&gt;St1</title>\r\n<path fill=\"none\" stroke=\"black\" d=\"M54.3502,-41.2976C62.71,-41.2976 72.0455,-41.2976 80.757,-41.2976\"/>\r\n<polygon fill=\"black\" stroke=\"black\" points=\"80.9663,-44.7977 90.9663,-41.2976 80.9662,-37.7977 80.9663,-44.7977\"/>\r\n</g>\r\n<!-- St3 -->\r\n<g id=\"node3\" class=\"node\"><title>St3</title>\r\n<ellipse fill=\"none\" stroke=\"black\" cx=\"211.244\" cy=\"-68.2976\" rx=\"22.9609\" ry=\"22.9609\"/>\r\n<ellipse fill=\"none\" stroke=\"black\" cx=\"211.244\" cy=\"-68.2976\" rx=\"26.9983\" ry=\"26.9983\"/>\r\n<text text-anchor=\"middle\" x=\"211.244\" y=\"-64.5976\" font-family=\"Times New Roman,serif\" font-size=\"14.00\">St3</text>\r\n</g>\r\n<!-- St1&#45;&gt;St3 -->\r\n<g id=\"edge2\" class=\"edge\"><title>St1&#45;&gt;St3</title>\r\n<path fill=\"none\" stroke=\"black\" d=\"M134.708,-50.1842C140.957,-52.7343 147.936,-55.3488 154.496,-57.2976 160.888,-59.1964 167.791,-60.8594 174.49,-62.2786\"/>\r\n<polygon fill=\"black\" stroke=\"black\" points=\"174.256,-65.8001 184.745,-64.3073 175.614,-58.9332 174.256,-65.8001\"/>\r\n<text text-anchor=\"middle\" x=\"160.496\" y=\"-65.0976\" font-family=\"Times New Roman,serif\" font-size=\"14.00\">d </text>\r\n</g>\r\n<!-- St1&#45;&gt;St3 -->\r\n<g id=\"edge4\" class=\"edge\"><title>St1&#45;&gt;St3</title>\r\n<path fill=\"none\" stroke=\"black\" d=\"M136.057,-36.7171C145.562,-35.5188 156.783,-35.2871 166.496,-38.2976 171.884,-39.9675 177.198,-42.5556 182.165,-45.5271\"/>\r\n<polygon fill=\"black\" stroke=\"black\" points=\"180.405,-48.5596 190.672,-51.174 184.276,-42.7275 180.405,-48.5596\"/>\r\n<text text-anchor=\"middle\" x=\"160.496\" y=\"-42.0976\" font-family=\"Times New Roman,serif\" font-size=\"14.00\">f </text>\r\n</g>\r\n<!-- St4 -->\r\n<g id=\"node5\" class=\"node\"><title>St4</title>\r\n<ellipse fill=\"none\" stroke=\"black\" cx=\"312.74\" cy=\"-31.2976\" rx=\"22.9609\" ry=\"22.9609\"/>\r\n<ellipse fill=\"none\" stroke=\"black\" cx=\"312.74\" cy=\"-31.2976\" rx=\"26.9983\" ry=\"26.9983\"/>\r\n<text text-anchor=\"middle\" x=\"312.74\" y=\"-27.5976\" font-family=\"Times New Roman,serif\" font-size=\"14.00\">St4</text>\r\n</g>\r\n<!-- St1&#45;&gt;St4 -->\r\n<g id=\"edge3\" class=\"edge\"><title>St1&#45;&gt;St4</title>\r\n<path fill=\"none\" stroke=\"black\" d=\"M134.733,-32.437C148.434,-26.8613 167.192,-20.1914 184.496,-17.2976 215.513,-12.1103 251.118,-16.935 276.762,-22.2884\"/>\r\n<polygon fill=\"black\" stroke=\"black\" points=\"276.236,-25.7566 286.756,-24.5064 277.752,-18.9228 276.236,-25.7566\"/>\r\n<text text-anchor=\"middle\" x=\"211.244\" y=\"-21.0976\" font-family=\"Times New Roman,serif\" font-size=\"14.00\">c </text>\r\n</g>\r\n<!-- St3&#45;&gt;St3 -->\r\n<g id=\"edge5\" class=\"edge\"><title>St3&#45;&gt;St3</title>\r\n<path fill=\"none\" stroke=\"black\" d=\"M201.951,-93.5986C201.31,-104.124 204.408,-113.046 211.244,-113.046 215.73,-113.046 218.606,-109.203 219.872,-103.587\"/>\r\n<polygon fill=\"black\" stroke=\"black\" points=\"223.365,-103.809 220.537,-93.5986 216.381,-103.344 223.365,-103.809\"/>\r\n<text text-anchor=\"middle\" x=\"211.244\" y=\"-116.846\" font-family=\"Times New Roman,serif\" font-size=\"14.00\">s </text>\r\n</g>\r\n<!-- St3&#45;&gt;St4 -->\r\n<g id=\"edge6\" class=\"edge\"><title>St3&#45;&gt;St4</title>\r\n<path fill=\"none\" stroke=\"black\" d=\"M236.583,-59.2464C248.99,-54.6326 264.279,-48.947 277.821,-43.9111\"/>\r\n<polygon fill=\"black\" stroke=\"black\" points=\"279.154,-47.1497 287.307,-40.3836 276.714,-40.5887 279.154,-47.1497\"/>\r\n<text text-anchor=\"middle\" x=\"261.992\" y=\"-56.0976\" font-family=\"Times New Roman,serif\" font-size=\"14.00\">b </text>\r\n</g>\r\n<!-- St10 -->\r\n<g id=\"node4\" class=\"node\"><title>St10</title>\r\n<ellipse fill=\"none\" stroke=\"black\" cx=\"416.785\" cy=\"-31.2976\" rx=\"27.1222\" ry=\"27.1222\"/>\r\n<ellipse fill=\"none\" stroke=\"black\" cx=\"416.785\" cy=\"-31.2976\" rx=\"31.0965\" ry=\"31.0965\"/>\r\n<text text-anchor=\"middle\" x=\"416.785\" y=\"-27.5976\" font-family=\"Times New Roman,serif\" font-size=\"14.00\">St10</text>\r\n</g>\r\n<!-- St4&#45;&gt;St10 -->\r\n<g id=\"edge7\" class=\"edge\"><title>St4&#45;&gt;St10</title>\r\n<path fill=\"none\" stroke=\"black\" d=\"M339.49,-31.2976C350.268,-31.2976 363.057,-31.2976 375.055,-31.2976\"/>\r\n<polygon fill=\"black\" stroke=\"black\" points=\"375.324,-34.7977 385.324,-31.2976 375.324,-27.7977 375.324,-34.7977\"/>\r\n<text text-anchor=\"middle\" x=\"362.488\" y=\"-35.0976\" font-family=\"Times New Roman,serif\" font-size=\"14.00\">a </text>\r\n</g>\r\n</g>\r\n</svg>\r\n"
     },
     "metadata": {},
     "execution_count": 58
    }
   ],
   "source": [
    "dotObj_dfa(min_dfa(nfa2dfa(re2nfa(Rev_RE1))))"
   ]
  },
  {
   "cell_type": "code",
   "execution_count": 77,
   "metadata": {},
   "outputs": [
    {
     "output_type": "execute_result",
     "data": {
      "text/plain": "6"
     },
     "metadata": {},
     "execution_count": 77
    }
   ],
   "source": [
    "len(DO)"
   ]
  },
  {
   "cell_type": "code",
   "execution_count": 84,
   "metadata": {},
   "outputs": [
    {
     "output_type": "execute_result",
     "data": {
      "text/plain": "<graphviz.dot.Digraph at 0x1dab3c0ecd0>",
      "image/svg+xml": "<?xml version=\"1.0\" encoding=\"UTF-8\" standalone=\"no\"?>\r\n<!DOCTYPE svg PUBLIC \"-//W3C//DTD SVG 1.1//EN\"\r\n \"http://www.w3.org/Graphics/SVG/1.1/DTD/svg11.dtd\">\r\n<!-- Generated by graphviz version 2.38.0 (20140413.2041)\r\n -->\r\n<!-- Title: %3 Pages: 1 -->\r\n<svg width=\"1211pt\" height=\"101pt\"\r\n viewBox=\"0.00 0.00 1210.99 101.45\" xmlns=\"http://www.w3.org/2000/svg\" xmlns:xlink=\"http://www.w3.org/1999/xlink\">\r\n<g id=\"graph0\" class=\"graph\" transform=\"scale(1 1) rotate(0) translate(4 97.4469)\">\r\n<title>%3</title>\r\n<polygon fill=\"white\" stroke=\"none\" points=\"-4,4 -4,-97.4469 1206.99,-97.4469 1206.99,4 -4,4\"/>\r\n<!-- EMPTY -->\r\n<g id=\"node1\" class=\"node\"><title>EMPTY</title>\r\n</g>\r\n<!-- Real_I -->\r\n<g id=\"node2\" class=\"node\"><title>Real_I</title>\r\n<ellipse fill=\"none\" stroke=\"black\" cx=\"125.447\" cy=\"-34.4469\" rx=\"34.394\" ry=\"34.394\"/>\r\n<text text-anchor=\"middle\" x=\"125.447\" y=\"-30.7469\" font-family=\"Times New Roman,serif\" font-size=\"14.00\">Real_I</text>\r\n</g>\r\n<!-- EMPTY&#45;&gt;Real_I -->\r\n<g id=\"edge1\" class=\"edge\"><title>EMPTY&#45;&gt;Real_I</title>\r\n<path fill=\"none\" stroke=\"black\" d=\"M54.0999,-34.4469C62.2876,-34.4469 71.5616,-34.4469 80.6264,-34.4469\"/>\r\n<polygon fill=\"black\" stroke=\"black\" points=\"80.7029,-37.947 90.7028,-34.4469 80.7028,-30.947 80.7029,-37.947\"/>\r\n</g>\r\n<!-- I4 -->\r\n<g id=\"node3\" class=\"node\"><title>I4</title>\r\n<ellipse fill=\"none\" stroke=\"black\" cx=\"495.394\" cy=\"-64.4469\" rx=\"18.399\" ry=\"18.399\"/>\r\n<text text-anchor=\"middle\" x=\"495.394\" y=\"-60.7469\" font-family=\"Times New Roman,serif\" font-size=\"14.00\">I4</text>\r\n</g>\r\n<!-- Real_I&#45;&gt;I4 -->\r\n<g id=\"edge5\" class=\"edge\"><title>Real_I&#45;&gt;I4</title>\r\n<path fill=\"none\" stroke=\"black\" d=\"M160.075,-37.1888C232.169,-43.0668 400.43,-56.7858 466.785,-62.1959\"/>\r\n<polygon fill=\"black\" stroke=\"black\" points=\"466.634,-65.6951 476.885,-63.0194 467.203,-58.7183 466.634,-65.6951\"/>\r\n<text text-anchor=\"middle\" x=\"185.894\" y=\"-44.2469\" font-family=\"Times New Roman,serif\" font-size=\"14.00\">&quot;&quot; </text>\r\n</g>\r\n<!-- Real_F -->\r\n<g id=\"node4\" class=\"node\"><title>Real_F</title>\r\n<ellipse fill=\"none\" stroke=\"black\" cx=\"1161.94\" cy=\"-46.4469\" rx=\"37.0889\" ry=\"37.0889\"/>\r\n<ellipse fill=\"none\" stroke=\"black\" cx=\"1161.94\" cy=\"-46.4469\" rx=\"41.0935\" ry=\"41.0935\"/>\r\n<text text-anchor=\"middle\" x=\"1161.94\" y=\"-42.7469\" font-family=\"Times New Roman,serif\" font-size=\"14.00\">Real_F</text>\r\n</g>\r\n<!-- Real_I&#45;&gt;Real_F -->\r\n<g id=\"edge2\" class=\"edge\"><title>Real_I&#45;&gt;Real_F</title>\r\n<path fill=\"none\" stroke=\"black\" d=\"M159.608,-28.6924C175.39,-26.2356 194.559,-23.6582 211.894,-22.4469 463.281,-4.88098 526.953,-17.0063 778.894,-22.4469 922.995,-25.5588 959.582,-21.0695 1102.89,-36.4469 1105.61,-36.7386 1108.4,-37.0784 1111.2,-37.4531\"/>\r\n<polygon fill=\"black\" stroke=\"black\" points=\"1110.98,-40.9577 1121.38,-38.9391 1111.99,-34.0311 1110.98,-40.9577\"/>\r\n<text text-anchor=\"middle\" x=\"495.394\" y=\"-26.2469\" font-family=\"Times New Roman,serif\" font-size=\"14.00\">((((((((f ((s)* b)) + c) + c) a) + (f (s)*)) + (f (s)*)) + (((f ((s)* b)) + c) + c)) + (((f ((s)* b)) + c) + c)) </text>\r\n</g>\r\n<!-- I4&#45;&gt;Real_F -->\r\n<g id=\"edge3\" class=\"edge\"><title>I4&#45;&gt;Real_F</title>\r\n<path fill=\"none\" stroke=\"black\" d=\"M513.88,-66.0723C586.568,-72.4753 871.822,-94.0984 1102.89,-62.4469 1106.1,-62.0072 1109.39,-61.4393 1112.68,-60.7808\"/>\r\n<polygon fill=\"black\" stroke=\"black\" points=\"1113.53,-64.1771 1122.52,-58.5708 1112,-57.3473 1113.53,-64.1771\"/>\r\n<text text-anchor=\"middle\" x=\"949.894\" y=\"-82.2469\" font-family=\"Times New Roman,serif\" font-size=\"14.00\">(((((d ((s)* b)) a) + (d (s)*)) + (d (s)*)) + (d ((s)* b))) </text>\r\n</g>\r\n<!-- I4&#45;&gt;Real_F -->\r\n<g id=\"edge4\" class=\"edge\"><title>I4&#45;&gt;Real_F</title>\r\n<path fill=\"none\" stroke=\"black\" d=\"M513.649,-62.8176C559.63,-58.5676 688.966,-47.2136 796.894,-43.4469 932.811,-38.7035 966.939,-39.936 1102.89,-43.4469 1105.41,-43.5119 1107.99,-43.5927 1110.59,-43.6856\"/>\r\n<polygon fill=\"black\" stroke=\"black\" points=\"1110.53,-47.1862 1120.67,-44.0961 1110.82,-40.192 1110.53,-47.1862\"/>\r\n<text text-anchor=\"middle\" x=\"949.894\" y=\"-47.2469\" font-family=\"Times New Roman,serif\" font-size=\"14.00\">(d ((s)* b)) </text>\r\n</g>\r\n</g>\r\n</svg>\r\n"
     },
     "metadata": {},
     "execution_count": 84
    }
   ],
   "source": [
    "step=4\n",
    "DO[step]"
   ]
  },
  {
   "cell_type": "code",
   "execution_count": 85,
   "metadata": {},
   "outputs": [
    {
     "output_type": "execute_result",
     "data": {
      "text/plain": "<graphviz.dot.Digraph at 0x1dab4f41580>",
      "image/svg+xml": "<?xml version=\"1.0\" encoding=\"UTF-8\" standalone=\"no\"?>\r\n<!DOCTYPE svg PUBLIC \"-//W3C//DTD SVG 1.1//EN\"\r\n \"http://www.w3.org/Graphics/SVG/1.1/DTD/svg11.dtd\">\r\n<!-- Generated by graphviz version 2.38.0 (20140413.2041)\r\n -->\r\n<!-- Title: %3 Pages: 1 -->\r\n<svg width=\"1266pt\" height=\"123pt\"\r\n viewBox=\"0.00 0.00 1265.99 122.77\" xmlns=\"http://www.w3.org/2000/svg\" xmlns:xlink=\"http://www.w3.org/1999/xlink\">\r\n<g id=\"graph0\" class=\"graph\" transform=\"scale(1 1) rotate(0) translate(4 118.765)\">\r\n<title>%3</title>\r\n<polygon fill=\"white\" stroke=\"none\" points=\"-4,4 -4,-118.765 1261.99,-118.765 1261.99,4 -4,4\"/>\r\n<!-- EMPTY -->\r\n<g id=\"node1\" class=\"node\"><title>EMPTY</title>\r\n</g>\r\n<!-- Real_I -->\r\n<g id=\"node2\" class=\"node\"><title>Real_I</title>\r\n<ellipse fill=\"none\" stroke=\"black\" cx=\"125.447\" cy=\"-73.7186\" rx=\"34.394\" ry=\"34.394\"/>\r\n<text text-anchor=\"middle\" x=\"125.447\" y=\"-70.0186\" font-family=\"Times New Roman,serif\" font-size=\"14.00\">Real_I</text>\r\n</g>\r\n<!-- EMPTY&#45;&gt;Real_I -->\r\n<g id=\"edge1\" class=\"edge\"><title>EMPTY&#45;&gt;Real_I</title>\r\n<path fill=\"none\" stroke=\"black\" d=\"M54.0999,-73.7186C62.2876,-73.7186 71.5616,-73.7186 80.6264,-73.7186\"/>\r\n<polygon fill=\"black\" stroke=\"black\" points=\"80.7029,-77.2187 90.7028,-73.7186 80.7028,-70.2187 80.7029,-77.2187\"/>\r\n</g>\r\n<!-- Real_F -->\r\n<g id=\"node3\" class=\"node\"><title>Real_F</title>\r\n<ellipse fill=\"none\" stroke=\"black\" cx=\"1216.94\" cy=\"-73.7186\" rx=\"37.0889\" ry=\"37.0889\"/>\r\n<ellipse fill=\"none\" stroke=\"black\" cx=\"1216.94\" cy=\"-73.7186\" rx=\"41.0935\" ry=\"41.0935\"/>\r\n<text text-anchor=\"middle\" x=\"1216.94\" y=\"-70.0186\" font-family=\"Times New Roman,serif\" font-size=\"14.00\">Real_F</text>\r\n</g>\r\n<!-- Real_I&#45;&gt;Real_F -->\r\n<g id=\"edge2\" class=\"edge\"><title>Real_I&#45;&gt;Real_F</title>\r\n<path fill=\"none\" stroke=\"black\" d=\"M159.947,-73.7186C316.608,-73.7186 977.233,-73.7186 1165.61,-73.7186\"/>\r\n<polygon fill=\"black\" stroke=\"black\" points=\"1165.78,-77.2187 1175.78,-73.7186 1165.78,-70.2187 1165.78,-77.2187\"/>\r\n<text text-anchor=\"middle\" x=\"667.894\" y=\"-77.5186\" font-family=\"Times New Roman,serif\" font-size=\"14.00\">(((((((d ((s)* b)) a) + (d (s)*)) + (d (s)*)) + (d ((s)* b))) + (d ((s)* b))) + ((((((((f ((s)* b)) + c) + c) a) + (f (s)*)) + (f (s)*)) + (((f ((s)* b)) + c) + c)) + (((f ((s)* b)) + c) + c))) </text>\r\n</g>\r\n<!-- Real_I&#45;&gt;Real_F -->\r\n<g id=\"edge3\" class=\"edge\"><title>Real_I&#45;&gt;Real_F</title>\r\n<path fill=\"none\" stroke=\"black\" d=\"M157.241,-60.3474C163.928,-58.0122 171.052,-55.9417 177.894,-54.7186 606.653,21.9246 727.775,13.8844 1157.89,-54.7186 1161.35,-55.2697 1164.88,-55.9945 1168.41,-56.839\"/>\r\n<polygon fill=\"black\" stroke=\"black\" points=\"1167.71,-60.2755 1178.27,-59.4911 1169.52,-53.5154 1167.71,-60.2755\"/>\r\n<text text-anchor=\"middle\" x=\"667.894\" y=\"-58.5186\" font-family=\"Times New Roman,serif\" font-size=\"14.00\">((((((((f ((s)* b)) + c) + c) a) + (f (s)*)) + (f (s)*)) + (((f ((s)* b)) + c) + c)) + (((f ((s)* b)) + c) + c)) </text>\r\n</g>\r\n</g>\r\n</svg>\r\n"
     },
     "metadata": {},
     "execution_count": 85
    }
   ],
   "source": [
    "DO[step+1]"
   ]
  },
  {
   "cell_type": "markdown",
   "metadata": {},
   "source": [
    "## Examine `DO[0]` through `DO[Last_Legal_Item]` (find out how long DO is)\n",
    "\n",
    "`DO[0]` is the initial GNFA machine, `DO[1]` is the next one, and so on. You will see each step getting\n",
    "rid of one state.\n",
    "\n",
    "### \\[\\[ ...UPDATED WORDING...\\]\\] Summarize your observation of the state elimination and which REs were introduced as a result. Pick TWO cases, one of which involves the removal of a state with a self-loop. Use one bullet per question case discussed.\n",
    "\n",
    "  - The original NFA was turned into a GNFA (aka a `Real_I` and `Real_F` states were inserted as the actual Initial and Final states respectivly, by connecting them with $\\varepsilon$ paths).\n",
    "\n",
    "  - Deleted state `B`, all possible paths to and from it replaced with RE (this seems like a bad place to start for keeping things simple). \n",
    "      This created some very complicated RE to bridge the gaps and left only the old initial and final states.\n",
    "\n",
    "  - Deleted state `F2` (the only other state remaining with a paths that were not $\\varepsilon$ or a _proper_ RE), all possible paths to and from it were replalced with RE.\n",
    "\n",
    "  - Deleted state `F1` all possible paths to and from it replaced with RE (this is far simpler as it just unions the 4 paths RE's into one RE using more `()`'s then nessisary.).\n",
    "\n",
    "  - Deleted state `I3` all possible paths to and from it replaced with RE,\n",
    "      since the only path into `I3` was a $\\varepsilon$ path it just unioned the 2 outgoing paths RE.\n",
    "\n",
    "  - Deleted state `I4` all possible paths to and from it replaced with RE,\n",
    "      since the only path into `I3` was a $\\varepsilon$ path it just unioned the 2 outgoing paths RE."
   ]
  },
  {
   "cell_type": "markdown",
   "metadata": {},
   "source": [
    "## 3(b,c) ii : Apply the elimination order by supplying the second argument \n",
    " `['I3', 'I4', 'F1', 'B', 'F2' ]`\n",
    "\n",
    "as you learned in the help"
   ]
  },
  {
   "cell_type": "code",
   "execution_count": 86,
   "metadata": {
    "scrolled": true,
    "tags": []
   },
   "outputs": [
    {
     "output_type": "stream",
     "name": "stdout",
     "text": "**** Eliminating state I3 ****\n**** Eliminating state I4 ****\n**** Eliminating state F1 ****\n**** Eliminating state B ****\n**** Eliminating state F2 ****\n"
    }
   ],
   "source": [
    "(Gfinal, DO, Rev_RE2) = del_gnfa_states(grnfa1, ['I3', 'I4', 'F1', 'B', 'F2' ])"
   ]
  },
  {
   "cell_type": "code",
   "execution_count": 87,
   "metadata": {},
   "outputs": [
    {
     "output_type": "execute_result",
     "data": {
      "text/plain": "'((((((((d + f) + f) ((s)* b)) + c) + c) ((a + \"\") + \"\")) + (((d + f) + f) (s)*)) + (((d + f) + f) (s)*))'"
     },
     "metadata": {},
     "execution_count": 87
    }
   ],
   "source": [
    "Rev_RE2"
   ]
  },
  {
   "cell_type": "code",
   "execution_count": 98,
   "metadata": {},
   "outputs": [
    {
     "output_type": "execute_result",
     "data": {
      "text/plain": "<graphviz.dot.Digraph at 0x1dab40450a0>",
      "image/svg+xml": "<?xml version=\"1.0\" encoding=\"UTF-8\" standalone=\"no\"?>\r\n<!DOCTYPE svg PUBLIC \"-//W3C//DTD SVG 1.1//EN\"\r\n \"http://www.w3.org/Graphics/SVG/1.1/DTD/svg11.dtd\">\r\n<!-- Generated by graphviz version 2.38.0 (20140413.2041)\r\n -->\r\n<!-- Title: %3 Pages: 1 -->\r\n<svg width=\"631pt\" height=\"99pt\"\r\n viewBox=\"0.00 0.00 630.99 98.84\" xmlns=\"http://www.w3.org/2000/svg\" xmlns:xlink=\"http://www.w3.org/1999/xlink\">\r\n<g id=\"graph0\" class=\"graph\" transform=\"scale(1 1) rotate(0) translate(4 94.8449)\">\r\n<title>%3</title>\r\n<polygon fill=\"white\" stroke=\"none\" points=\"-4,4 -4,-94.8449 626.987,-94.8449 626.987,4 -4,4\"/>\r\n<!-- EMPTY -->\r\n<g id=\"node1\" class=\"node\"><title>EMPTY</title>\r\n</g>\r\n<!-- Real_I -->\r\n<g id=\"node3\" class=\"node\"><title>Real_I</title>\r\n<ellipse fill=\"none\" stroke=\"black\" cx=\"125.447\" cy=\"-41.0467\" rx=\"34.394\" ry=\"34.394\"/>\r\n<text text-anchor=\"middle\" x=\"125.447\" y=\"-37.3467\" font-family=\"Times New Roman,serif\" font-size=\"14.00\">Real_I</text>\r\n</g>\r\n<!-- EMPTY&#45;&gt;Real_I -->\r\n<g id=\"edge1\" class=\"edge\"><title>EMPTY&#45;&gt;Real_I</title>\r\n<path fill=\"none\" stroke=\"black\" d=\"M54.0999,-41.0467C62.2876,-41.0467 71.5616,-41.0467 80.6264,-41.0467\"/>\r\n<polygon fill=\"black\" stroke=\"black\" points=\"80.7029,-44.5468 90.7028,-41.0467 80.7028,-37.5468 80.7029,-44.5468\"/>\r\n</g>\r\n<!-- F2 -->\r\n<g id=\"node2\" class=\"node\"><title>F2</title>\r\n<ellipse fill=\"none\" stroke=\"black\" cx=\"405.394\" cy=\"-70.0467\" rx=\"20.5982\" ry=\"20.5982\"/>\r\n<text text-anchor=\"middle\" x=\"405.394\" y=\"-66.3467\" font-family=\"Times New Roman,serif\" font-size=\"14.00\">F2</text>\r\n</g>\r\n<!-- Real_F -->\r\n<g id=\"node4\" class=\"node\"><title>Real_F</title>\r\n<ellipse fill=\"none\" stroke=\"black\" cx=\"581.941\" cy=\"-41.0467\" rx=\"37.0889\" ry=\"37.0889\"/>\r\n<ellipse fill=\"none\" stroke=\"black\" cx=\"581.941\" cy=\"-41.0467\" rx=\"41.0935\" ry=\"41.0935\"/>\r\n<text text-anchor=\"middle\" x=\"581.941\" y=\"-37.3467\" font-family=\"Times New Roman,serif\" font-size=\"14.00\">Real_F</text>\r\n</g>\r\n<!-- F2&#45;&gt;Real_F -->\r\n<g id=\"edge4\" class=\"edge\"><title>F2&#45;&gt;Real_F</title>\r\n<path fill=\"none\" stroke=\"black\" d=\"M426.326,-68.7839C449.639,-67.0856 489.319,-63.5053 522.894,-57.0467 526.076,-56.4346 529.339,-55.7361 532.616,-54.9811\"/>\r\n<polygon fill=\"black\" stroke=\"black\" points=\"533.545,-58.3571 542.424,-52.5766 531.878,-51.5584 533.545,-58.3571\"/>\r\n<text text-anchor=\"middle\" x=\"499.394\" y=\"-66.8467\" font-family=\"Times New Roman,serif\" font-size=\"14.00\">(a + &quot;&quot;) </text>\r\n</g>\r\n<!-- F2&#45;&gt;Real_F -->\r\n<g id=\"edge6\" class=\"edge\"><title>F2&#45;&gt;Real_F</title>\r\n<path fill=\"none\" stroke=\"black\" d=\"M423.65,-59.5411C437.281,-51.8886 457.079,-42.1701 475.894,-38.0467 493.622,-34.1614 513.434,-33.7485 531.034,-34.6962\"/>\r\n<polygon fill=\"black\" stroke=\"black\" points=\"530.89,-38.1945 541.108,-35.3954 531.374,-31.2113 530.89,-38.1945\"/>\r\n<text text-anchor=\"middle\" x=\"499.394\" y=\"-41.8467\" font-family=\"Times New Roman,serif\" font-size=\"14.00\">&quot;&quot; </text>\r\n</g>\r\n<!-- Real_I&#45;&gt;F2 -->\r\n<g id=\"edge2\" class=\"edge\"><title>Real_I&#45;&gt;F2</title>\r\n<path fill=\"none\" stroke=\"black\" d=\"M158.255,-52.2615C164.686,-54.1524 171.451,-55.8782 177.894,-57.0467 247.384,-69.6505 330.646,-70.9761 374.298,-70.6392\"/>\r\n<polygon fill=\"black\" stroke=\"black\" points=\"374.55,-74.1366 384.51,-70.5235 374.471,-67.1371 374.55,-74.1366\"/>\r\n<text text-anchor=\"middle\" x=\"256.394\" y=\"-73.8467\" font-family=\"Times New Roman,serif\" font-size=\"14.00\">((((d + f) + f) ((s)* b)) + c) </text>\r\n</g>\r\n<!-- Real_I&#45;&gt;F2 -->\r\n<g id=\"edge5\" class=\"edge\"><title>Real_I&#45;&gt;F2</title>\r\n<path fill=\"none\" stroke=\"black\" d=\"M159.769,-35.9387C201.318,-30.6211 274.263,-24.7589 334.894,-38.0467 349.887,-41.3325 365.504,-48.1713 378.128,-54.6863\"/>\r\n<polygon fill=\"black\" stroke=\"black\" points=\"376.674,-57.8788 387.138,-59.5411 379.994,-51.7164 376.674,-57.8788\"/>\r\n<text text-anchor=\"middle\" x=\"256.394\" y=\"-41.8467\" font-family=\"Times New Roman,serif\" font-size=\"14.00\">c </text>\r\n</g>\r\n<!-- Real_I&#45;&gt;Real_F -->\r\n<g id=\"edge3\" class=\"edge\"><title>Real_I&#45;&gt;Real_F</title>\r\n<path fill=\"none\" stroke=\"black\" d=\"M158.252,-30.2852C164.683,-28.5329 171.449,-26.9858 177.894,-26.0467 301.038,-8.1015 333.58,-19.3213 457.894,-25.0467 486.875,-26.3815 494.132,-27.2477 522.894,-31.0467 525.604,-31.4047 528.381,-31.797 531.182,-32.2125\"/>\r\n<polygon fill=\"black\" stroke=\"black\" points=\"530.928,-35.7152 541.348,-33.7989 532.008,-28.7989 530.928,-35.7152\"/>\r\n<text text-anchor=\"middle\" x=\"405.394\" y=\"-28.8467\" font-family=\"Times New Roman,serif\" font-size=\"14.00\">(((d + f) + f) (s)*) </text>\r\n</g>\r\n</g>\r\n</svg>\r\n"
     },
     "metadata": {},
     "execution_count": 98
    }
   ],
   "source": [
    "step = 4\n",
    "DO[step]"
   ]
  },
  {
   "cell_type": "code",
   "execution_count": 99,
   "metadata": {},
   "outputs": [
    {
     "output_type": "execute_result",
     "data": {
      "text/plain": "<graphviz.dot.Digraph at 0x1dab36b3550>",
      "image/svg+xml": "<?xml version=\"1.0\" encoding=\"UTF-8\" standalone=\"no\"?>\r\n<!DOCTYPE svg PUBLIC \"-//W3C//DTD SVG 1.1//EN\"\r\n \"http://www.w3.org/Graphics/SVG/1.1/DTD/svg11.dtd\">\r\n<!-- Generated by graphviz version 2.38.0 (20140413.2041)\r\n -->\r\n<!-- Title: %3 Pages: 1 -->\r\n<svg width=\"692pt\" height=\"91pt\"\r\n viewBox=\"0.00 0.00 691.99 90.82\" xmlns=\"http://www.w3.org/2000/svg\" xmlns:xlink=\"http://www.w3.org/1999/xlink\">\r\n<g id=\"graph0\" class=\"graph\" transform=\"scale(1 1) rotate(0) translate(4 86.8199)\">\r\n<title>%3</title>\r\n<polygon fill=\"white\" stroke=\"none\" points=\"-4,4 -4,-86.8199 687.987,-86.8199 687.987,4 -4,4\"/>\r\n<!-- EMPTY -->\r\n<g id=\"node1\" class=\"node\"><title>EMPTY</title>\r\n</g>\r\n<!-- Real_I -->\r\n<g id=\"node2\" class=\"node\"><title>Real_I</title>\r\n<ellipse fill=\"none\" stroke=\"black\" cx=\"125.447\" cy=\"-41.7732\" rx=\"34.394\" ry=\"34.394\"/>\r\n<text text-anchor=\"middle\" x=\"125.447\" y=\"-38.0732\" font-family=\"Times New Roman,serif\" font-size=\"14.00\">Real_I</text>\r\n</g>\r\n<!-- EMPTY&#45;&gt;Real_I -->\r\n<g id=\"edge1\" class=\"edge\"><title>EMPTY&#45;&gt;Real_I</title>\r\n<path fill=\"none\" stroke=\"black\" d=\"M54.0999,-41.7732C62.2876,-41.7732 71.5616,-41.7732 80.6264,-41.7732\"/>\r\n<polygon fill=\"black\" stroke=\"black\" points=\"80.7029,-45.2733 90.7028,-41.7732 80.7028,-38.2733 80.7029,-45.2733\"/>\r\n</g>\r\n<!-- Real_F -->\r\n<g id=\"node3\" class=\"node\"><title>Real_F</title>\r\n<ellipse fill=\"none\" stroke=\"black\" cx=\"642.941\" cy=\"-41.7732\" rx=\"37.0889\" ry=\"37.0889\"/>\r\n<ellipse fill=\"none\" stroke=\"black\" cx=\"642.941\" cy=\"-41.7732\" rx=\"41.0935\" ry=\"41.0935\"/>\r\n<text text-anchor=\"middle\" x=\"642.941\" y=\"-38.0732\" font-family=\"Times New Roman,serif\" font-size=\"14.00\">Real_F</text>\r\n</g>\r\n<!-- Real_I&#45;&gt;Real_F -->\r\n<g id=\"edge2\" class=\"edge\"><title>Real_I&#45;&gt;Real_F</title>\r\n<path fill=\"none\" stroke=\"black\" d=\"M160.27,-41.7732C248.624,-41.7732 486.731,-41.7732 591.404,-41.7732\"/>\r\n<polygon fill=\"black\" stroke=\"black\" points=\"591.705,-45.2733 601.705,-41.7732 591.705,-38.2733 591.705,-45.2733\"/>\r\n<text text-anchor=\"middle\" x=\"380.894\" y=\"-45.5732\" font-family=\"Times New Roman,serif\" font-size=\"14.00\">(((((((d + f) + f) ((s)* b)) + c) + c) ((a + &quot;&quot;) + &quot;&quot;)) + (((d + f) + f) (s)*)) </text>\r\n</g>\r\n<!-- Real_I&#45;&gt;Real_F -->\r\n<g id=\"edge3\" class=\"edge\"><title>Real_I&#45;&gt;Real_F</title>\r\n<path fill=\"none\" stroke=\"black\" d=\"M157.241,-28.402C163.928,-26.0668 171.052,-23.9963 177.894,-22.7732 355.523,8.97896 405.702,5.64803 583.894,-22.7732 587.349,-23.3244 590.879,-24.0491 594.405,-24.8936\"/>\r\n<polygon fill=\"black\" stroke=\"black\" points=\"593.707,-28.3301 604.273,-27.5457 595.524,-21.57 593.707,-28.3301\"/>\r\n<text text-anchor=\"middle\" x=\"380.894\" y=\"-26.5732\" font-family=\"Times New Roman,serif\" font-size=\"14.00\">(((d + f) + f) (s)*) </text>\r\n</g>\r\n</g>\r\n</svg>\r\n"
     },
     "metadata": {},
     "execution_count": 99
    }
   ],
   "source": [
    "DO[step+1]"
   ]
  },
  {
   "cell_type": "markdown",
   "metadata": {},
   "source": [
    "## Examine `DO[0]` through `DO[Last_Legal_Item]` (find out how long DO is)\n",
    "\n",
    "### \\[\\[ Slightly Updated Wording \\]\\] Summarize your observation of the state elimination and which REs were introduced as a result (using the same guidelines as with `Rev_RE1` above.\n",
    "\n",
    "- The original NFA was turned into a GNFA (aka a `Real_I` and `Real_F` states were inserted as the actual Initial and Final states respectivly, by connecting them with $\\varepsilon$ paths).\n",
    "\n",
    "  - Deleted state `I3`, since it only had a $\\varepsilon$ path leading into it all teh paths were just moved to come from `Real_I` instread.\n",
    "      (this seems like a far better place to start to keep the process and the RE simple then the previouse state order). \n",
    "\n",
    "  - Deleted state `I4`, all possible paths to and from it were replalced with RE.\n",
    "      Which for this means just union the two paths symbols to make an RE.\n",
    "\n",
    "  - Deleted state `F1` all possible paths to and from it replaced with RE.\n",
    "      Since `F1` and `F2` just lead to the same node in the end the path between was unioned with the other out path from `F2`, \n",
    "      and the $\\varepsilon$ path was redirected directly to `Real_F`.\n",
    "\n",
    "  - Deleted state `B` all possible paths to and from it replaced with RE (This is the most complicated step so far due to teh complexity fo the `B` state).\n",
    "      The REs yeilded by this process were far simpler then was yeilded when deleting `B` in the order we did for the previouse problem.\n",
    "\n",
    "  - Deleted state `F2` all possible paths to and from it replaced with RE, which just means unioning all of the RE in paths to the RE of the non-$\\varepsilon$ out path."
   ]
  },
  {
   "cell_type": "markdown",
   "metadata": {},
   "source": [
    "## 3(d)i Check for isomorphism as requested between `Rev_RE1` and `Rev_RE2`\n",
    "\n",
    "Apply a Jove call that is compact (and is in my lecture slides) that checks that `Rev_RE1` and `Rev_RE2` \n",
    "are equivalent. It has to involve `iso_dfa()` and `min_dfa()` and other calls."
   ]
  },
  {
   "cell_type": "code",
   "execution_count": 100,
   "metadata": {},
   "outputs": [
    {
     "output_type": "execute_result",
     "data": {
      "text/plain": "True"
     },
     "metadata": {},
     "execution_count": 100
    }
   ],
   "source": [
    "iso_dfa(min_dfa(nfa2dfa(re2nfa(Rev_RE1))), min_dfa(nfa2dfa(re2nfa(Rev_RE2))))"
   ]
  },
  {
   "cell_type": "code",
   "execution_count": 101,
   "metadata": {},
   "outputs": [
    {
     "output_type": "execute_result",
     "data": {
      "text/plain": "<graphviz.dot.Digraph at 0x1dab3972fa0>",
      "image/svg+xml": "<?xml version=\"1.0\" encoding=\"UTF-8\" standalone=\"no\"?>\r\n<!DOCTYPE svg PUBLIC \"-//W3C//DTD SVG 1.1//EN\"\r\n \"http://www.w3.org/Graphics/SVG/1.1/DTD/svg11.dtd\">\r\n<!-- Generated by graphviz version 2.38.0 (20140413.2041)\r\n -->\r\n<!-- Title: %3 Pages: 1 -->\r\n<svg width=\"793pt\" height=\"408pt\"\r\n viewBox=\"0.00 0.00 793.17 407.60\" xmlns=\"http://www.w3.org/2000/svg\" xmlns:xlink=\"http://www.w3.org/1999/xlink\">\r\n<g id=\"graph0\" class=\"graph\" transform=\"scale(1 1) rotate(0) translate(4 403.595)\">\r\n<title>%3</title>\r\n<polygon fill=\"white\" stroke=\"none\" points=\"-4,4 -4,-403.595 789.166,-403.595 789.166,4 -4,4\"/>\r\n<!-- EMPTY -->\r\n<g id=\"node1\" class=\"node\"><title>EMPTY</title>\r\n</g>\r\n<!-- St15 -->\r\n<g id=\"node2\" class=\"node\"><title>St15</title>\r\n<ellipse fill=\"none\" stroke=\"black\" cx=\"118.298\" cy=\"-365.298\" rx=\"27.0966\" ry=\"27.0966\"/>\r\n<text text-anchor=\"middle\" x=\"118.298\" y=\"-361.598\" font-family=\"Times New Roman,serif\" font-size=\"14.00\">St15</text>\r\n</g>\r\n<!-- EMPTY&#45;&gt;St15 -->\r\n<g id=\"edge1\" class=\"edge\"><title>EMPTY&#45;&gt;St15</title>\r\n<path fill=\"none\" stroke=\"black\" d=\"M43.9646,-281.533C57.5377,-297.037 77.244,-319.546 92.811,-337.328\"/>\r\n<polygon fill=\"black\" stroke=\"black\" points=\"90.4148,-339.904 99.6352,-345.123 95.6816,-335.293 90.4148,-339.904\"/>\r\n</g>\r\n<!-- St3 -->\r\n<g id=\"node7\" class=\"node\"><title>St3</title>\r\n<ellipse fill=\"none\" stroke=\"black\" cx=\"118.298\" cy=\"-297.298\" rx=\"22.9987\" ry=\"22.9987\"/>\r\n<text text-anchor=\"middle\" x=\"118.298\" y=\"-293.598\" font-family=\"Times New Roman,serif\" font-size=\"14.00\">St3</text>\r\n</g>\r\n<!-- EMPTY&#45;&gt;St3 -->\r\n<g id=\"edge2\" class=\"edge\"><title>EMPTY&#45;&gt;St3</title>\r\n<path fill=\"none\" stroke=\"black\" d=\"M54.3092,-273.315C64.7079,-277.274 76.7128,-281.845 87.4352,-285.928\"/>\r\n<polygon fill=\"black\" stroke=\"black\" points=\"86.248,-289.221 96.8389,-289.508 88.7388,-282.679 86.248,-289.221\"/>\r\n</g>\r\n<!-- St19 -->\r\n<g id=\"node9\" class=\"node\"><title>St19</title>\r\n<ellipse fill=\"none\" stroke=\"black\" cx=\"118.298\" cy=\"-229.298\" rx=\"27.0966\" ry=\"27.0966\"/>\r\n<text text-anchor=\"middle\" x=\"118.298\" y=\"-225.598\" font-family=\"Times New Roman,serif\" font-size=\"14.00\">St19</text>\r\n</g>\r\n<!-- EMPTY&#45;&gt;St19 -->\r\n<g id=\"edge3\" class=\"edge\"><title>EMPTY&#45;&gt;St19</title>\r\n<path fill=\"none\" stroke=\"black\" d=\"M54.3092,-253.28C63.244,-249.878 73.3648,-246.025 82.8389,-242.418\"/>\r\n<polygon fill=\"black\" stroke=\"black\" points=\"84.3009,-245.606 92.401,-238.777 81.81,-239.064 84.3009,-245.606\"/>\r\n</g>\r\n<!-- St1 -->\r\n<g id=\"node13\" class=\"node\"><title>St1</title>\r\n<ellipse fill=\"none\" stroke=\"black\" cx=\"118.298\" cy=\"-160.298\" rx=\"22.9987\" ry=\"22.9987\"/>\r\n<text text-anchor=\"middle\" x=\"118.298\" y=\"-156.598\" font-family=\"Times New Roman,serif\" font-size=\"14.00\">St1</text>\r\n</g>\r\n<!-- EMPTY&#45;&gt;St1 -->\r\n<g id=\"edge4\" class=\"edge\"><title>EMPTY&#45;&gt;St1</title>\r\n<path fill=\"none\" stroke=\"black\" d=\"M43.9646,-244.883C58.4078,-228.224 79.7956,-203.554 95.7509,-185.15\"/>\r\n<polygon fill=\"black\" stroke=\"black\" points=\"98.7489,-187.036 102.655,-177.187 93.4599,-182.45 98.7489,-187.036\"/>\r\n</g>\r\n<!-- St16 -->\r\n<g id=\"node10\" class=\"node\"><title>St16</title>\r\n<ellipse fill=\"none\" stroke=\"black\" cx=\"224.893\" cy=\"-368.298\" rx=\"27.0966\" ry=\"27.0966\"/>\r\n<text text-anchor=\"middle\" x=\"224.893\" y=\"-364.598\" font-family=\"Times New Roman,serif\" font-size=\"14.00\">St16</text>\r\n</g>\r\n<!-- St15&#45;&gt;St16 -->\r\n<g id=\"edge19\" class=\"edge\"><title>St15&#45;&gt;St16</title>\r\n<path fill=\"none\" stroke=\"black\" d=\"M145.691,-366.055C158.326,-366.417 173.66,-366.857 187.391,-367.251\"/>\r\n<polygon fill=\"black\" stroke=\"black\" points=\"187.411,-370.753 197.507,-367.541 187.612,-363.755 187.411,-370.753\"/>\r\n<text text-anchor=\"middle\" x=\"169.595\" y=\"-371.098\" font-family=\"Times New Roman,serif\" font-size=\"14.00\">c </text>\r\n</g>\r\n<!-- St2 -->\r\n<g id=\"node3\" class=\"node\"><title>St2</title>\r\n<ellipse fill=\"none\" stroke=\"black\" cx=\"224.893\" cy=\"-156.298\" rx=\"22.9987\" ry=\"22.9987\"/>\r\n<text text-anchor=\"middle\" x=\"224.893\" y=\"-152.598\" font-family=\"Times New Roman,serif\" font-size=\"14.00\">St2</text>\r\n</g>\r\n<!-- St7 -->\r\n<g id=\"node11\" class=\"node\"><title>St7</title>\r\n<ellipse fill=\"none\" stroke=\"black\" cx=\"329.488\" cy=\"-176.298\" rx=\"22.9987\" ry=\"22.9987\"/>\r\n<text text-anchor=\"middle\" x=\"329.488\" y=\"-172.598\" font-family=\"Times New Roman,serif\" font-size=\"14.00\">St7</text>\r\n</g>\r\n<!-- St2&#45;&gt;St7 -->\r\n<g id=\"edge13\" class=\"edge\"><title>St2&#45;&gt;St7</title>\r\n<path fill=\"none\" stroke=\"black\" d=\"M247.651,-160.539C262.029,-163.342 281.105,-167.061 297.115,-170.182\"/>\r\n<polygon fill=\"black\" stroke=\"black\" points=\"296.628,-173.653 307.113,-172.131 297.968,-166.782 296.628,-173.653\"/>\r\n<text text-anchor=\"middle\" x=\"279.19\" y=\"-172.098\" font-family=\"Times New Roman,serif\" font-size=\"14.00\">&#39;&#39; </text>\r\n</g>\r\n<!-- St5 -->\r\n<g id=\"node4\" class=\"node\"><title>St5</title>\r\n<ellipse fill=\"none\" stroke=\"black\" cx=\"434.083\" cy=\"-239.298\" rx=\"22.9987\" ry=\"22.9987\"/>\r\n<text text-anchor=\"middle\" x=\"434.083\" y=\"-235.598\" font-family=\"Times New Roman,serif\" font-size=\"14.00\">St5</text>\r\n</g>\r\n<!-- St6 -->\r\n<g id=\"node16\" class=\"node\"><title>St6</title>\r\n<ellipse fill=\"none\" stroke=\"black\" cx=\"544.678\" cy=\"-269.298\" rx=\"22.9987\" ry=\"22.9987\"/>\r\n<text text-anchor=\"middle\" x=\"544.678\" y=\"-265.598\" font-family=\"Times New Roman,serif\" font-size=\"14.00\">St6</text>\r\n</g>\r\n<!-- St5&#45;&gt;St6 -->\r\n<g id=\"edge11\" class=\"edge\"><title>St5&#45;&gt;St6</title>\r\n<path fill=\"none\" stroke=\"black\" d=\"M456.279,-245.153C472.349,-249.593 494.675,-255.76 512.739,-260.75\"/>\r\n<polygon fill=\"black\" stroke=\"black\" points=\"511.965,-264.168 522.536,-263.457 513.829,-257.42 511.965,-264.168\"/>\r\n<text text-anchor=\"middle\" x=\"489.381\" y=\"-260.098\" font-family=\"Times New Roman,serif\" font-size=\"14.00\">s </text>\r\n</g>\r\n<!-- St8 -->\r\n<g id=\"node5\" class=\"node\"><title>St8</title>\r\n<ellipse fill=\"none\" stroke=\"black\" cx=\"434.083\" cy=\"-176.298\" rx=\"22.9987\" ry=\"22.9987\"/>\r\n<text text-anchor=\"middle\" x=\"434.083\" y=\"-172.598\" font-family=\"Times New Roman,serif\" font-size=\"14.00\">St8</text>\r\n</g>\r\n<!-- St9 -->\r\n<g id=\"node12\" class=\"node\"><title>St9</title>\r\n<ellipse fill=\"none\" stroke=\"black\" cx=\"544.678\" cy=\"-178.298\" rx=\"22.9987\" ry=\"22.9987\"/>\r\n<text text-anchor=\"middle\" x=\"544.678\" y=\"-174.598\" font-family=\"Times New Roman,serif\" font-size=\"14.00\">St9</text>\r\n</g>\r\n<!-- St8&#45;&gt;St9 -->\r\n<g id=\"edge15\" class=\"edge\"><title>St8&#45;&gt;St9</title>\r\n<path fill=\"none\" stroke=\"black\" d=\"M457.059,-176.702C472.661,-176.99 493.862,-177.38 511.384,-177.703\"/>\r\n<polygon fill=\"black\" stroke=\"black\" points=\"511.672,-181.209 521.735,-177.893 511.801,-174.21 511.672,-181.209\"/>\r\n<text text-anchor=\"middle\" x=\"489.381\" y=\"-182.098\" font-family=\"Times New Roman,serif\" font-size=\"14.00\">b </text>\r\n</g>\r\n<!-- St17 -->\r\n<g id=\"node6\" class=\"node\"><title>St17</title>\r\n<ellipse fill=\"none\" stroke=\"black\" cx=\"329.488\" cy=\"-368.298\" rx=\"27.0966\" ry=\"27.0966\"/>\r\n<text text-anchor=\"middle\" x=\"329.488\" y=\"-364.598\" font-family=\"Times New Roman,serif\" font-size=\"14.00\">St17</text>\r\n</g>\r\n<!-- St18 -->\r\n<g id=\"node19\" class=\"node\"><title>St18</title>\r\n<ellipse fill=\"none\" stroke=\"black\" cx=\"434.083\" cy=\"-368.298\" rx=\"27.1222\" ry=\"27.1222\"/>\r\n<ellipse fill=\"none\" stroke=\"black\" cx=\"434.083\" cy=\"-368.298\" rx=\"31.0965\" ry=\"31.0965\"/>\r\n<text text-anchor=\"middle\" x=\"434.083\" y=\"-364.598\" font-family=\"Times New Roman,serif\" font-size=\"14.00\">St18</text>\r\n</g>\r\n<!-- St17&#45;&gt;St18 -->\r\n<g id=\"edge20\" class=\"edge\"><title>St17&#45;&gt;St18</title>\r\n<path fill=\"none\" stroke=\"black\" d=\"M356.909,-368.298C367.746,-368.298 380.537,-368.298 392.513,-368.298\"/>\r\n<polygon fill=\"black\" stroke=\"black\" points=\"392.757,-371.798 402.757,-368.298 392.756,-364.798 392.757,-371.798\"/>\r\n<text text-anchor=\"middle\" x=\"379.785\" y=\"-372.098\" font-family=\"Times New Roman,serif\" font-size=\"14.00\">a </text>\r\n</g>\r\n<!-- St4 -->\r\n<g id=\"node15\" class=\"node\"><title>St4</title>\r\n<ellipse fill=\"none\" stroke=\"black\" cx=\"224.893\" cy=\"-300.298\" rx=\"22.9987\" ry=\"22.9987\"/>\r\n<text text-anchor=\"middle\" x=\"224.893\" y=\"-296.598\" font-family=\"Times New Roman,serif\" font-size=\"14.00\">St4</text>\r\n</g>\r\n<!-- St3&#45;&gt;St4 -->\r\n<g id=\"edge6\" class=\"edge\"><title>St3&#45;&gt;St4</title>\r\n<path fill=\"none\" stroke=\"black\" d=\"M141.224,-297.926C155.868,-298.346 175.373,-298.906 191.76,-299.376\"/>\r\n<polygon fill=\"black\" stroke=\"black\" points=\"191.899,-302.881 201.995,-299.67 192.1,-295.884 191.899,-302.881\"/>\r\n<text text-anchor=\"middle\" x=\"169.595\" y=\"-303.098\" font-family=\"Times New Roman,serif\" font-size=\"14.00\">f </text>\r\n</g>\r\n<!-- St10 -->\r\n<g id=\"node8\" class=\"node\"><title>St10</title>\r\n<ellipse fill=\"none\" stroke=\"black\" cx=\"649.273\" cy=\"-178.298\" rx=\"27.0966\" ry=\"27.0966\"/>\r\n<text text-anchor=\"middle\" x=\"649.273\" y=\"-174.598\" font-family=\"Times New Roman,serif\" font-size=\"14.00\">St10</text>\r\n</g>\r\n<!-- St11 -->\r\n<g id=\"node17\" class=\"node\"><title>St11</title>\r\n<ellipse fill=\"none\" stroke=\"black\" cx=\"753.869\" cy=\"-178.298\" rx=\"27.1222\" ry=\"27.1222\"/>\r\n<ellipse fill=\"none\" stroke=\"black\" cx=\"753.869\" cy=\"-178.298\" rx=\"31.0965\" ry=\"31.0965\"/>\r\n<text text-anchor=\"middle\" x=\"753.869\" y=\"-174.598\" font-family=\"Times New Roman,serif\" font-size=\"14.00\">St11</text>\r\n</g>\r\n<!-- St10&#45;&gt;St11 -->\r\n<g id=\"edge16\" class=\"edge\"><title>St10&#45;&gt;St11</title>\r\n<path fill=\"none\" stroke=\"black\" d=\"M676.694,-178.298C687.531,-178.298 700.323,-178.298 712.298,-178.298\"/>\r\n<polygon fill=\"black\" stroke=\"black\" points=\"712.542,-181.798 722.542,-178.298 712.542,-174.798 712.542,-181.798\"/>\r\n<text text-anchor=\"middle\" x=\"699.571\" y=\"-182.098\" font-family=\"Times New Roman,serif\" font-size=\"14.00\">a </text>\r\n</g>\r\n<!-- St20 -->\r\n<g id=\"node21\" class=\"node\"><title>St20</title>\r\n<ellipse fill=\"none\" stroke=\"black\" cx=\"224.893\" cy=\"-228.298\" rx=\"27.1222\" ry=\"27.1222\"/>\r\n<ellipse fill=\"none\" stroke=\"black\" cx=\"224.893\" cy=\"-228.298\" rx=\"31.0965\" ry=\"31.0965\"/>\r\n<text text-anchor=\"middle\" x=\"224.893\" y=\"-224.598\" font-family=\"Times New Roman,serif\" font-size=\"14.00\">St20</text>\r\n</g>\r\n<!-- St19&#45;&gt;St20 -->\r\n<g id=\"edge22\" class=\"edge\"><title>St19&#45;&gt;St20</title>\r\n<path fill=\"none\" stroke=\"black\" d=\"M145.691,-229.045C157.039,-228.937 170.562,-228.807 183.147,-228.687\"/>\r\n<polygon fill=\"black\" stroke=\"black\" points=\"183.463,-232.184 193.429,-228.589 183.396,-225.185 183.463,-232.184\"/>\r\n<text text-anchor=\"middle\" x=\"169.595\" y=\"-233.098\" font-family=\"Times New Roman,serif\" font-size=\"14.00\">c </text>\r\n</g>\r\n<!-- St16&#45;&gt;St17 -->\r\n<g id=\"edge21\" class=\"edge\"><title>St16&#45;&gt;St17</title>\r\n<path fill=\"none\" stroke=\"black\" d=\"M252.314,-368.298C264.4,-368.298 278.918,-368.298 292.023,-368.298\"/>\r\n<polygon fill=\"black\" stroke=\"black\" points=\"292.157,-371.798 302.157,-368.298 292.157,-364.798 292.157,-371.798\"/>\r\n<text text-anchor=\"middle\" x=\"279.19\" y=\"-372.098\" font-family=\"Times New Roman,serif\" font-size=\"14.00\">&#39;&#39; </text>\r\n</g>\r\n<!-- St7&#45;&gt;St5 -->\r\n<g id=\"edge10\" class=\"edge\"><title>St7&#45;&gt;St5</title>\r\n<path fill=\"none\" stroke=\"black\" d=\"M349.305,-187.853C365.069,-197.533 387.784,-211.481 405.586,-222.413\"/>\r\n<polygon fill=\"black\" stroke=\"black\" points=\"404.032,-225.565 414.385,-227.816 407.695,-219.6 404.032,-225.565\"/>\r\n<text text-anchor=\"middle\" x=\"379.785\" y=\"-214.098\" font-family=\"Times New Roman,serif\" font-size=\"14.00\">&#39;&#39; </text>\r\n</g>\r\n<!-- St7&#45;&gt;St8 -->\r\n<g id=\"edge9\" class=\"edge\"><title>St7&#45;&gt;St8</title>\r\n<path fill=\"none\" stroke=\"black\" d=\"M352.246,-176.298C366.296,-176.298 384.832,-176.298 400.61,-176.298\"/>\r\n<polygon fill=\"black\" stroke=\"black\" points=\"401.003,-179.798 411.003,-176.298 401.003,-172.798 401.003,-179.798\"/>\r\n<text text-anchor=\"middle\" x=\"379.785\" y=\"-180.098\" font-family=\"Times New Roman,serif\" font-size=\"14.00\">&#39;&#39; </text>\r\n</g>\r\n<!-- St12 -->\r\n<g id=\"node14\" class=\"node\"><title>St12</title>\r\n<ellipse fill=\"none\" stroke=\"black\" cx=\"434.083\" cy=\"-108.298\" rx=\"27.0966\" ry=\"27.0966\"/>\r\n<text text-anchor=\"middle\" x=\"434.083\" y=\"-104.598\" font-family=\"Times New Roman,serif\" font-size=\"14.00\">St12</text>\r\n</g>\r\n<!-- St7&#45;&gt;St12 -->\r\n<g id=\"edge7\" class=\"edge\"><title>St7&#45;&gt;St12</title>\r\n<path fill=\"none\" stroke=\"black\" d=\"M348.83,-164.141C363.652,-154.316 384.841,-140.272 402.261,-128.726\"/>\r\n<polygon fill=\"black\" stroke=\"black\" points=\"404.572,-131.394 410.973,-122.952 400.704,-125.559 404.572,-131.394\"/>\r\n<text text-anchor=\"middle\" x=\"379.785\" y=\"-151.098\" font-family=\"Times New Roman,serif\" font-size=\"14.00\">&#39;&#39; </text>\r\n</g>\r\n<!-- St14 -->\r\n<g id=\"node20\" class=\"node\"><title>St14</title>\r\n<ellipse fill=\"none\" stroke=\"black\" cx=\"434.083\" cy=\"-31.2976\" rx=\"27.1222\" ry=\"27.1222\"/>\r\n<ellipse fill=\"none\" stroke=\"black\" cx=\"434.083\" cy=\"-31.2976\" rx=\"31.0965\" ry=\"31.0965\"/>\r\n<text text-anchor=\"middle\" x=\"434.083\" y=\"-27.5976\" font-family=\"Times New Roman,serif\" font-size=\"14.00\">St14</text>\r\n</g>\r\n<!-- St7&#45;&gt;St14 -->\r\n<g id=\"edge8\" class=\"edge\"><title>St7&#45;&gt;St14</title>\r\n<path fill=\"none\" stroke=\"black\" d=\"M343.127,-157.774C357.433,-136.887 381.518,-101.965 402.785,-72.2976 404.693,-69.636 406.683,-66.8874 408.69,-64.1324\"/>\r\n<polygon fill=\"black\" stroke=\"black\" points=\"411.614,-66.0638 414.703,-55.9292 405.968,-61.9256 411.614,-66.0638\"/>\r\n<text text-anchor=\"middle\" x=\"379.785\" y=\"-113.098\" font-family=\"Times New Roman,serif\" font-size=\"14.00\">&#39;&#39; </text>\r\n</g>\r\n<!-- St9&#45;&gt;St10 -->\r\n<g id=\"edge17\" class=\"edge\"><title>St9&#45;&gt;St10</title>\r\n<path fill=\"none\" stroke=\"black\" d=\"M567.436,-178.298C580.216,-178.298 596.706,-178.298 611.456,-178.298\"/>\r\n<polygon fill=\"black\" stroke=\"black\" points=\"611.811,-181.798 621.811,-178.298 611.811,-174.798 611.811,-181.798\"/>\r\n<text text-anchor=\"middle\" x=\"598.976\" y=\"-182.098\" font-family=\"Times New Roman,serif\" font-size=\"14.00\">&#39;&#39; </text>\r\n</g>\r\n<!-- St1&#45;&gt;St2 -->\r\n<g id=\"edge5\" class=\"edge\"><title>St1&#45;&gt;St2</title>\r\n<path fill=\"none\" stroke=\"black\" d=\"M141.224,-159.459C155.868,-158.899 175.373,-158.153 191.76,-157.526\"/>\r\n<polygon fill=\"black\" stroke=\"black\" points=\"192.136,-161.015 201.995,-157.135 191.869,-154.02 192.136,-161.015\"/>\r\n<text text-anchor=\"middle\" x=\"169.595\" y=\"-163.098\" font-family=\"Times New Roman,serif\" font-size=\"14.00\">d </text>\r\n</g>\r\n<!-- St13 -->\r\n<g id=\"node18\" class=\"node\"><title>St13</title>\r\n<ellipse fill=\"none\" stroke=\"black\" cx=\"544.678\" cy=\"-106.298\" rx=\"27.1222\" ry=\"27.1222\"/>\r\n<ellipse fill=\"none\" stroke=\"black\" cx=\"544.678\" cy=\"-106.298\" rx=\"31.0965\" ry=\"31.0965\"/>\r\n<text text-anchor=\"middle\" x=\"544.678\" y=\"-102.598\" font-family=\"Times New Roman,serif\" font-size=\"14.00\">St13</text>\r\n</g>\r\n<!-- St12&#45;&gt;St13 -->\r\n<g id=\"edge18\" class=\"edge\"><title>St12&#45;&gt;St13</title>\r\n<path fill=\"none\" stroke=\"black\" d=\"M461.648,-107.808C474.058,-107.58 489.109,-107.303 502.913,-107.048\"/>\r\n<polygon fill=\"black\" stroke=\"black\" points=\"503.228,-110.543 513.162,-106.86 503.099,-103.544 503.228,-110.543\"/>\r\n<text text-anchor=\"middle\" x=\"489.381\" y=\"-112.098\" font-family=\"Times New Roman,serif\" font-size=\"14.00\">b </text>\r\n</g>\r\n<!-- St4&#45;&gt;St7 -->\r\n<g id=\"edge14\" class=\"edge\"><title>St4&#45;&gt;St7</title>\r\n<path fill=\"none\" stroke=\"black\" d=\"M241.602,-284.286C246.385,-279.257 251.591,-273.626 256.19,-268.298 274.837,-246.694 294.79,-221.096 309.001,-202.393\"/>\r\n<polygon fill=\"black\" stroke=\"black\" points=\"311.862,-204.412 315.101,-194.324 306.278,-200.19 311.862,-204.412\"/>\r\n<text text-anchor=\"middle\" x=\"279.19\" y=\"-250.098\" font-family=\"Times New Roman,serif\" font-size=\"14.00\">&#39;&#39; </text>\r\n</g>\r\n<!-- St6&#45;&gt;St7 -->\r\n<g id=\"edge12\" class=\"edge\"><title>St6&#45;&gt;St7</title>\r\n<path fill=\"none\" stroke=\"black\" d=\"M522.652,-275.518C493.781,-282.799 441.093,-291.482 402.785,-271.298 375.991,-257.18 356.23,-228.227 344.203,-205.974\"/>\r\n<polygon fill=\"black\" stroke=\"black\" points=\"347.221,-204.19 339.524,-196.91 341.001,-207.401 347.221,-204.19\"/>\r\n<text text-anchor=\"middle\" x=\"434.083\" y=\"-288.098\" font-family=\"Times New Roman,serif\" font-size=\"14.00\">&#39;&#39; </text>\r\n</g>\r\n</g>\r\n</svg>\r\n"
     },
     "metadata": {},
     "execution_count": 101
    }
   ],
   "source": [
    "# Just look at it again for comparison\n",
    "\n",
    "dotObj_nfa(re2nfa(Rev_RE1_hand))"
   ]
  },
  {
   "cell_type": "code",
   "execution_count": 103,
   "metadata": {},
   "outputs": [
    {
     "output_type": "execute_result",
     "data": {
      "text/plain": "<graphviz.dot.Digraph at 0x1dab51130a0>",
      "image/svg+xml": "<?xml version=\"1.0\" encoding=\"UTF-8\" standalone=\"no\"?>\r\n<!DOCTYPE svg PUBLIC \"-//W3C//DTD SVG 1.1//EN\"\r\n \"http://www.w3.org/Graphics/SVG/1.1/DTD/svg11.dtd\">\r\n<!-- Generated by graphviz version 2.38.0 (20140413.2041)\r\n -->\r\n<!-- Title: %3 Pages: 1 -->\r\n<svg width=\"447pt\" height=\"125pt\"\r\n viewBox=\"0.00 0.00 446.98 125.50\" xmlns=\"http://www.w3.org/2000/svg\" xmlns:xlink=\"http://www.w3.org/1999/xlink\">\r\n<g id=\"graph0\" class=\"graph\" transform=\"scale(1 1) rotate(0) translate(4 121.496)\">\r\n<title>%3</title>\r\n<polygon fill=\"white\" stroke=\"none\" points=\"-4,4 -4,-121.496 442.984,-121.496 442.984,4 -4,4\"/>\r\n<!-- EMPTY -->\r\n<g id=\"node1\" class=\"node\"><title>EMPTY</title>\r\n</g>\r\n<!-- St1 -->\r\n<g id=\"node2\" class=\"node\"><title>St1</title>\r\n<ellipse fill=\"none\" stroke=\"black\" cx=\"113.748\" cy=\"-64.748\" rx=\"22.9987\" ry=\"22.9987\"/>\r\n<text text-anchor=\"middle\" x=\"113.748\" y=\"-61.048\" font-family=\"Times New Roman,serif\" font-size=\"14.00\">St1</text>\r\n</g>\r\n<!-- EMPTY&#45;&gt;St1 -->\r\n<g id=\"edge1\" class=\"edge\"><title>EMPTY&#45;&gt;St1</title>\r\n<path fill=\"none\" stroke=\"black\" d=\"M54.3502,-64.748C62.71,-64.748 72.0455,-64.748 80.757,-64.748\"/>\r\n<polygon fill=\"black\" stroke=\"black\" points=\"80.9663,-68.2481 90.9663,-64.748 80.9662,-61.2481 80.9663,-68.2481\"/>\r\n</g>\r\n<!-- St7 -->\r\n<g id=\"node3\" class=\"node\"><title>St7</title>\r\n<ellipse fill=\"none\" stroke=\"black\" cx=\"312.74\" cy=\"-90.748\" rx=\"22.9609\" ry=\"22.9609\"/>\r\n<ellipse fill=\"none\" stroke=\"black\" cx=\"312.74\" cy=\"-90.748\" rx=\"26.9983\" ry=\"26.9983\"/>\r\n<text text-anchor=\"middle\" x=\"312.74\" y=\"-87.048\" font-family=\"Times New Roman,serif\" font-size=\"14.00\">St7</text>\r\n</g>\r\n<!-- St1&#45;&gt;St7 -->\r\n<g id=\"edge4\" class=\"edge\"><title>St1&#45;&gt;St7</title>\r\n<path fill=\"none\" stroke=\"black\" d=\"M133.847,-75.8588C147.464,-83.1136 166.478,-91.9242 184.496,-95.748 214.908,-102.202 250.304,-100.057 276.032,-96.8121\"/>\r\n<polygon fill=\"black\" stroke=\"black\" points=\"276.648,-100.26 286.077,-95.428 275.693,-93.3258 276.648,-100.26\"/>\r\n<text text-anchor=\"middle\" x=\"211.244\" y=\"-103.548\" font-family=\"Times New Roman,serif\" font-size=\"14.00\">c </text>\r\n</g>\r\n<!-- St4 -->\r\n<g id=\"node5\" class=\"node\"><title>St4</title>\r\n<ellipse fill=\"none\" stroke=\"black\" cx=\"211.244\" cy=\"-26.748\" rx=\"22.9609\" ry=\"22.9609\"/>\r\n<ellipse fill=\"none\" stroke=\"black\" cx=\"211.244\" cy=\"-26.748\" rx=\"26.9983\" ry=\"26.9983\"/>\r\n<text text-anchor=\"middle\" x=\"211.244\" y=\"-23.048\" font-family=\"Times New Roman,serif\" font-size=\"14.00\">St4</text>\r\n</g>\r\n<!-- St1&#45;&gt;St4 -->\r\n<g id=\"edge2\" class=\"edge\"><title>St1&#45;&gt;St4</title>\r\n<path fill=\"none\" stroke=\"black\" d=\"M135.469,-56.5025C147.476,-51.7249 162.882,-45.5944 176.587,-40.1409\"/>\r\n<polygon fill=\"black\" stroke=\"black\" points=\"178.195,-43.2679 186.193,-36.3186 175.607,-36.7639 178.195,-43.2679\"/>\r\n<text text-anchor=\"middle\" x=\"160.496\" y=\"-52.548\" font-family=\"Times New Roman,serif\" font-size=\"14.00\">f </text>\r\n</g>\r\n<!-- St1&#45;&gt;St4 -->\r\n<g id=\"edge3\" class=\"edge\"><title>St1&#45;&gt;St4</title>\r\n<path fill=\"none\" stroke=\"black\" d=\"M127.74,-46.7296C134.666,-38.6867 143.936,-30.0635 154.496,-25.748 160.67,-23.2247 167.56,-22.1323 174.332,-21.8832\"/>\r\n<polygon fill=\"black\" stroke=\"black\" points=\"174.687,-25.3913 184.758,-22.1015 174.834,-18.3928 174.687,-25.3913\"/>\r\n<text text-anchor=\"middle\" x=\"160.496\" y=\"-29.548\" font-family=\"Times New Roman,serif\" font-size=\"14.00\">d </text>\r\n</g>\r\n<!-- St3 -->\r\n<g id=\"node4\" class=\"node\"><title>St3</title>\r\n<ellipse fill=\"none\" stroke=\"black\" cx=\"412.236\" cy=\"-90.748\" rx=\"22.9609\" ry=\"22.9609\"/>\r\n<ellipse fill=\"none\" stroke=\"black\" cx=\"412.236\" cy=\"-90.748\" rx=\"26.9983\" ry=\"26.9983\"/>\r\n<text text-anchor=\"middle\" x=\"412.236\" y=\"-87.048\" font-family=\"Times New Roman,serif\" font-size=\"14.00\">St3</text>\r\n</g>\r\n<!-- St7&#45;&gt;St3 -->\r\n<g id=\"edge7\" class=\"edge\"><title>St7&#45;&gt;St3</title>\r\n<path fill=\"none\" stroke=\"black\" d=\"M339.611,-90.748C350.519,-90.748 363.404,-90.748 375.216,-90.748\"/>\r\n<polygon fill=\"black\" stroke=\"black\" points=\"375.244,-94.2481 385.244,-90.748 375.244,-87.2481 375.244,-94.2481\"/>\r\n<text text-anchor=\"middle\" x=\"362.488\" y=\"-94.548\" font-family=\"Times New Roman,serif\" font-size=\"14.00\">a </text>\r\n</g>\r\n<!-- St4&#45;&gt;St7 -->\r\n<g id=\"edge5\" class=\"edge\"><title>St4&#45;&gt;St7</title>\r\n<path fill=\"none\" stroke=\"black\" d=\"M234.325,-40.9517C248.108,-49.8175 266.046,-61.3557 281.184,-71.0929\"/>\r\n<polygon fill=\"black\" stroke=\"black\" points=\"279.416,-74.1177 289.72,-76.584 283.203,-68.2305 279.416,-74.1177\"/>\r\n<text text-anchor=\"middle\" x=\"261.992\" y=\"-66.548\" font-family=\"Times New Roman,serif\" font-size=\"14.00\">b </text>\r\n</g>\r\n<!-- St4&#45;&gt;St4 -->\r\n<g id=\"edge6\" class=\"edge\"><title>St4&#45;&gt;St4</title>\r\n<path fill=\"none\" stroke=\"black\" d=\"M201.951,-52.049C201.31,-62.574 204.408,-71.496 211.244,-71.496 215.73,-71.496 218.606,-67.6536 219.872,-62.0374\"/>\r\n<polygon fill=\"black\" stroke=\"black\" points=\"223.365,-62.2592 220.537,-52.049 216.381,-61.7946 223.365,-62.2592\"/>\r\n<text text-anchor=\"middle\" x=\"211.244\" y=\"-75.296\" font-family=\"Times New Roman,serif\" font-size=\"14.00\">s </text>\r\n</g>\r\n</g>\r\n</svg>\r\n"
     },
     "metadata": {},
     "execution_count": 103
    }
   ],
   "source": [
    "dotObj_dfa(min_dfa(nfa2dfa(re2nfa(Rev_RE1_hand))))"
   ]
  },
  {
   "cell_type": "markdown",
   "metadata": {},
   "source": [
    "## 3(d)i Check for isomorphism as requested between `Rev_RE1` and `Rev_RE1_hand`\n",
    "\n",
    "Same methods as above."
   ]
  },
  {
   "cell_type": "code",
   "execution_count": 104,
   "metadata": {},
   "outputs": [
    {
     "output_type": "execute_result",
     "data": {
      "text/plain": "True"
     },
     "metadata": {},
     "execution_count": 104
    }
   ],
   "source": [
    "iso_dfa(min_dfa(nfa2dfa(re2nfa(Rev_RE1))), min_dfa(nfa2dfa(re2nfa(Rev_RE1_hand))))"
   ]
  },
  {
   "cell_type": "markdown",
   "metadata": {},
   "source": [
    "# Chasing down the `RE2NFA` components (SV)\n",
    "\n",
    "Find out where the `s*` components are and explain the set of all strings that precede `s*` in `Rev_RE2` and the NFA of `Rev_RE2`\n",
    "\n",
    "Find out where the ending `\"a\"` is, and find out the set of all the symbols that precede a\n",
    "\n",
    "Let's first look at the NFA and then see where the RE \"parts\" are in it."
   ]
  },
  {
   "cell_type": "code",
   "execution_count": 105,
   "metadata": {
    "scrolled": true
   },
   "outputs": [
    {
     "output_type": "execute_result",
     "data": {
      "text/plain": "<graphviz.dot.Digraph at 0x1dab52f8a30>",
      "image/svg+xml": "<?xml version=\"1.0\" encoding=\"UTF-8\" standalone=\"no\"?>\r\n<!DOCTYPE svg PUBLIC \"-//W3C//DTD SVG 1.1//EN\"\r\n \"http://www.w3.org/Graphics/SVG/1.1/DTD/svg11.dtd\">\r\n<!-- Generated by graphviz version 2.38.0 (20140413.2041)\r\n -->\r\n<!-- Title: %3 Pages: 1 -->\r\n<svg width=\"873pt\" height=\"693pt\"\r\n viewBox=\"0.00 0.00 873.36 692.60\" xmlns=\"http://www.w3.org/2000/svg\" xmlns:xlink=\"http://www.w3.org/1999/xlink\">\r\n<g id=\"graph0\" class=\"graph\" transform=\"scale(1 1) rotate(0) translate(4 688.595)\">\r\n<title>%3</title>\r\n<polygon fill=\"white\" stroke=\"none\" points=\"-4,4 -4,-688.595 869.356,-688.595 869.356,4 -4,4\"/>\r\n<!-- EMPTY -->\r\n<g id=\"node1\" class=\"node\"><title>EMPTY</title>\r\n</g>\r\n<!-- St24 -->\r\n<g id=\"node3\" class=\"node\"><title>St24</title>\r\n<ellipse fill=\"none\" stroke=\"black\" cx=\"118.298\" cy=\"-657.298\" rx=\"27.0966\" ry=\"27.0966\"/>\r\n<text text-anchor=\"middle\" x=\"118.298\" y=\"-653.598\" font-family=\"Times New Roman,serif\" font-size=\"14.00\">St24</text>\r\n</g>\r\n<!-- EMPTY&#45;&gt;St24 -->\r\n<g id=\"edge3\" class=\"edge\"><title>EMPTY&#45;&gt;St24</title>\r\n<path fill=\"none\" stroke=\"black\" d=\"M29.1783,-335.496C32.8477,-383.819 46.6264,-518.607 91,-620.298 92.1524,-622.939 93.512,-625.58 94.9962,-628.168\"/>\r\n<polygon fill=\"black\" stroke=\"black\" points=\"92.0867,-630.115 100.402,-636.681 97.996,-626.362 92.0867,-630.115\"/>\r\n</g>\r\n<!-- St3 -->\r\n<g id=\"node4\" class=\"node\"><title>St3</title>\r\n<ellipse fill=\"none\" stroke=\"black\" cx=\"118.298\" cy=\"-317.298\" rx=\"22.9987\" ry=\"22.9987\"/>\r\n<text text-anchor=\"middle\" x=\"118.298\" y=\"-313.598\" font-family=\"Times New Roman,serif\" font-size=\"14.00\">St3</text>\r\n</g>\r\n<!-- EMPTY&#45;&gt;St3 -->\r\n<g id=\"edge10\" class=\"edge\"><title>EMPTY&#45;&gt;St3</title>\r\n<path fill=\"none\" stroke=\"black\" d=\"M54.3092,-317.298C64.0077,-317.298 75.1035,-317.298 85.2528,-317.298\"/>\r\n<polygon fill=\"black\" stroke=\"black\" points=\"85.3887,-320.798 95.3886,-317.298 85.3886,-313.798 85.3887,-320.798\"/>\r\n</g>\r\n<!-- St14 -->\r\n<g id=\"node5\" class=\"node\"><title>St14</title>\r\n<ellipse fill=\"none\" stroke=\"black\" cx=\"336.083\" cy=\"-271.298\" rx=\"27.0966\" ry=\"27.0966\"/>\r\n<text text-anchor=\"middle\" x=\"336.083\" y=\"-267.598\" font-family=\"Times New Roman,serif\" font-size=\"14.00\">St14</text>\r\n</g>\r\n<!-- EMPTY&#45;&gt;St14 -->\r\n<g id=\"edge4\" class=\"edge\"><title>EMPTY&#45;&gt;St14</title>\r\n<path fill=\"none\" stroke=\"black\" d=\"M54.3033,-300.872C65.2421,-294.87 78.3272,-288.718 91,-285.298 162.583,-265.976 250.123,-266.504 298.513,-268.789\"/>\r\n<polygon fill=\"black\" stroke=\"black\" points=\"298.342,-272.285 308.511,-269.314 298.708,-265.295 298.342,-272.285\"/>\r\n</g>\r\n<!-- St20 -->\r\n<g id=\"node6\" class=\"node\"><title>St20</title>\r\n<ellipse fill=\"none\" stroke=\"black\" cx=\"118.298\" cy=\"-511.298\" rx=\"27.0966\" ry=\"27.0966\"/>\r\n<text text-anchor=\"middle\" x=\"118.298\" y=\"-507.598\" font-family=\"Times New Roman,serif\" font-size=\"14.00\">St20</text>\r\n</g>\r\n<!-- EMPTY&#45;&gt;St20 -->\r\n<g id=\"edge5\" class=\"edge\"><title>EMPTY&#45;&gt;St20</title>\r\n<path fill=\"none\" stroke=\"black\" d=\"M33.5928,-335.496C43.2059,-365.604 64.4184,-427.231 91,-475.298 92.126,-477.334 93.3503,-479.388 94.6341,-481.428\"/>\r\n<polygon fill=\"black\" stroke=\"black\" points=\"92.0381,-483.84 100.525,-490.183 97.8458,-479.932 92.0381,-483.84\"/>\r\n</g>\r\n<!-- St31 -->\r\n<g id=\"node11\" class=\"node\"><title>St31</title>\r\n<ellipse fill=\"none\" stroke=\"black\" cx=\"118.298\" cy=\"-100.298\" rx=\"27.0966\" ry=\"27.0966\"/>\r\n<text text-anchor=\"middle\" x=\"118.298\" y=\"-96.5976\" font-family=\"Times New Roman,serif\" font-size=\"14.00\">St31</text>\r\n</g>\r\n<!-- EMPTY&#45;&gt;St31 -->\r\n<g id=\"edge1\" class=\"edge\"><title>EMPTY&#45;&gt;St31</title>\r\n<path fill=\"none\" stroke=\"black\" d=\"M32.5037,-299.241C41.1789,-266.02 61.9503,-193.468 91,-137.298 92.2037,-134.97 93.5384,-132.623 94.9497,-130.301\"/>\r\n<polygon fill=\"black\" stroke=\"black\" points=\"98.1202,-131.847 100.658,-121.56 92.2593,-128.019 98.1202,-131.847\"/>\r\n</g>\r\n<!-- St33 -->\r\n<g id=\"node15\" class=\"node\"><title>St33</title>\r\n<ellipse fill=\"none\" stroke=\"black\" cx=\"118.298\" cy=\"-173.298\" rx=\"27.0966\" ry=\"27.0966\"/>\r\n<text text-anchor=\"middle\" x=\"118.298\" y=\"-169.598\" font-family=\"Times New Roman,serif\" font-size=\"14.00\">St33</text>\r\n</g>\r\n<!-- EMPTY&#45;&gt;St33 -->\r\n<g id=\"edge6\" class=\"edge\"><title>EMPTY&#45;&gt;St33</title>\r\n<path fill=\"none\" stroke=\"black\" d=\"M33.1806,-298.966C39.8566,-277.372 52.9208,-241.054 72,-214.298 76.6764,-207.739 82.5643,-201.464 88.5333,-195.881\"/>\r\n<polygon fill=\"black\" stroke=\"black\" points=\"90.8946,-198.465 96.0525,-189.211 86.2492,-193.229 90.8946,-198.465\"/>\r\n</g>\r\n<!-- St22 -->\r\n<g id=\"node18\" class=\"node\"><title>St22</title>\r\n<ellipse fill=\"none\" stroke=\"black\" cx=\"118.298\" cy=\"-584.298\" rx=\"27.0966\" ry=\"27.0966\"/>\r\n<text text-anchor=\"middle\" x=\"118.298\" y=\"-580.598\" font-family=\"Times New Roman,serif\" font-size=\"14.00\">St22</text>\r\n</g>\r\n<!-- EMPTY&#45;&gt;St22 -->\r\n<g id=\"edge8\" class=\"edge\"><title>EMPTY&#45;&gt;St22</title>\r\n<path fill=\"none\" stroke=\"black\" d=\"M30.7306,-335.355C37.217,-375.164 55.7115,-472.849 91,-547.298 92.1624,-549.75 93.488,-552.212 94.9118,-554.637\"/>\r\n<polygon fill=\"black\" stroke=\"black\" points=\"92.0389,-556.641 100.382,-563.171 97.9323,-552.864 92.0389,-556.641\"/>\r\n</g>\r\n<!-- St12 -->\r\n<g id=\"node20\" class=\"node\"><title>St12</title>\r\n<ellipse fill=\"none\" stroke=\"black\" cx=\"190.893\" cy=\"-224.298\" rx=\"27.0966\" ry=\"27.0966\"/>\r\n<text text-anchor=\"middle\" x=\"190.893\" y=\"-220.598\" font-family=\"Times New Roman,serif\" font-size=\"14.00\">St12</text>\r\n</g>\r\n<!-- EMPTY&#45;&gt;St12 -->\r\n<g id=\"edge9\" class=\"edge\"><title>EMPTY&#45;&gt;St12</title>\r\n<path fill=\"none\" stroke=\"black\" d=\"M35.7333,-299.069C42.9657,-284.234 55.1812,-263.914 72,-252.298 95.9302,-235.769 128.396,-228.927 153.2,-226.129\"/>\r\n<polygon fill=\"black\" stroke=\"black\" points=\"153.693,-229.598 163.314,-225.161 153.026,-222.63 153.693,-229.598\"/>\r\n</g>\r\n<!-- St5 -->\r\n<g id=\"node23\" class=\"node\"><title>St5</title>\r\n<ellipse fill=\"none\" stroke=\"black\" cx=\"118.298\" cy=\"-443.298\" rx=\"22.9987\" ry=\"22.9987\"/>\r\n<text text-anchor=\"middle\" x=\"118.298\" y=\"-439.598\" font-family=\"Times New Roman,serif\" font-size=\"14.00\">St5</text>\r\n</g>\r\n<!-- EMPTY&#45;&gt;St5 -->\r\n<g id=\"edge2\" class=\"edge\"><title>EMPTY&#45;&gt;St5</title>\r\n<path fill=\"none\" stroke=\"black\" d=\"M39.2285,-335.591C51.3772,-355.048 71.6184,-386.511 91,-412.298 92.5584,-414.371 94.2112,-416.488 95.8994,-418.593\"/>\r\n<polygon fill=\"black\" stroke=\"black\" points=\"93.3937,-421.056 102.46,-426.538 98.7914,-416.598 93.3937,-421.056\"/>\r\n</g>\r\n<!-- St1 -->\r\n<g id=\"node27\" class=\"node\"><title>St1</title>\r\n<ellipse fill=\"none\" stroke=\"black\" cx=\"118.298\" cy=\"-380.298\" rx=\"22.9987\" ry=\"22.9987\"/>\r\n<text text-anchor=\"middle\" x=\"118.298\" y=\"-376.598\" font-family=\"Times New Roman,serif\" font-size=\"14.00\">St1</text>\r\n</g>\r\n<!-- EMPTY&#45;&gt;St1 -->\r\n<g id=\"edge7\" class=\"edge\"><title>EMPTY&#45;&gt;St1</title>\r\n<path fill=\"none\" stroke=\"black\" d=\"M53.8286,-335.52C65.4038,-343.686 79.0446,-353.31 90.7081,-361.539\"/>\r\n<polygon fill=\"black\" stroke=\"black\" points=\"88.9859,-364.607 99.1748,-367.512 93.0213,-358.887 88.9859,-364.607\"/>\r\n</g>\r\n<!-- St29 -->\r\n<g id=\"node33\" class=\"node\"><title>St29</title>\r\n<ellipse fill=\"none\" stroke=\"black\" cx=\"118.298\" cy=\"-27.2976\" rx=\"27.0966\" ry=\"27.0966\"/>\r\n<text text-anchor=\"middle\" x=\"118.298\" y=\"-23.5976\" font-family=\"Times New Roman,serif\" font-size=\"14.00\">St29</text>\r\n</g>\r\n<!-- EMPTY&#45;&gt;St29 -->\r\n<g id=\"edge11\" class=\"edge\"><title>EMPTY&#45;&gt;St29</title>\r\n<path fill=\"none\" stroke=\"black\" d=\"M30.1694,-299.048C35.7453,-256.325 52.8969,-147.166 91,-64.2976 92.1338,-61.8318 93.4384,-59.3599 94.8474,-56.928\"/>\r\n<polygon fill=\"black\" stroke=\"black\" points=\"97.8713,-58.6954 100.288,-48.3799 91.9659,-54.9368 97.8713,-58.6954\"/>\r\n</g>\r\n<!-- St15 -->\r\n<g id=\"node2\" class=\"node\"><title>St15</title>\r\n<ellipse fill=\"none\" stroke=\"black\" cx=\"620.869\" cy=\"-271.298\" rx=\"27.0966\" ry=\"27.0966\"/>\r\n<text text-anchor=\"middle\" x=\"620.869\" y=\"-267.598\" font-family=\"Times New Roman,serif\" font-size=\"14.00\">St15</text>\r\n</g>\r\n<!-- St16 -->\r\n<g id=\"node13\" class=\"node\"><title>St16</title>\r\n<ellipse fill=\"none\" stroke=\"black\" cx=\"725.464\" cy=\"-159.298\" rx=\"27.0966\" ry=\"27.0966\"/>\r\n<text text-anchor=\"middle\" x=\"725.464\" y=\"-155.598\" font-family=\"Times New Roman,serif\" font-size=\"14.00\">St16</text>\r\n</g>\r\n<!-- St15&#45;&gt;St16 -->\r\n<g id=\"edge28\" class=\"edge\"><title>St15&#45;&gt;St16</title>\r\n<path fill=\"none\" stroke=\"black\" d=\"M638.172,-249.852C641.661,-244.866 645.188,-239.494 648.166,-234.298 657.859,-217.383 653.217,-208.87 666.166,-194.298 673.106,-186.488 682.214,-179.895 691.163,-174.611\"/>\r\n<polygon fill=\"black\" stroke=\"black\" points=\"692.896,-177.652 699.972,-169.767 689.523,-171.518 692.896,-177.652\"/>\r\n<text text-anchor=\"middle\" x=\"671.166\" y=\"-198.098\" font-family=\"Times New Roman,serif\" font-size=\"14.00\">&#39;&#39; </text>\r\n</g>\r\n<!-- St19 -->\r\n<g id=\"node34\" class=\"node\"><title>St19</title>\r\n<ellipse fill=\"none\" stroke=\"black\" cx=\"725.464\" cy=\"-236.298\" rx=\"27.1222\" ry=\"27.1222\"/>\r\n<ellipse fill=\"none\" stroke=\"black\" cx=\"725.464\" cy=\"-236.298\" rx=\"31.0965\" ry=\"31.0965\"/>\r\n<text text-anchor=\"middle\" x=\"725.464\" y=\"-232.598\" font-family=\"Times New Roman,serif\" font-size=\"14.00\">St19</text>\r\n</g>\r\n<!-- St15&#45;&gt;St19 -->\r\n<g id=\"edge26\" class=\"edge\"><title>St15&#45;&gt;St19</title>\r\n<path fill=\"none\" stroke=\"black\" d=\"M640.972,-252.368C648.252,-246.38 657.013,-240.493 666.166,-237.298 671.799,-235.331 677.928,-234.217 684.026,-233.667\"/>\r\n<polygon fill=\"black\" stroke=\"black\" points=\"684.33,-237.157 694.167,-233.224 684.024,-230.164 684.33,-237.157\"/>\r\n<text text-anchor=\"middle\" x=\"671.166\" y=\"-241.098\" font-family=\"Times New Roman,serif\" font-size=\"14.00\">&#39;&#39; </text>\r\n</g>\r\n<!-- St18 -->\r\n<g id=\"node36\" class=\"node\"><title>St18</title>\r\n<ellipse fill=\"none\" stroke=\"black\" cx=\"725.464\" cy=\"-350.298\" rx=\"27.1222\" ry=\"27.1222\"/>\r\n<ellipse fill=\"none\" stroke=\"black\" cx=\"725.464\" cy=\"-350.298\" rx=\"31.0965\" ry=\"31.0965\"/>\r\n<text text-anchor=\"middle\" x=\"725.464\" y=\"-346.598\" font-family=\"Times New Roman,serif\" font-size=\"14.00\">St18</text>\r\n</g>\r\n<!-- St15&#45;&gt;St18 -->\r\n<g id=\"edge27\" class=\"edge\"><title>St15&#45;&gt;St18</title>\r\n<path fill=\"none\" stroke=\"black\" d=\"M635.651,-294.623C643.398,-306.07 653.962,-319.296 666.166,-328.298 671.898,-332.526 678.539,-336.034 685.24,-338.913\"/>\r\n<polygon fill=\"black\" stroke=\"black\" points=\"684.415,-342.347 695.005,-342.692 686.942,-335.819 684.415,-342.347\"/>\r\n<text text-anchor=\"middle\" x=\"671.166\" y=\"-339.098\" font-family=\"Times New Roman,serif\" font-size=\"14.00\">&#39;&#39; </text>\r\n</g>\r\n<!-- St25 -->\r\n<g id=\"node19\" class=\"node\"><title>St25</title>\r\n<ellipse fill=\"none\" stroke=\"black\" cx=\"263.488\" cy=\"-657.298\" rx=\"27.0966\" ry=\"27.0966\"/>\r\n<text text-anchor=\"middle\" x=\"263.488\" y=\"-653.598\" font-family=\"Times New Roman,serif\" font-size=\"14.00\">St25</text>\r\n</g>\r\n<!-- St24&#45;&gt;St25 -->\r\n<g id=\"edge37\" class=\"edge\"><title>St24&#45;&gt;St25</title>\r\n<path fill=\"none\" stroke=\"black\" d=\"M145.895,-657.298C168.399,-657.298 200.879,-657.298 225.844,-657.298\"/>\r\n<polygon fill=\"black\" stroke=\"black\" points=\"226.033,-660.798 236.033,-657.298 226.033,-653.798 226.033,-660.798\"/>\r\n<text text-anchor=\"middle\" x=\"190.893\" y=\"-661.098\" font-family=\"Times New Roman,serif\" font-size=\"14.00\">f </text>\r\n</g>\r\n<!-- St4 -->\r\n<g id=\"node29\" class=\"node\"><title>St4</title>\r\n<ellipse fill=\"none\" stroke=\"black\" cx=\"263.488\" cy=\"-317.298\" rx=\"22.9987\" ry=\"22.9987\"/>\r\n<text text-anchor=\"middle\" x=\"263.488\" y=\"-313.598\" font-family=\"Times New Roman,serif\" font-size=\"14.00\">St4</text>\r\n</g>\r\n<!-- St3&#45;&gt;St4 -->\r\n<g id=\"edge13\" class=\"edge\"><title>St3&#45;&gt;St4</title>\r\n<path fill=\"none\" stroke=\"black\" d=\"M141.357,-317.298C165.181,-317.298 203.359,-317.298 230.481,-317.298\"/>\r\n<polygon fill=\"black\" stroke=\"black\" points=\"230.638,-320.798 240.638,-317.298 230.638,-313.798 230.638,-320.798\"/>\r\n<text text-anchor=\"middle\" x=\"190.893\" y=\"-321.098\" font-family=\"Times New Roman,serif\" font-size=\"14.00\">f </text>\r\n</g>\r\n<!-- St14&#45;&gt;St15 -->\r\n<g id=\"edge24\" class=\"edge\"><title>St14&#45;&gt;St15</title>\r\n<path fill=\"none\" stroke=\"black\" d=\"M363.433,-271.298C414.161,-271.298 525.476,-271.298 583.329,-271.298\"/>\r\n<polygon fill=\"black\" stroke=\"black\" points=\"583.483,-274.798 593.483,-271.298 583.483,-267.798 583.483,-274.798\"/>\r\n<text text-anchor=\"middle\" x=\"467.476\" y=\"-275.098\" font-family=\"Times New Roman,serif\" font-size=\"14.00\">c </text>\r\n</g>\r\n<!-- St21 -->\r\n<g id=\"node28\" class=\"node\"><title>St21</title>\r\n<ellipse fill=\"none\" stroke=\"black\" cx=\"263.488\" cy=\"-511.298\" rx=\"27.0966\" ry=\"27.0966\"/>\r\n<text text-anchor=\"middle\" x=\"263.488\" y=\"-507.598\" font-family=\"Times New Roman,serif\" font-size=\"14.00\">St21</text>\r\n</g>\r\n<!-- St20&#45;&gt;St21 -->\r\n<g id=\"edge35\" class=\"edge\"><title>St20&#45;&gt;St21</title>\r\n<path fill=\"none\" stroke=\"black\" d=\"M145.895,-511.298C168.399,-511.298 200.879,-511.298 225.844,-511.298\"/>\r\n<polygon fill=\"black\" stroke=\"black\" points=\"226.033,-514.798 236.033,-511.298 226.033,-507.798 226.033,-514.798\"/>\r\n<text text-anchor=\"middle\" x=\"190.893\" y=\"-515.098\" font-family=\"Times New Roman,serif\" font-size=\"14.00\">d </text>\r\n</g>\r\n<!-- St26 -->\r\n<g id=\"node7\" class=\"node\"><title>St26</title>\r\n<ellipse fill=\"none\" stroke=\"black\" cx=\"518.273\" cy=\"-584.298\" rx=\"27.0966\" ry=\"27.0966\"/>\r\n<text text-anchor=\"middle\" x=\"518.273\" y=\"-580.598\" font-family=\"Times New Roman,serif\" font-size=\"14.00\">St26</text>\r\n</g>\r\n<!-- St27 -->\r\n<g id=\"node32\" class=\"node\"><title>St27</title>\r\n<ellipse fill=\"none\" stroke=\"black\" cx=\"620.869\" cy=\"-524.298\" rx=\"27.0966\" ry=\"27.0966\"/>\r\n<text text-anchor=\"middle\" x=\"620.869\" y=\"-520.598\" font-family=\"Times New Roman,serif\" font-size=\"14.00\">St27</text>\r\n</g>\r\n<!-- St26&#45;&gt;St27 -->\r\n<g id=\"edge39\" class=\"edge\"><title>St26&#45;&gt;St27</title>\r\n<path fill=\"none\" stroke=\"black\" d=\"M542.1,-570.683C555.733,-562.551 573.251,-552.103 588.208,-543.181\"/>\r\n<polygon fill=\"black\" stroke=\"black\" points=\"590.337,-545.987 597.132,-537.859 586.751,-539.975 590.337,-545.987\"/>\r\n<text text-anchor=\"middle\" x=\"569.571\" y=\"-559.098\" font-family=\"Times New Roman,serif\" font-size=\"14.00\">s </text>\r\n</g>\r\n<!-- St34 -->\r\n<g id=\"node8\" class=\"node\"><title>St34</title>\r\n<ellipse fill=\"none\" stroke=\"black\" cx=\"263.488\" cy=\"-173.298\" rx=\"27.0966\" ry=\"27.0966\"/>\r\n<text text-anchor=\"middle\" x=\"263.488\" y=\"-169.598\" font-family=\"Times New Roman,serif\" font-size=\"14.00\">St34</text>\r\n</g>\r\n<!-- St37 -->\r\n<g id=\"node37\" class=\"node\"><title>St37</title>\r\n<ellipse fill=\"none\" stroke=\"black\" cx=\"412.678\" cy=\"-100.298\" rx=\"27.1222\" ry=\"27.1222\"/>\r\n<ellipse fill=\"none\" stroke=\"black\" cx=\"412.678\" cy=\"-100.298\" rx=\"31.0965\" ry=\"31.0965\"/>\r\n<text text-anchor=\"middle\" x=\"412.678\" y=\"-96.5976\" font-family=\"Times New Roman,serif\" font-size=\"14.00\">St37</text>\r\n</g>\r\n<!-- St34&#45;&gt;St37 -->\r\n<g id=\"edge51\" class=\"edge\"><title>St34&#45;&gt;St37</title>\r\n<path fill=\"none\" stroke=\"black\" d=\"M288.464,-161.406C311.928,-149.769 347.988,-131.885 375.045,-118.466\"/>\r\n<polygon fill=\"black\" stroke=\"black\" points=\"376.801,-121.502 384.205,-113.923 373.691,-115.231 376.801,-121.502\"/>\r\n<text text-anchor=\"middle\" x=\"336.083\" y=\"-154.098\" font-family=\"Times New Roman,serif\" font-size=\"14.00\">&#39;&#39; </text>\r\n</g>\r\n<!-- St36 -->\r\n<g id=\"node9\" class=\"node\"><title>St36</title>\r\n<ellipse fill=\"none\" stroke=\"black\" cx=\"620.869\" cy=\"-117.298\" rx=\"27.0966\" ry=\"27.0966\"/>\r\n<text text-anchor=\"middle\" x=\"620.869\" y=\"-113.598\" font-family=\"Times New Roman,serif\" font-size=\"14.00\">St36</text>\r\n</g>\r\n<!-- St36&#45;&gt;St37 -->\r\n<g id=\"edge49\" class=\"edge\"><title>St36&#45;&gt;St37</title>\r\n<path fill=\"none\" stroke=\"black\" d=\"M594.008,-124.205C567.852,-130.187 526.346,-136.921 490.976,-130.298 477.333,-127.743 463.002,-122.857 450.436,-117.758\"/>\r\n<polygon fill=\"black\" stroke=\"black\" points=\"451.784,-114.528 441.211,-113.852 449.055,-120.974 451.784,-114.528\"/>\r\n<text text-anchor=\"middle\" x=\"518.273\" y=\"-137.098\" font-family=\"Times New Roman,serif\" font-size=\"14.00\">&#39;&#39; </text>\r\n</g>\r\n<!-- St6 -->\r\n<g id=\"node10\" class=\"node\"><title>St6</title>\r\n<ellipse fill=\"none\" stroke=\"black\" cx=\"263.488\" cy=\"-443.298\" rx=\"22.9987\" ry=\"22.9987\"/>\r\n<text text-anchor=\"middle\" x=\"263.488\" y=\"-439.598\" font-family=\"Times New Roman,serif\" font-size=\"14.00\">St6</text>\r\n</g>\r\n<!-- St9 -->\r\n<g id=\"node16\" class=\"node\"><title>St9</title>\r\n<ellipse fill=\"none\" stroke=\"black\" cx=\"412.678\" cy=\"-397.298\" rx=\"22.9987\" ry=\"22.9987\"/>\r\n<text text-anchor=\"middle\" x=\"412.678\" y=\"-393.598\" font-family=\"Times New Roman,serif\" font-size=\"14.00\">St9</text>\r\n</g>\r\n<!-- St6&#45;&gt;St9 -->\r\n<g id=\"edge21\" class=\"edge\"><title>St6&#45;&gt;St9</title>\r\n<path fill=\"none\" stroke=\"black\" d=\"M285.577,-436.707C310.497,-428.919 352.177,-415.893 380.75,-406.963\"/>\r\n<polygon fill=\"black\" stroke=\"black\" points=\"382.128,-410.2 390.629,-403.876 380.04,-403.518 382.128,-410.2\"/>\r\n<text text-anchor=\"middle\" x=\"336.083\" y=\"-432.098\" font-family=\"Times New Roman,serif\" font-size=\"14.00\">&#39;&#39; </text>\r\n</g>\r\n<!-- St32 -->\r\n<g id=\"node12\" class=\"node\"><title>St32</title>\r\n<ellipse fill=\"none\" stroke=\"black\" cx=\"263.488\" cy=\"-100.298\" rx=\"27.0966\" ry=\"27.0966\"/>\r\n<text text-anchor=\"middle\" x=\"263.488\" y=\"-96.5976\" font-family=\"Times New Roman,serif\" font-size=\"14.00\">St32</text>\r\n</g>\r\n<!-- St31&#45;&gt;St32 -->\r\n<g id=\"edge45\" class=\"edge\"><title>St31&#45;&gt;St32</title>\r\n<path fill=\"none\" stroke=\"black\" d=\"M145.895,-100.298C168.399,-100.298 200.879,-100.298 225.844,-100.298\"/>\r\n<polygon fill=\"black\" stroke=\"black\" points=\"226.033,-103.798 236.033,-100.298 226.033,-96.7977 226.033,-103.798\"/>\r\n<text text-anchor=\"middle\" x=\"190.893\" y=\"-104.098\" font-family=\"Times New Roman,serif\" font-size=\"14.00\">f </text>\r\n</g>\r\n<!-- St32&#45;&gt;St37 -->\r\n<g id=\"edge50\" class=\"edge\"><title>St32&#45;&gt;St37</title>\r\n<path fill=\"none\" stroke=\"black\" d=\"M290.803,-100.298C313.114,-100.298 345.48,-100.298 371.106,-100.298\"/>\r\n<polygon fill=\"black\" stroke=\"black\" points=\"371.271,-103.798 381.271,-100.298 371.271,-96.7977 371.271,-103.798\"/>\r\n<text text-anchor=\"middle\" x=\"336.083\" y=\"-104.098\" font-family=\"Times New Roman,serif\" font-size=\"14.00\">&#39;&#39; </text>\r\n</g>\r\n<!-- St17 -->\r\n<g id=\"node35\" class=\"node\"><title>St17</title>\r\n<ellipse fill=\"none\" stroke=\"black\" cx=\"834.059\" cy=\"-159.298\" rx=\"27.1222\" ry=\"27.1222\"/>\r\n<ellipse fill=\"none\" stroke=\"black\" cx=\"834.059\" cy=\"-159.298\" rx=\"31.0965\" ry=\"31.0965\"/>\r\n<text text-anchor=\"middle\" x=\"834.059\" y=\"-155.598\" font-family=\"Times New Roman,serif\" font-size=\"14.00\">St17</text>\r\n</g>\r\n<!-- St16&#45;&gt;St17 -->\r\n<g id=\"edge25\" class=\"edge\"><title>St16&#45;&gt;St17</title>\r\n<path fill=\"none\" stroke=\"black\" d=\"M752.813,-159.298C764.683,-159.298 778.973,-159.298 792.184,-159.298\"/>\r\n<polygon fill=\"black\" stroke=\"black\" points=\"792.482,-162.798 802.482,-159.298 792.482,-155.798 792.482,-162.798\"/>\r\n<text text-anchor=\"middle\" x=\"779.761\" y=\"-163.098\" font-family=\"Times New Roman,serif\" font-size=\"14.00\">a </text>\r\n</g>\r\n<!-- St7 -->\r\n<g id=\"node14\" class=\"node\"><title>St7</title>\r\n<ellipse fill=\"none\" stroke=\"black\" cx=\"518.273\" cy=\"-408.298\" rx=\"22.9987\" ry=\"22.9987\"/>\r\n<text text-anchor=\"middle\" x=\"518.273\" y=\"-404.598\" font-family=\"Times New Roman,serif\" font-size=\"14.00\">St7</text>\r\n</g>\r\n<!-- St8 -->\r\n<g id=\"node30\" class=\"node\"><title>St8</title>\r\n<ellipse fill=\"none\" stroke=\"black\" cx=\"620.869\" cy=\"-450.298\" rx=\"22.9987\" ry=\"22.9987\"/>\r\n<text text-anchor=\"middle\" x=\"620.869\" y=\"-446.598\" font-family=\"Times New Roman,serif\" font-size=\"14.00\">St8</text>\r\n</g>\r\n<!-- St7&#45;&gt;St8 -->\r\n<g id=\"edge17\" class=\"edge\"><title>St7&#45;&gt;St8</title>\r\n<path fill=\"none\" stroke=\"black\" d=\"M539.63,-416.797C554.083,-422.831 573.722,-431.031 589.953,-437.807\"/>\r\n<polygon fill=\"black\" stroke=\"black\" points=\"588.965,-441.188 599.542,-441.811 591.662,-434.728 588.965,-441.188\"/>\r\n<text text-anchor=\"middle\" x=\"569.571\" y=\"-435.098\" font-family=\"Times New Roman,serif\" font-size=\"14.00\">s </text>\r\n</g>\r\n<!-- St33&#45;&gt;St34 -->\r\n<g id=\"edge46\" class=\"edge\"><title>St33&#45;&gt;St34</title>\r\n<path fill=\"none\" stroke=\"black\" d=\"M145.895,-173.298C168.399,-173.298 200.879,-173.298 225.844,-173.298\"/>\r\n<polygon fill=\"black\" stroke=\"black\" points=\"226.033,-176.798 236.033,-173.298 226.033,-169.798 226.033,-176.798\"/>\r\n<text text-anchor=\"middle\" x=\"190.893\" y=\"-177.098\" font-family=\"Times New Roman,serif\" font-size=\"14.00\">f </text>\r\n</g>\r\n<!-- St9&#45;&gt;St7 -->\r\n<g id=\"edge15\" class=\"edge\"><title>St9&#45;&gt;St7</title>\r\n<path fill=\"none\" stroke=\"black\" d=\"M435.395,-399.604C449.899,-401.144 469.218,-403.195 485.447,-404.918\"/>\r\n<polygon fill=\"black\" stroke=\"black\" points=\"485.271,-408.419 495.585,-405.995 486.011,-401.458 485.271,-408.419\"/>\r\n<text text-anchor=\"middle\" x=\"467.476\" y=\"-408.098\" font-family=\"Times New Roman,serif\" font-size=\"14.00\">&#39;&#39; </text>\r\n</g>\r\n<!-- St10 -->\r\n<g id=\"node26\" class=\"node\"><title>St10</title>\r\n<ellipse fill=\"none\" stroke=\"black\" cx=\"518.273\" cy=\"-340.298\" rx=\"27.0966\" ry=\"27.0966\"/>\r\n<text text-anchor=\"middle\" x=\"518.273\" y=\"-336.598\" font-family=\"Times New Roman,serif\" font-size=\"14.00\">St10</text>\r\n</g>\r\n<!-- St9&#45;&gt;St10 -->\r\n<g id=\"edge16\" class=\"edge\"><title>St9&#45;&gt;St10</title>\r\n<path fill=\"none\" stroke=\"black\" d=\"M433.164,-386.576C447.703,-378.577 467.897,-367.465 484.854,-358.135\"/>\r\n<polygon fill=\"black\" stroke=\"black\" points=\"486.811,-361.053 493.885,-353.166 483.437,-354.92 486.811,-361.053\"/>\r\n<text text-anchor=\"middle\" x=\"467.476\" y=\"-375.098\" font-family=\"Times New Roman,serif\" font-size=\"14.00\">&#39;&#39; </text>\r\n</g>\r\n<!-- St13 -->\r\n<g id=\"node17\" class=\"node\"><title>St13</title>\r\n<ellipse fill=\"none\" stroke=\"black\" cx=\"620.869\" cy=\"-198.298\" rx=\"27.0966\" ry=\"27.0966\"/>\r\n<text text-anchor=\"middle\" x=\"620.869\" y=\"-194.598\" font-family=\"Times New Roman,serif\" font-size=\"14.00\">St13</text>\r\n</g>\r\n<!-- St13&#45;&gt;St16 -->\r\n<g id=\"edge34\" class=\"edge\"><title>St13&#45;&gt;St16</title>\r\n<path fill=\"none\" stroke=\"black\" d=\"M635.369,-175.134C648.155,-153.242 665.505,-123.675 666.166,-123.298 677.527,-116.813 689.885,-122.543 700.287,-131.189\"/>\r\n<polygon fill=\"black\" stroke=\"black\" points=\"698.113,-133.949 707.811,-138.216 702.891,-128.833 698.113,-133.949\"/>\r\n<text text-anchor=\"middle\" x=\"671.166\" y=\"-127.098\" font-family=\"Times New Roman,serif\" font-size=\"14.00\">&#39;&#39; </text>\r\n</g>\r\n<!-- St13&#45;&gt;St19 -->\r\n<g id=\"edge32\" class=\"edge\"><title>St13&#45;&gt;St19</title>\r\n<path fill=\"none\" stroke=\"black\" d=\"M647.142,-206.255C656.331,-209.258 666.766,-212.798 676.166,-216.298 679.69,-217.61 683.339,-219.021 686.98,-220.465\"/>\r\n<polygon fill=\"black\" stroke=\"black\" points=\"685.924,-223.813 696.507,-224.318 688.549,-217.324 685.924,-223.813\"/>\r\n<text text-anchor=\"middle\" x=\"671.166\" y=\"-220.098\" font-family=\"Times New Roman,serif\" font-size=\"14.00\">&#39;&#39; </text>\r\n</g>\r\n<!-- St13&#45;&gt;St18 -->\r\n<g id=\"edge33\" class=\"edge\"><title>St13&#45;&gt;St18</title>\r\n<path fill=\"none\" stroke=\"black\" d=\"M638.589,-219.519C642.056,-224.516 645.469,-229.95 648.166,-235.298 659.748,-258.263 652.862,-268.285 666.166,-290.298 673.47,-302.382 683.634,-313.941 693.432,-323.631\"/>\r\n<polygon fill=\"black\" stroke=\"black\" points=\"691.147,-326.288 700.8,-330.654 695.977,-321.221 691.147,-326.288\"/>\r\n<text text-anchor=\"middle\" x=\"671.166\" y=\"-308.098\" font-family=\"Times New Roman,serif\" font-size=\"14.00\">&#39;&#39; </text>\r\n</g>\r\n<!-- St23 -->\r\n<g id=\"node25\" class=\"node\"><title>St23</title>\r\n<ellipse fill=\"none\" stroke=\"black\" cx=\"263.488\" cy=\"-584.298\" rx=\"27.0966\" ry=\"27.0966\"/>\r\n<text text-anchor=\"middle\" x=\"263.488\" y=\"-580.598\" font-family=\"Times New Roman,serif\" font-size=\"14.00\">St23</text>\r\n</g>\r\n<!-- St22&#45;&gt;St23 -->\r\n<g id=\"edge36\" class=\"edge\"><title>St22&#45;&gt;St23</title>\r\n<path fill=\"none\" stroke=\"black\" d=\"M145.895,-584.298C168.399,-584.298 200.879,-584.298 225.844,-584.298\"/>\r\n<polygon fill=\"black\" stroke=\"black\" points=\"226.033,-587.798 236.033,-584.298 226.033,-580.798 226.033,-587.798\"/>\r\n<text text-anchor=\"middle\" x=\"190.893\" y=\"-588.098\" font-family=\"Times New Roman,serif\" font-size=\"14.00\">f </text>\r\n</g>\r\n<!-- St28 -->\r\n<g id=\"node38\" class=\"node\"><title>St28</title>\r\n<ellipse fill=\"none\" stroke=\"black\" cx=\"412.678\" cy=\"-584.298\" rx=\"27.1222\" ry=\"27.1222\"/>\r\n<ellipse fill=\"none\" stroke=\"black\" cx=\"412.678\" cy=\"-584.298\" rx=\"31.0965\" ry=\"31.0965\"/>\r\n<text text-anchor=\"middle\" x=\"412.678\" y=\"-580.598\" font-family=\"Times New Roman,serif\" font-size=\"14.00\">St28</text>\r\n</g>\r\n<!-- St25&#45;&gt;St28 -->\r\n<g id=\"edge43\" class=\"edge\"><title>St25&#45;&gt;St28</title>\r\n<path fill=\"none\" stroke=\"black\" d=\"M288.464,-645.406C311.928,-633.769 347.988,-615.885 375.045,-602.466\"/>\r\n<polygon fill=\"black\" stroke=\"black\" points=\"376.801,-605.502 384.205,-597.923 373.691,-599.231 376.801,-605.502\"/>\r\n<text text-anchor=\"middle\" x=\"336.083\" y=\"-637.098\" font-family=\"Times New Roman,serif\" font-size=\"14.00\">&#39;&#39; </text>\r\n</g>\r\n<!-- St12&#45;&gt;St13 -->\r\n<g id=\"edge23\" class=\"edge\"><title>St12&#45;&gt;St13</title>\r\n<path fill=\"none\" stroke=\"black\" d=\"M218.278,-225.476C247.003,-226.656 294.298,-228.298 335.083,-228.298 335.083,-228.298 335.083,-228.298 519.273,-228.298 542.242,-228.298 566.976,-221.027 586.171,-213.644\"/>\r\n<polygon fill=\"black\" stroke=\"black\" points=\"587.703,-216.8 595.665,-209.811 585.082,-210.309 587.703,-216.8\"/>\r\n<text text-anchor=\"middle\" x=\"412.678\" y=\"-232.098\" font-family=\"Times New Roman,serif\" font-size=\"14.00\">c </text>\r\n</g>\r\n<!-- St35 -->\r\n<g id=\"node21\" class=\"node\"><title>St35</title>\r\n<ellipse fill=\"none\" stroke=\"black\" cx=\"518.273\" cy=\"-94.2976\" rx=\"27.0966\" ry=\"27.0966\"/>\r\n<text text-anchor=\"middle\" x=\"518.273\" y=\"-90.5976\" font-family=\"Times New Roman,serif\" font-size=\"14.00\">St35</text>\r\n</g>\r\n<!-- St35&#45;&gt;St36 -->\r\n<g id=\"edge48\" class=\"edge\"><title>St35&#45;&gt;St36</title>\r\n<path fill=\"none\" stroke=\"black\" d=\"M545.179,-100.221C557.03,-102.93 571.265,-106.185 584.115,-109.123\"/>\r\n<polygon fill=\"black\" stroke=\"black\" points=\"583.522,-112.578 594.051,-111.395 585.082,-105.754 583.522,-112.578\"/>\r\n<text text-anchor=\"middle\" x=\"569.571\" y=\"-111.098\" font-family=\"Times New Roman,serif\" font-size=\"14.00\">s </text>\r\n</g>\r\n<!-- St2 -->\r\n<g id=\"node22\" class=\"node\"><title>St2</title>\r\n<ellipse fill=\"none\" stroke=\"black\" cx=\"263.488\" cy=\"-380.298\" rx=\"22.9987\" ry=\"22.9987\"/>\r\n<text text-anchor=\"middle\" x=\"263.488\" y=\"-376.598\" font-family=\"Times New Roman,serif\" font-size=\"14.00\">St2</text>\r\n</g>\r\n<!-- St2&#45;&gt;St9 -->\r\n<g id=\"edge20\" class=\"edge\"><title>St2&#45;&gt;St9</title>\r\n<path fill=\"none\" stroke=\"black\" d=\"M286.206,-382.806C310.883,-385.656 351.391,-390.335 379.684,-393.602\"/>\r\n<polygon fill=\"black\" stroke=\"black\" points=\"379.535,-397.108 389.871,-394.779 380.338,-390.155 379.535,-397.108\"/>\r\n<text text-anchor=\"middle\" x=\"336.083\" y=\"-396.098\" font-family=\"Times New Roman,serif\" font-size=\"14.00\">&#39;&#39; </text>\r\n</g>\r\n<!-- St5&#45;&gt;St6 -->\r\n<g id=\"edge14\" class=\"edge\"><title>St5&#45;&gt;St6</title>\r\n<path fill=\"none\" stroke=\"black\" d=\"M141.357,-443.298C165.181,-443.298 203.359,-443.298 230.481,-443.298\"/>\r\n<polygon fill=\"black\" stroke=\"black\" points=\"230.638,-446.798 240.638,-443.298 230.638,-439.798 230.638,-446.798\"/>\r\n<text text-anchor=\"middle\" x=\"190.893\" y=\"-447.098\" font-family=\"Times New Roman,serif\" font-size=\"14.00\">f </text>\r\n</g>\r\n<!-- St11 -->\r\n<g id=\"node24\" class=\"node\"><title>St11</title>\r\n<ellipse fill=\"none\" stroke=\"black\" cx=\"620.869\" cy=\"-369.298\" rx=\"27.0966\" ry=\"27.0966\"/>\r\n<text text-anchor=\"middle\" x=\"620.869\" y=\"-365.598\" font-family=\"Times New Roman,serif\" font-size=\"14.00\">St11</text>\r\n</g>\r\n<!-- St11&#45;&gt;St16 -->\r\n<g id=\"edge31\" class=\"edge\"><title>St11&#45;&gt;St16</title>\r\n<path fill=\"none\" stroke=\"black\" d=\"M632.569,-344.54C641.299,-324.611 654.116,-295.958 666.166,-271.298 670.355,-262.724 672.47,-261.095 676.166,-252.298 686.292,-228.195 681.665,-219.258 694.166,-196.298 695.845,-193.215 697.795,-190.141 699.882,-187.157\"/>\r\n<polygon fill=\"black\" stroke=\"black\" points=\"702.77,-189.141 706.012,-179.054 697.187,-184.917 702.77,-189.141\"/>\r\n<text text-anchor=\"middle\" x=\"671.166\" y=\"-275.098\" font-family=\"Times New Roman,serif\" font-size=\"14.00\">&#39;&#39; </text>\r\n</g>\r\n<!-- St11&#45;&gt;St19 -->\r\n<g id=\"edge29\" class=\"edge\"><title>St11&#45;&gt;St19</title>\r\n<path fill=\"none\" stroke=\"black\" d=\"M648.241,-366.913C657.973,-364.863 668.487,-361.115 676.166,-354.298 676.166,-354.298 694.701,-309.013 708.807,-274.55\"/>\r\n<polygon fill=\"black\" stroke=\"black\" points=\"712.1,-275.744 712.649,-265.164 705.622,-273.093 712.1,-275.744\"/>\r\n<text text-anchor=\"middle\" x=\"671.166\" y=\"-364.098\" font-family=\"Times New Roman,serif\" font-size=\"14.00\">&#39;&#39; </text>\r\n</g>\r\n<!-- St11&#45;&gt;St18 -->\r\n<g id=\"edge30\" class=\"edge\"><title>St11&#45;&gt;St18</title>\r\n<path fill=\"none\" stroke=\"black\" d=\"M638.708,-390.713C649.063,-401.131 662.856,-410.25 676.166,-404.298 685.897,-399.946 694.478,-392.557 701.604,-384.619\"/>\r\n<polygon fill=\"black\" stroke=\"black\" points=\"704.566,-386.53 708.235,-376.59 699.168,-382.073 704.566,-386.53\"/>\r\n<text text-anchor=\"middle\" x=\"671.166\" y=\"-410.098\" font-family=\"Times New Roman,serif\" font-size=\"14.00\">&#39;&#39; </text>\r\n</g>\r\n<!-- St23&#45;&gt;St28 -->\r\n<g id=\"edge41\" class=\"edge\"><title>St23&#45;&gt;St28</title>\r\n<path fill=\"none\" stroke=\"black\" d=\"M290.803,-584.298C313.114,-584.298 345.48,-584.298 371.106,-584.298\"/>\r\n<polygon fill=\"black\" stroke=\"black\" points=\"371.271,-587.798 381.271,-584.298 371.271,-580.798 371.271,-587.798\"/>\r\n<text text-anchor=\"middle\" x=\"336.083\" y=\"-588.098\" font-family=\"Times New Roman,serif\" font-size=\"14.00\">&#39;&#39; </text>\r\n</g>\r\n<!-- St10&#45;&gt;St11 -->\r\n<g id=\"edge19\" class=\"edge\"><title>St10&#45;&gt;St11</title>\r\n<path fill=\"none\" stroke=\"black\" d=\"M544.658,-347.616C556.81,-351.119 571.557,-355.37 584.763,-359.177\"/>\r\n<polygon fill=\"black\" stroke=\"black\" points=\"583.914,-362.575 594.492,-361.982 585.853,-355.849 583.914,-362.575\"/>\r\n<text text-anchor=\"middle\" x=\"569.571\" y=\"-361.098\" font-family=\"Times New Roman,serif\" font-size=\"14.00\">b </text>\r\n</g>\r\n<!-- St1&#45;&gt;St2 -->\r\n<g id=\"edge12\" class=\"edge\"><title>St1&#45;&gt;St2</title>\r\n<path fill=\"none\" stroke=\"black\" d=\"M141.357,-380.298C165.181,-380.298 203.359,-380.298 230.481,-380.298\"/>\r\n<polygon fill=\"black\" stroke=\"black\" points=\"230.638,-383.798 240.638,-380.298 230.638,-376.798 230.638,-383.798\"/>\r\n<text text-anchor=\"middle\" x=\"190.893\" y=\"-384.098\" font-family=\"Times New Roman,serif\" font-size=\"14.00\">d </text>\r\n</g>\r\n<!-- St21&#45;&gt;St28 -->\r\n<g id=\"edge42\" class=\"edge\"><title>St21&#45;&gt;St28</title>\r\n<path fill=\"none\" stroke=\"black\" d=\"M288.464,-523.189C311.928,-534.826 347.988,-552.71 375.045,-566.129\"/>\r\n<polygon fill=\"black\" stroke=\"black\" points=\"373.691,-569.364 384.205,-570.672 376.801,-563.093 373.691,-569.364\"/>\r\n<text text-anchor=\"middle\" x=\"336.083\" y=\"-564.098\" font-family=\"Times New Roman,serif\" font-size=\"14.00\">&#39;&#39; </text>\r\n</g>\r\n<!-- St4&#45;&gt;St9 -->\r\n<g id=\"edge22\" class=\"edge\"><title>St4&#45;&gt;St9</title>\r\n<path fill=\"none\" stroke=\"black\" d=\"M284.457,-326.756C304.624,-336.456 336.546,-352.218 363.381,-367.298 370.243,-371.154 377.517,-375.519 384.28,-379.702\"/>\r\n<polygon fill=\"black\" stroke=\"black\" points=\"382.767,-382.884 393.1,-385.227 386.484,-376.952 382.767,-382.884\"/>\r\n<text text-anchor=\"middle\" x=\"336.083\" y=\"-371.098\" font-family=\"Times New Roman,serif\" font-size=\"14.00\">&#39;&#39; </text>\r\n</g>\r\n<!-- St8&#45;&gt;St9 -->\r\n<g id=\"edge18\" class=\"edge\"><title>St8&#45;&gt;St9</title>\r\n<path fill=\"none\" stroke=\"black\" d=\"M597.793,-451.78C571.602,-452.821 526.954,-452.311 490.976,-440.298 473.292,-434.393 454.996,-424.418 440.646,-415.561\"/>\r\n<polygon fill=\"black\" stroke=\"black\" points=\"442.149,-412.368 431.832,-409.956 438.393,-418.275 442.149,-412.368\"/>\r\n<text text-anchor=\"middle\" x=\"518.273\" y=\"-454.098\" font-family=\"Times New Roman,serif\" font-size=\"14.00\">&#39;&#39; </text>\r\n</g>\r\n<!-- St30 -->\r\n<g id=\"node31\" class=\"node\"><title>St30</title>\r\n<ellipse fill=\"none\" stroke=\"black\" cx=\"263.488\" cy=\"-27.2976\" rx=\"27.0966\" ry=\"27.0966\"/>\r\n<text text-anchor=\"middle\" x=\"263.488\" y=\"-23.5976\" font-family=\"Times New Roman,serif\" font-size=\"14.00\">St30</text>\r\n</g>\r\n<!-- St30&#45;&gt;St37 -->\r\n<g id=\"edge52\" class=\"edge\"><title>St30&#45;&gt;St37</title>\r\n<path fill=\"none\" stroke=\"black\" d=\"M288.464,-39.1888C311.928,-50.8259 347.988,-68.7099 375.045,-82.1291\"/>\r\n<polygon fill=\"black\" stroke=\"black\" points=\"373.691,-85.3642 384.205,-86.6718 376.801,-79.0931 373.691,-85.3642\"/>\r\n<text text-anchor=\"middle\" x=\"336.083\" y=\"-81.0976\" font-family=\"Times New Roman,serif\" font-size=\"14.00\">&#39;&#39; </text>\r\n</g>\r\n<!-- St27&#45;&gt;St28 -->\r\n<g id=\"edge40\" class=\"edge\"><title>St27&#45;&gt;St28</title>\r\n<path fill=\"none\" stroke=\"black\" d=\"M593.428,-522.289C566.821,-521.149 524.971,-521.787 490.976,-533.298 474.736,-538.796 458.613,-548.563 445.328,-558.089\"/>\r\n<polygon fill=\"black\" stroke=\"black\" points=\"442.963,-555.486 437.034,-564.266 447.145,-561.1 442.963,-555.486\"/>\r\n<text text-anchor=\"middle\" x=\"518.273\" y=\"-537.098\" font-family=\"Times New Roman,serif\" font-size=\"14.00\">&#39;&#39; </text>\r\n</g>\r\n<!-- St29&#45;&gt;St30 -->\r\n<g id=\"edge44\" class=\"edge\"><title>St29&#45;&gt;St30</title>\r\n<path fill=\"none\" stroke=\"black\" d=\"M145.895,-27.2976C168.399,-27.2976 200.879,-27.2976 225.844,-27.2976\"/>\r\n<polygon fill=\"black\" stroke=\"black\" points=\"226.033,-30.7977 236.033,-27.2976 226.033,-23.7977 226.033,-30.7977\"/>\r\n<text text-anchor=\"middle\" x=\"190.893\" y=\"-31.0976\" font-family=\"Times New Roman,serif\" font-size=\"14.00\">d </text>\r\n</g>\r\n<!-- St37&#45;&gt;St35 -->\r\n<g id=\"edge47\" class=\"edge\"><title>St37&#45;&gt;St35</title>\r\n<path fill=\"none\" stroke=\"black\" d=\"M444.2,-98.5298C455.648,-97.8668 468.774,-97.1065 480.715,-96.415\"/>\r\n<polygon fill=\"black\" stroke=\"black\" points=\"481.049,-99.9015 490.83,-95.8291 480.645,-92.9133 481.049,-99.9015\"/>\r\n<text text-anchor=\"middle\" x=\"467.476\" y=\"-102.098\" font-family=\"Times New Roman,serif\" font-size=\"14.00\">&#39;&#39; </text>\r\n</g>\r\n<!-- St28&#45;&gt;St26 -->\r\n<g id=\"edge38\" class=\"edge\"><title>St28&#45;&gt;St26</title>\r\n<path fill=\"none\" stroke=\"black\" d=\"M444.2,-584.298C455.648,-584.298 468.774,-584.298 480.715,-584.298\"/>\r\n<polygon fill=\"black\" stroke=\"black\" points=\"480.83,-587.798 490.83,-584.298 480.83,-580.798 480.83,-587.798\"/>\r\n<text text-anchor=\"middle\" x=\"467.476\" y=\"-588.098\" font-family=\"Times New Roman,serif\" font-size=\"14.00\">&#39;&#39; </text>\r\n</g>\r\n</g>\r\n</svg>\r\n"
     },
     "metadata": {},
     "execution_count": 105
    }
   ],
   "source": [
    "dotObj_nfa(re2nfa(Rev_RE2))"
   ]
  },
  {
   "cell_type": "markdown",
   "metadata": {},
   "source": [
    "## Chasing down the RE2NFA components (SV) - details\n",
    "\n",
    "\n",
    "This is an exercise in explaning how `Rev_RE2` got translated to an NFA. You are to pick these cases and find an example of each, and explain below. What you pick does not matter.\n",
    "\n",
    "* Find a case where a Star is used, and explain the construction, pointing to the states involved. Use up to 6 bullets below. More or less based on how you explain (clarity not length emphasized).\n",
    "  - Every location where a `s*` is used the NFA inserts 2 states lets call them `Star1` `Star2` and (in adition to whatever state came before lets call it _\"`Star0`\"_ temporarily).\n",
    "  - A path from _\"`Star0`\"_ to `Star1` is defined for case $\\varepsilon$.\n",
    "  - A path from `Star1` to `Star2` is defined for case `'s'`.\n",
    "  - A path from `Star2` to _\"`Star0`\"_ is defined for case $\\varepsilon$.\n",
    "  - (This seems largly wasteful for a single character/symbol `*` pattern, but is more nessisary if you have a whole RE pattern in `()`'s being starred)\n",
    "\n",
    "* Find a case where the Star follows something (I.e. a concatenation of the form \"X\" followed by \"Star\" is used). Show how that concatenation construction is accomplished in the same manner (up to 6 bullets roughly) as above. More or less based on how you explain.\n",
    "  - ...\n",
    "  - ...\n",
    "  - ...\n",
    "  - ...\n",
    "  - ...\n",
    "  - ...\n",
    "  \n",
    "* Find a case where something follows Star (I.e. a concatenation of the form \"Star\" followed by \"X\"). Explain how the concatenation is accomplished.\n",
    "  - ...\n",
    "  - ...\n",
    "  - ...\n",
    "  - ...\n",
    "  - ...\n",
    "  - ..."
   ]
  },
  {
   "cell_type": "markdown",
   "metadata": {},
   "source": [
    "## Repeat finding out the aforesaid paths in your own `Rev_RE1_hand`"
   ]
  },
  {
   "cell_type": "markdown",
   "metadata": {},
   "source": [
    "\n",
    "This is an exercise in explaning how `Rev_RE1_hand` got translated to an NFA. You are to pick these cases and find an example of each, and explain below. What you pick does not matter.\n",
    "\n",
    "* Find a case where a Star is used, and explain the construction, pointing to the states involved. Use up to 6 bullets below. More or less based on how you explain (clarity not length emphasized).\n",
    "  - ...\n",
    "  - ...\n",
    "  - ...\n",
    "  - ...\n",
    "  - ...\n",
    "  - ...\n",
    "\n",
    "* Find a case where the Star follows something (I.e. a concatenation of the form \"X\" followed by \"Star\" is used). If such a case does not arise in your RE, skip this part. Show how that concatenation construction is accomplished in the same manner (up to 6 bullets roughly) as above. More or less based on how you explain. \n",
    "  - ...\n",
    "  - ...\n",
    "  - ...\n",
    "  - ...\n",
    "  - ...\n",
    "  - ...\n",
    "  \n",
    "* Find a case where something follows Star (I.e. a concatenation of the form \"Star\" followed by \"X\"). If such a case does not arise in your RE, skip this part. Explain how the concatenation is accomplished.\n",
    "  - ...\n",
    "  - ...\n",
    "  - ...\n",
    "  - ...\n",
    "  - ...\n",
    "  - ..."
   ]
  },
  {
   "cell_type": "markdown",
   "metadata": {},
   "source": [
    "# END\n"
   ]
  }
 ],
 "metadata": {
  "kernelspec": {
   "display_name": "Python 3",
   "language": "python",
   "name": "python3"
  },
  "language_info": {
   "codemirror_mode": {
    "name": "ipython",
    "version": 3
   },
   "file_extension": ".py",
   "mimetype": "text/x-python",
   "name": "python",
   "nbconvert_exporter": "python",
   "pygments_lexer": "ipython3",
   "version": "3.8.3-final"
  },
  "toc": {
   "colors": {
    "hover_highlight": "#DAA520",
    "running_highlight": "#FF0000",
    "selected_highlight": "#FFD700"
   },
   "moveMenuLeft": true,
   "nav_menu": {
    "height": "121px",
    "width": "252px"
   },
   "navigate_menu": true,
   "number_sections": true,
   "sideBar": true,
   "threshold": 4,
   "toc_cell": false,
   "toc_section_display": "block",
   "toc_window_display": false,
   "widenNotebook": false
  },
  "widgets": {
   "state": {
    "430c92ee02b34ec1912bf03c8de1e6dc": {
     "views": [
      {
       "cell_index": 20
      }
     ]
    }
   },
   "version": "1.2.0"
  }
 },
 "nbformat": 4,
 "nbformat_minor": 2
}