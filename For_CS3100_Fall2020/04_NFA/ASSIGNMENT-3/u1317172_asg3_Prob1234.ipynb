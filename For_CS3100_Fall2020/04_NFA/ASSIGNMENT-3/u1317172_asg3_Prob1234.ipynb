{
 "cells": [
  {
   "cell_type": "markdown",
   "metadata": {},
   "source": [
    "# A Video that's likely helpful"
   ]
  },
  {
   "cell_type": "code",
   "execution_count": 1,
   "metadata": {
    "run_control": {
     "frozen": false,
     "read_only": false
    }
   },
   "outputs": [
    {
     "output_type": "execute_result",
     "data": {
      "text/plain": "<IPython.lib.display.YouTubeVideo at 0x1fba7083550>",
      "text/html": "\n        <iframe\n            width=\"400\"\n            height=\"300\"\n            src=\"https://www.youtube.com/embed/xjFtLF95uBc\"\n            frameborder=\"0\"\n            allowfullscreen\n        ></iframe>\n        ",
      "image/jpeg": "[encoded data removed]"
     },
     "metadata": {},
     "execution_count": 1
    }
   ],
   "source": [
    "# This is a potentially helpful video from long ago... watch it if you've not, before.\n",
    "from IPython.display import YouTubeVideo\n",
    "YouTubeVideo('xjFtLF95uBc')"
   ]
  },
  {
   "cell_type": "markdown",
   "metadata": {
    "run_control": {
     "frozen": false,
     "read_only": false
    }
   },
   "source": [
    "# Asg-3 imports \n"
   ]
  },
  {
   "cell_type": "code",
   "execution_count": 1,
   "metadata": {
    "run_control": {
     "frozen": false,
     "read_only": false
    },
    "scrolled": true,
    "tags": []
   },
   "outputs": [
    {
     "output_type": "stream",
     "name": "stdout",
     "text": "You may use any of these help commands:\nhelp(ResetStNum)\nhelp(NxtStateStr)\n\nYou may use any of these help commands:\nhelp(md2mc)\n.. and if you want to dig more, then ..\nhelp(default_line_attr)\nhelp(length_ok_input_items)\nhelp(union_line_attr_list_fld)\nhelp(extend_rsltdict)\nhelp(form_delta)\nhelp(get_machine_components)\n\nYou may use any of these help commands:\nhelp(mkp_dfa)\nhelp(mk_dfa)\nhelp(totalize_dfa)\nhelp(addtosigma_delta)\nhelp(step_dfa)\nhelp(run_dfa)\nhelp(accepts_dfa)\nhelp(comp_dfa)\nhelp(union_dfa)\nhelp(intersect_dfa)\nhelp(pruneUnreach)\nhelp(iso_dfa)\nhelp(langeq_dfa)\nhelp(same_status)\nhelp(h_langeq_dfa)\nhelp(fixptDist)\nhelp(min_dfa)\nhelp(pairFR)\nhelp(state_combos)\nhelp(sepFinNonFin)\nhelp(bash_eql_classes)\nhelp(listminus)\nhelp(bash_1)\nhelp(mk_rep_eqc)\nhelp(F_of)\nhelp(rep_of_s)\nhelp(q0_of)\nhelp(Delta_of)\nhelp(mk_state_eqc_name)\n\nYou may use any of these help commands:\nhelp(mk_nfa)\nhelp(totalize_nfa)\nhelp(step_nfa)\nhelp(run_nfa)\nhelp(ec_step_nfa)\nhelp(Eclosure)\nhelp(Echelp)\nhelp(accepts_nfa)\nhelp(nfa2dfa)\nhelp(n2d)\nhelp(inSets)\nhelp(rev_dfa)\nhelp(min_dfa_brz)\n\n"
    }
   ],
   "source": [
    "#~~~~~~~~~~~~~~~~~~~~~~~~~~~~~~~~~~~~~~~~~~~~~~~~~~~~~~~\n",
    "import sys\n",
    "\n",
    "# -- Detect if in Own Install or in Colab\n",
    "try:\n",
    "    import google.colab\n",
    "    OWN_INSTALL = False\n",
    "except:\n",
    "    OWN_INSTALL = True\n",
    "    \n",
    "if OWN_INSTALL:\n",
    "    \n",
    "  #---- Leave these definitions ON if running on laptop\n",
    "  #---- Else turn OFF by putting them between ''' ... '''\n",
    "\n",
    "  sys.path[0:0] = ['../../../../..',  '../../../../../3rdparty',  \n",
    "                   '../../../..',  '../../../../3rdparty',  \n",
    "                   '../../..',     '../../../3rdparty', \n",
    "                   '../..',        '../../3rdparty',\n",
    "                   '..',           '../3rdparty' ]\n",
    "\n",
    "else: # In colab\n",
    "  ! if [ ! -d Jove ]; then git clone https://github.com/ganeshutah/Jove Jove; fi\n",
    "  sys.path.append('./Jove')\n",
    "  sys.path.append('./Jove/jove')\n",
    "\n",
    "# -- common imports --\n",
    "from jove.DotBashers import *\n",
    "from jove.Def_md2mc  import *\n",
    "from jove.Def_NFA    import *\n",
    "from jove.Def_DFA    import *\n",
    "from jove.AnimateNFA import *\n",
    "#~~~~~~~~~~~~~~~~~~~~~~~~~~~~~~~~~~~~~~~~~~~~~~~~~~~~~~~"
   ]
  },
  {
   "cell_type": "markdown",
   "metadata": {},
   "source": [
    "# Problem 1a (SV): Design an NFA for $\\{0,1\\}^* 1 0$ (\"Ends 10\")\n",
    "\n",
    "## It will be a 3-state NFA, and name the states as I, S0, and F\n",
    "\n",
    "### Document each line of your Jove code with a short comment\n"
   ]
  },
  {
   "cell_type": "code",
   "execution_count": 2,
   "metadata": {
    "tags": []
   },
   "outputs": [],
   "source": [
    "# SOLUTION\n",
    "\n",
    "nfaEnds10 = md2mc('''\n",
    "NFA \n",
    "!! Algorithm Overview:\n",
    "!!  1. Loop any acceptable characters\n",
    "!!  2. Send '0's down check path\n",
    "!!  3. If after '0' there is a '1' go to final\n",
    "!!  4. If last character accept string.\n",
    "\n",
    "I0  : 0|1   -> I0\n",
    "I0  : 1     -> S1\n",
    "S1  : 0     -> F2\n",
    " \n",
    "''')"
   ]
  },
  {
   "cell_type": "markdown",
   "metadata": {},
   "source": [
    "# Problem 1b (SV): Determine States in Animation\n",
    "\n",
    "Put the above NFA in animation, and note down the set of states attained\n",
    "after the DFA has seen every character in 10010. More detailed instructions follow."
   ]
  },
  {
   "cell_type": "markdown",
   "metadata": {},
   "source": [
    "## 1b(i): Execute the cell below and follow the bulleted instructions\n",
    "\n",
    "* When the animation pane comes up, type in 10010 and click Animate\n",
    "\n",
    "* Then click the \">|\" button, which is for single-stepping\n",
    "\n",
    "* Note down the results as you single-step, and fill answers in 1b(ii) below\n"
   ]
  },
  {
   "cell_type": "code",
   "execution_count": 3,
   "metadata": {
    "scrolled": false
   },
   "outputs": [
    {
     "output_type": "display_data",
     "data": {
      "text/plain": "VBox(children=(HBox(children=(Text(value='', description='Input:', layout=Layout(width='500px'), placeholder='…",
      "application/vnd.jupyter.widget-view+json": {
       "version_major": 2,
       "version_minor": 0,
       "model_id": "afa64bcb6d3441149e9ef88be5095874"
      }
     },
     "metadata": {}
    },
    {
     "output_type": "display_data",
     "data": {
      "text/plain": "<IPython.core.display.HTML object>",
      "text/html": "<link rel=\"stylesheet\" href=\"//stackpath.bootstrapcdn.com/font-awesome/4.7.0/css/font-awesome.min.css\"/>"
     },
     "metadata": {}
    }
   ],
   "source": [
    "AnimateNFA(nfaEnds10, FuseEdges=False)\n",
    "display(HTML('<link rel=\\\"stylesheet\\\" href=\\\"//stackpath.bootstrapcdn.com/font-awesome/4.7.0/css/font-awesome.min.css\\\"/>'))"
   ]
  },
  {
   "cell_type": "markdown",
   "metadata": {},
   "source": [
    "## 1b(ii) : Provide these answers based on single-stepping the animation (please provide it as a SET OF STATES - else we won't give you any points). \n",
    "\n",
    "## Also say whether a token dropped out of the diagram (with the move on a symbol being undefined) and whether the state reached is final. \n",
    "\n",
    "### SET of states before consuming any of 10010 = $\\{ I_0 \\}$\n",
    "#### NONE OF THESE\n",
    "\n",
    "### SET of states AFTER consuming \"1\" and before consuming \"0010\"  = $\\{ I_0,\\, S_1 \\}$\n",
    "#### NONE OF THESE\n",
    "\n",
    "### SET of states AFTER consuming \"10\" and before consuming \"010\"  = $\\{ I_0,\\, F_2 \\}$\n",
    "#### NONE OF THESE\n",
    "\n",
    "### SET of states AFTER consuming \"100\" and before consuming \"10\"  = $\\{ I_0 \\}$\n",
    "#### A Token Dropped Out\n",
    "\n",
    "### SET of states AFTER consuming \"1001\" and before consuming \"0\"  = $\\{ I_0,\\, S_1 \\}$\n",
    "#### NONE OF THESE\n",
    "\n",
    "### SET of states AFTER consuming \"10010\" entirely  = $\\{ I_0,\\, F_2 \\}$\n",
    "#### The SET of states reached is FINAL"
   ]
  },
  {
   "cell_type": "markdown",
   "metadata": {},
   "source": [
    "# Problem 1c (SV): Convert the NFA to a DFA and answer\n",
    "\n",
    "Convert the NFA to a DFA by the command below, and answer 1c's question below"
   ]
  },
  {
   "cell_type": "code",
   "execution_count": 4,
   "metadata": {},
   "outputs": [
    {
     "output_type": "execute_result",
     "data": {
      "text/plain": "<graphviz.dot.Digraph at 0x2302233beb0>",
      "image/svg+xml": "<?xml version=\"1.0\" encoding=\"UTF-8\" standalone=\"no\"?>\r\n<!DOCTYPE svg PUBLIC \"-//W3C//DTD SVG 1.1//EN\"\r\n \"http://www.w3.org/Graphics/SVG/1.1/DTD/svg11.dtd\">\r\n<!-- Generated by graphviz version 2.38.0 (20140413.2041)\r\n -->\r\n<!-- Title: %3 Pages: 1 -->\r\n<svg width=\"367pt\" height=\"142pt\"\r\n viewBox=\"0.00 0.00 367.39 141.99\" xmlns=\"http://www.w3.org/2000/svg\" xmlns:xlink=\"http://www.w3.org/1999/xlink\">\r\n<g id=\"graph0\" class=\"graph\" transform=\"scale(1 1) rotate(0) translate(4 137.994)\">\r\n<title>%3</title>\r\n<polygon fill=\"white\" stroke=\"none\" points=\"-4,4 -4,-137.994 363.385,-137.994 363.385,4 -4,4\"/>\r\n<!-- EMPTY -->\r\n<g id=\"node1\" class=\"node\"><title>EMPTY</title>\r\n</g>\r\n<!-- I0 -->\r\n<g id=\"node3\" class=\"node\"><title>I0</title>\r\n<ellipse fill=\"none\" stroke=\"black\" cx=\"109.198\" cy=\"-27.4971\" rx=\"18.399\" ry=\"18.399\"/>\r\n<text text-anchor=\"middle\" x=\"109.198\" y=\"-23.7971\" font-family=\"Times New Roman,serif\" font-size=\"14.00\">I0</text>\r\n</g>\r\n<!-- EMPTY&#45;&gt;I0 -->\r\n<g id=\"edge1\" class=\"edge\"><title>EMPTY&#45;&gt;I0</title>\r\n<path fill=\"none\" stroke=\"black\" d=\"M54.26,-27.4971C62.7397,-27.4971 72.1605,-27.4971 80.7255,-27.4971\"/>\r\n<polygon fill=\"black\" stroke=\"black\" points=\"80.9815,-30.9972 90.9815,-27.4971 80.9815,-23.9972 80.9815,-30.9972\"/>\r\n</g>\r\n<!-- I0_S1 -->\r\n<g id=\"node2\" class=\"node\"><title>I0_S1</title>\r\n<ellipse fill=\"none\" stroke=\"black\" cx=\"206.894\" cy=\"-68.4971\" rx=\"32.4942\" ry=\"32.4942\"/>\r\n<text text-anchor=\"middle\" x=\"206.894\" y=\"-64.7971\" font-family=\"Times New Roman,serif\" font-size=\"14.00\">I0_S1</text>\r\n</g>\r\n<!-- I0_S1&#45;&gt;I0_S1 -->\r\n<g id=\"edge4\" class=\"edge\"><title>I0_S1&#45;&gt;I0_S1</title>\r\n<path fill=\"none\" stroke=\"black\" d=\"M196.771,-99.5632C196.664,-110.313 200.038,-118.994 206.894,-118.994 211.393,-118.994 214.392,-115.256 215.893,-109.647\"/>\r\n<polygon fill=\"black\" stroke=\"black\" points=\"219.387,-109.889 217.016,-99.5632 212.43,-109.114 219.387,-109.889\"/>\r\n<text text-anchor=\"middle\" x=\"206.894\" y=\"-122.794\" font-family=\"Times New Roman,serif\" font-size=\"14.00\">1 </text>\r\n</g>\r\n<!-- F2_I0 -->\r\n<g id=\"node4\" class=\"node\"><title>F2_I0</title>\r\n<ellipse fill=\"none\" stroke=\"black\" cx=\"322.888\" cy=\"-36.4971\" rx=\"32.4945\" ry=\"32.4945\"/>\r\n<ellipse fill=\"none\" stroke=\"black\" cx=\"322.888\" cy=\"-36.4971\" rx=\"36.4942\" ry=\"36.4942\"/>\r\n<text text-anchor=\"middle\" x=\"322.888\" y=\"-32.7971\" font-family=\"Times New Roman,serif\" font-size=\"14.00\">F2_I0</text>\r\n</g>\r\n<!-- I0_S1&#45;&gt;F2_I0 -->\r\n<g id=\"edge5\" class=\"edge\"><title>I0_S1&#45;&gt;F2_I0</title>\r\n<path fill=\"none\" stroke=\"black\" d=\"M238.722,-60.5478C248.251,-58.0358 258.77,-55.2072 268.391,-52.4971 271.517,-51.6166 274.741,-50.6925 277.983,-49.7513\"/>\r\n<polygon fill=\"black\" stroke=\"black\" points=\"279.079,-53.0775 287.689,-46.9032 277.108,-46.3607 279.079,-53.0775\"/>\r\n<text text-anchor=\"middle\" x=\"262.891\" y=\"-58.2971\" font-family=\"Times New Roman,serif\" font-size=\"14.00\">0 </text>\r\n</g>\r\n<!-- I0&#45;&gt;I0_S1 -->\r\n<g id=\"edge2\" class=\"edge\"><title>I0&#45;&gt;I0_S1</title>\r\n<path fill=\"none\" stroke=\"black\" d=\"M126.432,-34.4522C137.718,-39.2875 153.251,-45.9425 167.591,-52.0866\"/>\r\n<polygon fill=\"black\" stroke=\"black\" points=\"166.216,-55.3051 176.786,-56.0262 168.973,-48.8707 166.216,-55.3051\"/>\r\n<text text-anchor=\"middle\" x=\"150.897\" y=\"-50.2971\" font-family=\"Times New Roman,serif\" font-size=\"14.00\">1 </text>\r\n</g>\r\n<!-- I0&#45;&gt;I0 -->\r\n<g id=\"edge3\" class=\"edge\"><title>I0&#45;&gt;I0</title>\r\n<path fill=\"none\" stroke=\"black\" d=\"M102.819,-44.6283C101.517,-54.503 103.644,-63.6955 109.198,-63.6955 112.67,-63.6955 114.803,-60.1047 115.596,-55.0008\"/>\r\n<polygon fill=\"black\" stroke=\"black\" points=\"119.095,-54.6221 115.578,-44.6283 112.095,-54.6345 119.095,-54.6221\"/>\r\n<text text-anchor=\"middle\" x=\"109.198\" y=\"-67.4955\" font-family=\"Times New Roman,serif\" font-size=\"14.00\">0 </text>\r\n</g>\r\n<!-- F2_I0&#45;&gt;I0_S1 -->\r\n<g id=\"edge6\" class=\"edge\"><title>F2_I0&#45;&gt;I0_S1</title>\r\n<path fill=\"none\" stroke=\"black\" d=\"M286.826,-30.4389C277.111,-29.9433 266.685,-30.5431 257.391,-33.4971 251.544,-35.3556 245.793,-38.1827 240.398,-41.4408\"/>\r\n<polygon fill=\"black\" stroke=\"black\" points=\"238.081,-38.7786 231.699,-47.236 241.962,-44.6041 238.081,-38.7786\"/>\r\n<text text-anchor=\"middle\" x=\"262.891\" y=\"-37.2971\" font-family=\"Times New Roman,serif\" font-size=\"14.00\">1 </text>\r\n</g>\r\n<!-- F2_I0&#45;&gt;I0 -->\r\n<g id=\"edge7\" class=\"edge\"><title>F2_I0&#45;&gt;I0</title>\r\n<path fill=\"none\" stroke=\"black\" d=\"M288.246,-24.3687C273.469,-19.6553 255.782,-14.833 239.391,-12.4971 210.794,-8.42182 203.093,-9.18921 174.397,-12.4971 161.861,-13.9422 148.215,-16.9246 136.741,-19.8523\"/>\r\n<polygon fill=\"black\" stroke=\"black\" points=\"135.666,-16.5168 126.908,-22.4798 137.473,-23.2795 135.666,-16.5168\"/>\r\n<text text-anchor=\"middle\" x=\"206.894\" y=\"-16.2971\" font-family=\"Times New Roman,serif\" font-size=\"14.00\">0 </text>\r\n</g>\r\n</g>\r\n</svg>\r\n"
     },
     "metadata": {},
     "execution_count": 4
    }
   ],
   "source": [
    "dotObj_dfa(nfa2dfa(nfaEnds10, STATENAME_MAXSIZE=50), STATENAME_MAXSIZE=50)"
   ]
  },
  {
   "cell_type": "markdown",
   "metadata": {},
   "source": [
    "### 1c(i): State DFA is in after 10010 = `{ F2_I0 }`\n",
    "\n",
    "It is in a Final State, at the end of the string.\n",
    "\n",
    "### 1c(ii): Set of states NFA is in after 10010 (last ans of 1b(ii) ) = $\\{ I_0,\\, F_2 \\}$\n",
    "\n",
    "It is in a Final State, at the end of the string.\n",
    "\n",
    "### 1c(iii): Do the above match? Recall that for an NFA set of states $\\{A,\\,B\\}$, a DFA state may be named `A_B` or `B_A`. We use _\"match\"_ in this sense.\n",
    "\n",
    "**Yes**, the name of the DFA state is a `_` seperated concatination of the NFA's Set of States.\n",
    "\n",
    "### 1c(iv): Reason that the above should match? Please provide a sentence stating when a DFA accepts and when an NFA accepts in terms of its tokens being in many states that includes a final state.\n",
    "\n",
    "They both accept a string when a Final State in the machien is active after processing the entire string,\n",
    "  and for any set of states that the NFA has when processing a string should exist as a State in the DFA.\n",
    "Therefore, whatever set of states the NFA is in when it accepts a string, it's corrosponding DFA state will be active as well,\n",
    "  and the algoritem we use to convert just names the DFA states as a `_` seperated concatination of the states in the Corrosponding NFA State.  "
   ]
  },
  {
   "cell_type": "markdown",
   "metadata": {},
   "source": [
    "# Problem 2 (XL): Design an NFA for $\\{\\varepsilon, 0\\}$ \n",
    "### It will be a 2-state NFA with an IF state and a final state (call that final state \"F2\" )"
   ]
  },
  {
   "cell_type": "code",
   "execution_count": 36,
   "metadata": {},
   "outputs": [],
   "source": [
    "nfaEps0 = md2mc('''\n",
    "NFA \n",
    "!! Machien Basic Design:\n",
    "!!  1. \n",
    "\n",
    "IF  : ''    -> IF\n",
    "IF  : 0     -> F\n",
    "\n",
    "''')\n",
    "# F   : 0|''  -> F"
   ]
  },
  {
   "cell_type": "code",
   "execution_count": 37,
   "metadata": {},
   "outputs": [
    {
     "output_type": "execute_result",
     "data": {
      "text/plain": "<graphviz.dot.Digraph at 0x2302238df70>",
      "image/svg+xml": "<?xml version=\"1.0\" encoding=\"UTF-8\" standalone=\"no\"?>\r\n<!DOCTYPE svg PUBLIC \"-//W3C//DTD SVG 1.1//EN\"\r\n \"http://www.w3.org/Graphics/SVG/1.1/DTD/svg11.dtd\">\r\n<!-- Generated by graphviz version 2.38.0 (20140413.2041)\r\n -->\r\n<!-- Title: %3 Pages: 1 -->\r\n<svg width=\"236pt\" height=\"87pt\"\r\n viewBox=\"0.00 0.00 235.70 86.70\" xmlns=\"http://www.w3.org/2000/svg\" xmlns:xlink=\"http://www.w3.org/1999/xlink\">\r\n<g id=\"graph0\" class=\"graph\" transform=\"scale(1 1) rotate(0) translate(4 82.6967)\">\r\n<title>%3</title>\r\n<polygon fill=\"white\" stroke=\"none\" points=\"-4,4 -4,-82.6967 231.697,-82.6967 231.697,4 -4,4\"/>\r\n<!-- EMPTY -->\r\n<g id=\"node1\" class=\"node\"><title>EMPTY</title>\r\n</g>\r\n<!-- IF -->\r\n<g id=\"node3\" class=\"node\"><title>IF</title>\r\n<ellipse fill=\"none\" stroke=\"black\" cx=\"113.848\" cy=\"-22.8483\" rx=\"18.724\" ry=\"18.724\"/>\r\n<ellipse fill=\"none\" stroke=\"black\" cx=\"113.848\" cy=\"-22.8483\" rx=\"22.6977\" ry=\"22.6977\"/>\r\n<text text-anchor=\"middle\" x=\"113.848\" y=\"-19.1483\" font-family=\"Times New Roman,serif\" font-size=\"14.00\">IF</text>\r\n</g>\r\n<!-- EMPTY&#45;&gt;IF -->\r\n<g id=\"edge1\" class=\"edge\"><title>EMPTY&#45;&gt;IF</title>\r\n<path fill=\"none\" stroke=\"black\" d=\"M54.3814,-22.8483C62.6819,-22.8483 71.9432,-22.8483 80.6031,-22.8483\"/>\r\n<polygon fill=\"black\" stroke=\"black\" points=\"80.7631,-26.3484 90.7631,-22.8483 80.7631,-19.3484 80.7631,-26.3484\"/>\r\n</g>\r\n<!-- F -->\r\n<g id=\"node2\" class=\"node\"><title>F</title>\r\n<ellipse fill=\"none\" stroke=\"black\" cx=\"205.697\" cy=\"-22.8483\" rx=\"18\" ry=\"18\"/>\r\n<ellipse fill=\"none\" stroke=\"black\" cx=\"205.697\" cy=\"-22.8483\" rx=\"22\" ry=\"22\"/>\r\n<text text-anchor=\"middle\" x=\"205.697\" y=\"-19.1483\" font-family=\"Times New Roman,serif\" font-size=\"14.00\">F</text>\r\n</g>\r\n<!-- IF&#45;&gt;F -->\r\n<g id=\"edge3\" class=\"edge\"><title>IF&#45;&gt;F</title>\r\n<path fill=\"none\" stroke=\"black\" d=\"M137.058,-22.8483C148.071,-22.8483 161.555,-22.8483 173.578,-22.8483\"/>\r\n<polygon fill=\"black\" stroke=\"black\" points=\"173.668,-26.3484 183.668,-22.8483 173.668,-19.3484 173.668,-26.3484\"/>\r\n<text text-anchor=\"middle\" x=\"160.197\" y=\"-26.6483\" font-family=\"Times New Roman,serif\" font-size=\"14.00\">0 </text>\r\n</g>\r\n<!-- IF&#45;&gt;IF -->\r\n<g id=\"edge2\" class=\"edge\"><title>IF&#45;&gt;IF</title>\r\n<path fill=\"none\" stroke=\"black\" d=\"M106.497,-44.7016C105.695,-54.8392 108.145,-63.6967 113.848,-63.6967 117.502,-63.6967 119.821,-60.0616 120.804,-54.7835\"/>\r\n<polygon fill=\"black\" stroke=\"black\" points=\"124.305,-54.8311 121.2,-44.7016 117.311,-54.5566 124.305,-54.8311\"/>\r\n<text text-anchor=\"middle\" x=\"113.848\" y=\"-67.4967\" font-family=\"Times New Roman,serif\" font-size=\"14.00\">&#39;&#39; </text>\r\n</g>\r\n</g>\r\n</svg>\r\n"
     },
     "metadata": {},
     "execution_count": 37
    }
   ],
   "source": [
    "dotObj_nfa(nfaEps0)"
   ]
  },
  {
   "cell_type": "markdown",
   "metadata": {},
   "source": [
    "# A tutorial on Concatenating NFA\n",
    "\n",
    "Watch this video, then do Xinyi Li's question.\n",
    "\n",
    "To watch the video separately in Youtube in large size, \n",
    "visit https://youtu.be/VWyOT1uYfIc\n",
    "\n",
    "Otherwise just run the command below!"
   ]
  },
  {
   "cell_type": "code",
   "execution_count": 16,
   "metadata": {},
   "outputs": [
    {
     "output_type": "execute_result",
     "data": {
      "text/plain": "<IPython.lib.display.YouTubeVideo at 0x1fba734ed30>",
      "text/html": "\n        <iframe\n            width=\"400\"\n            height=\"300\"\n            src=\"https://www.youtube.com/embed/VWyOT1uYfIc\"\n            frameborder=\"0\"\n            allowfullscreen\n        ></iframe>\n        ",
      "image/jpeg": "[encoded data removed]"
     },
     "metadata": {},
     "execution_count": 16
    }
   ],
   "source": [
    "# NFA Concatenation\n",
    "from IPython.display import YouTubeVideo\n",
    "YouTubeVideo('VWyOT1uYfIc')"
   ]
  },
  {
   "cell_type": "markdown",
   "metadata": {},
   "source": [
    "# Problem 2a (XL): Develop a Concatenation NFA\n",
    "\n",
    "## Concatenate nfaEnds10 and nfaEps0 to obtain NFAEnds10Eps0\n",
    "\n",
    "### Follow the steps in the above video.\n",
    "\n",
    "### Describe the steps in a few bullets below, then finish the notebook code cell that defines NFAEnds10Eps0 below where space is provided for your work\n",
    "  - Place NFA 1 & NFA 2 in the same machien.\n",
    "  - Make Final states of NFA 1 non-final.\n",
    "  - Make the Initial States of NFA 2 non-initial. \n",
    "  - Create a bridge between each \"final\" state of NFA 1 to each \"initial\" state of NFA 2 (Usualy these are `ε` paths).\n"
   ]
  },
  {
   "cell_type": "markdown",
   "metadata": {},
   "source": [
    "# Problem 2b (XL): Show the full Concatenation NFA below\n"
   ]
  },
  {
   "cell_type": "code",
   "execution_count": 26,
   "metadata": {
    "run_control": {
     "frozen": false,
     "read_only": false
    },
    "tags": []
   },
   "outputs": [],
   "source": [
    "# Here is the resulting NFA\n",
    "\n",
    "NFAEnds10Eps0 = md2mc('''\n",
    "NFA \n",
    "\n",
    "!!---- Put NFA 1's transitions below, \n",
    "!!----  after suitably renaming states to make final states non-final etc.\n",
    "I   : 0|1   -> I \n",
    "I   : 1     -> S1\n",
    "S1  : 0     -> S2\n",
    "\n",
    "!!--- put the \"bridge\" transition below\n",
    "S2  : ''    -> F3\n",
    "\n",
    "!!--- put NFA 2's transitions below, again after suitable state renamings as above\n",
    "F3 : ''     -> F3\n",
    "F3 : 0      -> F4\n",
    "\n",
    "''')"
   ]
  },
  {
   "cell_type": "markdown",
   "metadata": {},
   "source": [
    "## Problem 2b (XL): Draw the concat NFA and convert to a DFA\n",
    "\n",
    "... Run the THREE commands below, and then move on to answer LT's question \n",
    "... based on the results you observe from these commands\n"
   ]
  },
  {
   "cell_type": "code",
   "execution_count": 27,
   "metadata": {},
   "outputs": [
    {
     "output_type": "execute_result",
     "data": {
      "text/plain": "<graphviz.dot.Digraph at 0x2302237b130>",
      "image/svg+xml": "<?xml version=\"1.0\" encoding=\"UTF-8\" standalone=\"no\"?>\r\n<!DOCTYPE svg PUBLIC \"-//W3C//DTD SVG 1.1//EN\"\r\n \"http://www.w3.org/Graphics/SVG/1.1/DTD/svg11.dtd\">\r\n<!-- Generated by graphviz version 2.38.0 (20140413.2041)\r\n -->\r\n<!-- Title: %3 Pages: 1 -->\r\n<svg width=\"504pt\" height=\"117pt\"\r\n viewBox=\"0.00 0.00 504.39 116.80\" xmlns=\"http://www.w3.org/2000/svg\" xmlns:xlink=\"http://www.w3.org/1999/xlink\">\r\n<g id=\"graph0\" class=\"graph\" transform=\"scale(1 1) rotate(0) translate(4 112.798)\">\r\n<title>%3</title>\r\n<polygon fill=\"white\" stroke=\"none\" points=\"-4,4 -4,-112.798 500.385,-112.798 500.385,4 -4,4\"/>\r\n<!-- EMPTY -->\r\n<g id=\"node1\" class=\"node\"><title>EMPTY</title>\r\n</g>\r\n<!-- I -->\r\n<g id=\"node2\" class=\"node\"><title>I</title>\r\n<ellipse fill=\"none\" stroke=\"black\" cx=\"109\" cy=\"-24.7982\" rx=\"18\" ry=\"18\"/>\r\n<text text-anchor=\"middle\" x=\"109\" y=\"-21.0982\" font-family=\"Times New Roman,serif\" font-size=\"14.00\">I</text>\r\n</g>\r\n<!-- EMPTY&#45;&gt;I -->\r\n<g id=\"edge1\" class=\"edge\"><title>EMPTY&#45;&gt;I</title>\r\n<path fill=\"none\" stroke=\"black\" d=\"M54.195,-24.7982C62.6538,-24.7982 72.0513,-24.7982 80.5951,-24.7982\"/>\r\n<polygon fill=\"black\" stroke=\"black\" points=\"80.8257,-28.2983 90.8257,-24.7982 80.8257,-21.2983 80.8257,-28.2983\"/>\r\n</g>\r\n<!-- I&#45;&gt;I -->\r\n<g id=\"edge2\" class=\"edge\"><title>I&#45;&gt;I</title>\r\n<path fill=\"none\" stroke=\"black\" d=\"M105.764,-42.5799C105.214,-52.1131 106.293,-60.7982 109,-60.7982 110.65,-60.7982 111.694,-57.5731 112.135,-52.8962\"/>\r\n<polygon fill=\"black\" stroke=\"black\" points=\"115.638,-52.6137 112.236,-42.5799 108.638,-52.5451 115.638,-52.6137\"/>\r\n<text text-anchor=\"middle\" x=\"109\" y=\"-64.5982\" font-family=\"Times New Roman,serif\" font-size=\"14.00\">0 </text>\r\n</g>\r\n<!-- I&#45;&gt;I -->\r\n<g id=\"edge3\" class=\"edge\"><title>I&#45;&gt;I</title>\r\n<path fill=\"none\" stroke=\"black\" d=\"M103.684,-42.2184C100.654,-59.5891 102.426,-78.7982 109,-78.7982 114.29,-78.7982 116.471,-66.3599 115.542,-52.4501\"/>\r\n<polygon fill=\"black\" stroke=\"black\" points=\"118.981,-51.731 114.316,-42.2184 112.031,-52.5638 118.981,-51.731\"/>\r\n<text text-anchor=\"middle\" x=\"109\" y=\"-82.5982\" font-family=\"Times New Roman,serif\" font-size=\"14.00\">1 </text>\r\n</g>\r\n<!-- S1 -->\r\n<g id=\"node3\" class=\"node\"><title>S1</title>\r\n<ellipse fill=\"none\" stroke=\"black\" cx=\"194.798\" cy=\"-24.7982\" rx=\"20.5982\" ry=\"20.5982\"/>\r\n<text text-anchor=\"middle\" x=\"194.798\" y=\"-21.0982\" font-family=\"Times New Roman,serif\" font-size=\"14.00\">S1</text>\r\n</g>\r\n<!-- I&#45;&gt;S1 -->\r\n<g id=\"edge4\" class=\"edge\"><title>I&#45;&gt;S1</title>\r\n<path fill=\"none\" stroke=\"black\" d=\"M127.363,-24.7982C137.819,-24.7982 151.423,-24.7982 163.595,-24.7982\"/>\r\n<polygon fill=\"black\" stroke=\"black\" points=\"163.808,-28.2983 173.808,-24.7982 163.808,-21.2983 163.808,-28.2983\"/>\r\n<text text-anchor=\"middle\" x=\"150.5\" y=\"-28.5982\" font-family=\"Times New Roman,serif\" font-size=\"14.00\">1 </text>\r\n</g>\r\n<!-- S2 -->\r\n<g id=\"node4\" class=\"node\"><title>S2</title>\r\n<ellipse fill=\"none\" stroke=\"black\" cx=\"283.394\" cy=\"-24.7982\" rx=\"20.5982\" ry=\"20.5982\"/>\r\n<text text-anchor=\"middle\" x=\"283.394\" y=\"-21.0982\" font-family=\"Times New Roman,serif\" font-size=\"14.00\">S2</text>\r\n</g>\r\n<!-- S1&#45;&gt;S2 -->\r\n<g id=\"edge5\" class=\"edge\"><title>S1&#45;&gt;S2</title>\r\n<path fill=\"none\" stroke=\"black\" d=\"M215.883,-24.7982C226.703,-24.7982 240.269,-24.7982 252.323,-24.7982\"/>\r\n<polygon fill=\"black\" stroke=\"black\" points=\"252.419,-28.2983 262.419,-24.7982 252.419,-21.2983 252.419,-28.2983\"/>\r\n<text text-anchor=\"middle\" x=\"239.096\" y=\"-28.5982\" font-family=\"Times New Roman,serif\" font-size=\"14.00\">0 </text>\r\n</g>\r\n<!-- F3 -->\r\n<g id=\"node6\" class=\"node\"><title>F3</title>\r\n<ellipse fill=\"none\" stroke=\"black\" cx=\"374.991\" cy=\"-24.7982\" rx=\"20.6302\" ry=\"20.6302\"/>\r\n<ellipse fill=\"none\" stroke=\"black\" cx=\"374.991\" cy=\"-24.7982\" rx=\"24.5979\" ry=\"24.5979\"/>\r\n<text text-anchor=\"middle\" x=\"374.991\" y=\"-21.0982\" font-family=\"Times New Roman,serif\" font-size=\"14.00\">F3</text>\r\n</g>\r\n<!-- S2&#45;&gt;F3 -->\r\n<g id=\"edge6\" class=\"edge\"><title>S2&#45;&gt;F3</title>\r\n<path fill=\"none\" stroke=\"black\" d=\"M304.279,-24.7982C314.726,-24.7982 327.823,-24.7982 339.837,-24.7982\"/>\r\n<polygon fill=\"black\" stroke=\"black\" points=\"340.021,-28.2983 350.021,-24.7982 340.021,-21.2983 340.021,-28.2983\"/>\r\n<text text-anchor=\"middle\" x=\"327.193\" y=\"-28.5982\" font-family=\"Times New Roman,serif\" font-size=\"14.00\">&#39;&#39; </text>\r\n</g>\r\n<!-- F4 -->\r\n<g id=\"node5\" class=\"node\"><title>F4</title>\r\n<ellipse fill=\"none\" stroke=\"black\" cx=\"471.587\" cy=\"-24.7982\" rx=\"20.6302\" ry=\"20.6302\"/>\r\n<ellipse fill=\"none\" stroke=\"black\" cx=\"471.587\" cy=\"-24.7982\" rx=\"24.5979\" ry=\"24.5979\"/>\r\n<text text-anchor=\"middle\" x=\"471.587\" y=\"-21.0982\" font-family=\"Times New Roman,serif\" font-size=\"14.00\">F4</text>\r\n</g>\r\n<!-- F3&#45;&gt;F4 -->\r\n<g id=\"edge8\" class=\"edge\"><title>F3&#45;&gt;F4</title>\r\n<path fill=\"none\" stroke=\"black\" d=\"M399.861,-24.7982C410.953,-24.7982 424.343,-24.7982 436.476,-24.7982\"/>\r\n<polygon fill=\"black\" stroke=\"black\" points=\"436.724,-28.2983 446.724,-24.7982 436.724,-21.2983 436.724,-28.2983\"/>\r\n<text text-anchor=\"middle\" x=\"423.289\" y=\"-28.5982\" font-family=\"Times New Roman,serif\" font-size=\"14.00\">0 </text>\r\n</g>\r\n<!-- F3&#45;&gt;F3 -->\r\n<g id=\"edge7\" class=\"edge\"><title>F3&#45;&gt;F3</title>\r\n<path fill=\"none\" stroke=\"black\" d=\"M366.501,-48.1303C365.692,-58.5686 368.522,-67.5963 374.991,-67.5963 379.135,-67.5963 381.786,-63.8913 382.943,-58.484\"/>\r\n<polygon fill=\"black\" stroke=\"black\" points=\"386.457,-58.2984 383.481,-48.1303 379.467,-57.9351 386.457,-58.2984\"/>\r\n<text text-anchor=\"middle\" x=\"374.991\" y=\"-71.3963\" font-family=\"Times New Roman,serif\" font-size=\"14.00\">&#39;&#39; </text>\r\n</g>\r\n</g>\r\n</svg>\r\n"
     },
     "metadata": {},
     "execution_count": 27
    }
   ],
   "source": [
    "# command-1\n",
    "dotObj_nfa(NFAEnds10Eps0)"
   ]
  },
  {
   "cell_type": "code",
   "execution_count": 28,
   "metadata": {},
   "outputs": [
    {
     "output_type": "execute_result",
     "data": {
      "text/plain": "<graphviz.dot.Digraph at 0x2302237bc40>",
      "image/svg+xml": "<?xml version=\"1.0\" encoding=\"UTF-8\" standalone=\"no\"?>\r\n<!DOCTYPE svg PUBLIC \"-//W3C//DTD SVG 1.1//EN\"\r\n \"http://www.w3.org/Graphics/SVG/1.1/DTD/svg11.dtd\">\r\n<!-- Generated by graphviz version 2.38.0 (20140413.2041)\r\n -->\r\n<!-- Title: %3 Pages: 1 -->\r\n<svg width=\"492pt\" height=\"174pt\"\r\n viewBox=\"0.00 0.00 492.18 173.90\" xmlns=\"http://www.w3.org/2000/svg\" xmlns:xlink=\"http://www.w3.org/1999/xlink\">\r\n<g id=\"graph0\" class=\"graph\" transform=\"scale(1 1) rotate(0) translate(4 169.896)\">\r\n<title>%3</title>\r\n<polygon fill=\"white\" stroke=\"none\" points=\"-4,4 -4,-169.896 488.182,-169.896 488.182,4 -4,4\"/>\r\n<!-- EMPTY -->\r\n<g id=\"node1\" class=\"node\"><title>EMPTY</title>\r\n</g>\r\n<!-- I -->\r\n<g id=\"node3\" class=\"node\"><title>I</title>\r\n<ellipse fill=\"none\" stroke=\"black\" cx=\"109\" cy=\"-18\" rx=\"18\" ry=\"18\"/>\r\n<text text-anchor=\"middle\" x=\"109\" y=\"-14.3\" font-family=\"Times New Roman,serif\" font-size=\"14.00\">I</text>\r\n</g>\r\n<!-- EMPTY&#45;&gt;I -->\r\n<g id=\"edge1\" class=\"edge\"><title>EMPTY&#45;&gt;I</title>\r\n<path fill=\"none\" stroke=\"black\" d=\"M54.195,-18C62.6538,-18 72.0513,-18 80.5951,-18\"/>\r\n<polygon fill=\"black\" stroke=\"black\" points=\"80.8257,-21.5001 90.8257,-18 80.8257,-14.5001 80.8257,-21.5001\"/>\r\n</g>\r\n<!-- I_S1 -->\r\n<g id=\"node2\" class=\"node\"><title>I_S1</title>\r\n<ellipse fill=\"none\" stroke=\"black\" cx=\"202.597\" cy=\"-62\" rx=\"28.6953\" ry=\"28.6953\"/>\r\n<text text-anchor=\"middle\" x=\"202.597\" y=\"-58.3\" font-family=\"Times New Roman,serif\" font-size=\"14.00\">I_S1</text>\r\n</g>\r\n<!-- I_S1&#45;&gt;I_S1 -->\r\n<g id=\"edge4\" class=\"edge\"><title>I_S1&#45;&gt;I_S1</title>\r\n<path fill=\"none\" stroke=\"black\" d=\"M192.886,-89.2819C192.454,-99.8301 195.691,-108.597 202.597,-108.597 207.022,-108.597 209.94,-104.999 211.353,-99.6399\"/>\r\n<polygon fill=\"black\" stroke=\"black\" points=\"214.875,-99.5613 212.309,-89.2819 207.905,-98.9178 214.875,-99.5613\"/>\r\n<text text-anchor=\"middle\" x=\"202.597\" y=\"-112.397\" font-family=\"Times New Roman,serif\" font-size=\"14.00\">1 </text>\r\n</g>\r\n<!-- F3_I_S2 -->\r\n<g id=\"node4\" class=\"node\"><title>F3_I_S2</title>\r\n<ellipse fill=\"none\" stroke=\"black\" cx=\"325.091\" cy=\"-119\" rx=\"42.8015\" ry=\"42.8015\"/>\r\n<ellipse fill=\"none\" stroke=\"black\" cx=\"325.091\" cy=\"-119\" rx=\"46.7926\" ry=\"46.7926\"/>\r\n<text text-anchor=\"middle\" x=\"325.091\" y=\"-115.3\" font-family=\"Times New Roman,serif\" font-size=\"14.00\">F3_I_S2</text>\r\n</g>\r\n<!-- I_S1&#45;&gt;F3_I_S2 -->\r\n<g id=\"edge5\" class=\"edge\"><title>I_S1&#45;&gt;F3_I_S2</title>\r\n<path fill=\"none\" stroke=\"black\" d=\"M226.072,-78.9986C233.224,-83.9304 241.326,-89.0461 249.195,-93 255.79,-96.3138 262.909,-99.3801 270.042,-102.157\"/>\r\n<polygon fill=\"black\" stroke=\"black\" points=\"269.138,-105.555 279.73,-105.761 271.578,-98.9943 269.138,-105.555\"/>\r\n<text text-anchor=\"middle\" x=\"254.695\" y=\"-102.8\" font-family=\"Times New Roman,serif\" font-size=\"14.00\">0 </text>\r\n</g>\r\n<!-- I&#45;&gt;I_S1 -->\r\n<g id=\"edge2\" class=\"edge\"><title>I&#45;&gt;I_S1</title>\r\n<path fill=\"none\" stroke=\"black\" d=\"M125.538,-25.464C136.927,-30.9347 152.834,-38.5759 167.159,-45.4569\"/>\r\n<polygon fill=\"black\" stroke=\"black\" points=\"165.751,-48.6633 176.28,-49.8385 168.782,-42.3535 165.751,-48.6633\"/>\r\n<text text-anchor=\"middle\" x=\"150.5\" y=\"-43.8\" font-family=\"Times New Roman,serif\" font-size=\"14.00\">1 </text>\r\n</g>\r\n<!-- I&#45;&gt;I -->\r\n<g id=\"edge3\" class=\"edge\"><title>I&#45;&gt;I</title>\r\n<path fill=\"none\" stroke=\"black\" d=\"M102.621,-35.0373C101.319,-44.8579 103.445,-54 109,-54 112.472,-54 114.604,-50.4289 115.398,-45.3529\"/>\r\n<polygon fill=\"black\" stroke=\"black\" points=\"118.897,-45.031 115.379,-35.0373 111.897,-45.0435 118.897,-45.031\"/>\r\n<text text-anchor=\"middle\" x=\"109\" y=\"-57.8\" font-family=\"Times New Roman,serif\" font-size=\"14.00\">0 </text>\r\n</g>\r\n<!-- F3_I_S2&#45;&gt;I_S1 -->\r\n<g id=\"edge6\" class=\"edge\"><title>F3_I_S2&#45;&gt;I_S1</title>\r\n<path fill=\"none\" stroke=\"black\" d=\"M288.105,-89.89C279.367,-83.9117 269.771,-78.1765 260.195,-74 254.213,-71.3913 247.623,-69.3338 241.117,-67.7157\"/>\r\n<polygon fill=\"black\" stroke=\"black\" points=\"241.581,-64.2346 231.064,-65.5188 240.086,-71.0732 241.581,-64.2346\"/>\r\n<text text-anchor=\"middle\" x=\"254.695\" y=\"-77.8\" font-family=\"Times New Roman,serif\" font-size=\"14.00\">1 </text>\r\n</g>\r\n<!-- F4_I -->\r\n<g id=\"node5\" class=\"node\"><title>F4_I</title>\r\n<ellipse fill=\"none\" stroke=\"black\" cx=\"451.585\" cy=\"-39\" rx=\"28.6832\" ry=\"28.6832\"/>\r\n<ellipse fill=\"none\" stroke=\"black\" cx=\"451.585\" cy=\"-39\" rx=\"32.6952\" ry=\"32.6952\"/>\r\n<text text-anchor=\"middle\" x=\"451.585\" y=\"-35.3\" font-family=\"Times New Roman,serif\" font-size=\"14.00\">F4_I</text>\r\n</g>\r\n<!-- F3_I_S2&#45;&gt;F4_I -->\r\n<g id=\"edge7\" class=\"edge\"><title>F3_I_S2&#45;&gt;F4_I</title>\r\n<path fill=\"none\" stroke=\"black\" d=\"M365.14,-93.907C380.996,-83.7178 399.196,-72.0227 414.713,-62.0515\"/>\r\n<polygon fill=\"black\" stroke=\"black\" points=\"416.98,-64.7548 423.501,-56.4043 413.196,-58.8659 416.98,-64.7548\"/>\r\n<text text-anchor=\"middle\" x=\"395.487\" y=\"-80.8\" font-family=\"Times New Roman,serif\" font-size=\"14.00\">0 </text>\r\n</g>\r\n<!-- F4_I&#45;&gt;I_S1 -->\r\n<g id=\"edge8\" class=\"edge\"><title>F4_I&#45;&gt;I_S1</title>\r\n<path fill=\"none\" stroke=\"black\" d=\"M418.703,-39.3939C384.021,-40.1181 326.998,-42.1728 278.195,-48 265.95,-49.462 252.689,-51.7261 240.79,-54.0104\"/>\r\n<polygon fill=\"black\" stroke=\"black\" points=\"239.872,-50.6242 230.745,-56.0034 241.235,-57.4904 239.872,-50.6242\"/>\r\n<text text-anchor=\"middle\" x=\"325.091\" y=\"-51.8\" font-family=\"Times New Roman,serif\" font-size=\"14.00\">1 </text>\r\n</g>\r\n<!-- F4_I&#45;&gt;I -->\r\n<g id=\"edge9\" class=\"edge\"><title>F4_I&#45;&gt;I</title>\r\n<path fill=\"none\" stroke=\"black\" d=\"M418.989,-36.6525C376.367,-33.5287 298.08,-27.9418 231.195,-24 198.953,-22.0999 161.862,-20.3237 137.294,-19.2045\"/>\r\n<polygon fill=\"black\" stroke=\"black\" points=\"137.413,-15.7064 127.266,-18.7525 137.098,-22.6993 137.413,-15.7064\"/>\r\n<text text-anchor=\"middle\" x=\"254.695\" y=\"-29.8\" font-family=\"Times New Roman,serif\" font-size=\"14.00\">0 </text>\r\n</g>\r\n</g>\r\n</svg>\r\n"
     },
     "metadata": {},
     "execution_count": 28
    }
   ],
   "source": [
    "# command-2\n",
    "\n",
    "dotObj_dfa(nfa2dfa(NFAEnds10Eps0, STATENAME_MAXSIZE=50), STATENAME_MAXSIZE=50)"
   ]
  },
  {
   "cell_type": "code",
   "execution_count": 29,
   "metadata": {
    "run_control": {
     "frozen": false,
     "read_only": false
    }
   },
   "outputs": [
    {
     "output_type": "execute_result",
     "data": {
      "text/plain": "{'Q': {'F3', 'F4', 'I', 'S1', 'S2'},\n 'Sigma': {'0', '1'},\n 'Delta': {('I', '0'): {'I'},\n  ('I', '1'): {'I', 'S1'},\n  ('S1', '0'): {'S2'},\n  ('S2', ''): {'F3'},\n  ('F3', ''): {'F3'},\n  ('F3', '0'): {'F4'}},\n 'Q0': {'I'},\n 'F': {'F3', 'F4'}}"
     },
     "metadata": {},
     "execution_count": 29
    }
   ],
   "source": [
    "# Let us see its internal representation -- this may give you hints for answering your question\n",
    "\n",
    "# command-3\n",
    "\n",
    "NFAEnds10Eps0"
   ]
  },
  {
   "cell_type": "markdown",
   "metadata": {},
   "source": [
    "# Problem 3 (LT): Explain the NFA2DFA algorithm\n",
    "\n",
    "Below, you must explain the states of the DFA that resulted from converting the\n",
    "NFA to DFA using subset construction. \n",
    "\n",
    "You must look at the results of running command-1 command-2 and command-3 in answering your question.\n",
    "\n",
    "For each question, your answer must be of\n",
    "the following form:\n",
    "\n",
    "* Currently the NFA is in a *set* of states, say S1. That is already an E-closed state. That is where the DFA begins its operation (in the corresponding DFA state).\n",
    "* Let S1 be {s11, s12} for example. (Notice my use of upper and lower cases.)\n",
    "* Consider a '0' transition\n",
    "* Upon a '0', s11 when to set of states S11, s12 went to set of states S12, and so on.\n",
    "* I performed E-Closure of the states in S11 and that resulted in S11c. (If E-closure did not generate any new states, say \"E-Closure did not generate any new state.\")\n",
    "* Similarly, I performed E-Closure of the states in S12 and that resulted in S12c\n",
    "* Then I unioned S11c and S12c and called it S2\n",
    "* S2 is now an E-closed set of states\n",
    "* Thus, I arrive at a single NFA state corresponding to \n",
    "  - S1 going upon '0' to S2 (and the DFA now has a state corresponding to S2).\n",
    "\n",
    " \n",
    "## QUESTIONS FOR YOU TO ANSWER IN THE ABOVE MANNER\n",
    "\n",
    "### Looking at the NFA NFAEnds10Eps0, why did state I arise in the DFA?\n",
    "<!-- ...Your answer in the above-style bulletted steps describing E-closure and moves on symbols... -->\n",
    "Because it was the only input to the concatinated NFA: `NFAEnds10Eps0`\n",
    "  - NFA starts by entering state `I` denated by the `\"Q0\"` key in the NFA representation.\n",
    "  - DFA must also start with a state equivilent to this NFA `I` state. \n",
    "      - _Since there is only one NFA `\"Q0\"` in the resulting set it can be directly translated to a DFA `\"Q0\"`._\n",
    "\n",
    "### Why did state A1_I arise in the DFA?\n",
    "<!-- ...Your answer in the above-style bulletted steps describing E-closure and moves on symbols... -->\n",
    "A1_I (_i.e._ `I_S1`), shows up because it is the conglomeration of the resulting states that come from `I`\n",
    "  - Starting in a NFA set of states $\\{(I,\\, \\epsilon)\\}$ that is an E-closed State.\n",
    "  - temp\n",
    "\n",
    "### Why did F3_I_T1 arise (mention E-closure steps)\n",
    "\n",
    "...Your answer in the above-style bulletted steps describing E-closure and moves on symbols...\n",
    "\n",
    "\n",
    "### Explain in detail why A1_I went upon a '0' to F3_I_T1 (include all the E-closure steps)\n",
    "\n",
    "...Your answer in the above-style bulletted steps describing E-closure and moves on symbols...\n",
    "\n",
    "\n",
    "### Why did F2_I arise?\n",
    "\n",
    "\n",
    "...Your answer in the above-style bulletted steps describing E-closure and moves on symbols...\n"
   ]
  },
  {
   "cell_type": "markdown",
   "metadata": {},
   "source": [
    "# Problem 4 (AR): Brzozowski's minimization\n",
    "\n",
    "This is to tell you a DFA minimization algorithm that shows you that a bloated DFA can be minimized simply by following these steps, as explained in Section 7.7. In this problem, you will practice these steps on an initial bloated DFA given to you.\n",
    "\n",
    "The steps are these:\n",
    "\n",
    "1. Reverse the given DFA, say DFA_bloated, to obtain an NFA called NFA1 (use the rev_dfa function)\n",
    "\n",
    "2. Determinize NFA1 to obtain a DFA called DFA2\n",
    "\n",
    "3. Reverse DFA2 to obtain another NFA, say NFA2\n",
    "\n",
    "4. Determinize NFA2 to obtain the final minimized DFA, say DFA_min\n",
    "\n",
    "The problem asks you to apply this procedure to minimize an initial DFA_bloated\n",
    "\n"
   ]
  },
  {
   "cell_type": "code",
   "execution_count": 38,
   "metadata": {},
   "outputs": [],
   "source": [
    "# This is a slight variant of Figure 6.7's bloated DFA \n",
    "\n",
    "DFA_bloated = md2mc('''\n",
    "\n",
    "DFA\n",
    "\n",
    "IS1: a -> Temp\n",
    "IS1: b -> FS3\n",
    "\n",
    "Temp: a -> FS2\n",
    "Temp: b -> FS3\n",
    "\n",
    "FS2: a -> S4\n",
    "FS2: b -> S5\n",
    "\n",
    "FS3: a -> S5\n",
    "FS3: b -> S4\n",
    "\n",
    "S4: a|b -> FS6\n",
    "S5: a|b -> FS6\n",
    "\n",
    "FS6: a|b -> FS6\n",
    "\n",
    "''')"
   ]
  },
  {
   "cell_type": "code",
   "execution_count": 39,
   "metadata": {},
   "outputs": [
    {
     "output_type": "execute_result",
     "data": {
      "text/plain": "<graphviz.dot.Digraph at 0x23022496af0>",
      "image/svg+xml": "<?xml version=\"1.0\" encoding=\"UTF-8\" standalone=\"no\"?>\r\n<!DOCTYPE svg PUBLIC \"-//W3C//DTD SVG 1.1//EN\"\r\n \"http://www.w3.org/Graphics/SVG/1.1/DTD/svg11.dtd\">\r\n<!-- Generated by graphviz version 2.38.0 (20140413.2041)\r\n -->\r\n<!-- Title: %3 Pages: 1 -->\r\n<svg width=\"562pt\" height=\"180pt\"\r\n viewBox=\"0.00 0.00 562.38 180.00\" xmlns=\"http://www.w3.org/2000/svg\" xmlns:xlink=\"http://www.w3.org/1999/xlink\">\r\n<g id=\"graph0\" class=\"graph\" transform=\"scale(1 1) rotate(0) translate(4 175.995)\">\r\n<title>%3</title>\r\n<polygon fill=\"white\" stroke=\"none\" points=\"-4,4 -4,-175.995 558.377,-175.995 558.377,4 -4,4\"/>\r\n<!-- EMPTY -->\r\n<g id=\"node1\" class=\"node\"><title>EMPTY</title>\r\n</g>\r\n<!-- IS1 -->\r\n<g id=\"node2\" class=\"node\"><title>IS1</title>\r\n<ellipse fill=\"none\" stroke=\"black\" cx=\"114.398\" cy=\"-53.9977\" rx=\"23.2963\" ry=\"23.2963\"/>\r\n<text text-anchor=\"middle\" x=\"114.398\" y=\"-50.2977\" font-family=\"Times New Roman,serif\" font-size=\"14.00\">IS1</text>\r\n</g>\r\n<!-- EMPTY&#45;&gt;IS1 -->\r\n<g id=\"edge1\" class=\"edge\"><title>EMPTY&#45;&gt;IS1</title>\r\n<path fill=\"none\" stroke=\"black\" d=\"M54.0862,-53.9977C62.5475,-53.9977 72.0398,-53.9977 80.9081,-53.9977\"/>\r\n<polygon fill=\"black\" stroke=\"black\" points=\"80.9327,-57.4978 90.9327,-53.9977 80.9327,-50.4978 80.9327,-57.4978\"/>\r\n</g>\r\n<!-- Temp -->\r\n<g id=\"node4\" class=\"node\"><title>Temp</title>\r\n<ellipse fill=\"none\" stroke=\"black\" cx=\"216.293\" cy=\"-94.9977\" rx=\"32.4942\" ry=\"32.4942\"/>\r\n<text text-anchor=\"middle\" x=\"216.293\" y=\"-91.2977\" font-family=\"Times New Roman,serif\" font-size=\"14.00\">Temp</text>\r\n</g>\r\n<!-- IS1&#45;&gt;Temp -->\r\n<g id=\"edge2\" class=\"edge\"><title>IS1&#45;&gt;Temp</title>\r\n<path fill=\"none\" stroke=\"black\" d=\"M136.583,-62.6927C148.105,-67.4215 162.724,-73.4216 176.227,-78.9639\"/>\r\n<polygon fill=\"black\" stroke=\"black\" points=\"175.222,-82.3348 185.802,-82.8939 177.88,-75.859 175.222,-82.3348\"/>\r\n<text text-anchor=\"middle\" x=\"160.796\" y=\"-78.7977\" font-family=\"Times New Roman,serif\" font-size=\"14.00\">a </text>\r\n</g>\r\n<!-- FS3 -->\r\n<g id=\"node8\" class=\"node\"><title>FS3</title>\r\n<ellipse fill=\"none\" stroke=\"black\" cx=\"326.788\" cy=\"-29.9977\" rx=\"25.9957\" ry=\"25.9957\"/>\r\n<ellipse fill=\"none\" stroke=\"black\" cx=\"326.788\" cy=\"-29.9977\" rx=\"29.9954\" ry=\"29.9954\"/>\r\n<text text-anchor=\"middle\" x=\"326.788\" y=\"-26.2977\" font-family=\"Times New Roman,serif\" font-size=\"14.00\">FS3</text>\r\n</g>\r\n<!-- IS1&#45;&gt;FS3 -->\r\n<g id=\"edge3\" class=\"edge\"><title>IS1&#45;&gt;FS3</title>\r\n<path fill=\"none\" stroke=\"black\" d=\"M137.115,-48.3462C150.485,-45.0895 168.025,-41.2136 183.796,-38.9977 218.325,-34.146 257.949,-31.9084 286.55,-30.8772\"/>\r\n<polygon fill=\"black\" stroke=\"black\" points=\"286.678,-34.3749 296.558,-30.5492 286.449,-27.3787 286.678,-34.3749\"/>\r\n<text text-anchor=\"middle\" x=\"216.293\" y=\"-42.7977\" font-family=\"Times New Roman,serif\" font-size=\"14.00\">b </text>\r\n</g>\r\n<!-- S5 -->\r\n<g id=\"node3\" class=\"node\"><title>S5</title>\r\n<ellipse fill=\"none\" stroke=\"black\" cx=\"425.584\" cy=\"-103.998\" rx=\"20.5982\" ry=\"20.5982\"/>\r\n<text text-anchor=\"middle\" x=\"425.584\" y=\"-100.298\" font-family=\"Times New Roman,serif\" font-size=\"14.00\">S5</text>\r\n</g>\r\n<!-- FS6 -->\r\n<g id=\"node6\" class=\"node\"><title>FS6</title>\r\n<ellipse fill=\"none\" stroke=\"black\" cx=\"524.379\" cy=\"-75.9977\" rx=\"25.9957\" ry=\"25.9957\"/>\r\n<ellipse fill=\"none\" stroke=\"black\" cx=\"524.379\" cy=\"-75.9977\" rx=\"29.9954\" ry=\"29.9954\"/>\r\n<text text-anchor=\"middle\" x=\"524.379\" y=\"-72.2977\" font-family=\"Times New Roman,serif\" font-size=\"14.00\">FS6</text>\r\n</g>\r\n<!-- S5&#45;&gt;FS6 -->\r\n<g id=\"edge12\" class=\"edge\"><title>S5&#45;&gt;FS6</title>\r\n<path fill=\"none\" stroke=\"black\" d=\"M445.394,-110.616C454.874,-112.962 466.437,-114.294 476.382,-110.998 482.466,-108.981 488.401,-105.838 493.893,-102.244\"/>\r\n<polygon fill=\"black\" stroke=\"black\" points=\"496.046,-105.006 502.116,-96.3226 491.956,-99.3259 496.046,-105.006\"/>\r\n<text text-anchor=\"middle\" x=\"470.382\" y=\"-115.798\" font-family=\"Times New Roman,serif\" font-size=\"14.00\">a </text>\r\n</g>\r\n<!-- S5&#45;&gt;FS6 -->\r\n<g id=\"edge13\" class=\"edge\"><title>S5&#45;&gt;FS6</title>\r\n<path fill=\"none\" stroke=\"black\" d=\"M445.764,-97.7342C451.714,-95.838 458.305,-93.7854 464.382,-91.9977 471.085,-90.0255 478.244,-88.0094 485.179,-86.1024\"/>\r\n<polygon fill=\"black\" stroke=\"black\" points=\"486.371,-89.4056 495.102,-83.4043 484.534,-82.6508 486.371,-89.4056\"/>\r\n<text text-anchor=\"middle\" x=\"470.382\" y=\"-95.7977\" font-family=\"Times New Roman,serif\" font-size=\"14.00\">b </text>\r\n</g>\r\n<!-- FS2 -->\r\n<g id=\"node7\" class=\"node\"><title>FS2</title>\r\n<ellipse fill=\"none\" stroke=\"black\" cx=\"326.788\" cy=\"-107.998\" rx=\"25.9957\" ry=\"25.9957\"/>\r\n<ellipse fill=\"none\" stroke=\"black\" cx=\"326.788\" cy=\"-107.998\" rx=\"29.9954\" ry=\"29.9954\"/>\r\n<text text-anchor=\"middle\" x=\"326.788\" y=\"-104.298\" font-family=\"Times New Roman,serif\" font-size=\"14.00\">FS2</text>\r\n</g>\r\n<!-- Temp&#45;&gt;FS2 -->\r\n<g id=\"edge4\" class=\"edge\"><title>Temp&#45;&gt;FS2</title>\r\n<path fill=\"none\" stroke=\"black\" d=\"M248.674,-98.7578C260.506,-100.176 274.115,-101.806 286.575,-103.299\"/>\r\n<polygon fill=\"black\" stroke=\"black\" points=\"286.361,-106.798 296.706,-104.513 287.194,-99.8482 286.361,-106.798\"/>\r\n<text text-anchor=\"middle\" x=\"272.79\" y=\"-106.798\" font-family=\"Times New Roman,serif\" font-size=\"14.00\">a </text>\r\n</g>\r\n<!-- Temp&#45;&gt;FS3 -->\r\n<g id=\"edge5\" class=\"edge\"><title>Temp&#45;&gt;FS3</title>\r\n<path fill=\"none\" stroke=\"black\" d=\"M244.671,-78.5954C259.049,-69.9813 276.797,-59.3485 292.022,-50.2272\"/>\r\n<polygon fill=\"black\" stroke=\"black\" points=\"293.87,-53.1998 300.65,-45.058 290.273,-47.195 293.87,-53.1998\"/>\r\n<text text-anchor=\"middle\" x=\"272.79\" y=\"-68.7977\" font-family=\"Times New Roman,serif\" font-size=\"14.00\">b </text>\r\n</g>\r\n<!-- S4 -->\r\n<g id=\"node5\" class=\"node\"><title>S4</title>\r\n<ellipse fill=\"none\" stroke=\"black\" cx=\"425.584\" cy=\"-30.9977\" rx=\"20.5982\" ry=\"20.5982\"/>\r\n<text text-anchor=\"middle\" x=\"425.584\" y=\"-27.2977\" font-family=\"Times New Roman,serif\" font-size=\"14.00\">S4</text>\r\n</g>\r\n<!-- S4&#45;&gt;FS6 -->\r\n<g id=\"edge10\" class=\"edge\"><title>S4&#45;&gt;FS6</title>\r\n<path fill=\"none\" stroke=\"black\" d=\"M444.79,-39.4618C456.83,-45.059 473.02,-52.5856 487.576,-59.3528\"/>\r\n<polygon fill=\"black\" stroke=\"black\" points=\"486.302,-62.6203 496.846,-63.6622 489.253,-56.2727 486.302,-62.6203\"/>\r\n<text text-anchor=\"middle\" x=\"470.382\" y=\"-57.7977\" font-family=\"Times New Roman,serif\" font-size=\"14.00\">a </text>\r\n</g>\r\n<!-- S4&#45;&gt;FS6 -->\r\n<g id=\"edge11\" class=\"edge\"><title>S4&#45;&gt;FS6</title>\r\n<path fill=\"none\" stroke=\"black\" d=\"M446.142,-27.6837C455.595,-26.8992 466.915,-27.1962 476.382,-30.9977 484.195,-34.135 491.442,-39.2598 497.791,-44.9489\"/>\r\n<polygon fill=\"black\" stroke=\"black\" points=\"495.74,-47.8401 505.327,-52.3497 500.644,-42.8458 495.74,-47.8401\"/>\r\n<text text-anchor=\"middle\" x=\"470.382\" y=\"-34.7977\" font-family=\"Times New Roman,serif\" font-size=\"14.00\">b </text>\r\n</g>\r\n<!-- FS6&#45;&gt;FS6 -->\r\n<g id=\"edge14\" class=\"edge\"><title>FS6&#45;&gt;FS6</title>\r\n<path fill=\"none\" stroke=\"black\" d=\"M519.504,-105.996C519.504,-115.996 521.129,-123.995 524.379,-123.995 526.411,-123.995 527.807,-120.871 528.569,-116.086\"/>\r\n<polygon fill=\"black\" stroke=\"black\" points=\"532.068,-116.211 529.254,-105.996 525.085,-115.736 532.068,-116.211\"/>\r\n<text text-anchor=\"middle\" x=\"524.379\" y=\"-127.795\" font-family=\"Times New Roman,serif\" font-size=\"14.00\">a </text>\r\n</g>\r\n<!-- FS6&#45;&gt;FS6 -->\r\n<g id=\"edge15\" class=\"edge\"><title>FS6&#45;&gt;FS6</title>\r\n<path fill=\"none\" stroke=\"black\" d=\"M515.444,-104.833C513.022,-123.718 516.001,-141.995 524.379,-141.995 531.253,-141.995 534.492,-129.696 534.097,-114.852\"/>\r\n<polygon fill=\"black\" stroke=\"black\" points=\"537.583,-114.53 533.315,-104.833 530.604,-115.075 537.583,-114.53\"/>\r\n<text text-anchor=\"middle\" x=\"524.379\" y=\"-145.795\" font-family=\"Times New Roman,serif\" font-size=\"14.00\">b </text>\r\n</g>\r\n<!-- FS2&#45;&gt;S5 -->\r\n<g id=\"edge7\" class=\"edge\"><title>FS2&#45;&gt;S5</title>\r\n<path fill=\"none\" stroke=\"black\" d=\"M356.83,-106.798C368.803,-106.303 382.669,-105.73 394.727,-105.232\"/>\r\n<polygon fill=\"black\" stroke=\"black\" points=\"394.917,-108.727 404.764,-104.817 394.628,-101.733 394.917,-108.727\"/>\r\n<text text-anchor=\"middle\" x=\"380.785\" y=\"-109.798\" font-family=\"Times New Roman,serif\" font-size=\"14.00\">b </text>\r\n</g>\r\n<!-- FS2&#45;&gt;S4 -->\r\n<g id=\"edge6\" class=\"edge\"><title>FS2&#45;&gt;S4</title>\r\n<path fill=\"none\" stroke=\"black\" d=\"M352.131,-91.7149C362.977,-84.1962 375.763,-74.9624 386.785,-65.9977 392.067,-61.7018 397.55,-56.866 402.647,-52.1911\"/>\r\n<polygon fill=\"black\" stroke=\"black\" points=\"405.341,-54.4642 410.256,-45.0782 400.561,-49.3507 405.341,-54.4642\"/>\r\n<text text-anchor=\"middle\" x=\"380.785\" y=\"-78.7977\" font-family=\"Times New Roman,serif\" font-size=\"14.00\">a </text>\r\n</g>\r\n<!-- FS3&#45;&gt;S5 -->\r\n<g id=\"edge8\" class=\"edge\"><title>FS3&#45;&gt;S5</title>\r\n<path fill=\"none\" stroke=\"black\" d=\"M356.242,-36.3049C366.552,-39.5335 377.848,-44.2508 386.785,-50.9977 396.013,-57.9638 403.902,-67.8265 410.049,-77.158\"/>\r\n<polygon fill=\"black\" stroke=\"black\" points=\"407.168,-79.1542 415.395,-85.8302 413.127,-75.481 407.168,-79.1542\"/>\r\n<text text-anchor=\"middle\" x=\"380.785\" y=\"-54.7977\" font-family=\"Times New Roman,serif\" font-size=\"14.00\">a </text>\r\n</g>\r\n<!-- FS3&#45;&gt;S4 -->\r\n<g id=\"edge9\" class=\"edge\"><title>FS3&#45;&gt;S4</title>\r\n<path fill=\"none\" stroke=\"black\" d=\"M353.757,-16.6567C363.982,-12.9476 375.868,-10.531 386.785,-12.9977 390.476,-13.8317 394.229,-15.0709 397.867,-16.5161\"/>\r\n<polygon fill=\"black\" stroke=\"black\" points=\"396.547,-19.7605 407.102,-20.6855 399.428,-13.3806 396.547,-19.7605\"/>\r\n<text text-anchor=\"middle\" x=\"380.785\" y=\"-16.7977\" font-family=\"Times New Roman,serif\" font-size=\"14.00\">b </text>\r\n</g>\r\n</g>\r\n</svg>\r\n"
     },
     "metadata": {},
     "execution_count": 39
    }
   ],
   "source": [
    "dotObj_dfa(DFA_bloated)"
   ]
  },
  {
   "cell_type": "markdown",
   "metadata": {},
   "source": [
    "## Problem 4.1:  Show the result of reversing the above DFA"
   ]
  },
  {
   "cell_type": "code",
   "execution_count": 40,
   "metadata": {
    "tags": []
   },
   "outputs": [
    {
     "output_type": "stream",
     "name": "stdout",
     "text": "Help on function rev_dfa in module jove.Def_NFA:\n\nrev_dfa(D)\n    In : D = a partially consistent DFA without any unreachable states.\n    Out: A consistent NFA whose language is D's language reversed.\n\n"
    }
   ],
   "source": [
    "help(rev_dfa)"
   ]
  },
  {
   "cell_type": "markdown",
   "metadata": {},
   "source": [
    "### The reverse invocation"
   ]
  },
  {
   "cell_type": "code",
   "execution_count": 41,
   "metadata": {},
   "outputs": [],
   "source": [
    "# Reverse DFA_bloated here\n",
    "\n",
    "NFA1 = rev_dfa(DFA_bloated)"
   ]
  },
  {
   "cell_type": "code",
   "execution_count": 42,
   "metadata": {},
   "outputs": [
    {
     "output_type": "execute_result",
     "data": {
      "text/plain": "<graphviz.dot.Digraph at 0x230233452b0>",
      "image/svg+xml": "<?xml version=\"1.0\" encoding=\"UTF-8\" standalone=\"no\"?>\r\n<!DOCTYPE svg PUBLIC \"-//W3C//DTD SVG 1.1//EN\"\r\n \"http://www.w3.org/Graphics/SVG/1.1/DTD/svg11.dtd\">\r\n<!-- Generated by graphviz version 2.38.0 (20140413.2041)\r\n -->\r\n<!-- Title: %3 Pages: 1 -->\r\n<svg width=\"554pt\" height=\"175pt\"\r\n viewBox=\"0.00 0.00 554.38 175.44\" xmlns=\"http://www.w3.org/2000/svg\" xmlns:xlink=\"http://www.w3.org/1999/xlink\">\r\n<g id=\"graph0\" class=\"graph\" transform=\"scale(1 1) rotate(0) translate(4 171.436)\">\r\n<title>%3</title>\r\n<polygon fill=\"white\" stroke=\"none\" points=\"-4,4 -4,-171.436 550.377,-171.436 550.377,4 -4,4\"/>\r\n<!-- EMPTY -->\r\n<g id=\"node1\" class=\"node\"><title>EMPTY</title>\r\n</g>\r\n<!-- FS3 -->\r\n<g id=\"node2\" class=\"node\"><title>FS3</title>\r\n<ellipse fill=\"none\" stroke=\"black\" cx=\"306.589\" cy=\"-126.557\" rx=\"25.9954\" ry=\"25.9954\"/>\r\n<text text-anchor=\"middle\" x=\"306.589\" y=\"-122.857\" font-family=\"Times New Roman,serif\" font-size=\"14.00\">FS3</text>\r\n</g>\r\n<!-- EMPTY&#45;&gt;FS3 -->\r\n<g id=\"edge3\" class=\"edge\"><title>EMPTY&#45;&gt;FS3</title>\r\n<path fill=\"none\" stroke=\"black\" d=\"M33.2939,-68.8123C41.3444,-92.7895 59.1948,-133.91 91,-151.557 149.086,-183.784 229.507,-159.455 273.559,-141.399\"/>\r\n<polygon fill=\"black\" stroke=\"black\" points=\"275.064,-144.563 282.905,-137.437 272.332,-138.118 275.064,-144.563\"/>\r\n</g>\r\n<!-- FS6 -->\r\n<g id=\"node5\" class=\"node\"><title>FS6</title>\r\n<ellipse fill=\"none\" stroke=\"black\" cx=\"116.998\" cy=\"-50.5569\" rx=\"25.9954\" ry=\"25.9954\"/>\r\n<text text-anchor=\"middle\" x=\"116.998\" y=\"-46.8569\" font-family=\"Times New Roman,serif\" font-size=\"14.00\">FS6</text>\r\n</g>\r\n<!-- EMPTY&#45;&gt;FS6 -->\r\n<g id=\"edge1\" class=\"edge\"><title>EMPTY&#45;&gt;FS6</title>\r\n<path fill=\"none\" stroke=\"black\" d=\"M54.4022,-50.5569C62.6985,-50.5569 71.9941,-50.5569 80.7994,-50.5569\"/>\r\n<polygon fill=\"black\" stroke=\"black\" points=\"80.8216,-54.057 90.8216,-50.5569 80.8215,-47.057 80.8216,-54.057\"/>\r\n</g>\r\n<!-- FS2 -->\r\n<g id=\"node6\" class=\"node\"><title>FS2</title>\r\n<ellipse fill=\"none\" stroke=\"black\" cx=\"306.589\" cy=\"-34.5569\" rx=\"25.9954\" ry=\"25.9954\"/>\r\n<text text-anchor=\"middle\" x=\"306.589\" y=\"-30.8569\" font-family=\"Times New Roman,serif\" font-size=\"14.00\">FS2</text>\r\n</g>\r\n<!-- EMPTY&#45;&gt;FS2 -->\r\n<g id=\"edge2\" class=\"edge\"><title>EMPTY&#45;&gt;FS2</title>\r\n<path fill=\"none\" stroke=\"black\" d=\"M54.1582,-32.7246C65.076,-26.1794 78.1845,-19.4296 91,-15.5569 151.335,2.67595 170.548,3.54966 232.592,-7.55685 246.34,-10.018 260.888,-14.8937 273.347,-19.8327\"/>\r\n<polygon fill=\"black\" stroke=\"black\" points=\"272.258,-23.1699 282.836,-23.7623 274.936,-16.7025 272.258,-23.1699\"/>\r\n</g>\r\n<!-- Temp -->\r\n<g id=\"node4\" class=\"node\"><title>Temp</title>\r\n<ellipse fill=\"none\" stroke=\"black\" cx=\"413.084\" cy=\"-58.5569\" rx=\"32.4942\" ry=\"32.4942\"/>\r\n<text text-anchor=\"middle\" x=\"413.084\" y=\"-54.8569\" font-family=\"Times New Roman,serif\" font-size=\"14.00\">Temp</text>\r\n</g>\r\n<!-- FS3&#45;&gt;Temp -->\r\n<g id=\"edge5\" class=\"edge\"><title>FS3&#45;&gt;Temp</title>\r\n<path fill=\"none\" stroke=\"black\" d=\"M328.505,-112.278C335.498,-107.55 343.353,-102.289 350.587,-97.5569 358.911,-92.1122 367.926,-86.3308 376.422,-80.9338\"/>\r\n<polygon fill=\"black\" stroke=\"black\" points=\"378.461,-83.7856 385.037,-75.4789 374.716,-77.8714 378.461,-83.7856\"/>\r\n<text text-anchor=\"middle\" x=\"356.587\" y=\"-101.357\" font-family=\"Times New Roman,serif\" font-size=\"14.00\">b </text>\r\n</g>\r\n<!-- IS1 -->\r\n<g id=\"node8\" class=\"node\"><title>IS1</title>\r\n<ellipse fill=\"none\" stroke=\"black\" cx=\"518.979\" cy=\"-101.557\" rx=\"23.3111\" ry=\"23.3111\"/>\r\n<ellipse fill=\"none\" stroke=\"black\" cx=\"518.979\" cy=\"-101.557\" rx=\"27.2962\" ry=\"27.2962\"/>\r\n<text text-anchor=\"middle\" x=\"518.979\" y=\"-97.8569\" font-family=\"Times New Roman,serif\" font-size=\"14.00\">IS1</text>\r\n</g>\r\n<!-- FS3&#45;&gt;IS1 -->\r\n<g id=\"edge4\" class=\"edge\"><title>FS3&#45;&gt;IS1</title>\r\n<path fill=\"none\" stroke=\"black\" d=\"M332.55,-123.591C369.555,-119.194 439.173,-110.921 481.778,-105.859\"/>\r\n<polygon fill=\"black\" stroke=\"black\" points=\"482.215,-109.331 491.732,-104.676 481.389,-102.38 482.215,-109.331\"/>\r\n<text text-anchor=\"middle\" x=\"413.084\" y=\"-122.357\" font-family=\"Times New Roman,serif\" font-size=\"14.00\">b </text>\r\n</g>\r\n<!-- S5 -->\r\n<g id=\"node3\" class=\"node\"><title>S5</title>\r\n<ellipse fill=\"none\" stroke=\"black\" cx=\"211.794\" cy=\"-37.5569\" rx=\"20.5982\" ry=\"20.5982\"/>\r\n<text text-anchor=\"middle\" x=\"211.794\" y=\"-33.8569\" font-family=\"Times New Roman,serif\" font-size=\"14.00\">S5</text>\r\n</g>\r\n<!-- S5&#45;&gt;FS3 -->\r\n<g id=\"edge6\" class=\"edge\"><title>S5&#45;&gt;FS3</title>\r\n<path fill=\"none\" stroke=\"black\" d=\"M232.264,-42.7115C242.14,-46.0399 253.859,-51.1561 262.592,-58.5569 273.885,-68.1276 283.197,-81.4288 290.233,-93.7311\"/>\r\n<polygon fill=\"black\" stroke=\"black\" points=\"287.334,-95.729 295.165,-102.866 293.494,-92.4036 287.334,-95.729\"/>\r\n<text text-anchor=\"middle\" x=\"256.592\" y=\"-62.3569\" font-family=\"Times New Roman,serif\" font-size=\"14.00\">a </text>\r\n</g>\r\n<!-- S5&#45;&gt;FS2 -->\r\n<g id=\"edge7\" class=\"edge\"><title>S5&#45;&gt;FS2</title>\r\n<path fill=\"none\" stroke=\"black\" d=\"M231.316,-29.82C237.353,-27.6708 244.158,-25.6323 250.592,-24.5569 257.473,-23.4066 264.827,-23.6909 271.845,-24.6949\"/>\r\n<polygon fill=\"black\" stroke=\"black\" points=\"271.313,-28.1566 281.793,-26.5975 272.628,-21.2813 271.313,-28.1566\"/>\r\n<text text-anchor=\"middle\" x=\"256.592\" y=\"-28.3569\" font-family=\"Times New Roman,serif\" font-size=\"14.00\">b </text>\r\n</g>\r\n<!-- Temp&#45;&gt;IS1 -->\r\n<g id=\"edge8\" class=\"edge\"><title>Temp&#45;&gt;IS1</title>\r\n<path fill=\"none\" stroke=\"black\" d=\"M443.301,-70.6492C455.832,-75.8354 470.561,-81.9314 483.611,-87.3327\"/>\r\n<polygon fill=\"black\" stroke=\"black\" points=\"482.622,-90.711 493.2,-91.3012 485.299,-84.243 482.622,-90.711\"/>\r\n<text text-anchor=\"middle\" x=\"468.581\" y=\"-87.3569\" font-family=\"Times New Roman,serif\" font-size=\"14.00\">a </text>\r\n</g>\r\n<!-- FS6&#45;&gt;S5 -->\r\n<g id=\"edge9\" class=\"edge\"><title>FS6&#45;&gt;S5</title>\r\n<path fill=\"none\" stroke=\"black\" d=\"M136.09,-32.4486C143.235,-26.5081 151.907,-20.6425 160.995,-17.5569 169.149,-14.7886 177.906,-16.626 185.768,-20.1042\"/>\r\n<polygon fill=\"black\" stroke=\"black\" points=\"184.347,-23.3139 194.813,-24.9614 187.659,-17.1468 184.347,-23.3139\"/>\r\n<text text-anchor=\"middle\" x=\"166.995\" y=\"-21.3569\" font-family=\"Times New Roman,serif\" font-size=\"14.00\">a </text>\r\n</g>\r\n<!-- FS6&#45;&gt;S5 -->\r\n<g id=\"edge12\" class=\"edge\"><title>FS6&#45;&gt;S5</title>\r\n<path fill=\"none\" stroke=\"black\" d=\"M142.865,-47.0731C154.575,-45.4327 168.635,-43.463 180.918,-41.7422\"/>\r\n<polygon fill=\"black\" stroke=\"black\" points=\"181.733,-45.1622 191.151,-40.3086 180.762,-38.2299 181.733,-45.1622\"/>\r\n<text text-anchor=\"middle\" x=\"166.995\" y=\"-48.3569\" font-family=\"Times New Roman,serif\" font-size=\"14.00\">b </text>\r\n</g>\r\n<!-- FS6&#45;&gt;FS6 -->\r\n<g id=\"edge10\" class=\"edge\"><title>FS6&#45;&gt;FS6</title>\r\n<path fill=\"none\" stroke=\"black\" d=\"M112.889,-76.3166C112.706,-86.2763 114.076,-94.5545 116.998,-94.5545 118.824,-94.5545 120.044,-91.3209 120.657,-86.464\"/>\r\n<polygon fill=\"black\" stroke=\"black\" points=\"124.161,-86.4617 121.107,-76.3166 117.167,-86.1519 124.161,-86.4617\"/>\r\n<text text-anchor=\"middle\" x=\"116.998\" y=\"-98.3545\" font-family=\"Times New Roman,serif\" font-size=\"14.00\">a </text>\r\n</g>\r\n<!-- FS6&#45;&gt;FS6 -->\r\n<g id=\"edge13\" class=\"edge\"><title>FS6&#45;&gt;FS6</title>\r\n<path fill=\"none\" stroke=\"black\" d=\"M109.679,-75.7075C107.21,-94.113 109.65,-112.555 116.998,-112.555 122.968,-112.555 125.698,-100.38 125.187,-85.9426\"/>\r\n<polygon fill=\"black\" stroke=\"black\" points=\"128.652,-85.3748 124.317,-75.7075 121.677,-85.9683 128.652,-85.3748\"/>\r\n<text text-anchor=\"middle\" x=\"116.998\" y=\"-116.355\" font-family=\"Times New Roman,serif\" font-size=\"14.00\">b </text>\r\n</g>\r\n<!-- S4 -->\r\n<g id=\"node7\" class=\"node\"><title>S4</title>\r\n<ellipse fill=\"none\" stroke=\"black\" cx=\"211.794\" cy=\"-106.557\" rx=\"20.5982\" ry=\"20.5982\"/>\r\n<text text-anchor=\"middle\" x=\"211.794\" y=\"-102.857\" font-family=\"Times New Roman,serif\" font-size=\"14.00\">S4</text>\r\n</g>\r\n<!-- FS6&#45;&gt;S4 -->\r\n<g id=\"edge11\" class=\"edge\"><title>FS6&#45;&gt;S4</title>\r\n<path fill=\"none\" stroke=\"black\" d=\"M139.52,-63.5451C153.048,-71.7086 170.58,-82.2891 184.871,-90.9132\"/>\r\n<polygon fill=\"black\" stroke=\"black\" points=\"183.349,-94.0827 193.719,-96.253 186.966,-88.0895 183.349,-94.0827\"/>\r\n<text text-anchor=\"middle\" x=\"166.995\" y=\"-88.3569\" font-family=\"Times New Roman,serif\" font-size=\"14.00\">a </text>\r\n</g>\r\n<!-- FS6&#45;&gt;S4 -->\r\n<g id=\"edge14\" class=\"edge\"><title>FS6&#45;&gt;S4</title>\r\n<path fill=\"none\" stroke=\"black\" d=\"M130.259,-73.215C137.601,-84.4004 148.033,-96.8957 160.995,-103.557 166.961,-106.622 173.874,-108.108 180.615,-108.689\"/>\r\n<polygon fill=\"black\" stroke=\"black\" points=\"180.82,-112.195 190.907,-108.954 181.001,-105.197 180.82,-112.195\"/>\r\n<text text-anchor=\"middle\" x=\"166.995\" y=\"-111.357\" font-family=\"Times New Roman,serif\" font-size=\"14.00\">b </text>\r\n</g>\r\n<!-- FS2&#45;&gt;Temp -->\r\n<g id=\"edge15\" class=\"edge\"><title>FS2&#45;&gt;Temp</title>\r\n<path fill=\"none\" stroke=\"black\" d=\"M332.089,-40.1838C343.722,-42.8556 357.94,-46.1212 371.146,-49.1543\"/>\r\n<polygon fill=\"black\" stroke=\"black\" points=\"370.458,-52.5873 380.988,-51.4147 372.025,-45.765 370.458,-52.5873\"/>\r\n<text text-anchor=\"middle\" x=\"356.587\" y=\"-51.3569\" font-family=\"Times New Roman,serif\" font-size=\"14.00\">a </text>\r\n</g>\r\n<!-- S4&#45;&gt;FS3 -->\r\n<g id=\"edge17\" class=\"edge\"><title>S4&#45;&gt;FS3</title>\r\n<path fill=\"none\" stroke=\"black\" d=\"M232.38,-111.364C238.229,-112.76 244.661,-114.258 250.592,-115.557 257.084,-116.978 264.023,-118.424 270.71,-119.779\"/>\r\n<polygon fill=\"black\" stroke=\"black\" points=\"270.417,-123.29 280.91,-121.819 271.79,-116.426 270.417,-123.29\"/>\r\n<text text-anchor=\"middle\" x=\"256.592\" y=\"-122.357\" font-family=\"Times New Roman,serif\" font-size=\"14.00\">b </text>\r\n</g>\r\n<!-- S4&#45;&gt;FS2 -->\r\n<g id=\"edge16\" class=\"edge\"><title>S4&#45;&gt;FS2</title>\r\n<path fill=\"none\" stroke=\"black\" d=\"M231.021,-97.4158C240.773,-92.1681 252.764,-85.1276 262.592,-77.5569 269.06,-72.5739 275.545,-66.6769 281.446,-60.873\"/>\r\n<polygon fill=\"black\" stroke=\"black\" points=\"284.039,-63.2277 288.562,-53.647 279.052,-58.3158 284.039,-63.2277\"/>\r\n<text text-anchor=\"middle\" x=\"256.592\" y=\"-90.3569\" font-family=\"Times New Roman,serif\" font-size=\"14.00\">a </text>\r\n</g>\r\n</g>\r\n</svg>\r\n"
     },
     "metadata": {},
     "execution_count": 42
    }
   ],
   "source": [
    "dotObj_nfa(NFA1)"
   ]
  },
  {
   "cell_type": "markdown",
   "metadata": {},
   "source": [
    "## Problem 4.2: Check that NFA1 is indeed the reverse of DFA_bloated by checking one string\n",
    "\n",
    "Point out that \"aabba\" is in DFA_bloated's language but its reversal (i.e. \"abbaa\") is in NFA1's language\n",
    "\n",
    "### Which path does abbaa take in being accepted by NFA1 ?\n",
    "<!-- .... LIST THE PATH AS A SEQUENCE OF STATES, HERE .... -->\n",
    "* Starting from State $\\left\\{ FS6,\\, FS3,\\, FS2 \\right\\}$\n",
    "\n",
    "* The next state after 'a' is: $$\\left\\{  FS6,\\, S4,\\, S5,\\, Temp  \\right\\}$$\n",
    "\n",
    "* The next state after 'b' is: $$\\left\\{  FS6,\\, S4,\\, S5,\\, FS2,\\, FS3  \\right\\}$$\n",
    "\n",
    "* The next state after 'b' is: $$\\left\\{  FS6,\\, S4,\\, S5,\\, FS2,\\, FS3,\\, Temp,\\, IS1  \\right\\}$$\n",
    "\n",
    "* The next state after 'a' is: $$\\left\\{  FS6,\\, S4,\\, S5,\\, FS2,\\, FS3,\\, Temp,\\, IS1  \\right\\}$$\n",
    "\n",
    "* The next state after 'a' is: (This must be the final state!) $$\\left\\{  FS6,\\, S4,\\, S5,\\, FS2,\\, FS3,\\, Temp,\\, IS1  \\right\\}$$\n"
   ]
  },
  {
   "cell_type": "markdown",
   "metadata": {},
   "source": [
    "## Problem 4.3: Determinize NFA1 to obtain DFA2"
   ]
  },
  {
   "cell_type": "code",
   "execution_count": 43,
   "metadata": {
    "tags": []
   },
   "outputs": [
    {
     "output_type": "stream",
     "name": "stdout",
     "text": "Help on function nfa2dfa in module jove.Def_NFA:\n\nnfa2dfa(N, STATENAME_MAXSIZE=20)\n    In : N (consistent NFA), and optional STATENAME_MAXSIZE\n         for the generated DFA states\n    Out: A consistent DFA that is language-equivalent to N.\n\n"
    }
   ],
   "source": [
    "help(nfa2dfa)"
   ]
  },
  {
   "cell_type": "code",
   "execution_count": 44,
   "metadata": {},
   "outputs": [],
   "source": [
    "DFA2 = nfa2dfa(NFA1)"
   ]
  },
  {
   "cell_type": "code",
   "execution_count": 45,
   "metadata": {},
   "outputs": [
    {
     "output_type": "execute_result",
     "data": {
      "text/plain": "<graphviz.dot.Digraph at 0x230239f4ac0>",
      "image/svg+xml": "<?xml version=\"1.0\" encoding=\"UTF-8\" standalone=\"no\"?>\r\n<!DOCTYPE svg PUBLIC \"-//W3C//DTD SVG 1.1//EN\"\r\n \"http://www.w3.org/Graphics/SVG/1.1/DTD/svg11.dtd\">\r\n<!-- Generated by graphviz version 2.38.0 (20140413.2041)\r\n -->\r\n<!-- Title: %3 Pages: 1 -->\r\n<svg width=\"540pt\" height=\"179pt\"\r\n viewBox=\"0.00 0.00 540.48 179.50\" xmlns=\"http://www.w3.org/2000/svg\" xmlns:xlink=\"http://www.w3.org/1999/xlink\">\r\n<g id=\"graph0\" class=\"graph\" transform=\"scale(1 1) rotate(0) translate(4 175.496)\">\r\n<title>%3</title>\r\n<polygon fill=\"white\" stroke=\"none\" points=\"-4,4 -4,-175.496 536.48,-175.496 536.48,4 -4,4\"/>\r\n<!-- EMPTY -->\r\n<g id=\"node1\" class=\"node\"><title>EMPTY</title>\r\n</g>\r\n<!-- St4 -->\r\n<g id=\"node5\" class=\"node\"><title>St4</title>\r\n<ellipse fill=\"none\" stroke=\"black\" cx=\"113.748\" cy=\"-64.748\" rx=\"22.9987\" ry=\"22.9987\"/>\r\n<text text-anchor=\"middle\" x=\"113.748\" y=\"-61.048\" font-family=\"Times New Roman,serif\" font-size=\"14.00\">St4</text>\r\n</g>\r\n<!-- EMPTY&#45;&gt;St4 -->\r\n<g id=\"edge1\" class=\"edge\"><title>EMPTY&#45;&gt;St4</title>\r\n<path fill=\"none\" stroke=\"black\" d=\"M54.3502,-64.748C62.71,-64.748 72.0455,-64.748 80.757,-64.748\"/>\r\n<polygon fill=\"black\" stroke=\"black\" points=\"80.9663,-68.2481 90.9663,-64.748 80.9662,-61.2481 80.9663,-68.2481\"/>\r\n</g>\r\n<!-- St6 -->\r\n<g id=\"node2\" class=\"node\"><title>St6</title>\r\n<ellipse fill=\"none\" stroke=\"black\" cx=\"211.244\" cy=\"-95.748\" rx=\"22.9987\" ry=\"22.9987\"/>\r\n<text text-anchor=\"middle\" x=\"211.244\" y=\"-92.048\" font-family=\"Times New Roman,serif\" font-size=\"14.00\">St6</text>\r\n</g>\r\n<!-- St3 -->\r\n<g id=\"node4\" class=\"node\"><title>St3</title>\r\n<ellipse fill=\"none\" stroke=\"black\" cx=\"312.74\" cy=\"-111.748\" rx=\"22.9987\" ry=\"22.9987\"/>\r\n<text text-anchor=\"middle\" x=\"312.74\" y=\"-108.048\" font-family=\"Times New Roman,serif\" font-size=\"14.00\">St3</text>\r\n</g>\r\n<!-- St6&#45;&gt;St3 -->\r\n<g id=\"edge5\" class=\"edge\"><title>St6&#45;&gt;St3</title>\r\n<path fill=\"none\" stroke=\"black\" d=\"M233.833,-99.2197C247.393,-101.4 265.114,-104.25 280.229,-106.681\"/>\r\n<polygon fill=\"black\" stroke=\"black\" points=\"279.764,-110.151 290.193,-108.283 280.875,-103.24 279.764,-110.151\"/>\r\n<text text-anchor=\"middle\" x=\"261.992\" y=\"-108.548\" font-family=\"Times New Roman,serif\" font-size=\"14.00\">b </text>\r\n</g>\r\n<!-- St1 -->\r\n<g id=\"node8\" class=\"node\"><title>St1</title>\r\n<ellipse fill=\"none\" stroke=\"black\" cx=\"312.74\" cy=\"-26.748\" rx=\"22.9609\" ry=\"22.9609\"/>\r\n<ellipse fill=\"none\" stroke=\"black\" cx=\"312.74\" cy=\"-26.748\" rx=\"26.9983\" ry=\"26.9983\"/>\r\n<text text-anchor=\"middle\" x=\"312.74\" y=\"-23.048\" font-family=\"Times New Roman,serif\" font-size=\"14.00\">St1</text>\r\n</g>\r\n<!-- St6&#45;&gt;St1 -->\r\n<g id=\"edge4\" class=\"edge\"><title>St6&#45;&gt;St1</title>\r\n<path fill=\"none\" stroke=\"black\" d=\"M231.051,-84.0825C241.966,-77.1939 255.903,-68.1939 267.992,-59.748 272.888,-56.3272 278.014,-52.5996 282.962,-48.9213\"/>\r\n<polygon fill=\"black\" stroke=\"black\" points=\"285.161,-51.6473 291.051,-42.8405 280.954,-46.0522 285.161,-51.6473\"/>\r\n<text text-anchor=\"middle\" x=\"261.992\" y=\"-71.548\" font-family=\"Times New Roman,serif\" font-size=\"14.00\">a </text>\r\n</g>\r\n<!-- St2 -->\r\n<g id=\"node3\" class=\"node\"><title>St2</title>\r\n<ellipse fill=\"none\" stroke=\"black\" cx=\"408.236\" cy=\"-75.748\" rx=\"22.9987\" ry=\"22.9987\"/>\r\n<text text-anchor=\"middle\" x=\"408.236\" y=\"-72.048\" font-family=\"Times New Roman,serif\" font-size=\"14.00\">St2</text>\r\n</g>\r\n<!-- St0 -->\r\n<g id=\"node6\" class=\"node\"><title>St0</title>\r\n<ellipse fill=\"none\" stroke=\"black\" cx=\"505.732\" cy=\"-78.748\" rx=\"22.9609\" ry=\"22.9609\"/>\r\n<ellipse fill=\"none\" stroke=\"black\" cx=\"505.732\" cy=\"-78.748\" rx=\"26.9983\" ry=\"26.9983\"/>\r\n<text text-anchor=\"middle\" x=\"505.732\" y=\"-75.048\" font-family=\"Times New Roman,serif\" font-size=\"14.00\">St0</text>\r\n</g>\r\n<!-- St2&#45;&gt;St0 -->\r\n<g id=\"edge12\" class=\"edge\"><title>St2&#45;&gt;St0</title>\r\n<path fill=\"none\" stroke=\"black\" d=\"M428.696,-65.5048C438.315,-61.6272 450.156,-58.6075 460.984,-60.748 464.474,-61.4378 468.035,-62.4095 471.543,-63.5479\"/>\r\n<polygon fill=\"black\" stroke=\"black\" points=\"470.595,-66.9286 481.189,-67.102 473.016,-60.3603 470.595,-66.9286\"/>\r\n<text text-anchor=\"middle\" x=\"454.984\" y=\"-64.548\" font-family=\"Times New Roman,serif\" font-size=\"14.00\">a </text>\r\n</g>\r\n<!-- St2&#45;&gt;St0 -->\r\n<g id=\"edge13\" class=\"edge\"><title>St2&#45;&gt;St0</title>\r\n<path fill=\"none\" stroke=\"black\" d=\"M431.385,-76.4438C442.49,-76.7927 456.219,-77.224 468.785,-77.6187\"/>\r\n<polygon fill=\"black\" stroke=\"black\" points=\"468.879,-81.1233 478.984,-77.9391 469.098,-74.1267 468.879,-81.1233\"/>\r\n<text text-anchor=\"middle\" x=\"454.984\" y=\"-81.548\" font-family=\"Times New Roman,serif\" font-size=\"14.00\">b </text>\r\n</g>\r\n<!-- St3&#45;&gt;St2 -->\r\n<g id=\"edge10\" class=\"edge\"><title>St3&#45;&gt;St2</title>\r\n<path fill=\"none\" stroke=\"black\" d=\"M334.49,-103.758C347.044,-98.9245 363.266,-92.6782 377.205,-87.3112\"/>\r\n<polygon fill=\"black\" stroke=\"black\" points=\"378.791,-90.4509 386.866,-83.5914 376.276,-83.9184 378.791,-90.4509\"/>\r\n<text text-anchor=\"middle\" x=\"362.488\" y=\"-99.548\" font-family=\"Times New Roman,serif\" font-size=\"14.00\">a </text>\r\n</g>\r\n<!-- St3&#45;&gt;St0 -->\r\n<g id=\"edge11\" class=\"edge\"><title>St3&#45;&gt;St0</title>\r\n<path fill=\"none\" stroke=\"black\" d=\"M335.532,-113.537C342.538,-114.034 350.336,-114.503 357.488,-114.748 390.281,-115.871 399.04,-115.248 430.984,-107.748 444.809,-104.502 447.748,-101.895 460.984,-96.748 464.299,-95.4587 467.745,-94.0904 471.182,-92.7068\"/>\r\n<polygon fill=\"black\" stroke=\"black\" points=\"472.789,-95.8318 480.731,-88.8196 470.149,-89.3485 472.789,-95.8318\"/>\r\n<text text-anchor=\"middle\" x=\"408.236\" y=\"-119.548\" font-family=\"Times New Roman,serif\" font-size=\"14.00\">b </text>\r\n</g>\r\n<!-- St4&#45;&gt;St6 -->\r\n<g id=\"edge2\" class=\"edge\"><title>St4&#45;&gt;St6</title>\r\n<path fill=\"none\" stroke=\"black\" d=\"M135.942,-71.6279C148.764,-75.7905 165.334,-81.1692 179.571,-85.7908\"/>\r\n<polygon fill=\"black\" stroke=\"black\" points=\"178.846,-89.2353 189.438,-88.994 181.007,-82.5773 178.846,-89.2353\"/>\r\n<text text-anchor=\"middle\" x=\"160.496\" y=\"-85.548\" font-family=\"Times New Roman,serif\" font-size=\"14.00\">a </text>\r\n</g>\r\n<!-- St5 -->\r\n<g id=\"node7\" class=\"node\"><title>St5</title>\r\n<ellipse fill=\"none\" stroke=\"black\" cx=\"211.244\" cy=\"-28.748\" rx=\"22.9609\" ry=\"22.9609\"/>\r\n<ellipse fill=\"none\" stroke=\"black\" cx=\"211.244\" cy=\"-28.748\" rx=\"26.9983\" ry=\"26.9983\"/>\r\n<text text-anchor=\"middle\" x=\"211.244\" y=\"-25.048\" font-family=\"Times New Roman,serif\" font-size=\"14.00\">St5</text>\r\n</g>\r\n<!-- St4&#45;&gt;St5 -->\r\n<g id=\"edge3\" class=\"edge\"><title>St4&#45;&gt;St5</title>\r\n<path fill=\"none\" stroke=\"black\" d=\"M135.469,-56.9365C147.387,-52.4436 162.655,-46.6879 176.284,-41.5501\"/>\r\n<polygon fill=\"black\" stroke=\"black\" points=\"177.724,-44.7477 185.847,-37.9451 175.255,-38.1976 177.724,-44.7477\"/>\r\n<text text-anchor=\"middle\" x=\"160.496\" y=\"-53.548\" font-family=\"Times New Roman,serif\" font-size=\"14.00\">b </text>\r\n</g>\r\n<!-- St0&#45;&gt;St0 -->\r\n<g id=\"edge14\" class=\"edge\"><title>St0&#45;&gt;St0</title>\r\n<path fill=\"none\" stroke=\"black\" d=\"M501.055,-105.393C500.901,-115.322 502.46,-123.496 505.732,-123.496 507.777,-123.496 509.152,-120.303 509.859,-115.484\"/>\r\n<polygon fill=\"black\" stroke=\"black\" points=\"513.36,-115.568 510.409,-105.393 506.37,-115.187 513.36,-115.568\"/>\r\n<text text-anchor=\"middle\" x=\"505.732\" y=\"-127.296\" font-family=\"Times New Roman,serif\" font-size=\"14.00\">a </text>\r\n</g>\r\n<!-- St0&#45;&gt;St0 -->\r\n<g id=\"edge15\" class=\"edge\"><title>St0&#45;&gt;St0</title>\r\n<path fill=\"none\" stroke=\"black\" d=\"M497.415,-104.203C494.61,-122.831 497.382,-141.496 505.732,-141.496 512.516,-141.496 515.618,-129.174 515.038,-114.562\"/>\r\n<polygon fill=\"black\" stroke=\"black\" points=\"518.484,-113.825 514.049,-104.203 511.516,-114.491 518.484,-113.825\"/>\r\n<text text-anchor=\"middle\" x=\"505.732\" y=\"-145.296\" font-family=\"Times New Roman,serif\" font-size=\"14.00\">b </text>\r\n</g>\r\n<!-- St5&#45;&gt;St3 -->\r\n<g id=\"edge7\" class=\"edge\"><title>St5&#45;&gt;St3</title>\r\n<path fill=\"none\" stroke=\"black\" d=\"M238.125,-29.9974C248.183,-31.5341 259.342,-34.6336 267.992,-40.748 275.923,-46.3537 287.556,-65.5825 296.832,-82.6167\"/>\r\n<polygon fill=\"black\" stroke=\"black\" points=\"293.911,-84.5773 301.705,-91.7539 300.088,-81.2832 293.911,-84.5773\"/>\r\n<text text-anchor=\"middle\" x=\"261.992\" y=\"-44.548\" font-family=\"Times New Roman,serif\" font-size=\"14.00\">b </text>\r\n</g>\r\n<!-- St5&#45;&gt;St1 -->\r\n<g id=\"edge6\" class=\"edge\"><title>St5&#45;&gt;St1</title>\r\n<path fill=\"none\" stroke=\"black\" d=\"M234.633,-14.9911C241.269,-11.6146 248.713,-8.4752 255.992,-6.74798 264.1,-4.82398 272.662,-6.12279 280.578,-8.79663\"/>\r\n<polygon fill=\"black\" stroke=\"black\" points=\"279.259,-12.0388 289.839,-12.6159 281.928,-5.56756 279.259,-12.0388\"/>\r\n<text text-anchor=\"middle\" x=\"261.992\" y=\"-10.548\" font-family=\"Times New Roman,serif\" font-size=\"14.00\">a </text>\r\n</g>\r\n<!-- St1&#45;&gt;St2 -->\r\n<g id=\"edge8\" class=\"edge\"><title>St1&#45;&gt;St2</title>\r\n<path fill=\"none\" stroke=\"black\" d=\"M336.851,-38.8603C349.593,-45.5381 365.514,-53.8819 378.989,-60.9441\"/>\r\n<polygon fill=\"black\" stroke=\"black\" points=\"377.376,-64.0504 387.858,-65.5924 380.626,-57.8503 377.376,-64.0504\"/>\r\n<text text-anchor=\"middle\" x=\"362.488\" y=\"-58.548\" font-family=\"Times New Roman,serif\" font-size=\"14.00\">a </text>\r\n</g>\r\n<!-- St1&#45;&gt;St0 -->\r\n<g id=\"edge9\" class=\"edge\"><title>St1&#45;&gt;St0</title>\r\n<path fill=\"none\" stroke=\"black\" d=\"M339.573,-23.0397C363.791,-20.5209 400.705,-19.168 430.984,-28.748 447.8,-34.0685 464.267,-44.5687 477.359,-54.579\"/>\r\n<polygon fill=\"black\" stroke=\"black\" points=\"475.445,-57.5288 485.445,-61.0271 479.809,-52.0559 475.445,-57.5288\"/>\r\n<text text-anchor=\"middle\" x=\"408.236\" y=\"-32.548\" font-family=\"Times New Roman,serif\" font-size=\"14.00\">b </text>\r\n</g>\r\n</g>\r\n</svg>\r\n"
     },
     "metadata": {},
     "execution_count": 45
    }
   ],
   "source": [
    "dotObj_dfa(DFA2)"
   ]
  },
  {
   "cell_type": "markdown",
   "metadata": {},
   "source": [
    "## Problem 4.4: Reverse DFA2 to obtain NFA3"
   ]
  },
  {
   "cell_type": "code",
   "execution_count": 46,
   "metadata": {},
   "outputs": [],
   "source": [
    "NFA3 = rev_dfa(DFA2)"
   ]
  },
  {
   "cell_type": "code",
   "execution_count": 47,
   "metadata": {},
   "outputs": [
    {
     "output_type": "execute_result",
     "data": {
      "text/plain": "<graphviz.dot.Digraph at 0x23023bdc460>",
      "image/svg+xml": "<?xml version=\"1.0\" encoding=\"UTF-8\" standalone=\"no\"?>\r\n<!DOCTYPE svg PUBLIC \"-//W3C//DTD SVG 1.1//EN\"\r\n \"http://www.w3.org/Graphics/SVG/1.1/DTD/svg11.dtd\">\r\n<!-- Generated by graphviz version 2.38.0 (20140413.2041)\r\n -->\r\n<!-- Title: %3 Pages: 1 -->\r\n<svg width=\"524pt\" height=\"205pt\"\r\n viewBox=\"0.00 0.00 524.48 205.47\" xmlns=\"http://www.w3.org/2000/svg\" xmlns:xlink=\"http://www.w3.org/1999/xlink\">\r\n<g id=\"graph0\" class=\"graph\" transform=\"scale(1 1) rotate(0) translate(4 201.471)\">\r\n<title>%3</title>\r\n<polygon fill=\"white\" stroke=\"none\" points=\"-4,4 -4,-201.471 520.48,-201.471 520.48,4 -4,4\"/>\r\n<!-- EMPTY -->\r\n<g id=\"node1\" class=\"node\"><title>EMPTY</title>\r\n</g>\r\n<!-- St0 -->\r\n<g id=\"node2\" class=\"node\"><title>St0</title>\r\n<ellipse fill=\"none\" stroke=\"black\" cx=\"113.748\" cy=\"-85\" rx=\"22.9987\" ry=\"22.9987\"/>\r\n<text text-anchor=\"middle\" x=\"113.748\" y=\"-81.3\" font-family=\"Times New Roman,serif\" font-size=\"14.00\">St0</text>\r\n</g>\r\n<!-- EMPTY&#45;&gt;St0 -->\r\n<g id=\"edge1\" class=\"edge\"><title>EMPTY&#45;&gt;St0</title>\r\n<path fill=\"none\" stroke=\"black\" d=\"M54.3502,-85C62.71,-85 72.0455,-85 80.757,-85\"/>\r\n<polygon fill=\"black\" stroke=\"black\" points=\"80.9663,-88.5001 90.9663,-85 80.9662,-81.5001 80.9663,-88.5001\"/>\r\n</g>\r\n<!-- St1 -->\r\n<g id=\"node3\" class=\"node\"><title>St1</title>\r\n<ellipse fill=\"none\" stroke=\"black\" cx=\"298.74\" cy=\"-154\" rx=\"22.9987\" ry=\"22.9987\"/>\r\n<text text-anchor=\"middle\" x=\"298.74\" y=\"-150.3\" font-family=\"Times New Roman,serif\" font-size=\"14.00\">St1</text>\r\n</g>\r\n<!-- EMPTY&#45;&gt;St1 -->\r\n<g id=\"edge3\" class=\"edge\"><title>EMPTY&#45;&gt;St1</title>\r\n<path fill=\"none\" stroke=\"black\" d=\"M33.5994,-103.13C41.9002,-126.471 59.9325,-166.039 91,-183 148.255,-214.258 227.191,-187.23 269.022,-168.422\"/>\r\n<polygon fill=\"black\" stroke=\"black\" points=\"270.499,-171.595 278.094,-164.208 267.55,-165.246 270.499,-171.595\"/>\r\n</g>\r\n<!-- St5 -->\r\n<g id=\"node7\" class=\"node\"><title>St5</title>\r\n<ellipse fill=\"none\" stroke=\"black\" cx=\"392.236\" cy=\"-40\" rx=\"22.9987\" ry=\"22.9987\"/>\r\n<text text-anchor=\"middle\" x=\"392.236\" y=\"-36.3\" font-family=\"Times New Roman,serif\" font-size=\"14.00\">St5</text>\r\n</g>\r\n<!-- EMPTY&#45;&gt;St5 -->\r\n<g id=\"edge2\" class=\"edge\"><title>EMPTY&#45;&gt;St5</title>\r\n<path fill=\"none\" stroke=\"black\" d=\"M36.0552,-66.9737C48.5787,-42.0227 75.2386,-0 112.748,-0 112.748,-0 112.748,-0 299.74,-0 323.065,-0 347.146,-11.0491 364.745,-21.5331\"/>\r\n<polygon fill=\"black\" stroke=\"black\" points=\"362.986,-24.5612 373.319,-26.9025 366.701,-18.6285 362.986,-24.5612\"/>\r\n</g>\r\n<!-- St0&#45;&gt;St0 -->\r\n<g id=\"edge5\" class=\"edge\"><title>St0&#45;&gt;St0</title>\r\n<path fill=\"none\" stroke=\"black\" d=\"M110.043,-107.628C109.739,-117.39 110.975,-125.748 113.748,-125.748 115.481,-125.748 116.614,-122.483 117.145,-117.651\"/>\r\n<polygon fill=\"black\" stroke=\"black\" points=\"120.644,-117.73 117.453,-107.628 113.648,-117.516 120.644,-117.73\"/>\r\n<text text-anchor=\"middle\" x=\"113.748\" y=\"-129.548\" font-family=\"Times New Roman,serif\" font-size=\"14.00\">a </text>\r\n</g>\r\n<!-- St0&#45;&gt;St0 -->\r\n<g id=\"edge8\" class=\"edge\"><title>St0&#45;&gt;St0</title>\r\n<path fill=\"none\" stroke=\"black\" d=\"M107.347,-106.997C104.7,-125.025 106.834,-143.748 113.748,-143.748 119.366,-143.748 121.828,-131.388 121.134,-117.083\"/>\r\n<polygon fill=\"black\" stroke=\"black\" points=\"124.604,-116.61 120.149,-106.997 117.637,-117.29 124.604,-116.61\"/>\r\n<text text-anchor=\"middle\" x=\"113.748\" y=\"-147.548\" font-family=\"Times New Roman,serif\" font-size=\"14.00\">b </text>\r\n</g>\r\n<!-- St0&#45;&gt;St1 -->\r\n<g id=\"edge9\" class=\"edge\"><title>St0&#45;&gt;St1</title>\r\n<path fill=\"none\" stroke=\"black\" d=\"M131.047,-100.517C137.972,-106.681 146.323,-113.579 154.496,-119 188.18,-141.341 234.8,-149.437 265.588,-152.362\"/>\r\n<polygon fill=\"black\" stroke=\"black\" points=\"265.519,-155.868 275.771,-153.196 266.09,-148.891 265.519,-155.868\"/>\r\n<text text-anchor=\"middle\" x=\"207.244\" y=\"-150.8\" font-family=\"Times New Roman,serif\" font-size=\"14.00\">b </text>\r\n</g>\r\n<!-- St3 -->\r\n<g id=\"node5\" class=\"node\"><title>St3</title>\r\n<ellipse fill=\"none\" stroke=\"black\" cx=\"298.74\" cy=\"-68\" rx=\"22.9987\" ry=\"22.9987\"/>\r\n<text text-anchor=\"middle\" x=\"298.74\" y=\"-64.3\" font-family=\"Times New Roman,serif\" font-size=\"14.00\">St3</text>\r\n</g>\r\n<!-- St0&#45;&gt;St3 -->\r\n<g id=\"edge7\" class=\"edge\"><title>St0&#45;&gt;St3</title>\r\n<path fill=\"none\" stroke=\"black\" d=\"M133.892,-74.2447C147.53,-67.2226 166.55,-58.6958 184.496,-55 212.062,-49.3231 243.95,-53.9659 266.85,-59.2143\"/>\r\n<polygon fill=\"black\" stroke=\"black\" points=\"266.145,-62.6452 276.692,-61.6335 267.816,-55.8475 266.145,-62.6452\"/>\r\n<text text-anchor=\"middle\" x=\"207.244\" y=\"-58.8\" font-family=\"Times New Roman,serif\" font-size=\"14.00\">b </text>\r\n</g>\r\n<!-- St2 -->\r\n<g id=\"node6\" class=\"node\"><title>St2</title>\r\n<ellipse fill=\"none\" stroke=\"black\" cx=\"207.244\" cy=\"-102\" rx=\"22.9987\" ry=\"22.9987\"/>\r\n<text text-anchor=\"middle\" x=\"207.244\" y=\"-98.3\" font-family=\"Times New Roman,serif\" font-size=\"14.00\">St2</text>\r\n</g>\r\n<!-- St0&#45;&gt;St2 -->\r\n<g id=\"edge4\" class=\"edge\"><title>St0&#45;&gt;St2</title>\r\n<path fill=\"none\" stroke=\"black\" d=\"M135.594,-92.1348C141.631,-93.9708 148.273,-95.7724 154.496,-97 160.888,-98.261 167.79,-99.2084 174.406,-99.9188\"/>\r\n<polygon fill=\"black\" stroke=\"black\" points=\"174.172,-103.412 184.453,-100.851 174.819,-96.442 174.172,-103.412\"/>\r\n<text text-anchor=\"middle\" x=\"160.496\" y=\"-103.8\" font-family=\"Times New Roman,serif\" font-size=\"14.00\">a </text>\r\n</g>\r\n<!-- St0&#45;&gt;St2 -->\r\n<g id=\"edge6\" class=\"edge\"><title>St0&#45;&gt;St2</title>\r\n<path fill=\"none\" stroke=\"black\" d=\"M135.66,-78.3688C145.189,-76.3122 156.54,-75.2273 166.496,-78 170.985,-79.2503 175.474,-81.1598 179.734,-83.3671\"/>\r\n<polygon fill=\"black\" stroke=\"black\" points=\"178.201,-86.5248 188.604,-88.5345 181.725,-80.4764 178.201,-86.5248\"/>\r\n<text text-anchor=\"middle\" x=\"160.496\" y=\"-81.8\" font-family=\"Times New Roman,serif\" font-size=\"14.00\">b </text>\r\n</g>\r\n<!-- St6 -->\r\n<g id=\"node4\" class=\"node\"><title>St6</title>\r\n<ellipse fill=\"none\" stroke=\"black\" cx=\"392.236\" cy=\"-103\" rx=\"22.9987\" ry=\"22.9987\"/>\r\n<text text-anchor=\"middle\" x=\"392.236\" y=\"-99.3\" font-family=\"Times New Roman,serif\" font-size=\"14.00\">St6</text>\r\n</g>\r\n<!-- St1&#45;&gt;St6 -->\r\n<g id=\"edge10\" class=\"edge\"><title>St1&#45;&gt;St6</title>\r\n<path fill=\"none\" stroke=\"black\" d=\"M320.405,-146.472C330.091,-142.63 341.639,-137.589 351.488,-132 356.196,-129.328 361.009,-126.202 365.587,-123.01\"/>\r\n<polygon fill=\"black\" stroke=\"black\" points=\"367.975,-125.601 374.009,-116.893 363.861,-119.938 367.975,-125.601\"/>\r\n<text text-anchor=\"middle\" x=\"345.488\" y=\"-141.8\" font-family=\"Times New Roman,serif\" font-size=\"14.00\">a </text>\r\n</g>\r\n<!-- St1&#45;&gt;St5 -->\r\n<g id=\"edge11\" class=\"edge\"><title>St1&#45;&gt;St5</title>\r\n<path fill=\"none\" stroke=\"black\" d=\"M314.591,-137.481C325.131,-125.59 339.482,-109.058 351.488,-94 358.527,-85.1712 365.939,-75.2802 372.43,-66.3995\"/>\r\n<polygon fill=\"black\" stroke=\"black\" points=\"375.293,-68.4129 378.329,-58.2622 369.626,-64.3043 375.293,-68.4129\"/>\r\n<text text-anchor=\"middle\" x=\"345.488\" y=\"-111.8\" font-family=\"Times New Roman,serif\" font-size=\"14.00\">a </text>\r\n</g>\r\n<!-- St4 -->\r\n<g id=\"node8\" class=\"node\"><title>St4</title>\r\n<ellipse fill=\"none\" stroke=\"black\" cx=\"489.732\" cy=\"-74\" rx=\"22.9609\" ry=\"22.9609\"/>\r\n<ellipse fill=\"none\" stroke=\"black\" cx=\"489.732\" cy=\"-74\" rx=\"26.9983\" ry=\"26.9983\"/>\r\n<text text-anchor=\"middle\" x=\"489.732\" y=\"-70.3\" font-family=\"Times New Roman,serif\" font-size=\"14.00\">St4</text>\r\n</g>\r\n<!-- St6&#45;&gt;St4 -->\r\n<g id=\"edge12\" class=\"edge\"><title>St6&#45;&gt;St4</title>\r\n<path fill=\"none\" stroke=\"black\" d=\"M414.43,-96.564C426.077,-93.0269 440.816,-88.5511 454.089,-84.5201\"/>\r\n<polygon fill=\"black\" stroke=\"black\" points=\"455.328,-87.802 463.879,-81.5472 453.293,-81.1041 455.328,-87.802\"/>\r\n<text text-anchor=\"middle\" x=\"438.984\" y=\"-94.8\" font-family=\"Times New Roman,serif\" font-size=\"14.00\">a </text>\r\n</g>\r\n<!-- St3&#45;&gt;St6 -->\r\n<g id=\"edge13\" class=\"edge\"><title>St3&#45;&gt;St6</title>\r\n<path fill=\"none\" stroke=\"black\" d=\"M321.359,-70.9373C330.82,-72.6414 341.921,-75.2194 351.488,-79 355.735,-80.6785 360.05,-82.7895 364.193,-85.0594\"/>\r\n<polygon fill=\"black\" stroke=\"black\" points=\"362.504,-88.1264 372.899,-90.1763 366.051,-82.0916 362.504,-88.1264\"/>\r\n<text text-anchor=\"middle\" x=\"345.488\" y=\"-82.8\" font-family=\"Times New Roman,serif\" font-size=\"14.00\">b </text>\r\n</g>\r\n<!-- St3&#45;&gt;St5 -->\r\n<g id=\"edge14\" class=\"edge\"><title>St3&#45;&gt;St5</title>\r\n<path fill=\"none\" stroke=\"black\" d=\"M316.394,-53.5293C323.11,-48.5794 331.22,-43.6301 339.488,-41 345.725,-39.0157 352.603,-38.0797 359.251,-37.756\"/>\r\n<polygon fill=\"black\" stroke=\"black\" points=\"359.409,-41.2551 369.385,-37.6889 359.362,-34.2553 359.409,-41.2551\"/>\r\n<text text-anchor=\"middle\" x=\"345.488\" y=\"-44.8\" font-family=\"Times New Roman,serif\" font-size=\"14.00\">b </text>\r\n</g>\r\n<!-- St2&#45;&gt;St1 -->\r\n<g id=\"edge16\" class=\"edge\"><title>St2&#45;&gt;St1</title>\r\n<path fill=\"none\" stroke=\"black\" d=\"M227.224,-113.028C239.682,-120.267 256.184,-129.855 270.091,-137.935\"/>\r\n<polygon fill=\"black\" stroke=\"black\" points=\"268.383,-140.99 278.787,-142.988 271.899,-134.938 268.383,-140.99\"/>\r\n<text text-anchor=\"middle\" x=\"252.992\" y=\"-135.8\" font-family=\"Times New Roman,serif\" font-size=\"14.00\">a </text>\r\n</g>\r\n<!-- St2&#45;&gt;St3 -->\r\n<g id=\"edge15\" class=\"edge\"><title>St2&#45;&gt;St3</title>\r\n<path fill=\"none\" stroke=\"black\" d=\"M229.001,-94.1143C240.41,-89.7801 254.772,-84.3238 267.414,-79.5209\"/>\r\n<polygon fill=\"black\" stroke=\"black\" points=\"268.99,-82.6663 277.095,-75.843 266.504,-76.1226 268.99,-82.6663\"/>\r\n<text text-anchor=\"middle\" x=\"252.992\" y=\"-90.8\" font-family=\"Times New Roman,serif\" font-size=\"14.00\">a </text>\r\n</g>\r\n<!-- St5&#45;&gt;St4 -->\r\n<g id=\"edge17\" class=\"edge\"><title>St5&#45;&gt;St4</title>\r\n<path fill=\"none\" stroke=\"black\" d=\"M413.957,-47.3775C425.875,-51.6208 441.143,-57.0568 454.772,-61.9091\"/>\r\n<polygon fill=\"black\" stroke=\"black\" points=\"453.74,-65.2569 464.335,-65.3138 456.088,-58.6624 453.74,-65.2569\"/>\r\n<text text-anchor=\"middle\" x=\"438.984\" y=\"-62.8\" font-family=\"Times New Roman,serif\" font-size=\"14.00\">b </text>\r\n</g>\r\n</g>\r\n</svg>\r\n"
     },
     "metadata": {},
     "execution_count": 47
    }
   ],
   "source": [
    "dotObj_nfa(NFA3)"
   ]
  },
  {
   "cell_type": "markdown",
   "metadata": {},
   "source": [
    "## Problem 4.5:  One more determinization, and we are done minimizing\n"
   ]
  },
  {
   "cell_type": "code",
   "execution_count": 49,
   "metadata": {},
   "outputs": [],
   "source": [
    "DFA_min = nfa2dfa(NFA3)"
   ]
  },
  {
   "cell_type": "code",
   "execution_count": 50,
   "metadata": {},
   "outputs": [
    {
     "output_type": "execute_result",
     "data": {
      "text/plain": "<graphviz.dot.Digraph at 0x230233435b0>",
      "image/svg+xml": "<?xml version=\"1.0\" encoding=\"UTF-8\" standalone=\"no\"?>\r\n<!DOCTYPE svg PUBLIC \"-//W3C//DTD SVG 1.1//EN\"\r\n \"http://www.w3.org/Graphics/SVG/1.1/DTD/svg11.dtd\">\r\n<!-- Generated by graphviz version 2.38.0 (20140413.2041)\r\n -->\r\n<!-- Title: %3 Pages: 1 -->\r\n<svg width=\"532pt\" height=\"134pt\"\r\n viewBox=\"0.00 0.00 532.48 134.50\" xmlns=\"http://www.w3.org/2000/svg\" xmlns:xlink=\"http://www.w3.org/1999/xlink\">\r\n<g id=\"graph0\" class=\"graph\" transform=\"scale(1 1) rotate(0) translate(4 130.496)\">\r\n<title>%3</title>\r\n<polygon fill=\"white\" stroke=\"none\" points=\"-4,4 -4,-130.496 528.48,-130.496 528.48,4 -4,4\"/>\r\n<!-- EMPTY -->\r\n<g id=\"node1\" class=\"node\"><title>EMPTY</title>\r\n</g>\r\n<!-- St3 -->\r\n<g id=\"node3\" class=\"node\"><title>St3</title>\r\n<ellipse fill=\"none\" stroke=\"black\" cx=\"113.748\" cy=\"-22.748\" rx=\"22.9987\" ry=\"22.9987\"/>\r\n<text text-anchor=\"middle\" x=\"113.748\" y=\"-19.048\" font-family=\"Times New Roman,serif\" font-size=\"14.00\">St3</text>\r\n</g>\r\n<!-- EMPTY&#45;&gt;St3 -->\r\n<g id=\"edge1\" class=\"edge\"><title>EMPTY&#45;&gt;St3</title>\r\n<path fill=\"none\" stroke=\"black\" d=\"M54.3502,-22.748C62.71,-22.748 72.0455,-22.748 80.757,-22.748\"/>\r\n<polygon fill=\"black\" stroke=\"black\" points=\"80.9663,-26.2481 90.9663,-22.748 80.9662,-19.2481 80.9663,-26.2481\"/>\r\n</g>\r\n<!-- St2 -->\r\n<g id=\"node2\" class=\"node\"><title>St2</title>\r\n<ellipse fill=\"none\" stroke=\"black\" cx=\"400.236\" cy=\"-33.748\" rx=\"22.9987\" ry=\"22.9987\"/>\r\n<text text-anchor=\"middle\" x=\"400.236\" y=\"-30.048\" font-family=\"Times New Roman,serif\" font-size=\"14.00\">St2</text>\r\n</g>\r\n<!-- St0 -->\r\n<g id=\"node5\" class=\"node\"><title>St0</title>\r\n<ellipse fill=\"none\" stroke=\"black\" cx=\"497.732\" cy=\"-33.748\" rx=\"22.9609\" ry=\"22.9609\"/>\r\n<ellipse fill=\"none\" stroke=\"black\" cx=\"497.732\" cy=\"-33.748\" rx=\"26.9983\" ry=\"26.9983\"/>\r\n<text text-anchor=\"middle\" x=\"497.732\" y=\"-30.048\" font-family=\"Times New Roman,serif\" font-size=\"14.00\">St0</text>\r\n</g>\r\n<!-- St2&#45;&gt;St0 -->\r\n<g id=\"edge8\" class=\"edge\"><title>St2&#45;&gt;St0</title>\r\n<path fill=\"none\" stroke=\"black\" d=\"M423.385,-33.748C434.49,-33.748 448.219,-33.748 460.785,-33.748\"/>\r\n<polygon fill=\"black\" stroke=\"black\" points=\"460.984,-37.2481 470.984,-33.748 460.984,-30.2481 460.984,-37.2481\"/>\r\n<text text-anchor=\"middle\" x=\"446.984\" y=\"-37.548\" font-family=\"Times New Roman,serif\" font-size=\"14.00\">a </text>\r\n</g>\r\n<!-- St2&#45;&gt;St0 -->\r\n<g id=\"edge9\" class=\"edge\"><title>St2&#45;&gt;St0</title>\r\n<path fill=\"none\" stroke=\"black\" d=\"M420.419,-22.4616C426.751,-19.3216 433.972,-16.3377 440.984,-14.748 448.907,-12.9516 457.282,-14.1005 465.065,-16.5395\"/>\r\n<polygon fill=\"black\" stroke=\"black\" points=\"463.939,-19.8566 474.529,-20.1942 466.461,-13.3266 463.939,-19.8566\"/>\r\n<text text-anchor=\"middle\" x=\"446.984\" y=\"-18.548\" font-family=\"Times New Roman,serif\" font-size=\"14.00\">b </text>\r\n</g>\r\n<!-- St4 -->\r\n<g id=\"node4\" class=\"node\"><title>St4</title>\r\n<ellipse fill=\"none\" stroke=\"black\" cx=\"205.244\" cy=\"-56.748\" rx=\"22.9987\" ry=\"22.9987\"/>\r\n<text text-anchor=\"middle\" x=\"205.244\" y=\"-53.048\" font-family=\"Times New Roman,serif\" font-size=\"14.00\">St4</text>\r\n</g>\r\n<!-- St3&#45;&gt;St4 -->\r\n<g id=\"edge2\" class=\"edge\"><title>St3&#45;&gt;St4</title>\r\n<path fill=\"none\" stroke=\"black\" d=\"M135.505,-30.6337C146.914,-34.9679 161.276,-40.4242 173.918,-45.2271\"/>\r\n<polygon fill=\"black\" stroke=\"black\" points=\"173.008,-48.6254 183.599,-48.905 175.494,-42.0817 173.008,-48.6254\"/>\r\n<text text-anchor=\"middle\" x=\"159.496\" y=\"-46.548\" font-family=\"Times New Roman,serif\" font-size=\"14.00\">a </text>\r\n</g>\r\n<!-- St1 -->\r\n<g id=\"node6\" class=\"node\"><title>St1</title>\r\n<ellipse fill=\"none\" stroke=\"black\" cx=\"302.74\" cy=\"-33.748\" rx=\"22.9609\" ry=\"22.9609\"/>\r\n<ellipse fill=\"none\" stroke=\"black\" cx=\"302.74\" cy=\"-33.748\" rx=\"26.9983\" ry=\"26.9983\"/>\r\n<text text-anchor=\"middle\" x=\"302.74\" y=\"-30.048\" font-family=\"Times New Roman,serif\" font-size=\"14.00\">St1</text>\r\n</g>\r\n<!-- St3&#45;&gt;St1 -->\r\n<g id=\"edge3\" class=\"edge\"><title>St3&#45;&gt;St1</title>\r\n<path fill=\"none\" stroke=\"black\" d=\"M136.111,-16.8468C158.934,-11.3466 196.133,-4.6945 227.992,-9.74798 241.423,-11.8785 255.735,-16.0636 268.143,-20.3505\"/>\r\n<polygon fill=\"black\" stroke=\"black\" points=\"267.038,-23.6725 277.632,-23.773 269.413,-17.0877 267.038,-23.6725\"/>\r\n<text text-anchor=\"middle\" x=\"205.244\" y=\"-13.548\" font-family=\"Times New Roman,serif\" font-size=\"14.00\">b </text>\r\n</g>\r\n<!-- St4&#45;&gt;St1 -->\r\n<g id=\"edge4\" class=\"edge\"><title>St4&#45;&gt;St1</title>\r\n<path fill=\"none\" stroke=\"black\" d=\"M228.094,-54.8516C237.396,-53.7722 248.311,-52.143 257.992,-49.748 261.211,-48.9517 264.52,-48 267.81,-46.9632\"/>\r\n<polygon fill=\"black\" stroke=\"black\" points=\"269.163,-50.2001 277.504,-43.6675 266.909,-43.5726 269.163,-50.2001\"/>\r\n<text text-anchor=\"middle\" x=\"251.992\" y=\"-56.548\" font-family=\"Times New Roman,serif\" font-size=\"14.00\">a </text>\r\n</g>\r\n<!-- St4&#45;&gt;St1 -->\r\n<g id=\"edge5\" class=\"edge\"><title>St4&#45;&gt;St1</title>\r\n<path fill=\"none\" stroke=\"black\" d=\"M223.339,-42.4494C229.984,-37.7656 237.931,-33.1501 245.992,-30.748 252.332,-28.8587 259.253,-28.19 265.996,-28.2254\"/>\r\n<polygon fill=\"black\" stroke=\"black\" points=\"266.16,-31.7394 276.335,-28.7863 266.539,-24.7496 266.16,-31.7394\"/>\r\n<text text-anchor=\"middle\" x=\"251.992\" y=\"-34.548\" font-family=\"Times New Roman,serif\" font-size=\"14.00\">b </text>\r\n</g>\r\n<!-- St0&#45;&gt;St0 -->\r\n<g id=\"edge10\" class=\"edge\"><title>St0&#45;&gt;St0</title>\r\n<path fill=\"none\" stroke=\"black\" d=\"M493.055,-60.3928C492.901,-70.3224 494.46,-78.496 497.732,-78.496 499.777,-78.496 501.152,-75.3032 501.859,-70.4843\"/>\r\n<polygon fill=\"black\" stroke=\"black\" points=\"505.36,-70.5684 502.409,-60.3928 498.37,-70.1875 505.36,-70.5684\"/>\r\n<text text-anchor=\"middle\" x=\"497.732\" y=\"-82.296\" font-family=\"Times New Roman,serif\" font-size=\"14.00\">a </text>\r\n</g>\r\n<!-- St0&#45;&gt;St0 -->\r\n<g id=\"edge11\" class=\"edge\"><title>St0&#45;&gt;St0</title>\r\n<path fill=\"none\" stroke=\"black\" d=\"M489.415,-59.203C486.61,-77.8313 489.382,-96.496 497.732,-96.496 504.516,-96.496 507.618,-84.1744 507.038,-69.562\"/>\r\n<polygon fill=\"black\" stroke=\"black\" points=\"510.484,-68.8249 506.049,-59.203 503.516,-69.4906 510.484,-68.8249\"/>\r\n<text text-anchor=\"middle\" x=\"497.732\" y=\"-100.296\" font-family=\"Times New Roman,serif\" font-size=\"14.00\">b </text>\r\n</g>\r\n<!-- St1&#45;&gt;St2 -->\r\n<g id=\"edge6\" class=\"edge\"><title>St1&#45;&gt;St2</title>\r\n<path fill=\"none\" stroke=\"black\" d=\"M329.582,-33.748C341.118,-33.748 354.83,-33.748 367.025,-33.748\"/>\r\n<polygon fill=\"black\" stroke=\"black\" points=\"367.259,-37.2481 377.259,-33.748 367.259,-30.2481 367.259,-37.2481\"/>\r\n<text text-anchor=\"middle\" x=\"353.488\" y=\"-37.548\" font-family=\"Times New Roman,serif\" font-size=\"14.00\">a </text>\r\n</g>\r\n<!-- St1&#45;&gt;St2 -->\r\n<g id=\"edge7\" class=\"edge\"><title>St1&#45;&gt;St2</title>\r\n<path fill=\"none\" stroke=\"black\" d=\"M325.943,-20.1942C336.037,-15.5958 348.219,-12.1932 359.488,-14.748 363.213,-15.5925 366.997,-16.8305 370.676,-18.2764\"/>\r\n<polygon fill=\"black\" stroke=\"black\" points=\"369.495,-21.5821 380.053,-22.4616 372.348,-15.1899 369.495,-21.5821\"/>\r\n<text text-anchor=\"middle\" x=\"353.488\" y=\"-18.548\" font-family=\"Times New Roman,serif\" font-size=\"14.00\">b </text>\r\n</g>\r\n</g>\r\n</svg>\r\n"
     },
     "metadata": {},
     "execution_count": 50
    }
   ],
   "source": [
    "dotObj_dfa(DFA_min)"
   ]
  },
  {
   "cell_type": "markdown",
   "metadata": {},
   "source": [
    "# Check that DFA_min and DFA_bloated have the same language but are not isomorphic"
   ]
  },
  {
   "cell_type": "code",
   "execution_count": 51,
   "metadata": {
    "tags": []
   },
   "outputs": [
    {
     "output_type": "stream",
     "name": "stdout",
     "text": "Help on function langeq_dfa in module jove.Def_DFA:\n\nlangeq_dfa(D1, D2, gen_counterex=False)\n    Given consistent and total DFAs D1 and D2,\n    check whether they are language-equivalent. \n    gen_counterex is a flag that triggers the\n     printing of a counter-example showing the\n     pairs that were marched in tandem till a\n     difference was found.\n     \n    Two DFAs are language-equivalent if they \n    accept the same set of strings. We determine\n    this through a joint depth-first walk of the \n    two DFAs until we detect a difference (return\n    False then) or all pairs of states have been\n    visited (return True then).\n\n"
    }
   ],
   "source": [
    "help(langeq_dfa)"
   ]
  },
  {
   "cell_type": "code",
   "execution_count": 52,
   "metadata": {
    "tags": []
   },
   "outputs": [
    {
     "output_type": "stream",
     "name": "stdout",
     "text": "Help on function iso_dfa in module jove.Def_DFA:\n\niso_dfa(D1, D2)\n    Given consistent and total DFAs D1 and D2,\n    check whether they are isomorphic. Two DFAs\n    are isomorphic if they have the same number\n    of states and are language-equivalent. (One would\n    then be able to match-up state for state and transition\n    for transition.)\n\n"
    }
   ],
   "source": [
    "help(iso_dfa)"
   ]
  },
  {
   "source": [
    "langeq_dfa(DFA_min, DFA_bloated)"
   ],
   "cell_type": "code",
   "metadata": {},
   "execution_count": 53,
   "outputs": [
    {
     "output_type": "execute_result",
     "data": {
      "text/plain": "True"
     },
     "metadata": {},
     "execution_count": 53
    }
   ]
  },
  {
   "cell_type": "code",
   "execution_count": 54,
   "metadata": {},
   "outputs": [
    {
     "output_type": "execute_result",
     "data": {
      "text/plain": "False"
     },
     "metadata": {},
     "execution_count": 54
    }
   ],
   "source": [
    "iso_dfa(DFA_min, DFA_bloated)"
   ]
  },
  {
   "cell_type": "markdown",
   "metadata": {},
   "source": [
    "##  But we indeed are minimal as shown by the number of states of the standard DFA min algorithm"
   ]
  },
  {
   "cell_type": "code",
   "execution_count": 55,
   "metadata": {},
   "outputs": [],
   "source": [
    "DFA_min_alt = min_dfa(DFA_bloated)"
   ]
  },
  {
   "cell_type": "code",
   "execution_count": 56,
   "metadata": {},
   "outputs": [
    {
     "output_type": "execute_result",
     "data": {
      "text/plain": "<graphviz.dot.Digraph at 0x2302404cca0>",
      "image/svg+xml": "<?xml version=\"1.0\" encoding=\"UTF-8\" standalone=\"no\"?>\r\n<!DOCTYPE svg PUBLIC \"-//W3C//DTD SVG 1.1//EN\"\r\n \"http://www.w3.org/Graphics/SVG/1.1/DTD/svg11.dtd\">\r\n<!-- Generated by graphviz version 2.38.0 (20140413.2041)\r\n -->\r\n<!-- Title: %3 Pages: 1 -->\r\n<svg width=\"532pt\" height=\"134pt\"\r\n viewBox=\"0.00 0.00 532.48 134.50\" xmlns=\"http://www.w3.org/2000/svg\" xmlns:xlink=\"http://www.w3.org/1999/xlink\">\r\n<g id=\"graph0\" class=\"graph\" transform=\"scale(1 1) rotate(0) translate(4 130.496)\">\r\n<title>%3</title>\r\n<polygon fill=\"white\" stroke=\"none\" points=\"-4,4 -4,-130.496 528.48,-130.496 528.48,4 -4,4\"/>\r\n<!-- EMPTY -->\r\n<g id=\"node1\" class=\"node\"><title>EMPTY</title>\r\n</g>\r\n<!-- St3 -->\r\n<g id=\"node3\" class=\"node\"><title>St3</title>\r\n<ellipse fill=\"none\" stroke=\"black\" cx=\"113.748\" cy=\"-22.748\" rx=\"22.9987\" ry=\"22.9987\"/>\r\n<text text-anchor=\"middle\" x=\"113.748\" y=\"-19.048\" font-family=\"Times New Roman,serif\" font-size=\"14.00\">St3</text>\r\n</g>\r\n<!-- EMPTY&#45;&gt;St3 -->\r\n<g id=\"edge1\" class=\"edge\"><title>EMPTY&#45;&gt;St3</title>\r\n<path fill=\"none\" stroke=\"black\" d=\"M54.3502,-22.748C62.71,-22.748 72.0455,-22.748 80.757,-22.748\"/>\r\n<polygon fill=\"black\" stroke=\"black\" points=\"80.9663,-26.2481 90.9663,-22.748 80.9662,-19.2481 80.9663,-26.2481\"/>\r\n</g>\r\n<!-- St2 -->\r\n<g id=\"node2\" class=\"node\"><title>St2</title>\r\n<ellipse fill=\"none\" stroke=\"black\" cx=\"400.236\" cy=\"-33.748\" rx=\"22.9987\" ry=\"22.9987\"/>\r\n<text text-anchor=\"middle\" x=\"400.236\" y=\"-30.048\" font-family=\"Times New Roman,serif\" font-size=\"14.00\">St2</text>\r\n</g>\r\n<!-- St0 -->\r\n<g id=\"node5\" class=\"node\"><title>St0</title>\r\n<ellipse fill=\"none\" stroke=\"black\" cx=\"497.732\" cy=\"-33.748\" rx=\"22.9609\" ry=\"22.9609\"/>\r\n<ellipse fill=\"none\" stroke=\"black\" cx=\"497.732\" cy=\"-33.748\" rx=\"26.9983\" ry=\"26.9983\"/>\r\n<text text-anchor=\"middle\" x=\"497.732\" y=\"-30.048\" font-family=\"Times New Roman,serif\" font-size=\"14.00\">St0</text>\r\n</g>\r\n<!-- St2&#45;&gt;St0 -->\r\n<g id=\"edge8\" class=\"edge\"><title>St2&#45;&gt;St0</title>\r\n<path fill=\"none\" stroke=\"black\" d=\"M423.385,-33.748C434.49,-33.748 448.219,-33.748 460.785,-33.748\"/>\r\n<polygon fill=\"black\" stroke=\"black\" points=\"460.984,-37.2481 470.984,-33.748 460.984,-30.2481 460.984,-37.2481\"/>\r\n<text text-anchor=\"middle\" x=\"446.984\" y=\"-37.548\" font-family=\"Times New Roman,serif\" font-size=\"14.00\">a </text>\r\n</g>\r\n<!-- St2&#45;&gt;St0 -->\r\n<g id=\"edge9\" class=\"edge\"><title>St2&#45;&gt;St0</title>\r\n<path fill=\"none\" stroke=\"black\" d=\"M420.419,-22.4616C426.751,-19.3216 433.972,-16.3377 440.984,-14.748 448.907,-12.9516 457.282,-14.1005 465.065,-16.5395\"/>\r\n<polygon fill=\"black\" stroke=\"black\" points=\"463.939,-19.8566 474.529,-20.1942 466.461,-13.3266 463.939,-19.8566\"/>\r\n<text text-anchor=\"middle\" x=\"446.984\" y=\"-18.548\" font-family=\"Times New Roman,serif\" font-size=\"14.00\">b </text>\r\n</g>\r\n<!-- St4 -->\r\n<g id=\"node4\" class=\"node\"><title>St4</title>\r\n<ellipse fill=\"none\" stroke=\"black\" cx=\"205.244\" cy=\"-56.748\" rx=\"22.9987\" ry=\"22.9987\"/>\r\n<text text-anchor=\"middle\" x=\"205.244\" y=\"-53.048\" font-family=\"Times New Roman,serif\" font-size=\"14.00\">St4</text>\r\n</g>\r\n<!-- St3&#45;&gt;St4 -->\r\n<g id=\"edge2\" class=\"edge\"><title>St3&#45;&gt;St4</title>\r\n<path fill=\"none\" stroke=\"black\" d=\"M135.505,-30.6337C146.914,-34.9679 161.276,-40.4242 173.918,-45.2271\"/>\r\n<polygon fill=\"black\" stroke=\"black\" points=\"173.008,-48.6254 183.599,-48.905 175.494,-42.0817 173.008,-48.6254\"/>\r\n<text text-anchor=\"middle\" x=\"159.496\" y=\"-46.548\" font-family=\"Times New Roman,serif\" font-size=\"14.00\">a </text>\r\n</g>\r\n<!-- St1 -->\r\n<g id=\"node6\" class=\"node\"><title>St1</title>\r\n<ellipse fill=\"none\" stroke=\"black\" cx=\"302.74\" cy=\"-33.748\" rx=\"22.9609\" ry=\"22.9609\"/>\r\n<ellipse fill=\"none\" stroke=\"black\" cx=\"302.74\" cy=\"-33.748\" rx=\"26.9983\" ry=\"26.9983\"/>\r\n<text text-anchor=\"middle\" x=\"302.74\" y=\"-30.048\" font-family=\"Times New Roman,serif\" font-size=\"14.00\">St1</text>\r\n</g>\r\n<!-- St3&#45;&gt;St1 -->\r\n<g id=\"edge3\" class=\"edge\"><title>St3&#45;&gt;St1</title>\r\n<path fill=\"none\" stroke=\"black\" d=\"M136.111,-16.8468C158.934,-11.3466 196.133,-4.6945 227.992,-9.74798 241.423,-11.8785 255.735,-16.0636 268.143,-20.3505\"/>\r\n<polygon fill=\"black\" stroke=\"black\" points=\"267.038,-23.6725 277.632,-23.773 269.413,-17.0877 267.038,-23.6725\"/>\r\n<text text-anchor=\"middle\" x=\"205.244\" y=\"-13.548\" font-family=\"Times New Roman,serif\" font-size=\"14.00\">b </text>\r\n</g>\r\n<!-- St4&#45;&gt;St1 -->\r\n<g id=\"edge4\" class=\"edge\"><title>St4&#45;&gt;St1</title>\r\n<path fill=\"none\" stroke=\"black\" d=\"M228.094,-54.8516C237.396,-53.7722 248.311,-52.143 257.992,-49.748 261.211,-48.9517 264.52,-48 267.81,-46.9632\"/>\r\n<polygon fill=\"black\" stroke=\"black\" points=\"269.163,-50.2001 277.504,-43.6675 266.909,-43.5726 269.163,-50.2001\"/>\r\n<text text-anchor=\"middle\" x=\"251.992\" y=\"-56.548\" font-family=\"Times New Roman,serif\" font-size=\"14.00\">a </text>\r\n</g>\r\n<!-- St4&#45;&gt;St1 -->\r\n<g id=\"edge5\" class=\"edge\"><title>St4&#45;&gt;St1</title>\r\n<path fill=\"none\" stroke=\"black\" d=\"M223.339,-42.4494C229.984,-37.7656 237.931,-33.1501 245.992,-30.748 252.332,-28.8587 259.253,-28.19 265.996,-28.2254\"/>\r\n<polygon fill=\"black\" stroke=\"black\" points=\"266.16,-31.7394 276.335,-28.7863 266.539,-24.7496 266.16,-31.7394\"/>\r\n<text text-anchor=\"middle\" x=\"251.992\" y=\"-34.548\" font-family=\"Times New Roman,serif\" font-size=\"14.00\">b </text>\r\n</g>\r\n<!-- St0&#45;&gt;St0 -->\r\n<g id=\"edge10\" class=\"edge\"><title>St0&#45;&gt;St0</title>\r\n<path fill=\"none\" stroke=\"black\" d=\"M493.055,-60.3928C492.901,-70.3224 494.46,-78.496 497.732,-78.496 499.777,-78.496 501.152,-75.3032 501.859,-70.4843\"/>\r\n<polygon fill=\"black\" stroke=\"black\" points=\"505.36,-70.5684 502.409,-60.3928 498.37,-70.1875 505.36,-70.5684\"/>\r\n<text text-anchor=\"middle\" x=\"497.732\" y=\"-82.296\" font-family=\"Times New Roman,serif\" font-size=\"14.00\">a </text>\r\n</g>\r\n<!-- St0&#45;&gt;St0 -->\r\n<g id=\"edge11\" class=\"edge\"><title>St0&#45;&gt;St0</title>\r\n<path fill=\"none\" stroke=\"black\" d=\"M489.415,-59.203C486.61,-77.8313 489.382,-96.496 497.732,-96.496 504.516,-96.496 507.618,-84.1744 507.038,-69.562\"/>\r\n<polygon fill=\"black\" stroke=\"black\" points=\"510.484,-68.8249 506.049,-59.203 503.516,-69.4906 510.484,-68.8249\"/>\r\n<text text-anchor=\"middle\" x=\"497.732\" y=\"-100.296\" font-family=\"Times New Roman,serif\" font-size=\"14.00\">b </text>\r\n</g>\r\n<!-- St1&#45;&gt;St2 -->\r\n<g id=\"edge6\" class=\"edge\"><title>St1&#45;&gt;St2</title>\r\n<path fill=\"none\" stroke=\"black\" d=\"M329.582,-33.748C341.118,-33.748 354.83,-33.748 367.025,-33.748\"/>\r\n<polygon fill=\"black\" stroke=\"black\" points=\"367.259,-37.2481 377.259,-33.748 367.259,-30.2481 367.259,-37.2481\"/>\r\n<text text-anchor=\"middle\" x=\"353.488\" y=\"-37.548\" font-family=\"Times New Roman,serif\" font-size=\"14.00\">a </text>\r\n</g>\r\n<!-- St1&#45;&gt;St2 -->\r\n<g id=\"edge7\" class=\"edge\"><title>St1&#45;&gt;St2</title>\r\n<path fill=\"none\" stroke=\"black\" d=\"M325.943,-20.1942C336.037,-15.5958 348.219,-12.1932 359.488,-14.748 363.213,-15.5925 366.997,-16.8305 370.676,-18.2764\"/>\r\n<polygon fill=\"black\" stroke=\"black\" points=\"369.495,-21.5821 380.053,-22.4616 372.348,-15.1899 369.495,-21.5821\"/>\r\n<text text-anchor=\"middle\" x=\"353.488\" y=\"-18.548\" font-family=\"Times New Roman,serif\" font-size=\"14.00\">b </text>\r\n</g>\r\n</g>\r\n</svg>\r\n"
     },
     "metadata": {},
     "execution_count": 56
    }
   ],
   "source": [
    "dotObj_dfa(DFA_min)"
   ]
  },
  {
   "cell_type": "code",
   "execution_count": 57,
   "metadata": {},
   "outputs": [
    {
     "output_type": "execute_result",
     "data": {
      "text/plain": "<graphviz.dot.Digraph at 0x2302404cfd0>",
      "image/svg+xml": "<?xml version=\"1.0\" encoding=\"UTF-8\" standalone=\"no\"?>\r\n<!DOCTYPE svg PUBLIC \"-//W3C//DTD SVG 1.1//EN\"\r\n \"http://www.w3.org/Graphics/SVG/1.1/DTD/svg11.dtd\">\r\n<!-- Generated by graphviz version 2.38.0 (20140413.2041)\r\n -->\r\n<!-- Title: %3 Pages: 1 -->\r\n<svg width=\"562pt\" height=\"136pt\"\r\n viewBox=\"0.00 0.00 562.38 136.40\" xmlns=\"http://www.w3.org/2000/svg\" xmlns:xlink=\"http://www.w3.org/1999/xlink\">\r\n<g id=\"graph0\" class=\"graph\" transform=\"scale(1 1) rotate(0) translate(4 132.396)\">\r\n<title>%3</title>\r\n<polygon fill=\"white\" stroke=\"none\" points=\"-4,4 -4,-132.396 558.377,-132.396 558.377,4 -4,4\"/>\r\n<!-- EMPTY -->\r\n<g id=\"node1\" class=\"node\"><title>EMPTY</title>\r\n</g>\r\n<!-- IS1 -->\r\n<g id=\"node2\" class=\"node\"><title>IS1</title>\r\n<ellipse fill=\"none\" stroke=\"black\" cx=\"114.398\" cy=\"-23.3979\" rx=\"23.2963\" ry=\"23.2963\"/>\r\n<text text-anchor=\"middle\" x=\"114.398\" y=\"-19.6979\" font-family=\"Times New Roman,serif\" font-size=\"14.00\">IS1</text>\r\n</g>\r\n<!-- EMPTY&#45;&gt;IS1 -->\r\n<g id=\"edge1\" class=\"edge\"><title>EMPTY&#45;&gt;IS1</title>\r\n<path fill=\"none\" stroke=\"black\" d=\"M54.0862,-23.3979C62.5475,-23.3979 72.0398,-23.3979 80.9081,-23.3979\"/>\r\n<polygon fill=\"black\" stroke=\"black\" points=\"80.9327,-26.898 90.9327,-23.3979 80.9327,-19.898 80.9327,-26.898\"/>\r\n</g>\r\n<!-- Temp -->\r\n<g id=\"node4\" class=\"node\"><title>Temp</title>\r\n<ellipse fill=\"none\" stroke=\"black\" cx=\"216.293\" cy=\"-64.3979\" rx=\"32.4942\" ry=\"32.4942\"/>\r\n<text text-anchor=\"middle\" x=\"216.293\" y=\"-60.6979\" font-family=\"Times New Roman,serif\" font-size=\"14.00\">Temp</text>\r\n</g>\r\n<!-- IS1&#45;&gt;Temp -->\r\n<g id=\"edge2\" class=\"edge\"><title>IS1&#45;&gt;Temp</title>\r\n<path fill=\"none\" stroke=\"black\" d=\"M136.583,-32.093C148.105,-36.8218 162.724,-42.8218 176.227,-48.3641\"/>\r\n<polygon fill=\"black\" stroke=\"black\" points=\"175.222,-51.735 185.802,-52.2941 177.88,-45.2592 175.222,-51.735\"/>\r\n<text text-anchor=\"middle\" x=\"160.796\" y=\"-47.1979\" font-family=\"Times New Roman,serif\" font-size=\"14.00\">a </text>\r\n</g>\r\n<!-- FS2 -->\r\n<g id=\"node5\" class=\"node\"><title>FS2</title>\r\n<ellipse fill=\"none\" stroke=\"black\" cx=\"326.788\" cy=\"-32.3979\" rx=\"25.9957\" ry=\"25.9957\"/>\r\n<ellipse fill=\"none\" stroke=\"black\" cx=\"326.788\" cy=\"-32.3979\" rx=\"29.9954\" ry=\"29.9954\"/>\r\n<text text-anchor=\"middle\" x=\"326.788\" y=\"-28.6979\" font-family=\"Times New Roman,serif\" font-size=\"14.00\">FS2</text>\r\n</g>\r\n<!-- IS1&#45;&gt;FS2 -->\r\n<g id=\"edge3\" class=\"edge\"><title>IS1&#45;&gt;FS2</title>\r\n<path fill=\"none\" stroke=\"black\" d=\"M137.07,-17.3887C150.424,-14.0013 167.963,-10.1136 183.796,-8.39792 212.514,-5.28588 220.233,-4.05045 248.79,-8.39792 262.116,-10.4266 276.307,-14.3232 288.829,-18.3961\"/>\r\n<polygon fill=\"black\" stroke=\"black\" points=\"287.871,-21.7669 298.465,-21.668 290.121,-15.1386 287.871,-21.7669\"/>\r\n<text text-anchor=\"middle\" x=\"216.293\" y=\"-12.1979\" font-family=\"Times New Roman,serif\" font-size=\"14.00\">b </text>\r\n</g>\r\n<!-- S5 -->\r\n<g id=\"node3\" class=\"node\"><title>S5</title>\r\n<ellipse fill=\"none\" stroke=\"black\" cx=\"425.584\" cy=\"-32.3979\" rx=\"20.5982\" ry=\"20.5982\"/>\r\n<text text-anchor=\"middle\" x=\"425.584\" y=\"-28.6979\" font-family=\"Times New Roman,serif\" font-size=\"14.00\">S5</text>\r\n</g>\r\n<!-- FS6 -->\r\n<g id=\"node6\" class=\"node\"><title>FS6</title>\r\n<ellipse fill=\"none\" stroke=\"black\" cx=\"524.379\" cy=\"-32.3979\" rx=\"25.9957\" ry=\"25.9957\"/>\r\n<ellipse fill=\"none\" stroke=\"black\" cx=\"524.379\" cy=\"-32.3979\" rx=\"29.9954\" ry=\"29.9954\"/>\r\n<text text-anchor=\"middle\" x=\"524.379\" y=\"-28.6979\" font-family=\"Times New Roman,serif\" font-size=\"14.00\">FS6</text>\r\n</g>\r\n<!-- S5&#45;&gt;FS6 -->\r\n<g id=\"edge8\" class=\"edge\"><title>S5&#45;&gt;FS6</title>\r\n<path fill=\"none\" stroke=\"black\" d=\"M446.64,-32.3979C457.476,-32.3979 471.239,-32.3979 484.109,-32.3979\"/>\r\n<polygon fill=\"black\" stroke=\"black\" points=\"484.165,-35.898 494.165,-32.3979 484.165,-28.898 484.165,-35.898\"/>\r\n<text text-anchor=\"middle\" x=\"470.382\" y=\"-36.1979\" font-family=\"Times New Roman,serif\" font-size=\"14.00\">a </text>\r\n</g>\r\n<!-- S5&#45;&gt;FS6 -->\r\n<g id=\"edge9\" class=\"edge\"><title>S5&#45;&gt;FS6</title>\r\n<path fill=\"none\" stroke=\"black\" d=\"M443.624,-21.7188C449.905,-18.363 457.235,-15.093 464.382,-13.3979 472.259,-11.5295 480.602,-12.4003 488.456,-14.5616\"/>\r\n<polygon fill=\"black\" stroke=\"black\" points=\"487.477,-17.9262 498.072,-17.8804 489.761,-11.3093 487.477,-17.9262\"/>\r\n<text text-anchor=\"middle\" x=\"470.382\" y=\"-17.1979\" font-family=\"Times New Roman,serif\" font-size=\"14.00\">b </text>\r\n</g>\r\n<!-- Temp&#45;&gt;FS2 -->\r\n<g id=\"edge4\" class=\"edge\"><title>Temp&#45;&gt;FS2</title>\r\n<path fill=\"none\" stroke=\"black\" d=\"M248.072,-56.8637C257.927,-54.3249 268.857,-51.3765 278.79,-48.3979 281.927,-47.4572 285.169,-46.4431 288.414,-45.3984\"/>\r\n<polygon fill=\"black\" stroke=\"black\" points=\"289.664,-48.6718 298.063,-42.2141 287.47,-42.0244 289.664,-48.6718\"/>\r\n<text text-anchor=\"middle\" x=\"272.79\" y=\"-55.1979\" font-family=\"Times New Roman,serif\" font-size=\"14.00\">a </text>\r\n</g>\r\n<!-- Temp&#45;&gt;FS2 -->\r\n<g id=\"edge5\" class=\"edge\"><title>Temp&#45;&gt;FS2</title>\r\n<path fill=\"none\" stroke=\"black\" d=\"M241.098,-43.1368C248.77,-37.5601 257.663,-32.299 266.79,-29.3979 273.076,-27.4 279.927,-26.5953 286.663,-26.5103\"/>\r\n<polygon fill=\"black\" stroke=\"black\" points=\"286.93,-30.0227 297.054,-26.9012 287.193,-23.0277 286.93,-30.0227\"/>\r\n<text text-anchor=\"middle\" x=\"272.79\" y=\"-33.1979\" font-family=\"Times New Roman,serif\" font-size=\"14.00\">b </text>\r\n</g>\r\n<!-- FS2&#45;&gt;S5 -->\r\n<g id=\"edge6\" class=\"edge\"><title>FS2&#45;&gt;S5</title>\r\n<path fill=\"none\" stroke=\"black\" d=\"M356.83,-32.3979C368.803,-32.3979 382.669,-32.3979 394.727,-32.3979\"/>\r\n<polygon fill=\"black\" stroke=\"black\" points=\"394.764,-35.898 404.764,-32.3979 394.764,-28.898 394.764,-35.898\"/>\r\n<text text-anchor=\"middle\" x=\"380.785\" y=\"-36.1979\" font-family=\"Times New Roman,serif\" font-size=\"14.00\">a </text>\r\n</g>\r\n<!-- FS2&#45;&gt;S5 -->\r\n<g id=\"edge7\" class=\"edge\"><title>FS2&#45;&gt;S5</title>\r\n<path fill=\"none\" stroke=\"black\" d=\"M353.095,-17.8804C363.438,-13.6239 375.582,-10.7406 386.785,-13.3979 390.694,-14.3249 394.657,-15.7229 398.473,-17.3484\"/>\r\n<polygon fill=\"black\" stroke=\"black\" points=\"397.015,-20.5308 407.543,-21.7188 400.054,-14.2247 397.015,-20.5308\"/>\r\n<text text-anchor=\"middle\" x=\"380.785\" y=\"-17.1979\" font-family=\"Times New Roman,serif\" font-size=\"14.00\">b </text>\r\n</g>\r\n<!-- FS6&#45;&gt;FS6 -->\r\n<g id=\"edge10\" class=\"edge\"><title>FS6&#45;&gt;FS6</title>\r\n<path fill=\"none\" stroke=\"black\" d=\"M519.504,-62.3965C519.504,-72.396 521.129,-80.3956 524.379,-80.3956 526.411,-80.3956 527.807,-77.2708 528.569,-72.4858\"/>\r\n<polygon fill=\"black\" stroke=\"black\" points=\"532.068,-72.6108 529.254,-62.3965 525.085,-72.1362 532.068,-72.6108\"/>\r\n<text text-anchor=\"middle\" x=\"524.379\" y=\"-84.1956\" font-family=\"Times New Roman,serif\" font-size=\"14.00\">a </text>\r\n</g>\r\n<!-- FS6&#45;&gt;FS6 -->\r\n<g id=\"edge11\" class=\"edge\"><title>FS6&#45;&gt;FS6</title>\r\n<path fill=\"none\" stroke=\"black\" d=\"M515.444,-61.233C513.022,-80.1178 516.001,-98.3956 524.379,-98.3956 531.253,-98.3956 534.492,-86.0962 534.097,-71.2518\"/>\r\n<polygon fill=\"black\" stroke=\"black\" points=\"537.583,-70.9301 533.315,-61.233 530.604,-71.4752 537.583,-70.9301\"/>\r\n<text text-anchor=\"middle\" x=\"524.379\" y=\"-102.196\" font-family=\"Times New Roman,serif\" font-size=\"14.00\">b </text>\r\n</g>\r\n</g>\r\n</svg>\r\n"
     },
     "metadata": {},
     "execution_count": 57
    }
   ],
   "source": [
    "dotObj_dfa(DFA_min_alt)"
   ]
  },
  {
   "cell_type": "code",
   "execution_count": 58,
   "metadata": {
    "tags": []
   },
   "outputs": [
    {
     "output_type": "stream",
     "name": "stdout",
     "text": "Help on function iso_dfa in module jove.Def_DFA:\n\niso_dfa(D1, D2)\n    Given consistent and total DFAs D1 and D2,\n    check whether they are isomorphic. Two DFAs\n    are isomorphic if they have the same number\n    of states and are language-equivalent. (One would\n    then be able to match-up state for state and transition\n    for transition.)\n\n"
    }
   ],
   "source": [
    "help(iso_dfa)"
   ]
  },
  {
   "cell_type": "code",
   "execution_count": 59,
   "metadata": {},
   "outputs": [
    {
     "output_type": "execute_result",
     "data": {
      "text/plain": "True"
     },
     "metadata": {},
     "execution_count": 59
    }
   ],
   "source": [
    "iso_dfa(DFA_min, DFA_min_alt)"
   ]
  },
  {
   "cell_type": "markdown",
   "metadata": {},
   "source": [
    "# END of demonstration that DFA minimization can be done in two different ways\n",
    "\n",
    "## Here are some notes to understand Brzozowski's method\n",
    "\n",
    "* If you are given a DFA \"D1\", a minimal DFA for \"reverse(D1)\" is obtained by \"reverse followed by determinize\"\n",
    "\n",
    "* But since we are interested in the minimal DFA for \"D1\" (and not reverse(D1)), we do these steps again!\n",
    "\n",
    "* Hence the algorithm becomes \"reverse THEN determinize THEN reverse THEN determinize\""
   ]
  }
 ],
 "metadata": {
  "kernelspec": {
   "display_name": "Python 3",
   "language": "python",
   "name": "python3"
  },
  "language_info": {
   "codemirror_mode": {
    "name": "ipython",
    "version": 3
   },
   "file_extension": ".py",
   "mimetype": "text/x-python",
   "name": "python",
   "nbconvert_exporter": "python",
   "pygments_lexer": "ipython3",
   "version": "3.8.3-final"
  },
  "toc": {
   "colors": {
    "hover_highlight": "#DAA520",
    "running_highlight": "#FF0000",
    "selected_highlight": "#FFD700"
   },
   "moveMenuLeft": true,
   "nav_menu": {
    "height": "121px",
    "width": "252px"
   },
   "navigate_menu": true,
   "number_sections": true,
   "sideBar": true,
   "threshold": 4,
   "toc_cell": false,
   "toc_section_display": "block",
   "toc_window_display": false,
   "widenNotebook": false
  },
  "widgets": {
   "state": {
    "430c92ee02b34ec1912bf03c8de1e6dc": {
     "views": [
      {
       "cell_index": 20
      }
     ]
    }
   },
   "version": "1.2.0"
  }
 },
 "nbformat": 4,
 "nbformat_minor": 2
}