{
 "cells": [
  {
   "cell_type": "markdown",
   "metadata": {
    "run_control": {
     "frozen": false,
     "read_only": false
    }
   },
   "source": [
    "# Basics of NFA\n",
    "\n",
    "You may wish to watch my lecture on NFA a little, then play with the\n",
    "code below, and then finish watching."
   ]
  },
  {
   "cell_type": "code",
   "execution_count": 1,
   "metadata": {
    "run_control": {
     "frozen": false,
     "read_only": false
    }
   },
   "outputs": [
    {
     "output_type": "execute_result",
     "data": {
      "text/plain": "<IPython.lib.display.YouTubeVideo at 0x1eaab6addc0>",
      "text/html": "\n        <iframe\n            width=\"400\"\n            height=\"300\"\n            src=\"https://www.youtube.com/embed/xjFtLF95uBc\"\n            frameborder=\"0\"\n            allowfullscreen\n        ></iframe>\n        ",
      "image/jpeg": "[encoded data removed]"
     },
     "metadata": {},
     "execution_count": 1
    }
   ],
   "source": [
    "# This Youtube video walks through this notebook\n",
    "from IPython.display import YouTubeVideo\n",
    "YouTubeVideo('xjFtLF95uBc')"
   ]
  },
  {
   "cell_type": "code",
   "execution_count": 2,
   "metadata": {
    "run_control": {
     "frozen": false,
     "read_only": false
    },
    "tags": []
   },
   "outputs": [
    {
     "output_type": "stream",
     "name": "stdout",
     "text": "You may use any of these help commands:\nhelp(ResetStNum)\nhelp(NxtStateStr)\n\nYou may use any of these help commands:\nhelp(md2mc)\n.. and if you want to dig more, then ..\nhelp(default_line_attr)\nhelp(length_ok_input_items)\nhelp(union_line_attr_list_fld)\nhelp(extend_rsltdict)\nhelp(form_delta)\nhelp(get_machine_components)\n\nYou may use any of these help commands:\nhelp(mkp_dfa)\nhelp(mk_dfa)\nhelp(totalize_dfa)\nhelp(addtosigma_delta)\nhelp(step_dfa)\nhelp(run_dfa)\nhelp(accepts_dfa)\nhelp(comp_dfa)\nhelp(union_dfa)\nhelp(intersect_dfa)\nhelp(pruneUnreach)\nhelp(iso_dfa)\nhelp(langeq_dfa)\nhelp(same_status)\nhelp(h_langeq_dfa)\nhelp(fixptDist)\nhelp(min_dfa)\nhelp(pairFR)\nhelp(state_combos)\nhelp(sepFinNonFin)\nhelp(bash_eql_classes)\nhelp(listminus)\nhelp(bash_1)\nhelp(mk_rep_eqc)\nhelp(F_of)\nhelp(rep_of_s)\nhelp(q0_of)\nhelp(Delta_of)\nhelp(mk_state_eqc_name)\n\nYou may use any of these help commands:\nhelp(mk_nfa)\nhelp(totalize_nfa)\nhelp(step_nfa)\nhelp(run_nfa)\nhelp(ec_step_nfa)\nhelp(Eclosure)\nhelp(Echelp)\nhelp(accepts_nfa)\nhelp(nfa2dfa)\nhelp(n2d)\nhelp(inSets)\nhelp(rev_dfa)\nhelp(min_dfa_brz)\n\n"
    }
   ],
   "source": [
    "#~~~~~~~~~~~~~~~~~~~~~~~~~~~~~~~~~~~~~~~~~~~~~~~~~~~~~~~\n",
    "import sys\n",
    "\n",
    "# -- Detect if in Own Install or in Colab\n",
    "try:\n",
    "    import google.colab\n",
    "    OWN_INSTALL = False\n",
    "except:\n",
    "    OWN_INSTALL = True\n",
    "    \n",
    "if OWN_INSTALL:\n",
    "    \n",
    "  #---- Leave these definitions ON if running on laptop\n",
    "  #---- Else turn OFF by putting them between ''' ... '''\n",
    "\n",
    "  sys.path[0:0] = ['../../../../..',  '../../../../../3rdparty',  \n",
    "                   '../../../..',  '../../../../3rdparty',  \n",
    "                   '../../..',     '../../../3rdparty', \n",
    "                   '../..',        '../../3rdparty',\n",
    "                   '..',           '../3rdparty' ]\n",
    "\n",
    "else: # In colab\n",
    "  ! if [ ! -d Jove ]; then git clone https://github.com/ganeshutah/Jove Jove; fi\n",
    "  sys.path.append('./Jove')\n",
    "  sys.path.append('./Jove/jove')\n",
    "\n",
    "# -- common imports --\n",
    "from jove.DotBashers import *\n",
    "from jove.Def_md2mc  import *\n",
    "from jove.Def_NFA    import *\n",
    "from jove.Def_DFA    import *\n",
    "from jove.AnimateNFA import *\n",
    "#~~~~~~~~~~~~~~~~~~~~~~~~~~~~~~~~~~~~~~~~~~~~~~~~~~~~~~~"
   ]
  },
  {
   "cell_type": "markdown",
   "metadata": {},
   "source": [
    "# This NFA checks whether a string has \"01\" in it"
   ]
  },
  {
   "cell_type": "code",
   "execution_count": 3,
   "metadata": {
    "tags": []
   },
   "outputs": [
    {
     "output_type": "stream",
     "name": "stderr",
     "text": "Generating LALR tables\n"
    }
   ],
   "source": [
    "nfahas01 = md2mc('''\n",
    "NFA \n",
    "I : 0 | 1 -> I\n",
    "I : '' -> A\n",
    "A : 0  -> B\n",
    "B : 1  -> C\n",
    "C : 0 | 1 -> C\n",
    "C : '' -> F\n",
    "''')"
   ]
  },
  {
   "cell_type": "markdown",
   "metadata": {},
   "source": [
    "## This example is highly worth studying via animations\n",
    "\n",
    "Put it in animate mode, and then single-step to see the EClosure of states"
   ]
  },
  {
   "cell_type": "code",
   "execution_count": 4,
   "metadata": {},
   "outputs": [
    {
     "output_type": "display_data",
     "data": {
      "text/plain": "VBox(children=(HBox(children=(Text(value='', description='Input:', layout=Layout(width='500px'), placeholder='…",
      "application/vnd.jupyter.widget-view+json": {
       "version_major": 2,
       "version_minor": 0,
       "model_id": "c77249ef253c47aeb07f4a91026c485d"
      }
     },
     "metadata": {}
    },
    {
     "output_type": "display_data",
     "data": {
      "text/plain": "<IPython.core.display.HTML object>",
      "text/html": "<link rel=\"stylesheet\" href=\"//stackpath.bootstrapcdn.com/font-awesome/4.7.0/css/font-awesome.min.css\"/>"
     },
     "metadata": {}
    }
   ],
   "source": [
    "AnimateNFA(nfahas01, FuseEdges=False)\n",
    "display(HTML('<link rel=\\\"stylesheet\\\" href=\\\"//stackpath.bootstrapcdn.com/font-awesome/4.7.0/css/font-awesome.min.css\\\"/>'))"
   ]
  },
  {
   "cell_type": "markdown",
   "metadata": {},
   "source": [
    "# This is an example from Figure 7.7 of the book\n",
    "\n",
    "I am choosing to type it in two different ways: one with a single initial state, and \n",
    "another with multiple initial states. Fig77 is the single initial state version, and\n",
    "Fig77a is with multiple initial states"
   ]
  },
  {
   "cell_type": "code",
   "execution_count": null,
   "metadata": {},
   "outputs": [],
   "source": [
    "Fig77 = md2mc('''NFA\n",
    "I : '' -> A, G\n",
    "A : '' -> B, C\n",
    "G : 1  -> F\n",
    "B : 1  -> D\n",
    "C : 0  -> E\n",
    "D : '' -> A, G\n",
    "E : '' -> A, G\n",
    "''')"
   ]
  },
  {
   "cell_type": "code",
   "execution_count": null,
   "metadata": {
    "scrolled": true
   },
   "outputs": [],
   "source": [
    "AnimateNFA(Fig77, FuseEdges=False)\n",
    "display(HTML('<link rel=\\\"stylesheet\\\" href=\\\"//stackpath.bootstrapcdn.com/font-awesome/4.7.0/css/font-awesome.min.css\\\"/>'))"
   ]
  },
  {
   "cell_type": "code",
   "execution_count": null,
   "metadata": {},
   "outputs": [],
   "source": [
    "Fig77a = md2mc('''NFA\n",
    "IA : '' -> B, C\n",
    "IG : 1  -> F\n",
    "B : 1  -> D\n",
    "C : 0  -> E\n",
    "D : '' -> IA, IG\n",
    "E : '' -> IA, IG\n",
    "''')"
   ]
  },
  {
   "cell_type": "code",
   "execution_count": null,
   "metadata": {},
   "outputs": [],
   "source": [
    "dotObj_nfa(Fig77a)"
   ]
  },
  {
   "cell_type": "code",
   "execution_count": null,
   "metadata": {},
   "outputs": [],
   "source": [
    "dotObj_dfa(nfa2dfa(Fig77a, STATENAME_MAXSIZE=50), STATENAME_MAXSIZE=50)"
   ]
  },
  {
   "cell_type": "code",
   "execution_count": null,
   "metadata": {
    "run_control": {
     "frozen": false,
     "read_only": false
    }
   },
   "outputs": [],
   "source": [
    "# Our automd markdown works for NFA also. Here is the NFA for\n",
    "# the language \"ends in 0101\"\n",
    "\n",
    "NFA_ends0101 = md2mc(''' \n",
    "!!---------------------------------------------------------------------------\n",
    "!! This NFA looks for patterns of the form \n",
    "!!\n",
    "!!     ......<some 0's and 1's>.....0101\n",
    "!!\n",
    "!! i.e., all strings that end in 0101.\n",
    "!!\n",
    "!! This example (over and above thirdlastis1.nfa) also illustrates\n",
    "!! the power of nondeterminism. Anytime we see a 0 from state I, we\n",
    "!! can have the NFA speculate that it is seeing the beginning of a\n",
    "!! 0101 pattern! If the NFA fails in its guess, it pays no price\n",
    "!! (because another guess is soon coming from behind).\n",
    "!!\n",
    "!! * We take 4 states in the NFA solution. The DFA solution takes\n",
    "!!   5 states.\n",
    "!!\n",
    "!! * This shows how burden is shifted from the\n",
    "!!   human to the computer doing the NFA simulation.\n",
    "!!   Even though the savings in states is not dramatic,\n",
    "!!   the effort to build this NFA is much lower than building\n",
    "!!   the corresponding DFA.\n",
    "!! \n",
    "!!-----------------------------------------------------------------\n",
    "!! For NFA, each line can be as follows:\n",
    "!!\n",
    "!! State : in1 | in2 ...  ->  COmma, Separated, State, List  !! comment\n",
    "!!-----------------------------------------------------------------\n",
    "\n",
    "NFA\n",
    "\n",
    "I    : 1   -> I      !! I goes to I upon 1\n",
    "\n",
    "I    : 0   -> S0, I  !! I goes to S0 and I upon 0\n",
    "\n",
    "S0   : 1   -> S01    !! S0 goes to S01 upon 1\n",
    "\n",
    "S01  : 0   -> S010   !! S01 goes to S010 upon 0\n",
    "\n",
    "S010 : 1   -> F      !! S010 goes to F upon F\n",
    "\n",
    "!!---\n",
    "''')"
   ]
  },
  {
   "cell_type": "code",
   "execution_count": null,
   "metadata": {
    "run_control": {
     "frozen": false,
     "read_only": false
    }
   },
   "outputs": [],
   "source": [
    "# Now let us see the dict version of the NFA\n",
    "NFA_ends0101 "
   ]
  },
  {
   "cell_type": "code",
   "execution_count": null,
   "metadata": {
    "run_control": {
     "frozen": false,
     "read_only": false
    }
   },
   "outputs": [],
   "source": [
    "# Let's see the drawing of this NFA\n",
    "\n",
    "dotObj_nfa(NFA_ends0101)  "
   ]
  },
  {
   "cell_type": "code",
   "execution_count": null,
   "metadata": {
    "run_control": {
     "frozen": false,
     "read_only": false
    }
   },
   "outputs": [],
   "source": [
    "# The drawing produces separated self-loops. Let's fuse 'em\n",
    "\n",
    "# Now we are going to fuse the separate self-loops into one\n",
    "\n",
    "dotObj_nfa(NFA_ends0101, FuseEdges=True) "
   ]
  },
  {
   "cell_type": "markdown",
   "metadata": {
    "run_control": {
     "frozen": false,
     "read_only": false
    }
   },
   "source": [
    "# NFA for 3rd-last is 1"
   ]
  },
  {
   "cell_type": "code",
   "execution_count": null,
   "metadata": {
    "run_control": {
     "frozen": false,
     "read_only": false
    }
   },
   "outputs": [],
   "source": [
    "# Here is the automd (markdown) for an NF whose third-last symbol is a 1\n",
    "\n",
    "NFA_3rdlast_1 = md2mc('''\n",
    "NFA\n",
    "\n",
    "I : 0  | 1  -> I  !! Upon a 0 or a 1, continue to stay in state I\n",
    "\n",
    "I : ''      -> S0 !! Nondeterministically transition to state S0\n",
    "\n",
    "S0 : 1      -> S1 !! This is the key \"1\" (third-last being 1) seen\n",
    "\n",
    "S1 : 0 | 1  -> S2 !! One 0/1 takes the NFA to S2\n",
    "\n",
    "S2 : 0 | 1  -> F  !! One more 0/1 takes the NFA to F\n",
    "\n",
    "''')"
   ]
  },
  {
   "cell_type": "code",
   "execution_count": null,
   "metadata": {
    "run_control": {
     "frozen": false,
     "read_only": false
    }
   },
   "outputs": [],
   "source": [
    "# Let us see its internal representation\n",
    "\n",
    "NFA_3rdlast_1"
   ]
  },
  {
   "cell_type": "code",
   "execution_count": null,
   "metadata": {
    "run_control": {
     "frozen": false,
     "read_only": false
    }
   },
   "outputs": [],
   "source": [
    "# Let us see this NFA drawn out\n",
    "\n",
    "dotObj_nfa(NFA_3rdlast_1, FuseEdges=True)"
   ]
  },
  {
   "cell_type": "code",
   "execution_count": null,
   "metadata": {
    "run_control": {
     "frozen": false,
     "read_only": false
    }
   },
   "outputs": [],
   "source": [
    "# Let's step the NFA on epsilon   \n",
    "step_nfa(NFA_3rdlast_1, \"I\", \"\")"
   ]
  },
  {
   "cell_type": "code",
   "execution_count": null,
   "metadata": {
    "run_control": {
     "frozen": false,
     "read_only": false
    }
   },
   "outputs": [],
   "source": [
    "# Let's step it on '0'  \n",
    "step_nfa(NFA_3rdlast_1, \"I\", \"0\")"
   ]
  },
  {
   "cell_type": "code",
   "execution_count": null,
   "metadata": {
    "run_control": {
     "frozen": false,
     "read_only": false
    }
   },
   "outputs": [],
   "source": [
    "# Step it on a \"1\" to see two next states. That shows nondeterminism!\n",
    "\n",
    "step_nfa(NFA_3rdlast_1, \"I\", \"1\")  "
   ]
  },
  {
   "cell_type": "code",
   "execution_count": null,
   "metadata": {
    "run_control": {
     "frozen": false,
     "read_only": false
    }
   },
   "outputs": [],
   "source": [
    "# What is the Eclosure of the set of states {I} ?\n",
    "\n",
    "Eclosure(NFA_3rdlast_1, {\"I\"})"
   ]
  },
  {
   "cell_type": "code",
   "execution_count": null,
   "metadata": {
    "run_control": {
     "frozen": false,
     "read_only": false
    }
   },
   "outputs": [],
   "source": [
    "help(accepts_nfa)"
   ]
  },
  {
   "cell_type": "code",
   "execution_count": null,
   "metadata": {
    "run_control": {
     "frozen": false,
     "read_only": false
    }
   },
   "outputs": [],
   "source": [
    "accepts_nfa(NFA_3rdlast_1, \"0100100\", chatty=True)"
   ]
  },
  {
   "cell_type": "markdown",
   "metadata": {
    "run_control": {
     "frozen": false,
     "read_only": false
    }
   },
   "source": [
    "# Let us run NFA interactively via widgets\n",
    "\n",
    "We have two NFA to play with, namely nfa_ends0101 and NFA_3rdlast_1\n"
   ]
  },
  {
   "cell_type": "code",
   "execution_count": null,
   "metadata": {
    "run_control": {
     "frozen": false,
     "read_only": false
    }
   },
   "outputs": [],
   "source": [
    "import ipywidgets as wdg\n",
    "def run_nfa_slider(N, s, n):\n",
    "    \"\"\"Run NFA N from N[\"Q0\"] (which is a set..) on substring s[0:n]\n",
    "    \"\"\"\n",
    "    S = N[\"Q0\"] \n",
    "    if (n > len(s)):\n",
    "        n = len(s)\n",
    "    print(\"string = \", s[0:n])\n",
    "    run_nfa(N, S, s[0:n], True)\n",
    "    \n",
    "def run_nfa_int(N1, N2):\n",
    "    \"\"\"Run interactively from the given NFA .. from {q0} \n",
    "       on input string's substring\n",
    "       as picked by slider.\n",
    "    \"\"\"\n",
    "    inp = input(\"Please provide string: \")\n",
    "    wdg.interact(run_nfa_slider, N = {'N1': N1, 'N2': N2}, \n",
    "                 s = inp, n=(0,32))\n",
    "    \n",
    "def test_run_nfa_int(N1, N2):\n",
    "    \"\"\"Test the interactive run of NFA.\n",
    "    \"\"\"\n",
    "    run_nfa_int(N1, N2)\n",
    "\n",
    "#-- enable this later. test_run_nfa_int()"
   ]
  },
  {
   "cell_type": "markdown",
   "metadata": {
    "run_control": {
     "frozen": false,
     "read_only": false
    }
   },
   "source": [
    "## Once you run the command below, provide a string\n",
    "\n",
    "Provide a string of 0's and 1's. Then you can use the pull-down to pick the NFA\n",
    "to test, and the slider to incrementally consume more of the input string\n"
   ]
  },
  {
   "cell_type": "code",
   "execution_count": null,
   "metadata": {
    "run_control": {
     "frozen": false,
     "read_only": false
    }
   },
   "outputs": [],
   "source": [
    "test_run_nfa_int(NFA_ends0101, NFA_3rdlast_1)"
   ]
  }
 ],
 "metadata": {
  "kernelspec": {
   "display_name": "Python 3",
   "language": "python",
   "name": "python3"
  },
  "language_info": {
   "codemirror_mode": {
    "name": "ipython",
    "version": 3
   },
   "file_extension": ".py",
   "mimetype": "text/x-python",
   "name": "python",
   "nbconvert_exporter": "python",
   "pygments_lexer": "ipython3",
   "version": "3.8.3-final"
  },
  "toc": {
   "colors": {
    "hover_highlight": "#DAA520",
    "running_highlight": "#FF0000",
    "selected_highlight": "#FFD700"
   },
   "moveMenuLeft": true,
   "nav_menu": {
    "height": "121px",
    "width": "252px"
   },
   "navigate_menu": true,
   "number_sections": true,
   "sideBar": true,
   "threshold": 4,
   "toc_cell": false,
   "toc_section_display": "block",
   "toc_window_display": false,
   "widenNotebook": false
  },
  "widgets": {
   "state": {
    "430c92ee02b34ec1912bf03c8de1e6dc": {
     "views": [
      {
       "cell_index": 20
      }
     ]
    }
   },
   "version": "1.2.0"
  }
 },
 "nbformat": 4,
 "nbformat_minor": 2
}