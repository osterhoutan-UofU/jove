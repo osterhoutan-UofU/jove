{
 "cells": [
  {
   "cell_type": "markdown",
   "metadata": {
    "run_control": {
     "frozen": false,
     "read_only": false
    }
   },
   "source": [
    "# Basics of NFA\n",
    "\n",
    "You may wish to watch my lecture on NFA a little, then play with the\n",
    "code below, and then finish watching."
   ]
  },
  {
   "cell_type": "code",
   "execution_count": 3,
   "metadata": {
    "run_control": {
     "frozen": false,
     "read_only": false
    }
   },
   "outputs": [
    {
     "output_type": "execute_result",
     "data": {
      "text/plain": "<IPython.lib.display.YouTubeVideo at 0x203a21c6f40>",
      "text/html": "\n        <iframe\n            width=\"400\"\n            height=\"300\"\n            src=\"https://www.youtube.com/embed/xjFtLF95uBc\"\n            frameborder=\"0\"\n            allowfullscreen\n        ></iframe>\n        ",
      "image/jpeg": "[encoded data removed]"
     },
     "metadata": {},
     "execution_count": 3
    }
   ],
   "source": [
    "# This Youtube video walks through this notebook\n",
    "from IPython.display import YouTubeVideo\n",
    "YouTubeVideo('xjFtLF95uBc')"
   ]
  },
  {
   "cell_type": "code",
   "execution_count": 4,
   "metadata": {
    "run_control": {
     "frozen": false,
     "read_only": false
    },
    "tags": []
   },
   "outputs": [],
   "source": [
    "#~~~~~~~~~~~~~~~~~~~~~~~~~~~~~~~~~~~~~~~~~~~~~~~~~~~~~~~\n",
    "import sys\n",
    "\n",
    "# -- Detect if in Own Install or in Colab\n",
    "try:\n",
    "    import google.colab\n",
    "    OWN_INSTALL = False\n",
    "except:\n",
    "    OWN_INSTALL = True\n",
    "    \n",
    "if OWN_INSTALL:\n",
    "    \n",
    "  #---- Leave these definitions ON if running on laptop\n",
    "  #---- Else turn OFF by putting them between ''' ... '''\n",
    "\n",
    "  sys.path[0:0] = ['../../../../..',  '../../../../../3rdparty',  \n",
    "                   '../../../..',  '../../../../3rdparty',  \n",
    "                   '../../..',     '../../../3rdparty', \n",
    "                   '../..',        '../../3rdparty',\n",
    "                   '..',           '../3rdparty' ]\n",
    "\n",
    "else: # In colab\n",
    "  ! if [ ! -d Jove ]; then git clone https://github.com/ganeshutah/Jove Jove; fi\n",
    "  sys.path.append('./Jove')\n",
    "  sys.path.append('./Jove/jove')\n",
    "\n",
    "# -- common imports --\n",
    "from jove.DotBashers import *\n",
    "from jove.Def_md2mc  import *\n",
    "from jove.Def_NFA    import *\n",
    "from jove.Def_DFA    import *\n",
    "from jove.AnimateNFA import *\n",
    "#~~~~~~~~~~~~~~~~~~~~~~~~~~~~~~~~~~~~~~~~~~~~~~~~~~~~~~~"
   ]
  },
  {
   "cell_type": "markdown",
   "metadata": {},
   "source": [
    "# This NFA checks whether a string has \"01\" in it"
   ]
  },
  {
   "cell_type": "code",
   "execution_count": 5,
   "metadata": {
    "tags": []
   },
   "outputs": [],
   "source": [
    "nfahas01 = md2mc('''\n",
    "NFA \n",
    "I : 0 | 1 -> I\n",
    "I : '' -> A\n",
    "A : 0  -> B\n",
    "B : 1  -> C\n",
    "C : 0 | 1 -> C\n",
    "C : '' -> F\n",
    "''')"
   ]
  },
  {
   "cell_type": "markdown",
   "metadata": {},
   "source": [
    "## This example is highly worth studying via animations\n",
    "\n",
    "Put it in animate mode, and then single-step to see the EClosure of states"
   ]
  },
  {
   "cell_type": "code",
   "execution_count": 6,
   "metadata": {},
   "outputs": [
    {
     "output_type": "display_data",
     "data": {
      "text/plain": "VBox(children=(HBox(children=(Text(value='', description='Input:', layout=Layout(width='500px'), placeholder='…",
      "application/vnd.jupyter.widget-view+json": {
       "version_major": 2,
       "version_minor": 0,
       "model_id": "d5c25a5463c84e44a48dea0c76b66246"
      }
     },
     "metadata": {}
    },
    {
     "output_type": "display_data",
     "data": {
      "text/plain": "<IPython.core.display.HTML object>",
      "text/html": "<link rel=\"stylesheet\" href=\"//stackpath.bootstrapcdn.com/font-awesome/4.7.0/css/font-awesome.min.css\"/>"
     },
     "metadata": {}
    }
   ],
   "source": [
    "AnimateNFA(nfahas01, FuseEdges=False)\n",
    "display(HTML('<link rel=\\\"stylesheet\\\" href=\\\"//stackpath.bootstrapcdn.com/font-awesome/4.7.0/css/font-awesome.min.css\\\"/>'))"
   ]
  },
  {
   "cell_type": "markdown",
   "metadata": {},
   "source": [
    "# This is an example from Figure 7.7 of the book\n",
    "\n",
    "I am choosing to type it in two different ways: one with a single initial state, and \n",
    "another with multiple initial states. Fig77 is the single initial state version, and\n",
    "Fig77a is with multiple initial states"
   ]
  },
  {
   "cell_type": "code",
   "execution_count": 7,
   "metadata": {},
   "outputs": [],
   "source": [
    "Fig77 = md2mc('''NFA\n",
    "I : '' -> A, G\n",
    "A : '' -> B, C\n",
    "G : 1  -> F\n",
    "B : 1  -> D\n",
    "C : 0  -> E\n",
    "D : '' -> A, G\n",
    "E : '' -> A, G\n",
    "''')"
   ]
  },
  {
   "cell_type": "code",
   "execution_count": 30,
   "metadata": {},
   "outputs": [],
   "source": [
    "Fig77DFA = nfa2dfa(Fig77, STATENAME_MAXSIZE = 40)"
   ]
  },
  {
   "cell_type": "code",
   "execution_count": 31,
   "metadata": {},
   "outputs": [
    {
     "output_type": "execute_result",
     "data": {
      "text/plain": "<graphviz.dot.Digraph at 0x203a42bed30>",
      "image/svg+xml": "<?xml version=\"1.0\" encoding=\"UTF-8\" standalone=\"no\"?>\r\n<!DOCTYPE svg PUBLIC \"-//W3C//DTD SVG 1.1//EN\"\r\n \"http://www.w3.org/Graphics/SVG/1.1/DTD/svg11.dtd\">\r\n<!-- Generated by graphviz version 2.38.0 (20140413.2041)\r\n -->\r\n<!-- Title: %3 Pages: 1 -->\r\n<svg width=\"584pt\" height=\"224pt\"\r\n viewBox=\"0.00 0.00 584.47 223.59\" xmlns=\"http://www.w3.org/2000/svg\" xmlns:xlink=\"http://www.w3.org/1999/xlink\">\r\n<g id=\"graph0\" class=\"graph\" transform=\"scale(1 1) rotate(0) translate(4 219.589)\">\r\n<title>%3</title>\r\n<polygon fill=\"white\" stroke=\"none\" points=\"-4,4 -4,-219.589 580.466,-219.589 580.466,4 -4,4\"/>\r\n<!-- EMPTY -->\r\n<g id=\"node1\" class=\"node\"><title>EMPTY</title>\r\n</g>\r\n<!-- A_B_C_G_I -->\r\n<g id=\"node3\" class=\"node\"><title>A_B_C_G_I</title>\r\n<ellipse fill=\"none\" stroke=\"black\" cx=\"149.495\" cy=\"-58.4948\" rx=\"58.4896\" ry=\"58.4896\"/>\r\n<text text-anchor=\"middle\" x=\"149.495\" y=\"-54.7948\" font-family=\"Times New Roman,serif\" font-size=\"14.00\">A_B_C_G_I</text>\r\n</g>\r\n<!-- EMPTY&#45;&gt;A_B_C_G_I -->\r\n<g id=\"edge1\" class=\"edge\"><title>EMPTY&#45;&gt;A_B_C_G_I</title>\r\n<path fill=\"none\" stroke=\"black\" d=\"M54.1456,-58.4948C62.0751,-58.4948 71.1798,-58.4948 80.5368,-58.4948\"/>\r\n<polygon fill=\"black\" stroke=\"black\" points=\"80.7455,-61.9949 90.7454,-58.4948 80.7454,-54.9949 80.7455,-61.9949\"/>\r\n</g>\r\n<!-- A_B_C_E_G -->\r\n<g id=\"node2\" class=\"node\"><title>A_B_C_E_G</title>\r\n<ellipse fill=\"none\" stroke=\"black\" cx=\"316.084\" cy=\"-121.495\" rx=\"61.1893\" ry=\"61.1893\"/>\r\n<text text-anchor=\"middle\" x=\"316.084\" y=\"-117.795\" font-family=\"Times New Roman,serif\" font-size=\"14.00\">A_B_C_E_G</text>\r\n</g>\r\n<!-- A_B_C_E_G&#45;&gt;A_B_C_E_G -->\r\n<g id=\"edge4\" class=\"edge\"><title>A_B_C_E_G&#45;&gt;A_B_C_E_G</title>\r\n<path fill=\"none\" stroke=\"black\" d=\"M301.035,-180.824C302.783,-192.382 307.799,-200.589 316.084,-200.589 321.78,-200.589 325.931,-196.71 328.537,-190.53\"/>\r\n<polygon fill=\"black\" stroke=\"black\" points=\"331.931,-191.389 331.133,-180.824 325.168,-189.58 331.931,-191.389\"/>\r\n<text text-anchor=\"middle\" x=\"316.084\" y=\"-204.389\" font-family=\"Times New Roman,serif\" font-size=\"14.00\">0 </text>\r\n</g>\r\n<!-- A_B_C_D_F_G -->\r\n<g id=\"node4\" class=\"node\"><title>A_B_C_D_F_G</title>\r\n<ellipse fill=\"none\" stroke=\"black\" cx=\"500.322\" cy=\"-83.4948\" rx=\"72.2799\" ry=\"72.2799\"/>\r\n<ellipse fill=\"none\" stroke=\"black\" cx=\"500.322\" cy=\"-83.4948\" rx=\"76.2875\" ry=\"76.2875\"/>\r\n<text text-anchor=\"middle\" x=\"500.322\" y=\"-79.7948\" font-family=\"Times New Roman,serif\" font-size=\"14.00\">A_B_C_D_F_G</text>\r\n</g>\r\n<!-- A_B_C_E_G&#45;&gt;A_B_C_D_F_G -->\r\n<g id=\"edge5\" class=\"edge\"><title>A_B_C_E_G&#45;&gt;A_B_C_D_F_G</title>\r\n<path fill=\"none\" stroke=\"black\" d=\"M376,-109.21C388.596,-106.583 402.134,-103.76 415.464,-100.981\"/>\r\n<polygon fill=\"black\" stroke=\"black\" points=\"416.522,-104.336 425.597,-98.8678 415.093,-97.4829 416.522,-104.336\"/>\r\n<text text-anchor=\"middle\" x=\"400.679\" y=\"-108.295\" font-family=\"Times New Roman,serif\" font-size=\"14.00\">1 </text>\r\n</g>\r\n<!-- A_B_C_G_I&#45;&gt;A_B_C_E_G -->\r\n<g id=\"edge2\" class=\"edge\"><title>A_B_C_G_I&#45;&gt;A_B_C_E_G</title>\r\n<path fill=\"none\" stroke=\"black\" d=\"M204.388,-79.1234C218.692,-84.5987 234.302,-90.5736 249.168,-96.264\"/>\r\n<polygon fill=\"black\" stroke=\"black\" points=\"248.218,-99.6481 258.809,-99.9542 250.721,-93.1107 248.218,-99.6481\"/>\r\n<text text-anchor=\"middle\" x=\"231.49\" y=\"-93.2948\" font-family=\"Times New Roman,serif\" font-size=\"14.00\">0 </text>\r\n</g>\r\n<!-- A_B_C_G_I&#45;&gt;A_B_C_D_F_G -->\r\n<g id=\"edge3\" class=\"edge\"><title>A_B_C_G_I&#45;&gt;A_B_C_D_F_G</title>\r\n<path fill=\"none\" stroke=\"black\" d=\"M206.302,-44.442C252.418,-34.8915 319.45,-25.7712 377.179,-36.4948 391.699,-39.1921 406.72,-43.5497 421.052,-48.5505\"/>\r\n<polygon fill=\"black\" stroke=\"black\" points=\"420.255,-51.9844 430.849,-52.103 422.641,-45.4037 420.255,-51.9844\"/>\r\n<text text-anchor=\"middle\" x=\"316.084\" y=\"-40.2948\" font-family=\"Times New Roman,serif\" font-size=\"14.00\">1 </text>\r\n</g>\r\n<!-- A_B_C_D_F_G&#45;&gt;A_B_C_E_G -->\r\n<g id=\"edge6\" class=\"edge\"><title>A_B_C_D_F_G&#45;&gt;A_B_C_E_G</title>\r\n<path fill=\"none\" stroke=\"black\" d=\"M424.06,-80.353C414.267,-81.0705 404.43,-82.3674 395.179,-84.4948 390.1,-85.6627 384.962,-87.1948 379.874,-88.9708\"/>\r\n<polygon fill=\"black\" stroke=\"black\" points=\"378.284,-85.8307 370.18,-92.6551 380.771,-92.374 378.284,-85.8307\"/>\r\n<text text-anchor=\"middle\" x=\"400.679\" y=\"-88.2948\" font-family=\"Times New Roman,serif\" font-size=\"14.00\">0 </text>\r\n</g>\r\n<!-- A_B_C_D_F_G&#45;&gt;A_B_C_D_F_G -->\r\n<g id=\"edge7\" class=\"edge\"><title>A_B_C_D_F_G&#45;&gt;A_B_C_D_F_G</title>\r\n<path fill=\"none\" stroke=\"black\" d=\"M483.483,-158.075C486,-169.708 491.613,-177.638 500.322,-177.638 506.31,-177.638 510.834,-173.89 513.895,-167.767\"/>\r\n<polygon fill=\"black\" stroke=\"black\" points=\"517.284,-168.67 517.162,-158.075 510.651,-166.433 517.284,-168.67\"/>\r\n<text text-anchor=\"middle\" x=\"500.322\" y=\"-181.438\" font-family=\"Times New Roman,serif\" font-size=\"14.00\">1 </text>\r\n</g>\r\n</g>\r\n</svg>\r\n"
     },
     "metadata": {},
     "execution_count": 31
    }
   ],
   "source": [
    "dotObj_dfa(Fig77DFA, STATENAME_MAXSIZE = 40)"
   ]
  },
  {
   "cell_type": "code",
   "execution_count": 34,
   "metadata": {},
   "outputs": [
    {
     "output_type": "execute_result",
     "data": {
      "text/plain": "<graphviz.dot.Digraph at 0x203a4dd5ac0>",
      "image/svg+xml": "<?xml version=\"1.0\" encoding=\"UTF-8\" standalone=\"no\"?>\r\n<!DOCTYPE svg PUBLIC \"-//W3C//DTD SVG 1.1//EN\"\r\n \"http://www.w3.org/Graphics/SVG/1.1/DTD/svg11.dtd\">\r\n<!-- Generated by graphviz version 2.38.0 (20140413.2041)\r\n -->\r\n<!-- Title: %3 Pages: 1 -->\r\n<svg width=\"245pt\" height=\"127pt\"\r\n viewBox=\"0.00 0.00 244.99 127.50\" xmlns=\"http://www.w3.org/2000/svg\" xmlns:xlink=\"http://www.w3.org/1999/xlink\">\r\n<g id=\"graph0\" class=\"graph\" transform=\"scale(1 1) rotate(0) translate(4 123.496)\">\r\n<title>%3</title>\r\n<polygon fill=\"white\" stroke=\"none\" points=\"-4,4 -4,-123.496 240.992,-123.496 240.992,4 -4,4\"/>\r\n<!-- EMPTY -->\r\n<g id=\"node1\" class=\"node\"><title>EMPTY</title>\r\n</g>\r\n<!-- St2 -->\r\n<g id=\"node2\" class=\"node\"><title>St2</title>\r\n<ellipse fill=\"none\" stroke=\"black\" cx=\"113.748\" cy=\"-26.748\" rx=\"22.9987\" ry=\"22.9987\"/>\r\n<text text-anchor=\"middle\" x=\"113.748\" y=\"-23.048\" font-family=\"Times New Roman,serif\" font-size=\"14.00\">St2</text>\r\n</g>\r\n<!-- EMPTY&#45;&gt;St2 -->\r\n<g id=\"edge1\" class=\"edge\"><title>EMPTY&#45;&gt;St2</title>\r\n<path fill=\"none\" stroke=\"black\" d=\"M54.3502,-26.748C62.71,-26.748 72.0455,-26.748 80.757,-26.748\"/>\r\n<polygon fill=\"black\" stroke=\"black\" points=\"80.9663,-30.2481 90.9663,-26.748 80.9662,-23.2481 80.9663,-30.2481\"/>\r\n</g>\r\n<!-- St1 -->\r\n<g id=\"node3\" class=\"node\"><title>St1</title>\r\n<ellipse fill=\"none\" stroke=\"black\" cx=\"210.244\" cy=\"-26.748\" rx=\"22.9609\" ry=\"22.9609\"/>\r\n<ellipse fill=\"none\" stroke=\"black\" cx=\"210.244\" cy=\"-26.748\" rx=\"26.9983\" ry=\"26.9983\"/>\r\n<text text-anchor=\"middle\" x=\"210.244\" y=\"-23.048\" font-family=\"Times New Roman,serif\" font-size=\"14.00\">St1</text>\r\n</g>\r\n<!-- St2&#45;&gt;St1 -->\r\n<g id=\"edge2\" class=\"edge\"><title>St2&#45;&gt;St1</title>\r\n<path fill=\"none\" stroke=\"black\" d=\"M136.665,-26.748C147.569,-26.748 161.029,-26.748 173.384,-26.748\"/>\r\n<polygon fill=\"black\" stroke=\"black\" points=\"173.423,-30.2481 183.423,-26.748 173.422,-23.2481 173.423,-30.2481\"/>\r\n<text text-anchor=\"middle\" x=\"159.996\" y=\"-30.548\" font-family=\"Times New Roman,serif\" font-size=\"14.00\">1 </text>\r\n</g>\r\n<!-- St1&#45;&gt;St1 -->\r\n<g id=\"edge3\" class=\"edge\"><title>St1&#45;&gt;St1</title>\r\n<path fill=\"none\" stroke=\"black\" d=\"M205.567,-53.3928C205.413,-63.3224 206.972,-71.496 210.244,-71.496 212.289,-71.496 213.664,-68.3032 214.371,-63.4843\"/>\r\n<polygon fill=\"black\" stroke=\"black\" points=\"217.872,-63.5684 214.921,-53.3928 210.882,-63.1875 217.872,-63.5684\"/>\r\n<text text-anchor=\"middle\" x=\"210.244\" y=\"-75.296\" font-family=\"Times New Roman,serif\" font-size=\"14.00\">0 </text>\r\n</g>\r\n<!-- St1&#45;&gt;St1 -->\r\n<g id=\"edge4\" class=\"edge\"><title>St1&#45;&gt;St1</title>\r\n<path fill=\"none\" stroke=\"black\" d=\"M201.927,-52.203C199.122,-70.8313 201.894,-89.496 210.244,-89.496 217.028,-89.496 220.13,-77.1744 219.55,-62.562\"/>\r\n<polygon fill=\"black\" stroke=\"black\" points=\"222.996,-61.8249 218.561,-52.203 216.028,-62.4906 222.996,-61.8249\"/>\r\n<text text-anchor=\"middle\" x=\"210.244\" y=\"-93.296\" font-family=\"Times New Roman,serif\" font-size=\"14.00\">1 </text>\r\n</g>\r\n</g>\r\n</svg>\r\n"
     },
     "metadata": {},
     "execution_count": 34
    }
   ],
   "source": [
    "dotObj_dfa(nfa2dfa(rev_dfa(Fig77DFA)), STATENAME_MAXSIZE = 40)"
   ]
  },
  {
   "cell_type": "code",
   "execution_count": 8,
   "metadata": {
    "scrolled": true
   },
   "outputs": [
    {
     "output_type": "display_data",
     "data": {
      "text/plain": "VBox(children=(HBox(children=(Text(value='', description='Input:', layout=Layout(width='500px'), placeholder='…",
      "application/vnd.jupyter.widget-view+json": {
       "version_major": 2,
       "version_minor": 0,
       "model_id": "19857fdc518b4694889fe08227e8eac7"
      }
     },
     "metadata": {}
    },
    {
     "output_type": "display_data",
     "data": {
      "text/plain": "<IPython.core.display.HTML object>",
      "text/html": "<link rel=\"stylesheet\" href=\"//stackpath.bootstrapcdn.com/font-awesome/4.7.0/css/font-awesome.min.css\"/>"
     },
     "metadata": {}
    }
   ],
   "source": [
    "AnimateNFA(Fig77, FuseEdges=False)\n",
    "display(HTML('<link rel=\\\"stylesheet\\\" href=\\\"//stackpath.bootstrapcdn.com/font-awesome/4.7.0/css/font-awesome.min.css\\\"/>'))"
   ]
  },
  {
   "cell_type": "code",
   "execution_count": 9,
   "metadata": {},
   "outputs": [],
   "source": [
    "Fig77a = md2mc('''NFA\n",
    "IA : '' -> B, C\n",
    "IG : 1  -> F\n",
    "B : 1  -> D\n",
    "C : 0  -> E\n",
    "D : '' -> IA, IG\n",
    "E : '' -> IA, IG\n",
    "''')"
   ]
  },
  {
   "cell_type": "code",
   "execution_count": 10,
   "metadata": {},
   "outputs": [
    {
     "output_type": "execute_result",
     "data": {
      "text/plain": "<graphviz.dot.Digraph at 0x203a21c6850>",
      "image/svg+xml": "<?xml version=\"1.0\" encoding=\"UTF-8\" standalone=\"no\"?>\r\n<!DOCTYPE svg PUBLIC \"-//W3C//DTD SVG 1.1//EN\"\r\n \"http://www.w3.org/Graphics/SVG/1.1/DTD/svg11.dtd\">\r\n<!-- Generated by graphviz version 2.38.0 (20140413.2041)\r\n -->\r\n<!-- Title: %3 Pages: 1 -->\r\n<svg width=\"483pt\" height=\"205pt\"\r\n viewBox=\"0.00 0.00 482.89 205.00\" xmlns=\"http://www.w3.org/2000/svg\" xmlns:xlink=\"http://www.w3.org/1999/xlink\">\r\n<g id=\"graph0\" class=\"graph\" transform=\"scale(1 1) rotate(0) translate(4 201)\">\r\n<title>%3</title>\r\n<polygon fill=\"white\" stroke=\"none\" points=\"-4,4 -4,-201 478.893,-201 478.893,4 -4,4\"/>\r\n<!-- EMPTY -->\r\n<g id=\"node1\" class=\"node\"><title>EMPTY</title>\r\n</g>\r\n<!-- IA -->\r\n<g id=\"node2\" class=\"node\"><title>IA</title>\r\n<ellipse fill=\"none\" stroke=\"black\" cx=\"111.148\" cy=\"-97\" rx=\"20.2975\" ry=\"20.2975\"/>\r\n<text text-anchor=\"middle\" x=\"111.148\" y=\"-93.3\" font-family=\"Times New Roman,serif\" font-size=\"14.00\">IA</text>\r\n</g>\r\n<!-- EMPTY&#45;&gt;IA -->\r\n<g id=\"edge1\" class=\"edge\"><title>EMPTY&#45;&gt;IA</title>\r\n<path fill=\"none\" stroke=\"black\" d=\"M50.4474,-48.308C61.8389,-57.599 75.6556,-68.8679 87.127,-78.2239\"/>\r\n<polygon fill=\"black\" stroke=\"black\" points=\"85.0357,-81.0347 94.9972,-84.6429 89.46,-75.6102 85.0357,-81.0347\"/>\r\n</g>\r\n<!-- IG -->\r\n<g id=\"node4\" class=\"node\"><title>IG</title>\r\n<ellipse fill=\"none\" stroke=\"black\" cx=\"363.095\" cy=\"-67\" rx=\"20.5982\" ry=\"20.5982\"/>\r\n<text text-anchor=\"middle\" x=\"363.095\" y=\"-63.3\" font-family=\"Times New Roman,serif\" font-size=\"14.00\">IG</text>\r\n</g>\r\n<!-- EMPTY&#45;&gt;IG -->\r\n<g id=\"edge2\" class=\"edge\"><title>EMPTY&#45;&gt;IG</title>\r\n<path fill=\"none\" stroke=\"black\" d=\"M54.1317,-15.1758C69.8558,-7.61765 90.562,-0 110.148,-0 110.148,-0 110.148,-0 279.296,-0 306.841,-0 330.364,-22.6839 345.219,-41.6538\"/>\r\n<polygon fill=\"black\" stroke=\"black\" points=\"342.457,-43.8051 351.23,-49.7458 348.077,-39.6311 342.457,-43.8051\"/>\r\n</g>\r\n<!-- B -->\r\n<g id=\"node5\" class=\"node\"><title>B</title>\r\n<ellipse fill=\"none\" stroke=\"black\" cx=\"195.296\" cy=\"-151\" rx=\"18\" ry=\"18\"/>\r\n<text text-anchor=\"middle\" x=\"195.296\" y=\"-147.3\" font-family=\"Times New Roman,serif\" font-size=\"14.00\">B</text>\r\n</g>\r\n<!-- IA&#45;&gt;B -->\r\n<g id=\"edge4\" class=\"edge\"><title>IA&#45;&gt;B</title>\r\n<path fill=\"none\" stroke=\"black\" d=\"M128.378,-107.669C140.652,-115.737 157.668,-126.922 171.336,-135.907\"/>\r\n<polygon fill=\"black\" stroke=\"black\" points=\"169.473,-138.871 179.752,-141.439 173.318,-133.021 169.473,-138.871\"/>\r\n<text text-anchor=\"middle\" x=\"154.296\" y=\"-130.8\" font-family=\"Times New Roman,serif\" font-size=\"14.00\">&#39;&#39; </text>\r\n</g>\r\n<!-- C -->\r\n<g id=\"node7\" class=\"node\"><title>C</title>\r\n<ellipse fill=\"none\" stroke=\"black\" cx=\"195.296\" cy=\"-97\" rx=\"18\" ry=\"18\"/>\r\n<text text-anchor=\"middle\" x=\"195.296\" y=\"-93.3\" font-family=\"Times New Roman,serif\" font-size=\"14.00\">C</text>\r\n</g>\r\n<!-- IA&#45;&gt;C -->\r\n<g id=\"edge3\" class=\"edge\"><title>IA&#45;&gt;C</title>\r\n<path fill=\"none\" stroke=\"black\" d=\"M131.616,-97C142.223,-97 155.518,-97 167.131,-97\"/>\r\n<polygon fill=\"black\" stroke=\"black\" points=\"167.197,-100.5 177.197,-97 167.197,-93.5001 167.197,-100.5\"/>\r\n<text text-anchor=\"middle\" x=\"154.296\" y=\"-100.8\" font-family=\"Times New Roman,serif\" font-size=\"14.00\">&#39;&#39; </text>\r\n</g>\r\n<!-- E -->\r\n<g id=\"node3\" class=\"node\"><title>E</title>\r\n<ellipse fill=\"none\" stroke=\"black\" cx=\"278.296\" cy=\"-67\" rx=\"18\" ry=\"18\"/>\r\n<text text-anchor=\"middle\" x=\"278.296\" y=\"-63.3\" font-family=\"Times New Roman,serif\" font-size=\"14.00\">E</text>\r\n</g>\r\n<!-- E&#45;&gt;IA -->\r\n<g id=\"edge10\" class=\"edge\"><title>E&#45;&gt;IA</title>\r\n<path fill=\"none\" stroke=\"black\" d=\"M261.03,-61.1168C240.962,-54.7465 205.98,-46.5555 177.296,-55 161.818,-59.5568 146.548,-69.0581 134.686,-77.8728\"/>\r\n<polygon fill=\"black\" stroke=\"black\" points=\"132.44,-75.186 126.697,-84.0894 136.739,-80.7105 132.44,-75.186\"/>\r\n<text text-anchor=\"middle\" x=\"195.296\" y=\"-58.8\" font-family=\"Times New Roman,serif\" font-size=\"14.00\">&#39;&#39; </text>\r\n</g>\r\n<!-- E&#45;&gt;IG -->\r\n<g id=\"edge11\" class=\"edge\"><title>E&#45;&gt;IG</title>\r\n<path fill=\"none\" stroke=\"black\" d=\"M296.452,-67C306.71,-67 320.034,-67 331.996,-67\"/>\r\n<polygon fill=\"black\" stroke=\"black\" points=\"332.045,-70.5001 342.045,-67 332.045,-63.5001 332.045,-70.5001\"/>\r\n<text text-anchor=\"middle\" x=\"319.296\" y=\"-70.8\" font-family=\"Times New Roman,serif\" font-size=\"14.00\">&#39;&#39; </text>\r\n</g>\r\n<!-- F -->\r\n<g id=\"node8\" class=\"node\"><title>F</title>\r\n<ellipse fill=\"none\" stroke=\"black\" cx=\"452.893\" cy=\"-67\" rx=\"18\" ry=\"18\"/>\r\n<ellipse fill=\"none\" stroke=\"black\" cx=\"452.893\" cy=\"-67\" rx=\"22\" ry=\"22\"/>\r\n<text text-anchor=\"middle\" x=\"452.893\" y=\"-63.3\" font-family=\"Times New Roman,serif\" font-size=\"14.00\">F</text>\r\n</g>\r\n<!-- IG&#45;&gt;F -->\r\n<g id=\"edge5\" class=\"edge\"><title>IG&#45;&gt;F</title>\r\n<path fill=\"none\" stroke=\"black\" d=\"M384.017,-67C394.818,-67 408.411,-67 420.591,-67\"/>\r\n<polygon fill=\"black\" stroke=\"black\" points=\"420.825,-70.5001 430.825,-67 420.824,-63.5001 420.825,-70.5001\"/>\r\n<text text-anchor=\"middle\" x=\"407.393\" y=\"-70.8\" font-family=\"Times New Roman,serif\" font-size=\"14.00\">1 </text>\r\n</g>\r\n<!-- D -->\r\n<g id=\"node6\" class=\"node\"><title>D</title>\r\n<ellipse fill=\"none\" stroke=\"black\" cx=\"278.296\" cy=\"-151\" rx=\"18\" ry=\"18\"/>\r\n<text text-anchor=\"middle\" x=\"278.296\" y=\"-147.3\" font-family=\"Times New Roman,serif\" font-size=\"14.00\">D</text>\r\n</g>\r\n<!-- B&#45;&gt;D -->\r\n<g id=\"edge6\" class=\"edge\"><title>B&#45;&gt;D</title>\r\n<path fill=\"none\" stroke=\"black\" d=\"M213.474,-151C224.106,-151 237.99,-151 250.093,-151\"/>\r\n<polygon fill=\"black\" stroke=\"black\" points=\"250.143,-154.5 260.143,-151 250.143,-147.5 250.143,-154.5\"/>\r\n<text text-anchor=\"middle\" x=\"236.796\" y=\"-154.8\" font-family=\"Times New Roman,serif\" font-size=\"14.00\">1 </text>\r\n</g>\r\n<!-- D&#45;&gt;IA -->\r\n<g id=\"edge8\" class=\"edge\"><title>D&#45;&gt;IA</title>\r\n<path fill=\"none\" stroke=\"black\" d=\"M262.886,-160.884C242.99,-173.21 206.281,-191.152 177.296,-178 153.711,-167.298 136.095,-143.138 125.168,-123.974\"/>\r\n<polygon fill=\"black\" stroke=\"black\" points=\"128.178,-122.181 120.344,-115.047 122.02,-125.509 128.178,-122.181\"/>\r\n<text text-anchor=\"middle\" x=\"195.296\" y=\"-185.8\" font-family=\"Times New Roman,serif\" font-size=\"14.00\">&#39;&#39; </text>\r\n</g>\r\n<!-- D&#45;&gt;IG -->\r\n<g id=\"edge9\" class=\"edge\"><title>D&#45;&gt;IG</title>\r\n<path fill=\"none\" stroke=\"black\" d=\"M291.514,-138.606C304.425,-125.506 325.043,-104.59 340.668,-88.7379\"/>\r\n<polygon fill=\"black\" stroke=\"black\" points=\"343.354,-90.9981 347.882,-81.4192 338.369,-86.0841 343.354,-90.9981\"/>\r\n<text text-anchor=\"middle\" x=\"319.296\" y=\"-117.8\" font-family=\"Times New Roman,serif\" font-size=\"14.00\">&#39;&#39; </text>\r\n</g>\r\n<!-- C&#45;&gt;E -->\r\n<g id=\"edge7\" class=\"edge\"><title>C&#45;&gt;E</title>\r\n<path fill=\"none\" stroke=\"black\" d=\"M212.299,-91.073C223.432,-86.9499 238.519,-81.3619 251.356,-76.6076\"/>\r\n<polygon fill=\"black\" stroke=\"black\" points=\"252.888,-79.7727 261.049,-73.0174 250.456,-73.2085 252.888,-79.7727\"/>\r\n<text text-anchor=\"middle\" x=\"236.796\" y=\"-86.8\" font-family=\"Times New Roman,serif\" font-size=\"14.00\">0 </text>\r\n</g>\r\n</g>\r\n</svg>\r\n"
     },
     "metadata": {},
     "execution_count": 10
    }
   ],
   "source": [
    "dotObj_nfa(Fig77a)"
   ]
  },
  {
   "cell_type": "code",
   "execution_count": 11,
   "metadata": {},
   "outputs": [
    {
     "output_type": "execute_result",
     "data": {
      "text/plain": "<graphviz.dot.Digraph at 0x203a21c6cd0>",
      "image/svg+xml": "<?xml version=\"1.0\" encoding=\"UTF-8\" standalone=\"no\"?>\r\n<!DOCTYPE svg PUBLIC \"-//W3C//DTD SVG 1.1//EN\"\r\n \"http://www.w3.org/Graphics/SVG/1.1/DTD/svg11.dtd\">\r\n<!-- Generated by graphviz version 2.38.0 (20140413.2041)\r\n -->\r\n<!-- Title: %3 Pages: 1 -->\r\n<svg width=\"604pt\" height=\"231pt\"\r\n viewBox=\"0.00 0.00 603.96 231.49\" xmlns=\"http://www.w3.org/2000/svg\" xmlns:xlink=\"http://www.w3.org/1999/xlink\">\r\n<g id=\"graph0\" class=\"graph\" transform=\"scale(1 1) rotate(0) translate(4 227.489)\">\r\n<title>%3</title>\r\n<polygon fill=\"white\" stroke=\"none\" points=\"-4,4 -4,-227.489 599.964,-227.489 599.964,4 -4,4\"/>\r\n<!-- EMPTY -->\r\n<g id=\"node1\" class=\"node\"><title>EMPTY</title>\r\n</g>\r\n<!-- B_C_IA_IG -->\r\n<g id=\"node2\" class=\"node\"><title>B_C_IA_IG</title>\r\n<ellipse fill=\"none\" stroke=\"black\" cx=\"147.545\" cy=\"-56.545\" rx=\"56.59\" ry=\"56.59\"/>\r\n<text text-anchor=\"middle\" x=\"147.545\" y=\"-52.845\" font-family=\"Times New Roman,serif\" font-size=\"14.00\">B_C_IA_IG</text>\r\n</g>\r\n<!-- EMPTY&#45;&gt;B_C_IA_IG -->\r\n<g id=\"edge1\" class=\"edge\"><title>EMPTY&#45;&gt;B_C_IA_IG</title>\r\n<path fill=\"none\" stroke=\"black\" d=\"M54.0152,-56.545C62.0235,-56.545 71.2293,-56.545 80.6613,-56.545\"/>\r\n<polygon fill=\"black\" stroke=\"black\" points=\"80.9388,-60.0451 90.9388,-56.545 80.9387,-53.0451 80.9388,-60.0451\"/>\r\n</g>\r\n<!-- B_C_E_IA_IG -->\r\n<g id=\"node3\" class=\"node\"><title>B_C_E_IA_IG</title>\r\n<ellipse fill=\"none\" stroke=\"black\" cx=\"318.034\" cy=\"-123.545\" rx=\"66.8882\" ry=\"66.8882\"/>\r\n<text text-anchor=\"middle\" x=\"318.034\" y=\"-119.845\" font-family=\"Times New Roman,serif\" font-size=\"14.00\">B_C_E_IA_IG</text>\r\n</g>\r\n<!-- B_C_IA_IG&#45;&gt;B_C_E_IA_IG -->\r\n<g id=\"edge2\" class=\"edge\"><title>B_C_IA_IG&#45;&gt;B_C_E_IA_IG</title>\r\n<path fill=\"none\" stroke=\"black\" d=\"M200.472,-77.1939C214.885,-82.9253 230.786,-89.2482 246.086,-95.3324\"/>\r\n<polygon fill=\"black\" stroke=\"black\" points=\"244.931,-98.6396 255.517,-99.0824 247.518,-92.135 244.931,-98.6396\"/>\r\n<text text-anchor=\"middle\" x=\"227.59\" y=\"-94.345\" font-family=\"Times New Roman,serif\" font-size=\"14.00\">0 </text>\r\n</g>\r\n<!-- B_C_D_F_IA_IG -->\r\n<g id=\"node4\" class=\"node\"><title>B_C_D_F_IA_IG</title>\r\n<ellipse fill=\"none\" stroke=\"black\" cx=\"513.971\" cy=\"-85.545\" rx=\"77.9865\" ry=\"77.9865\"/>\r\n<ellipse fill=\"none\" stroke=\"black\" cx=\"513.971\" cy=\"-85.545\" rx=\"81.9862\" ry=\"81.9862\"/>\r\n<text text-anchor=\"middle\" x=\"513.971\" y=\"-81.845\" font-family=\"Times New Roman,serif\" font-size=\"14.00\">B_C_D_F_IA_IG</text>\r\n</g>\r\n<!-- B_C_IA_IG&#45;&gt;B_C_D_F_IA_IG -->\r\n<g id=\"edge3\" class=\"edge\"><title>B_C_IA_IG&#45;&gt;B_C_D_F_IA_IG</title>\r\n<path fill=\"none\" stroke=\"black\" d=\"M202.153,-41.5503C217.8,-37.842 235.015,-34.401 251.09,-32.545 310.203,-25.7197 326.615,-20.9392 384.978,-32.545 400.071,-35.5463 415.615,-40.3583 430.442,-45.8882\"/>\r\n<polygon fill=\"black\" stroke=\"black\" points=\"429.481,-49.269 440.07,-49.6141 432.007,-42.7408 429.481,-49.269\"/>\r\n<text text-anchor=\"middle\" x=\"318.034\" y=\"-36.345\" font-family=\"Times New Roman,serif\" font-size=\"14.00\">1 </text>\r\n</g>\r\n<!-- B_C_E_IA_IG&#45;&gt;B_C_E_IA_IG -->\r\n<g id=\"edge4\" class=\"edge\"><title>B_C_E_IA_IG&#45;&gt;B_C_E_IA_IG</title>\r\n<path fill=\"none\" stroke=\"black\" d=\"M302.149,-188.719C304.214,-200.359 309.509,-208.489 318.034,-208.489 323.895,-208.489 328.23,-204.646 331.037,-198.462\"/>\r\n<polygon fill=\"black\" stroke=\"black\" points=\"334.439,-199.301 333.919,-188.719 327.726,-197.316 334.439,-199.301\"/>\r\n<text text-anchor=\"middle\" x=\"318.034\" y=\"-212.289\" font-family=\"Times New Roman,serif\" font-size=\"14.00\">0 </text>\r\n</g>\r\n<!-- B_C_E_IA_IG&#45;&gt;B_C_D_F_IA_IG -->\r\n<g id=\"edge5\" class=\"edge\"><title>B_C_E_IA_IG&#45;&gt;B_C_D_F_IA_IG</title>\r\n<path fill=\"none\" stroke=\"black\" d=\"M383.882,-110.839C396.518,-108.363 409.974,-105.726 423.248,-103.125\"/>\r\n<polygon fill=\"black\" stroke=\"black\" points=\"424.206,-106.504 433.346,-101.147 422.86,-99.6349 424.206,-106.504\"/>\r\n<text text-anchor=\"middle\" x=\"408.478\" y=\"-111.345\" font-family=\"Times New Roman,serif\" font-size=\"14.00\">1 </text>\r\n</g>\r\n<!-- B_C_D_F_IA_IG&#45;&gt;B_C_E_IA_IG -->\r\n<g id=\"edge6\" class=\"edge\"><title>B_C_D_F_IA_IG&#45;&gt;B_C_E_IA_IG</title>\r\n<path fill=\"none\" stroke=\"black\" d=\"M431.768,-83.4727C422.002,-84.266 412.221,-85.5589 402.978,-87.545 398.065,-88.6006 393.083,-89.9464 388.123,-91.4945\"/>\r\n<polygon fill=\"black\" stroke=\"black\" points=\"386.991,-88.1823 378.637,-94.6976 389.231,-94.8144 386.991,-88.1823\"/>\r\n<text text-anchor=\"middle\" x=\"408.478\" y=\"-91.345\" font-family=\"Times New Roman,serif\" font-size=\"14.00\">0 </text>\r\n</g>\r\n<!-- B_C_D_F_IA_IG&#45;&gt;B_C_D_F_IA_IG -->\r\n<g id=\"edge7\" class=\"edge\"><title>B_C_D_F_IA_IG&#45;&gt;B_C_D_F_IA_IG</title>\r\n<path fill=\"none\" stroke=\"black\" d=\"M496.375,-165.968C499.168,-177.661 505.034,-185.538 513.971,-185.538 520.116,-185.538 524.808,-181.815 528.048,-175.688\"/>\r\n<polygon fill=\"black\" stroke=\"black\" points=\"531.454,-176.563 531.567,-165.968 524.872,-174.18 531.454,-176.563\"/>\r\n<text text-anchor=\"middle\" x=\"513.971\" y=\"-189.338\" font-family=\"Times New Roman,serif\" font-size=\"14.00\">1 </text>\r\n</g>\r\n</g>\r\n</svg>\r\n"
     },
     "metadata": {},
     "execution_count": 11
    }
   ],
   "source": [
    "dotObj_dfa(nfa2dfa(Fig77a, STATENAME_MAXSIZE=50), STATENAME_MAXSIZE=50)"
   ]
  },
  {
   "cell_type": "code",
   "execution_count": 28,
   "metadata": {
    "run_control": {
     "frozen": false,
     "read_only": false
    }
   },
   "outputs": [],
   "source": [
    "# Our automd markdown works for NFA also. Here is the NFA for\n",
    "# the language \"ends in 0101\"\n",
    "\n",
    "NFA_ends0101 = md2mc(''' \n",
    "!!---------------------------------------------------------------------------\n",
    "!! This NFA looks for patterns of the form \n",
    "!!\n",
    "!!     ......<some 0's and 1's>.....0101\n",
    "!!\n",
    "!! i.e., all strings that end in 0101.\n",
    "!!\n",
    "!! This example (over and above thirdlastis1.nfa) also illustrates\n",
    "!! the power of nondeterminism. Anytime we see a 0 from state I, we\n",
    "!! can have the NFA speculate that it is seeing the beginning of a\n",
    "!! 0101 pattern! If the NFA fails in its guess, it pays no price\n",
    "!! (because another guess is soon coming from behind).\n",
    "!!\n",
    "!! * We take 4 states in the NFA solution. The DFA solution takes\n",
    "!!   5 states.\n",
    "!!\n",
    "!! * This shows how burden is shifted from the\n",
    "!!   human to the computer doing the NFA simulation.\n",
    "!!   Even though the savings in states is not dramatic,\n",
    "!!   the effort to build this NFA is much lower than building\n",
    "!!   the corresponding DFA.\n",
    "!! \n",
    "!!-----------------------------------------------------------------\n",
    "!! For NFA, each line can be as follows:\n",
    "!!\n",
    "!! State : in1 | in2 ...  ->  COmma, Separated, State, List  !! comment\n",
    "!!-----------------------------------------------------------------\n",
    "\n",
    "NFA\n",
    "\n",
    "I    : 1   -> I      !! I goes to I upon 1\n",
    "\n",
    "I    : 0   -> S0, I  !! I goes to S0 and I upon 0\n",
    "\n",
    "S0   : 1   -> S01    !! S0 goes to S01 upon 1\n",
    "\n",
    "S01  : 0   -> S010   !! S01 goes to S010 upon 0\n",
    "\n",
    "S010 : 1   -> F      !! S010 goes to F upon F\n",
    "\n",
    "!!---\n",
    "''')"
   ]
  },
  {
   "cell_type": "code",
   "execution_count": 13,
   "metadata": {
    "run_control": {
     "frozen": false,
     "read_only": false
    }
   },
   "outputs": [
    {
     "output_type": "execute_result",
     "data": {
      "text/plain": "{'Q': {'F', 'I', 'S0', 'S01', 'S010'},\n 'Sigma': {'0', '1'},\n 'Delta': {('I', '1'): {'I'},\n  ('I', '0'): {'I', 'S0'},\n  ('S0', '1'): {'S01'},\n  ('S01', '0'): {'S010'},\n  ('S010', '1'): {'F'}},\n 'Q0': {'I'},\n 'F': {'F'}}"
     },
     "metadata": {},
     "execution_count": 13
    }
   ],
   "source": [
    "# Now let us see the dict version of the NFA\n",
    "NFA_ends0101 "
   ]
  },
  {
   "cell_type": "code",
   "execution_count": 14,
   "metadata": {
    "run_control": {
     "frozen": false,
     "read_only": false
    }
   },
   "outputs": [
    {
     "output_type": "execute_result",
     "data": {
      "text/plain": "<graphviz.dot.Digraph at 0x203a23856a0>",
      "image/svg+xml": "<?xml version=\"1.0\" encoding=\"UTF-8\" standalone=\"no\"?>\r\n<!DOCTYPE svg PUBLIC \"-//W3C//DTD SVG 1.1//EN\"\r\n \"http://www.w3.org/Graphics/SVG/1.1/DTD/svg11.dtd\">\r\n<!-- Generated by graphviz version 2.38.0 (20140413.2041)\r\n -->\r\n<!-- Title: %3 Pages: 1 -->\r\n<svg width=\"516pt\" height=\"121pt\"\r\n viewBox=\"0.00 0.00 516.49 121.25\" xmlns=\"http://www.w3.org/2000/svg\" xmlns:xlink=\"http://www.w3.org/1999/xlink\">\r\n<g id=\"graph0\" class=\"graph\" transform=\"scale(1 1) rotate(0) translate(4 117.247)\">\r\n<title>%3</title>\r\n<polygon fill=\"white\" stroke=\"none\" points=\"-4,4 -4,-117.247 512.487,-117.247 512.487,4 -4,4\"/>\r\n<!-- EMPTY -->\r\n<g id=\"node1\" class=\"node\"><title>EMPTY</title>\r\n</g>\r\n<!-- I -->\r\n<g id=\"node5\" class=\"node\"><title>I</title>\r\n<ellipse fill=\"none\" stroke=\"black\" cx=\"109\" cy=\"-29.2474\" rx=\"18\" ry=\"18\"/>\r\n<text text-anchor=\"middle\" x=\"109\" y=\"-25.5474\" font-family=\"Times New Roman,serif\" font-size=\"14.00\">I</text>\r\n</g>\r\n<!-- EMPTY&#45;&gt;I -->\r\n<g id=\"edge1\" class=\"edge\"><title>EMPTY&#45;&gt;I</title>\r\n<path fill=\"none\" stroke=\"black\" d=\"M54.195,-29.2474C62.6538,-29.2474 72.0513,-29.2474 80.5951,-29.2474\"/>\r\n<polygon fill=\"black\" stroke=\"black\" points=\"80.8257,-32.7475 90.8257,-29.2474 80.8257,-25.7475 80.8257,-32.7475\"/>\r\n</g>\r\n<!-- S0 -->\r\n<g id=\"node2\" class=\"node\"><title>S0</title>\r\n<ellipse fill=\"none\" stroke=\"black\" cx=\"194.798\" cy=\"-29.2474\" rx=\"20.5982\" ry=\"20.5982\"/>\r\n<text text-anchor=\"middle\" x=\"194.798\" y=\"-25.5474\" font-family=\"Times New Roman,serif\" font-size=\"14.00\">S0</text>\r\n</g>\r\n<!-- S01 -->\r\n<g id=\"node4\" class=\"node\"><title>S01</title>\r\n<ellipse fill=\"none\" stroke=\"black\" cx=\"287.294\" cy=\"-29.2474\" rx=\"24.8972\" ry=\"24.8972\"/>\r\n<text text-anchor=\"middle\" x=\"287.294\" y=\"-25.5474\" font-family=\"Times New Roman,serif\" font-size=\"14.00\">S01</text>\r\n</g>\r\n<!-- S0&#45;&gt;S01 -->\r\n<g id=\"edge5\" class=\"edge\"><title>S0&#45;&gt;S01</title>\r\n<path fill=\"none\" stroke=\"black\" d=\"M215.882,-29.2474C226.515,-29.2474 239.865,-29.2474 252.075,-29.2474\"/>\r\n<polygon fill=\"black\" stroke=\"black\" points=\"252.414,-32.7475 262.414,-29.2474 252.414,-25.7475 252.414,-32.7475\"/>\r\n<text text-anchor=\"middle\" x=\"239.096\" y=\"-33.0474\" font-family=\"Times New Roman,serif\" font-size=\"14.00\">1 </text>\r\n</g>\r\n<!-- S010 -->\r\n<g id=\"node3\" class=\"node\"><title>S010</title>\r\n<ellipse fill=\"none\" stroke=\"black\" cx=\"388.239\" cy=\"-29.2474\" rx=\"29.4969\" ry=\"29.4969\"/>\r\n<text text-anchor=\"middle\" x=\"388.239\" y=\"-25.5474\" font-family=\"Times New Roman,serif\" font-size=\"14.00\">S010</text>\r\n</g>\r\n<!-- F -->\r\n<g id=\"node6\" class=\"node\"><title>F</title>\r\n<ellipse fill=\"none\" stroke=\"black\" cx=\"486.487\" cy=\"-29.2474\" rx=\"18\" ry=\"18\"/>\r\n<ellipse fill=\"none\" stroke=\"black\" cx=\"486.487\" cy=\"-29.2474\" rx=\"22\" ry=\"22\"/>\r\n<text text-anchor=\"middle\" x=\"486.487\" y=\"-25.5474\" font-family=\"Times New Roman,serif\" font-size=\"14.00\">F</text>\r\n</g>\r\n<!-- S010&#45;&gt;F -->\r\n<g id=\"edge7\" class=\"edge\"><title>S010&#45;&gt;F</title>\r\n<path fill=\"none\" stroke=\"black\" d=\"M417.596,-29.2474C429.059,-29.2474 442.332,-29.2474 454.086,-29.2474\"/>\r\n<polygon fill=\"black\" stroke=\"black\" points=\"454.357,-32.7475 464.357,-29.2474 454.357,-25.7475 454.357,-32.7475\"/>\r\n<text text-anchor=\"middle\" x=\"440.987\" y=\"-33.0474\" font-family=\"Times New Roman,serif\" font-size=\"14.00\">1 </text>\r\n</g>\r\n<!-- S01&#45;&gt;S010 -->\r\n<g id=\"edge6\" class=\"edge\"><title>S01&#45;&gt;S010</title>\r\n<path fill=\"none\" stroke=\"black\" d=\"M311.994,-29.2474C322.982,-29.2474 336.323,-29.2474 348.702,-29.2474\"/>\r\n<polygon fill=\"black\" stroke=\"black\" points=\"348.802,-32.7475 358.802,-29.2474 348.802,-25.7475 348.802,-32.7475\"/>\r\n<text text-anchor=\"middle\" x=\"335.492\" y=\"-33.0474\" font-family=\"Times New Roman,serif\" font-size=\"14.00\">0 </text>\r\n</g>\r\n<!-- I&#45;&gt;S0 -->\r\n<g id=\"edge3\" class=\"edge\"><title>I&#45;&gt;S0</title>\r\n<path fill=\"none\" stroke=\"black\" d=\"M127.363,-29.2474C137.819,-29.2474 151.423,-29.2474 163.595,-29.2474\"/>\r\n<polygon fill=\"black\" stroke=\"black\" points=\"163.808,-32.7475 173.808,-29.2474 163.808,-25.7475 163.808,-32.7475\"/>\r\n<text text-anchor=\"middle\" x=\"150.5\" y=\"-33.0474\" font-family=\"Times New Roman,serif\" font-size=\"14.00\">0 </text>\r\n</g>\r\n<!-- I&#45;&gt;I -->\r\n<g id=\"edge2\" class=\"edge\"><title>I&#45;&gt;I</title>\r\n<path fill=\"none\" stroke=\"black\" d=\"M105.764,-47.0291C105.214,-56.5623 106.293,-65.2474 109,-65.2474 110.65,-65.2474 111.694,-62.0223 112.135,-57.3455\"/>\r\n<polygon fill=\"black\" stroke=\"black\" points=\"115.638,-57.063 112.236,-47.0291 108.638,-56.9943 115.638,-57.063\"/>\r\n<text text-anchor=\"middle\" x=\"109\" y=\"-69.0474\" font-family=\"Times New Roman,serif\" font-size=\"14.00\">1 </text>\r\n</g>\r\n<!-- I&#45;&gt;I -->\r\n<g id=\"edge4\" class=\"edge\"><title>I&#45;&gt;I</title>\r\n<path fill=\"none\" stroke=\"black\" d=\"M103.684,-46.6677C100.654,-64.0384 102.426,-83.2474 109,-83.2474 114.29,-83.2474 116.471,-70.8091 115.542,-56.8994\"/>\r\n<polygon fill=\"black\" stroke=\"black\" points=\"118.981,-56.1802 114.316,-46.6677 112.031,-57.0131 118.981,-56.1802\"/>\r\n<text text-anchor=\"middle\" x=\"109\" y=\"-87.0474\" font-family=\"Times New Roman,serif\" font-size=\"14.00\">0 </text>\r\n</g>\r\n</g>\r\n</svg>\r\n"
     },
     "metadata": {},
     "execution_count": 14
    }
   ],
   "source": [
    "# Let's see the drawing of this NFA\n",
    "\n",
    "dotObj_nfa(NFA_ends0101)  "
   ]
  },
  {
   "cell_type": "code",
   "execution_count": 15,
   "metadata": {
    "run_control": {
     "frozen": false,
     "read_only": false
    }
   },
   "outputs": [
    {
     "output_type": "execute_result",
     "data": {
      "text/plain": "<graphviz.dot.Digraph at 0x203a2385a00>",
      "image/svg+xml": "<?xml version=\"1.0\" encoding=\"UTF-8\" standalone=\"no\"?>\r\n<!DOCTYPE svg PUBLIC \"-//W3C//DTD SVG 1.1//EN\"\r\n \"http://www.w3.org/Graphics/SVG/1.1/DTD/svg11.dtd\">\r\n<!-- Generated by graphviz version 2.38.0 (20140413.2041)\r\n -->\r\n<!-- Title: %3 Pages: 1 -->\r\n<svg width=\"516pt\" height=\"103pt\"\r\n viewBox=\"0.00 0.00 516.49 103.25\" xmlns=\"http://www.w3.org/2000/svg\" xmlns:xlink=\"http://www.w3.org/1999/xlink\">\r\n<g id=\"graph0\" class=\"graph\" transform=\"scale(1 1) rotate(0) translate(4 99.2474)\">\r\n<title>%3</title>\r\n<polygon fill=\"white\" stroke=\"none\" points=\"-4,4 -4,-99.2474 512.487,-99.2474 512.487,4 -4,4\"/>\r\n<!-- EMPTY -->\r\n<g id=\"node1\" class=\"node\"><title>EMPTY</title>\r\n</g>\r\n<!-- I -->\r\n<g id=\"node5\" class=\"node\"><title>I</title>\r\n<ellipse fill=\"none\" stroke=\"black\" cx=\"109\" cy=\"-29.2474\" rx=\"18\" ry=\"18\"/>\r\n<text text-anchor=\"middle\" x=\"109\" y=\"-25.5474\" font-family=\"Times New Roman,serif\" font-size=\"14.00\">I</text>\r\n</g>\r\n<!-- EMPTY&#45;&gt;I -->\r\n<g id=\"edge1\" class=\"edge\"><title>EMPTY&#45;&gt;I</title>\r\n<path fill=\"none\" stroke=\"black\" d=\"M54.195,-29.2474C62.6538,-29.2474 72.0513,-29.2474 80.5951,-29.2474\"/>\r\n<polygon fill=\"black\" stroke=\"black\" points=\"80.8257,-32.7475 90.8257,-29.2474 80.8257,-25.7475 80.8257,-32.7475\"/>\r\n</g>\r\n<!-- S0 -->\r\n<g id=\"node2\" class=\"node\"><title>S0</title>\r\n<ellipse fill=\"none\" stroke=\"black\" cx=\"194.798\" cy=\"-29.2474\" rx=\"20.5982\" ry=\"20.5982\"/>\r\n<text text-anchor=\"middle\" x=\"194.798\" y=\"-25.5474\" font-family=\"Times New Roman,serif\" font-size=\"14.00\">S0</text>\r\n</g>\r\n<!-- S01 -->\r\n<g id=\"node4\" class=\"node\"><title>S01</title>\r\n<ellipse fill=\"none\" stroke=\"black\" cx=\"287.294\" cy=\"-29.2474\" rx=\"24.8972\" ry=\"24.8972\"/>\r\n<text text-anchor=\"middle\" x=\"287.294\" y=\"-25.5474\" font-family=\"Times New Roman,serif\" font-size=\"14.00\">S01</text>\r\n</g>\r\n<!-- S0&#45;&gt;S01 -->\r\n<g id=\"edge4\" class=\"edge\"><title>S0&#45;&gt;S01</title>\r\n<path fill=\"none\" stroke=\"black\" d=\"M215.882,-29.2474C226.515,-29.2474 239.865,-29.2474 252.075,-29.2474\"/>\r\n<polygon fill=\"black\" stroke=\"black\" points=\"252.414,-32.7475 262.414,-29.2474 252.414,-25.7475 252.414,-32.7475\"/>\r\n<text text-anchor=\"middle\" x=\"239.096\" y=\"-33.0474\" font-family=\"Times New Roman,serif\" font-size=\"14.00\">1 </text>\r\n</g>\r\n<!-- S010 -->\r\n<g id=\"node3\" class=\"node\"><title>S010</title>\r\n<ellipse fill=\"none\" stroke=\"black\" cx=\"388.239\" cy=\"-29.2474\" rx=\"29.4969\" ry=\"29.4969\"/>\r\n<text text-anchor=\"middle\" x=\"388.239\" y=\"-25.5474\" font-family=\"Times New Roman,serif\" font-size=\"14.00\">S010</text>\r\n</g>\r\n<!-- F -->\r\n<g id=\"node6\" class=\"node\"><title>F</title>\r\n<ellipse fill=\"none\" stroke=\"black\" cx=\"486.487\" cy=\"-29.2474\" rx=\"18\" ry=\"18\"/>\r\n<ellipse fill=\"none\" stroke=\"black\" cx=\"486.487\" cy=\"-29.2474\" rx=\"22\" ry=\"22\"/>\r\n<text text-anchor=\"middle\" x=\"486.487\" y=\"-25.5474\" font-family=\"Times New Roman,serif\" font-size=\"14.00\">F</text>\r\n</g>\r\n<!-- S010&#45;&gt;F -->\r\n<g id=\"edge6\" class=\"edge\"><title>S010&#45;&gt;F</title>\r\n<path fill=\"none\" stroke=\"black\" d=\"M417.596,-29.2474C429.059,-29.2474 442.332,-29.2474 454.086,-29.2474\"/>\r\n<polygon fill=\"black\" stroke=\"black\" points=\"454.357,-32.7475 464.357,-29.2474 454.357,-25.7475 454.357,-32.7475\"/>\r\n<text text-anchor=\"middle\" x=\"440.987\" y=\"-33.0474\" font-family=\"Times New Roman,serif\" font-size=\"14.00\">1 </text>\r\n</g>\r\n<!-- S01&#45;&gt;S010 -->\r\n<g id=\"edge5\" class=\"edge\"><title>S01&#45;&gt;S010</title>\r\n<path fill=\"none\" stroke=\"black\" d=\"M311.994,-29.2474C322.982,-29.2474 336.323,-29.2474 348.702,-29.2474\"/>\r\n<polygon fill=\"black\" stroke=\"black\" points=\"348.802,-32.7475 358.802,-29.2474 348.802,-25.7475 348.802,-32.7475\"/>\r\n<text text-anchor=\"middle\" x=\"335.492\" y=\"-33.0474\" font-family=\"Times New Roman,serif\" font-size=\"14.00\">0 </text>\r\n</g>\r\n<!-- I&#45;&gt;S0 -->\r\n<g id=\"edge3\" class=\"edge\"><title>I&#45;&gt;S0</title>\r\n<path fill=\"none\" stroke=\"black\" d=\"M127.363,-29.2474C137.819,-29.2474 151.423,-29.2474 163.595,-29.2474\"/>\r\n<polygon fill=\"black\" stroke=\"black\" points=\"163.808,-32.7475 173.808,-29.2474 163.808,-25.7475 163.808,-32.7475\"/>\r\n<text text-anchor=\"middle\" x=\"150.5\" y=\"-33.0474\" font-family=\"Times New Roman,serif\" font-size=\"14.00\">0 </text>\r\n</g>\r\n<!-- I&#45;&gt;I -->\r\n<g id=\"edge2\" class=\"edge\"><title>I&#45;&gt;I</title>\r\n<path fill=\"none\" stroke=\"black\" d=\"M102.621,-46.2847C101.319,-56.1053 103.445,-65.2474 109,-65.2474 112.472,-65.2474 114.604,-61.6763 115.398,-56.6003\"/>\r\n<polygon fill=\"black\" stroke=\"black\" points=\"118.897,-56.2784 115.379,-46.2847 111.897,-56.2909 118.897,-56.2784\"/>\r\n<text text-anchor=\"middle\" x=\"109\" y=\"-84.0474\" font-family=\"Times New Roman,serif\" font-size=\"14.00\">0 </text>\r\n<text text-anchor=\"middle\" x=\"109\" y=\"-69.0474\" font-family=\"Times New Roman,serif\" font-size=\"14.00\"> 1 </text>\r\n</g>\r\n</g>\r\n</svg>\r\n"
     },
     "metadata": {},
     "execution_count": 15
    }
   ],
   "source": [
    "# The drawing produces separated self-loops. Let's fuse 'em\n",
    "\n",
    "# Now we are going to fuse the separate self-loops into one\n",
    "\n",
    "dotObj_nfa(NFA_ends0101, FuseEdges=True) "
   ]
  },
  {
   "cell_type": "code",
   "execution_count": 29,
   "metadata": {},
   "outputs": [
    {
     "output_type": "execute_result",
     "data": {
      "text/plain": "set()"
     },
     "metadata": {},
     "execution_count": 29
    }
   ],
   "source": [
    "step_nfa(NFA_ends0101, 'F', '1')"
   ]
  },
  {
   "cell_type": "markdown",
   "metadata": {
    "run_control": {
     "frozen": false,
     "read_only": false
    }
   },
   "source": [
    "# NFA for 3rd-last is 1"
   ]
  },
  {
   "cell_type": "code",
   "execution_count": 16,
   "metadata": {
    "run_control": {
     "frozen": false,
     "read_only": false
    }
   },
   "outputs": [],
   "source": [
    "# Here is the automd (markdown) for an NF whose third-last symbol is a 1\n",
    "\n",
    "NFA_3rdlast_1 = md2mc('''\n",
    "NFA\n",
    "\n",
    "I : 0  | 1  -> I  !! Upon a 0 or a 1, continue to stay in state I\n",
    "\n",
    "I : ''      -> S0 !! Nondeterministically transition to state S0\n",
    "\n",
    "S0 : 1      -> S1 !! This is the key \"1\" (third-last being 1) seen\n",
    "\n",
    "S1 : 0 | 1  -> S2 !! One 0/1 takes the NFA to S2\n",
    "\n",
    "S2 : 0 | 1  -> F  !! One more 0/1 takes the NFA to F\n",
    "\n",
    "''')"
   ]
  },
  {
   "cell_type": "code",
   "execution_count": 17,
   "metadata": {
    "run_control": {
     "frozen": false,
     "read_only": false
    }
   },
   "outputs": [
    {
     "output_type": "execute_result",
     "data": {
      "text/plain": "{'Q': {'F', 'I', 'S0', 'S1', 'S2'},\n 'Sigma': {'0', '1'},\n 'Delta': {('I', '0'): {'I'},\n  ('I', '1'): {'I'},\n  ('I', ''): {'S0'},\n  ('S0', '1'): {'S1'},\n  ('S1', '0'): {'S2'},\n  ('S1', '1'): {'S2'},\n  ('S2', '0'): {'F'},\n  ('S2', '1'): {'F'}},\n 'Q0': {'I'},\n 'F': {'F'}}"
     },
     "metadata": {},
     "execution_count": 17
    }
   ],
   "source": [
    "# Let us see its internal representation\n",
    "\n",
    "NFA_3rdlast_1"
   ]
  },
  {
   "cell_type": "code",
   "execution_count": 18,
   "metadata": {
    "run_control": {
     "frozen": false,
     "read_only": false
    }
   },
   "outputs": [
    {
     "output_type": "execute_result",
     "data": {
      "text/plain": "<graphviz.dot.Digraph at 0x203a2170ee0>",
      "image/svg+xml": "<?xml version=\"1.0\" encoding=\"UTF-8\" standalone=\"no\"?>\r\n<!DOCTYPE svg PUBLIC \"-//W3C//DTD SVG 1.1//EN\"\r\n \"http://www.w3.org/Graphics/SVG/1.1/DTD/svg11.dtd\">\r\n<!-- Generated by graphviz version 2.38.0 (20140413.2041)\r\n -->\r\n<!-- Title: %3 Pages: 1 -->\r\n<svg width=\"499pt\" height=\"96pt\"\r\n viewBox=\"0.00 0.00 498.79 96.00\" xmlns=\"http://www.w3.org/2000/svg\" xmlns:xlink=\"http://www.w3.org/1999/xlink\">\r\n<g id=\"graph0\" class=\"graph\" transform=\"scale(1 1) rotate(0) translate(4 92)\">\r\n<title>%3</title>\r\n<polygon fill=\"white\" stroke=\"none\" points=\"-4,4 -4,-92 494.789,-92 494.789,4 -4,4\"/>\r\n<!-- EMPTY -->\r\n<g id=\"node1\" class=\"node\"><title>EMPTY</title>\r\n</g>\r\n<!-- I -->\r\n<g id=\"node4\" class=\"node\"><title>I</title>\r\n<ellipse fill=\"none\" stroke=\"black\" cx=\"109\" cy=\"-22\" rx=\"18\" ry=\"18\"/>\r\n<text text-anchor=\"middle\" x=\"109\" y=\"-18.3\" font-family=\"Times New Roman,serif\" font-size=\"14.00\">I</text>\r\n</g>\r\n<!-- EMPTY&#45;&gt;I -->\r\n<g id=\"edge1\" class=\"edge\"><title>EMPTY&#45;&gt;I</title>\r\n<path fill=\"none\" stroke=\"black\" d=\"M54.195,-22C62.6538,-22 72.0513,-22 80.5951,-22\"/>\r\n<polygon fill=\"black\" stroke=\"black\" points=\"80.8257,-25.5001 90.8257,-22 80.8257,-18.5001 80.8257,-25.5001\"/>\r\n</g>\r\n<!-- S0 -->\r\n<g id=\"node2\" class=\"node\"><title>S0</title>\r\n<ellipse fill=\"none\" stroke=\"black\" cx=\"193.798\" cy=\"-22\" rx=\"20.5982\" ry=\"20.5982\"/>\r\n<text text-anchor=\"middle\" x=\"193.798\" y=\"-18.3\" font-family=\"Times New Roman,serif\" font-size=\"14.00\">S0</text>\r\n</g>\r\n<!-- S1 -->\r\n<g id=\"node5\" class=\"node\"><title>S1</title>\r\n<ellipse fill=\"none\" stroke=\"black\" cx=\"282.394\" cy=\"-22\" rx=\"20.5982\" ry=\"20.5982\"/>\r\n<text text-anchor=\"middle\" x=\"282.394\" y=\"-18.3\" font-family=\"Times New Roman,serif\" font-size=\"14.00\">S1</text>\r\n</g>\r\n<!-- S0&#45;&gt;S1 -->\r\n<g id=\"edge4\" class=\"edge\"><title>S0&#45;&gt;S1</title>\r\n<path fill=\"none\" stroke=\"black\" d=\"M214.883,-22C225.703,-22 239.269,-22 251.323,-22\"/>\r\n<polygon fill=\"black\" stroke=\"black\" points=\"251.419,-25.5001 261.419,-22 251.419,-18.5001 251.419,-25.5001\"/>\r\n<text text-anchor=\"middle\" x=\"238.096\" y=\"-25.8\" font-family=\"Times New Roman,serif\" font-size=\"14.00\">1 </text>\r\n</g>\r\n<!-- S2 -->\r\n<g id=\"node3\" class=\"node\"><title>S2</title>\r\n<ellipse fill=\"none\" stroke=\"black\" cx=\"374.991\" cy=\"-22\" rx=\"20.5982\" ry=\"20.5982\"/>\r\n<text text-anchor=\"middle\" x=\"374.991\" y=\"-18.3\" font-family=\"Times New Roman,serif\" font-size=\"14.00\">S2</text>\r\n</g>\r\n<!-- F -->\r\n<g id=\"node6\" class=\"node\"><title>F</title>\r\n<ellipse fill=\"none\" stroke=\"black\" cx=\"468.789\" cy=\"-22\" rx=\"18\" ry=\"18\"/>\r\n<ellipse fill=\"none\" stroke=\"black\" cx=\"468.789\" cy=\"-22\" rx=\"22\" ry=\"22\"/>\r\n<text text-anchor=\"middle\" x=\"468.789\" y=\"-18.3\" font-family=\"Times New Roman,serif\" font-size=\"14.00\">F</text>\r\n</g>\r\n<!-- S2&#45;&gt;F -->\r\n<g id=\"edge6\" class=\"edge\"><title>S2&#45;&gt;F</title>\r\n<path fill=\"none\" stroke=\"black\" d=\"M395.91,-22C407.726,-22 422.969,-22 436.375,-22\"/>\r\n<polygon fill=\"black\" stroke=\"black\" points=\"436.631,-25.5001 446.631,-22 436.631,-18.5001 436.631,-25.5001\"/>\r\n<text text-anchor=\"middle\" x=\"421.289\" y=\"-40.8\" font-family=\"Times New Roman,serif\" font-size=\"14.00\">0 </text>\r\n<text text-anchor=\"middle\" x=\"421.289\" y=\"-25.8\" font-family=\"Times New Roman,serif\" font-size=\"14.00\"> 1 </text>\r\n</g>\r\n<!-- I&#45;&gt;S0 -->\r\n<g id=\"edge3\" class=\"edge\"><title>I&#45;&gt;S0</title>\r\n<path fill=\"none\" stroke=\"black\" d=\"M127.156,-22C137.414,-22 150.738,-22 162.699,-22\"/>\r\n<polygon fill=\"black\" stroke=\"black\" points=\"162.748,-25.5001 172.748,-22 162.748,-18.5001 162.748,-25.5001\"/>\r\n<text text-anchor=\"middle\" x=\"150\" y=\"-25.8\" font-family=\"Times New Roman,serif\" font-size=\"14.00\">&#39;&#39; </text>\r\n</g>\r\n<!-- I&#45;&gt;I -->\r\n<g id=\"edge2\" class=\"edge\"><title>I&#45;&gt;I</title>\r\n<path fill=\"none\" stroke=\"black\" d=\"M102.621,-39.0373C101.319,-48.8579 103.445,-58 109,-58 112.472,-58 114.604,-54.4289 115.398,-49.3529\"/>\r\n<polygon fill=\"black\" stroke=\"black\" points=\"118.897,-49.031 115.379,-39.0373 111.897,-49.0435 118.897,-49.031\"/>\r\n<text text-anchor=\"middle\" x=\"109\" y=\"-76.8\" font-family=\"Times New Roman,serif\" font-size=\"14.00\">0 </text>\r\n<text text-anchor=\"middle\" x=\"109\" y=\"-61.8\" font-family=\"Times New Roman,serif\" font-size=\"14.00\"> 1 </text>\r\n</g>\r\n<!-- S1&#45;&gt;S2 -->\r\n<g id=\"edge5\" class=\"edge\"><title>S1&#45;&gt;S2</title>\r\n<path fill=\"none\" stroke=\"black\" d=\"M303.501,-22C315.347,-22 330.564,-22 343.826,-22\"/>\r\n<polygon fill=\"black\" stroke=\"black\" points=\"343.941,-25.5001 353.941,-22 343.941,-18.5001 343.941,-25.5001\"/>\r\n<text text-anchor=\"middle\" x=\"328.693\" y=\"-40.8\" font-family=\"Times New Roman,serif\" font-size=\"14.00\">0 </text>\r\n<text text-anchor=\"middle\" x=\"328.693\" y=\"-25.8\" font-family=\"Times New Roman,serif\" font-size=\"14.00\"> 1 </text>\r\n</g>\r\n</g>\r\n</svg>\r\n"
     },
     "metadata": {},
     "execution_count": 18
    }
   ],
   "source": [
    "# Let us see this NFA drawn out\n",
    "\n",
    "dotObj_nfa(NFA_3rdlast_1, FuseEdges=True)"
   ]
  },
  {
   "cell_type": "code",
   "execution_count": 19,
   "metadata": {
    "run_control": {
     "frozen": false,
     "read_only": false
    }
   },
   "outputs": [
    {
     "output_type": "execute_result",
     "data": {
      "text/plain": "{'S0'}"
     },
     "metadata": {},
     "execution_count": 19
    }
   ],
   "source": [
    "# Let's step the NFA on epsilon   \n",
    "step_nfa(NFA_3rdlast_1, \"I\", \"\")"
   ]
  },
  {
   "cell_type": "code",
   "execution_count": 20,
   "metadata": {
    "run_control": {
     "frozen": false,
     "read_only": false
    }
   },
   "outputs": [
    {
     "output_type": "execute_result",
     "data": {
      "text/plain": "{'I'}"
     },
     "metadata": {},
     "execution_count": 20
    }
   ],
   "source": [
    "# Let's step it on '0'  \n",
    "step_nfa(NFA_3rdlast_1, \"I\", \"0\")"
   ]
  },
  {
   "cell_type": "code",
   "execution_count": 21,
   "metadata": {
    "run_control": {
     "frozen": false,
     "read_only": false
    }
   },
   "outputs": [
    {
     "output_type": "execute_result",
     "data": {
      "text/plain": "{'I'}"
     },
     "metadata": {},
     "execution_count": 21
    }
   ],
   "source": [
    "# Step it on a \"1\" to see two next states. That shows nondeterminism!\n",
    "\n",
    "step_nfa(NFA_3rdlast_1, \"I\", \"1\")  "
   ]
  },
  {
   "cell_type": "code",
   "execution_count": 22,
   "metadata": {
    "run_control": {
     "frozen": false,
     "read_only": false
    }
   },
   "outputs": [
    {
     "output_type": "execute_result",
     "data": {
      "text/plain": "{'I', 'S0'}"
     },
     "metadata": {},
     "execution_count": 22
    }
   ],
   "source": [
    "# What is the Eclosure of the set of states {I} ?\n",
    "\n",
    "Eclosure(NFA_3rdlast_1, {\"I\"})"
   ]
  },
  {
   "cell_type": "code",
   "execution_count": 23,
   "metadata": {
    "run_control": {
     "frozen": false,
     "read_only": false
    },
    "tags": []
   },
   "outputs": [
    {
     "output_type": "stream",
     "name": "stdout",
     "text": "Help on function accepts_nfa in module jove.Def_NFA:\n\naccepts_nfa(N, s, chatty=False)\n    NFA acceptance.\n    Input : N : given NFA\n            s : given string\n            chatty : Boolean (prints accepting path,\n                     which is the state-sets encountered).\n\n"
    }
   ],
   "source": [
    "help(accepts_nfa)"
   ]
  },
  {
   "cell_type": "code",
   "execution_count": 24,
   "metadata": {
    "run_control": {
     "frozen": false,
     "read_only": false
    },
    "tags": []
   },
   "outputs": [
    {
     "output_type": "stream",
     "name": "stdout",
     "text": "States reached =  {'S0', 'I'}\nStates reached =  {'S0', 'I', 'S1'}\nStates reached =  {'S0', 'S2', 'I'}\nStates reached =  {'F', 'S0', 'I'}\nStates reached =  {'S0', 'I', 'S1'}\nStates reached =  {'S0', 'S2', 'I'}\nStates reached =  {'F', 'S0', 'I'}\nNFA accepts '0100100' by reaching {'F', 'S0', 'I'}\n"
    },
    {
     "output_type": "execute_result",
     "data": {
      "text/plain": "True"
     },
     "metadata": {},
     "execution_count": 24
    }
   ],
   "source": [
    "accepts_nfa(NFA_3rdlast_1, \"0100100\", chatty=True)"
   ]
  },
  {
   "cell_type": "markdown",
   "metadata": {
    "run_control": {
     "frozen": false,
     "read_only": false
    }
   },
   "source": [
    "# Let us run NFA interactively via widgets\n",
    "\n",
    "We have two NFA to play with, namely nfa_ends0101 and NFA_3rdlast_1\n"
   ]
  },
  {
   "cell_type": "code",
   "execution_count": 25,
   "metadata": {
    "run_control": {
     "frozen": false,
     "read_only": false
    }
   },
   "outputs": [],
   "source": [
    "import ipywidgets as wdg\n",
    "def run_nfa_slider(N, s, n):\n",
    "    \"\"\"Run NFA N from N[\"Q0\"] (which is a set..) on substring s[0:n]\n",
    "    \"\"\"\n",
    "    S = N[\"Q0\"] \n",
    "    if (n > len(s)):\n",
    "        n = len(s)\n",
    "    print(\"string = \", s[0:n])\n",
    "    run_nfa(N, S, s[0:n], True)\n",
    "    \n",
    "def run_nfa_int(N1, N2):\n",
    "    \"\"\"Run interactively from the given NFA .. from {q0} \n",
    "       on input string's substring\n",
    "       as picked by slider.\n",
    "    \"\"\"\n",
    "    inp = input(\"Please provide string: \")\n",
    "    wdg.interact(run_nfa_slider, N = {'N1': N1, 'N2': N2}, \n",
    "                 s = inp, n=(0,32))\n",
    "    \n",
    "def test_run_nfa_int(N1, N2):\n",
    "    \"\"\"Test the interactive run of NFA.\n",
    "    \"\"\"\n",
    "    run_nfa_int(N1, N2)\n",
    "\n",
    "#-- enable this later. test_run_nfa_int()"
   ]
  },
  {
   "cell_type": "markdown",
   "metadata": {
    "run_control": {
     "frozen": false,
     "read_only": false
    }
   },
   "source": [
    "## Once you run the command below, provide a string\n",
    "\n",
    "Provide a string of 0's and 1's. Then you can use the pull-down to pick the NFA\n",
    "to test, and the slider to incrementally consume more of the input string\n"
   ]
  },
  {
   "cell_type": "code",
   "execution_count": 26,
   "metadata": {
    "run_control": {
     "frozen": false,
     "read_only": false
    }
   },
   "outputs": [
    {
     "output_type": "display_data",
     "data": {
      "text/plain": "interactive(children=(Dropdown(description='N', options={'N1': {'Q': {'S0', 'F', 'S01', 'S010', 'I'}, 'Sigma':…",
      "application/vnd.jupyter.widget-view+json": {
       "version_major": 2,
       "version_minor": 0,
       "model_id": "1c9e1089e76f43b3b7904a668256afe6"
      }
     },
     "metadata": {}
    }
   ],
   "source": [
    "test_run_nfa_int(NFA_ends0101, NFA_3rdlast_1)"
   ]
  }
 ],
 "metadata": {
  "kernelspec": {
   "display_name": "Python 3",
   "language": "python",
   "name": "python3"
  },
  "language_info": {
   "codemirror_mode": {
    "name": "ipython",
    "version": 3
   },
   "file_extension": ".py",
   "mimetype": "text/x-python",
   "name": "python",
   "nbconvert_exporter": "python",
   "pygments_lexer": "ipython3",
   "version": "3.8.3-final"
  },
  "toc": {
   "colors": {
    "hover_highlight": "#DAA520",
    "running_highlight": "#FF0000",
    "selected_highlight": "#FFD700"
   },
   "moveMenuLeft": true,
   "nav_menu": {
    "height": "121px",
    "width": "252px"
   },
   "navigate_menu": true,
   "number_sections": true,
   "sideBar": true,
   "threshold": 4,
   "toc_cell": false,
   "toc_section_display": "block",
   "toc_window_display": false,
   "widenNotebook": false
  },
  "widgets": {
   "state": {
    "430c92ee02b34ec1912bf03c8de1e6dc": {
     "views": [
      {
       "cell_index": 20
      }
     ]
    }
   },
   "version": "1.2.0"
  }
 },
 "nbformat": 4,
 "nbformat_minor": 2
}