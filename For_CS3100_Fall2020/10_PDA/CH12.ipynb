{
 "cells": [
  {
   "cell_type": "markdown",
   "metadata": {
    "run_control": {
     "frozen": false,
     "read_only": false
    }
   },
   "source": [
    " # PDA definition and testing\n",
    " \n",
    " You may wish to watch this Youtube and then play with\n",
    " various PDA defined in this notebook\n",
    " "
   ]
  },
  {
   "cell_type": "code",
   "execution_count": 1,
   "metadata": {
    "run_control": {
     "frozen": false,
     "read_only": false
    }
   },
   "outputs": [
    {
     "output_type": "execute_result",
     "data": {
      "text/plain": "<IPython.lib.display.YouTubeVideo at 0x204de4ef400>",
      "text/html": "\n        <iframe\n            width=\"400\"\n            height=\"300\"\n            src=\"https://www.youtube.com/embed/cvVl1lQ4agU\"\n            frameborder=\"0\"\n            allowfullscreen\n        ></iframe>\n        ",
      "image/jpeg": "[encoded data removed]"
     },
     "metadata": {},
     "execution_count": 1
    }
   ],
   "source": [
    "# This Youtube video walks through this notebook\n",
    "from IPython.display import YouTubeVideo\n",
    "YouTubeVideo('cvVl1lQ4agU')"
   ]
  },
  {
   "cell_type": "code",
   "execution_count": 2,
   "metadata": {
    "run_control": {
     "frozen": false,
     "read_only": false
    },
    "tags": []
   },
   "outputs": [
    {
     "output_type": "stream",
     "name": "stdout",
     "text": "You may use any of these help commands:\nhelp(ResetStNum)\nhelp(NxtStateStr)\n\nYou may use any of these help commands:\nhelp(md2mc)\n.. and if you want to dig more, then ..\nhelp(default_line_attr)\nhelp(length_ok_input_items)\nhelp(union_line_attr_list_fld)\nhelp(extend_rsltdict)\nhelp(form_delta)\nhelp(get_machine_components)\n\nYou may use any of these help commands:\nhelp(explore_pda)\nhelp(run_pda)\nhelp(classify_l_id_path)\nhelp(h_run_pda)\nhelp(interpret_w_eps)\nhelp(step_pda)\nhelp(suvivor_id)\nhelp(term_id)\nhelp(final_id)\nhelp(cvt_str_to_sym)\nhelp(is_surv_id)\nhelp(subsumed)\nhelp(is_term_id)\nhelp(is_final_id)\n\n \"help(AnimatePDA)\" gives you info on how to use animations with PDA \n"
    }
   ],
   "source": [
    "#~~~~~~~~~~~~~~~~~~~~~~~~~~~~~~~~~~~~~~~~~~~~~~~~~~~~~~~\n",
    "import sys\n",
    "\n",
    "# -- Detect if in Own Install or in Colab\n",
    "try:\n",
    "    import google.colab\n",
    "    OWN_INSTALL = False\n",
    "except:\n",
    "    OWN_INSTALL = True\n",
    "    \n",
    "if OWN_INSTALL:\n",
    "    \n",
    "  #---- Leave these definitions ON if running on laptop\n",
    "  #---- Else turn OFF by putting them between ''' ... '''\n",
    "\n",
    "  sys.path[0:0] = ['../../../../..',  '../../../../../3rdparty',  \n",
    "                   '../../../..',  '../../../../3rdparty',  \n",
    "                   '../../..',     '../../../3rdparty', \n",
    "                   '../..',        '../../3rdparty',\n",
    "                   '..',           '../3rdparty' ]\n",
    "\n",
    "else: # In colab\n",
    "  ! if [ ! -d Jove ]; then git clone https://github.com/ganeshutah/Jove Jove; fi\n",
    "  sys.path.append('./Jove')\n",
    "  sys.path.append('./Jove/jove')\n",
    "\n",
    "# -- common imports --\n",
    "\n",
    "from jove.SystemImports import *\n",
    "from jove.DotBashers    import *\n",
    "from jove.Def_md2mc     import *\n",
    "from jove.Def_PDA       import *\n",
    "from jove.AnimatePDA    import *\n",
    "#~~~~~~~~~~~~~~~~~~~~~~~~~~~~~~~~~~~~~~~~~~~~~~~~~~~~~~~"
   ]
  },
  {
   "cell_type": "code",
   "execution_count": 7,
   "metadata": {},
   "outputs": [],
   "source": [
    "from jove.Def_DFA       import *\n",
    "from jove.Def_NFA       import *\n",
    "from jove.AnimateDFA    import *\n",
    "from jove.AnimateNFA    import *\n",
    "print(end=\"\")"
   ]
  },
  {
   "cell_type": "code",
   "execution_count": 3,
   "metadata": {
    "run_control": {
     "frozen": false,
     "read_only": false
    },
    "tags": []
   },
   "outputs": [
    {
     "output_type": "stream",
     "name": "stderr",
     "text": "Generating LALR tables\n"
    },
    {
     "output_type": "execute_result",
     "data": {
      "text/plain": "<graphviz.dot.Digraph at 0x204de4e1fa0>",
      "image/svg+xml": "<?xml version=\"1.0\" encoding=\"UTF-8\" standalone=\"no\"?>\r\n<!DOCTYPE svg PUBLIC \"-//W3C//DTD SVG 1.1//EN\"\r\n \"http://www.w3.org/Graphics/SVG/1.1/DTD/svg11.dtd\">\r\n<!-- Generated by graphviz version 2.38.0 (20140413.2041)\r\n -->\r\n<!-- Title: %3 Pages: 1 -->\r\n<svg width=\"262pt\" height=\"97pt\"\r\n viewBox=\"0.00 0.00 262.20 96.85\" xmlns=\"http://www.w3.org/2000/svg\" xmlns:xlink=\"http://www.w3.org/1999/xlink\">\r\n<g id=\"graph0\" class=\"graph\" transform=\"scale(1 1) rotate(0) translate(4 92.8483)\">\r\n<title>%3</title>\r\n<polygon fill=\"white\" stroke=\"none\" points=\"-4,4 -4,-92.8483 258.197,-92.8483 258.197,4 -4,4\"/>\r\n<!-- EMPTY -->\r\n<g id=\"node1\" class=\"node\"><title>EMPTY</title>\r\n</g>\r\n<!-- IF -->\r\n<g id=\"node3\" class=\"node\"><title>IF</title>\r\n<ellipse fill=\"none\" stroke=\"black\" cx=\"113.848\" cy=\"-22.8483\" rx=\"18.724\" ry=\"18.724\"/>\r\n<ellipse fill=\"none\" stroke=\"black\" cx=\"113.848\" cy=\"-22.8483\" rx=\"22.6977\" ry=\"22.6977\"/>\r\n<text text-anchor=\"middle\" x=\"113.848\" y=\"-19.1483\" font-family=\"Times New Roman,serif\" font-size=\"14.00\">IF</text>\r\n</g>\r\n<!-- EMPTY&#45;&gt;IF -->\r\n<g id=\"edge1\" class=\"edge\"><title>EMPTY&#45;&gt;IF</title>\r\n<path fill=\"none\" stroke=\"black\" d=\"M54.3814,-22.8483C62.6819,-22.8483 71.9432,-22.8483 80.6031,-22.8483\"/>\r\n<polygon fill=\"black\" stroke=\"black\" points=\"80.7631,-26.3484 90.7631,-22.8483 80.7631,-19.3484 80.7631,-26.3484\"/>\r\n</g>\r\n<!-- A -->\r\n<g id=\"node2\" class=\"node\"><title>A</title>\r\n<ellipse fill=\"none\" stroke=\"black\" cx=\"233.697\" cy=\"-22.8483\" rx=\"18\" ry=\"18\"/>\r\n<text text-anchor=\"middle\" x=\"233.697\" y=\"-19.1483\" font-family=\"Times New Roman,serif\" font-size=\"14.00\">A</text>\r\n</g>\r\n<!-- A&#45;&gt;A -->\r\n<g id=\"edge3\" class=\"edge\"><title>A&#45;&gt;A</title>\r\n<path fill=\"none\" stroke=\"black\" d=\"M224.122,-38.3898C221.427,-48.757 224.619,-58.8483 233.697,-58.8483 239.654,-58.8483 243.077,-54.5024 243.964,-48.5845\"/>\r\n<polygon fill=\"black\" stroke=\"black\" points=\"247.441,-48.1295 243.271,-38.3898 240.457,-48.604 247.441,-48.1295\"/>\r\n<text text-anchor=\"middle\" x=\"233.697\" y=\"-77.6483\" font-family=\"Times New Roman,serif\" font-size=\"14.00\">(, ( ; (( </text>\r\n<text text-anchor=\"middle\" x=\"233.697\" y=\"-62.6483\" font-family=\"Times New Roman,serif\" font-size=\"14.00\"> ), ( ; &#39;&#39;</text>\r\n</g>\r\n<!-- A&#45;&gt;IF -->\r\n<g id=\"edge4\" class=\"edge\"><title>A&#45;&gt;IF</title>\r\n<path fill=\"none\" stroke=\"black\" d=\"M218.385,-12.9826C212.294,-9.35485 204.934,-5.68611 197.697,-3.84833 179.173,0.85523 173.337,0.368173 154.697,-3.84833 150.964,-4.69276 147.171,-5.93073 143.483,-7.37657\"/>\r\n<polygon fill=\"black\" stroke=\"black\" points=\"141.795,-4.29712 134.083,-11.5618 144.642,-10.692 141.795,-4.29712\"/>\r\n<text text-anchor=\"middle\" x=\"176.197\" y=\"-7.64833\" font-family=\"Times New Roman,serif\" font-size=\"14.00\">&#39;&#39;, # ; #</text>\r\n</g>\r\n<!-- IF&#45;&gt;A -->\r\n<g id=\"edge2\" class=\"edge\"><title>IF&#45;&gt;A</title>\r\n<path fill=\"none\" stroke=\"black\" d=\"M136.739,-22.8483C156.124,-22.8483 184.504,-22.8483 205.373,-22.8483\"/>\r\n<polygon fill=\"black\" stroke=\"black\" points=\"205.514,-26.3484 215.514,-22.8483 205.514,-19.3484 205.514,-26.3484\"/>\r\n<text text-anchor=\"middle\" x=\"176.197\" y=\"-26.6483\" font-family=\"Times New Roman,serif\" font-size=\"14.00\">(, # ; (#</text>\r\n</g>\r\n</g>\r\n</svg>\r\n"
     },
     "metadata": {},
     "execution_count": 3
    }
   ],
   "source": [
    "pdaDyck = md2mc('''PDA\n",
    "IF : (, #; (# -> A\n",
    "A  : (, (; (( -> A\n",
    "A  : ), (; '' -> A\n",
    "A  : '',#; #  -> IF\n",
    "''')\n",
    "DOpdaDyck = dotObj_pda(pdaDyck, FuseEdges=True)\n",
    "DOpdaDyck"
   ]
  },
  {
   "cell_type": "code",
   "execution_count": 4,
   "metadata": {},
   "outputs": [
    {
     "output_type": "display_data",
     "data": {
      "text/plain": "VBox(children=(HBox(children=(Text(value='', description='Input:', layout=Layout(width='500px'), placeholder='…",
      "application/vnd.jupyter.widget-view+json": {
       "version_major": 2,
       "version_minor": 0,
       "model_id": "d94b4d36a0464761b2523d5ed6c6322e"
      }
     },
     "metadata": {}
    },
    {
     "output_type": "display_data",
     "data": {
      "text/plain": "<IPython.core.display.HTML object>",
      "text/html": "<link rel=\"stylesheet\" href=\"//stackpath.bootstrapcdn.com/font-awesome/4.7.0/css/font-awesome.min.css\"/>"
     },
     "metadata": {}
    }
   ],
   "source": [
    "AnimatePDA(pdaDyck, FuseEdges=True)\n",
    "display(HTML('<link rel=\"stylesheet\" href=\"//stackpath.bootstrapcdn.com/font-awesome/4.7.0/css/font-awesome.min.css\"/>'))"
   ]
  },
  {
   "cell_type": "code",
   "execution_count": 5,
   "metadata": {
    "run_control": {
     "frozen": false,
     "read_only": false
    },
    "tags": []
   },
   "outputs": [
    {
     "output_type": "stream",
     "name": "stdout",
     "text": "String  accepted by your PDA in 1 ways :-) \nHere are the ways: \nFinal state  ('IF', '', '#')\nReached as follows:\n->  ('IF', '', '#') .\n"
    }
   ],
   "source": [
    "explore_pda(\"\", pdaDyck)"
   ]
  },
  {
   "cell_type": "code",
   "execution_count": 6,
   "metadata": {
    "run_control": {
     "frozen": false,
     "read_only": false
    },
    "tags": []
   },
   "outputs": [
    {
     "output_type": "stream",
     "name": "stdout",
     "text": "String () accepted by your PDA in 1 ways :-) \nHere are the ways: \nFinal state  ('IF', '', '#')\nReached as follows:\n->  ('IF', '()', '#')\n->  ('A', ')', '(#')\n->  ('A', '', '#')\n->  ('IF', '', '#') .\n"
    }
   ],
   "source": [
    "explore_pda(\"()\", pdaDyck)"
   ]
  },
  {
   "cell_type": "code",
   "execution_count": 8,
   "metadata": {
    "run_control": {
     "frozen": false,
     "read_only": false
    },
    "tags": []
   },
   "outputs": [
    {
     "output_type": "stream",
     "name": "stdout",
     "text": "String ()()(()) accepted by your PDA in 1 ways :-) \nHere are the ways: \nFinal state  ('IF', '', '#')\nReached as follows:\n->  ('IF', '()()(())', '#')\n->  ('A', ')()(())', '(#')\n->  ('A', '()(())', '#')\n->  ('IF', '()(())', '#')\n->  ('A', ')(())', '(#')\n->  ('A', '(())', '#')\n->  ('IF', '(())', '#')\n->  ('A', '())', '(#')\n->  ('A', '))', '((#')\n->  ('A', ')', '(#')\n->  ('A', '', '#')\n->  ('IF', '', '#') .\n"
    }
   ],
   "source": [
    "explore_pda(\"()()(())\", pdaDyck)"
   ]
  },
  {
   "cell_type": "code",
   "execution_count": 9,
   "metadata": {
    "run_control": {
     "frozen": false,
     "read_only": false
    },
    "tags": []
   },
   "outputs": [
    {
     "output_type": "stream",
     "name": "stdout",
     "text": "String ()()(() rejected by your PDA :-(\nVisited states are:\n{('A', '()', '(#'), ('A', ')', '((#'), ('IF', '()(()', '#'), ('A', '()(()', '#'), ('A', '', '(#'), ('A', '(()', '#'), ('A', ')(()', '(#'), ('A', ')()(()', '(#'), ('IF', '()()(()', '#'), ('IF', '(()', '#')}\n"
    }
   ],
   "source": [
    "explore_pda(\"()()(()\", pdaDyck)  "
   ]
  },
  {
   "cell_type": "code",
   "execution_count": 10,
   "metadata": {
    "run_control": {
     "frozen": false,
     "read_only": false
    }
   },
   "outputs": [
    {
     "output_type": "execute_result",
     "data": {
      "text/plain": "<graphviz.dot.Digraph at 0x204de6aca00>",
      "image/svg+xml": "<?xml version=\"1.0\" encoding=\"UTF-8\" standalone=\"no\"?>\r\n<!DOCTYPE svg PUBLIC \"-//W3C//DTD SVG 1.1//EN\"\r\n \"http://www.w3.org/Graphics/SVG/1.1/DTD/svg11.dtd\">\r\n<!-- Generated by graphviz version 2.38.0 (20140413.2041)\r\n -->\r\n<!-- Title: %3 Pages: 1 -->\r\n<svg width=\"255pt\" height=\"52pt\"\r\n viewBox=\"0.00 0.00 255.00 52.00\" xmlns=\"http://www.w3.org/2000/svg\" xmlns:xlink=\"http://www.w3.org/1999/xlink\">\r\n<g id=\"graph0\" class=\"graph\" transform=\"scale(1 1) rotate(0) translate(4 48)\">\r\n<title>%3</title>\r\n<polygon fill=\"white\" stroke=\"none\" points=\"-4,4 -4,-48 251,-48 251,4 -4,4\"/>\r\n<!-- EMPTY -->\r\n<g id=\"node1\" class=\"node\"><title>EMPTY</title>\r\n</g>\r\n<!-- I -->\r\n<g id=\"node2\" class=\"node\"><title>I</title>\r\n<ellipse fill=\"none\" stroke=\"black\" cx=\"109\" cy=\"-22\" rx=\"18\" ry=\"18\"/>\r\n<text text-anchor=\"middle\" x=\"109\" y=\"-18.3\" font-family=\"Times New Roman,serif\" font-size=\"14.00\">I</text>\r\n</g>\r\n<!-- EMPTY&#45;&gt;I -->\r\n<g id=\"edge1\" class=\"edge\"><title>EMPTY&#45;&gt;I</title>\r\n<path fill=\"none\" stroke=\"black\" d=\"M54.195,-22C62.6538,-22 72.0513,-22 80.5951,-22\"/>\r\n<polygon fill=\"black\" stroke=\"black\" points=\"80.8257,-25.5001 90.8257,-22 80.8257,-18.5001 80.8257,-25.5001\"/>\r\n</g>\r\n<!-- F -->\r\n<g id=\"node3\" class=\"node\"><title>F</title>\r\n<ellipse fill=\"none\" stroke=\"black\" cx=\"225\" cy=\"-22\" rx=\"18\" ry=\"18\"/>\r\n<ellipse fill=\"none\" stroke=\"black\" cx=\"225\" cy=\"-22\" rx=\"22\" ry=\"22\"/>\r\n<text text-anchor=\"middle\" x=\"225\" y=\"-18.3\" font-family=\"Times New Roman,serif\" font-size=\"14.00\">F</text>\r\n</g>\r\n<!-- I&#45;&gt;F -->\r\n<g id=\"edge2\" class=\"edge\"><title>I&#45;&gt;F</title>\r\n<path fill=\"none\" stroke=\"black\" d=\"M127.314,-22C144.578,-22 171.486,-22 192.536,-22\"/>\r\n<polygon fill=\"black\" stroke=\"black\" points=\"192.629,-25.5001 202.629,-22 192.629,-18.5001 192.629,-25.5001\"/>\r\n<text text-anchor=\"middle\" x=\"165\" y=\"-25.8\" font-family=\"Times New Roman,serif\" font-size=\"14.00\">a, b ; c</text>\r\n</g>\r\n</g>\r\n</svg>\r\n"
     },
     "metadata": {},
     "execution_count": 10
    }
   ],
   "source": [
    "pda1 = md2mc('''PDA\n",
    "I : a, b; c -> F\n",
    "''')\n",
    "DOpda1 = dotObj_pda(pda1, FuseEdges=True)\n",
    "DOpda1"
   ]
  },
  {
   "cell_type": "code",
   "execution_count": 11,
   "metadata": {},
   "outputs": [
    {
     "output_type": "display_data",
     "data": {
      "text/plain": "VBox(children=(HBox(children=(Text(value='', description='Input:', layout=Layout(width='500px'), placeholder='…",
      "application/vnd.jupyter.widget-view+json": {
       "version_major": 2,
       "version_minor": 0,
       "model_id": "e918fffa0fbb4f2e8807da1216015fe4"
      }
     },
     "metadata": {}
    },
    {
     "output_type": "display_data",
     "data": {
      "text/plain": "<IPython.core.display.HTML object>",
      "text/html": "<link rel=\"stylesheet\" href=\"//stackpath.bootstrapcdn.com/font-awesome/4.7.0/css/font-awesome.min.css\"/>"
     },
     "metadata": {}
    }
   ],
   "source": [
    "AnimatePDA(pda1, FuseEdges=True)\n",
    "display(HTML('<link rel=\"stylesheet\" href=\"//stackpath.bootstrapcdn.com/font-awesome/4.7.0/css/font-awesome.min.css\"/>'))"
   ]
  },
  {
   "cell_type": "code",
   "execution_count": null,
   "metadata": {},
   "outputs": [],
   "source": []
  },
  {
   "cell_type": "code",
   "execution_count": 12,
   "metadata": {
    "run_control": {
     "frozen": false,
     "read_only": false
    }
   },
   "outputs": [
    {
     "output_type": "execute_result",
     "data": {
      "text/plain": "<graphviz.dot.Digraph at 0x204e1b17dc0>",
      "image/svg+xml": "<?xml version=\"1.0\" encoding=\"UTF-8\" standalone=\"no\"?>\r\n<!DOCTYPE svg PUBLIC \"-//W3C//DTD SVG 1.1//EN\"\r\n \"http://www.w3.org/Graphics/SVG/1.1/DTD/svg11.dtd\">\r\n<!-- Generated by graphviz version 2.38.0 (20140413.2041)\r\n -->\r\n<!-- Title: %3 Pages: 1 -->\r\n<svg width=\"369pt\" height=\"78pt\"\r\n viewBox=\"0.00 0.00 369.00 78.00\" xmlns=\"http://www.w3.org/2000/svg\" xmlns:xlink=\"http://www.w3.org/1999/xlink\">\r\n<g id=\"graph0\" class=\"graph\" transform=\"scale(1 1) rotate(0) translate(4 74)\">\r\n<title>%3</title>\r\n<polygon fill=\"white\" stroke=\"none\" points=\"-4,4 -4,-74 365,-74 365,4 -4,4\"/>\r\n<!-- EMPTY -->\r\n<g id=\"node1\" class=\"node\"><title>EMPTY</title>\r\n</g>\r\n<!-- I -->\r\n<g id=\"node2\" class=\"node\"><title>I</title>\r\n<ellipse fill=\"none\" stroke=\"black\" cx=\"109\" cy=\"-22\" rx=\"18\" ry=\"18\"/>\r\n<text text-anchor=\"middle\" x=\"109\" y=\"-18.3\" font-family=\"Times New Roman,serif\" font-size=\"14.00\">I</text>\r\n</g>\r\n<!-- EMPTY&#45;&gt;I -->\r\n<g id=\"edge1\" class=\"edge\"><title>EMPTY&#45;&gt;I</title>\r\n<path fill=\"none\" stroke=\"black\" d=\"M54.195,-22C62.6538,-22 72.0513,-22 80.5951,-22\"/>\r\n<polygon fill=\"black\" stroke=\"black\" points=\"80.8257,-25.5001 90.8257,-22 80.8257,-18.5001 80.8257,-25.5001\"/>\r\n</g>\r\n<!-- A -->\r\n<g id=\"node3\" class=\"node\"><title>A</title>\r\n<ellipse fill=\"none\" stroke=\"black\" cx=\"222\" cy=\"-52\" rx=\"18\" ry=\"18\"/>\r\n<text text-anchor=\"middle\" x=\"222\" y=\"-48.3\" font-family=\"Times New Roman,serif\" font-size=\"14.00\">A</text>\r\n</g>\r\n<!-- I&#45;&gt;A -->\r\n<g id=\"edge3\" class=\"edge\"><title>I&#45;&gt;A</title>\r\n<path fill=\"none\" stroke=\"black\" d=\"M126.859,-26.5564C144.81,-31.4081 173.469,-39.1537 194.455,-44.8257\"/>\r\n<polygon fill=\"black\" stroke=\"black\" points=\"193.78,-48.2687 204.347,-47.4991 195.606,-41.5111 193.78,-48.2687\"/>\r\n<text text-anchor=\"middle\" x=\"164.5\" y=\"-44.8\" font-family=\"Times New Roman,serif\" font-size=\"14.00\">&#39;&#39;, &#39;&#39; ; d</text>\r\n</g>\r\n<!-- F -->\r\n<g id=\"node4\" class=\"node\"><title>F</title>\r\n<ellipse fill=\"none\" stroke=\"black\" cx=\"339\" cy=\"-22\" rx=\"18\" ry=\"18\"/>\r\n<ellipse fill=\"none\" stroke=\"black\" cx=\"339\" cy=\"-22\" rx=\"22\" ry=\"22\"/>\r\n<text text-anchor=\"middle\" x=\"339\" y=\"-18.3\" font-family=\"Times New Roman,serif\" font-size=\"14.00\">F</text>\r\n</g>\r\n<!-- I&#45;&gt;F -->\r\n<g id=\"edge2\" class=\"edge\"><title>I&#45;&gt;F</title>\r\n<path fill=\"none\" stroke=\"black\" d=\"M126.892,-19.1278C145.296,-16.1553 175.639,-11.7119 202,-10 238.124,-7.65399 279.551,-12.3782 307.096,-16.5716\"/>\r\n<polygon fill=\"black\" stroke=\"black\" points=\"306.86,-20.0781 317.286,-18.1957 307.962,-13.1653 306.86,-20.0781\"/>\r\n<text text-anchor=\"middle\" x=\"222\" y=\"-13.8\" font-family=\"Times New Roman,serif\" font-size=\"14.00\">a, b ; c</text>\r\n</g>\r\n<!-- A&#45;&gt;F -->\r\n<g id=\"edge4\" class=\"edge\"><title>A&#45;&gt;F</title>\r\n<path fill=\"none\" stroke=\"black\" d=\"M239.969,-47.5734C257.768,-42.9301 286.11,-35.5366 307.751,-29.891\"/>\r\n<polygon fill=\"black\" stroke=\"black\" points=\"308.668,-33.2689 317.461,-27.358 306.901,-26.4956 308.668,-33.2689\"/>\r\n<text text-anchor=\"middle\" x=\"279.5\" y=\"-45.8\" font-family=\"Times New Roman,serif\" font-size=\"14.00\">&#39;&#39;, d ; &#39;&#39;</text>\r\n</g>\r\n</g>\r\n</svg>\r\n"
     },
     "metadata": {},
     "execution_count": 12
    }
   ],
   "source": [
    "pda2 = md2mc('''PDA\n",
    "I : a, b  ; c  -> F\n",
    "I : '', ''; d  -> A\n",
    "A : '', d ; '' -> F\n",
    "''')\n",
    "DOpda2 = dotObj_pda(pda2, FuseEdges=True)\n",
    "DOpda2"
   ]
  },
  {
   "cell_type": "code",
   "execution_count": 13,
   "metadata": {},
   "outputs": [
    {
     "output_type": "display_data",
     "data": {
      "text/plain": "VBox(children=(HBox(children=(Text(value='', description='Input:', layout=Layout(width='500px'), placeholder='…",
      "application/vnd.jupyter.widget-view+json": {
       "version_major": 2,
       "version_minor": 0,
       "model_id": "3fef915b5d4946f8bc13affdabcd8ecf"
      }
     },
     "metadata": {}
    },
    {
     "output_type": "display_data",
     "data": {
      "text/plain": "<IPython.core.display.HTML object>",
      "text/html": "<link rel=\"stylesheet\" href=\"//stackpath.bootstrapcdn.com/font-awesome/4.7.0/css/font-awesome.min.css\"/>"
     },
     "metadata": {}
    }
   ],
   "source": [
    "AnimatePDA(pda2, FuseEdges=True)\n",
    "display(HTML('<link rel=\"stylesheet\" href=\"//stackpath.bootstrapcdn.com/font-awesome/4.7.0/css/font-awesome.min.css\"/>'))"
   ]
  },
  {
   "cell_type": "code",
   "execution_count": null,
   "metadata": {},
   "outputs": [],
   "source": []
  },
  {
   "cell_type": "code",
   "execution_count": null,
   "metadata": {
    "run_control": {
     "frozen": false,
     "read_only": false
    }
   },
   "outputs": [],
   "source": [
    "explore_pda(\"a\", pda1)"
   ]
  },
  {
   "cell_type": "code",
   "execution_count": null,
   "metadata": {
    "run_control": {
     "frozen": false,
     "read_only": false
    }
   },
   "outputs": [],
   "source": [
    "explore_pda(\"a\", pda2)"
   ]
  },
  {
   "cell_type": "code",
   "execution_count": null,
   "metadata": {
    "run_control": {
     "frozen": false,
     "read_only": false
    }
   },
   "outputs": [],
   "source": [
    "pda3 = md2mc('''PDA\n",
    "I : a, b  ; c  -> F\n",
    "I : '', ''; d  -> A\n",
    "A : a, d ; '' -> F\n",
    "''')\n",
    "DOpda3 = dotObj_pda(pda3, FuseEdges=True)\n",
    "DOpda3"
   ]
  },
  {
   "cell_type": "code",
   "execution_count": null,
   "metadata": {},
   "outputs": [],
   "source": [
    "AnimatePDA(pda3, FuseEdges=True)\n",
    "display(HTML('<link rel=\"stylesheet\" href=\"//stackpath.bootstrapcdn.com/font-awesome/4.7.0/css/font-awesome.min.css\"/>'))"
   ]
  },
  {
   "cell_type": "code",
   "execution_count": null,
   "metadata": {
    "run_control": {
     "frozen": false,
     "read_only": false
    }
   },
   "outputs": [],
   "source": [
    "explore_pda(\"a\", pda3)"
   ]
  },
  {
   "cell_type": "code",
   "execution_count": null,
   "metadata": {
    "run_control": {
     "frozen": false,
     "read_only": false
    }
   },
   "outputs": [],
   "source": [
    "pda4 = md2mc('''PDA\n",
    "I : a, #  ; c  -> F\n",
    "I : '', ''; d  -> A\n",
    "A : a, d ; '' -> F\n",
    "''')\n",
    "DOpda4 = dotObj_pda(pda4, FuseEdges=True)\n",
    "DOpda4"
   ]
  },
  {
   "cell_type": "code",
   "execution_count": null,
   "metadata": {},
   "outputs": [],
   "source": [
    "AnimatePDA(pda4, FuseEdges=True)\n",
    "display(HTML('<link rel=\"stylesheet\" href=\"//stackpath.bootstrapcdn.com/font-awesome/4.7.0/css/font-awesome.min.css\"/>'))"
   ]
  },
  {
   "cell_type": "code",
   "execution_count": null,
   "metadata": {
    "run_control": {
     "frozen": false,
     "read_only": false
    }
   },
   "outputs": [],
   "source": [
    "explore_pda(\"a\", pda4)"
   ]
  },
  {
   "cell_type": "code",
   "execution_count": null,
   "metadata": {
    "run_control": {
     "frozen": false,
     "read_only": false
    }
   },
   "outputs": [],
   "source": [
    "pda5 = md2mc('''PDA\n",
    "I : a, #  ; c  -> F\n",
    "I : '', ''; d  -> A\n",
    "A : '', ''; '' -> A\n",
    "A : a, d ; '' -> F\n",
    "''')\n",
    "DOpda5 = dotObj_pda(pda5, FuseEdges=True)\n",
    "DOpda5"
   ]
  },
  {
   "cell_type": "code",
   "execution_count": null,
   "metadata": {},
   "outputs": [],
   "source": [
    "AnimatePDA(pda5, FuseEdges=True)\n",
    "display(HTML('<link rel=\"stylesheet\" href=\"//stackpath.bootstrapcdn.com/font-awesome/4.7.0/css/font-awesome.min.css\"/>'))"
   ]
  },
  {
   "cell_type": "code",
   "execution_count": null,
   "metadata": {
    "run_control": {
     "frozen": false,
     "read_only": false
    }
   },
   "outputs": [],
   "source": [
    "explore_pda(\"a\", pda5)"
   ]
  },
  {
   "cell_type": "code",
   "execution_count": null,
   "metadata": {
    "run_control": {
     "frozen": false,
     "read_only": false
    }
   },
   "outputs": [],
   "source": [
    "pda6 = md2mc('''PDA\n",
    "I : a, #  ; c  -> F\n",
    "I : '', ''; d  -> A\n",
    "A : '', ''; z  -> A\n",
    "A : '', z ; '' -> B\n",
    "B : '', z ; '' -> C\n",
    "C : '', z ; '' -> C\n",
    "C : '', # ; '' | a, d; '' -> F\n",
    "A : a, d ; ''  -> F\n",
    "''')\n",
    "DOpda6 = dotObj_pda(pda6, FuseEdges=True)\n",
    "DOpda6"
   ]
  },
  {
   "cell_type": "code",
   "execution_count": null,
   "metadata": {},
   "outputs": [],
   "source": [
    "AnimatePDA(pda6, FuseEdges=True)\n",
    "display(HTML('<link rel=\"stylesheet\" href=\"//stackpath.bootstrapcdn.com/font-awesome/4.7.0/css/font-awesome.min.css\"/>'))"
   ]
  },
  {
   "cell_type": "code",
   "execution_count": null,
   "metadata": {
    "run_control": {
     "frozen": false,
     "read_only": false
    }
   },
   "outputs": [],
   "source": [
    "explore_pda(\"a\", pda6)"
   ]
  },
  {
   "cell_type": "code",
   "execution_count": null,
   "metadata": {
    "run_control": {
     "frozen": false,
     "read_only": false
    }
   },
   "outputs": [],
   "source": [
    "explore_pda(\"a\", pda6, chatty=True)"
   ]
  },
  {
   "cell_type": "code",
   "execution_count": null,
   "metadata": {
    "run_control": {
     "frozen": false,
     "read_only": false
    }
   },
   "outputs": [],
   "source": [
    "explore_pda(\"a\", pda6, STKMAX = 6, chatty=True)"
   ]
  },
  {
   "cell_type": "code",
   "execution_count": 14,
   "metadata": {
    "run_control": {
     "frozen": false,
     "read_only": false
    }
   },
   "outputs": [],
   "source": [
    "f27sip = md2mc('''PDA \n",
    "!!---------------------------------------------------------------------------\n",
    "!! This is a PDA From Sipser's book\n",
    "!! This matches a's and b's ignoring c's\n",
    "!! or matches a's and c's, ignoring b's in the middle\n",
    "!! thus matching either a^m b^m c^n or a^m b^n c^m\n",
    "!!---------------------------------------------------------------------------\n",
    "\n",
    "!!---------------------------------------------------------------------------\n",
    "!! State: in , sin ; spush -> tostates !! comment\n",
    "!!---------------------------------------------------------------------------\n",
    "iq1    : '' , ''  ; $     -> q2       !!  start in init state by pushing a $\n",
    "\n",
    "q2     : a  , ''  ; a     -> q2       !!  stack a's\n",
    "q2     : '' , ''  ; ''    -> q3,q5    !!  split non-det for a^m b^m c^n (q3)\n",
    "                                      !!  or a^m b^n c^m (q5)\n",
    "\n",
    "q3     : b  , a   ; ''    -> q3       !!  match b's against a's\n",
    "q3     : '' , $   ; ''    -> fq4      !!  hope for acceptance when $ surfaces\n",
    "\n",
    "fq4    : c  , ''  ; ''    -> fq4      !!  be happy so long as c's come\n",
    "                                      !!  will choke and reject if anything\n",
    "                                      !!  other than c's come\n",
    "\n",
    "q5     : b  , ''  ; ''    -> q5       !!  here, we are going to punt over b's\n",
    "q5     : '' , ''  ; ''    -> q6       !!  and non-det decide to honor c's matching\n",
    "                                      !!  against a's\n",
    "\n",
    "q6     : c  , a   ; ''    -> q6       !!  OK to match so long as c's keep coming\n",
    "q6     : '' , $   ; ''    -> fq7      !!  when $ surfaces, be ready to accept in\n",
    "                                      !!  state fq7. However, anything else coming in\n",
    "                                      !!  now will foil match and cause rejection.\n",
    "!!---------------------------------------------------------------------------\n",
    "!! You may use the line below as an empty shell to populate for your purposes\n",
    "!! Also serves as a syntax reminder for entering PDAs.\n",
    "!!\n",
    "!! State : i1 , si1 ; sp1 | i2 , si2 ; sp2 -> tos1, tos2 !! comment\n",
    "!!\n",
    "!! ..    : .. , ..  ; ..  | .. , ..  ; ..  -> ..  , ..   !!  ..\n",
    "!!---------------------------------------------------------------------------\n",
    "!!---------------------------------------------------------------------------\n",
    "!!\n",
    "!! Good commenting and software-engineering methods, good clean indentation,\n",
    "!! grouping of similar states, columnar alignment, etc etc. are HUGELY\n",
    "!! important in any programming endeavor -- especially while programming\n",
    "!! automata. Otherwise, you can easily make a mistake in your automaton\n",
    "!! code. Besides, you cannot rely upon others to find your mistakes, as\n",
    "!! they will find your automaton code impossible to read!\n",
    "!!\n",
    "!!---------------------------------------------------------------------------\n",
    "\n",
    "''')\n"
   ]
  },
  {
   "cell_type": "code",
   "execution_count": 15,
   "metadata": {},
   "outputs": [
    {
     "output_type": "display_data",
     "data": {
      "text/plain": "VBox(children=(HBox(children=(Text(value='', description='Input:', layout=Layout(width='500px'), placeholder='…",
      "application/vnd.jupyter.widget-view+json": {
       "version_major": 2,
       "version_minor": 0,
       "model_id": "057fda1c9f9e4578943b2dc503befffc"
      }
     },
     "metadata": {}
    },
    {
     "output_type": "display_data",
     "data": {
      "text/plain": "<IPython.core.display.HTML object>",
      "text/html": "<link rel=\"stylesheet\" href=\"//stackpath.bootstrapcdn.com/font-awesome/4.7.0/css/font-awesome.min.css\"/>"
     },
     "metadata": {}
    }
   ],
   "source": [
    "AnimatePDA(f27sip, FuseEdges=True)\n",
    "display(HTML('<link rel=\"stylesheet\" href=\"//stackpath.bootstrapcdn.com/font-awesome/4.7.0/css/font-awesome.min.css\"/>'))"
   ]
  },
  {
   "cell_type": "code",
   "execution_count": 16,
   "metadata": {
    "tags": []
   },
   "outputs": [
    {
     "output_type": "stream",
     "name": "stdout",
     "text": "String abc accepted by your PDA in 2 ways :-) \nHere are the ways: \nFinal state  ('fq4', '', '#')\nReached as follows:\n->  ('iq1', 'abc', '#')\n->  ('q2', 'abc', '$#')\n->  ('q2', 'bc', 'a$#')\n->  ('q3', 'bc', 'a$#')\n->  ('q3', 'c', '$#')\n->  ('fq4', 'c', '#')\n->  ('fq4', '', '#') .\nFinal state  ('fq7', '', '#')\nReached as follows:\n->  ('iq1', 'abc', '#')\n->  ('q2', 'abc', '$#')\n->  ('q2', 'bc', 'a$#')\n->  ('q5', 'bc', 'a$#')\n->  ('q5', 'c', 'a$#')\n->  ('q6', 'c', 'a$#')\n->  ('q6', '', '$#')\n->  ('fq7', '', '#') .\n"
    }
   ],
   "source": [
    "explore_pda(\"abc\", f27sip)"
   ]
  },
  {
   "cell_type": "code",
   "execution_count": null,
   "metadata": {
    "run_control": {
     "frozen": false,
     "read_only": false
    }
   },
   "outputs": [],
   "source": [
    "Dof27sip = dotObj_pda(f27sip, FuseEdges=True)\n",
    "Dof27sip"
   ]
  },
  {
   "cell_type": "code",
   "execution_count": null,
   "metadata": {
    "run_control": {
     "frozen": false,
     "read_only": false
    }
   },
   "outputs": [],
   "source": [
    "explore_pda(\"aaabbbccc\", f27sip)"
   ]
  },
  {
   "cell_type": "code",
   "execution_count": null,
   "metadata": {
    "run_control": {
     "frozen": false,
     "read_only": false
    }
   },
   "outputs": [],
   "source": [
    "# Parsing an arithmetic expression\n",
    "pdaEamb = md2mc('''PDA\n",
    "!!E -> E * E | E + E | ~E | ( E ) | 2 | 3\n",
    "I : '', #  ; E#  -> M\n",
    "M : '', E  ; ~E  -> M\n",
    "M : '', E  ; E+E -> M\n",
    "M : '', E  ; E*E -> M\n",
    "M : '', E  ; (E) -> M\n",
    "M : '', E  ; 2   -> M\n",
    "M : '', E  ; 3   -> M\n",
    "M : ~,  ~  ; ''  -> M\n",
    "M : 2,  2  ; ''  -> M\n",
    "M : 3,  3  ; ''  -> M\n",
    "M : (,  (  ; ''  -> M\n",
    "M : ),  )  ; ''  -> M\n",
    "M : +,  +  ; ''  -> M\n",
    "M : *,  *  ; ''  -> M\n",
    "M : '', #  ; #   -> F\n",
    "'''\n",
    ")"
   ]
  },
  {
   "cell_type": "code",
   "execution_count": null,
   "metadata": {},
   "outputs": [],
   "source": [
    "AnimatePDA(pdaEamb, FuseEdges=True)\n",
    "display(HTML('<link rel=\"stylesheet\" href=\"//stackpath.bootstrapcdn.com/font-awesome/4.7.0/css/font-awesome.min.css\"/>'))"
   ]
  },
  {
   "cell_type": "code",
   "execution_count": null,
   "metadata": {},
   "outputs": [],
   "source": []
  },
  {
   "cell_type": "code",
   "execution_count": null,
   "metadata": {
    "run_control": {
     "frozen": false,
     "read_only": false
    }
   },
   "outputs": [],
   "source": [
    "DOpdaEamb = dotObj_pda(pdaEamb, FuseEdges=True)\n",
    "DOpdaEamb"
   ]
  },
  {
   "cell_type": "code",
   "execution_count": null,
   "metadata": {
    "run_control": {
     "frozen": false,
     "read_only": false
    }
   },
   "outputs": [],
   "source": [
    "explore_pda(\"3+2*3+2*3\", pdaEamb, STKMAX=8)"
   ]
  },
  {
   "cell_type": "code",
   "execution_count": null,
   "metadata": {
    "run_control": {
     "frozen": false,
     "read_only": false
    }
   },
   "outputs": [],
   "source": [
    "# Parsing an arithmetic expression\n",
    "pdaE = md2mc('''PDA\n",
    "!!E -> E+T | T\n",
    "!!T -> T*F | F\n",
    "!!F -> 2 | 3 | ~F | (E)\n",
    "I : '', #  ; E#  -> M\n",
    "M : '', E  ; E+T -> M\n",
    "M : '', E  ; T   -> M\n",
    "M : '', T  ; T*F -> M\n",
    "M : '', T  ; F   -> M\n",
    "M : '', F  ; 2   -> M\n",
    "M : '', F  ; 3   -> M\n",
    "M : '', F  ; ~F  -> M\n",
    "M : '', F  ; (E) -> M\n",
    "M : ~,  ~  ; ''  -> M\n",
    "M : 2,  2  ; ''  -> M\n",
    "M : 3,  3  ; ''  -> M\n",
    "M : (,  (  ; ''  -> M\n",
    "M : ),  )  ; ''  -> M\n",
    "M : +,  +  ; ''  -> M\n",
    "M : *,  *  ; ''  -> M\n",
    "M : '', #  ; #   -> F\n",
    "'''\n",
    ")"
   ]
  },
  {
   "cell_type": "code",
   "execution_count": null,
   "metadata": {},
   "outputs": [],
   "source": [
    "AnimatePDA(pdaE, FuseEdges=True)\n",
    "display(HTML('<link rel=\"stylesheet\" href=\"//stackpath.bootstrapcdn.com/font-awesome/4.7.0/css/font-awesome.min.css\"/>'))"
   ]
  },
  {
   "cell_type": "code",
   "execution_count": null,
   "metadata": {},
   "outputs": [],
   "source": []
  },
  {
   "cell_type": "code",
   "execution_count": null,
   "metadata": {
    "run_control": {
     "frozen": false,
     "read_only": false
    }
   },
   "outputs": [],
   "source": [
    "DOpdaE = dotObj_pda(pdaE, FuseEdges=True)\n",
    "DOpdaE"
   ]
  },
  {
   "cell_type": "code",
   "execution_count": null,
   "metadata": {
    "run_control": {
     "frozen": false,
     "read_only": false
    }
   },
   "outputs": [],
   "source": [
    "explore_pda(\"3+3+2+2*3+2*3\", pdaE, STKMAX=5)"
   ]
  },
  {
   "cell_type": "code",
   "execution_count": null,
   "metadata": {
    "run_control": {
     "frozen": false,
     "read_only": false
    }
   },
   "outputs": [],
   "source": [
    "explore_pda(\"3*2*~3+~~3*~3\", pdaEamb, STKMAX=5)"
   ]
  },
  {
   "cell_type": "code",
   "execution_count": null,
   "metadata": {
    "run_control": {
     "frozen": false,
     "read_only": false
    }
   },
   "outputs": [],
   "source": [
    "explore_pda(\"3*~2*3+~2*3+3+~2+3*~2\", pdaE, STKMAX=13)"
   ]
  },
  {
   "cell_type": "code",
   "execution_count": null,
   "metadata": {
    "run_control": {
     "frozen": false,
     "read_only": false
    }
   },
   "outputs": [],
   "source": []
  }
 ],
 "metadata": {
  "kernelspec": {
   "display_name": "Python 3",
   "language": "python",
   "name": "python3"
  },
  "language_info": {
   "codemirror_mode": {
    "name": "ipython",
    "version": 3
   },
   "file_extension": ".py",
   "mimetype": "text/x-python",
   "name": "python",
   "nbconvert_exporter": "python",
   "pygments_lexer": "ipython3",
   "version": "3.8.3-final"
  },
  "toc": {
   "colors": {
    "hover_highlight": "#DAA520",
    "running_highlight": "#FF0000",
    "selected_highlight": "#FFD700"
   },
   "moveMenuLeft": true,
   "nav_menu": {
    "height": "318px",
    "width": "252px"
   },
   "navigate_menu": true,
   "number_sections": true,
   "sideBar": true,
   "threshold": 4,
   "toc_cell": false,
   "toc_section_display": "block",
   "toc_window_display": false,
   "widenNotebook": false
  }
 },
 "nbformat": 4,
 "nbformat_minor": 1
}