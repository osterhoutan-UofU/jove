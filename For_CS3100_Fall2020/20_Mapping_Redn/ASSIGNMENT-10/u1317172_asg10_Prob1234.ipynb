{
 "cells": [
  {
   "cell_type": "markdown",
   "metadata": {},
   "source": [
    "<style>\n",
    "h1 {\n",
    "    border-bottom: 2px solid;\n",
    "}\n",
    "h2 {\n",
    "    border-bottom: 1px solid;\n",
    "}\n",
    "/* hr {\n",
    "    border-top: 2px solid;\n",
    "    border-bottom: none;\n",
    "} */\n",
    ".student-info {\n",
    "    text-align: right;\n",
    "    border-bottom: none;\n",
    "}\n",
    "hr.double-div {\n",
    "    border-top: 2px solid;\n",
    "    border-bottom: 2px solid;\n",
    "    border-left: none;\n",
    "    border-right: none;\n",
    "    height: 10pt;\n",
    "    /* border-radius: 1px; */\n",
    "}\n",
    "blockquote {\n",
    "    border-left: 2px solid;\n",
    "    /* background-color: #00000488; */\n",
    "    /* filter: brightness(80%); */\n",
    "    margin-left: 2em;\n",
    "    margin-right: 2em;\n",
    "    padding: 1px 2px 1px 1em;\n",
    "}\n",
    "pre {\n",
    "    border: 1px solid #88888888;\n",
    "    margin-left: 1em;\n",
    "    margin-right: 1em;\n",
    "    padding: 0.5em;\n",
    "    /*padding: 8pt 1em 8pt 1em;*/\n",
    "}\n",
    "blockquote > pre {\n",
    "    margin-left: 0.5em;\n",
    "}\n",
    "img {\n",
    "    display: block;\n",
    "    margin-left: auto;\n",
    "    margin-right: auto;\n",
    "}\n",
    "</style>\n",
    "\n",
    "<h2 class=\"student-info\">\n",
    "    Andrew Osterhout <br/>\n",
    "    (u1317172)\n",
    "</h2>\n",
    "\n",
    "# Asg-10 focuses on questions graded by the mentioned TAs\n",
    "\n",
    " "
   ]
  },
  {
   "cell_type": "code",
   "execution_count": null,
   "metadata": {},
   "outputs": [],
   "source": [
    "#~~~~~~~~~~~~~~~~~~~~~~~~~~~~~~~~~~~~~~~~~~~~~~~~~~~~~~~\n",
    "import sys\n",
    "\n",
    "# -- Detect if in Own Install or in Colab\n",
    "try:\n",
    "    import google.colab\n",
    "    OWN_INSTALL = False\n",
    "except:\n",
    "    OWN_INSTALL = True\n",
    "    \n",
    "if OWN_INSTALL:\n",
    "    print(\"Own install\")\n",
    "    sys.path[0:0] = ['../../../../..',  '../../../../../3rdparty',\n",
    "                     '../../../..',  '../../../../3rdparty',\n",
    "                     '../../..',     '../../../3rdparty',\n",
    "                     '../..',        '../../3rdparty',\n",
    "                     '..',           '../3rdparty' ]\n",
    "    \n",
    "else: # In colab\n",
    "    ! if [ ! -d Jove ]; then git clone https://github.com/ganeshutah/Jove Jove; fi\n",
    "    sys.path.append('./Jove')\n",
    "    sys.path.append('./Jove/jove')\n",
    "\n",
    "# -- common imports --\n",
    "from jove.PcpJupyterNew import *\n",
    "#~~~~~~~~~~~~~~~~~~~~~~~~~~~~~~~~~~~~~~~~~~~~~~~~~~~~~~~"
   ]
  },
  {
   "cell_type": "markdown",
   "metadata": {},
   "source": [
    "<hr class=\"double-div\"/>"
   ]
  },
  {
   "cell_type": "code",
   "execution_count": null,
   "metadata": {},
   "outputs": [],
   "source": [
    "help(pcp_solve)"
   ]
  },
  {
   "cell_type": "markdown",
   "metadata": {},
   "source": [
    "# (1) LT, 25%:\n",
    " "
   ]
  },
  {
   "cell_type": "markdown",
   "metadata": {},
   "source": [
    "## 1(a): "
   ]
  },
  {
   "cell_type": "code",
   "execution_count": null,
   "metadata": {},
   "outputs": [],
   "source": [
    "# TOol Solution\n"
   ]
  },
  {
   "cell_type": "markdown",
   "metadata": {},
   "source": [
    "## 1(b): "
   ]
  },
  {
   "cell_type": "code",
   "execution_count": null,
   "metadata": {},
   "outputs": [],
   "source": [
    "# Tool solution\n",
    " "
   ]
  },
  {
   "cell_type": "markdown",
   "metadata": {},
   "source": [
    "## 1(c, hand): "
   ]
  },
  {
   "cell_type": "code",
   "execution_count": null,
   "metadata": {},
   "outputs": [],
   "source": [
    "# Solution by hand is 2, 1, 3"
   ]
  },
  {
   "cell_type": "markdown",
   "metadata": {},
   "source": [
    "## 1(c, tool check): "
   ]
  },
  {
   "cell_type": "code",
   "execution_count": null,
   "metadata": {},
   "outputs": [],
   "source": [
    "# Solution by tool for the same\n",
    " "
   ]
  },
  {
   "cell_type": "markdown",
   "metadata": {},
   "source": [
    "## 1(d): "
   ]
  },
  {
   "cell_type": "code",
   "execution_count": null,
   "metadata": {},
   "outputs": [],
   "source": [
    "# Create the tiles separately; easier to change and run that way\n",
    "# Found it hard to create own instances that explode\n",
    "\n",
    "TILES =  [ Your, Tile, List, Here ]\n",
    "pcp_solve( TILES  , OWN_INSTALL)  "
   ]
  },
  {
   "cell_type": "markdown",
   "metadata": {},
   "source": [
    "<hr class=\"double-div\"/>"
   ]
  },
  {
   "cell_type": "markdown",
   "metadata": {},
   "source": [
    "# (2a) AR, 15%:\n",
    " \n",
    " \n",
    "* Suppose there exists a decider $H$ for $Halt_{TM}$. \n",
    "\n",
    "* ... (many steps)\n",
    "\n",
    "* Therefore, we obtain a contradiction under\n",
    "  all cases. \n",
    "  \n",
    "* Thus, $Halt_{TM}$ is undecidable.\n",
    "\n",
    " \n",
    " "
   ]
  },
  {
   "cell_type": "markdown",
   "metadata": {},
   "source": [
    "# (2b) AR, 10%:\n",
    "\n",
    "* The mapping reduction from $A_{TM}$ to $CFL_{TM}$ is to emit this machine M' \n",
    " \n",
    "\n",
    " ...machine M' here...\n",
    " \n",
    "\n",
    "* Suppose M' has a CFL\n",
    " \n",
    "* ...many steps here...\n",
    "  \n",
    "* Thus we have achieved our mapping reduction \n",
    "  - that is, M' has a CFL if and only if M accepts w.\n",
    " \n",
    " "
   ]
  },
  {
   "cell_type": "markdown",
   "metadata": {},
   "source": [
    "<hr class=\"double-div\"/>"
   ]
  },
  {
   "cell_type": "markdown",
   "metadata": {},
   "source": [
    "# (3, XL, SV) 50%:  \n",
    "\n",
    "\n",
    "## 3.a.i - describe $A, B, f$\n",
    "\n",
    "* What is A in this problem ? Describe clearly.\n",
    "\n",
    "* What is B in this problem ? Describe clearly.\n",
    "\n",
    "* What is f in this problem ? Describe clearly.\n",
    "\n",
    "## 3.a.ii - Proof for the $x \\in A  \\Rightarrow  f(x) \\in B$ part\n",
    "\n",
    "* Proof steps - be thorough; it is worth 25 points!\n",
    "\n",
    "* \n",
    "\n",
    "*\n",
    " \n",
    "\n",
    "## 3.b\n",
    " \n",
    "* Proof steps - be thorough; it is worth 25 points!\n",
    "\n",
    "*\n",
    "\n",
    "*\n",
    "\n"
   ]
  },
  {
   "source": [
    "<hr class=\"double-div\"/>"
   ],
   "cell_type": "markdown",
   "metadata": {}
  },
  {
   "cell_type": "markdown",
   "metadata": {},
   "source": [
    "# END\n"
   ]
  }
 ],
 "metadata": {
  "kernelspec": {
   "display_name": "Python 3",
   "language": "python",
   "name": "python3"
  },
  "language_info": {
   "codemirror_mode": {
    "name": "ipython",
    "version": 3
   },
   "file_extension": ".py",
   "mimetype": "text/x-python",
   "name": "python",
   "nbconvert_exporter": "python",
   "pygments_lexer": "ipython3",
   "version": "3.7.3"
  },
  "toc": {
   "colors": {
    "hover_highlight": "#DAA520",
    "running_highlight": "#FF0000",
    "selected_highlight": "#FFD700"
   },
   "moveMenuLeft": true,
   "nav_menu": {
    "height": "121px",
    "width": "252px"
   },
   "navigate_menu": true,
   "number_sections": true,
   "sideBar": true,
   "threshold": 4,
   "toc_cell": false,
   "toc_section_display": "block",
   "toc_window_display": false,
   "widenNotebook": false
  },
  "widgets": {
   "state": {
    "430c92ee02b34ec1912bf03c8de1e6dc": {
     "views": [
      {
       "cell_index": 20
      }
     ]
    }
   },
   "version": "1.2.0"
  }
 },
 "nbformat": 4,
 "nbformat_minor": 2
}