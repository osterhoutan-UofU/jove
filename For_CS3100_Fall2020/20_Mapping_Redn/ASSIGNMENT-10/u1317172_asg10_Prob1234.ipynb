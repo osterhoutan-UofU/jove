{
 "cells": [
  {
   "cell_type": "markdown",
   "metadata": {},
   "source": [
    "<style>\n",
    "h1 {\n",
    "    border-bottom: 2px solid;\n",
    "}\n",
    "h2 {\n",
    "    border-bottom: 1px solid;\n",
    "}\n",
    "/* hr {\n",
    "    border-top: 2px solid;\n",
    "    border-bottom: none;\n",
    "} */\n",
    ".student-info {\n",
    "    text-align: right;\n",
    "    border-bottom: none;\n",
    "}\n",
    "hr.double-div {\n",
    "    border-top: 2px solid;\n",
    "    border-bottom: 2px solid;\n",
    "    border-left: none;\n",
    "    border-right: none;\n",
    "    height: 10pt;\n",
    "    /* border-radius: 1px; */\n",
    "}\n",
    "blockquote {\n",
    "    border-left: 2px solid;\n",
    "    /* background-color: #00000488; */\n",
    "    /* filter: brightness(80%); */\n",
    "    margin-left: 2em;\n",
    "    margin-right: 2em;\n",
    "    padding: 1px 2px 1px 1em;\n",
    "}\n",
    "pre {\n",
    "    border: 1px solid #88888888;\n",
    "    margin-left: 1em;\n",
    "    margin-right: 1em;\n",
    "    padding: 0.5em;\n",
    "    /*padding: 8pt 1em 8pt 1em;*/\n",
    "}\n",
    "blockquote > pre {\n",
    "    margin-left: 0.5em;\n",
    "}\n",
    "img {\n",
    "    display: block;\n",
    "    margin-left: auto;\n",
    "    margin-right: auto;\n",
    "}\n",
    "</style>\n",
    "\n",
    "<h2 class=\"student-info\">\n",
    "    Andrew Osterhout <br/>\n",
    "    (u1317172)\n",
    "</h2>\n",
    "\n",
    "# Asg-10 focuses on questions graded by the mentioned TAs\n",
    "\n",
    " "
   ]
  },
  {
   "cell_type": "code",
   "execution_count": 1,
   "metadata": {},
   "outputs": [
    {
     "output_type": "stream",
     "name": "stdout",
     "text": [
      "Own install\n"
     ]
    }
   ],
   "source": [
    "#~~~~~~~~~~~~~~~~~~~~~~~~~~~~~~~~~~~~~~~~~~~~~~~~~~~~~~~\n",
    "import sys\n",
    "\n",
    "# -- Detect if in Own Install or in Colab\n",
    "try:\n",
    "    import google.colab\n",
    "    OWN_INSTALL = False\n",
    "except:\n",
    "    OWN_INSTALL = True\n",
    "    \n",
    "if OWN_INSTALL:\n",
    "    print(\"Own install\")\n",
    "    sys.path[0:0] = ['../../../../..',  '../../../../../3rdparty',\n",
    "                     '../../../..',  '../../../../3rdparty',\n",
    "                     '../../..',     '../../../3rdparty',\n",
    "                     '../..',        '../../3rdparty',\n",
    "                     '..',           '../3rdparty' ]\n",
    "    \n",
    "else: # In colab\n",
    "    ! if [ ! -d Jove ]; then git clone https://github.com/ganeshutah/Jove Jove; fi\n",
    "    sys.path.append('./Jove')\n",
    "    sys.path.append('./Jove/jove')\n",
    "\n",
    "# -- common imports --\n",
    "from jove.PcpJupyterNew import *\n",
    "#~~~~~~~~~~~~~~~~~~~~~~~~~~~~~~~~~~~~~~~~~~~~~~~~~~~~~~~"
   ]
  },
  {
   "cell_type": "code",
   "execution_count": 2,
   "metadata": {},
   "outputs": [
    {
     "output_type": "execute_result",
     "data": {
      "text/plain": [
       "True"
      ]
     },
     "metadata": {},
     "execution_count": 2
    }
   ],
   "source": [
    "# Test and encure symlink is created successfully\n",
    "os.path.isfile(\"./pcp.exe\")"
   ]
  },
  {
   "cell_type": "markdown",
   "metadata": {},
   "source": [
    "<hr class=\"double-div\"/>"
   ]
  },
  {
   "cell_type": "code",
   "execution_count": 3,
   "metadata": {},
   "outputs": [
    {
     "output_type": "stream",
     "name": "stdout",
     "text": [
      "Help on function pcp_solve in module jove.PcpJupyterNew:\n\npcp_solve(pcp_pairs, OWN_INSTALL=False, run=None, ni=False, di=None, depth=None, tiles_per_row=15)\n    Forward user input to a file, which we then use Ling Zhao's pcp solver to solve.\n    :param OWN_INSTALL: if True, running on one's own machine; default is Colab (so false)\n    :param pcp_pairs: List of tuple pairs representing pcp 'tiles'\n    :param run: Number of runs to perform.\n    :param ni: No iterative search.\n    :param di: Depth increment.\n    :param depth: Search depth.\n    :param tiles_per_row: Number of tiles to show in single row together (useful for creating more meaningful output)\n\n"
     ]
    }
   ],
   "source": [
    "help(pcp_solve)"
   ]
  },
  {
   "cell_type": "markdown",
   "metadata": {},
   "source": [
    "# (1) LT, 25%:\n",
    " "
   ]
  },
  {
   "cell_type": "markdown",
   "metadata": {},
   "source": [
    "## 1(a): "
   ]
  },
  {
   "cell_type": "code",
   "execution_count": 4,
   "metadata": {},
   "outputs": [
    {
     "output_type": "stream",
     "name": "stdout",
     "text": [
      " Running the command ... :  ['pcp.exe', '-i', 'temp.txt']\n",
      "Solution(s) to PCP instance are below. Note: the tiles may be reversed,\n",
      "  as the solver may sometimes present the solution in reverse.:\n",
      "\n",
      "Solution 1\n",
      "Length:  75\n",
      "[3, 2, 2, 3, 3, 1, 3, 2, 2, 2, 1, 3, 3, 3, 2, 1, 3, 2, 2, 1, 3, 2, 1, 3, 3, 2, 1, 3, 2, 3, 2, 2, 1, 3, 2, 1, 3, 3, 2, 2, 3, 3, 2, 1, 3, 2, 1, 1, 3, 3, 1, 1, 3, 2, 1, 1, 1, 1, 2, 2, 1, 1, 2, 2, 3, 1, 3, 3, 1, 2, 1, 1, 2, 1, 1] \n",
      "\n",
      "0   1   1   0   0   011 0   1   1   1   011 0   0   0   1   \n",
      "011 0   0   011 011 1   011 0   0   0   1   011 011 011 0   \n",
      "\n",
      "011 0   1   1   011 0   1   011 0   0   1   011 0   1   0   \n",
      "1   011 0   0   1   011 0   1   011 011 0   1   011 0   011 \n",
      "\n",
      "1   1   011 0   1   011 0   0   1   1   0   0   1   011 0   \n",
      "0   0   1   011 0   1   011 011 0   0   011 011 0   1   011 \n",
      "\n",
      "1   011 011 0   0   011 011 0   1   011 011 011 011 1   1   \n",
      "0   1   1   011 011 1   1   011 0   1   1   1   1   0   0   \n",
      "\n",
      "011 011 1   1   0   011 0   0   011 1   011 011 1   011 011 \n",
      "1   1   0   0   011 1   011 011 1   0   1   1   0   1   1   \n",
      "\n",
      "\n",
      "\n",
      "\n",
      "\n",
      "Solution 2\n",
      "Length:  75\n",
      "[3, 2, 2, 3, 3, 1, 3, 2, 2, 2, 1, 3, 3, 3, 2, 3, 2, 2, 1, 1, 3, 1, 3, 1, 1, 2, 3, 2, 2, 2, 2, 3, 1, 3, 3, 3, 3, 1, 2, 1, 3, 2, 2, 1, 1, 2, 3, 2, 1, 3, 1, 3, 3, 2, 2, 3, 2, 1, 2, 1, 1, 3, 3, 1, 3, 2, 1, 1, 1, 2, 1, 1, 2, 1, 1] \n",
      "\n",
      "0   1   1   0   0   011 0   1   1   1   011 0   0   0   1   \n",
      "011 0   0   011 011 1   011 0   0   0   1   011 011 011 0   \n",
      "\n",
      "0   1   1   011 011 0   011 0   011 011 1   0   1   1   1   \n",
      "011 0   0   1   1   011 1   011 1   1   0   011 0   0   0   \n",
      "\n",
      "1   0   011 0   0   0   0   011 1   011 0   1   1   011 011 \n",
      "0   011 1   011 011 011 011 1   0   1   011 0   0   1   1   \n",
      "\n",
      "1   0   1   011 0   011 0   0   1   1   0   1   011 1   011 \n",
      "0   011 0   1   011 1   011 011 0   0   011 0   1   0   1   \n",
      "\n",
      "011 0   0   011 0   1   011 011 011 1   011 011 1   011 011 \n",
      "1   011 011 1   011 0   1   1   1   0   1   1   0   1   1   \n",
      "\n",
      "\n",
      "\n",
      "\n",
      "\n"
     ]
    }
   ],
   "source": [
    "# TOol Solution\n",
    "pcp_solve([('110', '1'), ('1', '0'), ('0', '110')], OWN_INSTALL)"
   ]
  },
  {
   "source": [
    "> $$ 75 $$"
   ],
   "cell_type": "markdown",
   "metadata": {}
  },
  {
   "cell_type": "markdown",
   "metadata": {},
   "source": [
    "## 1(b): "
   ]
  },
  {
   "cell_type": "code",
   "execution_count": 5,
   "metadata": {},
   "outputs": [
    {
     "output_type": "stream",
     "name": "stdout",
     "text": [
      " Running the command ... :  ['pcp.exe', '-i', 'temp.txt']\nSolution(s) to PCP instance are below. Note: the tiles may be reversed,\n  as the solver may sometimes present the solution in reverse.:\n\nSolution 1\nLength:  5\n[3, 2, 2, 4, 1] \n\n0   1   1   0   011 \n011 0   0   1   1   \n\n\n"
     ]
    }
   ],
   "source": [
    "# Tool solution\n",
    "pcp_solve([('110', '1'), ('1', '0'), ('0', '110'), ('0', '1')], OWN_INSTALL)"
   ]
  },
  {
   "source": [
    "> $$ 5 $$"
   ],
   "cell_type": "markdown",
   "metadata": {}
  },
  {
   "cell_type": "markdown",
   "metadata": {},
   "source": [
    "## 1(c, hand): \n",
    "\n",
    "> ### The Tiles:\n",
    "> ```\n",
    ">   [ 1 ,  2  ,  3  ]\n",
    ">   | 1 | 101 |  0  |\n",
    ">   | 0 |  1  | 110 |\n",
    "> ```\n",
    "> ### Solution By Hand:\n",
    "> ```\n",
    ">   [  2  , 1 ,  3  ]\n",
    ">   | 101 | 1 |  0  |\n",
    ">   |  1  | 0 | 110 |\n",
    "> ```"
   ]
  },
  {
   "cell_type": "markdown",
   "metadata": {},
   "source": [
    "## 1(c, tool check): "
   ]
  },
  {
   "cell_type": "code",
   "execution_count": 6,
   "metadata": {},
   "outputs": [
    {
     "output_type": "stream",
     "name": "stdout",
     "text": [
      " Running the command ... :  ['pcp.exe', '-i', 'temp.txt']\nSolution(s) to PCP instance are below. Note: the tiles may be reversed,\n  as the solver may sometimes present the solution in reverse.:\n\nSolution 1\nLength:  3\n[3, 1, 2] \n\n0   1   101 \n011 0   1   \n\n\n"
     ]
    }
   ],
   "source": [
    "# Solution by tool for the same\n",
    "pcp_solve([('1', '0'), ('101', '1'), ('0', '110')], OWN_INSTALL)"
   ]
  },
  {
   "source": [
    "> $$ 3 $$"
   ],
   "cell_type": "markdown",
   "metadata": {}
  },
  {
   "cell_type": "markdown",
   "metadata": {},
   "source": [
    "## 1(d): "
   ]
  },
  {
   "cell_type": "code",
   "execution_count": 7,
   "metadata": {},
   "outputs": [
    {
     "output_type": "stream",
     "name": "stdout",
     "text": [
      " Running the command ... :  ['pcp.exe', '-i', 'temp.txt']\n",
      "Solution(s) to PCP instance are below. Note: the tiles may be reversed,\n",
      "  as the solver may sometimes present the solution in reverse.:\n",
      "\n",
      "Solution 1\n",
      "Length:  75\n",
      "[3, 2, 2, 3, 3, 1, 3, 2, 2, 2, 1, 3, 3, 3, 2, 1, 3, 2, 2, 1, 3, 2, 1, 3, 3, 2, 1, 3, 2, 3, 2, 2, 1, 3, 2, 1, 3, 3, 2, 2, 3, 3, 2, 1, 3, 2, 1, 1, 3, 3, 1, 1, 3, 2, 1, 1, 1, 1, 2, 2, 1, 1, 2, 2, 3, 1, 3, 3, 1, 2, 1, 1, 2, 1, 1] \n",
      "\n",
      "1   0   0   1   1   100 1   0   0   0   100 1   1   1   0   \n",
      "100 1   1   100 100 0   100 1   1   1   0   100 100 100 1   \n",
      "\n",
      "100 1   0   0   100 1   0   100 1   1   0   100 1   0   1   \n",
      "0   100 1   1   0   100 1   0   100 100 1   0   100 1   100 \n",
      "\n",
      "0   0   100 1   0   100 1   1   0   0   1   1   0   100 1   \n",
      "1   1   0   100 1   0   100 100 1   1   100 100 1   0   100 \n",
      "\n",
      "0   100 100 1   1   100 100 1   0   100 100 100 100 0   0   \n",
      "1   0   0   100 100 0   0   100 1   0   0   0   0   1   1   \n",
      "\n",
      "100 100 0   0   1   100 1   1   100 0   100 100 0   100 100 \n",
      "0   0   1   1   100 0   100 100 0   1   0   0   1   0   0   \n",
      "\n",
      "\n",
      "\n",
      "\n",
      "\n",
      "Solution 2\n",
      "Length:  75\n",
      "[3, 2, 2, 3, 3, 1, 3, 2, 2, 2, 1, 3, 3, 3, 2, 3, 2, 2, 1, 1, 3, 1, 3, 1, 1, 2, 3, 2, 2, 2, 2, 3, 1, 3, 3, 3, 3, 1, 2, 1, 3, 2, 2, 1, 1, 2, 3, 2, 1, 3, 1, 3, 3, 2, 2, 3, 2, 1, 2, 1, 1, 3, 3, 1, 3, 2, 1, 1, 1, 2, 1, 1, 2, 1, 1] \n",
      "\n",
      "1   0   0   1   1   100 1   0   0   0   100 1   1   1   0   \n",
      "100 1   1   100 100 0   100 1   1   1   0   100 100 100 1   \n",
      "\n",
      "1   0   0   100 100 1   100 1   100 100 0   1   0   0   0   \n",
      "100 1   1   0   0   100 0   100 0   0   1   100 1   1   1   \n",
      "\n",
      "0   1   100 1   1   1   1   100 0   100 1   0   0   100 100 \n",
      "1   100 0   100 100 100 100 0   1   0   100 1   1   0   0   \n",
      "\n",
      "0   1   0   100 1   100 1   1   0   0   1   0   100 0   100 \n",
      "1   100 1   0   100 0   100 100 1   1   100 1   0   1   0   \n",
      "\n",
      "100 1   1   100 1   0   100 100 100 0   100 100 0   100 100 \n",
      "0   100 100 0   100 1   0   0   0   1   0   0   1   0   0   \n",
      "\n",
      "\n",
      "\n",
      "\n",
      "\n"
     ]
    }
   ],
   "source": [
    "# Create the tiles separately; easier to change and run that way\n",
    "# Found it hard to create own instances that explode   \n",
    "\n",
    "TILES =  [ ('001', '0'), ('0', '1'), ('1', '001') ]\n",
    "pcp_solve( TILES  , OWN_INSTALL)  "
   ]
  },
  {
   "cell_type": "markdown",
   "metadata": {},
   "source": [
    "<hr class=\"double-div\"/>"
   ]
  },
  {
   "cell_type": "markdown",
   "metadata": {},
   "source": [
    "# (2a) AR, 15%:\n",
    " \n",
    " \n",
    "> - Suppose there exists a decider $H$ for $Halt_{TM}$. \n",
    ">   - $H$ expects to be given a Turing Machine $M$ and a string $w$ (_i.e._ $\\langle M,\\, w \\rangle$).\n",
    "> - Build a Program $D$ as follows:\n",
    ">   1. $D$ takes a single argument $M$.\n",
    ">   0. As its first step $D$ invokes $A$ on $\\langle M,\\, M \\rangle$.\n",
    ">   0. If $H\\left(\\langle M,\\, M \\rangle\\right)$ rejects $\\longrightarrow$ $D\\left(M\\right)$ accepts.\n",
    ">   0. If $H\\left(\\langle M,\\, M \\rangle\\right)$ loops $\\longrightarrow$ $D\\left(M\\right)$ rejects.\n",
    "> - Now let's determine what $D\\left(\\langle D\\rangle\\right)$ results in:\n",
    ">   - $D\\left(\\langle D\\rangle\\right)$ $\\equiv$ $H\\left(\\langle D,\\, D\\rangle\\right)$\n",
    ">   - Suppose $H\\left(\\langle D,\\, D\\rangle\\right)$ rejects $\\longrightarrow$ \n",
    ">      $D\\left(\\langle D\\rangle\\right)$ accepts.\n",
    ">     - However $H$ is a decider for $Halt_{TM}$, \n",
    ">        $\\therefore$ the fact that $H\\left(\\langle D,\\, D\\rangle\\right)$ rejects,\n",
    ">        means that $D$ is a turring machine that fails-to-halt/loops on $\\langle D\\rangle$.\n",
    ">     - _i.e._ $D\\left(\\langle D\\rangle\\right)$ rejects or loops\n",
    ">     - Which is a contradiction.\n",
    ">   - Suppose $H\\left(\\langle D,\\, D\\rangle\\right)$ accepts $\\longrightarrow$ \n",
    ">      $D\\left(\\langle D\\rangle\\right)$ rejects.\n",
    ">     - However $H$ is a decider for $Halt_{TM}$, \n",
    ">        $\\therefore$ the fact that $H\\left(\\langle D,\\, D\\rangle\\right)$ rejects,\n",
    ">        means that $D$ is a turring machine that halts on $\\langle D\\rangle$.\n",
    ">     - _i.e._ $D\\left(\\langle D\\rangle\\right)$ accepts\n",
    ">     - Which is also a contradiction.\n",
    "> - Therefore, we obtain a contradiction under all cases. \n",
    "> - Thus, $Halt_{TM}$ is undecidable.\n",
    " "
   ]
  },
  {
   "cell_type": "markdown",
   "metadata": {},
   "source": [
    "# (2b) AR, 10%:\n",
    "\n",
    "> - The mapping reduction from $A_{TM}$ to $CFL_{TM}$ is to emit this machine $M'$ \n",
    ">     ```\n",
    ">       M'(x) {\n",
    ">           if x is of the form \"0^n 1^n 0^n\" then goto accept_M' ;\n",
    ">           Run M on w ;\n",
    ">           If M accepts w, goto accept_M' ;\n",
    ">           If M rejects w, goto reject_M' ; }\n",
    ">     ```\n",
    "> \n",
    "> - Suppose $M'$ has a CFL.\n",
    "> - Then given a decider for $CFL_{TM}$ ($Decider_{CFL_{TM}}$):\n",
    ">   - $Decider_{CFL_{TM}}$ will accept $M'$.\n",
    ">     - Therefore we know that:\n",
    ">         $$\n",
    ">           M'\\in CFL_{TM}\n",
    ">         $$\n",
    ">\n",
    "> - Therefore if $f(x)=M'$ is a true maping reduction between $A_{TM}$ and $CFL_{TM}$,\n",
    ">    then:\n",
    ">     $$ \n",
    ">       f(x)=M' \\in CFL_{TM} \\;\\forall x\\in L_x \\\\\n",
    ">         % \\{ x \\::\\: x \\text{ is a string representation of } \\langle M,\\,w\\rangle\\in A_{TM} \\} \\\\\n",
    ">               \\land \\\\\n",
    ">       f(x)=M' \\notin CFL_{TM} \\;\\forall x\\in \\overline{L_x}\n",
    ">         % \\{ x \\::\\: x \\text{ is a string representation of } \\langle M,\\,w\\rangle\\notin A_{TM} \\}\n",
    ">     $$\n",
    ">    Where $L_x$ is defined as:\n",
    ">     $$ \n",
    ">       L_x = \\{ x \\::\\: x \\text{ is a string representation of } \\langle M,\\,w\\rangle\\in A_{TM} \\}\n",
    ">     $$\n",
    ">    - $L_x$ is known to be regular of the form $\\Sigma^*$\n",
    ">\n",
    "> - We can use $Decider_{CFL_{TM}}(M')$ to determine this for all $M'$.\n",
    ">   - This would be exhasive to acctualy do so we just need to prove that it is the case.\n",
    ">\n",
    "> - To do this we will determine all the differnet clasification of languages that $M'$ created by $f$ \n",
    ">    can have $\\forall x\\in\\Sigma^*$ can take, by examining the algorithm outlined above.\n",
    ">\n",
    ">   - Given any $x\\in\\Sigma^*$ representing $\\langle M,\\,w\\rangle$,\n",
    ">      $M'$ will only accept $x$ if $x\\in\\{0^n1^n0^n\\::\\:n\\geq0\\}$ or if $M$ accepts $w$\n",
    ">      (_i.e._ $x\\in L_x$). \n",
    ">     - This means that $M'$ will never accept any $x$ representing $\\langle M,\\,w\\rangle$\n",
    ">        where $M$ rejects or loops on $w$, unless it takes the form $0^n1^n0^n$.\n",
    ">\n",
    ">   - From this reasoning we get the following logic:\n",
    ">     $$\n",
    ">       Decider_{CFL_{TM}}(M')  = \\left\\{ \\begin{array}{rcl} ~\\\\\n",
    ">           \\text{accepts}  & \\Rightarrow & L(M') \\text{ is Context-Free} \\\\\n",
    ">                           & \\Rightarrow & \\text{Language is } \\Sigma^* \\\\\n",
    ">                           & \\Rightarrow & L(M') \\text{ is also Regular} \\\\\n",
    ">                           & \\Rightarrow & M \\text{ accepts } w \\\\\n",
    ">                       \\\\\n",
    ">           \\text{rejects}  & \\Rightarrow & L(M') \\text{ is not Context-Free} \\\\\n",
    ">                           & \\Rightarrow & \\text{Language is } 0^n1^n0^n \\\\\n",
    ">                           & \\Rightarrow & L(M') \\text{ is not Context-Sensitive} \\\\\n",
    ">                           & \\Rightarrow & M \\text{ does }\\textbf{not}\\text{ accept } w\n",
    ">       \\end{array} \\right.\n",
    ">     $$\n",
    ">\n",
    "> - Thus we have achieved our mapping reduction \n",
    ">   - That is, $M'$ has a CFL if and only if $M$ accepts $w$.\n",
    "\n",
    "\n",
    "<!-- $$\n",
    ">       Decider_{CFL_{TM}}(M')  = \\left\\{ \\begin{array}{rcl} ~\\\\\n",
    ">           \\text{accepts}    & \\Rightarrow & L(M') \\text{ is Context-Free} \\\\\n",
    ">                             & \\Rightarrow & \\text{Language is } \\Sigma^* \\\\\n",
    ">                             & \\Rightarrow & M \\text{ accepts } w \\\\\n",
    ">                       \\\\\n",
    ">           \\text{rejects}    & \\Rightarrow & L(M') \\text{ is not Context-Free} \\\\\n",
    ">                             & \\Rightarrow & \\text{Language is } 0^n1^n0^n \\\\\n",
    ">                             & \\Rightarrow & M \\text{ does not accept } w\n",
    ">       \\end{array} \\right.\n",
    ">     $$\n",
    "-->\n",
    "\n",
    "<!--\n",
    "> - We can decide if a $f(x)$ is truly a maping reduction from $A_{TM}$ to $CFL_{TM}$.\n",
    ">   - Which is true when for all $\\langle M,\\, w\\rangle\\in A_{TM}$ have an $M'$ gained thorough $f(x)$,\n",
    ">      where $x$ is a string represenation of $\\langle M,\\, w\\rangle$,\n",
    ">      that are in $CFL_{TM}$, aka who's language they accept is a _CFL_.\n",
    "> - In the defintion of $M'$ we can see that it's lanuage is defined such that:\n",
    ">   - It will always accept strings of the form $0^n1^n0^n$ by themselves are a Contextless Language.\n",
    ">   - Therefore $L(M')$ contain all strings $x$ resulting from $\\langle M,\\, w\\rangle$ \n",
    ">      that take the form of $0^n1^n0^n$\n",
    ">      (_i.e._ $x\\in\\{0^n1^n0^n \\::\\: n\\geq0\\}$)\n",
    ">       $$\n",
    ">         L(M') \\:\\supseteq\\: \\{0^n1^n0^n \\::\\: n\\geq0\\}\n",
    ">       $$\n",
    ">   - It will also accept if $M$ accepts $w$ reagardless of if $x$ is of the form $0^n1^n0^n$ or not.\n",
    ">      (_i.e._ $M'$ accepts if $\\langle M,\\, w\\rangle\\in A_{TM}$).\n",
    ">     - Therefore $L(M')$ contain all strings $x$ that represent \n",
    ">        $\\langle M,\\, w\\rangle\\in A_{TM}$, which is known to be \"all else\" _i.e._ $\\Sigma^*$.\n",
    ">         $$\n",
    ">           L(M') \\:\\supseteq\\: \\Sigma^*\n",
    ">         $$  \n",
    ">     - This means that $L(M')$ is Regular, and all CFL's are regular languages.\n",
    ">       - $\\therefore$ $L(M')$ is also Context Free.\n",
    ">   - It will reject if $M$ rejects $w$ unless its $x$ is of the form $0^n1^n0^n$\n",
    ">      (_i.e._ $M'$ rejects if $\\langle M,\\, w\\rangle\\notin A_{TM}$)\n",
    ">     - This means that $\\langle M,\\, w\\rangle\\notin A_{TM}$ then \n",
    ">        $L(M')$ only containes strings of the form $0^n1^n0^n$.\n",
    ">         $$\n",
    ">           L(M') \\:\\supseteq\\: \\{0^n1^n0^n \\::\\: n\\geq0\\}\n",
    ">         $$  \n",
    ">     - This means that $L(M')$ is contextual (CL), and not all CLs are CFLs.\n",
    ">       - $\\therefore$ $L(M')$ is **not** a CFL.\n",
    "> - Therefore we know that any $x$ representing a $\\langle M,\\, w\\rangle$ where $M$ rejects $w$,\n",
    ">     will be rejected and not be part of $L(M')$.\n",
    "  -->\n",
    " \n",
    " "
   ]
  },
  {
   "cell_type": "markdown",
   "metadata": {},
   "source": [
    "<hr class=\"double-div\"/>"
   ]
  },
  {
   "cell_type": "markdown",
   "metadata": {},
   "source": [
    "# (3, XL, SV) 50%:  \n",
    "\n",
    "\n",
    "## 3.a.i - Describe $\\mathbf{A},\\, \\mathbf{B},\\, f$:\n",
    "\n",
    "- What is $\\mathbf{A}$ in this problem? Describe clearly.\n",
    "    > A language known to be undecidable.\n",
    "    > $$ \\mathbf{A} \\subseteq \\Sigma^* $$\n",
    "    > <br/>\n",
    "    > Which for this problem would be:\n",
    "    > $$ \n",
    "    >   PCP = \\left\\{ \n",
    "    >     S \n",
    "    >       \\;:\\; \n",
    "    >     S \\text{ is a finite sequience of elements over } \\mathcal{T} \\text{ that has a solution}\n",
    "    >   \\right\\} \n",
    "    > $$\n",
    "    > Where $\\mathcal{T}$ is the _tile alphabet_ defined as:\n",
    "    > $$\n",
    "    >   \\mathcal{T} \\subseteq \\Sigma^+ \\times \\Sigma^+  \\\\\n",
    "    >     \\land \\\\\n",
    "    >   |\\Sigma|>1\n",
    "    > $$\n",
    "\n",
    "- What is $\\mathbf{B}$ in this problem? Describe clearly.\n",
    "    > A second list of words over a finite alphabet $\\Sigma$.\n",
    "    > $$ \\mathbf{B} \\subseteq \\Sigma^* $$\n",
    "    > <br/>\n",
    "    > Which for this problem would be:\n",
    "    > $$ \n",
    "    >   Amb = \\left\\{ \n",
    "    >     \\langle G\\rangle \n",
    "    >       \\;:\\; \n",
    "    >     G \\text{ is a } CFG \\text{ that has } \\geq1 \\text{ parse for some } w\\in\\Sigma^* \n",
    "    >   \\right\\} \n",
    "    > $$\n",
    "\n",
    "- What is $f$ in this problem? Describe clearly.\n",
    "    > A _computable_ function, that serves as a maping reduction.\n",
    "    > $$ f: \\Sigma^* \\rightarrow \\Sigma^* $$\n",
    "    > So that all strings ($x$) in $\\mathbf{A}$ have a corosponding string $f(x)$ in $\\mathbf{B}$,\n",
    "    >  and all strings ($x$) not in $\\mathbf{A}$ have no corospondign string $f(x)$ in $\\mathbf{B}$.\n",
    "    > $$ \n",
    "    >   \\left( x\\in\\mathbf{A} \\leftrightarrow f(x)\\in\\mathbf{B} \\right)\\: \\forall x\\in\\Sigma^* \n",
    "    > $$\n",
    "    > \n",
    "    > Which for this problem is function that generates _CFG_ $G$,\n",
    "    >  based on a string $S$ that represents a set of tiles from the PCP problem,\n",
    "    >  which is ambigiouse if and only if those tiles can produce a solution to the PCP problem.\n",
    "    > $$\n",
    "    >   \\left( S\\in PCP \\:\\leftrightarrow\\: f(S)=G\\in Amb \\right)\\: \\forall S\\in\\mathcal{T}^*\n",
    "    > $$\n",
    "    >\n",
    "    > In this case the framework for the _CFG_ $G$ that is constructed by $f$ \n",
    "    >  given a string $x$ that represents a finite sequince of elements over $\\mathcal{T}$ ($S$):\n",
    "    > $$\n",
    "    >   f(x) = G = \\left(\\begin{array}{rl}  ~\\\\\n",
    "    >       \\mathbf{N}:         &   \\{\\mathcal{S},\\, \\mathcal{S}_A,\\, \\mathcal{S}_B\\},    \\\\\n",
    "    >       \\mathbf{\\Sigma}:    &   \\Sigma\\cup\\{a_1,\\, \\dots,\\, a_n\\},  \\\\[2pt]\n",
    "    >       \\mathbf{P}:         &   \\left\\{\\begin{array}{rcll}\n",
    "    >                                   \\mathcal{S}     & \\rightarrow   \n",
    "    >                                                   & \\mathcal{S}_A \\:|\\: \\mathcal{S}_B\n",
    "    >                                                       &   \\\\\n",
    "    >                                   \\mathcal{S}_A   & \\rightarrow\n",
    "    >                                                   & w_i\\mathcal{S}_Aa_i \\:|\\: w_ia_i\n",
    "    >                                                       & \\forall (i\\leq n)\\in\\mathbb{N}  \\\\\n",
    "    >                                   \\mathcal{S}_B   & \\rightarrow\n",
    "    >                                                   & x_i\\mathcal{S}_Ba_i \\:|\\: x_ia_i\n",
    "    >                                                       & \\forall (i\\leq n)\\in\\mathbb{N}  \\\\\n",
    "    >                               \\end{array}\\right\\},\\\\[2pt]\n",
    "    >       \\mathbf{S}:         &   \\mathcal{S}     \\\\[-8pt]~\n",
    "    >   \\end{array}\\right)\n",
    "    > $$\n",
    "    > Where $A$ and $B$ are defined as in the question promt,\n",
    "    >  meaning that $A=w_1,\\,...,\\,w_n$ is a list of strings $S\\in PCP$ \n",
    "    >  that represent one side of the tiles, in the order they appear in and\n",
    "    >  $B=x_1,\\,...,\\,x_n$ represents the same but for other side of the tiles.\n",
    "    > Additionaly $a_1,\\,...,\\,a_n$ is a list of unique characters/symbols,\n",
    "    >  that serve as id markers of sorts for identifying the order of the tiles.\n",
    "    >\n",
    "    > Finaly the _CFG_ $G$ will be run on a string $s$ that represents the concatination of \n",
    "    >  all of the strings in $A$ followed by all of the strings in $a_1,\\,...,\\,a_n$\n",
    "    >  _(**Please Note:** this could also be done with the concatination of\n",
    "    >   $B$ followed by all of the strings in $a_1,\\,...,\\,a_n$, and it would be functionaly the same)_.\n",
    "    > This means that the _teminal alphabet_ of $G$ ($\\mathbf{\\Sigma}$) must be the union of $\\Sigma$ \n",
    "    >  as defined in the defiition of the _tile alphabet_ ($\\mathcal{T}$).\n",
    "    >\n",
    "    > All this means that $G$ will accept any string that represent any concatination of the\n",
    "    >  strings that make up the top or bottom of the tiles in a PCP problem, \n",
    "    >  repeats allowed & order is irelivant,\n",
    "    >  concatinated with a string of symbols from $a_1,\\,...,\\,a_n$,\n",
    "    >  that represent the order of the tile strings concatinated together before, \n",
    "    >  _**but in reverse order**_.\n",
    "\n",
    "<br/>\n",
    "\n",
    "## 3.a.ii - Proof for the $x \\in \\mathbf{A}  \\Rightarrow  f(x) \\in \\mathbf{B}$ part:\n",
    "\n",
    "> - Suppose $S\\in PCP$ (_aka_ $x\\in\\mathbf{A}$)\n",
    "> - Then $f(S)=G$ such that $A$ and $B$ are defined as the top and bottom of the tiles\n",
    ">    in a solution to the PCP problem.\n",
    ">   - Meaning that the concatination of the strings in $A$ is equal the same as the\n",
    ">      the concatination of the strings in $B$.\n",
    "> - Therefore, as defined/explained in the section on $f$ above, \n",
    ">    $G$ will accept any string $s$ that represents a valid concatination of the strings in $A$,\n",
    ">    followed by the concatination of the symbols from $a_1,\\,...,\\,a_n$ that correctly\n",
    ">    match the order of tiles that are nessisary to generate the aformentioned string.\n",
    "> - However if $G$ was generated from a valid solution $S\\in PCP$ (_aka_ what we are assumeing),\n",
    ">    then there exists by definition the definition of a solution to the PCP problem\n",
    ">    a string that will have two possible parses to be accepted by $G$\n",
    ">    (_aka_ $G$ will be ambiguiouse).\n",
    ">   - We know this because the constant structure of $G$, \n",
    ">      no matter what is fed into $f$,\n",
    ">      is defined such that it will try and parse it in terms of $A$ or $B$\n",
    ">      (_aka_ in terms of the tops or bottoms of the tiles),\n",
    ">   - But the solution to a PCP problem is such that the string resulting form both \n",
    ">      the tops of the tiles and the bottoms of the tiles will be the same when placed\n",
    ">      in a certain order with repeats.\n",
    ">   - Therefore, if $G$ is constructed from a set of tiles in $PCP$ \n",
    ">      (_aka_ sets of tiles that have a solution to the PCP problem, _i.e._ $S$),\n",
    ">      then $G$ will by definition have a possible parse from both the $\\mathcal{S}_A$\n",
    ">      $\\mathcal{S}_B$ route that will both be accepted for any string that \n",
    ">      represents a solution to the PCP problem with the tiles $S$ used to generate $G$.\n",
    ">     - Since the solution string would represent the resulting string and the order of tiles\n",
    ">        for both top and bottom, the parse atempt generated by the $\\mathcal{S}_A$ or $\\mathcal{S}_B$\n",
    ">        possibility branches would not terminate, since both the top and the bottom conncatinate\n",
    ">        in the same order to get the string represented in $s$.\n",
    "> - Therefore, $G$ must be an ambigiouse grammar (inherent in the definition).\n",
    ">     $$ G\\in Amb \\\\ \\therefore\\; f(x)\\in \\mathbf{B} $$\n",
    "> - This proves:\n",
    ">     $$ S \\in PCP  \\Rightarrow  f(S)=G \\in Amb $$\n",
    "> - _aka_\n",
    ">     $$ x \\in \\mathbf{A}  \\Rightarrow  f(x) \\in \\mathbf{B} $$\n",
    "\n",
    " \n",
    "<br/>\n",
    "\n",
    "## 3.b - Proof for the $x \\notin \\mathbf{A} \\Rightarrow f(x) \\notin \\mathbf{B}$ part:\n",
    " \n",
    "> - Suppose $S\\notin PCP$ (_aka_ $x\\notin\\mathbf{A}$)\n",
    "> - Then $f(S)=G$ such that $A$ and $B$ are defined as the top and bottom of the tiles\n",
    ">    in a solution to the PCP problem.\n",
    ">   - Meaning that the concatination of the strings in $A$ is equal the same as the\n",
    ">      the concatination of the strings in $B$.\n",
    "> - Therefore, as defined/explained in the section on $f$ above, \n",
    ">    $G$ will accept any string $s$ that represents a valid concatination of the strings in $A$,\n",
    ">    followed by the concatination of the symbols from $a_1,\\,...,\\,a_n$ that correctly\n",
    ">    match the order of tiles that are nessisary to generate the aformentioned string.\n",
    "> - As discussed/explained/prooved in the previouse answer we know that a possible way for $G$\n",
    ">    to be generated from $f$ such that it is ambiguiouse is only possible when $G$ is generated from\n",
    ">    an $S\\in PCP$ and we are defining this part of the proof to exclude that as an option.\n",
    "> - Therefore we just need to proove that there is no other way for $f$ to generate an ambigiouse $G$\n",
    ">    other than what was defined previously to proove that $S \\notin PCP\\Rightarrow f(S)=G \\notin Amb$.\n",
    ">   - Due to the preceeding logic any possible ambiguity in $G$ will have to come from some \n",
    ">      product rule other than $\\mathcal{S}\\rightarrow\\mathcal{S}_A\\:|\\:\\mathcal{S}_B$.\n",
    ">   - Therefore we must examine the product rules that are generated by $f$:\n",
    ">     - Every other product rule that is constructed by $f$ is set up so that the parse must\n",
    ">        start by using whatever product rule containes the $a_i$ that is the last char $s$,\n",
    ">        in combination with the string $w_i$ or $x_i$ that must start $s$,\n",
    ">        and cascade down parsing teh string from teh outsides in,\n",
    ">        respecting if it is a $\\mathcal{S}_A$ or $\\mathcal{S}_B$ production rule, respectivly.\n",
    ">     - This means that there can be no ambiguity since all $a_i$ are unique and tied to \n",
    ">        exactly one string $w_i$ and $x_i$, in all production rules being examined, \n",
    ">        and no grammars in any production rule in question that does not conform to this pattern.\n",
    "> - Therefore, $G$ can **not** be an ambigiouse grammar (inherent in the structure).\n",
    ">     $$ G\\in Amb \\\\ \\therefore\\; f(x)\\in \\mathbf{B} $$\n",
    "> - This proves:\n",
    ">     $$ S \\notin PCP  \\Rightarrow  f(S)=G \\notin Amb $$\n",
    "> - _aka_\n",
    ">     $$ x \\notin \\mathbf{A}  \\Rightarrow  f(x) \\notin \\mathbf{B} $$\n"
   ]
  },
  {
   "source": [
    "<hr class=\"double-div\"/>"
   ],
   "cell_type": "markdown",
   "metadata": {}
  },
  {
   "cell_type": "markdown",
   "metadata": {},
   "source": [
    "# END\n"
   ]
  }
 ],
 "metadata": {
  "kernelspec": {
   "display_name": "Python 3",
   "language": "python",
   "name": "python3"
  },
  "language_info": {
   "codemirror_mode": {
    "name": "ipython",
    "version": 3
   },
   "file_extension": ".py",
   "mimetype": "text/x-python",
   "name": "python",
   "nbconvert_exporter": "python",
   "pygments_lexer": "ipython3",
   "version": "3.8.3-final"
  },
  "toc": {
   "colors": {
    "hover_highlight": "#DAA520",
    "running_highlight": "#FF0000",
    "selected_highlight": "#FFD700"
   },
   "moveMenuLeft": true,
   "nav_menu": {
    "height": "121px",
    "width": "252px"
   },
   "navigate_menu": true,
   "number_sections": true,
   "sideBar": true,
   "threshold": 4,
   "toc_cell": false,
   "toc_section_display": "block",
   "toc_window_display": false,
   "widenNotebook": false
  },
  "widgets": {
   "state": {
    "430c92ee02b34ec1912bf03c8de1e6dc": {
     "views": [
      {
       "cell_index": 20
      }
     ]
    }
   },
   "version": "1.2.0"
  }
 },
 "nbformat": 4,
 "nbformat_minor": 2
}