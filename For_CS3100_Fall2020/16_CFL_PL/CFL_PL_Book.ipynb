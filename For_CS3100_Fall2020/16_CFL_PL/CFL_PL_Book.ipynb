{
 "cells": [
  {
   "cell_type": "markdown",
   "metadata": {},
   "source": [
    "# A method to portray the PL proof outlined in Figure 11.6\n",
    " \n",
    "##  THIS NOTEBOOK is referenced in Asg-8 and Quiz-8\n",
    " "
   ]
  },
  {
   "cell_type": "code",
   "execution_count": 1,
   "metadata": {
    "run_control": {
     "frozen": false,
     "read_only": false
    }
   },
   "outputs": [
    {
     "output_type": "stream",
     "name": "stdout",
     "text": [
      "You may use any of these help commands:\nhelp(ResetStNum)\nhelp(NxtStateStr)\n\nYou may use any of these help commands:\nhelp(mkp_dfa)\nhelp(mk_dfa)\nhelp(totalize_dfa)\nhelp(addtosigma_delta)\nhelp(step_dfa)\nhelp(run_dfa)\nhelp(accepts_dfa)\nhelp(comp_dfa)\nhelp(union_dfa)\nhelp(intersect_dfa)\nhelp(pruneUnreach)\nhelp(iso_dfa)\nhelp(langeq_dfa)\nhelp(same_status)\nhelp(h_langeq_dfa)\nhelp(fixptDist)\nhelp(min_dfa)\nhelp(pairFR)\nhelp(state_combos)\nhelp(sepFinNonFin)\nhelp(bash_eql_classes)\nhelp(listminus)\nhelp(bash_1)\nhelp(mk_rep_eqc)\nhelp(F_of)\nhelp(rep_of_s)\nhelp(q0_of)\nhelp(Delta_of)\nhelp(mk_state_eqc_name)\n\nYou may use any of these help commands:\nhelp(mk_nfa)\nhelp(totalize_nfa)\nhelp(step_nfa)\nhelp(run_nfa)\nhelp(ec_step_nfa)\nhelp(Eclosure)\nhelp(Echelp)\nhelp(accepts_nfa)\nhelp(nfa2dfa)\nhelp(n2d)\nhelp(inSets)\nhelp(rev_dfa)\nhelp(min_dfa_brz)\n\n"
     ]
    }
   ],
   "source": [
    "#~~~~~~~~~~~~~~~~~~~~~~~~~~~~~~~~~~~~~~~~~~~~~~~~~~~~~~~\n",
    "import sys\n",
    "\n",
    "# -- Detect if in Own Install or in Colab\n",
    "try:\n",
    "    import google.colab\n",
    "    OWN_INSTALL = False\n",
    "except:\n",
    "    OWN_INSTALL = True\n",
    "    \n",
    "if OWN_INSTALL:\n",
    "    \n",
    "  #---- Leave these definitions ON if running on laptop\n",
    "  #---- Else turn OFF by putting them between ''' ... '''\n",
    "\n",
    "  sys.path[0:0] = ['../../../../..',  '../../../../../3rdparty',  \n",
    "                   '../../../..',  '../../../../3rdparty',  \n",
    "                   '../../..',     '../../../3rdparty', \n",
    "                   '../..',        '../../3rdparty',\n",
    "                   '..',           '../3rdparty' ]\n",
    "\n",
    "else: # In colab\n",
    "  ! if [ ! -d Jove ]; then git clone https://github.com/ganeshutah/Jove Jove; fi\n",
    "  sys.path.append('./Jove')\n",
    "  sys.path.append('./Jove/jove')\n",
    "\n",
    "# -- common imports --\n",
    "from jove.lex import lex\n",
    "from jove.yacc import yacc\n",
    "\n",
    "from jove.StateNameSanitizers import ResetStNum, NxtStateStr\n",
    "from jove.SystemImports       import *\n",
    "\n",
    "from jove.Def_NFA import mk_nfa\n",
    "from jove.DotBashers import *\n",
    "\n",
    "#~~~~~~~~~~~~~~~~~~~~~~~~~~~~~~~~~~~~~~~~~~~~~~~~~~~~~~~"
   ]
  },
  {
   "cell_type": "markdown",
   "metadata": {},
   "source": [
    "# Variant of example on Page 154\n",
    "\n",
    "## Grammar of bracketing types introduced\n",
    "\n",
    "S -> (S) | T   # ADDING another EPS production here as in the book causes ambiguity!\n",
    "\n",
    "T -> [ T ] | T T | EPS\n"
   ]
  },
  {
   "cell_type": "code",
   "execution_count": 2,
   "metadata": {
    "run_control": {
     "frozen": false,
     "read_only": false
    }
   },
   "outputs": [],
   "source": [
    "# Tokens in our CFG\n",
    "tokens = ('LSQ','RSQ','LPAREN','RPAREN', 'EPS')  \n",
    "\n",
    "t_EPS     = r'\\'\\'|\\\"\\\"'   \n",
    "t_LSQ     = r'\\['\n",
    "t_RSQ     = r'\\]'\n",
    "t_LPAREN  = r'\\('\n",
    "t_RPAREN  = r'\\)'\n",
    " \n",
    "\n",
    "# Ignored characters\n",
    "t_ignore = \" \\t\"\n",
    "\n",
    "def t_newline(t):\n",
    "    r'\\n+'\n",
    "    t.lexer.lineno += t.value.count(\"\\n\")\n",
    "    \n",
    "def t_error(t):\n",
    "    print(\"Illegal character '%s'\" % t.value[0])\n",
    "    t.lexer.skip(1)\n",
    "    \n",
    "def p_paren(t):\n",
    "    'S : LPAREN S RPAREN'\n",
    "    #--------------------\n",
    "    nlin = t[2]['nl']\n",
    "    elin = t[2]['el']\n",
    "    \n",
    "    rootin = nlin[0]\n",
    "    \n",
    "    root = NxtStateStr(\"S_\")\n",
    "    left = NxtStateStr(\"(_\")\n",
    "    right= NxtStateStr(\")_\")\n",
    "    \n",
    "    t[0] = { 'nl' : [root, left] + nlin + [right], #order important f. proper layout!\n",
    "             'el' : elin + [ (root, left),\n",
    "                             (root, rootin),\n",
    "                             (root, right) ]\n",
    "           }\n",
    "    \n",
    "def p_T(t):\n",
    "    'S : T'\n",
    "    #\n",
    "    nlin = t[1]['nl']\n",
    "    elin = t[1]['el']    \n",
    "    rootin = nlin[0]   \n",
    "    root = NxtStateStr(\"S_\")   \n",
    "    t[0] = { 'nl' : [root] + nlin, #order important f. proper layout!\n",
    "             'el' : elin + [ (root, rootin) ]\n",
    "           }\n",
    "    \n",
    "\n",
    "def p_sq(t):\n",
    "    'T : LSQ T RSQ'\n",
    "    #--------------------\n",
    "    nlin = t[2]['nl']\n",
    "    elin = t[2]['el']\n",
    "    \n",
    "    rootin = nlin[0]\n",
    "    \n",
    "    root = NxtStateStr(\"T_\")\n",
    "    left = NxtStateStr(\"[_\")\n",
    "    right= NxtStateStr(\"]_\")\n",
    "    \n",
    "    t[0] = { 'nl' : [root, left] + nlin + [right], #order important f. proper layout!\n",
    "             'el' : elin + [ (root, left),\n",
    "                             (root, rootin),\n",
    "                             (root, right) ]\n",
    "           }\n",
    "\n",
    "def p_TT(t):\n",
    "    'T : T T'\n",
    "    #--------------------\n",
    "    nlin1 = t[1]['nl']\n",
    "    elin1 = t[1]['el']\n",
    "    nlin2 = t[2]['nl']\n",
    "    elin2 = t[2]['el']\n",
    "    \n",
    "    rootin1 = nlin1[0]\n",
    "    rootin2 = nlin2[0]\n",
    "    \n",
    "    root = NxtStateStr(\"T_\")\n",
    "    \n",
    "    t[0] = { 'nl' : [root] + nlin1 + nlin2, #order important f. proper layout!\n",
    "             'el' : elin1 + elin2 + [ (root, rootin1),\n",
    "                                      (root, rootin2) ]                      \n",
    "           }\n",
    "    \n",
    "def p_eps_T(t):\n",
    "    'T : EPS'\n",
    "    #--------\n",
    "    nlin = [ NxtStateStr(\"@_\") ]\n",
    "    elin = [ ]   \n",
    "    rootin = nlin[0]   \n",
    "    root = NxtStateStr(\"T_\")   \n",
    "    t[0] = { 'nl' : [root] + nlin, #order important f. proper layout!\n",
    "             'el' : elin + [ (root, rootin) ]\n",
    "           }\n",
    "    \n",
    " \n",
    "    \n",
    "def p_error(t):\n",
    "    print(\"Syntax error at '%s'\" % t.value)\n",
    "\n",
    "#--\n",
    "def parseSinit():\n",
    "    \"\"\"In: a string s containing a regular expression.\n",
    "       Out: An attribute quadruple (nfa,ast,nodelist,edgelist)        \n",
    "    \"\"\"\n",
    "    mylexer  = lex()\n",
    "    myparser = yacc()\n",
    "    return (mylexer, myparser)\n",
    "\n",
    "#--\n",
    "def parseS(s, L, P):\n",
    "    \"\"\"In: a string s containing a regular expression.\n",
    "       Out: An attribute quadruple (nfa,ast,nodelist,edgelist)        \n",
    "    \"\"\"\n",
    "    mylexer  = L\n",
    "    myparser = P\n",
    "    #-- pass the right lexer into the parser    \n",
    "    p = myparser.parse(s, lexer = mylexer)  \n",
    "    return (p['nl'], p['el'])       "
   ]
  },
  {
   "cell_type": "code",
   "execution_count": 3,
   "metadata": {},
   "outputs": [],
   "source": [
    "def drawPT(nl_el, comment=\"PT\"):\n",
    "    \"\"\"Given an (nfa, ast, nl, el) quadruple where nl is the node and el the edge-list,\n",
    "       draw the Parse Tree by returning a dot object. Also return the NFA dot object.\n",
    "    \"\"\"\n",
    "    (nl, el) = nl_el\n",
    "    dotObj_pt = Digraph(comment)\n",
    "    dotObj_pt.graph_attr['rankdir'] = 'TB'\n",
    "    for n in nl:\n",
    "        prNam = n.split('_')[0]\n",
    "        dotObj_pt.node(n, prNam, shape=\"oval\", peripheries=\"1\")\n",
    "    for e in el:\n",
    "        dotObj_pt.edge(e[0], e[1])\n",
    "    return dotObj_pt"
   ]
  },
  {
   "cell_type": "code",
   "execution_count": 4,
   "metadata": {},
   "outputs": [
    {
     "output_type": "stream",
     "name": "stderr",
     "text": [
      "WARNING: ../..\\jove\\StateNameSanitizers.py:32: Possible grammar rule 'dotsan_map' defined without p_ prefix\nWARNING: ../..\\jove\\StateNameSanitizers.py:49: Possible grammar rule 'dot_san_str' defined without p_ prefix\nWARNING: ../..\\jove\\StateNameSanitizers.py:63: Possible grammar rule 'isNotBH' defined without p_ prefix\nWARNING: ../..\\jove\\TransitionSelectors.py:16: Possible grammar rule 'fn_dom' defined without p_ prefix\nWARNING: ../..\\jove\\TransitionSelectors.py:22: Possible grammar rule 'fn_range' defined without p_ prefix\nWARNING: ../..\\jove\\TransitionSelectors.py:28: Possible grammar rule 'fn_trans' defined without p_ prefix\nWARNING: ../..\\jove\\ShrinkStates.py:57: Possible grammar rule 'shrink_nfastates' defined without p_ prefix\nWARNING: ../..\\jove\\DotBashers.py:36: Possible grammar rule 'is_consistent_dfa' defined without p_ prefix\nWARNING: ../..\\jove\\DotBashers.py:43: Possible grammar rule 'is_partially_consistent_dfa' defined without p_ prefix\nWARNING: ../..\\jove\\DotBashers.py:73: Possible grammar rule 'is_consistent_nfa' defined without p_ prefix\nWARNING: ../..\\jove\\DotBashers.py:104: Possible grammar rule 'is_consistent_gnfa' defined without p_ prefix\nWARNING: ../..\\jove\\DotBashers.py:477: Possible grammar rule 'prFinalNodeName' defined without p_ prefix\nWARNING: ../..\\jove\\DotBashers.py:496: Possible grammar rule 'prNonFinalNodeName' defined without p_ prefix\nWARNING: ../..\\jove\\DotBashers.py:416: Possible grammar rule 'prNFANodeDefs' defined without p_ prefix\nGenerating LALR tables\nWARNING: 2 shift/reduce conflicts\n"
     ]
    }
   ],
   "source": [
    "(L, P) = parseSinit()"
   ]
  },
  {
   "cell_type": "code",
   "execution_count": 5,
   "metadata": {},
   "outputs": [
    {
     "output_type": "execute_result",
     "data": {
      "text/plain": [
       "<graphviz.dot.Digraph at 0x19358bcaca0>"
      ],
      "image/svg+xml": "<?xml version=\"1.0\" encoding=\"UTF-8\" standalone=\"no\"?>\r\n<!DOCTYPE svg PUBLIC \"-//W3C//DTD SVG 1.1//EN\"\r\n \"http://www.w3.org/Graphics/SVG/1.1/DTD/svg11.dtd\">\r\n<!-- Generated by graphviz version 2.38.0 (20140413.2041)\r\n -->\r\n<!-- Title: PT Pages: 1 -->\r\n<svg width=\"206pt\" height=\"260pt\"\r\n viewBox=\"0.00 0.00 206.00 260.00\" xmlns=\"http://www.w3.org/2000/svg\" xmlns:xlink=\"http://www.w3.org/1999/xlink\">\r\n<g id=\"graph0\" class=\"graph\" transform=\"scale(1 1) rotate(0) translate(4 256)\">\r\n<title>PT</title>\r\n<polygon fill=\"white\" stroke=\"none\" points=\"-4,4 -4,-256 202,-256 202,4 -4,4\"/>\r\n<!-- S_4 -->\r\n<g id=\"node1\" class=\"node\"><title>S_4</title>\r\n<ellipse fill=\"none\" stroke=\"black\" cx=\"99\" cy=\"-234\" rx=\"27\" ry=\"18\"/>\r\n<text text-anchor=\"middle\" x=\"99\" y=\"-230.3\" font-family=\"Times New Roman,serif\" font-size=\"14.00\">S</text>\r\n</g>\r\n<!-- (_5 -->\r\n<g id=\"node2\" class=\"node\"><title>(_5</title>\r\n<ellipse fill=\"none\" stroke=\"black\" cx=\"27\" cy=\"-162\" rx=\"27\" ry=\"18\"/>\r\n<text text-anchor=\"middle\" x=\"27\" y=\"-158.3\" font-family=\"Times New Roman,serif\" font-size=\"14.00\">(</text>\r\n</g>\r\n<!-- S_4&#45;&gt;(_5 -->\r\n<g id=\"edge3\" class=\"edge\"><title>S_4&#45;&gt;(_5</title>\r\n<path fill=\"none\" stroke=\"black\" d=\"M84.4297,-218.834C74.2501,-208.938 60.4761,-195.546 48.9694,-184.359\"/>\r\n<polygon fill=\"black\" stroke=\"black\" points=\"51.4055,-181.846 41.7957,-177.385 46.5259,-186.865 51.4055,-181.846\"/>\r\n</g>\r\n<!-- S_3 -->\r\n<g id=\"node3\" class=\"node\"><title>S_3</title>\r\n<ellipse fill=\"none\" stroke=\"black\" cx=\"99\" cy=\"-162\" rx=\"27\" ry=\"18\"/>\r\n<text text-anchor=\"middle\" x=\"99\" y=\"-158.3\" font-family=\"Times New Roman,serif\" font-size=\"14.00\">S</text>\r\n</g>\r\n<!-- S_4&#45;&gt;S_3 -->\r\n<g id=\"edge4\" class=\"edge\"><title>S_4&#45;&gt;S_3</title>\r\n<path fill=\"none\" stroke=\"black\" d=\"M99,-215.697C99,-207.983 99,-198.712 99,-190.112\"/>\r\n<polygon fill=\"black\" stroke=\"black\" points=\"102.5,-190.104 99,-180.104 95.5001,-190.104 102.5,-190.104\"/>\r\n</g>\r\n<!-- )_6 -->\r\n<g id=\"node6\" class=\"node\"><title>)_6</title>\r\n<ellipse fill=\"none\" stroke=\"black\" cx=\"171\" cy=\"-162\" rx=\"27\" ry=\"18\"/>\r\n<text text-anchor=\"middle\" x=\"171\" y=\"-158.3\" font-family=\"Times New Roman,serif\" font-size=\"14.00\">)</text>\r\n</g>\r\n<!-- S_4&#45;&gt;)_6 -->\r\n<g id=\"edge5\" class=\"edge\"><title>S_4&#45;&gt;)_6</title>\r\n<path fill=\"none\" stroke=\"black\" d=\"M113.57,-218.834C123.75,-208.938 137.524,-195.546 149.031,-184.359\"/>\r\n<polygon fill=\"black\" stroke=\"black\" points=\"151.474,-186.865 156.204,-177.385 146.595,-181.846 151.474,-186.865\"/>\r\n</g>\r\n<!-- T_2 -->\r\n<g id=\"node4\" class=\"node\"><title>T_2</title>\r\n<ellipse fill=\"none\" stroke=\"black\" cx=\"99\" cy=\"-90\" rx=\"27\" ry=\"18\"/>\r\n<text text-anchor=\"middle\" x=\"99\" y=\"-86.3\" font-family=\"Times New Roman,serif\" font-size=\"14.00\">T</text>\r\n</g>\r\n<!-- S_3&#45;&gt;T_2 -->\r\n<g id=\"edge2\" class=\"edge\"><title>S_3&#45;&gt;T_2</title>\r\n<path fill=\"none\" stroke=\"black\" d=\"M99,-143.697C99,-135.983 99,-126.712 99,-118.112\"/>\r\n<polygon fill=\"black\" stroke=\"black\" points=\"102.5,-118.104 99,-108.104 95.5001,-118.104 102.5,-118.104\"/>\r\n</g>\r\n<!-- @_1 -->\r\n<g id=\"node5\" class=\"node\"><title>@_1</title>\r\n<ellipse fill=\"none\" stroke=\"black\" cx=\"99\" cy=\"-18\" rx=\"27\" ry=\"18\"/>\r\n<text text-anchor=\"middle\" x=\"99\" y=\"-14.3\" font-family=\"Times New Roman,serif\" font-size=\"14.00\">@</text>\r\n</g>\r\n<!-- T_2&#45;&gt;@_1 -->\r\n<g id=\"edge1\" class=\"edge\"><title>T_2&#45;&gt;@_1</title>\r\n<path fill=\"none\" stroke=\"black\" d=\"M99,-71.6966C99,-63.9827 99,-54.7125 99,-46.1124\"/>\r\n<polygon fill=\"black\" stroke=\"black\" points=\"102.5,-46.1043 99,-36.1043 95.5001,-46.1044 102.5,-46.1043\"/>\r\n</g>\r\n</g>\r\n</svg>\r\n"
     },
     "metadata": {},
     "execution_count": 5
    }
   ],
   "source": [
    "drawPT(parseS(\"('')\", L, P))"
   ]
  },
  {
   "cell_type": "code",
   "execution_count": 6,
   "metadata": {},
   "outputs": [
    {
     "output_type": "execute_result",
     "data": {
      "text/plain": [
       "<graphviz.dot.Digraph at 0x193589a5dc0>"
      ],
      "image/svg+xml": "<?xml version=\"1.0\" encoding=\"UTF-8\" standalone=\"no\"?>\r\n<!DOCTYPE svg PUBLIC \"-//W3C//DTD SVG 1.1//EN\"\r\n \"http://www.w3.org/Graphics/SVG/1.1/DTD/svg11.dtd\">\r\n<!-- Generated by graphviz version 2.38.0 (20140413.2041)\r\n -->\r\n<!-- Title: PT Pages: 1 -->\r\n<svg width=\"206pt\" height=\"332pt\"\r\n viewBox=\"0.00 0.00 206.00 332.00\" xmlns=\"http://www.w3.org/2000/svg\" xmlns:xlink=\"http://www.w3.org/1999/xlink\">\r\n<g id=\"graph0\" class=\"graph\" transform=\"scale(1 1) rotate(0) translate(4 328)\">\r\n<title>PT</title>\r\n<polygon fill=\"white\" stroke=\"none\" points=\"-4,4 -4,-328 202,-328 202,4 -4,4\"/>\r\n<!-- S_13 -->\r\n<g id=\"node1\" class=\"node\"><title>S_13</title>\r\n<ellipse fill=\"none\" stroke=\"black\" cx=\"99\" cy=\"-306\" rx=\"27\" ry=\"18\"/>\r\n<text text-anchor=\"middle\" x=\"99\" y=\"-302.3\" font-family=\"Times New Roman,serif\" font-size=\"14.00\">S</text>\r\n</g>\r\n<!-- (_14 -->\r\n<g id=\"node2\" class=\"node\"><title>(_14</title>\r\n<ellipse fill=\"none\" stroke=\"black\" cx=\"27\" cy=\"-234\" rx=\"27\" ry=\"18\"/>\r\n<text text-anchor=\"middle\" x=\"27\" y=\"-230.3\" font-family=\"Times New Roman,serif\" font-size=\"14.00\">(</text>\r\n</g>\r\n<!-- S_13&#45;&gt;(_14 -->\r\n<g id=\"edge6\" class=\"edge\"><title>S_13&#45;&gt;(_14</title>\r\n<path fill=\"none\" stroke=\"black\" d=\"M84.4297,-290.834C74.2501,-280.938 60.4761,-267.546 48.9694,-256.359\"/>\r\n<polygon fill=\"black\" stroke=\"black\" points=\"51.4055,-253.846 41.7957,-249.385 46.5259,-258.865 51.4055,-253.846\"/>\r\n</g>\r\n<!-- S_12 -->\r\n<g id=\"node3\" class=\"node\"><title>S_12</title>\r\n<ellipse fill=\"none\" stroke=\"black\" cx=\"99\" cy=\"-234\" rx=\"27\" ry=\"18\"/>\r\n<text text-anchor=\"middle\" x=\"99\" y=\"-230.3\" font-family=\"Times New Roman,serif\" font-size=\"14.00\">S</text>\r\n</g>\r\n<!-- S_13&#45;&gt;S_12 -->\r\n<g id=\"edge7\" class=\"edge\"><title>S_13&#45;&gt;S_12</title>\r\n<path fill=\"none\" stroke=\"black\" d=\"M99,-287.697C99,-279.983 99,-270.712 99,-262.112\"/>\r\n<polygon fill=\"black\" stroke=\"black\" points=\"102.5,-262.104 99,-252.104 95.5001,-262.104 102.5,-262.104\"/>\r\n</g>\r\n<!-- )_15 -->\r\n<g id=\"node9\" class=\"node\"><title>)_15</title>\r\n<ellipse fill=\"none\" stroke=\"black\" cx=\"171\" cy=\"-234\" rx=\"27\" ry=\"18\"/>\r\n<text text-anchor=\"middle\" x=\"171\" y=\"-230.3\" font-family=\"Times New Roman,serif\" font-size=\"14.00\">)</text>\r\n</g>\r\n<!-- S_13&#45;&gt;)_15 -->\r\n<g id=\"edge8\" class=\"edge\"><title>S_13&#45;&gt;)_15</title>\r\n<path fill=\"none\" stroke=\"black\" d=\"M113.57,-290.834C123.75,-280.938 137.524,-267.546 149.031,-256.359\"/>\r\n<polygon fill=\"black\" stroke=\"black\" points=\"151.474,-258.865 156.204,-249.385 146.595,-253.846 151.474,-258.865\"/>\r\n</g>\r\n<!-- T_9 -->\r\n<g id=\"node4\" class=\"node\"><title>T_9</title>\r\n<ellipse fill=\"none\" stroke=\"black\" cx=\"99\" cy=\"-162\" rx=\"27\" ry=\"18\"/>\r\n<text text-anchor=\"middle\" x=\"99\" y=\"-158.3\" font-family=\"Times New Roman,serif\" font-size=\"14.00\">T</text>\r\n</g>\r\n<!-- S_12&#45;&gt;T_9 -->\r\n<g id=\"edge5\" class=\"edge\"><title>S_12&#45;&gt;T_9</title>\r\n<path fill=\"none\" stroke=\"black\" d=\"M99,-215.697C99,-207.983 99,-198.712 99,-190.112\"/>\r\n<polygon fill=\"black\" stroke=\"black\" points=\"102.5,-190.104 99,-180.104 95.5001,-190.104 102.5,-190.104\"/>\r\n</g>\r\n<!-- [_10 -->\r\n<g id=\"node5\" class=\"node\"><title>[_10</title>\r\n<ellipse fill=\"none\" stroke=\"black\" cx=\"27\" cy=\"-90\" rx=\"27\" ry=\"18\"/>\r\n<text text-anchor=\"middle\" x=\"27\" y=\"-86.3\" font-family=\"Times New Roman,serif\" font-size=\"14.00\">[</text>\r\n</g>\r\n<!-- T_9&#45;&gt;[_10 -->\r\n<g id=\"edge2\" class=\"edge\"><title>T_9&#45;&gt;[_10</title>\r\n<path fill=\"none\" stroke=\"black\" d=\"M84.4297,-146.834C74.2501,-136.938 60.4761,-123.546 48.9694,-112.359\"/>\r\n<polygon fill=\"black\" stroke=\"black\" points=\"51.4055,-109.846 41.7957,-105.385 46.5259,-114.865 51.4055,-109.846\"/>\r\n</g>\r\n<!-- T_8 -->\r\n<g id=\"node6\" class=\"node\"><title>T_8</title>\r\n<ellipse fill=\"none\" stroke=\"black\" cx=\"99\" cy=\"-90\" rx=\"27\" ry=\"18\"/>\r\n<text text-anchor=\"middle\" x=\"99\" y=\"-86.3\" font-family=\"Times New Roman,serif\" font-size=\"14.00\">T</text>\r\n</g>\r\n<!-- T_9&#45;&gt;T_8 -->\r\n<g id=\"edge3\" class=\"edge\"><title>T_9&#45;&gt;T_8</title>\r\n<path fill=\"none\" stroke=\"black\" d=\"M99,-143.697C99,-135.983 99,-126.712 99,-118.112\"/>\r\n<polygon fill=\"black\" stroke=\"black\" points=\"102.5,-118.104 99,-108.104 95.5001,-118.104 102.5,-118.104\"/>\r\n</g>\r\n<!-- ]_11 -->\r\n<g id=\"node8\" class=\"node\"><title>]_11</title>\r\n<ellipse fill=\"none\" stroke=\"black\" cx=\"171\" cy=\"-90\" rx=\"27\" ry=\"18\"/>\r\n<text text-anchor=\"middle\" x=\"171\" y=\"-86.3\" font-family=\"Times New Roman,serif\" font-size=\"14.00\">]</text>\r\n</g>\r\n<!-- T_9&#45;&gt;]_11 -->\r\n<g id=\"edge4\" class=\"edge\"><title>T_9&#45;&gt;]_11</title>\r\n<path fill=\"none\" stroke=\"black\" d=\"M113.57,-146.834C123.75,-136.938 137.524,-123.546 149.031,-112.359\"/>\r\n<polygon fill=\"black\" stroke=\"black\" points=\"151.474,-114.865 156.204,-105.385 146.595,-109.846 151.474,-114.865\"/>\r\n</g>\r\n<!-- @_7 -->\r\n<g id=\"node7\" class=\"node\"><title>@_7</title>\r\n<ellipse fill=\"none\" stroke=\"black\" cx=\"99\" cy=\"-18\" rx=\"27\" ry=\"18\"/>\r\n<text text-anchor=\"middle\" x=\"99\" y=\"-14.3\" font-family=\"Times New Roman,serif\" font-size=\"14.00\">@</text>\r\n</g>\r\n<!-- T_8&#45;&gt;@_7 -->\r\n<g id=\"edge1\" class=\"edge\"><title>T_8&#45;&gt;@_7</title>\r\n<path fill=\"none\" stroke=\"black\" d=\"M99,-71.6966C99,-63.9827 99,-54.7125 99,-46.1124\"/>\r\n<polygon fill=\"black\" stroke=\"black\" points=\"102.5,-46.1043 99,-36.1043 95.5001,-46.1044 102.5,-46.1043\"/>\r\n</g>\r\n</g>\r\n</svg>\r\n"
     },
     "metadata": {},
     "execution_count": 6
    }
   ],
   "source": [
    "drawPT(parseS(\"([''])\", L, P))"
   ]
  },
  {
   "cell_type": "code",
   "execution_count": 7,
   "metadata": {},
   "outputs": [
    {
     "output_type": "execute_result",
     "data": {
      "text/plain": [
       "<graphviz.dot.Digraph at 0x193589a5850>"
      ],
      "image/svg+xml": "<?xml version=\"1.0\" encoding=\"UTF-8\" standalone=\"no\"?>\r\n<!DOCTYPE svg PUBLIC \"-//W3C//DTD SVG 1.1//EN\"\r\n \"http://www.w3.org/Graphics/SVG/1.1/DTD/svg11.dtd\">\r\n<!-- Generated by graphviz version 2.38.0 (20140413.2041)\r\n -->\r\n<!-- Title: PT Pages: 1 -->\r\n<svg width=\"206pt\" height=\"260pt\"\r\n viewBox=\"0.00 0.00 206.00 260.00\" xmlns=\"http://www.w3.org/2000/svg\" xmlns:xlink=\"http://www.w3.org/1999/xlink\">\r\n<g id=\"graph0\" class=\"graph\" transform=\"scale(1 1) rotate(0) translate(4 256)\">\r\n<title>PT</title>\r\n<polygon fill=\"white\" stroke=\"none\" points=\"-4,4 -4,-256 202,-256 202,4 -4,4\"/>\r\n<!-- S_21 -->\r\n<g id=\"node1\" class=\"node\"><title>S_21</title>\r\n<ellipse fill=\"none\" stroke=\"black\" cx=\"99\" cy=\"-234\" rx=\"27\" ry=\"18\"/>\r\n<text text-anchor=\"middle\" x=\"99\" y=\"-230.3\" font-family=\"Times New Roman,serif\" font-size=\"14.00\">S</text>\r\n</g>\r\n<!-- T_18 -->\r\n<g id=\"node2\" class=\"node\"><title>T_18</title>\r\n<ellipse fill=\"none\" stroke=\"black\" cx=\"99\" cy=\"-162\" rx=\"27\" ry=\"18\"/>\r\n<text text-anchor=\"middle\" x=\"99\" y=\"-158.3\" font-family=\"Times New Roman,serif\" font-size=\"14.00\">T</text>\r\n</g>\r\n<!-- S_21&#45;&gt;T_18 -->\r\n<g id=\"edge5\" class=\"edge\"><title>S_21&#45;&gt;T_18</title>\r\n<path fill=\"none\" stroke=\"black\" d=\"M99,-215.697C99,-207.983 99,-198.712 99,-190.112\"/>\r\n<polygon fill=\"black\" stroke=\"black\" points=\"102.5,-190.104 99,-180.104 95.5001,-190.104 102.5,-190.104\"/>\r\n</g>\r\n<!-- [_19 -->\r\n<g id=\"node3\" class=\"node\"><title>[_19</title>\r\n<ellipse fill=\"none\" stroke=\"black\" cx=\"27\" cy=\"-90\" rx=\"27\" ry=\"18\"/>\r\n<text text-anchor=\"middle\" x=\"27\" y=\"-86.3\" font-family=\"Times New Roman,serif\" font-size=\"14.00\">[</text>\r\n</g>\r\n<!-- T_18&#45;&gt;[_19 -->\r\n<g id=\"edge2\" class=\"edge\"><title>T_18&#45;&gt;[_19</title>\r\n<path fill=\"none\" stroke=\"black\" d=\"M84.4297,-146.834C74.2501,-136.938 60.4761,-123.546 48.9694,-112.359\"/>\r\n<polygon fill=\"black\" stroke=\"black\" points=\"51.4055,-109.846 41.7957,-105.385 46.5259,-114.865 51.4055,-109.846\"/>\r\n</g>\r\n<!-- T_17 -->\r\n<g id=\"node4\" class=\"node\"><title>T_17</title>\r\n<ellipse fill=\"none\" stroke=\"black\" cx=\"99\" cy=\"-90\" rx=\"27\" ry=\"18\"/>\r\n<text text-anchor=\"middle\" x=\"99\" y=\"-86.3\" font-family=\"Times New Roman,serif\" font-size=\"14.00\">T</text>\r\n</g>\r\n<!-- T_18&#45;&gt;T_17 -->\r\n<g id=\"edge3\" class=\"edge\"><title>T_18&#45;&gt;T_17</title>\r\n<path fill=\"none\" stroke=\"black\" d=\"M99,-143.697C99,-135.983 99,-126.712 99,-118.112\"/>\r\n<polygon fill=\"black\" stroke=\"black\" points=\"102.5,-118.104 99,-108.104 95.5001,-118.104 102.5,-118.104\"/>\r\n</g>\r\n<!-- ]_20 -->\r\n<g id=\"node6\" class=\"node\"><title>]_20</title>\r\n<ellipse fill=\"none\" stroke=\"black\" cx=\"171\" cy=\"-90\" rx=\"27\" ry=\"18\"/>\r\n<text text-anchor=\"middle\" x=\"171\" y=\"-86.3\" font-family=\"Times New Roman,serif\" font-size=\"14.00\">]</text>\r\n</g>\r\n<!-- T_18&#45;&gt;]_20 -->\r\n<g id=\"edge4\" class=\"edge\"><title>T_18&#45;&gt;]_20</title>\r\n<path fill=\"none\" stroke=\"black\" d=\"M113.57,-146.834C123.75,-136.938 137.524,-123.546 149.031,-112.359\"/>\r\n<polygon fill=\"black\" stroke=\"black\" points=\"151.474,-114.865 156.204,-105.385 146.595,-109.846 151.474,-114.865\"/>\r\n</g>\r\n<!-- @_16 -->\r\n<g id=\"node5\" class=\"node\"><title>@_16</title>\r\n<ellipse fill=\"none\" stroke=\"black\" cx=\"99\" cy=\"-18\" rx=\"27\" ry=\"18\"/>\r\n<text text-anchor=\"middle\" x=\"99\" y=\"-14.3\" font-family=\"Times New Roman,serif\" font-size=\"14.00\">@</text>\r\n</g>\r\n<!-- T_17&#45;&gt;@_16 -->\r\n<g id=\"edge1\" class=\"edge\"><title>T_17&#45;&gt;@_16</title>\r\n<path fill=\"none\" stroke=\"black\" d=\"M99,-71.6966C99,-63.9827 99,-54.7125 99,-46.1124\"/>\r\n<polygon fill=\"black\" stroke=\"black\" points=\"102.5,-46.1043 99,-36.1043 95.5001,-46.1044 102.5,-46.1043\"/>\r\n</g>\r\n</g>\r\n</svg>\r\n"
     },
     "metadata": {},
     "execution_count": 7
    }
   ],
   "source": [
    "drawPT(parseS(\"['']\", L, P))"
   ]
  },
  {
   "cell_type": "code",
   "execution_count": 8,
   "metadata": {},
   "outputs": [
    {
     "output_type": "execute_result",
     "data": {
      "text/plain": [
       "<graphviz.dot.Digraph at 0x19358bca8b0>"
      ],
      "image/svg+xml": "<?xml version=\"1.0\" encoding=\"UTF-8\" standalone=\"no\"?>\r\n<!DOCTYPE svg PUBLIC \"-//W3C//DTD SVG 1.1//EN\"\r\n \"http://www.w3.org/Graphics/SVG/1.1/DTD/svg11.dtd\">\r\n<!-- Generated by graphviz version 2.38.0 (20140413.2041)\r\n -->\r\n<!-- Title: PT Pages: 1 -->\r\n<svg width=\"206pt\" height=\"332pt\"\r\n viewBox=\"0.00 0.00 206.00 332.00\" xmlns=\"http://www.w3.org/2000/svg\" xmlns:xlink=\"http://www.w3.org/1999/xlink\">\r\n<g id=\"graph0\" class=\"graph\" transform=\"scale(1 1) rotate(0) translate(4 328)\">\r\n<title>PT</title>\r\n<polygon fill=\"white\" stroke=\"none\" points=\"-4,4 -4,-328 202,-328 202,4 -4,4\"/>\r\n<!-- S_30 -->\r\n<g id=\"node1\" class=\"node\"><title>S_30</title>\r\n<ellipse fill=\"none\" stroke=\"black\" cx=\"99\" cy=\"-306\" rx=\"27\" ry=\"18\"/>\r\n<text text-anchor=\"middle\" x=\"99\" y=\"-302.3\" font-family=\"Times New Roman,serif\" font-size=\"14.00\">S</text>\r\n</g>\r\n<!-- T_27 -->\r\n<g id=\"node2\" class=\"node\"><title>T_27</title>\r\n<ellipse fill=\"none\" stroke=\"black\" cx=\"99\" cy=\"-234\" rx=\"27\" ry=\"18\"/>\r\n<text text-anchor=\"middle\" x=\"99\" y=\"-230.3\" font-family=\"Times New Roman,serif\" font-size=\"14.00\">T</text>\r\n</g>\r\n<!-- S_30&#45;&gt;T_27 -->\r\n<g id=\"edge8\" class=\"edge\"><title>S_30&#45;&gt;T_27</title>\r\n<path fill=\"none\" stroke=\"black\" d=\"M99,-287.697C99,-279.983 99,-270.712 99,-262.112\"/>\r\n<polygon fill=\"black\" stroke=\"black\" points=\"102.5,-262.104 99,-252.104 95.5001,-262.104 102.5,-262.104\"/>\r\n</g>\r\n<!-- [_28 -->\r\n<g id=\"node3\" class=\"node\"><title>[_28</title>\r\n<ellipse fill=\"none\" stroke=\"black\" cx=\"27\" cy=\"-162\" rx=\"27\" ry=\"18\"/>\r\n<text text-anchor=\"middle\" x=\"27\" y=\"-158.3\" font-family=\"Times New Roman,serif\" font-size=\"14.00\">[</text>\r\n</g>\r\n<!-- T_27&#45;&gt;[_28 -->\r\n<g id=\"edge5\" class=\"edge\"><title>T_27&#45;&gt;[_28</title>\r\n<path fill=\"none\" stroke=\"black\" d=\"M84.4297,-218.834C74.2501,-208.938 60.4761,-195.546 48.9694,-184.359\"/>\r\n<polygon fill=\"black\" stroke=\"black\" points=\"51.4055,-181.846 41.7957,-177.385 46.5259,-186.865 51.4055,-181.846\"/>\r\n</g>\r\n<!-- T_24 -->\r\n<g id=\"node4\" class=\"node\"><title>T_24</title>\r\n<ellipse fill=\"none\" stroke=\"black\" cx=\"99\" cy=\"-162\" rx=\"27\" ry=\"18\"/>\r\n<text text-anchor=\"middle\" x=\"99\" y=\"-158.3\" font-family=\"Times New Roman,serif\" font-size=\"14.00\">T</text>\r\n</g>\r\n<!-- T_27&#45;&gt;T_24 -->\r\n<g id=\"edge6\" class=\"edge\"><title>T_27&#45;&gt;T_24</title>\r\n<path fill=\"none\" stroke=\"black\" d=\"M99,-215.697C99,-207.983 99,-198.712 99,-190.112\"/>\r\n<polygon fill=\"black\" stroke=\"black\" points=\"102.5,-190.104 99,-180.104 95.5001,-190.104 102.5,-190.104\"/>\r\n</g>\r\n<!-- ]_29 -->\r\n<g id=\"node9\" class=\"node\"><title>]_29</title>\r\n<ellipse fill=\"none\" stroke=\"black\" cx=\"171\" cy=\"-162\" rx=\"27\" ry=\"18\"/>\r\n<text text-anchor=\"middle\" x=\"171\" y=\"-158.3\" font-family=\"Times New Roman,serif\" font-size=\"14.00\">]</text>\r\n</g>\r\n<!-- T_27&#45;&gt;]_29 -->\r\n<g id=\"edge7\" class=\"edge\"><title>T_27&#45;&gt;]_29</title>\r\n<path fill=\"none\" stroke=\"black\" d=\"M113.57,-218.834C123.75,-208.938 137.524,-195.546 149.031,-184.359\"/>\r\n<polygon fill=\"black\" stroke=\"black\" points=\"151.474,-186.865 156.204,-177.385 146.595,-181.846 151.474,-186.865\"/>\r\n</g>\r\n<!-- [_25 -->\r\n<g id=\"node5\" class=\"node\"><title>[_25</title>\r\n<ellipse fill=\"none\" stroke=\"black\" cx=\"27\" cy=\"-90\" rx=\"27\" ry=\"18\"/>\r\n<text text-anchor=\"middle\" x=\"27\" y=\"-86.3\" font-family=\"Times New Roman,serif\" font-size=\"14.00\">[</text>\r\n</g>\r\n<!-- T_24&#45;&gt;[_25 -->\r\n<g id=\"edge2\" class=\"edge\"><title>T_24&#45;&gt;[_25</title>\r\n<path fill=\"none\" stroke=\"black\" d=\"M84.4297,-146.834C74.2501,-136.938 60.4761,-123.546 48.9694,-112.359\"/>\r\n<polygon fill=\"black\" stroke=\"black\" points=\"51.4055,-109.846 41.7957,-105.385 46.5259,-114.865 51.4055,-109.846\"/>\r\n</g>\r\n<!-- T_23 -->\r\n<g id=\"node6\" class=\"node\"><title>T_23</title>\r\n<ellipse fill=\"none\" stroke=\"black\" cx=\"99\" cy=\"-90\" rx=\"27\" ry=\"18\"/>\r\n<text text-anchor=\"middle\" x=\"99\" y=\"-86.3\" font-family=\"Times New Roman,serif\" font-size=\"14.00\">T</text>\r\n</g>\r\n<!-- T_24&#45;&gt;T_23 -->\r\n<g id=\"edge3\" class=\"edge\"><title>T_24&#45;&gt;T_23</title>\r\n<path fill=\"none\" stroke=\"black\" d=\"M99,-143.697C99,-135.983 99,-126.712 99,-118.112\"/>\r\n<polygon fill=\"black\" stroke=\"black\" points=\"102.5,-118.104 99,-108.104 95.5001,-118.104 102.5,-118.104\"/>\r\n</g>\r\n<!-- ]_26 -->\r\n<g id=\"node8\" class=\"node\"><title>]_26</title>\r\n<ellipse fill=\"none\" stroke=\"black\" cx=\"171\" cy=\"-90\" rx=\"27\" ry=\"18\"/>\r\n<text text-anchor=\"middle\" x=\"171\" y=\"-86.3\" font-family=\"Times New Roman,serif\" font-size=\"14.00\">]</text>\r\n</g>\r\n<!-- T_24&#45;&gt;]_26 -->\r\n<g id=\"edge4\" class=\"edge\"><title>T_24&#45;&gt;]_26</title>\r\n<path fill=\"none\" stroke=\"black\" d=\"M113.57,-146.834C123.75,-136.938 137.524,-123.546 149.031,-112.359\"/>\r\n<polygon fill=\"black\" stroke=\"black\" points=\"151.474,-114.865 156.204,-105.385 146.595,-109.846 151.474,-114.865\"/>\r\n</g>\r\n<!-- @_22 -->\r\n<g id=\"node7\" class=\"node\"><title>@_22</title>\r\n<ellipse fill=\"none\" stroke=\"black\" cx=\"99\" cy=\"-18\" rx=\"27\" ry=\"18\"/>\r\n<text text-anchor=\"middle\" x=\"99\" y=\"-14.3\" font-family=\"Times New Roman,serif\" font-size=\"14.00\">@</text>\r\n</g>\r\n<!-- T_23&#45;&gt;@_22 -->\r\n<g id=\"edge1\" class=\"edge\"><title>T_23&#45;&gt;@_22</title>\r\n<path fill=\"none\" stroke=\"black\" d=\"M99,-71.6966C99,-63.9827 99,-54.7125 99,-46.1124\"/>\r\n<polygon fill=\"black\" stroke=\"black\" points=\"102.5,-46.1043 99,-36.1043 95.5001,-46.1044 102.5,-46.1043\"/>\r\n</g>\r\n</g>\r\n</svg>\r\n"
     },
     "metadata": {},
     "execution_count": 8
    }
   ],
   "source": [
    "drawPT(parseS(\"[['']]\", L, P))"
   ]
  },
  {
   "cell_type": "code",
   "execution_count": null,
   "metadata": {},
   "outputs": [],
   "source": []
  }
 ],
 "metadata": {
  "kernelspec": {
   "name": "Python 3.8.3 64-bit ('base': conda)",
   "display_name": "Python 3.8.3 64-bit ('base': conda)",
   "metadata": {
    "interpreter": {
     "hash": "e43a47b0d81e54799157e00716aeb7c86070f73d2bcce096d3e4cb5c3eaf2258"
    }
   }
  },
  "language_info": {
   "codemirror_mode": {
    "name": "ipython",
    "version": 3
   },
   "file_extension": ".py",
   "mimetype": "text/x-python",
   "name": "python",
   "nbconvert_exporter": "python",
   "pygments_lexer": "ipython3",
   "version": "3.8.3-final"
  },
  "toc": {
   "colors": {
    "hover_highlight": "#DAA520",
    "running_highlight": "#FF0000",
    "selected_highlight": "#FFD700"
   },
   "moveMenuLeft": true,
   "nav_menu": {
    "height": "12px",
    "width": "252px"
   },
   "navigate_menu": true,
   "number_sections": true,
   "sideBar": true,
   "threshold": 4,
   "toc_cell": false,
   "toc_section_display": "block",
   "toc_window_display": false,
   "widenNotebook": false
  }
 },
 "nbformat": 4,
 "nbformat_minor": 2
}