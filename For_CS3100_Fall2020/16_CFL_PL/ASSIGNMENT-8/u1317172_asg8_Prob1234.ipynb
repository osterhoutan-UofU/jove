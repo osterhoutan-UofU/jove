{
 "cells": [
  {
   "cell_type": "markdown",
   "metadata": {},
   "source": [
    "<style>\n",
    "h1 {\n",
    "    border-bottom: 2px solid;\n",
    "}\n",
    "h2 {\n",
    "    border-bottom: 1px solid;\n",
    "}\n",
    "blockquote {\n",
    "    border-left: 2px solid;\n",
    "    /* background-color: #00000488; */\n",
    "    /* filter: brightness(80%); */\n",
    "    margin-left: 2em;\n",
    "    margin-right: 2em;\n",
    "    padding: 1px 2px 1px 1em;\n",
    "}\n",
    "</style>\n",
    "\n",
    "# Asg-8 focuses on questions graded by the mentioned TAs\n",
    "\n",
    "## Andrew Osterhout (u1317172)\n",
    "\n",
    "Full details are in the PDF file of Asg-8\n",
    "\n",
    "This notebook only has space for your answers\n",
    "\n",
    " "
   ]
  },
  {
   "cell_type": "markdown",
   "metadata": {},
   "source": [
    " * * *\n",
    " * * *"
   ]
  },
  {
   "cell_type": "markdown",
   "metadata": {},
   "source": [
    "# 1 (SV, 25%)\n",
    "\n",
    "## **1.a (20%):** \n",
    "_**Note:** Draw the parse-tree separately, call it `u1234567_asg8_PT.pdf`, and include it in your `.ZIP`_\n",
    "\n",
    "\n",
    "\n",
    "## **1.b (5%):**\n",
    "\n",
    "- Your answer bullets...\n",
    "- ...\n",
    "- ...\n",
    "- ...\n",
    "\n",
    " \n",
    " "
   ]
  },
  {
   "cell_type": "markdown",
   "metadata": {},
   "source": [
    " * * *\n",
    " * * *"
   ]
  },
  {
   "cell_type": "markdown",
   "metadata": {},
   "source": [
    "# 2 (LT, 25%)\n",
    "     \n",
    "- ...\n",
    "- ...\n",
    "- ..."
   ]
  },
  {
   "cell_type": "markdown",
   "metadata": {},
   "source": [
    " * * *\n",
    " * * *"
   ]
  },
  {
   "cell_type": "markdown",
   "metadata": {},
   "source": [
    "# 3 (XL, 25%) \n",
    "- ...\n",
    "- ...\n",
    "- ..."
   ]
  },
  {
   "cell_type": "markdown",
   "metadata": {},
   "source": [
    " * * *\n",
    " * * *"
   ]
  },
  {
   "cell_type": "markdown",
   "metadata": {},
   "source": [
    "# 4 (AR, 25%)\n",
    "\n",
    "## **4.a (5%):** ...\n",
    "- ...\n",
    "- ...\n",
    "- ...\n",
    "\n",
    "\n",
    "## **4.b (5%):** ...\n",
    "- ...\n",
    "- ...\n",
    "- ...\n",
    "\n",
    "\n",
    "## **4.c (5%):** ...\n",
    "- ...\n",
    "- ...\n",
    "- ...\n",
    "\n",
    "\n",
    "## **4.d (5%):** ...\n",
    "- ...\n",
    "- ...\n",
    "- ...\n",
    "\n",
    "\n",
    "## **4.e (5%):** ...\n",
    "- ...\n",
    "- ...\n",
    "- ...\n"
   ]
  },
  {
   "source": [
    " * * *\n",
    " * * *"
   ],
   "cell_type": "markdown",
   "metadata": {}
  },
  {
   "cell_type": "markdown",
   "metadata": {},
   "source": [
    "# END\n"
   ]
  }
 ],
 "metadata": {
  "kernelspec": {
   "display_name": "Python 3",
   "language": "python",
   "name": "python3"
  },
  "language_info": {
   "codemirror_mode": {
    "name": "ipython",
    "version": 3
   },
   "file_extension": ".py",
   "mimetype": "text/x-python",
   "name": "python",
   "nbconvert_exporter": "python",
   "pygments_lexer": "ipython3",
   "version": "3.7.3"
  },
  "toc": {
   "colors": {
    "hover_highlight": "#DAA520",
    "running_highlight": "#FF0000",
    "selected_highlight": "#FFD700"
   },
   "moveMenuLeft": true,
   "nav_menu": {
    "height": "121px",
    "width": "252px"
   },
   "navigate_menu": true,
   "number_sections": true,
   "sideBar": true,
   "threshold": 4,
   "toc_cell": false,
   "toc_section_display": "block",
   "toc_window_display": false,
   "widenNotebook": false
  },
  "widgets": {
   "state": {
    "430c92ee02b34ec1912bf03c8de1e6dc": {
     "views": [
      {
       "cell_index": 20
      }
     ]
    }
   },
   "version": "1.2.0"
  }
 },
 "nbformat": 4,
 "nbformat_minor": 2
}