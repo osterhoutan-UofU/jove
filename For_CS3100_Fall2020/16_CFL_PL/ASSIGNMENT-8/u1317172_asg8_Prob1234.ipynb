{
 "cells": [
  {
   "cell_type": "markdown",
   "metadata": {},
   "source": [
    "<style>\n",
    "h1 {\n",
    "    border-bottom: 2px solid;\n",
    "}\n",
    "h2 {\n",
    "    border-bottom: 1px solid;\n",
    "}\n",
    "blockquote {\n",
    "    border-left: 2px solid;\n",
    "    /* background-color: #00000488; */\n",
    "    /* filter: brightness(80%); */\n",
    "    margin-left: 2em;\n",
    "    margin-right: 2em;\n",
    "    padding: 1px 2px 1px 1em;\n",
    "}\n",
    "</style>\n",
    "\n",
    "# Asg-8 focuses on questions graded by the mentioned TAs\n",
    "\n",
    "### Andrew Osterhout (u1317172)\n",
    "\n",
    "Full details are in the PDF file of Asg-8\n",
    "\n",
    "This notebook only has space for your answers\n",
    "\n",
    " "
   ]
  },
  {
   "cell_type": "markdown",
   "metadata": {},
   "source": [
    " * * *\n",
    " * * *"
   ]
  },
  {
   "cell_type": "markdown",
   "metadata": {},
   "source": [
    "# 1 (SV, 25%)\n",
    "\n",
    "## **1.a (20%):** \n",
    "_**Note:** Draw the parse-tree separately, call it `u1234567_asg8_PT.pdf`, and include it in your `.ZIP`_\n",
    "\n",
    "### The CFG from pg.158!\n",
    "> ```\n",
    "    WWBar       -> OddLen | EvenLenXO\n",
    "    EvenLenXO   -> GrowOMiddle GrowXMiddle | GrowXMiddle GrowOMiddle\n",
    "    GrowOMiddle -> B GrowOMiddle B | 0\n",
    "    GrowXMiddle -> B GrowXMiddle B | 1\n",
    "    B           -> 0 | 1\n",
    "```\n",
    "\n",
    "### Pasrse `\"01011101\"`:\n",
    "> ```\n",
    "    [WWBar\n",
    "      [EvenLenXO\n",
    "        [GrowOMiddle '0'],\n",
    "        [GrowXMiddle \n",
    "          [B '1'],\n",
    "          [GrowXMiddle \n",
    "            [B '0'],\n",
    "            [GrowXMiddle [B '1'],[GrowXMiddle '1'],[B '1']],\n",
    "            [B '0']\n",
    "          ],\n",
    "          [B '1']\n",
    "        ]\n",
    "      ]\n",
    "    ]\n",
    "```\n",
    "\n",
    "<!-- -->\n",
    "> ![Psrse Tree for `\"01011101\"`](./u1317172_asg8_PT.png)\n",
    "\n",
    "\n",
    "\n",
    "## **1.b (5%):**\n",
    "_**Answer Summary:** because there is no way to split the string such that both sides are odd numbered with one side having a `'0'` in the middle and the other having an `'1'` in the middle._\n",
    "- First of all `\"0101\"` is in $L_{ww}$ and therefore by definition can't be in $\\overline{L_{ww}}$.\n",
    "- It has an even number of characters and therefore needs to go through the `EvenLenXO` grammar.\n",
    "- When trying to find a way to split the string in two,\n",
    "    one side matching the `GrowOMiddle` grammar and the other side matching the `GrowXMiddle` grammar,\n",
    "    it cannot. \n",
    "- Since the only ways to split it into two strings with odd lengths is `\"0\"` & `\"101\"` or `\"010\"` & `\"1\"`.\n",
    "- Which both options either have both strings mating the `GrowOMiddle` grammar or the `GrowXMiddle` grammar.\n",
    "- Which breaks the definition of the `EvenLenXO` grammar.\n",
    "\n",
    " \n",
    " "
   ]
  },
  {
   "cell_type": "markdown",
   "metadata": {},
   "source": [
    " * * *\n",
    " * * *"
   ]
  },
  {
   "cell_type": "markdown",
   "metadata": {},
   "source": [
    "# 2 (LT, 25%)\n",
    "     \n",
    "- ...\n",
    "- ...\n",
    "- ..."
   ]
  },
  {
   "cell_type": "markdown",
   "metadata": {},
   "source": [
    " * * *\n",
    " * * *"
   ]
  },
  {
   "cell_type": "markdown",
   "metadata": {},
   "source": [
    "# 3 (XL, 25%) \n",
    "- ...\n",
    "- ...\n",
    "- ..."
   ]
  },
  {
   "cell_type": "markdown",
   "metadata": {},
   "source": [
    " * * *\n",
    " * * *"
   ]
  },
  {
   "cell_type": "markdown",
   "metadata": {},
   "source": [
    "# 4 (AR, 25%)\n",
    "\n",
    "## **4.a (5%):** ...\n",
    "- ...\n",
    "- ...\n",
    "- ...\n",
    "\n",
    "\n",
    "## **4.b (5%):** ...\n",
    "- ...\n",
    "- ...\n",
    "- ...\n",
    "\n",
    "\n",
    "## **4.c (5%):** ...\n",
    "- ...\n",
    "- ...\n",
    "- ...\n",
    "\n",
    "\n",
    "## **4.d (5%):** ...\n",
    "- ...\n",
    "- ...\n",
    "- ...\n",
    "\n",
    "\n",
    "## **4.e (5%):** ...\n",
    "- ...\n",
    "- ...\n",
    "- ...\n"
   ]
  },
  {
   "source": [
    " * * *\n",
    " * * *"
   ],
   "cell_type": "markdown",
   "metadata": {}
  },
  {
   "cell_type": "markdown",
   "metadata": {},
   "source": [
    "# END\n"
   ]
  }
 ],
 "metadata": {
  "kernelspec": {
   "name": "Python 3.8.3 64-bit ('base': conda)",
   "display_name": "Python 3.8.3 64-bit ('base': conda)",
   "metadata": {
    "interpreter": {
     "hash": "e43a47b0d81e54799157e00716aeb7c86070f73d2bcce096d3e4cb5c3eaf2258"
    }
   }
  },
  "language_info": {
   "codemirror_mode": {
    "name": "ipython",
    "version": 3
   },
   "file_extension": ".py",
   "mimetype": "text/x-python",
   "name": "python",
   "nbconvert_exporter": "python",
   "pygments_lexer": "ipython3",
   "version": "3.8.3-final"
  },
  "toc": {
   "colors": {
    "hover_highlight": "#DAA520",
    "running_highlight": "#FF0000",
    "selected_highlight": "#FFD700"
   },
   "moveMenuLeft": true,
   "nav_menu": {
    "height": "121px",
    "width": "252px"
   },
   "navigate_menu": true,
   "number_sections": true,
   "sideBar": true,
   "threshold": 4,
   "toc_cell": false,
   "toc_section_display": "block",
   "toc_window_display": false,
   "widenNotebook": false
  },
  "widgets": {
   "state": {
    "430c92ee02b34ec1912bf03c8de1e6dc": {
     "views": [
      {
       "cell_index": 20
      }
     ]
    }
   },
   "version": "1.2.0"
  }
 },
 "nbformat": 4,
 "nbformat_minor": 2
}