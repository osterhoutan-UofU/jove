{
 "cells": [
  {
   "cell_type": "markdown",
   "metadata": {
    "run_control": {
     "frozen": false,
     "read_only": false
    }
   },
   "source": [
    "# Basic NFA2DFA\n",
    "\n",
    "You may wish to watch my lecture on NFA a little, then play with the\n",
    "code below, and then finish watching."
   ]
  },
  {
   "cell_type": "code",
   "execution_count": 1,
   "metadata": {
    "run_control": {
     "frozen": false,
     "read_only": false
    }
   },
   "outputs": [
    {
     "output_type": "execute_result",
     "data": {
      "text/plain": "<IPython.lib.display.YouTubeVideo at 0x16cf675b4f0>",
      "text/html": "\n        <iframe\n            width=\"400\"\n            height=\"300\"\n            src=\"https://www.youtube.com/embed/xjFtLF95uBc\"\n            frameborder=\"0\"\n            allowfullscreen\n        ></iframe>\n        ",
      "image/jpeg": "[encoded data removed]"
     },
     "metadata": {},
     "execution_count": 1
    }
   ],
   "source": [
    "# This Youtube video walks through this notebook\n",
    "from IPython.display import YouTubeVideo\n",
    "YouTubeVideo('xjFtLF95uBc')"
   ]
  },
  {
   "cell_type": "code",
   "execution_count": 2,
   "metadata": {
    "run_control": {
     "frozen": false,
     "read_only": false
    },
    "tags": []
   },
   "outputs": [
    {
     "output_type": "stream",
     "name": "stdout",
     "text": "You may use any of these help commands:\nhelp(ResetStNum)\nhelp(NxtStateStr)\n\nYou may use any of these help commands:\nhelp(md2mc)\n.. and if you want to dig more, then ..\nhelp(default_line_attr)\nhelp(length_ok_input_items)\nhelp(union_line_attr_list_fld)\nhelp(extend_rsltdict)\nhelp(form_delta)\nhelp(get_machine_components)\n\nYou may use any of these help commands:\nhelp(mkp_dfa)\nhelp(mk_dfa)\nhelp(totalize_dfa)\nhelp(addtosigma_delta)\nhelp(step_dfa)\nhelp(run_dfa)\nhelp(accepts_dfa)\nhelp(comp_dfa)\nhelp(union_dfa)\nhelp(intersect_dfa)\nhelp(pruneUnreach)\nhelp(iso_dfa)\nhelp(langeq_dfa)\nhelp(same_status)\nhelp(h_langeq_dfa)\nhelp(fixptDist)\nhelp(min_dfa)\nhelp(pairFR)\nhelp(state_combos)\nhelp(sepFinNonFin)\nhelp(bash_eql_classes)\nhelp(listminus)\nhelp(bash_1)\nhelp(mk_rep_eqc)\nhelp(F_of)\nhelp(rep_of_s)\nhelp(q0_of)\nhelp(Delta_of)\nhelp(mk_state_eqc_name)\n\nYou may use any of these help commands:\nhelp(mk_nfa)\nhelp(totalize_nfa)\nhelp(step_nfa)\nhelp(run_nfa)\nhelp(ec_step_nfa)\nhelp(Eclosure)\nhelp(Echelp)\nhelp(accepts_nfa)\nhelp(nfa2dfa)\nhelp(n2d)\nhelp(inSets)\nhelp(rev_dfa)\nhelp(min_dfa_brz)\n\n"
    }
   ],
   "source": [
    "#~~~~~~~~~~~~~~~~~~~~~~~~~~~~~~~~~~~~~~~~~~~~~~~~~~~~~~~\n",
    "import sys\n",
    "\n",
    "# -- Detect if in Own Install or in Colab\n",
    "try:\n",
    "    import google.colab\n",
    "    OWN_INSTALL = False\n",
    "except:\n",
    "    OWN_INSTALL = True\n",
    "    \n",
    "if OWN_INSTALL:\n",
    "    \n",
    "  #---- Leave these definitions ON if running on laptop\n",
    "  #---- Else turn OFF by putting them between ''' ... '''\n",
    "\n",
    "  sys.path[0:0] = ['../../../../..',  '../../../../../3rdparty',  \n",
    "                   '../../../..',  '../../../../3rdparty',  \n",
    "                   '../../..',     '../../../3rdparty', \n",
    "                   '../..',        '../../3rdparty',\n",
    "                   '..',           '../3rdparty' ]\n",
    "\n",
    "else: # In colab\n",
    "  ! if [ ! -d Jove ]; then git clone https://github.com/ganeshutah/Jove Jove; fi\n",
    "  sys.path.append('./Jove')\n",
    "  sys.path.append('./Jove/jove')\n",
    "\n",
    "# -- common imports --\n",
    "from jove.DotBashers import *\n",
    "from jove.Def_md2mc  import *\n",
    "from jove.Def_NFA    import *\n",
    "from jove.Def_DFA    import *\n",
    "from jove.AnimateNFA import *\n",
    "#~~~~~~~~~~~~~~~~~~~~~~~~~~~~~~~~~~~~~~~~~~~~~~~~~~~~~~~"
   ]
  },
  {
   "cell_type": "markdown",
   "metadata": {},
   "source": [
    "# This NFA checks whether a string has \"01\" in it"
   ]
  },
  {
   "cell_type": "code",
   "execution_count": 3,
   "metadata": {
    "tags": []
   },
   "outputs": [
    {
     "output_type": "stream",
     "name": "stderr",
     "text": "Generating LALR tables\n"
    }
   ],
   "source": [
    "nfahas01 = md2mc('''\n",
    "NFA \n",
    "I : 0 | 1 -> I\n",
    "I : '' -> A\n",
    "A : 0  -> B\n",
    "B : 1  -> C\n",
    "C : 0 | 1 -> C\n",
    "C : '' -> F\n",
    "''')"
   ]
  },
  {
   "cell_type": "markdown",
   "metadata": {},
   "source": [
    "## This example is highly worth studying via animations\n",
    "\n",
    "Put it in animate mode, and then single-step to see the EClosure of states"
   ]
  },
  {
   "cell_type": "code",
   "execution_count": 4,
   "metadata": {},
   "outputs": [
    {
     "output_type": "display_data",
     "data": {
      "text/plain": "VBox(children=(HBox(children=(Text(value='', description='Input:', layout=Layout(width='500px'), placeholder='…",
      "application/vnd.jupyter.widget-view+json": {
       "version_major": 2,
       "version_minor": 0,
       "model_id": "8543030fb3154f5498153fdaf82b8de9"
      }
     },
     "metadata": {}
    },
    {
     "output_type": "execute_result",
     "data": {
      "text/plain": "<jove.AnimateNFA.AnimateNFA at 0x16cf67b5f70>"
     },
     "metadata": {},
     "execution_count": 4
    }
   ],
   "source": [
    "AnimateNFA(nfahas01, FuseEdges=False)"
   ]
  },
  {
   "cell_type": "markdown",
   "metadata": {},
   "source": [
    "# This is an example from Figure 7.7 of the book\n",
    "\n",
    "I am choosing to type it in two different ways: one with a single initial state, and \n",
    "another with multiple initial states. Fig77 is the single initial state version, and\n",
    "Fig77a is with multiple initial states"
   ]
  },
  {
   "cell_type": "code",
   "execution_count": 5,
   "metadata": {},
   "outputs": [],
   "source": [
    "Fig77 = md2mc('''NFA\n",
    "I : '' -> A, G\n",
    "A : '' -> B, C\n",
    "G : 1  -> F\n",
    "B : 1  -> D\n",
    "C : 0  -> E\n",
    "D : '' -> A, G\n",
    "E : '' -> A, G\n",
    "''')"
   ]
  },
  {
   "cell_type": "code",
   "execution_count": 6,
   "metadata": {
    "scrolled": true
   },
   "outputs": [
    {
     "output_type": "display_data",
     "data": {
      "text/plain": "VBox(children=(HBox(children=(Text(value='', description='Input:', layout=Layout(width='500px'), placeholder='…",
      "application/vnd.jupyter.widget-view+json": {
       "version_major": 2,
       "version_minor": 0,
       "model_id": "0be59a43a4e2420bb81dd6571052f754"
      }
     },
     "metadata": {}
    },
    {
     "output_type": "execute_result",
     "data": {
      "text/plain": "<jove.AnimateNFA.AnimateNFA at 0x16cf6916640>"
     },
     "metadata": {},
     "execution_count": 6
    }
   ],
   "source": [
    "AnimateNFA(Fig77, FuseEdges=False)"
   ]
  },
  {
   "cell_type": "code",
   "execution_count": 7,
   "metadata": {
    "tags": []
   },
   "outputs": [
    {
     "output_type": "stream",
     "name": "stdout",
     "text": "Help on function nfa2dfa in module jove.Def_NFA:\n\nnfa2dfa(N, STATENAME_MAXSIZE=20)\n    In : N (consistent NFA), and optional STATENAME_MAXSIZE\n         for the generated DFA states\n    Out: A consistent DFA that is language-equivalent to N.\n\n"
    }
   ],
   "source": [
    "help(nfa2dfa)"
   ]
  },
  {
   "cell_type": "code",
   "execution_count": 8,
   "metadata": {},
   "outputs": [
    {
     "output_type": "execute_result",
     "data": {
      "text/plain": "<graphviz.dot.Digraph at 0x16cf6916b50>",
      "image/svg+xml": "<?xml version=\"1.0\" encoding=\"UTF-8\" standalone=\"no\"?>\r\n<!DOCTYPE svg PUBLIC \"-//W3C//DTD SVG 1.1//EN\"\r\n \"http://www.w3.org/Graphics/SVG/1.1/DTD/svg11.dtd\">\r\n<!-- Generated by graphviz version 2.38.0 (20140413.2041)\r\n -->\r\n<!-- Title: %3 Pages: 1 -->\r\n<svg width=\"584pt\" height=\"224pt\"\r\n viewBox=\"0.00 0.00 584.47 223.59\" xmlns=\"http://www.w3.org/2000/svg\" xmlns:xlink=\"http://www.w3.org/1999/xlink\">\r\n<g id=\"graph0\" class=\"graph\" transform=\"scale(1 1) rotate(0) translate(4 219.589)\">\r\n<title>%3</title>\r\n<polygon fill=\"white\" stroke=\"none\" points=\"-4,4 -4,-219.589 580.466,-219.589 580.466,4 -4,4\"/>\r\n<!-- EMPTY -->\r\n<g id=\"node1\" class=\"node\"><title>EMPTY</title>\r\n</g>\r\n<!-- A_B_C_G_I -->\r\n<g id=\"node3\" class=\"node\"><title>A_B_C_G_I</title>\r\n<ellipse fill=\"none\" stroke=\"black\" cx=\"149.495\" cy=\"-58.4948\" rx=\"58.4896\" ry=\"58.4896\"/>\r\n<text text-anchor=\"middle\" x=\"149.495\" y=\"-54.7948\" font-family=\"Times New Roman,serif\" font-size=\"14.00\">A_B_C_G_I</text>\r\n</g>\r\n<!-- EMPTY&#45;&gt;A_B_C_G_I -->\r\n<g id=\"edge1\" class=\"edge\"><title>EMPTY&#45;&gt;A_B_C_G_I</title>\r\n<path fill=\"none\" stroke=\"black\" d=\"M54.1456,-58.4948C62.0751,-58.4948 71.1798,-58.4948 80.5368,-58.4948\"/>\r\n<polygon fill=\"black\" stroke=\"black\" points=\"80.7455,-61.9949 90.7454,-58.4948 80.7454,-54.9949 80.7455,-61.9949\"/>\r\n</g>\r\n<!-- A_B_C_E_G -->\r\n<g id=\"node2\" class=\"node\"><title>A_B_C_E_G</title>\r\n<ellipse fill=\"none\" stroke=\"black\" cx=\"316.084\" cy=\"-121.495\" rx=\"61.1893\" ry=\"61.1893\"/>\r\n<text text-anchor=\"middle\" x=\"316.084\" y=\"-117.795\" font-family=\"Times New Roman,serif\" font-size=\"14.00\">A_B_C_E_G</text>\r\n</g>\r\n<!-- A_B_C_E_G&#45;&gt;A_B_C_E_G -->\r\n<g id=\"edge7\" class=\"edge\"><title>A_B_C_E_G&#45;&gt;A_B_C_E_G</title>\r\n<path fill=\"none\" stroke=\"black\" d=\"M301.035,-180.824C302.783,-192.382 307.799,-200.589 316.084,-200.589 321.78,-200.589 325.931,-196.71 328.537,-190.53\"/>\r\n<polygon fill=\"black\" stroke=\"black\" points=\"331.931,-191.389 331.133,-180.824 325.168,-189.58 331.931,-191.389\"/>\r\n<text text-anchor=\"middle\" x=\"316.084\" y=\"-204.389\" font-family=\"Times New Roman,serif\" font-size=\"14.00\">0 </text>\r\n</g>\r\n<!-- A_B_C_D_F_G -->\r\n<g id=\"node4\" class=\"node\"><title>A_B_C_D_F_G</title>\r\n<ellipse fill=\"none\" stroke=\"black\" cx=\"500.322\" cy=\"-83.4948\" rx=\"72.2799\" ry=\"72.2799\"/>\r\n<ellipse fill=\"none\" stroke=\"black\" cx=\"500.322\" cy=\"-83.4948\" rx=\"76.2875\" ry=\"76.2875\"/>\r\n<text text-anchor=\"middle\" x=\"500.322\" y=\"-79.7948\" font-family=\"Times New Roman,serif\" font-size=\"14.00\">A_B_C_D_F_G</text>\r\n</g>\r\n<!-- A_B_C_E_G&#45;&gt;A_B_C_D_F_G -->\r\n<g id=\"edge6\" class=\"edge\"><title>A_B_C_E_G&#45;&gt;A_B_C_D_F_G</title>\r\n<path fill=\"none\" stroke=\"black\" d=\"M376,-109.21C388.596,-106.583 402.134,-103.76 415.464,-100.981\"/>\r\n<polygon fill=\"black\" stroke=\"black\" points=\"416.522,-104.336 425.597,-98.8678 415.093,-97.4829 416.522,-104.336\"/>\r\n<text text-anchor=\"middle\" x=\"400.679\" y=\"-108.295\" font-family=\"Times New Roman,serif\" font-size=\"14.00\">1 </text>\r\n</g>\r\n<!-- A_B_C_G_I&#45;&gt;A_B_C_E_G -->\r\n<g id=\"edge3\" class=\"edge\"><title>A_B_C_G_I&#45;&gt;A_B_C_E_G</title>\r\n<path fill=\"none\" stroke=\"black\" d=\"M204.388,-79.1234C218.692,-84.5987 234.302,-90.5736 249.168,-96.264\"/>\r\n<polygon fill=\"black\" stroke=\"black\" points=\"248.218,-99.6481 258.809,-99.9542 250.721,-93.1107 248.218,-99.6481\"/>\r\n<text text-anchor=\"middle\" x=\"231.49\" y=\"-93.2948\" font-family=\"Times New Roman,serif\" font-size=\"14.00\">0 </text>\r\n</g>\r\n<!-- A_B_C_G_I&#45;&gt;A_B_C_D_F_G -->\r\n<g id=\"edge2\" class=\"edge\"><title>A_B_C_G_I&#45;&gt;A_B_C_D_F_G</title>\r\n<path fill=\"none\" stroke=\"black\" d=\"M206.302,-44.442C252.418,-34.8915 319.45,-25.7712 377.179,-36.4948 391.699,-39.1921 406.72,-43.5497 421.052,-48.5505\"/>\r\n<polygon fill=\"black\" stroke=\"black\" points=\"420.255,-51.9844 430.849,-52.103 422.641,-45.4037 420.255,-51.9844\"/>\r\n<text text-anchor=\"middle\" x=\"316.084\" y=\"-40.2948\" font-family=\"Times New Roman,serif\" font-size=\"14.00\">1 </text>\r\n</g>\r\n<!-- A_B_C_D_F_G&#45;&gt;A_B_C_E_G -->\r\n<g id=\"edge5\" class=\"edge\"><title>A_B_C_D_F_G&#45;&gt;A_B_C_E_G</title>\r\n<path fill=\"none\" stroke=\"black\" d=\"M424.06,-80.353C414.267,-81.0705 404.43,-82.3674 395.179,-84.4948 390.1,-85.6627 384.962,-87.1948 379.874,-88.9708\"/>\r\n<polygon fill=\"black\" stroke=\"black\" points=\"378.284,-85.8307 370.18,-92.6551 380.771,-92.374 378.284,-85.8307\"/>\r\n<text text-anchor=\"middle\" x=\"400.679\" y=\"-88.2948\" font-family=\"Times New Roman,serif\" font-size=\"14.00\">0 </text>\r\n</g>\r\n<!-- A_B_C_D_F_G&#45;&gt;A_B_C_D_F_G -->\r\n<g id=\"edge4\" class=\"edge\"><title>A_B_C_D_F_G&#45;&gt;A_B_C_D_F_G</title>\r\n<path fill=\"none\" stroke=\"black\" d=\"M483.483,-158.075C486,-169.708 491.613,-177.638 500.322,-177.638 506.31,-177.638 510.834,-173.89 513.895,-167.767\"/>\r\n<polygon fill=\"black\" stroke=\"black\" points=\"517.284,-168.67 517.162,-158.075 510.651,-166.433 517.284,-168.67\"/>\r\n<text text-anchor=\"middle\" x=\"500.322\" y=\"-181.438\" font-family=\"Times New Roman,serif\" font-size=\"14.00\">1 </text>\r\n</g>\r\n</g>\r\n</svg>\r\n"
     },
     "metadata": {},
     "execution_count": 8
    }
   ],
   "source": [
    "dotObj_dfa(nfa2dfa(Fig77, STATENAME_MAXSIZE=50), STATENAME_MAXSIZE=50)"
   ]
  },
  {
   "cell_type": "markdown",
   "metadata": {},
   "source": [
    "# Now for the Book's Figure 7.7 done with two initial states"
   ]
  },
  {
   "cell_type": "code",
   "execution_count": 9,
   "metadata": {},
   "outputs": [],
   "source": [
    "Fig77a = md2mc('''NFA\n",
    "IA : '' -> B, C\n",
    "IG : 1  -> F\n",
    "B : 1  -> D\n",
    "C : 0  -> E\n",
    "D : '' -> IA, IG\n",
    "E : '' -> IA, IG\n",
    "''')"
   ]
  },
  {
   "cell_type": "code",
   "execution_count": 10,
   "metadata": {},
   "outputs": [
    {
     "output_type": "execute_result",
     "data": {
      "text/plain": "<graphviz.dot.Digraph at 0x16cf694d100>",
      "image/svg+xml": "<?xml version=\"1.0\" encoding=\"UTF-8\" standalone=\"no\"?>\r\n<!DOCTYPE svg PUBLIC \"-//W3C//DTD SVG 1.1//EN\"\r\n \"http://www.w3.org/Graphics/SVG/1.1/DTD/svg11.dtd\">\r\n<!-- Generated by graphviz version 2.38.0 (20140413.2041)\r\n -->\r\n<!-- Title: %3 Pages: 1 -->\r\n<svg width=\"483pt\" height=\"228pt\"\r\n viewBox=\"0.00 0.00 482.89 228.00\" xmlns=\"http://www.w3.org/2000/svg\" xmlns:xlink=\"http://www.w3.org/1999/xlink\">\r\n<g id=\"graph0\" class=\"graph\" transform=\"scale(1 1) rotate(0) translate(4 224)\">\r\n<title>%3</title>\r\n<polygon fill=\"white\" stroke=\"none\" points=\"-4,4 -4,-224 478.893,-224 478.893,4 -4,4\"/>\r\n<!-- EMPTY -->\r\n<g id=\"node1\" class=\"node\"><title>EMPTY</title>\r\n</g>\r\n<!-- IG -->\r\n<g id=\"node6\" class=\"node\"><title>IG</title>\r\n<ellipse fill=\"none\" stroke=\"black\" cx=\"363.095\" cy=\"-136\" rx=\"20.5982\" ry=\"20.5982\"/>\r\n<text text-anchor=\"middle\" x=\"363.095\" y=\"-132.3\" font-family=\"Times New Roman,serif\" font-size=\"14.00\">IG</text>\r\n</g>\r\n<!-- EMPTY&#45;&gt;IG -->\r\n<g id=\"edge1\" class=\"edge\"><title>EMPTY&#45;&gt;IG</title>\r\n<path fill=\"none\" stroke=\"black\" d=\"M54.0742,-204.318C69.7785,-212.128 90.484,-220 110.148,-220 110.148,-220 110.148,-220 279.296,-220 311.616,-220 335.557,-188.069 349.165,-163.581\"/>\r\n<polygon fill=\"black\" stroke=\"black\" points=\"352.309,-165.122 353.87,-154.642 346.115,-161.861 352.309,-165.122\"/>\r\n</g>\r\n<!-- IA -->\r\n<g id=\"node7\" class=\"node\"><title>IA</title>\r\n<ellipse fill=\"none\" stroke=\"black\" cx=\"111.148\" cy=\"-123\" rx=\"20.2975\" ry=\"20.2975\"/>\r\n<text text-anchor=\"middle\" x=\"111.148\" y=\"-119.3\" font-family=\"Times New Roman,serif\" font-size=\"14.00\">IA</text>\r\n</g>\r\n<!-- EMPTY&#45;&gt;IA -->\r\n<g id=\"edge2\" class=\"edge\"><title>EMPTY&#45;&gt;IA</title>\r\n<path fill=\"none\" stroke=\"black\" d=\"M50.4474,-170.965C61.8389,-161.813 75.6556,-150.712 87.127,-141.496\"/>\r\n<polygon fill=\"black\" stroke=\"black\" points=\"89.3937,-144.164 94.9972,-135.173 85.0094,-138.707 89.3937,-144.164\"/>\r\n</g>\r\n<!-- D -->\r\n<g id=\"node2\" class=\"node\"><title>D</title>\r\n<ellipse fill=\"none\" stroke=\"black\" cx=\"278.296\" cy=\"-72\" rx=\"18\" ry=\"18\"/>\r\n<text text-anchor=\"middle\" x=\"278.296\" y=\"-68.3\" font-family=\"Times New Roman,serif\" font-size=\"14.00\">D</text>\r\n</g>\r\n<!-- D&#45;&gt;IG -->\r\n<g id=\"edge8\" class=\"edge\"><title>D&#45;&gt;IG</title>\r\n<path fill=\"none\" stroke=\"black\" d=\"M292.969,-82.5683C305.179,-92.0061 323.344,-106.047 337.989,-117.367\"/>\r\n<polygon fill=\"black\" stroke=\"black\" points=\"336.081,-120.316 346.133,-123.663 340.362,-114.778 336.081,-120.316\"/>\r\n<text text-anchor=\"middle\" x=\"319.296\" y=\"-109.8\" font-family=\"Times New Roman,serif\" font-size=\"14.00\">&#39;&#39; </text>\r\n</g>\r\n<!-- D&#45;&gt;IA -->\r\n<g id=\"edge9\" class=\"edge\"><title>D&#45;&gt;IA</title>\r\n<path fill=\"none\" stroke=\"black\" d=\"M260.151,-71.0928C239.812,-70.5669 205.154,-71.4208 177.296,-81 162.141,-86.2114 146.987,-95.6637 135.113,-104.283\"/>\r\n<polygon fill=\"black\" stroke=\"black\" points=\"132.964,-101.52 127.094,-110.34 137.183,-107.106 132.964,-101.52\"/>\r\n<text text-anchor=\"middle\" x=\"195.296\" y=\"-84.8\" font-family=\"Times New Roman,serif\" font-size=\"14.00\">&#39;&#39; </text>\r\n</g>\r\n<!-- B -->\r\n<g id=\"node3\" class=\"node\"><title>B</title>\r\n<ellipse fill=\"none\" stroke=\"black\" cx=\"195.296\" cy=\"-18\" rx=\"18\" ry=\"18\"/>\r\n<text text-anchor=\"middle\" x=\"195.296\" y=\"-14.3\" font-family=\"Times New Roman,serif\" font-size=\"14.00\">B</text>\r\n</g>\r\n<!-- B&#45;&gt;D -->\r\n<g id=\"edge6\" class=\"edge\"><title>B&#45;&gt;D</title>\r\n<path fill=\"none\" stroke=\"black\" d=\"M212.07,-25.6101C221.161,-30.2301 232.661,-36.4801 242.296,-43 247.116,-46.2614 252.064,-50.0505 256.666,-53.7926\"/>\r\n<polygon fill=\"black\" stroke=\"black\" points=\"254.565,-56.5993 264.473,-60.3533 259.069,-51.2403 254.565,-56.5993\"/>\r\n<text text-anchor=\"middle\" x=\"236.796\" y=\"-46.8\" font-family=\"Times New Roman,serif\" font-size=\"14.00\">1 </text>\r\n</g>\r\n<!-- E -->\r\n<g id=\"node4\" class=\"node\"><title>E</title>\r\n<ellipse fill=\"none\" stroke=\"black\" cx=\"278.296\" cy=\"-136\" rx=\"18\" ry=\"18\"/>\r\n<text text-anchor=\"middle\" x=\"278.296\" y=\"-132.3\" font-family=\"Times New Roman,serif\" font-size=\"14.00\">E</text>\r\n</g>\r\n<!-- E&#45;&gt;IG -->\r\n<g id=\"edge10\" class=\"edge\"><title>E&#45;&gt;IG</title>\r\n<path fill=\"none\" stroke=\"black\" d=\"M296.452,-136C306.71,-136 320.034,-136 331.996,-136\"/>\r\n<polygon fill=\"black\" stroke=\"black\" points=\"332.045,-139.5 342.045,-136 332.045,-132.5 332.045,-139.5\"/>\r\n<text text-anchor=\"middle\" x=\"319.296\" y=\"-139.8\" font-family=\"Times New Roman,serif\" font-size=\"14.00\">&#39;&#39; </text>\r\n</g>\r\n<!-- E&#45;&gt;IA -->\r\n<g id=\"edge11\" class=\"edge\"><title>E&#45;&gt;IA</title>\r\n<path fill=\"none\" stroke=\"black\" d=\"M261.579,-143.062C255.657,-145.394 248.783,-147.719 242.296,-149 213.952,-154.6 205.909,-154.007 177.296,-150 163.751,-148.103 149.62,-142.719 137.996,-137.254\"/>\r\n<polygon fill=\"black\" stroke=\"black\" points=\"139.399,-134.043 128.888,-132.718 136.279,-140.309 139.399,-134.043\"/>\r\n<text text-anchor=\"middle\" x=\"195.296\" y=\"-156.8\" font-family=\"Times New Roman,serif\" font-size=\"14.00\">&#39;&#39; </text>\r\n</g>\r\n<!-- C -->\r\n<g id=\"node5\" class=\"node\"><title>C</title>\r\n<ellipse fill=\"none\" stroke=\"black\" cx=\"195.296\" cy=\"-123\" rx=\"18\" ry=\"18\"/>\r\n<text text-anchor=\"middle\" x=\"195.296\" y=\"-119.3\" font-family=\"Times New Roman,serif\" font-size=\"14.00\">C</text>\r\n</g>\r\n<!-- C&#45;&gt;E -->\r\n<g id=\"edge7\" class=\"edge\"><title>C&#45;&gt;E</title>\r\n<path fill=\"none\" stroke=\"black\" d=\"M213.474,-125.757C224.178,-127.475 238.178,-129.722 250.338,-131.673\"/>\r\n<polygon fill=\"black\" stroke=\"black\" points=\"249.993,-135.163 260.421,-133.292 251.102,-128.251 249.993,-135.163\"/>\r\n<text text-anchor=\"middle\" x=\"236.796\" y=\"-133.8\" font-family=\"Times New Roman,serif\" font-size=\"14.00\">0 </text>\r\n</g>\r\n<!-- F -->\r\n<g id=\"node8\" class=\"node\"><title>F</title>\r\n<ellipse fill=\"none\" stroke=\"black\" cx=\"452.893\" cy=\"-136\" rx=\"18\" ry=\"18\"/>\r\n<ellipse fill=\"none\" stroke=\"black\" cx=\"452.893\" cy=\"-136\" rx=\"22\" ry=\"22\"/>\r\n<text text-anchor=\"middle\" x=\"452.893\" y=\"-132.3\" font-family=\"Times New Roman,serif\" font-size=\"14.00\">F</text>\r\n</g>\r\n<!-- IG&#45;&gt;F -->\r\n<g id=\"edge5\" class=\"edge\"><title>IG&#45;&gt;F</title>\r\n<path fill=\"none\" stroke=\"black\" d=\"M384.017,-136C394.818,-136 408.411,-136 420.591,-136\"/>\r\n<polygon fill=\"black\" stroke=\"black\" points=\"420.825,-139.5 430.825,-136 420.824,-132.5 420.825,-139.5\"/>\r\n<text text-anchor=\"middle\" x=\"407.393\" y=\"-139.8\" font-family=\"Times New Roman,serif\" font-size=\"14.00\">1 </text>\r\n</g>\r\n<!-- IA&#45;&gt;B -->\r\n<g id=\"edge3\" class=\"edge\"><title>IA&#45;&gt;B</title>\r\n<path fill=\"none\" stroke=\"black\" d=\"M117.384,-103.584C122.923,-86.0411 133.131,-60.3798 149.296,-43 154.736,-37.1513 161.863,-32.3392 168.835,-28.5529\"/>\r\n<polygon fill=\"black\" stroke=\"black\" points=\"170.635,-31.5684 178.074,-24.0245 167.554,-25.2828 170.635,-31.5684\"/>\r\n<text text-anchor=\"middle\" x=\"154.296\" y=\"-46.8\" font-family=\"Times New Roman,serif\" font-size=\"14.00\">&#39;&#39; </text>\r\n</g>\r\n<!-- IA&#45;&gt;C -->\r\n<g id=\"edge4\" class=\"edge\"><title>IA&#45;&gt;C</title>\r\n<path fill=\"none\" stroke=\"black\" d=\"M131.616,-123C142.223,-123 155.518,-123 167.131,-123\"/>\r\n<polygon fill=\"black\" stroke=\"black\" points=\"167.197,-126.5 177.197,-123 167.197,-119.5 167.197,-126.5\"/>\r\n<text text-anchor=\"middle\" x=\"154.296\" y=\"-126.8\" font-family=\"Times New Roman,serif\" font-size=\"14.00\">&#39;&#39; </text>\r\n</g>\r\n</g>\r\n</svg>\r\n"
     },
     "metadata": {},
     "execution_count": 10
    }
   ],
   "source": [
    "dotObj_nfa(Fig77a)"
   ]
  },
  {
   "cell_type": "code",
   "execution_count": 11,
   "metadata": {},
   "outputs": [
    {
     "output_type": "execute_result",
     "data": {
      "text/plain": "<graphviz.dot.Digraph at 0x16cf6916580>",
      "image/svg+xml": "<?xml version=\"1.0\" encoding=\"UTF-8\" standalone=\"no\"?>\r\n<!DOCTYPE svg PUBLIC \"-//W3C//DTD SVG 1.1//EN\"\r\n \"http://www.w3.org/Graphics/SVG/1.1/DTD/svg11.dtd\">\r\n<!-- Generated by graphviz version 2.38.0 (20140413.2041)\r\n -->\r\n<!-- Title: %3 Pages: 1 -->\r\n<svg width=\"604pt\" height=\"231pt\"\r\n viewBox=\"0.00 0.00 603.96 231.49\" xmlns=\"http://www.w3.org/2000/svg\" xmlns:xlink=\"http://www.w3.org/1999/xlink\">\r\n<g id=\"graph0\" class=\"graph\" transform=\"scale(1 1) rotate(0) translate(4 227.489)\">\r\n<title>%3</title>\r\n<polygon fill=\"white\" stroke=\"none\" points=\"-4,4 -4,-227.489 599.964,-227.489 599.964,4 -4,4\"/>\r\n<!-- EMPTY -->\r\n<g id=\"node1\" class=\"node\"><title>EMPTY</title>\r\n</g>\r\n<!-- B_C_IA_IG -->\r\n<g id=\"node3\" class=\"node\"><title>B_C_IA_IG</title>\r\n<ellipse fill=\"none\" stroke=\"black\" cx=\"147.545\" cy=\"-56.545\" rx=\"56.59\" ry=\"56.59\"/>\r\n<text text-anchor=\"middle\" x=\"147.545\" y=\"-52.845\" font-family=\"Times New Roman,serif\" font-size=\"14.00\">B_C_IA_IG</text>\r\n</g>\r\n<!-- EMPTY&#45;&gt;B_C_IA_IG -->\r\n<g id=\"edge1\" class=\"edge\"><title>EMPTY&#45;&gt;B_C_IA_IG</title>\r\n<path fill=\"none\" stroke=\"black\" d=\"M54.0152,-56.545C62.0235,-56.545 71.2293,-56.545 80.6613,-56.545\"/>\r\n<polygon fill=\"black\" stroke=\"black\" points=\"80.9388,-60.0451 90.9388,-56.545 80.9387,-53.0451 80.9388,-60.0451\"/>\r\n</g>\r\n<!-- B_C_E_IA_IG -->\r\n<g id=\"node2\" class=\"node\"><title>B_C_E_IA_IG</title>\r\n<ellipse fill=\"none\" stroke=\"black\" cx=\"318.034\" cy=\"-123.545\" rx=\"66.8882\" ry=\"66.8882\"/>\r\n<text text-anchor=\"middle\" x=\"318.034\" y=\"-119.845\" font-family=\"Times New Roman,serif\" font-size=\"14.00\">B_C_E_IA_IG</text>\r\n</g>\r\n<!-- B_C_E_IA_IG&#45;&gt;B_C_E_IA_IG -->\r\n<g id=\"edge7\" class=\"edge\"><title>B_C_E_IA_IG&#45;&gt;B_C_E_IA_IG</title>\r\n<path fill=\"none\" stroke=\"black\" d=\"M302.149,-188.719C304.214,-200.359 309.509,-208.489 318.034,-208.489 323.895,-208.489 328.23,-204.646 331.037,-198.462\"/>\r\n<polygon fill=\"black\" stroke=\"black\" points=\"334.439,-199.301 333.919,-188.719 327.726,-197.316 334.439,-199.301\"/>\r\n<text text-anchor=\"middle\" x=\"318.034\" y=\"-212.289\" font-family=\"Times New Roman,serif\" font-size=\"14.00\">0 </text>\r\n</g>\r\n<!-- B_C_D_F_IA_IG -->\r\n<g id=\"node4\" class=\"node\"><title>B_C_D_F_IA_IG</title>\r\n<ellipse fill=\"none\" stroke=\"black\" cx=\"513.971\" cy=\"-85.545\" rx=\"77.9865\" ry=\"77.9865\"/>\r\n<ellipse fill=\"none\" stroke=\"black\" cx=\"513.971\" cy=\"-85.545\" rx=\"81.9862\" ry=\"81.9862\"/>\r\n<text text-anchor=\"middle\" x=\"513.971\" y=\"-81.845\" font-family=\"Times New Roman,serif\" font-size=\"14.00\">B_C_D_F_IA_IG</text>\r\n</g>\r\n<!-- B_C_E_IA_IG&#45;&gt;B_C_D_F_IA_IG -->\r\n<g id=\"edge6\" class=\"edge\"><title>B_C_E_IA_IG&#45;&gt;B_C_D_F_IA_IG</title>\r\n<path fill=\"none\" stroke=\"black\" d=\"M383.882,-110.839C396.518,-108.363 409.974,-105.726 423.248,-103.125\"/>\r\n<polygon fill=\"black\" stroke=\"black\" points=\"424.206,-106.504 433.346,-101.147 422.86,-99.6349 424.206,-106.504\"/>\r\n<text text-anchor=\"middle\" x=\"408.478\" y=\"-111.345\" font-family=\"Times New Roman,serif\" font-size=\"14.00\">1 </text>\r\n</g>\r\n<!-- B_C_IA_IG&#45;&gt;B_C_E_IA_IG -->\r\n<g id=\"edge3\" class=\"edge\"><title>B_C_IA_IG&#45;&gt;B_C_E_IA_IG</title>\r\n<path fill=\"none\" stroke=\"black\" d=\"M200.472,-77.1939C214.885,-82.9253 230.786,-89.2482 246.086,-95.3324\"/>\r\n<polygon fill=\"black\" stroke=\"black\" points=\"244.931,-98.6396 255.517,-99.0824 247.518,-92.135 244.931,-98.6396\"/>\r\n<text text-anchor=\"middle\" x=\"227.59\" y=\"-94.345\" font-family=\"Times New Roman,serif\" font-size=\"14.00\">0 </text>\r\n</g>\r\n<!-- B_C_IA_IG&#45;&gt;B_C_D_F_IA_IG -->\r\n<g id=\"edge2\" class=\"edge\"><title>B_C_IA_IG&#45;&gt;B_C_D_F_IA_IG</title>\r\n<path fill=\"none\" stroke=\"black\" d=\"M202.153,-41.5503C217.8,-37.842 235.015,-34.401 251.09,-32.545 310.203,-25.7197 326.615,-20.9392 384.978,-32.545 400.071,-35.5463 415.615,-40.3583 430.442,-45.8882\"/>\r\n<polygon fill=\"black\" stroke=\"black\" points=\"429.481,-49.269 440.07,-49.6141 432.007,-42.7408 429.481,-49.269\"/>\r\n<text text-anchor=\"middle\" x=\"318.034\" y=\"-36.345\" font-family=\"Times New Roman,serif\" font-size=\"14.00\">1 </text>\r\n</g>\r\n<!-- B_C_D_F_IA_IG&#45;&gt;B_C_E_IA_IG -->\r\n<g id=\"edge5\" class=\"edge\"><title>B_C_D_F_IA_IG&#45;&gt;B_C_E_IA_IG</title>\r\n<path fill=\"none\" stroke=\"black\" d=\"M431.764,-82.5625C421.999,-83.2969 412.219,-84.5548 402.978,-86.545 397.95,-87.6279 392.854,-89.0265 387.788,-90.6439\"/>\r\n<polygon fill=\"black\" stroke=\"black\" points=\"386.41,-87.417 378.108,-93.9984 388.702,-94.0311 386.41,-87.417\"/>\r\n<text text-anchor=\"middle\" x=\"408.478\" y=\"-90.345\" font-family=\"Times New Roman,serif\" font-size=\"14.00\">0 </text>\r\n</g>\r\n<!-- B_C_D_F_IA_IG&#45;&gt;B_C_D_F_IA_IG -->\r\n<g id=\"edge4\" class=\"edge\"><title>B_C_D_F_IA_IG&#45;&gt;B_C_D_F_IA_IG</title>\r\n<path fill=\"none\" stroke=\"black\" d=\"M496.375,-165.968C499.168,-177.661 505.034,-185.538 513.971,-185.538 520.116,-185.538 524.808,-181.815 528.048,-175.688\"/>\r\n<polygon fill=\"black\" stroke=\"black\" points=\"531.454,-176.563 531.567,-165.968 524.872,-174.18 531.454,-176.563\"/>\r\n<text text-anchor=\"middle\" x=\"513.971\" y=\"-189.338\" font-family=\"Times New Roman,serif\" font-size=\"14.00\">1 </text>\r\n</g>\r\n</g>\r\n</svg>\r\n"
     },
     "metadata": {},
     "execution_count": 11
    }
   ],
   "source": [
    "dotObj_dfa(nfa2dfa(Fig77a, STATENAME_MAXSIZE=50), STATENAME_MAXSIZE=50)"
   ]
  },
  {
   "cell_type": "code",
   "execution_count": 12,
   "metadata": {
    "run_control": {
     "frozen": false,
     "read_only": false
    }
   },
   "outputs": [],
   "source": [
    "# Our automd markdown works for NFA also. Here is the NFA for\n",
    "# the language \"ends in 0101\"\n",
    "\n",
    "NFA_ends0101 = md2mc(''' \n",
    "!!---------------------------------------------------------------------------\n",
    "!! This NFA looks for patterns of the form \n",
    "!!\n",
    "!!     ......<some 0's and 1's>.....0101\n",
    "!!\n",
    "!! i.e., all strings that end in 0101.\n",
    "!!\n",
    "!! This example (over and above thirdlastis1.nfa) also illustrates\n",
    "!! the power of nondeterminism. Anytime we see a 0 from state I, we\n",
    "!! can have the NFA speculate that it is seeing the beginning of a\n",
    "!! 0101 pattern! If the NFA fails in its guess, it pays no price\n",
    "!! (because another guess is soon coming from behind).\n",
    "!!\n",
    "!! * We take 4 states in the NFA solution. The DFA solution takes\n",
    "!!   5 states.\n",
    "!!\n",
    "!! * This shows how burden is shifted from the\n",
    "!!   human to the computer doing the NFA simulation.\n",
    "!!   Even though the savings in states is not dramatic,\n",
    "!!   the effort to build this NFA is much lower than building\n",
    "!!   the corresponding DFA.\n",
    "!! \n",
    "!!-----------------------------------------------------------------\n",
    "!! For NFA, each line can be as follows:\n",
    "!!\n",
    "!! State : in1 | in2 ...  ->  COmma, Separated, State, List  !! comment\n",
    "!!-----------------------------------------------------------------\n",
    "\n",
    "NFA\n",
    "\n",
    "I    : 1   -> I      !! I goes to I upon 1\n",
    "\n",
    "I    : 0   -> S0, I  !! I goes to S0 and I upon 0\n",
    "\n",
    "S0   : 1   -> S01    !! S0 goes to S01 upon 1\n",
    "\n",
    "S01  : 0   -> S010   !! S01 goes to S010 upon 0\n",
    "\n",
    "S010 : 1   -> F      !! S010 goes to F upon F\n",
    "\n",
    "!!---\n",
    "''')"
   ]
  },
  {
   "cell_type": "code",
   "execution_count": 13,
   "metadata": {
    "run_control": {
     "frozen": false,
     "read_only": false
    }
   },
   "outputs": [
    {
     "output_type": "execute_result",
     "data": {
      "text/plain": "{'Q': {'F', 'I', 'S0', 'S01', 'S010'},\n 'Sigma': {'0', '1'},\n 'Delta': {('I', '1'): {'I'},\n  ('I', '0'): {'I', 'S0'},\n  ('S0', '1'): {'S01'},\n  ('S01', '0'): {'S010'},\n  ('S010', '1'): {'F'}},\n 'Q0': {'I'},\n 'F': {'F'}}"
     },
     "metadata": {},
     "execution_count": 13
    }
   ],
   "source": [
    "# Now let us see the dict version of the NFA\n",
    "NFA_ends0101 "
   ]
  },
  {
   "cell_type": "code",
   "execution_count": 14,
   "metadata": {
    "run_control": {
     "frozen": false,
     "read_only": false
    }
   },
   "outputs": [
    {
     "output_type": "execute_result",
     "data": {
      "text/plain": "<graphviz.dot.Digraph at 0x16cf676cf40>",
      "image/svg+xml": "<?xml version=\"1.0\" encoding=\"UTF-8\" standalone=\"no\"?>\r\n<!DOCTYPE svg PUBLIC \"-//W3C//DTD SVG 1.1//EN\"\r\n \"http://www.w3.org/Graphics/SVG/1.1/DTD/svg11.dtd\">\r\n<!-- Generated by graphviz version 2.38.0 (20140413.2041)\r\n -->\r\n<!-- Title: %3 Pages: 1 -->\r\n<svg width=\"516pt\" height=\"121pt\"\r\n viewBox=\"0.00 0.00 516.49 121.25\" xmlns=\"http://www.w3.org/2000/svg\" xmlns:xlink=\"http://www.w3.org/1999/xlink\">\r\n<g id=\"graph0\" class=\"graph\" transform=\"scale(1 1) rotate(0) translate(4 117.247)\">\r\n<title>%3</title>\r\n<polygon fill=\"white\" stroke=\"none\" points=\"-4,4 -4,-117.247 512.487,-117.247 512.487,4 -4,4\"/>\r\n<!-- EMPTY -->\r\n<g id=\"node1\" class=\"node\"><title>EMPTY</title>\r\n</g>\r\n<!-- I -->\r\n<g id=\"node3\" class=\"node\"><title>I</title>\r\n<ellipse fill=\"none\" stroke=\"black\" cx=\"109\" cy=\"-29.2474\" rx=\"18\" ry=\"18\"/>\r\n<text text-anchor=\"middle\" x=\"109\" y=\"-25.5474\" font-family=\"Times New Roman,serif\" font-size=\"14.00\">I</text>\r\n</g>\r\n<!-- EMPTY&#45;&gt;I -->\r\n<g id=\"edge1\" class=\"edge\"><title>EMPTY&#45;&gt;I</title>\r\n<path fill=\"none\" stroke=\"black\" d=\"M54.195,-29.2474C62.6538,-29.2474 72.0513,-29.2474 80.5951,-29.2474\"/>\r\n<polygon fill=\"black\" stroke=\"black\" points=\"80.8257,-32.7475 90.8257,-29.2474 80.8257,-25.7475 80.8257,-32.7475\"/>\r\n</g>\r\n<!-- S01 -->\r\n<g id=\"node2\" class=\"node\"><title>S01</title>\r\n<ellipse fill=\"none\" stroke=\"black\" cx=\"287.294\" cy=\"-29.2474\" rx=\"24.8972\" ry=\"24.8972\"/>\r\n<text text-anchor=\"middle\" x=\"287.294\" y=\"-25.5474\" font-family=\"Times New Roman,serif\" font-size=\"14.00\">S01</text>\r\n</g>\r\n<!-- S010 -->\r\n<g id=\"node5\" class=\"node\"><title>S010</title>\r\n<ellipse fill=\"none\" stroke=\"black\" cx=\"388.239\" cy=\"-29.2474\" rx=\"29.4969\" ry=\"29.4969\"/>\r\n<text text-anchor=\"middle\" x=\"388.239\" y=\"-25.5474\" font-family=\"Times New Roman,serif\" font-size=\"14.00\">S010</text>\r\n</g>\r\n<!-- S01&#45;&gt;S010 -->\r\n<g id=\"edge6\" class=\"edge\"><title>S01&#45;&gt;S010</title>\r\n<path fill=\"none\" stroke=\"black\" d=\"M311.994,-29.2474C322.982,-29.2474 336.323,-29.2474 348.702,-29.2474\"/>\r\n<polygon fill=\"black\" stroke=\"black\" points=\"348.802,-32.7475 358.802,-29.2474 348.802,-25.7475 348.802,-32.7475\"/>\r\n<text text-anchor=\"middle\" x=\"335.492\" y=\"-33.0474\" font-family=\"Times New Roman,serif\" font-size=\"14.00\">0 </text>\r\n</g>\r\n<!-- I&#45;&gt;I -->\r\n<g id=\"edge2\" class=\"edge\"><title>I&#45;&gt;I</title>\r\n<path fill=\"none\" stroke=\"black\" d=\"M105.764,-47.0291C105.214,-56.5623 106.293,-65.2474 109,-65.2474 110.65,-65.2474 111.694,-62.0223 112.135,-57.3455\"/>\r\n<polygon fill=\"black\" stroke=\"black\" points=\"115.638,-57.063 112.236,-47.0291 108.638,-56.9943 115.638,-57.063\"/>\r\n<text text-anchor=\"middle\" x=\"109\" y=\"-69.0474\" font-family=\"Times New Roman,serif\" font-size=\"14.00\">1 </text>\r\n</g>\r\n<!-- I&#45;&gt;I -->\r\n<g id=\"edge3\" class=\"edge\"><title>I&#45;&gt;I</title>\r\n<path fill=\"none\" stroke=\"black\" d=\"M103.684,-46.6677C100.654,-64.0384 102.426,-83.2474 109,-83.2474 114.29,-83.2474 116.471,-70.8091 115.542,-56.8994\"/>\r\n<polygon fill=\"black\" stroke=\"black\" points=\"118.981,-56.1802 114.316,-46.6677 112.031,-57.0131 118.981,-56.1802\"/>\r\n<text text-anchor=\"middle\" x=\"109\" y=\"-87.0474\" font-family=\"Times New Roman,serif\" font-size=\"14.00\">0 </text>\r\n</g>\r\n<!-- S0 -->\r\n<g id=\"node4\" class=\"node\"><title>S0</title>\r\n<ellipse fill=\"none\" stroke=\"black\" cx=\"194.798\" cy=\"-29.2474\" rx=\"20.5982\" ry=\"20.5982\"/>\r\n<text text-anchor=\"middle\" x=\"194.798\" y=\"-25.5474\" font-family=\"Times New Roman,serif\" font-size=\"14.00\">S0</text>\r\n</g>\r\n<!-- I&#45;&gt;S0 -->\r\n<g id=\"edge4\" class=\"edge\"><title>I&#45;&gt;S0</title>\r\n<path fill=\"none\" stroke=\"black\" d=\"M127.363,-29.2474C137.819,-29.2474 151.423,-29.2474 163.595,-29.2474\"/>\r\n<polygon fill=\"black\" stroke=\"black\" points=\"163.808,-32.7475 173.808,-29.2474 163.808,-25.7475 163.808,-32.7475\"/>\r\n<text text-anchor=\"middle\" x=\"150.5\" y=\"-33.0474\" font-family=\"Times New Roman,serif\" font-size=\"14.00\">0 </text>\r\n</g>\r\n<!-- S0&#45;&gt;S01 -->\r\n<g id=\"edge5\" class=\"edge\"><title>S0&#45;&gt;S01</title>\r\n<path fill=\"none\" stroke=\"black\" d=\"M215.882,-29.2474C226.515,-29.2474 239.865,-29.2474 252.075,-29.2474\"/>\r\n<polygon fill=\"black\" stroke=\"black\" points=\"252.414,-32.7475 262.414,-29.2474 252.414,-25.7475 252.414,-32.7475\"/>\r\n<text text-anchor=\"middle\" x=\"239.096\" y=\"-33.0474\" font-family=\"Times New Roman,serif\" font-size=\"14.00\">1 </text>\r\n</g>\r\n<!-- F -->\r\n<g id=\"node6\" class=\"node\"><title>F</title>\r\n<ellipse fill=\"none\" stroke=\"black\" cx=\"486.487\" cy=\"-29.2474\" rx=\"18\" ry=\"18\"/>\r\n<ellipse fill=\"none\" stroke=\"black\" cx=\"486.487\" cy=\"-29.2474\" rx=\"22\" ry=\"22\"/>\r\n<text text-anchor=\"middle\" x=\"486.487\" y=\"-25.5474\" font-family=\"Times New Roman,serif\" font-size=\"14.00\">F</text>\r\n</g>\r\n<!-- S010&#45;&gt;F -->\r\n<g id=\"edge7\" class=\"edge\"><title>S010&#45;&gt;F</title>\r\n<path fill=\"none\" stroke=\"black\" d=\"M417.596,-29.2474C429.059,-29.2474 442.332,-29.2474 454.086,-29.2474\"/>\r\n<polygon fill=\"black\" stroke=\"black\" points=\"454.357,-32.7475 464.357,-29.2474 454.357,-25.7475 454.357,-32.7475\"/>\r\n<text text-anchor=\"middle\" x=\"440.987\" y=\"-33.0474\" font-family=\"Times New Roman,serif\" font-size=\"14.00\">1 </text>\r\n</g>\r\n</g>\r\n</svg>\r\n"
     },
     "metadata": {},
     "execution_count": 14
    }
   ],
   "source": [
    "# Let's see the drawing of this NFA\n",
    "\n",
    "dotObj_nfa(NFA_ends0101)  "
   ]
  },
  {
   "cell_type": "code",
   "execution_count": 15,
   "metadata": {
    "run_control": {
     "frozen": false,
     "read_only": false
    }
   },
   "outputs": [
    {
     "output_type": "execute_result",
     "data": {
      "text/plain": "<graphviz.dot.Digraph at 0x16cf67b5970>",
      "image/svg+xml": "<?xml version=\"1.0\" encoding=\"UTF-8\" standalone=\"no\"?>\r\n<!DOCTYPE svg PUBLIC \"-//W3C//DTD SVG 1.1//EN\"\r\n \"http://www.w3.org/Graphics/SVG/1.1/DTD/svg11.dtd\">\r\n<!-- Generated by graphviz version 2.38.0 (20140413.2041)\r\n -->\r\n<!-- Title: %3 Pages: 1 -->\r\n<svg width=\"516pt\" height=\"103pt\"\r\n viewBox=\"0.00 0.00 516.49 103.25\" xmlns=\"http://www.w3.org/2000/svg\" xmlns:xlink=\"http://www.w3.org/1999/xlink\">\r\n<g id=\"graph0\" class=\"graph\" transform=\"scale(1 1) rotate(0) translate(4 99.2474)\">\r\n<title>%3</title>\r\n<polygon fill=\"white\" stroke=\"none\" points=\"-4,4 -4,-99.2474 512.487,-99.2474 512.487,4 -4,4\"/>\r\n<!-- EMPTY -->\r\n<g id=\"node1\" class=\"node\"><title>EMPTY</title>\r\n</g>\r\n<!-- I -->\r\n<g id=\"node3\" class=\"node\"><title>I</title>\r\n<ellipse fill=\"none\" stroke=\"black\" cx=\"109\" cy=\"-29.2474\" rx=\"18\" ry=\"18\"/>\r\n<text text-anchor=\"middle\" x=\"109\" y=\"-25.5474\" font-family=\"Times New Roman,serif\" font-size=\"14.00\">I</text>\r\n</g>\r\n<!-- EMPTY&#45;&gt;I -->\r\n<g id=\"edge1\" class=\"edge\"><title>EMPTY&#45;&gt;I</title>\r\n<path fill=\"none\" stroke=\"black\" d=\"M54.195,-29.2474C62.6538,-29.2474 72.0513,-29.2474 80.5951,-29.2474\"/>\r\n<polygon fill=\"black\" stroke=\"black\" points=\"80.8257,-32.7475 90.8257,-29.2474 80.8257,-25.7475 80.8257,-32.7475\"/>\r\n</g>\r\n<!-- S01 -->\r\n<g id=\"node2\" class=\"node\"><title>S01</title>\r\n<ellipse fill=\"none\" stroke=\"black\" cx=\"287.294\" cy=\"-29.2474\" rx=\"24.8972\" ry=\"24.8972\"/>\r\n<text text-anchor=\"middle\" x=\"287.294\" y=\"-25.5474\" font-family=\"Times New Roman,serif\" font-size=\"14.00\">S01</text>\r\n</g>\r\n<!-- S010 -->\r\n<g id=\"node5\" class=\"node\"><title>S010</title>\r\n<ellipse fill=\"none\" stroke=\"black\" cx=\"388.239\" cy=\"-29.2474\" rx=\"29.4969\" ry=\"29.4969\"/>\r\n<text text-anchor=\"middle\" x=\"388.239\" y=\"-25.5474\" font-family=\"Times New Roman,serif\" font-size=\"14.00\">S010</text>\r\n</g>\r\n<!-- S01&#45;&gt;S010 -->\r\n<g id=\"edge5\" class=\"edge\"><title>S01&#45;&gt;S010</title>\r\n<path fill=\"none\" stroke=\"black\" d=\"M311.994,-29.2474C322.982,-29.2474 336.323,-29.2474 348.702,-29.2474\"/>\r\n<polygon fill=\"black\" stroke=\"black\" points=\"348.802,-32.7475 358.802,-29.2474 348.802,-25.7475 348.802,-32.7475\"/>\r\n<text text-anchor=\"middle\" x=\"335.492\" y=\"-33.0474\" font-family=\"Times New Roman,serif\" font-size=\"14.00\">0 </text>\r\n</g>\r\n<!-- I&#45;&gt;I -->\r\n<g id=\"edge2\" class=\"edge\"><title>I&#45;&gt;I</title>\r\n<path fill=\"none\" stroke=\"black\" d=\"M102.621,-46.2847C101.319,-56.1053 103.445,-65.2474 109,-65.2474 112.472,-65.2474 114.604,-61.6763 115.398,-56.6003\"/>\r\n<polygon fill=\"black\" stroke=\"black\" points=\"118.897,-56.2784 115.379,-46.2847 111.897,-56.2909 118.897,-56.2784\"/>\r\n<text text-anchor=\"middle\" x=\"109\" y=\"-84.0474\" font-family=\"Times New Roman,serif\" font-size=\"14.00\">1 </text>\r\n<text text-anchor=\"middle\" x=\"109\" y=\"-69.0474\" font-family=\"Times New Roman,serif\" font-size=\"14.00\"> 0 </text>\r\n</g>\r\n<!-- S0 -->\r\n<g id=\"node4\" class=\"node\"><title>S0</title>\r\n<ellipse fill=\"none\" stroke=\"black\" cx=\"194.798\" cy=\"-29.2474\" rx=\"20.5982\" ry=\"20.5982\"/>\r\n<text text-anchor=\"middle\" x=\"194.798\" y=\"-25.5474\" font-family=\"Times New Roman,serif\" font-size=\"14.00\">S0</text>\r\n</g>\r\n<!-- I&#45;&gt;S0 -->\r\n<g id=\"edge3\" class=\"edge\"><title>I&#45;&gt;S0</title>\r\n<path fill=\"none\" stroke=\"black\" d=\"M127.363,-29.2474C137.819,-29.2474 151.423,-29.2474 163.595,-29.2474\"/>\r\n<polygon fill=\"black\" stroke=\"black\" points=\"163.808,-32.7475 173.808,-29.2474 163.808,-25.7475 163.808,-32.7475\"/>\r\n<text text-anchor=\"middle\" x=\"150.5\" y=\"-33.0474\" font-family=\"Times New Roman,serif\" font-size=\"14.00\">0 </text>\r\n</g>\r\n<!-- S0&#45;&gt;S01 -->\r\n<g id=\"edge4\" class=\"edge\"><title>S0&#45;&gt;S01</title>\r\n<path fill=\"none\" stroke=\"black\" d=\"M215.882,-29.2474C226.515,-29.2474 239.865,-29.2474 252.075,-29.2474\"/>\r\n<polygon fill=\"black\" stroke=\"black\" points=\"252.414,-32.7475 262.414,-29.2474 252.414,-25.7475 252.414,-32.7475\"/>\r\n<text text-anchor=\"middle\" x=\"239.096\" y=\"-33.0474\" font-family=\"Times New Roman,serif\" font-size=\"14.00\">1 </text>\r\n</g>\r\n<!-- F -->\r\n<g id=\"node6\" class=\"node\"><title>F</title>\r\n<ellipse fill=\"none\" stroke=\"black\" cx=\"486.487\" cy=\"-29.2474\" rx=\"18\" ry=\"18\"/>\r\n<ellipse fill=\"none\" stroke=\"black\" cx=\"486.487\" cy=\"-29.2474\" rx=\"22\" ry=\"22\"/>\r\n<text text-anchor=\"middle\" x=\"486.487\" y=\"-25.5474\" font-family=\"Times New Roman,serif\" font-size=\"14.00\">F</text>\r\n</g>\r\n<!-- S010&#45;&gt;F -->\r\n<g id=\"edge6\" class=\"edge\"><title>S010&#45;&gt;F</title>\r\n<path fill=\"none\" stroke=\"black\" d=\"M417.596,-29.2474C429.059,-29.2474 442.332,-29.2474 454.086,-29.2474\"/>\r\n<polygon fill=\"black\" stroke=\"black\" points=\"454.357,-32.7475 464.357,-29.2474 454.357,-25.7475 454.357,-32.7475\"/>\r\n<text text-anchor=\"middle\" x=\"440.987\" y=\"-33.0474\" font-family=\"Times New Roman,serif\" font-size=\"14.00\">1 </text>\r\n</g>\r\n</g>\r\n</svg>\r\n"
     },
     "metadata": {},
     "execution_count": 15
    }
   ],
   "source": [
    "# The drawing produces separated self-loops. Let's fuse 'em\n",
    "\n",
    "# Now we are going to fuse the separate self-loops into one\n",
    "\n",
    "dotObj_nfa(NFA_ends0101, FuseEdges=True) "
   ]
  },
  {
   "cell_type": "markdown",
   "metadata": {
    "run_control": {
     "frozen": false,
     "read_only": false
    }
   },
   "source": [
    "# NFA for 3rd-last is 1"
   ]
  },
  {
   "cell_type": "code",
   "execution_count": 16,
   "metadata": {
    "run_control": {
     "frozen": false,
     "read_only": false
    }
   },
   "outputs": [],
   "source": [
    "# Here is the automd (markdown) for an NF whose third-last symbol is a 1\n",
    "\n",
    "NFA_3rdlast_1 = md2mc('''\n",
    "NFA\n",
    "\n",
    "I : 0  | 1  -> I  !! Upon a 0 or a 1, continue to stay in state I\n",
    "\n",
    "I : ''      -> S0 !! Nondeterministically transition to state S0\n",
    "\n",
    "S0 : 1      -> S1 !! This is the key \"1\" (third-last being 1) seen\n",
    "\n",
    "S1 : 0 | 1  -> S2 !! One 0/1 takes the NFA to S2\n",
    "\n",
    "S2 : 0 | 1  -> F  !! One more 0/1 takes the NFA to F\n",
    "\n",
    "''')"
   ]
  },
  {
   "cell_type": "code",
   "execution_count": 17,
   "metadata": {
    "run_control": {
     "frozen": false,
     "read_only": false
    }
   },
   "outputs": [
    {
     "output_type": "execute_result",
     "data": {
      "text/plain": "{'Q': {'F', 'I', 'S0', 'S1', 'S2'},\n 'Sigma': {'0', '1'},\n 'Delta': {('I', '0'): {'I'},\n  ('I', '1'): {'I'},\n  ('I', ''): {'S0'},\n  ('S0', '1'): {'S1'},\n  ('S1', '0'): {'S2'},\n  ('S1', '1'): {'S2'},\n  ('S2', '0'): {'F'},\n  ('S2', '1'): {'F'}},\n 'Q0': {'I'},\n 'F': {'F'}}"
     },
     "metadata": {},
     "execution_count": 17
    }
   ],
   "source": [
    "# Let us see its internal representation\n",
    "\n",
    "NFA_3rdlast_1"
   ]
  },
  {
   "cell_type": "code",
   "execution_count": 18,
   "metadata": {
    "run_control": {
     "frozen": false,
     "read_only": false
    }
   },
   "outputs": [
    {
     "output_type": "execute_result",
     "data": {
      "text/plain": "<graphviz.dot.Digraph at 0x16cf69d8850>",
      "image/svg+xml": "<?xml version=\"1.0\" encoding=\"UTF-8\" standalone=\"no\"?>\r\n<!DOCTYPE svg PUBLIC \"-//W3C//DTD SVG 1.1//EN\"\r\n \"http://www.w3.org/Graphics/SVG/1.1/DTD/svg11.dtd\">\r\n<!-- Generated by graphviz version 2.38.0 (20140413.2041)\r\n -->\r\n<!-- Title: %3 Pages: 1 -->\r\n<svg width=\"499pt\" height=\"96pt\"\r\n viewBox=\"0.00 0.00 498.79 96.00\" xmlns=\"http://www.w3.org/2000/svg\" xmlns:xlink=\"http://www.w3.org/1999/xlink\">\r\n<g id=\"graph0\" class=\"graph\" transform=\"scale(1 1) rotate(0) translate(4 92)\">\r\n<title>%3</title>\r\n<polygon fill=\"white\" stroke=\"none\" points=\"-4,4 -4,-92 494.789,-92 494.789,4 -4,4\"/>\r\n<!-- EMPTY -->\r\n<g id=\"node1\" class=\"node\"><title>EMPTY</title>\r\n</g>\r\n<!-- I -->\r\n<g id=\"node5\" class=\"node\"><title>I</title>\r\n<ellipse fill=\"none\" stroke=\"black\" cx=\"109\" cy=\"-22\" rx=\"18\" ry=\"18\"/>\r\n<text text-anchor=\"middle\" x=\"109\" y=\"-18.3\" font-family=\"Times New Roman,serif\" font-size=\"14.00\">I</text>\r\n</g>\r\n<!-- EMPTY&#45;&gt;I -->\r\n<g id=\"edge1\" class=\"edge\"><title>EMPTY&#45;&gt;I</title>\r\n<path fill=\"none\" stroke=\"black\" d=\"M54.195,-22C62.6538,-22 72.0513,-22 80.5951,-22\"/>\r\n<polygon fill=\"black\" stroke=\"black\" points=\"80.8257,-25.5001 90.8257,-22 80.8257,-18.5001 80.8257,-25.5001\"/>\r\n</g>\r\n<!-- S2 -->\r\n<g id=\"node2\" class=\"node\"><title>S2</title>\r\n<ellipse fill=\"none\" stroke=\"black\" cx=\"374.991\" cy=\"-22\" rx=\"20.5982\" ry=\"20.5982\"/>\r\n<text text-anchor=\"middle\" x=\"374.991\" y=\"-18.3\" font-family=\"Times New Roman,serif\" font-size=\"14.00\">S2</text>\r\n</g>\r\n<!-- F -->\r\n<g id=\"node6\" class=\"node\"><title>F</title>\r\n<ellipse fill=\"none\" stroke=\"black\" cx=\"468.789\" cy=\"-22\" rx=\"18\" ry=\"18\"/>\r\n<ellipse fill=\"none\" stroke=\"black\" cx=\"468.789\" cy=\"-22\" rx=\"22\" ry=\"22\"/>\r\n<text text-anchor=\"middle\" x=\"468.789\" y=\"-18.3\" font-family=\"Times New Roman,serif\" font-size=\"14.00\">F</text>\r\n</g>\r\n<!-- S2&#45;&gt;F -->\r\n<g id=\"edge6\" class=\"edge\"><title>S2&#45;&gt;F</title>\r\n<path fill=\"none\" stroke=\"black\" d=\"M395.91,-22C407.726,-22 422.969,-22 436.375,-22\"/>\r\n<polygon fill=\"black\" stroke=\"black\" points=\"436.631,-25.5001 446.631,-22 436.631,-18.5001 436.631,-25.5001\"/>\r\n<text text-anchor=\"middle\" x=\"421.289\" y=\"-40.8\" font-family=\"Times New Roman,serif\" font-size=\"14.00\">1 </text>\r\n<text text-anchor=\"middle\" x=\"421.289\" y=\"-25.8\" font-family=\"Times New Roman,serif\" font-size=\"14.00\"> 0 </text>\r\n</g>\r\n<!-- S1 -->\r\n<g id=\"node3\" class=\"node\"><title>S1</title>\r\n<ellipse fill=\"none\" stroke=\"black\" cx=\"282.394\" cy=\"-22\" rx=\"20.5982\" ry=\"20.5982\"/>\r\n<text text-anchor=\"middle\" x=\"282.394\" y=\"-18.3\" font-family=\"Times New Roman,serif\" font-size=\"14.00\">S1</text>\r\n</g>\r\n<!-- S1&#45;&gt;S2 -->\r\n<g id=\"edge5\" class=\"edge\"><title>S1&#45;&gt;S2</title>\r\n<path fill=\"none\" stroke=\"black\" d=\"M303.501,-22C315.347,-22 330.564,-22 343.826,-22\"/>\r\n<polygon fill=\"black\" stroke=\"black\" points=\"343.941,-25.5001 353.941,-22 343.941,-18.5001 343.941,-25.5001\"/>\r\n<text text-anchor=\"middle\" x=\"328.693\" y=\"-40.8\" font-family=\"Times New Roman,serif\" font-size=\"14.00\">1 </text>\r\n<text text-anchor=\"middle\" x=\"328.693\" y=\"-25.8\" font-family=\"Times New Roman,serif\" font-size=\"14.00\"> 0 </text>\r\n</g>\r\n<!-- S0 -->\r\n<g id=\"node4\" class=\"node\"><title>S0</title>\r\n<ellipse fill=\"none\" stroke=\"black\" cx=\"193.798\" cy=\"-22\" rx=\"20.5982\" ry=\"20.5982\"/>\r\n<text text-anchor=\"middle\" x=\"193.798\" y=\"-18.3\" font-family=\"Times New Roman,serif\" font-size=\"14.00\">S0</text>\r\n</g>\r\n<!-- S0&#45;&gt;S1 -->\r\n<g id=\"edge4\" class=\"edge\"><title>S0&#45;&gt;S1</title>\r\n<path fill=\"none\" stroke=\"black\" d=\"M214.883,-22C225.703,-22 239.269,-22 251.323,-22\"/>\r\n<polygon fill=\"black\" stroke=\"black\" points=\"251.419,-25.5001 261.419,-22 251.419,-18.5001 251.419,-25.5001\"/>\r\n<text text-anchor=\"middle\" x=\"238.096\" y=\"-25.8\" font-family=\"Times New Roman,serif\" font-size=\"14.00\">1 </text>\r\n</g>\r\n<!-- I&#45;&gt;S0 -->\r\n<g id=\"edge3\" class=\"edge\"><title>I&#45;&gt;S0</title>\r\n<path fill=\"none\" stroke=\"black\" d=\"M127.156,-22C137.414,-22 150.738,-22 162.699,-22\"/>\r\n<polygon fill=\"black\" stroke=\"black\" points=\"162.748,-25.5001 172.748,-22 162.748,-18.5001 162.748,-25.5001\"/>\r\n<text text-anchor=\"middle\" x=\"150\" y=\"-25.8\" font-family=\"Times New Roman,serif\" font-size=\"14.00\">&#39;&#39; </text>\r\n</g>\r\n<!-- I&#45;&gt;I -->\r\n<g id=\"edge2\" class=\"edge\"><title>I&#45;&gt;I</title>\r\n<path fill=\"none\" stroke=\"black\" d=\"M102.621,-39.0373C101.319,-48.8579 103.445,-58 109,-58 112.472,-58 114.604,-54.4289 115.398,-49.3529\"/>\r\n<polygon fill=\"black\" stroke=\"black\" points=\"118.897,-49.031 115.379,-39.0373 111.897,-49.0435 118.897,-49.031\"/>\r\n<text text-anchor=\"middle\" x=\"109\" y=\"-76.8\" font-family=\"Times New Roman,serif\" font-size=\"14.00\">1 </text>\r\n<text text-anchor=\"middle\" x=\"109\" y=\"-61.8\" font-family=\"Times New Roman,serif\" font-size=\"14.00\"> 0 </text>\r\n</g>\r\n</g>\r\n</svg>\r\n"
     },
     "metadata": {},
     "execution_count": 18
    }
   ],
   "source": [
    "# Let us see this NFA drawn out\n",
    "\n",
    "dotObj_nfa(NFA_3rdlast_1, FuseEdges=True)"
   ]
  },
  {
   "cell_type": "code",
   "execution_count": 19,
   "metadata": {
    "run_control": {
     "frozen": false,
     "read_only": false
    }
   },
   "outputs": [
    {
     "output_type": "execute_result",
     "data": {
      "text/plain": "{'S0'}"
     },
     "metadata": {},
     "execution_count": 19
    }
   ],
   "source": [
    "# Let's step the NFA on epsilon   \n",
    "step_nfa(NFA_3rdlast_1, \"I\", \"\")"
   ]
  },
  {
   "cell_type": "code",
   "execution_count": 20,
   "metadata": {
    "run_control": {
     "frozen": false,
     "read_only": false
    }
   },
   "outputs": [
    {
     "output_type": "execute_result",
     "data": {
      "text/plain": "{'I'}"
     },
     "metadata": {},
     "execution_count": 20
    }
   ],
   "source": [
    "# Let's step it on '0'  \n",
    "step_nfa(NFA_3rdlast_1, \"I\", \"0\")"
   ]
  },
  {
   "cell_type": "code",
   "execution_count": 21,
   "metadata": {
    "run_control": {
     "frozen": false,
     "read_only": false
    }
   },
   "outputs": [
    {
     "output_type": "execute_result",
     "data": {
      "text/plain": "{'I'}"
     },
     "metadata": {},
     "execution_count": 21
    }
   ],
   "source": [
    "# Step it on a \"1\" to see two next states. That shows nondeterminism!\n",
    "\n",
    "step_nfa(NFA_3rdlast_1, \"I\", \"1\")  "
   ]
  },
  {
   "cell_type": "code",
   "execution_count": 22,
   "metadata": {
    "run_control": {
     "frozen": false,
     "read_only": false
    }
   },
   "outputs": [
    {
     "output_type": "execute_result",
     "data": {
      "text/plain": "{'I', 'S0'}"
     },
     "metadata": {},
     "execution_count": 22
    }
   ],
   "source": [
    "# What is the Eclosure of the set of states {I} ?\n",
    "\n",
    "Eclosure(NFA_3rdlast_1, {\"I\"})"
   ]
  },
  {
   "cell_type": "code",
   "execution_count": 23,
   "metadata": {
    "run_control": {
     "frozen": false,
     "read_only": false
    },
    "tags": []
   },
   "outputs": [
    {
     "output_type": "stream",
     "name": "stdout",
     "text": "Help on function accepts_nfa in module jove.Def_NFA:\n\naccepts_nfa(N, s, chatty=False)\n    NFA acceptance.\n    Input : N : given NFA\n            s : given string\n            chatty : Boolean (prints accepting path,\n                     which is the state-sets encountered).\n\n"
    }
   ],
   "source": [
    "help(accepts_nfa)"
   ]
  },
  {
   "cell_type": "code",
   "execution_count": 24,
   "metadata": {
    "run_control": {
     "frozen": false,
     "read_only": false
    },
    "tags": []
   },
   "outputs": [
    {
     "output_type": "stream",
     "name": "stdout",
     "text": "States reached =  {'I', 'S0'}\nStates reached =  {'I', 'S0', 'S1'}\nStates reached =  {'S2', 'I', 'S0'}\nStates reached =  {'F', 'I', 'S0'}\nStates reached =  {'I', 'S0', 'S1'}\nStates reached =  {'S2', 'I', 'S0'}\nStates reached =  {'F', 'I', 'S0'}\nNFA accepts '0100100' by reaching {'F', 'I', 'S0'}\n"
    },
    {
     "output_type": "execute_result",
     "data": {
      "text/plain": "True"
     },
     "metadata": {},
     "execution_count": 24
    }
   ],
   "source": [
    "accepts_nfa(NFA_3rdlast_1, \"0100100\", chatty=True)"
   ]
  },
  {
   "cell_type": "markdown",
   "metadata": {
    "run_control": {
     "frozen": false,
     "read_only": false
    }
   },
   "source": [
    "# Let us run NFA interactively via widgets\n",
    "\n",
    "We have two NFA to play with, namely nfa_ends0101 and NFA_3rdlast_1\n"
   ]
  },
  {
   "cell_type": "code",
   "execution_count": 25,
   "metadata": {
    "run_control": {
     "frozen": false,
     "read_only": false
    }
   },
   "outputs": [],
   "source": [
    "import ipywidgets as wdg\n",
    "def run_nfa_slider(N, s, n):\n",
    "    \"\"\"Run NFA N from N[\"Q0\"] (which is a set..) on substring s[0:n]\n",
    "    \"\"\"\n",
    "    S = N[\"Q0\"] \n",
    "    if (n > len(s)):\n",
    "        n = len(s)\n",
    "    print(\"string = \", s[0:n])\n",
    "    run_nfa(N, S, s[0:n], True)\n",
    "    \n",
    "def run_nfa_int(N1, N2):\n",
    "    \"\"\"Run interactively from the given NFA .. from {q0} \n",
    "       on input string's substring\n",
    "       as picked by slider.\n",
    "    \"\"\"\n",
    "    inp = input(\"Please provide string: \")\n",
    "    wdg.interact(run_nfa_slider, N = {'N1': N1, 'N2': N2}, \n",
    "                 s = inp, n=(0,32))\n",
    "    \n",
    "def test_run_nfa_int(N1, N2):\n",
    "    \"\"\"Test the interactive run of NFA.\n",
    "    \"\"\"\n",
    "    run_nfa_int(N1, N2)\n",
    "\n",
    "#-- enable this later. test_run_nfa_int()"
   ]
  },
  {
   "cell_type": "markdown",
   "metadata": {
    "run_control": {
     "frozen": false,
     "read_only": false
    }
   },
   "source": [
    "## Once you run the command below, provide a string\n",
    "\n",
    "Provide a string of 0's and 1's. Then you can use the pull-down to pick the NFA\n",
    "to test, and the slider to incrementally consume more of the input string\n"
   ]
  },
  {
   "cell_type": "code",
   "execution_count": 26,
   "metadata": {
    "run_control": {
     "frozen": false,
     "read_only": false
    }
   },
   "outputs": [
    {
     "output_type": "display_data",
     "data": {
      "text/plain": "interactive(children=(Dropdown(description='N', options={'N1': {'Q': {'S0', 'S010', 'F', 'S01', 'I'}, 'Sigma':…",
      "application/vnd.jupyter.widget-view+json": {
       "version_major": 2,
       "version_minor": 0,
       "model_id": "561fccbc78cb4c5e985942dcb3704cdf"
      }
     },
     "metadata": {}
    }
   ],
   "source": [
    "test_run_nfa_int(NFA_ends0101, NFA_3rdlast_1)"
   ]
  },
  {
   "cell_type": "markdown",
   "metadata": {
    "run_control": {
     "frozen": false,
     "read_only": false
    }
   },
   "source": [
    "# NFA to DFA conversion\n",
    "\n",
    "Let's do the NFA to DFA conversion on two NFA, one being 3rd-last is 1\n",
    "and another being fourth-last is 1. You'll see the state explosion\n"
   ]
  },
  {
   "cell_type": "code",
   "execution_count": 27,
   "metadata": {
    "run_control": {
     "frozen": false,
     "read_only": false
    }
   },
   "outputs": [],
   "source": [
    "# Here is the automd (markdown) for an NF whose third-last symbol is a 1\n",
    "\n",
    "NFA_4thlast_1 = md2mc('''\n",
    "NFA\n",
    "\n",
    "I : 0  | 1  -> I  !! Upon a 0 or a 1, continue to stay in state I\n",
    "\n",
    "I : ''      -> S0 !! Nondeterministically transition to state S0\n",
    "\n",
    "S0 : 1      -> S1 !! This is the key \"1\" (third-last being 1) seen\n",
    "\n",
    "S1 : 0 | 1  -> S2 !! One 0/1 takes the NFA to S2\n",
    "\n",
    "S2 : 0 | 1  -> S3 !! One more 0/1 takes the NFA to S3\n",
    "\n",
    "S3 : 0 | 1  -> F  !! Now we are at the final state\n",
    "\n",
    "''')"
   ]
  },
  {
   "cell_type": "code",
   "execution_count": 28,
   "metadata": {
    "run_control": {
     "frozen": false,
     "read_only": false
    }
   },
   "outputs": [
    {
     "output_type": "execute_result",
     "data": {
      "text/plain": "<graphviz.dot.Digraph at 0x16cf69d80d0>",
      "image/svg+xml": "<?xml version=\"1.0\" encoding=\"UTF-8\" standalone=\"no\"?>\r\n<!DOCTYPE svg PUBLIC \"-//W3C//DTD SVG 1.1//EN\"\r\n \"http://www.w3.org/Graphics/SVG/1.1/DTD/svg11.dtd\">\r\n<!-- Generated by graphviz version 2.38.0 (20140413.2041)\r\n -->\r\n<!-- Title: %3 Pages: 1 -->\r\n<svg width=\"824pt\" height=\"282pt\"\r\n viewBox=\"0.00 0.00 823.97 282.00\" xmlns=\"http://www.w3.org/2000/svg\" xmlns:xlink=\"http://www.w3.org/1999/xlink\">\r\n<g id=\"graph0\" class=\"graph\" transform=\"scale(1 1) rotate(0) translate(4 278)\">\r\n<title>%3</title>\r\n<polygon fill=\"white\" stroke=\"none\" points=\"-4,4 -4,-278 819.968,-278 819.968,4 -4,4\"/>\r\n<!-- EMPTY -->\r\n<g id=\"node1\" class=\"node\"><title>EMPTY</title>\r\n</g>\r\n<!-- St7 -->\r\n<g id=\"node5\" class=\"node\"><title>St7</title>\r\n<ellipse fill=\"none\" stroke=\"black\" cx=\"113.748\" cy=\"-25\" rx=\"22.9987\" ry=\"22.9987\"/>\r\n<text text-anchor=\"middle\" x=\"113.748\" y=\"-21.3\" font-family=\"Times New Roman,serif\" font-size=\"14.00\">St7</text>\r\n</g>\r\n<!-- EMPTY&#45;&gt;St7 -->\r\n<g id=\"edge1\" class=\"edge\"><title>EMPTY&#45;&gt;St7</title>\r\n<path fill=\"none\" stroke=\"black\" d=\"M54.3502,-25C62.71,-25 72.0455,-25 80.757,-25\"/>\r\n<polygon fill=\"black\" stroke=\"black\" points=\"80.9663,-28.5001 90.9663,-25 80.9662,-21.5001 80.9663,-28.5001\"/>\r\n</g>\r\n<!-- St5 -->\r\n<g id=\"node2\" class=\"node\"><title>St5</title>\r\n<ellipse fill=\"none\" stroke=\"black\" cx=\"206.244\" cy=\"-70\" rx=\"22.9987\" ry=\"22.9987\"/>\r\n<text text-anchor=\"middle\" x=\"206.244\" y=\"-66.3\" font-family=\"Times New Roman,serif\" font-size=\"14.00\">St5</text>\r\n</g>\r\n<!-- St4 -->\r\n<g id=\"node3\" class=\"node\"><title>St4</title>\r\n<ellipse fill=\"none\" stroke=\"black\" cx=\"298.74\" cy=\"-160\" rx=\"22.9987\" ry=\"22.9987\"/>\r\n<text text-anchor=\"middle\" x=\"298.74\" y=\"-156.3\" font-family=\"Times New Roman,serif\" font-size=\"14.00\">St4</text>\r\n</g>\r\n<!-- St5&#45;&gt;St4 -->\r\n<g id=\"edge4\" class=\"edge\"><title>St5&#45;&gt;St4</title>\r\n<path fill=\"none\" stroke=\"black\" d=\"M223.007,-85.6768C237.194,-99.7862 258.231,-120.708 274.374,-136.762\"/>\r\n<polygon fill=\"black\" stroke=\"black\" points=\"272.295,-139.631 281.854,-144.201 277.231,-134.668 272.295,-139.631\"/>\r\n<text text-anchor=\"middle\" x=\"252.492\" y=\"-124.8\" font-family=\"Times New Roman,serif\" font-size=\"14.00\">1 </text>\r\n</g>\r\n<!-- St6 -->\r\n<g id=\"node4\" class=\"node\"><title>St6</title>\r\n<ellipse fill=\"none\" stroke=\"black\" cx=\"692.724\" cy=\"-110\" rx=\"22.9987\" ry=\"22.9987\"/>\r\n<text text-anchor=\"middle\" x=\"692.724\" y=\"-106.3\" font-family=\"Times New Roman,serif\" font-size=\"14.00\">St6</text>\r\n</g>\r\n<!-- St5&#45;&gt;St6 -->\r\n<g id=\"edge5\" class=\"edge\"><title>St5&#45;&gt;St6</title>\r\n<path fill=\"none\" stroke=\"black\" d=\"M228.193,-76.967C246.37,-82.3896 273.499,-89 297.74,-89 297.74,-89 297.74,-89 597.228,-89 619.065,-89 643.079,-94.4101 661.434,-99.7384\"/>\r\n<polygon fill=\"black\" stroke=\"black\" points=\"660.414,-103.086 671,-102.655 662.455,-96.3906 660.414,-103.086\"/>\r\n<text text-anchor=\"middle\" x=\"445.484\" y=\"-92.8\" font-family=\"Times New Roman,serif\" font-size=\"14.00\">0 </text>\r\n</g>\r\n<!-- St2 -->\r\n<g id=\"node6\" class=\"node\"><title>St2</title>\r\n<ellipse fill=\"none\" stroke=\"black\" cx=\"495.732\" cy=\"-195\" rx=\"22.9609\" ry=\"22.9609\"/>\r\n<ellipse fill=\"none\" stroke=\"black\" cx=\"495.732\" cy=\"-195\" rx=\"26.9983\" ry=\"26.9983\"/>\r\n<text text-anchor=\"middle\" x=\"495.732\" y=\"-191.3\" font-family=\"Times New Roman,serif\" font-size=\"14.00\">St2</text>\r\n</g>\r\n<!-- St4&#45;&gt;St2 -->\r\n<g id=\"edge7\" class=\"edge\"><title>St4&#45;&gt;St2</title>\r\n<path fill=\"none\" stroke=\"black\" d=\"M308.222,-180.836C318.657,-203.343 338.728,-237.991 368.488,-253 389.717,-263.707 399.542,-260.851 421.984,-253 439.913,-246.728 456.72,-233.98 469.654,-222.028\"/>\r\n<polygon fill=\"black\" stroke=\"black\" points=\"472.422,-224.221 477.181,-214.755 467.558,-219.187 472.422,-224.221\"/>\r\n<text text-anchor=\"middle\" x=\"395.236\" y=\"-262.8\" font-family=\"Times New Roman,serif\" font-size=\"14.00\">0 </text>\r\n</g>\r\n<!-- St0 -->\r\n<g id=\"node8\" class=\"node\"><title>St0</title>\r\n<ellipse fill=\"none\" stroke=\"black\" cx=\"395.236\" cy=\"-184\" rx=\"22.9609\" ry=\"22.9609\"/>\r\n<ellipse fill=\"none\" stroke=\"black\" cx=\"395.236\" cy=\"-184\" rx=\"26.9983\" ry=\"26.9983\"/>\r\n<text text-anchor=\"middle\" x=\"395.236\" y=\"-180.3\" font-family=\"Times New Roman,serif\" font-size=\"14.00\">St0</text>\r\n</g>\r\n<!-- St4&#45;&gt;St0 -->\r\n<g id=\"edge6\" class=\"edge\"><title>St4&#45;&gt;St0</title>\r\n<path fill=\"none\" stroke=\"black\" d=\"M321.183,-165.446C332.44,-168.305 346.517,-171.88 359.301,-175.127\"/>\r\n<polygon fill=\"black\" stroke=\"black\" points=\"358.644,-178.571 369.198,-177.641 360.367,-171.787 358.644,-178.571\"/>\r\n<text text-anchor=\"middle\" x=\"344.988\" y=\"-176.8\" font-family=\"Times New Roman,serif\" font-size=\"14.00\">1 </text>\r\n</g>\r\n<!-- St3 -->\r\n<g id=\"node7\" class=\"node\"><title>St3</title>\r\n<ellipse fill=\"none\" stroke=\"black\" cx=\"789.22\" cy=\"-70\" rx=\"22.9609\" ry=\"22.9609\"/>\r\n<ellipse fill=\"none\" stroke=\"black\" cx=\"789.22\" cy=\"-70\" rx=\"26.9983\" ry=\"26.9983\"/>\r\n<text text-anchor=\"middle\" x=\"789.22\" y=\"-66.3\" font-family=\"Times New Roman,serif\" font-size=\"14.00\">St3</text>\r\n</g>\r\n<!-- St6&#45;&gt;St3 -->\r\n<g id=\"edge9\" class=\"edge\"><title>St6&#45;&gt;St3</title>\r\n<path fill=\"none\" stroke=\"black\" d=\"M714.228,-101.321C726.109,-96.2915 741.354,-89.8384 754.915,-84.0978\"/>\r\n<polygon fill=\"black\" stroke=\"black\" points=\"756.576,-87.1956 764.42,-80.0743 753.847,-80.7494 756.576,-87.1956\"/>\r\n<text text-anchor=\"middle\" x=\"738.972\" y=\"-96.8\" font-family=\"Times New Roman,serif\" font-size=\"14.00\">0 </text>\r\n</g>\r\n<!-- St1 -->\r\n<g id=\"node9\" class=\"node\"><title>St1</title>\r\n<ellipse fill=\"none\" stroke=\"black\" cx=\"596.228\" cy=\"-144\" rx=\"22.9609\" ry=\"22.9609\"/>\r\n<ellipse fill=\"none\" stroke=\"black\" cx=\"596.228\" cy=\"-144\" rx=\"26.9983\" ry=\"26.9983\"/>\r\n<text text-anchor=\"middle\" x=\"596.228\" y=\"-140.3\" font-family=\"Times New Roman,serif\" font-size=\"14.00\">St1</text>\r\n</g>\r\n<!-- St6&#45;&gt;St1 -->\r\n<g id=\"edge8\" class=\"edge\"><title>St6&#45;&gt;St1</title>\r\n<path fill=\"none\" stroke=\"black\" d=\"M670.206,-114.522C661.068,-116.696 650.377,-119.577 640.976,-123 637.253,-124.356 633.421,-125.922 629.646,-127.576\"/>\r\n<polygon fill=\"black\" stroke=\"black\" points=\"628.095,-124.436 620.475,-131.797 631.022,-130.795 628.095,-124.436\"/>\r\n<text text-anchor=\"middle\" x=\"646.476\" y=\"-126.8\" font-family=\"Times New Roman,serif\" font-size=\"14.00\">1 </text>\r\n</g>\r\n<!-- St7&#45;&gt;St5 -->\r\n<g id=\"edge2\" class=\"edge\"><title>St7&#45;&gt;St5</title>\r\n<path fill=\"none\" stroke=\"black\" d=\"M134.384,-34.7643C146.717,-40.8971 162.836,-48.9121 176.583,-55.7481\"/>\r\n<polygon fill=\"black\" stroke=\"black\" points=\"175.134,-58.9361 185.646,-60.2547 178.25,-52.6682 175.134,-58.9361\"/>\r\n<text text-anchor=\"middle\" x=\"159.996\" y=\"-54.8\" font-family=\"Times New Roman,serif\" font-size=\"14.00\">1 </text>\r\n</g>\r\n<!-- St7&#45;&gt;St7 -->\r\n<g id=\"edge3\" class=\"edge\"><title>St7&#45;&gt;St7</title>\r\n<path fill=\"none\" stroke=\"black\" d=\"M106.396,-46.7996C105.594,-56.9123 108.045,-65.748 113.748,-65.748 117.402,-65.748 119.72,-62.1218 120.704,-56.8567\"/>\r\n<polygon fill=\"black\" stroke=\"black\" points=\"124.204,-56.9294 121.1,-46.7996 117.209,-56.6543 124.204,-56.9294\"/>\r\n<text text-anchor=\"middle\" x=\"113.748\" y=\"-69.548\" font-family=\"Times New Roman,serif\" font-size=\"14.00\">0 </text>\r\n</g>\r\n<!-- St2&#45;&gt;St3 -->\r\n<g id=\"edge13\" class=\"edge\"><title>St2&#45;&gt;St3</title>\r\n<path fill=\"none\" stroke=\"black\" d=\"M522.741,-193.97C548.535,-192.47 589.008,-188.819 622.976,-180 665.993,-168.831 678.419,-166.542 715.472,-142 733.722,-129.912 751.253,-112.786 764.531,-98.2688\"/>\r\n<polygon fill=\"black\" stroke=\"black\" points=\"767.399,-100.312 771.448,-90.5209 762.177,-95.6498 767.399,-100.312\"/>\r\n<text text-anchor=\"middle\" x=\"646.476\" y=\"-179.8\" font-family=\"Times New Roman,serif\" font-size=\"14.00\">0 </text>\r\n</g>\r\n<!-- St2&#45;&gt;St1 -->\r\n<g id=\"edge12\" class=\"edge\"><title>St2&#45;&gt;St1</title>\r\n<path fill=\"none\" stroke=\"black\" d=\"M519.257,-181.694C526.022,-177.816 533.501,-173.644 540.48,-170 547.405,-166.383 554.919,-162.678 562.097,-159.238\"/>\r\n<polygon fill=\"black\" stroke=\"black\" points=\"564.048,-162.188 571.59,-154.748 561.054,-155.86 564.048,-162.188\"/>\r\n<text text-anchor=\"middle\" x=\"545.98\" y=\"-173.8\" font-family=\"Times New Roman,serif\" font-size=\"14.00\">1 </text>\r\n</g>\r\n<!-- St3&#45;&gt;St5 -->\r\n<g id=\"edge16\" class=\"edge\"><title>St3&#45;&gt;St5</title>\r\n<path fill=\"none\" stroke=\"black\" d=\"M764.172,-60.3766C745.323,-53.6996 718.267,-46 693.724,-46 297.74,-46 297.74,-46 297.74,-46 277.087,-46 254.642,-51.9124 237.272,-57.8682\"/>\r\n<polygon fill=\"black\" stroke=\"black\" points=\"235.896,-54.6435 227.682,-61.3354 238.277,-61.2264 235.896,-54.6435\"/>\r\n<text text-anchor=\"middle\" x=\"495.732\" y=\"-49.8\" font-family=\"Times New Roman,serif\" font-size=\"14.00\">1 </text>\r\n</g>\r\n<!-- St3&#45;&gt;St7 -->\r\n<g id=\"edge17\" class=\"edge\"><title>St3&#45;&gt;St7</title>\r\n<path fill=\"none\" stroke=\"black\" d=\"M772.732,-48.6173C755.854,-28.0316 726.798,-0 693.724,-0 205.244,-0 205.244,-0 205.244,-0 184.397,-0 161.792,-6.24009 144.39,-12.4851\"/>\r\n<polygon fill=\"black\" stroke=\"black\" points=\"142.911,-9.30248 134.797,-16.1155 145.389,-15.8493 142.911,-9.30248\"/>\r\n<text text-anchor=\"middle\" x=\"445.484\" y=\"-3.8\" font-family=\"Times New Roman,serif\" font-size=\"14.00\">0 </text>\r\n</g>\r\n<!-- St0&#45;&gt;St2 -->\r\n<g id=\"edge11\" class=\"edge\"><title>St0&#45;&gt;St2</title>\r\n<path fill=\"none\" stroke=\"black\" d=\"M421.857,-186.861C433.168,-188.125 446.658,-189.631 458.939,-191.003\"/>\r\n<polygon fill=\"black\" stroke=\"black\" points=\"458.57,-194.483 468.896,-192.115 459.347,-187.526 458.57,-194.483\"/>\r\n<text text-anchor=\"middle\" x=\"445.484\" y=\"-194.8\" font-family=\"Times New Roman,serif\" font-size=\"14.00\">0 </text>\r\n</g>\r\n<!-- St0&#45;&gt;St0 -->\r\n<g id=\"edge10\" class=\"edge\"><title>St0&#45;&gt;St0</title>\r\n<path fill=\"none\" stroke=\"black\" d=\"M385.943,-209.301C385.302,-219.826 388.4,-228.748 395.236,-228.748 399.722,-228.748 402.598,-224.906 403.864,-219.289\"/>\r\n<polygon fill=\"black\" stroke=\"black\" points=\"407.357,-219.511 404.528,-209.301 400.372,-219.047 407.357,-219.511\"/>\r\n<text text-anchor=\"middle\" x=\"395.236\" y=\"-232.548\" font-family=\"Times New Roman,serif\" font-size=\"14.00\">1 </text>\r\n</g>\r\n<!-- St1&#45;&gt;St4 -->\r\n<g id=\"edge14\" class=\"edge\"><title>St1&#45;&gt;St4</title>\r\n<path fill=\"none\" stroke=\"black\" d=\"M569.311,-143.154C527.117,-142.07 440.994,-141.075 368.488,-148 356.299,-149.164 343.019,-151.279 331.41,-153.413\"/>\r\n<polygon fill=\"black\" stroke=\"black\" points=\"330.46,-150.032 321.297,-155.351 331.777,-156.907 330.46,-150.032\"/>\r\n<text text-anchor=\"middle\" x=\"445.484\" y=\"-147.8\" font-family=\"Times New Roman,serif\" font-size=\"14.00\">1 </text>\r\n</g>\r\n<!-- St1&#45;&gt;St6 -->\r\n<g id=\"edge15\" class=\"edge\"><title>St1&#45;&gt;St6</title>\r\n<path fill=\"none\" stroke=\"black\" d=\"M623.2,-143.821C632.515,-143.069 642.942,-141.415 651.976,-138 656.98,-136.108 661.942,-133.437 666.577,-130.489\"/>\r\n<polygon fill=\"black\" stroke=\"black\" points=\"668.809,-133.199 675.01,-124.608 664.806,-127.457 668.809,-133.199\"/>\r\n<text text-anchor=\"middle\" x=\"646.476\" y=\"-145.8\" font-family=\"Times New Roman,serif\" font-size=\"14.00\">0 </text>\r\n</g>\r\n</g>\r\n</svg>\r\n"
     },
     "metadata": {},
     "execution_count": 28
    }
   ],
   "source": [
    "dotObj_dfa(nfa2dfa(NFA_3rdlast_1), FuseEdges=True)"
   ]
  },
  {
   "cell_type": "code",
   "execution_count": 29,
   "metadata": {
    "run_control": {
     "frozen": false,
     "read_only": false
    }
   },
   "outputs": [
    {
     "output_type": "execute_result",
     "data": {
      "text/plain": "<graphviz.dot.Digraph at 0x16cf6972700>",
      "image/svg+xml": "<?xml version=\"1.0\" encoding=\"UTF-8\" standalone=\"no\"?>\r\n<!DOCTYPE svg PUBLIC \"-//W3C//DTD SVG 1.1//EN\"\r\n \"http://www.w3.org/Graphics/SVG/1.1/DTD/svg11.dtd\">\r\n<!-- Generated by graphviz version 2.38.0 (20140413.2041)\r\n -->\r\n<!-- Title: %3 Pages: 1 -->\r\n<svg width=\"1651pt\" height=\"403pt\"\r\n viewBox=\"0.00 0.00 1650.53 403.30\" xmlns=\"http://www.w3.org/2000/svg\" xmlns:xlink=\"http://www.w3.org/1999/xlink\">\r\n<g id=\"graph0\" class=\"graph\" transform=\"scale(1 1) rotate(0) translate(4 399.298)\">\r\n<title>%3</title>\r\n<polygon fill=\"white\" stroke=\"none\" points=\"-4,4 -4,-399.298 1646.53,-399.298 1646.53,4 -4,4\"/>\r\n<!-- EMPTY -->\r\n<g id=\"node1\" class=\"node\"><title>EMPTY</title>\r\n</g>\r\n<!-- St15 -->\r\n<g id=\"node3\" class=\"node\"><title>St15</title>\r\n<ellipse fill=\"none\" stroke=\"black\" cx=\"118.298\" cy=\"-27.2976\" rx=\"27.0966\" ry=\"27.0966\"/>\r\n<text text-anchor=\"middle\" x=\"118.298\" y=\"-23.5976\" font-family=\"Times New Roman,serif\" font-size=\"14.00\">St15</text>\r\n</g>\r\n<!-- EMPTY&#45;&gt;St15 -->\r\n<g id=\"edge1\" class=\"edge\"><title>EMPTY&#45;&gt;St15</title>\r\n<path fill=\"none\" stroke=\"black\" d=\"M54.3092,-27.2976C62.5921,-27.2976 71.8942,-27.2976 80.7554,-27.2976\"/>\r\n<polygon fill=\"black\" stroke=\"black\" points=\"80.8678,-30.7977 90.8678,-27.2976 80.8678,-23.7977 80.8678,-30.7977\"/>\r\n</g>\r\n<!-- St9 -->\r\n<g id=\"node2\" class=\"node\"><title>St9</title>\r\n<ellipse fill=\"none\" stroke=\"black\" cx=\"316.938\" cy=\"-120.298\" rx=\"22.9987\" ry=\"22.9987\"/>\r\n<text text-anchor=\"middle\" x=\"316.938\" y=\"-116.598\" font-family=\"Times New Roman,serif\" font-size=\"14.00\">St9</text>\r\n</g>\r\n<!-- St8 -->\r\n<g id=\"node4\" class=\"node\"><title>St8</title>\r\n<ellipse fill=\"none\" stroke=\"black\" cx=\"409.434\" cy=\"-279.298\" rx=\"22.9987\" ry=\"22.9987\"/>\r\n<text text-anchor=\"middle\" x=\"409.434\" y=\"-275.598\" font-family=\"Times New Roman,serif\" font-size=\"14.00\">St8</text>\r\n</g>\r\n<!-- St9&#45;&gt;St8 -->\r\n<g id=\"edge6\" class=\"edge\"><title>St9&#45;&gt;St8</title>\r\n<path fill=\"none\" stroke=\"black\" d=\"M329.035,-139.794C344.843,-167.569 373.947,-218.704 392.186,-250.75\"/>\r\n<polygon fill=\"black\" stroke=\"black\" points=\"389.259,-252.682 397.247,-259.642 395.342,-249.219 389.259,-252.682\"/>\r\n<text text-anchor=\"middle\" x=\"363.186\" y=\"-214.098\" font-family=\"Times New Roman,serif\" font-size=\"14.00\">1 </text>\r\n</g>\r\n<!-- St12 -->\r\n<g id=\"node9\" class=\"node\"><title>St12</title>\r\n<ellipse fill=\"none\" stroke=\"black\" cx=\"908.464\" cy=\"-213.298\" rx=\"27.0966\" ry=\"27.0966\"/>\r\n<text text-anchor=\"middle\" x=\"908.464\" y=\"-209.598\" font-family=\"Times New Roman,serif\" font-size=\"14.00\">St12</text>\r\n</g>\r\n<!-- St9&#45;&gt;St12 -->\r\n<g id=\"edge7\" class=\"edge\"><title>St9&#45;&gt;St12</title>\r\n<path fill=\"none\" stroke=\"black\" d=\"M338.41,-128.601C356.511,-135.189 383.794,-143.298 408.434,-143.298 408.434,-143.298 408.434,-143.298 657.674,-143.298 737.772,-143.298 827.137,-177.083 874.234,-197.71\"/>\r\n<polygon fill=\"black\" stroke=\"black\" points=\"873.066,-201.021 883.624,-201.895 875.915,-194.627 873.066,-201.021\"/>\r\n<text text-anchor=\"middle\" x=\"606.426\" y=\"-147.098\" font-family=\"Times New Roman,serif\" font-size=\"14.00\">0 </text>\r\n</g>\r\n<!-- St15&#45;&gt;St15 -->\r\n<g id=\"edge3\" class=\"edge\"><title>St15&#45;&gt;St15</title>\r\n<path fill=\"none\" stroke=\"black\" d=\"M110.098,-53.3649C109.635,-63.8199 112.368,-72.5952 118.298,-72.5952 122.096,-72.5952 124.583,-68.9938 125.758,-63.6565\"/>\r\n<polygon fill=\"black\" stroke=\"black\" points=\"129.272,-63.5899 126.497,-53.3649 122.29,-63.0885 129.272,-63.5899\"/>\r\n<text text-anchor=\"middle\" x=\"118.298\" y=\"-76.3952\" font-family=\"Times New Roman,serif\" font-size=\"14.00\">0 </text>\r\n</g>\r\n<!-- St11 -->\r\n<g id=\"node5\" class=\"node\"><title>St11</title>\r\n<ellipse fill=\"none\" stroke=\"black\" cx=\"219.893\" cy=\"-77.2976\" rx=\"27.0966\" ry=\"27.0966\"/>\r\n<text text-anchor=\"middle\" x=\"219.893\" y=\"-73.5976\" font-family=\"Times New Roman,serif\" font-size=\"14.00\">St11</text>\r\n</g>\r\n<!-- St15&#45;&gt;St11 -->\r\n<g id=\"edge2\" class=\"edge\"><title>St15&#45;&gt;St11</title>\r\n<path fill=\"none\" stroke=\"black\" d=\"M142.9,-39.1469C155.706,-45.5759 171.743,-53.627 185.78,-60.674\"/>\r\n<polygon fill=\"black\" stroke=\"black\" points=\"184.607,-64.0013 195.114,-65.3601 187.748,-57.7454 184.607,-64.0013\"/>\r\n<text text-anchor=\"middle\" x=\"169.095\" y=\"-59.0976\" font-family=\"Times New Roman,serif\" font-size=\"14.00\">1 </text>\r\n</g>\r\n<!-- St0 -->\r\n<g id=\"node12\" class=\"node\"><title>St0</title>\r\n<ellipse fill=\"none\" stroke=\"black\" cx=\"505.93\" cy=\"-198.298\" rx=\"22.9609\" ry=\"22.9609\"/>\r\n<ellipse fill=\"none\" stroke=\"black\" cx=\"505.93\" cy=\"-198.298\" rx=\"26.9983\" ry=\"26.9983\"/>\r\n<text text-anchor=\"middle\" x=\"505.93\" y=\"-194.598\" font-family=\"Times New Roman,serif\" font-size=\"14.00\">St0</text>\r\n</g>\r\n<!-- St8&#45;&gt;St0 -->\r\n<g id=\"edge10\" class=\"edge\"><title>St8&#45;&gt;St0</title>\r\n<path fill=\"none\" stroke=\"black\" d=\"M427.328,-264.816C441.197,-252.928 461.117,-235.853 477.302,-221.98\"/>\r\n<polygon fill=\"black\" stroke=\"black\" points=\"479.59,-224.629 484.905,-215.463 475.034,-219.314 479.59,-224.629\"/>\r\n<text text-anchor=\"middle\" x=\"455.682\" y=\"-248.098\" font-family=\"Times New Roman,serif\" font-size=\"14.00\">1 </text>\r\n</g>\r\n<!-- St4 -->\r\n<g id=\"node17\" class=\"node\"><title>St4</title>\r\n<ellipse fill=\"none\" stroke=\"black\" cx=\"606.426\" cy=\"-253.298\" rx=\"22.9609\" ry=\"22.9609\"/>\r\n<ellipse fill=\"none\" stroke=\"black\" cx=\"606.426\" cy=\"-253.298\" rx=\"26.9983\" ry=\"26.9983\"/>\r\n<text text-anchor=\"middle\" x=\"606.426\" y=\"-249.598\" font-family=\"Times New Roman,serif\" font-size=\"14.00\">St4</text>\r\n</g>\r\n<!-- St8&#45;&gt;St4 -->\r\n<g id=\"edge11\" class=\"edge\"><title>St8&#45;&gt;St4</title>\r\n<path fill=\"none\" stroke=\"black\" d=\"M432.148,-277.774C456.646,-275.915 497.645,-272.377 532.678,-267.298 544.886,-265.528 558.157,-263.119 569.981,-260.799\"/>\r\n<polygon fill=\"black\" stroke=\"black\" points=\"570.821,-264.2 579.937,-258.8 569.443,-257.337 570.821,-264.2\"/>\r\n<text text-anchor=\"middle\" x=\"505.93\" y=\"-278.098\" font-family=\"Times New Roman,serif\" font-size=\"14.00\">0 </text>\r\n</g>\r\n<!-- St11&#45;&gt;St9 -->\r\n<g id=\"edge4\" class=\"edge\"><title>St11&#45;&gt;St9</title>\r\n<path fill=\"none\" stroke=\"black\" d=\"M245.369,-88.3711C258.028,-94.098 273.564,-101.127 286.834,-107.131\"/>\r\n<polygon fill=\"black\" stroke=\"black\" points=\"285.469,-110.354 296.023,-111.287 288.354,-103.977 285.469,-110.354\"/>\r\n<text text-anchor=\"middle\" x=\"270.69\" y=\"-106.098\" font-family=\"Times New Roman,serif\" font-size=\"14.00\">1 </text>\r\n</g>\r\n<!-- St13 -->\r\n<g id=\"node8\" class=\"node\"><title>St13</title>\r\n<ellipse fill=\"none\" stroke=\"black\" cx=\"1211.05\" cy=\"-173.298\" rx=\"27.0966\" ry=\"27.0966\"/>\r\n<text text-anchor=\"middle\" x=\"1211.05\" y=\"-169.598\" font-family=\"Times New Roman,serif\" font-size=\"14.00\">St13</text>\r\n</g>\r\n<!-- St11&#45;&gt;St13 -->\r\n<g id=\"edge5\" class=\"edge\"><title>St11&#45;&gt;St13</title>\r\n<path fill=\"none\" stroke=\"black\" d=\"M244.421,-65.0456C263.247,-56.3805 290.598,-46.2976 315.938,-46.2976 315.938,-46.2976 315.938,-46.2976 1111.01,-46.2976 1157.59,-46.2976 1185.49,-100.091 1199.3,-137.658\"/>\r\n<polygon fill=\"black\" stroke=\"black\" points=\"1196.06,-139.005 1202.66,-147.291 1202.67,-136.696 1196.06,-139.005\"/>\r\n<text text-anchor=\"middle\" x=\"706.922\" y=\"-50.0976\" font-family=\"Times New Roman,serif\" font-size=\"14.00\">0 </text>\r\n</g>\r\n<!-- St14 -->\r\n<g id=\"node6\" class=\"node\"><title>St14</title>\r\n<ellipse fill=\"none\" stroke=\"black\" cx=\"1514.74\" cy=\"-200.298\" rx=\"27.0966\" ry=\"27.0966\"/>\r\n<text text-anchor=\"middle\" x=\"1514.74\" y=\"-196.598\" font-family=\"Times New Roman,serif\" font-size=\"14.00\">St14</text>\r\n</g>\r\n<!-- St7 -->\r\n<g id=\"node13\" class=\"node\"><title>St7</title>\r\n<ellipse fill=\"none\" stroke=\"black\" cx=\"1615.78\" cy=\"-284.298\" rx=\"22.9609\" ry=\"22.9609\"/>\r\n<ellipse fill=\"none\" stroke=\"black\" cx=\"1615.78\" cy=\"-284.298\" rx=\"26.9983\" ry=\"26.9983\"/>\r\n<text text-anchor=\"middle\" x=\"1615.78\" y=\"-280.598\" font-family=\"Times New Roman,serif\" font-size=\"14.00\">St7</text>\r\n</g>\r\n<!-- St14&#45;&gt;St7 -->\r\n<g id=\"edge17\" class=\"edge\"><title>St14&#45;&gt;St7</title>\r\n<path fill=\"none\" stroke=\"black\" d=\"M1536.26,-217.702C1550.93,-230.143 1570.84,-247.028 1586.94,-260.683\"/>\r\n<polygon fill=\"black\" stroke=\"black\" points=\"1585.07,-263.689 1594.96,-267.488 1589.6,-258.351 1585.07,-263.689\"/>\r\n<text text-anchor=\"middle\" x=\"1565.53\" y=\"-252.098\" font-family=\"Times New Roman,serif\" font-size=\"14.00\">0 </text>\r\n</g>\r\n<!-- St3 -->\r\n<g id=\"node16\" class=\"node\"><title>St3</title>\r\n<ellipse fill=\"none\" stroke=\"black\" cx=\"1110.01\" cy=\"-140.298\" rx=\"22.9609\" ry=\"22.9609\"/>\r\n<ellipse fill=\"none\" stroke=\"black\" cx=\"1110.01\" cy=\"-140.298\" rx=\"26.9983\" ry=\"26.9983\"/>\r\n<text text-anchor=\"middle\" x=\"1110.01\" y=\"-136.598\" font-family=\"Times New Roman,serif\" font-size=\"14.00\">St3</text>\r\n</g>\r\n<!-- St14&#45;&gt;St3 -->\r\n<g id=\"edge16\" class=\"edge\"><title>St14&#45;&gt;St3</title>\r\n<path fill=\"none\" stroke=\"black\" d=\"M1499.67,-177.456C1482.76,-153.193 1451.97,-118.298 1414.69,-118.298 1210.05,-118.298 1210.05,-118.298 1210.05,-118.298 1188.1,-118.298 1164.05,-123.51 1145.15,-128.86\"/>\r\n<polygon fill=\"black\" stroke=\"black\" points=\"1144.09,-125.525 1135.5,-131.729 1146.08,-132.235 1144.09,-125.525\"/>\r\n<text text-anchor=\"middle\" x=\"1312.65\" y=\"-122.098\" font-family=\"Times New Roman,serif\" font-size=\"14.00\">1 </text>\r\n</g>\r\n<!-- St10 -->\r\n<g id=\"node7\" class=\"node\"><title>St10</title>\r\n<ellipse fill=\"none\" stroke=\"black\" cx=\"1312.65\" cy=\"-222.298\" rx=\"27.0966\" ry=\"27.0966\"/>\r\n<text text-anchor=\"middle\" x=\"1312.65\" y=\"-218.598\" font-family=\"Times New Roman,serif\" font-size=\"14.00\">St10</text>\r\n</g>\r\n<!-- St1 -->\r\n<g id=\"node11\" class=\"node\"><title>St1</title>\r\n<ellipse fill=\"none\" stroke=\"black\" cx=\"807.418\" cy=\"-279.298\" rx=\"22.9609\" ry=\"22.9609\"/>\r\n<ellipse fill=\"none\" stroke=\"black\" cx=\"807.418\" cy=\"-279.298\" rx=\"26.9983\" ry=\"26.9983\"/>\r\n<text text-anchor=\"middle\" x=\"807.418\" y=\"-275.598\" font-family=\"Times New Roman,serif\" font-size=\"14.00\">St1</text>\r\n</g>\r\n<!-- St10&#45;&gt;St1 -->\r\n<g id=\"edge14\" class=\"edge\"><title>St10&#45;&gt;St1</title>\r\n<path fill=\"none\" stroke=\"black\" d=\"M1293.53,-242.256C1275.01,-260.381 1244.44,-284.298 1212.05,-284.298 907.464,-284.298 907.464,-284.298 907.464,-284.298 886.641,-284.298 863.388,-283.182 844.648,-282.004\"/>\r\n<polygon fill=\"black\" stroke=\"black\" points=\"844.676,-278.499 834.467,-281.331 844.214,-285.483 844.676,-278.499\"/>\r\n<text text-anchor=\"middle\" x=\"1059.76\" y=\"-288.098\" font-family=\"Times New Roman,serif\" font-size=\"14.00\">1 </text>\r\n</g>\r\n<!-- St5 -->\r\n<g id=\"node15\" class=\"node\"><title>St5</title>\r\n<ellipse fill=\"none\" stroke=\"black\" cx=\"1413.69\" cy=\"-234.298\" rx=\"22.9609\" ry=\"22.9609\"/>\r\n<ellipse fill=\"none\" stroke=\"black\" cx=\"1413.69\" cy=\"-234.298\" rx=\"26.9983\" ry=\"26.9983\"/>\r\n<text text-anchor=\"middle\" x=\"1413.69\" y=\"-230.598\" font-family=\"Times New Roman,serif\" font-size=\"14.00\">St5</text>\r\n</g>\r\n<!-- St10&#45;&gt;St5 -->\r\n<g id=\"edge15\" class=\"edge\"><title>St10&#45;&gt;St5</title>\r\n<path fill=\"none\" stroke=\"black\" d=\"M1337.65,-210.738C1347.39,-207.476 1358.73,-205.49 1368.94,-208.298 1373.6,-209.576 1378.26,-211.493 1382.71,-213.717\"/>\r\n<polygon fill=\"black\" stroke=\"black\" points=\"1381.04,-216.797 1391.48,-218.609 1384.45,-210.683 1381.04,-216.797\"/>\r\n<text text-anchor=\"middle\" x=\"1363.44\" y=\"-212.098\" font-family=\"Times New Roman,serif\" font-size=\"14.00\">0 </text>\r\n</g>\r\n<!-- St13&#45;&gt;St14 -->\r\n<g id=\"edge9\" class=\"edge\"><title>St13&#45;&gt;St14</title>\r\n<path fill=\"none\" stroke=\"black\" d=\"M1238.3,-175.646C1292.23,-180.473 1415.63,-191.517 1477.28,-197.035\"/>\r\n<polygon fill=\"black\" stroke=\"black\" points=\"1477.07,-200.53 1487.34,-197.935 1477.69,-193.557 1477.07,-200.53\"/>\r\n<text text-anchor=\"middle\" x=\"1363.44\" y=\"-191.098\" font-family=\"Times New Roman,serif\" font-size=\"14.00\">0 </text>\r\n</g>\r\n<!-- St13&#45;&gt;St10 -->\r\n<g id=\"edge8\" class=\"edge\"><title>St13&#45;&gt;St10</title>\r\n<path fill=\"none\" stroke=\"black\" d=\"M1235.91,-185.034C1248.62,-191.291 1264.47,-199.09 1278.38,-205.933\"/>\r\n<polygon fill=\"black\" stroke=\"black\" points=\"1277.12,-209.213 1287.64,-210.487 1280.21,-202.932 1277.12,-209.213\"/>\r\n<text text-anchor=\"middle\" x=\"1261.85\" y=\"-203.098\" font-family=\"Times New Roman,serif\" font-size=\"14.00\">1 </text>\r\n</g>\r\n<!-- St2 -->\r\n<g id=\"node10\" class=\"node\"><title>St2</title>\r\n<ellipse fill=\"none\" stroke=\"black\" cx=\"706.922\" cy=\"-270.298\" rx=\"22.9609\" ry=\"22.9609\"/>\r\n<ellipse fill=\"none\" stroke=\"black\" cx=\"706.922\" cy=\"-270.298\" rx=\"26.9983\" ry=\"26.9983\"/>\r\n<text text-anchor=\"middle\" x=\"706.922\" y=\"-266.598\" font-family=\"Times New Roman,serif\" font-size=\"14.00\">St2</text>\r\n</g>\r\n<!-- St12&#45;&gt;St2 -->\r\n<g id=\"edge12\" class=\"edge\"><title>St12&#45;&gt;St2</title>\r\n<path fill=\"none\" stroke=\"black\" d=\"M881.054,-213.341C854.929,-214.093 814.118,-217.188 780.67,-228.298 765.747,-233.254 750.488,-241.487 737.825,-249.356\"/>\r\n<polygon fill=\"black\" stroke=\"black\" points=\"735.618,-246.614 729.105,-254.97 739.407,-252.5 735.618,-246.614\"/>\r\n<text text-anchor=\"middle\" x=\"807.418\" y=\"-232.098\" font-family=\"Times New Roman,serif\" font-size=\"14.00\">1 </text>\r\n</g>\r\n<!-- St6 -->\r\n<g id=\"node14\" class=\"node\"><title>St6</title>\r\n<ellipse fill=\"none\" stroke=\"black\" cx=\"1009.51\" cy=\"-199.298\" rx=\"22.9609\" ry=\"22.9609\"/>\r\n<ellipse fill=\"none\" stroke=\"black\" cx=\"1009.51\" cy=\"-199.298\" rx=\"26.9983\" ry=\"26.9983\"/>\r\n<text text-anchor=\"middle\" x=\"1009.51\" y=\"-195.598\" font-family=\"Times New Roman,serif\" font-size=\"14.00\">St6</text>\r\n</g>\r\n<!-- St12&#45;&gt;St6 -->\r\n<g id=\"edge13\" class=\"edge\"><title>St12&#45;&gt;St6</title>\r\n<path fill=\"none\" stroke=\"black\" d=\"M935.746,-209.583C947.118,-207.975 960.606,-206.069 972.86,-204.337\"/>\r\n<polygon fill=\"black\" stroke=\"black\" points=\"973.378,-207.798 982.79,-202.933 972.399,-200.867 973.378,-207.798\"/>\r\n<text text-anchor=\"middle\" x=\"959.261\" y=\"-211.098\" font-family=\"Times New Roman,serif\" font-size=\"14.00\">0 </text>\r\n</g>\r\n<!-- St2&#45;&gt;St1 -->\r\n<g id=\"edge22\" class=\"edge\"><title>St2&#45;&gt;St1</title>\r\n<path fill=\"none\" stroke=\"black\" d=\"M733.801,-272.662C744.998,-273.685 758.294,-274.9 770.429,-276.009\"/>\r\n<polygon fill=\"black\" stroke=\"black\" points=\"770.435,-279.524 780.712,-276.949 771.072,-272.553 770.435,-279.524\"/>\r\n<text text-anchor=\"middle\" x=\"757.17\" y=\"-280.098\" font-family=\"Times New Roman,serif\" font-size=\"14.00\">1 </text>\r\n</g>\r\n<!-- St2&#45;&gt;St5 -->\r\n<g id=\"edge23\" class=\"edge\"><title>St2&#45;&gt;St5</title>\r\n<path fill=\"none\" stroke=\"black\" d=\"M728.873,-285.79C756.613,-304.731 807.75,-334.298 856.666,-334.298 856.666,-334.298 856.666,-334.298 1212.05,-334.298 1247.79,-334.298 1335.52,-282.826 1382.25,-253.738\"/>\r\n<polygon fill=\"black\" stroke=\"black\" points=\"1384.13,-256.689 1390.74,-248.413 1380.41,-250.757 1384.13,-256.689\"/>\r\n<text text-anchor=\"middle\" x=\"1059.76\" y=\"-338.098\" font-family=\"Times New Roman,serif\" font-size=\"14.00\">0 </text>\r\n</g>\r\n<!-- St1&#45;&gt;St8 -->\r\n<g id=\"edge26\" class=\"edge\"><title>St1&#45;&gt;St8</title>\r\n<path fill=\"none\" stroke=\"black\" d=\"M787.951,-298.289C769.447,-315.204 739.276,-337.298 707.922,-337.298 504.93,-337.298 504.93,-337.298 504.93,-337.298 477.22,-337.298 450.794,-318.958 432.97,-302.904\"/>\r\n<polygon fill=\"black\" stroke=\"black\" points=\"435.085,-300.087 425.412,-295.763 430.277,-305.175 435.085,-300.087\"/>\r\n<text text-anchor=\"middle\" x=\"606.426\" y=\"-341.098\" font-family=\"Times New Roman,serif\" font-size=\"14.00\">1 </text>\r\n</g>\r\n<!-- St1&#45;&gt;St12 -->\r\n<g id=\"edge27\" class=\"edge\"><title>St1&#45;&gt;St12</title>\r\n<path fill=\"none\" stroke=\"black\" d=\"M830.4,-264.65C844.025,-255.571 861.729,-243.773 876.731,-233.776\"/>\r\n<polygon fill=\"black\" stroke=\"black\" points=\"878.82,-236.59 885.201,-228.132 874.939,-230.765 878.82,-236.59\"/>\r\n<text text-anchor=\"middle\" x=\"857.666\" y=\"-252.098\" font-family=\"Times New Roman,serif\" font-size=\"14.00\">0 </text>\r\n</g>\r\n<!-- St0&#45;&gt;St0 -->\r\n<g id=\"edge18\" class=\"edge\"><title>St0&#45;&gt;St0</title>\r\n<path fill=\"none\" stroke=\"black\" d=\"M496.638,-223.599C495.997,-234.124 499.094,-243.046 505.93,-243.046 510.416,-243.046 513.292,-239.203 514.558,-233.587\"/>\r\n<polygon fill=\"black\" stroke=\"black\" points=\"518.051,-233.809 515.223,-223.599 511.067,-233.344 518.051,-233.809\"/>\r\n<text text-anchor=\"middle\" x=\"505.93\" y=\"-246.846\" font-family=\"Times New Roman,serif\" font-size=\"14.00\">1 </text>\r\n</g>\r\n<!-- St0&#45;&gt;St4 -->\r\n<g id=\"edge19\" class=\"edge\"><title>St0&#45;&gt;St4</title>\r\n<path fill=\"none\" stroke=\"black\" d=\"M529.775,-211.054C542.828,-218.343 559.394,-227.593 573.695,-235.579\"/>\r\n<polygon fill=\"black\" stroke=\"black\" points=\"572.268,-238.791 582.706,-240.61 575.681,-232.679 572.268,-238.791\"/>\r\n<text text-anchor=\"middle\" x=\"556.178\" y=\"-233.098\" font-family=\"Times New Roman,serif\" font-size=\"14.00\">0 </text>\r\n</g>\r\n<!-- St7&#45;&gt;St15 -->\r\n<g id=\"edge33\" class=\"edge\"><title>St7&#45;&gt;St15</title>\r\n<path fill=\"none\" stroke=\"black\" d=\"M1611.33,-257.835C1601.41,-187.332 1569.98,-0.297578 1515.74,-0.297578 218.893,-0.297578 218.893,-0.297578 218.893,-0.297578 196.467,-0.297578 172.159,-6.7534 153.172,-13.3515\"/>\r\n<polygon fill=\"black\" stroke=\"black\" points=\"151.962,-10.0672 143.766,-16.7814 154.36,-16.6436 151.962,-10.0672\"/>\r\n<text text-anchor=\"middle\" x=\"857.666\" y=\"-4.09758\" font-family=\"Times New Roman,serif\" font-size=\"14.00\">0 </text>\r\n</g>\r\n<!-- St7&#45;&gt;St11 -->\r\n<g id=\"edge32\" class=\"edge\"><title>St7&#45;&gt;St11</title>\r\n<path fill=\"none\" stroke=\"black\" d=\"M1603.36,-308.028C1587.83,-336.456 1557.17,-380.298 1515.74,-380.298 315.938,-380.298 315.938,-380.298 315.938,-380.298 260.867,-380.298 233.866,-195.767 224.663,-114.718\"/>\r\n<polygon fill=\"black\" stroke=\"black\" points=\"228.106,-114.009 223.53,-104.453 221.148,-114.777 228.106,-114.009\"/>\r\n<text text-anchor=\"middle\" x=\"908.464\" y=\"-384.098\" font-family=\"Times New Roman,serif\" font-size=\"14.00\">1 </text>\r\n</g>\r\n<!-- St6&#45;&gt;St7 -->\r\n<g id=\"edge25\" class=\"edge\"><title>St6&#45;&gt;St7</title>\r\n<path fill=\"none\" stroke=\"black\" d=\"M1032.61,-213.042C1086.7,-245.326 1230.94,-323.298 1362.44,-323.298 1362.44,-323.298 1362.44,-323.298 1515.74,-323.298 1539.88,-323.298 1565.17,-313.144 1584.15,-303.198\"/>\r\n<polygon fill=\"black\" stroke=\"black\" points=\"1585.85,-306.258 1592.93,-298.377 1582.48,-300.122 1585.85,-306.258\"/>\r\n<text text-anchor=\"middle\" x=\"1312.65\" y=\"-327.098\" font-family=\"Times New Roman,serif\" font-size=\"14.00\">0 </text>\r\n</g>\r\n<!-- St6&#45;&gt;St3 -->\r\n<g id=\"edge24\" class=\"edge\"><title>St6&#45;&gt;St3</title>\r\n<path fill=\"none\" stroke=\"black\" d=\"M1032.86,-185.91C1046.21,-177.913 1063.36,-167.639 1078.01,-158.867\"/>\r\n<polygon fill=\"black\" stroke=\"black\" points=\"1079.96,-161.774 1086.74,-153.633 1076.37,-155.769 1079.96,-161.774\"/>\r\n<text text-anchor=\"middle\" x=\"1059.76\" y=\"-176.098\" font-family=\"Times New Roman,serif\" font-size=\"14.00\">1 </text>\r\n</g>\r\n<!-- St5&#45;&gt;St14 -->\r\n<g id=\"edge29\" class=\"edge\"><title>St5&#45;&gt;St14</title>\r\n<path fill=\"none\" stroke=\"black\" d=\"M1439.17,-225.893C1451.13,-221.787 1465.74,-216.774 1478.84,-212.276\"/>\r\n<polygon fill=\"black\" stroke=\"black\" points=\"1480.18,-215.518 1488.5,-208.96 1477.91,-208.897 1480.18,-215.518\"/>\r\n<text text-anchor=\"middle\" x=\"1463.94\" y=\"-223.098\" font-family=\"Times New Roman,serif\" font-size=\"14.00\">0 </text>\r\n</g>\r\n<!-- St5&#45;&gt;St10 -->\r\n<g id=\"edge28\" class=\"edge\"><title>St5&#45;&gt;St10</title>\r\n<path fill=\"none\" stroke=\"black\" d=\"M1386.97,-231.182C1375.67,-229.812 1362.2,-228.18 1349.91,-226.691\"/>\r\n<polygon fill=\"black\" stroke=\"black\" points=\"1350.28,-223.21 1339.93,-225.482 1349.43,-230.159 1350.28,-223.21\"/>\r\n<text text-anchor=\"middle\" x=\"1363.44\" y=\"-233.098\" font-family=\"Times New Roman,serif\" font-size=\"14.00\">1 </text>\r\n</g>\r\n<!-- St3&#45;&gt;St9 -->\r\n<g id=\"edge30\" class=\"edge\"><title>St3&#45;&gt;St9</title>\r\n<path fill=\"none\" stroke=\"black\" d=\"M1090.42,-121.961C1071.82,-105.629 1041.59,-84.2976 1010.51,-84.2976 856.666,-84.2976 856.666,-84.2976 856.666,-84.2976 768.037,-84.2976 746.304,-97.2976 657.674,-97.2976 408.434,-97.2976 408.434,-97.2976 408.434,-97.2976 387.837,-97.2976 365.392,-102.964 348.008,-108.671\"/>\r\n<polygon fill=\"black\" stroke=\"black\" points=\"346.714,-105.415 338.41,-111.994 349.004,-112.03 346.714,-105.415\"/>\r\n<text text-anchor=\"middle\" x=\"706.922\" y=\"-101.098\" font-family=\"Times New Roman,serif\" font-size=\"14.00\">1 </text>\r\n</g>\r\n<!-- St3&#45;&gt;St13 -->\r\n<g id=\"edge31\" class=\"edge\"><title>St3&#45;&gt;St13</title>\r\n<path fill=\"none\" stroke=\"black\" d=\"M1135.49,-148.455C1147.45,-152.44 1162.05,-157.306 1175.16,-161.671\"/>\r\n<polygon fill=\"black\" stroke=\"black\" points=\"1174.22,-165.049 1184.82,-164.89 1176.43,-158.408 1174.22,-165.049\"/>\r\n<text text-anchor=\"middle\" x=\"1160.25\" y=\"-163.098\" font-family=\"Times New Roman,serif\" font-size=\"14.00\">0 </text>\r\n</g>\r\n<!-- St4&#45;&gt;St2 -->\r\n<g id=\"edge20\" class=\"edge\"><title>St4&#45;&gt;St2</title>\r\n<path fill=\"none\" stroke=\"black\" d=\"M633.048,-257.72C644.448,-259.687 658.061,-262.037 670.419,-264.17\"/>\r\n<polygon fill=\"black\" stroke=\"black\" points=\"669.979,-267.646 680.429,-265.898 671.17,-260.748 669.979,-267.646\"/>\r\n<text text-anchor=\"middle\" x=\"656.674\" y=\"-267.098\" font-family=\"Times New Roman,serif\" font-size=\"14.00\">1 </text>\r\n</g>\r\n<!-- St4&#45;&gt;St6 -->\r\n<g id=\"edge21\" class=\"edge\"><title>St4&#45;&gt;St6</title>\r\n<path fill=\"none\" stroke=\"black\" d=\"M630.549,-241.09C673.016,-219.44 766.912,-175.107 852.166,-159.298 895.73,-151.219 945.132,-168.385 976.536,-182.69\"/>\r\n<polygon fill=\"black\" stroke=\"black\" points=\"975.14,-185.901 985.677,-187.006 978.129,-179.572 975.14,-185.901\"/>\r\n<text text-anchor=\"middle\" x=\"807.418\" y=\"-182.098\" font-family=\"Times New Roman,serif\" font-size=\"14.00\">0 </text>\r\n</g>\r\n</g>\r\n</svg>\r\n"
     },
     "metadata": {},
     "execution_count": 29
    }
   ],
   "source": [
    "dotObj_dfa(nfa2dfa(NFA_4thlast_1), FuseEdges=True)"
   ]
  },
  {
   "cell_type": "markdown",
   "metadata": {
    "run_control": {
     "frozen": false,
     "read_only": false
    }
   },
   "source": [
    "# Brzozowski's DFA minimization\n",
    "\n",
    "We will practice Brzozowski minimization on \"blimp\", a bloated DFA\n",
    "\n",
    "\n",
    "\n",
    "Picking up from our earlier discussions, to minimize a DFA using Brzozowski's algorithm, here are the steps:\n",
    "\n",
    "* Make sure that the given DFA has no unreachable states\n",
    "* Reverse the DFA\n",
    "* Determinize it\n",
    "* Reverse that DFA\n",
    "* Determinize it\n",
    "\n",
    "Thus we need to write a routine to reverse a DFA. We already have a way to ensure that a DFA does not have unreachable states (in another Jupyter notebook; we won't bother to include it here, and trust the user to always provide such DFA only).\n",
    "\n",
    "We can observe that if a DFA has black-hole states, then those states won't matter in the reversed machine (reversed NFA). Thus, we can work with __partial__ dfa (i.e., DFA that are partially consistent)."
   ]
  },
  {
   "cell_type": "code",
   "execution_count": 30,
   "metadata": {
    "run_control": {
     "frozen": false,
     "read_only": false
    }
   },
   "outputs": [],
   "source": [
    "blimp = md2mc('''\n",
    "DFA \n",
    "I1 : a -> F2\n",
    "I1 : b -> F3\n",
    "F2 : a -> S8\n",
    "F2 : b -> S5\n",
    "F3 : a -> S7\n",
    "F3 : b -> S4\n",
    "S4 : a | b -> F6\n",
    "S5 : a | b -> F6\n",
    "F6 : a | b -> F6\n",
    "S7 : a | b -> F6\n",
    "S8 : a -> F6\n",
    "S8 : b -> F9\n",
    "F9 : a -> F9\n",
    "F9 : b -> F6\n",
    "''')"
   ]
  },
  {
   "cell_type": "code",
   "execution_count": 31,
   "metadata": {
    "run_control": {
     "frozen": false,
     "read_only": false
    }
   },
   "outputs": [
    {
     "output_type": "execute_result",
     "data": {
      "text/plain": "<graphviz.dot.Digraph at 0x16cf6972cd0>",
      "image/svg+xml": "<?xml version=\"1.0\" encoding=\"UTF-8\" standalone=\"no\"?>\r\n<!DOCTYPE svg PUBLIC \"-//W3C//DTD SVG 1.1//EN\"\r\n \"http://www.w3.org/Graphics/SVG/1.1/DTD/svg11.dtd\">\r\n<!-- Generated by graphviz version 2.38.0 (20140413.2041)\r\n -->\r\n<!-- Title: %3 Pages: 1 -->\r\n<svg width=\"555pt\" height=\"309pt\"\r\n viewBox=\"0.00 0.00 555.38 308.80\" xmlns=\"http://www.w3.org/2000/svg\" xmlns:xlink=\"http://www.w3.org/1999/xlink\">\r\n<g id=\"graph0\" class=\"graph\" transform=\"scale(1 1) rotate(0) translate(4 304.798)\">\r\n<title>%3</title>\r\n<polygon fill=\"white\" stroke=\"none\" points=\"-4,4 -4,-304.798 551.378,-304.798 551.378,4 -4,4\"/>\r\n<!-- EMPTY -->\r\n<g id=\"node1\" class=\"node\"><title>EMPTY</title>\r\n</g>\r\n<!-- I1 -->\r\n<g id=\"node2\" class=\"node\"><title>I1</title>\r\n<ellipse fill=\"none\" stroke=\"black\" cx=\"109.198\" cy=\"-112.798\" rx=\"18.399\" ry=\"18.399\"/>\r\n<text text-anchor=\"middle\" x=\"109.198\" y=\"-109.098\" font-family=\"Times New Roman,serif\" font-size=\"14.00\">I1</text>\r\n</g>\r\n<!-- EMPTY&#45;&gt;I1 -->\r\n<g id=\"edge1\" class=\"edge\"><title>EMPTY&#45;&gt;I1</title>\r\n<path fill=\"none\" stroke=\"black\" d=\"M54.26,-112.798C62.7397,-112.798 72.1605,-112.798 80.7255,-112.798\"/>\r\n<polygon fill=\"black\" stroke=\"black\" points=\"80.9815,-116.298 90.9815,-112.798 80.9815,-109.298 80.9815,-116.298\"/>\r\n</g>\r\n<!-- F2 -->\r\n<g id=\"node8\" class=\"node\"><title>F2</title>\r\n<ellipse fill=\"none\" stroke=\"black\" cx=\"198.195\" cy=\"-153.798\" rx=\"20.6302\" ry=\"20.6302\"/>\r\n<ellipse fill=\"none\" stroke=\"black\" cx=\"198.195\" cy=\"-153.798\" rx=\"24.5979\" ry=\"24.5979\"/>\r\n<text text-anchor=\"middle\" x=\"198.195\" y=\"-150.098\" font-family=\"Times New Roman,serif\" font-size=\"14.00\">F2</text>\r\n</g>\r\n<!-- I1&#45;&gt;F2 -->\r\n<g id=\"edge2\" class=\"edge\"><title>I1&#45;&gt;F2</title>\r\n<path fill=\"none\" stroke=\"black\" d=\"M126.155,-120.318C137.394,-125.615 152.801,-132.876 166.394,-139.282\"/>\r\n<polygon fill=\"black\" stroke=\"black\" points=\"164.904,-142.449 175.442,-143.546 167.888,-136.117 164.904,-142.449\"/>\r\n<text text-anchor=\"middle\" x=\"150.397\" y=\"-138.598\" font-family=\"Times New Roman,serif\" font-size=\"14.00\">a </text>\r\n</g>\r\n<!-- F3 -->\r\n<g id=\"node10\" class=\"node\"><title>F3</title>\r\n<ellipse fill=\"none\" stroke=\"black\" cx=\"295.791\" cy=\"-80.7982\" rx=\"20.6302\" ry=\"20.6302\"/>\r\n<ellipse fill=\"none\" stroke=\"black\" cx=\"295.791\" cy=\"-80.7982\" rx=\"24.5979\" ry=\"24.5979\"/>\r\n<text text-anchor=\"middle\" x=\"295.791\" y=\"-77.0982\" font-family=\"Times New Roman,serif\" font-size=\"14.00\">F3</text>\r\n</g>\r\n<!-- I1&#45;&gt;F3 -->\r\n<g id=\"edge3\" class=\"edge\"><title>I1&#45;&gt;F3</title>\r\n<path fill=\"none\" stroke=\"black\" d=\"M127.234,-109.845C157.63,-104.576 221.725,-93.4645 261.239,-86.6146\"/>\r\n<polygon fill=\"black\" stroke=\"black\" points=\"261.946,-90.0443 271.201,-84.8876 260.751,-83.1471 261.946,-90.0443\"/>\r\n<text text-anchor=\"middle\" x=\"198.195\" y=\"-105.598\" font-family=\"Times New Roman,serif\" font-size=\"14.00\">b </text>\r\n</g>\r\n<!-- S4 -->\r\n<g id=\"node3\" class=\"node\"><title>S4</title>\r\n<ellipse fill=\"none\" stroke=\"black\" cx=\"422.984\" cy=\"-80.7982\" rx=\"20.5982\" ry=\"20.5982\"/>\r\n<text text-anchor=\"middle\" x=\"422.984\" y=\"-77.0982\" font-family=\"Times New Roman,serif\" font-size=\"14.00\">S4</text>\r\n</g>\r\n<!-- F6 -->\r\n<g id=\"node9\" class=\"node\"><title>F6</title>\r\n<ellipse fill=\"none\" stroke=\"black\" cx=\"522.58\" cy=\"-137.798\" rx=\"20.6302\" ry=\"20.6302\"/>\r\n<ellipse fill=\"none\" stroke=\"black\" cx=\"522.58\" cy=\"-137.798\" rx=\"24.5979\" ry=\"24.5979\"/>\r\n<text text-anchor=\"middle\" x=\"522.58\" y=\"-134.098\" font-family=\"Times New Roman,serif\" font-size=\"14.00\">F6</text>\r\n</g>\r\n<!-- S4&#45;&gt;F6 -->\r\n<g id=\"edge8\" class=\"edge\"><title>S4&#45;&gt;F6</title>\r\n<path fill=\"none\" stroke=\"black\" d=\"M443.859,-82.5932C455.001,-84.2733 468.819,-87.5217 479.782,-93.7982 487.406,-98.1628 494.497,-104.352 500.594,-110.713\"/>\r\n<polygon fill=\"black\" stroke=\"black\" points=\"497.988,-113.049 507.267,-118.162 503.201,-108.378 497.988,-113.049\"/>\r\n<text text-anchor=\"middle\" x=\"472.782\" y=\"-112.598\" font-family=\"Times New Roman,serif\" font-size=\"14.00\">b </text>\r\n<text text-anchor=\"middle\" x=\"472.782\" y=\"-97.5982\" font-family=\"Times New Roman,serif\" font-size=\"14.00\"> a </text>\r\n</g>\r\n<!-- S5 -->\r\n<g id=\"node4\" class=\"node\"><title>S5</title>\r\n<ellipse fill=\"none\" stroke=\"black\" cx=\"359.388\" cy=\"-256.798\" rx=\"20.5982\" ry=\"20.5982\"/>\r\n<text text-anchor=\"middle\" x=\"359.388\" y=\"-253.098\" font-family=\"Times New Roman,serif\" font-size=\"14.00\">S5</text>\r\n</g>\r\n<!-- S5&#45;&gt;F6 -->\r\n<g id=\"edge9\" class=\"edge\"><title>S5&#45;&gt;F6</title>\r\n<path fill=\"none\" stroke=\"black\" d=\"M379.125,-263.786C397.794,-269.502 426.65,-274.862 447.782,-262.798 481.898,-243.322 501.829,-201.219 512.2,-171.265\"/>\r\n<polygon fill=\"black\" stroke=\"black\" points=\"515.572,-172.215 515.358,-161.623 508.92,-170.037 515.572,-172.215\"/>\r\n<text text-anchor=\"middle\" x=\"422.984\" y=\"-289.598\" font-family=\"Times New Roman,serif\" font-size=\"14.00\">b </text>\r\n<text text-anchor=\"middle\" x=\"422.984\" y=\"-274.598\" font-family=\"Times New Roman,serif\" font-size=\"14.00\"> a </text>\r\n</g>\r\n<!-- S7 -->\r\n<g id=\"node5\" class=\"node\"><title>S7</title>\r\n<ellipse fill=\"none\" stroke=\"black\" cx=\"422.984\" cy=\"-20.7982\" rx=\"20.5982\" ry=\"20.5982\"/>\r\n<text text-anchor=\"middle\" x=\"422.984\" y=\"-17.0982\" font-family=\"Times New Roman,serif\" font-size=\"14.00\">S7</text>\r\n</g>\r\n<!-- S7&#45;&gt;F6 -->\r\n<g id=\"edge11\" class=\"edge\"><title>S7&#45;&gt;F6</title>\r\n<path fill=\"none\" stroke=\"black\" d=\"M442.376,-28.7311C454.228,-34.5708 469.322,-43.4577 479.782,-54.7982 492.917,-69.0387 502.926,-88.1812 509.852,-104.494\"/>\r\n<polygon fill=\"black\" stroke=\"black\" points=\"506.784,-106.247 513.766,-114.216 513.278,-103.632 506.784,-106.247\"/>\r\n<text text-anchor=\"middle\" x=\"472.782\" y=\"-73.5982\" font-family=\"Times New Roman,serif\" font-size=\"14.00\">b </text>\r\n<text text-anchor=\"middle\" x=\"472.782\" y=\"-58.5982\" font-family=\"Times New Roman,serif\" font-size=\"14.00\"> a </text>\r\n</g>\r\n<!-- S8 -->\r\n<g id=\"node6\" class=\"node\"><title>S8</title>\r\n<ellipse fill=\"none\" stroke=\"black\" cx=\"295.791\" cy=\"-153.798\" rx=\"20.5982\" ry=\"20.5982\"/>\r\n<text text-anchor=\"middle\" x=\"295.791\" y=\"-150.098\" font-family=\"Times New Roman,serif\" font-size=\"14.00\">S8</text>\r\n</g>\r\n<!-- F9 -->\r\n<g id=\"node7\" class=\"node\"><title>F9</title>\r\n<ellipse fill=\"none\" stroke=\"black\" cx=\"422.984\" cy=\"-195.798\" rx=\"20.6302\" ry=\"20.6302\"/>\r\n<ellipse fill=\"none\" stroke=\"black\" cx=\"422.984\" cy=\"-195.798\" rx=\"24.5979\" ry=\"24.5979\"/>\r\n<text text-anchor=\"middle\" x=\"422.984\" y=\"-192.098\" font-family=\"Times New Roman,serif\" font-size=\"14.00\">F9</text>\r\n</g>\r\n<!-- S8&#45;&gt;F9 -->\r\n<g id=\"edge13\" class=\"edge\"><title>S8&#45;&gt;F9</title>\r\n<path fill=\"none\" stroke=\"black\" d=\"M315.805,-160.177C335.317,-166.723 366.045,-177.032 389.435,-184.878\"/>\r\n<polygon fill=\"black\" stroke=\"black\" points=\"388.362,-188.21 398.956,-188.073 390.588,-181.574 388.362,-188.21\"/>\r\n<text text-anchor=\"middle\" x=\"359.388\" y=\"-185.598\" font-family=\"Times New Roman,serif\" font-size=\"14.00\">b </text>\r\n</g>\r\n<!-- S8&#45;&gt;F6 -->\r\n<g id=\"edge12\" class=\"edge\"><title>S8&#45;&gt;F6</title>\r\n<path fill=\"none\" stroke=\"black\" d=\"M316.74,-152.378C355.199,-149.641 439.995,-143.605 487.545,-140.221\"/>\r\n<polygon fill=\"black\" stroke=\"black\" points=\"487.932,-143.702 497.659,-139.501 487.435,-136.72 487.932,-143.702\"/>\r\n<text text-anchor=\"middle\" x=\"422.984\" y=\"-150.598\" font-family=\"Times New Roman,serif\" font-size=\"14.00\">a </text>\r\n</g>\r\n<!-- F9&#45;&gt;F9 -->\r\n<g id=\"edge14\" class=\"edge\"><title>F9&#45;&gt;F9</title>\r\n<path fill=\"none\" stroke=\"black\" d=\"M414.124,-219.13C413.281,-229.569 416.234,-238.596 422.984,-238.596 427.308,-238.596 430.074,-234.891 431.282,-229.484\"/>\r\n<polygon fill=\"black\" stroke=\"black\" points=\"434.797,-229.305 431.843,-219.13 427.807,-228.926 434.797,-229.305\"/>\r\n<text text-anchor=\"middle\" x=\"422.984\" y=\"-242.396\" font-family=\"Times New Roman,serif\" font-size=\"14.00\">a </text>\r\n</g>\r\n<!-- F9&#45;&gt;F6 -->\r\n<g id=\"edge15\" class=\"edge\"><title>F9&#45;&gt;F6</title>\r\n<path fill=\"none\" stroke=\"black\" d=\"M444.682,-183.498C458.527,-175.27 476.95,-164.321 492.293,-155.203\"/>\r\n<polygon fill=\"black\" stroke=\"black\" points=\"494.104,-158.198 500.912,-150.081 490.528,-152.181 494.104,-158.198\"/>\r\n<text text-anchor=\"middle\" x=\"472.782\" y=\"-174.598\" font-family=\"Times New Roman,serif\" font-size=\"14.00\">b </text>\r\n</g>\r\n<!-- F2&#45;&gt;S5 -->\r\n<g id=\"edge5\" class=\"edge\"><title>F2&#45;&gt;S5</title>\r\n<path fill=\"none\" stroke=\"black\" d=\"M219.357,-166.843C248.141,-185.467 301.017,-219.678 332.611,-240.12\"/>\r\n<polygon fill=\"black\" stroke=\"black\" points=\"331.004,-243.25 341.302,-245.743 334.807,-237.372 331.004,-243.25\"/>\r\n<text text-anchor=\"middle\" x=\"246.993\" y=\"-192.598\" font-family=\"Times New Roman,serif\" font-size=\"14.00\">b </text>\r\n</g>\r\n<!-- F2&#45;&gt;S8 -->\r\n<g id=\"edge4\" class=\"edge\"><title>F2&#45;&gt;S8</title>\r\n<path fill=\"none\" stroke=\"black\" d=\"M223.318,-153.798C235.888,-153.798 251.379,-153.798 264.723,-153.798\"/>\r\n<polygon fill=\"black\" stroke=\"black\" points=\"264.868,-157.298 274.867,-153.798 264.867,-150.298 264.868,-157.298\"/>\r\n<text text-anchor=\"middle\" x=\"246.993\" y=\"-157.598\" font-family=\"Times New Roman,serif\" font-size=\"14.00\">a </text>\r\n</g>\r\n<!-- F6&#45;&gt;F6 -->\r\n<g id=\"edge10\" class=\"edge\"><title>F6&#45;&gt;F6</title>\r\n<path fill=\"none\" stroke=\"black\" d=\"M513.721,-161.13C512.877,-171.569 515.83,-180.596 522.58,-180.596 526.904,-180.596 529.67,-176.891 530.878,-171.484\"/>\r\n<polygon fill=\"black\" stroke=\"black\" points=\"534.393,-171.305 531.44,-161.13 527.403,-170.926 534.393,-171.305\"/>\r\n<text text-anchor=\"middle\" x=\"522.58\" y=\"-199.396\" font-family=\"Times New Roman,serif\" font-size=\"14.00\">b </text>\r\n<text text-anchor=\"middle\" x=\"522.58\" y=\"-184.396\" font-family=\"Times New Roman,serif\" font-size=\"14.00\"> a </text>\r\n</g>\r\n<!-- F3&#45;&gt;S4 -->\r\n<g id=\"edge7\" class=\"edge\"><title>F3&#45;&gt;S4</title>\r\n<path fill=\"none\" stroke=\"black\" d=\"M320.634,-80.7982C340.875,-80.7982 370.029,-80.7982 391.878,-80.7982\"/>\r\n<polygon fill=\"black\" stroke=\"black\" points=\"391.945,-84.2983 401.945,-80.7982 391.945,-77.2983 391.945,-84.2983\"/>\r\n<text text-anchor=\"middle\" x=\"359.388\" y=\"-84.5982\" font-family=\"Times New Roman,serif\" font-size=\"14.00\">b </text>\r\n</g>\r\n<!-- F3&#45;&gt;S7 -->\r\n<g id=\"edge6\" class=\"edge\"><title>F3&#45;&gt;S7</title>\r\n<path fill=\"none\" stroke=\"black\" d=\"M318.598,-70.347C339.685,-60.2409 371.71,-44.8925 394.524,-33.9585\"/>\r\n<polygon fill=\"black\" stroke=\"black\" points=\"396.174,-37.049 403.679,-29.5708 393.149,-30.7366 396.174,-37.049\"/>\r\n<text text-anchor=\"middle\" x=\"359.388\" y=\"-63.5982\" font-family=\"Times New Roman,serif\" font-size=\"14.00\">a </text>\r\n</g>\r\n</g>\r\n</svg>\r\n"
     },
     "metadata": {},
     "execution_count": 31
    }
   ],
   "source": [
    "dotObj_dfa(blimp, FuseEdges=True)"
   ]
  },
  {
   "cell_type": "code",
   "execution_count": 32,
   "metadata": {
    "run_control": {
     "frozen": false,
     "read_only": false
    }
   },
   "outputs": [
    {
     "output_type": "execute_result",
     "data": {
      "text/plain": "<function jove.Def_NFA.rev_dfa(D)>"
     },
     "metadata": {},
     "execution_count": 32
    }
   ],
   "source": [
    "rev_dfa"
   ]
  },
  {
   "cell_type": "code",
   "execution_count": 33,
   "metadata": {
    "run_control": {
     "frozen": false,
     "read_only": false
    }
   },
   "outputs": [
    {
     "output_type": "execute_result",
     "data": {
      "text/plain": "<function jove.Def_NFA.nfa2dfa(N, STATENAME_MAXSIZE=20)>"
     },
     "metadata": {},
     "execution_count": 33
    }
   ],
   "source": [
    "nfa2dfa"
   ]
  },
  {
   "cell_type": "code",
   "execution_count": 34,
   "metadata": {
    "run_control": {
     "frozen": false,
     "read_only": false
    }
   },
   "outputs": [
    {
     "output_type": "execute_result",
     "data": {
      "text/plain": "<graphviz.dot.Digraph at 0x16cf694d070>",
      "image/svg+xml": "<?xml version=\"1.0\" encoding=\"UTF-8\" standalone=\"no\"?>\r\n<!DOCTYPE svg PUBLIC \"-//W3C//DTD SVG 1.1//EN\"\r\n \"http://www.w3.org/Graphics/SVG/1.1/DTD/svg11.dtd\">\r\n<!-- Generated by graphviz version 2.38.0 (20140413.2041)\r\n -->\r\n<!-- Title: %3 Pages: 1 -->\r\n<svg width=\"447pt\" height=\"109pt\"\r\n viewBox=\"0.00 0.00 446.98 109.50\" xmlns=\"http://www.w3.org/2000/svg\" xmlns:xlink=\"http://www.w3.org/1999/xlink\">\r\n<g id=\"graph0\" class=\"graph\" transform=\"scale(1 1) rotate(0) translate(4 105.496)\">\r\n<title>%3</title>\r\n<polygon fill=\"white\" stroke=\"none\" points=\"-4,4 -4,-105.496 442.984,-105.496 442.984,4 -4,4\"/>\r\n<!-- EMPTY -->\r\n<g id=\"node1\" class=\"node\"><title>EMPTY</title>\r\n</g>\r\n<!-- St3 -->\r\n<g id=\"node3\" class=\"node\"><title>St3</title>\r\n<ellipse fill=\"none\" stroke=\"black\" cx=\"113.748\" cy=\"-26.748\" rx=\"22.9987\" ry=\"22.9987\"/>\r\n<text text-anchor=\"middle\" x=\"113.748\" y=\"-23.048\" font-family=\"Times New Roman,serif\" font-size=\"14.00\">St3</text>\r\n</g>\r\n<!-- EMPTY&#45;&gt;St3 -->\r\n<g id=\"edge1\" class=\"edge\"><title>EMPTY&#45;&gt;St3</title>\r\n<path fill=\"none\" stroke=\"black\" d=\"M54.3502,-26.748C62.71,-26.748 72.0455,-26.748 80.757,-26.748\"/>\r\n<polygon fill=\"black\" stroke=\"black\" points=\"80.9663,-30.2481 90.9663,-26.748 80.9662,-23.2481 80.9663,-30.2481\"/>\r\n</g>\r\n<!-- St2 -->\r\n<g id=\"node2\" class=\"node\"><title>St2</title>\r\n<ellipse fill=\"none\" stroke=\"black\" cx=\"312.74\" cy=\"-26.748\" rx=\"22.9987\" ry=\"22.9987\"/>\r\n<text text-anchor=\"middle\" x=\"312.74\" y=\"-23.048\" font-family=\"Times New Roman,serif\" font-size=\"14.00\">St2</text>\r\n</g>\r\n<!-- St0 -->\r\n<g id=\"node4\" class=\"node\"><title>St0</title>\r\n<ellipse fill=\"none\" stroke=\"black\" cx=\"412.236\" cy=\"-26.748\" rx=\"22.9609\" ry=\"22.9609\"/>\r\n<ellipse fill=\"none\" stroke=\"black\" cx=\"412.236\" cy=\"-26.748\" rx=\"26.9983\" ry=\"26.9983\"/>\r\n<text text-anchor=\"middle\" x=\"412.236\" y=\"-23.048\" font-family=\"Times New Roman,serif\" font-size=\"14.00\">St0</text>\r\n</g>\r\n<!-- St2&#45;&gt;St0 -->\r\n<g id=\"edge4\" class=\"edge\"><title>St2&#45;&gt;St0</title>\r\n<path fill=\"none\" stroke=\"black\" d=\"M335.863,-26.748C347.478,-26.748 362.002,-26.748 375.192,-26.748\"/>\r\n<polygon fill=\"black\" stroke=\"black\" points=\"375.403,-30.2481 385.403,-26.748 375.403,-23.2481 375.403,-30.2481\"/>\r\n<text text-anchor=\"middle\" x=\"360.488\" y=\"-45.548\" font-family=\"Times New Roman,serif\" font-size=\"14.00\">b </text>\r\n<text text-anchor=\"middle\" x=\"360.488\" y=\"-30.548\" font-family=\"Times New Roman,serif\" font-size=\"14.00\"> a </text>\r\n</g>\r\n<!-- St1 -->\r\n<g id=\"node5\" class=\"node\"><title>St1</title>\r\n<ellipse fill=\"none\" stroke=\"black\" cx=\"213.244\" cy=\"-26.748\" rx=\"22.9609\" ry=\"22.9609\"/>\r\n<ellipse fill=\"none\" stroke=\"black\" cx=\"213.244\" cy=\"-26.748\" rx=\"26.9983\" ry=\"26.9983\"/>\r\n<text text-anchor=\"middle\" x=\"213.244\" y=\"-23.048\" font-family=\"Times New Roman,serif\" font-size=\"14.00\">St1</text>\r\n</g>\r\n<!-- St3&#45;&gt;St1 -->\r\n<g id=\"edge2\" class=\"edge\"><title>St3&#45;&gt;St1</title>\r\n<path fill=\"none\" stroke=\"black\" d=\"M136.871,-26.748C148.486,-26.748 163.01,-26.748 176.2,-26.748\"/>\r\n<polygon fill=\"black\" stroke=\"black\" points=\"176.411,-30.2481 186.411,-26.748 176.411,-23.2481 176.411,-30.2481\"/>\r\n<text text-anchor=\"middle\" x=\"161.496\" y=\"-45.548\" font-family=\"Times New Roman,serif\" font-size=\"14.00\">b </text>\r\n<text text-anchor=\"middle\" x=\"161.496\" y=\"-30.548\" font-family=\"Times New Roman,serif\" font-size=\"14.00\"> a </text>\r\n</g>\r\n<!-- St0&#45;&gt;St0 -->\r\n<g id=\"edge5\" class=\"edge\"><title>St0&#45;&gt;St0</title>\r\n<path fill=\"none\" stroke=\"black\" d=\"M402.943,-52.049C402.302,-62.574 405.4,-71.496 412.236,-71.496 416.722,-71.496 419.598,-67.6536 420.864,-62.0374\"/>\r\n<polygon fill=\"black\" stroke=\"black\" points=\"424.357,-62.2592 421.528,-52.049 417.372,-61.7946 424.357,-62.2592\"/>\r\n<text text-anchor=\"middle\" x=\"412.236\" y=\"-90.296\" font-family=\"Times New Roman,serif\" font-size=\"14.00\">b </text>\r\n<text text-anchor=\"middle\" x=\"412.236\" y=\"-75.296\" font-family=\"Times New Roman,serif\" font-size=\"14.00\"> a </text>\r\n</g>\r\n<!-- St1&#45;&gt;St2 -->\r\n<g id=\"edge3\" class=\"edge\"><title>St1&#45;&gt;St2</title>\r\n<path fill=\"none\" stroke=\"black\" d=\"M240.115,-26.748C252.191,-26.748 266.689,-26.748 279.474,-26.748\"/>\r\n<polygon fill=\"black\" stroke=\"black\" points=\"279.718,-30.2481 289.718,-26.748 279.718,-23.2481 279.718,-30.2481\"/>\r\n<text text-anchor=\"middle\" x=\"264.992\" y=\"-45.548\" font-family=\"Times New Roman,serif\" font-size=\"14.00\">b </text>\r\n<text text-anchor=\"middle\" x=\"264.992\" y=\"-30.548\" font-family=\"Times New Roman,serif\" font-size=\"14.00\"> a </text>\r\n</g>\r\n</g>\r\n</svg>\r\n"
     },
     "metadata": {},
     "execution_count": 34
    }
   ],
   "source": [
    "# Brzozowski minimization is R;D;R;D\n",
    "\n",
    "dotObj_dfa(nfa2dfa(rev_dfa(nfa2dfa(rev_dfa(blimp)))), FuseEdges = True)"
   ]
  },
  {
   "cell_type": "code",
   "execution_count": 35,
   "metadata": {
    "run_control": {
     "frozen": false,
     "read_only": false
    }
   },
   "outputs": [
    {
     "output_type": "execute_result",
     "data": {
      "text/plain": "<function jove.Def_NFA.min_dfa_brz(D)>"
     },
     "metadata": {},
     "execution_count": 35
    }
   ],
   "source": [
    "# This is also directly available as a single command\n",
    "\n",
    "min_dfa_brz"
   ]
  },
  {
   "cell_type": "code",
   "execution_count": 36,
   "metadata": {
    "run_control": {
     "frozen": false,
     "read_only": false
    }
   },
   "outputs": [
    {
     "output_type": "execute_result",
     "data": {
      "text/plain": "<graphviz.dot.Digraph at 0x16cf694d700>",
      "image/svg+xml": "<?xml version=\"1.0\" encoding=\"UTF-8\" standalone=\"no\"?>\r\n<!DOCTYPE svg PUBLIC \"-//W3C//DTD SVG 1.1//EN\"\r\n \"http://www.w3.org/Graphics/SVG/1.1/DTD/svg11.dtd\">\r\n<!-- Generated by graphviz version 2.38.0 (20140413.2041)\r\n -->\r\n<!-- Title: %3 Pages: 1 -->\r\n<svg width=\"447pt\" height=\"109pt\"\r\n viewBox=\"0.00 0.00 446.98 109.50\" xmlns=\"http://www.w3.org/2000/svg\" xmlns:xlink=\"http://www.w3.org/1999/xlink\">\r\n<g id=\"graph0\" class=\"graph\" transform=\"scale(1 1) rotate(0) translate(4 105.496)\">\r\n<title>%3</title>\r\n<polygon fill=\"white\" stroke=\"none\" points=\"-4,4 -4,-105.496 442.984,-105.496 442.984,4 -4,4\"/>\r\n<!-- EMPTY -->\r\n<g id=\"node1\" class=\"node\"><title>EMPTY</title>\r\n</g>\r\n<!-- St3 -->\r\n<g id=\"node3\" class=\"node\"><title>St3</title>\r\n<ellipse fill=\"none\" stroke=\"black\" cx=\"113.748\" cy=\"-26.748\" rx=\"22.9987\" ry=\"22.9987\"/>\r\n<text text-anchor=\"middle\" x=\"113.748\" y=\"-23.048\" font-family=\"Times New Roman,serif\" font-size=\"14.00\">St3</text>\r\n</g>\r\n<!-- EMPTY&#45;&gt;St3 -->\r\n<g id=\"edge1\" class=\"edge\"><title>EMPTY&#45;&gt;St3</title>\r\n<path fill=\"none\" stroke=\"black\" d=\"M54.3502,-26.748C62.71,-26.748 72.0455,-26.748 80.757,-26.748\"/>\r\n<polygon fill=\"black\" stroke=\"black\" points=\"80.9663,-30.2481 90.9663,-26.748 80.9662,-23.2481 80.9663,-30.2481\"/>\r\n</g>\r\n<!-- St2 -->\r\n<g id=\"node2\" class=\"node\"><title>St2</title>\r\n<ellipse fill=\"none\" stroke=\"black\" cx=\"312.74\" cy=\"-26.748\" rx=\"22.9987\" ry=\"22.9987\"/>\r\n<text text-anchor=\"middle\" x=\"312.74\" y=\"-23.048\" font-family=\"Times New Roman,serif\" font-size=\"14.00\">St2</text>\r\n</g>\r\n<!-- St0 -->\r\n<g id=\"node4\" class=\"node\"><title>St0</title>\r\n<ellipse fill=\"none\" stroke=\"black\" cx=\"412.236\" cy=\"-26.748\" rx=\"22.9609\" ry=\"22.9609\"/>\r\n<ellipse fill=\"none\" stroke=\"black\" cx=\"412.236\" cy=\"-26.748\" rx=\"26.9983\" ry=\"26.9983\"/>\r\n<text text-anchor=\"middle\" x=\"412.236\" y=\"-23.048\" font-family=\"Times New Roman,serif\" font-size=\"14.00\">St0</text>\r\n</g>\r\n<!-- St2&#45;&gt;St0 -->\r\n<g id=\"edge4\" class=\"edge\"><title>St2&#45;&gt;St0</title>\r\n<path fill=\"none\" stroke=\"black\" d=\"M335.863,-26.748C347.478,-26.748 362.002,-26.748 375.192,-26.748\"/>\r\n<polygon fill=\"black\" stroke=\"black\" points=\"375.403,-30.2481 385.403,-26.748 375.403,-23.2481 375.403,-30.2481\"/>\r\n<text text-anchor=\"middle\" x=\"360.488\" y=\"-45.548\" font-family=\"Times New Roman,serif\" font-size=\"14.00\">b </text>\r\n<text text-anchor=\"middle\" x=\"360.488\" y=\"-30.548\" font-family=\"Times New Roman,serif\" font-size=\"14.00\"> a </text>\r\n</g>\r\n<!-- St1 -->\r\n<g id=\"node5\" class=\"node\"><title>St1</title>\r\n<ellipse fill=\"none\" stroke=\"black\" cx=\"213.244\" cy=\"-26.748\" rx=\"22.9609\" ry=\"22.9609\"/>\r\n<ellipse fill=\"none\" stroke=\"black\" cx=\"213.244\" cy=\"-26.748\" rx=\"26.9983\" ry=\"26.9983\"/>\r\n<text text-anchor=\"middle\" x=\"213.244\" y=\"-23.048\" font-family=\"Times New Roman,serif\" font-size=\"14.00\">St1</text>\r\n</g>\r\n<!-- St3&#45;&gt;St1 -->\r\n<g id=\"edge2\" class=\"edge\"><title>St3&#45;&gt;St1</title>\r\n<path fill=\"none\" stroke=\"black\" d=\"M136.871,-26.748C148.486,-26.748 163.01,-26.748 176.2,-26.748\"/>\r\n<polygon fill=\"black\" stroke=\"black\" points=\"176.411,-30.2481 186.411,-26.748 176.411,-23.2481 176.411,-30.2481\"/>\r\n<text text-anchor=\"middle\" x=\"161.496\" y=\"-45.548\" font-family=\"Times New Roman,serif\" font-size=\"14.00\">b </text>\r\n<text text-anchor=\"middle\" x=\"161.496\" y=\"-30.548\" font-family=\"Times New Roman,serif\" font-size=\"14.00\"> a </text>\r\n</g>\r\n<!-- St0&#45;&gt;St0 -->\r\n<g id=\"edge5\" class=\"edge\"><title>St0&#45;&gt;St0</title>\r\n<path fill=\"none\" stroke=\"black\" d=\"M402.943,-52.049C402.302,-62.574 405.4,-71.496 412.236,-71.496 416.722,-71.496 419.598,-67.6536 420.864,-62.0374\"/>\r\n<polygon fill=\"black\" stroke=\"black\" points=\"424.357,-62.2592 421.528,-52.049 417.372,-61.7946 424.357,-62.2592\"/>\r\n<text text-anchor=\"middle\" x=\"412.236\" y=\"-90.296\" font-family=\"Times New Roman,serif\" font-size=\"14.00\">b </text>\r\n<text text-anchor=\"middle\" x=\"412.236\" y=\"-75.296\" font-family=\"Times New Roman,serif\" font-size=\"14.00\"> a </text>\r\n</g>\r\n<!-- St1&#45;&gt;St2 -->\r\n<g id=\"edge3\" class=\"edge\"><title>St1&#45;&gt;St2</title>\r\n<path fill=\"none\" stroke=\"black\" d=\"M240.115,-26.748C252.191,-26.748 266.689,-26.748 279.474,-26.748\"/>\r\n<polygon fill=\"black\" stroke=\"black\" points=\"279.718,-30.2481 289.718,-26.748 279.718,-23.2481 279.718,-30.2481\"/>\r\n<text text-anchor=\"middle\" x=\"264.992\" y=\"-45.548\" font-family=\"Times New Roman,serif\" font-size=\"14.00\">b </text>\r\n<text text-anchor=\"middle\" x=\"264.992\" y=\"-30.548\" font-family=\"Times New Roman,serif\" font-size=\"14.00\"> a </text>\r\n</g>\r\n</g>\r\n</svg>\r\n"
     },
     "metadata": {},
     "execution_count": 36
    }
   ],
   "source": [
    "dotObj_dfa(min_dfa_brz(blimp), FuseEdges = True)"
   ]
  },
  {
   "cell_type": "code",
   "execution_count": 37,
   "metadata": {
    "run_control": {
     "frozen": false,
     "read_only": false
    }
   },
   "outputs": [
    {
     "output_type": "execute_result",
     "data": {
      "text/plain": "<graphviz.dot.Digraph at 0x16cf69d8940>",
      "image/svg+xml": "<?xml version=\"1.0\" encoding=\"UTF-8\" standalone=\"no\"?>\r\n<!DOCTYPE svg PUBLIC \"-//W3C//DTD SVG 1.1//EN\"\r\n \"http://www.w3.org/Graphics/SVG/1.1/DTD/svg11.dtd\">\r\n<!-- Generated by graphviz version 2.38.0 (20140413.2041)\r\n -->\r\n<!-- Title: %3 Pages: 1 -->\r\n<svg width=\"426pt\" height=\"106pt\"\r\n viewBox=\"0.00 0.00 426.19 105.60\" xmlns=\"http://www.w3.org/2000/svg\" xmlns:xlink=\"http://www.w3.org/1999/xlink\">\r\n<g id=\"graph0\" class=\"graph\" transform=\"scale(1 1) rotate(0) translate(4 101.596)\">\r\n<title>%3</title>\r\n<polygon fill=\"white\" stroke=\"none\" points=\"-4,4 -4,-101.596 422.186,-101.596 422.186,4 -4,4\"/>\r\n<!-- EMPTY -->\r\n<g id=\"node1\" class=\"node\"><title>EMPTY</title>\r\n</g>\r\n<!-- I1 -->\r\n<g id=\"node2\" class=\"node\"><title>I1</title>\r\n<ellipse fill=\"none\" stroke=\"black\" cx=\"109.198\" cy=\"-24.7982\" rx=\"18.399\" ry=\"18.399\"/>\r\n<text text-anchor=\"middle\" x=\"109.198\" y=\"-21.0982\" font-family=\"Times New Roman,serif\" font-size=\"14.00\">I1</text>\r\n</g>\r\n<!-- EMPTY&#45;&gt;I1 -->\r\n<g id=\"edge1\" class=\"edge\"><title>EMPTY&#45;&gt;I1</title>\r\n<path fill=\"none\" stroke=\"black\" d=\"M54.26,-24.7982C62.7397,-24.7982 72.1605,-24.7982 80.7255,-24.7982\"/>\r\n<polygon fill=\"black\" stroke=\"black\" points=\"80.9815,-28.2983 90.9815,-24.7982 80.9815,-21.2983 80.9815,-28.2983\"/>\r\n</g>\r\n<!-- F2 -->\r\n<g id=\"node5\" class=\"node\"><title>F2</title>\r\n<ellipse fill=\"none\" stroke=\"black\" cx=\"202.195\" cy=\"-24.7982\" rx=\"20.6302\" ry=\"20.6302\"/>\r\n<ellipse fill=\"none\" stroke=\"black\" cx=\"202.195\" cy=\"-24.7982\" rx=\"24.5979\" ry=\"24.5979\"/>\r\n<text text-anchor=\"middle\" x=\"202.195\" y=\"-21.0982\" font-family=\"Times New Roman,serif\" font-size=\"14.00\">F2</text>\r\n</g>\r\n<!-- I1&#45;&gt;F2 -->\r\n<g id=\"edge2\" class=\"edge\"><title>I1&#45;&gt;F2</title>\r\n<path fill=\"none\" stroke=\"black\" d=\"M127.743,-24.7982C138.828,-24.7982 153.526,-24.7982 166.861,-24.7982\"/>\r\n<polygon fill=\"black\" stroke=\"black\" points=\"167.168,-28.2983 177.168,-24.7982 167.168,-21.2983 167.168,-28.2983\"/>\r\n<text text-anchor=\"middle\" x=\"152.397\" y=\"-43.5982\" font-family=\"Times New Roman,serif\" font-size=\"14.00\">b </text>\r\n<text text-anchor=\"middle\" x=\"152.397\" y=\"-28.5982\" font-family=\"Times New Roman,serif\" font-size=\"14.00\"> a </text>\r\n</g>\r\n<!-- S4 -->\r\n<g id=\"node3\" class=\"node\"><title>S4</title>\r\n<ellipse fill=\"none\" stroke=\"black\" cx=\"297.791\" cy=\"-24.7982\" rx=\"20.5982\" ry=\"20.5982\"/>\r\n<text text-anchor=\"middle\" x=\"297.791\" y=\"-21.0982\" font-family=\"Times New Roman,serif\" font-size=\"14.00\">S4</text>\r\n</g>\r\n<!-- F9 -->\r\n<g id=\"node4\" class=\"node\"><title>F9</title>\r\n<ellipse fill=\"none\" stroke=\"black\" cx=\"393.388\" cy=\"-24.7982\" rx=\"20.6302\" ry=\"20.6302\"/>\r\n<ellipse fill=\"none\" stroke=\"black\" cx=\"393.388\" cy=\"-24.7982\" rx=\"24.5979\" ry=\"24.5979\"/>\r\n<text text-anchor=\"middle\" x=\"393.388\" y=\"-21.0982\" font-family=\"Times New Roman,serif\" font-size=\"14.00\">F9</text>\r\n</g>\r\n<!-- S4&#45;&gt;F9 -->\r\n<g id=\"edge4\" class=\"edge\"><title>S4&#45;&gt;F9</title>\r\n<path fill=\"none\" stroke=\"black\" d=\"M318.641,-24.7982C330.158,-24.7982 344.978,-24.7982 358.308,-24.7982\"/>\r\n<polygon fill=\"black\" stroke=\"black\" points=\"358.588,-28.2983 368.588,-24.7982 358.588,-21.2983 358.588,-28.2983\"/>\r\n<text text-anchor=\"middle\" x=\"343.589\" y=\"-43.5982\" font-family=\"Times New Roman,serif\" font-size=\"14.00\">b </text>\r\n<text text-anchor=\"middle\" x=\"343.589\" y=\"-28.5982\" font-family=\"Times New Roman,serif\" font-size=\"14.00\"> a </text>\r\n</g>\r\n<!-- F9&#45;&gt;F9 -->\r\n<g id=\"edge5\" class=\"edge\"><title>F9&#45;&gt;F9</title>\r\n<path fill=\"none\" stroke=\"black\" d=\"M384.528,-48.1303C383.684,-58.5686 386.638,-67.5963 393.388,-67.5963 397.712,-67.5963 400.478,-63.8913 401.685,-58.484\"/>\r\n<polygon fill=\"black\" stroke=\"black\" points=\"405.2,-58.3051 402.247,-48.1303 398.211,-57.926 405.2,-58.3051\"/>\r\n<text text-anchor=\"middle\" x=\"393.388\" y=\"-86.3963\" font-family=\"Times New Roman,serif\" font-size=\"14.00\">b </text>\r\n<text text-anchor=\"middle\" x=\"393.388\" y=\"-71.3963\" font-family=\"Times New Roman,serif\" font-size=\"14.00\"> a </text>\r\n</g>\r\n<!-- F2&#45;&gt;S4 -->\r\n<g id=\"edge3\" class=\"edge\"><title>F2&#45;&gt;S4</title>\r\n<path fill=\"none\" stroke=\"black\" d=\"M227.298,-24.7982C239.316,-24.7982 253.968,-24.7982 266.715,-24.7982\"/>\r\n<polygon fill=\"black\" stroke=\"black\" points=\"266.874,-28.2983 276.874,-24.7982 266.874,-21.2983 266.874,-28.2983\"/>\r\n<text text-anchor=\"middle\" x=\"251.993\" y=\"-43.5982\" font-family=\"Times New Roman,serif\" font-size=\"14.00\">b </text>\r\n<text text-anchor=\"middle\" x=\"251.993\" y=\"-28.5982\" font-family=\"Times New Roman,serif\" font-size=\"14.00\"> a </text>\r\n</g>\r\n</g>\r\n</svg>\r\n"
     },
     "metadata": {},
     "execution_count": 37
    }
   ],
   "source": [
    "# Same result as standard minimization\n",
    "\n",
    "dotObj_dfa(min_dfa(blimp), FuseEdges = True)"
   ]
  },
  {
   "cell_type": "code",
   "execution_count": null,
   "metadata": {
    "run_control": {
     "frozen": false,
     "read_only": false
    }
   },
   "outputs": [],
   "source": []
  }
 ],
 "metadata": {
  "kernelspec": {
   "display_name": "Python 3",
   "language": "python",
   "name": "python3"
  },
  "language_info": {
   "codemirror_mode": {
    "name": "ipython",
    "version": 3
   },
   "file_extension": ".py",
   "mimetype": "text/x-python",
   "name": "python",
   "nbconvert_exporter": "python",
   "pygments_lexer": "ipython3",
   "version": "3.8.3-final"
  },
  "toc": {
   "colors": {
    "hover_highlight": "#DAA520",
    "running_highlight": "#FF0000",
    "selected_highlight": "#FFD700"
   },
   "moveMenuLeft": true,
   "nav_menu": {
    "height": "121px",
    "width": "252px"
   },
   "navigate_menu": true,
   "number_sections": true,
   "sideBar": true,
   "threshold": 4,
   "toc_cell": false,
   "toc_section_display": "block",
   "toc_window_display": false,
   "widenNotebook": false
  },
  "widgets": {
   "state": {
    "430c92ee02b34ec1912bf03c8de1e6dc": {
     "views": [
      {
       "cell_index": 20
      }
     ]
    }
   },
   "version": "1.2.0"
  }
 },
 "nbformat": 4,
 "nbformat_minor": 2
}