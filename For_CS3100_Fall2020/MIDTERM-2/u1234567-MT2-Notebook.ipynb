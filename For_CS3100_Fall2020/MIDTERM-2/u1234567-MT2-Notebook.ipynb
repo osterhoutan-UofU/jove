{
 "cells": [
  {
   "cell_type": "markdown",
   "metadata": {},
   "source": [
    "# Please look for your MT-2 questions below\n",
    "\n",
    "## Points below add up to 100% that will be scaled to 75%\n",
    "\n",
    "# Q1: On Regular Languages and a PL proof\n",
    "## * Part 1.1 and 1.2 (15% each)\n",
    "\n",
    "# Q2: Dynamic-programming based DFA Minimization\n",
    "## * Parts 2.1 and 2.2 (15% and 10% respectively)\n",
    "\n",
    "# Q3: A problem concerning CFG\n",
    "## * Parts 3.1 and 3.2 (15% each)\n",
    "\n",
    "# Q4: Develop a CFG for language L2 of Q1\n",
    "## * Only one part (15%)\n",
    "\n",
    "\n",
    "## Your answers are expected in the space following/around the arrows ==> .. <== below"
   ]
  },
  {
   "cell_type": "code",
   "execution_count": 2,
   "metadata": {
    "run_control": {
     "frozen": false,
     "read_only": false
    },
    "scrolled": true
   },
   "outputs": [
    {
     "output_type": "stream",
     "name": "stdout",
     "text": [
      "You may use any of these help commands:\nhelp(ResetStNum)\nhelp(NxtStateStr)\n\nYou may use any of these help commands:\nhelp(md2mc)\n.. and if you want to dig more, then ..\nhelp(default_line_attr)\nhelp(length_ok_input_items)\nhelp(union_line_attr_list_fld)\nhelp(extend_rsltdict)\nhelp(form_delta)\nhelp(get_machine_components)\n\nYou may use any of these help commands:\nhelp(mkp_dfa)\nhelp(mk_dfa)\nhelp(totalize_dfa)\nhelp(addtosigma_delta)\nhelp(step_dfa)\nhelp(run_dfa)\nhelp(accepts_dfa)\nhelp(comp_dfa)\nhelp(union_dfa)\nhelp(intersect_dfa)\nhelp(pruneUnreach)\nhelp(iso_dfa)\nhelp(langeq_dfa)\nhelp(same_status)\nhelp(h_langeq_dfa)\nhelp(fixptDist)\nhelp(min_dfa)\nhelp(pairFR)\nhelp(state_combos)\nhelp(sepFinNonFin)\nhelp(bash_eql_classes)\nhelp(listminus)\nhelp(bash_1)\nhelp(mk_rep_eqc)\nhelp(F_of)\nhelp(rep_of_s)\nhelp(q0_of)\nhelp(Delta_of)\nhelp(mk_state_eqc_name)\n\nYou may use any of these help commands:\nhelp(mk_nfa)\nhelp(totalize_nfa)\nhelp(step_nfa)\nhelp(run_nfa)\nhelp(ec_step_nfa)\nhelp(Eclosure)\nhelp(Echelp)\nhelp(accepts_nfa)\nhelp(nfa2dfa)\nhelp(n2d)\nhelp(inSets)\nhelp(rev_dfa)\nhelp(min_dfa_brz)\n\nYou may use any of these help commands:\nhelp(lphi)\nhelp(lunit)\nhelp(lcat)\nhelp(lexp)\nhelp(lunion)\nhelp(lstar)\nhelp(srev)\nhelp(lrev)\nhelp(shomo)\nhelp(lhomo)\nhelp(powset)\nhelp(lint)\nhelp(lsymdiff)\nhelp(lminus)\nhelp(lissubset)\nhelp(lissuperset)\nhelp(lcomplem)\nhelp(product)\nhelp(nthnumeric)\n\nYou may use any of these help commands:\nhelp(re2nfa)\n\nYou may use any of these help commands:\nhelp(explore_pda)\nhelp(run_pda)\nhelp(classify_l_id_path)\nhelp(h_run_pda)\nhelp(interpret_w_eps)\nhelp(step_pda)\nhelp(suvivor_id)\nhelp(term_id)\nhelp(final_id)\nhelp(cvt_str_to_sym)\nhelp(is_surv_id)\nhelp(subsumed)\nhelp(is_term_id)\nhelp(is_final_id)\n\n"
     ]
    }
   ],
   "source": [
    "#~~~~~~~~~~~~~~~~~~~~~~~~~~~~~~~~~~~~~~~~~~~~~~~~~~~~~~~\n",
    "import sys\n",
    "\n",
    "# -- Detect if in Own Install or in Colab\n",
    "try:\n",
    "    import google.colab\n",
    "    OWN_INSTALL = False\n",
    "except:\n",
    "    OWN_INSTALL = True\n",
    "\n",
    "if OWN_INSTALL:\n",
    "    sys.path[0:0] = ['../../../../..',  '../../../../../3rdparty',  \n",
    "                     '../../../..',  '../../../../3rdparty',  \n",
    "                     '../../..',     '../../../3rdparty', \n",
    "                     '../..',        '../../3rdparty',\n",
    "                     '..',           '../3rdparty' ]\n",
    "\n",
    "else: # In colab\n",
    "    ! if [ ! -d Jove ]; then git clone https://github.com/ganeshutah/Jove Jove; fi\n",
    "    sys.path.append('./Jove')\n",
    "    sys.path.append('./Jove/jove')\n",
    "\n",
    "# -- common imports --\n",
    "from jove.DotBashers import *\n",
    "from jove.Def_md2mc  import *\n",
    "from jove.Def_DFA    import *\n",
    "from jove.Def_NFA    import *\n",
    "from jove.LangDef    import *  # for testing DFA actions\n",
    "from jove.Def_RE2NFA import *\n",
    "from jove.Def_PDA    import *\n",
    "#~~~~~~~~~~~~~~~~~~~~~~~~~~~~~~~~~~~~~~~~~~~~~~~~~~~~~~~"
   ]
  },
  {
   "cell_type": "markdown",
   "metadata": {},
   "source": [
    "============================================================================================================"
   ]
  },
  {
   "cell_type": "markdown",
   "metadata": {},
   "source": [
    "#  Q1. Regular Languages (RL) and RL Pumping Lemma\n",
    "\n",
    "## You are given two language definitions below.\n",
    "\n",
    "## L1 : $\\{ a^n b^k \\;:\\; odd(n)\\vee even(k),\\; n,k \\ge 0 \\}$\n",
    "\n",
    "## L2 : $\\{ a^n b^k \\;:\\; n > k+2,\\; n,k \\ge 0 \\}$\n",
    "\n",
    "### Which of these languages is regular and why, and provide a Regular Expression (answer under Q1.1 below). Then please produce a minimal DFA from this regular expression that allows quicker grading.\n",
    "\n",
    "### For the non-regular language, write a clear RL Pumping Lemma proof (answer under Q1.2 below).  "
   ]
  },
  {
   "cell_type": "markdown",
   "metadata": {},
   "source": [
    "===================================="
   ]
  },
  {
   "cell_type": "markdown",
   "metadata": {},
   "source": [
    "### Answer for Q1.1: Below, provide a sentence intuitively saying which language (L1 or L2) you think is regular, and why. Provide the RE in the code cell below.\n",
    "\n",
    "# Plz provide your answer on which language is regular between the arrows.\n",
    "\n",
    "# ANSWER: ==> Language ...  is regular. Please also provide intuitive reasons as to why. <==\n",
    "\n",
    "# Below in the code cell, please type the RE and produce a minimal DFA.\n",
    "\n",
    "### Replace  \"MY RE WILL BE TYPED HERE\""
   ]
  },
  {
   "cell_type": "code",
   "execution_count": null,
   "metadata": {},
   "outputs": [],
   "source": [
    "# YOUR RE below\n",
    "\n",
    "# RE_Q1 = \"...type a Jove-syntax RE here...\"\n",
    "\n",
    "#  ==> ANSWER <==\n",
    "\n",
    "RE_Q1 = \" MY RE WILL BE TYPED HERE \"\n",
    "\n",
    "dotObj_dfa_w_bh(min_dfa(nfa2dfa(re2nfa(RE_Q1))), FuseEdges=True)\n"
   ]
  },
  {
   "cell_type": "markdown",
   "metadata": {},
   "source": [
    "===================================="
   ]
  },
  {
   "cell_type": "markdown",
   "metadata": {},
   "source": [
    "### Q1.2: Provide a sentence intuitively saying which language is non-regular, and then write a PL proof\n",
    "\n",
    "# Please mention the non-regular language between the arrows\n",
    "\n",
    "# ==> Language ... is non-regular <==\n",
    "\n",
    "# ==> RL PL PROOF: Please type your PL proof below <== \n",
    "\n",
    "## - Choice of w\n",
    "    - ...here for w...\n",
    "    - ...additional comments if any...\n",
    "    - ...additional comments if any...\n",
    "   \n",
    "## - Choice of pump direction \n",
    "    - ...here for pump direction...\n",
    "    - ...additional comments if any...\n",
    "    - ...additional comments if any...\n",
    "    \n",
    "## - Showing the final step of the RL PL proof\n",
    "    - ...here (and add more bullets) for RL PL proof\n",
    "    - ..\n",
    "    - ..\n",
    "    \n",
    " "
   ]
  },
  {
   "cell_type": "markdown",
   "metadata": {},
   "source": [
    "============================================================================================================"
   ]
  },
  {
   "cell_type": "markdown",
   "metadata": {},
   "source": [
    "#  Q2. Dynamic Programming-based DFA minimization\n",
    "\n",
    "## This question has two parts, Q 2.1 and Q 2.2\n",
    "\n",
    "## Q 2.1\n",
    "\n",
    "### Consider Figure 6.7. Explain why (IS1,S4) ended up having a \"2\" entry (2-distinguishable) against it in the last table.  QUESTION FOR YOU: Find out those state pairs that were deemed 1-distinguishable and 0-distinguishable, in order to mark (IS1, S4) as 2-distinguishable. In other words, you are retracing the logic of arriving at 2-distinguishability via 1-distinguishability and 0-distinguishability.\n",
    "\n",
    "## Answer this under \"Answer of Q 2.1\" below where more guidance is given.\n",
    "\n",
    "## Additional requirements while answering:\n",
    "\n",
    "### * If you have a choice of arriving at these distinguishable pairs via an `a` move or a `b` move, please go by the `b` moves to arrive at those pairs. _This is so that I obtain identical answers to grade._\n",
    "\n",
    "### * When you list these state pairs, sort them. That is, if you have the option to answer as ```(p,q)``` or as ```(q,p)```, you must go by the former."
   ]
  },
  {
   "cell_type": "markdown",
   "metadata": {},
   "source": [
    "# ==> Answer of Q2.1: <==\n",
    "\n",
    "## *  (IS1,S4) is 2-distinguishable.\n",
    "\n",
    "## * In your answer below, replace x1, y1, x0, and y0 below with actual state names:\n",
    "\n",
    "### * ANSWER: This is because the state pair (x1, y1) was deemed 1-distinguishable already, and b-moves from x1 and y1 helped establish that (IS1, S4) are 2-distinguishable. \n",
    "\n",
    "### * ANSWER: This is because the state pair (x0, y0) was deemed 0-distinguishable already, and b-moves from x0 and y0 helped establish that (x1, y1) is 1-distinguishable\n"
   ]
  },
  {
   "cell_type": "markdown",
   "metadata": {},
   "source": [
    "===================================="
   ]
  },
  {
   "cell_type": "markdown",
   "metadata": {},
   "source": [
    "## Q 2.2 : This is a general question about DFA minimization that tests your understanding of going from equivalence-classes to merged state names.\n",
    "\n",
    "### Suppose at the end of state minimization, we have the following state equivalence classes\n",
    "### $Class1 = \\{ (a,b), (b,c) \\}$\n",
    "### $Class2 = \\{ (d,e), (f,d) \\}$\n",
    "### $Class3 = \\{ (a,g) \\}$\n",
    "\n",
    "### In Q2.2 below, write down what the final merged state-names will be. Use the ```_``` (underscore) separated state names as in Figure 6.7. Sort the state names.\n",
    "\n",
    "### For example, for an equivalence class $\\{p,q,r\\}$, write the merged state name as ```p_q_r``` and not as ```r_q_p``` for instance."
   ]
  },
  {
   "cell_type": "markdown",
   "metadata": {},
   "source": [
    "## ==> Q2.2: Write down the merged state names below <== \n",
    "\n",
    "## Use as many bullets as needed, from the list below. Add/delete bullets as you need.\n",
    "\n",
    "### * Merged state name 1 by considering all equivalence-classes is: ...\n",
    "* ...\n",
    "\n",
    "### * Merged state name 2 by considering all equivalence-classes is: ...\n",
    "* ...\n",
    "\n",
    "\n",
    "### * Merged state name 3 by considering all equivalence-classes is: ...\n",
    "* ..."
   ]
  },
  {
   "cell_type": "markdown",
   "metadata": {},
   "source": [
    "============================================================================================================"
   ]
  },
  {
   "cell_type": "markdown",
   "metadata": {},
   "source": [
    "#  Q3. CFG problem\n",
    "\n",
    "## Consider the CFG (Question 7 of Page 159) -- but there is a typo noted in the erratum at bit.ly/Automata_Jove . _The corrected version reads: there are strings in $L_{abcd}$ that are not in $L_{CFG}$._ \n",
    "\n",
    "## Apply this correction and answer Q3.1 and Q3.2. Next, answer the questions below.\n",
    "\n",
    "## Q3.1:  Answer in the space below where I put ==> <== arrows.\n",
    "\n",
    "### Find out one string of length four --- called $w$ --- starting with $a$ that cannot be generated by $L_{CFG}$, but is within $L_{abcd}$.\n",
    "\n",
    "### Here is how you must present the proof:\n",
    "\n",
    "### * My chosen word $w$ is THIS\n",
    "\n",
    "### * The first \"a\" in $w$ requires the derivation S => ... to be used (or THIS kind of a parse-tree)\n",
    "\n",
    "### * This then requires THIS derivation to account for the rest of the characters in $w$ (or THIS parse-tree)\n",
    "\n",
    "### * BUT , ... finish off the arguments in 1-2 more bullets ..saying why we can't have $w$ in $L_{CFG}$."
   ]
  },
  {
   "cell_type": "markdown",
   "metadata": {},
   "source": []
  },
  {
   "cell_type": "markdown",
   "metadata": {},
   "source": [
    "## Q3.1:  ==> Why $w$ cannot be in $L_{CFG}$. <==\n",
    "\n",
    "### * Step-1 of your reason\n",
    "\n",
    "### * Step-2 of your reason\n",
    "\n",
    "### * Step-3 of your reason\n",
    "\n",
    "### * ... add/delete bullets as you need ..."
   ]
  },
  {
   "cell_type": "markdown",
   "metadata": {},
   "source": [
    "## Q3.2: Implement a PDA for this CFG, showing (through explore_pda with enough stack depth) that the $w$ you chose is not in this CFG's language. \n",
    "\n",
    "## Answer beginning at the the arrows below.\n",
    "\n",
    "## Next, come up with four strings of length $4$ starting with $a$ that are in $L_{CFG}$. Run these strings under this PDA and show that they _are_ accepted.\n",
    "\n",
    "## Again, answer after where the arrows appear, below.\n",
    "\n",
    "### *It is OK to reuse the given tests; it is a good idea to test for additional strings, to debug your PDA*"
   ]
  },
  {
   "cell_type": "markdown",
   "metadata": {},
   "source": [
    "### Q3.2: PDA implementation\n",
    "\n",
    " "
   ]
  },
  {
   "cell_type": "markdown",
   "metadata": {},
   "source": [
    "# ==>  My CFG is in the space below, between the triple-quotes <=="
   ]
  },
  {
   "cell_type": "code",
   "execution_count": null,
   "metadata": {},
   "outputs": [],
   "source": [
    "'''\n",
    "Your CFG productions here !!\n",
    "\n",
    "Use SINGLE-LETTER non-terminals because you will have to convert this CFG to a PDA and run it below.\n",
    "\n",
    "'''"
   ]
  },
  {
   "cell_type": "markdown",
   "metadata": {},
   "source": [
    "===================================="
   ]
  },
  {
   "cell_type": "markdown",
   "metadata": {},
   "source": [
    "# ==>  My PDA is below <=="
   ]
  },
  {
   "cell_type": "code",
   "execution_count": null,
   "metadata": {},
   "outputs": [],
   "source": [
    "Q32_PDA = md2mc('''\n",
    "\n",
    "PDA\n",
    "\n",
    "!!-- Fill PDA transitions here ...\n",
    "\n",
    "''')"
   ]
  },
  {
   "cell_type": "markdown",
   "metadata": {},
   "source": [
    "## ==> Showing that ```w``` does not get accepted via explore_pda <=="
   ]
  },
  {
   "cell_type": "code",
   "execution_count": null,
   "metadata": {},
   "outputs": [],
   "source": [
    "explore_pda(\"Your w string here\",Q32_PDA)"
   ]
  },
  {
   "cell_type": "markdown",
   "metadata": {},
   "source": [
    "## ==> Showing the four strings starting with ```a``` that do get accepted <=="
   ]
  },
  {
   "cell_type": "code",
   "execution_count": null,
   "metadata": {},
   "outputs": [],
   "source": [
    "# a c d b\n",
    "explore_pda(\"string-1 that got accepted\",Q32_PDA)"
   ]
  },
  {
   "cell_type": "code",
   "execution_count": null,
   "metadata": {},
   "outputs": [],
   "source": [
    "# a d c b\n",
    "explore_pda(\"string-2 that got accepted\",Q32_PDA)"
   ]
  },
  {
   "cell_type": "code",
   "execution_count": null,
   "metadata": {},
   "outputs": [],
   "source": [
    "# a b c d\n",
    "explore_pda(\"string-3 that got accepted\",Q32_PDA)"
   ]
  },
  {
   "cell_type": "code",
   "execution_count": null,
   "metadata": {},
   "outputs": [],
   "source": [
    "# a b d c\n",
    "explore_pda(\"string-4 that got accepted\",Q32_PDA)"
   ]
  },
  {
   "cell_type": "markdown",
   "metadata": {},
   "source": [
    "============================================================================================================"
   ]
  },
  {
   "cell_type": "markdown",
   "metadata": {},
   "source": [
    "#  Q4. Develop a CFG for L2 of Q1, and for grading, convert it to a PDA and run it on the given test strings. Answer after where the arrows appear.\n",
    "\n"
   ]
  },
  {
   "cell_type": "markdown",
   "metadata": {},
   "source": [
    "## Q 4.2: CFG for L2 : $\\{ a^n b^k \\;:\\; n > k+2,\\; n,k \\ge 0 \\}$"
   ]
  },
  {
   "cell_type": "markdown",
   "metadata": {},
   "source": [
    "## ==> My CFG is presented in the cell below <=="
   ]
  },
  {
   "cell_type": "code",
   "execution_count": null,
   "metadata": {},
   "outputs": [],
   "source": [
    "'''\n",
    " \n",
    " TYPE YOUR CFG HERE\n",
    " \n",
    "'''\n"
   ]
  },
  {
   "cell_type": "markdown",
   "metadata": {},
   "source": [
    "# ==> The PDA for testing my CFG is below <=="
   ]
  },
  {
   "cell_type": "code",
   "execution_count": 4,
   "metadata": {},
   "outputs": [],
   "source": [
    "pda_q42 = md2mc(\n",
    "'''PDA\n",
    "\n",
    "I   : '','' ; S     -> M\n",
    "\n",
    "M   : '',S  ; EJT   -> M\n",
    "\n",
    "M   : '',T  ; ET    -> M\n",
    "M   : '',T  ; JT    -> M\n",
    "M   : '',T  ; ''    -> M\n",
    "\n",
    "M   : '',J  ; 1J    -> M\n",
    "M   : '',J  ; 1     -> M\n",
    "\n",
    "M   : '',E  ; 0E1E  -> M\n",
    "M   : '',E  ; 1E0E  -> M\n",
    "M   : '',E  ; ''    -> M\n",
    "\n",
    "M   : 0,0  ; ''     -> M\n",
    "M   : 1,1  ; ''     -> M\n",
    "\n",
    "M   : '',# ; #      -> F\n",
    "\n",
    "''')\n"
   ]
  },
  {
   "cell_type": "markdown",
   "metadata": {},
   "source": [
    "# ==> The tests on this PDA that must be run, for grading <=="
   ]
  },
  {
   "cell_type": "code",
   "execution_count": 6,
   "metadata": {},
   "outputs": [
    {
     "output_type": "stream",
     "name": "stdout",
     "text": [
      "String 010101 rejected by your PDA :-(\nVisited states are:\n{('M', '0101', '1T#'), ('M', '101', 'E1EJT#'), ('M', '', 'E0E1EJT#'), ('M', '010101', '1E0EJT#'), ('M', '0101', '0E1EJT#'), ('M', '', '1E0EJT#'), ('M', '01', 'E0E1EJT#'), ('M', '01', '1E0EJT#'), ('M', '010101', 'JT#'), ('M', '', 'JT#'), ('M', '10101', '1EJT#'), ('M', '01', 'JT#'), ('M', '1', '1EJT#'), ('M', '010101', '1T#'), ('M', '0101', 'EJT#'), ('M', '', '1T#'), ('M', '10101', '0E1E1EJT#'), ('M', '101', '1EJT#'), ('M', '01', '1T#'), ('M', '1', '0E1E1EJT#'), ('M', '010101', '0E1EJT#'), ('M', '0101', '1JT#'), ('M', '', '0E1EJT#'), ('M', '01', '0E1EJT#'), ('M', '010101', 'S#'), ('M', '101', '0E1E1EJT#'), ('M', '0101', 'E0E1EJT#'), ('M', '0101', '1E0EJT#'), ('M', '1', '1E0E1EJT#'), ('M', '10101', '1E0E1EJT#'), ('M', '010101', 'EJT#'), ('M', '', 'EJT#'), ('M', '0101', 'JT#'), ('M', '10101', 'E1EJT#'), ('M', '01', 'EJT#'), ('I', '010101', '#'), ('M', '010101', '1JT#'), ('M', '1', 'E1EJT#'), ('M', '', '1JT#'), ('M', '01', '1JT#'), ('M', '101', '1E0E1EJT#')}\n"
     ]
    }
   ],
   "source": [
    "explore_pda(\"010101\", pda_q42)"
   ]
  },
  {
   "cell_type": "code",
   "execution_count": null,
   "metadata": {},
   "outputs": [],
   "source": [
    "explore_pda(\"aaab\", pda_q42)"
   ]
  },
  {
   "cell_type": "code",
   "execution_count": null,
   "metadata": {},
   "outputs": [],
   "source": [
    "explore_pda(\"aaaab\", pda_q42)"
   ]
  },
  {
   "cell_type": "code",
   "execution_count": null,
   "metadata": {},
   "outputs": [],
   "source": [
    "explore_pda(\"aaaaaabbb\", pda_q42)"
   ]
  },
  {
   "cell_type": "code",
   "execution_count": null,
   "metadata": {},
   "outputs": [],
   "source": [
    "explore_pda(\"aaaaaabbbb\", pda_q42)"
   ]
  },
  {
   "cell_type": "markdown",
   "metadata": {},
   "source": [
    "# =======================  END ============================="
   ]
  }
 ],
 "metadata": {
  "kernelspec": {
   "display_name": "Python 3",
   "language": "python",
   "name": "python3"
  },
  "language_info": {
   "codemirror_mode": {
    "name": "ipython",
    "version": 3
   },
   "file_extension": ".py",
   "mimetype": "text/x-python",
   "name": "python",
   "nbconvert_exporter": "python",
   "pygments_lexer": "ipython3",
   "version": "3.8.3-final"
  },
  "toc": {
   "base_numbering": 1,
   "nav_menu": {
    "height": "318px",
    "width": "252px"
   },
   "number_sections": false,
   "sideBar": true,
   "skip_h1_title": false,
   "title_cell": "Table of Contents",
   "title_sidebar": "Contents",
   "toc_cell": false,
   "toc_position": {},
   "toc_section_display": "block",
   "toc_window_display": false
  }
 },
 "nbformat": 4,
 "nbformat_minor": 1
}