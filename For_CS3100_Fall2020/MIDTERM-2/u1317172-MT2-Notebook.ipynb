{
 "cells": [
  {
   "cell_type": "markdown",
   "metadata": {},
   "source": [
    "<style>\n",
    "/* h1 {\n",
    "    border-bottom: 2px solid;\n",
    "}\n",
    "h2 {\n",
    "    border-bottom: 1px solid;\n",
    "}\n",
    " hr {\n",
    "    border-top: 2px solid;\n",
    "    border-bottom: none;\n",
    "} */\n",
    ".student-info {\n",
    "    text-align: right;\n",
    "    border-bottom: none;\n",
    "}\n",
    "hr.double-div {\n",
    "    border-top: 2px solid;\n",
    "    border-bottom: 2px solid;\n",
    "    border-left: none;\n",
    "    border-right: none;\n",
    "    height: 10pt;\n",
    "    /* border-radius: 1px; */\n",
    "}\n",
    "blockquote {\n",
    "    border-left: 2px solid;\n",
    "    /* background-color: #00000488; */\n",
    "    /* filter: brightness(80%); */\n",
    "    margin-left: 2em;\n",
    "    margin-right: 2em;\n",
    "    padding: 1px 2px 1px 1em;\n",
    "}\n",
    "pre {\n",
    "    border: 1px solid #88888888;\n",
    "    margin-left: 1em;\n",
    "    margin-right: 1em;\n",
    "    padding: 0.5em;\n",
    "    /*padding: 8pt 1em 8pt 1em;*/\n",
    "}\n",
    "blockquote > pre {\n",
    "    margin-left: 0.5em;\n",
    "}\n",
    "img {\n",
    "    display: block;\n",
    "    margin-left: auto;\n",
    "    margin-right: auto;\n",
    "}\n",
    "</style>\n",
    "\n",
    "<h2 class=\"student-info\">\n",
    "    Andrew Osterhout <br/>\n",
    "    (u1317172)\n",
    "</h2>\n",
    "\n",
    "# Midterm 2\n",
    "\n",
    "Please look for your MT-2 questions below ,br/>\n",
    "Points below add up to 100% that will be scaled to 75%\n",
    "\n",
    "### Q1: On Regular Languages and a PL proof\n",
    "\\* Part 1.1 and 1.2 (15% each)\n",
    "\n",
    "### Q2: Dynamic-programming based DFA Minimization\n",
    "\\* Parts 2.1 and 2.2 (15% and 10% respectively)\n",
    "\n",
    "### Q3: A problem concerning CFG\n",
    "\\* Parts 3.1 and 3.2 (15% each)\n",
    "\n",
    "### Q4: Develop a CFG for language L2 of Q1\n",
    "\\* Only one part (15%)\n",
    "\n",
    "\n",
    "### Your answers are expected in the space following/around the arrows ==> .. <== below"
   ]
  },
  {
   "cell_type": "code",
   "execution_count": 71,
   "metadata": {
    "run_control": {
     "frozen": false,
     "read_only": false
    },
    "scrolled": true
   },
   "outputs": [],
   "source": [
    "#~~~~~~~~~~~~~~~~~~~~~~~~~~~~~~~~~~~~~~~~~~~~~~~~~~~~~~~\n",
    "import sys\n",
    "\n",
    "# -- Detect if in Own Install or in Colab\n",
    "try:\n",
    "    import google.colab\n",
    "    OWN_INSTALL = False\n",
    "except:\n",
    "    OWN_INSTALL = True\n",
    "\n",
    "if OWN_INSTALL:\n",
    "    sys.path[0:0] = ['../../../../..',  '../../../../../3rdparty',  \n",
    "                     '../../../..',  '../../../../3rdparty',  \n",
    "                     '../../..',     '../../../3rdparty', \n",
    "                     '../..',        '../../3rdparty',\n",
    "                     '..',           '../3rdparty' ]\n",
    "\n",
    "else: # In colab\n",
    "    ! if [ ! -d Jove ]; then git clone https://github.com/ganeshutah/Jove Jove; fi\n",
    "    sys.path.append('./Jove')\n",
    "    sys.path.append('./Jove/jove')\n",
    "\n",
    "# -- common imports --\n",
    "from jove.DotBashers import *\n",
    "from jove.Def_md2mc  import *\n",
    "from jove.Def_DFA    import *\n",
    "from jove.Def_NFA    import *\n",
    "from jove.LangDef    import *  # for testing DFA actions\n",
    "from jove.Def_RE2NFA import *\n",
    "from jove.Def_PDA    import *\n",
    "#~~~~~~~~~~~~~~~~~~~~~~~~~~~~~~~~~~~~~~~~~~~~~~~~~~~~~~~"
   ]
  },
  {
   "cell_type": "markdown",
   "metadata": {},
   "source": [
    "============================================================================================================"
   ]
  },
  {
   "cell_type": "markdown",
   "metadata": {},
   "source": [
    "#  Q1. Regular Languages (RL) and RL Pumping Lemma\n",
    "\n",
    "## You are given two language definitions below.\n",
    "\n",
    "## L1 : $\\{ a^n b^k \\;:\\; odd(n)\\vee even(k),\\; n,k \\ge 0 \\}$\n",
    "\n",
    "## L2 : $\\{ a^n b^k \\;:\\; n > k+2,\\; n,k \\ge 0 \\}$\n",
    "\n",
    "### Which of these languages is regular and why, and provide a Regular Expression (answer under Q1.1 below). Then please produce a minimal DFA from this regular expression that allows quicker grading.\n",
    "\n",
    "### For the non-regular language, write a clear RL Pumping Lemma proof (answer under Q1.2 below).  "
   ]
  },
  {
   "cell_type": "markdown",
   "metadata": {},
   "source": [
    "===================================="
   ]
  },
  {
   "cell_type": "markdown",
   "metadata": {},
   "source": [
    "### Answer for Q1.1: Below, provide a sentence intuitively saying which language (L1 or L2) you think is regular, and why. Provide the RE in the code cell below.\n",
    "\n",
    "# Plz provide your answer on which language is regular between the arrows.\n",
    "\n",
    "# ANSWER: ==> Language L1  is regular. Becuase the values of $k$ and $n$ are not conditioned on each other.<==\n",
    "\n",
    "# Below in the code cell, please type the RE and produce a minimal DFA.\n",
    "\n",
    "### Replace  \"MY RE WILL BE TYPED HERE\""
   ]
  },
  {
   "cell_type": "code",
   "execution_count": 72,
   "metadata": {},
   "outputs": [
    {
     "output_type": "execute_result",
     "data": {
      "text/plain": [
       "<graphviz.dot.Digraph at 0x208194042e0>"
      ],
      "image/svg+xml": "<?xml version=\"1.0\" encoding=\"UTF-8\" standalone=\"no\"?>\r\n<!DOCTYPE svg PUBLIC \"-//W3C//DTD SVG 1.1//EN\"\r\n \"http://www.w3.org/Graphics/SVG/1.1/DTD/svg11.dtd\">\r\n<!-- Generated by graphviz version 2.38.0 (20140413.2041)\r\n -->\r\n<!-- Title: %3 Pages: 1 -->\r\n<svg width=\"538pt\" height=\"161pt\"\r\n viewBox=\"0.00 0.00 538.48 161.50\" xmlns=\"http://www.w3.org/2000/svg\" xmlns:xlink=\"http://www.w3.org/1999/xlink\">\r\n<g id=\"graph0\" class=\"graph\" transform=\"scale(1 1) rotate(0) translate(4 157.496)\">\r\n<title>%3</title>\r\n<polygon fill=\"white\" stroke=\"none\" points=\"-4,4 -4,-157.496 534.48,-157.496 534.48,4 -4,4\"/>\r\n<!-- EMPTY -->\r\n<g id=\"node1\" class=\"node\"><title>EMPTY</title>\r\n</g>\r\n<!-- St1 -->\r\n<g id=\"node7\" class=\"node\"><title>St1</title>\r\n<ellipse fill=\"none\" stroke=\"black\" cx=\"117.748\" cy=\"-98.748\" rx=\"22.9609\" ry=\"22.9609\"/>\r\n<ellipse fill=\"none\" stroke=\"black\" cx=\"117.748\" cy=\"-98.748\" rx=\"26.9983\" ry=\"26.9983\"/>\r\n<text text-anchor=\"middle\" x=\"117.748\" y=\"-95.048\" font-family=\"Times New Roman,serif\" font-size=\"14.00\">St1</text>\r\n</g>\r\n<!-- EMPTY&#45;&gt;St1 -->\r\n<g id=\"edge1\" class=\"edge\"><title>EMPTY&#45;&gt;St1</title>\r\n<path fill=\"none\" stroke=\"black\" d=\"M54.1473,-98.748C62.4527,-98.748 71.7892,-98.748 80.6665,-98.748\"/>\r\n<polygon fill=\"black\" stroke=\"black\" points=\"80.7876,-102.248 90.7876,-98.748 80.7875,-95.2481 80.7876,-102.248\"/>\r\n</g>\r\n<!-- St6 -->\r\n<g id=\"node2\" class=\"node\"><title>St6</title>\r\n<ellipse fill=\"none\" stroke=\"black\" cx=\"314.74\" cy=\"-22.748\" rx=\"22.9987\" ry=\"22.9987\"/>\r\n<text text-anchor=\"middle\" x=\"314.74\" y=\"-19.048\" font-family=\"Times New Roman,serif\" font-size=\"14.00\">St6</text>\r\n</g>\r\n<!-- BH -->\r\n<g id=\"node4\" class=\"node\"><title>BH</title>\r\n<ellipse fill=\"none\" stroke=\"black\" cx=\"507.732\" cy=\"-82.748\" rx=\"22.9987\" ry=\"22.9987\"/>\r\n<text text-anchor=\"middle\" x=\"507.732\" y=\"-79.048\" font-family=\"Times New Roman,serif\" font-size=\"14.00\">BH</text>\r\n</g>\r\n<!-- St6&#45;&gt;BH -->\r\n<g id=\"edge11\" class=\"edge\"><title>St6&#45;&gt;BH</title>\r\n<path fill=\"none\" stroke=\"black\" d=\"M337.455,-20.7173C362.709,-19.1642 405.241,-19.082 438.984,-31.748 455.491,-37.9442 471.381,-49.5052 483.618,-60.055\"/>\r\n<polygon fill=\"black\" stroke=\"black\" points=\"481.323,-62.6982 491.102,-66.7753 486,-57.4898 481.323,-62.6982\"/>\r\n<text text-anchor=\"middle\" x=\"412.236\" y=\"-35.548\" font-family=\"Times New Roman,serif\" font-size=\"14.00\">b </text>\r\n</g>\r\n<!-- St2 -->\r\n<g id=\"node6\" class=\"node\"><title>St2</title>\r\n<ellipse fill=\"none\" stroke=\"black\" cx=\"217.244\" cy=\"-57.748\" rx=\"22.9609\" ry=\"22.9609\"/>\r\n<ellipse fill=\"none\" stroke=\"black\" cx=\"217.244\" cy=\"-57.748\" rx=\"26.9983\" ry=\"26.9983\"/>\r\n<text text-anchor=\"middle\" x=\"217.244\" y=\"-54.048\" font-family=\"Times New Roman,serif\" font-size=\"14.00\">St2</text>\r\n</g>\r\n<!-- St6&#45;&gt;St2 -->\r\n<g id=\"edge12\" class=\"edge\"><title>St6&#45;&gt;St2</title>\r\n<path fill=\"none\" stroke=\"black\" d=\"M292.508,-17.6883C282.915,-16.3592 271.602,-16.1571 261.992,-19.748 255.28,-22.2559 248.917,-26.3093 243.228,-30.8544\"/>\r\n<polygon fill=\"black\" stroke=\"black\" points=\"240.601,-28.5045 235.413,-37.7423 245.229,-33.7559 240.601,-28.5045\"/>\r\n<text text-anchor=\"middle\" x=\"267.992\" y=\"-23.548\" font-family=\"Times New Roman,serif\" font-size=\"14.00\">a </text>\r\n</g>\r\n<!-- St5 -->\r\n<g id=\"node3\" class=\"node\"><title>St5</title>\r\n<ellipse fill=\"none\" stroke=\"black\" cx=\"314.74\" cy=\"-115.748\" rx=\"22.9987\" ry=\"22.9987\"/>\r\n<text text-anchor=\"middle\" x=\"314.74\" y=\"-112.048\" font-family=\"Times New Roman,serif\" font-size=\"14.00\">St5</text>\r\n</g>\r\n<!-- St5&#45;&gt;BH -->\r\n<g id=\"edge5\" class=\"edge\"><title>St5&#45;&gt;BH</title>\r\n<path fill=\"none\" stroke=\"black\" d=\"M337.54,-119.893C362.509,-123.817 404.426,-127.875 438.984,-118.748 453.351,-114.954 468.062,-107.63 480.089,-100.573\"/>\r\n<polygon fill=\"black\" stroke=\"black\" points=\"482.013,-103.499 488.713,-95.2913 478.357,-97.5293 482.013,-103.499\"/>\r\n<text text-anchor=\"middle\" x=\"412.236\" y=\"-128.548\" font-family=\"Times New Roman,serif\" font-size=\"14.00\">a </text>\r\n</g>\r\n<!-- St4 -->\r\n<g id=\"node5\" class=\"node\"><title>St4</title>\r\n<ellipse fill=\"none\" stroke=\"black\" cx=\"412.236\" cy=\"-82.748\" rx=\"22.9609\" ry=\"22.9609\"/>\r\n<ellipse fill=\"none\" stroke=\"black\" cx=\"412.236\" cy=\"-82.748\" rx=\"26.9983\" ry=\"26.9983\"/>\r\n<text text-anchor=\"middle\" x=\"412.236\" y=\"-79.048\" font-family=\"Times New Roman,serif\" font-size=\"14.00\">St4</text>\r\n</g>\r\n<!-- St5&#45;&gt;St4 -->\r\n<g id=\"edge4\" class=\"edge\"><title>St5&#45;&gt;St4</title>\r\n<path fill=\"none\" stroke=\"black\" d=\"M336.461,-108.587C348.379,-104.469 363.647,-99.1929 377.276,-94.4833\"/>\r\n<polygon fill=\"black\" stroke=\"black\" points=\"378.53,-97.753 386.839,-91.1787 376.244,-91.1368 378.53,-97.753\"/>\r\n<text text-anchor=\"middle\" x=\"361.488\" y=\"-105.548\" font-family=\"Times New Roman,serif\" font-size=\"14.00\">b </text>\r\n</g>\r\n<!-- BH&#45;&gt;BH -->\r\n<g id=\"edge10\" class=\"edge\"><title>BH&#45;&gt;BH</title>\r\n<path fill=\"none\" stroke=\"black\" d=\"M499.683,-104.131C498.69,-114.417 501.372,-123.496 507.732,-123.496 511.806,-123.496 514.371,-119.77 515.427,-114.387\"/>\r\n<polygon fill=\"black\" stroke=\"black\" points=\"518.934,-114.246 515.78,-104.131 511.938,-114.005 518.934,-114.246\"/>\r\n<text text-anchor=\"middle\" x=\"507.732\" y=\"-142.296\" font-family=\"Times New Roman,serif\" font-size=\"14.00\">b </text>\r\n<text text-anchor=\"middle\" x=\"507.732\" y=\"-127.296\" font-family=\"Times New Roman,serif\" font-size=\"14.00\"> a </text>\r\n</g>\r\n<!-- St4&#45;&gt;St5 -->\r\n<g id=\"edge8\" class=\"edge\"><title>St4&#45;&gt;St5</title>\r\n<path fill=\"none\" stroke=\"black\" d=\"M385.841,-77.0269C376.068,-75.9338 364.984,-76.087 355.488,-79.748 348.834,-82.3133 342.604,-86.5661 337.139,-91.2671\"/>\r\n<polygon fill=\"black\" stroke=\"black\" points=\"334.549,-88.9004 329.72,-98.3309 339.376,-93.9699 334.549,-88.9004\"/>\r\n<text text-anchor=\"middle\" x=\"361.488\" y=\"-83.548\" font-family=\"Times New Roman,serif\" font-size=\"14.00\">b </text>\r\n</g>\r\n<!-- St4&#45;&gt;BH -->\r\n<g id=\"edge9\" class=\"edge\"><title>St4&#45;&gt;BH</title>\r\n<path fill=\"none\" stroke=\"black\" d=\"M439.28,-82.748C450.284,-82.748 463.206,-82.748 474.779,-82.748\"/>\r\n<polygon fill=\"black\" stroke=\"black\" points=\"474.935,-86.2481 484.935,-82.748 474.935,-79.2481 474.935,-86.2481\"/>\r\n<text text-anchor=\"middle\" x=\"461.984\" y=\"-86.548\" font-family=\"Times New Roman,serif\" font-size=\"14.00\">a </text>\r\n</g>\r\n<!-- St2&#45;&gt;St6 -->\r\n<g id=\"edge7\" class=\"edge\"><title>St2&#45;&gt;St6</title>\r\n<path fill=\"none\" stroke=\"black\" d=\"M242.837,-48.7346C255.255,-44.1831 270.431,-38.6209 283.552,-33.8121\"/>\r\n<polygon fill=\"black\" stroke=\"black\" points=\"284.92,-37.0383 293.105,-30.3108 282.511,-30.4659 284.92,-37.0383\"/>\r\n<text text-anchor=\"middle\" x=\"267.992\" y=\"-45.548\" font-family=\"Times New Roman,serif\" font-size=\"14.00\">a </text>\r\n</g>\r\n<!-- St2&#45;&gt;St5 -->\r\n<g id=\"edge6\" class=\"edge\"><title>St2&#45;&gt;St5</title>\r\n<path fill=\"none\" stroke=\"black\" d=\"M240.393,-71.2001C254.081,-79.5139 271.755,-90.2482 286.324,-99.0966\"/>\r\n<polygon fill=\"black\" stroke=\"black\" points=\"284.566,-102.124 294.93,-104.324 288.2,-96.141 284.566,-102.124\"/>\r\n<text text-anchor=\"middle\" x=\"267.992\" y=\"-94.548\" font-family=\"Times New Roman,serif\" font-size=\"14.00\">b </text>\r\n</g>\r\n<!-- St1&#45;&gt;St5 -->\r\n<g id=\"edge2\" class=\"edge\"><title>St1&#45;&gt;St5</title>\r\n<path fill=\"none\" stroke=\"black\" d=\"M144.641,-101.005C180.057,-104.093 243.566,-109.63 281.864,-112.969\"/>\r\n<polygon fill=\"black\" stroke=\"black\" points=\"281.686,-116.467 291.953,-113.849 282.294,-109.493 281.686,-116.467\"/>\r\n<text text-anchor=\"middle\" x=\"217.244\" y=\"-113.548\" font-family=\"Times New Roman,serif\" font-size=\"14.00\">b </text>\r\n</g>\r\n<!-- St1&#45;&gt;St2 -->\r\n<g id=\"edge3\" class=\"edge\"><title>St1&#45;&gt;St2</title>\r\n<path fill=\"none\" stroke=\"black\" d=\"M142.848,-88.6131C155.009,-83.4992 169.947,-77.2174 183.165,-71.6589\"/>\r\n<polygon fill=\"black\" stroke=\"black\" points=\"184.56,-74.8691 192.421,-67.7662 181.846,-68.4164 184.56,-74.8691\"/>\r\n<text text-anchor=\"middle\" x=\"167.496\" y=\"-83.548\" font-family=\"Times New Roman,serif\" font-size=\"14.00\">a </text>\r\n</g>\r\n</g>\r\n</svg>\r\n"
     },
     "metadata": {},
     "execution_count": 72
    }
   ],
   "source": [
    "# YOUR RE below\n",
    "\n",
    "# RE_Q1 = \"...type a Jove-syntax RE here...\"\n",
    "\n",
    "#  ==> ANSWER <==\n",
    "\n",
    "RE_Q1 = \"(''+a+(a(aa)*))(bb)*\"\n",
    "\n",
    "dotObj_dfa_w_bh(min_dfa(nfa2dfa(re2nfa(RE_Q1))), FuseEdges=True)\n"
   ]
  },
  {
   "cell_type": "markdown",
   "metadata": {},
   "source": [
    "===================================="
   ]
  },
  {
   "cell_type": "markdown",
   "metadata": {},
   "source": [
    "### Q1.2: Provide a sentence intuitively saying which language is non-regular, and then write a PL proof\n",
    "\n",
    "# Please mention the non-regular language between the arrows\n",
    "\n",
    "# ==> Language L2 is non-regular <==\n",
    "\n",
    "# ==> RL PL PROOF: Please type your PL proof below <== \n",
    "\n",
    "## - Choice of $w$\n",
    "    - $w = b^{P} a^{P+2}$\n",
    "    - where $P$ is the length of $w$ that is sufficiently long ($p$).\n",
    "    - this is the reverse of L2 (therefore if it is non-regular L2 is non-regular).\n",
    "   \n",
    "## - Choice of pump direction \n",
    "    - Pump up. (for the reverse of L2)\n",
    "    \n",
    "## - Showing the final step of the RL PL proof\n",
    "    - Since $|xy|\\leq p$ we know that $xy$ must contain at least one $b$ and can't contain any $a$'s.\n",
    "    - Therefore when pumped the number of $b$'s will surpass the number of $a$'s minus the requiste 2 to be in the reverse of L2.\n",
    "    - Therefore by the pumping lemma the reverse langiugae of L2 is non-regular.\n",
    "    - Therefore becuase regular languages are closed under reversal, L2 must also be non-regular. \n",
    "    \n",
    " "
   ]
  },
  {
   "cell_type": "markdown",
   "metadata": {},
   "source": [
    "============================================================================================================"
   ]
  },
  {
   "cell_type": "markdown",
   "metadata": {},
   "source": [
    "#  Q2. Dynamic Programming-based DFA minimization\n",
    "\n",
    "## This question has two parts, Q 2.1 and Q 2.2\n",
    "\n",
    "## Q 2.1\n",
    "\n",
    "### Consider Figure 6.7. Explain why (IS1,S4) ended up having a \"2\" entry (2-distinguishable) against it in the last table.  QUESTION FOR YOU: Find out those state pairs that were deemed 1-distinguishable and 0-distinguishable, in order to mark (IS1, S4) as 2-distinguishable. In other words, you are retracing the logic of arriving at 2-distinguishability via 1-distinguishability and 0-distinguishability.\n",
    "\n",
    "## Answer this under \"Answer of Q 2.1\" below where more guidance is given.\n",
    "\n",
    "## Additional requirements while answering:\n",
    "\n",
    "### * If you have a choice of arriving at these distinguishable pairs via an `a` move or a `b` move, please go by the `b` moves to arrive at those pairs. _This is so that I obtain identical answers to grade._\n",
    "\n",
    "### * When you list these state pairs, sort them. That is, if you have the option to answer as ```(p,q)``` or as ```(q,p)```, you must go by the former."
   ]
  },
  {
   "cell_type": "markdown",
   "metadata": {},
   "source": [
    "# ==> Answer of Q2.1: <==\n",
    "\n",
    "## *  (IS1,S4) is 2-distinguishable.\n",
    "\n",
    "## * In your answer below, replace x1, y1, x0, and y0 below with actual state names:\n",
    "\n",
    "### * ANSWER: This is because the state pair (FS3, FS6) was deemed 1-distinguishable already, and b-moves from FS3 and FS6 helped establish that (IS1, S4) are 2-distinguishable. \n",
    "\n",
    "### * ANSWER: This is because the state pair (S4, FS6) was deemed 0-distinguishable already, and b-moves from S4 and FS6 helped establish that (FS3, FS6) is 1-distinguishable\n"
   ]
  },
  {
   "cell_type": "markdown",
   "metadata": {},
   "source": [
    "===================================="
   ]
  },
  {
   "cell_type": "markdown",
   "metadata": {},
   "source": [
    "## Q 2.2 : This is a general question about DFA minimization that tests your understanding of going from equivalence-classes to merged state names.\n",
    "\n",
    "### Suppose at the end of state minimization, we have the following state equivalence classes\n",
    "### $Class1 = \\{ (a,b), (b,c) \\}$\n",
    "### $Class2 = \\{ (d,e), (f,d) \\}$\n",
    "### $Class3 = \\{ (a,g) \\}$\n",
    "\n",
    "### In Q2.2 below, write down what the final merged state-names will be. Use the ```_``` (underscore) separated state names as in Figure 6.7. Sort the state names.\n",
    "\n",
    "### For example, for an equivalence class $\\{p,q,r\\}$, write the merged state name as ```p_q_r``` and not as ```r_q_p``` for instance."
   ]
  },
  {
   "cell_type": "markdown",
   "metadata": {},
   "source": [
    "## ==> Q2.2: Write down the merged state names below <== \n",
    "\n",
    "## Use as many bullets as needed, from the list below. Add/delete bullets as you need.\n",
    "\n",
    "### * Merged state name 1 by considering all equivalence-classes is: ...\n",
    "* `a_b_c`\n",
    "\n",
    "### * Merged state name 2 by considering all equivalence-classes is: ...\n",
    "* `d_e_f`\n",
    "\n",
    "### * Merged state name 3 by considering all equivalence-classes is: ...\n",
    "* `a_g`"
   ]
  },
  {
   "cell_type": "markdown",
   "metadata": {},
   "source": [
    "============================================================================================================"
   ]
  },
  {
   "cell_type": "markdown",
   "metadata": {},
   "source": [
    "#  Q3. CFG problem\n",
    "\n",
    "## Consider the CFG (Question 7 of Page 159) -- but there is a typo noted in the erratum at bit.ly/Automata_Jove . _The corrected version reads: there are strings in $L_{abcd}$ that are not in  $L_{CFG}$._ \n",
    "\n",
    "## Apply this correction and answer Q3.1 and Q3.2. Next, answer the questions below.\n",
    "\n",
    "## Q3.1:  Answer in the space below where I put ==> <== arrows.\n",
    "\n",
    "### Find out one string of length four --- called $w$ --- starting with $a$ that cannot be generated by $L_{CFG}$, but is within $L_{abcd}$.\n",
    "\n",
    "### Here is how you must present the proof:\n",
    "\n",
    "### * My chosen word $w$ is THIS\n",
    "\n",
    "### * The first \"a\" in $w$ requires the derivation S => ... to be used (or THIS kind of a parse-tree)\n",
    "\n",
    "### * This then requires THIS derivation to account for the rest of the characters in $w$ (or THIS parse-tree)\n",
    "\n",
    "### * BUT , ... finish off the arguments in 1-2 more bullets ..saying why we can't have $w$ in $L_{CFG}$."
   ]
  },
  {
   "cell_type": "markdown",
   "metadata": {},
   "source": []
  },
  {
   "cell_type": "markdown",
   "metadata": {},
   "source": [
    "## Q3.1:  ==> Why $w$ cannot be in $L_{CFG}$. <==\n",
    "\n",
    "* My chosen word $w$ is `\"acbd\"`\n",
    "* The first `'a'` in $w$ requires the derivation `S => a S b S` to be used. (or `S('a', S(...), 'b', (S, ...))` kind of parse tree)\n",
    "* This then requires `S => T` derivation to account for the rest of the characters in $w$ (or `S('a', S(T(...)), 'b', (S, T(...)))` kind of parse tree)\n",
    "* BUT, there is no derivation in `T` that allows for it to become a singular `'c'` or a singular `'d'`, \n",
    "  which would be required to parse/accept this string. (aka `S('a', S(T('c')), 'b', (S, T('d')))` kind parse tree does not exist)\n",
    "* Therefore, $w\\notin L_{CFG}$."
   ]
  },
  {
   "cell_type": "markdown",
   "metadata": {},
   "source": [
    "## Q3.2: Implement a PDA for this CFG, showing (through explore_pda with enough stack depth) that the $w$ you chose is not in this CFG's language. \n",
    "\n",
    "## Answer beginning at the the arrows below.\n",
    "\n",
    "## Next, come up with four strings of length $4$ starting with $a$ that are in $L_{CFG}$. Run these strings under this PDA and show that they _are_ accepted.\n",
    "\n",
    "## Again, answer after where the arrows appear, below.\n",
    "\n",
    "### *It is OK to reuse the given tests; it is a good idea to test for additional strings, to debug your PDA*"
   ]
  },
  {
   "cell_type": "markdown",
   "metadata": {},
   "source": [
    "### Q3.2: PDA implementation\n",
    "\n",
    " "
   ]
  },
  {
   "cell_type": "markdown",
   "metadata": {},
   "source": [
    "# ==>  My CFG is in the space below, between the triple-quotes <=="
   ]
  },
  {
   "cell_type": "code",
   "execution_count": 73,
   "metadata": {},
   "outputs": [
    {
     "output_type": "execute_result",
     "data": {
      "text/plain": [
       "\"\\nS -> a S b S | b S a S | '' | T\\nT -> c T d T | d T c T | '' | S\\n\""
      ]
     },
     "metadata": {},
     "execution_count": 73
    }
   ],
   "source": [
    "'''\n",
    "S -> a S b S | b S a S | '' | T\n",
    "T -> c T d T | d T c T | '' | S\n",
    "'''"
   ]
  },
  {
   "cell_type": "markdown",
   "metadata": {},
   "source": [
    "===================================="
   ]
  },
  {
   "cell_type": "markdown",
   "metadata": {},
   "source": [
    "# ==>  My PDA is below <=="
   ]
  },
  {
   "cell_type": "code",
   "execution_count": 74,
   "metadata": {},
   "outputs": [
    {
     "output_type": "stream",
     "name": "stderr",
     "text": [
      "Generating LALR tables\n"
     ]
    }
   ],
   "source": [
    "Q32_PDA = md2mc('''\n",
    "\n",
    "PDA\n",
    "\n",
    "I   : '','' ; S     -> M\n",
    "\n",
    "M   : '',S  ; aSbS  -> M\n",
    "M   : '',S  ; bSaS  -> M\n",
    "M   : '',S  ; ''    -> M\n",
    "M   : '',S  ; T     -> M\n",
    "\n",
    "M   : '',T  ; cTdT  -> M\n",
    "M   : '',T  ; dTcT  -> M\n",
    "M   : '',T  ; ''    -> M\n",
    "M   : '',T  ; S     -> M\n",
    "\n",
    "M   : a,a   ;''     -> M\n",
    "M   : b,b   ;''     -> M\n",
    "M   : c,c   ;''     -> M\n",
    "M   : d,d   ;''     -> M\n",
    "\n",
    "M   : '',#  ; #     -> F\n",
    "\n",
    "\n",
    "''')"
   ]
  },
  {
   "cell_type": "markdown",
   "metadata": {},
   "source": [
    "## ==> Showing that ```w``` does not get accepted via explore_pda <=="
   ]
  },
  {
   "cell_type": "code",
   "execution_count": 75,
   "metadata": {},
   "outputs": [
    {
     "output_type": "stream",
     "name": "stdout",
     "text": [
      "String acbd rejected by your PDA :-(\nVisited states are:\n{('M', 'd', 'SaSdTbS#'), ('M', 'bd', 'aSbSdTbS#'), ('M', '', 'aSbScTaSdTbS#'), ('M', 'cbd', 'SbS#'), ('M', 'bd', 'cTdTdTbS#'), ('M', 'cbd', 'bSaSbS#'), ('M', 'd', 'aSdTbS#'), ('M', 'd', 'dTcTaSdTbS#'), ('M', 'd', 'aSbSaSdTbS#'), ('M', '', 'cTaSdTbS#'), ('M', 'd', 'bSaSaSdTbS#'), ('M', '', 'bSaScTaSdTbS#'), ('F', 'acbd', '#'), ('M', '', 'ScTaSdTbS#'), ('M', '', 'dTcTcTaSdTbS#'), ('M', 'd', 'cTdTaSdTbS#'), ('M', 'bd', 'SdTbS#'), ('M', 'acbd', 'bSaS#'), ('M', '', 'TcTaSdTbS#'), ('M', 'acbd', '#'), ('M', 'cbd', 'aSbSbS#'), ('M', 'acbd', 'T#'), ('M', 'bd', 'TdTbS#'), ('M', 'cbd', 'dTcTbS#'), ('M', 'cbd', 'cTdTbS#'), ('I', 'acbd', '#'), ('M', 'acbd', 'cTdT#'), ('M', 'bd', 'dTbS#'), ('M', '', 'cTdTcTaSdTbS#'), ('M', 'cbd', 'TbS#'), ('M', 'bd', 'bSaSdTbS#'), ('M', 'bd', 'dTcTdTbS#'), ('M', 'acbd', 'aSbS#'), ('M', 'd', 'TaSdTbS#'), ('M', 'cbd', 'bS#'), ('M', 'acbd', 'S#'), ('M', 'acbd', 'dTcT#')}\n"
     ]
    }
   ],
   "source": [
    "explore_pda(\"acbd\", Q32_PDA, STKMAX=7)"
   ]
  },
  {
   "cell_type": "markdown",
   "metadata": {},
   "source": [
    "## ==> Showing the four strings starting with ```a``` that do get accepted <=="
   ]
  },
  {
   "cell_type": "code",
   "execution_count": 76,
   "metadata": {},
   "outputs": [
    {
     "output_type": "stream",
     "name": "stdout",
     "text": [
      "String acdb accepted by your PDA in 4 ways :-) \nHere are the ways: \nFinal state  ('F', '', '#')\nReached as follows:\n->  ('I', 'acdb', '#')\n->  ('M', 'acdb', 'S#')\n->  ('M', 'acdb', 'aSbS#')\n->  ('M', 'cdb', 'SbS#')\n->  ('M', 'cdb', 'TbS#')\n->  ('M', 'cdb', 'cTdTbS#')\n->  ('M', 'db', 'TdTbS#')\n->  ('M', 'db', 'dTbS#')\n->  ('M', 'b', 'TbS#')\n->  ('M', 'b', 'bS#')\n->  ('M', '', 'S#')\n->  ('M', '', '#')\n->  ('F', '', '#') .\nFinal state  ('F', '', '#')\nReached as follows:\n->  ('I', 'acdb', '#')\n->  ('M', 'acdb', 'S#')\n->  ('M', 'acdb', 'aSbS#')\n->  ('M', 'cdb', 'SbS#')\n->  ('M', 'cdb', 'TbS#')\n->  ('M', 'cdb', 'cTdTbS#')\n->  ('M', 'db', 'TdTbS#')\n->  ('M', 'db', 'SdTbS#')\n->  ('M', 'db', 'dTbS#')\n->  ('M', 'b', 'TbS#')\n->  ('M', 'b', 'bS#')\n->  ('M', '', 'S#')\n->  ('M', '', '#')\n->  ('F', '', '#') .\nFinal state  ('F', '', '#')\nReached as follows:\n->  ('I', 'acdb', '#')\n->  ('M', 'acdb', 'S#')\n->  ('M', 'acdb', 'aSbS#')\n->  ('M', 'cdb', 'SbS#')\n->  ('M', 'cdb', 'TbS#')\n->  ('M', 'cdb', 'cTdTbS#')\n->  ('M', 'db', 'TdTbS#')\n->  ('M', 'db', 'dTbS#')\n->  ('M', 'b', 'TbS#')\n->  ('M', 'b', 'SbS#')\n->  ('M', 'b', 'bS#')\n->  ('M', '', 'S#')\n->  ('M', '', '#')\n->  ('F', '', '#') .\nFinal state  ('F', '', '#')\nReached as follows:\n->  ('I', 'acdb', '#')\n->  ('M', 'acdb', 'S#')\n->  ('M', 'acdb', 'aSbS#')\n->  ('M', 'cdb', 'SbS#')\n->  ('M', 'cdb', 'TbS#')\n->  ('M', 'cdb', 'cTdTbS#')\n->  ('M', 'db', 'TdTbS#')\n->  ('M', 'db', 'dTbS#')\n->  ('M', 'b', 'TbS#')\n->  ('M', 'b', 'bS#')\n->  ('M', '', 'S#')\n->  ('M', '', 'T#')\n->  ('M', '', '#')\n->  ('F', '', '#') .\n"
     ]
    }
   ],
   "source": [
    "# a c d b\n",
    "explore_pda(\"acdb\",Q32_PDA)"
   ]
  },
  {
   "cell_type": "code",
   "execution_count": 77,
   "metadata": {},
   "outputs": [
    {
     "output_type": "stream",
     "name": "stdout",
     "text": [
      "String bdca accepted by your PDA in 4 ways :-) \nHere are the ways: \nFinal state  ('F', '', '#')\nReached as follows:\n->  ('I', 'bdca', '#')\n->  ('M', 'bdca', 'S#')\n->  ('M', 'bdca', 'bSaS#')\n->  ('M', 'dca', 'SaS#')\n->  ('M', 'dca', 'TaS#')\n->  ('M', 'dca', 'dTcTaS#')\n->  ('M', 'ca', 'TcTaS#')\n->  ('M', 'ca', 'cTaS#')\n->  ('M', 'a', 'TaS#')\n->  ('M', 'a', 'aS#')\n->  ('M', '', 'S#')\n->  ('M', '', '#')\n->  ('F', '', '#') .\nFinal state  ('F', '', '#')\nReached as follows:\n->  ('I', 'bdca', '#')\n->  ('M', 'bdca', 'S#')\n->  ('M', 'bdca', 'bSaS#')\n->  ('M', 'dca', 'SaS#')\n->  ('M', 'dca', 'TaS#')\n->  ('M', 'dca', 'dTcTaS#')\n->  ('M', 'ca', 'TcTaS#')\n->  ('M', 'ca', 'ScTaS#')\n->  ('M', 'ca', 'cTaS#')\n->  ('M', 'a', 'TaS#')\n->  ('M', 'a', 'aS#')\n->  ('M', '', 'S#')\n->  ('M', '', '#')\n->  ('F', '', '#') .\nFinal state  ('F', '', '#')\nReached as follows:\n->  ('I', 'bdca', '#')\n->  ('M', 'bdca', 'S#')\n->  ('M', 'bdca', 'bSaS#')\n->  ('M', 'dca', 'SaS#')\n->  ('M', 'dca', 'TaS#')\n->  ('M', 'dca', 'dTcTaS#')\n->  ('M', 'ca', 'TcTaS#')\n->  ('M', 'ca', 'cTaS#')\n->  ('M', 'a', 'TaS#')\n->  ('M', 'a', 'SaS#')\n->  ('M', 'a', 'aS#')\n->  ('M', '', 'S#')\n->  ('M', '', '#')\n->  ('F', '', '#') .\nFinal state  ('F', '', '#')\nReached as follows:\n->  ('I', 'bdca', '#')\n->  ('M', 'bdca', 'S#')\n->  ('M', 'bdca', 'bSaS#')\n->  ('M', 'dca', 'SaS#')\n->  ('M', 'dca', 'TaS#')\n->  ('M', 'dca', 'dTcTaS#')\n->  ('M', 'ca', 'TcTaS#')\n->  ('M', 'ca', 'cTaS#')\n->  ('M', 'a', 'TaS#')\n->  ('M', 'a', 'aS#')\n->  ('M', '', 'S#')\n->  ('M', '', 'T#')\n->  ('M', '', '#')\n->  ('F', '', '#') .\n"
     ]
    }
   ],
   "source": [
    "# a d c b\n",
    "explore_pda(\"bdca\",Q32_PDA)"
   ]
  },
  {
   "cell_type": "code",
   "execution_count": 78,
   "metadata": {},
   "outputs": [
    {
     "output_type": "stream",
     "name": "stdout",
     "text": [
      "String cabd accepted by your PDA in 4 ways :-) \nHere are the ways: \nFinal state  ('F', '', '#')\nReached as follows:\n->  ('I', 'cabd', '#')\n->  ('M', 'cabd', 'S#')\n->  ('M', 'cabd', 'T#')\n->  ('M', 'cabd', 'cTdT#')\n->  ('M', 'abd', 'TdT#')\n->  ('M', 'abd', 'SdT#')\n->  ('M', 'abd', 'aSbSdT#')\n->  ('M', 'bd', 'SbSdT#')\n->  ('M', 'bd', 'bSdT#')\n->  ('M', 'd', 'SdT#')\n->  ('M', 'd', 'dT#')\n->  ('M', '', 'T#')\n->  ('M', '', '#')\n->  ('F', '', '#') .\nFinal state  ('F', '', '#')\nReached as follows:\n->  ('I', 'cabd', '#')\n->  ('M', 'cabd', 'S#')\n->  ('M', 'cabd', 'T#')\n->  ('M', 'cabd', 'cTdT#')\n->  ('M', 'abd', 'TdT#')\n->  ('M', 'abd', 'SdT#')\n->  ('M', 'abd', 'aSbSdT#')\n->  ('M', 'bd', 'SbSdT#')\n->  ('M', 'bd', 'TbSdT#')\n->  ('M', 'bd', 'bSdT#')\n->  ('M', 'd', 'SdT#')\n->  ('M', 'd', 'dT#')\n->  ('M', '', 'T#')\n->  ('M', '', '#')\n->  ('F', '', '#') .\nFinal state  ('F', '', '#')\nReached as follows:\n->  ('I', 'cabd', '#')\n->  ('M', 'cabd', 'S#')\n->  ('M', 'cabd', 'T#')\n->  ('M', 'cabd', 'cTdT#')\n->  ('M', 'abd', 'TdT#')\n->  ('M', 'abd', 'SdT#')\n->  ('M', 'abd', 'aSbSdT#')\n->  ('M', 'bd', 'SbSdT#')\n->  ('M', 'bd', 'bSdT#')\n->  ('M', 'd', 'SdT#')\n->  ('M', 'd', 'TdT#')\n->  ('M', 'd', 'dT#')\n->  ('M', '', 'T#')\n->  ('M', '', '#')\n->  ('F', '', '#') .\nFinal state  ('F', '', '#')\nReached as follows:\n->  ('I', 'cabd', '#')\n->  ('M', 'cabd', 'S#')\n->  ('M', 'cabd', 'T#')\n->  ('M', 'cabd', 'cTdT#')\n->  ('M', 'abd', 'TdT#')\n->  ('M', 'abd', 'SdT#')\n->  ('M', 'abd', 'aSbSdT#')\n->  ('M', 'bd', 'SbSdT#')\n->  ('M', 'bd', 'bSdT#')\n->  ('M', 'd', 'SdT#')\n->  ('M', 'd', 'dT#')\n->  ('M', '', 'T#')\n->  ('M', '', 'S#')\n->  ('M', '', '#')\n->  ('F', '', '#') .\n"
     ]
    }
   ],
   "source": [
    "# a b c d\n",
    "explore_pda(\"cabd\",Q32_PDA)"
   ]
  },
  {
   "cell_type": "code",
   "execution_count": 79,
   "metadata": {},
   "outputs": [
    {
     "output_type": "stream",
     "name": "stdout",
     "text": [
      "String dbac accepted by your PDA in 4 ways :-) \nHere are the ways: \nFinal state  ('F', '', '#')\nReached as follows:\n->  ('I', 'dbac', '#')\n->  ('M', 'dbac', 'S#')\n->  ('M', 'dbac', 'T#')\n->  ('M', 'dbac', 'dTcT#')\n->  ('M', 'bac', 'TcT#')\n->  ('M', 'bac', 'ScT#')\n->  ('M', 'bac', 'bSaScT#')\n->  ('M', 'ac', 'SaScT#')\n->  ('M', 'ac', 'aScT#')\n->  ('M', 'c', 'ScT#')\n->  ('M', 'c', 'cT#')\n->  ('M', '', 'T#')\n->  ('M', '', '#')\n->  ('F', '', '#') .\nFinal state  ('F', '', '#')\nReached as follows:\n->  ('I', 'dbac', '#')\n->  ('M', 'dbac', 'S#')\n->  ('M', 'dbac', 'T#')\n->  ('M', 'dbac', 'dTcT#')\n->  ('M', 'bac', 'TcT#')\n->  ('M', 'bac', 'ScT#')\n->  ('M', 'bac', 'bSaScT#')\n->  ('M', 'ac', 'SaScT#')\n->  ('M', 'ac', 'TaScT#')\n->  ('M', 'ac', 'aScT#')\n->  ('M', 'c', 'ScT#')\n->  ('M', 'c', 'cT#')\n->  ('M', '', 'T#')\n->  ('M', '', '#')\n->  ('F', '', '#') .\nFinal state  ('F', '', '#')\nReached as follows:\n->  ('I', 'dbac', '#')\n->  ('M', 'dbac', 'S#')\n->  ('M', 'dbac', 'T#')\n->  ('M', 'dbac', 'dTcT#')\n->  ('M', 'bac', 'TcT#')\n->  ('M', 'bac', 'ScT#')\n->  ('M', 'bac', 'bSaScT#')\n->  ('M', 'ac', 'SaScT#')\n->  ('M', 'ac', 'aScT#')\n->  ('M', 'c', 'ScT#')\n->  ('M', 'c', 'TcT#')\n->  ('M', 'c', 'cT#')\n->  ('M', '', 'T#')\n->  ('M', '', '#')\n->  ('F', '', '#') .\nFinal state  ('F', '', '#')\nReached as follows:\n->  ('I', 'dbac', '#')\n->  ('M', 'dbac', 'S#')\n->  ('M', 'dbac', 'T#')\n->  ('M', 'dbac', 'dTcT#')\n->  ('M', 'bac', 'TcT#')\n->  ('M', 'bac', 'ScT#')\n->  ('M', 'bac', 'bSaScT#')\n->  ('M', 'ac', 'SaScT#')\n->  ('M', 'ac', 'aScT#')\n->  ('M', 'c', 'ScT#')\n->  ('M', 'c', 'cT#')\n->  ('M', '', 'T#')\n->  ('M', '', 'S#')\n->  ('M', '', '#')\n->  ('F', '', '#') .\n"
     ]
    }
   ],
   "source": [
    "# a b d c\n",
    "explore_pda(\"dbac\",Q32_PDA)"
   ]
  },
  {
   "cell_type": "markdown",
   "metadata": {},
   "source": [
    "============================================================================================================"
   ]
  },
  {
   "cell_type": "markdown",
   "metadata": {},
   "source": [
    "#  Q4. Develop a CFG for L2 of Q1, and for grading, convert it to a PDA and run it on the given test strings. Answer after where the arrows appear.\n",
    "\n"
   ]
  },
  {
   "cell_type": "markdown",
   "metadata": {},
   "source": [
    "## Q 4.2: CFG for L2 : $\\{ a^n b^k \\;:\\; n > k+2,\\; n,k \\ge 0 \\}$"
   ]
  },
  {
   "cell_type": "markdown",
   "metadata": {},
   "source": [
    "## ==> My CFG is presented in the cell below <=="
   ]
  },
  {
   "cell_type": "code",
   "execution_count": 80,
   "metadata": {},
   "outputs": [
    {
     "output_type": "execute_result",
     "data": {
      "text/plain": [
       "'\\nS -> aaT | aa | ε\\nT -> aTb | aT | a | ε\\n'"
      ]
     },
     "metadata": {},
     "execution_count": 80
    }
   ],
   "source": [
    "'''\n",
    "S -> aaT | aa | ε\n",
    "T -> aTb | aT | a | ε\n",
    "'''\n"
   ]
  },
  {
   "cell_type": "markdown",
   "metadata": {},
   "source": [
    "# ==> The PDA for testing my CFG is below <=="
   ]
  },
  {
   "cell_type": "code",
   "execution_count": 81,
   "metadata": {},
   "outputs": [
    {
     "output_type": "stream",
     "name": "stderr",
     "text": [
      "Generating LALR tables\n"
     ]
    }
   ],
   "source": [
    "pda_q42 = md2mc(\n",
    "'''PDA\n",
    "\n",
    "I   : '','' ; S     -> M\n",
    "\n",
    "M   : '',S  ; aaT   -> M\n",
    "M   : '',S  ; #     -> M\n",
    "\n",
    "M   : '',T  ; aTb   -> M\n",
    "M   : '',T  ; aT    -> M\n",
    "M   : '',T  ; a     -> M\n",
    "M   : '',T  ; ''    -> M\n",
    "\n",
    "M   : a,a   ; ''    -> M\n",
    "M   : b,b   ; ''    -> M\n",
    "\n",
    "M   : '',#  ; #     -> F\n",
    "\n",
    "\n",
    "''')\n"
   ]
  },
  {
   "cell_type": "markdown",
   "metadata": {},
   "source": [
    "# ==> The tests on this PDA that must be run, for grading <=="
   ]
  },
  {
   "cell_type": "code",
   "execution_count": 82,
   "metadata": {},
   "outputs": [
    {
     "output_type": "stream",
     "name": "stdout",
     "text": [
      "String ab rejected by your PDA :-(\nVisited states are:\n{('F', 'ab', '##'), ('M', 'ab', 'S#'), ('M', 'b', 'aT#'), ('M', 'ab', 'aaT#'), ('I', 'ab', '#'), ('M', 'ab', '##')}\n"
     ]
    }
   ],
   "source": [
    "explore_pda(\"ab\", pda_q42)"
   ]
  },
  {
   "cell_type": "code",
   "execution_count": 83,
   "metadata": {},
   "outputs": [
    {
     "output_type": "stream",
     "name": "stdout",
     "text": [
      "String aaab accepted by your PDA in 1 ways :-) \nHere are the ways: \nFinal state  ('F', '', '#')\nReached as follows:\n->  ('I', 'aaab', '#')\n->  ('M', 'aaab', 'S#')\n->  ('M', 'aaab', 'aaT#')\n->  ('M', 'aab', 'aT#')\n->  ('M', 'ab', 'T#')\n->  ('M', 'ab', 'aTb#')\n->  ('M', 'b', 'Tb#')\n->  ('M', 'b', 'b#')\n->  ('M', '', '#')\n->  ('F', '', '#') .\n"
     ]
    }
   ],
   "source": [
    "explore_pda(\"aaab\", pda_q42)"
   ]
  },
  {
   "cell_type": "code",
   "execution_count": 84,
   "metadata": {},
   "outputs": [
    {
     "output_type": "stream",
     "name": "stdout",
     "text": [
      "String aaaab accepted by your PDA in 3 ways :-) \nHere are the ways: \nFinal state  ('F', '', '#')\nReached as follows:\n->  ('I', 'aaaab', '#')\n->  ('M', 'aaaab', 'S#')\n->  ('M', 'aaaab', 'aaT#')\n->  ('M', 'aaab', 'aT#')\n->  ('M', 'aab', 'T#')\n->  ('M', 'aab', 'aTb#')\n->  ('M', 'ab', 'Tb#')\n->  ('M', 'ab', 'ab#')\n->  ('M', 'b', 'b#')\n->  ('M', '', '#')\n->  ('F', '', '#') .\nFinal state  ('F', '', '#')\nReached as follows:\n->  ('I', 'aaaab', '#')\n->  ('M', 'aaaab', 'S#')\n->  ('M', 'aaaab', 'aaT#')\n->  ('M', 'aaab', 'aT#')\n->  ('M', 'aab', 'T#')\n->  ('M', 'aab', 'aT#')\n->  ('M', 'ab', 'T#')\n->  ('M', 'ab', 'aTb#')\n->  ('M', 'b', 'Tb#')\n->  ('M', 'b', 'b#')\n->  ('M', '', '#')\n->  ('F', '', '#') .\nFinal state  ('F', '', '#')\nReached as follows:\n->  ('I', 'aaaab', '#')\n->  ('M', 'aaaab', 'S#')\n->  ('M', 'aaaab', 'aaT#')\n->  ('M', 'aaab', 'aT#')\n->  ('M', 'aab', 'T#')\n->  ('M', 'aab', 'aTb#')\n->  ('M', 'ab', 'Tb#')\n->  ('M', 'ab', 'aTb#')\n->  ('M', 'b', 'Tb#')\n->  ('M', 'b', 'b#')\n->  ('M', '', '#')\n->  ('F', '', '#') .\n"
     ]
    }
   ],
   "source": [
    "explore_pda(\"aaaab\", pda_q42)"
   ]
  },
  {
   "cell_type": "code",
   "execution_count": 85,
   "metadata": {},
   "outputs": [
    {
     "output_type": "stream",
     "name": "stdout",
     "text": [
      "String aaaaaabbb accepted by your PDA in 5 ways :-) \nHere are the ways: \nFinal state  ('F', '', '#')\nReached as follows:\n->  ('I', 'aaaaaabbb', '#')\n->  ('M', 'aaaaaabbb', 'S#')\n->  ('M', 'aaaaaabbb', 'aaT#')\n->  ('M', 'aaaaabbb', 'aT#')\n->  ('M', 'aaaabbb', 'T#')\n->  ('M', 'aaaabbb', 'aTb#')\n->  ('M', 'aaabbb', 'Tb#')\n->  ('M', 'aaabbb', 'aTbb#')\n->  ('M', 'aabbb', 'Tbb#')\n->  ('M', 'aabbb', 'aTbbb#')\n->  ('M', 'abbb', 'Tbbb#')\n->  ('M', 'abbb', 'abbb#')\n->  ('M', 'bbb', 'bbb#')\n->  ('M', 'bb', 'bb#')\n->  ('M', 'b', 'b#')\n->  ('M', '', '#')\n->  ('F', '', '#') .\nFinal state  ('F', '', '#')\nReached as follows:\n->  ('I', 'aaaaaabbb', '#')\n->  ('M', 'aaaaaabbb', 'S#')\n->  ('M', 'aaaaaabbb', 'aaT#')\n->  ('M', 'aaaaabbb', 'aT#')\n->  ('M', 'aaaabbb', 'T#')\n->  ('M', 'aaaabbb', 'aT#')\n->  ('M', 'aaabbb', 'T#')\n->  ('M', 'aaabbb', 'aTb#')\n->  ('M', 'aabbb', 'Tb#')\n->  ('M', 'aabbb', 'aTbb#')\n->  ('M', 'abbb', 'Tbb#')\n->  ('M', 'abbb', 'aTbbb#')\n->  ('M', 'bbb', 'Tbbb#')\n->  ('M', 'bbb', 'bbb#')\n->  ('M', 'bb', 'bb#')\n->  ('M', 'b', 'b#')\n->  ('M', '', '#')\n->  ('F', '', '#') .\nFinal state  ('F', '', '#')\nReached as follows:\n->  ('I', 'aaaaaabbb', '#')\n->  ('M', 'aaaaaabbb', 'S#')\n->  ('M', 'aaaaaabbb', 'aaT#')\n->  ('M', 'aaaaabbb', 'aT#')\n->  ('M', 'aaaabbb', 'T#')\n->  ('M', 'aaaabbb', 'aTb#')\n->  ('M', 'aaabbb', 'Tb#')\n->  ('M', 'aaabbb', 'aTb#')\n->  ('M', 'aabbb', 'Tb#')\n->  ('M', 'aabbb', 'aTbb#')\n->  ('M', 'abbb', 'Tbb#')\n->  ('M', 'abbb', 'aTbbb#')\n->  ('M', 'bbb', 'Tbbb#')\n->  ('M', 'bbb', 'bbb#')\n->  ('M', 'bb', 'bb#')\n->  ('M', 'b', 'b#')\n->  ('M', '', '#')\n->  ('F', '', '#') .\nFinal state  ('F', '', '#')\nReached as follows:\n->  ('I', 'aaaaaabbb', '#')\n->  ('M', 'aaaaaabbb', 'S#')\n->  ('M', 'aaaaaabbb', 'aaT#')\n->  ('M', 'aaaaabbb', 'aT#')\n->  ('M', 'aaaabbb', 'T#')\n->  ('M', 'aaaabbb', 'aTb#')\n->  ('M', 'aaabbb', 'Tb#')\n->  ('M', 'aaabbb', 'aTbb#')\n->  ('M', 'aabbb', 'Tbb#')\n->  ('M', 'aabbb', 'aTbb#')\n->  ('M', 'abbb', 'Tbb#')\n->  ('M', 'abbb', 'aTbbb#')\n->  ('M', 'bbb', 'Tbbb#')\n->  ('M', 'bbb', 'bbb#')\n->  ('M', 'bb', 'bb#')\n->  ('M', 'b', 'b#')\n->  ('M', '', '#')\n->  ('F', '', '#') .\nFinal state  ('F', '', '#')\nReached as follows:\n->  ('I', 'aaaaaabbb', '#')\n->  ('M', 'aaaaaabbb', 'S#')\n->  ('M', 'aaaaaabbb', 'aaT#')\n->  ('M', 'aaaaabbb', 'aT#')\n->  ('M', 'aaaabbb', 'T#')\n->  ('M', 'aaaabbb', 'aTb#')\n->  ('M', 'aaabbb', 'Tb#')\n->  ('M', 'aaabbb', 'aTbb#')\n->  ('M', 'aabbb', 'Tbb#')\n->  ('M', 'aabbb', 'aTbbb#')\n->  ('M', 'abbb', 'Tbbb#')\n->  ('M', 'abbb', 'aTbbb#')\n->  ('M', 'bbb', 'Tbbb#')\n->  ('M', 'bbb', 'bbb#')\n->  ('M', 'bb', 'bb#')\n->  ('M', 'b', 'b#')\n->  ('M', '', '#')\n->  ('F', '', '#') .\n"
     ]
    }
   ],
   "source": [
    "explore_pda(\"aaaaaabbb\", pda_q42)"
   ]
  },
  {
   "cell_type": "code",
   "execution_count": 86,
   "metadata": {},
   "outputs": [
    {
     "output_type": "stream",
     "name": "stdout",
     "text": [
      "String aaaaaabbbb rejected by your PDA :-(\nVisited states are:\n{('M', 'aaabbbb', 'aTbb#'), ('M', 'abbbb', 'abbb#'), ('M', 'aaaabbbb', 'aT#'), ('M', 'bb', 'b#'), ('M', 'abbbb', 'aT#'), ('M', 'aaaaabbbb', 'aT#'), ('M', 'bbbb', 'Tbb#'), ('M', 'abbbb', 'b#'), ('M', 'b', '#'), ('M', 'bbb', 'bb#'), ('M', 'aaaaaabbbb', 'S#'), ('M', 'bbb', '#'), ('M', 'aabbbb', 'aTb#'), ('M', 'aaaabbbb', 'aTb#'), ('M', 'bbbb', 'aTbb#'), ('M', 'abbbb', 'Tb#'), ('M', 'abbbb', 'aTb#'), ('M', 'aabbbb', 'aTbb#'), ('M', 'bbbb', 'bbb#'), ('M', 'bbbb', 'aTbbb#'), ('M', 'bbbb', 'a#'), ('M', 'aaaaaabbbb', 'aaT#'), ('M', 'aaabbbb', 'aT#'), ('M', 'bbbb', 'ab#'), ('M', 'aaabbbb', 'b#'), ('M', 'abbbb', 'Tbbb#'), ('F', 'bbb', '#'), ('M', 'bbbb', 'bb#'), ('M', 'bb', '#'), ('M', 'bbbb', 'Tb#'), ('M', 'aabbbb', 'abb#'), ('M', 'aaaabbbb', '#'), ('M', 'abbbb', 'abb#'), ('M', 'abbbb', '#'), ('M', 'aaaabbbb', 'T#'), ('M', 'bbbb', 'abbb#'), ('M', 'abbbb', 'T#'), ('F', 'aaabbbb', '#'), ('M', 'bbbb', 'aT#'), ('M', 'bbbb', 'b#'), ('M', 'aabbbb', 'aT#'), ('M', 'aaabbbb', 'a#'), ('M', 'aabbbb', 'b#'), ('M', 'aabbbb', 'Tbb#'), ('F', 'bb', '#'), ('F', 'bbbb', '#'), ('M', 'abbbb', 'Tbb#'), ('M', 'aaabbbb', 'ab#'), ('M', 'bbbb', 'aTb#'), ('M', 'aaabbbb', 'Tb#'), ('M', 'aaabbbb', '#'), ('F', 'aabbbb', '#'), ('F', 'aaaabbbb', '#'), ('M', 'abbbb', 'aTbb#'), ('M', 'aaabbbb', 'T#'), ('F', 'aaaaaabbbb', '##'), ('F', 'abbbb', '#'), ('M', 'aabbbb', 'aTbbb#'), ('M', 'aabbbb', 'a#'), ('M', 'aaaabbbb', 'a#'), ('M', 'abbbb', 'bbb#'), ('M', 'bbb', 'b#'), ('M', 'abbbb', 'aTbbb#'), ('M', 'bbbb', 'Tbbb#'), ('M', 'abbbb', 'a#'), ('M', 'aabbbb', 'ab#'), ('M', 'bbbb', 'abb#'), ('M', 'bbbb', '#'), ('M', 'abbbb', 'ab#'), ('M', 'aabbbb', 'bb#'), ('F', 'b', '#'), ('M', 'aabbbb', 'Tb#'), ('M', 'bbbb', 'T#'), ('M', 'aabbbb', '#'), ('M', 'abbbb', 'bb#'), ('M', 'aaabbbb', 'aTb#'), ('M', 'aaaaaabbbb', '##'), ('I', 'aaaaaabbbb', '#'), ('M', 'aabbbb', 'T#')}\n"
     ]
    }
   ],
   "source": [
    "explore_pda(\"aaaaaabbbb\", pda_q42)"
   ]
  },
  {
   "cell_type": "markdown",
   "metadata": {},
   "source": [
    "# =======================  END ============================="
   ]
  }
 ],
 "metadata": {
  "kernelspec": {
   "display_name": "Python 3",
   "language": "python",
   "name": "python3"
  },
  "language_info": {
   "codemirror_mode": {
    "name": "ipython",
    "version": 3
   },
   "file_extension": ".py",
   "mimetype": "text/x-python",
   "name": "python",
   "nbconvert_exporter": "python",
   "pygments_lexer": "ipython3",
   "version": "3.8.3-final"
  },
  "toc": {
   "base_numbering": 1,
   "nav_menu": {
    "height": "318px",
    "width": "252px"
   },
   "number_sections": false,
   "sideBar": true,
   "skip_h1_title": false,
   "title_cell": "Table of Contents",
   "title_sidebar": "Contents",
   "toc_cell": false,
   "toc_position": {},
   "toc_section_display": "block",
   "toc_window_display": false
  }
 },
 "nbformat": 4,
 "nbformat_minor": 1
}