{
 "cells": [
  {
   "cell_type": "markdown",
   "metadata": {},
   "source": [
    "<style>\n",
    "h1 {\n",
    "    border-bottom: 2px solid;\n",
    "}\n",
    "h2 {\n",
    "    border-bottom: 1px solid;\n",
    "}\n",
    "/* hr {\n",
    "    border-top: 2px solid;\n",
    "    border-bottom: none;\n",
    "} */\n",
    ".student-info {\n",
    "    text-align: right;\n",
    "    border-bottom: none;\n",
    "}\n",
    "hr.double-div {\n",
    "    border-top: 2px solid;\n",
    "    border-bottom: 2px solid;\n",
    "    border-left: none;\n",
    "    border-right: none;\n",
    "    height: 10pt;\n",
    "    /* border-radius: 1px; */\n",
    "}\n",
    "blockquote {\n",
    "    border-left: 2px solid;\n",
    "    /* background-color: #00000488; */\n",
    "    /* filter: brightness(80%); */\n",
    "    margin-left: 2em;\n",
    "    margin-right: 2em;\n",
    "    padding: 1px 2px 1px 1em;\n",
    "}\n",
    "pre {\n",
    "    border: 1px solid #88888888;\n",
    "    margin-left: 1em;\n",
    "    margin-right: 1em;\n",
    "    /*margin-bottom: -1em;*/\n",
    "    padding: 0.5em;\n",
    "    overflow-x: auto;\n",
    "    /*padding: 8pt 1em 8pt 1em;*/\n",
    "    /*counter-reset: line;*/\n",
    "}\n",
    "/* \n",
    "code {\n",
    "    counter-increment: line;\n",
    "}\n",
    "pre code:before {\n",
    "    content: counter(line);\n",
    "    text-align: right;\n",
    "    foreground-color: #88888888;\n",
    "    background-color: #88888844;\n",
    "    width: 1em;\n",
    "    padding-right: 0.5em;\n",
    "    margin-left: -0.5em;\n",
    "    border-right: 1px solid;\n",
    "} \n",
    "br { counter-incrament: line; }\n",
    "code > br:after {\n",
    "    content: counter(line);\n",
    "    align: right;\n",
    "    foreground-color: #88888888;\n",
    "    padding-right: 0.5em;\n",
    "} \n",
    "*/\n",
    "blockquote > pre {\n",
    "    margin-left: 0.5em;\n",
    "}\n",
    "img {\n",
    "    display: block;\n",
    "    margin-left: auto;\n",
    "    margin-right: auto;\n",
    "    max-height: 4in;\n",
    "}\n",
    "</style>\n",
    "\n",
    "<h2 class=\"student-info\">\n",
    "    Andrew Osterhout <br/>\n",
    "    (u1317172)\n",
    "</h2>\n",
    "\n",
    "# Asg-11 \n",
    "### Focuses on questions graded by the mentioned TAs\n",
    " "
   ]
  },
  {
   "cell_type": "markdown",
   "metadata": {},
   "source": [
    "<hr class=\"double-div\"/>"
   ]
  },
  {
   "cell_type": "markdown",
   "metadata": {},
   "source": [
    "# (1) AR 25%:\n",
    "```\n",
    "#1 Var_Order : a3, a2, a1, a0, b3, b2, b1, b0\n",
    "#2 Var_Order : something else\n",
    " \n",
    "lt1 = (~a3 & b3) | (~a2 & b2) | (~a1 & b1) | (~a0 & b0)\n",
    "gt1 = (a3 & ~b3) | (a2 & ~b2) | (a1 & ~b1) | (a0 & ~b0)\n",
    "\n",
    "lt2 = ~a3 & b3 | (a3<=>b3) & (~a2 & b2 | ((a2<=>b2) & (~a1 & b1 | (a1<=>b1) & ~a0 & b0)))\n",
    "gt2 = a3 & ~b3 | (a3<=>b3) & (a2 & ~b2 | ((a2<=>b2) & (a1 & ~b1 | (a1<=>b1) & a0 & ~b0)))\n",
    " \n",
    "lt3 = (~a3 & b3 | (a3<=>b3)) & (~a2 & b2 | a2<=>b2) & (~a1 & b1 | a1<=>b1) & (~a0 & b0)\n",
    "gt3 = (a3 & ~b3 | (a3<=>b3)) & (a2 & ~b2 | a2<=>b2) & (a1 & ~b1 | a1<=>b1) & (a0 & ~b0)\n",
    " \n",
    "eq = (a3 <=> b3) & (a2 <=> b2) & (a1 <=> b1) & (a0 <=> b0)\n",
    "  \n",
    "#3 Main_Exp  : lt1 & gt1\n",
    "#4 Main_Exp  : lt2 & gt2\n",
    "#5 Main_Exp  : (lt1 & ~gt1) <=> lt1\n",
    "#6 Main_Exp  : (lt2 & ~gt2) <=> lt2\n",
    "```\n",
    " "
   ]
  },
  {
   "cell_type": "markdown",
   "metadata": {},
   "source": [
    "## 1(a): 5 pts\n",
    "\n",
    "> ### `#2`\n",
    "> _As it is \"`somethign else`\" I sudjest using the following:_\n",
    "> ```\n",
    ">   Var_Order : a3, b3, a2, b2, a1, b1, a0, b0\n",
    "> ```\n",
    "> - To make sure the most significant bits are processed first\n",
    "> - Since if a more significant bit is true/false \n",
    ">    then the processing is already done (for `lt` & `gt` anyway). "
   ]
  },
  {
   "cell_type": "markdown",
   "metadata": {},
   "source": [
    "## 1(b): 5 pts\n",
    "\n",
    "> ### `#3 Main_Exp : lt1 & gt1`\n",
    "> ### $$ lt_1 \\land gt_1 $$\n",
    "> ![BDD of `lt1 & gt1` (`#3`)](./p1-b-3_BDD.png)\n",
    "> #### **No**\n",
    "> Because `lt1 & gt1` should always be false,\n",
    ">  since by definition $<$ and $>$ should never be true at the same time.\n",
    "> Therefore, there must be some number of logic errors in `lt1`, `gt1` or both.\n",
    "\n",
    "<!-- -->\n",
    "<br/>\n",
    "\n",
    "> ### `#4 Main_Exp : lt2 & gt2`\n",
    "> ### $$ lt_2 \\land gt_2 $$\n",
    "> <img src=\"./p1-b-4_BDD.png\" alt=\"BDD of <code>lt2 & gt2</code> (<code>#4</code>)\" style=\"width: 4cm;\" />\n",
    "> \n",
    "> #### **Yes**\n",
    "> Because `lt2 & gt2` should always be false,\n",
    ">  since by definition $<$ and $>$ should never be true at the same time."
   ]
  },
  {
   "cell_type": "markdown",
   "metadata": {},
   "source": [
    "## 1(c): 5 pts\n",
    "\n",
    "> ### `#5 Main_Exp : (lt1 & ~gt1) <=> lt1`\n",
    "> ### $$ (lt_1 \\land \\neg gt_1) \\leftrightarrow lt_1 $$ \n",
    "> ![BDD of `(lt1 & ~gt1) <=> lt1` (`#5`)](./p1-c-5_BDD.png)\n",
    "> \n",
    "> #### **No**\n",
    "> Because `(lt1 & ~gt1) <=> lt1` should always be false,\n",
    ">  since by definition $<$ and $>$ should never be true at the same time.\n",
    "> Therefore, there must be some number of logic errors in `lt1`, `gt1` or both.\n",
    "\n",
    "<!-- -->\n",
    "<br/>\n",
    "\n",
    "> ### `#6 Main_Exp : (lt2 & ~gt2) <=> lt2`\n",
    "> ### $$ (lt_2 \\land \\neg gt_2) \\leftrightarrow lt_2 $$ \n",
    "> <img src=\"./p1-c-6_BDD.png\" alt=\"BDD of <code>(lt2 & ~gt2) <=> lt2</code> (<code>#6</code>)\" style=\"width: 4cm;\" />\n",
    "> \n",
    "> #### **Yes**\n",
    "> Because `(lt2 & ~gt2) <=> lt2` should always be true,\n",
    ">  since by definition $<$ and $>$ should never be true at the same time.\n",
    "\n"
   ]
  },
  {
   "cell_type": "markdown",
   "metadata": {},
   "source": [
    "## 1(d): 5 pts\n",
    "\n",
    "> - The design does not account for when bits are the same.\n",
    ">   - Because the segments that contain expressions like `~a1 & b1`,\n",
    ">      will be false whenever they are the same.\n",
    "> - Meaning that when `a#` is `0` or `1` for `lt1` & `gt1` respectivlty,\n",
    ">    then according to the minimal BDD `b0` is irrelivant to `lt1` & `gt1`\n",
    ">    and you get a \"false positive\" \n",
    ">    (_i.e._ `lt1` & `gt1` when conditions are as stated previously evaluate to \n",
    ">     `true` when in fact `eq` is true and therefore `lt` & `gt` should both be `false`).\n",
    ">   - Because and & or operators when in min BDD works like the \"short-circut\"\n",
    ">      logical or operator used in programing, \n",
    ">      where when a statement is false/true for (and/or respectivly)\n",
    ">      then there is no need to calculate the other side.\n",
    "> - This makes it so that in cases where bits being compared are the same, \n",
    ">    but the bits after are such that `lt` or `gt` are true \n",
    "> - Illistrated by `0101<0101` & `1010>1010` when considered by `lt1` and `gt1`.\n",
    "\n",
    "<!--\n",
    "Additionaly, it's less than optimaly efficient as when ever an `a#` bit is `1`/`0` \n",
    " & a `b#` bit is `0`/`1` and all more significant bits are the same, \n",
    " then we know for certain that `lt`/`gt` respectivly are `true`,\n",
    " and we don't need to evaluate any less significant bits.\n",
    "   -->\n"
   ]
  },
  {
   "cell_type": "markdown",
   "metadata": {},
   "source": [
    "## 1(e): 5 pts\n",
    "\n",
    "> - All of the bit string pairs that cause `lt1` & `gt1` to result in a \"false positive\",\n",
    ">    occur when `eq` is ture.\n",
    "> - Therefore, we can say that the true expressions for `lt` & `gt` are \n",
    ">    `lt1 <=> ~eq` & `gt1 <=> ~eq` respectivly.\n",
    ">      $$ \n",
    ">        lt := lt_1 \\leftrightarrow \\neg eq \n",
    ">          \\;\\;\\;\\;\\land\\;\\;\\;\\; \n",
    ">        gt := gt_1 \\leftrightarrow \\neg eq \n",
    ">      $$\n",
    ">   - Because this way we eliminate all instances where the two bit strings should be equal,\n",
    ">      which as mentioned before are the casses where `lt1` & `gt1` are not evaluating properly.\n",
    ">   - Not coincidently, when you substitute in the logic statemnnts for `lt1`, `gt1` & `eq` \n",
    ">      then simplify you can get the logic statements for `lt2` & `gt2` (respectivly).\n"
   ]
  },
  {
   "cell_type": "markdown",
   "metadata": {},
   "source": [
    "<hr class=\"double-div\"/>"
   ]
  },
  {
   "cell_type": "markdown",
   "metadata": {},
   "source": [
    "# (2) XL 25%:\n",
    " "
   ]
  },
  {
   "cell_type": "markdown",
   "metadata": {},
   "source": [
    "## 1(a): 5 pts\n",
    "\n",
    "```\n",
    "Var_Order : x1 x2\n",
    "\n",
    "\n",
    "Phi = (x1 | x1 | x2) & (x1 | x1 | !x2) & (!x1 | !x1 | x2) & (!x1 & !x1 & !x2)\n",
    "\n",
    "Phi1 = (x1 | x1 | x2) & (x1 | x1 | !x2) & (!x1 | !x1 | x2)\n",
    "\n",
    "\n",
    "Main_Exp : Phi1\n",
    "```"
   ]
  },
  {
   "cell_type": "markdown",
   "metadata": {},
   "source": [
    "## 1(b): 5 pts\n",
    "\n",
    "![$\\Phi_1$ BDD](./p2-b_Phi1-BDD.png) <!-- ![$\\Phi$ BDD](./p2-b_Phi-BDD.png) -->\n",
    "\n",
    "Variable Assignment\n",
    "\n",
    "> x1 = True\n",
    "> \n",
    "> x2 = True\n"
   ]
  },
  {
   "source": [
    "## 1(c): 10 pts\n",
    "\n",
    "**_6_ $3$-Cliques exist**\n",
    "\n",
    "The cliques are: \n",
    "\n",
    "1. {x1,x1,x2}:  x1,   {x1,x1,!x2}:  x1,   {!x1,!x1,x2}:  x2\n",
    "2. {x1,x1,x2}:  x1,   {x1,x1,!x2}:  x1,   {!x1,!x1,x2}:  x2\n",
    "3. {x1,x1,x2}:  x1,   {x1,x1,!x2}:  x1,   {!x1,!x1,x2}:  x2\n",
    "4. {x1,x1,x2}:  x1,   {x1,x1,!x2}:  x1,   {!x1,!x1,x2}:  x2\n",
    "5. {x1,x1,x2}:  x2,   {x1,x1,!x2}:  x1,   {!x1,!x1,x2}:  x2\n",
    "6. {x1,x1,x2}:  x2,   {x1,x1,!x2}:  x1,   {!x1,!x1,x2}:  x2\n",
    "\n"
   ],
   "cell_type": "markdown",
   "metadata": {}
  },
  {
   "cell_type": "markdown",
   "metadata": {},
   "source": [
    "## 1(d): 5 pts\n",
    "\n",
    "- Every $\\langle G,\\, k\\rangle \\in\\text{Clique}$, has a $\\text{3-SAT}$ problem ($\\phi$) with $k$-clauses in it. (_i.e._ there exists a maping reduction from $\\text{3-SAT}$ to $\\text{Clique}$: $graph(\\Phi)=\\langle G,\\, 3\\rangle$)\n",
    "- Therefore, if the $graph(\\Phi)=\\langle G,\\, 3\\rangle \\in \\text{Clique}$, the _\"literals\"_ from $\\Phi$ that represent the the vertices in $G$ that are in a $3$-clique, which the P-time solver generates as solutions, constitute a solution to $\\Phi$."
   ]
  },
  {
   "cell_type": "markdown",
   "metadata": {},
   "source": [
    "<hr class=\"double-div\"/>"
   ]
  },
  {
   "cell_type": "markdown",
   "metadata": {},
   "source": [
    "# (3) LT 25%:\n",
    " "
   ]
  },
  {
   "cell_type": "markdown",
   "metadata": {},
   "source": [
    "## 1(a): 5 pts\n",
    "\n",
    "**Solution:** Negligible"
   ]
  },
  {
   "cell_type": "markdown",
   "metadata": {},
   "source": [
    "## 1(b): 5 pts\n",
    "\n",
    "$$ \n",
    "  \\begin{align}\n",
    "  2^{133}\\mu\\text{s} \n",
    "    &=  1.0889 \\times 10^{40} \\mu\\text{s}   \\\\\n",
    "    &=  1.0889 \\times 10^{34} \\text{s}      \\\\\n",
    "    &=  3.0247 \\times 10^{30} \\text{hr}     \\\\\n",
    "    &=  3.4506 \\times 10^{26} \\text{yr}\n",
    "  \\end{align}\n",
    "$$\n",
    "\n",
    "#### _\\* See python output below for more calculations..._"
   ]
  },
  {
   "cell_type": "code",
   "execution_count": 1,
   "metadata": {},
   "outputs": [
    {
     "output_type": "stream",
     "name": "stdout",
     "text": [
      "\n It will take:\n   - 1.0385e+34 μs (1e-6 s)\n   - 1.0385e+28 s\n   - 6.2308e+29 min\n   - 3.7385e+31 hr\n   - 3.2749e+35 yr\n   - 3.2749e+37 centuries (100 yr)\n   - 3.2749e+38 millenia (1e3 yr)\n   - 3.2749e+41 Megayears (1e6 yr)\n   - 3.2749e+44 eons (1e9 yr)\n\n Or in a runnoff time format easier for us to understand:\n   329,293,306,604 eons : 187 MegaYears : 429 millenia : 8 centuries : 30 yrs : 227 days : 7 hs : 17 mins : 20.0000 seconds.\n    \n\n"
     ]
    }
   ],
   "source": [
    "# - declare time conversion constants ----\n",
    "μs_per_s = 10**6\n",
    "s_per_min = 60\n",
    "s_per_hr = 60 * s_per_min\n",
    "s_per_day = 24 * s_per_hr\n",
    "s_per_yr = 365 * s_per_day\n",
    "s_per_century = 100 * s_per_yr\n",
    "s_per_millenium = 10**3 * s_per_yr\n",
    "s_per_Myr = 10**6 * s_per_yr    # this is a Meganumn or \"MegaYear\" i.e. 10^6 years\n",
    "s_per_aeons = 10**9 * s_per_yr\n",
    "\n",
    "# - Do time conversions ----\n",
    "time = 2**113\n",
    "\n",
    "secs = time / μs_per_s\n",
    "seconds = secs\n",
    "\n",
    "aeons = seconds // s_per_aeons\n",
    "seconds %= s_per_aeons\n",
    "\n",
    "Myrs = seconds // s_per_Myr\n",
    "seconds %= s_per_Myr\n",
    "\n",
    "milleniums = seconds // s_per_millenium\n",
    "seconds %= s_per_millenium\n",
    "\n",
    "centurys = seconds // s_per_century\n",
    "seconds %= s_per_century\n",
    "\n",
    "yrs = seconds // s_per_yr\n",
    "seconds %= s_per_yr\n",
    "\n",
    "days = seconds // s_per_day\n",
    "seconds %= s_per_day\n",
    "\n",
    "hrs = seconds // s_per_hr\n",
    "seconds %= s_per_hr\n",
    "\n",
    "mins = seconds // s_per_min\n",
    "seconds %= s_per_min\n",
    "\n",
    "\n",
    "print(f\"\"\"\n",
    " It will take:\n",
    "   - {time:.4e} μs (1e-6 s)\n",
    "   - {secs:.4e} s\n",
    "   - {secs*s_per_min:.4e} min\n",
    "   - {secs*s_per_hr:.4e} hr\n",
    "   - {secs*s_per_yr:.4e} yr\n",
    "   - {secs*s_per_century:.4e} centuries (100 yr)\n",
    "   - {secs*s_per_millenium:.4e} millenia (1e3 yr)\n",
    "   - {secs*s_per_Myr:.4e} Megayears (1e6 yr)\n",
    "   - {secs*s_per_aeons:.4e} eons (1e9 yr)\n",
    "\n",
    " Or in a runnoff time format easier for us to understand:\n",
    "   {aeons:,.0f} eons : {Myrs:,.0f} MegaYears : {milleniums:,.0f} millenia : {centurys:,.0f} centuries : {yrs:,.0f} yrs : {days:,.0f} days : {hrs:,.0f} hs : {mins:,.0f} mins : {seconds:,.4f} seconds.\n",
    "    \n",
    "\"\"\")\n"
   ]
  },
  {
   "cell_type": "markdown",
   "metadata": {},
   "source": [
    "## 1(c): 15 pts\n",
    "\n",
    "1. All logical operators can be represented by expresions consisting of only {$\\neg$, $\\land$, $\\lor$}, therefore any logical situation who's logic statement when writen only in terms of $\\neg$, $\\land$ and $\\lor$, can be aranged to a form in the similitude of $(f_1 \\lor \\neg f_2) \\land (\\neg f_1 \\lor f_2)$, while still being equivilant, is a version of the SAT problem and can therefore be solved, or checked if it has a solution using the methods that you would for any other SAT problem. _(usefullness of this varies as SAT is an NPC problem, and given special relationships in the original situation there might be better and faster ways to solve it)_\n",
    "\n",
    "2. The problem about how many colors it takes to fill in the regions of a $n$-vertex 2D graph/map, ensuring that no adjacent regions are the same color, can be reduced down to a SAT problem.\n",
    "\n",
    "3. The concepts from interesting fact 1, mean that SAT deciders and solvers can be used to check digital circuts to make sure that the logic they impliment acctualy matches the desired logic.\n",
    "\n",
    "4. 2-SAT (SAT problems who's clauses in $\\Phi$ consist of 2 conditionals/variables) can be solved in as fast as linear time, and there exist a handful of p-time solvers and deciders for it.  Therefore, it is really only 3-SAT and greater who's solveability are in the domain of NP-time.\n",
    "\n",
    "5. SAT is _\"self-reducible\"_ meaning that any algorithm that can can decide if a SAT problem ($\\Phi$) is solvable can be used ot find satisfying assignment to the \"variables\" in the SAT problem ($\\Phi$) in question.\n",
    "\n",
    "6. Algorithms for solving the SAT problem are used in automatic theorem proving."
   ]
  },
  {
   "cell_type": "markdown",
   "metadata": {},
   "source": [
    "<hr class=\"double-div\"/>"
   ]
  },
  {
   "cell_type": "markdown",
   "metadata": {},
   "source": [
    "# (4) SV 25%:\n",
    " "
   ]
  },
  {
   "cell_type": "markdown",
   "metadata": {},
   "source": [
    "## Definitions from CH18_Church_Turing.ipynb below"
   ]
  },
  {
   "cell_type": "code",
   "execution_count": 2,
   "metadata": {},
   "outputs": [],
   "source": [
    "##--- BRING NECESSARY DEFINITIONS FROM CH18_Church_Turing below ---\n",
    "Ye = lambda f: (lambda x: x(x))(lambda y: f(lambda v: y(y)(v)))"
   ]
  },
  {
   "cell_type": "markdown",
   "metadata": {},
   "source": [
    "## Definitions of pregcd and gcd, and your tests below"
   ]
  },
  {
   "cell_type": "code",
   "execution_count": 3,
   "metadata": {},
   "outputs": [],
   "source": [
    "pregcd = lambda gcd: lambda x: (lambda y: (y if (x==y) else gcd(x-y)(y) if (x>y) else gcd(x)(y-x)))\n",
    "\n",
    "gcd = Ye(pregcd)"
   ]
  },
  {
   "cell_type": "markdown",
   "metadata": {},
   "source": [
    "## Answers to your questions below"
   ]
  },
  {
   "cell_type": "markdown",
   "metadata": {},
   "source": [
    "## 1(a): 5 pts\n",
    "\n",
    "> ### `pregcd`/$G_p$:\n",
    "> ```python\n",
    "> pregcd = lambda gcd: lambda x: (lambda y: (y if (x==y) else gcd(x-y)(y) if (x>y) else gcd(x)(y-x)))\n",
    "> ```\n",
    "> $$\n",
    "> G_p = \\lambda G.\\left(\\lambda x.\\left(\n",
    ">   \\lambda y. \\left\\{\\begin{array}[cr]\n",
    ">     ((G(x-1))y)   & x>y   \\\\\n",
    ">     \\,y           & x=y   \\\\\n",
    ">     ((Gx)(y-x))   & x<y\n",
    ">   \\end{array}\\right. \\right)  \\right)\n",
    "> $$\n",
    "\n",
    "<!-- -->\n",
    "> ### `gcd`/$G$:\n",
    "> ```python\n",
    "> gcd = Ye(pregcd)\n",
    "> ```\n",
    "> $$\n",
    ">   G = Y_eG_p\n",
    "> $$\n"
   ]
  },
  {
   "cell_type": "markdown",
   "metadata": {},
   "source": [
    "## 1(b): 5 pts"
   ]
  },
  {
   "cell_type": "code",
   "execution_count": 4,
   "metadata": {},
   "outputs": [
    {
     "output_type": "stream",
     "name": "stdout",
     "text": [
      "\n    gcd(450)(6000) : 150\n    gcd(450)(6001) :   1\n    gcd(450)(6002) :   2\n    gcd(450)(6003) :   9\n    gcd(453)(6003) :   3\n\n"
     ]
    }
   ],
   "source": [
    "print(f\"\"\"\n",
    "    gcd(450)(6000) : {gcd(450)(6000):>3}\n",
    "    gcd(450)(6001) : {gcd(450)(6001):>3}\n",
    "    gcd(450)(6002) : {gcd(450)(6002):>3}\n",
    "    gcd(450)(6003) : {gcd(450)(6003):>3}\n",
    "    gcd(453)(6003) : {gcd(453)(6003):>3}\n",
    "\"\"\")"
   ]
  },
  {
   "cell_type": "markdown",
   "metadata": {},
   "source": [
    "## 1(c): 15 pts\n",
    "\n",
    "> ### Show that $Y_e$/`Ye` is a Fixed-Point combinator:\n",
    "> $$\n",
    "> \\begin{align}\n",
    ">   Y_eG_p  &=  \\left(\n",
    ">             \\lambda f.\\left(\n",
    ">               \\left(\\lambda x. (xx) \\right)\n",
    ">               \\left[ \\lambda y. f\\left( \\lambda v. \\left((yy)v \\right) \\right) \\right] \n",
    ">             \\right) \n",
    ">           \\right) G_p                                                                     \\\\\n",
    ">   &\\downarrow \\beta                                                                       \\\\\n",
    ">           &=  \\left(\\lambda x. (xx) \\right)\n",
    ">             \\left[ \\lambda y. G_p\\left( \\lambda v. \\left((yy)v \\right) \\right) \\right]    \\\\\n",
    ">   &\\downarrow \\eta                                                                        \\\\\n",
    ">           &=  \\left(\\lambda x. (xx) \\right)\n",
    ">             \\left[ \\lambda y. G_p[yy] \\right]                                             \\\\\n",
    ">   &\\downarrow \\beta                                                                       \\\\\n",
    ">           &=  \\left( \\lambda y. G_p[yy] \\right)\n",
    ">           \\left[ \\lambda y. G_p[yy] \\right]                                               \\\\\n",
    ">   &\\downarrow \\beta                                                                       \\\\\n",
    ">           &=  G_p \\left(  \n",
    ">             \\left( \\lambda y. G_p[yy] \\right)\n",
    ">             \\left[ \\lambda y. G_p[yy] \\right]\n",
    ">           \\right)                                                                         \\\\\n",
    ">   &\\Downarrow                                                                             \\\\\n",
    ">   Y_eG_p  &= G_p(Y_eG_p)\n",
    "> \\end{align}\n",
    "> $$\n",
    "> ```python\n",
    ">  1 ║  Ye(pregcd)  ==  (lambda f: (lambda x: x(x))(lambda y: f(lambda v: y(y)(v))))(pregcd)\n",
    ">  2 ║            # beta reduction\n",
    ">  3 ║             ==  (lambda x: x(x))(lambda y: pregcd(lambda v: y(y)(v))) \n",
    ">  4 ║            # eta reduction\n",
    ">  5 ║             ==  (lambda x:  x(x))(lambda y: pregcd(y(y))) \n",
    ">  6 ║            # beta reduction\n",
    ">  7 ║             ==  (lambda y: pregcd(y(y)))(lambda y: pregcd(y(y))) \n",
    ">  8 ║            # beta reduction\n",
    ">  9 ║             ==  pregcd((lambda y: pregcd(y(y)))(lambda y: pregcd(y(y)))) \n",
    "> 10 ║            # replace with equivilant expression from line 7\n",
    "> 11 ║  Ye(pregcd)  ==  pregcd(Ye(pregcd))\n",
    "> ```\n",
    "\n",
    "\n",
    "<!--\n",
    ">   &\\downarrow \\beta   \\\\\n",
    ">       &=  \\left( \\lambda y. \\left(G_p\\left( \\lambda v. \\left((yy)v \\right) \\right)\\right) \\right)\n",
    ">             \\left[ \\lambda y. G_p\\left( \\lambda v. \\left((yy)v \\right) \\right) \\right]    \\\\\n",
    ">   &\\downarrow \\alpha  \\\\\n",
    ">       &=  \\left( \\lambda x. \\left(G_p\\left( \\lambda v. \\left((xx)v \\right) \\right)\\right) \\right)\n",
    ">             \\left[ \\lambda y. G_p\\left( \\lambda v. \\left((yy)v \\right) \\right) \\right]    \\\\\n",
    ">   &\\downarrow \\beta   \\\\\n",
    ">       &=  G_p\\left[ \\lambda v. \\left(\\left(\n",
    ">               \\left(\\lambda y. G_p\\left( \\lambda v. \\left((yy)v \\right) \\right)\\right)\n",
    ">               \\left[ \\lambda y. G_p\\left( \\lambda v. \\left((yy)v \\right) \\right) \\right]\\right)\n",
    ">           v \\right) \\right)   \\\\\n",
    ">   &\\downarrow \\alpha  \\\\\n",
    ">       &=  G_p\\left[ \\lambda v. \\left(\\left(\n",
    ">               \\left(\\lambda x. G_p\\left( \\lambda v. \\left((xx)v \\right) \\right)\\right)\n",
    ">               \\left[ \\lambda y. G_p\\left( \\lambda v. \\left((yy)v \\right) \\right) \\right]\\right)\n",
    ">           v \\right) \\right]   \\\\\n",
    ">   &\\downarrow \\eta    \\\\\n",
    ">       &=  G_p\\left[ \\lambda v. \\left(\\left(\n",
    ">               \\left(\\lambda x. G_p\\left( \\lambda v. \\left((xx)v \\right) \\right)\\right)\n",
    ">               \\left[ \\lambda y. G_p\\left( \\lambda v. \\left((yy)v \\right) \\right) \\right]\\right)\n",
    ">           v \\right) \\right]   \\\\\n",
    "  -->\n",
    "\n",
    "<!--\n",
    ">   &\\downarrow \\eta                                                                        \\\\\n",
    ">       &=  \\left(\\lambda x. (xx) \\right) \\left[\\lambda y. G_p(yy) \\right]                  \\\\\n",
    ">   &\\downarrow \\beta                                                                       \\\\\n",
    ">       &=  \\left(\\lambda x. (xx) \\right) \\left[\\lambda y. G_p(yy) \\right]                  \\\\\n",
    "  -->"
   ]
  },
  {
   "cell_type": "markdown",
   "metadata": {},
   "source": [
    "<hr class=\"double-div\"/>"
   ]
  },
  {
   "cell_type": "markdown",
   "metadata": {},
   "source": [
    "# END\n"
   ]
  }
 ],
 "metadata": {
  "kernelspec": {
   "display_name": "Python 3",
   "language": "python",
   "name": "python3"
  },
  "language_info": {
   "codemirror_mode": {
    "name": "ipython",
    "version": 3
   },
   "file_extension": ".py",
   "mimetype": "text/x-python",
   "name": "python",
   "nbconvert_exporter": "python",
   "pygments_lexer": "ipython3",
   "version": "3.8.3-final"
  },
  "toc": {
   "colors": {
    "hover_highlight": "#DAA520",
    "running_highlight": "#FF0000",
    "selected_highlight": "#FFD700"
   },
   "moveMenuLeft": true,
   "nav_menu": {
    "height": "121px",
    "width": "252px"
   },
   "navigate_menu": true,
   "number_sections": true,
   "sideBar": true,
   "threshold": 4,
   "toc_cell": false,
   "toc_section_display": "block",
   "toc_window_display": false,
   "widenNotebook": false
  },
  "widgets": {
   "state": {
    "430c92ee02b34ec1912bf03c8de1e6dc": {
     "views": [
      {
       "cell_index": 20
      }
     ]
    }
   },
   "version": "1.2.0"
  }
 },
 "nbformat": 4,
 "nbformat_minor": 2
}