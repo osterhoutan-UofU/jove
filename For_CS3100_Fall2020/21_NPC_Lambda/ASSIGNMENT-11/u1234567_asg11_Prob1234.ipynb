{
 "cells": [
  {
   "cell_type": "markdown",
   "metadata": {},
   "source": [
    "<style>\n",
    "h1 {\n",
    "    border-bottom: 2px solid;\n",
    "}\n",
    "h2 {\n",
    "    border-bottom: 1px solid;\n",
    "}\n",
    "/* hr {\n",
    "    border-top: 2px solid;\n",
    "    border-bottom: none;\n",
    "} */\n",
    ".student-info {\n",
    "    text-align: right;\n",
    "    border-bottom: none;\n",
    "}\n",
    "hr.double-div {\n",
    "    border-top: 2px solid;\n",
    "    border-bottom: 2px solid;\n",
    "    border-left: none;\n",
    "    border-right: none;\n",
    "    height: 10pt;\n",
    "    /* border-radius: 1px; */\n",
    "}\n",
    "blockquote {\n",
    "    border-left: 2px solid;\n",
    "    /* background-color: #00000488; */\n",
    "    /* filter: brightness(80%); */\n",
    "    margin-left: 2em;\n",
    "    margin-right: 2em;\n",
    "    padding: 1px 2px 1px 1em;\n",
    "}\n",
    "pre {\n",
    "    border: 1px solid #88888888;\n",
    "    margin-left: 1em;\n",
    "    margin-right: 1em;\n",
    "    padding: 0.5em;\n",
    "    /*padding: 8pt 1em 8pt 1em;*/\n",
    "}\n",
    "blockquote > pre {\n",
    "    margin-left: 0.5em;\n",
    "}\n",
    "img {\n",
    "    display: block;\n",
    "    margin-left: auto;\n",
    "    margin-right: auto;\n",
    "    max-height: 4in;\n",
    "}\n",
    "</style>\n",
    "\n",
    "<h2 class=\"student-info\">\n",
    "    Andrew Osterhout <br/>\n",
    "    (u1317172)\n",
    "</h2>\n",
    "\n",
    "# Asg-11 \n",
    "### Focuses on questions graded by the mentioned TAs\n",
    " "
   ]
  },
  {
   "cell_type": "markdown",
   "metadata": {},
   "source": [
    "<hr class=\"double-div\"/>"
   ]
  },
  {
   "cell_type": "markdown",
   "metadata": {},
   "source": [
    "# (1) AR 25%:\n",
    "```\n",
    "#1 Var_Order : a3, a2, a1, a0, b3, b2, b1, b0\n",
    "#2 Var_Order : something else\n",
    "\n",
    "lt1 = (~a3 & b3) | (~a2 & b2) | (~a1 & b1) | (~a0 & b0)\n",
    "gt1 = (a3 & ~b3) | (a2 & ~b2) | (a1 & ~b1) | (a0 & ~b0)\n",
    "\n",
    "lt2 = ~a3 & b3 | (a3<=>b3) & (~a2 & b2 | ((a2<=>b2) & (~a1 & b1 | (a1<=>b1) & ~a0 & b0)))\n",
    "gt2 = a3 & ~b3 | (a3<=>b3) & (a2 & ~b2 | ((a2<=>b2) & (a1 & ~b1 | (a1<=>b1) & a0 & ~b0)))\n",
    "\n",
    "lt3 = (~a3 & b3 | (a3<=>b3)) & (~a2 & b2 | a2<=>b2) & (~a1 & b1 | a1<=>b1) & (~a0 & b0)\n",
    "gt3 = (a3 & ~b3 | (a3<=>b3)) & (a2 & ~b2 | a2<=>b2) & (a1 & ~b1 | a1<=>b1) & (a0 & ~b0)\n",
    "\n",
    "eq = (a3 <=> b3) & (a2 <=> b2) & (a1 <=> b1) & (a0 <=> b0)\n",
    "\n",
    "#3 Main_Exp  : lt1 & gt1\n",
    "#4 Main_Exp  : lt2 & gt2#5 Main_Exp  : (lt1 & ~gt1) <=> lt1\n",
    "#6 Main_Exp  : (lt2 & ~gt2) <=> lt2\n",
    "```\n",
    " "
   ]
  },
  {
   "cell_type": "markdown",
   "metadata": {},
   "source": [
    "## 1(a): 5 pts\n",
    "\n",
    "> ### `#2`\n",
    "> _As it is \"`somethign else`\" I sudjest using the following:_\n",
    "> ```\n",
    ">   Var_Order : a3, b3, a2, b2, a1, b1, a0, b0\n",
    "> ```\n",
    "> - To make sure the most significant bits are processed first\n",
    "> - Since if a more significant bit is true/false \n",
    ">    then the processing is already done (for `lt` & `gt` anyway). "
   ]
  },
  {
   "cell_type": "markdown",
   "metadata": {},
   "source": [
    "## 1(b): 5 pts\n",
    "\n",
    "> ### `#3 Main_Exp : lt1 & gt1`\n",
    "> ### $$ lt_1 \\land gt_1 $$\n",
    "> ![BDD of `lt1 & gt1` (`#3`)](./p1-b-3_BDD.png)\n",
    "> #### **No**\n",
    "> Because `lt1 & gt1` should always be false,\n",
    ">  since by definition $<$ and $>$ should never be true at the same time.\n",
    "> Therefore, there must be some number of logic errors in `lt1`, `gt1` or both.\n",
    "\n",
    "<!-- -->\n",
    "<br/>\n",
    "\n",
    "> ### `#4 Main_Exp : lt2 & gt2`\n",
    "> ### $$ lt_2 \\land gt_2 $$\n",
    "> <img src=\"./p1-b-4_BDD.png\" alt=\"BDD of <code>lt2 & gt2</code> (<code>#4</code>)\" style=\"width: 4cm;\" />\n",
    "> \n",
    "> #### **Yes**\n",
    "> Because `lt2 & gt2` should always be false,\n",
    ">  since by definition $<$ and $>$ should never be true at the same time."
   ]
  },
  {
   "cell_type": "markdown",
   "metadata": {},
   "source": [
    "## 1(c): 5 pts\n",
    "\n",
    "> ### `#5 Main_Exp : (lt1 & ~gt1) <=> lt1`\n",
    "> ### $$ (lt_1 \\land \\neg gt_1) \\leftrightarrow lt_1 $$ \n",
    "> ![BDD of `(lt1 & ~gt1) <=> lt1` (`#5`)](./p1-c-5_BDD.png)\n",
    "> \n",
    "> #### **No**\n",
    "> Because `(lt1 & ~gt1) <=> lt1` should always be false,\n",
    ">  since by definition $<$ and $>$ should never be true at the same time.\n",
    "> Therefore, there must be some number of logic errors in `lt1`, `gt1` or both.\n",
    "\n",
    "<!-- -->\n",
    "<br/>\n",
    "\n",
    "> ### `#6 Main_Exp : (lt2 & ~gt2) <=> lt2`\n",
    "> ### $$ (lt_2 \\land \\neg gt_2) \\leftrightarrow lt_2 $$ \n",
    "> <img src=\"./p1-c-6_BDD.png\" alt=\"BDD of <code>(lt2 & ~gt2) <=> lt2</code> (<code>#6</code>)\" style=\"width: 4cm;\" />\n",
    "> \n",
    "> #### **Yes**\n",
    "> Because `(lt2 & ~gt2) <=> lt2` should always be true,\n",
    ">  since by definition $<$ and $>$ should never be true at the same time.\n",
    "\n"
   ]
  },
  {
   "cell_type": "markdown",
   "metadata": {},
   "source": [
    "## 1(d): 5 pts\n",
    "\n",
    "> - The design does not account for when bits are the same.\n",
    ">   - Because the segments that contain expressions like `~a1 & b1`,\n",
    ">      will be false whenever they are the same.\n",
    "> - Meaning that when `a#` is `0` or `1` for `lt1` & `gt1` respectivlty,\n",
    ">    then according to the minimal BDD `b0` is irrelivant to `lt1` & `gt1`\n",
    ">    and you get a \"false positive\" \n",
    ">    (_i.e._ `lt1` & `gt1` when conditions are as stated previously evaluate to \n",
    ">     `true` when in fact `eq` is true and therefore `lt` & `gt` should both be `false`).\n",
    ">   - Because and & or operators when in min BDD works like the \"short-circut\"\n",
    ">      logical or operator used in programing, \n",
    ">      where when a statement is false/true for (and/or respectivly)\n",
    ">      then there is no need to calculate the other side.\n",
    "> - This makes it so that in cases where bits being compared are the same, \n",
    ">    but the bits after are such that `lt` or `gt` are true \n",
    "> - Illistrated by `0101<0101` & `1010>1010` when considered by `lt1` and `gt1`.\n",
    "\n",
    "<!--\n",
    "Additionaly, it's less than optimaly efficient as when ever an `a#` bit is `1`/`0` \n",
    " & a `b#` bit is `0`/`1` and all more significant bits are the same, \n",
    " then we know for certain that `lt`/`gt` respectivly are `true`,\n",
    " and we don't need to evaluate any less significant bits.\n",
    "   -->\n"
   ]
  },
  {
   "cell_type": "markdown",
   "metadata": {},
   "source": [
    "## 1(e): 5 pts\n",
    "\n",
    "> - All of the bit string pairs that cause `lt1` & `gt1` to result in a \"false positive\",\n",
    ">    occur when `eq` is ture.\n",
    "> - Therefore, we can say that the true expressions for `lt` & `gt` are \n",
    ">    `lt1 <=> ~eq` & `gt1 <=> ~eq` respectivly.\n",
    ">      $$ \n",
    ">        lt := lt_1 \\leftrightarrow \\neg eq \n",
    ">          \\;\\;\\;\\;\\land\\;\\;\\;\\; \n",
    ">        gt := gt_1 \\leftrightarrow \\neg eq \n",
    ">      $$\n",
    ">   - Because this way we eliminate all instances where the two bit strings should be equal,\n",
    ">      which as mentioned before are the casses where `lt1` & `gt1` are not evaluating properly.\n",
    ">   - Not coincidently, when you substitute in the logic statemnnts for `lt1`, `gt1` & `eq` \n",
    ">      then simplify you can get the logic statements for `lt2` & `gt2` (respectivly).\n"
   ]
  },
  {
   "cell_type": "markdown",
   "metadata": {},
   "source": [
    "<hr class=\"double-div\"/>"
   ]
  },
  {
   "cell_type": "markdown",
   "metadata": {},
   "source": [
    "# (2) XL 25%:\n",
    " "
   ]
  },
  {
   "cell_type": "markdown",
   "metadata": {},
   "source": [
    "## 1(a): 5 pts"
   ]
  },
  {
   "cell_type": "markdown",
   "metadata": {},
   "source": [
    "## 1(b): 5 pts\n",
    "\n",
    "Variable Assignment\n",
    "\n",
    "(Edit the lines below)\n",
    "\n",
    "Var = Value (True or False)\n",
    "\n",
    "Var = Value (True or False)\n",
    "\n",
    "..."
   ]
  },
  {
   "cell_type": "markdown",
   "metadata": {},
   "source": [
    "## 1(c): 10 pts\n",
    "\n",
    "**\"This many\" Cliques exist (edit This Many)**\n",
    "\n",
    "The cliques are: (edit the literals below)\n",
    "\n",
    "**Clique-1 : {x1,x1,x2}:  literal1,   {x1,x1,!x2}:  literal2,   {!x1,!x1,x2}: literal3**\n",
    "\n",
    "**Clique-2 : ...**\n",
    "\n",
    "*...*\n",
    "\n"
   ]
  },
  {
   "cell_type": "markdown",
   "metadata": {},
   "source": [
    "## 1(d): 5 pts\n",
    "\n",
    "* ...\n",
    "* ..."
   ]
  },
  {
   "cell_type": "markdown",
   "metadata": {},
   "source": [
    "<hr class=\"double-div\"/>"
   ]
  },
  {
   "cell_type": "markdown",
   "metadata": {},
   "source": [
    "# (3) LT 25%:\n",
    " "
   ]
  },
  {
   "cell_type": "markdown",
   "metadata": {},
   "source": [
    "## 1(a): 5 pts"
   ]
  },
  {
   "cell_type": "markdown",
   "metadata": {},
   "source": [
    "## 1(b): 5 pts"
   ]
  },
  {
   "cell_type": "markdown",
   "metadata": {},
   "source": [
    "## 1(c): 15 pts"
   ]
  },
  {
   "cell_type": "markdown",
   "metadata": {},
   "source": [
    "<hr class=\"double-div\"/>"
   ]
  },
  {
   "cell_type": "code",
   "execution_count": null,
   "metadata": {},
   "outputs": [],
   "source": []
  },
  {
   "cell_type": "markdown",
   "metadata": {},
   "source": [
    "# (4) SV 25%:\n",
    " "
   ]
  },
  {
   "cell_type": "markdown",
   "metadata": {},
   "source": [
    "## Definitions from CH18_Church_Turing.ipynb below"
   ]
  },
  {
   "cell_type": "code",
   "execution_count": 1,
   "metadata": {},
   "outputs": [],
   "source": [
    "##--- BRING NECESSARY DEFINITIONS FROM CH18_Church_Turing below ---"
   ]
  },
  {
   "cell_type": "markdown",
   "metadata": {},
   "source": [
    "## Definitions of pregcd and gcd, and your tests below"
   ]
  },
  {
   "cell_type": "code",
   "execution_count": null,
   "metadata": {},
   "outputs": [],
   "source": []
  },
  {
   "cell_type": "markdown",
   "metadata": {},
   "source": [
    "## Answers to your questions below"
   ]
  },
  {
   "cell_type": "markdown",
   "metadata": {},
   "source": [
    "## 1(a): 5 pts"
   ]
  },
  {
   "cell_type": "markdown",
   "metadata": {},
   "source": [
    "## 1(b): 5 pts"
   ]
  },
  {
   "cell_type": "markdown",
   "metadata": {},
   "source": [
    "## 1(c): 15 pts"
   ]
  },
  {
   "cell_type": "markdown",
   "metadata": {},
   "source": [
    "<hr class=\"double-div\"/>"
   ]
  },
  {
   "cell_type": "markdown",
   "metadata": {},
   "source": [
    "# END\n"
   ]
  }
 ],
 "metadata": {
  "kernelspec": {
   "display_name": "Python 3",
   "language": "python",
   "name": "python3"
  },
  "language_info": {
   "codemirror_mode": {
    "name": "ipython",
    "version": 3
   },
   "file_extension": ".py",
   "mimetype": "text/x-python",
   "name": "python",
   "nbconvert_exporter": "python",
   "pygments_lexer": "ipython3",
   "version": "3.7.3"
  },
  "toc": {
   "colors": {
    "hover_highlight": "#DAA520",
    "running_highlight": "#FF0000",
    "selected_highlight": "#FFD700"
   },
   "moveMenuLeft": true,
   "nav_menu": {
    "height": "121px",
    "width": "252px"
   },
   "navigate_menu": true,
   "number_sections": true,
   "sideBar": true,
   "threshold": 4,
   "toc_cell": false,
   "toc_section_display": "block",
   "toc_window_display": false,
   "widenNotebook": false
  },
  "widgets": {
   "state": {
    "430c92ee02b34ec1912bf03c8de1e6dc": {
     "views": [
      {
       "cell_index": 20
      }
     ]
    }
   },
   "version": "1.2.0"
  }
 },
 "nbformat": 4,
 "nbformat_minor": 2
}