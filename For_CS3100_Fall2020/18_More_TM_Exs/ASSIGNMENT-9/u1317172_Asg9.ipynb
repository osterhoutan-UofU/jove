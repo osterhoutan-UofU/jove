{
 "cells": [
  {
   "cell_type": "markdown",
   "metadata": {
    "run_control": {
     "frozen": false,
     "read_only": false
    }
   },
   "source": [
    "<style>\n",
    "h1 {\n",
    "    border-bottom: 2px solid;\n",
    "}\n",
    "h2 {\n",
    "    border-bottom: 1px solid;\n",
    "}\n",
    "/* hr {\n",
    "    border-top: 2px solid;\n",
    "    border-bottom: none;\n",
    "} */\n",
    ".student-info {\n",
    "    text-align: right;\n",
    "    border-bottom: none;\n",
    "}\n",
    "hr.double-div {\n",
    "    border-top: 2px solid;\n",
    "    border-bottom: 2px solid;\n",
    "    border-left: none;\n",
    "    border-right: none;\n",
    "    height: 10pt;\n",
    "    /* border-radius: 1px; */\n",
    "}\n",
    "blockquote {\n",
    "    border-left: 2px solid;\n",
    "    /* background-color: #00000488; */\n",
    "    /* filter: brightness(80%); */\n",
    "    margin-left: 2em;\n",
    "    margin-right: 2em;\n",
    "    padding: 1px 2px 1px 1em;\n",
    "}\n",
    "pre {\n",
    "    border: 1px solid #88888888;\n",
    "    margin-left: 1em;\n",
    "    margin-right: 1em;\n",
    "    padding: 0.5em;\n",
    "    /*padding: 8pt 1em 8pt 1em;*/\n",
    "}\n",
    "blockquote > pre {\n",
    "    margin-left: 0.5em;\n",
    "}\n",
    "img {\n",
    "    display: block;\n",
    "    margin-left: auto;\n",
    "    margin-right: auto;\n",
    "}\n",
    "</style>\n",
    "\n",
    "<h2 class=\"student-info\">\n",
    "    Andrew Osterhout <br/>\n",
    "    (u1317172)\n",
    "</h2>\n",
    "\n",
    "# Asg-9 template"
   ]
  },
  {
   "cell_type": "code",
   "execution_count": 1,
   "metadata": {
    "run_control": {
     "frozen": false,
     "read_only": false
    }
   },
   "outputs": [
    {
     "output_type": "stream",
     "name": "stdout",
     "text": [
      "You may use any of these help commands:\nhelp(step_tm)\nhelp(run_tm)\nhelp(explore_tm)\n\nYou may use any of these help commands:\nhelp(md2mc)\n.. and if you want to dig more, then ..\nhelp(default_line_attr)\nhelp(length_ok_input_items)\nhelp(union_line_attr_list_fld)\nhelp(extend_rsltdict)\nhelp(form_delta)\nhelp(get_machine_components)\n\nYou may use any of these help commands:\nhelp(ResetStNum)\nhelp(NxtStateStr)\n\n \"help(JoveEditor)\" gives you info on the generic animation panel that animates all machines. \n"
     ]
    }
   ],
   "source": [
    "#~~~~~~~~~~~~~~~~~~~~~~~~~~~~~~~~~~~~~~~~~~~~~~~~~~~~~~~\n",
    "import sys\n",
    "\n",
    "# -- Detect if in Own Install or in Colab\n",
    "try:\n",
    "    import google.colab\n",
    "    OWN_INSTALL = False\n",
    "except:\n",
    "    OWN_INSTALL = True\n",
    "    \n",
    "if OWN_INSTALL:\n",
    "    \n",
    "  #---- Leave these definitions ON if running on laptop\n",
    "  #---- Else turn OFF by putting them between ''' ... '''\n",
    "\n",
    "  sys.path[0:0] = ['../../../../..',  '../../../../../3rdparty',  \n",
    "                   '../../../..',  '../../../../3rdparty',  \n",
    "                   '../../..',     '../../../3rdparty', \n",
    "                   '../..',        '../../3rdparty',\n",
    "                   '..',           '../3rdparty' ]\n",
    "\n",
    "else: # In colab\n",
    "  ! if [ ! -d Jove ]; then git clone https://github.com/ganeshutah/Jove Jove; fi\n",
    "  sys.path.append('./Jove')\n",
    "  sys.path.append('./Jove/jove')\n",
    "\n",
    "# -- common imports --\n",
    "from jove.Def_TM     import *\n",
    "from jove.Def_md2mc  import *\n",
    "from jove.DotBashers import *\n",
    "from jove.JoveEditor import *\n",
    "from jove.Def_PDA    import *\n",
    "from jove.AnimateTM import * #-- usage: AnimateTM(whas101DTM, FuseEdges=True)\n",
    "#~~~~~~~~~~~~~~~~~~~~~~~~~~~~~~~~~~~~~~~~~~~~~~~~~~~~~~~"
   ]
  },
  {
   "cell_type": "markdown",
   "metadata": {},
   "source": [
    "# Problem 6, Page 159, the \"OR\" case.\n",
    "## Test your CFG below for \n",
    "\n",
    "$ \\{ a^i c^k b^j d^l \\;:\\; (i==j)\\; OR\\; (k==l)\\}$\n",
    "\n",
    "## Note that for the CFG that is to be simulated using Jove's PDA, the nonterminals must be only a single letter (i.e. if you used a nonterminals \"As\" for one or more a, and you pushed As on the stack, it will be interpreted as \"A\" followed by \"s\")."
   ]
  },
  {
   "cell_type": "code",
   "execution_count": 2,
   "metadata": {},
   "outputs": [],
   "source": [
    "# Type the CFG in the comments of the PDA\n",
    "# Then convert to PDA and run the tests below\n",
    "\n",
    "pda_acbd = md2mc(\n",
    "'''\n",
    "PDA\n",
    "\n",
    "!!---Initially I'll write using multi-letter nonterminals...\n",
    "!!   Then I'll turn them into single-letter nonterminals.\n",
    "!!\n",
    "!! S        ->  i_EQ_j | k_EQ_l | ε\n",
    "!! i_EQ_j   ->  a i_EQ_j b D | C\n",
    "!! k_EQ_l   ->  A c k_EQ_l D | B \n",
    "!! A        ->  a A | ε\n",
    "!! B        ->  b B | ε\n",
    "!! C        ->  c C | ε\n",
    "!! D        ->  d D | ε\n",
    "\n",
    "\n",
    "!!---Now turning into single-letter non-terminals\n",
    "!!---To avoid the dual-use of \"S\", the second use is \"Z\"\n",
    "!!\n",
    "!! S    ->  J | K | ε\n",
    "!! J    ->  a J b D | C\n",
    "!! K    ->  A c K D | B \n",
    "!! A    ->  a A | ε\n",
    "!! B    ->  b B | ε\n",
    "!! C    ->  c C | ε\n",
    "!! D    ->  d D | ε\n",
    "\n",
    "\n",
    "!!=== PDA below ======================================\n",
    "\n",
    "!!-- Initial State & Setup -------------\n",
    "IF  : '','' ; S     -> M\n",
    "\n",
    "\n",
    "!!-- Set up Paths for Grammers ---------\n",
    "!!- S / \"starting\" grammar -\n",
    "M   : '',S  ; J     -> M\n",
    "M   : '',S  ; K     -> M\n",
    "M   : '',S  ; ''    -> M\n",
    "\n",
    "!!- J / i_EQ_j grammar -----\n",
    "M   : '',J  ; aJbD  -> M\n",
    "M   : '',J  ; C     -> M\n",
    "\n",
    "!!- K / k_EQ_l grammar -----\n",
    "M   : '',K  ; AcKd  -> M\n",
    "M   : '',K  ; B     -> M\n",
    "\n",
    "!!- A gramer ---------------\n",
    "M   : '',A  ; aA    -> M\n",
    "M   : '',A  ; ''    -> M\n",
    "\n",
    "!!- B gramer ---------------\n",
    "M   : '',B  ; bB    -> M\n",
    "M   : '',B  ; ''    -> M\n",
    "\n",
    "!!- C gramer ---------------\n",
    "M   : '',C  ; cC    -> M\n",
    "M   : '',C  ; ''    -> M\n",
    "\n",
    "!!- D gramer ---------------\n",
    "M   : '',D  ; dD    -> M\n",
    "M   : '',D  ; ''    -> M\n",
    "\n",
    "\n",
    "!!-- Setup paths for string processing --\n",
    "M   : a,a   ; ''    -> M\n",
    "M   : b,b   ; ''    -> M\n",
    "M   : c,c   ; ''    -> M\n",
    "M   : d,d   ; ''    -> M\n",
    "\n",
    "\n",
    "!!-- Final Acceptance Condition ---------\n",
    "M   : '',#  ; #     -> F\n",
    "\n",
    "''')"
   ]
  },
  {
   "cell_type": "code",
   "execution_count": 3,
   "metadata": {},
   "outputs": [
    {
     "output_type": "execute_result",
     "data": {
      "text/plain": [
       "<graphviz.dot.Digraph at 0x20b71a8b2e0>"
      ],
      "image/svg+xml": "<?xml version=\"1.0\" encoding=\"UTF-8\" standalone=\"no\"?>\r\n<!DOCTYPE svg PUBLIC \"-//W3C//DTD SVG 1.1//EN\"\r\n \"http://www.w3.org/Graphics/SVG/1.1/DTD/svg11.dtd\">\r\n<!-- Generated by graphviz version 2.38.0 (20140413.2041)\r\n -->\r\n<!-- Title: %3 Pages: 1 -->\r\n<svg width=\"626pt\" height=\"353pt\"\r\n viewBox=\"0.00 0.00 625.70 352.70\" xmlns=\"http://www.w3.org/2000/svg\" xmlns:xlink=\"http://www.w3.org/1999/xlink\">\r\n<g id=\"graph0\" class=\"graph\" transform=\"scale(1 1) rotate(0) translate(4 348.697)\">\r\n<title>%3</title>\r\n<polygon fill=\"white\" stroke=\"none\" points=\"-4,4 -4,-348.697 621.697,-348.697 621.697,4 -4,4\"/>\r\n<!-- EMPTY -->\r\n<g id=\"node1\" class=\"node\"><title>EMPTY</title>\r\n</g>\r\n<!-- IF -->\r\n<g id=\"node4\" class=\"node\"><title>IF</title>\r\n<ellipse fill=\"none\" stroke=\"black\" cx=\"113.848\" cy=\"-22.8483\" rx=\"18.724\" ry=\"18.724\"/>\r\n<ellipse fill=\"none\" stroke=\"black\" cx=\"113.848\" cy=\"-22.8483\" rx=\"22.6977\" ry=\"22.6977\"/>\r\n<text text-anchor=\"middle\" x=\"113.848\" y=\"-19.1483\" font-family=\"Times New Roman,serif\" font-size=\"14.00\">IF</text>\r\n</g>\r\n<!-- EMPTY&#45;&gt;IF -->\r\n<g id=\"edge1\" class=\"edge\"><title>EMPTY&#45;&gt;IF</title>\r\n<path fill=\"none\" stroke=\"black\" d=\"M54.3814,-22.8483C62.6819,-22.8483 71.9432,-22.8483 80.6031,-22.8483\"/>\r\n<polygon fill=\"black\" stroke=\"black\" points=\"80.7631,-26.3484 90.7631,-22.8483 80.7631,-19.3484 80.7631,-26.3484\"/>\r\n</g>\r\n<!-- M -->\r\n<g id=\"node2\" class=\"node\"><title>M</title>\r\n<ellipse fill=\"none\" stroke=\"black\" cx=\"355.197\" cy=\"-22.8483\" rx=\"18.6979\" ry=\"18.6979\"/>\r\n<text text-anchor=\"middle\" x=\"355.197\" y=\"-19.1483\" font-family=\"Times New Roman,serif\" font-size=\"14.00\">M</text>\r\n</g>\r\n<!-- M&#45;&gt;M -->\r\n<g id=\"edge3\" class=\"edge\"><title>M&#45;&gt;M</title>\r\n<path fill=\"none\" stroke=\"black\" d=\"M337.399,-29.3649C311.295,-42.2081 317.228,-59.6967 355.197,-59.6967 388.123,-59.6967 396.957,-46.545 381.7,-34.6761\"/>\r\n<polygon fill=\"black\" stroke=\"black\" points=\"383.354,-31.5854 372.995,-29.3649 379.708,-37.561 383.354,-31.5854\"/>\r\n<text text-anchor=\"middle\" x=\"355.197\" y=\"-333.497\" font-family=\"Times New Roman,serif\" font-size=\"14.00\">&#39;&#39;, D ; dD </text>\r\n<text text-anchor=\"middle\" x=\"355.197\" y=\"-318.497\" font-family=\"Times New Roman,serif\" font-size=\"14.00\"> &#39;&#39;, A ; &#39;&#39; </text>\r\n<text text-anchor=\"middle\" x=\"355.197\" y=\"-303.497\" font-family=\"Times New Roman,serif\" font-size=\"14.00\"> &#39;&#39;, S ; &#39;&#39; </text>\r\n<text text-anchor=\"middle\" x=\"355.197\" y=\"-288.497\" font-family=\"Times New Roman,serif\" font-size=\"14.00\"> d, d ; &#39;&#39; </text>\r\n<text text-anchor=\"middle\" x=\"355.197\" y=\"-273.497\" font-family=\"Times New Roman,serif\" font-size=\"14.00\"> &#39;&#39;, J ; aJbD </text>\r\n<text text-anchor=\"middle\" x=\"355.197\" y=\"-258.497\" font-family=\"Times New Roman,serif\" font-size=\"14.00\"> a, a ; &#39;&#39; </text>\r\n<text text-anchor=\"middle\" x=\"355.197\" y=\"-243.497\" font-family=\"Times New Roman,serif\" font-size=\"14.00\"> c, c ; &#39;&#39; </text>\r\n<text text-anchor=\"middle\" x=\"355.197\" y=\"-228.497\" font-family=\"Times New Roman,serif\" font-size=\"14.00\"> &#39;&#39;, A ; aA </text>\r\n<text text-anchor=\"middle\" x=\"355.197\" y=\"-213.497\" font-family=\"Times New Roman,serif\" font-size=\"14.00\"> &#39;&#39;, K ; B </text>\r\n<text text-anchor=\"middle\" x=\"355.197\" y=\"-198.497\" font-family=\"Times New Roman,serif\" font-size=\"14.00\"> &#39;&#39;, K ; AcKd </text>\r\n<text text-anchor=\"middle\" x=\"355.197\" y=\"-183.497\" font-family=\"Times New Roman,serif\" font-size=\"14.00\"> b, b ; &#39;&#39; </text>\r\n<text text-anchor=\"middle\" x=\"355.197\" y=\"-168.497\" font-family=\"Times New Roman,serif\" font-size=\"14.00\"> &#39;&#39;, S ; J </text>\r\n<text text-anchor=\"middle\" x=\"355.197\" y=\"-153.497\" font-family=\"Times New Roman,serif\" font-size=\"14.00\"> &#39;&#39;, B ; &#39;&#39; </text>\r\n<text text-anchor=\"middle\" x=\"355.197\" y=\"-138.497\" font-family=\"Times New Roman,serif\" font-size=\"14.00\"> &#39;&#39;, B ; bB </text>\r\n<text text-anchor=\"middle\" x=\"355.197\" y=\"-123.497\" font-family=\"Times New Roman,serif\" font-size=\"14.00\"> &#39;&#39;, C ; &#39;&#39; </text>\r\n<text text-anchor=\"middle\" x=\"355.197\" y=\"-108.497\" font-family=\"Times New Roman,serif\" font-size=\"14.00\"> &#39;&#39;, C ; cC </text>\r\n<text text-anchor=\"middle\" x=\"355.197\" y=\"-93.4967\" font-family=\"Times New Roman,serif\" font-size=\"14.00\"> &#39;&#39;, J ; C </text>\r\n<text text-anchor=\"middle\" x=\"355.197\" y=\"-78.4967\" font-family=\"Times New Roman,serif\" font-size=\"14.00\"> &#39;&#39;, D ; &#39;&#39; </text>\r\n<text text-anchor=\"middle\" x=\"355.197\" y=\"-63.4967\" font-family=\"Times New Roman,serif\" font-size=\"14.00\"> &#39;&#39;, S ; K</text>\r\n</g>\r\n<!-- F -->\r\n<g id=\"node3\" class=\"node\"><title>F</title>\r\n<ellipse fill=\"none\" stroke=\"black\" cx=\"595.697\" cy=\"-22.8483\" rx=\"18\" ry=\"18\"/>\r\n<ellipse fill=\"none\" stroke=\"black\" cx=\"595.697\" cy=\"-22.8483\" rx=\"22\" ry=\"22\"/>\r\n<text text-anchor=\"middle\" x=\"595.697\" y=\"-19.1483\" font-family=\"Times New Roman,serif\" font-size=\"14.00\">F</text>\r\n</g>\r\n<!-- M&#45;&gt;F -->\r\n<g id=\"edge4\" class=\"edge\"><title>M&#45;&gt;F</title>\r\n<path fill=\"none\" stroke=\"black\" d=\"M374.123,-22.8483C414.477,-22.8483 512.867,-22.8483 563.485,-22.8483\"/>\r\n<polygon fill=\"black\" stroke=\"black\" points=\"563.523,-26.3484 573.523,-22.8483 563.523,-19.3484 563.523,-26.3484\"/>\r\n<text text-anchor=\"middle\" x=\"535.697\" y=\"-26.6483\" font-family=\"Times New Roman,serif\" font-size=\"14.00\">&#39;&#39;, # ; #</text>\r\n</g>\r\n<!-- IF&#45;&gt;M -->\r\n<g id=\"edge2\" class=\"edge\"><title>IF&#45;&gt;M</title>\r\n<path fill=\"none\" stroke=\"black\" d=\"M136.937,-22.8483C180.619,-22.8483 277.972,-22.8483 326.122,-22.8483\"/>\r\n<polygon fill=\"black\" stroke=\"black\" points=\"326.158,-26.3484 336.158,-22.8483 326.158,-19.3484 326.158,-26.3484\"/>\r\n<text text-anchor=\"middle\" x=\"174.697\" y=\"-26.6483\" font-family=\"Times New Roman,serif\" font-size=\"14.00\">&#39;&#39;, &#39;&#39; ; S</text>\r\n</g>\r\n</g>\r\n</svg>\r\n"
     },
     "metadata": {},
     "execution_count": 3
    }
   ],
   "source": [
    "dotObj_pda(pda_acbd, FuseEdges=True)"
   ]
  },
  {
   "cell_type": "code",
   "execution_count": 4,
   "metadata": {},
   "outputs": [
    {
     "output_type": "stream",
     "name": "stdout",
     "text": [
      "String acbd accepted by your PDA in 2 ways :-) \nHere are the ways: \nFinal state  ('F', '', '#')\nReached as follows:\n->  ('IF', 'acbd', '#')\n->  ('M', 'acbd', 'S#')\n->  ('M', 'acbd', 'J#')\n->  ('M', 'acbd', 'aJbD#')\n->  ('M', 'cbd', 'JbD#')\n->  ('M', 'cbd', 'CbD#')\n->  ('M', 'cbd', 'cCbD#')\n->  ('M', 'bd', 'CbD#')\n->  ('M', 'bd', 'bD#')\n->  ('M', 'd', 'D#')\n->  ('M', 'd', 'dD#')\n->  ('M', '', 'D#')\n->  ('M', '', '#')\n->  ('F', '', '#') .\nFinal state  ('F', '', '#')\nReached as follows:\n->  ('IF', 'acbd', '#')\n->  ('M', 'acbd', 'S#')\n->  ('M', 'acbd', 'K#')\n->  ('M', 'acbd', 'AcKd#')\n->  ('M', 'acbd', 'aAcKd#')\n->  ('M', 'cbd', 'AcKd#')\n->  ('M', 'cbd', 'cKd#')\n->  ('M', 'bd', 'Kd#')\n->  ('M', 'bd', 'Bd#')\n->  ('M', 'bd', 'bBd#')\n->  ('M', 'd', 'Bd#')\n->  ('M', 'd', 'd#')\n->  ('M', '', '#')\n->  ('F', '', '#') .\n"
     ]
    }
   ],
   "source": [
    "explore_pda(\"acbd\", pda_acbd)   # ACCEPT"
   ]
  },
  {
   "cell_type": "code",
   "execution_count": 5,
   "metadata": {},
   "outputs": [
    {
     "output_type": "stream",
     "name": "stdout",
     "text": [
      "String aacbbd accepted by your PDA in 2 ways :-) \nHere are the ways: \nFinal state  ('F', '', '#')\nReached as follows:\n->  ('IF', 'aacbbd', '#')\n->  ('M', 'aacbbd', 'S#')\n->  ('M', 'aacbbd', 'J#')\n->  ('M', 'aacbbd', 'aJbD#')\n->  ('M', 'acbbd', 'JbD#')\n->  ('M', 'acbbd', 'aJbDbD#')\n->  ('M', 'cbbd', 'JbDbD#')\n->  ('M', 'cbbd', 'CbDbD#')\n->  ('M', 'cbbd', 'cCbDbD#')\n->  ('M', 'bbd', 'CbDbD#')\n->  ('M', 'bbd', 'bDbD#')\n->  ('M', 'bd', 'DbD#')\n->  ('M', 'bd', 'bD#')\n->  ('M', 'd', 'D#')\n->  ('M', 'd', 'dD#')\n->  ('M', '', 'D#')\n->  ('M', '', '#')\n->  ('F', '', '#') .\nFinal state  ('F', '', '#')\nReached as follows:\n->  ('IF', 'aacbbd', '#')\n->  ('M', 'aacbbd', 'S#')\n->  ('M', 'aacbbd', 'K#')\n->  ('M', 'aacbbd', 'AcKd#')\n->  ('M', 'aacbbd', 'aAcKd#')\n->  ('M', 'acbbd', 'AcKd#')\n->  ('M', 'acbbd', 'aAcKd#')\n->  ('M', 'cbbd', 'AcKd#')\n->  ('M', 'cbbd', 'cKd#')\n->  ('M', 'bbd', 'Kd#')\n->  ('M', 'bbd', 'Bd#')\n->  ('M', 'bbd', 'bBd#')\n->  ('M', 'bd', 'Bd#')\n->  ('M', 'bd', 'bBd#')\n->  ('M', 'd', 'Bd#')\n->  ('M', 'd', 'd#')\n->  ('M', '', '#')\n->  ('F', '', '#') .\n"
     ]
    }
   ],
   "source": [
    "explore_pda(\"aacbbd\", pda_acbd) # ACCEPT"
   ]
  },
  {
   "cell_type": "code",
   "execution_count": 6,
   "metadata": {},
   "outputs": [
    {
     "output_type": "stream",
     "name": "stdout",
     "text": [
      "String aaaccbbbddd accepted by your PDA in 1 ways :-) \nHere are the ways: \nFinal state  ('F', '', '#')\nReached as follows:\n->  ('IF', 'aaaccbbbddd', '#')\n->  ('M', 'aaaccbbbddd', 'S#')\n->  ('M', 'aaaccbbbddd', 'J#')\n->  ('M', 'aaaccbbbddd', 'aJbD#')\n->  ('M', 'aaccbbbddd', 'JbD#')\n->  ('M', 'aaccbbbddd', 'aJbDbD#')\n->  ('M', 'accbbbddd', 'JbDbD#')\n->  ('M', 'accbbbddd', 'aJbDbDbD#')\n->  ('M', 'ccbbbddd', 'JbDbDbD#')\n->  ('M', 'ccbbbddd', 'CbDbDbD#')\n->  ('M', 'ccbbbddd', 'cCbDbDbD#')\n->  ('M', 'cbbbddd', 'CbDbDbD#')\n->  ('M', 'cbbbddd', 'cCbDbDbD#')\n->  ('M', 'bbbddd', 'CbDbDbD#')\n->  ('M', 'bbbddd', 'bDbDbD#')\n->  ('M', 'bbddd', 'DbDbD#')\n->  ('M', 'bbddd', 'bDbD#')\n->  ('M', 'bddd', 'DbD#')\n->  ('M', 'bddd', 'bD#')\n->  ('M', 'ddd', 'D#')\n->  ('M', 'ddd', 'dD#')\n->  ('M', 'dd', 'D#')\n->  ('M', 'dd', 'dD#')\n->  ('M', 'd', 'D#')\n->  ('M', 'd', 'dD#')\n->  ('M', '', 'D#')\n->  ('M', '', '#')\n->  ('F', '', '#') .\n"
     ]
    }
   ],
   "source": [
    "explore_pda(\"aaaccbbbddd\", pda_acbd)    # ACCEPT"
   ]
  },
  {
   "cell_type": "code",
   "execution_count": 7,
   "metadata": {},
   "outputs": [
    {
     "output_type": "stream",
     "name": "stdout",
     "text": [
      "String aaaacccbbbddd accepted by your PDA in 1 ways :-) \nHere are the ways: \nFinal state  ('F', '', '#')\nReached as follows:\n->  ('IF', 'aaaacccbbbddd', '#')\n->  ('M', 'aaaacccbbbddd', 'S#')\n->  ('M', 'aaaacccbbbddd', 'K#')\n->  ('M', 'aaaacccbbbddd', 'AcKd#')\n->  ('M', 'aaaacccbbbddd', 'aAcKd#')\n->  ('M', 'aaacccbbbddd', 'AcKd#')\n->  ('M', 'aaacccbbbddd', 'aAcKd#')\n->  ('M', 'aacccbbbddd', 'AcKd#')\n->  ('M', 'aacccbbbddd', 'aAcKd#')\n->  ('M', 'acccbbbddd', 'AcKd#')\n->  ('M', 'acccbbbddd', 'aAcKd#')\n->  ('M', 'cccbbbddd', 'AcKd#')\n->  ('M', 'cccbbbddd', 'cKd#')\n->  ('M', 'ccbbbddd', 'Kd#')\n->  ('M', 'ccbbbddd', 'AcKdd#')\n->  ('M', 'ccbbbddd', 'cKdd#')\n->  ('M', 'cbbbddd', 'Kdd#')\n->  ('M', 'cbbbddd', 'AcKddd#')\n->  ('M', 'cbbbddd', 'cKddd#')\n->  ('M', 'bbbddd', 'Kddd#')\n->  ('M', 'bbbddd', 'Bddd#')\n->  ('M', 'bbbddd', 'bBddd#')\n->  ('M', 'bbddd', 'Bddd#')\n->  ('M', 'bbddd', 'bBddd#')\n->  ('M', 'bddd', 'Bddd#')\n->  ('M', 'bddd', 'bBddd#')\n->  ('M', 'ddd', 'Bddd#')\n->  ('M', 'ddd', 'ddd#')\n->  ('M', 'dd', 'dd#')\n->  ('M', 'd', 'd#')\n->  ('M', '', '#')\n->  ('F', '', '#') .\n"
     ]
    }
   ],
   "source": [
    "explore_pda(\"aaaacccbbbddd\", pda_acbd)  # ACCEPT"
   ]
  },
  {
   "cell_type": "code",
   "execution_count": 8,
   "metadata": {},
   "outputs": [
    {
     "output_type": "stream",
     "name": "stdout",
     "text": [
      "String aaaacccbbbdddd rejected by your PDA :-(\nVisited states are:\n{('M', 'ddd', 'dDbD#'), ('M', 'cccbbbdddd', 'cKd#'), ('M', 'ccbbbdddd', 'bBd#'), ('M', 'ddd', 'bD#'), ('F', 'd', '#'), ('M', 'acccbbbdddd', 'aJbDbDbDbD#'), ('M', 'bbdddd', 'bBddd#'), ('M', 'bbbdddd', 'Kddd#'), ('M', 'cbbbdddd', 'Bdd#'), ('M', 'dddd', 'dDbD#'), ('M', 'bdddd', 'bBddd#'), ('M', 'd', '#'), ('M', 'cbbbdddd', 'AcKddd#'), ('M', 'aaaacccbbbdddd', 'S#'), ('M', '', 'dDbD#'), ('M', 'aaacccbbbdddd', 'aJbDbD#'), ('M', 'acccbbbdddd', 'CbDbDbD#'), ('M', 'aaaacccbbbdddd', 'aAcKd#'), ('M', '', 'bD#'), ('M', 'aaaacccbbbdddd', 'cKd#'), ('M', 'ccbbbdddd', 'cKdd#'), ('M', 'ccbbbdddd', 'Bd#'), ('M', 'bbbdddd', 'CbDbDbDbD#'), ('M', 'aaacccbbbdddd', 'cCbD#'), ('M', 'aacccbbbdddd', 'aAcKd#'), ('M', 'dd', 'd#'), ('M', 'cbbbdddd', 'dd#'), ('M', 'bbbdddd', 'AcKdddd#'), ('M', 'cccbbbdddd', 'cCbDbDbDbD#'), ('M', 'aacccbbbdddd', 'cKd#'), ('M', 'aaaacccbbbdddd', 'cC#'), ('M', 'bbbdddd', 'Bddd#'), ('M', 'dd', 'dDbD#'), ('M', 'bbbdddd', 'ddd#'), ('M', 'bbdddd', 'DbDbDbD#'), ('M', 'cbbbdddd', 'CbDbDbDbD#'), ('M', 'ddd', 'DbD#'), ('M', 'dd', 'bD#'), ('M', 'bbbdddd', 'aAcKdddd#'), ('M', 'ccbbbdddd', 'CbDbDbDbD#'), ('M', 'bbbdddd', 'bBddd#'), ('M', 'aaacccbbbdddd', 'CbD#'), ('M', 'bdddd', 'bDbD#'), ('M', 'cccbbbdddd', 'CbDbDbDbD#'), ('M', 'd', 'bD#'), ('M', 'ccbbbdddd', 'aAcKdd#'), ('M', 'aacccbbbdddd', 'aJbDbDbD#'), ('F', 'aaaacccbbbdddd', '#'), ('M', 'aacccbbbdddd', 'bDbD#'), ('M', 'dddd', 'Bddd#'), ('M', 'dddd', 'ddd#'), ('M', 'bdddd', 'DbDbD#'), ('M', 'cbbbdddd', 'cKddd#'), ('M', 'acccbbbdddd', 'bDbDbD#'), ('M', 'cbbbdddd', 'Kdd#'), ('M', 'cccbbbdddd', 'AcKd#'), ('M', 'aaaacccbbbdddd', '#'), ('M', 'aaaacccbbbdddd', 'J#'), ('M', '', 'DbD#'), ('M', 'bdddd', 'dDbDbD#'), ('M', 'acccbbbdddd', 'cCbDbDbD#'), ('M', 'aaacccbbbdddd', 'JbD#'), ('M', 'ccbbbdddd', 'd#'), ('M', 'bbdddd', 'Bddd#'), ('M', 'bbdddd', 'ddd#'), ('M', 'bbbdddd', 'bDbDbDbD#'), ('M', 'aaaacccbbbdddd', 'B#'), ('M', 'aaaacccbbbdddd', 'K#'), ('M', 'aaacccbbbdddd', 'bD#'), ('M', 'bdddd', 'Bddd#'), ('M', 'acccbbbdddd', 'aAcKd#'), ('M', 'acccbbbdddd', 'AcKd#'), ('M', 'bdddd', 'ddd#'), ('M', 'dd', 'DbD#'), ('M', 'aaaacccbbbdddd', 'aJbD#'), ('M', 'acccbbbdddd', 'cKd#'), ('M', 'bbdddd', 'dDbDbDbD#'), ('M', 'dddd', 'bD#'), ('M', 'cbbbdddd', 'bDbDbDbD#'), ('M', 'ddd', 'dd#'), ('M', 'aaaacccbbbdddd', 'AcKd#'), ('M', 'bbbdddd', 'cCbDbDbDbD#'), ('M', 'ccbbbdddd', 'bDbDbDbD#'), ('M', 'cccbbbdddd', 'bDbDbDbD#'), ('M', 'aacccbbbdddd', 'cCbDbD#'), ('M', 'ccbbbdddd', 'Kd#'), ('M', 'cccbbbdddd', 'JbDbDbDbD#'), ('M', 'aacccbbbdddd', 'AcKd#'), ('M', 'cbbbdddd', 'aAcKddd#'), ('M', 'cbbbdddd', 'cCbDbDbDbD#'), ('M', 'ccbbbdddd', 'cCbDbDbDbD#'), ('M', 'cccbbbdddd', 'aJbDbDbDbDbD#'), ('M', 'd', 'DbD#'), ('M', 'cbbbdddd', 'bBdd#'), ('M', 'aaaacccbbbdddd', 'bB#'), ('M', 'aaaacccbbbdddd', 'C#'), ('IF', 'aaaacccbbbdddd', '#'), ('M', 'ccbbbdddd', 'AcKdd#'), ('M', 'aacccbbbdddd', 'CbDbD#'), ('M', 'acccbbbdddd', 'JbDbDbD#'), ('M', 'aaacccbbbdddd', 'aAcKd#'), ('M', 'dddd', 'bBddd#'), ('M', 'aaacccbbbdddd', 'AcKd#'), ('M', 'dddd', 'DbD#'), ('M', 'bbbdddd', 'cKdddd#'), ('M', 'd', 'dDbD#'), ('M', 'aaacccbbbdddd', 'cKd#'), ('M', 'aacccbbbdddd', 'JbDbD#'), ('M', 'bbdddd', 'bDbDbD#'), ('M', 'cccbbbdddd', 'aAcKd#')}\n"
     ]
    }
   ],
   "source": [
    "explore_pda(\"aaaacccbbbdddd\", pda_acbd) # REJECT"
   ]
  },
  {
   "cell_type": "code",
   "execution_count": 9,
   "metadata": {},
   "outputs": [
    {
     "output_type": "stream",
     "name": "stdout",
     "text": [
      "String aaaabbbb accepted by your PDA in 1 ways :-) \nHere are the ways: \nFinal state  ('F', '', '#')\nReached as follows:\n->  ('IF', 'aaaabbbb', '#')\n->  ('M', 'aaaabbbb', 'S#')\n->  ('M', 'aaaabbbb', 'J#')\n->  ('M', 'aaaabbbb', 'aJbD#')\n->  ('M', 'aaabbbb', 'JbD#')\n->  ('M', 'aaabbbb', 'aJbDbD#')\n->  ('M', 'aabbbb', 'JbDbD#')\n->  ('M', 'aabbbb', 'aJbDbDbD#')\n->  ('M', 'abbbb', 'JbDbDbD#')\n->  ('M', 'abbbb', 'aJbDbDbDbD#')\n->  ('M', 'bbbb', 'JbDbDbDbD#')\n->  ('M', 'bbbb', 'CbDbDbDbD#')\n->  ('M', 'bbbb', 'bDbDbDbD#')\n->  ('M', 'bbb', 'DbDbDbD#')\n->  ('M', 'bbb', 'bDbDbD#')\n->  ('M', 'bb', 'DbDbD#')\n->  ('M', 'bb', 'bDbD#')\n->  ('M', 'b', 'DbD#')\n->  ('M', 'b', 'bD#')\n->  ('M', '', 'D#')\n->  ('M', '', '#')\n->  ('F', '', '#') .\n"
     ]
    }
   ],
   "source": [
    "explore_pda(\"aaaabbbb\", pda_acbd)   # ACCEPT"
   ]
  },
  {
   "cell_type": "code",
   "execution_count": 10,
   "metadata": {},
   "outputs": [
    {
     "output_type": "stream",
     "name": "stdout",
     "text": [
      "String aaaabbb rejected by your PDA :-(\nVisited states are:\n{('M', 'b', 'DbDbD#'), ('M', 'aaaabbb', 'S#'), ('M', 'aaaabbb', 'aJbD#'), ('M', 'aaabbb', 'aJbDbD#'), ('M', 'aaaabbb', 'aAcKd#'), ('M', 'aaabbb', 'cCbD#'), ('M', 'b', 'dDbDbD#'), ('M', 'abbb', 'JbDbDbD#'), ('M', 'aaaabbb', 'AcKd#'), ('M', 'bbb', 'bDbDbDbD#'), ('M', 'aaaabbb', 'cKd#'), ('M', 'bbb', 'JbDbDbDbD#'), ('M', 'abbb', 'bDbDbD#'), ('M', 'bb', 'dDbDbDbD#'), ('M', 'aaaabbb', 'cC#'), ('M', '', 'dDbD#'), ('M', 'aaabbb', 'CbD#'), ('M', 'bbb', 'aJbDbDbDbDbD#'), ('M', '', 'bD#'), ('M', 'abbb', 'cCbDbDbD#'), ('M', 'bbb', 'cCbDbDbDbD#'), ('M', 'aabbb', 'cCbDbD#'), ('M', 'aaaabbb', 'bB#'), ('M', 'aabbb', 'aAcKd#'), ('M', 'aaaabbb', 'C#'), ('M', 'aabbb', 'AcKd#'), ('M', 'abbb', 'aJbDbDbDbD#'), ('M', 'abbb', 'AcKd#'), ('M', 'bbb', 'CbDbDbDbD#'), ('M', 'aaabbb', 'AcKd#'), ('M', 'bb', 'DbDbDbD#'), ('M', 'aabbb', 'cKd#'), ('M', 'abbb', 'aAcKd#'), ('M', 'aaaabbb', 'B#'), ('M', 'aaabbb', 'aAcKd#'), ('M', 'abbb', 'cKd#'), ('M', 'aaabbb', 'cKd#'), ('IF', 'aaaabbb', '#'), ('M', 'aaaabbb', 'J#'), ('F', 'aaaabbb', '#'), ('M', 'aaaabbb', 'K#'), ('M', 'abbb', 'CbDbDbD#'), ('M', 'bbb', 'AcKd#'), ('M', 'aabbb', 'aJbDbDbD#'), ('M', 'aaaabbb', '#'), ('M', 'aaabbb', 'JbD#'), ('M', 'aabbb', 'bDbD#'), ('M', 'bbb', 'aAcKd#'), ('M', 'aabbb', 'CbDbD#'), ('M', 'bbb', 'cKd#'), ('M', 'b', 'bDbD#'), ('M', 'aaabbb', 'bD#'), ('M', 'aabbb', 'JbDbD#'), ('M', 'bb', 'bDbDbD#'), ('M', '', 'DbD#')}\n"
     ]
    }
   ],
   "source": [
    "explore_pda(\"aaaabbb\", pda_acbd)    # REJECT"
   ]
  },
  {
   "cell_type": "code",
   "execution_count": 11,
   "metadata": {},
   "outputs": [
    {
     "output_type": "stream",
     "name": "stdout",
     "text": [
      "String aaaabbbd rejected by your PDA :-(\nVisited states are:\n{('M', 'aabbbd', 'aJbDbDbD#'), ('M', 'bd', 'bDbD#'), ('M', 'aaaabbbd', 'cKd#'), ('M', 'bbbd', 'aJbDbDbDbDbD#'), ('M', 'aabbbd', 'bDbD#'), ('M', 'abbbd', 'cCbDbDbD#'), ('M', 'aabbbd', 'CbDbD#'), ('M', 'bbbd', 'CbDbDbDbD#'), ('M', 'bbd', 'DbDbDbD#'), ('M', 'abbbd', 'aJbDbDbDbD#'), ('M', 'aabbbd', 'JbDbD#'), ('M', 'aaabbbd', 'aJbDbD#'), ('M', 'aaaabbbd', 'cC#'), ('M', 'bd', 'DbDbD#'), ('M', 'aaabbbd', 'cCbD#'), ('M', 'abbbd', 'aAcKd#'), ('M', 'abbbd', 'AcKd#'), ('M', 'bd', 'dDbDbD#'), ('M', 'aaaabbbd', 'C#'), ('M', 'abbbd', 'cKd#'), ('M', 'aaaabbbd', 'bB#'), ('M', 'bbbd', 'AcKd#'), ('M', '', 'dDbD#'), ('M', 'bbbd', 'aAcKd#'), ('IF', 'aaaabbbd', '#'), ('F', 'aaaabbbd', '#'), ('M', 'abbbd', 'CbDbDbD#'), ('M', '', 'bD#'), ('M', 'bbbd', 'cKd#'), ('M', 'aaabbbd', 'CbD#'), ('M', 'bbd', 'bDbDbD#'), ('M', 'aaaabbbd', '#'), ('M', 'aaaabbbd', 'J#'), ('M', 'aaabbbd', 'aAcKd#'), ('M', 'd', 'DbD#'), ('M', 'aaabbbd', 'AcKd#'), ('M', 'aabbbd', 'AcKd#'), ('M', 'aabbbd', 'cCbDbD#'), ('M', 'aabbbd', 'aAcKd#'), ('M', 'aaabbbd', 'cKd#'), ('M', 'aabbbd', 'cKd#'), ('M', 'bbbd', 'bDbDbDbD#'), ('M', 'aaaabbbd', 'B#'), ('M', 'bbbd', 'JbDbDbDbD#'), ('M', 'abbbd', 'JbDbDbD#'), ('M', 'bbd', 'dDbDbDbD#'), ('M', 'aaaabbbd', 'K#'), ('M', 'aaabbbd', 'JbD#'), ('M', 'aaaabbbd', 'S#'), ('M', 'aaaabbbd', 'aJbD#'), ('M', 'd', 'dDbD#'), ('M', 'bbbd', 'cCbDbDbDbD#'), ('M', 'abbbd', 'bDbDbD#'), ('M', 'aaaabbbd', 'AcKd#'), ('M', 'aaabbbd', 'bD#'), ('M', 'd', 'bD#'), ('M', 'aaaabbbd', 'aAcKd#'), ('M', '', 'DbD#')}\n"
     ]
    }
   ],
   "source": [
    "explore_pda(\"aaaabbbd\", pda_acbd)   # REJECT"
   ]
  },
  {
   "cell_type": "code",
   "execution_count": 12,
   "metadata": {},
   "outputs": [
    {
     "output_type": "stream",
     "name": "stdout",
     "text": [
      "String aaaacbbb rejected by your PDA :-(\nVisited states are:\n{('M', 'b', 'DbDbD#'), ('M', 'b', 'Bd#'), ('M', 'aaacbbb', 'aAcKd#'), ('M', 'aaacbbb', 'AcKd#'), ('M', 'aaacbbb', 'cKd#'), ('M', 'b', 'dDbDbD#'), ('M', 'aaaacbbb', 'K#'), ('M', 'aaaacbbb', 'B#'), ('M', 'bbb', 'bDbDbDbD#'), ('M', '', 'd#'), ('M', 'cbbb', 'bDbDbDbD#'), ('M', 'aaaacbbb', 'S#'), ('M', 'acbbb', 'JbDbDbD#'), ('M', 'bbb', 'Kd#'), ('M', 'bbb', 'cKdd#'), ('M', 'cbbb', 'JbDbDbDbD#'), ('M', 'aaaacbbb', 'aJbD#'), ('M', 'aaaacbbb', 'aAcKd#'), ('M', '', 'dDbD#'), ('M', 'aaaacbbb', 'AcKd#'), ('M', '', 'bD#'), ('M', 'cbbb', 'aJbDbDbDbDbD#'), ('M', 'bbb', 'cCbDbDbDbD#'), ('M', 'aacbbb', 'JbDbD#'), ('M', 'aaaacbbb', 'cC#'), ('M', 'acbbb', 'aJbDbDbDbD#'), ('M', 'bbb', 'AcKdd#'), ('M', 'acbbb', 'AcKd#'), ('M', 'aaaacbbb', 'bB#'), ('M', 'aaaacbbb', 'C#'), ('M', 'b', 'd#'), ('M', 'aaacbbb', 'cCbD#'), ('IF', 'aaaacbbb', '#'), ('M', 'cbbb', 'aAcKd#'), ('M', 'acbbb', 'CbDbDbD#'), ('M', 'cbbb', 'cKd#'), ('M', 'aaacbbb', 'CbD#'), ('M', 'bbb', 'bBd#'), ('M', 'aaaacbbb', 'J#'), ('M', 'aacbbb', 'cCbDbD#'), ('M', '', 'DbD#'), ('M', 'aacbbb', 'aAcKd#'), ('M', 'aacbbb', 'AcKd#'), ('M', 'aacbbb', 'cKd#'), ('M', '', 'bBd#'), ('M', 'aaacbbb', 'JbD#'), ('M', 'bb', 'dDbDbDbD#'), ('M', 'aacbbb', 'aJbDbDbD#'), ('M', 'bb', 'bBd#'), ('M', 'aacbbb', 'bDbD#'), ('M', 'bbb', 'Bd#'), ('M', 'aacbbb', 'CbDbD#'), ('M', 'acbbb', 'bDbDbD#'), ('M', 'cbbb', 'cCbDbDbDbD#'), ('M', 'aaacbbb', 'bD#'), ('M', 'bb', 'd#'), ('M', 'aaaacbbb', 'cKd#'), ('M', 'acbbb', 'cCbDbDbD#'), ('M', 'bbb', 'CbDbDbDbD#'), ('M', 'bb', 'DbDbDbD#'), ('M', 'cbbb', 'CbDbDbDbD#'), ('M', '', 'Bd#'), ('M', 'bbb', 'aAcKdd#'), ('M', 'b', 'bBd#'), ('M', 'aaacbbb', 'aJbDbD#'), ('M', 'acbbb', 'aAcKd#'), ('M', 'aaaacbbb', '#'), ('M', 'bb', 'Bd#'), ('M', 'acbbb', 'cKd#'), ('M', 'cbbb', 'AcKd#'), ('F', 'aaaacbbb', '#'), ('M', 'b', 'bDbD#'), ('M', 'bb', 'bDbDbD#'), ('M', 'bbb', 'd#')}\n"
     ]
    }
   ],
   "source": [
    "explore_pda(\"aaaacbbb\", pda_acbd)   # REJECT"
   ]
  },
  {
   "cell_type": "markdown",
   "metadata": {},
   "source": [
    "## Now, provide five of your own tests and run them; cover more interesting cases that are likely not covered by the above tests (or if covered, try to find new variations with respect to the numbers of various symbols."
   ]
  },
  {
   "cell_type": "code",
   "execution_count": 13,
   "metadata": {},
   "outputs": [
    {
     "output_type": "stream",
     "name": "stdout",
     "text": [
      "String  accepted by your PDA in 2 ways :-) \nHere are the ways: \nFinal state  ('IF', '', '#')\nReached as follows:\n->  ('IF', '', '#') .\nFinal state  ('F', '', '#')\nReached as follows:\n->  ('IF', '', '#')\n->  ('M', '', 'S#')\n->  ('M', '', '#')\n->  ('F', '', '#') .\n"
     ]
    }
   ],
   "source": [
    "explore_pda(\"\", pda_acbd)   # ACCEPT"
   ]
  },
  {
   "cell_type": "code",
   "execution_count": 18,
   "metadata": {},
   "outputs": [
    {
     "output_type": "stream",
     "name": "stdout",
     "text": [
      "String aaaaaaaaccccccccccbbbbbbbbdddddddddd accepted by your PDA in 1 ways :-) \nHere are the ways: \nFinal state  ('F', '', '#')\nReached as follows:\n->  ('IF', 'aaaaaaaaccccccccccbbbbbbbbdddddddddd', '#')\n->  ('M', 'aaaaaaaaccccccccccbbbbbbbbdddddddddd', 'S#')\n->  ('M', 'aaaaaaaaccccccccccbbbbbbbbdddddddddd', 'J#')\n->  ('M', 'aaaaaaaaccccccccccbbbbbbbbdddddddddd', 'aJbD#')\n->  ('M', 'aaaaaaaccccccccccbbbbbbbbdddddddddd', 'JbD#')\n->  ('M', 'aaaaaaaccccccccccbbbbbbbbdddddddddd', 'aJbDbD#')\n->  ('M', 'aaaaaaccccccccccbbbbbbbbdddddddddd', 'JbDbD#')\n->  ('M', 'aaaaaaccccccccccbbbbbbbbdddddddddd', 'aJbDbDbD#')\n->  ('M', 'aaaaaccccccccccbbbbbbbbdddddddddd', 'JbDbDbD#')\n->  ('M', 'aaaaaccccccccccbbbbbbbbdddddddddd', 'aJbDbDbDbD#')\n->  ('M', 'aaaaccccccccccbbbbbbbbdddddddddd', 'JbDbDbDbD#')\n->  ('M', 'aaaaccccccccccbbbbbbbbdddddddddd', 'aJbDbDbDbDbD#')\n->  ('M', 'aaaccccccccccbbbbbbbbdddddddddd', 'JbDbDbDbDbD#')\n->  ('M', 'aaaccccccccccbbbbbbbbdddddddddd', 'aJbDbDbDbDbDbD#')\n->  ('M', 'aaccccccccccbbbbbbbbdddddddddd', 'JbDbDbDbDbDbD#')\n->  ('M', 'aaccccccccccbbbbbbbbdddddddddd', 'aJbDbDbDbDbDbDbD#')\n->  ('M', 'accccccccccbbbbbbbbdddddddddd', 'JbDbDbDbDbDbDbD#')\n->  ('M', 'accccccccccbbbbbbbbdddddddddd', 'aJbDbDbDbDbDbDbDbD#')\n->  ('M', 'ccccccccccbbbbbbbbdddddddddd', 'JbDbDbDbDbDbDbDbD#')\n->  ('M', 'ccccccccccbbbbbbbbdddddddddd', 'CbDbDbDbDbDbDbDbD#')\n->  ('M', 'ccccccccccbbbbbbbbdddddddddd', 'cCbDbDbDbDbDbDbDbD#')\n->  ('M', 'cccccccccbbbbbbbbdddddddddd', 'CbDbDbDbDbDbDbDbD#')\n->  ('M', 'cccccccccbbbbbbbbdddddddddd', 'cCbDbDbDbDbDbDbDbD#')\n->  ('M', 'ccccccccbbbbbbbbdddddddddd', 'CbDbDbDbDbDbDbDbD#')\n->  ('M', 'ccccccccbbbbbbbbdddddddddd', 'cCbDbDbDbDbDbDbDbD#')\n->  ('M', 'cccccccbbbbbbbbdddddddddd', 'CbDbDbDbDbDbDbDbD#')\n->  ('M', 'cccccccbbbbbbbbdddddddddd', 'cCbDbDbDbDbDbDbDbD#')\n->  ('M', 'ccccccbbbbbbbbdddddddddd', 'CbDbDbDbDbDbDbDbD#')\n->  ('M', 'ccccccbbbbbbbbdddddddddd', 'cCbDbDbDbDbDbDbDbD#')\n->  ('M', 'cccccbbbbbbbbdddddddddd', 'CbDbDbDbDbDbDbDbD#')\n->  ('M', 'cccccbbbbbbbbdddddddddd', 'cCbDbDbDbDbDbDbDbD#')\n->  ('M', 'ccccbbbbbbbbdddddddddd', 'CbDbDbDbDbDbDbDbD#')\n->  ('M', 'ccccbbbbbbbbdddddddddd', 'cCbDbDbDbDbDbDbDbD#')\n->  ('M', 'cccbbbbbbbbdddddddddd', 'CbDbDbDbDbDbDbDbD#')\n->  ('M', 'cccbbbbbbbbdddddddddd', 'cCbDbDbDbDbDbDbDbD#')\n->  ('M', 'ccbbbbbbbbdddddddddd', 'CbDbDbDbDbDbDbDbD#')\n->  ('M', 'ccbbbbbbbbdddddddddd', 'cCbDbDbDbDbDbDbDbD#')\n->  ('M', 'cbbbbbbbbdddddddddd', 'CbDbDbDbDbDbDbDbD#')\n->  ('M', 'cbbbbbbbbdddddddddd', 'cCbDbDbDbDbDbDbDbD#')\n->  ('M', 'bbbbbbbbdddddddddd', 'CbDbDbDbDbDbDbDbD#')\n->  ('M', 'bbbbbbbbdddddddddd', 'bDbDbDbDbDbDbDbD#')\n->  ('M', 'bbbbbbbdddddddddd', 'DbDbDbDbDbDbDbD#')\n->  ('M', 'bbbbbbbdddddddddd', 'bDbDbDbDbDbDbD#')\n->  ('M', 'bbbbbbdddddddddd', 'DbDbDbDbDbDbD#')\n->  ('M', 'bbbbbbdddddddddd', 'bDbDbDbDbDbD#')\n->  ('M', 'bbbbbdddddddddd', 'DbDbDbDbDbD#')\n->  ('M', 'bbbbbdddddddddd', 'bDbDbDbDbD#')\n->  ('M', 'bbbbdddddddddd', 'DbDbDbDbD#')\n->  ('M', 'bbbbdddddddddd', 'bDbDbDbD#')\n->  ('M', 'bbbdddddddddd', 'DbDbDbD#')\n->  ('M', 'bbbdddddddddd', 'bDbDbD#')\n->  ('M', 'bbdddddddddd', 'DbDbD#')\n->  ('M', 'bbdddddddddd', 'bDbD#')\n->  ('M', 'bdddddddddd', 'DbD#')\n->  ('M', 'bdddddddddd', 'bD#')\n->  ('M', 'dddddddddd', 'D#')\n->  ('M', 'dddddddddd', 'dD#')\n->  ('M', 'ddddddddd', 'D#')\n->  ('M', 'ddddddddd', 'dD#')\n->  ('M', 'dddddddd', 'D#')\n->  ('M', 'dddddddd', 'dD#')\n->  ('M', 'ddddddd', 'D#')\n->  ('M', 'ddddddd', 'dD#')\n->  ('M', 'dddddd', 'D#')\n->  ('M', 'dddddd', 'dD#')\n->  ('M', 'ddddd', 'D#')\n->  ('M', 'ddddd', 'dD#')\n->  ('M', 'dddd', 'D#')\n->  ('M', 'dddd', 'dD#')\n->  ('M', 'ddd', 'D#')\n->  ('M', 'ddd', 'dD#')\n->  ('M', 'dd', 'D#')\n->  ('M', 'dd', 'dD#')\n->  ('M', 'd', 'D#')\n->  ('M', 'd', 'dD#')\n->  ('M', '', 'D#')\n->  ('M', '', '#')\n->  ('F', '', '#') .\n"
     ]
    }
   ],
   "source": [
    "explore_pda(\"aaaaaaaaccccccccccbbbbbbbbdddddddddd\", pda_acbd)   # ACCEPT"
   ]
  },
  {
   "cell_type": "code",
   "execution_count": 15,
   "metadata": {},
   "outputs": [
    {
     "output_type": "stream",
     "name": "stdout",
     "text": [
      "String dbca rejected by your PDA :-(\nVisited states are:\n{('M', 'dbca', 'bB#'), ('M', 'dbca', 'C#'), ('M', 'dbca', 'J#'), ('M', 'dbca', 'B#'), ('M', 'dbca', 'K#'), ('M', 'dbca', '#'), ('F', 'dbca', '#'), ('M', 'dbca', 'S#'), ('M', 'dbca', 'cC#'), ('M', 'dbca', 'aJbD#'), ('M', 'dbca', 'AcKd#'), ('M', 'dbca', 'aAcKd#'), ('IF', 'dbca', '#'), ('M', 'dbca', 'cKd#')}\n"
     ]
    }
   ],
   "source": [
    "explore_pda(\"dbca\", pda_acbd)   # REJECT"
   ]
  },
  {
   "cell_type": "code",
   "execution_count": 16,
   "metadata": {},
   "outputs": [
    {
     "output_type": "stream",
     "name": "stdout",
     "text": [
      "String aaabbbcccddd rejected by your PDA :-(\nVisited states are:\n{('M', 'cccddd', '#'), ('M', 'aaabbbcccddd', 'aJbD#'), ('M', 'aabbbcccddd', 'CbD#'), ('M', 'aaabbbcccddd', 'S#'), ('M', 'bcccddd', 'DbD#'), ('M', 'bbcccddd', 'bDbD#'), ('M', 'aaabbbcccddd', 'AcKd#'), ('M', 'cccddd', 'D#'), ('M', 'aaabbbcccddd', 'aAcKd#'), ('M', 'aaabbbcccddd', 'cKd#'), ('M', 'aabbbcccddd', 'aAcKd#'), ('M', 'bbcccddd', 'DbDbD#'), ('M', 'aabbbcccddd', 'AcKd#'), ('M', 'bbbcccddd', 'JbDbDbD#'), ('M', 'aabbbcccddd', 'cKd#'), ('M', 'aaabbbcccddd', 'cC#'), ('M', 'bbcccddd', 'dDbDbD#'), ('M', 'bcccddd', 'dDbD#'), ('M', 'bbbcccddd', 'bDbDbD#'), ('M', 'abbbcccddd', 'cCbDbD#'), ('M', 'aaabbbcccddd', 'bB#'), ('M', 'abbbcccddd', 'aAcKd#'), ('M', 'bcccddd', 'bD#'), ('M', 'abbbcccddd', 'AcKd#'), ('M', 'aaabbbcccddd', 'C#'), ('M', 'aabbbcccddd', 'JbD#'), ('M', 'abbbcccddd', 'cKd#'), ('M', 'aabbbcccddd', 'bD#'), ('M', 'bbbcccddd', 'cCbDbDbD#'), ('M', 'bbbcccddd', 'aJbDbDbDbD#'), ('IF', 'aaabbbcccddd', '#'), ('M', 'bbbcccddd', 'aAcKd#'), ('F', 'aaabbbcccddd', '#'), ('M', 'bbbcccddd', 'AcKd#'), ('M', 'cccddd', 'dD#'), ('M', 'abbbcccddd', 'aJbDbDbD#'), ('M', 'bbbcccddd', 'cKd#'), ('M', 'aaabbbcccddd', '#'), ('M', 'aaabbbcccddd', 'J#'), ('M', 'abbbcccddd', 'bDbD#'), ('M', 'abbbcccddd', 'CbDbD#'), ('M', 'aabbbcccddd', 'aJbDbD#'), ('M', 'aaabbbcccddd', 'B#'), ('F', 'cccddd', '#'), ('M', 'aabbbcccddd', 'cCbD#'), ('M', 'bbbcccddd', 'CbDbDbD#'), ('M', 'abbbcccddd', 'JbDbD#'), ('M', 'aaabbbcccddd', 'K#')}\n"
     ]
    }
   ],
   "source": [
    "explore_pda(\"aaabbbcccddd\", pda_acbd)   # REJECT"
   ]
  },
  {
   "cell_type": "code",
   "execution_count": 17,
   "metadata": {},
   "outputs": [
    {
     "output_type": "stream",
     "name": "stdout",
     "text": [
      "String ddbbbccaaa rejected by your PDA :-(\nVisited states are:\n{('M', 'ddbbbccaaa', 'aAcKd#'), ('M', 'ddbbbccaaa', 'bB#'), ('M', 'ddbbbccaaa', 'C#'), ('M', 'ddbbbccaaa', 'cKd#'), ('M', 'ddbbbccaaa', 'B#'), ('M', 'ddbbbccaaa', 'K#'), ('M', 'ddbbbccaaa', '#'), ('M', 'ddbbbccaaa', 'J#'), ('M', 'ddbbbccaaa', 'aJbD#'), ('F', 'ddbbbccaaa', '#'), ('M', 'ddbbbccaaa', 'S#'), ('M', 'ddbbbccaaa', 'cC#'), ('IF', 'ddbbbccaaa', '#'), ('M', 'ddbbbccaaa', 'AcKd#')}\n"
     ]
    }
   ],
   "source": [
    "explore_pda(\"ddbbbccaaa\", pda_acbd) # REJECT"
   ]
  },
  {
   "cell_type": "markdown",
   "metadata": {
    "run_control": {
     "frozen": false,
     "read_only": false
    }
   },
   "source": [
    "# Asg9 DTM for $w\\#x$ where $w$ is a substring of $x$"
   ]
  },
  {
   "cell_type": "code",
   "execution_count": null,
   "metadata": {},
   "outputs": [],
   "source": [
    "Asg9DTM = md2mc('''\n",
    "TM     \n",
    "\n",
    "\n",
    "\n",
    "''')\n"
   ]
  },
  {
   "cell_type": "markdown",
   "metadata": {},
   "source": [
    "# Tests for the DTM\n",
    "\n",
    "### (a) aba#aba – pass \n",
    "### (b) aba#ab – fail\n",
    "### (c) aba#baba – pass \n",
    "### (d) aba#babba –fail\n",
    "### (e) bba#bbabba – pass\n",
    "\n",
    "\n",
    "## Please include five more tests of your own"
   ]
  },
  {
   "cell_type": "code",
   "execution_count": null,
   "metadata": {},
   "outputs": [],
   "source": [
    "help(explore_tm)"
   ]
  },
  {
   "cell_type": "code",
   "execution_count": null,
   "metadata": {},
   "outputs": [],
   "source": [
    "explore_tm(Asg9DTM, \"aba#aba\",50)"
   ]
  },
  {
   "cell_type": "code",
   "execution_count": null,
   "metadata": {},
   "outputs": [],
   "source": [
    "explore_tm(Asg9DTM, \"aba#ab\",50)"
   ]
  },
  {
   "cell_type": "code",
   "execution_count": null,
   "metadata": {},
   "outputs": [],
   "source": [
    "explore_tm(Asg9DTM, \"aba#baba\",50)"
   ]
  },
  {
   "cell_type": "code",
   "execution_count": null,
   "metadata": {},
   "outputs": [],
   "source": [
    "explore_tm(Asg9DTM, \"aba#babba\",50)"
   ]
  },
  {
   "cell_type": "code",
   "execution_count": null,
   "metadata": {},
   "outputs": [],
   "source": [
    "explore_tm(Asg9DTM, \"bba#bbabba\",50)"
   ]
  },
  {
   "cell_type": "markdown",
   "metadata": {},
   "source": [
    "# Asg9 NDTM for w#x where w is a substring of x"
   ]
  },
  {
   "cell_type": "code",
   "execution_count": null,
   "metadata": {
    "run_control": {
     "frozen": false,
     "read_only": false
    }
   },
   "outputs": [],
   "source": [
    "# w#x NDTM\n",
    " \n",
    "\n",
    "Asg9NDTM = md2mc('''TM\n",
    "  \n",
    " \n",
    "\n",
    "''')\n",
    "\n"
   ]
  },
  {
   "cell_type": "code",
   "execution_count": null,
   "metadata": {},
   "outputs": [],
   "source": [
    "explore_tm(Asg9NDTM, \"aba#aba\",50)"
   ]
  },
  {
   "cell_type": "code",
   "execution_count": null,
   "metadata": {},
   "outputs": [],
   "source": [
    "explore_tm(Asg9NDTM, \"aba#ab\",50)"
   ]
  },
  {
   "cell_type": "code",
   "execution_count": null,
   "metadata": {},
   "outputs": [],
   "source": [
    "explore_tm(Asg9NDTM, \"aba#baba\",50)"
   ]
  },
  {
   "cell_type": "code",
   "execution_count": null,
   "metadata": {},
   "outputs": [],
   "source": [
    "explore_tm(Asg9NDTM, \"aba#babba\",50)"
   ]
  },
  {
   "cell_type": "code",
   "execution_count": null,
   "metadata": {},
   "outputs": [],
   "source": [
    "explore_tm(Asg9NDTM, \"bba#bbabba\",50)"
   ]
  },
  {
   "cell_type": "markdown",
   "metadata": {},
   "source": [
    "# END"
   ]
  }
 ],
 "metadata": {
  "kernelspec": {
   "display_name": "Python 3",
   "language": "python",
   "name": "python3"
  },
  "language_info": {
   "codemirror_mode": {
    "name": "ipython",
    "version": 3
   },
   "file_extension": ".py",
   "mimetype": "text/x-python",
   "name": "python",
   "nbconvert_exporter": "python",
   "pygments_lexer": "ipython3",
   "version": "3.8.3-final"
  },
  "toc": {
   "colors": {
    "hover_highlight": "#DAA520",
    "running_highlight": "#FF0000",
    "selected_highlight": "#FFD700"
   },
   "moveMenuLeft": true,
   "nav_menu": {
    "height": "318px",
    "width": "252px"
   },
   "navigate_menu": true,
   "number_sections": true,
   "sideBar": true,
   "threshold": 4,
   "toc_cell": false,
   "toc_section_display": "block",
   "toc_window_display": false,
   "widenNotebook": false
  }
 },
 "nbformat": 4,
 "nbformat_minor": 1
}