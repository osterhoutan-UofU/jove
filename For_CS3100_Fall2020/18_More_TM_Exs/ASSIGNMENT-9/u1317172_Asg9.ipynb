{
 "cells": [
  {
   "cell_type": "markdown",
   "metadata": {
    "run_control": {
     "frozen": false,
     "read_only": false
    }
   },
   "source": [
    "<style>\n",
    "h1 {\n",
    "    border-bottom: 2px solid;\n",
    "}\n",
    "h2 {\n",
    "    border-bottom: 1px solid;\n",
    "}\n",
    "/* hr {\n",
    "    border-top: 2px solid;\n",
    "    border-bottom: none;\n",
    "} */\n",
    ".student-info {\n",
    "    text-align: right;\n",
    "    border-bottom: none;\n",
    "}\n",
    "hr.double-div {\n",
    "    border-top: 2px solid;\n",
    "    border-bottom: 2px solid;\n",
    "    border-left: none;\n",
    "    border-right: none;\n",
    "    height: 10pt;\n",
    "    /* border-radius: 1px; */\n",
    "}\n",
    "blockquote {\n",
    "    border-left: 2px solid;\n",
    "    /* background-color: #00000488; */\n",
    "    /* filter: brightness(80%); */\n",
    "    margin-left: 2em;\n",
    "    margin-right: 2em;\n",
    "    padding: 1px 2px 1px 1em;\n",
    "}\n",
    "pre {\n",
    "    border: 1px solid #88888888;\n",
    "    margin-left: 1em;\n",
    "    margin-right: 1em;\n",
    "    padding: 0.5em;\n",
    "    /*padding: 8pt 1em 8pt 1em;*/\n",
    "}\n",
    "blockquote > pre {\n",
    "    margin-left: 0.5em;\n",
    "}\n",
    "img {\n",
    "    display: block;\n",
    "    margin-left: auto;\n",
    "    margin-right: auto;\n",
    "}\n",
    "</style>\n",
    "\n",
    "<h2 class=\"student-info\">\n",
    "    Andrew Osterhout <br/>\n",
    "    (u1317172)\n",
    "</h2>\n",
    "\n",
    "# Asg-9 template"
   ]
  },
  {
   "cell_type": "code",
   "execution_count": 3,
   "metadata": {
    "run_control": {
     "frozen": false,
     "read_only": false
    }
   },
   "outputs": [
    {
     "output_type": "stream",
     "name": "stdout",
     "text": [
      "You may use any of these help commands:\nhelp(step_tm)\nhelp(run_tm)\nhelp(explore_tm)\n\nYou may use any of these help commands:\nhelp(md2mc)\n.. and if you want to dig more, then ..\nhelp(default_line_attr)\nhelp(length_ok_input_items)\nhelp(union_line_attr_list_fld)\nhelp(extend_rsltdict)\nhelp(form_delta)\nhelp(get_machine_components)\n\nYou may use any of these help commands:\nhelp(ResetStNum)\nhelp(NxtStateStr)\n\n \"help(JoveEditor)\" gives you info on the generic animation panel that animates all machines. \n"
     ]
    }
   ],
   "source": [
    "#~~~~~~~~~~~~~~~~~~~~~~~~~~~~~~~~~~~~~~~~~~~~~~~~~~~~~~~\n",
    "import sys\n",
    "\n",
    "# -- Detect if in Own Install or in Colab\n",
    "try:\n",
    "    import google.colab\n",
    "    OWN_INSTALL = False\n",
    "except:\n",
    "    OWN_INSTALL = True\n",
    "    \n",
    "if OWN_INSTALL:\n",
    "    \n",
    "  #---- Leave these definitions ON if running on laptop\n",
    "  #---- Else turn OFF by putting them between ''' ... '''\n",
    "\n",
    "  sys.path[0:0] = ['../../../../..',  '../../../../../3rdparty',  \n",
    "                   '../../../..',  '../../../../3rdparty',  \n",
    "                   '../../..',     '../../../3rdparty', \n",
    "                   '../..',        '../../3rdparty',\n",
    "                   '..',           '../3rdparty' ]\n",
    "\n",
    "else: # In colab\n",
    "  ! if [ ! -d Jove ]; then git clone https://github.com/ganeshutah/Jove Jove; fi\n",
    "  sys.path.append('./Jove')\n",
    "  sys.path.append('./Jove/jove')\n",
    "\n",
    "# -- common imports --\n",
    "from jove.Def_TM     import *\n",
    "from jove.Def_md2mc  import *\n",
    "from jove.DotBashers import *\n",
    "from jove.JoveEditor import *\n",
    "from jove.Def_PDA    import *\n",
    "from jove.AnimateTM import * #-- usage: AnimateTM(whas101DTM, FuseEdges=True)\n",
    "#~~~~~~~~~~~~~~~~~~~~~~~~~~~~~~~~~~~~~~~~~~~~~~~~~~~~~~~"
   ]
  },
  {
   "cell_type": "markdown",
   "metadata": {},
   "source": [
    "# Problem 6, Page 159, the \"OR\" case.\n",
    "## Test your CFG below for \n",
    "\n",
    "$ \\{ a^i c^k b^j d^l \\;:\\; (i==j)\\; OR\\; (k==l)\\}$\n",
    "\n",
    "## Note that for the CFG that is to be simulated using Jove's PDA, the nonterminals must be only a single letter (i.e. if you used a nonterminals \"As\" for one or more a, and you pushed As on the stack, it will be interpreted as \"A\" followed by \"s\")."
   ]
  },
  {
   "cell_type": "code",
   "execution_count": null,
   "metadata": {},
   "outputs": [],
   "source": [
    "# Type the CFG in the comments of the PDA\n",
    "# Then convert to PDA and run the tests below\n",
    "\n",
    "pda_acbd = md2mc(\n",
    "'''\n",
    "PDA\n",
    "\n",
    "!!---Initially I'll write using multi-letter nonterminals...\n",
    "!!   Then I'll turn them into single-letter nonterminals.\n",
    "!!\n",
    "!! S        ->  i_EQ_j | k_EQ_l | ε\n",
    "!! i_EQ_j   ->  a i_EQ_j b D | C\n",
    "!! k_EQ_l   ->  A c k_EQ_l D | B \n",
    "!! A        ->  a A | ε\n",
    "!! B        ->  b B | ε\n",
    "!! C        ->  c C | ε\n",
    "!! D        ->  d D | ε\n",
    "\n",
    "\n",
    "!!---Now turning into single-letter non-terminals\n",
    "!!---To avoid the dual-use of \"S\", the second use is \"Z\"\n",
    "!!\n",
    "!! S    ->  J | K | ε\n",
    "!! J    ->  a J b D | C\n",
    "!! K    ->  A c K D | B \n",
    "!! A    ->  a A | ε\n",
    "!! B    ->  b B | ε\n",
    "!! C    ->  c C | ε\n",
    "!! D    ->  d D | ε\n",
    "\n",
    "\n",
    "!!=== PDA below ======================================\n",
    "\n",
    "!!-- Initial State & Setup -------------\n",
    "IF  : '','' ; S     -> M\n",
    "\n",
    "\n",
    "!!-- Set up Paths for Grammers ---------\n",
    "!!- S / \"starting\" grammar -\n",
    "M   : '',S  ; J     -> M\n",
    "M   : '',S  ; K     -> M\n",
    "M   : '',S  ; ''    -> M\n",
    "\n",
    "!!- J / i_EQ_j grammar -----\n",
    "M   : '',J  ; aJbD  -> M\n",
    "M   : '',J  ; C     -> M\n",
    "\n",
    "!!- K / k_EQ_l grammar -----\n",
    "M   : '',K  ; AcKd  -> M\n",
    "M   : '',K  ; B     -> M\n",
    "\n",
    "!!- A gramer ---------------\n",
    "M   : '',A  ; aA    -> M\n",
    "M   : '',A  ; ''    -> M\n",
    "\n",
    "!!- B gramer ---------------\n",
    "M   : '',B  ; bB    -> M\n",
    "M   : '',B  ; ''    -> M\n",
    "\n",
    "!!- C gramer ---------------\n",
    "M   : '',C  ; cC    -> M\n",
    "M   : '',C  ; ''    -> M\n",
    "\n",
    "!!- D gramer ---------------\n",
    "M   : '',D  ; dD    -> M\n",
    "M   : '',D  ; ''    -> M\n",
    "\n",
    "\n",
    "!!-- Setup paths for string processing --\n",
    "M   : a,a   ; ''    -> M\n",
    "M   : b,b   ; ''    -> M\n",
    "M   : c,c   ; ''    -> M\n",
    "M   : d,d   ; ''    -> M\n",
    "\n",
    "\n",
    "!!-- Final Acceptance Condition ---------\n",
    "M   : '',#  ; #     -> F\n",
    "\n",
    "''')"
   ]
  },
  {
   "cell_type": "code",
   "execution_count": null,
   "metadata": {},
   "outputs": [],
   "source": [
    "dotObj_pda(pda_acbd, FuseEdges=True)"
   ]
  },
  {
   "cell_type": "code",
   "execution_count": null,
   "metadata": {},
   "outputs": [],
   "source": [
    "explore_pda(\"acbd\", pda_acbd)   # ACCEPT"
   ]
  },
  {
   "cell_type": "code",
   "execution_count": null,
   "metadata": {},
   "outputs": [],
   "source": [
    "explore_pda(\"aacbbd\", pda_acbd) # ACCEPT"
   ]
  },
  {
   "cell_type": "code",
   "execution_count": null,
   "metadata": {},
   "outputs": [],
   "source": [
    "explore_pda(\"aaaccbbbddd\", pda_acbd)    # ACCEPT"
   ]
  },
  {
   "cell_type": "code",
   "execution_count": null,
   "metadata": {},
   "outputs": [],
   "source": [
    "explore_pda(\"aaaacccbbbddd\", pda_acbd)  # ACCEPT"
   ]
  },
  {
   "cell_type": "code",
   "execution_count": null,
   "metadata": {},
   "outputs": [],
   "source": [
    "explore_pda(\"aaaacccbbbdddd\", pda_acbd) # REJECT"
   ]
  },
  {
   "cell_type": "code",
   "execution_count": null,
   "metadata": {},
   "outputs": [],
   "source": [
    "explore_pda(\"aaaabbbb\", pda_acbd)   # ACCEPT"
   ]
  },
  {
   "cell_type": "code",
   "execution_count": null,
   "metadata": {},
   "outputs": [],
   "source": [
    "explore_pda(\"aaaabbb\", pda_acbd)    # REJECT"
   ]
  },
  {
   "cell_type": "code",
   "execution_count": null,
   "metadata": {},
   "outputs": [],
   "source": [
    "explore_pda(\"aaaabbbd\", pda_acbd)   # REJECT"
   ]
  },
  {
   "cell_type": "code",
   "execution_count": null,
   "metadata": {},
   "outputs": [],
   "source": [
    "explore_pda(\"aaaacbbb\", pda_acbd)   # REJECT"
   ]
  },
  {
   "cell_type": "markdown",
   "metadata": {},
   "source": [
    "## Now, provide five of your own tests and run them; cover more interesting cases that are likely not covered by the above tests (or if covered, try to find new variations with respect to the numbers of various symbols."
   ]
  },
  {
   "cell_type": "code",
   "execution_count": null,
   "metadata": {},
   "outputs": [],
   "source": [
    "explore_pda(\"\", pda_acbd)   # ACCEPT"
   ]
  },
  {
   "cell_type": "code",
   "execution_count": null,
   "metadata": {},
   "outputs": [],
   "source": [
    "explore_pda(\"aaaaaaaaccccccccccbbbbbbbbdddddddddd\", pda_acbd)   # ACCEPT"
   ]
  },
  {
   "cell_type": "code",
   "execution_count": null,
   "metadata": {},
   "outputs": [],
   "source": [
    "explore_pda(\"dbca\", pda_acbd)   # REJECT"
   ]
  },
  {
   "cell_type": "code",
   "execution_count": null,
   "metadata": {},
   "outputs": [],
   "source": [
    "explore_pda(\"aaabbbcccddd\", pda_acbd)   # REJECT"
   ]
  },
  {
   "cell_type": "code",
   "execution_count": null,
   "metadata": {},
   "outputs": [],
   "source": [
    "explore_pda(\"ddbbbccaaa\", pda_acbd) # REJECT"
   ]
  },
  {
   "cell_type": "markdown",
   "metadata": {
    "run_control": {
     "frozen": false,
     "read_only": false
    }
   },
   "source": [
    "# Asg9 DTM for $w\\#x$ where $w$ is a substring of $x$"
   ]
  },
  {
   "cell_type": "code",
   "execution_count": 7,
   "metadata": {},
   "outputs": [],
   "source": [
    "Asg9DTM = md2mc('''\n",
    "TM     \n",
    "!! DTM means that given one input state combo there can only be one output.\n",
    "!! Q: {Iq0, q1, }\n",
    "!! Σ: {a, b, #, ε}\n",
    "!! Γ: {a, b, #, A, B, N, 0, 1, ., ε}\n",
    "!! q₀: IFq0\n",
    "!! F: {Iq0, }\n",
    "\n",
    "!!---- Identify & accept ε substring ----\n",
    "Iq0 : # ;   # , R   -> Fq0\n",
    "Iq0 : a ;   a , S   -> A0\n",
    "Iq0 : b ;   b , S   -> B0\n",
    "\n",
    "\n",
    "!!---- If w starts with a ---------------\n",
    "!!--- Identify the form of w in x -----\n",
    "!!-- (a) Identify 'a' in ~substring --\n",
    "A0  : a ;   A , R   -> A1a\n",
    "\n",
    "A1a : a ;   a , R   -> A1a\n",
    "A1a : b ;   b , R   -> A1a\n",
    "A1a : # ;   # , R   -> A2a\n",
    "\n",
    "A2a : A ;   A , R   -> A2a\n",
    "A2a : B ;   B , R   -> A2a\n",
    "A2a : N ;   N , R   -> A2a\n",
    "\n",
    "A2a : a ;   A , L   -> A3\n",
    "A2a : # ;   A , L   -> A3\n",
    "A2a : b ;   N , L   -> A3n\n",
    "\n",
    "!!-- (a) Identify 'b' in ~substring --\n",
    "A0  : b ;   B , R   -> A1b\n",
    "\n",
    "A1b : a ;   a , R   -> A1b\n",
    "A1b : b ;   b , R   -> A1b\n",
    "A1b : # ;   # , R   -> A2b\n",
    "\n",
    "A2b : A ;   A , R   -> A2b\n",
    "A2b : B ;   B , R   -> A2b\n",
    "A2b : N ;   N , R   -> A2b\n",
    "\n",
    "A2b : a ;   # , L   -> A3n\n",
    "A2b : b ;   B , L   -> A3\n",
    "\n",
    "!!-- (a) Still a ~substring ---------       !! Continue id process\n",
    "A3  : A ;   A , L   -> A3\n",
    "A3  : B ;   B , L   -> A3\n",
    "A3  : N ;   N , L   -> A3\n",
    "A3  : # ;   # , L   -> A4\n",
    "\n",
    "A4  : a ;   a , L   -> A4\n",
    "A4  : b ;   b , L   -> A4\n",
    "A4  : A ;   A , R   -> A0\n",
    "A4  : B ;   B , R   -> A0\n",
    "\n",
    "!!-- (a) Not a ~substring -----------       !! Clear checks and restart id process\n",
    "A3n : A ;   N , L   -> A3n\n",
    "A3n : B ;   N , L   -> A3n\n",
    "A3n : N ;   N , L   -> A3n\n",
    "A3n : # ;   # , L   -> A4n\n",
    "\n",
    "A4n : a ;   a , L   -> A4n\n",
    "A4n : b ;   b , L   -> A4n\n",
    "A4n : A ;   a , L   -> A5n\n",
    "A4n : B ;   b , L   -> A5n\n",
    "\n",
    "A5n : A ;   a , L   -> A5n\n",
    "A5n : B ;   b , L   -> A5n\n",
    "A5n : . ;   . , R   -> A0\n",
    "\n",
    "\n",
    "\n",
    "!!---- If w starts with b ---------------\n",
    "!!--- Identify the form of w in x -----\n",
    "!!-- (b) Identify 'a' in ~substring --\n",
    "B0  : a ;   A , R   -> B1a\n",
    "\n",
    "B1a : a ;   a , R   -> B1a\n",
    "B1a : b ;   b , R   -> B1a\n",
    "B1a : # ;   # , R   -> B2a\n",
    "\n",
    "B2a : A ;   A , R   -> B2a\n",
    "B2a : B ;   B , R   -> B2a\n",
    "B2a : N ;   N , R   -> B2a\n",
    "\n",
    "B2a : a ;   A , L   -> B3\n",
    "B2a : b ;   #, L   -> B3n\n",
    "\n",
    "!!-- (b) Identify 'b' in ~substring --\n",
    "B0  : b ;   B , R   -> B1b\n",
    "\n",
    "B1b : a ;   a , R   -> B1b\n",
    "B1b : b ;   b , R   -> B1b\n",
    "B1b : # ;   # , R   -> B2b\n",
    "\n",
    "B2b : A ;   A , R   -> B2b\n",
    "B2b : B ;   B , R   -> B2b\n",
    "B2b : N ;   N , R   -> B2b\n",
    "\n",
    "B2b : a ;   N , L   -> B3n\n",
    "B2b : b ;   B , L   -> B3\n",
    "B2b : # ;   B , L   -> B3\n",
    "\n",
    "!!-- (b) Still a ~substring ---------       !! Continue id process\n",
    "B3  : A ;   A , L   -> B3\n",
    "B3  : B ;   B , L   -> B3\n",
    "B3  : N ;   N , L   -> B3\n",
    "B3  : # ;   # , L   -> B4\n",
    "\n",
    "B4  : a ;   a , L   -> B4\n",
    "B4  : b ;   b , L   -> B4\n",
    "B4  : A ;   A , R   -> B0\n",
    "B4  : B ;   B , R   -> B0\n",
    "\n",
    "!!-- (b) Not a ~substring -----------       !! Clear checks and restart id process\n",
    "B3n : A ;   N , L   -> B3n\n",
    "B3n : B ;   N , L   -> B3n\n",
    "B3n : N ;   N , L   -> B3n\n",
    "B3n : # ;   # , L   -> B4n\n",
    "\n",
    "B4n : a ;   a , L   -> B4n\n",
    "B4n : b ;   b , L   -> B4n\n",
    "B4n : A ;   a , L   -> B5n\n",
    "B4n : B ;   b , L   -> B5n\n",
    "\n",
    "B5n : A ;   a , L   -> B5n\n",
    "B5n : B ;   b , L   -> B5n\n",
    "B5n : . ;   . , R   -> B0\n",
    "\n",
    "\n",
    "\n",
    "!!---- Confirm Substring ---------------\n",
    "A0  : # ;   # , R   -> q5\n",
    "B0  : # ;   # , R   -> q5\n",
    "\n",
    "q5  : N ;   N , R   -> q5       !! find the bedinign of substirng\n",
    "q5  : A ;   A , R   -> q6\n",
    "q5  : B ;   B , R   -> q6\n",
    "\n",
    "q6  : A ;   A , R   -> q6       !! parse through substring\n",
    "q6  : B ;   B , R   -> q6\n",
    "\n",
    "q6  : . ;   . , S   -> Fq7      !! finish/accept when end up substring reached\n",
    "q6  : a ;   a , S   -> Fq7\n",
    "q6  : b ;   b , S   -> Fq7\n",
    "\n",
    "\n",
    "''')\n"
   ]
  },
  {
   "cell_type": "code",
   "execution_count": 8,
   "metadata": {},
   "outputs": [
    {
     "output_type": "execute_result",
     "data": {
      "text/plain": [
       "<graphviz.dot.Digraph at 0x1b20a300ac0>"
      ],
      "image/svg+xml": "<?xml version=\"1.0\" encoding=\"UTF-8\" standalone=\"no\"?>\r\n<!DOCTYPE svg PUBLIC \"-//W3C//DTD SVG 1.1//EN\"\r\n \"http://www.w3.org/Graphics/SVG/1.1/DTD/svg11.dtd\">\r\n<!-- Generated by graphviz version 2.38.0 (20140413.2041)\r\n -->\r\n<!-- Title: %3 Pages: 1 -->\r\n<svg width=\"947pt\" height=\"864pt\"\r\n viewBox=\"0.00 0.00 947.47 864.35\" xmlns=\"http://www.w3.org/2000/svg\" xmlns:xlink=\"http://www.w3.org/1999/xlink\">\r\n<g id=\"graph0\" class=\"graph\" transform=\"scale(1 1) rotate(0) translate(4 860.345)\">\r\n<title>%3</title>\r\n<polygon fill=\"white\" stroke=\"none\" points=\"-4,4 -4,-860.345 943.468,-860.345 943.468,4 -4,4\"/>\r\n<!-- EMPTY -->\r\n<g id=\"node1\" class=\"node\"><title>EMPTY</title>\r\n</g>\r\n<!-- Iq0 -->\r\n<g id=\"node24\" class=\"node\"><title>Iq0</title>\r\n<ellipse fill=\"none\" stroke=\"black\" cx=\"113.748\" cy=\"-255.348\" rx=\"22.9987\" ry=\"22.9987\"/>\r\n<text text-anchor=\"middle\" x=\"113.748\" y=\"-251.648\" font-family=\"Times New Roman,serif\" font-size=\"14.00\">Iq0</text>\r\n</g>\r\n<!-- EMPTY&#45;&gt;Iq0 -->\r\n<g id=\"edge1\" class=\"edge\"><title>EMPTY&#45;&gt;Iq0</title>\r\n<path fill=\"none\" stroke=\"black\" d=\"M54.3502,-255.348C62.71,-255.348 72.0455,-255.348 80.757,-255.348\"/>\r\n<polygon fill=\"black\" stroke=\"black\" points=\"80.9663,-258.848 90.9663,-255.348 80.9662,-251.848 80.9663,-258.848\"/>\r\n</g>\r\n<!-- q5 -->\r\n<g id=\"node2\" class=\"node\"><title>q5</title>\r\n<ellipse fill=\"none\" stroke=\"black\" cx=\"375.839\" cy=\"-381.348\" rx=\"20.2975\" ry=\"20.2975\"/>\r\n<text text-anchor=\"middle\" x=\"375.839\" y=\"-377.648\" font-family=\"Times New Roman,serif\" font-size=\"14.00\">q5</text>\r\n</g>\r\n<!-- q5&#45;&gt;q5 -->\r\n<g id=\"edge51\" class=\"edge\"><title>q5&#45;&gt;q5</title>\r\n<path fill=\"none\" stroke=\"black\" d=\"M364.788,-398.214C361.906,-409.059 365.589,-419.496 375.839,-419.496 382.726,-419.496 386.648,-414.784 387.607,-408.403\"/>\r\n<polygon fill=\"black\" stroke=\"black\" points=\"391.083,-407.943 386.89,-398.214 384.1,-408.435 391.083,-407.943\"/>\r\n<text text-anchor=\"middle\" x=\"375.839\" y=\"-423.296\" font-family=\"Times New Roman,serif\" font-size=\"14.00\">N ; N,R</text>\r\n</g>\r\n<!-- q6 -->\r\n<g id=\"node13\" class=\"node\"><title>q6</title>\r\n<ellipse fill=\"none\" stroke=\"black\" cx=\"514.134\" cy=\"-381.348\" rx=\"20.2975\" ry=\"20.2975\"/>\r\n<text text-anchor=\"middle\" x=\"514.134\" y=\"-377.648\" font-family=\"Times New Roman,serif\" font-size=\"14.00\">q6</text>\r\n</g>\r\n<!-- q5&#45;&gt;q6 -->\r\n<g id=\"edge52\" class=\"edge\"><title>q5&#45;&gt;q6</title>\r\n<path fill=\"none\" stroke=\"black\" d=\"M396.078,-381.348C418.779,-381.348 456.785,-381.348 483.312,-381.348\"/>\r\n<polygon fill=\"black\" stroke=\"black\" points=\"483.552,-384.848 493.552,-381.348 483.552,-377.848 483.552,-384.848\"/>\r\n<text text-anchor=\"middle\" x=\"444.987\" y=\"-400.148\" font-family=\"Times New Roman,serif\" font-size=\"14.00\">A ; A,R </text>\r\n<text text-anchor=\"middle\" x=\"444.987\" y=\"-385.148\" font-family=\"Times New Roman,serif\" font-size=\"14.00\"> B ; B,R</text>\r\n</g>\r\n<!-- B2a -->\r\n<g id=\"node3\" class=\"node\"><title>B2a</title>\r\n<ellipse fill=\"none\" stroke=\"black\" cx=\"514.134\" cy=\"-56.3478\" rx=\"24.8972\" ry=\"24.8972\"/>\r\n<text text-anchor=\"middle\" x=\"514.134\" y=\"-52.6478\" font-family=\"Times New Roman,serif\" font-size=\"14.00\">B2a</text>\r\n</g>\r\n<!-- B2a&#45;&gt;B2a -->\r\n<g id=\"edge30\" class=\"edge\"><title>B2a&#45;&gt;B2a</title>\r\n<path fill=\"none\" stroke=\"black\" d=\"M502.125,-78.3166C500.463,-89.2728 504.466,-99.0456 514.134,-99.0456 520.63,-99.0456 524.569,-94.634 525.95,-88.4159\"/>\r\n<polygon fill=\"black\" stroke=\"black\" points=\"529.451,-88.382 526.144,-78.3166 522.452,-88.2475 529.451,-88.382\"/>\r\n<text text-anchor=\"middle\" x=\"514.134\" y=\"-132.846\" font-family=\"Times New Roman,serif\" font-size=\"14.00\">A ; A,R </text>\r\n<text text-anchor=\"middle\" x=\"514.134\" y=\"-117.846\" font-family=\"Times New Roman,serif\" font-size=\"14.00\"> B ; B,R </text>\r\n<text text-anchor=\"middle\" x=\"514.134\" y=\"-102.846\" font-family=\"Times New Roman,serif\" font-size=\"14.00\"> N ; N,R</text>\r\n</g>\r\n<!-- B3n -->\r\n<g id=\"node10\" class=\"node\"><title>B3n</title>\r\n<ellipse fill=\"none\" stroke=\"black\" cx=\"651.13\" cy=\"-56.3478\" rx=\"25.1964\" ry=\"25.1964\"/>\r\n<text text-anchor=\"middle\" x=\"651.13\" y=\"-52.6478\" font-family=\"Times New Roman,serif\" font-size=\"14.00\">B3n</text>\r\n</g>\r\n<!-- B2a&#45;&gt;B3n -->\r\n<g id=\"edge32\" class=\"edge\"><title>B2a&#45;&gt;B3n</title>\r\n<path fill=\"none\" stroke=\"black\" d=\"M538.958,-56.3478C560.189,-56.3478 591.523,-56.3478 615.519,-56.3478\"/>\r\n<polygon fill=\"black\" stroke=\"black\" points=\"615.633,-59.8478 625.633,-56.3478 615.633,-52.8478 615.633,-59.8478\"/>\r\n<text text-anchor=\"middle\" x=\"581.282\" y=\"-60.1478\" font-family=\"Times New Roman,serif\" font-size=\"14.00\">b ; #,L</text>\r\n</g>\r\n<!-- B3 -->\r\n<g id=\"node15\" class=\"node\"><title>B3</title>\r\n<ellipse fill=\"none\" stroke=\"black\" cx=\"651.13\" cy=\"-188.348\" rx=\"20.5982\" ry=\"20.5982\"/>\r\n<text text-anchor=\"middle\" x=\"651.13\" y=\"-184.648\" font-family=\"Times New Roman,serif\" font-size=\"14.00\">B3</text>\r\n</g>\r\n<!-- B2a&#45;&gt;B3 -->\r\n<g id=\"edge31\" class=\"edge\"><title>B2a&#45;&gt;B3</title>\r\n<path fill=\"none\" stroke=\"black\" d=\"M536.702,-67.2092C559.686,-79.1278 594.079,-98.0625 603.782,-109.348 617.556,-125.369 611.018,-135.167 621.782,-153.348 624.177,-157.393 627.011,-161.469 629.945,-165.338\"/>\r\n<polygon fill=\"black\" stroke=\"black\" points=\"627.411,-167.773 636.398,-173.385 632.872,-163.393 627.411,-167.773\"/>\r\n<text text-anchor=\"middle\" x=\"581.282\" y=\"-113.148\" font-family=\"Times New Roman,serif\" font-size=\"14.00\">a ; A,L</text>\r\n</g>\r\n<!-- A3 -->\r\n<g id=\"node4\" class=\"node\"><title>A3</title>\r\n<ellipse fill=\"none\" stroke=\"black\" cx=\"651.13\" cy=\"-558.348\" rx=\"21.3963\" ry=\"21.3963\"/>\r\n<text text-anchor=\"middle\" x=\"651.13\" y=\"-554.648\" font-family=\"Times New Roman,serif\" font-size=\"14.00\">A3</text>\r\n</g>\r\n<!-- A3&#45;&gt;A3 -->\r\n<g id=\"edge17\" class=\"edge\"><title>A3&#45;&gt;A3</title>\r\n<path fill=\"none\" stroke=\"black\" d=\"M639.528,-576.608C636.95,-587.523 640.817,-597.796 651.13,-597.796 658.058,-597.796 662.078,-593.158 663.187,-586.805\"/>\r\n<polygon fill=\"black\" stroke=\"black\" points=\"666.675,-586.442 662.731,-576.608 659.682,-586.754 666.675,-586.442\"/>\r\n<text text-anchor=\"middle\" x=\"651.13\" y=\"-631.596\" font-family=\"Times New Roman,serif\" font-size=\"14.00\">B ; B,L </text>\r\n<text text-anchor=\"middle\" x=\"651.13\" y=\"-616.596\" font-family=\"Times New Roman,serif\" font-size=\"14.00\"> A ; A,L </text>\r\n<text text-anchor=\"middle\" x=\"651.13\" y=\"-601.596\" font-family=\"Times New Roman,serif\" font-size=\"14.00\"> N ; N,L</text>\r\n</g>\r\n<!-- A4 -->\r\n<g id=\"node14\" class=\"node\"><title>A4</title>\r\n<ellipse fill=\"none\" stroke=\"black\" cx=\"781.475\" cy=\"-512.348\" rx=\"21.3963\" ry=\"21.3963\"/>\r\n<text text-anchor=\"middle\" x=\"781.475\" y=\"-508.648\" font-family=\"Times New Roman,serif\" font-size=\"14.00\">A4</text>\r\n</g>\r\n<!-- A3&#45;&gt;A4 -->\r\n<g id=\"edge18\" class=\"edge\"><title>A3&#45;&gt;A4</title>\r\n<path fill=\"none\" stroke=\"black\" d=\"M671.623,-551.361C692.825,-543.762 726.944,-531.534 751.332,-522.793\"/>\r\n<polygon fill=\"black\" stroke=\"black\" points=\"752.566,-526.069 760.799,-519.4 750.204,-519.479 752.566,-526.069\"/>\r\n<text text-anchor=\"middle\" x=\"717.978\" y=\"-545.148\" font-family=\"Times New Roman,serif\" font-size=\"14.00\"># ; #,L</text>\r\n</g>\r\n<!-- A2b -->\r\n<g id=\"node5\" class=\"node\"><title>A2b</title>\r\n<ellipse fill=\"none\" stroke=\"black\" cx=\"514.134\" cy=\"-691.348\" rx=\"26.7961\" ry=\"26.7961\"/>\r\n<text text-anchor=\"middle\" x=\"514.134\" y=\"-687.648\" font-family=\"Times New Roman,serif\" font-size=\"14.00\">A2b</text>\r\n</g>\r\n<!-- A2b&#45;&gt;A3 -->\r\n<g id=\"edge16\" class=\"edge\"><title>A2b&#45;&gt;A3</title>\r\n<path fill=\"none\" stroke=\"black\" d=\"M538.063,-678.67C557.117,-667.392 584.183,-649.584 603.782,-629.348 616.215,-616.51 627.28,-599.881 635.477,-585.943\"/>\r\n<polygon fill=\"black\" stroke=\"black\" points=\"638.527,-587.661 640.436,-577.239 632.444,-584.196 638.527,-587.661\"/>\r\n<text text-anchor=\"middle\" x=\"581.282\" y=\"-669.148\" font-family=\"Times New Roman,serif\" font-size=\"14.00\">b ; B,L</text>\r\n</g>\r\n<!-- A2b&#45;&gt;A2b -->\r\n<g id=\"edge14\" class=\"edge\"><title>A2b&#45;&gt;A2b</title>\r\n<path fill=\"none\" stroke=\"black\" d=\"M502.004,-715.234C500.681,-726.314 504.724,-735.995 514.134,-735.995 520.457,-735.995 524.357,-731.625 525.834,-725.396\"/>\r\n<polygon fill=\"black\" stroke=\"black\" points=\"529.338,-725.373 526.265,-715.234 522.344,-725.076 529.338,-725.373\"/>\r\n<text text-anchor=\"middle\" x=\"514.134\" y=\"-769.795\" font-family=\"Times New Roman,serif\" font-size=\"14.00\">A ; A,R </text>\r\n<text text-anchor=\"middle\" x=\"514.134\" y=\"-754.795\" font-family=\"Times New Roman,serif\" font-size=\"14.00\"> B ; B,R </text>\r\n<text text-anchor=\"middle\" x=\"514.134\" y=\"-739.795\" font-family=\"Times New Roman,serif\" font-size=\"14.00\"> N ; N,R</text>\r\n</g>\r\n<!-- A3n -->\r\n<g id=\"node7\" class=\"node\"><title>A3n</title>\r\n<ellipse fill=\"none\" stroke=\"black\" cx=\"651.13\" cy=\"-691.348\" rx=\"25.9954\" ry=\"25.9954\"/>\r\n<text text-anchor=\"middle\" x=\"651.13\" y=\"-687.648\" font-family=\"Times New Roman,serif\" font-size=\"14.00\">A3n</text>\r\n</g>\r\n<!-- A2b&#45;&gt;A3n -->\r\n<g id=\"edge15\" class=\"edge\"><title>A2b&#45;&gt;A3n</title>\r\n<path fill=\"none\" stroke=\"black\" d=\"M540.844,-691.348C561.807,-691.348 591.636,-691.348 614.836,-691.348\"/>\r\n<polygon fill=\"black\" stroke=\"black\" points=\"614.973,-694.848 624.973,-691.348 614.973,-687.848 614.973,-694.848\"/>\r\n<text text-anchor=\"middle\" x=\"581.282\" y=\"-695.148\" font-family=\"Times New Roman,serif\" font-size=\"14.00\">a ; #,L</text>\r\n</g>\r\n<!-- A5n -->\r\n<g id=\"node6\" class=\"node\"><title>A5n</title>\r\n<ellipse fill=\"none\" stroke=\"black\" cx=\"913.471\" cy=\"-782.348\" rx=\"25.9954\" ry=\"25.9954\"/>\r\n<text text-anchor=\"middle\" x=\"913.471\" y=\"-778.648\" font-family=\"Times New Roman,serif\" font-size=\"14.00\">A5n</text>\r\n</g>\r\n<!-- A5n&#45;&gt;A5n -->\r\n<g id=\"edge25\" class=\"edge\"><title>A5n&#45;&gt;A5n</title>\r\n<path fill=\"none\" stroke=\"black\" d=\"M901.708,-805.886C900.425,-816.805 904.346,-826.345 913.471,-826.345 919.601,-826.345 923.383,-822.039 924.816,-815.901\"/>\r\n<polygon fill=\"black\" stroke=\"black\" points=\"928.313,-816.023 925.233,-805.886 921.319,-815.731 928.313,-816.023\"/>\r\n<text text-anchor=\"middle\" x=\"913.471\" y=\"-845.145\" font-family=\"Times New Roman,serif\" font-size=\"14.00\">B ; b,L </text>\r\n<text text-anchor=\"middle\" x=\"913.471\" y=\"-830.145\" font-family=\"Times New Roman,serif\" font-size=\"14.00\"> A ; a,L</text>\r\n</g>\r\n<!-- A0 -->\r\n<g id=\"node11\" class=\"node\"><title>A0</title>\r\n<ellipse fill=\"none\" stroke=\"black\" cx=\"241.844\" cy=\"-521.348\" rx=\"21.3963\" ry=\"21.3963\"/>\r\n<text text-anchor=\"middle\" x=\"241.844\" y=\"-517.648\" font-family=\"Times New Roman,serif\" font-size=\"14.00\">A0</text>\r\n</g>\r\n<!-- A5n&#45;&gt;A0 -->\r\n<g id=\"edge26\" class=\"edge\"><title>A5n&#45;&gt;A0</title>\r\n<path fill=\"none\" stroke=\"black\" d=\"M888.343,-790.449C862.475,-798.402 820.047,-809.348 782.475,-809.348 374.839,-809.348 374.839,-809.348 374.839,-809.348 263.178,-809.348 245.607,-628.226 243.116,-553.252\"/>\r\n<polygon fill=\"black\" stroke=\"black\" points=\"246.608,-552.9 242.849,-542.995 239.611,-553.082 246.608,-552.9\"/>\r\n<text text-anchor=\"middle\" x=\"581.282\" y=\"-813.148\" font-family=\"Times New Roman,serif\" font-size=\"14.00\">. ; .,R</text>\r\n</g>\r\n<!-- A3n&#45;&gt;A3n -->\r\n<g id=\"edge21\" class=\"edge\"><title>A3n&#45;&gt;A3n</title>\r\n<path fill=\"none\" stroke=\"black\" d=\"M639.057,-714.436C637.566,-725.542 641.591,-735.345 651.13,-735.345 657.539,-735.345 661.458,-730.92 662.889,-724.648\"/>\r\n<polygon fill=\"black\" stroke=\"black\" points=\"666.393,-724.539 663.203,-714.436 659.397,-724.324 666.393,-724.539\"/>\r\n<text text-anchor=\"middle\" x=\"651.13\" y=\"-769.145\" font-family=\"Times New Roman,serif\" font-size=\"14.00\">B ; N,L </text>\r\n<text text-anchor=\"middle\" x=\"651.13\" y=\"-754.145\" font-family=\"Times New Roman,serif\" font-size=\"14.00\"> A ; N,L </text>\r\n<text text-anchor=\"middle\" x=\"651.13\" y=\"-739.145\" font-family=\"Times New Roman,serif\" font-size=\"14.00\"> N ; N,L</text>\r\n</g>\r\n<!-- A4n -->\r\n<g id=\"node20\" class=\"node\"><title>A4n</title>\r\n<ellipse fill=\"none\" stroke=\"black\" cx=\"781.475\" cy=\"-703.348\" rx=\"25.9954\" ry=\"25.9954\"/>\r\n<text text-anchor=\"middle\" x=\"781.475\" y=\"-699.648\" font-family=\"Times New Roman,serif\" font-size=\"14.00\">A4n</text>\r\n</g>\r\n<!-- A3n&#45;&gt;A4n -->\r\n<g id=\"edge22\" class=\"edge\"><title>A3n&#45;&gt;A4n</title>\r\n<path fill=\"none\" stroke=\"black\" d=\"M677.181,-693.69C696.615,-695.507 723.791,-698.048 745.39,-700.067\"/>\r\n<polygon fill=\"black\" stroke=\"black\" points=\"745.205,-703.565 755.487,-701.011 745.857,-696.596 745.205,-703.565\"/>\r\n<text text-anchor=\"middle\" x=\"717.978\" y=\"-703.148\" font-family=\"Times New Roman,serif\" font-size=\"14.00\"># ; #,L</text>\r\n</g>\r\n<!-- B4 -->\r\n<g id=\"node8\" class=\"node\"><title>B4</title>\r\n<ellipse fill=\"none\" stroke=\"black\" cx=\"781.475\" cy=\"-251.348\" rx=\"20.5982\" ry=\"20.5982\"/>\r\n<text text-anchor=\"middle\" x=\"781.475\" y=\"-247.648\" font-family=\"Times New Roman,serif\" font-size=\"14.00\">B4</text>\r\n</g>\r\n<!-- B4&#45;&gt;B4 -->\r\n<g id=\"edge41\" class=\"edge\"><title>B4&#45;&gt;B4</title>\r\n<path fill=\"none\" stroke=\"black\" d=\"M770.577,-269.307C768.155,-280.042 771.788,-290.146 781.475,-290.146 787.984,-290.146 791.76,-285.585 792.802,-279.336\"/>\r\n<polygon fill=\"black\" stroke=\"black\" points=\"796.297,-279.149 792.374,-269.307 789.304,-279.447 796.297,-279.149\"/>\r\n<text text-anchor=\"middle\" x=\"781.475\" y=\"-308.946\" font-family=\"Times New Roman,serif\" font-size=\"14.00\">a ; a,L </text>\r\n<text text-anchor=\"middle\" x=\"781.475\" y=\"-293.946\" font-family=\"Times New Roman,serif\" font-size=\"14.00\"> b ; b,L</text>\r\n</g>\r\n<!-- B0 -->\r\n<g id=\"node17\" class=\"node\"><title>B0</title>\r\n<ellipse fill=\"none\" stroke=\"black\" cx=\"241.844\" cy=\"-255.348\" rx=\"20.5982\" ry=\"20.5982\"/>\r\n<text text-anchor=\"middle\" x=\"241.844\" y=\"-251.648\" font-family=\"Times New Roman,serif\" font-size=\"14.00\">B0</text>\r\n</g>\r\n<!-- B4&#45;&gt;B0 -->\r\n<g id=\"edge42\" class=\"edge\"><title>B4&#45;&gt;B0</title>\r\n<path fill=\"none\" stroke=\"black\" d=\"M765.034,-264.496C742.029,-282.696 696.672,-313.348 652.13,-313.348 374.839,-313.348 374.839,-313.348 374.839,-313.348 334.536,-313.348 292.714,-290.403 267.228,-273.376\"/>\r\n<polygon fill=\"black\" stroke=\"black\" points=\"269.143,-270.445 258.924,-267.648 265.168,-276.207 269.143,-270.445\"/>\r\n<text text-anchor=\"middle\" x=\"514.134\" y=\"-332.148\" font-family=\"Times New Roman,serif\" font-size=\"14.00\">A ; A,R </text>\r\n<text text-anchor=\"middle\" x=\"514.134\" y=\"-317.148\" font-family=\"Times New Roman,serif\" font-size=\"14.00\"> B ; B,R</text>\r\n</g>\r\n<!-- B4n -->\r\n<g id=\"node9\" class=\"node\"><title>B4n</title>\r\n<ellipse fill=\"none\" stroke=\"black\" cx=\"781.475\" cy=\"-56.3478\" rx=\"25.1964\" ry=\"25.1964\"/>\r\n<text text-anchor=\"middle\" x=\"781.475\" y=\"-52.6478\" font-family=\"Times New Roman,serif\" font-size=\"14.00\">B4n</text>\r\n</g>\r\n<!-- B4n&#45;&gt;B4n -->\r\n<g id=\"edge45\" class=\"edge\"><title>B4n&#45;&gt;B4n</title>\r\n<path fill=\"none\" stroke=\"black\" d=\"M770.134,-79.0953C768.734,-90.0368 772.514,-99.6955 781.475,-99.6955 787.496,-99.6955 791.178,-95.3354 792.521,-89.1556\"/>\r\n<polygon fill=\"black\" stroke=\"black\" points=\"796.022,-89.1936 792.816,-79.0953 789.025,-88.9884 796.022,-89.1936\"/>\r\n<text text-anchor=\"middle\" x=\"781.475\" y=\"-118.496\" font-family=\"Times New Roman,serif\" font-size=\"14.00\">a ; a,L </text>\r\n<text text-anchor=\"middle\" x=\"781.475\" y=\"-103.496\" font-family=\"Times New Roman,serif\" font-size=\"14.00\"> b ; b,L</text>\r\n</g>\r\n<!-- B5n -->\r\n<g id=\"node22\" class=\"node\"><title>B5n</title>\r\n<ellipse fill=\"none\" stroke=\"black\" cx=\"913.471\" cy=\"-25.3478\" rx=\"25.1964\" ry=\"25.1964\"/>\r\n<text text-anchor=\"middle\" x=\"913.471\" y=\"-21.6478\" font-family=\"Times New Roman,serif\" font-size=\"14.00\">B5n</text>\r\n</g>\r\n<!-- B4n&#45;&gt;B5n -->\r\n<g id=\"edge46\" class=\"edge\"><title>B4n&#45;&gt;B5n</title>\r\n<path fill=\"none\" stroke=\"black\" d=\"M806.318,-50.6619C826.531,-45.8417 855.765,-38.8703 878.438,-33.4634\"/>\r\n<polygon fill=\"black\" stroke=\"black\" points=\"879.423,-36.8268 888.338,-31.1026 877.799,-30.0178 879.423,-36.8268\"/>\r\n<text text-anchor=\"middle\" x=\"847.473\" y=\"-65.1478\" font-family=\"Times New Roman,serif\" font-size=\"14.00\">B ; b,L </text>\r\n<text text-anchor=\"middle\" x=\"847.473\" y=\"-50.1478\" font-family=\"Times New Roman,serif\" font-size=\"14.00\"> A ; a,L</text>\r\n</g>\r\n<!-- B3n&#45;&gt;B4n -->\r\n<g id=\"edge44\" class=\"edge\"><title>B3n&#45;&gt;B4n</title>\r\n<path fill=\"none\" stroke=\"black\" d=\"M676.573,-56.3478C696.199,-56.3478 723.998,-56.3478 745.904,-56.3478\"/>\r\n<polygon fill=\"black\" stroke=\"black\" points=\"746.123,-59.8478 756.123,-56.3478 746.123,-52.8478 746.123,-59.8478\"/>\r\n<text text-anchor=\"middle\" x=\"717.978\" y=\"-60.1478\" font-family=\"Times New Roman,serif\" font-size=\"14.00\"># ; #,L</text>\r\n</g>\r\n<!-- B3n&#45;&gt;B3n -->\r\n<g id=\"edge43\" class=\"edge\"><title>B3n&#45;&gt;B3n</title>\r\n<path fill=\"none\" stroke=\"black\" d=\"M639.057,-79.0953C637.566,-90.0368 641.591,-99.6955 651.13,-99.6955 657.539,-99.6955 661.458,-95.3354 662.889,-89.1556\"/>\r\n<polygon fill=\"black\" stroke=\"black\" points=\"666.389,-89.1997 663.203,-79.0953 659.392,-88.9812 666.389,-89.1997\"/>\r\n<text text-anchor=\"middle\" x=\"651.13\" y=\"-133.496\" font-family=\"Times New Roman,serif\" font-size=\"14.00\">B ; N,L </text>\r\n<text text-anchor=\"middle\" x=\"651.13\" y=\"-118.496\" font-family=\"Times New Roman,serif\" font-size=\"14.00\"> A ; N,L </text>\r\n<text text-anchor=\"middle\" x=\"651.13\" y=\"-103.496\" font-family=\"Times New Roman,serif\" font-size=\"14.00\"> N ; N,L</text>\r\n</g>\r\n<!-- A0&#45;&gt;q5 -->\r\n<g id=\"edge49\" class=\"edge\"><title>A0&#45;&gt;q5</title>\r\n<path fill=\"none\" stroke=\"black\" d=\"M254.006,-503.407C262.81,-489.863 275.8,-471.146 289.191,-456.348 308.337,-435.189 333.129,-414.042 351.109,-399.622\"/>\r\n<polygon fill=\"black\" stroke=\"black\" points=\"353.664,-402.064 359.333,-393.114 349.32,-396.575 353.664,-402.064\"/>\r\n<text text-anchor=\"middle\" x=\"310.191\" y=\"-460.148\" font-family=\"Times New Roman,serif\" font-size=\"14.00\"># ; #,R</text>\r\n</g>\r\n<!-- A1b -->\r\n<g id=\"node12\" class=\"node\"><title>A1b</title>\r\n<ellipse fill=\"none\" stroke=\"black\" cx=\"375.839\" cy=\"-670.348\" rx=\"26.7961\" ry=\"26.7961\"/>\r\n<text text-anchor=\"middle\" x=\"375.839\" y=\"-666.648\" font-family=\"Times New Roman,serif\" font-size=\"14.00\">A1b</text>\r\n</g>\r\n<!-- A0&#45;&gt;A1b -->\r\n<g id=\"edge11\" class=\"edge\"><title>A0&#45;&gt;A1b</title>\r\n<path fill=\"none\" stroke=\"black\" d=\"M256.72,-537.012C278.958,-562.115 322.873,-611.688 350.441,-642.806\"/>\r\n<polygon fill=\"black\" stroke=\"black\" points=\"348.161,-645.511 357.412,-650.676 353.401,-640.87 348.161,-645.511\"/>\r\n<text text-anchor=\"middle\" x=\"310.191\" y=\"-622.148\" font-family=\"Times New Roman,serif\" font-size=\"14.00\">b ; B,R</text>\r\n</g>\r\n<!-- A1a -->\r\n<g id=\"node23\" class=\"node\"><title>A1a</title>\r\n<ellipse fill=\"none\" stroke=\"black\" cx=\"375.839\" cy=\"-544.348\" rx=\"25.1964\" ry=\"25.1964\"/>\r\n<text text-anchor=\"middle\" x=\"375.839\" y=\"-540.648\" font-family=\"Times New Roman,serif\" font-size=\"14.00\">A1a</text>\r\n</g>\r\n<!-- A0&#45;&gt;A1a -->\r\n<g id=\"edge5\" class=\"edge\"><title>A0&#45;&gt;A1a</title>\r\n<path fill=\"none\" stroke=\"black\" d=\"M263.179,-524.891C283.807,-528.486 316.108,-534.114 340.674,-538.394\"/>\r\n<polygon fill=\"black\" stroke=\"black\" points=\"340.219,-541.868 350.671,-540.137 341.42,-534.972 340.219,-541.868\"/>\r\n<text text-anchor=\"middle\" x=\"310.191\" y=\"-540.148\" font-family=\"Times New Roman,serif\" font-size=\"14.00\">a ; A,R</text>\r\n</g>\r\n<!-- A1b&#45;&gt;A2b -->\r\n<g id=\"edge13\" class=\"edge\"><title>A1b&#45;&gt;A2b</title>\r\n<path fill=\"none\" stroke=\"black\" d=\"M402.475,-674.298C423.702,-677.568 454.089,-682.25 477.653,-685.881\"/>\r\n<polygon fill=\"black\" stroke=\"black\" points=\"477.197,-689.352 487.613,-687.416 478.263,-682.433 477.197,-689.352\"/>\r\n<text text-anchor=\"middle\" x=\"444.987\" y=\"-689.148\" font-family=\"Times New Roman,serif\" font-size=\"14.00\"># ; #,R</text>\r\n</g>\r\n<!-- A1b&#45;&gt;A1b -->\r\n<g id=\"edge12\" class=\"edge\"><title>A1b&#45;&gt;A1b</title>\r\n<path fill=\"none\" stroke=\"black\" d=\"M364.027,-694.688C362.902,-705.578 366.839,-714.995 375.839,-714.995 381.745,-714.995 385.471,-710.939 387.017,-705.073\"/>\r\n<polygon fill=\"black\" stroke=\"black\" points=\"390.535,-704.883 387.652,-694.688 383.548,-704.456 390.535,-704.883\"/>\r\n<text text-anchor=\"middle\" x=\"375.839\" y=\"-733.795\" font-family=\"Times New Roman,serif\" font-size=\"14.00\">b ; b,R </text>\r\n<text text-anchor=\"middle\" x=\"375.839\" y=\"-718.795\" font-family=\"Times New Roman,serif\" font-size=\"14.00\"> a ; a,R</text>\r\n</g>\r\n<!-- q6&#45;&gt;q6 -->\r\n<g id=\"edge53\" class=\"edge\"><title>q6&#45;&gt;q6</title>\r\n<path fill=\"none\" stroke=\"black\" d=\"M502.738,-398.214C499.765,-409.059 503.564,-419.496 514.134,-419.496 521.236,-419.496 525.281,-414.784 526.27,-408.403\"/>\r\n<polygon fill=\"black\" stroke=\"black\" points=\"529.745,-407.934 525.53,-398.214 522.763,-408.441 529.745,-407.934\"/>\r\n<text text-anchor=\"middle\" x=\"514.134\" y=\"-438.296\" font-family=\"Times New Roman,serif\" font-size=\"14.00\">A ; A,R </text>\r\n<text text-anchor=\"middle\" x=\"514.134\" y=\"-423.296\" font-family=\"Times New Roman,serif\" font-size=\"14.00\"> B ; B,R</text>\r\n</g>\r\n<!-- Fq7 -->\r\n<g id=\"node25\" class=\"node\"><title>Fq7</title>\r\n<ellipse fill=\"none\" stroke=\"black\" cx=\"651.13\" cy=\"-381.348\" rx=\"25.2169\" ry=\"25.2169\"/>\r\n<ellipse fill=\"none\" stroke=\"black\" cx=\"651.13\" cy=\"-381.348\" rx=\"29.1963\" ry=\"29.1963\"/>\r\n<text text-anchor=\"middle\" x=\"651.13\" y=\"-377.648\" font-family=\"Times New Roman,serif\" font-size=\"14.00\">Fq7</text>\r\n</g>\r\n<!-- q6&#45;&gt;Fq7 -->\r\n<g id=\"edge54\" class=\"edge\"><title>q6&#45;&gt;Fq7</title>\r\n<path fill=\"none\" stroke=\"black\" d=\"M534.476,-381.348C554.379,-381.348 585.938,-381.348 611.065,-381.348\"/>\r\n<polygon fill=\"black\" stroke=\"black\" points=\"611.387,-384.848 621.387,-381.348 611.387,-377.848 611.387,-384.848\"/>\r\n<text text-anchor=\"middle\" x=\"581.282\" y=\"-415.148\" font-family=\"Times New Roman,serif\" font-size=\"14.00\">. ; .,S </text>\r\n<text text-anchor=\"middle\" x=\"581.282\" y=\"-400.148\" font-family=\"Times New Roman,serif\" font-size=\"14.00\"> a ; a,S </text>\r\n<text text-anchor=\"middle\" x=\"581.282\" y=\"-385.148\" font-family=\"Times New Roman,serif\" font-size=\"14.00\"> b ; b,S</text>\r\n</g>\r\n<!-- A4&#45;&gt;A0 -->\r\n<g id=\"edge20\" class=\"edge\"><title>A4&#45;&gt;A0</title>\r\n<path fill=\"none\" stroke=\"black\" d=\"M760.738,-505.535C735.768,-497.536 691.294,-485.348 652.13,-485.348 374.839,-485.348 374.839,-485.348 374.839,-485.348 337.98,-485.348 297.308,-498.575 270.987,-508.994\"/>\r\n<polygon fill=\"black\" stroke=\"black\" points=\"269.572,-505.792 261.64,-512.816 272.221,-512.271 269.572,-505.792\"/>\r\n<text text-anchor=\"middle\" x=\"514.134\" y=\"-504.148\" font-family=\"Times New Roman,serif\" font-size=\"14.00\">A ; A,R </text>\r\n<text text-anchor=\"middle\" x=\"514.134\" y=\"-489.148\" font-family=\"Times New Roman,serif\" font-size=\"14.00\"> B ; B,R</text>\r\n</g>\r\n<!-- A4&#45;&gt;A4 -->\r\n<g id=\"edge19\" class=\"edge\"><title>A4&#45;&gt;A4</title>\r\n<path fill=\"none\" stroke=\"black\" d=\"M770.489,-531.017C768.247,-541.778 771.909,-551.796 781.475,-551.796 787.903,-551.796 791.665,-547.274 792.762,-541.042\"/>\r\n<polygon fill=\"black\" stroke=\"black\" points=\"796.259,-540.908 792.462,-531.017 789.262,-541.117 796.259,-540.908\"/>\r\n<text text-anchor=\"middle\" x=\"781.475\" y=\"-570.596\" font-family=\"Times New Roman,serif\" font-size=\"14.00\">a ; a,L </text>\r\n<text text-anchor=\"middle\" x=\"781.475\" y=\"-555.596\" font-family=\"Times New Roman,serif\" font-size=\"14.00\"> b ; b,L</text>\r\n</g>\r\n<!-- B3&#45;&gt;B4 -->\r\n<g id=\"edge40\" class=\"edge\"><title>B3&#45;&gt;B4</title>\r\n<path fill=\"none\" stroke=\"black\" d=\"M670.246,-197.24C691.841,-207.84 728.141,-225.659 753.149,-237.935\"/>\r\n<polygon fill=\"black\" stroke=\"black\" points=\"751.932,-241.236 762.451,-242.5 755.016,-234.952 751.932,-241.236\"/>\r\n<text text-anchor=\"middle\" x=\"717.978\" y=\"-233.148\" font-family=\"Times New Roman,serif\" font-size=\"14.00\"># ; #,L</text>\r\n</g>\r\n<!-- B3&#45;&gt;B3 -->\r\n<g id=\"edge39\" class=\"edge\"><title>B3&#45;&gt;B3</title>\r\n<path fill=\"none\" stroke=\"black\" d=\"M639.628,-205.904C636.854,-216.788 640.688,-227.146 651.13,-227.146 658.145,-227.146 662.178,-222.47 663.228,-216.101\"/>\r\n<polygon fill=\"black\" stroke=\"black\" points=\"666.709,-215.683 662.632,-205.904 659.721,-216.091 666.709,-215.683\"/>\r\n<text text-anchor=\"middle\" x=\"651.13\" y=\"-260.946\" font-family=\"Times New Roman,serif\" font-size=\"14.00\">B ; B,L </text>\r\n<text text-anchor=\"middle\" x=\"651.13\" y=\"-245.946\" font-family=\"Times New Roman,serif\" font-size=\"14.00\"> A ; A,L </text>\r\n<text text-anchor=\"middle\" x=\"651.13\" y=\"-230.946\" font-family=\"Times New Roman,serif\" font-size=\"14.00\"> N ; N,L</text>\r\n</g>\r\n<!-- A2a -->\r\n<g id=\"node16\" class=\"node\"><title>A2a</title>\r\n<ellipse fill=\"none\" stroke=\"black\" cx=\"514.134\" cy=\"-558.348\" rx=\"25.1964\" ry=\"25.1964\"/>\r\n<text text-anchor=\"middle\" x=\"514.134\" y=\"-554.648\" font-family=\"Times New Roman,serif\" font-size=\"14.00\">A2a</text>\r\n</g>\r\n<!-- A2a&#45;&gt;A3 -->\r\n<g id=\"edge9\" class=\"edge\"><title>A2a&#45;&gt;A3</title>\r\n<path fill=\"none\" stroke=\"black\" d=\"M539.581,-558.348C561.952,-558.348 595.151,-558.348 619.327,-558.348\"/>\r\n<polygon fill=\"black\" stroke=\"black\" points=\"619.403,-561.848 629.403,-558.348 619.403,-554.848 619.403,-561.848\"/>\r\n<text text-anchor=\"middle\" x=\"581.282\" y=\"-577.148\" font-family=\"Times New Roman,serif\" font-size=\"14.00\">a ; A,L </text>\r\n<text text-anchor=\"middle\" x=\"581.282\" y=\"-562.148\" font-family=\"Times New Roman,serif\" font-size=\"14.00\"> # ; A,L</text>\r\n</g>\r\n<!-- A2a&#45;&gt;A3n -->\r\n<g id=\"edge10\" class=\"edge\"><title>A2a&#45;&gt;A3n</title>\r\n<path fill=\"none\" stroke=\"black\" d=\"M534.708,-573.618C542.091,-579.13 550.669,-585.246 558.782,-590.348 577.971,-602.413 588.055,-598.025 603.782,-614.348 616.47,-627.517 612.464,-635.613 621.782,-651.348 623.978,-655.055 626.413,-658.861 628.909,-662.581\"/>\r\n<polygon fill=\"black\" stroke=\"black\" points=\"626.182,-664.79 634.753,-671.018 631.936,-660.804 626.182,-664.79\"/>\r\n<text text-anchor=\"middle\" x=\"581.282\" y=\"-618.148\" font-family=\"Times New Roman,serif\" font-size=\"14.00\">b ; N,L</text>\r\n</g>\r\n<!-- A2a&#45;&gt;A2a -->\r\n<g id=\"edge8\" class=\"edge\"><title>A2a&#45;&gt;A2a</title>\r\n<path fill=\"none\" stroke=\"black\" d=\"M502.061,-581.095C500.571,-592.037 504.595,-601.696 514.134,-601.696 520.543,-601.696 524.463,-597.335 525.893,-591.156\"/>\r\n<polygon fill=\"black\" stroke=\"black\" points=\"529.393,-591.2 526.207,-581.095 522.397,-590.981 529.393,-591.2\"/>\r\n<text text-anchor=\"middle\" x=\"514.134\" y=\"-635.496\" font-family=\"Times New Roman,serif\" font-size=\"14.00\">A ; A,R </text>\r\n<text text-anchor=\"middle\" x=\"514.134\" y=\"-620.496\" font-family=\"Times New Roman,serif\" font-size=\"14.00\"> B ; B,R </text>\r\n<text text-anchor=\"middle\" x=\"514.134\" y=\"-605.496\" font-family=\"Times New Roman,serif\" font-size=\"14.00\"> N ; N,R</text>\r\n</g>\r\n<!-- B0&#45;&gt;q5 -->\r\n<g id=\"edge50\" class=\"edge\"><title>B0&#45;&gt;q5</title>\r\n<path fill=\"none\" stroke=\"black\" d=\"M251.79,-273.776C259.985,-289.339 273.244,-311.55 289.191,-327.348 306.366,-344.362 329.807,-358.68 347.824,-368.289\"/>\r\n<polygon fill=\"black\" stroke=\"black\" points=\"346.71,-371.652 357.201,-373.13 349.921,-365.432 346.71,-371.652\"/>\r\n<text text-anchor=\"middle\" x=\"310.191\" y=\"-363.148\" font-family=\"Times New Roman,serif\" font-size=\"14.00\"># ; #,R</text>\r\n</g>\r\n<!-- B1a -->\r\n<g id=\"node19\" class=\"node\"><title>B1a</title>\r\n<ellipse fill=\"none\" stroke=\"black\" cx=\"375.839\" cy=\"-81.3478\" rx=\"24.8972\" ry=\"24.8972\"/>\r\n<text text-anchor=\"middle\" x=\"375.839\" y=\"-77.6478\" font-family=\"Times New Roman,serif\" font-size=\"14.00\">B1a</text>\r\n</g>\r\n<!-- B0&#45;&gt;B1a -->\r\n<g id=\"edge27\" class=\"edge\"><title>B0&#45;&gt;B1a</title>\r\n<path fill=\"none\" stroke=\"black\" d=\"M257.088,-241.055C261.728,-236.196 266.81,-230.651 271.191,-225.348 302.838,-187.041 335.757,-139.834 355.778,-110.153\"/>\r\n<polygon fill=\"black\" stroke=\"black\" points=\"358.896,-111.788 361.562,-101.534 353.083,-107.887 358.896,-111.788\"/>\r\n<text text-anchor=\"middle\" x=\"310.191\" y=\"-207.148\" font-family=\"Times New Roman,serif\" font-size=\"14.00\">a ; A,R</text>\r\n</g>\r\n<!-- B1b -->\r\n<g id=\"node21\" class=\"node\"><title>B1b</title>\r\n<ellipse fill=\"none\" stroke=\"black\" cx=\"375.839\" cy=\"-205.348\" rx=\"25.9954\" ry=\"25.9954\"/>\r\n<text text-anchor=\"middle\" x=\"375.839\" y=\"-201.648\" font-family=\"Times New Roman,serif\" font-size=\"14.00\">B1b</text>\r\n</g>\r\n<!-- B0&#45;&gt;B1b -->\r\n<g id=\"edge33\" class=\"edge\"><title>B0&#45;&gt;B1b</title>\r\n<path fill=\"none\" stroke=\"black\" d=\"M261.475,-248.29C282.178,-240.448 316.024,-227.627 341.353,-218.032\"/>\r\n<polygon fill=\"black\" stroke=\"black\" points=\"342.828,-221.217 350.939,-214.401 340.348,-214.67 342.828,-221.217\"/>\r\n<text text-anchor=\"middle\" x=\"310.191\" y=\"-242.148\" font-family=\"Times New Roman,serif\" font-size=\"14.00\">b ; B,R</text>\r\n</g>\r\n<!-- B2b -->\r\n<g id=\"node18\" class=\"node\"><title>B2b</title>\r\n<ellipse fill=\"none\" stroke=\"black\" cx=\"514.134\" cy=\"-188.348\" rx=\"25.9954\" ry=\"25.9954\"/>\r\n<text text-anchor=\"middle\" x=\"514.134\" y=\"-184.648\" font-family=\"Times New Roman,serif\" font-size=\"14.00\">B2b</text>\r\n</g>\r\n<!-- B2b&#45;&gt;B3n -->\r\n<g id=\"edge37\" class=\"edge\"><title>B2b&#45;&gt;B3n</title>\r\n<path fill=\"none\" stroke=\"black\" d=\"M537.174,-175.479C556.179,-163.709 583.658,-145.024 603.782,-124.348 614.607,-113.226 624.591,-99.2982 632.498,-86.9488\"/>\r\n<polygon fill=\"black\" stroke=\"black\" points=\"635.568,-88.6397 637.871,-78.2982 629.622,-84.9463 635.568,-88.6397\"/>\r\n<text text-anchor=\"middle\" x=\"581.282\" y=\"-164.148\" font-family=\"Times New Roman,serif\" font-size=\"14.00\">a ; N,L</text>\r\n</g>\r\n<!-- B2b&#45;&gt;B3 -->\r\n<g id=\"edge38\" class=\"edge\"><title>B2b&#45;&gt;B3</title>\r\n<path fill=\"none\" stroke=\"black\" d=\"M540.21,-188.348C562.691,-188.348 595.732,-188.348 619.715,-188.348\"/>\r\n<polygon fill=\"black\" stroke=\"black\" points=\"620.027,-191.848 630.027,-188.348 620.027,-184.848 620.027,-191.848\"/>\r\n<text text-anchor=\"middle\" x=\"581.282\" y=\"-207.148\" font-family=\"Times New Roman,serif\" font-size=\"14.00\"># ; B,L </text>\r\n<text text-anchor=\"middle\" x=\"581.282\" y=\"-192.148\" font-family=\"Times New Roman,serif\" font-size=\"14.00\"> b ; B,L</text>\r\n</g>\r\n<!-- B2b&#45;&gt;B2b -->\r\n<g id=\"edge36\" class=\"edge\"><title>B2b&#45;&gt;B2b</title>\r\n<path fill=\"none\" stroke=\"black\" d=\"M502.061,-211.436C500.571,-222.542 504.595,-232.345 514.134,-232.345 520.543,-232.345 524.463,-227.92 525.893,-221.648\"/>\r\n<polygon fill=\"black\" stroke=\"black\" points=\"529.398,-221.539 526.207,-211.436 522.401,-221.324 529.398,-221.539\"/>\r\n<text text-anchor=\"middle\" x=\"514.134\" y=\"-266.145\" font-family=\"Times New Roman,serif\" font-size=\"14.00\">A ; A,R </text>\r\n<text text-anchor=\"middle\" x=\"514.134\" y=\"-251.145\" font-family=\"Times New Roman,serif\" font-size=\"14.00\"> B ; B,R </text>\r\n<text text-anchor=\"middle\" x=\"514.134\" y=\"-236.145\" font-family=\"Times New Roman,serif\" font-size=\"14.00\"> N ; N,R</text>\r\n</g>\r\n<!-- B1a&#45;&gt;B2a -->\r\n<g id=\"edge29\" class=\"edge\"><title>B1a&#45;&gt;B2a</title>\r\n<path fill=\"none\" stroke=\"black\" d=\"M400.269,-77.0501C422.113,-73.0434 454.932,-67.0236 479.557,-62.5066\"/>\r\n<polygon fill=\"black\" stroke=\"black\" points=\"480.35,-65.9198 489.554,-60.673 479.087,-59.0347 480.35,-65.9198\"/>\r\n<text text-anchor=\"middle\" x=\"444.987\" y=\"-77.1478\" font-family=\"Times New Roman,serif\" font-size=\"14.00\"># ; #,R</text>\r\n</g>\r\n<!-- B1a&#45;&gt;B1a -->\r\n<g id=\"edge28\" class=\"edge\"><title>B1a&#45;&gt;B1a</title>\r\n<path fill=\"none\" stroke=\"black\" d=\"M364.194,-103.317C362.582,-114.273 366.464,-124.046 375.839,-124.046 382.138,-124.046 385.957,-119.634 387.296,-113.416\"/>\r\n<polygon fill=\"black\" stroke=\"black\" points=\"390.798,-113.38 387.485,-103.317 383.799,-113.25 390.798,-113.38\"/>\r\n<text text-anchor=\"middle\" x=\"375.839\" y=\"-142.846\" font-family=\"Times New Roman,serif\" font-size=\"14.00\">b ; b,R </text>\r\n<text text-anchor=\"middle\" x=\"375.839\" y=\"-127.846\" font-family=\"Times New Roman,serif\" font-size=\"14.00\"> a ; a,R</text>\r\n</g>\r\n<!-- A4n&#45;&gt;A5n -->\r\n<g id=\"edge24\" class=\"edge\"><title>A4n&#45;&gt;A5n</title>\r\n<path fill=\"none\" stroke=\"black\" d=\"M804.234,-716.571C825.512,-729.502 858.104,-749.309 881.966,-763.809\"/>\r\n<polygon fill=\"black\" stroke=\"black\" points=\"880.278,-766.879 890.641,-769.082 883.913,-760.897 880.278,-766.879\"/>\r\n<text text-anchor=\"middle\" x=\"847.473\" y=\"-775.148\" font-family=\"Times New Roman,serif\" font-size=\"14.00\">B ; b,L </text>\r\n<text text-anchor=\"middle\" x=\"847.473\" y=\"-760.148\" font-family=\"Times New Roman,serif\" font-size=\"14.00\"> A ; a,L</text>\r\n</g>\r\n<!-- A4n&#45;&gt;A4n -->\r\n<g id=\"edge23\" class=\"edge\"><title>A4n&#45;&gt;A4n</title>\r\n<path fill=\"none\" stroke=\"black\" d=\"M770.08,-726.886C768.837,-737.805 772.635,-747.345 781.475,-747.345 787.414,-747.345 791.078,-743.039 792.466,-736.901\"/>\r\n<polygon fill=\"black\" stroke=\"black\" points=\"795.964,-737.019 792.87,-726.886 788.969,-736.736 795.964,-737.019\"/>\r\n<text text-anchor=\"middle\" x=\"781.475\" y=\"-766.145\" font-family=\"Times New Roman,serif\" font-size=\"14.00\">a ; a,L </text>\r\n<text text-anchor=\"middle\" x=\"781.475\" y=\"-751.145\" font-family=\"Times New Roman,serif\" font-size=\"14.00\"> b ; b,L</text>\r\n</g>\r\n<!-- B1b&#45;&gt;B2b -->\r\n<g id=\"edge35\" class=\"edge\"><title>B1b&#45;&gt;B2b</title>\r\n<path fill=\"none\" stroke=\"black\" d=\"M401.838,-202.23C423.26,-199.558 454.345,-195.68 478.222,-192.702\"/>\r\n<polygon fill=\"black\" stroke=\"black\" points=\"478.804,-196.157 488.294,-191.446 477.938,-189.211 478.804,-196.157\"/>\r\n<text text-anchor=\"middle\" x=\"444.987\" y=\"-204.148\" font-family=\"Times New Roman,serif\" font-size=\"14.00\"># ; #,R</text>\r\n</g>\r\n<!-- B1b&#45;&gt;B1b -->\r\n<g id=\"edge34\" class=\"edge\"><title>B1b&#45;&gt;B1b</title>\r\n<path fill=\"none\" stroke=\"black\" d=\"M364.076,-228.886C362.793,-239.805 366.714,-249.345 375.839,-249.345 381.97,-249.345 385.752,-245.039 387.184,-238.901\"/>\r\n<polygon fill=\"black\" stroke=\"black\" points=\"390.682,-239.023 387.602,-228.886 383.688,-238.731 390.682,-239.023\"/>\r\n<text text-anchor=\"middle\" x=\"375.839\" y=\"-268.145\" font-family=\"Times New Roman,serif\" font-size=\"14.00\">b ; b,R </text>\r\n<text text-anchor=\"middle\" x=\"375.839\" y=\"-253.145\" font-family=\"Times New Roman,serif\" font-size=\"14.00\"> a ; a,R</text>\r\n</g>\r\n<!-- B5n&#45;&gt;B0 -->\r\n<g id=\"edge48\" class=\"edge\"><title>B5n&#45;&gt;B0</title>\r\n<path fill=\"none\" stroke=\"black\" d=\"M888.715,-18.866C862.806,-12.3766 820.014,-3.34775 782.475,-3.34775 374.839,-3.34775 374.839,-3.34775 374.839,-3.34775 301.137,-3.34775 316.668,-76.9587 289.191,-145.348 275.605,-179.165 288.317,-193.178 271.191,-225.348 269.49,-228.544 267.356,-231.647 265.026,-234.57\"/>\r\n<polygon fill=\"black\" stroke=\"black\" points=\"262.206,-232.472 258.138,-242.255 267.419,-237.144 262.206,-232.472\"/>\r\n<text text-anchor=\"middle\" x=\"581.282\" y=\"-7.14775\" font-family=\"Times New Roman,serif\" font-size=\"14.00\">. ; .,R</text>\r\n</g>\r\n<!-- B5n&#45;&gt;B5n -->\r\n<g id=\"edge47\" class=\"edge\"><title>B5n&#45;&gt;B5n</title>\r\n<path fill=\"none\" stroke=\"black\" d=\"M901.764,-48.0953C900.318,-59.0368 904.221,-68.6955 913.471,-68.6955 919.685,-68.6955 923.486,-64.3354 924.873,-58.1556\"/>\r\n<polygon fill=\"black\" stroke=\"black\" points=\"928.373,-58.1967 925.178,-48.0953 921.377,-57.9848 928.373,-58.1967\"/>\r\n<text text-anchor=\"middle\" x=\"913.471\" y=\"-87.4955\" font-family=\"Times New Roman,serif\" font-size=\"14.00\">B ; b,L </text>\r\n<text text-anchor=\"middle\" x=\"913.471\" y=\"-72.4955\" font-family=\"Times New Roman,serif\" font-size=\"14.00\"> A ; a,L</text>\r\n</g>\r\n<!-- A1a&#45;&gt;A2a -->\r\n<g id=\"edge7\" class=\"edge\"><title>A1a&#45;&gt;A2a</title>\r\n<path fill=\"none\" stroke=\"black\" d=\"M401.206,-546.851C422.683,-549.057 454.221,-552.296 478.35,-554.775\"/>\r\n<polygon fill=\"black\" stroke=\"black\" points=\"478.214,-558.279 488.519,-555.819 478.929,-551.316 478.214,-558.279\"/>\r\n<text text-anchor=\"middle\" x=\"444.987\" y=\"-558.148\" font-family=\"Times New Roman,serif\" font-size=\"14.00\"># ; #,R</text>\r\n</g>\r\n<!-- A1a&#45;&gt;A1a -->\r\n<g id=\"edge6\" class=\"edge\"><title>A1a&#45;&gt;A1a</title>\r\n<path fill=\"none\" stroke=\"black\" d=\"M364.132,-567.095C362.687,-578.037 366.589,-587.696 375.839,-587.696 382.054,-587.696 385.855,-583.335 387.242,-577.156\"/>\r\n<polygon fill=\"black\" stroke=\"black\" points=\"390.742,-577.197 387.546,-567.095 383.745,-576.985 390.742,-577.197\"/>\r\n<text text-anchor=\"middle\" x=\"375.839\" y=\"-606.496\" font-family=\"Times New Roman,serif\" font-size=\"14.00\">b ; b,R </text>\r\n<text text-anchor=\"middle\" x=\"375.839\" y=\"-591.496\" font-family=\"Times New Roman,serif\" font-size=\"14.00\"> a ; a,R</text>\r\n</g>\r\n<!-- Iq0&#45;&gt;A0 -->\r\n<g id=\"edge3\" class=\"edge\"><title>Iq0&#45;&gt;A0</title>\r\n<path fill=\"none\" stroke=\"black\" d=\"M124.433,-275.779C146.747,-322.849 201.815,-439.017 227.39,-492.968\"/>\r\n<polygon fill=\"black\" stroke=\"black\" points=\"224.362,-494.75 231.808,-502.287 230.687,-491.752 224.362,-494.75\"/>\r\n<text text-anchor=\"middle\" x=\"174.496\" y=\"-424.148\" font-family=\"Times New Roman,serif\" font-size=\"14.00\">a ; a,S</text>\r\n</g>\r\n<!-- Iq0&#45;&gt;B0 -->\r\n<g id=\"edge4\" class=\"edge\"><title>Iq0&#45;&gt;B0</title>\r\n<path fill=\"none\" stroke=\"black\" d=\"M136.712,-255.348C157.179,-255.348 187.877,-255.348 210.645,-255.348\"/>\r\n<polygon fill=\"black\" stroke=\"black\" points=\"210.794,-258.848 220.794,-255.348 210.794,-251.848 210.794,-258.848\"/>\r\n<text text-anchor=\"middle\" x=\"174.496\" y=\"-259.148\" font-family=\"Times New Roman,serif\" font-size=\"14.00\">b ; b,S</text>\r\n</g>\r\n<!-- Fq0 -->\r\n<g id=\"node26\" class=\"node\"><title>Fq0</title>\r\n<ellipse fill=\"none\" stroke=\"black\" cx=\"241.844\" cy=\"-187.348\" rx=\"25.2169\" ry=\"25.2169\"/>\r\n<ellipse fill=\"none\" stroke=\"black\" cx=\"241.844\" cy=\"-187.348\" rx=\"29.1963\" ry=\"29.1963\"/>\r\n<text text-anchor=\"middle\" x=\"241.844\" y=\"-183.648\" font-family=\"Times New Roman,serif\" font-size=\"14.00\">Fq0</text>\r\n</g>\r\n<!-- Iq0&#45;&gt;Fq0 -->\r\n<g id=\"edge2\" class=\"edge\"><title>Iq0&#45;&gt;Fq0</title>\r\n<path fill=\"none\" stroke=\"black\" d=\"M134.174,-244.872C153.446,-234.479 183.385,-218.334 206.644,-205.791\"/>\r\n<polygon fill=\"black\" stroke=\"black\" points=\"208.373,-208.835 215.514,-201.008 205.051,-202.674 208.373,-208.835\"/>\r\n<text text-anchor=\"middle\" x=\"174.496\" y=\"-238.148\" font-family=\"Times New Roman,serif\" font-size=\"14.00\"># ; #,R</text>\r\n</g>\r\n</g>\r\n</svg>\r\n"
     },
     "metadata": {},
     "execution_count": 8
    }
   ],
   "source": [
    "dotObj_tm(Asg9DTM, FuseEdges=True)"
   ]
  },
  {
   "cell_type": "markdown",
   "metadata": {},
   "source": [
    "# Tests for the DTM\n",
    "\n",
    "### (a) `aba#aba` – pass \n",
    "### (b) `aba#ab` – fail\n",
    "### (c) `aba#baba` – pass \n",
    "### (d) `aba#babba` – fail\n",
    "### (e) `bba#bbabba` – pass\n",
    "\n",
    "\n",
    "## Please include five more tests of your own"
   ]
  },
  {
   "cell_type": "code",
   "execution_count": null,
   "metadata": {},
   "outputs": [],
   "source": [
    "help(explore_tm)"
   ]
  },
  {
   "cell_type": "code",
   "execution_count": 9,
   "metadata": {},
   "outputs": [
    {
     "output_type": "stream",
     "name": "stdout",
     "text": [
      "Allocating  8  tape cells to the RIGHT!\nDetailing the halted configs now.\nAccepted at  ('Fq7', 7, 'ABA#ABA........', 17)\n via .. \n ->('Iq0', 0, 'aba#aba', 50)\n ->('A0', 0, 'aba#aba', 49)\n ->('A1a', 1, 'Aba#aba', 48)\n ->('A1a', 2, 'Aba#aba', 47)\n ->('A1a', 3, 'Aba#aba', 46)\n ->('A2a', 4, 'Aba#aba', 45)\n ->('A3', 3, 'Aba#Aba', 44)\n ->('A4', 2, 'Aba#Aba', 43)\n ->('A4', 1, 'Aba#Aba', 42)\n ->('A4', 0, 'Aba#Aba', 41)\n ->('A0', 1, 'Aba#Aba', 40)\n ->('A1b', 2, 'ABa#Aba', 39)\n ->('A1b', 3, 'ABa#Aba', 38)\n ->('A2b', 4, 'ABa#Aba', 37)\n ->('A2b', 5, 'ABa#Aba', 36)\n ->('A3', 4, 'ABa#ABa', 35)\n ->('A3', 3, 'ABa#ABa', 34)\n ->('A4', 2, 'ABa#ABa', 33)\n ->('A4', 1, 'ABa#ABa', 32)\n ->('A0', 2, 'ABa#ABa', 31)\n ->('A1a', 3, 'ABA#ABa', 30)\n ->('A2a', 4, 'ABA#ABa', 29)\n ->('A2a', 5, 'ABA#ABa', 28)\n ->('A2a', 6, 'ABA#ABa', 27)\n ->('A3', 5, 'ABA#ABA', 26)\n ->('A3', 4, 'ABA#ABA', 25)\n ->('A3', 3, 'ABA#ABA', 24)\n ->('A4', 2, 'ABA#ABA', 23)\n ->('A0', 3, 'ABA#ABA', 22)\n ->('q5', 4, 'ABA#ABA', 21)\n ->('q6', 5, 'ABA#ABA', 20)\n ->('q6', 6, 'ABA#ABA', 19)\n ->('q6', 7, 'ABA#ABA', 18)\n ->('Fq7', 7, 'ABA#ABA........', 17)\n"
     ]
    }
   ],
   "source": [
    "explore_tm(Asg9DTM, \"aba#aba\",50)   # PASS"
   ]
  },
  {
   "cell_type": "code",
   "execution_count": 10,
   "metadata": {},
   "outputs": [
    {
     "output_type": "stream",
     "name": "stdout",
     "text": [
      "Allocating  8  tape cells to the RIGHT!\nDetailing the halted configs now.\nRejected at  ('A2a', 6, 'ABA#AB', 27)\n via .. \n ->('Iq0', 0, 'aba#ab', 50)\n ->('A0', 0, 'aba#ab', 49)\n ->('A1a', 1, 'Aba#ab', 48)\n ->('A1a', 2, 'Aba#ab', 47)\n ->('A1a', 3, 'Aba#ab', 46)\n ->('A2a', 4, 'Aba#ab', 45)\n ->('A3', 3, 'Aba#Ab', 44)\n ->('A4', 2, 'Aba#Ab', 43)\n ->('A4', 1, 'Aba#Ab', 42)\n ->('A4', 0, 'Aba#Ab', 41)\n ->('A0', 1, 'Aba#Ab', 40)\n ->('A1b', 2, 'ABa#Ab', 39)\n ->('A1b', 3, 'ABa#Ab', 38)\n ->('A2b', 4, 'ABa#Ab', 37)\n ->('A2b', 5, 'ABa#Ab', 36)\n ->('A3', 4, 'ABa#AB', 35)\n ->('A3', 3, 'ABa#AB', 34)\n ->('A4', 2, 'ABa#AB', 33)\n ->('A4', 1, 'ABa#AB', 32)\n ->('A0', 2, 'ABa#AB', 31)\n ->('A1a', 3, 'ABA#AB', 30)\n ->('A2a', 4, 'ABA#AB', 29)\n ->('A2a', 5, 'ABA#AB', 28)\n ->('A2a', 6, 'ABA#AB', 27)\n"
     ]
    }
   ],
   "source": [
    "explore_tm(Asg9DTM, \"aba#ab\",50)    # FAIL"
   ]
  },
  {
   "cell_type": "code",
   "execution_count": 13,
   "metadata": {},
   "outputs": [
    {
     "output_type": "stream",
     "name": "stdout",
     "text": [
      "Allocating  8  tape cells to the LEFT!\nAllocating  8  tape cells to the RIGHT!\nDetailing the halted configs now.\nAccepted at  ('Fq7', 16, '........ABA#NABA........', 1)\n via .. \n ->('Iq0', 0, 'aba#baba', 51)\n ->('A0', 0, 'aba#baba', 50)\n ->('A1a', 1, 'Aba#baba', 49)\n ->('A1a', 2, 'Aba#baba', 48)\n ->('A1a', 3, 'Aba#baba', 47)\n ->('A2a', 4, 'Aba#baba', 46)\n ->('A3n', 3, 'Aba#Naba', 45)\n ->('A4n', 2, 'Aba#Naba', 44)\n ->('A4n', 1, 'Aba#Naba', 43)\n ->('A4n', 0, 'Aba#Naba', 42)\n ->('A5n', 7, '........aba#Naba', 41)\n ->('A0', 8, '........aba#Naba', 40)\n ->('A1a', 9, '........Aba#Naba', 39)\n ->('A1a', 10, '........Aba#Naba', 38)\n ->('A1a', 11, '........Aba#Naba', 37)\n ->('A2a', 12, '........Aba#Naba', 36)\n ->('A2a', 13, '........Aba#Naba', 35)\n ->('A3', 12, '........Aba#NAba', 34)\n ->('A3', 11, '........Aba#NAba', 33)\n ->('A4', 10, '........Aba#NAba', 32)\n ->('A4', 9, '........Aba#NAba', 31)\n ->('A4', 8, '........Aba#NAba', 30)\n ->('A0', 9, '........Aba#NAba', 29)\n ->('A1b', 10, '........ABa#NAba', 28)\n ->('A1b', 11, '........ABa#NAba', 27)\n ->('A2b', 12, '........ABa#NAba', 26)\n ->('A2b', 13, '........ABa#NAba', 25)\n ->('A2b', 14, '........ABa#NAba', 24)\n ->('A3', 13, '........ABa#NABa', 23)\n ->('A3', 12, '........ABa#NABa', 22)\n ->('A3', 11, '........ABa#NABa', 21)\n ->('A4', 10, '........ABa#NABa', 20)\n ->('A4', 9, '........ABa#NABa', 19)\n ->('A0', 10, '........ABa#NABa', 18)\n ->('A1a', 11, '........ABA#NABa', 17)\n ->('A2a', 12, '........ABA#NABa', 16)\n ->('A2a', 13, '........ABA#NABa', 15)\n ->('A2a', 14, '........ABA#NABa', 14)\n ->('A2a', 15, '........ABA#NABa', 13)\n ->('A3', 14, '........ABA#NABA', 12)\n ->('A3', 13, '........ABA#NABA', 11)\n ->('A3', 12, '........ABA#NABA', 10)\n ->('A3', 11, '........ABA#NABA', 9)\n ->('A4', 10, '........ABA#NABA', 8)\n ->('A0', 11, '........ABA#NABA', 7)\n ->('q5', 12, '........ABA#NABA', 6)\n ->('q5', 13, '........ABA#NABA', 5)\n ->('q6', 14, '........ABA#NABA', 4)\n ->('q6', 15, '........ABA#NABA', 3)\n ->('q6', 16, '........ABA#NABA', 2)\n ->('Fq7', 16, '........ABA#NABA........', 1)\n"
     ]
    }
   ],
   "source": [
    "explore_tm(Asg9DTM, \"aba#baba\",51)  # PASS"
   ]
  },
  {
   "cell_type": "code",
   "execution_count": 15,
   "metadata": {},
   "outputs": [
    {
     "output_type": "stream",
     "name": "stdout",
     "text": [
      "Allocating  8  tape cells to the LEFT!\nAllocating  8  tape cells to the RIGHT!\nDetailing the halted configs now.\nRejected at  ('A2b', 17, '........ABa#NNNNA', 1)\n via .. \n ->('Iq0', 0, 'aba#babba', 73)\n ->('A0', 0, 'aba#babba', 72)\n ->('A1a', 1, 'Aba#babba', 71)\n ->('A1a', 2, 'Aba#babba', 70)\n ->('A1a', 3, 'Aba#babba', 69)\n ->('A2a', 4, 'Aba#babba', 68)\n ->('A3n', 3, 'Aba#Nabba', 67)\n ->('A4n', 2, 'Aba#Nabba', 66)\n ->('A4n', 1, 'Aba#Nabba', 65)\n ->('A4n', 0, 'Aba#Nabba', 64)\n ->('A5n', 7, '........aba#Nabba', 63)\n ->('A0', 8, '........aba#Nabba', 62)\n ->('A1a', 9, '........Aba#Nabba', 61)\n ->('A1a', 10, '........Aba#Nabba', 60)\n ->('A1a', 11, '........Aba#Nabba', 59)\n ->('A2a', 12, '........Aba#Nabba', 58)\n ->('A2a', 13, '........Aba#Nabba', 57)\n ->('A3', 12, '........Aba#NAbba', 56)\n ->('A3', 11, '........Aba#NAbba', 55)\n ->('A4', 10, '........Aba#NAbba', 54)\n ->('A4', 9, '........Aba#NAbba', 53)\n ->('A4', 8, '........Aba#NAbba', 52)\n ->('A0', 9, '........Aba#NAbba', 51)\n ->('A1b', 10, '........ABa#NAbba', 50)\n ->('A1b', 11, '........ABa#NAbba', 49)\n ->('A2b', 12, '........ABa#NAbba', 48)\n ->('A2b', 13, '........ABa#NAbba', 47)\n ->('A2b', 14, '........ABa#NAbba', 46)\n ->('A3', 13, '........ABa#NABba', 45)\n ->('A3', 12, '........ABa#NABba', 44)\n ->('A3', 11, '........ABa#NABba', 43)\n ->('A4', 10, '........ABa#NABba', 42)\n ->('A4', 9, '........ABa#NABba', 41)\n ->('A0', 10, '........ABa#NABba', 40)\n ->('A1a', 11, '........ABA#NABba', 39)\n ->('A2a', 12, '........ABA#NABba', 38)\n ->('A2a', 13, '........ABA#NABba', 37)\n ->('A2a', 14, '........ABA#NABba', 36)\n ->('A2a', 15, '........ABA#NABba', 35)\n ->('A3n', 14, '........ABA#NABNa', 34)\n ->('A3n', 13, '........ABA#NANNa', 33)\n ->('A3n', 12, '........ABA#NNNNa', 32)\n ->('A3n', 11, '........ABA#NNNNa', 31)\n ->('A4n', 10, '........ABA#NNNNa', 30)\n ->('A5n', 9, '........ABa#NNNNa', 29)\n ->('A5n', 8, '........Aba#NNNNa', 28)\n ->('A5n', 7, '........aba#NNNNa', 27)\n ->('A0', 8, '........aba#NNNNa', 26)\n ->('A1a', 9, '........Aba#NNNNa', 25)\n ->('A1a', 10, '........Aba#NNNNa', 24)\n ->('A1a', 11, '........Aba#NNNNa', 23)\n ->('A2a', 12, '........Aba#NNNNa', 22)\n ->('A2a', 13, '........Aba#NNNNa', 21)\n ->('A2a', 14, '........Aba#NNNNa', 20)\n ->('A2a', 15, '........Aba#NNNNa', 19)\n ->('A2a', 16, '........Aba#NNNNa', 18)\n ->('A3', 15, '........Aba#NNNNA', 17)\n ->('A3', 14, '........Aba#NNNNA', 16)\n ->('A3', 13, '........Aba#NNNNA', 15)\n ->('A3', 12, '........Aba#NNNNA', 14)\n ->('A3', 11, '........Aba#NNNNA', 13)\n ->('A4', 10, '........Aba#NNNNA', 12)\n ->('A4', 9, '........Aba#NNNNA', 11)\n ->('A4', 8, '........Aba#NNNNA', 10)\n ->('A0', 9, '........Aba#NNNNA', 9)\n ->('A1b', 10, '........ABa#NNNNA', 8)\n ->('A1b', 11, '........ABa#NNNNA', 7)\n ->('A2b', 12, '........ABa#NNNNA', 6)\n ->('A2b', 13, '........ABa#NNNNA', 5)\n ->('A2b', 14, '........ABa#NNNNA', 4)\n ->('A2b', 15, '........ABa#NNNNA', 3)\n ->('A2b', 16, '........ABa#NNNNA', 2)\n ->('A2b', 17, '........ABa#NNNNA', 1)\n"
     ]
    }
   ],
   "source": [
    "explore_tm(Asg9DTM, \"aba#babba\",73) # FAIL"
   ]
  },
  {
   "cell_type": "code",
   "execution_count": 16,
   "metadata": {},
   "outputs": [
    {
     "output_type": "stream",
     "name": "stdout",
     "text": [
      "Detailing the halted configs now.\nAccepted at  ('Fq7', 7, 'BBA#BBAbba', 17)\n via .. \n ->('Iq0', 0, 'bba#bbabba', 50)\n ->('B0', 0, 'bba#bbabba', 49)\n ->('B1b', 1, 'Bba#bbabba', 48)\n ->('B1b', 2, 'Bba#bbabba', 47)\n ->('B1b', 3, 'Bba#bbabba', 46)\n ->('B2b', 4, 'Bba#bbabba', 45)\n ->('B3', 3, 'Bba#Bbabba', 44)\n ->('B4', 2, 'Bba#Bbabba', 43)\n ->('B4', 1, 'Bba#Bbabba', 42)\n ->('B4', 0, 'Bba#Bbabba', 41)\n ->('B0', 1, 'Bba#Bbabba', 40)\n ->('B1b', 2, 'BBa#Bbabba', 39)\n ->('B1b', 3, 'BBa#Bbabba', 38)\n ->('B2b', 4, 'BBa#Bbabba', 37)\n ->('B2b', 5, 'BBa#Bbabba', 36)\n ->('B3', 4, 'BBa#BBabba', 35)\n ->('B3', 3, 'BBa#BBabba', 34)\n ->('B4', 2, 'BBa#BBabba', 33)\n ->('B4', 1, 'BBa#BBabba', 32)\n ->('B0', 2, 'BBa#BBabba', 31)\n ->('B1a', 3, 'BBA#BBabba', 30)\n ->('B2a', 4, 'BBA#BBabba', 29)\n ->('B2a', 5, 'BBA#BBabba', 28)\n ->('B2a', 6, 'BBA#BBabba', 27)\n ->('B3', 5, 'BBA#BBAbba', 26)\n ->('B3', 4, 'BBA#BBAbba', 25)\n ->('B3', 3, 'BBA#BBAbba', 24)\n ->('B4', 2, 'BBA#BBAbba', 23)\n ->('B0', 3, 'BBA#BBAbba', 22)\n ->('q5', 4, 'BBA#BBAbba', 21)\n ->('q6', 5, 'BBA#BBAbba', 20)\n ->('q6', 6, 'BBA#BBAbba', 19)\n ->('q6', 7, 'BBA#BBAbba', 18)\n ->('Fq7', 7, 'BBA#BBAbba', 17)\n"
     ]
    }
   ],
   "source": [
    "explore_tm(Asg9DTM, \"bba#bbabba\",50)    # PASS"
   ]
  },
  {
   "source": [
    "### My 5 Tests\n",
    "- `#abab` – PASS\n",
    "- `abaaba#bbaabaabaabb` – PASS\n",
    "- `aaabbbaaa#bbbaaabbbaaa` – PASS\n",
    "- `aaabbb#ab` – FAIL\n",
    "- `aaabbb#abbbaaab` – FAIL\n"
   ],
   "cell_type": "markdown",
   "metadata": {}
  },
  {
   "cell_type": "code",
   "execution_count": 24,
   "metadata": {},
   "outputs": [
    {
     "output_type": "stream",
     "name": "stdout",
     "text": [
      "Detailing the halted configs now.\nAccepted at  ('Fq0', 1, '#abab', 1)\n via .. \n ->('Iq0', 0, '#abab', 2)\n ->('Fq0', 1, '#abab', 1)\n"
     ]
    }
   ],
   "source": [
    "explore_tm(Asg9DTM, \"#abab\",2) # PASS"
   ]
  },
  {
   "cell_type": "code",
   "execution_count": 22,
   "metadata": {},
   "outputs": [
    {
     "output_type": "stream",
     "name": "stdout",
     "text": [
      "Allocating  8  tape cells to the LEFT!\nDetailing the halted configs now.\nAccepted at  ('Fq7', 24, '........ABAABA#NNNABAABAabb', 1)\n via .. \n ->('Iq0', 0, 'abaaba#bbaabaabaabb', 213)\n ->('A0', 0, 'abaaba#bbaabaabaabb', 212)\n ->('A1a', 1, 'Abaaba#bbaabaabaabb', 211)\n ->('A1a', 2, 'Abaaba#bbaabaabaabb', 210)\n ->('A1a', 3, 'Abaaba#bbaabaabaabb', 209)\n ->('A1a', 4, 'Abaaba#bbaabaabaabb', 208)\n ->('A1a', 5, 'Abaaba#bbaabaabaabb', 207)\n ->('A1a', 6, 'Abaaba#bbaabaabaabb', 206)\n ->('A2a', 7, 'Abaaba#bbaabaabaabb', 205)\n ->('A3n', 6, 'Abaaba#Nbaabaabaabb', 204)\n ->('A4n', 5, 'Abaaba#Nbaabaabaabb', 203)\n ->('A4n', 4, 'Abaaba#Nbaabaabaabb', 202)\n ->('A4n', 3, 'Abaaba#Nbaabaabaabb', 201)\n ->('A4n', 2, 'Abaaba#Nbaabaabaabb', 200)\n ->('A4n', 1, 'Abaaba#Nbaabaabaabb', 199)\n ->('A4n', 0, 'Abaaba#Nbaabaabaabb', 198)\n ->('A5n', 7, '........abaaba#Nbaabaabaabb', 197)\n ->('A0', 8, '........abaaba#Nbaabaabaabb', 196)\n ->('A1a', 9, '........Abaaba#Nbaabaabaabb', 195)\n ->('A1a', 10, '........Abaaba#Nbaabaabaabb', 194)\n ->('A1a', 11, '........Abaaba#Nbaabaabaabb', 193)\n ->('A1a', 12, '........Abaaba#Nbaabaabaabb', 192)\n ->('A1a', 13, '........Abaaba#Nbaabaabaabb', 191)\n ->('A1a', 14, '........Abaaba#Nbaabaabaabb', 190)\n ->('A2a', 15, '........Abaaba#Nbaabaabaabb', 189)\n ->('A2a', 16, '........Abaaba#Nbaabaabaabb', 188)\n ->('A3n', 15, '........Abaaba#NNaabaabaabb', 187)\n ->('A3n', 14, '........Abaaba#NNaabaabaabb', 186)\n ->('A4n', 13, '........Abaaba#NNaabaabaabb', 185)\n ->('A4n', 12, '........Abaaba#NNaabaabaabb', 184)\n ->('A4n', 11, '........Abaaba#NNaabaabaabb', 183)\n ->('A4n', 10, '........Abaaba#NNaabaabaabb', 182)\n ->('A4n', 9, '........Abaaba#NNaabaabaabb', 181)\n ->('A4n', 8, '........Abaaba#NNaabaabaabb', 180)\n ->('A5n', 7, '........abaaba#NNaabaabaabb', 179)\n ->('A0', 8, '........abaaba#NNaabaabaabb', 178)\n ->('A1a', 9, '........Abaaba#NNaabaabaabb', 177)\n ->('A1a', 10, '........Abaaba#NNaabaabaabb', 176)\n ->('A1a', 11, '........Abaaba#NNaabaabaabb', 175)\n ->('A1a', 12, '........Abaaba#NNaabaabaabb', 174)\n ->('A1a', 13, '........Abaaba#NNaabaabaabb', 173)\n ->('A1a', 14, '........Abaaba#NNaabaabaabb', 172)\n ->('A2a', 15, '........Abaaba#NNaabaabaabb', 171)\n ->('A2a', 16, '........Abaaba#NNaabaabaabb', 170)\n ->('A2a', 17, '........Abaaba#NNaabaabaabb', 169)\n ->('A3', 16, '........Abaaba#NNAabaabaabb', 168)\n ->('A3', 15, '........Abaaba#NNAabaabaabb', 167)\n ->('A3', 14, '........Abaaba#NNAabaabaabb', 166)\n ->('A4', 13, '........Abaaba#NNAabaabaabb', 165)\n ->('A4', 12, '........Abaaba#NNAabaabaabb', 164)\n ->('A4', 11, '........Abaaba#NNAabaabaabb', 163)\n ->('A4', 10, '........Abaaba#NNAabaabaabb', 162)\n ->('A4', 9, '........Abaaba#NNAabaabaabb', 161)\n ->('A4', 8, '........Abaaba#NNAabaabaabb', 160)\n ->('A0', 9, '........Abaaba#NNAabaabaabb', 159)\n ->('A1b', 10, '........ABaaba#NNAabaabaabb', 158)\n ->('A1b', 11, '........ABaaba#NNAabaabaabb', 157)\n ->('A1b', 12, '........ABaaba#NNAabaabaabb', 156)\n ->('A1b', 13, '........ABaaba#NNAabaabaabb', 155)\n ->('A1b', 14, '........ABaaba#NNAabaabaabb', 154)\n ->('A2b', 15, '........ABaaba#NNAabaabaabb', 153)\n ->('A2b', 16, '........ABaaba#NNAabaabaabb', 152)\n ->('A2b', 17, '........ABaaba#NNAabaabaabb', 151)\n ->('A2b', 18, '........ABaaba#NNAabaabaabb', 150)\n ->('A3n', 17, '........ABaaba#NNA#baabaabb', 149)\n ->('A3n', 16, '........ABaaba#NNN#baabaabb', 148)\n ->('A3n', 15, '........ABaaba#NNN#baabaabb', 147)\n ->('A3n', 14, '........ABaaba#NNN#baabaabb', 146)\n ->('A4n', 13, '........ABaaba#NNN#baabaabb', 145)\n ->('A4n', 12, '........ABaaba#NNN#baabaabb', 144)\n ->('A4n', 11, '........ABaaba#NNN#baabaabb', 143)\n ->('A4n', 10, '........ABaaba#NNN#baabaabb', 142)\n ->('A4n', 9, '........ABaaba#NNN#baabaabb', 141)\n ->('A5n', 8, '........Abaaba#NNN#baabaabb', 140)\n ->('A5n', 7, '........abaaba#NNN#baabaabb', 139)\n ->('A0', 8, '........abaaba#NNN#baabaabb', 138)\n ->('A1a', 9, '........Abaaba#NNN#baabaabb', 137)\n ->('A1a', 10, '........Abaaba#NNN#baabaabb', 136)\n ->('A1a', 11, '........Abaaba#NNN#baabaabb', 135)\n ->('A1a', 12, '........Abaaba#NNN#baabaabb', 134)\n ->('A1a', 13, '........Abaaba#NNN#baabaabb', 133)\n ->('A1a', 14, '........Abaaba#NNN#baabaabb', 132)\n ->('A2a', 15, '........Abaaba#NNN#baabaabb', 131)\n ->('A2a', 16, '........Abaaba#NNN#baabaabb', 130)\n ->('A2a', 17, '........Abaaba#NNN#baabaabb', 129)\n ->('A2a', 18, '........Abaaba#NNN#baabaabb', 128)\n ->('A3', 17, '........Abaaba#NNNAbaabaabb', 127)\n ->('A3', 16, '........Abaaba#NNNAbaabaabb', 126)\n ->('A3', 15, '........Abaaba#NNNAbaabaabb', 125)\n ->('A3', 14, '........Abaaba#NNNAbaabaabb', 124)\n ->('A4', 13, '........Abaaba#NNNAbaabaabb', 123)\n ->('A4', 12, '........Abaaba#NNNAbaabaabb', 122)\n ->('A4', 11, '........Abaaba#NNNAbaabaabb', 121)\n ->('A4', 10, '........Abaaba#NNNAbaabaabb', 120)\n ->('A4', 9, '........Abaaba#NNNAbaabaabb', 119)\n ->('A4', 8, '........Abaaba#NNNAbaabaabb', 118)\n ->('A0', 9, '........Abaaba#NNNAbaabaabb', 117)\n ->('A1b', 10, '........ABaaba#NNNAbaabaabb', 116)\n ->('A1b', 11, '........ABaaba#NNNAbaabaabb', 115)\n ->('A1b', 12, '........ABaaba#NNNAbaabaabb', 114)\n ->('A1b', 13, '........ABaaba#NNNAbaabaabb', 113)\n ->('A1b', 14, '........ABaaba#NNNAbaabaabb', 112)\n ->('A2b', 15, '........ABaaba#NNNAbaabaabb', 111)\n ->('A2b', 16, '........ABaaba#NNNAbaabaabb', 110)\n ->('A2b', 17, '........ABaaba#NNNAbaabaabb', 109)\n ->('A2b', 18, '........ABaaba#NNNAbaabaabb', 108)\n ->('A2b', 19, '........ABaaba#NNNAbaabaabb', 107)\n ->('A3', 18, '........ABaaba#NNNABaabaabb', 106)\n ->('A3', 17, '........ABaaba#NNNABaabaabb', 105)\n ->('A3', 16, '........ABaaba#NNNABaabaabb', 104)\n ->('A3', 15, '........ABaaba#NNNABaabaabb', 103)\n ->('A3', 14, '........ABaaba#NNNABaabaabb', 102)\n ->('A4', 13, '........ABaaba#NNNABaabaabb', 101)\n ->('A4', 12, '........ABaaba#NNNABaabaabb', 100)\n ->('A4', 11, '........ABaaba#NNNABaabaabb', 99)\n ->('A4', 10, '........ABaaba#NNNABaabaabb', 98)\n ->('A4', 9, '........ABaaba#NNNABaabaabb', 97)\n ->('A0', 10, '........ABaaba#NNNABaabaabb', 96)\n ->('A1a', 11, '........ABAaba#NNNABaabaabb', 95)\n ->('A1a', 12, '........ABAaba#NNNABaabaabb', 94)\n ->('A1a', 13, '........ABAaba#NNNABaabaabb', 93)\n ->('A1a', 14, '........ABAaba#NNNABaabaabb', 92)\n ->('A2a', 15, '........ABAaba#NNNABaabaabb', 91)\n ->('A2a', 16, '........ABAaba#NNNABaabaabb', 90)\n ->('A2a', 17, '........ABAaba#NNNABaabaabb', 89)\n ->('A2a', 18, '........ABAaba#NNNABaabaabb', 88)\n ->('A2a', 19, '........ABAaba#NNNABaabaabb', 87)\n ->('A2a', 20, '........ABAaba#NNNABaabaabb', 86)\n ->('A3', 19, '........ABAaba#NNNABAabaabb', 85)\n ->('A3', 18, '........ABAaba#NNNABAabaabb', 84)\n ->('A3', 17, '........ABAaba#NNNABAabaabb', 83)\n ->('A3', 16, '........ABAaba#NNNABAabaabb', 82)\n ->('A3', 15, '........ABAaba#NNNABAabaabb', 81)\n ->('A3', 14, '........ABAaba#NNNABAabaabb', 80)\n ->('A4', 13, '........ABAaba#NNNABAabaabb', 79)\n ->('A4', 12, '........ABAaba#NNNABAabaabb', 78)\n ->('A4', 11, '........ABAaba#NNNABAabaabb', 77)\n ->('A4', 10, '........ABAaba#NNNABAabaabb', 76)\n ->('A0', 11, '........ABAaba#NNNABAabaabb', 75)\n ->('A1a', 12, '........ABAAba#NNNABAabaabb', 74)\n ->('A1a', 13, '........ABAAba#NNNABAabaabb', 73)\n ->('A1a', 14, '........ABAAba#NNNABAabaabb', 72)\n ->('A2a', 15, '........ABAAba#NNNABAabaabb', 71)\n ->('A2a', 16, '........ABAAba#NNNABAabaabb', 70)\n ->('A2a', 17, '........ABAAba#NNNABAabaabb', 69)\n ->('A2a', 18, '........ABAAba#NNNABAabaabb', 68)\n ->('A2a', 19, '........ABAAba#NNNABAabaabb', 67)\n ->('A2a', 20, '........ABAAba#NNNABAabaabb', 66)\n ->('A2a', 21, '........ABAAba#NNNABAabaabb', 65)\n ->('A3', 20, '........ABAAba#NNNABAAbaabb', 64)\n ->('A3', 19, '........ABAAba#NNNABAAbaabb', 63)\n ->('A3', 18, '........ABAAba#NNNABAAbaabb', 62)\n ->('A3', 17, '........ABAAba#NNNABAAbaabb', 61)\n ->('A3', 16, '........ABAAba#NNNABAAbaabb', 60)\n ->('A3', 15, '........ABAAba#NNNABAAbaabb', 59)\n ->('A3', 14, '........ABAAba#NNNABAAbaabb', 58)\n ->('A4', 13, '........ABAAba#NNNABAAbaabb', 57)\n ->('A4', 12, '........ABAAba#NNNABAAbaabb', 56)\n ->('A4', 11, '........ABAAba#NNNABAAbaabb', 55)\n ->('A0', 12, '........ABAAba#NNNABAAbaabb', 54)\n ->('A1b', 13, '........ABAABa#NNNABAAbaabb', 53)\n ->('A1b', 14, '........ABAABa#NNNABAAbaabb', 52)\n ->('A2b', 15, '........ABAABa#NNNABAAbaabb', 51)\n ->('A2b', 16, '........ABAABa#NNNABAAbaabb', 50)\n ->('A2b', 17, '........ABAABa#NNNABAAbaabb', 49)\n ->('A2b', 18, '........ABAABa#NNNABAAbaabb', 48)\n ->('A2b', 19, '........ABAABa#NNNABAAbaabb', 47)\n ->('A2b', 20, '........ABAABa#NNNABAAbaabb', 46)\n ->('A2b', 21, '........ABAABa#NNNABAAbaabb', 45)\n ->('A2b', 22, '........ABAABa#NNNABAAbaabb', 44)\n ->('A3', 21, '........ABAABa#NNNABAABaabb', 43)\n ->('A3', 20, '........ABAABa#NNNABAABaabb', 42)\n ->('A3', 19, '........ABAABa#NNNABAABaabb', 41)\n ->('A3', 18, '........ABAABa#NNNABAABaabb', 40)\n ->('A3', 17, '........ABAABa#NNNABAABaabb', 39)\n ->('A3', 16, '........ABAABa#NNNABAABaabb', 38)\n ->('A3', 15, '........ABAABa#NNNABAABaabb', 37)\n ->('A3', 14, '........ABAABa#NNNABAABaabb', 36)\n ->('A4', 13, '........ABAABa#NNNABAABaabb', 35)\n ->('A4', 12, '........ABAABa#NNNABAABaabb', 34)\n ->('A0', 13, '........ABAABa#NNNABAABaabb', 33)\n ->('A1a', 14, '........ABAABA#NNNABAABaabb', 32)\n ->('A2a', 15, '........ABAABA#NNNABAABaabb', 31)\n ->('A2a', 16, '........ABAABA#NNNABAABaabb', 30)\n ->('A2a', 17, '........ABAABA#NNNABAABaabb', 29)\n ->('A2a', 18, '........ABAABA#NNNABAABaabb', 28)\n ->('A2a', 19, '........ABAABA#NNNABAABaabb', 27)\n ->('A2a', 20, '........ABAABA#NNNABAABaabb', 26)\n ->('A2a', 21, '........ABAABA#NNNABAABaabb', 25)\n ->('A2a', 22, '........ABAABA#NNNABAABaabb', 24)\n ->('A2a', 23, '........ABAABA#NNNABAABaabb', 23)\n ->('A3', 22, '........ABAABA#NNNABAABAabb', 22)\n ->('A3', 21, '........ABAABA#NNNABAABAabb', 21)\n ->('A3', 20, '........ABAABA#NNNABAABAabb', 20)\n ->('A3', 19, '........ABAABA#NNNABAABAabb', 19)\n ->('A3', 18, '........ABAABA#NNNABAABAabb', 18)\n ->('A3', 17, '........ABAABA#NNNABAABAabb', 17)\n ->('A3', 16, '........ABAABA#NNNABAABAabb', 16)\n ->('A3', 15, '........ABAABA#NNNABAABAabb', 15)\n ->('A3', 14, '........ABAABA#NNNABAABAabb', 14)\n ->('A4', 13, '........ABAABA#NNNABAABAabb', 13)\n ->('A0', 14, '........ABAABA#NNNABAABAabb', 12)\n ->('q5', 15, '........ABAABA#NNNABAABAabb', 11)\n ->('q5', 16, '........ABAABA#NNNABAABAabb', 10)\n ->('q5', 17, '........ABAABA#NNNABAABAabb', 9)\n ->('q5', 18, '........ABAABA#NNNABAABAabb', 8)\n ->('q6', 19, '........ABAABA#NNNABAABAabb', 7)\n ->('q6', 20, '........ABAABA#NNNABAABAabb', 6)\n ->('q6', 21, '........ABAABA#NNNABAABAabb', 5)\n ->('q6', 22, '........ABAABA#NNNABAABAabb', 4)\n ->('q6', 23, '........ABAABA#NNNABAABAabb', 3)\n ->('q6', 24, '........ABAABA#NNNABAABAabb', 2)\n ->('Fq7', 24, '........ABAABA#NNNABAABAabb', 1)\n"
     ]
    }
   ],
   "source": [
    "explore_tm(Asg9DTM, \"abaaba#bbaabaabaabb\",213)   # PASS"
   ]
  },
  {
   "cell_type": "code",
   "execution_count": 33,
   "metadata": {},
   "outputs": [
    {
     "output_type": "stream",
     "name": "stdout",
     "text": [
      "Allocating  8  tape cells to the LEFT!\nAllocating  8  tape cells to the RIGHT!\nDetailing the halted configs now.\nAccepted at  ('Fq7', 30, '........AAABBBAAA#NNNAAABBBAAA........', 1)\n via .. \n ->('Iq0', 0, 'aaabbbaaa#bbbaaabbbaaa', 331)\n ->('A0', 0, 'aaabbbaaa#bbbaaabbbaaa', 330)\n ->('A1a', 1, 'Aaabbbaaa#bbbaaabbbaaa', 329)\n ->('A1a', 2, 'Aaabbbaaa#bbbaaabbbaaa', 328)\n ->('A1a', 3, 'Aaabbbaaa#bbbaaabbbaaa', 327)\n ->('A1a', 4, 'Aaabbbaaa#bbbaaabbbaaa', 326)\n ->('A1a', 5, 'Aaabbbaaa#bbbaaabbbaaa', 325)\n ->('A1a', 6, 'Aaabbbaaa#bbbaaabbbaaa', 324)\n ->('A1a', 7, 'Aaabbbaaa#bbbaaabbbaaa', 323)\n ->('A1a', 8, 'Aaabbbaaa#bbbaaabbbaaa', 322)\n ->('A1a', 9, 'Aaabbbaaa#bbbaaabbbaaa', 321)\n ->('A2a', 10, 'Aaabbbaaa#bbbaaabbbaaa', 320)\n ->('A3n', 9, 'Aaabbbaaa#Nbbaaabbbaaa', 319)\n ->('A4n', 8, 'Aaabbbaaa#Nbbaaabbbaaa', 318)\n ->('A4n', 7, 'Aaabbbaaa#Nbbaaabbbaaa', 317)\n ->('A4n', 6, 'Aaabbbaaa#Nbbaaabbbaaa', 316)\n ->('A4n', 5, 'Aaabbbaaa#Nbbaaabbbaaa', 315)\n ->('A4n', 4, 'Aaabbbaaa#Nbbaaabbbaaa', 314)\n ->('A4n', 3, 'Aaabbbaaa#Nbbaaabbbaaa', 313)\n ->('A4n', 2, 'Aaabbbaaa#Nbbaaabbbaaa', 312)\n ->('A4n', 1, 'Aaabbbaaa#Nbbaaabbbaaa', 311)\n ->('A4n', 0, 'Aaabbbaaa#Nbbaaabbbaaa', 310)\n ->('A5n', 7, '........aaabbbaaa#Nbbaaabbbaaa', 309)\n ->('A0', 8, '........aaabbbaaa#Nbbaaabbbaaa', 308)\n ->('A1a', 9, '........Aaabbbaaa#Nbbaaabbbaaa', 307)\n ->('A1a', 10, '........Aaabbbaaa#Nbbaaabbbaaa', 306)\n ->('A1a', 11, '........Aaabbbaaa#Nbbaaabbbaaa', 305)\n ->('A1a', 12, '........Aaabbbaaa#Nbbaaabbbaaa', 304)\n ->('A1a', 13, '........Aaabbbaaa#Nbbaaabbbaaa', 303)\n ->('A1a', 14, '........Aaabbbaaa#Nbbaaabbbaaa', 302)\n ->('A1a', 15, '........Aaabbbaaa#Nbbaaabbbaaa', 301)\n ->('A1a', 16, '........Aaabbbaaa#Nbbaaabbbaaa', 300)\n ->('A1a', 17, '........Aaabbbaaa#Nbbaaabbbaaa', 299)\n ->('A2a', 18, '........Aaabbbaaa#Nbbaaabbbaaa', 298)\n ->('A2a', 19, '........Aaabbbaaa#Nbbaaabbbaaa', 297)\n ->('A3n', 18, '........Aaabbbaaa#NNbaaabbbaaa', 296)\n ->('A3n', 17, '........Aaabbbaaa#NNbaaabbbaaa', 295)\n ->('A4n', 16, '........Aaabbbaaa#NNbaaabbbaaa', 294)\n ->('A4n', 15, '........Aaabbbaaa#NNbaaabbbaaa', 293)\n ->('A4n', 14, '........Aaabbbaaa#NNbaaabbbaaa', 292)\n ->('A4n', 13, '........Aaabbbaaa#NNbaaabbbaaa', 291)\n ->('A4n', 12, '........Aaabbbaaa#NNbaaabbbaaa', 290)\n ->('A4n', 11, '........Aaabbbaaa#NNbaaabbbaaa', 289)\n ->('A4n', 10, '........Aaabbbaaa#NNbaaabbbaaa', 288)\n ->('A4n', 9, '........Aaabbbaaa#NNbaaabbbaaa', 287)\n ->('A4n', 8, '........Aaabbbaaa#NNbaaabbbaaa', 286)\n ->('A5n', 7, '........aaabbbaaa#NNbaaabbbaaa', 285)\n ->('A0', 8, '........aaabbbaaa#NNbaaabbbaaa', 284)\n ->('A1a', 9, '........Aaabbbaaa#NNbaaabbbaaa', 283)\n ->('A1a', 10, '........Aaabbbaaa#NNbaaabbbaaa', 282)\n ->('A1a', 11, '........Aaabbbaaa#NNbaaabbbaaa', 281)\n ->('A1a', 12, '........Aaabbbaaa#NNbaaabbbaaa', 280)\n ->('A1a', 13, '........Aaabbbaaa#NNbaaabbbaaa', 279)\n ->('A1a', 14, '........Aaabbbaaa#NNbaaabbbaaa', 278)\n ->('A1a', 15, '........Aaabbbaaa#NNbaaabbbaaa', 277)\n ->('A1a', 16, '........Aaabbbaaa#NNbaaabbbaaa', 276)\n ->('A1a', 17, '........Aaabbbaaa#NNbaaabbbaaa', 275)\n ->('A2a', 18, '........Aaabbbaaa#NNbaaabbbaaa', 274)\n ->('A2a', 19, '........Aaabbbaaa#NNbaaabbbaaa', 273)\n ->('A2a', 20, '........Aaabbbaaa#NNbaaabbbaaa', 272)\n ->('A3n', 19, '........Aaabbbaaa#NNNaaabbbaaa', 271)\n ->('A3n', 18, '........Aaabbbaaa#NNNaaabbbaaa', 270)\n ->('A3n', 17, '........Aaabbbaaa#NNNaaabbbaaa', 269)\n ->('A4n', 16, '........Aaabbbaaa#NNNaaabbbaaa', 268)\n ->('A4n', 15, '........Aaabbbaaa#NNNaaabbbaaa', 267)\n ->('A4n', 14, '........Aaabbbaaa#NNNaaabbbaaa', 266)\n ->('A4n', 13, '........Aaabbbaaa#NNNaaabbbaaa', 265)\n ->('A4n', 12, '........Aaabbbaaa#NNNaaabbbaaa', 264)\n ->('A4n', 11, '........Aaabbbaaa#NNNaaabbbaaa', 263)\n ->('A4n', 10, '........Aaabbbaaa#NNNaaabbbaaa', 262)\n ->('A4n', 9, '........Aaabbbaaa#NNNaaabbbaaa', 261)\n ->('A4n', 8, '........Aaabbbaaa#NNNaaabbbaaa', 260)\n ->('A5n', 7, '........aaabbbaaa#NNNaaabbbaaa', 259)\n ->('A0', 8, '........aaabbbaaa#NNNaaabbbaaa', 258)\n ->('A1a', 9, '........Aaabbbaaa#NNNaaabbbaaa', 257)\n ->('A1a', 10, '........Aaabbbaaa#NNNaaabbbaaa', 256)\n ->('A1a', 11, '........Aaabbbaaa#NNNaaabbbaaa', 255)\n ->('A1a', 12, '........Aaabbbaaa#NNNaaabbbaaa', 254)\n ->('A1a', 13, '........Aaabbbaaa#NNNaaabbbaaa', 253)\n ->('A1a', 14, '........Aaabbbaaa#NNNaaabbbaaa', 252)\n ->('A1a', 15, '........Aaabbbaaa#NNNaaabbbaaa', 251)\n ->('A1a', 16, '........Aaabbbaaa#NNNaaabbbaaa', 250)\n ->('A1a', 17, '........Aaabbbaaa#NNNaaabbbaaa', 249)\n ->('A2a', 18, '........Aaabbbaaa#NNNaaabbbaaa', 248)\n ->('A2a', 19, '........Aaabbbaaa#NNNaaabbbaaa', 247)\n ->('A2a', 20, '........Aaabbbaaa#NNNaaabbbaaa', 246)\n ->('A2a', 21, '........Aaabbbaaa#NNNaaabbbaaa', 245)\n ->('A3', 20, '........Aaabbbaaa#NNNAaabbbaaa', 244)\n ->('A3', 19, '........Aaabbbaaa#NNNAaabbbaaa', 243)\n ->('A3', 18, '........Aaabbbaaa#NNNAaabbbaaa', 242)\n ->('A3', 17, '........Aaabbbaaa#NNNAaabbbaaa', 241)\n ->('A4', 16, '........Aaabbbaaa#NNNAaabbbaaa', 240)\n ->('A4', 15, '........Aaabbbaaa#NNNAaabbbaaa', 239)\n ->('A4', 14, '........Aaabbbaaa#NNNAaabbbaaa', 238)\n ->('A4', 13, '........Aaabbbaaa#NNNAaabbbaaa', 237)\n ->('A4', 12, '........Aaabbbaaa#NNNAaabbbaaa', 236)\n ->('A4', 11, '........Aaabbbaaa#NNNAaabbbaaa', 235)\n ->('A4', 10, '........Aaabbbaaa#NNNAaabbbaaa', 234)\n ->('A4', 9, '........Aaabbbaaa#NNNAaabbbaaa', 233)\n ->('A4', 8, '........Aaabbbaaa#NNNAaabbbaaa', 232)\n ->('A0', 9, '........Aaabbbaaa#NNNAaabbbaaa', 231)\n ->('A1a', 10, '........AAabbbaaa#NNNAaabbbaaa', 230)\n ->('A1a', 11, '........AAabbbaaa#NNNAaabbbaaa', 229)\n ->('A1a', 12, '........AAabbbaaa#NNNAaabbbaaa', 228)\n ->('A1a', 13, '........AAabbbaaa#NNNAaabbbaaa', 227)\n ->('A1a', 14, '........AAabbbaaa#NNNAaabbbaaa', 226)\n ->('A1a', 15, '........AAabbbaaa#NNNAaabbbaaa', 225)\n ->('A1a', 16, '........AAabbbaaa#NNNAaabbbaaa', 224)\n ->('A1a', 17, '........AAabbbaaa#NNNAaabbbaaa', 223)\n ->('A2a', 18, '........AAabbbaaa#NNNAaabbbaaa', 222)\n ->('A2a', 19, '........AAabbbaaa#NNNAaabbbaaa', 221)\n ->('A2a', 20, '........AAabbbaaa#NNNAaabbbaaa', 220)\n ->('A2a', 21, '........AAabbbaaa#NNNAaabbbaaa', 219)\n ->('A2a', 22, '........AAabbbaaa#NNNAaabbbaaa', 218)\n ->('A3', 21, '........AAabbbaaa#NNNAAabbbaaa', 217)\n ->('A3', 20, '........AAabbbaaa#NNNAAabbbaaa', 216)\n ->('A3', 19, '........AAabbbaaa#NNNAAabbbaaa', 215)\n ->('A3', 18, '........AAabbbaaa#NNNAAabbbaaa', 214)\n ->('A3', 17, '........AAabbbaaa#NNNAAabbbaaa', 213)\n ->('A4', 16, '........AAabbbaaa#NNNAAabbbaaa', 212)\n ->('A4', 15, '........AAabbbaaa#NNNAAabbbaaa', 211)\n ->('A4', 14, '........AAabbbaaa#NNNAAabbbaaa', 210)\n ->('A4', 13, '........AAabbbaaa#NNNAAabbbaaa', 209)\n ->('A4', 12, '........AAabbbaaa#NNNAAabbbaaa', 208)\n ->('A4', 11, '........AAabbbaaa#NNNAAabbbaaa', 207)\n ->('A4', 10, '........AAabbbaaa#NNNAAabbbaaa', 206)\n ->('A4', 9, '........AAabbbaaa#NNNAAabbbaaa', 205)\n ->('A0', 10, '........AAabbbaaa#NNNAAabbbaaa', 204)\n ->('A1a', 11, '........AAAbbbaaa#NNNAAabbbaaa', 203)\n ->('A1a', 12, '........AAAbbbaaa#NNNAAabbbaaa', 202)\n ->('A1a', 13, '........AAAbbbaaa#NNNAAabbbaaa', 201)\n ->('A1a', 14, '........AAAbbbaaa#NNNAAabbbaaa', 200)\n ->('A1a', 15, '........AAAbbbaaa#NNNAAabbbaaa', 199)\n ->('A1a', 16, '........AAAbbbaaa#NNNAAabbbaaa', 198)\n ->('A1a', 17, '........AAAbbbaaa#NNNAAabbbaaa', 197)\n ->('A2a', 18, '........AAAbbbaaa#NNNAAabbbaaa', 196)\n ->('A2a', 19, '........AAAbbbaaa#NNNAAabbbaaa', 195)\n ->('A2a', 20, '........AAAbbbaaa#NNNAAabbbaaa', 194)\n ->('A2a', 21, '........AAAbbbaaa#NNNAAabbbaaa', 193)\n ->('A2a', 22, '........AAAbbbaaa#NNNAAabbbaaa', 192)\n ->('A2a', 23, '........AAAbbbaaa#NNNAAabbbaaa', 191)\n ->('A3', 22, '........AAAbbbaaa#NNNAAAbbbaaa', 190)\n ->('A3', 21, '........AAAbbbaaa#NNNAAAbbbaaa', 189)\n ->('A3', 20, '........AAAbbbaaa#NNNAAAbbbaaa', 188)\n ->('A3', 19, '........AAAbbbaaa#NNNAAAbbbaaa', 187)\n ->('A3', 18, '........AAAbbbaaa#NNNAAAbbbaaa', 186)\n ->('A3', 17, '........AAAbbbaaa#NNNAAAbbbaaa', 185)\n ->('A4', 16, '........AAAbbbaaa#NNNAAAbbbaaa', 184)\n ->('A4', 15, '........AAAbbbaaa#NNNAAAbbbaaa', 183)\n ->('A4', 14, '........AAAbbbaaa#NNNAAAbbbaaa', 182)\n ->('A4', 13, '........AAAbbbaaa#NNNAAAbbbaaa', 181)\n ->('A4', 12, '........AAAbbbaaa#NNNAAAbbbaaa', 180)\n ->('A4', 11, '........AAAbbbaaa#NNNAAAbbbaaa', 179)\n ->('A4', 10, '........AAAbbbaaa#NNNAAAbbbaaa', 178)\n ->('A0', 11, '........AAAbbbaaa#NNNAAAbbbaaa', 177)\n ->('A1b', 12, '........AAABbbaaa#NNNAAAbbbaaa', 176)\n ->('A1b', 13, '........AAABbbaaa#NNNAAAbbbaaa', 175)\n ->('A1b', 14, '........AAABbbaaa#NNNAAAbbbaaa', 174)\n ->('A1b', 15, '........AAABbbaaa#NNNAAAbbbaaa', 173)\n ->('A1b', 16, '........AAABbbaaa#NNNAAAbbbaaa', 172)\n ->('A1b', 17, '........AAABbbaaa#NNNAAAbbbaaa', 171)\n ->('A2b', 18, '........AAABbbaaa#NNNAAAbbbaaa', 170)\n ->('A2b', 19, '........AAABbbaaa#NNNAAAbbbaaa', 169)\n ->('A2b', 20, '........AAABbbaaa#NNNAAAbbbaaa', 168)\n ->('A2b', 21, '........AAABbbaaa#NNNAAAbbbaaa', 167)\n ->('A2b', 22, '........AAABbbaaa#NNNAAAbbbaaa', 166)\n ->('A2b', 23, '........AAABbbaaa#NNNAAAbbbaaa', 165)\n ->('A2b', 24, '........AAABbbaaa#NNNAAAbbbaaa', 164)\n ->('A3', 23, '........AAABbbaaa#NNNAAABbbaaa', 163)\n ->('A3', 22, '........AAABbbaaa#NNNAAABbbaaa', 162)\n ->('A3', 21, '........AAABbbaaa#NNNAAABbbaaa', 161)\n ->('A3', 20, '........AAABbbaaa#NNNAAABbbaaa', 160)\n ->('A3', 19, '........AAABbbaaa#NNNAAABbbaaa', 159)\n ->('A3', 18, '........AAABbbaaa#NNNAAABbbaaa', 158)\n ->('A3', 17, '........AAABbbaaa#NNNAAABbbaaa', 157)\n ->('A4', 16, '........AAABbbaaa#NNNAAABbbaaa', 156)\n ->('A4', 15, '........AAABbbaaa#NNNAAABbbaaa', 155)\n ->('A4', 14, '........AAABbbaaa#NNNAAABbbaaa', 154)\n ->('A4', 13, '........AAABbbaaa#NNNAAABbbaaa', 153)\n ->('A4', 12, '........AAABbbaaa#NNNAAABbbaaa', 152)\n ->('A4', 11, '........AAABbbaaa#NNNAAABbbaaa', 151)\n ->('A0', 12, '........AAABbbaaa#NNNAAABbbaaa', 150)\n ->('A1b', 13, '........AAABBbaaa#NNNAAABbbaaa', 149)\n ->('A1b', 14, '........AAABBbaaa#NNNAAABbbaaa', 148)\n ->('A1b', 15, '........AAABBbaaa#NNNAAABbbaaa', 147)\n ->('A1b', 16, '........AAABBbaaa#NNNAAABbbaaa', 146)\n ->('A1b', 17, '........AAABBbaaa#NNNAAABbbaaa', 145)\n ->('A2b', 18, '........AAABBbaaa#NNNAAABbbaaa', 144)\n ->('A2b', 19, '........AAABBbaaa#NNNAAABbbaaa', 143)\n ->('A2b', 20, '........AAABBbaaa#NNNAAABbbaaa', 142)\n ->('A2b', 21, '........AAABBbaaa#NNNAAABbbaaa', 141)\n ->('A2b', 22, '........AAABBbaaa#NNNAAABbbaaa', 140)\n ->('A2b', 23, '........AAABBbaaa#NNNAAABbbaaa', 139)\n ->('A2b', 24, '........AAABBbaaa#NNNAAABbbaaa', 138)\n ->('A2b', 25, '........AAABBbaaa#NNNAAABbbaaa', 137)\n ->('A3', 24, '........AAABBbaaa#NNNAAABBbaaa', 136)\n ->('A3', 23, '........AAABBbaaa#NNNAAABBbaaa', 135)\n ->('A3', 22, '........AAABBbaaa#NNNAAABBbaaa', 134)\n ->('A3', 21, '........AAABBbaaa#NNNAAABBbaaa', 133)\n ->('A3', 20, '........AAABBbaaa#NNNAAABBbaaa', 132)\n ->('A3', 19, '........AAABBbaaa#NNNAAABBbaaa', 131)\n ->('A3', 18, '........AAABBbaaa#NNNAAABBbaaa', 130)\n ->('A3', 17, '........AAABBbaaa#NNNAAABBbaaa', 129)\n ->('A4', 16, '........AAABBbaaa#NNNAAABBbaaa', 128)\n ->('A4', 15, '........AAABBbaaa#NNNAAABBbaaa', 127)\n ->('A4', 14, '........AAABBbaaa#NNNAAABBbaaa', 126)\n ->('A4', 13, '........AAABBbaaa#NNNAAABBbaaa', 125)\n ->('A4', 12, '........AAABBbaaa#NNNAAABBbaaa', 124)\n ->('A0', 13, '........AAABBbaaa#NNNAAABBbaaa', 123)\n ->('A1b', 14, '........AAABBBaaa#NNNAAABBbaaa', 122)\n ->('A1b', 15, '........AAABBBaaa#NNNAAABBbaaa', 121)\n ->('A1b', 16, '........AAABBBaaa#NNNAAABBbaaa', 120)\n ->('A1b', 17, '........AAABBBaaa#NNNAAABBbaaa', 119)\n ->('A2b', 18, '........AAABBBaaa#NNNAAABBbaaa', 118)\n ->('A2b', 19, '........AAABBBaaa#NNNAAABBbaaa', 117)\n ->('A2b', 20, '........AAABBBaaa#NNNAAABBbaaa', 116)\n ->('A2b', 21, '........AAABBBaaa#NNNAAABBbaaa', 115)\n ->('A2b', 22, '........AAABBBaaa#NNNAAABBbaaa', 114)\n ->('A2b', 23, '........AAABBBaaa#NNNAAABBbaaa', 113)\n ->('A2b', 24, '........AAABBBaaa#NNNAAABBbaaa', 112)\n ->('A2b', 25, '........AAABBBaaa#NNNAAABBbaaa', 111)\n ->('A2b', 26, '........AAABBBaaa#NNNAAABBbaaa', 110)\n ->('A3', 25, '........AAABBBaaa#NNNAAABBBaaa', 109)\n ->('A3', 24, '........AAABBBaaa#NNNAAABBBaaa', 108)\n ->('A3', 23, '........AAABBBaaa#NNNAAABBBaaa', 107)\n ->('A3', 22, '........AAABBBaaa#NNNAAABBBaaa', 106)\n ->('A3', 21, '........AAABBBaaa#NNNAAABBBaaa', 105)\n ->('A3', 20, '........AAABBBaaa#NNNAAABBBaaa', 104)\n ->('A3', 19, '........AAABBBaaa#NNNAAABBBaaa', 103)\n ->('A3', 18, '........AAABBBaaa#NNNAAABBBaaa', 102)\n ->('A3', 17, '........AAABBBaaa#NNNAAABBBaaa', 101)\n ->('A4', 16, '........AAABBBaaa#NNNAAABBBaaa', 100)\n ->('A4', 15, '........AAABBBaaa#NNNAAABBBaaa', 99)\n ->('A4', 14, '........AAABBBaaa#NNNAAABBBaaa', 98)\n ->('A4', 13, '........AAABBBaaa#NNNAAABBBaaa', 97)\n ->('A0', 14, '........AAABBBaaa#NNNAAABBBaaa', 96)\n ->('A1a', 15, '........AAABBBAaa#NNNAAABBBaaa', 95)\n ->('A1a', 16, '........AAABBBAaa#NNNAAABBBaaa', 94)\n ->('A1a', 17, '........AAABBBAaa#NNNAAABBBaaa', 93)\n ->('A2a', 18, '........AAABBBAaa#NNNAAABBBaaa', 92)\n ->('A2a', 19, '........AAABBBAaa#NNNAAABBBaaa', 91)\n ->('A2a', 20, '........AAABBBAaa#NNNAAABBBaaa', 90)\n ->('A2a', 21, '........AAABBBAaa#NNNAAABBBaaa', 89)\n ->('A2a', 22, '........AAABBBAaa#NNNAAABBBaaa', 88)\n ->('A2a', 23, '........AAABBBAaa#NNNAAABBBaaa', 87)\n ->('A2a', 24, '........AAABBBAaa#NNNAAABBBaaa', 86)\n ->('A2a', 25, '........AAABBBAaa#NNNAAABBBaaa', 85)\n ->('A2a', 26, '........AAABBBAaa#NNNAAABBBaaa', 84)\n ->('A2a', 27, '........AAABBBAaa#NNNAAABBBaaa', 83)\n ->('A3', 26, '........AAABBBAaa#NNNAAABBBAaa', 82)\n ->('A3', 25, '........AAABBBAaa#NNNAAABBBAaa', 81)\n ->('A3', 24, '........AAABBBAaa#NNNAAABBBAaa', 80)\n ->('A3', 23, '........AAABBBAaa#NNNAAABBBAaa', 79)\n ->('A3', 22, '........AAABBBAaa#NNNAAABBBAaa', 78)\n ->('A3', 21, '........AAABBBAaa#NNNAAABBBAaa', 77)\n ->('A3', 20, '........AAABBBAaa#NNNAAABBBAaa', 76)\n ->('A3', 19, '........AAABBBAaa#NNNAAABBBAaa', 75)\n ->('A3', 18, '........AAABBBAaa#NNNAAABBBAaa', 74)\n ->('A3', 17, '........AAABBBAaa#NNNAAABBBAaa', 73)\n ->('A4', 16, '........AAABBBAaa#NNNAAABBBAaa', 72)\n ->('A4', 15, '........AAABBBAaa#NNNAAABBBAaa', 71)\n ->('A4', 14, '........AAABBBAaa#NNNAAABBBAaa', 70)\n ->('A0', 15, '........AAABBBAaa#NNNAAABBBAaa', 69)\n ->('A1a', 16, '........AAABBBAAa#NNNAAABBBAaa', 68)\n ->('A1a', 17, '........AAABBBAAa#NNNAAABBBAaa', 67)\n ->('A2a', 18, '........AAABBBAAa#NNNAAABBBAaa', 66)\n ->('A2a', 19, '........AAABBBAAa#NNNAAABBBAaa', 65)\n ->('A2a', 20, '........AAABBBAAa#NNNAAABBBAaa', 64)\n ->('A2a', 21, '........AAABBBAAa#NNNAAABBBAaa', 63)\n ->('A2a', 22, '........AAABBBAAa#NNNAAABBBAaa', 62)\n ->('A2a', 23, '........AAABBBAAa#NNNAAABBBAaa', 61)\n ->('A2a', 24, '........AAABBBAAa#NNNAAABBBAaa', 60)\n ->('A2a', 25, '........AAABBBAAa#NNNAAABBBAaa', 59)\n ->('A2a', 26, '........AAABBBAAa#NNNAAABBBAaa', 58)\n ->('A2a', 27, '........AAABBBAAa#NNNAAABBBAaa', 57)\n ->('A2a', 28, '........AAABBBAAa#NNNAAABBBAaa', 56)\n ->('A3', 27, '........AAABBBAAa#NNNAAABBBAAa', 55)\n ->('A3', 26, '........AAABBBAAa#NNNAAABBBAAa', 54)\n ->('A3', 25, '........AAABBBAAa#NNNAAABBBAAa', 53)\n ->('A3', 24, '........AAABBBAAa#NNNAAABBBAAa', 52)\n ->('A3', 23, '........AAABBBAAa#NNNAAABBBAAa', 51)\n ->('A3', 22, '........AAABBBAAa#NNNAAABBBAAa', 50)\n ->('A3', 21, '........AAABBBAAa#NNNAAABBBAAa', 49)\n ->('A3', 20, '........AAABBBAAa#NNNAAABBBAAa', 48)\n ->('A3', 19, '........AAABBBAAa#NNNAAABBBAAa', 47)\n ->('A3', 18, '........AAABBBAAa#NNNAAABBBAAa', 46)\n ->('A3', 17, '........AAABBBAAa#NNNAAABBBAAa', 45)\n ->('A4', 16, '........AAABBBAAa#NNNAAABBBAAa', 44)\n ->('A4', 15, '........AAABBBAAa#NNNAAABBBAAa', 43)\n ->('A0', 16, '........AAABBBAAa#NNNAAABBBAAa', 42)\n ->('A1a', 17, '........AAABBBAAA#NNNAAABBBAAa', 41)\n ->('A2a', 18, '........AAABBBAAA#NNNAAABBBAAa', 40)\n ->('A2a', 19, '........AAABBBAAA#NNNAAABBBAAa', 39)\n ->('A2a', 20, '........AAABBBAAA#NNNAAABBBAAa', 38)\n ->('A2a', 21, '........AAABBBAAA#NNNAAABBBAAa', 37)\n ->('A2a', 22, '........AAABBBAAA#NNNAAABBBAAa', 36)\n ->('A2a', 23, '........AAABBBAAA#NNNAAABBBAAa', 35)\n ->('A2a', 24, '........AAABBBAAA#NNNAAABBBAAa', 34)\n ->('A2a', 25, '........AAABBBAAA#NNNAAABBBAAa', 33)\n ->('A2a', 26, '........AAABBBAAA#NNNAAABBBAAa', 32)\n ->('A2a', 27, '........AAABBBAAA#NNNAAABBBAAa', 31)\n ->('A2a', 28, '........AAABBBAAA#NNNAAABBBAAa', 30)\n ->('A2a', 29, '........AAABBBAAA#NNNAAABBBAAa', 29)\n ->('A3', 28, '........AAABBBAAA#NNNAAABBBAAA', 28)\n ->('A3', 27, '........AAABBBAAA#NNNAAABBBAAA', 27)\n ->('A3', 26, '........AAABBBAAA#NNNAAABBBAAA', 26)\n ->('A3', 25, '........AAABBBAAA#NNNAAABBBAAA', 25)\n ->('A3', 24, '........AAABBBAAA#NNNAAABBBAAA', 24)\n ->('A3', 23, '........AAABBBAAA#NNNAAABBBAAA', 23)\n ->('A3', 22, '........AAABBBAAA#NNNAAABBBAAA', 22)\n ->('A3', 21, '........AAABBBAAA#NNNAAABBBAAA', 21)\n ->('A3', 20, '........AAABBBAAA#NNNAAABBBAAA', 20)\n ->('A3', 19, '........AAABBBAAA#NNNAAABBBAAA', 19)\n ->('A3', 18, '........AAABBBAAA#NNNAAABBBAAA', 18)\n ->('A3', 17, '........AAABBBAAA#NNNAAABBBAAA', 17)\n ->('A4', 16, '........AAABBBAAA#NNNAAABBBAAA', 16)\n ->('A0', 17, '........AAABBBAAA#NNNAAABBBAAA', 15)\n ->('q5', 18, '........AAABBBAAA#NNNAAABBBAAA', 14)\n ->('q5', 19, '........AAABBBAAA#NNNAAABBBAAA', 13)\n ->('q5', 20, '........AAABBBAAA#NNNAAABBBAAA', 12)\n ->('q5', 21, '........AAABBBAAA#NNNAAABBBAAA', 11)\n ->('q6', 22, '........AAABBBAAA#NNNAAABBBAAA', 10)\n ->('q6', 23, '........AAABBBAAA#NNNAAABBBAAA', 9)\n ->('q6', 24, '........AAABBBAAA#NNNAAABBBAAA', 8)\n ->('q6', 25, '........AAABBBAAA#NNNAAABBBAAA', 7)\n ->('q6', 26, '........AAABBBAAA#NNNAAABBBAAA', 6)\n ->('q6', 27, '........AAABBBAAA#NNNAAABBBAAA', 5)\n ->('q6', 28, '........AAABBBAAA#NNNAAABBBAAA', 4)\n ->('q6', 29, '........AAABBBAAA#NNNAAABBBAAA', 3)\n ->('q6', 30, '........AAABBBAAA#NNNAAABBBAAA', 2)\n ->('Fq7', 30, '........AAABBBAAA#NNNAAABBBAAA........', 1)\n"
     ]
    }
   ],
   "source": [
    "explore_tm(Asg9DTM, \"aaabbbaaa#bbbaaabbbaaa\",331)    # PASS"
   ]
  },
  {
   "cell_type": "code",
   "execution_count": 35,
   "metadata": {},
   "outputs": [
    {
     "output_type": "stream",
     "name": "stdout",
     "text": [
      "Allocating  8  tape cells to the LEFT!\nAllocating  8  tape cells to the RIGHT!\nDetailing the halted configs now.\nRejected at  ('A2a', 17, '........Aaabbb#NN', 1)\n via .. \n ->('Iq0', 0, 'aaabbb#ab', 43)\n ->('A0', 0, 'aaabbb#ab', 42)\n ->('A1a', 1, 'Aaabbb#ab', 41)\n ->('A1a', 2, 'Aaabbb#ab', 40)\n ->('A1a', 3, 'Aaabbb#ab', 39)\n ->('A1a', 4, 'Aaabbb#ab', 38)\n ->('A1a', 5, 'Aaabbb#ab', 37)\n ->('A1a', 6, 'Aaabbb#ab', 36)\n ->('A2a', 7, 'Aaabbb#ab', 35)\n ->('A3', 6, 'Aaabbb#Ab', 34)\n ->('A4', 5, 'Aaabbb#Ab', 33)\n ->('A4', 4, 'Aaabbb#Ab', 32)\n ->('A4', 3, 'Aaabbb#Ab', 31)\n ->('A4', 2, 'Aaabbb#Ab', 30)\n ->('A4', 1, 'Aaabbb#Ab', 29)\n ->('A4', 0, 'Aaabbb#Ab', 28)\n ->('A0', 1, 'Aaabbb#Ab', 27)\n ->('A1a', 2, 'AAabbb#Ab', 26)\n ->('A1a', 3, 'AAabbb#Ab', 25)\n ->('A1a', 4, 'AAabbb#Ab', 24)\n ->('A1a', 5, 'AAabbb#Ab', 23)\n ->('A1a', 6, 'AAabbb#Ab', 22)\n ->('A2a', 7, 'AAabbb#Ab', 21)\n ->('A2a', 8, 'AAabbb#Ab', 20)\n ->('A3n', 7, 'AAabbb#AN', 19)\n ->('A3n', 6, 'AAabbb#NN', 18)\n ->('A4n', 5, 'AAabbb#NN', 17)\n ->('A4n', 4, 'AAabbb#NN', 16)\n ->('A4n', 3, 'AAabbb#NN', 15)\n ->('A4n', 2, 'AAabbb#NN', 14)\n ->('A4n', 1, 'AAabbb#NN', 13)\n ->('A5n', 0, 'Aaabbb#NN', 12)\n ->('A5n', 7, '........aaabbb#NN', 11)\n ->('A0', 8, '........aaabbb#NN', 10)\n ->('A1a', 9, '........Aaabbb#NN', 9)\n ->('A1a', 10, '........Aaabbb#NN', 8)\n ->('A1a', 11, '........Aaabbb#NN', 7)\n ->('A1a', 12, '........Aaabbb#NN', 6)\n ->('A1a', 13, '........Aaabbb#NN', 5)\n ->('A1a', 14, '........Aaabbb#NN', 4)\n ->('A2a', 15, '........Aaabbb#NN', 3)\n ->('A2a', 16, '........Aaabbb#NN', 2)\n ->('A2a', 17, '........Aaabbb#NN', 1)\n"
     ]
    }
   ],
   "source": [
    "explore_tm(Asg9DTM, \"aaabbb#ab\",43) # FAIL"
   ]
  },
  {
   "cell_type": "code",
   "execution_count": 40,
   "metadata": {},
   "outputs": [
    {
     "output_type": "stream",
     "name": "stdout",
     "text": [
      "Allocating  8  tape cells to the LEFT!\nAllocating  8  tape cells to the RIGHT!\nDetailing the halted configs now.\nRejected at  ('A2b', 23, '........AAABBb#NNNNAAAB', 1)\n via .. \n ->('Iq0', 0, 'aaabbb#abbbaaab', 179)\n ->('A0', 0, 'aaabbb#abbbaaab', 178)\n ->('A1a', 1, 'Aaabbb#abbbaaab', 177)\n ->('A1a', 2, 'Aaabbb#abbbaaab', 176)\n ->('A1a', 3, 'Aaabbb#abbbaaab', 175)\n ->('A1a', 4, 'Aaabbb#abbbaaab', 174)\n ->('A1a', 5, 'Aaabbb#abbbaaab', 173)\n ->('A1a', 6, 'Aaabbb#abbbaaab', 172)\n ->('A2a', 7, 'Aaabbb#abbbaaab', 171)\n ->('A3', 6, 'Aaabbb#Abbbaaab', 170)\n ->('A4', 5, 'Aaabbb#Abbbaaab', 169)\n ->('A4', 4, 'Aaabbb#Abbbaaab', 168)\n ->('A4', 3, 'Aaabbb#Abbbaaab', 167)\n ->('A4', 2, 'Aaabbb#Abbbaaab', 166)\n ->('A4', 1, 'Aaabbb#Abbbaaab', 165)\n ->('A4', 0, 'Aaabbb#Abbbaaab', 164)\n ->('A0', 1, 'Aaabbb#Abbbaaab', 163)\n ->('A1a', 2, 'AAabbb#Abbbaaab', 162)\n ->('A1a', 3, 'AAabbb#Abbbaaab', 161)\n ->('A1a', 4, 'AAabbb#Abbbaaab', 160)\n ->('A1a', 5, 'AAabbb#Abbbaaab', 159)\n ->('A1a', 6, 'AAabbb#Abbbaaab', 158)\n ->('A2a', 7, 'AAabbb#Abbbaaab', 157)\n ->('A2a', 8, 'AAabbb#Abbbaaab', 156)\n ->('A3n', 7, 'AAabbb#ANbbaaab', 155)\n ->('A3n', 6, 'AAabbb#NNbbaaab', 154)\n ->('A4n', 5, 'AAabbb#NNbbaaab', 153)\n ->('A4n', 4, 'AAabbb#NNbbaaab', 152)\n ->('A4n', 3, 'AAabbb#NNbbaaab', 151)\n ->('A4n', 2, 'AAabbb#NNbbaaab', 150)\n ->('A4n', 1, 'AAabbb#NNbbaaab', 149)\n ->('A5n', 0, 'Aaabbb#NNbbaaab', 148)\n ->('A5n', 7, '........aaabbb#NNbbaaab', 147)\n ->('A0', 8, '........aaabbb#NNbbaaab', 146)\n ->('A1a', 9, '........Aaabbb#NNbbaaab', 145)\n ->('A1a', 10, '........Aaabbb#NNbbaaab', 144)\n ->('A1a', 11, '........Aaabbb#NNbbaaab', 143)\n ->('A1a', 12, '........Aaabbb#NNbbaaab', 142)\n ->('A1a', 13, '........Aaabbb#NNbbaaab', 141)\n ->('A1a', 14, '........Aaabbb#NNbbaaab', 140)\n ->('A2a', 15, '........Aaabbb#NNbbaaab', 139)\n ->('A2a', 16, '........Aaabbb#NNbbaaab', 138)\n ->('A2a', 17, '........Aaabbb#NNbbaaab', 137)\n ->('A3n', 16, '........Aaabbb#NNNbaaab', 136)\n ->('A3n', 15, '........Aaabbb#NNNbaaab', 135)\n ->('A3n', 14, '........Aaabbb#NNNbaaab', 134)\n ->('A4n', 13, '........Aaabbb#NNNbaaab', 133)\n ->('A4n', 12, '........Aaabbb#NNNbaaab', 132)\n ->('A4n', 11, '........Aaabbb#NNNbaaab', 131)\n ->('A4n', 10, '........Aaabbb#NNNbaaab', 130)\n ->('A4n', 9, '........Aaabbb#NNNbaaab', 129)\n ->('A4n', 8, '........Aaabbb#NNNbaaab', 128)\n ->('A5n', 7, '........aaabbb#NNNbaaab', 127)\n ->('A0', 8, '........aaabbb#NNNbaaab', 126)\n ->('A1a', 9, '........Aaabbb#NNNbaaab', 125)\n ->('A1a', 10, '........Aaabbb#NNNbaaab', 124)\n ->('A1a', 11, '........Aaabbb#NNNbaaab', 123)\n ->('A1a', 12, '........Aaabbb#NNNbaaab', 122)\n ->('A1a', 13, '........Aaabbb#NNNbaaab', 121)\n ->('A1a', 14, '........Aaabbb#NNNbaaab', 120)\n ->('A2a', 15, '........Aaabbb#NNNbaaab', 119)\n ->('A2a', 16, '........Aaabbb#NNNbaaab', 118)\n ->('A2a', 17, '........Aaabbb#NNNbaaab', 117)\n ->('A2a', 18, '........Aaabbb#NNNbaaab', 116)\n ->('A3n', 17, '........Aaabbb#NNNNaaab', 115)\n ->('A3n', 16, '........Aaabbb#NNNNaaab', 114)\n ->('A3n', 15, '........Aaabbb#NNNNaaab', 113)\n ->('A3n', 14, '........Aaabbb#NNNNaaab', 112)\n ->('A4n', 13, '........Aaabbb#NNNNaaab', 111)\n ->('A4n', 12, '........Aaabbb#NNNNaaab', 110)\n ->('A4n', 11, '........Aaabbb#NNNNaaab', 109)\n ->('A4n', 10, '........Aaabbb#NNNNaaab', 108)\n ->('A4n', 9, '........Aaabbb#NNNNaaab', 107)\n ->('A4n', 8, '........Aaabbb#NNNNaaab', 106)\n ->('A5n', 7, '........aaabbb#NNNNaaab', 105)\n ->('A0', 8, '........aaabbb#NNNNaaab', 104)\n ->('A1a', 9, '........Aaabbb#NNNNaaab', 103)\n ->('A1a', 10, '........Aaabbb#NNNNaaab', 102)\n ->('A1a', 11, '........Aaabbb#NNNNaaab', 101)\n ->('A1a', 12, '........Aaabbb#NNNNaaab', 100)\n ->('A1a', 13, '........Aaabbb#NNNNaaab', 99)\n ->('A1a', 14, '........Aaabbb#NNNNaaab', 98)\n ->('A2a', 15, '........Aaabbb#NNNNaaab', 97)\n ->('A2a', 16, '........Aaabbb#NNNNaaab', 96)\n ->('A2a', 17, '........Aaabbb#NNNNaaab', 95)\n ->('A2a', 18, '........Aaabbb#NNNNaaab', 94)\n ->('A2a', 19, '........Aaabbb#NNNNaaab', 93)\n ->('A3', 18, '........Aaabbb#NNNNAaab', 92)\n ->('A3', 17, '........Aaabbb#NNNNAaab', 91)\n ->('A3', 16, '........Aaabbb#NNNNAaab', 90)\n ->('A3', 15, '........Aaabbb#NNNNAaab', 89)\n ->('A3', 14, '........Aaabbb#NNNNAaab', 88)\n ->('A4', 13, '........Aaabbb#NNNNAaab', 87)\n ->('A4', 12, '........Aaabbb#NNNNAaab', 86)\n ->('A4', 11, '........Aaabbb#NNNNAaab', 85)\n ->('A4', 10, '........Aaabbb#NNNNAaab', 84)\n ->('A4', 9, '........Aaabbb#NNNNAaab', 83)\n ->('A4', 8, '........Aaabbb#NNNNAaab', 82)\n ->('A0', 9, '........Aaabbb#NNNNAaab', 81)\n ->('A1a', 10, '........AAabbb#NNNNAaab', 80)\n ->('A1a', 11, '........AAabbb#NNNNAaab', 79)\n ->('A1a', 12, '........AAabbb#NNNNAaab', 78)\n ->('A1a', 13, '........AAabbb#NNNNAaab', 77)\n ->('A1a', 14, '........AAabbb#NNNNAaab', 76)\n ->('A2a', 15, '........AAabbb#NNNNAaab', 75)\n ->('A2a', 16, '........AAabbb#NNNNAaab', 74)\n ->('A2a', 17, '........AAabbb#NNNNAaab', 73)\n ->('A2a', 18, '........AAabbb#NNNNAaab', 72)\n ->('A2a', 19, '........AAabbb#NNNNAaab', 71)\n ->('A2a', 20, '........AAabbb#NNNNAaab', 70)\n ->('A3', 19, '........AAabbb#NNNNAAab', 69)\n ->('A3', 18, '........AAabbb#NNNNAAab', 68)\n ->('A3', 17, '........AAabbb#NNNNAAab', 67)\n ->('A3', 16, '........AAabbb#NNNNAAab', 66)\n ->('A3', 15, '........AAabbb#NNNNAAab', 65)\n ->('A3', 14, '........AAabbb#NNNNAAab', 64)\n ->('A4', 13, '........AAabbb#NNNNAAab', 63)\n ->('A4', 12, '........AAabbb#NNNNAAab', 62)\n ->('A4', 11, '........AAabbb#NNNNAAab', 61)\n ->('A4', 10, '........AAabbb#NNNNAAab', 60)\n ->('A4', 9, '........AAabbb#NNNNAAab', 59)\n ->('A0', 10, '........AAabbb#NNNNAAab', 58)\n ->('A1a', 11, '........AAAbbb#NNNNAAab', 57)\n ->('A1a', 12, '........AAAbbb#NNNNAAab', 56)\n ->('A1a', 13, '........AAAbbb#NNNNAAab', 55)\n ->('A1a', 14, '........AAAbbb#NNNNAAab', 54)\n ->('A2a', 15, '........AAAbbb#NNNNAAab', 53)\n ->('A2a', 16, '........AAAbbb#NNNNAAab', 52)\n ->('A2a', 17, '........AAAbbb#NNNNAAab', 51)\n ->('A2a', 18, '........AAAbbb#NNNNAAab', 50)\n ->('A2a', 19, '........AAAbbb#NNNNAAab', 49)\n ->('A2a', 20, '........AAAbbb#NNNNAAab', 48)\n ->('A2a', 21, '........AAAbbb#NNNNAAab', 47)\n ->('A3', 20, '........AAAbbb#NNNNAAAb', 46)\n ->('A3', 19, '........AAAbbb#NNNNAAAb', 45)\n ->('A3', 18, '........AAAbbb#NNNNAAAb', 44)\n ->('A3', 17, '........AAAbbb#NNNNAAAb', 43)\n ->('A3', 16, '........AAAbbb#NNNNAAAb', 42)\n ->('A3', 15, '........AAAbbb#NNNNAAAb', 41)\n ->('A3', 14, '........AAAbbb#NNNNAAAb', 40)\n ->('A4', 13, '........AAAbbb#NNNNAAAb', 39)\n ->('A4', 12, '........AAAbbb#NNNNAAAb', 38)\n ->('A4', 11, '........AAAbbb#NNNNAAAb', 37)\n ->('A4', 10, '........AAAbbb#NNNNAAAb', 36)\n ->('A0', 11, '........AAAbbb#NNNNAAAb', 35)\n ->('A1b', 12, '........AAABbb#NNNNAAAb', 34)\n ->('A1b', 13, '........AAABbb#NNNNAAAb', 33)\n ->('A1b', 14, '........AAABbb#NNNNAAAb', 32)\n ->('A2b', 15, '........AAABbb#NNNNAAAb', 31)\n ->('A2b', 16, '........AAABbb#NNNNAAAb', 30)\n ->('A2b', 17, '........AAABbb#NNNNAAAb', 29)\n ->('A2b', 18, '........AAABbb#NNNNAAAb', 28)\n ->('A2b', 19, '........AAABbb#NNNNAAAb', 27)\n ->('A2b', 20, '........AAABbb#NNNNAAAb', 26)\n ->('A2b', 21, '........AAABbb#NNNNAAAb', 25)\n ->('A2b', 22, '........AAABbb#NNNNAAAb', 24)\n ->('A3', 21, '........AAABbb#NNNNAAAB', 23)\n ->('A3', 20, '........AAABbb#NNNNAAAB', 22)\n ->('A3', 19, '........AAABbb#NNNNAAAB', 21)\n ->('A3', 18, '........AAABbb#NNNNAAAB', 20)\n ->('A3', 17, '........AAABbb#NNNNAAAB', 19)\n ->('A3', 16, '........AAABbb#NNNNAAAB', 18)\n ->('A3', 15, '........AAABbb#NNNNAAAB', 17)\n ->('A3', 14, '........AAABbb#NNNNAAAB', 16)\n ->('A4', 13, '........AAABbb#NNNNAAAB', 15)\n ->('A4', 12, '........AAABbb#NNNNAAAB', 14)\n ->('A4', 11, '........AAABbb#NNNNAAAB', 13)\n ->('A0', 12, '........AAABbb#NNNNAAAB', 12)\n ->('A1b', 13, '........AAABBb#NNNNAAAB', 11)\n ->('A1b', 14, '........AAABBb#NNNNAAAB', 10)\n ->('A2b', 15, '........AAABBb#NNNNAAAB', 9)\n ->('A2b', 16, '........AAABBb#NNNNAAAB', 8)\n ->('A2b', 17, '........AAABBb#NNNNAAAB', 7)\n ->('A2b', 18, '........AAABBb#NNNNAAAB', 6)\n ->('A2b', 19, '........AAABBb#NNNNAAAB', 5)\n ->('A2b', 20, '........AAABBb#NNNNAAAB', 4)\n ->('A2b', 21, '........AAABBb#NNNNAAAB', 3)\n ->('A2b', 22, '........AAABBb#NNNNAAAB', 2)\n ->('A2b', 23, '........AAABBb#NNNNAAAB', 1)\n"
     ]
    }
   ],
   "source": [
    "explore_tm(Asg9DTM, \"aaabbb#abbbaaab\",179)   # FAIL"
   ]
  },
  {
   "cell_type": "markdown",
   "metadata": {},
   "source": [
    "# Asg9 NDTM for w#x where w is a substring of x"
   ]
  },
  {
   "cell_type": "code",
   "execution_count": null,
   "metadata": {
    "run_control": {
     "frozen": false,
     "read_only": false
    }
   },
   "outputs": [],
   "source": [
    "# w#x NDTM\n",
    " \n",
    "\n",
    "Asg9NDTM = md2mc('''TM\n",
    "  \n",
    " \n",
    "\n",
    "''')\n",
    "\n"
   ]
  },
  {
   "cell_type": "code",
   "execution_count": null,
   "metadata": {},
   "outputs": [],
   "source": [
    "explore_tm(Asg9NDTM, \"aba#aba\",50)"
   ]
  },
  {
   "cell_type": "code",
   "execution_count": null,
   "metadata": {},
   "outputs": [],
   "source": [
    "explore_tm(Asg9NDTM, \"aba#ab\",50)"
   ]
  },
  {
   "cell_type": "code",
   "execution_count": null,
   "metadata": {},
   "outputs": [],
   "source": [
    "explore_tm(Asg9NDTM, \"aba#baba\",50)"
   ]
  },
  {
   "cell_type": "code",
   "execution_count": null,
   "metadata": {},
   "outputs": [],
   "source": [
    "explore_tm(Asg9NDTM, \"aba#babba\",50)"
   ]
  },
  {
   "cell_type": "code",
   "execution_count": null,
   "metadata": {},
   "outputs": [],
   "source": [
    "explore_tm(Asg9NDTM, \"bba#bbabba\",50)"
   ]
  },
  {
   "cell_type": "markdown",
   "metadata": {},
   "source": [
    "# END"
   ]
  }
 ],
 "metadata": {
  "kernelspec": {
   "display_name": "Python 3",
   "language": "python",
   "name": "python3"
  },
  "language_info": {
   "codemirror_mode": {
    "name": "ipython",
    "version": 3
   },
   "file_extension": ".py",
   "mimetype": "text/x-python",
   "name": "python",
   "nbconvert_exporter": "python",
   "pygments_lexer": "ipython3",
   "version": "3.8.3-final"
  },
  "toc": {
   "colors": {
    "hover_highlight": "#DAA520",
    "running_highlight": "#FF0000",
    "selected_highlight": "#FFD700"
   },
   "moveMenuLeft": true,
   "nav_menu": {
    "height": "318px",
    "width": "252px"
   },
   "navigate_menu": true,
   "number_sections": true,
   "sideBar": true,
   "threshold": 4,
   "toc_cell": false,
   "toc_section_display": "block",
   "toc_window_display": false,
   "widenNotebook": false
  }
 },
 "nbformat": 4,
 "nbformat_minor": 1
}