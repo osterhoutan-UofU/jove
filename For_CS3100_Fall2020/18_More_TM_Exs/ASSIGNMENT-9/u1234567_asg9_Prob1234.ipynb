{
 "cells": [
  {
   "cell_type": "markdown",
   "metadata": {},
   "source": [
    "# Asg-9 focuses on questions graded by the mentioned TAs\n",
    "\n",
    "# Full details are in the PDF file of Asg-9\n",
    "\n",
    "# This notebook only has space for your answers\n",
    "\n",
    " "
   ]
  },
  {
   "cell_type": "markdown",
   "metadata": {},
   "source": [
    "# ============="
   ]
  },
  {
   "cell_type": "markdown",
   "metadata": {},
   "source": [
    "# (1) XL, 25%:\n",
    "### Problem 6, Page 159, the \"OR\" case. \n",
    "### Show that the \"OR\" case results in a CFG.\n",
    "### Provide the CFG below between the triple quotes.\n",
    "### Show the running of the CFG within u123456_Asg9.ipynb \n",
    "\n",
    "'''\n",
    "\n",
    "The CFG for the \"OR\" language should be typed here. \n",
    "Its simulation using PDA to be provided in u123456_Asg9.ipynb\n",
    "that must be filled, run, and submitted.\n",
    "\n",
    "'''\n",
    " \n",
    " "
   ]
  },
  {
   "cell_type": "markdown",
   "metadata": {},
   "source": [
    "# ============="
   ]
  },
  {
   "cell_type": "markdown",
   "metadata": {},
   "source": [
    "# (2) SV, 25%:\n",
    "\n",
    "### Problem 6, Page 159, the \"AND\" case. \n",
    "### Show via the CFG PL that the language with the \"AND\" case is not a CFL. \n",
    "### Use neat bulleted steps below.\n",
    "\n",
    "* ...\n",
    "* ...\n",
    "\n",
    " \n",
    " "
   ]
  },
  {
   "cell_type": "markdown",
   "metadata": {},
   "source": [
    "# ============="
   ]
  },
  {
   "cell_type": "markdown",
   "metadata": {},
   "source": [
    "# (3) AR, 25%: The solution entirely within u123456_Asg9.ipynb \n",
    "\n",
    "### The DTM for w#x where w is a substring of x. (See the definition of substring and subsequence at https://en.wikipedia.org/wiki/Substring)"
   ]
  },
  {
   "cell_type": "markdown",
   "metadata": {},
   "source": [
    "# ============="
   ]
  },
  {
   "cell_type": "markdown",
   "metadata": {},
   "source": [
    "# (4) LT, 25%: The solution entirely within u123456_Asg9.ipynb \n",
    "\n",
    "### The NDTM for w#x where w is a substring of x.\n",
    "\n",
    "\n"
   ]
  },
  {
   "cell_type": "markdown",
   "metadata": {},
   "source": [
    "# END\n"
   ]
  }
 ],
 "metadata": {
  "kernelspec": {
   "display_name": "Python 3",
   "language": "python",
   "name": "python3"
  },
  "language_info": {
   "codemirror_mode": {
    "name": "ipython",
    "version": 3
   },
   "file_extension": ".py",
   "mimetype": "text/x-python",
   "name": "python",
   "nbconvert_exporter": "python",
   "pygments_lexer": "ipython3",
   "version": "3.7.3"
  },
  "toc": {
   "colors": {
    "hover_highlight": "#DAA520",
    "running_highlight": "#FF0000",
    "selected_highlight": "#FFD700"
   },
   "moveMenuLeft": true,
   "nav_menu": {
    "height": "121px",
    "width": "252px"
   },
   "navigate_menu": true,
   "number_sections": true,
   "sideBar": true,
   "threshold": 4,
   "toc_cell": false,
   "toc_section_display": "block",
   "toc_window_display": false,
   "widenNotebook": false
  },
  "widgets": {
   "state": {
    "430c92ee02b34ec1912bf03c8de1e6dc": {
     "views": [
      {
       "cell_index": 20
      }
     ]
    }
   },
   "version": "1.2.0"
  }
 },
 "nbformat": 4,
 "nbformat_minor": 2
}
