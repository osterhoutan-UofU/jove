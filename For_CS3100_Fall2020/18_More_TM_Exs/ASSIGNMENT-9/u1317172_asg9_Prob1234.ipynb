{
 "cells": [
  {
   "cell_type": "markdown",
   "metadata": {},
   "source": [
    "<style>\n",
    "h1 {\n",
    "    border-bottom: 2px solid;\n",
    "}\n",
    "h2 {\n",
    "    border-bottom: 1px solid;\n",
    "}\n",
    "/* hr {\n",
    "    border-top: 2px solid;\n",
    "    border-bottom: none;\n",
    "} */\n",
    ".student-info {\n",
    "    text-align: right;\n",
    "    border-bottom: none;\n",
    "}\n",
    "hr.double-div {\n",
    "    border-top: 2px solid;\n",
    "    border-bottom: 2px solid;\n",
    "    border-left: none;\n",
    "    border-right: none;\n",
    "    height: 10pt;\n",
    "    /* border-radius: 1px; */\n",
    "}\n",
    "blockquote {\n",
    "    border-left: 2px solid;\n",
    "    /* background-color: #00000488; */\n",
    "    /* filter: brightness(80%); */\n",
    "    margin-left: 2em;\n",
    "    margin-right: 2em;\n",
    "    padding: 1px 2px 1px 1em;\n",
    "}\n",
    "pre {\n",
    "    border: 1px solid #88888888;\n",
    "    margin-left: 1em;\n",
    "    margin-right: 1em;\n",
    "    padding: 0.5em;\n",
    "    /*padding: 8pt 1em 8pt 1em;*/\n",
    "}\n",
    "blockquote > pre {\n",
    "    margin-left: 0.5em;\n",
    "}\n",
    "img {\n",
    "    display: block;\n",
    "    margin-left: auto;\n",
    "    margin-right: auto;\n",
    "}\n",
    "</style>\n",
    "\n",
    "<h2 class=\"student-info\">\n",
    "    Andrew Osterhout <br/>\n",
    "    (u1317172)\n",
    "</h2>\n",
    "\n",
    "# Asg-9 \n",
    "\n",
    "<font size=\"4\">\n",
    "Focuses on questions graded by the mentioned TA's. </br>\n",
    "Full details are in the PDF file of Asg-9. <br/>\n",
    "This notebook only has space for your answers.\n",
    "</font>\n",
    " "
   ]
  },
  {
   "cell_type": "markdown",
   "metadata": {},
   "source": [
    "<hr class=\"double-div\"/>"
   ]
  },
  {
   "cell_type": "markdown",
   "metadata": {},
   "source": [
    "# (1) XL, 25%:\n",
    "<font size =\"4\">\n",
    "    <b>Problem 6 (<i>Pg 159</i>):</b> the \"OR\" case. </br>\n",
    "    Show that the \"OR\" case results in a CFG. </br>\n",
    "    Provide the CFG below between the triple quotes. </br>\n",
    "    Show the running of the CFG within <code>u123456_Asg9.ipynb</code>\n",
    "</font>\n",
    "\n",
    "> ```\n",
    "The CFG for the \"OR\" language should be typed here. \n",
    "It's simulation using PDA to be provided in `u123456_Asg9.ipynb`\n",
    "that must be filled, run, and submitted.\n",
    "```\n",
    " \n",
    " "
   ]
  },
  {
   "cell_type": "markdown",
   "metadata": {},
   "source": [
    "<hr class=\"double-div\"/>"
   ]
  },
  {
   "cell_type": "markdown",
   "metadata": {},
   "source": [
    "# (2) SV, 25%:\n",
    "<font size =\"4\">\n",
    "    <b>Problem 6 (<i>Pg 159</i>):</b> the \"AND\" case. </br>\n",
    "    Show via the CFG PL that the language with the \"AND\" case is not a CFL. </br>\n",
    "    Use neat bulleted steps below. </br>\n",
    "</font> \n",
    "\n",
    "> - ...\n",
    "> - ...\n",
    "> - ...\n",
    "\n",
    " \n",
    " "
   ]
  },
  {
   "cell_type": "markdown",
   "metadata": {},
   "source": [
    "<hr class=\"double-div\"/>"
   ]
  },
  {
   "cell_type": "markdown",
   "metadata": {},
   "source": [
    "# (3) AR, 25%: \n",
    "### _The solution entirely within `u123456_Asg9.ipynb`_\n",
    "\n",
    "<font size=\"4\">\n",
    "    The DTM for w#x where w is a substring of x. </br>\n",
    "    <a href=\"https://en.wikipedia.org/wiki/Substring\">https://en.wikipedia.org/wiki/Substring</a> <i>(See the definition of substring and subsequence at \n",
    "    <a href=\"https://en.wikipedia.org/wiki/Substring\">https://en.wikipedia.org/wiki/Substring</a>)</i>\n",
    "</font>"
   ]
  },
  {
   "cell_type": "markdown",
   "metadata": {},
   "source": [
    "<hr class=\"double-div\"/>"
   ]
  },
  {
   "cell_type": "markdown",
   "metadata": {},
   "source": [
    "# (4) LT, 25%: \n",
    "### _The solution entirely within `u123456_Asg9.ipynb`_ \n",
    "\n",
    "### The NDTM for $w\\#x$ where $w$ is a substring of $x$.\n",
    "\n",
    "\n"
   ]
  },
  {
   "source": [
    "<hr class=\"double-div\"/>"
   ],
   "cell_type": "markdown",
   "metadata": {}
  },
  {
   "cell_type": "markdown",
   "metadata": {},
   "source": [
    "# END\n"
   ]
  }
 ],
 "metadata": {
  "kernelspec": {
   "display_name": "Python 3",
   "language": "python",
   "name": "python3"
  },
  "language_info": {
   "codemirror_mode": {
    "name": "ipython",
    "version": 3
   },
   "file_extension": ".py",
   "mimetype": "text/x-python",
   "name": "python",
   "nbconvert_exporter": "python",
   "pygments_lexer": "ipython3",
   "version": "3.7.3"
  },
  "toc": {
   "colors": {
    "hover_highlight": "#DAA520",
    "running_highlight": "#FF0000",
    "selected_highlight": "#FFD700"
   },
   "moveMenuLeft": true,
   "nav_menu": {
    "height": "121px",
    "width": "252px"
   },
   "navigate_menu": true,
   "number_sections": true,
   "sideBar": true,
   "threshold": 4,
   "toc_cell": false,
   "toc_section_display": "block",
   "toc_window_display": false,
   "widenNotebook": false
  },
  "widgets": {
   "state": {
    "430c92ee02b34ec1912bf03c8de1e6dc": {
     "views": [
      {
       "cell_index": 20
      }
     ]
    }
   },
   "version": "1.2.0"
  }
 },
 "nbformat": 4,
 "nbformat_minor": 2
}