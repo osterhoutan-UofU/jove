{
 "cells": [
  {
   "cell_type": "markdown",
   "metadata": {},
   "source": [
    "<style>\n",
    "h1 {\n",
    "    border-bottom: 2px solid;\n",
    "}\n",
    "h2 {\n",
    "    border-bottom: 1px solid;\n",
    "}\n",
    "/* hr {\n",
    "    border-top: 2px solid;\n",
    "    border-bottom: none;\n",
    "} */\n",
    ".student-info {\n",
    "    text-align: right;\n",
    "    border-bottom: none;\n",
    "}\n",
    "hr.double-div {\n",
    "    border-top: 2px solid;\n",
    "    border-bottom: 2px solid;\n",
    "    border-left: none;\n",
    "    border-right: none;\n",
    "    height: 10pt;\n",
    "    /* border-radius: 1px; */\n",
    "}\n",
    "blockquote {\n",
    "    border-left: 2px solid;\n",
    "    /* background-color: #00000488; */\n",
    "    /* filter: brightness(80%); */\n",
    "    margin-left: 2em;\n",
    "    margin-right: 2em;\n",
    "    padding: 1px 2px 1px 1em;\n",
    "}\n",
    "pre {\n",
    "    border: 1px solid #88888888;\n",
    "    margin-left: 1em;\n",
    "    margin-right: 1em;\n",
    "    padding: 0.5em;\n",
    "    /*padding: 8pt 1em 8pt 1em;*/\n",
    "}\n",
    "blockquote > pre {\n",
    "    margin-left: 0.5em;\n",
    "}\n",
    "img {\n",
    "    display: block;\n",
    "    margin-left: auto;\n",
    "    margin-right: auto;\n",
    "}\n",
    "</style>\n",
    "\n",
    "<h2 class=\"student-info\">\n",
    "    Andrew Osterhout <br/>\n",
    "    (u1317172)\n",
    "</h2>\n",
    "\n",
    "# Asg-9 \n",
    "\n",
    "<font size=\"4\">\n",
    "Focuses on questions graded by the mentioned TA's. </br>\n",
    "Full details are in the PDF file of Asg-9. <br/>\n",
    "This notebook only has space for your answers.\n",
    "</font>\n",
    " "
   ]
  },
  {
   "cell_type": "markdown",
   "metadata": {},
   "source": [
    "<hr class=\"double-div\"/>"
   ]
  },
  {
   "cell_type": "markdown",
   "metadata": {},
   "source": [
    "# (1) XL, 25%:\n",
    "<font size =\"4\">\n",
    "    <b>Problem 6 (<i>Pg 159</i>):</b> the \"OR\" case. </br>\n",
    "    Show that the \"OR\" case results in a CFG. </br>\n",
    "    Provide the CFG below between the triple quotes. </br>\n",
    "    Show the running of the CFG within <code>u123456_Asg9.ipynb</code>\n",
    "</font>\n",
    "\n",
    "> ```\n",
    "> ===============================================================\n",
    "> | CFG w/ multiletter non-terminals || CFG w/ 1 char non-terms |\n",
    "> |:--------------------------------:||:-----------------------:|\n",
    "> | S       ->  i_EQ_j | k_EQ_l | ε  ||  S   ->  J | K | ε      |\n",
    "> | i_EQ_j  ->  a i_EQ_j b D | C     ||  J   ->  a J b D | C    |\n",
    "> | k_EQ_l  ->  A c k_EQ_l D | B     ||  K   ->  A c K D | B    |\n",
    "> | A       ->  a A | ε              ||  A   ->  a A | ε        |\n",
    "> | B       ->  b B | ε              ||  B   ->  b B | ε        |\n",
    "> | C       ->  c C | ε              ||  C   ->  c C | ε        |\n",
    "> | D       ->  d D | ε              ||  D   ->  d D | ε        |\n",
    "> ===============================================================\n",
    "> ```\n",
    " \n",
    " "
   ]
  },
  {
   "cell_type": "markdown",
   "metadata": {},
   "source": [
    "<hr class=\"double-div\"/>"
   ]
  },
  {
   "cell_type": "markdown",
   "metadata": {},
   "source": [
    "# (2) SV, 25%:\n",
    "<font size =\"4\">\n",
    "    <b>Problem 6 (<i>Pg 159</i>):</b> the \"AND\" case. </br>\n",
    "    Show via the CFG PL that the language with the \"AND\" case is not a CFL. </br>\n",
    "    Use neat bulleted steps below.\n",
    "</font> \n",
    "\n",
    "\n",
    "> ### Answer:\n",
    "> - Given:\n",
    "> $$ \n",
    "> L_{acbd} = \\left\\{ \n",
    ">     a^ic^kb^jd^l \\::\\: \n",
    ">     i,j,k,l\\geq0 \\;\\land\\; \n",
    ">     \\left( (i = j) \\:AND\\: (k = l) \\right) \\right\\} \n",
    "> $$\n",
    "> - Assume there is a CFG with $|V|$ productions for this language.\n",
    "> - Let $N = 2^{|V|+1}$ be the pumping length associated with a CFG of this language.\n",
    "> - Consider the string $a^{N}c^{N}b^{N}d^{N} \\in L_{acbd}$.\n",
    "> - The segments $v$ and $y$ of the Pumping Lemma\n",
    ">    are contained within one of the following blocks,\n",
    ">    in order to meet the $|vx|\\geq1$ & $|vxy|\\leq N$ requirements:\n",
    ">   - The left most blcok $a^Nc^N$ \n",
    ">   - The middle blcok $c^Nb^N$ \n",
    ">   - The right most block $b^Nd^N$ \n",
    ">   - There are also the cases that are never going to work and will be avoided for now:\n",
    ">     - The $a^N$ block\n",
    ">     - The $b^N$ block \n",
    ">     - The $c^N$ block \n",
    ">     - The $d^N$ block \n",
    "> - In each case, \n",
    ">    by pumping up or down, \n",
    ">    we will optain a string not within $L_{abcd}$\n",
    ">    (_i.e._ the number of $a$'s & $b$'s will not match, \n",
    ">     or the number of $c$'s & $d$'s will not match),\n",
    "> - Since you cannot contain both $a$'s & $b$'s in the pumps $v$ and $y$ respectivly\n",
    ">    without exceding the aformentioned $|vxy|\\leq N$ requirement. \n",
    ">   - Due to the $c^N$ block having to be contained entierly in the $x$ substring\n",
    ">    inorder to have a chance of the remaining in $L_{acbd}$ while pumping up or down.\n",
    ">   - The same is true for the $c$ & $d$ requirements with respective reasoning.\n",
    "> - Therefore $L_{acbd}$ cannot be a CFL.\n",
    "\n",
    " \n",
    " "
   ]
  },
  {
   "cell_type": "markdown",
   "metadata": {},
   "source": [
    "<hr class=\"double-div\"/>"
   ]
  },
  {
   "cell_type": "markdown",
   "metadata": {},
   "source": [
    "# (3) AR, 25%: \n",
    "### _The solution entirely within `u123456_Asg9.ipynb`_\n",
    "\n",
    "<font size=\"4\">\n",
    "    The DTM for w#x where w is a substring of x. </br>\n",
    "    <i>(See the definition of substring and subsequence at \n",
    "    <a href=\"https://en.wikipedia.org/wiki/Substring\">https://en.wikipedia.org/wiki/Substring</a>)</i>\n",
    "</font>"
   ]
  },
  {
   "cell_type": "markdown",
   "metadata": {},
   "source": [
    "<hr class=\"double-div\"/>"
   ]
  },
  {
   "cell_type": "markdown",
   "metadata": {},
   "source": [
    "# (4) LT, 25%: \n",
    "### _The solution entirely within `u123456_Asg9.ipynb`_ \n",
    "\n",
    "### The NDTM for $w\\#x$ where $w$ is a substring of $x$.\n",
    "\n",
    "\n"
   ]
  },
  {
   "source": [
    "<hr class=\"double-div\"/>"
   ],
   "cell_type": "markdown",
   "metadata": {}
  },
  {
   "cell_type": "markdown",
   "metadata": {},
   "source": [
    "# END\n"
   ]
  }
 ],
 "metadata": {
  "kernelspec": {
   "display_name": "Python 3",
   "language": "python",
   "name": "python3"
  },
  "language_info": {
   "codemirror_mode": {
    "name": "ipython",
    "version": 3
   },
   "file_extension": ".py",
   "mimetype": "text/x-python",
   "name": "python",
   "nbconvert_exporter": "python",
   "pygments_lexer": "ipython3",
   "version": "3.7.3"
  },
  "toc": {
   "colors": {
    "hover_highlight": "#DAA520",
    "running_highlight": "#FF0000",
    "selected_highlight": "#FFD700"
   },
   "moveMenuLeft": true,
   "nav_menu": {
    "height": "121px",
    "width": "252px"
   },
   "navigate_menu": true,
   "number_sections": true,
   "sideBar": true,
   "threshold": 4,
   "toc_cell": false,
   "toc_section_display": "block",
   "toc_window_display": false,
   "widenNotebook": false
  },
  "widgets": {
   "state": {
    "430c92ee02b34ec1912bf03c8de1e6dc": {
     "views": [
      {
       "cell_index": 20
      }
     ]
    }
   },
   "version": "1.2.0"
  }
 },
 "nbformat": 4,
 "nbformat_minor": 2
}